{
 "cells": [
  {
   "cell_type": "code",
   "execution_count": 1,
   "id": "8126766d",
   "metadata": {
    "ExecuteTime": {
     "end_time": "2021-09-27T00:06:11.633795Z",
     "start_time": "2021-09-27T00:06:11.602327Z"
    }
   },
   "outputs": [],
   "source": [
    "# a simple generator function.\n",
    "\n",
    "def my_gen():\n",
    "    n = 1\n",
    "    print(\"This print first.\")\n",
    "    yield n\n",
    "    \n",
    "    n+=1\n",
    "    print(\"This print second.\")\n",
    "    yield n\n",
    "    \n",
    "    n+=1\n",
    "    print(\"This print third\")\n",
    "    yield n"
   ]
  },
  {
   "cell_type": "code",
   "execution_count": 2,
   "id": "d5d23ddd",
   "metadata": {
    "ExecuteTime": {
     "end_time": "2021-09-27T00:06:37.000336Z",
     "start_time": "2021-09-27T00:06:36.992336Z"
    }
   },
   "outputs": [],
   "source": [
    "x = my_gen()"
   ]
  },
  {
   "cell_type": "code",
   "execution_count": 3,
   "id": "63cf6978",
   "metadata": {
    "ExecuteTime": {
     "end_time": "2021-09-27T00:06:43.490448Z",
     "start_time": "2021-09-27T00:06:43.469447Z"
    }
   },
   "outputs": [
    {
     "name": "stdout",
     "output_type": "stream",
     "text": [
      "This print first.\n"
     ]
    },
    {
     "data": {
      "text/plain": [
       "1"
      ]
     },
     "execution_count": 3,
     "metadata": {},
     "output_type": "execute_result"
    }
   ],
   "source": [
    "next(x)"
   ]
  },
  {
   "cell_type": "code",
   "execution_count": 4,
   "id": "1f3fe1ba",
   "metadata": {
    "ExecuteTime": {
     "end_time": "2021-09-27T00:06:50.747831Z",
     "start_time": "2021-09-27T00:06:50.733831Z"
    }
   },
   "outputs": [
    {
     "name": "stdout",
     "output_type": "stream",
     "text": [
      "This print second.\n"
     ]
    },
    {
     "data": {
      "text/plain": [
       "2"
      ]
     },
     "execution_count": 4,
     "metadata": {},
     "output_type": "execute_result"
    }
   ],
   "source": [
    "next(x)"
   ]
  },
  {
   "cell_type": "code",
   "execution_count": 5,
   "id": "b8da896c",
   "metadata": {
    "ExecuteTime": {
     "end_time": "2021-09-27T00:07:00.717904Z",
     "start_time": "2021-09-27T00:07:00.700906Z"
    }
   },
   "outputs": [
    {
     "name": "stdout",
     "output_type": "stream",
     "text": [
      "This print third\n"
     ]
    },
    {
     "data": {
      "text/plain": [
       "3"
      ]
     },
     "execution_count": 5,
     "metadata": {},
     "output_type": "execute_result"
    }
   ],
   "source": [
    "next(x)"
   ]
  },
  {
   "cell_type": "code",
   "execution_count": 6,
   "id": "6936f4ff",
   "metadata": {
    "ExecuteTime": {
     "end_time": "2021-09-27T00:07:10.626358Z",
     "start_time": "2021-09-27T00:07:10.208053Z"
    }
   },
   "outputs": [
    {
     "ename": "StopIteration",
     "evalue": "",
     "output_type": "error",
     "traceback": [
      "\u001b[1;31m---------------------------------------------------------------------------\u001b[0m",
      "\u001b[1;31mStopIteration\u001b[0m                             Traceback (most recent call last)",
      "\u001b[1;32m<ipython-input-6-92de4e9f6b1e>\u001b[0m in \u001b[0;36m<module>\u001b[1;34m\u001b[0m\n\u001b[1;32m----> 1\u001b[1;33m \u001b[0mnext\u001b[0m\u001b[1;33m(\u001b[0m\u001b[0mx\u001b[0m\u001b[1;33m)\u001b[0m\u001b[1;33m\u001b[0m\u001b[1;33m\u001b[0m\u001b[0m\n\u001b[0m",
      "\u001b[1;31mStopIteration\u001b[0m: "
     ]
    }
   ],
   "source": [
    "next(x)"
   ]
  },
  {
   "cell_type": "code",
   "execution_count": 7,
   "id": "f3908d67",
   "metadata": {
    "ExecuteTime": {
     "end_time": "2021-09-27T00:10:18.534746Z",
     "start_time": "2021-09-27T00:10:18.509748Z"
    }
   },
   "outputs": [
    {
     "name": "stdout",
     "output_type": "stream",
     "text": [
      "[1, 9, 36, 100]\n"
     ]
    }
   ],
   "source": [
    "my_list = [1, 3, 6, 10]\n",
    "\n",
    "# square each items in list using list comprehension\n",
    "\n",
    "x = [i**2 for i in my_list]\n",
    "\n",
    "print(x)"
   ]
  },
  {
   "cell_type": "code",
   "execution_count": 8,
   "id": "036f0de7",
   "metadata": {
    "ExecuteTime": {
     "end_time": "2021-09-27T00:11:51.344757Z",
     "start_time": "2021-09-27T00:11:51.322759Z"
    }
   },
   "outputs": [
    {
     "name": "stdout",
     "output_type": "stream",
     "text": [
      "<generator object <genexpr> at 0x000001C5E19052E0>\n"
     ]
    }
   ],
   "source": [
    "# square each items in list using generator expression\n",
    "\n",
    "generator = (i ** 2 for i in my_list)\n",
    "\n",
    "print(generator)"
   ]
  },
  {
   "cell_type": "code",
   "execution_count": 9,
   "id": "00587ced",
   "metadata": {
    "ExecuteTime": {
     "end_time": "2021-09-27T00:12:00.469067Z",
     "start_time": "2021-09-27T00:12:00.457069Z"
    }
   },
   "outputs": [
    {
     "data": {
      "text/plain": [
       "1"
      ]
     },
     "execution_count": 9,
     "metadata": {},
     "output_type": "execute_result"
    }
   ],
   "source": [
    "next(generator)"
   ]
  },
  {
   "cell_type": "code",
   "execution_count": 10,
   "id": "f956d814",
   "metadata": {
    "ExecuteTime": {
     "end_time": "2021-09-27T00:12:07.144580Z",
     "start_time": "2021-09-27T00:12:07.112836Z"
    }
   },
   "outputs": [
    {
     "data": {
      "text/plain": [
       "9"
      ]
     },
     "execution_count": 10,
     "metadata": {},
     "output_type": "execute_result"
    }
   ],
   "source": [
    "next(generator)"
   ]
  },
  {
   "cell_type": "code",
   "execution_count": 11,
   "id": "d6dea00b",
   "metadata": {
    "ExecuteTime": {
     "end_time": "2021-09-27T00:12:12.661034Z",
     "start_time": "2021-09-27T00:12:12.643036Z"
    }
   },
   "outputs": [
    {
     "data": {
      "text/plain": [
       "36"
      ]
     },
     "execution_count": 11,
     "metadata": {},
     "output_type": "execute_result"
    }
   ],
   "source": [
    "next(generator)"
   ]
  },
  {
   "cell_type": "code",
   "execution_count": 12,
   "id": "ad7decb1",
   "metadata": {
    "ExecuteTime": {
     "end_time": "2021-09-27T00:12:18.025779Z",
     "start_time": "2021-09-27T00:12:18.010781Z"
    }
   },
   "outputs": [
    {
     "data": {
      "text/plain": [
       "100"
      ]
     },
     "execution_count": 12,
     "metadata": {},
     "output_type": "execute_result"
    }
   ],
   "source": [
    "next(generator)"
   ]
  },
  {
   "cell_type": "code",
   "execution_count": null,
   "id": "72e57642",
   "metadata": {},
   "outputs": [],
   "source": []
  }
 ],
 "metadata": {
  "kernelspec": {
   "display_name": "Python 3",
   "language": "python",
   "name": "python3"
  },
  "language_info": {
   "codemirror_mode": {
    "name": "ipython",
    "version": 3
   },
   "file_extension": ".py",
   "mimetype": "text/x-python",
   "name": "python",
   "nbconvert_exporter": "python",
   "pygments_lexer": "ipython3",
   "version": "3.8.8"
  }
 },
 "nbformat": 4,
 "nbformat_minor": 5
}
