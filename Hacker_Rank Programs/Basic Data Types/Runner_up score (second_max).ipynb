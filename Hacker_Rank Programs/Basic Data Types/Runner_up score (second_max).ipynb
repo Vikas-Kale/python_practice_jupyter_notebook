{
 "cells": [
  {
   "cell_type": "code",
   "execution_count": 18,
   "id": "51528d99",
   "metadata": {
    "ExecuteTime": {
     "end_time": "2021-10-14T14:01:09.327020Z",
     "start_time": "2021-10-14T14:01:09.296189Z"
    }
   },
   "outputs": [
    {
     "name": "stdout",
     "output_type": "stream",
     "text": [
      "198\n",
      "142\n"
     ]
    }
   ],
   "source": [
    "lst = [12,198,2,15,11,5,8,198,142,40]\n",
    "lst1=set(lst)\n",
    "\n",
    "large=0\n",
    "second_max=0\n",
    "\n",
    "for i in lst1:\n",
    "    if i>large:\n",
    "        second_max=large\n",
    "        large=i\n",
    "        \n",
    "        \n",
    "    elif i >= second_max and i<=large:\n",
    "        second_max=i\n",
    "        \n",
    "        \n",
    "print(large)\n",
    "print(second_max)\n",
    "\n",
    "# print(lst1)\n",
    "# for i in lst1:\n",
    "#     print(i)\n",
    "\n"
   ]
  },
  {
   "cell_type": "code",
   "execution_count": 17,
   "id": "89807ff2",
   "metadata": {
    "ExecuteTime": {
     "end_time": "2021-10-14T14:00:32.526030Z",
     "start_time": "2021-10-14T14:00:32.494958Z"
    }
   },
   "outputs": [
    {
     "name": "stdout",
     "output_type": "stream",
     "text": [
      "{2, 5, 198, 8, 40, 11, 12, 142, 15}\n",
      "142\n"
     ]
    }
   ],
   "source": [
    "lst = [-57,57,57,-57]\n",
    "lst=set(lst)\n",
    "print(lst)\n",
    "\n",
    "large=0\n",
    "second=0\n",
    "\n",
    "for i in lst:\n",
    "    if i>large:\n",
    "        second=large\n",
    "        large=i\n",
    "        \n",
    "    elif i>=second and i<=large:\n",
    "        second=i\n",
    "        \n",
    "print(second)"
   ]
  },
  {
   "cell_type": "code",
   "execution_count": null,
   "id": "3dab568b",
   "metadata": {},
   "outputs": [],
   "source": [
    "lst = [-57,57,57,-57]"
   ]
  }
 ],
 "metadata": {
  "kernelspec": {
   "display_name": "Python 3",
   "language": "python",
   "name": "python3"
  },
  "language_info": {
   "codemirror_mode": {
    "name": "ipython",
    "version": 3
   },
   "file_extension": ".py",
   "mimetype": "text/x-python",
   "name": "python",
   "nbconvert_exporter": "python",
   "pygments_lexer": "ipython3",
   "version": "3.8.8"
  }
 },
 "nbformat": 4,
 "nbformat_minor": 5
}
