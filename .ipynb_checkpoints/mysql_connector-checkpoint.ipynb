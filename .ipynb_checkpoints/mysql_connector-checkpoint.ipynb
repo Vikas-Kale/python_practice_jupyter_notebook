{
 "cells": [
  {
   "cell_type": "code",
   "execution_count": 1,
   "id": "f30e361c",
   "metadata": {},
   "outputs": [],
   "source": [
    "import mysql.connector"
   ]
  },
  {
   "cell_type": "code",
   "execution_count": null,
   "id": "5a4debe6",
   "metadata": {},
   "outputs": [],
   "source": [
    "# how to connect mysql from command \n",
    "\n",
    "mysql -u root -p\n",
    "\n",
    "mysql> show databases;\n",
    "\n",
    "mysql> create database <database_name>;\n",
    "\n",
    "mysql> use <database_name>;\n",
    "\n",
    "mysql> show tables;\n",
    "\n",
    "mysql> desc <table_name>;\n",
    "\n",
    "mysql> select * from <table_name>;\n",
    "\n",
    "\n",
    "#create table <table_name>(col_name datateype, col_name dateatype);\n",
    "mysql> create table students(sid int, name char(25), course char(25));\n",
    "\n",
    "#insert into <table_name> values(col1_value, col2_value, col3_value);\n",
    "mysql> insert into students values(1, 'rahul', 'python');\n",
    "mysql> insert into students values(2, 'sachin', 'python ds');\n"
   ]
  },
  {
   "cell_type": "code",
   "execution_count": 3,
   "id": "ed6adff4",
   "metadata": {},
   "outputs": [],
   "source": [
    "mydb=mysql.connector.connect(host='localhost',user='root',passwd='kalevikas@7798',database='test')"
   ]
  },
  {
   "cell_type": "code",
   "execution_count": 4,
   "id": "a3560166",
   "metadata": {},
   "outputs": [],
   "source": [
    "mycursor=mydb.cursor()\n",
    "mycursor.execute(\"show databases\")"
   ]
  },
  {
   "cell_type": "code",
   "execution_count": 5,
   "id": "398c6837",
   "metadata": {},
   "outputs": [
    {
     "name": "stdout",
     "output_type": "stream",
     "text": [
      "('elephant',)\n",
      "('information_schema',)\n",
      "('mysql',)\n",
      "('performance_schema',)\n",
      "('sys',)\n",
      "('test',)\n"
     ]
    }
   ],
   "source": [
    "for i in mycursor:\n",
    "    print(i)         # we get all database names"
   ]
  },
  {
   "cell_type": "code",
   "execution_count": 6,
   "id": "59d1b10c",
   "metadata": {},
   "outputs": [],
   "source": [
    "mycursor.execute('select * from student')"
   ]
  },
  {
   "cell_type": "code",
   "execution_count": 8,
   "id": "26e536ac",
   "metadata": {},
   "outputs": [
    {
     "name": "stdout",
     "output_type": "stream",
     "text": [
      "('Vikas', 'SIT')\n",
      "('Ganesh', 'DYPATIL')\n"
     ]
    }
   ],
   "source": [
    "for i in mycursor:\n",
    "    print(i)"
   ]
  },
  {
   "cell_type": "code",
   "execution_count": 9,
   "id": "fa053251",
   "metadata": {},
   "outputs": [],
   "source": [
    "mycursor.execute(\"select * from student\")"
   ]
  },
  {
   "cell_type": "code",
   "execution_count": 10,
   "id": "282c528d",
   "metadata": {},
   "outputs": [
    {
     "name": "stdout",
     "output_type": "stream",
     "text": [
      "('Vikas', 'SIT')\n",
      "('Ganesh', 'DYPATIL')\n"
     ]
    }
   ],
   "source": [
    "for j in mycursor:\n",
    "    print(j)"
   ]
  },
  {
   "cell_type": "code",
   "execution_count": 12,
   "id": "bbbad72b",
   "metadata": {},
   "outputs": [],
   "source": [
    "mydb1=mysql.connector.connect(host=\"localhost\",user='root',passwd='kalevikas@7798',database='test')"
   ]
  },
  {
   "cell_type": "code",
   "execution_count": 14,
   "id": "4c444d8d",
   "metadata": {},
   "outputs": [],
   "source": [
    "mycursor=mydb1.cursor()"
   ]
  },
  {
   "cell_type": "code",
   "execution_count": 15,
   "id": "71fc9214",
   "metadata": {},
   "outputs": [],
   "source": [
    "mycursor.execute(\"show databases\")"
   ]
  },
  {
   "cell_type": "code",
   "execution_count": 16,
   "id": "f93d9d6d",
   "metadata": {},
   "outputs": [
    {
     "name": "stdout",
     "output_type": "stream",
     "text": [
      "('elephant',)\n",
      "('information_schema',)\n",
      "('mysql',)\n",
      "('performance_schema',)\n",
      "('sys',)\n",
      "('test',)\n"
     ]
    }
   ],
   "source": [
    "for k in mycursor:\n",
    "    print(k)"
   ]
  },
  {
   "cell_type": "code",
   "execution_count": 17,
   "id": "fffc6341",
   "metadata": {},
   "outputs": [],
   "source": [
    "mycursor.execute(\"show tables\")"
   ]
  },
  {
   "cell_type": "code",
   "execution_count": 18,
   "id": "2f41b187",
   "metadata": {},
   "outputs": [
    {
     "name": "stdout",
     "output_type": "stream",
     "text": [
      "('result',)\n",
      "('student',)\n"
     ]
    }
   ],
   "source": [
    "for m in mycursor:\n",
    "    print(m)"
   ]
  },
  {
   "cell_type": "code",
   "execution_count": 19,
   "id": "2ea296a2",
   "metadata": {},
   "outputs": [],
   "source": [
    "mycursor.execute(\"select * from result\")"
   ]
  },
  {
   "cell_type": "code",
   "execution_count": 20,
   "id": "c6fc2ed7",
   "metadata": {},
   "outputs": [
    {
     "name": "stdout",
     "output_type": "stream",
     "text": [
      "('Vikas', '85')\n",
      "('Suraj', '90')\n",
      "('Raj', '65')\n",
      "('Swapnil', '78')\n"
     ]
    }
   ],
   "source": [
    "for h in mycursor:\n",
    "    print(h)"
   ]
  },
  {
   "cell_type": "markdown",
   "id": "d4f27349",
   "metadata": {},
   "source": [
    "# Create New database Courses"
   ]
  },
  {
   "cell_type": "code",
   "execution_count": 22,
   "id": "3ed2bace",
   "metadata": {},
   "outputs": [],
   "source": [
    "mydb2=mysql.connector.connect(host=\"localhost\",user=\"root\",passwd=\"kalevikas@7798\",database=\"Courses\")"
   ]
  },
  {
   "cell_type": "code",
   "execution_count": 23,
   "id": "7671eb6c",
   "metadata": {},
   "outputs": [],
   "source": [
    "mycursor=mydb2.cursor()"
   ]
  },
  {
   "cell_type": "code",
   "execution_count": 24,
   "id": "ac69e15a",
   "metadata": {},
   "outputs": [],
   "source": [
    "mycursor.execute(\"show databases\")"
   ]
  },
  {
   "cell_type": "code",
   "execution_count": 25,
   "id": "9c36d287",
   "metadata": {},
   "outputs": [
    {
     "name": "stdout",
     "output_type": "stream",
     "text": [
      "('courses',)\n",
      "('elephant',)\n",
      "('information_schema',)\n",
      "('mysql',)\n",
      "('performance_schema',)\n",
      "('sys',)\n",
      "('test',)\n"
     ]
    }
   ],
   "source": [
    "for a in mycursor:\n",
    "    print(a)"
   ]
  },
  {
   "cell_type": "code",
   "execution_count": 26,
   "id": "ab4f5b71",
   "metadata": {},
   "outputs": [],
   "source": [
    "mycursor.execute(\"show tables\")"
   ]
  },
  {
   "cell_type": "code",
   "execution_count": 27,
   "id": "059f45c3",
   "metadata": {},
   "outputs": [
    {
     "name": "stdout",
     "output_type": "stream",
     "text": [
      "('course_and_fee',)\n"
     ]
    }
   ],
   "source": [
    "for table in mycursor:\n",
    "    print(table)"
   ]
  },
  {
   "cell_type": "code",
   "execution_count": 37,
   "id": "0d21f848",
   "metadata": {},
   "outputs": [],
   "source": [
    "mycursor.execute(\"select * from course_and_fee\")"
   ]
  },
  {
   "cell_type": "code",
   "execution_count": 29,
   "id": "92828574",
   "metadata": {},
   "outputs": [
    {
     "name": "stdout",
     "output_type": "stream",
     "text": [
      "('Python', '12000')\n",
      "('Django', '15000')\n",
      "('Machine learning', '20000')\n",
      "('Data Scientiest', '42000')\n"
     ]
    }
   ],
   "source": [
    "for data in mycursor:\n",
    "    print(data)"
   ]
  },
  {
   "cell_type": "code",
   "execution_count": 30,
   "id": "b2b7af69",
   "metadata": {},
   "outputs": [
    {
     "ename": "NameError",
     "evalue": "name 'cursor' is not defined",
     "output_type": "error",
     "traceback": [
      "\u001b[1;31m---------------------------------------------------------------------------\u001b[0m",
      "\u001b[1;31mNameError\u001b[0m                                 Traceback (most recent call last)",
      "\u001b[1;32m<ipython-input-30-d35fc1caa8d6>\u001b[0m in \u001b[0;36m<module>\u001b[1;34m\u001b[0m\n\u001b[1;32m----> 1\u001b[1;33m \u001b[0mcursor\u001b[0m\u001b[1;33m.\u001b[0m\u001b[0mfetchall\u001b[0m\u001b[1;33m(\u001b[0m\u001b[1;33m)\u001b[0m\u001b[1;33m\u001b[0m\u001b[1;33m\u001b[0m\u001b[0m\n\u001b[0m",
      "\u001b[1;31mNameError\u001b[0m: name 'cursor' is not defined"
     ]
    }
   ],
   "source": [
    "cursor.fetchall()"
   ]
  },
  {
   "cell_type": "code",
   "execution_count": 38,
   "id": "fe784f25",
   "metadata": {},
   "outputs": [
    {
     "data": {
      "text/plain": [
       "[('Python', '12000'),\n",
       " ('Django', '15000'),\n",
       " ('Machine learning', '20000'),\n",
       " ('Data Scientiest', '42000')]"
      ]
     },
     "execution_count": 38,
     "metadata": {},
     "output_type": "execute_result"
    }
   ],
   "source": [
    "mycursor.fetchall()"
   ]
  },
  {
   "cell_type": "code",
   "execution_count": 33,
   "id": "c605279e",
   "metadata": {},
   "outputs": [],
   "source": [
    "cursor=mydb2.cursor()"
   ]
  },
  {
   "cell_type": "code",
   "execution_count": 35,
   "id": "ce7d62c9",
   "metadata": {},
   "outputs": [],
   "source": [
    "cursor.execute(\"select * from course_and_fee\")"
   ]
  },
  {
   "cell_type": "code",
   "execution_count": 36,
   "id": "4148eb54",
   "metadata": {},
   "outputs": [
    {
     "data": {
      "text/plain": [
       "[('Python', '12000'),\n",
       " ('Django', '15000'),\n",
       " ('Machine learning', '20000'),\n",
       " ('Data Scientiest', '42000')]"
      ]
     },
     "execution_count": 36,
     "metadata": {},
     "output_type": "execute_result"
    }
   ],
   "source": [
    "cursor.fetchall()"
   ]
  },
  {
   "cell_type": "code",
   "execution_count": 1,
   "id": "e9a01a7f",
   "metadata": {},
   "outputs": [],
   "source": [
    "import mysql.connector"
   ]
  },
  {
   "cell_type": "code",
   "execution_count": 2,
   "id": "f99dd39e",
   "metadata": {},
   "outputs": [],
   "source": [
    "conn=mysql.connector.connect(host=\"localhost\",user=\"root\",passwd=\"kalevikas@7798\",database=\"Peoples\")"
   ]
  },
  {
   "cell_type": "code",
   "execution_count": 3,
   "id": "de44ac70",
   "metadata": {},
   "outputs": [],
   "source": [
    "mycursor=conn.cursor()"
   ]
  },
  {
   "cell_type": "code",
   "execution_count": 4,
   "id": "c7d82d9d",
   "metadata": {},
   "outputs": [],
   "source": [
    "mycursor.execute(\"select * from Data\")"
   ]
  },
  {
   "cell_type": "code",
   "execution_count": 5,
   "id": "5f4a2480",
   "metadata": {},
   "outputs": [
    {
     "data": {
      "text/plain": [
       "[('Info-4589', 'Vikas', 'Kale', 'Pune', '7798743804')]"
      ]
     },
     "execution_count": 5,
     "metadata": {},
     "output_type": "execute_result"
    }
   ],
   "source": [
    "mycursor.fetchall()"
   ]
  },
  {
   "cell_type": "code",
   "execution_count": 6,
   "id": "1b07e4ca",
   "metadata": {},
   "outputs": [],
   "source": [
    "for value in mycursor:\n",
    "    print(value)"
   ]
  },
  {
   "cell_type": "code",
   "execution_count": 9,
   "id": "73450acf",
   "metadata": {},
   "outputs": [],
   "source": [
    "mycursor.execute(\"show tables\")"
   ]
  },
  {
   "cell_type": "code",
   "execution_count": 10,
   "id": "65246055",
   "metadata": {},
   "outputs": [
    {
     "data": {
      "text/plain": [
       "[('data',)]"
      ]
     },
     "execution_count": 10,
     "metadata": {},
     "output_type": "execute_result"
    }
   ],
   "source": [
    "mycursor.fetchall()"
   ]
  },
  {
   "cell_type": "code",
   "execution_count": 11,
   "id": "c5f022e2",
   "metadata": {},
   "outputs": [],
   "source": [
    "mycursor.execute(\"select * from Data\")"
   ]
  },
  {
   "cell_type": "code",
   "execution_count": 12,
   "id": "a5f05612",
   "metadata": {},
   "outputs": [
    {
     "name": "stdout",
     "output_type": "stream",
     "text": [
      "('Info-4589', 'Vikas', 'Kale', 'Pune', '7798743804')\n"
     ]
    }
   ],
   "source": [
    "for i in mycursor:\n",
    "    print(i)"
   ]
  },
  {
   "cell_type": "code",
   "execution_count": 13,
   "id": "62bce0cd",
   "metadata": {},
   "outputs": [],
   "source": [
    "mycursor.execute(\"show databases\")"
   ]
  },
  {
   "cell_type": "code",
   "execution_count": 14,
   "id": "773b50fb",
   "metadata": {},
   "outputs": [
    {
     "data": {
      "text/plain": [
       "[('courses',),\n",
       " ('elephant',),\n",
       " ('information_schema',),\n",
       " ('mysql',),\n",
       " ('peoples',),\n",
       " ('performance_schema',),\n",
       " ('sys',),\n",
       " ('test',)]"
      ]
     },
     "execution_count": 14,
     "metadata": {},
     "output_type": "execute_result"
    }
   ],
   "source": [
    "mycursor.fetchall()"
   ]
  },
  {
   "cell_type": "code",
   "execution_count": 15,
   "id": "32dcb603",
   "metadata": {},
   "outputs": [],
   "source": [
    "new=mysql.connector.connect(host=\"localhost\",user=\"root\",passwd=\"kalevikas@7798\",database=\"Test\")"
   ]
  },
  {
   "cell_type": "code",
   "execution_count": 16,
   "id": "893b355f",
   "metadata": {},
   "outputs": [],
   "source": [
    "cursor=new.cursor()"
   ]
  },
  {
   "cell_type": "code",
   "execution_count": 17,
   "id": "02b170fd",
   "metadata": {},
   "outputs": [],
   "source": [
    "cursor.execute(\"show databases\")"
   ]
  },
  {
   "cell_type": "code",
   "execution_count": 19,
   "id": "9a7b6b2f",
   "metadata": {},
   "outputs": [
    {
     "data": {
      "text/plain": [
       "[('courses',),\n",
       " ('elephant',),\n",
       " ('information_schema',),\n",
       " ('mysql',),\n",
       " ('peoples',),\n",
       " ('performance_schema',),\n",
       " ('sys',),\n",
       " ('test',)]"
      ]
     },
     "execution_count": 19,
     "metadata": {},
     "output_type": "execute_result"
    }
   ],
   "source": [
    "cursor.fetchall()"
   ]
  },
  {
   "cell_type": "code",
   "execution_count": 20,
   "id": "c1dcd0d4",
   "metadata": {},
   "outputs": [],
   "source": [
    "cursor.execute(\"show tables\")"
   ]
  },
  {
   "cell_type": "code",
   "execution_count": 21,
   "id": "a73c3829",
   "metadata": {},
   "outputs": [
    {
     "data": {
      "text/plain": [
       "[('result',), ('student',)]"
      ]
     },
     "execution_count": 21,
     "metadata": {},
     "output_type": "execute_result"
    }
   ],
   "source": [
    "cursor.fetchall()"
   ]
  },
  {
   "cell_type": "code",
   "execution_count": 22,
   "id": "2f6120cf",
   "metadata": {},
   "outputs": [],
   "source": [
    "cursor.execute(\"select * from result\")"
   ]
  },
  {
   "cell_type": "code",
   "execution_count": 23,
   "id": "a4484668",
   "metadata": {},
   "outputs": [
    {
     "name": "stdout",
     "output_type": "stream",
     "text": [
      "('Vikas', '85')\n",
      "('Suraj', '90')\n",
      "('Raj', '65')\n",
      "('Swapnil', '78')\n"
     ]
    }
   ],
   "source": [
    "for i in cursor:\n",
    "    print(i)"
   ]
  },
  {
   "cell_type": "code",
   "execution_count": 24,
   "id": "2aff66b2",
   "metadata": {},
   "outputs": [],
   "source": [
    "import mysql.connector"
   ]
  },
  {
   "cell_type": "code",
   "execution_count": 25,
   "id": "6c1f3e93",
   "metadata": {},
   "outputs": [],
   "source": [
    "connection=mysql.connector.connect(host=\"localhost\",user=\"root\",passwd=\"kalevikas@7798\",database=\"Peoples\")"
   ]
  },
  {
   "cell_type": "code",
   "execution_count": 27,
   "id": "2582a05d",
   "metadata": {},
   "outputs": [],
   "source": [
    "mycursor=connection.cursor()"
   ]
  },
  {
   "cell_type": "code",
   "execution_count": 28,
   "id": "88a3cf9a",
   "metadata": {},
   "outputs": [],
   "source": [
    "mycursor.execute(\"show databases\")"
   ]
  },
  {
   "cell_type": "code",
   "execution_count": 29,
   "id": "782ef401",
   "metadata": {},
   "outputs": [
    {
     "data": {
      "text/plain": [
       "[('courses',),\n",
       " ('elephant',),\n",
       " ('information_schema',),\n",
       " ('mysql',),\n",
       " ('peoples',),\n",
       " ('performance_schema',),\n",
       " ('sys',),\n",
       " ('test',)]"
      ]
     },
     "execution_count": 29,
     "metadata": {},
     "output_type": "execute_result"
    }
   ],
   "source": [
    "mycursor.fetchall()"
   ]
  },
  {
   "cell_type": "code",
   "execution_count": 30,
   "id": "79d6d25e",
   "metadata": {},
   "outputs": [],
   "source": [
    "mycursor.execute(\"show tables\")"
   ]
  },
  {
   "cell_type": "code",
   "execution_count": 31,
   "id": "1ca540c2",
   "metadata": {},
   "outputs": [
    {
     "data": {
      "text/plain": [
       "[('data',)]"
      ]
     },
     "execution_count": 31,
     "metadata": {},
     "output_type": "execute_result"
    }
   ],
   "source": [
    "mycursor.fetchall()"
   ]
  },
  {
   "cell_type": "code",
   "execution_count": 32,
   "id": "3e1d4ab5",
   "metadata": {},
   "outputs": [],
   "source": [
    "mycursor.execute(\"select * from data\")"
   ]
  },
  {
   "cell_type": "code",
   "execution_count": 33,
   "id": "3be759f8",
   "metadata": {},
   "outputs": [
    {
     "data": {
      "text/plain": [
       "[('Info-4589', 'Vikas', 'Kale', 'Pune', '7798743804'),\n",
       " ('TATA-8532', 'Suraj', 'Kadam', 'Osmanabad', '9856525623'),\n",
       " ('MindTree-9621', 'Raj', 'Pawar', 'Mumbai', '7453529875')]"
      ]
     },
     "execution_count": 33,
     "metadata": {},
     "output_type": "execute_result"
    }
   ],
   "source": [
    "mycursor.fetchall()"
   ]
  },
  {
   "cell_type": "code",
   "execution_count": 34,
   "id": "cb5c0e4d",
   "metadata": {},
   "outputs": [],
   "source": [
    "import mysql.connector"
   ]
  },
  {
   "cell_type": "code",
   "execution_count": 35,
   "id": "84b75e21",
   "metadata": {},
   "outputs": [],
   "source": [
    "students=mysql.connector.connect(host=\"localhost\",user=\"root\",passwd=\"kalevikas@7798\",database=\"Peoples\")"
   ]
  },
  {
   "cell_type": "code",
   "execution_count": 36,
   "id": "1364c428",
   "metadata": {},
   "outputs": [],
   "source": [
    "mycursor=students.cursor()"
   ]
  },
  {
   "cell_type": "code",
   "execution_count": 37,
   "id": "9f74ae56",
   "metadata": {},
   "outputs": [],
   "source": [
    "mycursor.execute(\"show tables\")"
   ]
  },
  {
   "cell_type": "code",
   "execution_count": 38,
   "id": "ad16c430",
   "metadata": {},
   "outputs": [
    {
     "data": {
      "text/plain": [
       "[('data',), ('student_details',)]"
      ]
     },
     "execution_count": 38,
     "metadata": {},
     "output_type": "execute_result"
    }
   ],
   "source": [
    "mycursor.fetchall()"
   ]
  },
  {
   "cell_type": "code",
   "execution_count": 39,
   "id": "fc136db8",
   "metadata": {},
   "outputs": [],
   "source": [
    "mycursor.execute(\"select * from student_details\")"
   ]
  },
  {
   "cell_type": "code",
   "execution_count": 40,
   "id": "6028d1a5",
   "metadata": {},
   "outputs": [
    {
     "data": {
      "text/plain": [
       "[('SIT-1', 'VIKAS', 'ENGLISH'),\n",
       " ('SIT-2', 'Ganesh', 'Physics'),\n",
       " ('SIT-3', 'Ram', 'Biology'),\n",
       " ('SIT-4', 'Mahesh', 'History'),\n",
       " ('SIT-5', 'Swapnil', 'Sociology')]"
      ]
     },
     "execution_count": 40,
     "metadata": {},
     "output_type": "execute_result"
    }
   ],
   "source": [
    "mycursor.fetchall()"
   ]
  },
  {
   "cell_type": "code",
   "execution_count": 1,
   "id": "39a2df73",
   "metadata": {
    "ExecuteTime": {
     "end_time": "2021-09-28T04:14:45.951311Z",
     "start_time": "2021-09-28T04:14:45.372480Z"
    }
   },
   "outputs": [],
   "source": [
    "import mysql.connector"
   ]
  },
  {
   "cell_type": "code",
   "execution_count": 2,
   "id": "d9efb8b6",
   "metadata": {
    "ExecuteTime": {
     "end_time": "2021-09-28T04:16:33.927008Z",
     "start_time": "2021-09-28T04:16:30.028083Z"
    }
   },
   "outputs": [
    {
     "name": "stdout",
     "output_type": "stream",
     "text": [
      "<mysql.connector.connection.MySQLConnection object at 0x00000166335AB1C0>\n"
     ]
    }
   ],
   "source": [
    "mydb = mysql.connector.connect(\n",
    "host = \"localhost\",\n",
    "user = \"root\",\n",
    "passwd = \"kalevikas@7798\")\n",
    "\n",
    "print(mydb)"
   ]
  },
  {
   "cell_type": "code",
   "execution_count": 3,
   "id": "1a17ca75",
   "metadata": {
    "ExecuteTime": {
     "end_time": "2021-09-28T04:19:38.513149Z",
     "start_time": "2021-09-28T04:19:35.584970Z"
    }
   },
   "outputs": [],
   "source": [
    "# now create database\n",
    "\n",
    "mycursor = mydb.cursor()\n",
    "\n",
    "mycursor.execute(\"CREATE DATABASE mydatabase\")"
   ]
  },
  {
   "cell_type": "code",
   "execution_count": 6,
   "id": "10a3ae05",
   "metadata": {
    "ExecuteTime": {
     "end_time": "2021-09-28T04:21:46.886161Z",
     "start_time": "2021-09-28T04:21:46.858164Z"
    }
   },
   "outputs": [
    {
     "data": {
      "text/plain": [
       "[('courses',),\n",
       " ('elephant',),\n",
       " ('info',),\n",
       " ('information_schema',),\n",
       " ('mobiles',),\n",
       " ('mydatabase',),\n",
       " ('mysql',),\n",
       " ('peoples',),\n",
       " ('performance_schema',),\n",
       " ('sys',),\n",
       " ('test',)]"
      ]
     },
     "execution_count": 6,
     "metadata": {},
     "output_type": "execute_result"
    }
   ],
   "source": [
    "# check if created database exist in your system.\n",
    "\n",
    "mycursor.fetchall()"
   ]
  },
  {
   "cell_type": "code",
   "execution_count": 7,
   "id": "6045f3f9",
   "metadata": {
    "ExecuteTime": {
     "end_time": "2021-09-28T04:23:50.112804Z",
     "start_time": "2021-09-28T04:23:50.060769Z"
    }
   },
   "outputs": [],
   "source": [
    "# another way to fetch databases\n",
    "\n",
    "for i in mycursor:\n",
    "    print(i)"
   ]
  },
  {
   "cell_type": "code",
   "execution_count": 8,
   "id": "551a1da0",
   "metadata": {
    "ExecuteTime": {
     "end_time": "2021-09-28T04:27:16.230114Z",
     "start_time": "2021-09-28T04:27:15.622142Z"
    }
   },
   "outputs": [],
   "source": [
    "# try connecting to the database\n",
    "\n",
    "mydb = mysql.connector.connect(\n",
    "host = \"localhost\",\n",
    "user = \"root\",\n",
    "passwd = \"kalevikas@7798\",\n",
    "database = \"mydatabase\")"
   ]
  },
  {
   "cell_type": "code",
   "execution_count": 10,
   "id": "6d2e8e82",
   "metadata": {
    "ExecuteTime": {
     "end_time": "2021-09-28T04:30:48.980730Z",
     "start_time": "2021-09-28T04:30:44.289938Z"
    }
   },
   "outputs": [],
   "source": [
    "mycursor = mydb.cursor() \n",
    "mycursor.execute(\"CREATE TABLE customers(name VARCHAR(255), address VARCHAR(255))\")"
   ]
  },
  {
   "cell_type": "code",
   "execution_count": 11,
   "id": "918bde97",
   "metadata": {
    "ExecuteTime": {
     "end_time": "2021-09-28T04:31:22.796476Z",
     "start_time": "2021-09-28T04:31:22.316425Z"
    }
   },
   "outputs": [],
   "source": [
    "mycursor.execute(\"SHOW TABLES\")"
   ]
  },
  {
   "cell_type": "code",
   "execution_count": 12,
   "id": "cc260d12",
   "metadata": {
    "ExecuteTime": {
     "end_time": "2021-09-28T04:31:38.247789Z",
     "start_time": "2021-09-28T04:31:38.229788Z"
    }
   },
   "outputs": [
    {
     "name": "stdout",
     "output_type": "stream",
     "text": [
      "('customers',)\n"
     ]
    }
   ],
   "source": [
    "for i in mycursor:\n",
    "    print(i)"
   ]
  },
  {
   "cell_type": "code",
   "execution_count": 15,
   "id": "389bd9c4",
   "metadata": {
    "ExecuteTime": {
     "end_time": "2021-09-28T04:39:46.841641Z",
     "start_time": "2021-09-28T04:39:44.037568Z"
    }
   },
   "outputs": [],
   "source": [
    "mydb = mysql.connector.connect(\n",
    "host = \"localhost\",\n",
    "user = \"root\",\n",
    "passwd = \"kalevikas@7798\",\n",
    "database = \"mydatabase\")\n",
    "\n",
    "mycursor = mydb.cursor()\n",
    "\n",
    "mycursor.execute(\"CREATE TABLE customers1(id INT AUTO_INCREMENT PRIMARY KEY, name VARCHAR(255), address VARCHAR(255))\")"
   ]
  },
  {
   "cell_type": "code",
   "execution_count": 16,
   "id": "db5db29a",
   "metadata": {
    "ExecuteTime": {
     "end_time": "2021-09-28T04:40:05.013048Z",
     "start_time": "2021-09-28T04:40:04.827409Z"
    }
   },
   "outputs": [],
   "source": [
    "mycursor.execute(\"SHOW TABLES\")"
   ]
  },
  {
   "cell_type": "code",
   "execution_count": 17,
   "id": "fb475ea1",
   "metadata": {
    "ExecuteTime": {
     "end_time": "2021-09-28T04:40:22.631559Z",
     "start_time": "2021-09-28T04:40:22.616560Z"
    }
   },
   "outputs": [
    {
     "data": {
      "text/plain": [
       "[('customers',), ('customers1',)]"
      ]
     },
     "execution_count": 17,
     "metadata": {},
     "output_type": "execute_result"
    }
   ],
   "source": [
    "mycursor.fetchall()"
   ]
  },
  {
   "cell_type": "code",
   "execution_count": null,
   "id": "ffa80fb8",
   "metadata": {},
   "outputs": [],
   "source": [
    "# if the table already exist use the ALTER TABLE keyword."
   ]
  },
  {
   "cell_type": "code",
   "execution_count": 18,
   "id": "8452e9b0",
   "metadata": {
    "ExecuteTime": {
     "end_time": "2021-09-28T04:44:03.269084Z",
     "start_time": "2021-09-28T04:43:59.591169Z"
    }
   },
   "outputs": [],
   "source": [
    "mycursor.execute(\"ALTER TABLE customers ADD COLUMN id INT AUTO_INCREMENT PRIMARY KEY\")"
   ]
  },
  {
   "cell_type": "code",
   "execution_count": null,
   "id": "fb3a5750",
   "metadata": {},
   "outputs": [],
   "source": [
    "# insert into table"
   ]
  },
  {
   "cell_type": "code",
   "execution_count": 19,
   "id": "ff4c110c",
   "metadata": {
    "ExecuteTime": {
     "end_time": "2021-09-28T04:50:57.974545Z",
     "start_time": "2021-09-28T04:50:57.476681Z"
    }
   },
   "outputs": [
    {
     "name": "stdout",
     "output_type": "stream",
     "text": [
      "1 record inserted.\n"
     ]
    }
   ],
   "source": [
    "sql = \"INSERT INTO customers (name, address) VALUES (%s, %s)\"\n",
    "val = (\"Vikas Hanumant Kale\", \"Keshegaon,Osmanabad-413506\")\n",
    "\n",
    "mycursor.execute(sql, val)\n",
    "\n",
    "mydb.commit()\n",
    "\n",
    "print(mycursor.rowcount, \"record inserted.\")"
   ]
  },
  {
   "cell_type": "code",
   "execution_count": null,
   "id": "0eb65f8d",
   "metadata": {},
   "outputs": [],
   "source": [
    "# mydb.commit()  - is required to make changes otherwise no changes are made to the table."
   ]
  },
  {
   "cell_type": "code",
   "execution_count": null,
   "id": "ec63dba0",
   "metadata": {},
   "outputs": [],
   "source": [
    "# insert multiple rows\n",
    "\n",
    "- to insert multiple rows into a table use executemany method.\n",
    "- the 2nd parameter of executemany method is list of tuple containing the data you want to insert."
   ]
  },
  {
   "cell_type": "code",
   "execution_count": 28,
   "id": "5f8bd250",
   "metadata": {
    "ExecuteTime": {
     "end_time": "2021-09-28T05:27:40.572302Z",
     "start_time": "2021-09-28T05:27:40.275062Z"
    }
   },
   "outputs": [
    {
     "name": "stdout",
     "output_type": "stream",
     "text": [
      "14 was inserted\n"
     ]
    }
   ],
   "source": [
    "import mysql.connector\n",
    "\n",
    "mydb = mysql.connector.connect(\n",
    "host = \"localhost\",\n",
    "user = \"root\",\n",
    "passwd = \"kalevikas@7798\",\n",
    "database = \"mydatabase\")\n",
    "\n",
    "# mycursor = mydb.cursor()\n",
    "\n",
    "mycursor = mydb.cursor()\n",
    "\n",
    "sql = \"INSERT INTO customers (name, address) VALUES (%s, %s)\"\n",
    "val = [\n",
    "    (\"Vikas\", \"Shivaji_Nagar, Pune\"),\n",
    "    (\"Ram\", \"Swargate, Pune\"),\n",
    "    (\"Ganesh\", \"Hinjawadi, Pune\"),\n",
    "    (\"Vishnu\", \"Khadaki, Pune\"),\n",
    "    (\"Mahesh\", \"Hadpsar, Pune\"),\n",
    "    (\"Vitthal\",\"Kondhwa, Pune\"),\n",
    "    (\"Samarth\", \"Chinchwad, Pune\"),\n",
    "    (\"Pandurang\", \"Pimpri, Pune\"),\n",
    "    (\"Maruti\", \"Katraj, Pune\"),\n",
    "    (\"Rukmini\", \"Aundh, Pune\"),\n",
    "    (\"Lakshaman\", \"Pune_station, Pune\"),\n",
    "    (\"Seeta\", \"Chakan, Pune\"),\n",
    "    (\"Parvati\", \"Nigadi, Pune\"),\n",
    "    (\"Mahadev\", \"Bhosari, Pune\")\n",
    "]\n",
    "\n",
    "mycursor.executemany(sql, val)\n",
    "\n",
    "mydb.commit()\n",
    "\n",
    "print(mycursor.rowcount, \"was inserted\")"
   ]
  },
  {
   "cell_type": "code",
   "execution_count": 27,
   "id": "faa6e533",
   "metadata": {
    "ExecuteTime": {
     "end_time": "2021-09-28T05:23:25.046834Z",
     "start_time": "2021-09-28T05:23:24.589325Z"
    }
   },
   "outputs": [
    {
     "name": "stdout",
     "output_type": "stream",
     "text": [
      "13 record was inserted.\n"
     ]
    }
   ],
   "source": [
    "import mysql.connector\n",
    "\n",
    "mydb = mysql.connector.connect(\n",
    "  host=\"localhost\",\n",
    "  user=\"root\",\n",
    "  password=\"kalevikas@7798\",\n",
    "  database=\"mydatabase\"\n",
    ")\n",
    "\n",
    "mycursor = mydb.cursor()\n",
    "\n",
    "sql = \"INSERT INTO customers (name, address) VALUES (%s, %s)\"\n",
    "val = [\n",
    " ('Peter', 'Lowstreet 4'),\n",
    " ('Amy', 'Apple st 652'),\n",
    " ('Hannah', 'Mountain 21'),\n",
    " ('Michael', 'Valley 345'),\n",
    " ('Sandy', 'Ocean blvd 2'),\n",
    " ('Betty', 'Green Grass 1'),\n",
    " ('Richard', 'Sky st 331'),\n",
    " ('Susan', 'One way 98'),\n",
    " ('Vicky', 'Yellow Garden 2'),\n",
    " ('Ben', 'Park Lane 38'),\n",
    " ('William', 'Central st 954'),\n",
    " ('Chuck', 'Main Road 989'),\n",
    " ('Viola', 'Sideway 1633')\n",
    "]\n",
    "\n",
    "mycursor.executemany(sql, val)\n",
    "\n",
    "mydb.commit()\n",
    "\n",
    "print(mycursor.rowcount, \"record was inserted.\")\n"
   ]
  },
  {
   "cell_type": "code",
   "execution_count": 29,
   "id": "99e1b89c",
   "metadata": {
    "ExecuteTime": {
     "end_time": "2021-09-28T05:29:32.833367Z",
     "start_time": "2021-09-28T05:29:32.821808Z"
    }
   },
   "outputs": [
    {
     "name": "stdout",
     "output_type": "stream",
     "text": [
      "15\n"
     ]
    }
   ],
   "source": [
    "print(mycursor.lastrowid)"
   ]
  },
  {
   "cell_type": "code",
   "execution_count": null,
   "id": "bfcaa76e",
   "metadata": {},
   "outputs": [],
   "source": [
    "# to select from a table use SELECT"
   ]
  },
  {
   "cell_type": "code",
   "execution_count": 35,
   "id": "59c96541",
   "metadata": {
    "ExecuteTime": {
     "end_time": "2021-09-28T05:35:10.841773Z",
     "start_time": "2021-09-28T05:35:10.825773Z"
    }
   },
   "outputs": [],
   "source": [
    "mycursor.execute(\"SELECT * FROM customers\")"
   ]
  },
  {
   "cell_type": "code",
   "execution_count": 36,
   "id": "1deb5b28",
   "metadata": {
    "ExecuteTime": {
     "end_time": "2021-09-28T05:35:12.057780Z",
     "start_time": "2021-09-28T05:35:12.041779Z"
    }
   },
   "outputs": [
    {
     "name": "stdout",
     "output_type": "stream",
     "text": [
      "('Vikas Hanumant Kale', 'Keshegaon,Osmanabad-413506', 1)\n",
      "('Peter', 'Lowstreet 4', 2)\n",
      "('Amy', 'Apple st 652', 3)\n",
      "('Hannah', 'Mountain 21', 4)\n",
      "('Michael', 'Valley 345', 5)\n",
      "('Sandy', 'Ocean blvd 2', 6)\n",
      "('Betty', 'Green Grass 1', 7)\n",
      "('Richard', 'Sky st 331', 8)\n",
      "('Susan', 'One way 98', 9)\n",
      "('Vicky', 'Yellow Garden 2', 10)\n",
      "('Ben', 'Park Lane 38', 11)\n",
      "('William', 'Central st 954', 12)\n",
      "('Chuck', 'Main Road 989', 13)\n",
      "('Viola', 'Sideway 1633', 14)\n",
      "('Vikas', 'Shivaji_Nagar, Pune', 15)\n",
      "('Ram', 'Swargate, Pune', 16)\n",
      "('Ganesh', 'Hinjawadi, Pune', 17)\n",
      "('Vishnu', 'Khadaki, Pune', 18)\n",
      "('Mahesh', 'Hadpsar, Pune', 19)\n",
      "('Vitthal', 'Kondhwa, Pune', 20)\n",
      "('Samarth', 'Chinchwad, Pune', 21)\n",
      "('Pandurang', 'Pimpri, Pune', 22)\n",
      "('Maruti', 'Katraj, Pune', 23)\n",
      "('Rukmini', 'Aundh, Pune', 24)\n",
      "('Lakshaman', 'Pune_station, Pune', 25)\n",
      "('Seeta', 'Chakan, Pune', 26)\n",
      "('Parvati', 'Nigadi, Pune', 27)\n",
      "('Mahadev', 'Bhosari, Pune', 28)\n"
     ]
    }
   ],
   "source": [
    "myresult = mycursor.fetchall()\n",
    "\n",
    "for x in myresult:\n",
    "    print(x)"
   ]
  },
  {
   "cell_type": "code",
   "execution_count": 37,
   "id": "2c8dd3af",
   "metadata": {
    "ExecuteTime": {
     "end_time": "2021-09-28T05:35:18.492028Z",
     "start_time": "2021-09-28T05:35:18.476032Z"
    }
   },
   "outputs": [
    {
     "data": {
      "text/plain": [
       "28"
      ]
     },
     "execution_count": 37,
     "metadata": {},
     "output_type": "execute_result"
    }
   ],
   "source": [
    "mycursor.rowcount"
   ]
  },
  {
   "cell_type": "code",
   "execution_count": 38,
   "id": "f56c9404",
   "metadata": {
    "ExecuteTime": {
     "end_time": "2021-09-28T05:54:42.433935Z",
     "start_time": "2021-09-28T05:54:41.729476Z"
    }
   },
   "outputs": [
    {
     "name": "stdout",
     "output_type": "stream",
     "text": [
      "14 was inserted\n"
     ]
    }
   ],
   "source": [
    "import mysql.connector\n",
    "\n",
    "mydb = mysql.connector.connect(\n",
    "host = \"localhost\",\n",
    "user = \"root\",\n",
    "passwd = \"kalevikas@7798\",\n",
    "database = \"mydatabase\")\n",
    "\n",
    "# mycursor = mydb.cursor()\n",
    "\n",
    "mycursor = mydb.cursor()\n",
    "\n",
    "sql = \"INSERT INTO customers1 (name, address) VALUES (%s, %s)\"\n",
    "val = [\n",
    "    (\"Vikas\", \"Shivaji_Nagar, Pune\"),\n",
    "    (\"Ram\", \"Swargate, Pune\"),\n",
    "    (\"Ganesh\", \"Hinjawadi, Pune\"),\n",
    "    (\"Vishnu\", \"Khadaki, Pune\"),\n",
    "    (\"Mahesh\", \"Hadpsar, Pune\"),\n",
    "    (\"Vitthal\",\"Kondhwa, Pune\"),\n",
    "    (\"Samarth\", \"Chinchwad, Pune\"),\n",
    "    (\"Pandurang\", \"Pimpri, Pune\"),\n",
    "    (\"Maruti\", \"Katraj, Pune\"),\n",
    "    (\"Rukmini\", \"Aundh, Pune\"),\n",
    "    (\"Lakshaman\", \"Pune_station, Pune\"),\n",
    "    (\"Seeta\", \"Chakan, Pune\"),\n",
    "    (\"Parvati\", \"Nigadi, Pune\"),\n",
    "    (\"Mahadev\", \"Bhosari, Pune\")\n",
    "]\n",
    "\n",
    "mycursor.executemany(sql, val)\n",
    "\n",
    "mydb.commit()\n",
    "\n",
    "print(mycursor.rowcount, \"was inserted\")"
   ]
  },
  {
   "cell_type": "code",
   "execution_count": 39,
   "id": "2a6e24f7",
   "metadata": {
    "ExecuteTime": {
     "end_time": "2021-09-28T05:55:05.501017Z",
     "start_time": "2021-09-28T05:55:05.485047Z"
    }
   },
   "outputs": [],
   "source": [
    "mycursor.execute(\"select * from customers1\")"
   ]
  },
  {
   "cell_type": "code",
   "execution_count": 40,
   "id": "f77412d8",
   "metadata": {
    "ExecuteTime": {
     "end_time": "2021-09-28T05:55:13.063933Z",
     "start_time": "2021-09-28T05:55:13.031899Z"
    }
   },
   "outputs": [
    {
     "data": {
      "text/plain": [
       "[(1, 'Vikas', 'Shivaji_Nagar, Pune'),\n",
       " (2, 'Ram', 'Swargate, Pune'),\n",
       " (3, 'Ganesh', 'Hinjawadi, Pune'),\n",
       " (4, 'Vishnu', 'Khadaki, Pune'),\n",
       " (5, 'Mahesh', 'Hadpsar, Pune'),\n",
       " (6, 'Vitthal', 'Kondhwa, Pune'),\n",
       " (7, 'Samarth', 'Chinchwad, Pune'),\n",
       " (8, 'Pandurang', 'Pimpri, Pune'),\n",
       " (9, 'Maruti', 'Katraj, Pune'),\n",
       " (10, 'Rukmini', 'Aundh, Pune'),\n",
       " (11, 'Lakshaman', 'Pune_station, Pune'),\n",
       " (12, 'Seeta', 'Chakan, Pune'),\n",
       " (13, 'Parvati', 'Nigadi, Pune'),\n",
       " (14, 'Mahadev', 'Bhosari, Pune')]"
      ]
     },
     "execution_count": 40,
     "metadata": {},
     "output_type": "execute_result"
    }
   ],
   "source": [
    "mycursor.fetchall()"
   ]
  },
  {
   "cell_type": "code",
   "execution_count": 46,
   "id": "a955be5b",
   "metadata": {
    "ExecuteTime": {
     "end_time": "2021-09-28T06:07:19.862814Z",
     "start_time": "2021-09-28T06:07:19.333310Z"
    }
   },
   "outputs": [],
   "source": [
    "import mysql.connector\n",
    "\n",
    "# create database\n",
    "\n",
    "mydb = mysql.connector.connect(\n",
    "host = \"localhost\",\n",
    "user = \"root\",\n",
    "passwd = \"kalevikas@7798\")\n",
    "\n",
    "mycursor = mydb.cursor()\n",
    "\n",
    "mycursor.execute(\"CREATE DATABASE my_second_database\")\n"
   ]
  },
  {
   "cell_type": "code",
   "execution_count": 49,
   "id": "f341f039",
   "metadata": {
    "ExecuteTime": {
     "end_time": "2021-09-28T06:07:44.029058Z",
     "start_time": "2021-09-28T06:07:43.989023Z"
    }
   },
   "outputs": [],
   "source": [
    "# show database we just created\n",
    "\n",
    "mycursor = mydb.cursor()\n",
    "\n",
    "mycursor.execute(\"SHOW DATABASES\")"
   ]
  },
  {
   "cell_type": "code",
   "execution_count": 50,
   "id": "7e96221d",
   "metadata": {
    "ExecuteTime": {
     "end_time": "2021-09-28T06:07:44.772096Z",
     "start_time": "2021-09-28T06:07:44.764099Z"
    }
   },
   "outputs": [
    {
     "data": {
      "text/plain": [
       "[('courses',),\n",
       " ('elephant',),\n",
       " ('info',),\n",
       " ('information_schema',),\n",
       " ('mobiles',),\n",
       " ('my_second_database',),\n",
       " ('mydatabase',),\n",
       " ('mysql',),\n",
       " ('peoples',),\n",
       " ('performance_schema',),\n",
       " ('sys',),\n",
       " ('test',)]"
      ]
     },
     "execution_count": 50,
     "metadata": {},
     "output_type": "execute_result"
    }
   ],
   "source": [
    "mycursor.fetchall()"
   ]
  },
  {
   "cell_type": "code",
   "execution_count": 51,
   "id": "d0a960f3",
   "metadata": {
    "ExecuteTime": {
     "end_time": "2021-09-28T06:08:26.490483Z",
     "start_time": "2021-09-28T06:08:26.466482Z"
    }
   },
   "outputs": [],
   "source": [
    "for x in mycursor:\n",
    "    print(x)"
   ]
  },
  {
   "cell_type": "code",
   "execution_count": 1,
   "id": "68ca4151",
   "metadata": {
    "ExecuteTime": {
     "end_time": "2021-09-28T12:41:53.811986Z",
     "start_time": "2021-09-28T12:40:02.361691Z"
    }
   },
   "outputs": [
    {
     "name": "stdout",
     "output_type": "stream",
     "text": [
      "Collecting pywhatkit\n",
      "Note: you may need to restart the kernel to use updated packages.  Using cached pywhatkit-5.1-py3-none-any.whl (12 kB)\n",
      "Collecting wikipedia\n",
      "  Downloading wikipedia-1.4.0.tar.gz (27 kB)\n",
      "Collecting pyautogui\n",
      "  Downloading PyAutoGUI-0.9.53.tar.gz (59 kB)\n",
      "Requirement already satisfied: Pillow in c:\\programdata\\anaconda3\\lib\\site-packages (from pywhatkit) (8.2.0)\n",
      "Requirement already satisfied: requests in c:\\programdata\\anaconda3\\lib\\site-packages (from pywhatkit) (2.25.1)\n",
      "Collecting pymsgbox\n",
      "  Downloading PyMsgBox-1.0.9.tar.gz (18 kB)\n",
      "  Installing build dependencies: started\n",
      "  Installing build dependencies: finished with status 'done'\n",
      "  Getting requirements to build wheel: started\n",
      "  Getting requirements to build wheel: finished with status 'done'\n",
      "    Preparing wheel metadata: started\n",
      "    Preparing wheel metadata: finished with status 'done'\n",
      "Collecting PyTweening>=1.0.1\n",
      "  Downloading pytweening-1.0.4.tar.gz (14 kB)\n",
      "Collecting pyscreeze>=0.1.21\n",
      "  Downloading PyScreeze-0.1.28.tar.gz (25 kB)\n",
      "  Installing build dependencies: started\n",
      "  Installing build dependencies: finished with status 'done'\n",
      "  Getting requirements to build wheel: started\n",
      "\n",
      "  Getting requirements to build wheel: finished with status 'done'\n",
      "    Preparing wheel metadata: started\n",
      "    Preparing wheel metadata: finished with status 'done'\n",
      "Collecting pygetwindow>=0.0.5\n",
      "  Downloading PyGetWindow-0.0.9.tar.gz (9.7 kB)\n",
      "Collecting mouseinfo\n",
      "  Downloading MouseInfo-0.1.3.tar.gz (10 kB)\n",
      "Collecting pyrect\n",
      "  Downloading PyRect-0.1.4.tar.gz (15 kB)\n",
      "Collecting pyperclip\n",
      "  Downloading pyperclip-1.8.2.tar.gz (20 kB)\n",
      "Requirement already satisfied: urllib3<1.27,>=1.21.1 in c:\\programdata\\anaconda3\\lib\\site-packages (from requests->pywhatkit) (1.26.4)\n",
      "Requirement already satisfied: idna<3,>=2.5 in c:\\programdata\\anaconda3\\lib\\site-packages (from requests->pywhatkit) (2.10)\n",
      "Requirement already satisfied: chardet<5,>=3.0.2 in c:\\programdata\\anaconda3\\lib\\site-packages (from requests->pywhatkit) (4.0.0)\n",
      "Requirement already satisfied: certifi>=2017.4.17 in c:\\programdata\\anaconda3\\lib\\site-packages (from requests->pywhatkit) (2020.12.5)\n",
      "Requirement already satisfied: beautifulsoup4 in c:\\programdata\\anaconda3\\lib\\site-packages (from wikipedia->pywhatkit) (4.9.3)\n",
      "Requirement already satisfied: soupsieve>1.2 in c:\\programdata\\anaconda3\\lib\\site-packages (from beautifulsoup4->wikipedia->pywhatkit) (2.2.1)\n",
      "Building wheels for collected packages: pyautogui, pygetwindow, pyscreeze, PyTweening, mouseinfo, pymsgbox, pyperclip, pyrect, wikipedia\n",
      "  Building wheel for pyautogui (setup.py): started\n",
      "  Building wheel for pyautogui (setup.py): finished with status 'done'\n",
      "  Created wheel for pyautogui: filename=PyAutoGUI-0.9.53-py3-none-any.whl size=36583 sha256=e7042db17bf7953a75005622e773d45ce5233345bb1f72553d01a50d2303c151\n",
      "  Stored in directory: c:\\users\\shweta bhandare\\appdata\\local\\pip\\cache\\wheels\\54\\04\\f7\\55704a9d374ed923785a4fdc0ef00151fa25306b3b93345532\n",
      "  Building wheel for pygetwindow (setup.py): started\n",
      "  Building wheel for pygetwindow (setup.py): finished with status 'done'\n",
      "  Created wheel for pygetwindow: filename=PyGetWindow-0.0.9-py3-none-any.whl size=11078 sha256=43e4733bd92ef47f17383a21a8c378cba87935bce34fe58c64b4a5180ca7e095\n",
      "  Stored in directory: c:\\users\\shweta bhandare\\appdata\\local\\pip\\cache\\wheels\\91\\e3\\04\\184bda98ec7f7d5f0ba1f372bcf7b3ba86325151ae1dd690fe\n",
      "  Building wheel for pyscreeze (PEP 517): started\n",
      "  Building wheel for pyscreeze (PEP 517): finished with status 'done'\n",
      "  Created wheel for pyscreeze: filename=PyScreeze-0.1.28-py3-none-any.whl size=13023 sha256=389d203b405e0f6c31ce52d2c62040bcee24b342d0d76b2e1d10315be5c77970\n",
      "  Stored in directory: c:\\users\\shweta bhandare\\appdata\\local\\pip\\cache\\wheels\\b1\\b0\\5c\\9fb5beb2d6c708479a670e92f4ab3b54523a15c9cd4a46e24e\n",
      "  Building wheel for PyTweening (setup.py): started\n",
      "  Building wheel for PyTweening (setup.py): finished with status 'done'\n",
      "  Created wheel for PyTweening: filename=pytweening-1.0.4-py3-none-any.whl size=5825 sha256=2471d9cbd7fe1ae96a0df9c4b90ca450be53384be365ba357c3c5d14db79f316\n",
      "  Stored in directory: c:\\users\\shweta bhandare\\appdata\\local\\pip\\cache\\wheels\\a2\\1b\\69\\dc477653ccc19228bf53af76c623e4e82e5dc1b6f78d5c4d35\n",
      "  Building wheel for mouseinfo (setup.py): started\n",
      "  Building wheel for mouseinfo (setup.py): finished with status 'done'\n",
      "  Created wheel for mouseinfo: filename=MouseInfo-0.1.3-py3-none-any.whl size=10905 sha256=550c11bee051442b31c63895c0c2b6eb6751a7d92e881306cf7469b6dea889dc\n",
      "  Stored in directory: c:\\users\\shweta bhandare\\appdata\\local\\pip\\cache\\wheels\\d1\\72\\fb\\35f403de66285df8ecca7049bcc61bfb57aba0f76d1f08f7eb\n",
      "  Building wheel for pymsgbox (PEP 517): started\n",
      "  Building wheel for pymsgbox (PEP 517): finished with status 'done'\n",
      "  Created wheel for pymsgbox: filename=PyMsgBox-1.0.9-py3-none-any.whl size=7420 sha256=f37174d13557a13d1dbd268b4b019e81654aeca25c3a7147457e85cf76309009\n",
      "  Stored in directory: c:\\users\\shweta bhandare\\appdata\\local\\pip\\cache\\wheels\\91\\28\\0d\\f4eb606d38276836237d6dc2abf094241e6db5682a126e0389\n",
      "  Building wheel for pyperclip (setup.py): started\n",
      "  Building wheel for pyperclip (setup.py): finished with status 'done'\n",
      "  Created wheel for pyperclip: filename=pyperclip-1.8.2-py3-none-any.whl size=11107 sha256=b1006356c9322531e8aeebe566721a73266e2a84d3b6ba715fb2218a14dc89ae\n",
      "  Stored in directory: c:\\users\\shweta bhandare\\appdata\\local\\pip\\cache\\wheels\\7f\\1a\\65\\84ff8c386bec21fca6d220ea1f5498a0367883a78dd5ba6122\n",
      "  Building wheel for pyrect (setup.py): started\n",
      "  Building wheel for pyrect (setup.py): finished with status 'done'\n",
      "  Created wheel for pyrect: filename=PyRect-0.1.4-py2.py3-none-any.whl size=9547 sha256=1c7e2667a3a14a544a62f1cd2d38ee93b2119b0947ec34c84c97bc37c438b970\n",
      "  Stored in directory: c:\\users\\shweta bhandare\\appdata\\local\\pip\\cache\\wheels\\d1\\e4\\47\\c62f8291b16b6df7e89ac885881ff71f35ca04c6e384251de9\n",
      "  Building wheel for wikipedia (setup.py): started\n",
      "  Building wheel for wikipedia (setup.py): finished with status 'done'\n",
      "  Created wheel for wikipedia: filename=wikipedia-1.4.0-py3-none-any.whl size=11686 sha256=4d4652e9060973f6100a6637feb1fd4811beabfdc56a0b428ddc2e86c53c7d4a\n",
      "  Stored in directory: c:\\users\\shweta bhandare\\appdata\\local\\pip\\cache\\wheels\\07\\93\\05\\72c05349177dca2e0ba31a33ba4f7907606f7ddef303517c6a\n",
      "Successfully built pyautogui pygetwindow pyscreeze PyTweening mouseinfo pymsgbox pyperclip pyrect wikipedia\n",
      "Installing collected packages: pyrect, pyperclip, PyTweening, pyscreeze, pymsgbox, pygetwindow, mouseinfo, wikipedia, pyautogui, pywhatkit\n",
      "Successfully installed PyTweening-1.0.4 mouseinfo-0.1.3 pyautogui-0.9.53 pygetwindow-0.0.9 pymsgbox-1.0.9 pyperclip-1.8.2 pyrect-0.1.4 pyscreeze-0.1.28 pywhatkit-5.1 wikipedia-1.4.0\n"
     ]
    }
   ],
   "source": [
    "pip install pywhatkit "
   ]
  },
  {
   "cell_type": "code",
   "execution_count": null,
   "id": "f0e70eba",
   "metadata": {
    "ExecuteTime": {
     "start_time": "2021-09-28T12:43:47.814Z"
    }
   },
   "outputs": [
    {
     "name": "stdout",
     "output_type": "stream",
     "text": [
      "In 43187 seconds web.whatsapp.com will open and after 20 seconds message will be delivered\n"
     ]
    }
   ],
   "source": [
    "import pywhatkit\n",
    "\n",
    "pywhatkit.sendwhatmsg(\"+917798743804\",\"hii\",6,14)"
   ]
  },
  {
   "cell_type": "code",
   "execution_count": 4,
   "id": "5f2aa1b9",
   "metadata": {
    "ExecuteTime": {
     "end_time": "2021-09-29T02:03:56.015786Z",
     "start_time": "2021-09-29T02:03:54.539977Z"
    }
   },
   "outputs": [],
   "source": [
    "# create database\n",
    "\n",
    "import mysql.connector\n",
    "\n",
    "conn = mysql.connector.connect(\n",
    "host = \"localhost\",\n",
    "user = \"root\",\n",
    "passwd = \"kalevikas@7798\")\n",
    "\n",
    "mycursor = conn.cursor()\n",
    "\n",
    "# mycursor.execute(\"CREATE DATABASE mydatabase3\")\n"
   ]
  },
  {
   "cell_type": "code",
   "execution_count": 6,
   "id": "b915faed",
   "metadata": {
    "ExecuteTime": {
     "end_time": "2021-09-29T02:04:06.995981Z",
     "start_time": "2021-09-29T02:04:06.136937Z"
    }
   },
   "outputs": [],
   "source": [
    "mycursor.execute(\"SHOW DATABASES\")"
   ]
  },
  {
   "cell_type": "code",
   "execution_count": 7,
   "id": "cf80f66e",
   "metadata": {
    "ExecuteTime": {
     "end_time": "2021-09-29T02:04:26.643560Z",
     "start_time": "2021-09-29T02:04:25.979171Z"
    }
   },
   "outputs": [
    {
     "name": "stdout",
     "output_type": "stream",
     "text": [
      "('courses',)\n",
      "('elephant',)\n",
      "('info',)\n",
      "('information_schema',)\n",
      "('mobiles',)\n",
      "('my_second_database',)\n",
      "('mydatabase',)\n",
      "('mysql',)\n",
      "('peoples',)\n",
      "('performance_schema',)\n",
      "('sys',)\n",
      "('test',)\n"
     ]
    }
   ],
   "source": [
    "for i in mycursor:\n",
    "    print(i)"
   ]
  },
  {
   "cell_type": "code",
   "execution_count": 10,
   "id": "e8c4f4de",
   "metadata": {
    "ExecuteTime": {
     "end_time": "2021-09-29T02:05:15.733395Z",
     "start_time": "2021-09-29T02:05:15.252813Z"
    }
   },
   "outputs": [
    {
     "ename": "DatabaseError",
     "evalue": "1007 (HY000): Can't create database 'mydatabase3'; database exists",
     "output_type": "error",
     "traceback": [
      "\u001b[1;31m---------------------------------------------------------------------------\u001b[0m",
      "\u001b[1;31mDatabaseError\u001b[0m                             Traceback (most recent call last)",
      "\u001b[1;32m<ipython-input-10-30fa622f7ad0>\u001b[0m in \u001b[0;36m<module>\u001b[1;34m\u001b[0m\n\u001b[0;32m     10\u001b[0m \u001b[0mmycursor\u001b[0m \u001b[1;33m=\u001b[0m \u001b[0mconn\u001b[0m\u001b[1;33m.\u001b[0m\u001b[0mcursor\u001b[0m\u001b[1;33m(\u001b[0m\u001b[1;33m)\u001b[0m\u001b[1;33m\u001b[0m\u001b[1;33m\u001b[0m\u001b[0m\n\u001b[0;32m     11\u001b[0m \u001b[1;33m\u001b[0m\u001b[0m\n\u001b[1;32m---> 12\u001b[1;33m \u001b[0mmycursor\u001b[0m\u001b[1;33m.\u001b[0m\u001b[0mexecute\u001b[0m\u001b[1;33m(\u001b[0m\u001b[1;34m\"CREATE DATABASE mydatabase3\"\u001b[0m\u001b[1;33m)\u001b[0m\u001b[1;33m\u001b[0m\u001b[1;33m\u001b[0m\u001b[0m\n\u001b[0m",
      "\u001b[1;32mC:\\ProgramData\\Anaconda3\\lib\\site-packages\\mysql\\connector\\cursor.py\u001b[0m in \u001b[0;36mexecute\u001b[1;34m(self, operation, params, multi)\u001b[0m\n\u001b[0;32m    566\u001b[0m \u001b[1;33m\u001b[0m\u001b[0m\n\u001b[0;32m    567\u001b[0m         \u001b[1;32mtry\u001b[0m\u001b[1;33m:\u001b[0m\u001b[1;33m\u001b[0m\u001b[1;33m\u001b[0m\u001b[0m\n\u001b[1;32m--> 568\u001b[1;33m             \u001b[0mself\u001b[0m\u001b[1;33m.\u001b[0m\u001b[0m_handle_result\u001b[0m\u001b[1;33m(\u001b[0m\u001b[0mself\u001b[0m\u001b[1;33m.\u001b[0m\u001b[0m_connection\u001b[0m\u001b[1;33m.\u001b[0m\u001b[0mcmd_query\u001b[0m\u001b[1;33m(\u001b[0m\u001b[0mstmt\u001b[0m\u001b[1;33m)\u001b[0m\u001b[1;33m)\u001b[0m\u001b[1;33m\u001b[0m\u001b[1;33m\u001b[0m\u001b[0m\n\u001b[0m\u001b[0;32m    569\u001b[0m         \u001b[1;32mexcept\u001b[0m \u001b[0merrors\u001b[0m\u001b[1;33m.\u001b[0m\u001b[0mInterfaceError\u001b[0m\u001b[1;33m:\u001b[0m\u001b[1;33m\u001b[0m\u001b[1;33m\u001b[0m\u001b[0m\n\u001b[0;32m    570\u001b[0m             \u001b[1;32mif\u001b[0m \u001b[0mself\u001b[0m\u001b[1;33m.\u001b[0m\u001b[0m_connection\u001b[0m\u001b[1;33m.\u001b[0m\u001b[0m_have_next_result\u001b[0m\u001b[1;33m:\u001b[0m  \u001b[1;31m# pylint: disable=W0212\u001b[0m\u001b[1;33m\u001b[0m\u001b[1;33m\u001b[0m\u001b[0m\n",
      "\u001b[1;32mC:\\ProgramData\\Anaconda3\\lib\\site-packages\\mysql\\connector\\connection.py\u001b[0m in \u001b[0;36mcmd_query\u001b[1;34m(self, query, raw, buffered, raw_as_string)\u001b[0m\n\u001b[0;32m    844\u001b[0m         \u001b[0mquery\u001b[0m \u001b[1;33m=\u001b[0m \u001b[0mbytes\u001b[0m\u001b[1;33m(\u001b[0m\u001b[0mpacket\u001b[0m\u001b[1;33m)\u001b[0m\u001b[1;33m\u001b[0m\u001b[1;33m\u001b[0m\u001b[0m\n\u001b[0;32m    845\u001b[0m         \u001b[1;32mtry\u001b[0m\u001b[1;33m:\u001b[0m\u001b[1;33m\u001b[0m\u001b[1;33m\u001b[0m\u001b[0m\n\u001b[1;32m--> 846\u001b[1;33m             \u001b[0mresult\u001b[0m \u001b[1;33m=\u001b[0m \u001b[0mself\u001b[0m\u001b[1;33m.\u001b[0m\u001b[0m_handle_result\u001b[0m\u001b[1;33m(\u001b[0m\u001b[0mself\u001b[0m\u001b[1;33m.\u001b[0m\u001b[0m_send_cmd\u001b[0m\u001b[1;33m(\u001b[0m\u001b[0mServerCmd\u001b[0m\u001b[1;33m.\u001b[0m\u001b[0mQUERY\u001b[0m\u001b[1;33m,\u001b[0m \u001b[0mquery\u001b[0m\u001b[1;33m)\u001b[0m\u001b[1;33m)\u001b[0m\u001b[1;33m\u001b[0m\u001b[1;33m\u001b[0m\u001b[0m\n\u001b[0m\u001b[0;32m    847\u001b[0m         \u001b[1;32mexcept\u001b[0m \u001b[0merrors\u001b[0m\u001b[1;33m.\u001b[0m\u001b[0mProgrammingError\u001b[0m \u001b[1;32mas\u001b[0m \u001b[0merr\u001b[0m\u001b[1;33m:\u001b[0m\u001b[1;33m\u001b[0m\u001b[1;33m\u001b[0m\u001b[0m\n\u001b[0;32m    848\u001b[0m             \u001b[1;32mif\u001b[0m \u001b[0merr\u001b[0m\u001b[1;33m.\u001b[0m\u001b[0merrno\u001b[0m \u001b[1;33m==\u001b[0m \u001b[1;36m3948\u001b[0m \u001b[1;32mand\u001b[0m\u001b[0;31m \u001b[0m\u001b[0;31m\\\u001b[0m\u001b[1;33m\u001b[0m\u001b[1;33m\u001b[0m\u001b[0m\n",
      "\u001b[1;32mC:\\ProgramData\\Anaconda3\\lib\\site-packages\\mysql\\connector\\connection.py\u001b[0m in \u001b[0;36m_handle_result\u001b[1;34m(self, packet)\u001b[0m\n\u001b[0;32m    654\u001b[0m             \u001b[1;32mreturn\u001b[0m \u001b[0mself\u001b[0m\u001b[1;33m.\u001b[0m\u001b[0m_handle_eof\u001b[0m\u001b[1;33m(\u001b[0m\u001b[0mpacket\u001b[0m\u001b[1;33m)\u001b[0m\u001b[1;33m\u001b[0m\u001b[1;33m\u001b[0m\u001b[0m\n\u001b[0;32m    655\u001b[0m         \u001b[1;32melif\u001b[0m \u001b[0mpacket\u001b[0m\u001b[1;33m[\u001b[0m\u001b[1;36m4\u001b[0m\u001b[1;33m]\u001b[0m \u001b[1;33m==\u001b[0m \u001b[1;36m255\u001b[0m\u001b[1;33m:\u001b[0m\u001b[1;33m\u001b[0m\u001b[1;33m\u001b[0m\u001b[0m\n\u001b[1;32m--> 656\u001b[1;33m             \u001b[1;32mraise\u001b[0m \u001b[0merrors\u001b[0m\u001b[1;33m.\u001b[0m\u001b[0mget_exception\u001b[0m\u001b[1;33m(\u001b[0m\u001b[0mpacket\u001b[0m\u001b[1;33m)\u001b[0m\u001b[1;33m\u001b[0m\u001b[1;33m\u001b[0m\u001b[0m\n\u001b[0m\u001b[0;32m    657\u001b[0m \u001b[1;33m\u001b[0m\u001b[0m\n\u001b[0;32m    658\u001b[0m         \u001b[1;31m# We have a text result set\u001b[0m\u001b[1;33m\u001b[0m\u001b[1;33m\u001b[0m\u001b[1;33m\u001b[0m\u001b[0m\n",
      "\u001b[1;31mDatabaseError\u001b[0m: 1007 (HY000): Can't create database 'mydatabase3'; database exists"
     ]
    }
   ],
   "source": [
    "# create database\n",
    "\n",
    "import mysql.connector\n",
    "\n",
    "conn = mysql.connector.connect(\n",
    "host = \"localhost\",\n",
    "user = \"root\",\n",
    "passwd = \"kalevikas@7798\")\n",
    "\n",
    "mycursor = conn.cursor()\n",
    "\n",
    "mycursor.execute(\"CREATE DATABASE mydatabase3\")\n"
   ]
  },
  {
   "cell_type": "code",
   "execution_count": 11,
   "id": "63e564eb",
   "metadata": {
    "ExecuteTime": {
     "end_time": "2021-09-29T02:05:26.266522Z",
     "start_time": "2021-09-29T02:05:26.250523Z"
    }
   },
   "outputs": [
    {
     "data": {
      "text/plain": [
       "[]"
      ]
     },
     "execution_count": 11,
     "metadata": {},
     "output_type": "execute_result"
    }
   ],
   "source": [
    "mycursor.fetchall()"
   ]
  },
  {
   "cell_type": "code",
   "execution_count": 12,
   "id": "1b07fa7b",
   "metadata": {
    "ExecuteTime": {
     "end_time": "2021-09-29T02:05:49.752936Z",
     "start_time": "2021-09-29T02:05:49.342375Z"
    }
   },
   "outputs": [],
   "source": [
    "mycursor.execute(\"SHOW DATABASES\")"
   ]
  },
  {
   "cell_type": "code",
   "execution_count": 13,
   "id": "4fdd6c6f",
   "metadata": {
    "ExecuteTime": {
     "end_time": "2021-09-29T02:05:59.270012Z",
     "start_time": "2021-09-29T02:05:59.238005Z"
    }
   },
   "outputs": [
    {
     "data": {
      "text/plain": [
       "[('courses',),\n",
       " ('elephant',),\n",
       " ('info',),\n",
       " ('information_schema',),\n",
       " ('mobiles',),\n",
       " ('my_second_database',),\n",
       " ('mydatabase',),\n",
       " ('mydatabase3',),\n",
       " ('mysql',),\n",
       " ('peoples',),\n",
       " ('performance_schema',),\n",
       " ('sys',),\n",
       " ('test',)]"
      ]
     },
     "execution_count": 13,
     "metadata": {},
     "output_type": "execute_result"
    }
   ],
   "source": [
    "mycursor.fetchall()"
   ]
  },
  {
   "cell_type": "code",
   "execution_count": 17,
   "id": "1e850955",
   "metadata": {
    "ExecuteTime": {
     "end_time": "2021-09-29T02:13:33.211872Z",
     "start_time": "2021-09-29T02:13:28.287573Z"
    }
   },
   "outputs": [],
   "source": [
    "# create table\n",
    "\n",
    "import mysql.connector\n",
    "\n",
    "conn = mysql.connector.connect(\n",
    "host = \"localhost\",\n",
    "user = \"root\",\n",
    "passwd = \"kalevikas@7798\",\n",
    "database = \"mydatabase3\")\n",
    "\n",
    "mycursor = conn.cursor()\n",
    "\n",
    "mycursor.execute(\"CREATE TABLE books(id INT AUTO_INCREMENT PRIMARY KEY, name VARCHAR(255), price int)\")"
   ]
  },
  {
   "cell_type": "code",
   "execution_count": 22,
   "id": "07ef489b",
   "metadata": {
    "ExecuteTime": {
     "end_time": "2021-09-29T02:26:05.518118Z",
     "start_time": "2021-09-29T02:26:05.486119Z"
    }
   },
   "outputs": [
    {
     "ename": "ProgrammingError",
     "evalue": "Not all parameters were used in the SQL statement",
     "output_type": "error",
     "traceback": [
      "\u001b[1;31m---------------------------------------------------------------------------\u001b[0m",
      "\u001b[1;31mProgrammingError\u001b[0m                          Traceback (most recent call last)",
      "\u001b[1;32m<ipython-input-22-0a022b2e8c9e>\u001b[0m in \u001b[0;36m<module>\u001b[1;34m\u001b[0m\n\u001b[0;32m      8\u001b[0m ]\n\u001b[0;32m      9\u001b[0m \u001b[1;33m\u001b[0m\u001b[0m\n\u001b[1;32m---> 10\u001b[1;33m \u001b[0mmycursor\u001b[0m\u001b[1;33m.\u001b[0m\u001b[0mexecutemany\u001b[0m\u001b[1;33m(\u001b[0m\u001b[0msql\u001b[0m\u001b[1;33m,\u001b[0m \u001b[0mval\u001b[0m\u001b[1;33m)\u001b[0m\u001b[1;33m\u001b[0m\u001b[1;33m\u001b[0m\u001b[0m\n\u001b[0m",
      "\u001b[1;32mC:\\ProgramData\\Anaconda3\\lib\\site-packages\\mysql\\connector\\cursor.py\u001b[0m in \u001b[0;36mexecutemany\u001b[1;34m(self, operation, seq_params)\u001b[0m\n\u001b[0;32m    665\u001b[0m                 \u001b[0mself\u001b[0m\u001b[1;33m.\u001b[0m\u001b[0m_rowcount\u001b[0m \u001b[1;33m=\u001b[0m \u001b[1;36m0\u001b[0m\u001b[1;33m\u001b[0m\u001b[1;33m\u001b[0m\u001b[0m\n\u001b[0;32m    666\u001b[0m                 \u001b[1;32mreturn\u001b[0m \u001b[1;32mNone\u001b[0m\u001b[1;33m\u001b[0m\u001b[1;33m\u001b[0m\u001b[0m\n\u001b[1;32m--> 667\u001b[1;33m             \u001b[0mstmt\u001b[0m \u001b[1;33m=\u001b[0m \u001b[0mself\u001b[0m\u001b[1;33m.\u001b[0m\u001b[0m_batch_insert\u001b[0m\u001b[1;33m(\u001b[0m\u001b[0moperation\u001b[0m\u001b[1;33m,\u001b[0m \u001b[0mseq_params\u001b[0m\u001b[1;33m)\u001b[0m\u001b[1;33m\u001b[0m\u001b[1;33m\u001b[0m\u001b[0m\n\u001b[0m\u001b[0;32m    668\u001b[0m             \u001b[1;32mif\u001b[0m \u001b[0mstmt\u001b[0m \u001b[1;32mis\u001b[0m \u001b[1;32mnot\u001b[0m \u001b[1;32mNone\u001b[0m\u001b[1;33m:\u001b[0m\u001b[1;33m\u001b[0m\u001b[1;33m\u001b[0m\u001b[0m\n\u001b[0;32m    669\u001b[0m                 \u001b[0mself\u001b[0m\u001b[1;33m.\u001b[0m\u001b[0m_executed\u001b[0m \u001b[1;33m=\u001b[0m \u001b[0mstmt\u001b[0m\u001b[1;33m\u001b[0m\u001b[1;33m\u001b[0m\u001b[0m\n",
      "\u001b[1;32mC:\\ProgramData\\Anaconda3\\lib\\site-packages\\mysql\\connector\\cursor.py\u001b[0m in \u001b[0;36m_batch_insert\u001b[1;34m(self, operation, seq_params)\u001b[0m\n\u001b[0;32m    610\u001b[0m                     \u001b[0mtmp\u001b[0m \u001b[1;33m=\u001b[0m \u001b[0mRE_PY_PARAM\u001b[0m\u001b[1;33m.\u001b[0m\u001b[0msub\u001b[0m\u001b[1;33m(\u001b[0m\u001b[0mpsub\u001b[0m\u001b[1;33m,\u001b[0m \u001b[0mtmp\u001b[0m\u001b[1;33m)\u001b[0m\u001b[1;33m\u001b[0m\u001b[1;33m\u001b[0m\u001b[0m\n\u001b[0;32m    611\u001b[0m                     \u001b[1;32mif\u001b[0m \u001b[0mpsub\u001b[0m\u001b[1;33m.\u001b[0m\u001b[0mremaining\u001b[0m \u001b[1;33m!=\u001b[0m \u001b[1;36m0\u001b[0m\u001b[1;33m:\u001b[0m\u001b[1;33m\u001b[0m\u001b[1;33m\u001b[0m\u001b[0m\n\u001b[1;32m--> 612\u001b[1;33m                         raise errors.ProgrammingError(\n\u001b[0m\u001b[0;32m    613\u001b[0m                             \"Not all parameters were used in the SQL statement\")\n\u001b[0;32m    614\u001b[0m                     \u001b[1;31m#for p in self._process_params(params):\u001b[0m\u001b[1;33m\u001b[0m\u001b[1;33m\u001b[0m\u001b[1;33m\u001b[0m\u001b[0m\n",
      "\u001b[1;31mProgrammingError\u001b[0m: Not all parameters were used in the SQL statement"
     ]
    }
   ],
   "source": [
    "# insert values\n",
    "\n",
    "sql = \"INSERT INTO books (name, price) VALUES (%s, %d)\"\n",
    "val = [\n",
    "    ('python', 250),\n",
    "    ('django', 500),\n",
    "    ('electrical', 800)\n",
    "]\n",
    "\n",
    "mycursor.executemany(sql, val)\n"
   ]
  },
  {
   "cell_type": "code",
   "execution_count": 19,
   "id": "306572cc",
   "metadata": {
    "ExecuteTime": {
     "end_time": "2021-09-29T02:18:39.233069Z",
     "start_time": "2021-09-29T02:18:39.217069Z"
    }
   },
   "outputs": [],
   "source": [
    "conn.commit()"
   ]
  },
  {
   "cell_type": "code",
   "execution_count": 20,
   "id": "cfa0cc84",
   "metadata": {
    "ExecuteTime": {
     "end_time": "2021-09-29T02:19:08.636230Z",
     "start_time": "2021-09-29T02:19:08.299443Z"
    }
   },
   "outputs": [],
   "source": [
    "mycursor.execute(\"SELECT * FROM books\")"
   ]
  },
  {
   "cell_type": "code",
   "execution_count": 21,
   "id": "b410222b",
   "metadata": {
    "ExecuteTime": {
     "end_time": "2021-09-29T02:19:16.477677Z",
     "start_time": "2021-09-29T02:19:16.461677Z"
    }
   },
   "outputs": [
    {
     "data": {
      "text/plain": [
       "[]"
      ]
     },
     "execution_count": 21,
     "metadata": {},
     "output_type": "execute_result"
    }
   ],
   "source": [
    "mycursor.fetchall()"
   ]
  },
  {
   "cell_type": "code",
   "execution_count": 1,
   "id": "ada5ff2c",
   "metadata": {
    "ExecuteTime": {
     "end_time": "2021-09-29T08:32:08.630589Z",
     "start_time": "2021-09-29T08:32:07.784044Z"
    }
   },
   "outputs": [],
   "source": [
    "import mysql.connector"
   ]
  },
  {
   "cell_type": "code",
   "execution_count": 2,
   "id": "bea4a861",
   "metadata": {
    "ExecuteTime": {
     "end_time": "2021-09-29T08:45:47.429957Z",
     "start_time": "2021-09-29T08:45:46.003598Z"
    }
   },
   "outputs": [],
   "source": [
    "# create connection\n",
    "\n",
    "conn = mysql.connector.connect(\n",
    "host = 'localhost',\n",
    "user = 'root',\n",
    "passwd = 'kalevikas@7798'\n",
    ")\n",
    "\n",
    "# create database mydatabase4\n",
    "\n",
    "mycursor = conn.cursor()\n",
    "\n",
    "mycursor.execute(\"CREATE DATABASE mydatabase4\")\n",
    "\n"
   ]
  },
  {
   "cell_type": "code",
   "execution_count": null,
   "id": "30f311d4",
   "metadata": {},
   "outputs": [],
   "source": [
    "- python needs a mysql driver to access the mysql database.\n",
    "- here we use the driver mysql connector.\n",
    "- "
   ]
  },
  {
   "cell_type": "code",
   "execution_count": 3,
   "id": "655dde0d",
   "metadata": {
    "ExecuteTime": {
     "end_time": "2021-09-29T08:46:27.022954Z",
     "start_time": "2021-09-29T08:46:26.501496Z"
    }
   },
   "outputs": [],
   "source": [
    "# show all databases in your system\n",
    "\n",
    "mycursor.execute(\"SHOW DATABASES\")"
   ]
  },
  {
   "cell_type": "code",
   "execution_count": 4,
   "id": "6a190502",
   "metadata": {
    "ExecuteTime": {
     "end_time": "2021-09-29T08:46:40.122460Z",
     "start_time": "2021-09-29T08:46:40.094458Z"
    }
   },
   "outputs": [
    {
     "data": {
      "text/plain": [
       "[('courses',),\n",
       " ('elephant',),\n",
       " ('info',),\n",
       " ('information_schema',),\n",
       " ('mobiles',),\n",
       " ('my_second_database',),\n",
       " ('mydatabase',),\n",
       " ('mydatabase3',),\n",
       " ('mydatabase4',),\n",
       " ('mysql',),\n",
       " ('peoples',),\n",
       " ('performance_schema',),\n",
       " ('sys',),\n",
       " ('test',)]"
      ]
     },
     "execution_count": 4,
     "metadata": {},
     "output_type": "execute_result"
    }
   ],
   "source": [
    "mycursor.fetchall()"
   ]
  },
  {
   "cell_type": "code",
   "execution_count": 5,
   "id": "9271a425",
   "metadata": {
    "ExecuteTime": {
     "end_time": "2021-09-29T08:49:08.923316Z",
     "start_time": "2021-09-29T08:49:08.689318Z"
    }
   },
   "outputs": [],
   "source": [
    "# connect mydatabase\n",
    "\n",
    "conn = mysql.connector.connect(\n",
    "\n",
    "host = 'localhost',\n",
    "user = 'root',\n",
    "passwd = 'kalevikas@7798',\n",
    "database = 'mydatabase4')\n"
   ]
  },
  {
   "cell_type": "code",
   "execution_count": 6,
   "id": "21863301",
   "metadata": {
    "ExecuteTime": {
     "end_time": "2021-09-29T08:56:52.268038Z",
     "start_time": "2021-09-29T08:56:49.872798Z"
    }
   },
   "outputs": [],
   "source": [
    "# create table\n",
    "\n",
    "mycursor = conn.cursor()\n",
    "mycursor.execute(\"CREATE TABLE production_details(id INT AUTO_INCREMENT PRIMARY KEY, company_name VARCHAR(255), production VARCHAR(255),per_month_production int)\")"
   ]
  },
  {
   "cell_type": "code",
   "execution_count": 7,
   "id": "e9cee54a",
   "metadata": {
    "ExecuteTime": {
     "end_time": "2021-09-29T08:57:10.575247Z",
     "start_time": "2021-09-29T08:57:10.210776Z"
    }
   },
   "outputs": [],
   "source": [
    "mycursor.execute(\"SHOW TABLES\")"
   ]
  },
  {
   "cell_type": "code",
   "execution_count": 8,
   "id": "fcc70714",
   "metadata": {
    "ExecuteTime": {
     "end_time": "2021-09-29T08:57:21.739632Z",
     "start_time": "2021-09-29T08:57:21.719632Z"
    }
   },
   "outputs": [
    {
     "data": {
      "text/plain": [
       "[('production_details',)]"
      ]
     },
     "execution_count": 8,
     "metadata": {},
     "output_type": "execute_result"
    }
   ],
   "source": [
    "mycursor.fetchall()"
   ]
  },
  {
   "cell_type": "code",
   "execution_count": 11,
   "id": "92362abc",
   "metadata": {
    "ExecuteTime": {
     "end_time": "2021-09-29T09:08:51.313498Z",
     "start_time": "2021-09-29T09:08:50.637192Z"
    }
   },
   "outputs": [
    {
     "name": "stdout",
     "output_type": "stream",
     "text": [
      "4 was inserted.\n"
     ]
    }
   ],
   "source": [
    "# insert values into table\n",
    "\n",
    "sql = \"INSERT INTO production_details (company_name, production, per_month_production) VALUES (%s, %s, %s)\"\n",
    "val = [\n",
    "    ('TATA Moters', 'cars', 15000),\n",
    "    ('BAJAJ Moters', 'two wheelers', 50000),\n",
    "    ('FORCE', 'four wheelers', 20000),\n",
    "    ('HERO moters', '2 wheelers', 80000)\n",
    "]\n",
    "\n",
    "mycursor.executemany(sql, val)\n",
    "conn.commit()\n",
    "\n",
    "print(mycursor.rowcount, 'was inserted.')"
   ]
  },
  {
   "cell_type": "code",
   "execution_count": 12,
   "id": "3238fec3",
   "metadata": {
    "ExecuteTime": {
     "end_time": "2021-09-29T09:10:56.752226Z",
     "start_time": "2021-09-29T09:10:56.725227Z"
    }
   },
   "outputs": [],
   "source": [
    "mycursor.execute(\"SELECT * FROM production_details\")"
   ]
  },
  {
   "cell_type": "code",
   "execution_count": 13,
   "id": "9431f7c2",
   "metadata": {
    "ExecuteTime": {
     "end_time": "2021-09-29T09:11:06.672925Z",
     "start_time": "2021-09-29T09:11:06.657925Z"
    }
   },
   "outputs": [
    {
     "data": {
      "text/plain": [
       "[(1, 'TATA Moters', 'cars', 15000),\n",
       " (2, 'BAJAJ Moters', 'two wheelers', 50000),\n",
       " (3, 'FORCE', 'four wheelers', 20000),\n",
       " (4, 'HERO moters', '2 wheelers', 80000)]"
      ]
     },
     "execution_count": 13,
     "metadata": {},
     "output_type": "execute_result"
    }
   ],
   "source": [
    "mycursor.fetchall()"
   ]
  },
  {
   "cell_type": "code",
   "execution_count": 14,
   "id": "488d37ed",
   "metadata": {
    "ExecuteTime": {
     "end_time": "2021-09-29T09:15:35.404017Z",
     "start_time": "2021-09-29T09:15:35.387019Z"
    }
   },
   "outputs": [
    {
     "data": {
      "text/plain": [
       "1"
      ]
     },
     "execution_count": 14,
     "metadata": {},
     "output_type": "execute_result"
    }
   ],
   "source": [
    "mycursor.lastrowid"
   ]
  },
  {
   "cell_type": "code",
   "execution_count": 15,
   "id": "06473608",
   "metadata": {
    "ExecuteTime": {
     "end_time": "2021-09-29T09:16:29.115070Z",
     "start_time": "2021-09-29T09:16:29.106072Z"
    }
   },
   "outputs": [
    {
     "data": {
      "text/plain": [
       "1"
      ]
     },
     "execution_count": 15,
     "metadata": {},
     "output_type": "execute_result"
    }
   ],
   "source": [
    "mycursor.lastrowid"
   ]
  },
  {
   "cell_type": "code",
   "execution_count": null,
   "id": "5ba2f893",
   "metadata": {},
   "outputs": [],
   "source": [
    "# fetchone"
   ]
  },
  {
   "cell_type": "code",
   "execution_count": 17,
   "id": "0cf8f44d",
   "metadata": {
    "ExecuteTime": {
     "end_time": "2021-09-29T09:17:23.241491Z",
     "start_time": "2021-09-29T09:17:23.225912Z"
    }
   },
   "outputs": [],
   "source": [
    "mycursor.fetchone()"
   ]
  },
  {
   "cell_type": "code",
   "execution_count": 18,
   "id": "f647aaa9",
   "metadata": {
    "ExecuteTime": {
     "end_time": "2021-09-29T09:17:38.669240Z",
     "start_time": "2021-09-29T09:17:38.651242Z"
    }
   },
   "outputs": [],
   "source": [
    "for i in mycursor:\n",
    "    print(i)"
   ]
  },
  {
   "cell_type": "code",
   "execution_count": 20,
   "id": "def99012",
   "metadata": {
    "ExecuteTime": {
     "end_time": "2021-09-29T09:18:35.830284Z",
     "start_time": "2021-09-29T09:18:35.810284Z"
    }
   },
   "outputs": [],
   "source": [
    "mycursor.execute(\"SELECT * FROM production_details\")"
   ]
  },
  {
   "cell_type": "code",
   "execution_count": 21,
   "id": "1ea7dee8",
   "metadata": {
    "ExecuteTime": {
     "end_time": "2021-09-29T09:18:47.016654Z",
     "start_time": "2021-09-29T09:18:46.987656Z"
    }
   },
   "outputs": [
    {
     "data": {
      "text/plain": [
       "(1, 'TATA Moters', 'cars', 15000)"
      ]
     },
     "execution_count": 21,
     "metadata": {},
     "output_type": "execute_result"
    }
   ],
   "source": [
    "mycursor.fetchone()"
   ]
  },
  {
   "cell_type": "code",
   "execution_count": 22,
   "id": "02344ec4",
   "metadata": {
    "ExecuteTime": {
     "end_time": "2021-09-29T09:18:58.422266Z",
     "start_time": "2021-09-29T09:18:58.412267Z"
    }
   },
   "outputs": [
    {
     "data": {
      "text/plain": [
       "(2, 'BAJAJ Moters', 'two wheelers', 50000)"
      ]
     },
     "execution_count": 22,
     "metadata": {},
     "output_type": "execute_result"
    }
   ],
   "source": [
    "mycursor.fetchone()"
   ]
  },
  {
   "cell_type": "code",
   "execution_count": 23,
   "id": "0bbd7bc2",
   "metadata": {
    "ExecuteTime": {
     "end_time": "2021-09-29T09:19:07.986945Z",
     "start_time": "2021-09-29T09:19:07.965944Z"
    }
   },
   "outputs": [
    {
     "data": {
      "text/plain": [
       "(3, 'FORCE', 'four wheelers', 20000)"
      ]
     },
     "execution_count": 23,
     "metadata": {},
     "output_type": "execute_result"
    }
   ],
   "source": [
    "mycursor.fetchone()"
   ]
  },
  {
   "cell_type": "code",
   "execution_count": null,
   "id": "7769f490",
   "metadata": {},
   "outputs": [],
   "source": [
    "# when selecting records from a table, you can filter the selection by using WHERE statement."
   ]
  },
  {
   "cell_type": "code",
   "execution_count": 31,
   "id": "5e8846c3",
   "metadata": {
    "ExecuteTime": {
     "end_time": "2021-09-29T09:34:27.441649Z",
     "start_time": "2021-09-29T09:34:27.417613Z"
    }
   },
   "outputs": [
    {
     "ename": "InternalError",
     "evalue": "Unread result found",
     "output_type": "error",
     "traceback": [
      "\u001b[1;31m---------------------------------------------------------------------------\u001b[0m",
      "\u001b[1;31mInternalError\u001b[0m                             Traceback (most recent call last)",
      "\u001b[1;32m<ipython-input-31-a4710a6d62e0>\u001b[0m in \u001b[0;36m<module>\u001b[1;34m\u001b[0m\n\u001b[0;32m      1\u001b[0m \u001b[0msql\u001b[0m \u001b[1;33m=\u001b[0m \u001b[1;34m\"SELECT FROM production_details WHERE per_month_production=50000\"\u001b[0m\u001b[1;33m\u001b[0m\u001b[1;33m\u001b[0m\u001b[0m\n\u001b[0;32m      2\u001b[0m \u001b[1;33m\u001b[0m\u001b[0m\n\u001b[1;32m----> 3\u001b[1;33m \u001b[0mmycursor\u001b[0m\u001b[1;33m.\u001b[0m\u001b[0mexecute\u001b[0m\u001b[1;33m(\u001b[0m\u001b[0msql\u001b[0m\u001b[1;33m)\u001b[0m\u001b[1;33m\u001b[0m\u001b[1;33m\u001b[0m\u001b[0m\n\u001b[0m\u001b[0;32m      4\u001b[0m \u001b[1;33m\u001b[0m\u001b[0m\n\u001b[0;32m      5\u001b[0m \u001b[0mmycursor\u001b[0m\u001b[1;33m.\u001b[0m\u001b[0mfetchall\u001b[0m\u001b[1;33m(\u001b[0m\u001b[1;33m)\u001b[0m\u001b[1;33m\u001b[0m\u001b[1;33m\u001b[0m\u001b[0m\n",
      "\u001b[1;32mC:\\ProgramData\\Anaconda3\\lib\\site-packages\\mysql\\connector\\cursor.py\u001b[0m in \u001b[0;36mexecute\u001b[1;34m(self, operation, params, multi)\u001b[0m\n\u001b[0;32m    536\u001b[0m             \u001b[1;32mraise\u001b[0m \u001b[0merrors\u001b[0m\u001b[1;33m.\u001b[0m\u001b[0mProgrammingError\u001b[0m\u001b[1;33m(\u001b[0m\u001b[1;34m\"Cursor is not connected\"\u001b[0m\u001b[1;33m)\u001b[0m\u001b[1;33m\u001b[0m\u001b[1;33m\u001b[0m\u001b[0m\n\u001b[0;32m    537\u001b[0m \u001b[1;33m\u001b[0m\u001b[0m\n\u001b[1;32m--> 538\u001b[1;33m         \u001b[0mself\u001b[0m\u001b[1;33m.\u001b[0m\u001b[0m_connection\u001b[0m\u001b[1;33m.\u001b[0m\u001b[0mhandle_unread_result\u001b[0m\u001b[1;33m(\u001b[0m\u001b[1;33m)\u001b[0m\u001b[1;33m\u001b[0m\u001b[1;33m\u001b[0m\u001b[0m\n\u001b[0m\u001b[0;32m    539\u001b[0m \u001b[1;33m\u001b[0m\u001b[0m\n\u001b[0;32m    540\u001b[0m         \u001b[0mself\u001b[0m\u001b[1;33m.\u001b[0m\u001b[0m_reset_result\u001b[0m\u001b[1;33m(\u001b[0m\u001b[1;33m)\u001b[0m\u001b[1;33m\u001b[0m\u001b[1;33m\u001b[0m\u001b[0m\n",
      "\u001b[1;32mC:\\ProgramData\\Anaconda3\\lib\\site-packages\\mysql\\connector\\connection.py\u001b[0m in \u001b[0;36mhandle_unread_result\u001b[1;34m(self)\u001b[0m\n\u001b[0;32m   1453\u001b[0m             \u001b[0mself\u001b[0m\u001b[1;33m.\u001b[0m\u001b[0mconsume_results\u001b[0m\u001b[1;33m(\u001b[0m\u001b[1;33m)\u001b[0m\u001b[1;33m\u001b[0m\u001b[1;33m\u001b[0m\u001b[0m\n\u001b[0;32m   1454\u001b[0m         \u001b[1;32melif\u001b[0m \u001b[0mself\u001b[0m\u001b[1;33m.\u001b[0m\u001b[0munread_result\u001b[0m\u001b[1;33m:\u001b[0m\u001b[1;33m\u001b[0m\u001b[1;33m\u001b[0m\u001b[0m\n\u001b[1;32m-> 1455\u001b[1;33m             \u001b[1;32mraise\u001b[0m \u001b[0merrors\u001b[0m\u001b[1;33m.\u001b[0m\u001b[0mInternalError\u001b[0m\u001b[1;33m(\u001b[0m\u001b[1;34m\"Unread result found\"\u001b[0m\u001b[1;33m)\u001b[0m\u001b[1;33m\u001b[0m\u001b[1;33m\u001b[0m\u001b[0m\n\u001b[0m",
      "\u001b[1;31mInternalError\u001b[0m: Unread result found"
     ]
    }
   ],
   "source": [
    "sql = \"SELECT FROM production_details WHERE per_month_production=50000\"\n",
    "\n",
    "mycursor.execute(sql)\n",
    "\n",
    "mycursor.fetchall()\n",
    "\n"
   ]
  },
  {
   "cell_type": "code",
   "execution_count": 32,
   "id": "3a0148b9",
   "metadata": {
    "ExecuteTime": {
     "end_time": "2021-09-29T09:34:43.987113Z",
     "start_time": "2021-09-29T09:34:41.664742Z"
    }
   },
   "outputs": [
    {
     "ename": "InterfaceError",
     "evalue": "2003: Can't connect to MySQL server on '%-.100s:%u' (%s) (Warning: %u format: a number is required, not str)",
     "output_type": "error",
     "traceback": [
      "\u001b[1;31m---------------------------------------------------------------------------\u001b[0m",
      "\u001b[1;31mgaierror\u001b[0m                                  Traceback (most recent call last)",
      "\u001b[1;32mC:\\ProgramData\\Anaconda3\\lib\\site-packages\\mysql\\connector\\network.py\u001b[0m in \u001b[0;36mopen_connection\u001b[1;34m(self)\u001b[0m\n\u001b[0;32m    546\u001b[0m         \u001b[1;32mtry\u001b[0m\u001b[1;33m:\u001b[0m\u001b[1;33m\u001b[0m\u001b[1;33m\u001b[0m\u001b[0m\n\u001b[1;32m--> 547\u001b[1;33m             addrinfos = socket.getaddrinfo(self.server_host,\n\u001b[0m\u001b[0;32m    548\u001b[0m                                            \u001b[0mself\u001b[0m\u001b[1;33m.\u001b[0m\u001b[0mserver_port\u001b[0m\u001b[1;33m,\u001b[0m\u001b[1;33m\u001b[0m\u001b[1;33m\u001b[0m\u001b[0m\n",
      "\u001b[1;32mC:\\ProgramData\\Anaconda3\\lib\\socket.py\u001b[0m in \u001b[0;36mgetaddrinfo\u001b[1;34m(host, port, family, type, proto, flags)\u001b[0m\n\u001b[0;32m    917\u001b[0m     \u001b[0maddrlist\u001b[0m \u001b[1;33m=\u001b[0m \u001b[1;33m[\u001b[0m\u001b[1;33m]\u001b[0m\u001b[1;33m\u001b[0m\u001b[1;33m\u001b[0m\u001b[0m\n\u001b[1;32m--> 918\u001b[1;33m     \u001b[1;32mfor\u001b[0m \u001b[0mres\u001b[0m \u001b[1;32min\u001b[0m \u001b[0m_socket\u001b[0m\u001b[1;33m.\u001b[0m\u001b[0mgetaddrinfo\u001b[0m\u001b[1;33m(\u001b[0m\u001b[0mhost\u001b[0m\u001b[1;33m,\u001b[0m \u001b[0mport\u001b[0m\u001b[1;33m,\u001b[0m \u001b[0mfamily\u001b[0m\u001b[1;33m,\u001b[0m \u001b[0mtype\u001b[0m\u001b[1;33m,\u001b[0m \u001b[0mproto\u001b[0m\u001b[1;33m,\u001b[0m \u001b[0mflags\u001b[0m\u001b[1;33m)\u001b[0m\u001b[1;33m:\u001b[0m\u001b[1;33m\u001b[0m\u001b[1;33m\u001b[0m\u001b[0m\n\u001b[0m\u001b[0;32m    919\u001b[0m         \u001b[0maf\u001b[0m\u001b[1;33m,\u001b[0m \u001b[0msocktype\u001b[0m\u001b[1;33m,\u001b[0m \u001b[0mproto\u001b[0m\u001b[1;33m,\u001b[0m \u001b[0mcanonname\u001b[0m\u001b[1;33m,\u001b[0m \u001b[0msa\u001b[0m \u001b[1;33m=\u001b[0m \u001b[0mres\u001b[0m\u001b[1;33m\u001b[0m\u001b[1;33m\u001b[0m\u001b[0m\n",
      "\u001b[1;31mgaierror\u001b[0m: [Errno 11001] getaddrinfo failed",
      "\nDuring handling of the above exception, another exception occurred:\n",
      "\u001b[1;31mInterfaceError\u001b[0m                            Traceback (most recent call last)",
      "\u001b[1;32m<ipython-input-32-7192a2bb37b1>\u001b[0m in \u001b[0;36m<module>\u001b[1;34m\u001b[0m\n\u001b[0;32m      1\u001b[0m \u001b[1;32mimport\u001b[0m \u001b[0mmysql\u001b[0m\u001b[1;33m.\u001b[0m\u001b[0mconnector\u001b[0m\u001b[1;33m\u001b[0m\u001b[1;33m\u001b[0m\u001b[0m\n\u001b[0;32m      2\u001b[0m \u001b[1;33m\u001b[0m\u001b[0m\n\u001b[1;32m----> 3\u001b[1;33m conn = mysql.connector.connect(\n\u001b[0m\u001b[0;32m      4\u001b[0m \u001b[1;33m\u001b[0m\u001b[0m\n\u001b[0;32m      5\u001b[0m \u001b[0mhost\u001b[0m \u001b[1;33m=\u001b[0m \u001b[1;34m'loacalhost'\u001b[0m\u001b[1;33m,\u001b[0m\u001b[1;33m\u001b[0m\u001b[1;33m\u001b[0m\u001b[0m\n",
      "\u001b[1;32mC:\\ProgramData\\Anaconda3\\lib\\site-packages\\mysql\\connector\\__init__.py\u001b[0m in \u001b[0;36mconnect\u001b[1;34m(*args, **kwargs)\u001b[0m\n\u001b[0;32m    271\u001b[0m     \u001b[1;32mif\u001b[0m \u001b[0mHAVE_CEXT\u001b[0m \u001b[1;32mand\u001b[0m \u001b[1;32mnot\u001b[0m \u001b[0muse_pure\u001b[0m\u001b[1;33m:\u001b[0m\u001b[1;33m\u001b[0m\u001b[1;33m\u001b[0m\u001b[0m\n\u001b[0;32m    272\u001b[0m         \u001b[1;32mreturn\u001b[0m \u001b[0mCMySQLConnection\u001b[0m\u001b[1;33m(\u001b[0m\u001b[1;33m*\u001b[0m\u001b[0margs\u001b[0m\u001b[1;33m,\u001b[0m \u001b[1;33m**\u001b[0m\u001b[0mkwargs\u001b[0m\u001b[1;33m)\u001b[0m\u001b[1;33m\u001b[0m\u001b[1;33m\u001b[0m\u001b[0m\n\u001b[1;32m--> 273\u001b[1;33m     \u001b[1;32mreturn\u001b[0m \u001b[0mMySQLConnection\u001b[0m\u001b[1;33m(\u001b[0m\u001b[1;33m*\u001b[0m\u001b[0margs\u001b[0m\u001b[1;33m,\u001b[0m \u001b[1;33m**\u001b[0m\u001b[0mkwargs\u001b[0m\u001b[1;33m)\u001b[0m\u001b[1;33m\u001b[0m\u001b[1;33m\u001b[0m\u001b[0m\n\u001b[0m\u001b[0;32m    274\u001b[0m \u001b[0mConnect\u001b[0m \u001b[1;33m=\u001b[0m \u001b[0mconnect\u001b[0m  \u001b[1;31m# pylint: disable=C0103\u001b[0m\u001b[1;33m\u001b[0m\u001b[1;33m\u001b[0m\u001b[0m\n\u001b[0;32m    275\u001b[0m \u001b[1;33m\u001b[0m\u001b[0m\n",
      "\u001b[1;32mC:\\ProgramData\\Anaconda3\\lib\\site-packages\\mysql\\connector\\connection.py\u001b[0m in \u001b[0;36m__init__\u001b[1;34m(self, *args, **kwargs)\u001b[0m\n\u001b[0;32m    112\u001b[0m         \u001b[1;32mif\u001b[0m \u001b[0mkwargs\u001b[0m\u001b[1;33m:\u001b[0m\u001b[1;33m\u001b[0m\u001b[1;33m\u001b[0m\u001b[0m\n\u001b[0;32m    113\u001b[0m             \u001b[1;32mtry\u001b[0m\u001b[1;33m:\u001b[0m\u001b[1;33m\u001b[0m\u001b[1;33m\u001b[0m\u001b[0m\n\u001b[1;32m--> 114\u001b[1;33m                 \u001b[0mself\u001b[0m\u001b[1;33m.\u001b[0m\u001b[0mconnect\u001b[0m\u001b[1;33m(\u001b[0m\u001b[1;33m**\u001b[0m\u001b[0mkwargs\u001b[0m\u001b[1;33m)\u001b[0m\u001b[1;33m\u001b[0m\u001b[1;33m\u001b[0m\u001b[0m\n\u001b[0m\u001b[0;32m    115\u001b[0m             \u001b[1;32mexcept\u001b[0m\u001b[1;33m:\u001b[0m\u001b[1;33m\u001b[0m\u001b[1;33m\u001b[0m\u001b[0m\n\u001b[0;32m    116\u001b[0m                 \u001b[1;31m# Tidy-up underlying socket on failure\u001b[0m\u001b[1;33m\u001b[0m\u001b[1;33m\u001b[0m\u001b[1;33m\u001b[0m\u001b[0m\n",
      "\u001b[1;32mC:\\ProgramData\\Anaconda3\\lib\\site-packages\\mysql\\connector\\abstracts.py\u001b[0m in \u001b[0;36mconnect\u001b[1;34m(self, **kwargs)\u001b[0m\n\u001b[0;32m   1007\u001b[0m \u001b[1;33m\u001b[0m\u001b[0m\n\u001b[0;32m   1008\u001b[0m         \u001b[0mself\u001b[0m\u001b[1;33m.\u001b[0m\u001b[0mdisconnect\u001b[0m\u001b[1;33m(\u001b[0m\u001b[1;33m)\u001b[0m\u001b[1;33m\u001b[0m\u001b[1;33m\u001b[0m\u001b[0m\n\u001b[1;32m-> 1009\u001b[1;33m         \u001b[0mself\u001b[0m\u001b[1;33m.\u001b[0m\u001b[0m_open_connection\u001b[0m\u001b[1;33m(\u001b[0m\u001b[1;33m)\u001b[0m\u001b[1;33m\u001b[0m\u001b[1;33m\u001b[0m\u001b[0m\n\u001b[0m\u001b[0;32m   1010\u001b[0m         \u001b[1;31m# Server does not allow to run any other statement different from ALTER\u001b[0m\u001b[1;33m\u001b[0m\u001b[1;33m\u001b[0m\u001b[1;33m\u001b[0m\u001b[0m\n\u001b[0;32m   1011\u001b[0m         \u001b[1;31m# when user's password has been expired.\u001b[0m\u001b[1;33m\u001b[0m\u001b[1;33m\u001b[0m\u001b[1;33m\u001b[0m\u001b[0m\n",
      "\u001b[1;32mC:\\ProgramData\\Anaconda3\\lib\\site-packages\\mysql\\connector\\connection.py\u001b[0m in \u001b[0;36m_open_connection\u001b[1;34m(self)\u001b[0m\n\u001b[0;32m    416\u001b[0m         \u001b[0mself\u001b[0m\u001b[1;33m.\u001b[0m\u001b[0m_socket\u001b[0m \u001b[1;33m=\u001b[0m \u001b[0mself\u001b[0m\u001b[1;33m.\u001b[0m\u001b[0m_get_connection\u001b[0m\u001b[1;33m(\u001b[0m\u001b[1;33m)\u001b[0m\u001b[1;33m\u001b[0m\u001b[1;33m\u001b[0m\u001b[0m\n\u001b[0;32m    417\u001b[0m         \u001b[1;32mtry\u001b[0m\u001b[1;33m:\u001b[0m\u001b[1;33m\u001b[0m\u001b[1;33m\u001b[0m\u001b[0m\n\u001b[1;32m--> 418\u001b[1;33m             \u001b[0mself\u001b[0m\u001b[1;33m.\u001b[0m\u001b[0m_socket\u001b[0m\u001b[1;33m.\u001b[0m\u001b[0mopen_connection\u001b[0m\u001b[1;33m(\u001b[0m\u001b[1;33m)\u001b[0m\u001b[1;33m\u001b[0m\u001b[1;33m\u001b[0m\u001b[0m\n\u001b[0m\u001b[0;32m    419\u001b[0m             \u001b[0mself\u001b[0m\u001b[1;33m.\u001b[0m\u001b[0m_do_handshake\u001b[0m\u001b[1;33m(\u001b[0m\u001b[1;33m)\u001b[0m\u001b[1;33m\u001b[0m\u001b[1;33m\u001b[0m\u001b[0m\n\u001b[0;32m    420\u001b[0m             self._do_auth(self._user, self._password,\n",
      "\u001b[1;32mC:\\ProgramData\\Anaconda3\\lib\\site-packages\\mysql\\connector\\network.py\u001b[0m in \u001b[0;36mopen_connection\u001b[1;34m(self)\u001b[0m\n\u001b[0;32m    563\u001b[0m                 \u001b[0maddrinfo\u001b[0m \u001b[1;33m=\u001b[0m \u001b[0maddrinfos\u001b[0m\u001b[1;33m[\u001b[0m\u001b[1;36m0\u001b[0m\u001b[1;33m]\u001b[0m\u001b[1;33m\u001b[0m\u001b[1;33m\u001b[0m\u001b[0m\n\u001b[0;32m    564\u001b[0m         \u001b[1;32mexcept\u001b[0m \u001b[0mIOError\u001b[0m \u001b[1;32mas\u001b[0m \u001b[0merr\u001b[0m\u001b[1;33m:\u001b[0m\u001b[1;33m\u001b[0m\u001b[1;33m\u001b[0m\u001b[0m\n\u001b[1;32m--> 565\u001b[1;33m             raise errors.InterfaceError(\n\u001b[0m\u001b[0;32m    566\u001b[0m                 errno=2003, values=(self.get_address(), _strioerror(err)))\n\u001b[0;32m    567\u001b[0m         \u001b[1;32melse\u001b[0m\u001b[1;33m:\u001b[0m\u001b[1;33m\u001b[0m\u001b[1;33m\u001b[0m\u001b[0m\n",
      "\u001b[1;31mInterfaceError\u001b[0m: 2003: Can't connect to MySQL server on '%-.100s:%u' (%s) (Warning: %u format: a number is required, not str)"
     ]
    }
   ],
   "source": [
    "import mysql.connector\n",
    "\n",
    "conn = mysql.connector.connect(\n",
    "    \n",
    "host = 'loacalhost',\n",
    "user = 'root',\n",
    "passwd = 'kalevikas@7798',\n",
    "database = 'mydatabase4'\n",
    ")\n",
    "\n",
    "mycursor = conn.cursor()\n",
    "\n",
    "RESULT = mycursor.execute(\"SHOW TABLES\")\n",
    "\n",
    "for i in RESULT:\n",
    "    print(i)"
   ]
  },
  {
   "cell_type": "code",
   "execution_count": 33,
   "id": "4fd407b1",
   "metadata": {
    "ExecuteTime": {
     "end_time": "2021-09-29T09:35:42.798379Z",
     "start_time": "2021-09-29T09:35:42.758382Z"
    }
   },
   "outputs": [
    {
     "ename": "InternalError",
     "evalue": "Unread result found",
     "output_type": "error",
     "traceback": [
      "\u001b[1;31m---------------------------------------------------------------------------\u001b[0m",
      "\u001b[1;31mInternalError\u001b[0m                             Traceback (most recent call last)",
      "\u001b[1;32m<ipython-input-33-d127cdbc1b9b>\u001b[0m in \u001b[0;36m<module>\u001b[1;34m\u001b[0m\n\u001b[1;32m----> 1\u001b[1;33m \u001b[0mmycursor\u001b[0m\u001b[1;33m.\u001b[0m\u001b[0mexecute\u001b[0m\u001b[1;33m(\u001b[0m\u001b[1;34m\"SELECT * FROM production_details\"\u001b[0m\u001b[1;33m)\u001b[0m\u001b[1;33m\u001b[0m\u001b[1;33m\u001b[0m\u001b[0m\n\u001b[0m",
      "\u001b[1;32mC:\\ProgramData\\Anaconda3\\lib\\site-packages\\mysql\\connector\\cursor.py\u001b[0m in \u001b[0;36mexecute\u001b[1;34m(self, operation, params, multi)\u001b[0m\n\u001b[0;32m    536\u001b[0m             \u001b[1;32mraise\u001b[0m \u001b[0merrors\u001b[0m\u001b[1;33m.\u001b[0m\u001b[0mProgrammingError\u001b[0m\u001b[1;33m(\u001b[0m\u001b[1;34m\"Cursor is not connected\"\u001b[0m\u001b[1;33m)\u001b[0m\u001b[1;33m\u001b[0m\u001b[1;33m\u001b[0m\u001b[0m\n\u001b[0;32m    537\u001b[0m \u001b[1;33m\u001b[0m\u001b[0m\n\u001b[1;32m--> 538\u001b[1;33m         \u001b[0mself\u001b[0m\u001b[1;33m.\u001b[0m\u001b[0m_connection\u001b[0m\u001b[1;33m.\u001b[0m\u001b[0mhandle_unread_result\u001b[0m\u001b[1;33m(\u001b[0m\u001b[1;33m)\u001b[0m\u001b[1;33m\u001b[0m\u001b[1;33m\u001b[0m\u001b[0m\n\u001b[0m\u001b[0;32m    539\u001b[0m \u001b[1;33m\u001b[0m\u001b[0m\n\u001b[0;32m    540\u001b[0m         \u001b[0mself\u001b[0m\u001b[1;33m.\u001b[0m\u001b[0m_reset_result\u001b[0m\u001b[1;33m(\u001b[0m\u001b[1;33m)\u001b[0m\u001b[1;33m\u001b[0m\u001b[1;33m\u001b[0m\u001b[0m\n",
      "\u001b[1;32mC:\\ProgramData\\Anaconda3\\lib\\site-packages\\mysql\\connector\\connection.py\u001b[0m in \u001b[0;36mhandle_unread_result\u001b[1;34m(self)\u001b[0m\n\u001b[0;32m   1453\u001b[0m             \u001b[0mself\u001b[0m\u001b[1;33m.\u001b[0m\u001b[0mconsume_results\u001b[0m\u001b[1;33m(\u001b[0m\u001b[1;33m)\u001b[0m\u001b[1;33m\u001b[0m\u001b[1;33m\u001b[0m\u001b[0m\n\u001b[0;32m   1454\u001b[0m         \u001b[1;32melif\u001b[0m \u001b[0mself\u001b[0m\u001b[1;33m.\u001b[0m\u001b[0munread_result\u001b[0m\u001b[1;33m:\u001b[0m\u001b[1;33m\u001b[0m\u001b[1;33m\u001b[0m\u001b[0m\n\u001b[1;32m-> 1455\u001b[1;33m             \u001b[1;32mraise\u001b[0m \u001b[0merrors\u001b[0m\u001b[1;33m.\u001b[0m\u001b[0mInternalError\u001b[0m\u001b[1;33m(\u001b[0m\u001b[1;34m\"Unread result found\"\u001b[0m\u001b[1;33m)\u001b[0m\u001b[1;33m\u001b[0m\u001b[1;33m\u001b[0m\u001b[0m\n\u001b[0m",
      "\u001b[1;31mInternalError\u001b[0m: Unread result found"
     ]
    }
   ],
   "source": [
    "mycursor.execute(\"SELECT * FROM production_details\")"
   ]
  },
  {
   "cell_type": "code",
   "execution_count": 1,
   "id": "4cd058b2",
   "metadata": {
    "ExecuteTime": {
     "end_time": "2021-09-29T11:18:43.230082Z",
     "start_time": "2021-09-29T11:18:41.599092Z"
    }
   },
   "outputs": [],
   "source": [
    "import mysql.connector\n",
    "\n",
    "conn = mysql.connector.connect(\n",
    "\n",
    "host = 'localhost',\n",
    "user = 'root',\n",
    "passwd = 'kalevikas@7798',\n",
    "database = 'mydatabase4')\n",
    "\n",
    "mycursor = conn.cursor()\n",
    "\n",
    "mycursor.execute(\"SELECT * FROM production_details where per_month_production=50000\")"
   ]
  },
  {
   "cell_type": "code",
   "execution_count": 2,
   "id": "93183649",
   "metadata": {
    "ExecuteTime": {
     "end_time": "2021-09-29T09:39:28.055251Z",
     "start_time": "2021-09-29T09:39:28.031247Z"
    }
   },
   "outputs": [
    {
     "name": "stdout",
     "output_type": "stream",
     "text": [
      "(2, 'BAJAJ Moters', 'two wheelers', 50000)\n"
     ]
    }
   ],
   "source": [
    "myresult = mycursor.fetchall()\n",
    "\n",
    "for i in myresult:\n",
    "    print(i)"
   ]
  },
  {
   "cell_type": "code",
   "execution_count": 3,
   "id": "0f988411",
   "metadata": {
    "ExecuteTime": {
     "end_time": "2021-09-29T09:41:06.324154Z",
     "start_time": "2021-09-29T09:41:06.060151Z"
    }
   },
   "outputs": [],
   "source": [
    "mycursor.execute(\"select * from production_details where id > 3\")"
   ]
  },
  {
   "cell_type": "code",
   "execution_count": 4,
   "id": "47888dcb",
   "metadata": {
    "ExecuteTime": {
     "end_time": "2021-09-29T09:41:13.727346Z",
     "start_time": "2021-09-29T09:41:13.703349Z"
    }
   },
   "outputs": [
    {
     "data": {
      "text/plain": [
       "[(4, 'HERO moters', '2 wheelers', 80000)]"
      ]
     },
     "execution_count": 4,
     "metadata": {},
     "output_type": "execute_result"
    }
   ],
   "source": [
    "mycursor.fetchall()"
   ]
  },
  {
   "cell_type": "code",
   "execution_count": 9,
   "id": "1e8a88f7",
   "metadata": {
    "ExecuteTime": {
     "end_time": "2021-09-29T09:43:19.312972Z",
     "start_time": "2021-09-29T09:43:19.296933Z"
    }
   },
   "outputs": [],
   "source": [
    "mycursor.execute(\"select * from production_details where id>2\")"
   ]
  },
  {
   "cell_type": "code",
   "execution_count": 10,
   "id": "f42ed21e",
   "metadata": {
    "ExecuteTime": {
     "end_time": "2021-09-29T09:43:20.215217Z",
     "start_time": "2021-09-29T09:43:20.207218Z"
    }
   },
   "outputs": [],
   "source": [
    "result = mycursor.fetchall()"
   ]
  },
  {
   "cell_type": "code",
   "execution_count": 11,
   "id": "3673aa73",
   "metadata": {
    "ExecuteTime": {
     "end_time": "2021-09-29T09:43:20.857693Z",
     "start_time": "2021-09-29T09:43:20.849695Z"
    }
   },
   "outputs": [
    {
     "name": "stdout",
     "output_type": "stream",
     "text": [
      "(3, 'FORCE', 'four wheelers', 20000)\n",
      "(4, 'HERO moters', '2 wheelers', 80000)\n"
     ]
    }
   ],
   "source": [
    "for i in result:\n",
    "    print(i)\n",
    "    "
   ]
  },
  {
   "cell_type": "code",
   "execution_count": null,
   "id": "0284e417",
   "metadata": {},
   "outputs": [],
   "source": [
    "# wildcard character"
   ]
  },
  {
   "cell_type": "raw",
   "id": "12bf3a7d",
   "metadata": {},
   "source": [
    "Wildcard Characters\n",
    "You can also select the records that starts, includes, or ends with a given letter or phrase.\n",
    "\n",
    "Use the %  to represent wildcard characters"
   ]
  },
  {
   "cell_type": "code",
   "execution_count": 2,
   "id": "649f54a2",
   "metadata": {
    "ExecuteTime": {
     "end_time": "2021-09-29T11:18:52.070145Z",
     "start_time": "2021-09-29T11:18:51.731578Z"
    }
   },
   "outputs": [
    {
     "ename": "InternalError",
     "evalue": "Unread result found",
     "output_type": "error",
     "traceback": [
      "\u001b[1;31m---------------------------------------------------------------------------\u001b[0m",
      "\u001b[1;31mInternalError\u001b[0m                             Traceback (most recent call last)",
      "\u001b[1;32m<ipython-input-2-ab8891a0fb83>\u001b[0m in \u001b[0;36m<module>\u001b[1;34m\u001b[0m\n\u001b[0;32m      2\u001b[0m \u001b[0mcmpy\u001b[0m \u001b[1;33m=\u001b[0m \u001b[1;33m(\u001b[0m\u001b[1;34m'HERO moters'\u001b[0m\u001b[1;33m,\u001b[0m\u001b[1;33m)\u001b[0m\u001b[1;33m\u001b[0m\u001b[1;33m\u001b[0m\u001b[0m\n\u001b[0;32m      3\u001b[0m \u001b[1;33m\u001b[0m\u001b[0m\n\u001b[1;32m----> 4\u001b[1;33m \u001b[0mmycursor\u001b[0m\u001b[1;33m.\u001b[0m\u001b[0mexecutemany\u001b[0m\u001b[1;33m(\u001b[0m\u001b[0msql\u001b[0m\u001b[1;33m,\u001b[0m \u001b[0mcmpy\u001b[0m\u001b[1;33m)\u001b[0m\u001b[1;33m\u001b[0m\u001b[1;33m\u001b[0m\u001b[0m\n\u001b[0m",
      "\u001b[1;32mC:\\ProgramData\\Anaconda3\\lib\\site-packages\\mysql\\connector\\cursor.py\u001b[0m in \u001b[0;36mexecutemany\u001b[1;34m(self, operation, seq_params)\u001b[0m\n\u001b[0;32m    652\u001b[0m         \u001b[1;32mif\u001b[0m \u001b[1;32mnot\u001b[0m \u001b[0moperation\u001b[0m \u001b[1;32mor\u001b[0m \u001b[1;32mnot\u001b[0m \u001b[0mseq_params\u001b[0m\u001b[1;33m:\u001b[0m\u001b[1;33m\u001b[0m\u001b[1;33m\u001b[0m\u001b[0m\n\u001b[0;32m    653\u001b[0m             \u001b[1;32mreturn\u001b[0m \u001b[1;32mNone\u001b[0m\u001b[1;33m\u001b[0m\u001b[1;33m\u001b[0m\u001b[0m\n\u001b[1;32m--> 654\u001b[1;33m         \u001b[0mself\u001b[0m\u001b[1;33m.\u001b[0m\u001b[0m_connection\u001b[0m\u001b[1;33m.\u001b[0m\u001b[0mhandle_unread_result\u001b[0m\u001b[1;33m(\u001b[0m\u001b[1;33m)\u001b[0m\u001b[1;33m\u001b[0m\u001b[1;33m\u001b[0m\u001b[0m\n\u001b[0m\u001b[0;32m    655\u001b[0m \u001b[1;33m\u001b[0m\u001b[0m\n\u001b[0;32m    656\u001b[0m         \u001b[1;32mtry\u001b[0m\u001b[1;33m:\u001b[0m\u001b[1;33m\u001b[0m\u001b[1;33m\u001b[0m\u001b[0m\n",
      "\u001b[1;32mC:\\ProgramData\\Anaconda3\\lib\\site-packages\\mysql\\connector\\connection.py\u001b[0m in \u001b[0;36mhandle_unread_result\u001b[1;34m(self)\u001b[0m\n\u001b[0;32m   1453\u001b[0m             \u001b[0mself\u001b[0m\u001b[1;33m.\u001b[0m\u001b[0mconsume_results\u001b[0m\u001b[1;33m(\u001b[0m\u001b[1;33m)\u001b[0m\u001b[1;33m\u001b[0m\u001b[1;33m\u001b[0m\u001b[0m\n\u001b[0;32m   1454\u001b[0m         \u001b[1;32melif\u001b[0m \u001b[0mself\u001b[0m\u001b[1;33m.\u001b[0m\u001b[0munread_result\u001b[0m\u001b[1;33m:\u001b[0m\u001b[1;33m\u001b[0m\u001b[1;33m\u001b[0m\u001b[0m\n\u001b[1;32m-> 1455\u001b[1;33m             \u001b[1;32mraise\u001b[0m \u001b[0merrors\u001b[0m\u001b[1;33m.\u001b[0m\u001b[0mInternalError\u001b[0m\u001b[1;33m(\u001b[0m\u001b[1;34m\"Unread result found\"\u001b[0m\u001b[1;33m)\u001b[0m\u001b[1;33m\u001b[0m\u001b[1;33m\u001b[0m\u001b[0m\n\u001b[0m",
      "\u001b[1;31mInternalError\u001b[0m: Unread result found"
     ]
    }
   ],
   "source": [
    "sql = \"select * from production_details where company = % s\"\n",
    "cmpy = ('HERO moters',)\n",
    "\n",
    "mycursor.executemany(sql, cmpy)"
   ]
  },
  {
   "cell_type": "code",
   "execution_count": 3,
   "id": "cece5d33",
   "metadata": {
    "ExecuteTime": {
     "end_time": "2021-09-29T11:21:48.461061Z",
     "start_time": "2021-09-29T11:21:48.035446Z"
    }
   },
   "outputs": [],
   "source": [
    "conn = mysql.connector.connect(\n",
    "host = 'localhost',\n",
    "user = 'root',\n",
    "passwd = 'kalevikas@7798',\n",
    "database = 'mydatabase')\n",
    "\n",
    "mycursor = conn.cursor()\n"
   ]
  },
  {
   "cell_type": "code",
   "execution_count": 4,
   "id": "59e0a6d6",
   "metadata": {
    "ExecuteTime": {
     "end_time": "2021-09-29T11:22:19.140676Z",
     "start_time": "2021-09-29T11:22:18.696590Z"
    }
   },
   "outputs": [],
   "source": [
    "mycursor.execute(\"show tables\")"
   ]
  },
  {
   "cell_type": "code",
   "execution_count": 5,
   "id": "f0ac16dd",
   "metadata": {
    "ExecuteTime": {
     "end_time": "2021-09-29T11:22:28.654331Z",
     "start_time": "2021-09-29T11:22:28.630334Z"
    }
   },
   "outputs": [
    {
     "data": {
      "text/plain": [
       "[('customers',), ('customers1',)]"
      ]
     },
     "execution_count": 5,
     "metadata": {},
     "output_type": "execute_result"
    }
   ],
   "source": [
    "mycursor.fetchall()"
   ]
  },
  {
   "cell_type": "code",
   "execution_count": 6,
   "id": "43b44702",
   "metadata": {
    "ExecuteTime": {
     "end_time": "2021-09-29T11:22:50.501360Z",
     "start_time": "2021-09-29T11:22:50.485357Z"
    }
   },
   "outputs": [],
   "source": [
    "mycursor.execute(\"select * from customers1\")"
   ]
  },
  {
   "cell_type": "code",
   "execution_count": 7,
   "id": "a20ce2aa",
   "metadata": {
    "ExecuteTime": {
     "end_time": "2021-09-29T11:23:01.077020Z",
     "start_time": "2021-09-29T11:23:01.053019Z"
    }
   },
   "outputs": [
    {
     "data": {
      "text/plain": [
       "[(1, 'Vikas', 'Shivaji_Nagar, Pune'),\n",
       " (2, 'Ram', 'Swargate, Pune'),\n",
       " (3, 'Ganesh', 'Hinjawadi, Pune'),\n",
       " (4, 'Vishnu', 'Khadaki, Pune'),\n",
       " (5, 'Mahesh', 'Hadpsar, Pune'),\n",
       " (6, 'Vitthal', 'Kondhwa, Pune'),\n",
       " (7, 'Samarth', 'Chinchwad, Pune'),\n",
       " (8, 'Pandurang', 'Pimpri, Pune'),\n",
       " (9, 'Maruti', 'Katraj, Pune'),\n",
       " (10, 'Rukmini', 'Aundh, Pune'),\n",
       " (11, 'Lakshaman', 'Pune_station, Pune'),\n",
       " (12, 'Seeta', 'Chakan, Pune'),\n",
       " (13, 'Parvati', 'Nigadi, Pune'),\n",
       " (14, 'Mahadev', 'Bhosari, Pune')]"
      ]
     },
     "execution_count": 7,
     "metadata": {},
     "output_type": "execute_result"
    }
   ],
   "source": [
    "mycursor.fetchall()"
   ]
  },
  {
   "cell_type": "code",
   "execution_count": 12,
   "id": "4c7c845b",
   "metadata": {
    "ExecuteTime": {
     "end_time": "2021-09-29T11:27:21.545979Z",
     "start_time": "2021-09-29T11:27:21.251024Z"
    }
   },
   "outputs": [],
   "source": [
    "sql = \"SELECT * FROM customers WHERE address = %s\"\n",
    "adr = ('Katraj, Pune', )\n",
    "\n",
    "mycursor.execute(sql, adr)"
   ]
  },
  {
   "cell_type": "code",
   "execution_count": 13,
   "id": "d8918214",
   "metadata": {
    "ExecuteTime": {
     "end_time": "2021-09-29T11:27:41.105502Z",
     "start_time": "2021-09-29T11:27:41.073503Z"
    }
   },
   "outputs": [
    {
     "data": {
      "text/plain": [
       "[('Maruti', 'Katraj, Pune', 23)]"
      ]
     },
     "execution_count": 13,
     "metadata": {},
     "output_type": "execute_result"
    }
   ],
   "source": [
    "mycursor.fetchall()"
   ]
  },
  {
   "cell_type": "markdown",
   "id": "3b51d44c",
   "metadata": {},
   "source": [
    "# 1.create"
   ]
  },
  {
   "cell_type": "code",
   "execution_count": 1,
   "id": "a9d1bd38",
   "metadata": {
    "ExecuteTime": {
     "end_time": "2021-09-30T03:43:19.769573Z",
     "start_time": "2021-09-30T03:43:18.222226Z"
    }
   },
   "outputs": [],
   "source": [
    "import mysql.connector\n",
    "\n",
    "mydb = mysql.connector.connect(\n",
    "\n",
    "host = 'localhost',\n",
    "user = 'root',\n",
    "passwd = 'kalevikas@7798',\n",
    "\n",
    ")\n",
    "\n",
    "mycursor = mydb.cursor()\n"
   ]
  },
  {
   "cell_type": "code",
   "execution_count": 2,
   "id": "4ea3136e",
   "metadata": {
    "ExecuteTime": {
     "end_time": "2021-09-30T03:44:58.190914Z",
     "start_time": "2021-09-30T03:44:56.808846Z"
    }
   },
   "outputs": [],
   "source": [
    "# create database mydatabase5\n",
    "\n",
    "import mysql.connector\n",
    "\n",
    "mydb = mysql.connector.connect(\n",
    "\n",
    "host = 'localhost',\n",
    "user = 'root',\n",
    "passwd = 'kalevikas@7798',\n",
    "\n",
    ")\n",
    "\n",
    "mycursor = mydb.cursor()\n",
    "\n",
    "mycursor.execute(\"create database mydatabase5\")\n",
    "\n"
   ]
  },
  {
   "cell_type": "markdown",
   "id": "e6ad3d47",
   "metadata": {},
   "source": [
    "# show databases"
   ]
  },
  {
   "cell_type": "code",
   "execution_count": 3,
   "id": "80298c17",
   "metadata": {
    "ExecuteTime": {
     "end_time": "2021-09-30T03:45:23.589569Z",
     "start_time": "2021-09-30T03:45:23.205853Z"
    }
   },
   "outputs": [],
   "source": [
    "mycursor.execute(\"show databases\")"
   ]
  },
  {
   "cell_type": "code",
   "execution_count": 4,
   "id": "673ff533",
   "metadata": {
    "ExecuteTime": {
     "end_time": "2021-09-30T03:45:37.396806Z",
     "start_time": "2021-09-30T03:45:37.324836Z"
    }
   },
   "outputs": [
    {
     "name": "stdout",
     "output_type": "stream",
     "text": [
      "('courses',)\n",
      "('elephant',)\n",
      "('info',)\n",
      "('information_schema',)\n",
      "('mobiles',)\n",
      "('my_second_database',)\n",
      "('mydatabase',)\n",
      "('mydatabase3',)\n",
      "('mydatabase4',)\n",
      "('mydatabase5',)\n",
      "('mysql',)\n",
      "('peoples',)\n",
      "('performance_schema',)\n",
      "('sys',)\n",
      "('test',)\n"
     ]
    }
   ],
   "source": [
    "for db in mycursor:\n",
    "    print(db)"
   ]
  },
  {
   "cell_type": "markdown",
   "id": "31543376",
   "metadata": {},
   "source": [
    "# crud operation\n",
    "- create \n",
    "- read\n",
    "- update\n",
    "- delete"
   ]
  },
  {
   "cell_type": "markdown",
   "id": "625305b4",
   "metadata": {},
   "source": [
    "# create table"
   ]
  },
  {
   "cell_type": "code",
   "execution_count": 6,
   "id": "b1bdcd1f",
   "metadata": {
    "ExecuteTime": {
     "end_time": "2021-09-30T03:48:56.270948Z",
     "start_time": "2021-09-30T03:48:55.722760Z"
    }
   },
   "outputs": [],
   "source": [
    "import mysql.connector\n",
    "\n",
    "mydb = mysql.connector.connect(\n",
    "\n",
    "host = 'localhost',\n",
    "user = 'root',\n",
    "passwd = 'kalevikas@7798',\n",
    "database = 'mydatabase5'\n",
    ")\n",
    "\n",
    "mycursor = mydb.cursor()"
   ]
  },
  {
   "cell_type": "code",
   "execution_count": 7,
   "id": "ebb0023b",
   "metadata": {
    "ExecuteTime": {
     "end_time": "2021-09-30T03:49:00.755583Z",
     "start_time": "2021-09-30T03:48:56.711934Z"
    }
   },
   "outputs": [],
   "source": [
    "mycursor.execute(\"create table fruits(id INT AUTO_INCREMENT PRIMARY KEY, name varchar(255), price int)\")"
   ]
  },
  {
   "cell_type": "markdown",
   "id": "d763090b",
   "metadata": {},
   "source": [
    "# show table"
   ]
  },
  {
   "cell_type": "code",
   "execution_count": 8,
   "id": "accad8d1",
   "metadata": {
    "ExecuteTime": {
     "end_time": "2021-09-30T03:49:30.288165Z",
     "start_time": "2021-09-30T03:49:30.056168Z"
    }
   },
   "outputs": [],
   "source": [
    "mycursor.execute(\"show tables\")"
   ]
  },
  {
   "cell_type": "code",
   "execution_count": 9,
   "id": "6c623bcc",
   "metadata": {
    "ExecuteTime": {
     "end_time": "2021-09-30T03:49:45.575601Z",
     "start_time": "2021-09-30T03:49:45.559605Z"
    }
   },
   "outputs": [
    {
     "name": "stdout",
     "output_type": "stream",
     "text": [
      "('fruits',)\n"
     ]
    }
   ],
   "source": [
    "for tbl in mycursor:\n",
    "    print(tbl)"
   ]
  },
  {
   "cell_type": "markdown",
   "id": "19dba4ae",
   "metadata": {},
   "source": [
    "# insert values"
   ]
  },
  {
   "cell_type": "code",
   "execution_count": 16,
   "id": "e4a12cab",
   "metadata": {
    "ExecuteTime": {
     "end_time": "2021-09-30T04:00:42.550074Z",
     "start_time": "2021-09-30T04:00:42.049237Z"
    }
   },
   "outputs": [],
   "source": [
    "sql = \"insert into fruits (name, price) values (%s, %s)\"\n",
    "val = [\n",
    "    ('Mango', 250),\n",
    "    ('Apple', 80),\n",
    "    ('Gauva', 100),\n",
    "    ('Kiwi', 55),\n",
    "    ('Banana', 120),\n",
    "    ('Custard Apple', 140),\n",
    "    ('Pineapple', 420),\n",
    "    ('Sweet potatoes', 140)\n",
    "]\n",
    "\n",
    "mycursor.executemany(sql, val)\n",
    "\n",
    "mydb.commit()\n",
    "\n",
    "mycursor = mydb.cursor()"
   ]
  },
  {
   "cell_type": "markdown",
   "id": "1bb505ee",
   "metadata": {},
   "source": [
    "# read"
   ]
  },
  {
   "cell_type": "code",
   "execution_count": 17,
   "id": "6d139bc9",
   "metadata": {
    "ExecuteTime": {
     "end_time": "2021-09-30T04:00:47.991508Z",
     "start_time": "2021-09-30T04:00:47.647746Z"
    }
   },
   "outputs": [],
   "source": [
    "import mysql.connector\n",
    "\n",
    "mydb = mysql.connector.connect(\n",
    "\n",
    "host = 'localhost',\n",
    "user = 'root',\n",
    "passwd = 'kalevikas@7798',\n",
    "database = 'mydatabase5'\n",
    ")\n",
    "\n",
    "mycursor = mydb.cursor()\n"
   ]
  },
  {
   "cell_type": "code",
   "execution_count": 18,
   "id": "13e53187",
   "metadata": {
    "ExecuteTime": {
     "end_time": "2021-09-30T04:00:50.749922Z",
     "start_time": "2021-09-30T04:00:50.629890Z"
    }
   },
   "outputs": [],
   "source": [
    "mycursor.execute(\"select * from fruits\")"
   ]
  },
  {
   "cell_type": "code",
   "execution_count": 19,
   "id": "a9de913b",
   "metadata": {
    "ExecuteTime": {
     "end_time": "2021-09-30T04:00:51.771243Z",
     "start_time": "2021-09-30T04:00:51.747245Z"
    }
   },
   "outputs": [
    {
     "name": "stdout",
     "output_type": "stream",
     "text": [
      "(1, 'Mango', 250)\n",
      "(2, 'Apple', 80)\n",
      "(3, 'Gauva', 100)\n",
      "(4, 'Kiwi', 55)\n",
      "(5, 'Banana', 120)\n",
      "(6, 'Custard Apple', 140)\n",
      "(7, 'Pineapple', 420)\n",
      "(8, 'Sweet potatoes', 140)\n"
     ]
    }
   ],
   "source": [
    "for row in mycursor:\n",
    "    print(row)"
   ]
  },
  {
   "cell_type": "code",
   "execution_count": 20,
   "id": "f89c3c1c",
   "metadata": {
    "ExecuteTime": {
     "end_time": "2021-09-30T04:01:07.479791Z",
     "start_time": "2021-09-30T04:01:07.447822Z"
    }
   },
   "outputs": [
    {
     "data": {
      "text/plain": [
       "8"
      ]
     },
     "execution_count": 20,
     "metadata": {},
     "output_type": "execute_result"
    }
   ],
   "source": [
    "mycursor.rowcount"
   ]
  },
  {
   "cell_type": "markdown",
   "id": "3ffe636e",
   "metadata": {},
   "source": [
    "# sort \n",
    "- where"
   ]
  },
  {
   "cell_type": "code",
   "execution_count": 27,
   "id": "6dbc45c7",
   "metadata": {
    "ExecuteTime": {
     "end_time": "2021-09-30T04:03:56.814370Z",
     "start_time": "2021-09-30T04:03:56.670402Z"
    }
   },
   "outputs": [],
   "source": [
    "import mysql.connector\n",
    "\n",
    "mydb = mysql.connector.connect(\n",
    "\n",
    "host = 'localhost',\n",
    "user = 'root',\n",
    "passwd = 'kalevikas@7798',\n",
    "database = 'mydatabase5'\n",
    "\n",
    ")\n",
    "\n",
    "mycursor = mydb.cursor()\n"
   ]
  },
  {
   "cell_type": "code",
   "execution_count": 28,
   "id": "1d5487ef",
   "metadata": {
    "ExecuteTime": {
     "end_time": "2021-09-30T04:04:42.348755Z",
     "start_time": "2021-09-30T04:04:42.228699Z"
    }
   },
   "outputs": [],
   "source": [
    "mycursor.execute('select * from fruits where price < 100')"
   ]
  },
  {
   "cell_type": "code",
   "execution_count": 29,
   "id": "1dff88e9",
   "metadata": {
    "ExecuteTime": {
     "end_time": "2021-09-30T04:05:05.998387Z",
     "start_time": "2021-09-30T04:05:05.982389Z"
    }
   },
   "outputs": [
    {
     "name": "stdout",
     "output_type": "stream",
     "text": [
      "(2, 'Apple', 80)\n",
      "(4, 'Kiwi', 55)\n"
     ]
    }
   ],
   "source": [
    "for prc in mycursor:\n",
    "    print(prc)"
   ]
  },
  {
   "cell_type": "code",
   "execution_count": 30,
   "id": "cee0d796",
   "metadata": {
    "ExecuteTime": {
     "end_time": "2021-09-30T04:05:58.618672Z",
     "start_time": "2021-09-30T04:05:58.594275Z"
    }
   },
   "outputs": [],
   "source": [
    "mycursor.execute('select * from fruits where price > 100')"
   ]
  },
  {
   "cell_type": "code",
   "execution_count": 31,
   "id": "6b7a1a52",
   "metadata": {
    "ExecuteTime": {
     "end_time": "2021-09-30T04:06:14.677871Z",
     "start_time": "2021-09-30T04:06:14.653835Z"
    }
   },
   "outputs": [
    {
     "name": "stdout",
     "output_type": "stream",
     "text": [
      "(1, 'Mango', 250)\n",
      "(5, 'Banana', 120)\n",
      "(6, 'Custard Apple', 140)\n",
      "(7, 'Pineapple', 420)\n",
      "(8, 'Sweet potatoes', 140)\n"
     ]
    }
   ],
   "source": [
    "for grt in mycursor:\n",
    "    print(grt)"
   ]
  },
  {
   "cell_type": "markdown",
   "id": "4bbe38ac",
   "metadata": {},
   "source": [
    "# update"
   ]
  },
  {
   "cell_type": "markdown",
   "id": "8734f421",
   "metadata": {},
   "source": [
    "### update price of Pineapple 400"
   ]
  },
  {
   "cell_type": "code",
   "execution_count": 33,
   "id": "d0ef2ac8",
   "metadata": {
    "ExecuteTime": {
     "end_time": "2021-09-30T04:11:27.891406Z",
     "start_time": "2021-09-30T04:11:27.637719Z"
    }
   },
   "outputs": [],
   "source": [
    "sql = \"update fruits set price = 400 where name = 'Pineapple'\"\n",
    "\n",
    "mycursor.execute(sql)\n",
    "\n",
    "mydb.commit()"
   ]
  },
  {
   "cell_type": "code",
   "execution_count": 34,
   "id": "6bfb7f14",
   "metadata": {
    "ExecuteTime": {
     "end_time": "2021-09-30T04:11:54.171479Z",
     "start_time": "2021-09-30T04:11:54.155479Z"
    }
   },
   "outputs": [],
   "source": [
    "mycursor.execute(\"select * from fruits\")"
   ]
  },
  {
   "cell_type": "code",
   "execution_count": 35,
   "id": "bd954f4d",
   "metadata": {
    "ExecuteTime": {
     "end_time": "2021-09-30T04:12:07.820690Z",
     "start_time": "2021-09-30T04:12:07.796687Z"
    }
   },
   "outputs": [
    {
     "name": "stdout",
     "output_type": "stream",
     "text": [
      "(1, 'Mango', 250)\n",
      "(2, 'Apple', 80)\n",
      "(3, 'Gauva', 100)\n",
      "(4, 'Kiwi', 55)\n",
      "(5, 'Banana', 120)\n",
      "(6, 'Custard Apple', 140)\n",
      "(7, 'Pineapple', 400)\n",
      "(8, 'Sweet potatoes', 140)\n"
     ]
    }
   ],
   "source": [
    "for row in mycursor:\n",
    "    print(row)                  # here u can see pineapple value get updated"
   ]
  },
  {
   "cell_type": "markdown",
   "id": "16963c07",
   "metadata": {},
   "source": [
    "## you can read only names also"
   ]
  },
  {
   "cell_type": "code",
   "execution_count": 36,
   "id": "c0ca557d",
   "metadata": {
    "ExecuteTime": {
     "end_time": "2021-09-30T04:13:54.640669Z",
     "start_time": "2021-09-30T04:13:54.624668Z"
    }
   },
   "outputs": [],
   "source": [
    "mycursor.execute(\"select name from fruits\")"
   ]
  },
  {
   "cell_type": "code",
   "execution_count": 37,
   "id": "93f8cab8",
   "metadata": {
    "ExecuteTime": {
     "end_time": "2021-09-30T04:14:09.534417Z",
     "start_time": "2021-09-30T04:14:09.510418Z"
    }
   },
   "outputs": [
    {
     "name": "stdout",
     "output_type": "stream",
     "text": [
      "('Mango',)\n",
      "('Apple',)\n",
      "('Gauva',)\n",
      "('Kiwi',)\n",
      "('Banana',)\n",
      "('Custard Apple',)\n",
      "('Pineapple',)\n",
      "('Sweet potatoes',)\n"
     ]
    }
   ],
   "source": [
    "for names in mycursor:\n",
    "    print(names)"
   ]
  },
  {
   "cell_type": "code",
   "execution_count": 38,
   "id": "72aaefd3",
   "metadata": {
    "ExecuteTime": {
     "end_time": "2021-09-30T04:15:10.035128Z",
     "start_time": "2021-09-30T04:15:10.010471Z"
    }
   },
   "outputs": [],
   "source": [
    "mycursor.execute(\"select price from fruits\")"
   ]
  },
  {
   "cell_type": "code",
   "execution_count": 39,
   "id": "22233b5b",
   "metadata": {
    "ExecuteTime": {
     "end_time": "2021-09-30T04:15:16.612758Z",
     "start_time": "2021-09-30T04:15:16.580757Z"
    }
   },
   "outputs": [
    {
     "data": {
      "text/plain": [
       "[(250,), (80,), (100,), (55,), (120,), (140,), (400,), (140,)]"
      ]
     },
     "execution_count": 39,
     "metadata": {},
     "output_type": "execute_result"
    }
   ],
   "source": [
    "mycursor.fetchall()"
   ]
  },
  {
   "cell_type": "markdown",
   "id": "37d738e1",
   "metadata": {},
   "source": [
    "# delete"
   ]
  },
  {
   "cell_type": "code",
   "execution_count": 40,
   "id": "2e240e56",
   "metadata": {
    "ExecuteTime": {
     "end_time": "2021-09-30T04:22:37.894698Z",
     "start_time": "2021-09-30T04:22:37.336383Z"
    }
   },
   "outputs": [],
   "source": [
    "import mysql.connector\n",
    "\n",
    "mydb = mysql.connector.connect(\n",
    "\n",
    "host = 'localhost',\n",
    "user = 'root',\n",
    "passwd = 'kalevikas@7798',\n",
    "database = 'mydatabase5'\n",
    ")\n",
    "\n",
    "mycursor = mydb.cursor()\n",
    "\n",
    "mycursor.execute(\"delete from fruits where name = 'Banana'\")\n",
    "\n",
    "mydb.commit()\n",
    "\n"
   ]
  },
  {
   "cell_type": "code",
   "execution_count": 41,
   "id": "d5c2e769",
   "metadata": {
    "ExecuteTime": {
     "end_time": "2021-09-30T04:22:53.654935Z",
     "start_time": "2021-09-30T04:22:53.613898Z"
    }
   },
   "outputs": [],
   "source": [
    "mycursor.execute(\"select * from fruits\")"
   ]
  },
  {
   "cell_type": "code",
   "execution_count": 42,
   "id": "08f6370e",
   "metadata": {
    "ExecuteTime": {
     "end_time": "2021-09-30T04:23:09.066561Z",
     "start_time": "2021-09-30T04:23:09.056559Z"
    }
   },
   "outputs": [
    {
     "name": "stdout",
     "output_type": "stream",
     "text": [
      "(1, 'Mango', 250)\n",
      "(2, 'Apple', 80)\n",
      "(3, 'Gauva', 100)\n",
      "(4, 'Kiwi', 55)\n",
      "(6, 'Custard Apple', 140)\n",
      "(7, 'Pineapple', 400)\n",
      "(8, 'Sweet potatoes', 140)\n"
     ]
    }
   ],
   "source": [
    "for row in mycursor:\n",
    "    print(row)      # here u can see that there is no banana which id was 5th."
   ]
  },
  {
   "cell_type": "code",
   "execution_count": 43,
   "id": "f691386d",
   "metadata": {
    "ExecuteTime": {
     "end_time": "2021-09-30T04:25:36.344281Z",
     "start_time": "2021-09-30T04:25:35.792542Z"
    }
   },
   "outputs": [],
   "source": [
    "import mysql.connector\n",
    "\n",
    "mydb = mysql.connector.connect(\n",
    "\n",
    "host = 'localhost',\n",
    "user = 'root',\n",
    "passwd = 'kalevikas@7798',\n",
    "database = 'mydatabase5'\n",
    ")\n",
    "\n",
    "mycursor = mydb.cursor()\n",
    "\n",
    "mycursor.execute(\"delete from fruits where price = 140\")\n",
    "\n",
    "mydb.commit()"
   ]
  },
  {
   "cell_type": "code",
   "execution_count": 45,
   "id": "e28b8a3e",
   "metadata": {
    "ExecuteTime": {
     "end_time": "2021-09-30T04:26:33.291431Z",
     "start_time": "2021-09-30T04:26:33.131437Z"
    }
   },
   "outputs": [],
   "source": [
    "mycursor.execute(\"select * from fruits\")"
   ]
  },
  {
   "cell_type": "code",
   "execution_count": 46,
   "id": "995bd5eb",
   "metadata": {
    "ExecuteTime": {
     "end_time": "2021-09-30T04:26:34.337999Z",
     "start_time": "2021-09-30T04:26:34.322001Z"
    }
   },
   "outputs": [
    {
     "name": "stdout",
     "output_type": "stream",
     "text": [
      "(1, 'Mango', 250)\n",
      "(2, 'Apple', 80)\n",
      "(3, 'Gauva', 100)\n",
      "(4, 'Kiwi', 55)\n",
      "(7, 'Pineapple', 400)\n"
     ]
    }
   ],
   "source": [
    "for row in mycursor: # here 2 fruits which has same price 140 and both are deleted.\n",
    "    print(row)"
   ]
  },
  {
   "cell_type": "code",
   "execution_count": 1,
   "id": "097e18c5",
   "metadata": {
    "ExecuteTime": {
     "end_time": "2021-09-30T04:31:54.138274Z",
     "start_time": "2021-09-30T04:31:53.693504Z"
    }
   },
   "outputs": [],
   "source": [
    "import mysql.connector\n",
    "\n",
    "mydb = mysql.connector.connect(\n",
    "\n",
    "host = 'localhost',\n",
    "user = 'root',\n",
    "passwd = 'kalevikas@7798',\n",
    "database = 'mydatabase5'\n",
    "\n",
    ")\n",
    "\n",
    "mycursor = mydb.cursor()\n",
    "\n",
    "mycursor.execute(\"update fruits set name = 'watermelon' where price = 55\")\n",
    "\n",
    "mydb.commit()  # this is necessary to save changes."
   ]
  },
  {
   "cell_type": "code",
   "execution_count": 2,
   "id": "912b35d7",
   "metadata": {
    "ExecuteTime": {
     "end_time": "2021-09-30T04:32:17.525784Z",
     "start_time": "2021-09-30T04:32:17.516787Z"
    }
   },
   "outputs": [],
   "source": [
    "mycursor.execute(\"select * from fruits\")"
   ]
  },
  {
   "cell_type": "code",
   "execution_count": 3,
   "id": "0d71da7d",
   "metadata": {
    "ExecuteTime": {
     "end_time": "2021-09-30T04:32:25.182353Z",
     "start_time": "2021-09-30T04:32:25.156355Z"
    }
   },
   "outputs": [
    {
     "data": {
      "text/plain": [
       "[(1, 'Mango', 250),\n",
       " (2, 'Apple', 80),\n",
       " (3, 'Gauva', 100),\n",
       " (4, 'watermelon', 55),\n",
       " (7, 'Pineapple', 400)]"
      ]
     },
     "execution_count": 3,
     "metadata": {},
     "output_type": "execute_result"
    }
   ],
   "source": [
    "mycursor.fetchall()"
   ]
  },
  {
   "cell_type": "code",
   "execution_count": 4,
   "id": "6d6b99b8",
   "metadata": {
    "ExecuteTime": {
     "end_time": "2021-09-30T04:37:46.427541Z",
     "start_time": "2021-09-30T04:37:46.146546Z"
    }
   },
   "outputs": [],
   "source": [
    "import mysql.connector\n",
    "\n",
    "mydb = mysql.connector.connect(\n",
    "\n",
    "host = 'localhost',\n",
    "user = 'root',\n",
    "passwd = 'kalevikas@7798',\n",
    "database = 'mydatabase5'\n",
    "\n",
    ")\n",
    "\n",
    "mycursor = mydb.cursor()\n",
    "\n",
    "sql = \"insert into fruits (name, price) values (%s, %s)\"\n",
    "val = [\n",
    "    ('Custard Apple', 125),\n",
    "    ('Coconut', 15),\n",
    "    ('Lemon', 50),\n",
    "    ('Orange', 48),\n",
    "    ('Grapes', 420),\n",
    "    ('Pomegranate', 500)\n",
    "]\n",
    "\n",
    "mycursor.executemany(sql, val)\n",
    "\n",
    "mydb.commit()\n",
    "\n"
   ]
  },
  {
   "cell_type": "code",
   "execution_count": 5,
   "id": "55fcf12b",
   "metadata": {
    "ExecuteTime": {
     "end_time": "2021-09-30T04:38:03.559128Z",
     "start_time": "2021-09-30T04:38:03.546097Z"
    }
   },
   "outputs": [],
   "source": [
    "mycursor.execute(\"select * from fruits\")"
   ]
  },
  {
   "cell_type": "code",
   "execution_count": 6,
   "id": "af55f11f",
   "metadata": {
    "ExecuteTime": {
     "end_time": "2021-09-30T04:38:20.352401Z",
     "start_time": "2021-09-30T04:38:20.328403Z"
    }
   },
   "outputs": [
    {
     "name": "stdout",
     "output_type": "stream",
     "text": [
      "(1, 'Mango', 250)\n",
      "(2, 'Apple', 80)\n",
      "(3, 'Gauva', 100)\n",
      "(4, 'watermelon', 55)\n",
      "(7, 'Pineapple', 400)\n",
      "(9, 'Custard Apple', 125)\n",
      "(10, 'Coconut', 15)\n",
      "(11, 'Lemon', 50)\n",
      "(12, 'Orange', 48)\n",
      "(13, 'Grapes', 420)\n",
      "(14, 'Pomegranate', 500)\n"
     ]
    }
   ],
   "source": [
    "for row in mycursor:\n",
    "    print(row)"
   ]
  },
  {
   "cell_type": "markdown",
   "id": "6350e46f",
   "metadata": {},
   "source": [
    "# sort the result\n",
    "\n",
    "- use the ORDER BY statement to sort the result ascending or descending order.\n",
    "- to sort descending order use desc keyword."
   ]
  },
  {
   "cell_type": "code",
   "execution_count": 7,
   "id": "83297ebd",
   "metadata": {
    "ExecuteTime": {
     "end_time": "2021-09-30T04:58:17.691730Z",
     "start_time": "2021-09-30T04:58:17.406203Z"
    }
   },
   "outputs": [],
   "source": [
    "import mysql.connector\n",
    "\n",
    "mydb = mysql.connector.connect(\n",
    "\n",
    "host = 'localhost',\n",
    "user = 'root',\n",
    "passwd = 'kalevikas@7798',\n",
    "database = 'mydatabase5'\n",
    "\n",
    ")\n",
    "\n",
    "mycursor = mydb.cursor()\n",
    "\n",
    "mycursor.execute(\"select * from fruits order by name\")"
   ]
  },
  {
   "cell_type": "code",
   "execution_count": 8,
   "id": "7ebd90f7",
   "metadata": {
    "ExecuteTime": {
     "end_time": "2021-09-30T04:58:28.752514Z",
     "start_time": "2021-09-30T04:58:28.726518Z"
    }
   },
   "outputs": [
    {
     "data": {
      "text/plain": [
       "[(2, 'Apple', 80),\n",
       " (10, 'Coconut', 15),\n",
       " (9, 'Custard Apple', 125),\n",
       " (3, 'Gauva', 100),\n",
       " (11, 'Lemon', 50),\n",
       " (1, 'Mango', 250),\n",
       " (12, 'Orange', 48),\n",
       " (7, 'Pineapple', 400),\n",
       " (14, 'Pomegranate', 500),\n",
       " (4, 'watermelon', 55)]"
      ]
     },
     "execution_count": 8,
     "metadata": {},
     "output_type": "execute_result"
    }
   ],
   "source": [
    "mycursor.fetchall()"
   ]
  },
  {
   "cell_type": "code",
   "execution_count": 9,
   "id": "d1de5ef2",
   "metadata": {
    "ExecuteTime": {
     "end_time": "2021-09-30T04:59:31.544405Z",
     "start_time": "2021-09-30T04:59:31.535411Z"
    }
   },
   "outputs": [],
   "source": [
    "mycursor.execute(\"select * from fruits order by price\")"
   ]
  },
  {
   "cell_type": "code",
   "execution_count": 10,
   "id": "4f712224",
   "metadata": {
    "ExecuteTime": {
     "end_time": "2021-09-30T04:59:39.298998Z",
     "start_time": "2021-09-30T04:59:39.277001Z"
    }
   },
   "outputs": [
    {
     "data": {
      "text/plain": [
       "[(10, 'Coconut', 15),\n",
       " (12, 'Orange', 48),\n",
       " (11, 'Lemon', 50),\n",
       " (4, 'watermelon', 55),\n",
       " (2, 'Apple', 80),\n",
       " (3, 'Gauva', 100),\n",
       " (9, 'Custard Apple', 125),\n",
       " (1, 'Mango', 250),\n",
       " (7, 'Pineapple', 400),\n",
       " (14, 'Pomegranate', 500)]"
      ]
     },
     "execution_count": 10,
     "metadata": {},
     "output_type": "execute_result"
    }
   ],
   "source": [
    "mycursor.fetchall()"
   ]
  },
  {
   "cell_type": "markdown",
   "id": "b0e16ec5",
   "metadata": {},
   "source": [
    "# for descending order"
   ]
  },
  {
   "cell_type": "code",
   "execution_count": 11,
   "id": "e1dc78cf",
   "metadata": {
    "ExecuteTime": {
     "end_time": "2021-09-30T05:00:39.093093Z",
     "start_time": "2021-09-30T05:00:39.081094Z"
    }
   },
   "outputs": [],
   "source": [
    "mycursor.execute(\"select * from fruits order by name desc\")"
   ]
  },
  {
   "cell_type": "code",
   "execution_count": 12,
   "id": "70e88b31",
   "metadata": {
    "ExecuteTime": {
     "end_time": "2021-09-30T05:00:54.476008Z",
     "start_time": "2021-09-30T05:00:54.452010Z"
    }
   },
   "outputs": [
    {
     "data": {
      "text/plain": [
       "[(4, 'watermelon', 55),\n",
       " (14, 'Pomegranate', 500),\n",
       " (7, 'Pineapple', 400),\n",
       " (12, 'Orange', 48),\n",
       " (1, 'Mango', 250),\n",
       " (11, 'Lemon', 50),\n",
       " (3, 'Gauva', 100),\n",
       " (9, 'Custard Apple', 125),\n",
       " (10, 'Coconut', 15),\n",
       " (2, 'Apple', 80)]"
      ]
     },
     "execution_count": 12,
     "metadata": {},
     "output_type": "execute_result"
    }
   ],
   "source": [
    "mycursor.fetchall()"
   ]
  },
  {
   "cell_type": "markdown",
   "id": "b3f78ee3",
   "metadata": {},
   "source": [
    "### price in descending order"
   ]
  },
  {
   "cell_type": "code",
   "execution_count": 13,
   "id": "04cbbd53",
   "metadata": {
    "ExecuteTime": {
     "end_time": "2021-09-30T05:01:47.984878Z",
     "start_time": "2021-09-30T05:01:47.972883Z"
    }
   },
   "outputs": [],
   "source": [
    "mycursor.execute(\"select * from fruits order by price desc\")"
   ]
  },
  {
   "cell_type": "code",
   "execution_count": 14,
   "id": "d65e3cb5",
   "metadata": {
    "ExecuteTime": {
     "end_time": "2021-09-30T05:01:55.199829Z",
     "start_time": "2021-09-30T05:01:55.188832Z"
    }
   },
   "outputs": [
    {
     "data": {
      "text/plain": [
       "[(14, 'Pomegranate', 500),\n",
       " (7, 'Pineapple', 400),\n",
       " (1, 'Mango', 250),\n",
       " (9, 'Custard Apple', 125),\n",
       " (3, 'Gauva', 100),\n",
       " (2, 'Apple', 80),\n",
       " (4, 'watermelon', 55),\n",
       " (11, 'Lemon', 50),\n",
       " (12, 'Orange', 48),\n",
       " (10, 'Coconut', 15)]"
      ]
     },
     "execution_count": 14,
     "metadata": {},
     "output_type": "execute_result"
    }
   ],
   "source": [
    "mycursor.fetchall()"
   ]
  },
  {
   "cell_type": "markdown",
   "id": "3ff021e8",
   "metadata": {},
   "source": [
    "# drop table"
   ]
  },
  {
   "cell_type": "markdown",
   "id": "d8b4b883",
   "metadata": {},
   "source": [
    "- to delete existing table"
   ]
  },
  {
   "cell_type": "code",
   "execution_count": 15,
   "id": "36fbf385",
   "metadata": {
    "ExecuteTime": {
     "end_time": "2021-09-30T05:06:57.255746Z",
     "start_time": "2021-09-30T05:06:56.671080Z"
    }
   },
   "outputs": [],
   "source": [
    "mycursor.execute(\"show databases\")"
   ]
  },
  {
   "cell_type": "code",
   "execution_count": 16,
   "id": "4f55e75e",
   "metadata": {
    "ExecuteTime": {
     "end_time": "2021-09-30T05:07:03.481486Z",
     "start_time": "2021-09-30T05:07:03.470488Z"
    }
   },
   "outputs": [
    {
     "data": {
      "text/plain": [
       "[('courses',),\n",
       " ('elephant',),\n",
       " ('info',),\n",
       " ('information_schema',),\n",
       " ('mobiles',),\n",
       " ('my_second_database',),\n",
       " ('mydatabase',),\n",
       " ('mydatabase3',),\n",
       " ('mydatabase4',),\n",
       " ('mydatabase5',),\n",
       " ('mysql',),\n",
       " ('peoples',),\n",
       " ('performance_schema',),\n",
       " ('sys',),\n",
       " ('test',)]"
      ]
     },
     "execution_count": 16,
     "metadata": {},
     "output_type": "execute_result"
    }
   ],
   "source": [
    "mycursor.fetchall()"
   ]
  },
  {
   "cell_type": "code",
   "execution_count": 23,
   "id": "e512b768",
   "metadata": {
    "ExecuteTime": {
     "end_time": "2021-09-30T05:08:50.381746Z",
     "start_time": "2021-09-30T05:08:50.258748Z"
    }
   },
   "outputs": [],
   "source": [
    "import mysql.connector\n",
    "\n",
    "mydb = mysql.connector.connect(\n",
    "\n",
    "host = 'localhost',\n",
    "user = 'root',\n",
    "passwd = 'kalevikas@7798',\n",
    "database = 'test'\n",
    "\n",
    ")\n",
    "\n",
    "mycursor = mydb.cursor()\n",
    "\n",
    "mydb.commit()"
   ]
  },
  {
   "cell_type": "code",
   "execution_count": 24,
   "id": "a95ef1a8",
   "metadata": {
    "ExecuteTime": {
     "end_time": "2021-09-30T05:08:52.014770Z",
     "start_time": "2021-09-30T05:08:51.919773Z"
    }
   },
   "outputs": [],
   "source": [
    "mycursor.execute(\"show tables\")"
   ]
  },
  {
   "cell_type": "code",
   "execution_count": 25,
   "id": "a6f41890",
   "metadata": {
    "ExecuteTime": {
     "end_time": "2021-09-30T05:08:52.714406Z",
     "start_time": "2021-09-30T05:08:52.694408Z"
    }
   },
   "outputs": [
    {
     "data": {
      "text/plain": [
       "[('result',), ('student',)]"
      ]
     },
     "execution_count": 25,
     "metadata": {},
     "output_type": "execute_result"
    }
   ],
   "source": [
    "mycursor.fetchall()"
   ]
  },
  {
   "cell_type": "code",
   "execution_count": 26,
   "id": "5e504a1c",
   "metadata": {
    "ExecuteTime": {
     "end_time": "2021-09-30T05:09:16.614886Z",
     "start_time": "2021-09-30T05:09:16.308890Z"
    }
   },
   "outputs": [],
   "source": [
    "mycursor.execute(\"select * from result\")"
   ]
  },
  {
   "cell_type": "code",
   "execution_count": 27,
   "id": "962dd844",
   "metadata": {
    "ExecuteTime": {
     "end_time": "2021-09-30T05:09:23.327739Z",
     "start_time": "2021-09-30T05:09:23.313742Z"
    }
   },
   "outputs": [
    {
     "data": {
      "text/plain": [
       "[('Vikas', '85'), ('Suraj', '90'), ('Raj', '65'), ('Swapnil', '78')]"
      ]
     },
     "execution_count": 27,
     "metadata": {},
     "output_type": "execute_result"
    }
   ],
   "source": [
    "mycursor.fetchall()"
   ]
  },
  {
   "cell_type": "code",
   "execution_count": 28,
   "id": "2f6235de",
   "metadata": {
    "ExecuteTime": {
     "end_time": "2021-09-30T05:09:44.295940Z",
     "start_time": "2021-09-30T05:09:43.396882Z"
    }
   },
   "outputs": [],
   "source": [
    "mycursor.execute(\"select * from student\")"
   ]
  },
  {
   "cell_type": "code",
   "execution_count": 29,
   "id": "7715953e",
   "metadata": {
    "ExecuteTime": {
     "end_time": "2021-09-30T05:09:51.156497Z",
     "start_time": "2021-09-30T05:09:51.138464Z"
    }
   },
   "outputs": [
    {
     "data": {
      "text/plain": [
       "[('Vikas', 'SIT'), ('Ganesh', 'DYPATIL')]"
      ]
     },
     "execution_count": 29,
     "metadata": {},
     "output_type": "execute_result"
    }
   ],
   "source": [
    "mycursor.fetchall()"
   ]
  },
  {
   "cell_type": "code",
   "execution_count": 30,
   "id": "86bf482f",
   "metadata": {
    "ExecuteTime": {
     "end_time": "2021-09-30T05:10:29.975761Z",
     "start_time": "2021-09-30T05:10:27.449306Z"
    }
   },
   "outputs": [],
   "source": [
    "mycursor.execute(\"drop table student\") # here student table deleted."
   ]
  },
  {
   "cell_type": "code",
   "execution_count": 31,
   "id": "2a07d332",
   "metadata": {
    "ExecuteTime": {
     "end_time": "2021-09-30T05:10:44.157098Z",
     "start_time": "2021-09-30T05:10:44.102099Z"
    }
   },
   "outputs": [],
   "source": [
    "mycursor.execute(\"show tables\")"
   ]
  },
  {
   "cell_type": "code",
   "execution_count": 32,
   "id": "39a37fd9",
   "metadata": {
    "ExecuteTime": {
     "end_time": "2021-09-30T05:10:52.615575Z",
     "start_time": "2021-09-30T05:10:52.593575Z"
    }
   },
   "outputs": [
    {
     "data": {
      "text/plain": [
       "[('result',)]"
      ]
     },
     "execution_count": 32,
     "metadata": {},
     "output_type": "execute_result"
    }
   ],
   "source": [
    "mycursor.fetchall()"
   ]
  },
  {
   "cell_type": "markdown",
   "id": "849ce6ef",
   "metadata": {},
   "source": [
    "# drop only if exists"
   ]
  },
  {
   "cell_type": "markdown",
   "id": "219e14d8",
   "metadata": {},
   "source": [
    "- if table not present or already deleted and to avoid error use if exist keyword after drop table."
   ]
  },
  {
   "cell_type": "code",
   "execution_count": 35,
   "id": "ec7120ac",
   "metadata": {
    "ExecuteTime": {
     "end_time": "2021-09-30T05:14:26.750931Z",
     "start_time": "2021-09-30T05:14:26.578932Z"
    }
   },
   "outputs": [],
   "source": [
    "mycursor.execute(\"drop table if exists student\")"
   ]
  },
  {
   "cell_type": "markdown",
   "id": "6f4d8b89",
   "metadata": {},
   "source": [
    "# limit the result"
   ]
  },
  {
   "cell_type": "markdown",
   "id": "7168a263",
   "metadata": {},
   "source": [
    "- you can limit the records by using limit statement"
   ]
  },
  {
   "cell_type": "code",
   "execution_count": 36,
   "id": "b7d7fc06",
   "metadata": {
    "ExecuteTime": {
     "end_time": "2021-09-30T05:17:26.602182Z",
     "start_time": "2021-09-30T05:17:26.409184Z"
    }
   },
   "outputs": [],
   "source": [
    "import mysql.connector\n",
    "\n",
    "mydb = mysql.connector.connect(\n",
    "\n",
    "host = 'localhost',\n",
    "user = 'root',\n",
    "passwd = 'kalevikas@7798',\n",
    "database = 'mydatabase'\n",
    "\n",
    ")\n",
    "\n",
    "mycursor = mydb.cursor()"
   ]
  },
  {
   "cell_type": "code",
   "execution_count": 37,
   "id": "59fe984e",
   "metadata": {
    "ExecuteTime": {
     "end_time": "2021-09-30T05:17:38.905044Z",
     "start_time": "2021-09-30T05:17:38.559672Z"
    }
   },
   "outputs": [],
   "source": [
    "mycursor.execute(\"show tables\")"
   ]
  },
  {
   "cell_type": "code",
   "execution_count": 38,
   "id": "2c2e244e",
   "metadata": {
    "ExecuteTime": {
     "end_time": "2021-09-30T05:17:46.400362Z",
     "start_time": "2021-09-30T05:17:46.392364Z"
    }
   },
   "outputs": [
    {
     "data": {
      "text/plain": [
       "[('customers',), ('customers1',)]"
      ]
     },
     "execution_count": 38,
     "metadata": {},
     "output_type": "execute_result"
    }
   ],
   "source": [
    "mycursor.fetchall()"
   ]
  },
  {
   "cell_type": "code",
   "execution_count": 39,
   "id": "358781fc",
   "metadata": {
    "ExecuteTime": {
     "end_time": "2021-09-30T05:18:08.997180Z",
     "start_time": "2021-09-30T05:18:08.917619Z"
    }
   },
   "outputs": [],
   "source": [
    "mycursor.execute(\"select * from customers\")"
   ]
  },
  {
   "cell_type": "code",
   "execution_count": 40,
   "id": "be456005",
   "metadata": {
    "ExecuteTime": {
     "end_time": "2021-09-30T05:18:17.944825Z",
     "start_time": "2021-09-30T05:18:17.930829Z"
    }
   },
   "outputs": [
    {
     "data": {
      "text/plain": [
       "[('Vikas Hanumant Kale', 'Keshegaon,Osmanabad-413506', 1),\n",
       " ('Peter', 'Lowstreet 4', 2),\n",
       " ('Amy', 'Apple st 652', 3),\n",
       " ('Hannah', 'Mountain 21', 4),\n",
       " ('Michael', 'Valley 345', 5),\n",
       " ('Sandy', 'Ocean blvd 2', 6),\n",
       " ('Betty', 'Green Grass 1', 7),\n",
       " ('Richard', 'Sky st 331', 8),\n",
       " ('Susan', 'One way 98', 9),\n",
       " ('Vicky', 'Yellow Garden 2', 10),\n",
       " ('Ben', 'Park Lane 38', 11),\n",
       " ('William', 'Central st 954', 12),\n",
       " ('Chuck', 'Main Road 989', 13),\n",
       " ('Viola', 'Sideway 1633', 14),\n",
       " ('Vikas', 'Shivaji_Nagar, Pune', 15),\n",
       " ('Ram', 'Swargate, Pune', 16),\n",
       " ('Ganesh', 'Hinjawadi, Pune', 17),\n",
       " ('Vishnu', 'Khadaki, Pune', 18),\n",
       " ('Mahesh', 'Hadpsar, Pune', 19),\n",
       " ('Vitthal', 'Kondhwa, Pune', 20),\n",
       " ('Samarth', 'Chinchwad, Pune', 21),\n",
       " ('Pandurang', 'Pimpri, Pune', 22),\n",
       " ('Maruti', 'Katraj, Pune', 23),\n",
       " ('Rukmini', 'Aundh, Pune', 24),\n",
       " ('Lakshaman', 'Pune_station, Pune', 25),\n",
       " ('Seeta', 'Chakan, Pune', 26),\n",
       " ('Parvati', 'Nigadi, Pune', 27),\n",
       " ('Mahadev', 'Bhosari, Pune', 28)]"
      ]
     },
     "execution_count": 40,
     "metadata": {},
     "output_type": "execute_result"
    }
   ],
   "source": [
    "mycursor.fetchall()"
   ]
  },
  {
   "cell_type": "code",
   "execution_count": 41,
   "id": "8ad9fc59",
   "metadata": {
    "ExecuteTime": {
     "end_time": "2021-09-30T05:18:47.255773Z",
     "start_time": "2021-09-30T05:18:47.219741Z"
    }
   },
   "outputs": [],
   "source": [
    "mycursor.execute(\"select * from customers limit 5\")"
   ]
  },
  {
   "cell_type": "code",
   "execution_count": 42,
   "id": "dfcc9c97",
   "metadata": {
    "ExecuteTime": {
     "end_time": "2021-09-30T05:18:55.054245Z",
     "start_time": "2021-09-30T05:18:55.038621Z"
    }
   },
   "outputs": [
    {
     "data": {
      "text/plain": [
       "[('Vikas Hanumant Kale', 'Keshegaon,Osmanabad-413506', 1),\n",
       " ('Peter', 'Lowstreet 4', 2),\n",
       " ('Amy', 'Apple st 652', 3),\n",
       " ('Hannah', 'Mountain 21', 4),\n",
       " ('Michael', 'Valley 345', 5)]"
      ]
     },
     "execution_count": 42,
     "metadata": {},
     "output_type": "execute_result"
    }
   ],
   "source": [
    "mycursor.fetchall()"
   ]
  },
  {
   "cell_type": "markdown",
   "id": "093d47c0",
   "metadata": {},
   "source": [
    "# start from another position "
   ]
  },
  {
   "cell_type": "code",
   "execution_count": null,
   "id": "74ccf989",
   "metadata": {},
   "outputs": [],
   "source": [
    "- If you want to return five records, starting from the third record, you can use the \"OFFSET\" Keywords.\n"
   ]
  },
  {
   "cell_type": "code",
   "execution_count": 43,
   "id": "6c8938a5",
   "metadata": {
    "ExecuteTime": {
     "end_time": "2021-09-30T05:21:44.356913Z",
     "start_time": "2021-09-30T05:21:44.339880Z"
    }
   },
   "outputs": [],
   "source": [
    "mycursor.execute(\"select * from customers limit 4 offset 2\") # from 2nd position we fetch 4 records."
   ]
  },
  {
   "cell_type": "code",
   "execution_count": 44,
   "id": "2473396c",
   "metadata": {
    "ExecuteTime": {
     "end_time": "2021-09-30T05:21:52.831746Z",
     "start_time": "2021-09-30T05:21:52.814718Z"
    }
   },
   "outputs": [
    {
     "data": {
      "text/plain": [
       "[('Amy', 'Apple st 652', 3),\n",
       " ('Hannah', 'Mountain 21', 4),\n",
       " ('Michael', 'Valley 345', 5),\n",
       " ('Sandy', 'Ocean blvd 2', 6)]"
      ]
     },
     "execution_count": 44,
     "metadata": {},
     "output_type": "execute_result"
    }
   ],
   "source": [
    "mycursor.fetchall()"
   ]
  },
  {
   "cell_type": "code",
   "execution_count": 47,
   "id": "7fb58d89",
   "metadata": {
    "ExecuteTime": {
     "end_time": "2021-09-30T05:25:10.451187Z",
     "start_time": "2021-09-30T05:25:10.437188Z"
    }
   },
   "outputs": [],
   "source": [
    "mycursor.execute(\"select * from customers limit 14 offset 14\")"
   ]
  },
  {
   "cell_type": "code",
   "execution_count": 48,
   "id": "faeb365e",
   "metadata": {
    "ExecuteTime": {
     "end_time": "2021-09-30T05:25:11.973772Z",
     "start_time": "2021-09-30T05:25:11.960741Z"
    }
   },
   "outputs": [
    {
     "data": {
      "text/plain": [
       "[('Vikas', 'Shivaji_Nagar, Pune', 15),\n",
       " ('Ram', 'Swargate, Pune', 16),\n",
       " ('Ganesh', 'Hinjawadi, Pune', 17),\n",
       " ('Vishnu', 'Khadaki, Pune', 18),\n",
       " ('Mahesh', 'Hadpsar, Pune', 19),\n",
       " ('Vitthal', 'Kondhwa, Pune', 20),\n",
       " ('Samarth', 'Chinchwad, Pune', 21),\n",
       " ('Pandurang', 'Pimpri, Pune', 22),\n",
       " ('Maruti', 'Katraj, Pune', 23),\n",
       " ('Rukmini', 'Aundh, Pune', 24),\n",
       " ('Lakshaman', 'Pune_station, Pune', 25),\n",
       " ('Seeta', 'Chakan, Pune', 26),\n",
       " ('Parvati', 'Nigadi, Pune', 27),\n",
       " ('Mahadev', 'Bhosari, Pune', 28)]"
      ]
     },
     "execution_count": 48,
     "metadata": {},
     "output_type": "execute_result"
    }
   ],
   "source": [
    "mycursor.fetchall()"
   ]
  },
  {
   "cell_type": "code",
   "execution_count": null,
   "id": "6f4f1405",
   "metadata": {},
   "outputs": [],
   "source": []
  }
 ],
 "metadata": {
  "kernelspec": {
   "display_name": "Python 3",
   "language": "python",
   "name": "python3"
  },
  "language_info": {
   "codemirror_mode": {
    "name": "ipython",
    "version": 3
   },
   "file_extension": ".py",
   "mimetype": "text/x-python",
   "name": "python",
   "nbconvert_exporter": "python",
   "pygments_lexer": "ipython3",
   "version": "3.8.8"
  }
 },
 "nbformat": 4,
 "nbformat_minor": 5
}
