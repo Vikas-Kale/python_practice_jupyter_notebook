{
 "cells": [
  {
   "cell_type": "markdown",
   "id": "06854873",
   "metadata": {},
   "source": [
    "Write a program to make addition of following int value.\n",
    "input_value = 123\n",
    "\n",
    "#1+2+3 expected_output = 6\n",
    "\n",
    "input_value = 56789\n",
    "\n",
    "#5+6+7+8+9 expected_output = 35\n",
    "\n",
    "#NOTE: Don't convert int to string. Don't use built-in functions. Write your own code."
   ]
  },
  {
   "cell_type": "code",
   "execution_count": 5,
   "id": "ed66f7fb",
   "metadata": {},
   "outputs": [],
   "source": [
    "input_value=[123]"
   ]
  },
  {
   "cell_type": "code",
   "execution_count": 6,
   "id": "d297737f",
   "metadata": {},
   "outputs": [
    {
     "ename": "TypeError",
     "evalue": "unsupported operand type(s) for +: 'int' and 'list'",
     "output_type": "error",
     "traceback": [
      "\u001b[1;31m---------------------------------------------------------------------------\u001b[0m",
      "\u001b[1;31mTypeError\u001b[0m                                 Traceback (most recent call last)",
      "\u001b[1;32m<ipython-input-6-d97e6567f769>\u001b[0m in \u001b[0;36m<module>\u001b[1;34m\u001b[0m\n\u001b[1;32m----> 1\u001b[1;33m \u001b[0minput_value\u001b[0m\u001b[1;33m[\u001b[0m\u001b[1;36m0\u001b[0m\u001b[1;33m]\u001b[0m\u001b[1;33m+\u001b[0m\u001b[1;33m[\u001b[0m\u001b[1;36m1\u001b[0m\u001b[1;33m]\u001b[0m\u001b[1;33m+\u001b[0m\u001b[1;33m[\u001b[0m\u001b[1;36m2\u001b[0m\u001b[1;33m]\u001b[0m\u001b[1;33m\u001b[0m\u001b[1;33m\u001b[0m\u001b[0m\n\u001b[0m",
      "\u001b[1;31mTypeError\u001b[0m: unsupported operand type(s) for +: 'int' and 'list'"
     ]
    }
   ],
   "source": [
    "input_value[0]+[1]+[2]"
   ]
  },
  {
   "cell_type": "code",
   "execution_count": 4,
   "id": "97483a3c",
   "metadata": {},
   "outputs": [
    {
     "ename": "TypeError",
     "evalue": "'int' object is not subscriptable",
     "output_type": "error",
     "traceback": [
      "\u001b[1;31m---------------------------------------------------------------------------\u001b[0m",
      "\u001b[1;31mTypeError\u001b[0m                                 Traceback (most recent call last)",
      "\u001b[1;32m<ipython-input-4-841555e63144>\u001b[0m in \u001b[0;36m<module>\u001b[1;34m\u001b[0m\n\u001b[1;32m----> 1\u001b[1;33m \u001b[0mfloat\u001b[0m\u001b[1;33m(\u001b[0m\u001b[0minput_value\u001b[0m\u001b[1;33m[\u001b[0m\u001b[1;36m0\u001b[0m\u001b[1;33m]\u001b[0m\u001b[1;33m+\u001b[0m\u001b[1;33m[\u001b[0m\u001b[1;36m1\u001b[0m\u001b[1;33m]\u001b[0m\u001b[1;33m+\u001b[0m\u001b[1;33m[\u001b[0m\u001b[1;36m2\u001b[0m\u001b[1;33m]\u001b[0m\u001b[1;33m)\u001b[0m\u001b[1;33m\u001b[0m\u001b[1;33m\u001b[0m\u001b[0m\n\u001b[0m",
      "\u001b[1;31mTypeError\u001b[0m: 'int' object is not subscriptable"
     ]
    }
   ],
   "source": [
    "float(input_value[0]+[1]+[2])"
   ]
  },
  {
   "cell_type": "code",
   "execution_count": 9,
   "id": "a6dc8216",
   "metadata": {},
   "outputs": [
    {
     "name": "stdout",
     "output_type": "stream",
     "text": [
      "321\n"
     ]
    }
   ],
   "source": [
    "number=123\n",
    "reverse_number=0\n",
    "while number!=0:\n",
    "    rem=number%10\n",
    "    reverse_number=(reverse_number*10)+rem\n",
    "    number=number//10\n",
    "print(reverse_number)"
   ]
  },
  {
   "cell_type": "markdown",
   "id": "6c6f9a1a",
   "metadata": {},
   "source": [
    "# write a program to findout number is a prime or not "
   ]
  },
  {
   "cell_type": "code",
   "execution_count": 12,
   "id": "d4075fcc",
   "metadata": {},
   "outputs": [
    {
     "name": "stdout",
     "output_type": "stream",
     "text": [
      "Enter a number: 10\n",
      "Number  is a prime : \n"
     ]
    }
   ],
   "source": [
    "num=int(input(\"Enter a number: \"))\n",
    "if num % num==0:\n",
    "    print(\"Number  is a prime : \")\n",
    "else:\n",
    "    print(\"Number is not prime \")"
   ]
  },
  {
   "cell_type": "code",
   "execution_count": 14,
   "id": "517965ec",
   "metadata": {},
   "outputs": [
    {
     "data": {
      "text/plain": [
       "'nohtyp'"
      ]
     },
     "execution_count": 14,
     "metadata": {},
     "output_type": "execute_result"
    }
   ],
   "source": [
    "x=\"python\"\n",
    "x[::-1]"
   ]
  },
  {
   "cell_type": "code",
   "execution_count": 18,
   "id": "0d0d366f",
   "metadata": {},
   "outputs": [
    {
     "name": "stdout",
     "output_type": "stream",
     "text": [
      "Prime\n"
     ]
    }
   ],
   "source": [
    "number=3\n",
    "is_prime= True\n",
    "\n",
    "for i in range(2,number):\n",
    "    if number%i==0:\n",
    "        is_prime=False\n",
    "if is_prime:\n",
    "    print(\"Prime\")\n",
    "else:\n",
    "    print(\"Non prime\")\n"
   ]
  },
  {
   "cell_type": "code",
   "execution_count": 21,
   "id": "d5a69011",
   "metadata": {},
   "outputs": [],
   "source": [
    "y=1234"
   ]
  },
  {
   "cell_type": "code",
   "execution_count": 24,
   "id": "9e2a4dad",
   "metadata": {},
   "outputs": [
    {
     "ename": "TypeError",
     "evalue": "'int' object is not subscriptable",
     "output_type": "error",
     "traceback": [
      "\u001b[1;31m---------------------------------------------------------------------------\u001b[0m",
      "\u001b[1;31mTypeError\u001b[0m                                 Traceback (most recent call last)",
      "\u001b[1;32m<ipython-input-24-8104e4520fbd>\u001b[0m in \u001b[0;36m<module>\u001b[1;34m\u001b[0m\n\u001b[1;32m----> 1\u001b[1;33m \u001b[0my\u001b[0m\u001b[1;33m[\u001b[0m\u001b[1;33m-\u001b[0m\u001b[1;36m1\u001b[0m\u001b[1;33m]\u001b[0m\u001b[1;33m\u001b[0m\u001b[1;33m\u001b[0m\u001b[0m\n\u001b[0m",
      "\u001b[1;31mTypeError\u001b[0m: 'int' object is not subscriptable"
     ]
    }
   ],
   "source": [
    "y[-1]"
   ]
  },
  {
   "cell_type": "markdown",
   "id": "58d74754",
   "metadata": {},
   "source": [
    "**Write a program to check number is palindrom or not***"
   ]
  },
  {
   "cell_type": "code",
   "execution_count": 28,
   "id": "19f79a8b",
   "metadata": {},
   "outputs": [
    {
     "name": "stdout",
     "output_type": "stream",
     "text": [
      "Enter a Number: 454\n",
      "number is palindrom\n"
     ]
    }
   ],
   "source": [
    "num=(input(\"Enter a Number: \"))\n",
    "if num[0]==num[-1]:\n",
    "    print(\"number is palindrom\")\n",
    "else:\n",
    "    print(\"number is not palindrom\")"
   ]
  },
  {
   "cell_type": "code",
   "execution_count": 33,
   "id": "b5811418",
   "metadata": {},
   "outputs": [
    {
     "name": "stdout",
     "output_type": "stream",
     "text": [
      "1\n",
      "2\n",
      "3\n",
      "4\n",
      "5\n",
      "6\n",
      "7\n",
      "8\n",
      "9\n",
      "10\n",
      "11\n"
     ]
    }
   ],
   "source": [
    "for i in range(1,12):\n",
    "    print(i)"
   ]
  },
  {
   "cell_type": "code",
   "execution_count": 35,
   "id": "42efc9ca",
   "metadata": {},
   "outputs": [
    {
     "name": "stdout",
     "output_type": "stream",
     "text": [
      "321\n"
     ]
    }
   ],
   "source": [
    "number = 123\n",
    "\n",
    "reverse_num = 0\n",
    "\n",
    "while number !=0:\n",
    "    rem = number%10 # 123%10 \n",
    "    reverse_num = (reverse_num * 10) + rem # 0*10+3\n",
    "    number = number//10\n",
    "    \n",
    "print(reverse_num)"
   ]
  },
  {
   "cell_type": "code",
   "execution_count": 34,
   "id": "29e0749d",
   "metadata": {},
   "outputs": [
    {
     "data": {
      "text/plain": [
       "1"
      ]
     },
     "execution_count": 34,
     "metadata": {},
     "output_type": "execute_result"
    }
   ],
   "source": [
    "12//10"
   ]
  },
  {
   "cell_type": "code",
   "execution_count": 37,
   "id": "6ce4158c",
   "metadata": {},
   "outputs": [
    {
     "name": "stdout",
     "output_type": "stream",
     "text": [
      "854\n"
     ]
    }
   ],
   "source": [
    "number = 458\n",
    "\n",
    "reverse_num = 0\n",
    "\n",
    "while number !=0:\n",
    "    rem = number%10 # 123%10 \n",
    "    reverse_num = (reverse_num * 10) + rem # 0*10+3\n",
    "    number = number//10\n",
    "    \n",
    "print(reverse_num)"
   ]
  },
  {
   "cell_type": "code",
   "execution_count": 39,
   "id": "b9cbc752",
   "metadata": {},
   "outputs": [],
   "source": [
    "number=458"
   ]
  },
  {
   "cell_type": "code",
   "execution_count": 40,
   "id": "84b63eb5",
   "metadata": {},
   "outputs": [
    {
     "data": {
      "text/plain": [
       "8"
      ]
     },
     "execution_count": 40,
     "metadata": {},
     "output_type": "execute_result"
    }
   ],
   "source": [
    "number%10"
   ]
  },
  {
   "cell_type": "code",
   "execution_count": 46,
   "id": "edbd5e6c",
   "metadata": {},
   "outputs": [
    {
     "name": "stdout",
     "output_type": "stream",
     "text": [
      "824\n"
     ]
    }
   ],
   "source": [
    "num=428\n",
    "reverse=0\n",
    "while num !=0:\n",
    "    rem=num%10   #rem=8\n",
    "    reverse=(reverse*10)+rem #reverse=0+8=8\n",
    "    num=num//10#num=428//10==42\n",
    "print(reverse)\n",
    "    "
   ]
  },
  {
   "cell_type": "code",
   "execution_count": 49,
   "id": "a254fd58",
   "metadata": {},
   "outputs": [
    {
     "name": "stdout",
     "output_type": "stream",
     "text": [
      "824\n"
     ]
    }
   ],
   "source": [
    "num=42\n",
    "reverse=8\n",
    "while num !=0:\n",
    "    rem=num%10 # rem=42%10=2\n",
    "    reverse=(reverse*10)+rem# reverse=82\n",
    "    num=num//10#num=42//10=4\n",
    "print(reverse)"
   ]
  },
  {
   "cell_type": "markdown",
   "id": "85bb0f64",
   "metadata": {},
   "source": [
    "***print 78965 in reverse order***"
   ]
  },
  {
   "cell_type": "code",
   "execution_count": 54,
   "id": "94b75076",
   "metadata": {},
   "outputs": [
    {
     "name": "stdout",
     "output_type": "stream",
     "text": [
      "56987\n"
     ]
    }
   ],
   "source": [
    "num=78965\n",
    "rev=0\n",
    "while num !=0:\n",
    "    rem=num%10# rem=5\n",
    "    rev=(rev*10)+rem #rev=5\n",
    "    num=num//10 ##num=7896\n",
    "print(rev)\n",
    "    \n",
    "    "
   ]
  },
  {
   "cell_type": "code",
   "execution_count": 51,
   "id": "3e181b7c",
   "metadata": {},
   "outputs": [
    {
     "data": {
      "text/plain": [
       "7896"
      ]
     },
     "execution_count": 51,
     "metadata": {},
     "output_type": "execute_result"
    }
   ],
   "source": [
    "78965//10"
   ]
  },
  {
   "cell_type": "code",
   "execution_count": 41,
   "id": "6d242be1",
   "metadata": {},
   "outputs": [
    {
     "data": {
      "text/plain": [
       "8"
      ]
     },
     "execution_count": 41,
     "metadata": {},
     "output_type": "execute_result"
    }
   ],
   "source": [
    "428%10"
   ]
  },
  {
   "cell_type": "code",
   "execution_count": 42,
   "id": "7f778717",
   "metadata": {
    "scrolled": true
   },
   "outputs": [
    {
     "data": {
      "text/plain": [
       "42"
      ]
     },
     "execution_count": 42,
     "metadata": {},
     "output_type": "execute_result"
    }
   ],
   "source": [
    "428//10"
   ]
  },
  {
   "cell_type": "markdown",
   "id": "60dbe847",
   "metadata": {},
   "source": [
    "Write a program to make addition of following int value.\n",
    "input_value = 123\n",
    "\n",
    "#1+2+3 expected_output = 6\n",
    "\n",
    "input_value = 56789\n",
    "\n",
    "#5+6+7+8+9 expected_output = 35\n",
    "\n",
    "#NOTE: Don't convert int to string. Don't use built-in functions. Write your own code."
   ]
  },
  {
   "cell_type": "code",
   "execution_count": 59,
   "id": "dcb71fd3",
   "metadata": {},
   "outputs": [
    {
     "name": "stdout",
     "output_type": "stream",
     "text": [
      "6\n"
     ]
    }
   ],
   "source": [
    "num=123\n",
    "addition=0\n",
    "while num !=0:\n",
    "    rem = num%10\n",
    "    addition = addition+rem\n",
    "    num=num//10\n",
    "print(addition)\n",
    "    "
   ]
  },
  {
   "cell_type": "markdown",
   "id": "a42f9513",
   "metadata": {},
   "source": [
    "****Make Addition Of following Numbers***"
   ]
  },
  {
   "cell_type": "code",
   "execution_count": 62,
   "id": "0cb29384",
   "metadata": {},
   "outputs": [
    {
     "name": "stdout",
     "output_type": "stream",
     "text": [
      "23\n"
     ]
    }
   ],
   "source": [
    "num=4568\n",
    "addition=0\n",
    "while num !=0:  #If the condition is true then execute below lines\n",
    "    rem=num%10   #4568%10=8\n",
    "    addition=addition+rem #addition=8\n",
    "    num=num//10 ## num//10=456\n",
    "    \n",
    "print(addition)\n",
    "    "
   ]
  },
  {
   "cell_type": "markdown",
   "id": "b816e42a",
   "metadata": {},
   "source": [
    "Write a program to findout number is prime or not\n",
    "7 OUTPUT Prime\n",
    "\n",
    "8 OUTPUT Non-prime\n",
    "\n",
    "17 OUTPUT Prime"
   ]
  },
  {
   "cell_type": "code",
   "execution_count": 70,
   "id": "32e61297",
   "metadata": {},
   "outputs": [
    {
     "name": "stdout",
     "output_type": "stream",
     "text": [
      "Prime\n"
     ]
    }
   ],
   "source": [
    "number = 5\n",
    "is_prime = True # By default we will say that input value is prime\n",
    "\n",
    "for i in range(2, number):\n",
    "    if number%i == 0:\n",
    "        is_prime = False # If number is non-prime re-assign the value to False\n",
    "\n",
    "if is_prime:\n",
    "    print(\"Prime\")\n",
    "else:\n",
    "    print(\"Non-prime\")"
   ]
  },
  {
   "cell_type": "code",
   "execution_count": null,
   "id": "d3c0255d",
   "metadata": {},
   "outputs": [],
   "source": []
  },
  {
   "cell_type": "code",
   "execution_count": null,
   "id": "ff4f43af",
   "metadata": {},
   "outputs": [],
   "source": []
  },
  {
   "cell_type": "code",
   "execution_count": null,
   "id": "90fe0c28",
   "metadata": {},
   "outputs": [],
   "source": []
  },
  {
   "cell_type": "code",
   "execution_count": null,
   "id": "252b5cde",
   "metadata": {},
   "outputs": [],
   "source": []
  },
  {
   "cell_type": "code",
   "execution_count": null,
   "id": "8019b306",
   "metadata": {},
   "outputs": [],
   "source": []
  },
  {
   "cell_type": "code",
   "execution_count": null,
   "id": "f6ed534f",
   "metadata": {},
   "outputs": [],
   "source": []
  },
  {
   "cell_type": "code",
   "execution_count": null,
   "id": "55e19f78",
   "metadata": {},
   "outputs": [],
   "source": []
  },
  {
   "cell_type": "code",
   "execution_count": null,
   "id": "3db2b977",
   "metadata": {},
   "outputs": [],
   "source": []
  },
  {
   "cell_type": "markdown",
   "id": "a3c7df16",
   "metadata": {},
   "source": [
    "# Write a program to print 10, 9, 8, 7, 6, 5, 4, 3, 2, 1 using range built-in method"
   ]
  },
  {
   "cell_type": "code",
   "execution_count": 95,
   "id": "e2d07899",
   "metadata": {},
   "outputs": [
    {
     "name": "stdout",
     "output_type": "stream",
     "text": [
      "10\n",
      "9\n",
      "8\n",
      "7\n",
      "6\n",
      "5\n",
      "4\n",
      "3\n",
      "2\n",
      "1\n"
     ]
    }
   ],
   "source": [
    "for i in range(10,0,-1):\n",
    "    print(i)\n"
   ]
  },
  {
   "cell_type": "code",
   "execution_count": 76,
   "id": "426c5674",
   "metadata": {},
   "outputs": [
    {
     "name": "stdout",
     "output_type": "stream",
     "text": [
      "1\n",
      "2\n",
      "3\n",
      "4\n",
      "5\n",
      "6\n",
      "7\n",
      "8\n",
      "9\n",
      "10\n"
     ]
    }
   ],
   "source": [
    "for i in range(1,11):\n",
    "    print(i)"
   ]
  },
  {
   "cell_type": "code",
   "execution_count": null,
   "id": "d815872d",
   "metadata": {},
   "outputs": [],
   "source": [
    "for i in range(2,21,2):\n",
    "    print(i)"
   ]
  },
  {
   "cell_type": "code",
   "execution_count": null,
   "id": "5f51cab5",
   "metadata": {},
   "outputs": [],
   "source": []
  },
  {
   "cell_type": "code",
   "execution_count": 75,
   "id": "7d338959",
   "metadata": {},
   "outputs": [
    {
     "data": {
      "text/plain": [
       "4"
      ]
     },
     "execution_count": 75,
     "metadata": {},
     "output_type": "execute_result"
    }
   ],
   "source": [
    "num=for i in range(1,11):\n",
    "    print(i)\n",
    "reverse=8\n",
    "while num !=0:\n",
    "    rem=num%10 # rem=42%10=2\n",
    "    reverse=(reverse*10)+rem# reverse=82\n",
    "    num=num//10#num=42//10=4\n",
    "print(reverse)"
   ]
  },
  {
   "cell_type": "code",
   "execution_count": 87,
   "id": "b3b660f8",
   "metadata": {},
   "outputs": [
    {
     "name": "stdout",
     "output_type": "stream",
     "text": [
      "0\n"
     ]
    }
   ],
   "source": [
    "\n",
    "for i in range(1,11):\n",
    "    i = i%10\n",
    "print(i)\n",
    "    "
   ]
  },
  {
   "cell_type": "code",
   "execution_count": 84,
   "id": "485ad87a",
   "metadata": {},
   "outputs": [
    {
     "ename": "TypeError",
     "evalue": "unsupported operand type(s) for %: 'range' and 'int'",
     "output_type": "error",
     "traceback": [
      "\u001b[1;31m---------------------------------------------------------------------------\u001b[0m",
      "\u001b[1;31mTypeError\u001b[0m                                 Traceback (most recent call last)",
      "\u001b[1;32m<ipython-input-84-170eda3caf16>\u001b[0m in \u001b[0;36m<module>\u001b[1;34m\u001b[0m\n\u001b[1;32m----> 1\u001b[1;33m \u001b[1;32mfor\u001b[0m \u001b[0mi\u001b[0m \u001b[1;32min\u001b[0m \u001b[0mrange\u001b[0m\u001b[1;33m(\u001b[0m\u001b[1;36m1\u001b[0m\u001b[1;33m,\u001b[0m\u001b[1;36m11\u001b[0m\u001b[1;33m)\u001b[0m\u001b[1;33m%\u001b[0m\u001b[1;36m10\u001b[0m\u001b[1;33m:\u001b[0m\u001b[1;33m\u001b[0m\u001b[1;33m\u001b[0m\u001b[0m\n\u001b[0m\u001b[0;32m      2\u001b[0m      \u001b[0mprint\u001b[0m\u001b[1;33m(\u001b[0m\u001b[0mi\u001b[0m\u001b[1;33m)\u001b[0m\u001b[1;33m\u001b[0m\u001b[1;33m\u001b[0m\u001b[0m\n\u001b[0;32m      3\u001b[0m \u001b[1;33m\u001b[0m\u001b[0m\n",
      "\u001b[1;31mTypeError\u001b[0m: unsupported operand type(s) for %: 'range' and 'int'"
     ]
    }
   ],
   "source": [
    "\n",
    "   "
   ]
  },
  {
   "cell_type": "code",
   "execution_count": null,
   "id": "92025072",
   "metadata": {},
   "outputs": [],
   "source": [
    "list1=[1,2,3]\n",
    "for i in range"
   ]
  },
  {
   "cell_type": "markdown",
   "id": "e18d6986",
   "metadata": {},
   "source": [
    "input_list = [1,2]\n",
    "\n",
    "OUTPUT\n",
    "    [1,2]\n",
    "    [2,1]\n"
   ]
  },
  {
   "cell_type": "code",
   "execution_count": 37,
   "id": "5de84af5",
   "metadata": {},
   "outputs": [
    {
     "name": "stdout",
     "output_type": "stream",
     "text": [
      "12 []\n",
      "12 []\n",
      "[1, 2]\n"
     ]
    }
   ],
   "source": [
    "num=[1,2]\n",
    "num1=[]\n",
    "num2=[]\n",
    "for i in num:\n",
    "    x=len(num)\n",
    "    num1=x%10\n",
    "    num1=num1+10\n",
    "    num1//10\n",
    "    print(num1,num2)\n",
    "print(num)"
   ]
  },
  {
   "cell_type": "markdown",
   "id": "f542adff",
   "metadata": {},
   "source": [
    "Given a string and a non-negative int n, return a larger string that is n copies of the original string.\n",
    "\n",
    "\n",
    "string_times('Hi', 2) → 'HiHi'\n",
    "string_times('Hi', 3) → 'HiHiHi'\n",
    "string_times('Hi', 1) → 'Hi'"
   ]
  },
  {
   "cell_type": "code",
   "execution_count": 14,
   "id": "ccc781d4",
   "metadata": {},
   "outputs": [],
   "source": [
    "def string_times(str, n):\n",
    "    result = \"\"\n",
    "    for i in range(n):  # range(n) is [0, 1, 2, .... n-1]\n",
    "        result = result + str  # could use += here\n",
    "    print(result)"
   ]
  },
  {
   "cell_type": "code",
   "execution_count": null,
   "id": "c2915124",
   "metadata": {},
   "outputs": [],
   "source": []
  }
 ],
 "metadata": {
  "kernelspec": {
   "display_name": "Python 3",
   "language": "python",
   "name": "python3"
  },
  "language_info": {
   "codemirror_mode": {
    "name": "ipython",
    "version": 3
   },
   "file_extension": ".py",
   "mimetype": "text/x-python",
   "name": "python",
   "nbconvert_exporter": "python",
   "pygments_lexer": "ipython3",
   "version": "3.8.8"
  }
 },
 "nbformat": 4,
 "nbformat_minor": 5
}
