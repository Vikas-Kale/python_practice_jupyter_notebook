{
 "cells": [
  {
   "cell_type": "code",
   "execution_count": 5,
   "id": "a92e27d3",
   "metadata": {},
   "outputs": [
    {
     "name": "stdout",
     "output_type": "stream",
     "text": [
      "Hello Vikas\n"
     ]
    }
   ],
   "source": [
    "def name_d (func):\n",
    "    def inner():\n",
    "        re=func()\n",
    "        return \"Hello \" + re\n",
    "    return inner\n",
    "        \n",
    "\n",
    "@name_d\n",
    "def name():\n",
    "    return \"Vikas\"\n",
    "print(name())"
   ]
  },
  {
   "cell_type": "code",
   "execution_count": 8,
   "id": "d64bd5b0",
   "metadata": {},
   "outputs": [
    {
     "name": "stdout",
     "output_type": "stream",
     "text": [
      "string length is valid! 5\n"
     ]
    }
   ],
   "source": [
    "# This is decorated function.\n",
    "def chk_decorator(func):\n",
    "    def wrapper(input_string):\n",
    "        if type(input_string)==str and len(input_string)==5:\n",
    "            print(\"string length is valid!\",len(input_string))\n",
    "        elif type(input_string)==str and len(input_string)!=5:\n",
    "            print(\"string length is not valid\",len(input_string))\n",
    "    return wrapper\n",
    "\n",
    "\n",
    "# This is a main function \n",
    "@chk_decorator\n",
    "def chk_input_str(input_string):\n",
    "    print(\"string is valid :in chk input string\")\n",
    "    \n",
    "chk_input_str(\"Vikas\")"
   ]
  },
  {
   "cell_type": "code",
   "execution_count": 9,
   "id": "3e5ba005",
   "metadata": {},
   "outputs": [
    {
     "name": "stdout",
     "output_type": "stream",
     "text": [
      "string length is not valid 3\n"
     ]
    }
   ],
   "source": [
    "chk_input_str(\"sam\")"
   ]
  },
  {
   "cell_type": "code",
   "execution_count": null,
   "id": "c8876aeb",
   "metadata": {},
   "outputs": [],
   "source": []
  }
 ],
 "metadata": {
  "kernelspec": {
   "display_name": "Python 3",
   "language": "python",
   "name": "python3"
  },
  "language_info": {
   "codemirror_mode": {
    "name": "ipython",
    "version": 3
   },
   "file_extension": ".py",
   "mimetype": "text/x-python",
   "name": "python",
   "nbconvert_exporter": "python",
   "pygments_lexer": "ipython3",
   "version": "3.8.8"
  }
 },
 "nbformat": 4,
 "nbformat_minor": 5
}
