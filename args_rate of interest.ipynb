{
 "cells": [
  {
   "cell_type": "markdown",
   "id": "45e3271e",
   "metadata": {},
   "source": [
    "# Write a program to print all possible ways of creating list from given list"
   ]
  },
  {
   "cell_type": "markdown",
   "id": "9121a54a",
   "metadata": {},
   "source": [
    "input_list = [1,2,3,4]\n",
    " OUTPUT: [1,2,3,4] [2,3,4,1] [3,4,1,2] [4,1,2,3]"
   ]
  },
  {
   "cell_type": "code",
   "execution_count": 4,
   "id": "3736d4e9",
   "metadata": {},
   "outputs": [
    {
     "name": "stdout",
     "output_type": "stream",
     "text": [
      "[2, 3, 4, 1]\n",
      "[3, 4, 1, 2]\n",
      "[4, 1, 2, 3]\n",
      "[1, 2, 3, 4]\n"
     ]
    }
   ],
   "source": [
    "input_list=[1,2,3,4]\n",
    "for i in range(len(input_list)):\n",
    "    oth_index=input_list.pop(0)\n",
    "    input_list.append(oth_index)\n",
    "    print(input_list)"
   ]
  },
  {
   "cell_type": "markdown",
   "id": "858d09bb",
   "metadata": {},
   "source": []
  },
  {
   "cell_type": "markdown",
   "id": "cdd6750e",
   "metadata": {},
   "source": [
    "num=[1,2]\n",
    "output=[1,2][2,1]"
   ]
  },
  {
   "cell_type": "code",
   "execution_count": 5,
   "id": "b8f79469",
   "metadata": {},
   "outputs": [
    {
     "name": "stdout",
     "output_type": "stream",
     "text": [
      "[2, 1]\n",
      "[1, 2]\n"
     ]
    }
   ],
   "source": [
    "num=[1,2]\n",
    "for i in range(len(num)):\n",
    "    oth_index=num.pop(0)\n",
    "    num.append(oth_index)\n",
    "    print(num)"
   ]
  },
  {
   "cell_type": "markdown",
   "id": "0762570a",
   "metadata": {},
   "source": []
  },
  {
   "cell_type": "markdown",
   "id": "e88bb6a2",
   "metadata": {},
   "source": [
    "input_list = ['a','b','c','d','e']\n",
    "\n",
    "OUTPUT\n",
    "    ['a','b','c','d','e']\n",
    "    ['b','c','d','e','a']\n",
    "    ['c','d','e','a','b']\n",
    "    ['d','e','a','b','c']\n",
    "    ['e','a','b','c','d']"
   ]
  },
  {
   "cell_type": "code",
   "execution_count": 18,
   "id": "d5b5fa42",
   "metadata": {},
   "outputs": [
    {
     "name": "stdout",
     "output_type": "stream",
     "text": [
      "['b', 'c', 'd', 'e', 'a']\n",
      "['c', 'd', 'e', 'a', 'b']\n",
      "['d', 'e', 'a', 'b', 'c']\n",
      "['e', 'a', 'b', 'c', 'd']\n",
      "['a', 'b', 'c', 'd', 'e']\n"
     ]
    }
   ],
   "source": [
    "input_list=['a','b','c','d','e']\n",
    "for i in range(len(input_list)):\n",
    "    oth_index=input_list.pop(0)\n",
    "    input_list.append(oth_index)\n",
    "    print(input_list)"
   ]
  },
  {
   "cell_type": "markdown",
   "id": "fdb3867c",
   "metadata": {},
   "source": []
  },
  {
   "cell_type": "code",
   "execution_count": 8,
   "id": "139f0476",
   "metadata": {},
   "outputs": [],
   "source": [
    "def add(num1,num2):\n",
    "    print('addition of num1 and num2: ',num1+num2)\n",
    "   "
   ]
  },
  {
   "cell_type": "code",
   "execution_count": 9,
   "id": "1f1c3d91",
   "metadata": {},
   "outputs": [
    {
     "name": "stdout",
     "output_type": "stream",
     "text": [
      "addition of num1 and num2:  100\n"
     ]
    }
   ],
   "source": [
    "add(20,80)"
   ]
  },
  {
   "cell_type": "code",
   "execution_count": 10,
   "id": "917e5857",
   "metadata": {},
   "outputs": [],
   "source": [
    "def add(num1,num2):\n",
    "    return num1+num2 "
   ]
  },
  {
   "cell_type": "code",
   "execution_count": 11,
   "id": "f630ccec",
   "metadata": {},
   "outputs": [
    {
     "data": {
      "text/plain": [
       "95"
      ]
     },
     "execution_count": 11,
     "metadata": {},
     "output_type": "execute_result"
    }
   ],
   "source": [
    "add(45,50)"
   ]
  },
  {
   "cell_type": "code",
   "execution_count": 12,
   "id": "5dcb2ab8",
   "metadata": {},
   "outputs": [],
   "source": [
    "def mul(num1=5, num2= 10):\n",
    "    \"\"\"\n",
    "    Mul is user defined function which have default value for num1 is 5 and num2 is 10\n",
    "    if you haven't passed any value while calling mul it will not going to give any error.\n",
    "    It will use default value which is 5 and 10.\n",
    "    \n",
    "    If you passed value to it for ex: 12, 4 then it will override default value and picit up new one.\n",
    "    \"\"\"\n",
    "    print(\"Value of num1 {} and num2 {}\".format(num1, num2))\n",
    "    \n",
    "    print(\"Multiplication  : \", num1* num2)"
   ]
  },
  {
   "cell_type": "code",
   "execution_count": 13,
   "id": "4b9f2430",
   "metadata": {},
   "outputs": [
    {
     "name": "stdout",
     "output_type": "stream",
     "text": [
      "Value of num1 5 and num2 10\n",
      "Multiplication  :  50\n"
     ]
    }
   ],
   "source": [
    "mul()"
   ]
  },
  {
   "cell_type": "code",
   "execution_count": 14,
   "id": "b268db0d",
   "metadata": {},
   "outputs": [
    {
     "name": "stdout",
     "output_type": "stream",
     "text": [
      "Value of num1 12 and num2 10\n",
      "Multiplication  :  120\n"
     ]
    }
   ],
   "source": [
    "mul(12)"
   ]
  },
  {
   "cell_type": "code",
   "execution_count": 15,
   "id": "bcbfe9e1",
   "metadata": {},
   "outputs": [
    {
     "name": "stdout",
     "output_type": "stream",
     "text": [
      "Help on function mul in module __main__:\n",
      "\n",
      "mul(num1=5, num2=10)\n",
      "    Mul is user defined function which have default value for num1 is 5 and num2 is 10\n",
      "    if you haven't passed any value while calling mul it will not going to give any error.\n",
      "    It will use default value which is 5 and 10.\n",
      "    \n",
      "    If you passed value to it for ex: 12, 4 then it will override default value and picit up new one.\n",
      "\n"
     ]
    }
   ],
   "source": [
    "help(mul)"
   ]
  },
  {
   "cell_type": "code",
   "execution_count": 16,
   "id": "aaea7f69",
   "metadata": {},
   "outputs": [],
   "source": [
    "def mul(num1=4,num2=10):\n",
    "    print('Multiplication of num1 {} and num2 {} is: '.format(num1,num2))\n",
    "    print('Multiplication: ',num1*num2)"
   ]
  },
  {
   "cell_type": "code",
   "execution_count": 17,
   "id": "762f7f5f",
   "metadata": {},
   "outputs": [
    {
     "name": "stdout",
     "output_type": "stream",
     "text": [
      "Multiplication of num1 4 and num2 10 is: \n",
      "Multiplication:  40\n"
     ]
    }
   ],
   "source": [
    "mul()"
   ]
  },
  {
   "cell_type": "markdown",
   "id": "8fdc0205",
   "metadata": {},
   "source": [
    "# Calculate rate of interest "
   ]
  },
  {
   "cell_type": "code",
   "execution_count": 47,
   "id": "3e941717",
   "metadata": {},
   "outputs": [
    {
     "name": "stdout",
     "output_type": "stream",
     "text": [
      "Amount you have taken 10000 \n",
      "Total interest you need to pay 2400 \n",
      "Total amount with interest is 12400: \n"
     ]
    }
   ],
   "source": [
    "def cal_rate_of_interest(amount,years,rate_of_interest=12):\n",
    "    \n",
    "    yearly_interest=(amount*rate_of_interest)/100\n",
    "    \n",
    "    total_interest=yearly_interest*years\n",
    "    \n",
    "    print(\"Amount you have taken %d \\nTotal interest you need to pay %d \\nTotal amount with interest is %d: \"%(amount,total_interest,amount+total_interest))\n",
    "\n",
    "cal_rate_of_interest(10000,2)"
   ]
  },
  {
   "cell_type": "code",
   "execution_count": 49,
   "id": "3fc89ff4",
   "metadata": {},
   "outputs": [
    {
     "name": "stdout",
     "output_type": "stream",
     "text": [
      "Amount you have taken 10000 \n",
      "Total interest you need to pay 4000 \n",
      "Total amount with interest is 14000: \n"
     ]
    }
   ],
   "source": [
    "cal_rate_of_interest(10000,5,8)"
   ]
  },
  {
   "cell_type": "code",
   "execution_count": 58,
   "id": "c3d48239",
   "metadata": {},
   "outputs": [
    {
     "name": "stdout",
     "output_type": "stream",
     "text": [
      "value of a is 8 and value of b is 4 : \n"
     ]
    }
   ],
   "source": [
    "def value(a,b):\n",
    "    print(\"value of a is %d and value of b is %d : \"%(a,b))\n",
    "value(8,4)"
   ]
  },
  {
   "cell_type": "markdown",
   "id": "5e417334",
   "metadata": {},
   "source": [
    "# args"
   ]
  },
  {
   "cell_type": "markdown",
   "id": "8bc9463a",
   "metadata": {},
   "source": [
    "- *args accepts more than one argument.\n",
    "- args is argument in function\n",
    "- we can rename args to any variable or argument name."
   ]
  },
  {
   "cell_type": "code",
   "execution_count": 59,
   "id": "7451751a",
   "metadata": {},
   "outputs": [
    {
     "name": "stdout",
     "output_type": "stream",
     "text": [
      "(20, 23, 44, 56, 90, 89, 98)\n"
     ]
    }
   ],
   "source": [
    "def numbers(*score):\n",
    "    print(score)\n",
    "numbers(20,23,44,56,90,89,98)"
   ]
  },
  {
   "cell_type": "code",
   "execution_count": 2,
   "id": "965db5b2",
   "metadata": {},
   "outputs": [],
   "source": [
    "def values(*different_type_of_value):\n",
    "    print(different_type_of_value)\n"
   ]
  },
  {
   "cell_type": "code",
   "execution_count": 3,
   "id": "d4165922",
   "metadata": {},
   "outputs": [
    {
     "name": "stdout",
     "output_type": "stream",
     "text": [
      "([12, 23, 'vikas', 12.5, 78, ['python']],)\n"
     ]
    }
   ],
   "source": [
    "values([12,23,'vikas',12.5,78,['python']])"
   ]
  },
  {
   "cell_type": "code",
   "execution_count": 4,
   "id": "452c6c75",
   "metadata": {},
   "outputs": [
    {
     "data": {
      "text/plain": [
       "function"
      ]
     },
     "execution_count": 4,
     "metadata": {},
     "output_type": "execute_result"
    }
   ],
   "source": [
    "type(values)"
   ]
  },
  {
   "cell_type": "markdown",
   "id": "fdd90545",
   "metadata": {},
   "source": [
    "# Write a function to sort the nested list.\n"
   ]
  },
  {
   "cell_type": "markdown",
   "id": "dd7d6a81",
   "metadata": {},
   "source": [
    "input list = [10,2,4,50,[60,38,1,5]]\n",
    "\n",
    "output_list = [1,2,4,5,10,38,50,60]"
   ]
  },
  {
   "cell_type": "code",
   "execution_count": 45,
   "id": "68deb82e",
   "metadata": {},
   "outputs": [
    {
     "ename": "TypeError",
     "evalue": "'<' not supported between instances of 'list' and 'int'",
     "output_type": "error",
     "traceback": [
      "\u001b[1;31m---------------------------------------------------------------------------\u001b[0m",
      "\u001b[1;31mTypeError\u001b[0m                                 Traceback (most recent call last)",
      "\u001b[1;32m<ipython-input-45-ce4a0f9a2f33>\u001b[0m in \u001b[0;36m<module>\u001b[1;34m\u001b[0m\n\u001b[0;32m      1\u001b[0m \u001b[0minput_list\u001b[0m \u001b[1;33m=\u001b[0m \u001b[1;33m[\u001b[0m\u001b[1;36m10\u001b[0m\u001b[1;33m,\u001b[0m\u001b[1;36m2\u001b[0m\u001b[1;33m,\u001b[0m\u001b[1;36m4\u001b[0m\u001b[1;33m,\u001b[0m\u001b[1;36m50\u001b[0m\u001b[1;33m,\u001b[0m\u001b[1;33m[\u001b[0m\u001b[1;36m60\u001b[0m\u001b[1;33m,\u001b[0m\u001b[1;36m38\u001b[0m\u001b[1;33m,\u001b[0m\u001b[1;36m1\u001b[0m\u001b[1;33m,\u001b[0m\u001b[1;36m5\u001b[0m\u001b[1;33m]\u001b[0m\u001b[1;33m]\u001b[0m\u001b[1;33m\u001b[0m\u001b[1;33m\u001b[0m\u001b[0m\n\u001b[1;32m----> 2\u001b[1;33m \u001b[0minput_list\u001b[0m\u001b[1;33m.\u001b[0m\u001b[0msort\u001b[0m\u001b[1;33m(\u001b[0m\u001b[1;33m)\u001b[0m\u001b[1;33m\u001b[0m\u001b[1;33m\u001b[0m\u001b[0m\n\u001b[0m",
      "\u001b[1;31mTypeError\u001b[0m: '<' not supported between instances of 'list' and 'int'"
     ]
    }
   ],
   "source": [
    "input_list = [10,2,4,50,[60,38,1,5]]\n",
    "input_list.sort()"
   ]
  },
  {
   "cell_type": "code",
   "execution_count": 46,
   "id": "b31b572d",
   "metadata": {},
   "outputs": [
    {
     "name": "stdout",
     "output_type": "stream",
     "text": [
      "['__add__', '__class__', '__contains__', '__delattr__', '__delitem__', '__dir__', '__doc__', '__eq__', '__format__', '__ge__', '__getattribute__', '__getitem__', '__gt__', '__hash__', '__iadd__', '__imul__', '__init__', '__init_subclass__', '__iter__', '__le__', '__len__', '__lt__', '__mul__', '__ne__', '__new__', '__reduce__', '__reduce_ex__', '__repr__', '__reversed__', '__rmul__', '__setattr__', '__setitem__', '__sizeof__', '__str__', '__subclasshook__', 'append', 'clear', 'copy', 'count', 'extend', 'index', 'insert', 'pop', 'remove', 'reverse', 'sort']\n"
     ]
    }
   ],
   "source": [
    "print(dir(list))"
   ]
  },
  {
   "cell_type": "code",
   "execution_count": 67,
   "id": "f698050c",
   "metadata": {},
   "outputs": [
    {
     "ename": "IndexError",
     "evalue": "pop index out of range",
     "output_type": "error",
     "traceback": [
      "\u001b[1;31m---------------------------------------------------------------------------\u001b[0m",
      "\u001b[1;31mIndexError\u001b[0m                                Traceback (most recent call last)",
      "\u001b[1;32m<ipython-input-67-4bb98c8565d4>\u001b[0m in \u001b[0;36m<module>\u001b[1;34m\u001b[0m\n\u001b[0;32m      2\u001b[0m \u001b[0mx\u001b[0m\u001b[1;33m=\u001b[0m\u001b[0mnum\u001b[0m\u001b[1;33m[\u001b[0m\u001b[1;33m[\u001b[0m\u001b[1;33m-\u001b[0m\u001b[1;36m1\u001b[0m\u001b[1;33m]\u001b[0m\u001b[1;33m[\u001b[0m\u001b[1;33m-\u001b[0m\u001b[1;36m1\u001b[0m\u001b[1;33m]\u001b[0m\u001b[1;33m]\u001b[0m\u001b[1;33m\u001b[0m\u001b[1;33m\u001b[0m\u001b[0m\n\u001b[0;32m      3\u001b[0m \u001b[1;33m\u001b[0m\u001b[0m\n\u001b[1;32m----> 4\u001b[1;33m \u001b[0my\u001b[0m\u001b[1;33m=\u001b[0m\u001b[0mnum\u001b[0m\u001b[1;33m.\u001b[0m\u001b[0mpop\u001b[0m\u001b[1;33m(\u001b[0m\u001b[0mx\u001b[0m\u001b[1;33m)\u001b[0m\u001b[1;33m\u001b[0m\u001b[1;33m\u001b[0m\u001b[0m\n\u001b[0m\u001b[0;32m      5\u001b[0m \u001b[0mprint\u001b[0m\u001b[1;33m(\u001b[0m\u001b[0my\u001b[0m\u001b[1;33m)\u001b[0m\u001b[1;33m\u001b[0m\u001b[1;33m\u001b[0m\u001b[0m\n\u001b[0;32m      6\u001b[0m \u001b[0mprint\u001b[0m\u001b[1;33m(\u001b[0m\u001b[0mnum\u001b[0m\u001b[1;33m)\u001b[0m\u001b[1;33m\u001b[0m\u001b[1;33m\u001b[0m\u001b[0m\n",
      "\u001b[1;31mIndexError\u001b[0m: pop index out of range"
     ]
    }
   ],
   "source": [
    "input_list = [10,2,4,50,[60,38,1,5]]\n",
    "x=num[[-1][-1]]\n",
    "\n",
    "y=num.pop(x)\n",
    "print(y)\n",
    "print(num)\n",
    "num.append(60)\n",
    "num.append(38)\n",
    "num.append(1)\n",
    "num.append(5)\n",
    "\n",
    "num.sort()\n",
    "print(num)"
   ]
  },
  {
   "cell_type": "code",
   "execution_count": null,
   "id": "a4d4553e",
   "metadata": {},
   "outputs": [],
   "source": []
  },
  {
   "cell_type": "code",
   "execution_count": null,
   "id": "82e2a2bc",
   "metadata": {},
   "outputs": [],
   "source": []
  },
  {
   "cell_type": "code",
   "execution_count": null,
   "id": "5a20a3ed",
   "metadata": {},
   "outputs": [],
   "source": []
  },
  {
   "cell_type": "code",
   "execution_count": null,
   "id": "bcc4056c",
   "metadata": {},
   "outputs": [],
   "source": []
  },
  {
   "cell_type": "code",
   "execution_count": null,
   "id": "0263254a",
   "metadata": {},
   "outputs": [],
   "source": []
  },
  {
   "cell_type": "code",
   "execution_count": null,
   "id": "794269f2",
   "metadata": {},
   "outputs": [],
   "source": []
  },
  {
   "cell_type": "code",
   "execution_count": null,
   "id": "5494e775",
   "metadata": {},
   "outputs": [],
   "source": []
  },
  {
   "cell_type": "code",
   "execution_count": null,
   "id": "dbe4f635",
   "metadata": {},
   "outputs": [],
   "source": []
  },
  {
   "cell_type": "code",
   "execution_count": null,
   "id": "38b78457",
   "metadata": {},
   "outputs": [],
   "source": []
  },
  {
   "cell_type": "code",
   "execution_count": 18,
   "id": "1df88005",
   "metadata": {},
   "outputs": [
    {
     "name": "stdout",
     "output_type": "stream",
     "text": [
      "\n",
      " input List:  [10, 2, 4, 50, [60, 38, 1, 5]]\n"
     ]
    },
    {
     "ename": "TypeError",
     "evalue": "'<' not supported between instances of 'list' and 'int'",
     "output_type": "error",
     "traceback": [
      "\u001b[1;31m---------------------------------------------------------------------------\u001b[0m",
      "\u001b[1;31mTypeError\u001b[0m                                 Traceback (most recent call last)",
      "\u001b[1;32m<ipython-input-18-ed7ce3288d77>\u001b[0m in \u001b[0;36m<module>\u001b[1;34m\u001b[0m\n\u001b[0;32m      5\u001b[0m \u001b[0mprint\u001b[0m\u001b[1;33m(\u001b[0m\u001b[1;34m\"\\n input List: \"\u001b[0m\u001b[1;33m,\u001b[0m\u001b[0minput_list\u001b[0m\u001b[1;33m)\u001b[0m\u001b[1;33m\u001b[0m\u001b[1;33m\u001b[0m\u001b[0m\n\u001b[0;32m      6\u001b[0m \u001b[1;33m\u001b[0m\u001b[0m\n\u001b[1;32m----> 7\u001b[1;33m \u001b[0minput_list\u001b[0m\u001b[1;33m.\u001b[0m\u001b[0msort\u001b[0m\u001b[1;33m(\u001b[0m\u001b[1;33m)\u001b[0m\u001b[1;33m\u001b[0m\u001b[1;33m\u001b[0m\u001b[0m\n\u001b[0m\u001b[0;32m      8\u001b[0m \u001b[0mprint\u001b[0m\u001b[1;33m(\u001b[0m\u001b[1;34m\"Sorted list: \"\u001b[0m\u001b[1;33m,\u001b[0m\u001b[0minput_list\u001b[0m\u001b[1;33m)\u001b[0m\u001b[1;33m\u001b[0m\u001b[1;33m\u001b[0m\u001b[0m\n",
      "\u001b[1;31mTypeError\u001b[0m: '<' not supported between instances of 'list' and 'int'"
     ]
    }
   ],
   "source": [
    "def nested(*values):\n",
    "    return len(values)\n",
    "\n",
    "input_list = [10,2,4,50,[60,38,1,5]]\n",
    "print(\"\\n input List: \",input_list)\n",
    "\n",
    "input_list.sort()\n",
    "print(\"Sorted list: \",input_list)"
   ]
  },
  {
   "cell_type": "code",
   "execution_count": 19,
   "id": "89cb6485",
   "metadata": {},
   "outputs": [],
   "source": [
    "input_list = [10,2,4,50,[60,38,1,5]]"
   ]
  },
  {
   "cell_type": "code",
   "execution_count": 20,
   "id": "3cc58cde",
   "metadata": {},
   "outputs": [
    {
     "data": {
      "text/plain": [
       "list"
      ]
     },
     "execution_count": 20,
     "metadata": {},
     "output_type": "execute_result"
    }
   ],
   "source": [
    "type(input_list)"
   ]
  },
  {
   "cell_type": "code",
   "execution_count": 21,
   "id": "da23176e",
   "metadata": {},
   "outputs": [
    {
     "data": {
      "text/plain": [
       "5"
      ]
     },
     "execution_count": 21,
     "metadata": {},
     "output_type": "execute_result"
    }
   ],
   "source": [
    "len(input_list)"
   ]
  },
  {
   "cell_type": "code",
   "execution_count": 44,
   "id": "5102fc07",
   "metadata": {},
   "outputs": [
    {
     "data": {
      "text/plain": [
       "5"
      ]
     },
     "execution_count": 44,
     "metadata": {},
     "output_type": "execute_result"
    }
   ],
   "source": [
    "def input_list(*args):\n",
    "    return len(args[0])\n",
    "    \n",
    "    \n",
    "    \n",
    "   \n",
    "    \n",
    "\n",
    "\n",
    "\n",
    "input_list([10,2,4,50,[60,38,1,5]])\n"
   ]
  },
  {
   "cell_type": "code",
   "execution_count": 13,
   "id": "ca327863",
   "metadata": {},
   "outputs": [
    {
     "name": "stdout",
     "output_type": "stream",
     "text": [
      "\n",
      " Original List =  ['apple', 'oranges', 'blackberry', 'kiwi', 'cherry']\n",
      "Sorted List in Ascending =  ['kiwi', 'apple', 'cherry', 'oranges', 'blackberry']\n",
      "Sorted List in Descending=  ['blackberry', 'oranges', 'cherry', 'apple', 'kiwi']\n"
     ]
    }
   ],
   "source": [
    "def length(str):\n",
    "    return len(str)\n",
    "\n",
    "fruitlist = ['apple', 'oranges', 'blackberry', 'kiwi', 'cherry']\n",
    "print(\"\\n Original List = \", fruitlist)\n",
    "\n",
    "fruitlist.sort(key = length)\n",
    "print(\"Sorted List in Ascending = \", fruitlist)\n",
    "\n",
    "# Sort Python List in Descending Order\n",
    "fruitlist.sort(reverse = True, key = length)\n",
    "print(\"Sorted List in Descending= \", fruitlist)"
   ]
  },
  {
   "cell_type": "code",
   "execution_count": 4,
   "id": "31fac3e1",
   "metadata": {},
   "outputs": [
    {
     "name": "stdout",
     "output_type": "stream",
     "text": [
      "('vikas', 24, 7798743804, 'Pune')\n"
     ]
    }
   ],
   "source": [
    "def person(*args):\n",
    "    \n",
    "    print(args)\n",
    "\n",
    "person('vikas',24,7798743804,'Pune')\n",
    "\n",
    "\n"
   ]
  },
  {
   "cell_type": "code",
   "execution_count": null,
   "id": "9c11108b",
   "metadata": {},
   "outputs": [],
   "source": []
  }
 ],
 "metadata": {
  "kernelspec": {
   "display_name": "Python 3",
   "language": "python",
   "name": "python3"
  },
  "language_info": {
   "codemirror_mode": {
    "name": "ipython",
    "version": 3
   },
   "file_extension": ".py",
   "mimetype": "text/x-python",
   "name": "python",
   "nbconvert_exporter": "python",
   "pygments_lexer": "ipython3",
   "version": "3.8.8"
  }
 },
 "nbformat": 4,
 "nbformat_minor": 5
}
