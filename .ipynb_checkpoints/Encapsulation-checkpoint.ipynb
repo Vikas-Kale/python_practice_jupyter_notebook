{
 "cells": [
  {
   "cell_type": "code",
   "execution_count": 1,
   "id": "a9468344",
   "metadata": {},
   "outputs": [],
   "source": [
    "class Test:\n",
    "    num=100\n",
    "    \n",
    "    def _showdata(self):\n",
    "        print(\"In protected showdata of Test class!\")"
   ]
  },
  {
   "cell_type": "code",
   "execution_count": 2,
   "id": "26de0514",
   "metadata": {},
   "outputs": [],
   "source": [
    "t1=Test()"
   ]
  },
  {
   "cell_type": "code",
   "execution_count": 3,
   "id": "5131037b",
   "metadata": {},
   "outputs": [
    {
     "data": {
      "text/plain": [
       "100"
      ]
     },
     "execution_count": 3,
     "metadata": {},
     "output_type": "execute_result"
    }
   ],
   "source": [
    "t1.num"
   ]
  },
  {
   "cell_type": "code",
   "execution_count": 5,
   "id": "e56f51f0",
   "metadata": {},
   "outputs": [
    {
     "name": "stdout",
     "output_type": "stream",
     "text": [
      "In protected showdata of Test class!\n"
     ]
    }
   ],
   "source": [
    "t1._showdata()"
   ]
  },
  {
   "cell_type": "code",
   "execution_count": 22,
   "id": "ef7f29fd",
   "metadata": {},
   "outputs": [],
   "source": [
    "class Test:\n",
    "    num=100\n",
    "    \n",
    "    def _showdata(self):\n",
    "        print(\"showdata is protected method of test class!\")\n",
    "        \n",
    "class Student:\n",
    "    def printdata(self):\n",
    "        print(\"printdata is protected method of student class\")"
   ]
  },
  {
   "cell_type": "code",
   "execution_count": 7,
   "id": "bafafc43",
   "metadata": {},
   "outputs": [],
   "source": [
    "t2=Student()"
   ]
  },
  {
   "cell_type": "code",
   "execution_count": 8,
   "id": "67b90e00",
   "metadata": {},
   "outputs": [
    {
     "name": "stdout",
     "output_type": "stream",
     "text": [
      "printdata is protected method of student class\n"
     ]
    }
   ],
   "source": [
    "t2.printdata()"
   ]
  },
  {
   "cell_type": "code",
   "execution_count": 9,
   "id": "b9e4856f",
   "metadata": {},
   "outputs": [
    {
     "ename": "AttributeError",
     "evalue": "'Student' object has no attribute '_showdata'",
     "output_type": "error",
     "traceback": [
      "\u001b[1;31m---------------------------------------------------------------------------\u001b[0m",
      "\u001b[1;31mAttributeError\u001b[0m                            Traceback (most recent call last)",
      "\u001b[1;32m<ipython-input-9-cbd9fe7a563e>\u001b[0m in \u001b[0;36m<module>\u001b[1;34m\u001b[0m\n\u001b[1;32m----> 1\u001b[1;33m \u001b[0mt2\u001b[0m\u001b[1;33m.\u001b[0m\u001b[0m_showdata\u001b[0m\u001b[1;33m(\u001b[0m\u001b[1;33m)\u001b[0m\u001b[1;33m\u001b[0m\u001b[1;33m\u001b[0m\u001b[0m\n\u001b[0m",
      "\u001b[1;31mAttributeError\u001b[0m: 'Student' object has no attribute '_showdata'"
     ]
    }
   ],
   "source": [
    "t2._showdata()"
   ]
  },
  {
   "cell_type": "code",
   "execution_count": 10,
   "id": "9b39783e",
   "metadata": {},
   "outputs": [
    {
     "name": "stdout",
     "output_type": "stream",
     "text": [
      "['__class__', '__delattr__', '__dict__', '__dir__', '__doc__', '__eq__', '__format__', '__ge__', '__getattribute__', '__gt__', '__hash__', '__init__', '__init_subclass__', '__le__', '__lt__', '__module__', '__ne__', '__new__', '__reduce__', '__reduce_ex__', '__repr__', '__setattr__', '__sizeof__', '__str__', '__subclasshook__', '__weakref__', 'printdata']\n"
     ]
    }
   ],
   "source": [
    "print(dir(t2))"
   ]
  },
  {
   "cell_type": "code",
   "execution_count": 23,
   "id": "1d8024f8",
   "metadata": {},
   "outputs": [],
   "source": [
    "b1=Test()"
   ]
  },
  {
   "cell_type": "code",
   "execution_count": 24,
   "id": "8195c6a3",
   "metadata": {},
   "outputs": [
    {
     "name": "stdout",
     "output_type": "stream",
     "text": [
      "showdata is protected method of test class!\n"
     ]
    }
   ],
   "source": [
    "b1._showdata()"
   ]
  },
  {
   "cell_type": "code",
   "execution_count": 25,
   "id": "089d61a6",
   "metadata": {},
   "outputs": [
    {
     "ename": "AttributeError",
     "evalue": "'Test' object has no attribute 'printdata'",
     "output_type": "error",
     "traceback": [
      "\u001b[1;31m---------------------------------------------------------------------------\u001b[0m",
      "\u001b[1;31mAttributeError\u001b[0m                            Traceback (most recent call last)",
      "\u001b[1;32m<ipython-input-25-4c76b5a88ee0>\u001b[0m in \u001b[0;36m<module>\u001b[1;34m\u001b[0m\n\u001b[1;32m----> 1\u001b[1;33m \u001b[0mb1\u001b[0m\u001b[1;33m.\u001b[0m\u001b[0mprintdata\u001b[0m\u001b[1;33m(\u001b[0m\u001b[1;33m)\u001b[0m\u001b[1;33m\u001b[0m\u001b[1;33m\u001b[0m\u001b[0m\n\u001b[0m",
      "\u001b[1;31mAttributeError\u001b[0m: 'Test' object has no attribute 'printdata'"
     ]
    }
   ],
   "source": [
    "b1.printdata()"
   ]
  },
  {
   "cell_type": "code",
   "execution_count": null,
   "id": "11e1dd68",
   "metadata": {},
   "outputs": [],
   "source": []
  },
  {
   "cell_type": "code",
   "execution_count": null,
   "id": "82fac24a",
   "metadata": {},
   "outputs": [],
   "source": []
  },
  {
   "cell_type": "code",
   "execution_count": 11,
   "id": "a0a0630e",
   "metadata": {},
   "outputs": [],
   "source": [
    "class Test:\n",
    "    __num=100\n",
    "    \n",
    "    def __showdata(self):\n",
    "        print(\"showdata is protected method of test class\")\n",
    "\n",
    "class Student(Test):\n",
    "    def printdata(self):\n",
    "        print(\"printdata is public method\")"
   ]
  },
  {
   "cell_type": "code",
   "execution_count": 12,
   "id": "562fc929",
   "metadata": {},
   "outputs": [],
   "source": [
    "s1=Student()"
   ]
  },
  {
   "cell_type": "code",
   "execution_count": 13,
   "id": "a1abbb99",
   "metadata": {},
   "outputs": [
    {
     "name": "stdout",
     "output_type": "stream",
     "text": [
      "printdata is public method\n"
     ]
    }
   ],
   "source": [
    "s1.printdata()"
   ]
  },
  {
   "cell_type": "code",
   "execution_count": 14,
   "id": "474e2562",
   "metadata": {},
   "outputs": [
    {
     "ename": "AttributeError",
     "evalue": "'Student' object has no attribute '__showdata'",
     "output_type": "error",
     "traceback": [
      "\u001b[1;31m---------------------------------------------------------------------------\u001b[0m",
      "\u001b[1;31mAttributeError\u001b[0m                            Traceback (most recent call last)",
      "\u001b[1;32m<ipython-input-14-b6ab4d448bb4>\u001b[0m in \u001b[0;36m<module>\u001b[1;34m\u001b[0m\n\u001b[1;32m----> 1\u001b[1;33m \u001b[0ms1\u001b[0m\u001b[1;33m.\u001b[0m\u001b[0m__showdata\u001b[0m\u001b[1;33m(\u001b[0m\u001b[1;33m)\u001b[0m\u001b[1;33m\u001b[0m\u001b[1;33m\u001b[0m\u001b[0m\n\u001b[0m",
      "\u001b[1;31mAttributeError\u001b[0m: 'Student' object has no attribute '__showdata'"
     ]
    }
   ],
   "source": [
    "s1.__showdata()"
   ]
  },
  {
   "cell_type": "code",
   "execution_count": 15,
   "id": "4165f97a",
   "metadata": {},
   "outputs": [
    {
     "name": "stdout",
     "output_type": "stream",
     "text": [
      "['_Test__num', '_Test__showdata', '__class__', '__delattr__', '__dict__', '__dir__', '__doc__', '__eq__', '__format__', '__ge__', '__getattribute__', '__gt__', '__hash__', '__init__', '__init_subclass__', '__le__', '__lt__', '__module__', '__ne__', '__new__', '__reduce__', '__reduce_ex__', '__repr__', '__setattr__', '__sizeof__', '__str__', '__subclasshook__', '__weakref__', 'printdata']\n"
     ]
    }
   ],
   "source": [
    "print(dir(s1))"
   ]
  },
  {
   "cell_type": "code",
   "execution_count": 17,
   "id": "dd9f6d9a",
   "metadata": {},
   "outputs": [
    {
     "data": {
      "text/plain": [
       "100"
      ]
     },
     "execution_count": 17,
     "metadata": {},
     "output_type": "execute_result"
    }
   ],
   "source": [
    "s1._Test__num"
   ]
  },
  {
   "cell_type": "code",
   "execution_count": 19,
   "id": "5e9262f7",
   "metadata": {},
   "outputs": [
    {
     "name": "stdout",
     "output_type": "stream",
     "text": [
      "showdata is protected method of test class\n"
     ]
    }
   ],
   "source": [
    "s1._Test__showdata()"
   ]
  },
  {
   "cell_type": "code",
   "execution_count": null,
   "id": "f4e387c0",
   "metadata": {},
   "outputs": [],
   "source": [
    "user_details=[{'admin':'12345@admin','user':'user@user'}]\n",
    "\n",
    "def validate_user(func):\n",
    "    def is_valid(user_name,password):\n",
    "        count=0\n",
    "        \n",
    "        for ele in user_details:\n",
    "            for usr_username,usr_password"
   ]
  },
  {
   "cell_type": "code",
   "execution_count": 26,
   "id": "f872c64f",
   "metadata": {},
   "outputs": [],
   "source": [
    "from getpass import getpass"
   ]
  },
  {
   "cell_type": "code",
   "execution_count": 27,
   "id": "88694d5e",
   "metadata": {},
   "outputs": [
    {
     "name": "stdout",
     "output_type": "stream",
     "text": [
      "['__call__', '__class__', '__delattr__', '__dir__', '__doc__', '__eq__', '__format__', '__func__', '__ge__', '__get__', '__getattribute__', '__gt__', '__hash__', '__init__', '__init_subclass__', '__le__', '__lt__', '__ne__', '__new__', '__reduce__', '__reduce_ex__', '__repr__', '__self__', '__setattr__', '__sizeof__', '__str__', '__subclasshook__']\n"
     ]
    }
   ],
   "source": [
    "print(dir(getpass))"
   ]
  },
  {
   "cell_type": "code",
   "execution_count": 1,
   "id": "bb5b5f43",
   "metadata": {},
   "outputs": [],
   "source": [
    "from getpass import getpass"
   ]
  },
  {
   "cell_type": "code",
   "execution_count": 3,
   "id": "b8b46a67",
   "metadata": {},
   "outputs": [
    {
     "name": "stdout",
     "output_type": "stream",
     "text": [
      "Help on method getpass in module ipykernel.kernelbase:\n",
      "\n",
      "getpass(prompt='', stream=None) method of ipykernel.ipkernel.IPythonKernel instance\n",
      "    Forward getpass to frontends\n",
      "    \n",
      "    Raises\n",
      "    ------\n",
      "    StdinNotImplentedError if active frontend doesn't support stdin.\n",
      "\n"
     ]
    }
   ],
   "source": [
    "help(getpass)"
   ]
  },
  {
   "cell_type": "code",
   "execution_count": null,
   "id": "170563c7",
   "metadata": {},
   "outputs": [],
   "source": [
    "help(\"modules\")"
   ]
  },
  {
   "cell_type": "code",
   "execution_count": 87,
   "id": "e0d9871b",
   "metadata": {},
   "outputs": [],
   "source": [
    "from datetime import datetime\n",
    "\n",
    "class Bank:\n",
    "    def _generate_account_no(self):\n",
    "        \"\"\"\n",
    "        Generate account number and return it.\n",
    "        \"\"\"\n",
    "        return datetime.now().strftime(\"SBI%Y%m%d%S\")\n",
    "    \n",
    "    \n",
    "    user_details = [{'username':\"Vikas\",'password':\"vikas@1234\" }]\n",
    "\n",
    "    def validate_user(func):\n",
    "        def is_valid(self,username, password):\n",
    "            count = 0\n",
    "            for ele in user_details:\n",
    "                for usr_name, usr_password in ele.items():\n",
    "                    if usr_name == username and usr_password == password:\n",
    "                        print(\"############ WELCOME TO BANK #############\")\n",
    "                        count=1\n",
    "                        func(username,password)\n",
    "                else:\n",
    "                        \n",
    "                    print(\"########## Not valid user ###########\")\n",
    "        return is_valid\n",
    "    \n",
    "    \n",
    "    @validate_user\n",
    "    def _auth(username, password):\n",
    "        print(\"###### Now your are logged in to BANK ########\")\n",
    "    \n",
    "    def __check_balance(self, username, password):\n",
    "        \"\"\"\n",
    "        Validate user and password and print total avaliable balance in bank.\n",
    "        \"\"\"\n",
    "        pass\n",
    "    \n",
    "    def create_account(self):\n",
    "        \"\"\"\n",
    "        Override this method inside a child class Customer.\n",
    "        \"\"\"\n",
    "        pass\n",
    "    \n",
    "class Customer(Bank):\n",
    "    def create_account(self, name, account_type, password, amount):\n",
    "        \"\"\"\n",
    "        Take username, account_type, amount, password, and return Account No\n",
    "        \"\"\"\n",
    "        pass\n",
    "    \n",
    "    def __check_balance(self, account_no, password):\n",
    "        \"\"\"\n",
    "        Check balance based on account_no and password.\n",
    "        If one of the value is flase return not valid user.\n",
    "        \"\"\"\n",
    "        pass\n",
    "    \n",
    "    def deposit(self, account_no, password, amount):\n",
    "        \"\"\"\n",
    "        Deposit amount based on account no\n",
    "        \"\"\"\n",
    "        pass\n",
    "    \n",
    "    def __withdraw(self, account_no, password, amount):\n",
    "        \"\"\"\n",
    "        withdraw amount based on account no\n",
    "        \"\"\"\n",
    "        pass\n"
   ]
  },
  {
   "cell_type": "code",
   "execution_count": 88,
   "id": "18c3fb32",
   "metadata": {},
   "outputs": [],
   "source": [
    "b1=Bank()"
   ]
  },
  {
   "cell_type": "code",
   "execution_count": 89,
   "id": "f93cb879",
   "metadata": {},
   "outputs": [
    {
     "name": "stdout",
     "output_type": "stream",
     "text": [
      "['_Bank__check_balance', '__class__', '__delattr__', '__dict__', '__dir__', '__doc__', '__eq__', '__format__', '__ge__', '__getattribute__', '__gt__', '__hash__', '__init__', '__init_subclass__', '__le__', '__lt__', '__module__', '__ne__', '__new__', '__reduce__', '__reduce_ex__', '__repr__', '__setattr__', '__sizeof__', '__str__', '__subclasshook__', '__weakref__', '_auth', '_generate_account_no', 'create_account', 'user_details', 'validate_user']\n"
     ]
    }
   ],
   "source": [
    "print(dir(b1))"
   ]
  },
  {
   "cell_type": "code",
   "execution_count": 90,
   "id": "c7035c53",
   "metadata": {},
   "outputs": [
    {
     "data": {
      "text/plain": [
       "'SBI2021081920'"
      ]
     },
     "execution_count": 90,
     "metadata": {},
     "output_type": "execute_result"
    }
   ],
   "source": [
    "b1._generate_account_no()"
   ]
  },
  {
   "cell_type": "code",
   "execution_count": 91,
   "id": "71e5d3fe",
   "metadata": {},
   "outputs": [
    {
     "name": "stdout",
     "output_type": "stream",
     "text": [
      "########## Not valid user ###########\n"
     ]
    }
   ],
   "source": [
    "b1._auth(\"username\",\"password\")"
   ]
  },
  {
   "cell_type": "code",
   "execution_count": 92,
   "id": "383775b8",
   "metadata": {},
   "outputs": [
    {
     "name": "stdout",
     "output_type": "stream",
     "text": [
      "########## Not valid user ###########\n"
     ]
    }
   ],
   "source": [
    "b1._auth(\"vikas@1234\",\"Vikas\")"
   ]
  },
  {
   "cell_type": "code",
   "execution_count": null,
   "id": "9827e2ef",
   "metadata": {},
   "outputs": [],
   "source": []
  },
  {
   "cell_type": "code",
   "execution_count": null,
   "id": "10dc0f91",
   "metadata": {},
   "outputs": [],
   "source": []
  },
  {
   "cell_type": "code",
   "execution_count": null,
   "id": "1cc3ba67",
   "metadata": {},
   "outputs": [],
   "source": []
  },
  {
   "cell_type": "code",
   "execution_count": null,
   "id": "9c0d9f4c",
   "metadata": {},
   "outputs": [],
   "source": []
  },
  {
   "cell_type": "code",
   "execution_count": null,
   "id": "c97102a3",
   "metadata": {},
   "outputs": [],
   "source": []
  },
  {
   "cell_type": "code",
   "execution_count": null,
   "id": "87d47523",
   "metadata": {},
   "outputs": [],
   "source": []
  },
  {
   "cell_type": "code",
   "execution_count": 2,
   "id": "a9805221",
   "metadata": {},
   "outputs": [],
   "source": [
    "user_details = [{'admin':'12345@admin', 'user':'user@user'}]\n",
    "\n",
    "def validate_user(func):\n",
    "    def is_valid(username, password):\n",
    "        count = 0\n",
    "        for ele in user_details:\n",
    "            for usr_name, usr_password in ele.items():\n",
    "                if usr_name == username and usr_password == password:\n",
    "                    print(\"############ WELCOME TO BANK #############\")\n",
    "                    count = 1\n",
    "                    func(username, password)\n",
    "        if count == 0:\n",
    "            print(\"########## Not valid user ###########\")\n",
    "    return is_valid\n",
    "        "
   ]
  },
  {
   "cell_type": "code",
   "execution_count": 3,
   "id": "56abfe1a",
   "metadata": {},
   "outputs": [],
   "source": [
    "@validate_user\n",
    "def auth(username, password):\n",
    "    print(\"###### Now your are logged in to BANK ########\")"
   ]
  },
  {
   "cell_type": "code",
   "execution_count": 4,
   "id": "c9cbc094",
   "metadata": {},
   "outputs": [
    {
     "name": "stdout",
     "output_type": "stream",
     "text": [
      "########## Not valid user ###########\n"
     ]
    }
   ],
   "source": [
    "auth(\"Vikas\",\"vikas@1234\")"
   ]
  },
  {
   "cell_type": "code",
   "execution_count": 5,
   "id": "6f04e8bf",
   "metadata": {},
   "outputs": [
    {
     "name": "stdout",
     "output_type": "stream",
     "text": [
      "############ WELCOME TO BANK #############\n",
      "###### Now your are logged in to BANK ########\n"
     ]
    }
   ],
   "source": [
    "auth(\"admin\",\"12345@admin\")"
   ]
  },
  {
   "cell_type": "code",
   "execution_count": 93,
   "id": "9f3f5eba",
   "metadata": {},
   "outputs": [
    {
     "name": "stdout",
     "output_type": "stream",
     "text": [
      "username Vikas\n",
      "password vikas@1234\n"
     ]
    }
   ],
   "source": [
    "user_details = [{'username':\"Vikas\",'password':\"vikas@1234\" }]\n",
    "\n",
    "for i in user_details:\n",
    "    for j,k in i.items():\n",
    "        print(j,k)"
   ]
  },
  {
   "cell_type": "code",
   "execution_count": 103,
   "id": "c27aedd1",
   "metadata": {},
   "outputs": [],
   "source": [
    "s=Bank()"
   ]
  },
  {
   "cell_type": "code",
   "execution_count": 104,
   "id": "bc234964",
   "metadata": {},
   "outputs": [
    {
     "name": "stdout",
     "output_type": "stream",
     "text": [
      "['_Bank__check_balance', '__class__', '__delattr__', '__dict__', '__dir__', '__doc__', '__eq__', '__format__', '__ge__', '__getattribute__', '__gt__', '__hash__', '__init__', '__init_subclass__', '__le__', '__lt__', '__module__', '__ne__', '__new__', '__reduce__', '__reduce_ex__', '__repr__', '__setattr__', '__sizeof__', '__str__', '__subclasshook__', '__weakref__', '_auth', '_generate_account_no', 'create_account', 'user_details', 'validate_user']\n"
     ]
    }
   ],
   "source": [
    "print(dir(s))"
   ]
  },
  {
   "cell_type": "code",
   "execution_count": 105,
   "id": "1bf282d8",
   "metadata": {},
   "outputs": [
    {
     "name": "stdout",
     "output_type": "stream",
     "text": [
      "########## Not valid user ###########\n"
     ]
    }
   ],
   "source": [
    "s._auth(\"12345@admin\",\"user@user\")"
   ]
  },
  {
   "cell_type": "code",
   "execution_count": 108,
   "id": "05bedeae",
   "metadata": {},
   "outputs": [],
   "source": [
    "from datetime import datetime\n",
    "\n",
    "class Bank:\n",
    "    BANK_CUSTOMER_DETAILS=[]\n",
    "\n",
    "    def _generate_account_no():\n",
    "        \"\"\"\n",
    "        Auto generated account number using datetime module.\n",
    "        return account number.\n",
    "        \"\"\"\n",
    "        account_number=datetime.now().strftime(\"SBI350%Y%m%d%S\")\n",
    "        return account_number\n",
    "\n",
    "    def is_valid_mobile_no(mobile_number):\n",
    "        if len(str(mobile_number))==10 and type(mobile_number)==int:\n",
    "            return True\n",
    "        return False\n",
    "\n",
    "    def is_valid_account_type(account_type):\n",
    "        for account_type in [\"saving\",\"current\"]:\n",
    "            return True\n",
    "        return False\n",
    "    def is_valid_amount(amount):\n",
    "        if type(amount)==int:\n",
    "            return True\n",
    "        return False\n",
    "\n",
    "\n",
    "\n",
    "\n",
    "    def create_account(**customer_info):\n",
    "        \"\"\"\n",
    "        Create new account using customer information.\n",
    "        In customer info name,mobile nu,address,account type,amount etc is include.\n",
    "        return account_information\n",
    "        \"\"\"\n",
    "#     name=input(\"Enter Your Name: \")\n",
    "#     mobile_number=int(input(\"Enter Your Mobile Number: \"))\n",
    "#     address=input(\"Enter Your Address: \")\n",
    "#     account_type=input(\"Enter Account Type [Saving or Current]: \")\n",
    "#     amount=int(input(\"Enter amount to create account: Minimum amount should be Rs.100 : \"))\n",
    "        if is_valid_mobile_no(customer_info.get(\"mobile_number\")) and is_valid_account_type(customer_info.get(\"account_type\")) and is_valid_amount(customer_info.get(\"amount\")):\n",
    "            account_number=generate_account_no()\n",
    "            customer_info[\"account_number\"]=account_number\n",
    "            BANK_CUSTOMER_DETAILS.append(customer_info)\n",
    "            print( \"Thanks for creating account in SBI Bank!\\nYour Account Number is: %s\"%(account_number))\n",
    "        else:\n",
    "            print(\"Please Enter valid Details!\")\n",
    "        \n",
    "    def deposit(account_number,amount):\n",
    "        \"\"\"\n",
    "        Deposite amount in your bank using account number.\n",
    "        return amount\n",
    "        \"\"\"\n",
    "        for user in BANK_CUSTOMER_DETAILS:\n",
    "            user[\"account_number\"]=account_number\n",
    "            current_amount=user.get(\"amount\")\n",
    "            print(\"Amount before deposit :\",current_amount)\n",
    "            user[\"amount\"]=current_amount+amount\n",
    "            print(\"Amount after deposite : \",user.get(\"amount\"))\n",
    "        \n",
    "    def withdraw(account_number,amount):\n",
    "        \"\"\"\n",
    "        Withdraw money usnig account number\n",
    "        return amount\n",
    "        \"\"\"\n",
    "        for user in BANK_CUSTOMER_DETAILS:\n",
    "            if user.get(\"account_number\")==account_number:\n",
    "            \n",
    "                current_amount=user.get(\"amount\")\n",
    "                user[\"amount\"]=current_amount-amount\n",
    "                print(\"Available balance in your acount: \",user.get('amount'))\n",
    "    \n",
    "    def check_balance(account_number):\n",
    "        \"\"\"\n",
    "        Check balance using account number\n",
    "        return amount\n",
    "        \"\"\"\n",
    "        for user in BANK_CUSTOMER_DETAILS:\n",
    "            if user[\"account_number\"]==account_number:\n",
    "                balance=user.get(\"amount\")\n",
    "                print(\"Balance in your account is: \",balance)\n",
    "            \n",
    "    def main():\n",
    "\n",
    "        while True:\n",
    "            print(\"Chose one of the following:\\n1]Create account\\t2]Check balance\\n3]Deposit Money\\t4]Withdraw Money\\t5]exit\")\n",
    "            user_input=int(input(\"_________________________WELCOME TO SBI BANK_____________________\"))\n",
    "            if user_input==1:\n",
    "                name=input(\"Enter Your Name: \")\n",
    "                mobile_number=int(input(\"Enter Your Mobile Number: \"))\n",
    "                address=input(\"Enter Your Address: \")\n",
    "                account_type=input(\"Enter Account Type [Saving or Current]: \")\n",
    "                amount=int(input(\"Enter amount to create account: Minimum amount should be Rs.100 : \"))\n",
    "                print(create_account(name=name,mobile_number=mobile_number,address=address,account_type=account_type,amount=amount))\n",
    "            elif user_input == 2:\n",
    "                account_number = input(\"Enter your account number\")\n",
    "                print(check_balance(account_number))\n",
    "            elif user_input == 3:\n",
    "                account_number = input(\"Enter your account number \")\n",
    "                amount = int(input(\"Enter amout to deposit in your account \"))\n",
    "                print(deposit(account_number, amount))\n",
    "            elif user_input == 4:\n",
    "                account_number = input(\"Enter your account number \")\n",
    "                amount = int(input(\"Enter amout to withdraw in your account \"))\n",
    "                print(withdraw(account_number, amount))\n",
    "            elif user_input == 5:\n",
    "                print(\"Thanks for visiting SBI Bank\")\n",
    "                break\n",
    "            else:\n",
    "                print(\"Enter valid input 1 to 5\")\n",
    "            "
   ]
  },
  {
   "cell_type": "code",
   "execution_count": null,
   "id": "bd76c743",
   "metadata": {},
   "outputs": [],
   "source": []
  }
 ],
 "metadata": {
  "kernelspec": {
   "display_name": "Python 3",
   "language": "python",
   "name": "python3"
  },
  "language_info": {
   "codemirror_mode": {
    "name": "ipython",
    "version": 3
   },
   "file_extension": ".py",
   "mimetype": "text/x-python",
   "name": "python",
   "nbconvert_exporter": "python",
   "pygments_lexer": "ipython3",
   "version": "3.8.8"
  }
 },
 "nbformat": 4,
 "nbformat_minor": 5
}
