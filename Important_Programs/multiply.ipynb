{
 "cells": [
  {
   "cell_type": "raw",
   "id": "ea66cbf8",
   "metadata": {},
   "source": [
    "When a Python interpreter reads a Python file, it first sets a few special variables. Then it executes the code from the file."
   ]
  },
  {
   "cell_type": "raw",
   "id": "83f31911",
   "metadata": {},
   "source": [
    "One of those variables is called __name__."
   ]
  },
  {
   "cell_type": "raw",
   "id": "5ae097fe",
   "metadata": {},
   "source": [
    "Python files are called modules and they are identified by the .py file extension. A module can define functions, classes, and variables."
   ]
  },
  {
   "cell_type": "raw",
   "id": "6228c263",
   "metadata": {},
   "source": [
    "So when the interpreter runs a module, the __name__ variable will be set as  __main__ if the module that is being run is the main program."
   ]
  },
  {
   "cell_type": "raw",
   "id": "7f4c5f0d",
   "metadata": {},
   "source": [
    "But if the code is importing the module from another module, then the __name__  variable will be set to that module’s name."
   ]
  },
  {
   "cell_type": "code",
   "execution_count": 1,
   "id": "0662a858",
   "metadata": {},
   "outputs": [
    {
     "name": "stdout",
     "output_type": "stream",
     "text": [
      "__main__\n"
     ]
    }
   ],
   "source": [
    "print(__name__)"
   ]
  },
  {
   "cell_type": "code",
   "execution_count": 8,
   "id": "21c023e9",
   "metadata": {},
   "outputs": [
    {
     "name": "stdout",
     "output_type": "stream",
     "text": [
      "6\n",
      "__main__\n"
     ]
    }
   ],
   "source": [
    "def mul(a,b):\n",
    "    \"\"\"\n",
    "    Return multiplication of a and b i.e a*b\n",
    "    \"\"\"\n",
    "    return a*b\n",
    "\n",
    "print(mul(2,3))\n",
    "print(__name__)"
   ]
  },
  {
   "cell_type": "code",
   "execution_count": 7,
   "id": "91f2c31f",
   "metadata": {},
   "outputs": [
    {
     "data": {
      "text/plain": [
       "10"
      ]
     },
     "execution_count": 7,
     "metadata": {},
     "output_type": "execute_result"
    }
   ],
   "source": [
    "mul(5,2)"
   ]
  },
  {
   "cell_type": "code",
   "execution_count": null,
   "id": "c9feb7eb",
   "metadata": {},
   "outputs": [],
   "source": [
    "print(mul)"
   ]
  }
 ],
 "metadata": {
  "kernelspec": {
   "display_name": "Python 3",
   "language": "python",
   "name": "python3"
  },
  "language_info": {
   "codemirror_mode": {
    "name": "ipython",
    "version": 3
   },
   "file_extension": ".py",
   "mimetype": "text/x-python",
   "name": "python",
   "nbconvert_exporter": "python",
   "pygments_lexer": "ipython3",
   "version": "3.8.8"
  }
 },
 "nbformat": 4,
 "nbformat_minor": 5
}
