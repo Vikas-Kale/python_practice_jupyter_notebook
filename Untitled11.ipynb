{
 "cells": [
  {
   "cell_type": "code",
   "execution_count": 1,
   "id": "1b0c90b4",
   "metadata": {},
   "outputs": [
    {
     "name": "stdout",
     "output_type": "stream",
     "text": [
      "error\n",
      "after try and except block\n"
     ]
    }
   ],
   "source": [
    "try :\n",
    "    result=100/'a'\n",
    "    print(result)\n",
    "except: \n",
    "    print('error')\n",
    "    \n",
    "print('after try and except block')"
   ]
  },
  {
   "cell_type": "code",
   "execution_count": 3,
   "id": "b41e74e9",
   "metadata": {},
   "outputs": [
    {
     "name": "stdout",
     "output_type": "stream",
     "text": [
      "error- division by zero\n",
      "This will execute everytime.\n"
     ]
    }
   ],
   "source": [
    "result=0\n",
    "try:\n",
    "    result=10/0\n",
    "except Exception as e:\n",
    "    print('error-',e)\n",
    "else:\n",
    "    print('result is',result)\n",
    "    \n",
    "finally:\n",
    "    print('This will execute everytime.')"
   ]
  },
  {
   "cell_type": "code",
   "execution_count": 4,
   "id": "a8c1fa4d",
   "metadata": {},
   "outputs": [
    {
     "name": "stdout",
     "output_type": "stream",
     "text": [
      "result is 5.0\n",
      "This will execute everytime.\n"
     ]
    }
   ],
   "source": [
    "result=0\n",
    "try:\n",
    "    result=10/2\n",
    "except Exception as e:\n",
    "    print('error-',e)\n",
    "else:\n",
    "    print('result is',result)\n",
    "    \n",
    "finally:\n",
    "    print('This will execute everytime.')"
   ]
  },
  {
   "cell_type": "code",
   "execution_count": 6,
   "id": "130b26ac",
   "metadata": {},
   "outputs": [
    {
     "ename": "SyntaxError",
     "evalue": "cannot assign to operator (<ipython-input-6-d3486c1a5a99>, line 4)",
     "output_type": "error",
     "traceback": [
      "\u001b[1;36m  File \u001b[1;32m\"<ipython-input-6-d3486c1a5a99>\"\u001b[1;36m, line \u001b[1;32m4\u001b[0m\n\u001b[1;33m    re=i+j=5\u001b[0m\n\u001b[1;37m       ^\u001b[0m\n\u001b[1;31mSyntaxError\u001b[0m\u001b[1;31m:\u001b[0m cannot assign to operator\n"
     ]
    }
   ],
   "source": [
    "input_value=[1,2,3,4,5,6]\n",
    "for i in range(len(input_value)):\n",
    "    for j in input_value:\n",
    "        "
   ]
  },
  {
   "cell_type": "code",
   "execution_count": 7,
   "id": "4e2cc054",
   "metadata": {},
   "outputs": [
    {
     "name": "stdout",
     "output_type": "stream",
     "text": [
      "Help on class map in module builtins:\n",
      "\n",
      "class map(object)\n",
      " |  map(func, *iterables) --> map object\n",
      " |  \n",
      " |  Make an iterator that computes the function using arguments from\n",
      " |  each of the iterables.  Stops when the shortest iterable is exhausted.\n",
      " |  \n",
      " |  Methods defined here:\n",
      " |  \n",
      " |  __getattribute__(self, name, /)\n",
      " |      Return getattr(self, name).\n",
      " |  \n",
      " |  __iter__(self, /)\n",
      " |      Implement iter(self).\n",
      " |  \n",
      " |  __next__(self, /)\n",
      " |      Implement next(self).\n",
      " |  \n",
      " |  __reduce__(...)\n",
      " |      Return state information for pickling.\n",
      " |  \n",
      " |  ----------------------------------------------------------------------\n",
      " |  Static methods defined here:\n",
      " |  \n",
      " |  __new__(*args, **kwargs) from builtins.type\n",
      " |      Create and return a new object.  See help(type) for accurate signature.\n",
      "\n"
     ]
    }
   ],
   "source": [
    "help(map)"
   ]
  },
  {
   "cell_type": "code",
   "execution_count": 8,
   "id": "6812c499",
   "metadata": {},
   "outputs": [],
   "source": [
    "n={1,2,3,4,5,5,11,11,2,2,2,2,2,2,5,5,5,55,7,9,5,4,6,7,4}"
   ]
  },
  {
   "cell_type": "code",
   "execution_count": 9,
   "id": "917334c2",
   "metadata": {},
   "outputs": [
    {
     "data": {
      "text/plain": [
       "set"
      ]
     },
     "execution_count": 9,
     "metadata": {},
     "output_type": "execute_result"
    }
   ],
   "source": [
    "type(n)"
   ]
  },
  {
   "cell_type": "code",
   "execution_count": 10,
   "id": "7efe8854",
   "metadata": {},
   "outputs": [
    {
     "data": {
      "text/plain": [
       "{1, 2, 3, 4, 5, 6, 7, 9, 11, 55}"
      ]
     },
     "execution_count": 10,
     "metadata": {},
     "output_type": "execute_result"
    }
   ],
   "source": [
    "n"
   ]
  },
  {
   "cell_type": "code",
   "execution_count": 18,
   "id": "7e63d149",
   "metadata": {},
   "outputs": [
    {
     "name": "stdout",
     "output_type": "stream",
     "text": [
      "Enter a number!10\n",
      "10\n"
     ]
    },
    {
     "ename": "TypeError",
     "evalue": "'>' not supported between instances of 'NoneType' and 'int'",
     "output_type": "error",
     "traceback": [
      "\u001b[1;31m---------------------------------------------------------------------------\u001b[0m",
      "\u001b[1;31mTypeError\u001b[0m                                 Traceback (most recent call last)",
      "\u001b[1;32m<ipython-input-18-5c30c3796385>\u001b[0m in \u001b[0;36m<module>\u001b[1;34m\u001b[0m\n\u001b[0;32m      6\u001b[0m \u001b[1;33m\u001b[0m\u001b[0m\n\u001b[0;32m      7\u001b[0m     \u001b[0mguess\u001b[0m\u001b[1;33m=\u001b[0m\u001b[0mprint\u001b[0m\u001b[1;33m(\u001b[0m\u001b[0minput\u001b[0m\u001b[1;33m(\u001b[0m\u001b[1;34m\"Enter a number!\"\u001b[0m\u001b[1;33m)\u001b[0m\u001b[1;33m)\u001b[0m\u001b[1;33m\u001b[0m\u001b[1;33m\u001b[0m\u001b[0m\n\u001b[1;32m----> 8\u001b[1;33m     \u001b[1;32mif\u001b[0m \u001b[0mguess\u001b[0m\u001b[1;33m>\u001b[0m\u001b[1;36m0\u001b[0m\u001b[1;33m:\u001b[0m\u001b[1;33m\u001b[0m\u001b[1;33m\u001b[0m\u001b[0m\n\u001b[0m\u001b[0;32m      9\u001b[0m         \u001b[1;32mif\u001b[0m \u001b[0mguess\u001b[0m\u001b[1;33m>\u001b[0m\u001b[0msecret_code\u001b[0m\u001b[1;33m:\u001b[0m\u001b[1;33m\u001b[0m\u001b[1;33m\u001b[0m\u001b[0m\n\u001b[0;32m     10\u001b[0m             \u001b[0mprint\u001b[0m\u001b[1;33m(\u001b[0m\u001b[1;34m\"Number is too large\"\u001b[0m\u001b[1;33m)\u001b[0m\u001b[1;33m\u001b[0m\u001b[1;33m\u001b[0m\u001b[0m\n",
      "\u001b[1;31mTypeError\u001b[0m: '>' not supported between instances of 'NoneType' and 'int'"
     ]
    }
   ],
   "source": [
    "secret_code=13\n",
    "guess=0\n",
    "\n",
    "\n",
    "while secret_code != guess:\n",
    "       \n",
    "    guess=print(input(\"Enter a number!\"))\n",
    "    if guess>0:\n",
    "        if guess>secret_code:\n",
    "            print(\"Number is too large\")\n",
    "        elif guess<secret_code:\n",
    "            print(\"Number is too small\")\n",
    "    else:\n",
    "        print(\"Enter valid number!\")\n",
    "        break\n",
    "    \n",
    "    \n",
    "        \n",
    "    \n",
    "else:\n",
    "    print(\"You win!\")\n",
    "    "
   ]
  },
  {
   "cell_type": "code",
   "execution_count": null,
   "id": "0b9e51fc",
   "metadata": {},
   "outputs": [],
   "source": [
    "secret_name= 13\n",
    "Guess=0\n",
    "guess_count=0\n",
    "guess_count_limit=3\n",
    "guess_out_of_limit=False\n",
    "\n",
    "while Guess !=secret_name and not(guess_out_of_limit):\n",
    "    if guess_count < guess_count_limit:\n",
    "        Guess = int(input(\"Enter a name: \"))\n",
    "        guess_count+=1\n",
    "\n",
    "    else:\n",
    "        guess_out_of_limit=True\n",
    "\n",
    "if guess_out_of_limit:\n",
    "    print(\"Guess out of limit: You Loose!\")\n",
    "else:\n",
    "    print(\"You Win!\")"
   ]
  },
  {
   "cell_type": "code",
   "execution_count": 6,
   "id": "88e9744e",
   "metadata": {},
   "outputs": [
    {
     "name": "stdout",
     "output_type": "stream",
     "text": [
      "25\n"
     ]
    }
   ],
   "source": [
    "def maximum():   # define function.\n",
    "    \n",
    "    n=[1,2,3,4,5,25,7,8,9,10] # input list\n",
    "    max1=0  # define variable and initialize 0\n",
    "    \n",
    "    for i in n:  # make a loop to fech each value from n list. now i=1,2,3,4,5,25,7,8,9,10\n",
    "        if i>max1:    # condition : if this true then \n",
    "            max1=i   #  this execute\n",
    "            \n",
    "    print(max1)\n",
    "maximum()       # call function."
   ]
  },
  {
   "cell_type": "code",
   "execution_count": null,
   "id": "52bce272",
   "metadata": {},
   "outputs": [],
   "source": [
    "def second_max_value():\n",
    "    numbers = [1,2,3,100,2,99,102,55]\n",
    "    second_max_value=0\n",
    "    max=0\n",
    "    \n",
    "    for i in range(len(numbers)):   #length of numbers=8  ; therefore outer loop runs 8 times.\n",
    "        if (numbers[i] >= max):     # for first iteration numbers[i]=1 and max=1 this condition is true,\n",
    "            second_max=max           # second_max=1 and max=1\n",
    "            max=numbers[i]           # max=1 and numbers[i]=2 then for loop continues till max=102 and numbers[i]=55 then the if condition false\n",
    "        elif (numbers[i] >= second_max and numbers[i] <= max): \n",
    "            second_max = numbers[i] \n",
    "    print(\"Second max number is : \",second_max)\n",
    "second_max_value()"
   ]
  },
  {
   "cell_type": "code",
   "execution_count": 34,
   "id": "5e5d8f5e",
   "metadata": {},
   "outputs": [],
   "source": [
    "def second_max_value():\n",
    "    num=[1,2,3,14,5,6]\n",
    "    second_max=0\n",
    "    max=0\n",
    "    \n",
    "    for i in range(len(num)): # i=0,1,2,3,4,5   ; len(num)=6 therefore loop runs 6 times ,this is outer loop\n",
    "       \n",
    "        if (num[i]> max):\n",
    "            second_max=max\n",
    "            print(second_max,\"second\")\n",
    "            max=num[i]\n",
    "            print(max)\n",
    "        "
   ]
  },
  {
   "cell_type": "code",
   "execution_count": 35,
   "id": "dd3c5a08",
   "metadata": {},
   "outputs": [
    {
     "name": "stdout",
     "output_type": "stream",
     "text": [
      "0 second\n",
      "1\n",
      "1 second\n",
      "2\n",
      "2 second\n",
      "3\n",
      "3 second\n",
      "14\n"
     ]
    }
   ],
   "source": [
    "second_max_value()"
   ]
  },
  {
   "cell_type": "code",
   "execution_count": 44,
   "id": "c450ba2c",
   "metadata": {},
   "outputs": [
    {
     "name": "stdout",
     "output_type": "stream",
     "text": [
      "11 second max value\n"
     ]
    }
   ],
   "source": [
    "def second_max_value():\n",
    "    num=[11,2,3,4,15,6]\n",
    "    second_max=0  # define variable and initialize 0 \n",
    "    max=0          #define variable and initialize 0 \n",
    "    \n",
    "    for i in range(len(num)): # i=0,1,2,3,4,5   ; len(num)=6 therefore loop runs 6 times ,this is outer loop\n",
    "       \n",
    "        if (num[i]> max):   # 1st:num[i]=11>max i.e 0, 5th:num[i]=15>max\n",
    "            second_max=max   # 1st:second_max=0,2nd:second_max=11 \n",
    "            max=num[i]    # max= num[i]=11,2nd:max=num[i]=15\n",
    "            #print(max,\"max\") # 1st:print(11),2nd print(15)\n",
    "            \n",
    "            \n",
    "        elif (num[i] >= second_max and num[i] <= max): # 1st:num[i]=11 and second max=11 and 11 is < max=15\n",
    "            second_max = num[i]                      # second_max=num[i]=11\n",
    "    print(second_max,\"second max value\")\n",
    "      \n",
    "            \n",
    "second_max_value()"
   ]
  },
  {
   "cell_type": "code",
   "execution_count": null,
   "id": "edda77b8",
   "metadata": {},
   "outputs": [],
   "source": []
  },
  {
   "cell_type": "code",
   "execution_count": null,
   "id": "ccd0352e",
   "metadata": {},
   "outputs": [],
   "source": []
  },
  {
   "cell_type": "code",
   "execution_count": null,
   "id": "c0f8e139",
   "metadata": {},
   "outputs": [],
   "source": []
  },
  {
   "cell_type": "code",
   "execution_count": 33,
   "id": "2f67dfb3",
   "metadata": {},
   "outputs": [
    {
     "name": "stdout",
     "output_type": "stream",
     "text": [
      "0 se\n",
      "11 max\n",
      "11 se\n",
      "15 max\n"
     ]
    }
   ],
   "source": [
    "second_max_value()"
   ]
  },
  {
   "cell_type": "code",
   "execution_count": null,
   "id": "8d5a92b6",
   "metadata": {},
   "outputs": [],
   "source": []
  },
  {
   "cell_type": "code",
   "execution_count": null,
   "id": "2370550d",
   "metadata": {},
   "outputs": [],
   "source": []
  },
  {
   "cell_type": "code",
   "execution_count": null,
   "id": "7a0f1201",
   "metadata": {},
   "outputs": [],
   "source": []
  },
  {
   "cell_type": "code",
   "execution_count": null,
   "id": "21dbf322",
   "metadata": {},
   "outputs": [],
   "source": []
  },
  {
   "cell_type": "code",
   "execution_count": 16,
   "id": "a6af3c4f",
   "metadata": {},
   "outputs": [
    {
     "name": "stdout",
     "output_type": "stream",
     "text": [
      "0\n",
      "1\n",
      "2\n",
      "3\n",
      "4\n",
      "5\n",
      "6\n"
     ]
    }
   ],
   "source": [
    "second_max_value()"
   ]
  },
  {
   "cell_type": "code",
   "execution_count": 24,
   "id": "dd5d5e16",
   "metadata": {},
   "outputs": [
    {
     "name": "stdout",
     "output_type": "stream",
     "text": [
      "12\n",
      "13\n",
      "14\n",
      "15\n",
      "16\n"
     ]
    }
   ],
   "source": [
    "nu=[12,13,14,15,16]\n",
    "for i in range(5):\n",
    "    print(nu[i])\n",
    "    "
   ]
  },
  {
   "cell_type": "code",
   "execution_count": 53,
   "id": "e1c490c5",
   "metadata": {},
   "outputs": [
    {
     "name": "stdout",
     "output_type": "stream",
     "text": [
      "2\n",
      "Ganesh\n",
      "45\n",
      "Vikas\n",
      "41\n",
      "['i', '1']\n"
     ]
    }
   ],
   "source": [
    "records=[]\n",
    "for N in range(int(input())):\n",
    "        name = input()\n",
    "        score = input()\n",
    "        \n",
    "records=[name[N],score[N]]\n",
    "print(records)"
   ]
  },
  {
   "cell_type": "code",
   "execution_count": 67,
   "id": "da41f7e1",
   "metadata": {},
   "outputs": [
    {
     "name": "stdout",
     "output_type": "stream",
     "text": [
      "5\n",
      "harry\n",
      "37.21\n",
      "berry\n",
      "37.21\n",
      "tina\n",
      "37.2\n",
      "akriti\n",
      "41\n",
      "harsh\n",
      "39\n",
      "[['harry', 37.21], ['berry', 37.21], ['tina', 37.2], ['akriti', 41.0], ['harsh', 39.0]]\n",
      "[37.21, 37.21, 37.2, 41.0, 39.0]\n",
      "berry\n",
      "harry\n"
     ]
    }
   ],
   "source": [
    "n=int(input())\n",
    "res=[]\n",
    "grades=[]\n",
    "\n",
    "for i in range(n):\n",
    "    name=input()\n",
    "    marks=float(input())\n",
    "    res.append([name,marks])\n",
    "    grades.append(marks)\n",
    "print(res)\n",
    "print(grades)\n",
    "\n",
    "grades=sorted(set(grades))\n",
    "m=grades[1]\n",
    "name=[]\n",
    "for val in res:\n",
    "    if m== val[1]:\n",
    "        name.append(val[0])\n",
    "name.sort()\n",
    "for nm in name:\n",
    "    print(nm)\n",
    "\n",
    "#     5\n",
    "# Harry\n",
    "# 37.21\n",
    "# Berry\n",
    "# 37.21\n",
    "# Tina\n",
    "# 37.2\n",
    "# Akriti\n",
    "# 41\n",
    "# Harsh\n",
    "# 39"
   ]
  },
  {
   "cell_type": "code",
   "execution_count": null,
   "id": "0badfe9c",
   "metadata": {},
   "outputs": [],
   "source": []
  }
 ],
 "metadata": {
  "kernelspec": {
   "display_name": "Python 3",
   "language": "python",
   "name": "python3"
  },
  "language_info": {
   "codemirror_mode": {
    "name": "ipython",
    "version": 3
   },
   "file_extension": ".py",
   "mimetype": "text/x-python",
   "name": "python",
   "nbconvert_exporter": "python",
   "pygments_lexer": "ipython3",
   "version": "3.8.8"
  }
 },
 "nbformat": 4,
 "nbformat_minor": 5
}
