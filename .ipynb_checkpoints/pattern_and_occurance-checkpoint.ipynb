{
 "cells": [
  {
   "cell_type": "markdown",
   "id": "eeef3fec",
   "metadata": {},
   "source": [
    "Write a prgoram to count occurance of int number\n",
    "num = 1255\n",
    "\n",
    "OUTPUT: 1 -> 1 2 -> 1 5 -> 2\n",
    "\n",
    "Don't convert datatype to string.\n",
    "\n"
   ]
  },
  {
   "cell_type": "code",
   "execution_count": 1,
   "id": "ff7b13fa",
   "metadata": {},
   "outputs": [
    {
     "data": {
      "text/plain": [
       "int"
      ]
     },
     "execution_count": 1,
     "metadata": {},
     "output_type": "execute_result"
    }
   ],
   "source": [
    "num=1255\n",
    "type(num)"
   ]
  },
  {
   "cell_type": "code",
   "execution_count": 30,
   "id": "0500a127",
   "metadata": {},
   "outputs": [],
   "source": [
    "num=1255"
   ]
  },
  {
   "cell_type": "code",
   "execution_count": 31,
   "id": "724f5bf0",
   "metadata": {},
   "outputs": [
    {
     "data": {
      "text/plain": [
       "5"
      ]
     },
     "execution_count": 31,
     "metadata": {},
     "output_type": "execute_result"
    }
   ],
   "source": [
    "num%10"
   ]
  },
  {
   "cell_type": "code",
   "execution_count": 32,
   "id": "aeabb187",
   "metadata": {},
   "outputs": [
    {
     "data": {
      "text/plain": [
       "125"
      ]
     },
     "execution_count": 32,
     "metadata": {},
     "output_type": "execute_result"
    }
   ],
   "source": [
    "num//10"
   ]
  },
  {
   "cell_type": "code",
   "execution_count": 22,
   "id": "ebc37237",
   "metadata": {},
   "outputs": [
    {
     "name": "stdout",
     "output_type": "stream",
     "text": [
      "Enter number which you want to check: 5\n",
      "2\n"
     ]
    }
   ],
   "source": [
    "num=1255\n",
    "occurences=int(input(\"Enter number which you want to check: \")) # 5\n",
    "count = 0\n",
    "\n",
    "while (num >0):  # Loop to find digits of Num.\n",
    "    if (num % 10 == occurences):  # Check if digit is occurences.\n",
    "        # For first iteration if we enter occurance as 5 then,\n",
    "        # 1255%10 = 5 == Occurance is True. \n",
    "        \n",
    "        count = count + 1 # For first iteration count=1,2nd itaration count=2 and so on.\n",
    "        \n",
    "    num = num // 10 # For 1st iteration num=1255//10=125,for 2nd iteration num=12,for 3rd iteration num=1 and so on.\n",
    "print(count)"
   ]
  },
  {
   "cell_type": "code",
   "execution_count": 27,
   "id": "81e90284",
   "metadata": {},
   "outputs": [
    {
     "name": "stdout",
     "output_type": "stream",
     "text": [
      "Enter number which you want to check: 2\n",
      "4\n"
     ]
    }
   ],
   "source": [
    "num=1223455888889221\n",
    "occurences=int(input(\"Enter number which you want to check: \"))\n",
    "count = 0\n",
    "\n",
    "while (num >0):\n",
    "    if (num % 10 == occurences):\n",
    "        count = count + 1\n",
    "    num = num // 10\n",
    "print(count)"
   ]
  },
  {
   "cell_type": "code",
   "execution_count": 28,
   "id": "639eea52",
   "metadata": {},
   "outputs": [
    {
     "name": "stdout",
     "output_type": "stream",
     "text": [
      "Enter number which you want to check: 8\n",
      "5\n"
     ]
    }
   ],
   "source": [
    "num=1223455888889221\n",
    "occurences=int(input(\"Enter number which you want to check: \"))\n",
    "count = 0\n",
    "\n",
    "while (num >0):\n",
    "    if (num % 10 == occurences):\n",
    "        count = count + 1\n",
    "    num = num // 10\n",
    "print(count)"
   ]
  },
  {
   "cell_type": "code",
   "execution_count": 29,
   "id": "77bef914",
   "metadata": {},
   "outputs": [
    {
     "name": "stdout",
     "output_type": "stream",
     "text": [
      "Enter number which you want to check: 1\n",
      "2\n"
     ]
    }
   ],
   "source": [
    "num=1223455888889221\n",
    "occurences=int(input(\"Enter number which you want to check: \"))\n",
    "count = 0\n",
    "\n",
    "while (num >0):\n",
    "    if (num % 10 == occurences):\n",
    "        count = count + 1\n",
    "    num = num // 10\n",
    "print(count)"
   ]
  },
  {
   "cell_type": "raw",
   "id": "0e801e13",
   "metadata": {},
   "source": [
    "## write a program to print following output\n",
    "\n",
    "   *\n",
    "  * *\n",
    " * * *\n",
    "    \n",
    "   A\n",
    "  B C\n",
    " D E F"
   ]
  },
  {
   "cell_type": "code",
   "execution_count": 35,
   "id": "d1c2dec6",
   "metadata": {},
   "outputs": [
    {
     "name": "stdout",
     "output_type": "stream",
     "text": [
      "Enter number of rows: 3\n",
      "  * \n",
      " * * \n",
      "* * * \n"
     ]
    }
   ],
   "source": [
    "num=int(input(\"Enter number of rows: \"))  # Enter number of rows you want to print. We want 3 rows.num=3\n",
    "\n",
    "for i in range(0,num): # i in range(0,3); Rows=i=0,1,2 \n",
    "    \n",
    "    for j in range(0,num-i-1): # j in range(0,3-0-1)=j in range(0,2); Columns=j=0,1,2\n",
    "        \n",
    "        print(end=\" \") # print spaces\n",
    "        \n",
    "    for j in range(0,i+1): # j in range(0,0+1=1)\n",
    "        print(\"*\",end=\" \") # print(*) and spaces\n",
    "    print()"
   ]
  },
  {
   "cell_type": "code",
   "execution_count": 6,
   "id": "7663c58c",
   "metadata": {},
   "outputs": [
    {
     "name": "stdout",
     "output_type": "stream",
     "text": [
      "Enter number of rows: 3\n",
      "  AB\n",
      " ABAB\n",
      "ABABAB\n"
     ]
    }
   ],
   "source": [
    "num=int(input(\"Enter number of rows: \"))  # Enter number of rows you want to print. We want 3 rows.num=3\n",
    "\n",
    "for i in range(0,num): # i in range(0,3); Rows=i=0,1,2 \n",
    "    \n",
    "    for j in range(0,num-i-1): # j in range(0,3-0-1)=j in range(0,2); Columns=j=0,1,2\n",
    "        \n",
    "        print(end=\" \") # print spaces\n",
    "        \n",
    "    for j in range(0,i+1): # j in range(0,0+1=1)\n",
    "        print(\"A\", end=\"B\") # print(*) and spaces\n",
    "    print()"
   ]
  },
  {
   "cell_type": "markdown",
   "id": "53ac5996",
   "metadata": {},
   "source": [
    "# Using While loop"
   ]
  },
  {
   "cell_type": "code",
   "execution_count": 8,
   "id": "c8d93997",
   "metadata": {},
   "outputs": [
    {
     "name": "stdout",
     "output_type": "stream",
     "text": [
      "Enter number of rows: 3\n",
      "  * \n",
      " * * \n",
      "* * * \n"
     ]
    }
   ],
   "source": [
    "num=int(input(\"Enter number of rows: \"))  # take value of number of rows from user and store in num variable.num=3\n",
    "row=0                                 # Initially row=0\n",
    "while row<num:           # when row<num if this condition is true then only this loop execute;0<3 is true.\n",
    "    space=num-row-1     # space=3-0-1=space=2; for 1st row we need 2 spaces.\n",
    "    while space>0:        # if space>0;then only execute this while loop. 1st iteration space=2,2nd iteration space=1 \n",
    "        print(end=\" \")       # this is used to print spaces \n",
    "        space=space-1        # space = 2-1 therefore space=1\n",
    "    star=row+1               # For 1st iteration row=0,for 2nd row=1,for 3rd row=2\n",
    "                             # for 1st iteration star=0+1=1,then star=1+1=2,then star=2+1=3.\n",
    "    \n",
    "    while star>0:          # when star>0 the only this loop execute.1st iteration star=3.\n",
    "        print(\"*\",end=\" \") # print * and space\n",
    "        star=star-1        # star=1-1=0;star=0 here again it goes to check while star>0 or not \n",
    "    row=row+1            # row=0+1;row= 1\n",
    "    print()            # This is for new line.\n",
    "        \n",
    "       \n",
    "    "
   ]
  },
  {
   "cell_type": "code",
   "execution_count": 11,
   "id": "6a7118ba",
   "metadata": {},
   "outputs": [
    {
     "name": "stdout",
     "output_type": "stream",
     "text": [
      "Enter number of rows: 5\n",
      "    * \n",
      "   * * \n",
      "  * * * \n",
      " * * * * \n",
      "* * * * * \n"
     ]
    }
   ],
   "source": [
    "num=int(input(\"Enter number of rows: \"))\n",
    "row=0\n",
    "while row<num:\n",
    "    space=num-row-1\n",
    "    while space>0:\n",
    "        print(end=\" \")\n",
    "        space=space-1\n",
    "    star=row+1\n",
    "    while star>0:\n",
    "        print(\"*\",end=\" \")\n",
    "        star=star-1\n",
    "    row=row+1\n",
    "    print()"
   ]
  },
  {
   "cell_type": "code",
   "execution_count": 1,
   "id": "de89c448",
   "metadata": {},
   "outputs": [
    {
     "name": "stdout",
     "output_type": "stream",
     "text": [
      "1 1 1 1 1   \n",
      "2 2 2 2     \n",
      "3 3 3       \n",
      "4 4         \n",
      "5           \n"
     ]
    }
   ],
   "source": [
    "for i in range(1,6):\n",
    "    for j in range(6,0,-1):\n",
    "        if j >i:\n",
    "            print(i,end=\" \")\n",
    "        else:\n",
    "            print(\" \",end=\" \")\n",
    "    print(\"\")"
   ]
  },
  {
   "cell_type": "code",
   "execution_count": 1,
   "id": "b701bd38",
   "metadata": {},
   "outputs": [
    {
     "name": "stdout",
     "output_type": "stream",
     "text": [
      "6\n",
      "5\n",
      "4\n",
      "3\n",
      "2\n",
      "1\n"
     ]
    }
   ],
   "source": [
    "for i in range(6,0,-1):\n",
    "    print(i)"
   ]
  },
  {
   "cell_type": "code",
   "execution_count": null,
   "id": "47f01c8e",
   "metadata": {},
   "outputs": [],
   "source": []
  },
  {
   "cell_type": "code",
   "execution_count": 4,
   "id": "7098faf9",
   "metadata": {},
   "outputs": [
    {
     "name": "stdout",
     "output_type": "stream",
     "text": [
      "1         \n",
      "2 2       \n",
      "3 3 3     \n",
      "4 4 4 4   \n",
      "5 5 5 5 5 \n"
     ]
    }
   ],
   "source": [
    "for i in range(1,6):\n",
    "    for j in range(1,6):\n",
    "        if j >i:\n",
    "            print(\" \",end=\" \")\n",
    "        else:\n",
    "            print(i,end=\" \")\n",
    "    print(\"\")"
   ]
  },
  {
   "cell_type": "code",
   "execution_count": 5,
   "id": "1f75d45e",
   "metadata": {},
   "outputs": [
    {
     "name": "stdout",
     "output_type": "stream",
     "text": [
      "  1 1 1 1 \n",
      "    2 2 2 \n",
      "      3 3 \n",
      "        4 \n",
      "          \n"
     ]
    }
   ],
   "source": [
    "for i in range(1,6):\n",
    "    for j in range(1,6):\n",
    "        if j >i:\n",
    "            print(i,end=\" \")\n",
    "        else:\n",
    "            print(\" \",end=\" \")\n",
    "    print(\"\")"
   ]
  },
  {
   "cell_type": "code",
   "execution_count": null,
   "id": "0f501ebf",
   "metadata": {},
   "outputs": [],
   "source": [
    "for i in range(65,97)"
   ]
  },
  {
   "cell_type": "code",
   "execution_count": 8,
   "id": "7c770cdc",
   "metadata": {},
   "outputs": [
    {
     "data": {
      "text/plain": [
       "'A'"
      ]
     },
     "execution_count": 8,
     "metadata": {},
     "output_type": "execute_result"
    }
   ],
   "source": [
    "chr(65)"
   ]
  },
  {
   "cell_type": "code",
   "execution_count": 12,
   "id": "925b1752",
   "metadata": {},
   "outputs": [
    {
     "name": "stdout",
     "output_type": "stream",
     "text": [
      "*\n",
      "**\n",
      "***\n"
     ]
    }
   ],
   "source": [
    "rows=3\n",
    "w=(2*rows)-2\n",
    "\n",
    "for i in range(0,rows):\n",
    "    for j in range(0,w):\n",
    "        print(end=\"\")\n",
    "    w=w-2\n",
    "    for k in range(0,i+1):\n",
    "        print(\"*\",end=\"\")\n",
    "    print('')"
   ]
  },
  {
   "cell_type": "code",
   "execution_count": 13,
   "id": "a0163496",
   "metadata": {},
   "outputs": [
    {
     "name": "stdout",
     "output_type": "stream",
     "text": [
      "     *  \n",
      "   *   *  \n",
      " *   *   *  \n"
     ]
    }
   ],
   "source": [
    "rows = 3\n",
    "w = (2 * rows) - 2 \n",
    "\n",
    "for i in range(0, rows):\n",
    "    for j in range(0, w):\n",
    "        print(end=' ')\n",
    "    w = w - 2\n",
    "    for k in range(0, i+1):\n",
    "        print(\" * \", end=' ')\n",
    "    print('')\n"
   ]
  },
  {
   "cell_type": "code",
   "execution_count": 14,
   "id": "b9a92f43",
   "metadata": {},
   "outputs": [],
   "source": [
    "result = lambda num : 'Input value is not valid - %s'%(num) if type(num)!=int else('even - %d'%(num) if num%2 == 0 else 'odd - %d'%(num))\n"
   ]
  },
  {
   "cell_type": "code",
   "execution_count": 15,
   "id": "7bafbd91",
   "metadata": {},
   "outputs": [
    {
     "data": {
      "text/plain": [
       "'even - 10'"
      ]
     },
     "execution_count": 15,
     "metadata": {},
     "output_type": "execute_result"
    }
   ],
   "source": [
    "result(10)"
   ]
  },
  {
   "cell_type": "code",
   "execution_count": 16,
   "id": "3df73073",
   "metadata": {},
   "outputs": [
    {
     "data": {
      "text/plain": [
       "'odd - 11'"
      ]
     },
     "execution_count": 16,
     "metadata": {},
     "output_type": "execute_result"
    }
   ],
   "source": [
    "result(11)"
   ]
  },
  {
   "cell_type": "code",
   "execution_count": 17,
   "id": "37147157",
   "metadata": {},
   "outputs": [
    {
     "data": {
      "text/plain": [
       "'Input value is not valid - vikas'"
      ]
     },
     "execution_count": 17,
     "metadata": {},
     "output_type": "execute_result"
    }
   ],
   "source": [
    "result('vikas')"
   ]
  },
  {
   "cell_type": "code",
   "execution_count": 18,
   "id": "3bf09040",
   "metadata": {},
   "outputs": [
    {
     "data": {
      "text/plain": [
       "'Input value is not valid - @'"
      ]
     },
     "execution_count": 18,
     "metadata": {},
     "output_type": "execute_result"
    }
   ],
   "source": [
    "result('@')"
   ]
  },
  {
   "cell_type": "code",
   "execution_count": null,
   "id": "3d558084",
   "metadata": {},
   "outputs": [],
   "source": [
    "result=lambda num : \"Input value is not valid-%s\"%(num) if num<5 else 'even-%d'%d(num%2==0)"
   ]
  },
  {
   "cell_type": "code",
   "execution_count": 19,
   "id": "8ce6bf75",
   "metadata": {},
   "outputs": [
    {
     "data": {
      "text/plain": [
       "['odd - 1',\n",
       " 'even -2',\n",
       " 'odd - 3',\n",
       " 'not valid datatype - 6.66',\n",
       " 'even -4',\n",
       " 'not valid datatype - a',\n",
       " 'odd - 5',\n",
       " 'even -6']"
      ]
     },
     "execution_count": 19,
     "metadata": {},
     "output_type": "execute_result"
    }
   ],
   "source": [
    "['not valid datatype - %s'%(i) if type(i) !=int else ('even -%d'%(i) if i%2== 0 else 'odd - %d'%(i)) for i in [1,2,3,6.66,4,'a',5,6]]\n"
   ]
  },
  {
   "cell_type": "code",
   "execution_count": 22,
   "id": "29e06635",
   "metadata": {},
   "outputs": [
    {
     "data": {
      "text/plain": [
       "['odd - 1',\n",
       " '84 is even',\n",
       " 'odd - 3',\n",
       " 'not valid datatype - 6.66',\n",
       " '4 is even',\n",
       " 'not valid datatype - a',\n",
       " 'odd - 5',\n",
       " '6 is even']"
      ]
     },
     "execution_count": 22,
     "metadata": {},
     "output_type": "execute_result"
    }
   ],
   "source": [
    "['not valid datatype - %s'%(i) if type(i) !=int else ('%d is even'%(i) if i%2== 0 else 'odd - %d'%(i)) for i in [1,84,3,6.66,4,'a',5,6]]\n"
   ]
  },
  {
   "cell_type": "code",
   "execution_count": 19,
   "id": "1e1d463e",
   "metadata": {},
   "outputs": [
    {
     "name": "stdout",
     "output_type": "stream",
     "text": [
      "                   *  \n",
      "                 *   *  \n",
      "               *   *   *  \n",
      "             *   *   *   *  \n",
      "           *   *   *   *   *  \n",
      "         *   *   *   *   *   *  \n",
      "       *   *   *   *   *   *   *  \n",
      "     *   *   *   *   *   *   *   *  \n",
      "   *   *   *   *   *   *   *   *   *  \n",
      " *   *   *   *   *   *   *   *   *   *  \n"
     ]
    }
   ],
   "source": [
    "rows=10\n",
    "w=(2*rows)-2\n",
    "for i in range(0,rows):\n",
    "    for j in range(0, w):\n",
    "        print(end=' ')\n",
    "    w=w-2\n",
    "    for k in range(0,i+1):\n",
    "        print(\" * \",end= \" \")\n",
    "    print(\"\")"
   ]
  },
  {
   "cell_type": "code",
   "execution_count": 26,
   "id": "65bd1693",
   "metadata": {},
   "outputs": [
    {
     "name": "stdout",
     "output_type": "stream",
     "text": [
      "              \u0000 \n",
      "            \u0001 \u0001 \n",
      "          \u0002 \u0002 \u0002 \n",
      "        \u0003 \u0003 \u0003 \u0003 \n",
      "      \u0004 \u0004 \u0004 \u0004 \u0004 \n",
      "    \u0005 \u0005 \u0005 \u0005 \u0005 \u0005 \n",
      "  \u0006 \u0006 \u0006 \u0006 \u0006 \u0006 \u0006 \n",
      "\u0007 \u0007 \u0007 \u0007 \u0007 \u0007 \u0007 \u0007 \n"
     ]
    }
   ],
   "source": [
    "rows=8\n",
    "w=(2*rows)-2\n",
    "for i in range(0,rows):\n",
    "    for j in range(0,w):\n",
    "        print(end=\" \")\n",
    "    w=w-2\n",
    "    for k in range(0,i+1):\n",
    "        print(chr(i),end=\" \")\n",
    "    print()"
   ]
  },
  {
   "cell_type": "code",
   "execution_count": 38,
   "id": "d114bbb2",
   "metadata": {},
   "outputs": [
    {
     "name": "stdout",
     "output_type": "stream",
     "text": [
      "              A B C D E F G H I J K L M \n",
      "            A B C D E F G H I J K L M \n",
      "          A B C D E F G H I J K L M \n",
      "        A B C D E F G H I J K L M \n",
      "      A B C D E F G H I J K L M \n",
      "    A B C D E F G H I J K L M \n",
      "  A B C D E F G H I J K L M \n",
      "A B C D E F G H I J K L M \n"
     ]
    }
   ],
   "source": [
    "rows=8\n",
    "w=(2*rows)-2\n",
    "for i in range(0,rows):\n",
    "    for j in range(0,w):\n",
    "        print(end=\" \")\n",
    "    w=w-2\n",
    "    for k in range(65,78):\n",
    "        \n",
    "        \n",
    "        print(chr(k),end=\" \")\n",
    "    print(\"\")"
   ]
  },
  {
   "cell_type": "code",
   "execution_count": 48,
   "id": "6f04b0af",
   "metadata": {},
   "outputs": [
    {
     "name": "stdout",
     "output_type": "stream",
     "text": [
      "              A B C D E  \n",
      "            A B C D E  \n",
      "          A B C D E  \n",
      "        A B C D E  \n",
      "      A B C D E  \n",
      "    A B C D E  \n",
      "  A B C D E  \n",
      "A B C D E  \n"
     ]
    }
   ],
   "source": [
    "rows=8\n",
    "w=(2*rows)-2\n",
    "for i in range(0,rows):\n",
    "    for j in range(0,w):\n",
    "        print(end=\" \")\n",
    "    w=w-2\n",
    "    for k in range(65,70):\n",
    "        print(chr(k),end=\" \")\n",
    "        \n",
    "\n",
    "    print(\" \")"
   ]
  },
  {
   "cell_type": "code",
   "execution_count": 59,
   "id": "d55958d3",
   "metadata": {},
   "outputs": [
    {
     "name": "stdout",
     "output_type": "stream",
     "text": [
      "    \t A\t B\t C\t D\n",
      "  \t A\t B\t C\t D\n",
      "\t A\t B\t C\t D\n"
     ]
    }
   ],
   "source": [
    "rows=3\n",
    "w=(2*rows)-2\n",
    "for i in range(0,rows):\n",
    "    for j in range(0, w):\n",
    "        print(end=' ')\n",
    "    w=w-2\n",
    "    for k in range(65,69):\n",
    "        print(\"\\t\",chr(k),end='')\n",
    "    print(\"\")"
   ]
  },
  {
   "cell_type": "code",
   "execution_count": 82,
   "id": "94d276ff",
   "metadata": {},
   "outputs": [
    {
     "name": "stdout",
     "output_type": "stream",
     "text": [
      "    A B C D \n",
      "  A A B B C C D D \n",
      "A A A B B B C C C D D D \n"
     ]
    }
   ],
   "source": [
    "rows=3\n",
    "w=(2*rows)-2\n",
    "for i in range(0,rows):\n",
    "    for j in range(0, w):\n",
    "        print(end=' ')\n",
    "    w=w-2\n",
    "    for k in range(65,69):\n",
    "        for m in range(0,i+1):\n",
    "            \n",
    "            print(chr(k),end=\" \")\n",
    "    print(\"\")"
   ]
  },
  {
   "cell_type": "code",
   "execution_count": 94,
   "id": "3970bda2",
   "metadata": {},
   "outputs": [
    {
     "name": "stdout",
     "output_type": "stream",
     "text": [
      "    A B C D \n",
      "  A A B B C C D D \n",
      "A A A B B B C C C D D D \n"
     ]
    }
   ],
   "source": [
    "rows=3\n",
    "w=(2*rows)-2\n",
    "for i in range(0,rows):\n",
    "    for j in range(0, w):\n",
    "        print(end=' ')\n",
    "    w=w-2\n",
    "    for k in range(65,69):\n",
    "        for m in range(0,i+1):\n",
    "            \n",
    "            print(chr(k),end=\" \")\n",
    "    print(\"\")"
   ]
  },
  {
   "cell_type": "code",
   "execution_count": 7,
   "id": "c8893e3d",
   "metadata": {},
   "outputs": [
    {
     "name": "stdout",
     "output_type": "stream",
     "text": [
      "1 1 1 1 1  \n",
      "2 2 2 2   \n",
      "3 3 3    \n",
      "4 4     \n",
      "5      \n",
      "     \n",
      "     \n",
      "    4 \n",
      "   3 3 \n",
      "  2 2 2 \n",
      " 1 1 1 1 \n"
     ]
    }
   ],
   "source": [
    "for i in range(1,6):\n",
    "    for j in range(6,0,-1):\n",
    "        if j > i:\n",
    "            print(i,end=\" \")\n",
    "        else:\n",
    "            print(' ',end='')\n",
    "    print()\n",
    "for k in range(6,0,-1):\n",
    "    for i in range(1,6):\n",
    "        if i > k:\n",
    "            print(k,end=' ')\n",
    "        else:\n",
    "            print(' ',end='')\n",
    "            \n",
    "    print()"
   ]
  },
  {
   "cell_type": "code",
   "execution_count": 12,
   "id": "b4a10c81",
   "metadata": {},
   "outputs": [
    {
     "name": "stdout",
     "output_type": "stream",
     "text": [
      "        \n",
      "       7 \n",
      "      6 7 \n",
      "     5 6 7 \n",
      "    4 5 6 7 \n",
      "   3 4 5 6 7 \n",
      "  2 3 4 5 6 7 \n",
      " 1 2 3 4 5 6 7 \n"
     ]
    }
   ],
   "source": [
    "for k in range(8,0,-1):\n",
    "    for i in range(1,9):\n",
    "        if i > k:\n",
    "            print(i-1,end=' ')\n",
    "        else:\n",
    "            print(' ',end='')\n",
    "            \n",
    "    print()"
   ]
  },
  {
   "cell_type": "code",
   "execution_count": 15,
   "id": "ed313c4a",
   "metadata": {},
   "outputs": [
    {
     "name": "stdout",
     "output_type": "stream",
     "text": [
      "         \n",
      "         \n",
      "        10 \n",
      "       9 10 \n",
      "      8 9 10 \n",
      "     7 8 9 10 \n",
      "    6 7 8 9 10 \n",
      "   5 6 7 8 9 10 \n",
      "  4 5 6 7 8 9 10 \n",
      " 3 4 5 6 7 8 9 10 \n"
     ]
    }
   ],
   "source": [
    "for k in range(10,0,-1):\n",
    "    for i in range(1,10):\n",
    "        if i > k:\n",
    "            print(i+1,end=' ')\n",
    "        else:\n",
    "            print(' ',end='')\n",
    "            \n",
    "    print()"
   ]
  },
  {
   "cell_type": "code",
   "execution_count": 21,
   "id": "bd3039cb",
   "metadata": {},
   "outputs": [
    {
     "name": "stdout",
     "output_type": "stream",
     "text": [
      "Enter number of rows:5\n",
      "* * * * \n",
      "* * * * \n",
      "* * * * \n",
      "* * * * \n",
      "* * * * \n"
     ]
    }
   ],
   "source": [
    "n=int(input(\"Enter number of rows:\"))\n",
    "\n",
    "for i in range(n):\n",
    "    for j in range(4):\n",
    "        print('*',end=' ')\n",
    "        \n",
    "    print()"
   ]
  },
  {
   "cell_type": "code",
   "execution_count": 29,
   "id": "46ec7ee7",
   "metadata": {},
   "outputs": [
    {
     "name": "stdout",
     "output_type": "stream",
     "text": [
      "<class 'dict'>\n"
     ]
    }
   ],
   "source": [
    "x={}\n",
    "print(type(x))"
   ]
  },
  {
   "cell_type": "code",
   "execution_count": 30,
   "id": "cf5c55fb",
   "metadata": {},
   "outputs": [],
   "source": [
    "x={}\n"
   ]
  },
  {
   "cell_type": "code",
   "execution_count": 31,
   "id": "b7f37b04",
   "metadata": {},
   "outputs": [
    {
     "data": {
      "text/plain": [
       "dict"
      ]
     },
     "execution_count": 31,
     "metadata": {},
     "output_type": "execute_result"
    }
   ],
   "source": [
    "type(x)"
   ]
  },
  {
   "cell_type": "code",
   "execution_count": 32,
   "id": "59c5b3b9",
   "metadata": {},
   "outputs": [],
   "source": [
    "x=set()"
   ]
  },
  {
   "cell_type": "code",
   "execution_count": 33,
   "id": "51b3b7f3",
   "metadata": {},
   "outputs": [
    {
     "data": {
      "text/plain": [
       "set"
      ]
     },
     "execution_count": 33,
     "metadata": {},
     "output_type": "execute_result"
    }
   ],
   "source": [
    "type(x)"
   ]
  },
  {
   "cell_type": "markdown",
   "id": "20842871",
   "metadata": {},
   "source": [
    "# 1) Simple number triangle pattern"
   ]
  },
  {
   "cell_type": "raw",
   "id": "c6257fcb",
   "metadata": {},
   "source": [
    "Pattern:\n",
    "\n",
    "1  \n",
    "\n",
    "2 2  \n",
    "\n",
    "3 3 3  \n",
    "\n",
    "4 4 4 4  \n",
    "\n",
    "5 5 5 5 5"
   ]
  },
  {
   "cell_type": "code",
   "execution_count": 3,
   "id": "de560aa7",
   "metadata": {},
   "outputs": [
    {
     "name": "stdout",
     "output_type": "stream",
     "text": [
      "1 \n",
      "2 2 \n",
      "3 3 3 \n",
      "4 4 4 4 \n",
      "5 5 5 5 5 \n"
     ]
    }
   ],
   "source": [
    "rows=5\n",
    "for i in range(1,rows+1):\n",
    "    for j in range(i):\n",
    "        print(i,end=\" \")\n",
    "    print()"
   ]
  },
  {
   "cell_type": "markdown",
   "id": "0ab96e99",
   "metadata": {},
   "source": [
    "## reverse"
   ]
  },
  {
   "cell_type": "code",
   "execution_count": 4,
   "id": "52b3ca65",
   "metadata": {},
   "outputs": [
    {
     "name": "stdout",
     "output_type": "stream",
     "text": [
      "5 5 5 5 5 \n",
      "4 4 4 4 \n",
      "3 3 3 \n",
      "2 2 \n",
      "1 \n"
     ]
    }
   ],
   "source": [
    "rows=5\n",
    "for i in range(rows,0,-1):\n",
    "    for j in range(i):\n",
    "        print(i,end=\" \")\n",
    "    print()"
   ]
  },
  {
   "cell_type": "markdown",
   "id": "269aae2e",
   "metadata": {},
   "source": [
    "# 2) Inverted Pyramid of Numbers\n"
   ]
  },
  {
   "cell_type": "raw",
   "id": "85626236",
   "metadata": {},
   "source": [
    "Pattern:\n",
    "\n",
    "1 1 1 1 1 \n",
    "\n",
    "2 2 2 2 \n",
    "\n",
    "3 3 3 \n",
    "\n",
    "4 4 \n",
    "\n",
    "5"
   ]
  },
  {
   "cell_type": "code",
   "execution_count": 18,
   "id": "8b4cf6b7",
   "metadata": {},
   "outputs": [
    {
     "name": "stdout",
     "output_type": "stream",
     "text": [
      "1 1 1 1 1 \n",
      "2 2 2 2 \n",
      "3 3 3 \n",
      "4 4 \n",
      "5 \n"
     ]
    }
   ],
   "source": [
    "rows=5\n",
    "b=0    # b=1,2,3,4,5\n",
    "for i in range(rows,0,-1): # i=5,4,3,2,1\n",
    "    b+=1\n",
    "    for j in range(1,i+1): # columns \n",
    "        print(b,end=\" \")\n",
    "    print()\n",
    "        "
   ]
  },
  {
   "cell_type": "code",
   "execution_count": 19,
   "id": "2d315af0",
   "metadata": {},
   "outputs": [
    {
     "name": "stdout",
     "output_type": "stream",
     "text": [
      "5\n",
      "4\n",
      "3\n",
      "2\n",
      "1\n"
     ]
    }
   ],
   "source": [
    "for i in range(5,0,-1):\n",
    "    print(i)"
   ]
  },
  {
   "cell_type": "code",
   "execution_count": null,
   "id": "27b34a1f",
   "metadata": {},
   "outputs": [],
   "source": []
  }
 ],
 "metadata": {
  "kernelspec": {
   "display_name": "Python 3",
   "language": "python",
   "name": "python3"
  },
  "language_info": {
   "codemirror_mode": {
    "name": "ipython",
    "version": 3
   },
   "file_extension": ".py",
   "mimetype": "text/x-python",
   "name": "python",
   "nbconvert_exporter": "python",
   "pygments_lexer": "ipython3",
   "version": "3.8.8"
  }
 },
 "nbformat": 4,
 "nbformat_minor": 5
}
