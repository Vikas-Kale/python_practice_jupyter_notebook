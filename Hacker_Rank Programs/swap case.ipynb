{
 "cells": [
  {
   "cell_type": "code",
   "execution_count": 1,
   "id": "79a277d3",
   "metadata": {},
   "outputs": [],
   "source": [
    "def swap_case(s):\n",
    "    if s.upper==True:\n",
    "        s=s.lower\n",
    "        return s\n",
    "    elif s.lower==True:\n",
    "        s=s.upper\n",
    "        return s\n",
    "swap_case('HackerRank.com presents \"Pythonist 2\".')\n"
   ]
  },
  {
   "cell_type": "code",
   "execution_count": 2,
   "id": "1501d84e",
   "metadata": {},
   "outputs": [],
   "source": [
    "def swap_case(s):\n",
    "    x=\"\"\n",
    "    for c in s:\n",
    "        if c.islower():\n",
    "            c=c.upper()\n",
    "        else:\n",
    "            c=c.lower()\n",
    "        \n",
    "        x+=\"\".join(c)\n",
    "        \n",
    "    return x\n",
    "            \n",
    "        "
   ]
  },
  {
   "cell_type": "code",
   "execution_count": 3,
   "id": "9d36918d",
   "metadata": {},
   "outputs": [
    {
     "data": {
      "text/plain": [
       "'VIkAs'"
      ]
     },
     "execution_count": 3,
     "metadata": {},
     "output_type": "execute_result"
    }
   ],
   "source": [
    "swap_case('viKaS')"
   ]
  },
  {
   "cell_type": "code",
   "execution_count": 4,
   "id": "4e7abde1",
   "metadata": {},
   "outputs": [
    {
     "data": {
      "text/plain": [
       "'hACKERrANK.COM PRESENTS \"pYTHONIST 2\".'"
      ]
     },
     "execution_count": 4,
     "metadata": {},
     "output_type": "execute_result"
    }
   ],
   "source": [
    "swap_case('HackerRank.com presents \"Pythonist 2\".')"
   ]
  },
  {
   "cell_type": "markdown",
   "id": "d9017570",
   "metadata": {},
   "source": [
    "### Another method usnig built in function swapcase:"
   ]
  },
  {
   "cell_type": "code",
   "execution_count": 6,
   "id": "5538973d",
   "metadata": {},
   "outputs": [],
   "source": [
    "def swap_case1(s):\n",
    "    return s.swapcase()"
   ]
  },
  {
   "cell_type": "code",
   "execution_count": 7,
   "id": "8ca01b4f",
   "metadata": {},
   "outputs": [
    {
     "data": {
      "text/plain": [
       "'hACKERrANK.COM PRESENTS \"pYTHONIST 2\".'"
      ]
     },
     "execution_count": 7,
     "metadata": {},
     "output_type": "execute_result"
    }
   ],
   "source": [
    "swap_case1('HackerRank.com presents \"Pythonist 2\".')"
   ]
  },
  {
   "cell_type": "code",
   "execution_count": 8,
   "id": "07f961b0",
   "metadata": {
    "ExecuteTime": {
     "end_time": "2021-10-15T04:01:45.272887Z",
     "start_time": "2021-10-15T04:01:45.248883Z"
    }
   },
   "outputs": [
    {
     "data": {
      "text/plain": [
       "''"
      ]
     },
     "execution_count": 8,
     "metadata": {},
     "output_type": "execute_result"
    }
   ],
   "source": [
    "def swap_case(s):\n",
    "    x = \"\"\n",
    "    for c in x:\n",
    "        \n",
    "        if c.isupper():\n",
    "            c = c.lower()\n",
    "\n",
    "        else:\n",
    "            c = c.upper()\n",
    "\n",
    "        x+=\"\".join(c)\n",
    "        \n",
    "    return x\n",
    "\n",
    "swap_case('VikAs')    \n"
   ]
  },
  {
   "cell_type": "code",
   "execution_count": 9,
   "id": "5d3a77e7",
   "metadata": {
    "ExecuteTime": {
     "end_time": "2021-10-15T04:03:31.076995Z",
     "start_time": "2021-10-15T04:03:31.052993Z"
    }
   },
   "outputs": [],
   "source": [
    "def swap_case(s):\n",
    "    x = ''\n",
    "    \n",
    "    for c in s:\n",
    "        if c.islower():\n",
    "            c = c.upper()\n",
    "            \n",
    "        else:\n",
    "            c = c.lower()\n",
    "            \n",
    "        x = x + ''.join(c)\n",
    "        \n",
    "    return x"
   ]
  },
  {
   "cell_type": "code",
   "execution_count": 10,
   "id": "eb40d424",
   "metadata": {
    "ExecuteTime": {
     "end_time": "2021-10-15T04:03:41.504618Z",
     "start_time": "2021-10-15T04:03:41.472621Z"
    }
   },
   "outputs": [
    {
     "data": {
      "text/plain": [
       "'vIKaS'"
      ]
     },
     "execution_count": 10,
     "metadata": {},
     "output_type": "execute_result"
    }
   ],
   "source": [
    "swap_case('VikAs')"
   ]
  },
  {
   "cell_type": "code",
   "execution_count": 11,
   "id": "9c6e8969",
   "metadata": {
    "ExecuteTime": {
     "end_time": "2021-10-15T04:05:07.501293Z",
     "start_time": "2021-10-15T04:05:07.461325Z"
    }
   },
   "outputs": [
    {
     "name": "stdout",
     "output_type": "stream",
     "text": [
      "vIKAS KaLE\n"
     ]
    }
   ],
   "source": [
    "a = \"Vikas kAle\".swapcase()\n",
    "\n",
    "print(a)"
   ]
  },
  {
   "cell_type": "code",
   "execution_count": 13,
   "id": "ef3b636c",
   "metadata": {
    "ExecuteTime": {
     "end_time": "2021-10-15T04:10:16.208645Z",
     "start_time": "2021-10-15T04:10:16.192643Z"
    }
   },
   "outputs": [
    {
     "name": "stdout",
     "output_type": "stream",
     "text": [
      "this-is-a-string\n"
     ]
    }
   ],
   "source": [
    "s = ['this', 'is', 'a', 'string']\n",
    "\n",
    "s = '-'.join(s)\n",
    "\n",
    "print(s)"
   ]
  },
  {
   "cell_type": "code",
   "execution_count": null,
   "id": "64d3fdd2",
   "metadata": {},
   "outputs": [],
   "source": []
  }
 ],
 "metadata": {
  "kernelspec": {
   "display_name": "Python 3",
   "language": "python",
   "name": "python3"
  },
  "language_info": {
   "codemirror_mode": {
    "name": "ipython",
    "version": 3
   },
   "file_extension": ".py",
   "mimetype": "text/x-python",
   "name": "python",
   "nbconvert_exporter": "python",
   "pygments_lexer": "ipython3",
   "version": "3.8.8"
  }
 },
 "nbformat": 4,
 "nbformat_minor": 5
}
