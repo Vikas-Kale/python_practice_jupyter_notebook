{
 "cells": [
  {
   "cell_type": "code",
   "execution_count": 18,
   "id": "aa9d8fda",
   "metadata": {
    "ExecuteTime": {
     "end_time": "2021-09-29T10:33:04.210593Z",
     "start_time": "2021-09-29T10:32:21.917470Z"
    }
   },
   "outputs": [
    {
     "name": "stdout",
     "output_type": "stream",
     "text": [
      "1. To Check Even or Odd:- \t 2. To Check Prime or Not:- \n",
      " 3. For exit \n",
      "########## ENTER YOUR RESPONCE ###########1\n",
      "Enter number which you want to check even or odd :- 8\n",
      "8 is even.\n",
      "1. To Check Even or Odd:- \t 2. To Check Prime or Not:- \n",
      " 3. For exit \n",
      "########## ENTER YOUR RESPONCE ###########1\n",
      "Enter number which you want to check even or odd :- 11\n",
      "11 is odd.\n",
      "1. To Check Even or Odd:- \t 2. To Check Prime or Not:- \n",
      " 3. For exit \n",
      "########## ENTER YOUR RESPONCE ###########2\n",
      "Enter number which you want to check prime or not :- 41\n",
      "41 is prime.\n",
      "1. To Check Even or Odd:- \t 2. To Check Prime or Not:- \n",
      " 3. For exit \n",
      "########## ENTER YOUR RESPONCE ###########3\n",
      "Exit the program.\n",
      "Thank You!!\n"
     ]
    }
   ],
   "source": [
    "def is_even(num):\n",
    "    \"\"\"\n",
    "    This function return True is number is even.\n",
    "    \"\"\"\n",
    "    if num % 2 == 0:\n",
    "        return f\"{num} is even.\"\n",
    "    else:\n",
    "        return f\"{num} is odd.\"\n",
    "    \n",
    "def is_prime(num):\n",
    "    \"\"\"\n",
    "    This function return True if num is prime otherwise False.\n",
    "    Note :- Enter number which is grater than one.\n",
    "    \"\"\"\n",
    "    if num > 1:\n",
    "        count = 0\n",
    "        for i in range(1, num + 1):\n",
    "            if num % i == 0:\n",
    "                count+=1\n",
    "                \n",
    "        if count == 2:\n",
    "            return f\"{num} is prime.\"\n",
    "        else:\n",
    "            return f\"{num} is not prime.\"\n",
    "        \n",
    "    else:\n",
    "        print(\"Please enter number which is greater than one.\")\n",
    "        \n",
    "while True:\n",
    "    \n",
    "    print(\"1. To Check Even or Odd:- \\t 2. To Check Prime or Not:- \\n 3. For exit \")\n",
    "    responce = int(input(\"########## ENTER YOUR RESPONCE ###########\"))\n",
    "    if responce == 1:\n",
    "        num = int(input(\"Enter number which you want to check even or odd :- \"))\n",
    "        print(is_even(num))\n",
    "    elif responce == 2:\n",
    "        num = int(input(\"Enter number which you want to check prime or not :- \"))\n",
    "        print(is_prime(num))\n",
    "    elif responce == 3:\n",
    "        print(\"Exit the program.\\nThank You!!\")\n",
    "        break"
   ]
  },
  {
   "cell_type": "code",
   "execution_count": 2,
   "id": "8f8c18e3",
   "metadata": {
    "ExecuteTime": {
     "end_time": "2021-09-29T10:14:41.686955Z",
     "start_time": "2021-09-29T10:14:41.645922Z"
    }
   },
   "outputs": [
    {
     "data": {
      "text/plain": [
       "'5 is odd.'"
      ]
     },
     "execution_count": 2,
     "metadata": {},
     "output_type": "execute_result"
    }
   ],
   "source": [
    "is_even(5)"
   ]
  },
  {
   "cell_type": "code",
   "execution_count": 3,
   "id": "60cdf2f3",
   "metadata": {
    "ExecuteTime": {
     "end_time": "2021-09-29T10:14:52.229071Z",
     "start_time": "2021-09-29T10:14:52.197071Z"
    }
   },
   "outputs": [
    {
     "data": {
      "text/plain": [
       "'8 is even.'"
      ]
     },
     "execution_count": 3,
     "metadata": {},
     "output_type": "execute_result"
    }
   ],
   "source": [
    "is_even(8)"
   ]
  },
  {
   "cell_type": "code",
   "execution_count": 11,
   "id": "e769e48f",
   "metadata": {
    "ExecuteTime": {
     "end_time": "2021-09-29T10:21:02.810633Z",
     "start_time": "2021-09-29T10:21:02.790912Z"
    }
   },
   "outputs": [],
   "source": [
    "def is_prime(num):\n",
    "    \"\"\"\n",
    "    This function return True if num is prime otherwise False.\n",
    "    Note :- Enter number which is grater than one.\n",
    "    \"\"\"\n",
    "    if num > 1:\n",
    "        count = 0\n",
    "        for i in range(1, num + 1):\n",
    "            if num % i == 0:\n",
    "                count+=1\n",
    "                \n",
    "        if count == 2:\n",
    "            return f\"{num} is prime.\"\n",
    "        else:\n",
    "            return f\"{num} is not prime.\"\n",
    "        \n",
    "    else:\n",
    "        print(\"Please enter number which is greater than one.\")\n",
    "                "
   ]
  },
  {
   "cell_type": "code",
   "execution_count": 12,
   "id": "fe56f0f1",
   "metadata": {
    "ExecuteTime": {
     "end_time": "2021-09-29T10:21:04.916264Z",
     "start_time": "2021-09-29T10:21:04.892262Z"
    }
   },
   "outputs": [
    {
     "data": {
      "text/plain": [
       "'5 is prime.'"
      ]
     },
     "execution_count": 12,
     "metadata": {},
     "output_type": "execute_result"
    }
   ],
   "source": [
    "is_prime(5)"
   ]
  },
  {
   "cell_type": "code",
   "execution_count": 13,
   "id": "36802355",
   "metadata": {
    "ExecuteTime": {
     "end_time": "2021-09-29T10:21:06.404073Z",
     "start_time": "2021-09-29T10:21:06.388073Z"
    }
   },
   "outputs": [
    {
     "data": {
      "text/plain": [
       "'7 is prime.'"
      ]
     },
     "execution_count": 13,
     "metadata": {},
     "output_type": "execute_result"
    }
   ],
   "source": [
    "is_prime(7)"
   ]
  },
  {
   "cell_type": "code",
   "execution_count": 14,
   "id": "18eeebf3",
   "metadata": {
    "ExecuteTime": {
     "end_time": "2021-09-29T10:21:15.151562Z",
     "start_time": "2021-09-29T10:21:15.127561Z"
    }
   },
   "outputs": [
    {
     "data": {
      "text/plain": [
       "'41 is prime.'"
      ]
     },
     "execution_count": 14,
     "metadata": {},
     "output_type": "execute_result"
    }
   ],
   "source": [
    "is_prime(41)"
   ]
  },
  {
   "cell_type": "code",
   "execution_count": 15,
   "id": "49a0ca11",
   "metadata": {
    "ExecuteTime": {
     "end_time": "2021-09-29T10:21:21.287062Z",
     "start_time": "2021-09-29T10:21:21.263065Z"
    }
   },
   "outputs": [
    {
     "data": {
      "text/plain": [
       "'97 is prime.'"
      ]
     },
     "execution_count": 15,
     "metadata": {},
     "output_type": "execute_result"
    }
   ],
   "source": [
    "is_prime(97)"
   ]
  },
  {
   "cell_type": "code",
   "execution_count": 16,
   "id": "b16cb268",
   "metadata": {
    "ExecuteTime": {
     "end_time": "2021-09-29T10:21:28.936869Z",
     "start_time": "2021-09-29T10:21:28.912870Z"
    }
   },
   "outputs": [
    {
     "data": {
      "text/plain": [
       "'96 is not prime.'"
      ]
     },
     "execution_count": 16,
     "metadata": {},
     "output_type": "execute_result"
    }
   ],
   "source": [
    "is_prime(96)"
   ]
  },
  {
   "cell_type": "code",
   "execution_count": 17,
   "id": "d3adb09e",
   "metadata": {
    "ExecuteTime": {
     "end_time": "2021-09-29T10:22:06.708312Z",
     "start_time": "2021-09-29T10:22:06.684313Z"
    }
   },
   "outputs": [
    {
     "data": {
      "text/plain": [
       "'42 is not prime.'"
      ]
     },
     "execution_count": 17,
     "metadata": {},
     "output_type": "execute_result"
    }
   ],
   "source": [
    "is_prime(42)"
   ]
  },
  {
   "cell_type": "code",
   "execution_count": null,
   "id": "60e15bc3",
   "metadata": {},
   "outputs": [],
   "source": []
  },
  {
   "cell_type": "code",
   "execution_count": 20,
   "id": "624d3f35",
   "metadata": {
    "ExecuteTime": {
     "end_time": "2021-09-29T11:00:34.228222Z",
     "start_time": "2021-09-29T10:59:32.824322Z"
    }
   },
   "outputs": [
    {
     "name": "stdout",
     "output_type": "stream",
     "text": [
      "1. To Check Even or Odd:- \t 2. To Check Prime or Not:- \n",
      " 3. For exit \n",
      "########## ENTER YOUR RESPONCE ###########2\n",
      "Enter number which you want to check prime or not :- 1\n",
      "Please enter number which is greater than one.\n",
      "None\n",
      "1. To Check Even or Odd:- \t 2. To Check Prime or Not:- \n",
      " 3. For exit \n",
      "########## ENTER YOUR RESPONCE ###########2\n",
      "Enter number which you want to check prime or not :- 22\n",
      "22 is not prime.\n",
      "1. To Check Even or Odd:- \t 2. To Check Prime or Not:- \n",
      " 3. For exit \n",
      "########## ENTER YOUR RESPONCE ###########2\n",
      "Enter number which you want to check prime or not :- 32\n",
      "32 is not prime.\n",
      "1. To Check Even or Odd:- \t 2. To Check Prime or Not:- \n",
      " 3. For exit \n",
      "########## ENTER YOUR RESPONCE ###########2\n",
      "Enter number which you want to check prime or not :- 33\n",
      "33 is not prime.\n",
      "1. To Check Even or Odd:- \t 2. To Check Prime or Not:- \n",
      " 3. For exit \n",
      "########## ENTER YOUR RESPONCE ###########2\n",
      "Enter number which you want to check prime or not :- 35\n",
      "35 is not prime.\n",
      "1. To Check Even or Odd:- \t 2. To Check Prime or Not:- \n",
      " 3. For exit \n",
      "########## ENTER YOUR RESPONCE ###########2\n",
      "Enter number which you want to check prime or not :- 37\n",
      "37 is prime.\n",
      "1. To Check Even or Odd:- \t 2. To Check Prime or Not:- \n",
      " 3. For exit \n",
      "########## ENTER YOUR RESPONCE ###########3\n",
      "Exit the program.\n",
      "Thank You!!\n"
     ]
    }
   ],
   "source": [
    "def is_even(num):\n",
    "    \"\"\"\n",
    "    This function return True is number is even.\n",
    "    \"\"\"\n",
    "    if num % 2 == 0:\n",
    "        return f\"{num} is even.\"\n",
    "    else:\n",
    "        return f\"{num} is odd.\"\n",
    "    \n",
    "def is_prime(num):\n",
    "    \"\"\"\n",
    "    This function return True if num is prime otherwise False.\n",
    "    Note :- Enter number which is grater than one.\n",
    "    \"\"\"\n",
    "    if num > 1:\n",
    "        count = 0\n",
    "        for i in range(1, num + 1):\n",
    "            if num % i == 0:\n",
    "                count+=1\n",
    "                \n",
    "        if count == 2:\n",
    "            return f\"{num} is prime.\"\n",
    "        else:\n",
    "            return f\"{num} is not prime.\"\n",
    "        \n",
    "    else:\n",
    "        print(\"Please enter number which is greater than one.\")\n",
    "        \n",
    "while True:\n",
    "    \n",
    "    print(\"1. To Check Even or Odd:- \\t 2. To Check Prime or Not:- \\n 3. For exit \")\n",
    "    responce = int(input(\"########## ENTER YOUR RESPONCE ###########\"))\n",
    "    if responce == 1:\n",
    "        num = int(input(\"Enter number which you want to check even or odd :- \"))\n",
    "        print(is_even(num))\n",
    "    elif responce == 2:\n",
    "        num = int(input(\"Enter number which you want to check prime or not :- \"))\n",
    "        print(is_prime(num))\n",
    "    elif responce == 3:\n",
    "        print(\"Exit the program.\\nThank You!!\")\n",
    "        break"
   ]
  },
  {
   "cell_type": "code",
   "execution_count": 21,
   "id": "d5465d83",
   "metadata": {
    "ExecuteTime": {
     "end_time": "2021-09-29T11:01:51.902331Z",
     "start_time": "2021-09-29T11:01:51.875029Z"
    }
   },
   "outputs": [
    {
     "name": "stdout",
     "output_type": "stream",
     "text": [
      "Help on function is_even in module __main__:\n",
      "\n",
      "is_even(num)\n",
      "    This function return True is number is even.\n",
      "\n"
     ]
    }
   ],
   "source": [
    "help(is_even)"
   ]
  },
  {
   "cell_type": "code",
   "execution_count": 22,
   "id": "70450e95",
   "metadata": {
    "ExecuteTime": {
     "end_time": "2021-09-29T11:02:04.864664Z",
     "start_time": "2021-09-29T11:02:04.840665Z"
    }
   },
   "outputs": [
    {
     "name": "stdout",
     "output_type": "stream",
     "text": [
      "Help on function is_prime in module __main__:\n",
      "\n",
      "is_prime(num)\n",
      "    This function return True if num is prime otherwise False.\n",
      "    Note :- Enter number which is grater than one.\n",
      "\n"
     ]
    }
   ],
   "source": [
    "help(is_prime)"
   ]
  },
  {
   "cell_type": "code",
   "execution_count": 1,
   "id": "8a9778f2",
   "metadata": {
    "ExecuteTime": {
     "end_time": "2021-10-03T06:02:12.630935Z",
     "start_time": "2021-10-03T05:59:56.948412Z"
    }
   },
   "outputs": [
    {
     "name": "stdout",
     "output_type": "stream",
     "text": [
      "#######Enter your responce#######\n",
      "1.To check is even or odd:- \n",
      "2. To check is prime or not:- \t 3. Exit:- 2\n",
      "enter number which want to check prime or not:-17\n",
      "17 is prime number\n",
      "None\n",
      "#######Enter your responce#######\n",
      "1.To check is even or odd:- \n",
      "2. To check is prime or not:- \t 3. Exit:- 2\n",
      "enter number which want to check prime or not:-41\n",
      "41 is prime number\n",
      "None\n",
      "#######Enter your responce#######\n",
      "1.To check is even or odd:- \n",
      "2. To check is prime or not:- \t 3. Exit:- 2\n",
      "enter number which want to check prime or not:-42\n",
      "42 is not a prime number\n",
      "None\n",
      "#######Enter your responce#######\n",
      "1.To check is even or odd:- \n",
      "2. To check is prime or not:- \t 3. Exit:- 3\n",
      "Exit\n"
     ]
    }
   ],
   "source": [
    "def is_even(num):\n",
    "  if num%2 ==0:\n",
    "    return 'even'\n",
    "  else:\n",
    "    return 'odd'\n",
    "    \n",
    "\n",
    "def is_prime(num1):\n",
    "    if num1>1:\n",
    "        for i in range(2,int(num1/2)+1):\n",
    "            if num1%i ==0:\n",
    "                print(num1,\"is not a prime number\")\n",
    "                break\n",
    "\n",
    "        else:\n",
    "            print(num1,\"is prime number\")\n",
    "\n",
    "    else:\n",
    "        print(num1,\"is not a prime number\")\n",
    "\n",
    "\n",
    "while True:\n",
    "  print('#######Enter your responce#######')\n",
    "  responce = int(input(\"1.To check is even or odd:- \\n2. To check is prime or not:- \\t 3. Exit:- \"))\n",
    "  if responce == 1:\n",
    "    num = int(input(\"enter number which want check even or odd:-\"))\n",
    "    print(is_even(num))\n",
    "\n",
    "  elif responce == 2:\n",
    "    num1 = int(input(\"enter number which want to check prime or not:-\"))\n",
    "    print(is_prime(num1))\n",
    "\n",
    "  elif responce == 3:\n",
    "    print(\"Exit\")\n",
    "    break"
   ]
  },
  {
   "cell_type": "code",
   "execution_count": 5,
   "id": "19a8ce26",
   "metadata": {
    "ExecuteTime": {
     "end_time": "2021-10-03T05:59:08.980511Z",
     "start_time": "2021-10-03T05:59:08.956472Z"
    }
   },
   "outputs": [],
   "source": [
    "def is_prime(num1):\n",
    "    if num1>1:\n",
    "        for i in range(2,int(num1/2)+1):\n",
    "            if num1%i ==0:\n",
    "                print(num1,\"is not a prime number\")\n",
    "                break\n",
    "\n",
    "        else:\n",
    "            print(num1,\"is prime number\")\n",
    "\n",
    "    else:\n",
    "        print(num1,\"is not a prime number\")"
   ]
  },
  {
   "cell_type": "code",
   "execution_count": 6,
   "id": "dcb33e4c",
   "metadata": {
    "ExecuteTime": {
     "end_time": "2021-10-03T05:59:13.868552Z",
     "start_time": "2021-10-03T05:59:11.135176Z"
    }
   },
   "outputs": [
    {
     "name": "stdout",
     "output_type": "stream",
     "text": [
      "17\n",
      "17 is prime number\n"
     ]
    }
   ],
   "source": [
    "is_prime(int(input()))\n"
   ]
  },
  {
   "cell_type": "code",
   "execution_count": 5,
   "id": "81c90609",
   "metadata": {
    "ExecuteTime": {
     "end_time": "2021-11-11T06:30:26.851346Z",
     "start_time": "2021-11-11T06:30:25.165690Z"
    }
   },
   "outputs": [
    {
     "name": "stdout",
     "output_type": "stream",
     "text": [
      "42\n",
      "Not prime\n"
     ]
    }
   ],
   "source": [
    "num = int(input())\n",
    "count = 0\n",
    "for i in range(1,num+1):\n",
    "    if num%i == 0:\n",
    "        count+=1\n",
    "if count == 2:\n",
    "    print(\"Prime\")\n",
    "    \n",
    "else:\n",
    "    print(\"Not prime\")\n",
    "        "
   ]
  },
  {
   "cell_type": "markdown",
   "id": "db84bc2f",
   "metadata": {},
   "source": [
    "# print prime numbers between 1 to 20"
   ]
  },
  {
   "cell_type": "code",
   "execution_count": 8,
   "id": "af0ceb05",
   "metadata": {
    "ExecuteTime": {
     "end_time": "2021-11-11T06:34:48.284694Z",
     "start_time": "2021-11-11T06:34:37.593409Z"
    }
   },
   "outputs": [
    {
     "name": "stdout",
     "output_type": "stream",
     "text": [
      "2\n",
      "50\n",
      "2\n",
      "3\n",
      "5\n",
      "7\n",
      "11\n",
      "13\n",
      "17\n",
      "19\n",
      "23\n",
      "29\n",
      "31\n",
      "37\n",
      "41\n",
      "43\n",
      "47\n"
     ]
    }
   ],
   "source": [
    "lower = int(input())\n",
    "upper = int(input())\n",
    "\n",
    "for num in range(lower, upper):\n",
    "    for i in range(2,num):\n",
    "        if num%i==0:\n",
    "            break\n",
    "            \n",
    "    else:\n",
    "        print(num)"
   ]
  },
  {
   "cell_type": "code",
   "execution_count": 10,
   "id": "9bb97afd",
   "metadata": {
    "ExecuteTime": {
     "end_time": "2021-11-11T06:36:53.008677Z",
     "start_time": "2021-11-11T06:36:52.984678Z"
    }
   },
   "outputs": [
    {
     "name": "stdout",
     "output_type": "stream",
     "text": [
      "1\n",
      "1\n",
      "2\n",
      "3\n",
      "5\n",
      "8\n",
      "13\n",
      "21\n",
      "34\n"
     ]
    }
   ],
   "source": [
    "fibo = lambda n:n if n<=1 else fibo(n-1) + fibo(n-2)\n",
    "\n",
    "for i in range(1,10):\n",
    "    fs = fibo(i)\n",
    "    \n",
    "    print(fs)"
   ]
  },
  {
   "cell_type": "code",
   "execution_count": 13,
   "id": "6c4f10a9",
   "metadata": {
    "ExecuteTime": {
     "end_time": "2021-11-11T06:39:59.052739Z",
     "start_time": "2021-11-11T06:39:59.036738Z"
    }
   },
   "outputs": [],
   "source": [
    "def fibo(n):\n",
    "    a = 0\n",
    "    b = 1\n",
    "    for i in range(n):\n",
    "        sum = a + b\n",
    "        print(sum)\n",
    "        a = b\n",
    "        b = sum\n",
    "        "
   ]
  },
  {
   "cell_type": "code",
   "execution_count": 14,
   "id": "8c11f500",
   "metadata": {
    "ExecuteTime": {
     "end_time": "2021-11-11T06:40:00.381093Z",
     "start_time": "2021-11-11T06:40:00.357089Z"
    }
   },
   "outputs": [
    {
     "name": "stdout",
     "output_type": "stream",
     "text": [
      "1\n",
      "2\n",
      "3\n",
      "5\n",
      "8\n"
     ]
    }
   ],
   "source": [
    "fibo(5)"
   ]
  },
  {
   "cell_type": "code",
   "execution_count": 19,
   "id": "90c4b733",
   "metadata": {
    "ExecuteTime": {
     "end_time": "2021-11-11T06:42:10.892020Z",
     "start_time": "2021-11-11T06:42:10.868013Z"
    }
   },
   "outputs": [],
   "source": [
    "lst = [i for i in range(1,20) if i%2==0]"
   ]
  },
  {
   "cell_type": "code",
   "execution_count": 20,
   "id": "00a8340a",
   "metadata": {
    "ExecuteTime": {
     "end_time": "2021-11-11T06:42:11.487730Z",
     "start_time": "2021-11-11T06:42:11.472108Z"
    }
   },
   "outputs": [
    {
     "data": {
      "text/plain": [
       "[2, 4, 6, 8, 10, 12, 14, 16, 18]"
      ]
     },
     "execution_count": 20,
     "metadata": {},
     "output_type": "execute_result"
    }
   ],
   "source": [
    "lst"
   ]
  },
  {
   "cell_type": "code",
   "execution_count": 25,
   "id": "48533dc2",
   "metadata": {
    "ExecuteTime": {
     "end_time": "2021-11-11T06:44:35.743295Z",
     "start_time": "2021-11-11T06:44:35.719291Z"
    }
   },
   "outputs": [],
   "source": [
    "x = lambda a,b:a**2+2*a*b+b**2"
   ]
  },
  {
   "cell_type": "code",
   "execution_count": 22,
   "id": "d1c17e87",
   "metadata": {
    "ExecuteTime": {
     "end_time": "2021-11-11T06:43:28.773121Z",
     "start_time": "2021-11-11T06:43:28.748795Z"
    }
   },
   "outputs": [
    {
     "name": "stdout",
     "output_type": "stream",
     "text": [
      "13\n"
     ]
    }
   ],
   "source": [
    "print(x(5,8))"
   ]
  },
  {
   "cell_type": "code",
   "execution_count": 27,
   "id": "b89c6e5f",
   "metadata": {
    "ExecuteTime": {
     "end_time": "2021-11-11T06:45:04.726201Z",
     "start_time": "2021-11-11T06:45:04.697703Z"
    }
   },
   "outputs": [
    {
     "data": {
      "text/plain": [
       "169"
      ]
     },
     "execution_count": 27,
     "metadata": {},
     "output_type": "execute_result"
    }
   ],
   "source": [
    "x(9,4)"
   ]
  },
  {
   "cell_type": "code",
   "execution_count": 26,
   "id": "ec92341a",
   "metadata": {
    "ExecuteTime": {
     "end_time": "2021-11-11T06:44:39.406987Z",
     "start_time": "2021-11-11T06:44:39.382987Z"
    }
   },
   "outputs": [
    {
     "data": {
      "text/plain": [
       "64"
      ]
     },
     "execution_count": 26,
     "metadata": {},
     "output_type": "execute_result"
    }
   ],
   "source": [
    "x(5,3)"
   ]
  },
  {
   "cell_type": "markdown",
   "id": "76a1287f",
   "metadata": {},
   "source": [
    "# example of generator"
   ]
  },
  {
   "cell_type": "code",
   "execution_count": 28,
   "id": "770c0425",
   "metadata": {
    "ExecuteTime": {
     "end_time": "2021-11-11T07:20:01.020485Z",
     "start_time": "2021-11-11T07:20:00.980483Z"
    }
   },
   "outputs": [],
   "source": [
    "def my_gen():\n",
    "    n = 1\n",
    "    print(\"This printed first\")\n",
    "    yield n\n",
    "    \n",
    "    n+=1\n",
    "    print(\"This printed second\")\n",
    "    yield n \n",
    "    \n",
    "    n+=1\n",
    "    print(\"This printed third\")\n",
    "    yield n"
   ]
  },
  {
   "cell_type": "code",
   "execution_count": 29,
   "id": "a1c4322b",
   "metadata": {
    "ExecuteTime": {
     "end_time": "2021-11-11T07:20:15.890155Z",
     "start_time": "2021-11-11T07:20:15.865180Z"
    }
   },
   "outputs": [],
   "source": [
    "x = my_gen()"
   ]
  },
  {
   "cell_type": "code",
   "execution_count": 30,
   "id": "bd38ca60",
   "metadata": {
    "ExecuteTime": {
     "end_time": "2021-11-11T07:20:26.499155Z",
     "start_time": "2021-11-11T07:20:26.475155Z"
    }
   },
   "outputs": [
    {
     "name": "stdout",
     "output_type": "stream",
     "text": [
      "This printed first\n"
     ]
    },
    {
     "data": {
      "text/plain": [
       "1"
      ]
     },
     "execution_count": 30,
     "metadata": {},
     "output_type": "execute_result"
    }
   ],
   "source": [
    "next(x)"
   ]
  },
  {
   "cell_type": "code",
   "execution_count": 31,
   "id": "2da7aecf",
   "metadata": {
    "ExecuteTime": {
     "end_time": "2021-11-11T07:20:34.954228Z",
     "start_time": "2021-11-11T07:20:34.930226Z"
    }
   },
   "outputs": [
    {
     "name": "stdout",
     "output_type": "stream",
     "text": [
      "This printed second\n"
     ]
    },
    {
     "data": {
      "text/plain": [
       "2"
      ]
     },
     "execution_count": 31,
     "metadata": {},
     "output_type": "execute_result"
    }
   ],
   "source": [
    "next(x)"
   ]
  },
  {
   "cell_type": "code",
   "execution_count": 33,
   "id": "90bfe1a4",
   "metadata": {
    "ExecuteTime": {
     "end_time": "2021-11-11T07:20:49.319534Z",
     "start_time": "2021-11-11T07:20:49.295537Z"
    }
   },
   "outputs": [
    {
     "name": "stdout",
     "output_type": "stream",
     "text": [
      "This printed third\n"
     ]
    },
    {
     "data": {
      "text/plain": [
       "3"
      ]
     },
     "execution_count": 33,
     "metadata": {},
     "output_type": "execute_result"
    }
   ],
   "source": [
    "next(x)"
   ]
  },
  {
   "cell_type": "code",
   "execution_count": 35,
   "id": "115666ab",
   "metadata": {
    "ExecuteTime": {
     "end_time": "2021-11-11T07:21:03.562463Z",
     "start_time": "2021-11-11T07:21:03.542060Z"
    }
   },
   "outputs": [
    {
     "ename": "StopIteration",
     "evalue": "",
     "output_type": "error",
     "traceback": [
      "\u001b[1;31m---------------------------------------------------------------------------\u001b[0m",
      "\u001b[1;31mStopIteration\u001b[0m                             Traceback (most recent call last)",
      "\u001b[1;32m<ipython-input-35-92de4e9f6b1e>\u001b[0m in \u001b[0;36m<module>\u001b[1;34m\u001b[0m\n\u001b[1;32m----> 1\u001b[1;33m \u001b[0mnext\u001b[0m\u001b[1;33m(\u001b[0m\u001b[0mx\u001b[0m\u001b[1;33m)\u001b[0m\u001b[1;33m\u001b[0m\u001b[1;33m\u001b[0m\u001b[0m\n\u001b[0m",
      "\u001b[1;31mStopIteration\u001b[0m: "
     ]
    }
   ],
   "source": [
    "next(x)"
   ]
  },
  {
   "cell_type": "code",
   "execution_count": null,
   "id": "3aa8177c",
   "metadata": {},
   "outputs": [],
   "source": [
    "def add_4():\n",
    "    "
   ]
  }
 ],
 "metadata": {
  "kernelspec": {
   "display_name": "Python 3",
   "language": "python",
   "name": "python3"
  },
  "language_info": {
   "codemirror_mode": {
    "name": "ipython",
    "version": 3
   },
   "file_extension": ".py",
   "mimetype": "text/x-python",
   "name": "python",
   "nbconvert_exporter": "python",
   "pygments_lexer": "ipython3",
   "version": "3.8.8"
  }
 },
 "nbformat": 4,
 "nbformat_minor": 5
}
