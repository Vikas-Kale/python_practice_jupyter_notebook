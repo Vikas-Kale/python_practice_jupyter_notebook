{
 "cells": [
  {
   "cell_type": "code",
   "execution_count": 4,
   "id": "42a32b85",
   "metadata": {
    "ExecuteTime": {
     "end_time": "2021-10-16T13:09:21.405431Z",
     "start_time": "2021-10-16T13:09:18.602787Z"
    }
   },
   "outputs": [
    {
     "name": "stdout",
     "output_type": "stream",
     "text": [
      "454\n",
      "Palindrome\n"
     ]
    }
   ],
   "source": [
    "num = int(input())\n",
    "\n",
    "num = str(num)\n",
    "rev = num[::-1]\n",
    "\n",
    "if num == rev:\n",
    "    print(\"Palindrome\")\n",
    "    \n",
    "else:\n",
    "    print(\"Non palindrome\")"
   ]
  },
  {
   "cell_type": "code",
   "execution_count": null,
   "id": "b8b93977",
   "metadata": {},
   "outputs": [],
   "source": []
  }
 ],
 "metadata": {
  "kernelspec": {
   "display_name": "Python 3",
   "language": "python",
   "name": "python3"
  },
  "language_info": {
   "codemirror_mode": {
    "name": "ipython",
    "version": 3
   },
   "file_extension": ".py",
   "mimetype": "text/x-python",
   "name": "python",
   "nbconvert_exporter": "python",
   "pygments_lexer": "ipython3",
   "version": "3.8.8"
  }
 },
 "nbformat": 4,
 "nbformat_minor": 5
}
