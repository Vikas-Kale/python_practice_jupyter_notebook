{
 "cells": [
  {
   "cell_type": "code",
   "execution_count": 1,
   "id": "3a1adf74",
   "metadata": {},
   "outputs": [
    {
     "name": "stdout",
     "output_type": "stream",
     "text": [
      "['__add__', '__class__', '__contains__', '__delattr__', '__delitem__', '__dir__', '__doc__', '__eq__', '__format__', '__ge__', '__getattribute__', '__getitem__', '__gt__', '__hash__', '__iadd__', '__imul__', '__init__', '__init_subclass__', '__iter__', '__le__', '__len__', '__lt__', '__mul__', '__ne__', '__new__', '__reduce__', '__reduce_ex__', '__repr__', '__reversed__', '__rmul__', '__setattr__', '__setitem__', '__sizeof__', '__str__', '__subclasshook__', 'append', 'clear', 'copy', 'count', 'extend', 'index', 'insert', 'pop', 'remove', 'reverse', 'sort']\n"
     ]
    }
   ],
   "source": [
    "print(dir(list))"
   ]
  },
  {
   "cell_type": "code",
   "execution_count": 2,
   "id": "1c5f4830",
   "metadata": {},
   "outputs": [
    {
     "name": "stdout",
     "output_type": "stream",
     "text": [
      "['__class__', '__delattr__', '__dir__', '__doc__', '__eq__', '__format__', '__ge__', '__getattribute__', '__gt__', '__hash__', '__init__', '__init_subclass__', '__le__', '__lt__', '__ne__', '__new__', '__reduce__', '__reduce_ex__', '__repr__', '__setattr__', '__sizeof__', '__str__', '__subclasshook__', 'indices', 'start', 'step', 'stop']\n"
     ]
    }
   ],
   "source": [
    "print(dir(slice))"
   ]
  },
  {
   "cell_type": "code",
   "execution_count": 3,
   "id": "f1fcbb11",
   "metadata": {},
   "outputs": [
    {
     "name": "stdout",
     "output_type": "stream",
     "text": [
      "['__abs__', '__add__', '__and__', '__bool__', '__ceil__', '__class__', '__delattr__', '__dir__', '__divmod__', '__doc__', '__eq__', '__float__', '__floor__', '__floordiv__', '__format__', '__ge__', '__getattribute__', '__getnewargs__', '__gt__', '__hash__', '__index__', '__init__', '__init_subclass__', '__int__', '__invert__', '__le__', '__lshift__', '__lt__', '__mod__', '__mul__', '__ne__', '__neg__', '__new__', '__or__', '__pos__', '__pow__', '__radd__', '__rand__', '__rdivmod__', '__reduce__', '__reduce_ex__', '__repr__', '__rfloordiv__', '__rlshift__', '__rmod__', '__rmul__', '__ror__', '__round__', '__rpow__', '__rrshift__', '__rshift__', '__rsub__', '__rtruediv__', '__rxor__', '__setattr__', '__sizeof__', '__str__', '__sub__', '__subclasshook__', '__truediv__', '__trunc__', '__xor__', 'as_integer_ratio', 'bit_length', 'conjugate', 'denominator', 'from_bytes', 'imag', 'numerator', 'real', 'to_bytes']\n"
     ]
    }
   ],
   "source": [
    "print(dir(bool))"
   ]
  },
  {
   "cell_type": "code",
   "execution_count": 4,
   "id": "da955a4b",
   "metadata": {},
   "outputs": [
    {
     "name": "stdout",
     "output_type": "stream",
     "text": [
      "Help on method_descriptor:\n",
      "\n",
      "append(self, object, /)\n",
      "    Append object to the end of the list.\n",
      "\n"
     ]
    }
   ],
   "source": [
    "help(list.append)"
   ]
  },
  {
   "cell_type": "code",
   "execution_count": null,
   "id": "470d2fcd",
   "metadata": {},
   "outputs": [],
   "source": [
    "num=list()\n",
    "print('current state of list:',num)\n",
    "n1=input('Enter the first input')\n",
    "num.append(10)\n",
    "print('current state of list:',num)\n",
    "\n",
    "n2=input('Enter the second input')\n",
    "num.append(20)\n",
    "print('current state of list:',num)\n",
    "\n",
    "n3=input('Enter the third input')\n",
    "num.append(30)\n",
    "print('current state of list:',num)\n",
    "\n",
    "\n",
    "n4=input('Enter the four input')\n",
    "num.append(40)\n",
    "print('current state of list:',num)\n",
    "\n",
    "\n",
    "\n"
   ]
  },
  {
   "cell_type": "code",
   "execution_count": null,
   "id": "472cb308",
   "metadata": {},
   "outputs": [],
   "source": []
  },
  {
   "cell_type": "code",
   "execution_count": null,
   "id": "27d4a530",
   "metadata": {},
   "outputs": [],
   "source": [
    "num=list()\n",
    "print('current state of list:',num)\n",
    "n1=input('Enter the first input')\n",
    "num.append(10)\n",
    "print('current state of list:',num)\n",
    "\n",
    "n2=input('Enter the second input')\n",
    "num.append(20)\n",
    "print('current state of list:',num)\n",
    "\n",
    "n3=input('Enter the third input')\n",
    "num.append(30)\n",
    "print('current state of list:',num)\n",
    "\n",
    "\n",
    "n4=input('Enter the four input')\n",
    "num.append(40)\n",
    "print('current state of list:',num)\n",
    "\n",
    "\n",
    "\n"
   ]
  },
  {
   "cell_type": "code",
   "execution_count": 1,
   "id": "0488fcf2",
   "metadata": {},
   "outputs": [
    {
     "data": {
      "text/plain": [
       "type"
      ]
     },
     "execution_count": 1,
     "metadata": {},
     "output_type": "execute_result"
    }
   ],
   "source": [
    "type(list)"
   ]
  },
  {
   "cell_type": "code",
   "execution_count": 2,
   "id": "ae2beefd",
   "metadata": {},
   "outputs": [
    {
     "name": "stdout",
     "output_type": "stream",
     "text": [
      "['__class__', '__contains__', '__delattr__', '__delitem__', '__dir__', '__doc__', '__eq__', '__format__', '__ge__', '__getattribute__', '__getitem__', '__gt__', '__hash__', '__init__', '__init_subclass__', '__iter__', '__le__', '__len__', '__lt__', '__ne__', '__new__', '__reduce__', '__reduce_ex__', '__repr__', '__reversed__', '__setattr__', '__setitem__', '__sizeof__', '__str__', '__subclasshook__', 'clear', 'copy', 'fromkeys', 'get', 'items', 'keys', 'pop', 'popitem', 'setdefault', 'update', 'values']\n"
     ]
    }
   ],
   "source": [
    "print(dir(dict))"
   ]
  },
  {
   "cell_type": "code",
   "execution_count": 3,
   "id": "171969fd",
   "metadata": {},
   "outputs": [
    {
     "name": "stdout",
     "output_type": "stream",
     "text": [
      "Help on built-in function fromkeys:\n",
      "\n",
      "fromkeys(iterable, value=None, /) method of builtins.type instance\n",
      "    Create a new dictionary with keys from iterable and values set to value.\n",
      "\n"
     ]
    }
   ],
   "source": [
    "help(dict.fromkeys)"
   ]
  },
  {
   "cell_type": "code",
   "execution_count": 4,
   "id": "3390c442",
   "metadata": {},
   "outputs": [],
   "source": [
    "num={'name':'vikas','course':'python','duration':'2 months'}"
   ]
  },
  {
   "cell_type": "code",
   "execution_count": 5,
   "id": "fa8b884c",
   "metadata": {},
   "outputs": [
    {
     "data": {
      "text/plain": [
       "{'name': 'vikas', 'course': 'python', 'duration': '2 months'}"
      ]
     },
     "execution_count": 5,
     "metadata": {},
     "output_type": "execute_result"
    }
   ],
   "source": [
    "num"
   ]
  },
  {
   "cell_type": "code",
   "execution_count": 11,
   "id": "3ef2aca2",
   "metadata": {},
   "outputs": [
    {
     "data": {
      "text/plain": [
       "'python'"
      ]
     },
     "execution_count": 11,
     "metadata": {},
     "output_type": "execute_result"
    }
   ],
   "source": [
    "num['course']"
   ]
  },
  {
   "cell_type": "code",
   "execution_count": 9,
   "id": "1ab4f01f",
   "metadata": {},
   "outputs": [
    {
     "data": {
      "text/plain": [
       "dict"
      ]
     },
     "execution_count": 9,
     "metadata": {},
     "output_type": "execute_result"
    }
   ],
   "source": [
    "type(num)"
   ]
  },
  {
   "cell_type": "code",
   "execution_count": 10,
   "id": "a63f322e",
   "metadata": {},
   "outputs": [
    {
     "name": "stdout",
     "output_type": "stream",
     "text": [
      "Help on built-in function fromkeys:\n",
      "\n",
      "fromkeys(iterable, value=None, /) method of builtins.type instance\n",
      "    Create a new dictionary with keys from iterable and values set to value.\n",
      "\n"
     ]
    }
   ],
   "source": [
    "help(dict.fromkeys)"
   ]
  },
  {
   "cell_type": "code",
   "execution_count": 12,
   "id": "9ea284ec",
   "metadata": {},
   "outputs": [
    {
     "ename": "TypeError",
     "evalue": "'builtin_function_or_method' object is not subscriptable",
     "output_type": "error",
     "traceback": [
      "\u001b[1;31m---------------------------------------------------------------------------\u001b[0m",
      "\u001b[1;31mTypeError\u001b[0m                                 Traceback (most recent call last)",
      "\u001b[1;32m<ipython-input-12-e8841b91cba4>\u001b[0m in \u001b[0;36m<module>\u001b[1;34m\u001b[0m\n\u001b[1;32m----> 1\u001b[1;33m \u001b[0mnum\u001b[0m\u001b[1;33m.\u001b[0m\u001b[0mupdate\u001b[0m\u001b[1;33m[\u001b[0m\u001b[1;34m'django'\u001b[0m\u001b[1;33m]\u001b[0m\u001b[1;33m\u001b[0m\u001b[1;33m\u001b[0m\u001b[0m\n\u001b[0m",
      "\u001b[1;31mTypeError\u001b[0m: 'builtin_function_or_method' object is not subscriptable"
     ]
    }
   ],
   "source": [
    "num.update['django']"
   ]
  },
  {
   "cell_type": "code",
   "execution_count": 13,
   "id": "e836da42",
   "metadata": {},
   "outputs": [
    {
     "data": {
      "text/plain": [
       "'python'"
      ]
     },
     "execution_count": 13,
     "metadata": {},
     "output_type": "execute_result"
    }
   ],
   "source": [
    "num.get('course')"
   ]
  },
  {
   "cell_type": "code",
   "execution_count": 14,
   "id": "2d2cc9f0",
   "metadata": {},
   "outputs": [
    {
     "data": {
      "text/plain": [
       "'python'"
      ]
     },
     "execution_count": 14,
     "metadata": {},
     "output_type": "execute_result"
    }
   ],
   "source": [
    "num['course']"
   ]
  },
  {
   "cell_type": "code",
   "execution_count": 15,
   "id": "1c855dc1",
   "metadata": {},
   "outputs": [],
   "source": [
    "num.get('marks')"
   ]
  },
  {
   "cell_type": "code",
   "execution_count": 16,
   "id": "720acdf2",
   "metadata": {},
   "outputs": [],
   "source": [
    "num.get('python')"
   ]
  },
  {
   "cell_type": "code",
   "execution_count": 17,
   "id": "6f17c1fc",
   "metadata": {},
   "outputs": [
    {
     "name": "stdout",
     "output_type": "stream",
     "text": [
      "Help on method_descriptor:\n",
      "\n",
      "clear(...)\n",
      "    D.clear() -> None.  Remove all items from D.\n",
      "\n"
     ]
    }
   ],
   "source": [
    "help(dict.clear)"
   ]
  },
  {
   "cell_type": "code",
   "execution_count": 18,
   "id": "084d5158",
   "metadata": {},
   "outputs": [
    {
     "data": {
      "text/plain": [
       "{'name': 'vikas', 'course': 'python', 'duration': '2 months'}"
      ]
     },
     "execution_count": 18,
     "metadata": {},
     "output_type": "execute_result"
    }
   ],
   "source": [
    "num"
   ]
  },
  {
   "cell_type": "code",
   "execution_count": 19,
   "id": "73a9e5ef",
   "metadata": {},
   "outputs": [],
   "source": [
    "num.clear()"
   ]
  },
  {
   "cell_type": "code",
   "execution_count": 20,
   "id": "ec4e6d2a",
   "metadata": {},
   "outputs": [
    {
     "data": {
      "text/plain": [
       "{}"
      ]
     },
     "execution_count": 20,
     "metadata": {},
     "output_type": "execute_result"
    }
   ],
   "source": [
    "num"
   ]
  },
  {
   "cell_type": "code",
   "execution_count": 21,
   "id": "b9b0106d",
   "metadata": {},
   "outputs": [
    {
     "data": {
      "text/plain": [
       "dict"
      ]
     },
     "execution_count": 21,
     "metadata": {},
     "output_type": "execute_result"
    }
   ],
   "source": [
    "type(num)"
   ]
  },
  {
   "cell_type": "code",
   "execution_count": 22,
   "id": "c70a422d",
   "metadata": {},
   "outputs": [],
   "source": [
    "number=num.copy()"
   ]
  },
  {
   "cell_type": "code",
   "execution_count": 23,
   "id": "14417c52",
   "metadata": {},
   "outputs": [
    {
     "data": {
      "text/plain": [
       "{}"
      ]
     },
     "execution_count": 23,
     "metadata": {},
     "output_type": "execute_result"
    }
   ],
   "source": [
    "number"
   ]
  },
  {
   "cell_type": "code",
   "execution_count": 25,
   "id": "104cc585",
   "metadata": {},
   "outputs": [],
   "source": [
    "project={'Name':'Vikas','Village':'Keshegaon','District':'osmanabad'}"
   ]
  },
  {
   "cell_type": "code",
   "execution_count": 26,
   "id": "60bb9b9c",
   "metadata": {},
   "outputs": [
    {
     "data": {
      "text/plain": [
       "{'Name': 'Vikas', 'Village': 'Keshegaon', 'District': 'osmanabad'}"
      ]
     },
     "execution_count": 26,
     "metadata": {},
     "output_type": "execute_result"
    }
   ],
   "source": [
    "project"
   ]
  },
  {
   "cell_type": "code",
   "execution_count": 37,
   "id": "5e527fed",
   "metadata": {},
   "outputs": [],
   "source": [
    "input_keys={'village','district','state'}\n",
    "input_values='osmanabad','maharashtra','keshegaon'"
   ]
  },
  {
   "cell_type": "code",
   "execution_count": 29,
   "id": "000c123b",
   "metadata": {},
   "outputs": [
    {
     "data": {
      "text/plain": [
       "{'district', 'state', 'village'}"
      ]
     },
     "execution_count": 29,
     "metadata": {},
     "output_type": "execute_result"
    }
   ],
   "source": [
    "input_keys"
   ]
  },
  {
   "cell_type": "code",
   "execution_count": 30,
   "id": "3fdf9b06",
   "metadata": {},
   "outputs": [
    {
     "data": {
      "text/plain": [
       "'none'"
      ]
     },
     "execution_count": 30,
     "metadata": {},
     "output_type": "execute_result"
    }
   ],
   "source": [
    "input_values"
   ]
  },
  {
   "cell_type": "code",
   "execution_count": 31,
   "id": "b6d4630c",
   "metadata": {},
   "outputs": [
    {
     "data": {
      "text/plain": [
       "str"
      ]
     },
     "execution_count": 31,
     "metadata": {},
     "output_type": "execute_result"
    }
   ],
   "source": [
    "type(input_values)"
   ]
  },
  {
   "cell_type": "code",
   "execution_count": 32,
   "id": "afae0d42",
   "metadata": {},
   "outputs": [
    {
     "data": {
      "text/plain": [
       "set"
      ]
     },
     "execution_count": 32,
     "metadata": {},
     "output_type": "execute_result"
    }
   ],
   "source": [
    "type(input_keys)"
   ]
  },
  {
   "cell_type": "code",
   "execution_count": 33,
   "id": "5c7e91b8",
   "metadata": {},
   "outputs": [],
   "source": [
    "s2=dict.fromkeys(input_keys,input_values)"
   ]
  },
  {
   "cell_type": "code",
   "execution_count": 34,
   "id": "9b0add8e",
   "metadata": {},
   "outputs": [
    {
     "data": {
      "text/plain": [
       "{'district': 'none', 'state': 'none', 'village': 'none'}"
      ]
     },
     "execution_count": 34,
     "metadata": {},
     "output_type": "execute_result"
    }
   ],
   "source": [
    "s2"
   ]
  },
  {
   "cell_type": "code",
   "execution_count": 36,
   "id": "43f77190",
   "metadata": {},
   "outputs": [
    {
     "data": {
      "text/plain": [
       "{'district': 'none', 'state': 'none', 'village': 'none'}"
      ]
     },
     "execution_count": 36,
     "metadata": {},
     "output_type": "execute_result"
    }
   ],
   "source": [
    "s2"
   ]
  },
  {
   "cell_type": "code",
   "execution_count": 38,
   "id": "6d1cf217",
   "metadata": {},
   "outputs": [
    {
     "data": {
      "text/plain": [
       "('osmanabad', 'maharashtra', 'keshegaon')"
      ]
     },
     "execution_count": 38,
     "metadata": {},
     "output_type": "execute_result"
    }
   ],
   "source": [
    "input_values"
   ]
  },
  {
   "cell_type": "code",
   "execution_count": 39,
   "id": "ba622812",
   "metadata": {},
   "outputs": [
    {
     "data": {
      "text/plain": [
       "{'district', 'state', 'village'}"
      ]
     },
     "execution_count": 39,
     "metadata": {},
     "output_type": "execute_result"
    }
   ],
   "source": [
    "input_keys"
   ]
  },
  {
   "cell_type": "code",
   "execution_count": 42,
   "id": "59dfe1af",
   "metadata": {},
   "outputs": [],
   "source": [
    "s4=dict.fromkeys(input_keys)"
   ]
  },
  {
   "cell_type": "code",
   "execution_count": 43,
   "id": "918b6816",
   "metadata": {},
   "outputs": [
    {
     "data": {
      "text/plain": [
       "{'district': None, 'state': None, 'village': None}"
      ]
     },
     "execution_count": 43,
     "metadata": {},
     "output_type": "execute_result"
    }
   ],
   "source": [
    "s4"
   ]
  },
  {
   "cell_type": "code",
   "execution_count": 44,
   "id": "5a24a36b",
   "metadata": {},
   "outputs": [
    {
     "name": "stdout",
     "output_type": "stream",
     "text": [
      "Help on method_descriptor:\n",
      "\n",
      "get(self, key, default=None, /)\n",
      "    Return the value for key if key is in the dictionary, else default.\n",
      "\n"
     ]
    }
   ],
   "source": [
    "help(dict.get)"
   ]
  },
  {
   "cell_type": "code",
   "execution_count": 49,
   "id": "a5be2647",
   "metadata": {},
   "outputs": [],
   "source": [
    "s4.get('region')"
   ]
  },
  {
   "cell_type": "code",
   "execution_count": 51,
   "id": "ac363f3e",
   "metadata": {},
   "outputs": [
    {
     "data": {
      "text/plain": [
       "{'district': None, 'state': None, 'village': None}"
      ]
     },
     "execution_count": 51,
     "metadata": {},
     "output_type": "execute_result"
    }
   ],
   "source": [
    "s4"
   ]
  },
  {
   "cell_type": "code",
   "execution_count": 50,
   "id": "47109a91",
   "metadata": {},
   "outputs": [
    {
     "data": {
      "text/plain": [
       "{'district': None, 'state': None, 'village': None}"
      ]
     },
     "execution_count": 50,
     "metadata": {},
     "output_type": "execute_result"
    }
   ],
   "source": [
    "s4"
   ]
  },
  {
   "cell_type": "code",
   "execution_count": 55,
   "id": "f1a02dbc",
   "metadata": {},
   "outputs": [
    {
     "name": "stdout",
     "output_type": "stream",
     "text": [
      "['__class__', '__contains__', '__delattr__', '__delitem__', '__dir__', '__doc__', '__eq__', '__format__', '__ge__', '__getattribute__', '__getitem__', '__gt__', '__hash__', '__init__', '__init_subclass__', '__iter__', '__le__', '__len__', '__lt__', '__ne__', '__new__', '__reduce__', '__reduce_ex__', '__repr__', '__reversed__', '__setattr__', '__setitem__', '__sizeof__', '__str__', '__subclasshook__', 'clear', 'copy', 'fromkeys', 'get', 'items', 'keys', 'pop', 'popitem', 'setdefault', 'update', 'values']\n"
     ]
    }
   ],
   "source": [
    "print(dir(dict))"
   ]
  },
  {
   "cell_type": "code",
   "execution_count": 59,
   "id": "965ba9ad",
   "metadata": {},
   "outputs": [
    {
     "name": "stdout",
     "output_type": "stream",
     "text": [
      "Help on method_descriptor:\n",
      "\n",
      "items(...)\n",
      "    D.items() -> a set-like object providing a view on D's items\n",
      "\n"
     ]
    }
   ],
   "source": [
    "help(dict.items)"
   ]
  },
  {
   "cell_type": "code",
   "execution_count": 61,
   "id": "cbd54534",
   "metadata": {},
   "outputs": [
    {
     "name": "stdout",
     "output_type": "stream",
     "text": [
      "Help on method_descriptor:\n",
      "\n",
      "append(self, object, /)\n",
      "    Append object to the end of the list.\n",
      "\n"
     ]
    }
   ],
   "source": [
    "help(list.append)"
   ]
  },
  {
   "cell_type": "markdown",
   "id": "2490cdce",
   "metadata": {},
   "source": [
    "s4.items()"
   ]
  },
  {
   "cell_type": "code",
   "execution_count": 62,
   "id": "2293c7f9",
   "metadata": {},
   "outputs": [
    {
     "data": {
      "text/plain": [
       "dict_items([('district', None), ('state', None), ('village', None)])"
      ]
     },
     "execution_count": 62,
     "metadata": {},
     "output_type": "execute_result"
    }
   ],
   "source": [
    "s4.items()"
   ]
  },
  {
   "cell_type": "code",
   "execution_count": 63,
   "id": "7e2f23f3",
   "metadata": {},
   "outputs": [
    {
     "data": {
      "text/plain": [
       "dict_keys(['district', 'state', 'village'])"
      ]
     },
     "execution_count": 63,
     "metadata": {},
     "output_type": "execute_result"
    }
   ],
   "source": [
    "s4.keys()"
   ]
  },
  {
   "cell_type": "code",
   "execution_count": 64,
   "id": "e93ecc96",
   "metadata": {},
   "outputs": [
    {
     "data": {
      "text/plain": [
       "dict_values([None, None, None])"
      ]
     },
     "execution_count": 64,
     "metadata": {},
     "output_type": "execute_result"
    }
   ],
   "source": [
    "s4.values()"
   ]
  },
  {
   "cell_type": "code",
   "execution_count": 65,
   "id": "1a2ad534",
   "metadata": {},
   "outputs": [],
   "source": [
    "s4.pop('state')"
   ]
  },
  {
   "cell_type": "code",
   "execution_count": 66,
   "id": "53c80cb4",
   "metadata": {},
   "outputs": [
    {
     "data": {
      "text/plain": [
       "{'district': None, 'village': None}"
      ]
     },
     "execution_count": 66,
     "metadata": {},
     "output_type": "execute_result"
    }
   ],
   "source": [
    "s4"
   ]
  },
  {
   "cell_type": "code",
   "execution_count": 67,
   "id": "f06a822e",
   "metadata": {},
   "outputs": [],
   "source": [
    "s4.pop('district')"
   ]
  },
  {
   "cell_type": "code",
   "execution_count": 68,
   "id": "0d54a2bb",
   "metadata": {},
   "outputs": [
    {
     "data": {
      "text/plain": [
       "{'village': None}"
      ]
     },
     "execution_count": 68,
     "metadata": {},
     "output_type": "execute_result"
    }
   ],
   "source": [
    "s4"
   ]
  },
  {
   "cell_type": "code",
   "execution_count": 69,
   "id": "c63d4152",
   "metadata": {},
   "outputs": [],
   "source": [
    "s4={'district': None, 'state': None, 'village': None}\n"
   ]
  },
  {
   "cell_type": "code",
   "execution_count": 70,
   "id": "9990b4d2",
   "metadata": {},
   "outputs": [
    {
     "data": {
      "text/plain": [
       "{'district': None, 'state': None, 'village': None}"
      ]
     },
     "execution_count": 70,
     "metadata": {},
     "output_type": "execute_result"
    }
   ],
   "source": [
    "s4"
   ]
  },
  {
   "cell_type": "code",
   "execution_count": 71,
   "id": "8db6a8ab",
   "metadata": {},
   "outputs": [
    {
     "data": {
      "text/plain": [
       "('village', None)"
      ]
     },
     "execution_count": 71,
     "metadata": {},
     "output_type": "execute_result"
    }
   ],
   "source": [
    "s4.popitem()"
   ]
  },
  {
   "cell_type": "code",
   "execution_count": 72,
   "id": "a4ec52db",
   "metadata": {},
   "outputs": [
    {
     "data": {
      "text/plain": [
       "{'district': None, 'state': None}"
      ]
     },
     "execution_count": 72,
     "metadata": {},
     "output_type": "execute_result"
    }
   ],
   "source": [
    "s4"
   ]
  },
  {
   "cell_type": "code",
   "execution_count": 74,
   "id": "4c4aaf17",
   "metadata": {},
   "outputs": [
    {
     "name": "stdout",
     "output_type": "stream",
     "text": [
      "['__class__', '__contains__', '__delattr__', '__delitem__', '__dir__', '__doc__', '__eq__', '__format__', '__ge__', '__getattribute__', '__getitem__', '__gt__', '__hash__', '__init__', '__init_subclass__', '__iter__', '__le__', '__len__', '__lt__', '__ne__', '__new__', '__reduce__', '__reduce_ex__', '__repr__', '__reversed__', '__setattr__', '__setitem__', '__sizeof__', '__str__', '__subclasshook__', 'clear', 'copy', 'fromkeys', 'get', 'items', 'keys', 'pop', 'popitem', 'setdefault', 'update', 'values']\n"
     ]
    }
   ],
   "source": [
    "print(dir(dict))"
   ]
  },
  {
   "cell_type": "code",
   "execution_count": 83,
   "id": "cfabd8a0",
   "metadata": {},
   "outputs": [
    {
     "data": {
      "text/plain": [
       "'India'"
      ]
     },
     "execution_count": 83,
     "metadata": {},
     "output_type": "execute_result"
    }
   ],
   "source": [
    "s4.setdefault('country','India')"
   ]
  },
  {
   "cell_type": "code",
   "execution_count": 81,
   "id": "46928db2",
   "metadata": {},
   "outputs": [
    {
     "data": {
      "text/plain": [
       "{'district': None, 'state': None, 'country': 'India'}"
      ]
     },
     "execution_count": 81,
     "metadata": {},
     "output_type": "execute_result"
    }
   ],
   "source": [
    "s4"
   ]
  },
  {
   "cell_type": "code",
   "execution_count": 84,
   "id": "2318a405",
   "metadata": {},
   "outputs": [
    {
     "data": {
      "text/plain": [
       "'keshegaon'"
      ]
     },
     "execution_count": 84,
     "metadata": {},
     "output_type": "execute_result"
    }
   ],
   "source": [
    "s4.setdefault('village','keshegaon')"
   ]
  },
  {
   "cell_type": "code",
   "execution_count": 85,
   "id": "c8bafe2b",
   "metadata": {},
   "outputs": [
    {
     "data": {
      "text/plain": [
       "{'district': None, 'state': None, 'country': 'India', 'village': 'keshegaon'}"
      ]
     },
     "execution_count": 85,
     "metadata": {},
     "output_type": "execute_result"
    }
   ],
   "source": [
    "s4"
   ]
  },
  {
   "cell_type": "code",
   "execution_count": 86,
   "id": "7582f827",
   "metadata": {},
   "outputs": [],
   "source": [
    "s4.setdefault('district','osmanabad')"
   ]
  },
  {
   "cell_type": "code",
   "execution_count": 87,
   "id": "6b3e6d2c",
   "metadata": {},
   "outputs": [
    {
     "data": {
      "text/plain": [
       "{'district': None, 'state': None, 'country': 'India', 'village': 'keshegaon'}"
      ]
     },
     "execution_count": 87,
     "metadata": {},
     "output_type": "execute_result"
    }
   ],
   "source": [
    "s4"
   ]
  },
  {
   "cell_type": "code",
   "execution_count": 89,
   "id": "69d37a2d",
   "metadata": {},
   "outputs": [],
   "source": [
    "s4.update({'district':'osmanabad'})"
   ]
  },
  {
   "cell_type": "code",
   "execution_count": null,
   "id": "44a5b5bd",
   "metadata": {},
   "outputs": [],
   "source": []
  }
 ],
 "metadata": {
  "kernelspec": {
   "display_name": "Python 3",
   "language": "python",
   "name": "python3"
  },
  "language_info": {
   "codemirror_mode": {
    "name": "ipython",
    "version": 3
   },
   "file_extension": ".py",
   "mimetype": "text/x-python",
   "name": "python",
   "nbconvert_exporter": "python",
   "pygments_lexer": "ipython3",
   "version": "3.8.8"
  }
 },
 "nbformat": 4,
 "nbformat_minor": 5
}
