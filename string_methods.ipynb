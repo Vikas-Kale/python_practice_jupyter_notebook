{
 "cells": [
  {
   "cell_type": "code",
   "execution_count": 1,
   "id": "6a2d47d5",
   "metadata": {},
   "outputs": [
    {
     "name": "stdout",
     "output_type": "stream",
     "text": [
      "['__add__', '__class__', '__contains__', '__delattr__', '__dir__', '__doc__', '__eq__', '__format__', '__ge__', '__getattribute__', '__getitem__', '__getnewargs__', '__gt__', '__hash__', '__init__', '__init_subclass__', '__iter__', '__le__', '__len__', '__lt__', '__mod__', '__mul__', '__ne__', '__new__', '__reduce__', '__reduce_ex__', '__repr__', '__rmod__', '__rmul__', '__setattr__', '__sizeof__', '__str__', '__subclasshook__', 'capitalize', 'casefold', 'center', 'count', 'encode', 'endswith', 'expandtabs', 'find', 'format', 'format_map', 'index', 'isalnum', 'isalpha', 'isascii', 'isdecimal', 'isdigit', 'isidentifier', 'islower', 'isnumeric', 'isprintable', 'isspace', 'istitle', 'isupper', 'join', 'ljust', 'lower', 'lstrip', 'maketrans', 'partition', 'replace', 'rfind', 'rindex', 'rjust', 'rpartition', 'rsplit', 'rstrip', 'split', 'splitlines', 'startswith', 'strip', 'swapcase', 'title', 'translate', 'upper', 'zfill']\n"
     ]
    }
   ],
   "source": [
    "print(dir(str))"
   ]
  },
  {
   "cell_type": "markdown",
   "id": "7fc6c9b0",
   "metadata": {},
   "source": [
    "# Strings are immutable"
   ]
  },
  {
   "cell_type": "code",
   "execution_count": null,
   "id": "8916781d",
   "metadata": {},
   "outputs": [],
   "source": [
    "# Once string is defined it cannot be changed."
   ]
  },
  {
   "cell_type": "code",
   "execution_count": 6,
   "id": "6eb62ac4",
   "metadata": {},
   "outputs": [],
   "source": [
    "name='vikas'"
   ]
  },
  {
   "cell_type": "code",
   "execution_count": 7,
   "id": "0cf68ffe",
   "metadata": {},
   "outputs": [
    {
     "data": {
      "text/plain": [
       "'k'"
      ]
     },
     "execution_count": 7,
     "metadata": {},
     "output_type": "execute_result"
    }
   ],
   "source": [
    "name[2]"
   ]
  },
  {
   "cell_type": "code",
   "execution_count": 8,
   "id": "189cf3e6",
   "metadata": {},
   "outputs": [
    {
     "ename": "TypeError",
     "evalue": "'str' object does not support item assignment",
     "output_type": "error",
     "traceback": [
      "\u001b[1;31m---------------------------------------------------------------------------\u001b[0m",
      "\u001b[1;31mTypeError\u001b[0m                                 Traceback (most recent call last)",
      "\u001b[1;32m<ipython-input-8-7add78c70d4b>\u001b[0m in \u001b[0;36m<module>\u001b[1;34m\u001b[0m\n\u001b[1;32m----> 1\u001b[1;33m \u001b[0mname\u001b[0m\u001b[1;33m[\u001b[0m\u001b[1;36m2\u001b[0m\u001b[1;33m]\u001b[0m\u001b[1;33m=\u001b[0m\u001b[1;34m'm'\u001b[0m\u001b[1;33m\u001b[0m\u001b[1;33m\u001b[0m\u001b[0m\n\u001b[0m",
      "\u001b[1;31mTypeError\u001b[0m: 'str' object does not support item assignment"
     ]
    }
   ],
   "source": [
    "name[2]='m'"
   ]
  },
  {
   "cell_type": "code",
   "execution_count": null,
   "id": "f9cb81d5",
   "metadata": {},
   "outputs": [],
   "source": [
    "# Below code works fine"
   ]
  },
  {
   "cell_type": "code",
   "execution_count": 9,
   "id": "6ea2aa83",
   "metadata": {},
   "outputs": [
    {
     "data": {
      "text/plain": [
       "'vikas'"
      ]
     },
     "execution_count": 9,
     "metadata": {},
     "output_type": "execute_result"
    }
   ],
   "source": [
    "name"
   ]
  },
  {
   "cell_type": "code",
   "execution_count": 10,
   "id": "b951deb8",
   "metadata": {},
   "outputs": [
    {
     "data": {
      "text/plain": [
       "'vikasm'"
      ]
     },
     "execution_count": 10,
     "metadata": {},
     "output_type": "execute_result"
    }
   ],
   "source": [
    "name+'m'"
   ]
  },
  {
   "cell_type": "markdown",
   "id": "c3467872",
   "metadata": {},
   "source": [
    "# Understand using id() function.\n",
    "- id() function is used to return the identity of an object."
   ]
  },
  {
   "cell_type": "code",
   "execution_count": 11,
   "id": "d28d977a",
   "metadata": {},
   "outputs": [
    {
     "name": "stdout",
     "output_type": "stream",
     "text": [
      "2415611573232\n",
      "2415611573040\n"
     ]
    }
   ],
   "source": [
    "string1=\"Hello World\"\n",
    "string2=\"Hello World\"\n",
    "\n",
    "print(id(string1))\n",
    "print(id(string2))"
   ]
  },
  {
   "cell_type": "code",
   "execution_count": 12,
   "id": "6d0f9ddf",
   "metadata": {},
   "outputs": [
    {
     "name": "stdout",
     "output_type": "stream",
     "text": [
      "2415609753968\n",
      "2415609753968\n"
     ]
    }
   ],
   "source": [
    "string1 = \"Hello\"\n",
    "string2 = \"Hello\"\n",
    "  \n",
    "print(id(string1))\n",
    "print(id(string2))   # Here the id of both string is same."
   ]
  },
  {
   "cell_type": "code",
   "execution_count": 13,
   "id": "0dc7cffd",
   "metadata": {},
   "outputs": [
    {
     "name": "stdout",
     "output_type": "stream",
     "text": [
      "2415609753968\n",
      "2415601669808\n"
     ]
    }
   ],
   "source": [
    "# Now modify any one of the string\n",
    "\n",
    "string1=\"Hello\"\n",
    "\n",
    "print(id(string1))\n",
    "\n",
    "string1=string1 + 'World'\n",
    "\n",
    "print(id(string1))"
   ]
  },
  {
   "cell_type": "code",
   "execution_count": 14,
   "id": "e7d96ff8",
   "metadata": {},
   "outputs": [
    {
     "name": "stdout",
     "output_type": "stream",
     "text": [
      "She said,'Your Smart!'\n"
     ]
    }
   ],
   "source": [
    "print(\"She said,'Your Smart!'\")"
   ]
  },
  {
   "cell_type": "code",
   "execution_count": 15,
   "id": "af61a001",
   "metadata": {},
   "outputs": [
    {
     "name": "stdout",
     "output_type": "stream",
     "text": [
      "She said,\"your smart\"\n"
     ]
    }
   ],
   "source": [
    "print('She said,\"your smart\"')"
   ]
  },
  {
   "cell_type": "code",
   "execution_count": 20,
   "id": "6116e322",
   "metadata": {},
   "outputs": [
    {
     "name": "stdout",
     "output_type": "stream",
     "text": [
      "She said,\"Your Smart\"\n"
     ]
    }
   ],
   "source": [
    "# By using escape character\n",
    "\n",
    "print(\"She said,\\\"Your Smart\\\"\")"
   ]
  },
  {
   "cell_type": "code",
   "execution_count": 21,
   "id": "acca2ce4",
   "metadata": {},
   "outputs": [
    {
     "name": "stdout",
     "output_type": "stream",
     "text": [
      "\\ this is escape character\n"
     ]
    }
   ],
   "source": [
    "print('\\ this is escape character')"
   ]
  },
  {
   "cell_type": "code",
   "execution_count": 22,
   "id": "df4f99b7",
   "metadata": {},
   "outputs": [
    {
     "name": "stdout",
     "output_type": "stream",
     "text": [
      "\\ is back slash\n"
     ]
    }
   ],
   "source": [
    "print(\"\\\\ is back slash\")"
   ]
  },
  {
   "cell_type": "code",
   "execution_count": 26,
   "id": "7dfec41b",
   "metadata": {},
   "outputs": [
    {
     "name": "stdout",
     "output_type": "stream",
     "text": [
      "/ is forward slash\n"
     ]
    }
   ],
   "source": [
    "print(\"/ is forward slash\")"
   ]
  },
  {
   "cell_type": "markdown",
   "id": "43b16e7e",
   "metadata": {},
   "source": [
    "# 1) capitalize"
   ]
  },
  {
   "cell_type": "code",
   "execution_count": 2,
   "id": "542637bb",
   "metadata": {},
   "outputs": [
    {
     "name": "stdout",
     "output_type": "stream",
     "text": [
      "Help on method_descriptor:\n",
      "\n",
      "capitalize(self, /)\n",
      "    Return a capitalized version of the string.\n",
      "    \n",
      "    More specifically, make the first character have upper case and the rest lower\n",
      "    case.\n",
      "\n"
     ]
    }
   ],
   "source": [
    "help(str.capitalize)"
   ]
  },
  {
   "cell_type": "code",
   "execution_count": 3,
   "id": "19a4d305",
   "metadata": {},
   "outputs": [
    {
     "name": "stdout",
     "output_type": "stream",
     "text": [
      "Vikas kale\n"
     ]
    }
   ],
   "source": [
    "name='vikas kale'\n",
    "print(name.capitalize())"
   ]
  },
  {
   "cell_type": "markdown",
   "id": "fbce894c",
   "metadata": {},
   "source": [
    "# 2) casefold "
   ]
  },
  {
   "cell_type": "code",
   "execution_count": 5,
   "id": "5312da6d",
   "metadata": {},
   "outputs": [
    {
     "name": "stdout",
     "output_type": "stream",
     "text": [
      "Help on method_descriptor:\n",
      "\n",
      "casefold(self, /)\n",
      "    Return a version of the string suitable for caseless comparisons.\n",
      "\n"
     ]
    }
   ],
   "source": [
    "help(str.casefold)"
   ]
  },
  {
   "cell_type": "code",
   "execution_count": null,
   "id": "71ad7ac1",
   "metadata": {},
   "outputs": [],
   "source": []
  }
 ],
 "metadata": {
  "kernelspec": {
   "display_name": "Python 3",
   "language": "python",
   "name": "python3"
  },
  "language_info": {
   "codemirror_mode": {
    "name": "ipython",
    "version": 3
   },
   "file_extension": ".py",
   "mimetype": "text/x-python",
   "name": "python",
   "nbconvert_exporter": "python",
   "pygments_lexer": "ipython3",
   "version": "3.8.8"
  }
 },
 "nbformat": 4,
 "nbformat_minor": 5
}
