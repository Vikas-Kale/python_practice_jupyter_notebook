{
 "cells": [
  {
   "cell_type": "code",
   "execution_count": 20,
   "id": "7eb0edaf",
   "metadata": {},
   "outputs": [
    {
     "name": "stdout",
     "output_type": "stream",
     "text": [
      "Prime\n"
     ]
    }
   ],
   "source": [
    "# Prime number is a natural number greater than 1.\n",
    "# The factor of prime number is 2.\n",
    "# if factor grater than 2 then this is not a prime number.\n",
    "\n",
    "num=97\n",
    "\n",
    "for i in range(2,num):\n",
    "    if num%i == 0:\n",
    "        print(\"Not Prime\")\n",
    "        break\n",
    "else:\n",
    "    print(\"Prime\")"
   ]
  },
  {
   "cell_type": "code",
   "execution_count": 21,
   "id": "f97d316c",
   "metadata": {},
   "outputs": [
    {
     "name": "stdout",
     "output_type": "stream",
     "text": [
      "41 is prime number.\n"
     ]
    }
   ],
   "source": [
    "num=41\n",
    "for i in range(2,num):\n",
    "    if num%i==0:\n",
    "        print(f\"{num} is not prime.\")\n",
    "        break\n",
    "else:\n",
    "    print(f\"{num} is prime number.\")\n",
    "\n",
    "        "
   ]
  },
  {
   "cell_type": "code",
   "execution_count": 46,
   "id": "9292b781",
   "metadata": {},
   "outputs": [
    {
     "name": "stdout",
     "output_type": "stream",
     "text": [
      "Enter number: 97\n",
      "97 is prime number.\n"
     ]
    }
   ],
   "source": [
    "num1=int(input(\"Enter number: \"))\n",
    "\n",
    "for num in range(2,num1):\n",
    "    if num1%num==0:\n",
    "        prin(f\"{num1} is not prime number.\")\n",
    "        \n",
    "else:\n",
    "    print(f\"{num1} is prime number.\")"
   ]
  },
  {
   "cell_type": "code",
   "execution_count": 31,
   "id": "b78b8ec2",
   "metadata": {},
   "outputs": [
    {
     "name": "stdout",
     "output_type": "stream",
     "text": [
      "Enter a number: 3\n",
      "3 is prime number.\n",
      "Enter a number: 5\n",
      "5 is prime number.\n",
      "Enter a number: 97\n",
      "97 is prime number.\n",
      "Enter a number: 41\n",
      "41 is prime number.\n",
      "Enter a number: 42\n",
      "42 is not prime number.\n",
      "Enter a number: 12\n",
      "12 is not prime number.\n",
      "Enter a number: 17\n",
      "17 is prime number.\n",
      "Enter a number: 36\n",
      "36 is not prime number.\n",
      "Enter a number: 22\n",
      "22 is not prime number.\n",
      "Enter a number: exit\n"
     ]
    }
   ],
   "source": [
    "while True:\n",
    "    num=input(\"Enter a number: \")\n",
    "    if num==\"exit\":\n",
    "        break\n",
    "    for i in range(2,int(num)):\n",
    "        if int(num)%i==0:\n",
    "            print(f\"{num} is not prime number.\")\n",
    "            break\n",
    "    else:\n",
    "        print(f\"{num} is prime number.\")"
   ]
  },
  {
   "cell_type": "markdown",
   "id": "d18f4a44",
   "metadata": {},
   "source": [
    "## print all prime numbers between 2 to 50"
   ]
  },
  {
   "cell_type": "code",
   "execution_count": 39,
   "id": "0174d783",
   "metadata": {},
   "outputs": [
    {
     "name": "stdout",
     "output_type": "stream",
     "text": [
      "3\t5\t7\t9\t11\t13\t15\t17\t19\t21\t23\t25\t27\t29\t31\t33\t35\t37\t39\t41\t43\t45\t47\t49\t"
     ]
    }
   ],
   "source": [
    "lower=2\n",
    "upper=50\n",
    "for num in range(lower,upper+1):\n",
    "    for i in range(2,num+1):\n",
    "        if num%2==0:\n",
    "            break\n",
    "    else:\n",
    "        print(num,end=\"\\t\")\n",
    "            \n",
    "\n",
    "        "
   ]
  },
  {
   "cell_type": "code",
   "execution_count": 44,
   "id": "f50930f4",
   "metadata": {},
   "outputs": [
    {
     "name": "stdout",
     "output_type": "stream",
     "text": [
      "Enter lower number: 1\n",
      "Enter upper number: 50\n",
      "2\t3\t5\t7\t9\t11\t13\t15\t17\t19\t21\t23\t25\t27\t29\t31\t33\t35\t37\t39\t41\t43\t45\t47\t49\t"
     ]
    }
   ],
   "source": [
    "lower=int(input(\"Enter lower number: \"))\n",
    "upper=int(input(\"Enter upper number: \"))\n",
    "\n",
    "for num in range(lower,upper+1):\n",
    "    if num>1:\n",
    "        \n",
    "        for i in range(2,num):\n",
    "            if num%2==0:\n",
    "                break\n",
    "        else:\n",
    "            print(num,end=\"\\t\")"
   ]
  },
  {
   "cell_type": "code",
   "execution_count": 67,
   "id": "2932f5a3",
   "metadata": {},
   "outputs": [
    {
     "name": "stdout",
     "output_type": "stream",
     "text": [
      "2\t3\t5\t7\t11\t13\t17\t19\t23\t29\t31\t37\t41\t43\t47\t53\t59\t61\t67\t71\t73\t79\t83\t89\t97\t"
     ]
    }
   ],
   "source": [
    "lower_range=1\n",
    "upper_range=100\n",
    "\n",
    "for num in range(lower_range,upper_range+1):\n",
    "    if num > 1:\n",
    "        for i in range(2,num):\n",
    "            if num%i == 0:\n",
    "                break\n",
    "        else:\n",
    "            print(num,end=\"\\t\")"
   ]
  },
  {
   "cell_type": "code",
   "execution_count": 59,
   "id": "4086b457",
   "metadata": {},
   "outputs": [
    {
     "name": "stdout",
     "output_type": "stream",
     "text": [
      "Enter a number:-85\n",
      "85 is not prime number.\n"
     ]
    }
   ],
   "source": [
    "num=int(input(\"Enter a number:-\"))\n",
    "count=0\n",
    "\n",
    "for i in range(1,num+1):\n",
    "    if num%i==0:\n",
    "        count+=1\n",
    "if count == 2:\n",
    "    print(f\"{num} is prime number.\")\n",
    "    \n",
    "else:\n",
    "    print(f\"{num} is not prime number.\")"
   ]
  },
  {
   "cell_type": "code",
   "execution_count": 68,
   "id": "695a7600",
   "metadata": {},
   "outputs": [
    {
     "name": "stdout",
     "output_type": "stream",
     "text": [
      "2\t3\t5\t7\t11\t13\t17\t19\t"
     ]
    }
   ],
   "source": [
    "for num1 in range(1,21):\n",
    "    if num1 > 1:\n",
    "        for i in range(2,num1):\n",
    "            if num1%i == 0:\n",
    "                break\n",
    "        else:\n",
    "            print(num1,end=\"\\t\")"
   ]
  },
  {
   "cell_type": "code",
   "execution_count": null,
   "id": "959f1e6d",
   "metadata": {},
   "outputs": [],
   "source": []
  }
 ],
 "metadata": {
  "kernelspec": {
   "display_name": "Python 3",
   "language": "python",
   "name": "python3"
  },
  "language_info": {
   "codemirror_mode": {
    "name": "ipython",
    "version": 3
   },
   "file_extension": ".py",
   "mimetype": "text/x-python",
   "name": "python",
   "nbconvert_exporter": "python",
   "pygments_lexer": "ipython3",
   "version": "3.8.8"
  }
 },
 "nbformat": 4,
 "nbformat_minor": 5
}
