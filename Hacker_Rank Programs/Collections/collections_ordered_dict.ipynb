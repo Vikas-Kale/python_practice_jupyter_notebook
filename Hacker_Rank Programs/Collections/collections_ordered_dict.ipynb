{
 "cells": [
  {
   "cell_type": "markdown",
   "id": "0698189d",
   "metadata": {},
   "source": [
    "An OrderedDict is a dictionary that remembers the order of the keys that were inserted first. If a new entry overwrites an existing entry, the original insertion position is left unchanged."
   ]
  },
  {
   "cell_type": "code",
   "execution_count": 1,
   "id": "8346aa46",
   "metadata": {},
   "outputs": [],
   "source": [
    "import collections"
   ]
  },
  {
   "cell_type": "code",
   "execution_count": 2,
   "id": "34b567f6",
   "metadata": {},
   "outputs": [
    {
     "name": "stdout",
     "output_type": "stream",
     "text": [
      "['ChainMap', 'Counter', 'OrderedDict', 'UserDict', 'UserList', 'UserString', '_Link', '_OrderedDictItemsView', '_OrderedDictKeysView', '_OrderedDictValuesView', '__all__', '__builtins__', '__cached__', '__doc__', '__file__', '__getattr__', '__loader__', '__name__', '__package__', '__path__', '__spec__', '_chain', '_collections_abc', '_count_elements', '_eq', '_heapq', '_iskeyword', '_itemgetter', '_proxy', '_recursive_repr', '_repeat', '_starmap', '_sys', '_tuplegetter', 'abc', 'defaultdict', 'deque', 'namedtuple']\n"
     ]
    }
   ],
   "source": [
    "print(dir(collections))"
   ]
  },
  {
   "cell_type": "code",
   "execution_count": 4,
   "id": "97983f01",
   "metadata": {},
   "outputs": [],
   "source": [
    "from collections import OrderedDict"
   ]
  },
  {
   "cell_type": "code",
   "execution_count": 15,
   "id": "255f044b",
   "metadata": {},
   "outputs": [
    {
     "name": "stdout",
     "output_type": "stream",
     "text": [
      "{'a': 1, 'b': 5, 'c': 3, 'd': 4}\n"
     ]
    }
   ],
   "source": [
    "dict1={}\n",
    "dict1['a']=1\n",
    "dict1['b']=5\n",
    "dict1['c']=3\n",
    "dict1['d']=4\n",
    "\n",
    "print(dict1)"
   ]
  },
  {
   "cell_type": "code",
   "execution_count": 16,
   "id": "16dfba56",
   "metadata": {},
   "outputs": [
    {
     "name": "stdout",
     "output_type": "stream",
     "text": [
      "OrderedDict([('a', 1), ('b', 8), ('c', 3), ('d', 4)])\n"
     ]
    }
   ],
   "source": [
    "dict1=OrderedDict()\n",
    "dict1['a']=1\n",
    "dict1['b']=8\n",
    "dict1['c']=3\n",
    "dict1['d']=4\n",
    "\n",
    "print(dict1)"
   ]
  },
  {
   "cell_type": "code",
   "execution_count": 19,
   "id": "bb9ed86a",
   "metadata": {},
   "outputs": [
    {
     "name": "stdout",
     "output_type": "stream",
     "text": [
      "9\n",
      "BANANA FRIES 12\n",
      "POTATO CHIPS 30\n",
      "APPLE JUICE 10\n",
      "CANDY 5\n",
      "APPLE JUICE 10\n",
      "CANDY 5\n",
      "CANDY 5\n",
      "CANDY 5\n",
      "POTATO CHIPS 30\n",
      "BANANA FRIES 12\n",
      "POTATO CHIPS 60\n",
      "APPLE JUICE 20\n",
      "CANDY 20\n"
     ]
    }
   ],
   "source": [
    "from collections import OrderedDict\n",
    "\n",
    "N=int(input())\n",
    "d=OrderedDict()\n",
    "for i in range(N):\n",
    "    str=input().split()\n",
    "    k=\" \".join(str[:-1])\n",
    "    v=int(str[-1])\n",
    "    \n",
    "    if k in d:\n",
    "        d[k]=d[k] + v\n",
    "    else:\n",
    "        d[k]=v\n",
    "for k,v in d.items():\n",
    "    print(k,v)\n",
    "    "
   ]
  },
  {
   "cell_type": "code",
   "execution_count": null,
   "id": "1f429fb5",
   "metadata": {},
   "outputs": [],
   "source": [
    "9\n",
    "BANANA FRIES 12\n",
    "POTATO CHIPS 30\n",
    "APPLE JUICE 10\n",
    "CANDY 5\n",
    "APPLE JUICE 10\n",
    "CANDY 5\n",
    "CANDY 5\n",
    "CANDY 5\n",
    "POTATO CHIPS 30"
   ]
  },
  {
   "cell_type": "code",
   "execution_count": 22,
   "id": "933d4ad4",
   "metadata": {},
   "outputs": [
    {
     "name": "stdout",
     "output_type": "stream",
     "text": [
      "9\n",
      "BANANAFRIES 12\n",
      "POTATOCHIPS 30\n",
      "APPLEJUICE 10\n",
      "CANDY 5\n",
      "APPLEJUICE 10\n",
      "CANDY 5\n",
      "CANDY 5\n",
      "CANDY 5\n",
      "POTATOCHIPS 30\n",
      "BANANAFRIES 12\n",
      "POTATOCHIPS 60\n",
      "APPLEJUICE 20\n",
      "CANDY 20\n"
     ]
    }
   ],
   "source": [
    "from collections import OrderedDict\n",
    "\n",
    "d=OrderedDict()\n",
    "for i in range(int(input())):\n",
    "    k,v =input().split()  \n",
    "    if k in d:\n",
    "        d[k]=d[k] + int(v)\n",
    "    else:\n",
    "        d[k]=int(v)\n",
    "for k,v in d.items():\n",
    "    print(k,v)"
   ]
  },
  {
   "cell_type": "code",
   "execution_count": null,
   "id": "b96439ed",
   "metadata": {},
   "outputs": [],
   "source": []
  }
 ],
 "metadata": {
  "kernelspec": {
   "display_name": "Python 3",
   "language": "python",
   "name": "python3"
  },
  "language_info": {
   "codemirror_mode": {
    "name": "ipython",
    "version": 3
   },
   "file_extension": ".py",
   "mimetype": "text/x-python",
   "name": "python",
   "nbconvert_exporter": "python",
   "pygments_lexer": "ipython3",
   "version": "3.8.8"
  }
 },
 "nbformat": 4,
 "nbformat_minor": 5
}
