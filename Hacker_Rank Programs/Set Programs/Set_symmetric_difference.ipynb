{
 "cells": [
  {
   "cell_type": "code",
   "execution_count": 1,
   "id": "c06f8d7f",
   "metadata": {},
   "outputs": [
    {
     "name": "stdout",
     "output_type": "stream",
     "text": [
      "['__and__', '__class__', '__contains__', '__delattr__', '__dir__', '__doc__', '__eq__', '__format__', '__ge__', '__getattribute__', '__gt__', '__hash__', '__iand__', '__init__', '__init_subclass__', '__ior__', '__isub__', '__iter__', '__ixor__', '__le__', '__len__', '__lt__', '__ne__', '__new__', '__or__', '__rand__', '__reduce__', '__reduce_ex__', '__repr__', '__ror__', '__rsub__', '__rxor__', '__setattr__', '__sizeof__', '__str__', '__sub__', '__subclasshook__', '__xor__', 'add', 'clear', 'copy', 'difference', 'difference_update', 'discard', 'intersection', 'intersection_update', 'isdisjoint', 'issubset', 'issuperset', 'pop', 'remove', 'symmetric_difference', 'symmetric_difference_update', 'union', 'update']\n"
     ]
    }
   ],
   "source": [
    "print(dir(set))"
   ]
  },
  {
   "cell_type": "code",
   "execution_count": 2,
   "id": "1d1f9985",
   "metadata": {},
   "outputs": [
    {
     "name": "stdout",
     "output_type": "stream",
     "text": [
      "Help on method_descriptor:\n",
      "\n",
      "symmetric_difference(...)\n",
      "    Return the symmetric difference of two sets as a new set.\n",
      "    \n",
      "    (i.e. all elements that are in exactly one of the sets.)\n",
      "\n"
     ]
    }
   ],
   "source": [
    "help(set.symmetric_difference)"
   ]
  },
  {
   "cell_type": "code",
   "execution_count": 7,
   "id": "3780157b",
   "metadata": {},
   "outputs": [],
   "source": [
    "a={1,2,3,4,5,6,7,8}\n",
    "b={4,5,6,7,8,10,11,12}"
   ]
  },
  {
   "cell_type": "code",
   "execution_count": 4,
   "id": "7b9f0761",
   "metadata": {},
   "outputs": [
    {
     "data": {
      "text/plain": [
       "{1, 2, 3, 10, 11, 12}"
      ]
     },
     "execution_count": 4,
     "metadata": {},
     "output_type": "execute_result"
    }
   ],
   "source": [
    "a.symmetric_difference(b)"
   ]
  },
  {
   "cell_type": "code",
   "execution_count": 6,
   "id": "65664bae",
   "metadata": {},
   "outputs": [
    {
     "data": {
      "text/plain": [
       "{1, 2, 3, 10, 11, 12}"
      ]
     },
     "execution_count": 6,
     "metadata": {},
     "output_type": "execute_result"
    }
   ],
   "source": [
    "b.symmetric_difference(a)"
   ]
  },
  {
   "cell_type": "code",
   "execution_count": 8,
   "id": "89c853ff",
   "metadata": {},
   "outputs": [
    {
     "data": {
      "text/plain": [
       "{1, 2, 3, 4, 5, 6, 7, 8}"
      ]
     },
     "execution_count": 8,
     "metadata": {},
     "output_type": "execute_result"
    }
   ],
   "source": [
    "a"
   ]
  },
  {
   "cell_type": "code",
   "execution_count": 9,
   "id": "9a27f7ab",
   "metadata": {},
   "outputs": [
    {
     "data": {
      "text/plain": [
       "{4, 5, 6, 7, 8, 10, 11, 12}"
      ]
     },
     "execution_count": 9,
     "metadata": {},
     "output_type": "execute_result"
    }
   ],
   "source": [
    "b"
   ]
  },
  {
   "cell_type": "code",
   "execution_count": 10,
   "id": "27225c88",
   "metadata": {},
   "outputs": [
    {
     "data": {
      "text/plain": [
       "{1, 2, 3, 10, 11, 12}"
      ]
     },
     "execution_count": 10,
     "metadata": {},
     "output_type": "execute_result"
    }
   ],
   "source": [
    "a^b"
   ]
  },
  {
   "cell_type": "raw",
   "id": "34053e08",
   "metadata": {},
   "source": [
    "Task\n",
    "Students of District College have subscriptions to English and French newspapers. Some students have subscribed to English only, some have subscribed to French only, and some have subscribed to both newspapers.\n",
    "\n",
    "You are given two sets of student roll numbers. One set has subscribed to the English newspaper, and one set has subscribed to the French newspaper. Your task is to find the total number of students who have subscribed to either the English or the French newspaper but not both."
   ]
  },
  {
   "cell_type": "code",
   "execution_count": 11,
   "id": "dfa7074d",
   "metadata": {},
   "outputs": [
    {
     "name": "stdout",
     "output_type": "stream",
     "text": [
      "9\n",
      "1 2 3 4 5 6 7 8 9\n",
      "9\n",
      "10 1 2 3 11 21 55 6 8\n",
      "{4, 5, 7, 9, 10, 11, 21, 55}\n"
     ]
    }
   ],
   "source": [
    "w=int(input())\n",
    "w1=set(map(int,input().split()))\n",
    "r=int(input())\n",
    "r1=set(map(int,input().split()))\n",
    "print(w1^r1)"
   ]
  },
  {
   "cell_type": "code",
   "execution_count": 12,
   "id": "aeb8cf78",
   "metadata": {},
   "outputs": [
    {
     "name": "stdout",
     "output_type": "stream",
     "text": [
      "8\n"
     ]
    }
   ],
   "source": [
    "print(len(w1.symmetric_difference(r1)))"
   ]
  },
  {
   "cell_type": "code",
   "execution_count": null,
   "id": "bf141f91",
   "metadata": {},
   "outputs": [],
   "source": [
    "9\n",
    "1 2 3 4 5 6 7 8 9\n",
    "9\n",
    "10 1 2 3 11 21 55 6 8"
   ]
  },
  {
   "cell_type": "code",
   "execution_count": null,
   "id": "2192c9da",
   "metadata": {},
   "outputs": [],
   "source": []
  },
  {
   "cell_type": "code",
   "execution_count": 1,
   "id": "1be0bb0c",
   "metadata": {
    "ExecuteTime": {
     "end_time": "2021-10-16T06:04:00.613736Z",
     "start_time": "2021-10-16T06:04:00.589738Z"
    }
   },
   "outputs": [],
   "source": [
    "set1 = {1,2,3,4,5}\n",
    "set2 = {11,13,4,5,2}"
   ]
  },
  {
   "cell_type": "code",
   "execution_count": 2,
   "id": "fcb89876",
   "metadata": {
    "ExecuteTime": {
     "end_time": "2021-10-16T06:04:15.186839Z",
     "start_time": "2021-10-16T06:04:15.178841Z"
    }
   },
   "outputs": [],
   "source": [
    "set1.update(set2)"
   ]
  },
  {
   "cell_type": "code",
   "execution_count": 3,
   "id": "02ddfbd0",
   "metadata": {
    "ExecuteTime": {
     "end_time": "2021-10-16T06:04:18.153485Z",
     "start_time": "2021-10-16T06:04:18.113486Z"
    }
   },
   "outputs": [
    {
     "data": {
      "text/plain": [
       "{1, 2, 3, 4, 5, 11, 13}"
      ]
     },
     "execution_count": 3,
     "metadata": {},
     "output_type": "execute_result"
    }
   ],
   "source": [
    "set1"
   ]
  },
  {
   "cell_type": "code",
   "execution_count": 4,
   "id": "ec154496",
   "metadata": {
    "ExecuteTime": {
     "end_time": "2021-10-16T06:04:31.720914Z",
     "start_time": "2021-10-16T06:04:31.696913Z"
    }
   },
   "outputs": [
    {
     "data": {
      "text/plain": [
       "{1, 2, 3, 4, 5, 11, 13}"
      ]
     },
     "execution_count": 4,
     "metadata": {},
     "output_type": "execute_result"
    }
   ],
   "source": [
    "set1"
   ]
  },
  {
   "cell_type": "code",
   "execution_count": 5,
   "id": "322881a0",
   "metadata": {
    "ExecuteTime": {
     "end_time": "2021-10-16T06:04:36.964316Z",
     "start_time": "2021-10-16T06:04:36.940315Z"
    }
   },
   "outputs": [
    {
     "data": {
      "text/plain": [
       "{2, 4, 5, 11, 13}"
      ]
     },
     "execution_count": 5,
     "metadata": {},
     "output_type": "execute_result"
    }
   ],
   "source": [
    "set2"
   ]
  },
  {
   "cell_type": "code",
   "execution_count": 6,
   "id": "2dfbb8ee",
   "metadata": {
    "ExecuteTime": {
     "end_time": "2021-10-16T06:05:03.891552Z",
     "start_time": "2021-10-16T06:05:03.867549Z"
    }
   },
   "outputs": [
    {
     "data": {
      "text/plain": [
       "{2, 4, 5, 11, 13}"
      ]
     },
     "execution_count": 6,
     "metadata": {},
     "output_type": "execute_result"
    }
   ],
   "source": [
    "set1.intersection(set2)"
   ]
  },
  {
   "cell_type": "code",
   "execution_count": null,
   "id": "f1fbedd4",
   "metadata": {},
   "outputs": [],
   "source": [
    "# Enter your code here. Read input from STDIN. Print output to STDOUT\n",
    "A = int(input())\n",
    "setA = set(map(int,input().split()))\n",
    "B = int(input())\n",
    "for i in range(B):\n",
    "    choice = input().split()\n",
    "    setB = set(map(int,input().split()))\n",
    "    \n",
    "    if choice[0] == \"intersection_update\":\n",
    "        setA.intersection_update(setB)\n",
    "        \n",
    "    elif choice[0] == \"update\":\n",
    "        setA.update(setB)\n",
    "        \n",
    "    elif choice[0] == \"symmetric_difference_update \":\n",
    "        setA.symmetric_difference_update(setB)\n",
    "        \n",
    "    else:\n",
    "        setA.difference_update(setB)\n",
    "        \n",
    "print(sum(setA))"
   ]
  }
 ],
 "metadata": {
  "kernelspec": {
   "display_name": "Python 3",
   "language": "python",
   "name": "python3"
  },
  "language_info": {
   "codemirror_mode": {
    "name": "ipython",
    "version": 3
   },
   "file_extension": ".py",
   "mimetype": "text/x-python",
   "name": "python",
   "nbconvert_exporter": "python",
   "pygments_lexer": "ipython3",
   "version": "3.8.8"
  }
 },
 "nbformat": 4,
 "nbformat_minor": 5
}
