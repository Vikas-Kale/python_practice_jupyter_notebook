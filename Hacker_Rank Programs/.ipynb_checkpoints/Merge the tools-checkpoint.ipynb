{
 "cells": [
  {
   "cell_type": "code",
   "execution_count": 5,
   "id": "4069a56a",
   "metadata": {},
   "outputs": [],
   "source": [
    "def merge_the_tools(string, k):\n",
    "    \n",
    "    s=\"\"\n",
    "    c=0\n",
    "    \n",
    "    for i in string:\n",
    "        if i not in s:\n",
    "            s=s+i\n",
    "        c+=1\n",
    "        \n",
    "        if (c==k):\n",
    "            print(s)\n",
    "            s=\"\"\n",
    "            c=0\n",
    "            \n",
    "    # your code goes here\n",
    "\n",
    "# if __name__ == '__main__':\n",
    "#     string, k = input(), int(input())\n",
    "#     merge_the_tools(string, k)"
   ]
  },
  {
   "cell_type": "code",
   "execution_count": 6,
   "id": "bd79d1c4",
   "metadata": {},
   "outputs": [
    {
     "name": "stdout",
     "output_type": "stream",
     "text": [
      "AB\n",
      "CA\n",
      "AD\n"
     ]
    }
   ],
   "source": [
    "merge_the_tools(\"AABCAAADA\",3)"
   ]
  },
  {
   "cell_type": "code",
   "execution_count": 34,
   "id": "b02a6f82",
   "metadata": {},
   "outputs": [],
   "source": [
    "def merge_the_tools(string, k):\n",
    "    for i in range(0, len(string), k):  # range(start:end:difference) ; range(0,9,3) here we enter value of k is 3.\n",
    "        str1 = ''                       # to store result create empty string of veriable str1.\n",
    "        for c in string[i : i+k]:       # in i= 0,3,6  for 1st:c=AAB,2nd:c=CAA,3rdc=ADA\n",
    "            if (c not in str1):         # initially str1 is empty.1st:AB,2nd:CA,3rd:AD  this will remove duplicates.\n",
    "                str1+=c                 # add char in str1\n",
    "        print(str1)                     "
   ]
  },
  {
   "cell_type": "code",
   "execution_count": 35,
   "id": "3402f5c9",
   "metadata": {},
   "outputs": [
    {
     "name": "stdout",
     "output_type": "stream",
     "text": [
      "AB\n",
      "CA\n",
      "AD\n"
     ]
    }
   ],
   "source": [
    "merge_the_tools(\"AABCAAADA\",3)"
   ]
  },
  {
   "cell_type": "code",
   "execution_count": 30,
   "id": "b9c88c3d",
   "metadata": {},
   "outputs": [
    {
     "name": "stdout",
     "output_type": "stream",
     "text": [
      "A A B C A A A D A "
     ]
    }
   ],
   "source": [
    "string1=\"AABCAAADA\"\n",
    "x=len(string1)\n",
    "for m in range(0,x,3):\n",
    "#     print(m)\n",
    "    for v in string1[m:m+k]:\n",
    "        print(v,end=\" \")"
   ]
  },
  {
   "cell_type": "code",
   "execution_count": 40,
   "id": "886ffcc9",
   "metadata": {},
   "outputs": [],
   "source": [
    "def merge_the_tools(string, k):\n",
    "    for i in range(0, len(string), k):  # range(start:end:difference) ; range(0,9,3) here we enter value of k is 3.\n",
    "        t=string[i:i+k]\n",
    "        u=set()                        # set remove duplicates.\n",
    "        \n",
    "        for j in t:\n",
    "            if j not in u:\n",
    "                print(j,end=\"\")\n",
    "                u.add(j)\n",
    "        print()"
   ]
  },
  {
   "cell_type": "code",
   "execution_count": 41,
   "id": "740aaecd",
   "metadata": {},
   "outputs": [
    {
     "name": "stdout",
     "output_type": "stream",
     "text": [
      "AB\n",
      "CA\n",
      "AD\n"
     ]
    }
   ],
   "source": [
    "merge_the_tools(\"AABCAAADA\",3)"
   ]
  },
  {
   "cell_type": "code",
   "execution_count": null,
   "id": "d6c177a6",
   "metadata": {},
   "outputs": [],
   "source": []
  }
 ],
 "metadata": {
  "kernelspec": {
   "display_name": "Python 3",
   "language": "python",
   "name": "python3"
  },
  "language_info": {
   "codemirror_mode": {
    "name": "ipython",
    "version": 3
   },
   "file_extension": ".py",
   "mimetype": "text/x-python",
   "name": "python",
   "nbconvert_exporter": "python",
   "pygments_lexer": "ipython3",
   "version": "3.8.8"
  }
 },
 "nbformat": 4,
 "nbformat_minor": 5
}
