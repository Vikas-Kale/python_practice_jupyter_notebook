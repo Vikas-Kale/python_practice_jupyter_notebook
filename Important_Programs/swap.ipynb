{
 "cells": [
  {
   "cell_type": "code",
   "execution_count": 1,
   "id": "f4fc7203",
   "metadata": {},
   "outputs": [
    {
     "name": "stdout",
     "output_type": "stream",
     "text": [
      "(8, 5)\n"
     ]
    }
   ],
   "source": [
    "a=5\n",
    "b=8\n",
    "x=a,b=b,a\n",
    "print(x)"
   ]
  },
  {
   "cell_type": "code",
   "execution_count": 2,
   "id": "db61bd23",
   "metadata": {},
   "outputs": [
    {
     "name": "stdout",
     "output_type": "stream",
     "text": [
      "a,b 8 5\n"
     ]
    }
   ],
   "source": [
    "a=5\n",
    "b=8\n",
    "tem=a\n",
    "a=b\n",
    "b=tem\n",
    "print(\"a,b\",a,b)"
   ]
  },
  {
   "cell_type": "code",
   "execution_count": 1,
   "id": "14e4a909",
   "metadata": {
    "ExecuteTime": {
     "end_time": "2021-09-27T09:17:36.082884Z",
     "start_time": "2021-09-27T09:17:36.050917Z"
    }
   },
   "outputs": [
    {
     "name": "stdout",
     "output_type": "stream",
     "text": [
      "Value of a is 8 and value of b is 5\n"
     ]
    }
   ],
   "source": [
    "a=5\n",
    "b=8\n",
    "tem=a\n",
    "a=b\n",
    "b=tem\n",
    "print(\"Value of a is {} and value of b is {}\".format(a,b))"
   ]
  },
  {
   "cell_type": "code",
   "execution_count": 3,
   "id": "01489bda",
   "metadata": {
    "ExecuteTime": {
     "end_time": "2021-09-27T09:18:39.458752Z",
     "start_time": "2021-09-27T09:18:39.434755Z"
    }
   },
   "outputs": [
    {
     "name": "stdout",
     "output_type": "stream",
     "text": [
      "15\n",
      "10\n"
     ]
    }
   ],
   "source": [
    "a = 10\n",
    "b = 15\n",
    "\n",
    "a, b = b, a\n",
    "\n",
    "print(a)\n",
    "print(b)"
   ]
  },
  {
   "cell_type": "code",
   "execution_count": null,
   "id": "a6a82ca2",
   "metadata": {},
   "outputs": [],
   "source": []
  }
 ],
 "metadata": {
  "kernelspec": {
   "display_name": "Python 3",
   "language": "python",
   "name": "python3"
  },
  "language_info": {
   "codemirror_mode": {
    "name": "ipython",
    "version": 3
   },
   "file_extension": ".py",
   "mimetype": "text/x-python",
   "name": "python",
   "nbconvert_exporter": "python",
   "pygments_lexer": "ipython3",
   "version": "3.8.8"
  }
 },
 "nbformat": 4,
 "nbformat_minor": 5
}
