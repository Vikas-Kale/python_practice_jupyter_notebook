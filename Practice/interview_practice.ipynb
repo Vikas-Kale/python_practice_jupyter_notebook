{
 "cells": [
  {
   "cell_type": "code",
   "execution_count": 5,
   "id": "74508bd2",
   "metadata": {
    "ExecuteTime": {
     "end_time": "2021-10-28T04:19:19.789253Z",
     "start_time": "2021-10-28T04:19:17.499982Z"
    }
   },
   "outputs": [
    {
     "name": "stdout",
     "output_type": "stream",
     "text": [
      "15\n",
      "15x1=15\n",
      "15x2=30\n",
      "15x3=45\n",
      "15x4=60\n",
      "15x5=75\n",
      "15x6=90\n",
      "15x7=105\n",
      "15x8=120\n",
      "15x9=135\n",
      "15x10=150\n"
     ]
    }
   ],
   "source": [
    "n = int(input())\n",
    "for i in range(1,11):\n",
    "    print(str(n) + 'x' + str(i) +'=' + str(n*i))\n",
    "    "
   ]
  },
  {
   "cell_type": "code",
   "execution_count": 13,
   "id": "b500271b",
   "metadata": {
    "ExecuteTime": {
     "end_time": "2021-10-28T04:22:21.522040Z",
     "start_time": "2021-10-28T04:22:20.164887Z"
    }
   },
   "outputs": [
    {
     "name": "stdout",
     "output_type": "stream",
     "text": [
      "41\n",
      "prime\n"
     ]
    }
   ],
   "source": [
    "num = int(input())\n",
    "\n",
    "count = 0\n",
    "if num >1:\n",
    "    \n",
    "    for n in range(1,num+1):\n",
    "        if num%n == 0:\n",
    "            count+=1\n",
    "\n",
    "    if count == 2:\n",
    "        print(\"prime\")\n",
    "    else:\n",
    "        print(\"not-prime\")\n",
    "        \n",
    "else:\n",
    "    print(\"Enter number greater than one.\")\n",
    "        \n",
    "    "
   ]
  },
  {
   "cell_type": "code",
   "execution_count": 16,
   "id": "c6ac7cc7",
   "metadata": {
    "ExecuteTime": {
     "end_time": "2021-10-28T04:24:57.722711Z",
     "start_time": "2021-10-28T04:24:57.693715Z"
    }
   },
   "outputs": [
    {
     "name": "stdout",
     "output_type": "stream",
     "text": [
      "2\n",
      "3\n",
      "5\n",
      "7\n",
      "11\n",
      "13\n",
      "17\n",
      "19\n",
      "23\n",
      "29\n",
      "31\n",
      "37\n",
      "41\n",
      "43\n",
      "47\n"
     ]
    }
   ],
   "source": [
    "for num in range(2,50):\n",
    "    for i in range(2,num):\n",
    "        \n",
    "        if num%i==0:\n",
    "            break\n",
    "        \n",
    "    else:\n",
    "        print(num)"
   ]
  },
  {
   "cell_type": "code",
   "execution_count": null,
   "id": "2808db5f",
   "metadata": {},
   "outputs": [],
   "source": [
    "2, 3, 5, 7, 11, 13, 17, 19, 23, 29, 31, 37, 41, 43, and 47."
   ]
  },
  {
   "cell_type": "code",
   "execution_count": 19,
   "id": "bd0e3e5c",
   "metadata": {
    "ExecuteTime": {
     "end_time": "2021-10-28T04:29:18.574676Z",
     "start_time": "2021-10-28T04:29:10.486407Z"
    }
   },
   "outputs": [
    {
     "name": "stdout",
     "output_type": "stream",
     "text": [
      "Enter number from: 2\n",
      "Enter number to :20\n",
      "2\n",
      "3\n",
      "5\n",
      "7\n",
      "11\n",
      "13\n",
      "17\n",
      "19\n"
     ]
    }
   ],
   "source": [
    "n1 = int(input(\"Enter number from: \"))\n",
    "n2 = int(input(\"Enter number to :\" ))\n",
    "\n",
    "for num in range(n1,n2+1):\n",
    "    for i in range(2,num):\n",
    "        if num%i==0:\n",
    "            break\n",
    "            \n",
    "    else:\n",
    "        print(num)\n",
    "    "
   ]
  },
  {
   "cell_type": "code",
   "execution_count": 20,
   "id": "8279d298",
   "metadata": {
    "ExecuteTime": {
     "end_time": "2021-10-28T04:31:32.864385Z",
     "start_time": "2021-10-28T04:31:32.819387Z"
    }
   },
   "outputs": [
    {
     "name": "stdout",
     "output_type": "stream",
     "text": [
      "1\n",
      "1\n",
      "2\n",
      "3\n",
      "5\n",
      "8\n",
      "13\n",
      "21\n",
      "34\n",
      "55\n"
     ]
    }
   ],
   "source": [
    "fibo = lambda n:n if n<=1 else fibo(n-1) + fibo(n-2)\n",
    "\n",
    "for i in range(1,11):\n",
    "    fs = fibo(i)\n",
    "    \n",
    "    print(fs)"
   ]
  },
  {
   "cell_type": "code",
   "execution_count": 23,
   "id": "075f59cd",
   "metadata": {
    "ExecuteTime": {
     "end_time": "2021-10-28T04:36:31.951809Z",
     "start_time": "2021-10-28T04:36:31.943809Z"
    }
   },
   "outputs": [],
   "source": [
    "\n",
    "def fibo(num):\n",
    "    a = 0\n",
    "    b = 1\n",
    "    for i in range(2,num+1):\n",
    "        sum = a+b\n",
    "        print(sum)\n",
    "        \n",
    "        a = b\n",
    "        b = sum"
   ]
  },
  {
   "cell_type": "code",
   "execution_count": 25,
   "id": "cf7fe4a8",
   "metadata": {
    "ExecuteTime": {
     "end_time": "2021-10-28T04:36:42.747067Z",
     "start_time": "2021-10-28T04:36:42.724069Z"
    }
   },
   "outputs": [
    {
     "name": "stdout",
     "output_type": "stream",
     "text": [
      "1\n",
      "2\n",
      "3\n",
      "5\n",
      "8\n",
      "13\n",
      "21\n",
      "34\n",
      "55\n"
     ]
    }
   ],
   "source": [
    "fibo(10)"
   ]
  },
  {
   "cell_type": "code",
   "execution_count": 26,
   "id": "c2089711",
   "metadata": {
    "ExecuteTime": {
     "end_time": "2021-10-28T04:37:59.353554Z",
     "start_time": "2021-10-28T04:37:59.341554Z"
    }
   },
   "outputs": [],
   "source": [
    "def fibo_num(num):\n",
    "    a = 0\n",
    "    b = 1\n",
    "    \n",
    "    for i in range(2,num+1):\n",
    "        sum = a + b\n",
    "        print(sum)\n",
    "        \n",
    "        a = b\n",
    "        b = sum\n",
    "        "
   ]
  },
  {
   "cell_type": "code",
   "execution_count": 27,
   "id": "c2c6d79c",
   "metadata": {
    "ExecuteTime": {
     "end_time": "2021-10-28T04:38:06.130633Z",
     "start_time": "2021-10-28T04:38:06.115630Z"
    }
   },
   "outputs": [
    {
     "name": "stdout",
     "output_type": "stream",
     "text": [
      "1\n",
      "2\n",
      "3\n",
      "5\n",
      "8\n",
      "13\n",
      "21\n",
      "34\n",
      "55\n"
     ]
    }
   ],
   "source": [
    "fibo_num(10)"
   ]
  },
  {
   "cell_type": "markdown",
   "id": "8729389c",
   "metadata": {},
   "source": [
    "# SQL"
   ]
  },
  {
   "cell_type": "code",
   "execution_count": 1,
   "id": "07e646ad",
   "metadata": {
    "ExecuteTime": {
     "end_time": "2021-10-28T05:25:03.878348Z",
     "start_time": "2021-10-28T05:25:03.805349Z"
    }
   },
   "outputs": [],
   "source": [
    "import mysql.connector"
   ]
  },
  {
   "cell_type": "code",
   "execution_count": 29,
   "id": "b8a7680f",
   "metadata": {
    "ExecuteTime": {
     "end_time": "2021-10-28T04:41:06.006416Z",
     "start_time": "2021-10-28T04:41:02.561462Z"
    }
   },
   "outputs": [],
   "source": [
    "conn = mysql.connector.connect(\n",
    "\n",
    "host = 'localhost',\n",
    "user = 'root',\n",
    "passwd = 'kalevikas@7798')\n",
    "\n",
    "mycursor = conn.cursor()"
   ]
  },
  {
   "cell_type": "code",
   "execution_count": 30,
   "id": "9ac48623",
   "metadata": {
    "ExecuteTime": {
     "end_time": "2021-10-28T04:41:25.834002Z",
     "start_time": "2021-10-28T04:41:24.414209Z"
    }
   },
   "outputs": [],
   "source": [
    "\n",
    "mycursor.execute(\"SHOW DATABASES\")"
   ]
  },
  {
   "cell_type": "code",
   "execution_count": 31,
   "id": "56393f2e",
   "metadata": {
    "ExecuteTime": {
     "end_time": "2021-10-28T04:41:37.090156Z",
     "start_time": "2021-10-28T04:41:37.044157Z"
    }
   },
   "outputs": [
    {
     "data": {
      "text/plain": [
       "[('bank',),\n",
       " ('courses',),\n",
       " ('elephant',),\n",
       " ('info',),\n",
       " ('information_schema',),\n",
       " ('mobiles',),\n",
       " ('my_second_database',),\n",
       " ('mydatabase',),\n",
       " ('mydatabase3',),\n",
       " ('mydatabase4',),\n",
       " ('mydatabase5',),\n",
       " ('mysql',),\n",
       " ('peoples',),\n",
       " ('performance_schema',),\n",
       " ('sys',),\n",
       " ('test',)]"
      ]
     },
     "execution_count": 31,
     "metadata": {},
     "output_type": "execute_result"
    }
   ],
   "source": [
    "mycursor.fetchall()"
   ]
  },
  {
   "cell_type": "code",
   "execution_count": 32,
   "id": "822f7d37",
   "metadata": {
    "ExecuteTime": {
     "end_time": "2021-10-28T04:43:11.725359Z",
     "start_time": "2021-10-28T04:43:10.471428Z"
    }
   },
   "outputs": [],
   "source": [
    "mycursor.execute(\"CREATE DATABASE base1\")"
   ]
  },
  {
   "cell_type": "code",
   "execution_count": 33,
   "id": "46ef0df8",
   "metadata": {
    "ExecuteTime": {
     "end_time": "2021-10-28T04:43:26.614522Z",
     "start_time": "2021-10-28T04:43:26.603523Z"
    }
   },
   "outputs": [],
   "source": [
    "mycursor.execute(\"SHOW DATABASES\")"
   ]
  },
  {
   "cell_type": "code",
   "execution_count": 34,
   "id": "38251753",
   "metadata": {
    "ExecuteTime": {
     "end_time": "2021-10-28T04:43:35.195351Z",
     "start_time": "2021-10-28T04:43:35.175352Z"
    }
   },
   "outputs": [
    {
     "data": {
      "text/plain": [
       "[('bank',),\n",
       " ('base1',),\n",
       " ('courses',),\n",
       " ('elephant',),\n",
       " ('info',),\n",
       " ('information_schema',),\n",
       " ('mobiles',),\n",
       " ('my_second_database',),\n",
       " ('mydatabase',),\n",
       " ('mydatabase3',),\n",
       " ('mydatabase4',),\n",
       " ('mydatabase5',),\n",
       " ('mysql',),\n",
       " ('peoples',),\n",
       " ('performance_schema',),\n",
       " ('sys',),\n",
       " ('test',)]"
      ]
     },
     "execution_count": 34,
     "metadata": {},
     "output_type": "execute_result"
    }
   ],
   "source": [
    "mycursor.fetchall()"
   ]
  },
  {
   "cell_type": "code",
   "execution_count": 2,
   "id": "a6601d4d",
   "metadata": {
    "ExecuteTime": {
     "end_time": "2021-10-28T05:25:16.867183Z",
     "start_time": "2021-10-28T05:25:16.753414Z"
    }
   },
   "outputs": [],
   "source": [
    "conn = mysql.connector.connect(\n",
    "host = 'localhost',\n",
    "user = 'root',\n",
    "passwd = 'kalevikas@7798',\n",
    "database = 'base1')\n",
    "\n",
    "mycursor = conn.cursor()"
   ]
  },
  {
   "cell_type": "code",
   "execution_count": 38,
   "id": "e1650a0d",
   "metadata": {
    "ExecuteTime": {
     "end_time": "2021-10-28T04:50:37.822709Z",
     "start_time": "2021-10-28T04:50:34.279034Z"
    }
   },
   "outputs": [],
   "source": [
    "mycursor.execute(\"CREATE TABLE base_table1(id INT AUTO_INCREMENT PRIMARY KEY, Name VARCHAR(255), Address VARCHAR(255))\")"
   ]
  },
  {
   "cell_type": "code",
   "execution_count": 40,
   "id": "6f78146b",
   "metadata": {
    "ExecuteTime": {
     "end_time": "2021-10-28T04:55:52.354550Z",
     "start_time": "2021-10-28T04:55:51.591977Z"
    }
   },
   "outputs": [],
   "source": [
    "query = \"INSERT INTO base_table1(Name, Address) VALUES(%s, %s)\"\n",
    "\n",
    "values = [(\"Vikas\",\"Tujapur\"),\n",
    "         (\"Ram\",\"Pune\"),\n",
    "         (\"Akash\",\"Satara\"),\n",
    "         (\"Shruti\",\"Mumbai\"),\n",
    "         (\"Mansi\",\"Thane\")]\n",
    "\n",
    "mycursor.executemany(query, values)\n",
    "\n",
    "conn.commit()\n",
    "\n"
   ]
  },
  {
   "cell_type": "code",
   "execution_count": 41,
   "id": "3c1aefba",
   "metadata": {
    "ExecuteTime": {
     "end_time": "2021-10-28T04:56:19.642828Z",
     "start_time": "2021-10-28T04:56:19.097281Z"
    }
   },
   "outputs": [],
   "source": [
    "mycursor.execute(\"SHOW TABLES\")"
   ]
  },
  {
   "cell_type": "code",
   "execution_count": 42,
   "id": "03ca057b",
   "metadata": {
    "ExecuteTime": {
     "end_time": "2021-10-28T04:56:26.962233Z",
     "start_time": "2021-10-28T04:56:26.939232Z"
    }
   },
   "outputs": [
    {
     "data": {
      "text/plain": [
       "[('base_table1',)]"
      ]
     },
     "execution_count": 42,
     "metadata": {},
     "output_type": "execute_result"
    }
   ],
   "source": [
    "mycursor.fetchall()"
   ]
  },
  {
   "cell_type": "code",
   "execution_count": 43,
   "id": "97389f2c",
   "metadata": {
    "ExecuteTime": {
     "end_time": "2021-10-28T04:56:52.819507Z",
     "start_time": "2021-10-28T04:56:52.718509Z"
    }
   },
   "outputs": [],
   "source": [
    "mycursor.execute(\"SELECT * FROM base_table1\")"
   ]
  },
  {
   "cell_type": "code",
   "execution_count": 44,
   "id": "8571cca5",
   "metadata": {
    "ExecuteTime": {
     "end_time": "2021-10-28T04:57:01.844233Z",
     "start_time": "2021-10-28T04:57:01.830232Z"
    }
   },
   "outputs": [
    {
     "data": {
      "text/plain": [
       "[(1, 'Vikas', 'Tujapur'),\n",
       " (2, 'Ram', 'Pune'),\n",
       " (3, 'Akash', 'Satara'),\n",
       " (4, 'Shruti', 'Mumbai'),\n",
       " (5, 'Mansi', 'Thane')]"
      ]
     },
     "execution_count": 44,
     "metadata": {},
     "output_type": "execute_result"
    }
   ],
   "source": [
    "mycursor.fetchall()"
   ]
  },
  {
   "cell_type": "code",
   "execution_count": 45,
   "id": "51710fe8",
   "metadata": {
    "ExecuteTime": {
     "end_time": "2021-10-28T04:59:47.286921Z",
     "start_time": "2021-10-28T04:59:47.234890Z"
    }
   },
   "outputs": [],
   "source": [
    "mycursor.execute(\"SELECT * FROM base_table1 WHERE Name='Shruti' \")"
   ]
  },
  {
   "cell_type": "code",
   "execution_count": 46,
   "id": "86fdc1cc",
   "metadata": {
    "ExecuteTime": {
     "end_time": "2021-10-28T04:59:55.139471Z",
     "start_time": "2021-10-28T04:59:55.112472Z"
    }
   },
   "outputs": [
    {
     "data": {
      "text/plain": [
       "[(4, 'Shruti', 'Mumbai')]"
      ]
     },
     "execution_count": 46,
     "metadata": {},
     "output_type": "execute_result"
    }
   ],
   "source": [
    "mycursor.fetchall()"
   ]
  },
  {
   "cell_type": "code",
   "execution_count": 49,
   "id": "4f4cad1e",
   "metadata": {
    "ExecuteTime": {
     "end_time": "2021-10-28T05:01:21.421668Z",
     "start_time": "2021-10-28T05:01:21.407668Z"
    }
   },
   "outputs": [],
   "source": [
    "mycursor.execute(\"SELECT * FROM base_table1 WHERE Address='Tujapur'\")"
   ]
  },
  {
   "cell_type": "code",
   "execution_count": 50,
   "id": "583b60c4",
   "metadata": {
    "ExecuteTime": {
     "end_time": "2021-10-28T05:01:22.113164Z",
     "start_time": "2021-10-28T05:01:22.096164Z"
    }
   },
   "outputs": [
    {
     "data": {
      "text/plain": [
       "[(1, 'Vikas', 'Tujapur')]"
      ]
     },
     "execution_count": 50,
     "metadata": {},
     "output_type": "execute_result"
    }
   ],
   "source": [
    "mycursor.fetchall()"
   ]
  },
  {
   "cell_type": "code",
   "execution_count": 53,
   "id": "4c21c36d",
   "metadata": {
    "ExecuteTime": {
     "end_time": "2021-10-28T05:03:36.839944Z",
     "start_time": "2021-10-28T05:03:36.821944Z"
    }
   },
   "outputs": [],
   "source": [
    "mycursor.execute(\"UPDATE base_table1 SET Address='Tuljapur' WHERE Name='Vikas'\")"
   ]
  },
  {
   "cell_type": "code",
   "execution_count": 54,
   "id": "643c815f",
   "metadata": {
    "ExecuteTime": {
     "end_time": "2021-10-28T05:03:37.879825Z",
     "start_time": "2021-10-28T05:03:37.858826Z"
    }
   },
   "outputs": [
    {
     "data": {
      "text/plain": [
       "[]"
      ]
     },
     "execution_count": 54,
     "metadata": {},
     "output_type": "execute_result"
    }
   ],
   "source": [
    "mycursor.fetchall()"
   ]
  },
  {
   "cell_type": "code",
   "execution_count": 55,
   "id": "8fedcd9e",
   "metadata": {
    "ExecuteTime": {
     "end_time": "2021-10-28T05:04:06.937486Z",
     "start_time": "2021-10-28T05:04:06.920487Z"
    }
   },
   "outputs": [],
   "source": [
    "mycursor.execute(\"SELECT * FROM base_table1\")"
   ]
  },
  {
   "cell_type": "code",
   "execution_count": 56,
   "id": "07581fea",
   "metadata": {
    "ExecuteTime": {
     "end_time": "2021-10-28T05:04:18.745561Z",
     "start_time": "2021-10-28T05:04:18.731565Z"
    }
   },
   "outputs": [
    {
     "data": {
      "text/plain": [
       "[(1, 'Vikas', 'Tuljapur'),\n",
       " (2, 'Ram', 'Pune'),\n",
       " (3, 'Akash', 'Satara'),\n",
       " (4, 'Shruti', 'Mumbai'),\n",
       " (5, 'Mansi', 'Thane')]"
      ]
     },
     "execution_count": 56,
     "metadata": {},
     "output_type": "execute_result"
    }
   ],
   "source": [
    "mycursor.fetchall()"
   ]
  },
  {
   "cell_type": "code",
   "execution_count": 57,
   "id": "a3e493cb",
   "metadata": {
    "ExecuteTime": {
     "end_time": "2021-10-28T05:05:36.211000Z",
     "start_time": "2021-10-28T05:05:36.202000Z"
    }
   },
   "outputs": [],
   "source": [
    "mycursor.execute(\"SELECT Name FROM base_table1\")"
   ]
  },
  {
   "cell_type": "code",
   "execution_count": 58,
   "id": "4791d6fe",
   "metadata": {
    "ExecuteTime": {
     "end_time": "2021-10-28T05:05:45.008626Z",
     "start_time": "2021-10-28T05:05:44.993623Z"
    }
   },
   "outputs": [
    {
     "data": {
      "text/plain": [
       "[('Vikas',), ('Ram',), ('Akash',), ('Shruti',), ('Mansi',)]"
      ]
     },
     "execution_count": 58,
     "metadata": {},
     "output_type": "execute_result"
    }
   ],
   "source": [
    "mycursor.fetchall()"
   ]
  },
  {
   "cell_type": "code",
   "execution_count": 59,
   "id": "963f5efe",
   "metadata": {
    "ExecuteTime": {
     "end_time": "2021-10-28T05:06:48.388727Z",
     "start_time": "2021-10-28T05:06:48.293729Z"
    }
   },
   "outputs": [],
   "source": [
    "mycursor.execute(\"DELETE FROM base_table1 WHERE Name='Mansi'\")"
   ]
  },
  {
   "cell_type": "code",
   "execution_count": 61,
   "id": "48383a7c",
   "metadata": {
    "ExecuteTime": {
     "end_time": "2021-10-28T05:07:20.540856Z",
     "start_time": "2021-10-28T05:07:20.522857Z"
    }
   },
   "outputs": [],
   "source": [
    "mycursor.execute(\"SELECT * FROM base_table1\")"
   ]
  },
  {
   "cell_type": "code",
   "execution_count": 62,
   "id": "6e4e98b4",
   "metadata": {
    "ExecuteTime": {
     "end_time": "2021-10-28T05:07:30.760338Z",
     "start_time": "2021-10-28T05:07:30.733342Z"
    }
   },
   "outputs": [
    {
     "data": {
      "text/plain": [
       "[(1, 'Vikas', 'Tuljapur'),\n",
       " (2, 'Ram', 'Pune'),\n",
       " (3, 'Akash', 'Satara'),\n",
       " (4, 'Shruti', 'Mumbai')]"
      ]
     },
     "execution_count": 62,
     "metadata": {},
     "output_type": "execute_result"
    }
   ],
   "source": [
    "mycursor.fetchall()"
   ]
  },
  {
   "cell_type": "markdown",
   "id": "b77528fa",
   "metadata": {},
   "source": [
    "# we can add more columns"
   ]
  },
  {
   "cell_type": "code",
   "execution_count": 63,
   "id": "1052214d",
   "metadata": {
    "ExecuteTime": {
     "end_time": "2021-10-28T05:13:24.465781Z",
     "start_time": "2021-10-28T05:13:22.671972Z"
    }
   },
   "outputs": [],
   "source": [
    "mycursor.execute(\"ALTER TABLE base_table1 ADD COLUMN Course VARCHAR(255)\")"
   ]
  },
  {
   "cell_type": "code",
   "execution_count": 66,
   "id": "7cf4572b",
   "metadata": {
    "ExecuteTime": {
     "end_time": "2021-10-28T05:17:10.351455Z",
     "start_time": "2021-10-28T05:17:10.324455Z"
    }
   },
   "outputs": [
    {
     "ename": "InternalError",
     "evalue": "Unread result found",
     "output_type": "error",
     "traceback": [
      "\u001b[1;31m---------------------------------------------------------------------------\u001b[0m",
      "\u001b[1;31mInternalError\u001b[0m                             Traceback (most recent call last)",
      "\u001b[1;32m<ipython-input-66-19872b0c9d0d>\u001b[0m in \u001b[0;36m<module>\u001b[1;34m\u001b[0m\n\u001b[1;32m----> 1\u001b[1;33m \u001b[0mmycursor\u001b[0m\u001b[1;33m.\u001b[0m\u001b[0mexecute\u001b[0m\u001b[1;33m(\u001b[0m\u001b[1;34m'SELECT * FROM base_table1 ORDER BY Name'\u001b[0m\u001b[1;33m)\u001b[0m\u001b[1;33m\u001b[0m\u001b[1;33m\u001b[0m\u001b[0m\n\u001b[0m",
      "\u001b[1;32mC:\\ProgramData\\Anaconda3\\lib\\site-packages\\mysql\\connector\\cursor.py\u001b[0m in \u001b[0;36mexecute\u001b[1;34m(self, operation, params, multi)\u001b[0m\n\u001b[0;32m    536\u001b[0m             \u001b[1;32mraise\u001b[0m \u001b[0merrors\u001b[0m\u001b[1;33m.\u001b[0m\u001b[0mProgrammingError\u001b[0m\u001b[1;33m(\u001b[0m\u001b[1;34m\"Cursor is not connected\"\u001b[0m\u001b[1;33m)\u001b[0m\u001b[1;33m\u001b[0m\u001b[1;33m\u001b[0m\u001b[0m\n\u001b[0;32m    537\u001b[0m \u001b[1;33m\u001b[0m\u001b[0m\n\u001b[1;32m--> 538\u001b[1;33m         \u001b[0mself\u001b[0m\u001b[1;33m.\u001b[0m\u001b[0m_connection\u001b[0m\u001b[1;33m.\u001b[0m\u001b[0mhandle_unread_result\u001b[0m\u001b[1;33m(\u001b[0m\u001b[1;33m)\u001b[0m\u001b[1;33m\u001b[0m\u001b[1;33m\u001b[0m\u001b[0m\n\u001b[0m\u001b[0;32m    539\u001b[0m \u001b[1;33m\u001b[0m\u001b[0m\n\u001b[0;32m    540\u001b[0m         \u001b[0mself\u001b[0m\u001b[1;33m.\u001b[0m\u001b[0m_reset_result\u001b[0m\u001b[1;33m(\u001b[0m\u001b[1;33m)\u001b[0m\u001b[1;33m\u001b[0m\u001b[1;33m\u001b[0m\u001b[0m\n",
      "\u001b[1;32mC:\\ProgramData\\Anaconda3\\lib\\site-packages\\mysql\\connector\\connection.py\u001b[0m in \u001b[0;36mhandle_unread_result\u001b[1;34m(self)\u001b[0m\n\u001b[0;32m   1453\u001b[0m             \u001b[0mself\u001b[0m\u001b[1;33m.\u001b[0m\u001b[0mconsume_results\u001b[0m\u001b[1;33m(\u001b[0m\u001b[1;33m)\u001b[0m\u001b[1;33m\u001b[0m\u001b[1;33m\u001b[0m\u001b[0m\n\u001b[0;32m   1454\u001b[0m         \u001b[1;32melif\u001b[0m \u001b[0mself\u001b[0m\u001b[1;33m.\u001b[0m\u001b[0munread_result\u001b[0m\u001b[1;33m:\u001b[0m\u001b[1;33m\u001b[0m\u001b[1;33m\u001b[0m\u001b[0m\n\u001b[1;32m-> 1455\u001b[1;33m             \u001b[1;32mraise\u001b[0m \u001b[0merrors\u001b[0m\u001b[1;33m.\u001b[0m\u001b[0mInternalError\u001b[0m\u001b[1;33m(\u001b[0m\u001b[1;34m\"Unread result found\"\u001b[0m\u001b[1;33m)\u001b[0m\u001b[1;33m\u001b[0m\u001b[1;33m\u001b[0m\u001b[0m\n\u001b[0m",
      "\u001b[1;31mInternalError\u001b[0m: Unread result found"
     ]
    }
   ],
   "source": [
    "mycursor.execute('SELECT * FROM base_table1 ORDER BY Name')"
   ]
  },
  {
   "cell_type": "code",
   "execution_count": 69,
   "id": "45450a2e",
   "metadata": {
    "ExecuteTime": {
     "end_time": "2021-10-28T05:18:53.131465Z",
     "start_time": "2021-10-28T05:18:53.097466Z"
    }
   },
   "outputs": [
    {
     "ename": "InternalError",
     "evalue": "Unread result found",
     "output_type": "error",
     "traceback": [
      "\u001b[1;31m---------------------------------------------------------------------------\u001b[0m",
      "\u001b[1;31mInternalError\u001b[0m                             Traceback (most recent call last)",
      "\u001b[1;32m<ipython-input-69-edd7aab8a108>\u001b[0m in \u001b[0;36m<module>\u001b[1;34m\u001b[0m\n\u001b[1;32m----> 1\u001b[1;33m \u001b[0mmycursor\u001b[0m\u001b[1;33m.\u001b[0m\u001b[0mexecute\u001b[0m\u001b[1;33m(\u001b[0m\u001b[1;34m\"select * from base_table1\"\u001b[0m\u001b[1;33m)\u001b[0m\u001b[1;33m\u001b[0m\u001b[1;33m\u001b[0m\u001b[0m\n\u001b[0m",
      "\u001b[1;32mC:\\ProgramData\\Anaconda3\\lib\\site-packages\\mysql\\connector\\cursor.py\u001b[0m in \u001b[0;36mexecute\u001b[1;34m(self, operation, params, multi)\u001b[0m\n\u001b[0;32m    536\u001b[0m             \u001b[1;32mraise\u001b[0m \u001b[0merrors\u001b[0m\u001b[1;33m.\u001b[0m\u001b[0mProgrammingError\u001b[0m\u001b[1;33m(\u001b[0m\u001b[1;34m\"Cursor is not connected\"\u001b[0m\u001b[1;33m)\u001b[0m\u001b[1;33m\u001b[0m\u001b[1;33m\u001b[0m\u001b[0m\n\u001b[0;32m    537\u001b[0m \u001b[1;33m\u001b[0m\u001b[0m\n\u001b[1;32m--> 538\u001b[1;33m         \u001b[0mself\u001b[0m\u001b[1;33m.\u001b[0m\u001b[0m_connection\u001b[0m\u001b[1;33m.\u001b[0m\u001b[0mhandle_unread_result\u001b[0m\u001b[1;33m(\u001b[0m\u001b[1;33m)\u001b[0m\u001b[1;33m\u001b[0m\u001b[1;33m\u001b[0m\u001b[0m\n\u001b[0m\u001b[0;32m    539\u001b[0m \u001b[1;33m\u001b[0m\u001b[0m\n\u001b[0;32m    540\u001b[0m         \u001b[0mself\u001b[0m\u001b[1;33m.\u001b[0m\u001b[0m_reset_result\u001b[0m\u001b[1;33m(\u001b[0m\u001b[1;33m)\u001b[0m\u001b[1;33m\u001b[0m\u001b[1;33m\u001b[0m\u001b[0m\n",
      "\u001b[1;32mC:\\ProgramData\\Anaconda3\\lib\\site-packages\\mysql\\connector\\connection.py\u001b[0m in \u001b[0;36mhandle_unread_result\u001b[1;34m(self)\u001b[0m\n\u001b[0;32m   1453\u001b[0m             \u001b[0mself\u001b[0m\u001b[1;33m.\u001b[0m\u001b[0mconsume_results\u001b[0m\u001b[1;33m(\u001b[0m\u001b[1;33m)\u001b[0m\u001b[1;33m\u001b[0m\u001b[1;33m\u001b[0m\u001b[0m\n\u001b[0;32m   1454\u001b[0m         \u001b[1;32melif\u001b[0m \u001b[0mself\u001b[0m\u001b[1;33m.\u001b[0m\u001b[0munread_result\u001b[0m\u001b[1;33m:\u001b[0m\u001b[1;33m\u001b[0m\u001b[1;33m\u001b[0m\u001b[0m\n\u001b[1;32m-> 1455\u001b[1;33m             \u001b[1;32mraise\u001b[0m \u001b[0merrors\u001b[0m\u001b[1;33m.\u001b[0m\u001b[0mInternalError\u001b[0m\u001b[1;33m(\u001b[0m\u001b[1;34m\"Unread result found\"\u001b[0m\u001b[1;33m)\u001b[0m\u001b[1;33m\u001b[0m\u001b[1;33m\u001b[0m\u001b[0m\n\u001b[0m",
      "\u001b[1;31mInternalError\u001b[0m: Unread result found"
     ]
    }
   ],
   "source": [
    "mycursor.execute(\"select * from base_table1\")"
   ]
  },
  {
   "cell_type": "code",
   "execution_count": 5,
   "id": "af6719e0",
   "metadata": {
    "ExecuteTime": {
     "end_time": "2021-10-28T05:26:24.760329Z",
     "start_time": "2021-10-28T05:26:24.729330Z"
    }
   },
   "outputs": [
    {
     "ename": "ProgrammingError",
     "evalue": "1064 (42000): You have an error in your SQL syntax; check the manual that corresponds to your MySQL server version for the right syntax to use near 'IF EXISTS Course' at line 1",
     "output_type": "error",
     "traceback": [
      "\u001b[1;31m---------------------------------------------------------------------------\u001b[0m",
      "\u001b[1;31mProgrammingError\u001b[0m                          Traceback (most recent call last)",
      "\u001b[1;32m<ipython-input-5-4ad286814c29>\u001b[0m in \u001b[0;36m<module>\u001b[1;34m\u001b[0m\n\u001b[1;32m----> 1\u001b[1;33m \u001b[0mmycursor\u001b[0m\u001b[1;33m.\u001b[0m\u001b[0mexecute\u001b[0m\u001b[1;33m(\u001b[0m\u001b[1;34m\"ALTER TABLE base_table1 DROP COLUMN IF EXISTS Course\"\u001b[0m\u001b[1;33m)\u001b[0m\u001b[1;33m\u001b[0m\u001b[1;33m\u001b[0m\u001b[0m\n\u001b[0m",
      "\u001b[1;32mC:\\ProgramData\\Anaconda3\\lib\\site-packages\\mysql\\connector\\cursor.py\u001b[0m in \u001b[0;36mexecute\u001b[1;34m(self, operation, params, multi)\u001b[0m\n\u001b[0;32m    566\u001b[0m \u001b[1;33m\u001b[0m\u001b[0m\n\u001b[0;32m    567\u001b[0m         \u001b[1;32mtry\u001b[0m\u001b[1;33m:\u001b[0m\u001b[1;33m\u001b[0m\u001b[1;33m\u001b[0m\u001b[0m\n\u001b[1;32m--> 568\u001b[1;33m             \u001b[0mself\u001b[0m\u001b[1;33m.\u001b[0m\u001b[0m_handle_result\u001b[0m\u001b[1;33m(\u001b[0m\u001b[0mself\u001b[0m\u001b[1;33m.\u001b[0m\u001b[0m_connection\u001b[0m\u001b[1;33m.\u001b[0m\u001b[0mcmd_query\u001b[0m\u001b[1;33m(\u001b[0m\u001b[0mstmt\u001b[0m\u001b[1;33m)\u001b[0m\u001b[1;33m)\u001b[0m\u001b[1;33m\u001b[0m\u001b[1;33m\u001b[0m\u001b[0m\n\u001b[0m\u001b[0;32m    569\u001b[0m         \u001b[1;32mexcept\u001b[0m \u001b[0merrors\u001b[0m\u001b[1;33m.\u001b[0m\u001b[0mInterfaceError\u001b[0m\u001b[1;33m:\u001b[0m\u001b[1;33m\u001b[0m\u001b[1;33m\u001b[0m\u001b[0m\n\u001b[0;32m    570\u001b[0m             \u001b[1;32mif\u001b[0m \u001b[0mself\u001b[0m\u001b[1;33m.\u001b[0m\u001b[0m_connection\u001b[0m\u001b[1;33m.\u001b[0m\u001b[0m_have_next_result\u001b[0m\u001b[1;33m:\u001b[0m  \u001b[1;31m# pylint: disable=W0212\u001b[0m\u001b[1;33m\u001b[0m\u001b[1;33m\u001b[0m\u001b[0m\n",
      "\u001b[1;32mC:\\ProgramData\\Anaconda3\\lib\\site-packages\\mysql\\connector\\connection.py\u001b[0m in \u001b[0;36mcmd_query\u001b[1;34m(self, query, raw, buffered, raw_as_string)\u001b[0m\n\u001b[0;32m    844\u001b[0m         \u001b[0mquery\u001b[0m \u001b[1;33m=\u001b[0m \u001b[0mbytes\u001b[0m\u001b[1;33m(\u001b[0m\u001b[0mpacket\u001b[0m\u001b[1;33m)\u001b[0m\u001b[1;33m\u001b[0m\u001b[1;33m\u001b[0m\u001b[0m\n\u001b[0;32m    845\u001b[0m         \u001b[1;32mtry\u001b[0m\u001b[1;33m:\u001b[0m\u001b[1;33m\u001b[0m\u001b[1;33m\u001b[0m\u001b[0m\n\u001b[1;32m--> 846\u001b[1;33m             \u001b[0mresult\u001b[0m \u001b[1;33m=\u001b[0m \u001b[0mself\u001b[0m\u001b[1;33m.\u001b[0m\u001b[0m_handle_result\u001b[0m\u001b[1;33m(\u001b[0m\u001b[0mself\u001b[0m\u001b[1;33m.\u001b[0m\u001b[0m_send_cmd\u001b[0m\u001b[1;33m(\u001b[0m\u001b[0mServerCmd\u001b[0m\u001b[1;33m.\u001b[0m\u001b[0mQUERY\u001b[0m\u001b[1;33m,\u001b[0m \u001b[0mquery\u001b[0m\u001b[1;33m)\u001b[0m\u001b[1;33m)\u001b[0m\u001b[1;33m\u001b[0m\u001b[1;33m\u001b[0m\u001b[0m\n\u001b[0m\u001b[0;32m    847\u001b[0m         \u001b[1;32mexcept\u001b[0m \u001b[0merrors\u001b[0m\u001b[1;33m.\u001b[0m\u001b[0mProgrammingError\u001b[0m \u001b[1;32mas\u001b[0m \u001b[0merr\u001b[0m\u001b[1;33m:\u001b[0m\u001b[1;33m\u001b[0m\u001b[1;33m\u001b[0m\u001b[0m\n\u001b[0;32m    848\u001b[0m             \u001b[1;32mif\u001b[0m \u001b[0merr\u001b[0m\u001b[1;33m.\u001b[0m\u001b[0merrno\u001b[0m \u001b[1;33m==\u001b[0m \u001b[1;36m3948\u001b[0m \u001b[1;32mand\u001b[0m\u001b[0;31m \u001b[0m\u001b[0;31m\\\u001b[0m\u001b[1;33m\u001b[0m\u001b[1;33m\u001b[0m\u001b[0m\n",
      "\u001b[1;32mC:\\ProgramData\\Anaconda3\\lib\\site-packages\\mysql\\connector\\connection.py\u001b[0m in \u001b[0;36m_handle_result\u001b[1;34m(self, packet)\u001b[0m\n\u001b[0;32m    654\u001b[0m             \u001b[1;32mreturn\u001b[0m \u001b[0mself\u001b[0m\u001b[1;33m.\u001b[0m\u001b[0m_handle_eof\u001b[0m\u001b[1;33m(\u001b[0m\u001b[0mpacket\u001b[0m\u001b[1;33m)\u001b[0m\u001b[1;33m\u001b[0m\u001b[1;33m\u001b[0m\u001b[0m\n\u001b[0;32m    655\u001b[0m         \u001b[1;32melif\u001b[0m \u001b[0mpacket\u001b[0m\u001b[1;33m[\u001b[0m\u001b[1;36m4\u001b[0m\u001b[1;33m]\u001b[0m \u001b[1;33m==\u001b[0m \u001b[1;36m255\u001b[0m\u001b[1;33m:\u001b[0m\u001b[1;33m\u001b[0m\u001b[1;33m\u001b[0m\u001b[0m\n\u001b[1;32m--> 656\u001b[1;33m             \u001b[1;32mraise\u001b[0m \u001b[0merrors\u001b[0m\u001b[1;33m.\u001b[0m\u001b[0mget_exception\u001b[0m\u001b[1;33m(\u001b[0m\u001b[0mpacket\u001b[0m\u001b[1;33m)\u001b[0m\u001b[1;33m\u001b[0m\u001b[1;33m\u001b[0m\u001b[0m\n\u001b[0m\u001b[0;32m    657\u001b[0m \u001b[1;33m\u001b[0m\u001b[0m\n\u001b[0;32m    658\u001b[0m         \u001b[1;31m# We have a text result set\u001b[0m\u001b[1;33m\u001b[0m\u001b[1;33m\u001b[0m\u001b[1;33m\u001b[0m\u001b[0m\n",
      "\u001b[1;31mProgrammingError\u001b[0m: 1064 (42000): You have an error in your SQL syntax; check the manual that corresponds to your MySQL server version for the right syntax to use near 'IF EXISTS Course' at line 1"
     ]
    }
   ],
   "source": [
    "mycursor.execute(\"ALTER TABLE base_table1 DROP COLUMN Course\")"
   ]
  },
  {
   "cell_type": "code",
   "execution_count": 6,
   "id": "737a78c8",
   "metadata": {
    "ExecuteTime": {
     "end_time": "2021-10-28T05:45:47.191176Z",
     "start_time": "2021-10-28T05:45:47.159172Z"
    }
   },
   "outputs": [],
   "source": [
    "import mysql.connector"
   ]
  },
  {
   "cell_type": "code",
   "execution_count": 7,
   "id": "3bd1f463",
   "metadata": {
    "ExecuteTime": {
     "end_time": "2021-10-28T05:48:06.890197Z",
     "start_time": "2021-10-28T05:48:06.606986Z"
    }
   },
   "outputs": [],
   "source": [
    "import os\n",
    "conn = mysql.connector.connect(\n",
    "host = 'localhost',\n",
    "user = 'root',\n",
    "passwd = os.environ.get('DB_PASS'),\n",
    "database='bank')"
   ]
  },
  {
   "cell_type": "code",
   "execution_count": 8,
   "id": "e15dcf81",
   "metadata": {
    "ExecuteTime": {
     "end_time": "2021-10-28T05:48:21.497256Z",
     "start_time": "2021-10-28T05:48:21.472009Z"
    }
   },
   "outputs": [],
   "source": [
    "mycursor = conn.cursor()"
   ]
  },
  {
   "cell_type": "code",
   "execution_count": 9,
   "id": "0bb0d097",
   "metadata": {
    "ExecuteTime": {
     "end_time": "2021-10-28T05:48:35.245656Z",
     "start_time": "2021-10-28T05:48:35.061658Z"
    }
   },
   "outputs": [],
   "source": [
    "mycursor.execute(\"show tables\")"
   ]
  },
  {
   "cell_type": "code",
   "execution_count": 10,
   "id": "1d1bb7e6",
   "metadata": {
    "ExecuteTime": {
     "end_time": "2021-10-28T05:48:43.203267Z",
     "start_time": "2021-10-28T05:48:43.147269Z"
    }
   },
   "outputs": [
    {
     "data": {
      "text/plain": [
       "[('account',), ('amount',), ('authentic',)]"
      ]
     },
     "execution_count": 10,
     "metadata": {},
     "output_type": "execute_result"
    }
   ],
   "source": [
    "mycursor.fetchall()"
   ]
  },
  {
   "cell_type": "code",
   "execution_count": 11,
   "id": "35c023ec",
   "metadata": {
    "ExecuteTime": {
     "end_time": "2021-10-28T05:49:05.317343Z",
     "start_time": "2021-10-28T05:49:05.024454Z"
    }
   },
   "outputs": [],
   "source": [
    "mycursor.execute(\"select * from account\")"
   ]
  },
  {
   "cell_type": "code",
   "execution_count": 12,
   "id": "789f6473",
   "metadata": {
    "ExecuteTime": {
     "end_time": "2021-10-28T05:49:16.459933Z",
     "start_time": "2021-10-28T05:49:16.427933Z"
    }
   },
   "outputs": [
    {
     "data": {
      "text/plain": [
       "[(1,\n",
       "  'Shri Ganesh',\n",
       "  'SBI350202110072235',\n",
       "  '25/08/2021',\n",
       "  '8812134563',\n",
       "  '500',\n",
       "  '2021-10-07 19:22:35.330087',\n",
       "  'Temple'),\n",
       " (2,\n",
       "  'python',\n",
       "  'SBI350202110124453',\n",
       "  '22/12/2021',\n",
       "  '7798743804',\n",
       "  '500',\n",
       "  '2021-10-12 10:44:53.230848',\n",
       "  'Pune'),\n",
       " (3,\n",
       "  'django',\n",
       "  'SBI350202110123454',\n",
       "  '22/12/1995',\n",
       "  '8845631205',\n",
       "  '500',\n",
       "  '2021-10-12 11:34:54.094982',\n",
       "  'Mumbai'),\n",
       " (4,\n",
       "  'vikas',\n",
       "  'SBI350202110124816',\n",
       "  '24/09/1996',\n",
       "  '7798743804',\n",
       "  '2000',\n",
       "  '2021-10-12 11:48:16.036207',\n",
       "  'Pune'),\n",
       " (5,\n",
       "  'Govind',\n",
       "  'SBI350202110125904',\n",
       "  '08/10/1996',\n",
       "  '8845632154',\n",
       "  '500',\n",
       "  '2021-10-12 11:59:04.341172',\n",
       "  'Pune')]"
      ]
     },
     "execution_count": 12,
     "metadata": {},
     "output_type": "execute_result"
    }
   ],
   "source": [
    "mycursor.fetchall()"
   ]
  },
  {
   "cell_type": "code",
   "execution_count": 13,
   "id": "85c07a6f",
   "metadata": {
    "ExecuteTime": {
     "end_time": "2021-10-28T05:50:38.892352Z",
     "start_time": "2021-10-28T05:50:38.633774Z"
    }
   },
   "outputs": [],
   "source": [
    "mycursor.execute('select * from authentic')"
   ]
  },
  {
   "cell_type": "code",
   "execution_count": 14,
   "id": "2af54c56",
   "metadata": {
    "ExecuteTime": {
     "end_time": "2021-10-28T05:50:44.760301Z",
     "start_time": "2021-10-28T05:50:44.736300Z"
    }
   },
   "outputs": [
    {
     "data": {
      "text/plain": [
       "[(1, 'Shri Ganesh', 'Ganesh@123'),\n",
       " (2, 'python', 'python@123'),\n",
       " (3, 'django', 'django@123'),\n",
       " (4, 'vikas', 'vikas@123'),\n",
       " (6, 'Govind', 'govind@1234')]"
      ]
     },
     "execution_count": 14,
     "metadata": {},
     "output_type": "execute_result"
    }
   ],
   "source": [
    "mycursor.fetchall()"
   ]
  },
  {
   "cell_type": "code",
   "execution_count": 18,
   "id": "2138c0ea",
   "metadata": {
    "ExecuteTime": {
     "end_time": "2021-10-28T05:54:05.718776Z",
     "start_time": "2021-10-28T05:54:05.702776Z"
    }
   },
   "outputs": [],
   "source": [
    "mycursor.execute(\"select User_name,Password from authentic\")"
   ]
  },
  {
   "cell_type": "code",
   "execution_count": 19,
   "id": "22bd11de",
   "metadata": {
    "ExecuteTime": {
     "end_time": "2021-10-28T05:54:13.462936Z",
     "start_time": "2021-10-28T05:54:13.430935Z"
    }
   },
   "outputs": [
    {
     "data": {
      "text/plain": [
       "[('Shri Ganesh', 'Ganesh@123'),\n",
       " ('python', 'python@123'),\n",
       " ('django', 'django@123'),\n",
       " ('vikas', 'vikas@123'),\n",
       " ('Govind', 'govind@1234')]"
      ]
     },
     "execution_count": 19,
     "metadata": {},
     "output_type": "execute_result"
    }
   ],
   "source": [
    "mycursor.fetchall()"
   ]
  },
  {
   "cell_type": "code",
   "execution_count": 25,
   "id": "7e23595d",
   "metadata": {
    "ExecuteTime": {
     "end_time": "2021-10-28T05:56:41.751044Z",
     "start_time": "2021-10-28T05:56:41.727041Z"
    }
   },
   "outputs": [],
   "source": [
    "mycursor.execute(\"select User_name,Password from authentic\")"
   ]
  },
  {
   "cell_type": "code",
   "execution_count": 26,
   "id": "f12c9574",
   "metadata": {
    "ExecuteTime": {
     "end_time": "2021-10-28T05:56:42.581437Z",
     "start_time": "2021-10-28T05:56:42.557438Z"
    }
   },
   "outputs": [
    {
     "name": "stdout",
     "output_type": "stream",
     "text": [
      "true\n"
     ]
    }
   ],
   "source": [
    "lst = mycursor.fetchall()\n",
    "\n",
    "if ('vikas','vikas@123') in lst:\n",
    "    print(\"true\")\n",
    "    \n",
    "else:\n",
    "    print('false')"
   ]
  },
  {
   "cell_type": "markdown",
   "id": "09612032",
   "metadata": {},
   "source": [
    "## write python program to print prime numbers between 100 to 200 "
   ]
  },
  {
   "cell_type": "code",
   "execution_count": 29,
   "id": "8787c354",
   "metadata": {
    "ExecuteTime": {
     "end_time": "2021-10-28T06:14:19.186056Z",
     "start_time": "2021-10-28T06:14:19.154013Z"
    }
   },
   "outputs": [
    {
     "name": "stdout",
     "output_type": "stream",
     "text": [
      "101\n",
      "103\n",
      "107\n",
      "109\n",
      "113\n",
      "127\n",
      "131\n",
      "137\n",
      "139\n",
      "149\n",
      "151\n",
      "157\n",
      "163\n",
      "167\n",
      "173\n",
      "179\n",
      "181\n",
      "191\n",
      "193\n",
      "197\n",
      "199\n"
     ]
    }
   ],
   "source": [
    "for num in range(100,201):\n",
    "    for i in range(2,num):\n",
    "        if num%i==0:\n",
    "            break\n",
    "            \n",
    "    else:\n",
    "        print(num)"
   ]
  },
  {
   "cell_type": "code",
   "execution_count": 30,
   "id": "45e28ccf",
   "metadata": {
    "ExecuteTime": {
     "end_time": "2021-10-28T06:15:24.243839Z",
     "start_time": "2021-10-28T06:15:24.219842Z"
    }
   },
   "outputs": [
    {
     "name": "stdout",
     "output_type": "stream",
     "text": [
      "[1, 2, 4, 5, 5, 7, 9, 12, 14, 111]\n"
     ]
    }
   ],
   "source": [
    "lst = [12,14,1,2,111,4,5,9,7,5]\n",
    "lst.sort()\n",
    "\n",
    "print(lst)"
   ]
  },
  {
   "cell_type": "code",
   "execution_count": 31,
   "id": "e93a4aec",
   "metadata": {
    "ExecuteTime": {
     "end_time": "2021-10-28T06:15:40.685090Z",
     "start_time": "2021-10-28T06:15:40.661056Z"
    }
   },
   "outputs": [
    {
     "data": {
      "text/plain": [
       "[1, 2, 4, 5, 5, 7, 9, 12, 14, 111]"
      ]
     },
     "execution_count": 31,
     "metadata": {},
     "output_type": "execute_result"
    }
   ],
   "source": [
    "lst"
   ]
  },
  {
   "cell_type": "code",
   "execution_count": 35,
   "id": "0d74babf",
   "metadata": {
    "ExecuteTime": {
     "end_time": "2021-10-28T06:16:47.133767Z",
     "start_time": "2021-10-28T06:16:47.109770Z"
    }
   },
   "outputs": [
    {
     "name": "stdout",
     "output_type": "stream",
     "text": [
      "[111, 14, 12, 9, 7, 5, 5, 4, 2, 1]\n"
     ]
    }
   ],
   "source": [
    "lst = [12,14,1,2,111,4,5,9,7,5]\n",
    "\n",
    "s = sorted(lst,reverse=True)\n",
    "\n",
    "print(s)"
   ]
  },
  {
   "cell_type": "code",
   "execution_count": 37,
   "id": "90826bf4",
   "metadata": {
    "ExecuteTime": {
     "end_time": "2021-10-28T06:18:07.053536Z",
     "start_time": "2021-10-28T06:18:07.037536Z"
    }
   },
   "outputs": [
    {
     "name": "stdout",
     "output_type": "stream",
     "text": [
      "['lakshamn', 'vikas', 'seeta', 'ram']\n"
     ]
    }
   ],
   "source": [
    "lst = ['vikas','ram','lakshamn','seeta']\n",
    "\n",
    "lst.sort(key=len,reverse=True)\n",
    "\n",
    "print(lst)"
   ]
  },
  {
   "cell_type": "markdown",
   "id": "3d17c60d",
   "metadata": {},
   "source": [
    "## sort the list in descending order without using built-in function sort"
   ]
  },
  {
   "cell_type": "code",
   "execution_count": 38,
   "id": "a0e4240a",
   "metadata": {
    "ExecuteTime": {
     "end_time": "2021-10-28T06:26:00.976623Z",
     "start_time": "2021-10-28T06:26:00.952621Z"
    }
   },
   "outputs": [
    {
     "name": "stdout",
     "output_type": "stream",
     "text": [
      "[111, 14, 12, 9, 7, 5, 5, 4, 2, 1]\n"
     ]
    }
   ],
   "source": [
    "lst = [12,14,1,2,111,4,5,9,7,5]\n",
    "\n",
    "lst1 = []\n",
    "\n",
    "while lst:\n",
    "    minimum = lst[0]\n",
    "    for i in lst:\n",
    "        if i>minimum:\n",
    "            minimum = i\n",
    "            \n",
    "    lst1.append(minimum)\n",
    "    \n",
    "    lst.remove(minimum)\n",
    "    \n",
    "print(lst1)"
   ]
  },
  {
   "cell_type": "code",
   "execution_count": 41,
   "id": "9742a009",
   "metadata": {
    "ExecuteTime": {
     "end_time": "2021-10-28T06:33:39.025401Z",
     "start_time": "2021-10-28T06:33:38.993428Z"
    }
   },
   "outputs": [
    {
     "name": "stdout",
     "output_type": "stream",
     "text": [
      "[1000, 500, 200, 150, 100, 25, 15, 10, 5, 4, 3, 2, 1]\n",
      "[1, 2, 3, 4, 5, 10, 15, 25, 100, 150, 200, 500, 1000]\n"
     ]
    }
   ],
   "source": [
    "lst = [5,4,3,2,1,10,15,25,500,100,200,150,1000]\n",
    "\n",
    "lst1 = []\n",
    "\n",
    "while lst:\n",
    "    minimum = lst[0]\n",
    "    \n",
    "    for i in (lst):\n",
    "        if i>minimum:\n",
    "            minimum = i\n",
    "            \n",
    "    lst1.append(minimum)\n",
    "    \n",
    "    lst.remove(minimum)\n",
    "    \n",
    "print(lst1)\n",
    "print(lst1[::-1])"
   ]
  },
  {
   "cell_type": "markdown",
   "id": "5e814036",
   "metadata": {},
   "source": [
    "### write python program to print fibonacci series"
   ]
  },
  {
   "cell_type": "code",
   "execution_count": 46,
   "id": "26740539",
   "metadata": {
    "ExecuteTime": {
     "end_time": "2021-10-28T06:37:28.885317Z",
     "start_time": "2021-10-28T06:37:28.872044Z"
    }
   },
   "outputs": [],
   "source": [
    "def fibo(n):\n",
    "    a = 0\n",
    "    b = 1\n",
    "    \n",
    "    for i in range(2,n+1):\n",
    "        sum = a + b\n",
    "        print(sum)\n",
    "        a = b \n",
    "        b = sum\n",
    "        \n",
    "        "
   ]
  },
  {
   "cell_type": "code",
   "execution_count": 47,
   "id": "009027bf",
   "metadata": {
    "ExecuteTime": {
     "end_time": "2021-10-28T06:37:30.717035Z",
     "start_time": "2021-10-28T06:37:30.699037Z"
    }
   },
   "outputs": [
    {
     "name": "stdout",
     "output_type": "stream",
     "text": [
      "1\n",
      "2\n",
      "3\n",
      "5\n",
      "8\n",
      "13\n",
      "21\n",
      "34\n",
      "55\n"
     ]
    }
   ],
   "source": [
    "fibo(10)"
   ]
  },
  {
   "cell_type": "code",
   "execution_count": 48,
   "id": "7077cf52",
   "metadata": {
    "ExecuteTime": {
     "end_time": "2021-10-28T06:39:48.814044Z",
     "start_time": "2021-10-28T06:39:48.795046Z"
    }
   },
   "outputs": [
    {
     "name": "stdout",
     "output_type": "stream",
     "text": [
      "sakiv\n"
     ]
    }
   ],
   "source": [
    "n = 'vikas'\n",
    "\n",
    "x = n[::-1]\n",
    "\n",
    "print(x)"
   ]
  },
  {
   "cell_type": "markdown",
   "id": "c7bfd212",
   "metadata": {},
   "source": [
    "### write a program to check string is palindrome or not"
   ]
  },
  {
   "cell_type": "code",
   "execution_count": 53,
   "id": "fa67ea81",
   "metadata": {
    "ExecuteTime": {
     "end_time": "2021-10-28T06:42:03.975779Z",
     "start_time": "2021-10-28T06:42:01.602341Z"
    }
   },
   "outputs": [
    {
     "name": "stdout",
     "output_type": "stream",
     "text": [
      "nitin\n",
      "Palindrome\n"
     ]
    }
   ],
   "source": [
    "n = input()\n",
    "\n",
    "rev_n = n[::-1]\n",
    "\n",
    "if rev_n == n:\n",
    "    print(\"Palindrome\")\n",
    "    \n",
    "else:\n",
    "    print(\"Not palindrome\")"
   ]
  },
  {
   "cell_type": "markdown",
   "id": "5c45288b",
   "metadata": {},
   "source": [
    "### write a program to print set of duplicate in list"
   ]
  },
  {
   "cell_type": "code",
   "execution_count": 57,
   "id": "7ef38abc",
   "metadata": {
    "ExecuteTime": {
     "end_time": "2021-10-28T06:46:23.129037Z",
     "start_time": "2021-10-28T06:46:23.101005Z"
    }
   },
   "outputs": [
    {
     "name": "stdout",
     "output_type": "stream",
     "text": [
      "[1, 4, 4, 5, 5, 1]\n"
     ]
    }
   ],
   "source": [
    "lst = [1,2,3,4,4,5,5,6,1]\n",
    "\n",
    "print([x for x in lst if lst.count(x) > 1])"
   ]
  },
  {
   "cell_type": "markdown",
   "id": "0b5924cf",
   "metadata": {},
   "source": [
    "### Write a python program to print number of words in given sentence"
   ]
  },
  {
   "cell_type": "code",
   "execution_count": 58,
   "id": "8d4734ac",
   "metadata": {
    "ExecuteTime": {
     "end_time": "2021-10-28T06:48:40.394364Z",
     "start_time": "2021-10-28T06:48:40.374364Z"
    }
   },
   "outputs": [
    {
     "name": "stdout",
     "output_type": "stream",
     "text": [
      "7\n"
     ]
    }
   ],
   "source": [
    "s = \"I am having a very nice day\"\n",
    "\n",
    "print(len(s.split()))"
   ]
  },
  {
   "cell_type": "markdown",
   "id": "2d5e3c5f",
   "metadata": {},
   "source": [
    "### Given an array arr[] of n elements, write a python function to search given element x in arr[]"
   ]
  },
  {
   "cell_type": "code",
   "execution_count": 65,
   "id": "f0e19a1f",
   "metadata": {
    "ExecuteTime": {
     "end_time": "2021-10-28T06:55:40.100167Z",
     "start_time": "2021-10-28T06:55:40.083168Z"
    }
   },
   "outputs": [],
   "source": [
    "def search(arr,x):\n",
    "    for i in range(len(arr)):\n",
    "        \n",
    "        if arr[i] == x:\n",
    "            return f\"{x} is in the list, at index {i}\"\n",
    "        \n",
    "    print(f\"{x} is Not present in the list.\")\n",
    "    \n",
    "    "
   ]
  },
  {
   "cell_type": "code",
   "execution_count": 66,
   "id": "9be4a6fc",
   "metadata": {
    "ExecuteTime": {
     "end_time": "2021-10-28T06:55:41.093710Z",
     "start_time": "2021-10-28T06:55:41.084712Z"
    }
   },
   "outputs": [
    {
     "data": {
      "text/plain": [
       "'10 is in the list, at index 6'"
      ]
     },
     "execution_count": 66,
     "metadata": {},
     "output_type": "execute_result"
    }
   ],
   "source": [
    "lst = [11,12,1,2,13,5,10,5]\n",
    "\n",
    "search(lst,10)"
   ]
  },
  {
   "cell_type": "code",
   "execution_count": 63,
   "id": "b86e4e09",
   "metadata": {
    "ExecuteTime": {
     "end_time": "2021-10-28T06:54:55.704431Z",
     "start_time": "2021-10-28T06:54:55.686267Z"
    }
   },
   "outputs": [
    {
     "data": {
      "text/plain": [
       "'5 is in the list, at index 5'"
      ]
     },
     "execution_count": 63,
     "metadata": {},
     "output_type": "execute_result"
    }
   ],
   "source": [
    "search(lst,5)"
   ]
  },
  {
   "cell_type": "code",
   "execution_count": 67,
   "id": "3df8a07e",
   "metadata": {
    "ExecuteTime": {
     "end_time": "2021-10-28T06:55:44.182209Z",
     "start_time": "2021-10-28T06:55:44.176210Z"
    }
   },
   "outputs": [
    {
     "name": "stdout",
     "output_type": "stream",
     "text": [
      "20 is Not present in the list.\n"
     ]
    }
   ],
   "source": [
    "search(lst,20)"
   ]
  },
  {
   "cell_type": "code",
   "execution_count": 68,
   "id": "081a1155",
   "metadata": {
    "ExecuteTime": {
     "end_time": "2021-10-28T06:55:56.155914Z",
     "start_time": "2021-10-28T06:55:56.135917Z"
    }
   },
   "outputs": [
    {
     "name": "stdout",
     "output_type": "stream",
     "text": [
      "45 is Not present in the list.\n"
     ]
    }
   ],
   "source": [
    "search(lst,45)"
   ]
  },
  {
   "cell_type": "code",
   "execution_count": 69,
   "id": "daaf35f1",
   "metadata": {
    "ExecuteTime": {
     "end_time": "2021-10-28T08:26:56.215060Z",
     "start_time": "2021-10-28T08:26:50.581379Z"
    }
   },
   "outputs": [],
   "source": [
    "import matplotlib"
   ]
  },
  {
   "cell_type": "code",
   "execution_count": 71,
   "id": "ff0d497d",
   "metadata": {
    "ExecuteTime": {
     "end_time": "2021-10-28T08:27:24.802303Z",
     "start_time": "2021-10-28T08:27:24.786333Z"
    }
   },
   "outputs": [],
   "source": [
    "from matplotlib import pyplot as plt"
   ]
  },
  {
   "cell_type": "code",
   "execution_count": 72,
   "id": "ee3f7816",
   "metadata": {
    "ExecuteTime": {
     "end_time": "2021-10-28T08:27:42.002975Z",
     "start_time": "2021-10-28T08:27:41.985427Z"
    }
   },
   "outputs": [],
   "source": [
    "import numpy as np"
   ]
  },
  {
   "cell_type": "code",
   "execution_count": 73,
   "id": "cbbb961d",
   "metadata": {
    "ExecuteTime": {
     "end_time": "2021-10-28T08:29:08.122377Z",
     "start_time": "2021-10-28T08:29:08.066378Z"
    }
   },
   "outputs": [],
   "source": [
    "x = np.arange(1,11)"
   ]
  },
  {
   "cell_type": "code",
   "execution_count": 74,
   "id": "e36adcb3",
   "metadata": {
    "ExecuteTime": {
     "end_time": "2021-10-28T08:29:10.848934Z",
     "start_time": "2021-10-28T08:29:10.792936Z"
    }
   },
   "outputs": [
    {
     "data": {
      "text/plain": [
       "array([ 1,  2,  3,  4,  5,  6,  7,  8,  9, 10])"
      ]
     },
     "execution_count": 74,
     "metadata": {},
     "output_type": "execute_result"
    }
   ],
   "source": [
    "x"
   ]
  },
  {
   "cell_type": "code",
   "execution_count": 75,
   "id": "f1a0e3d5",
   "metadata": {
    "ExecuteTime": {
     "end_time": "2021-10-28T08:29:25.514923Z",
     "start_time": "2021-10-28T08:29:25.490950Z"
    }
   },
   "outputs": [],
   "source": [
    "y = 2*x"
   ]
  },
  {
   "cell_type": "code",
   "execution_count": 76,
   "id": "7196fb7b",
   "metadata": {
    "ExecuteTime": {
     "end_time": "2021-10-28T08:29:28.633225Z",
     "start_time": "2021-10-28T08:29:28.601232Z"
    }
   },
   "outputs": [
    {
     "data": {
      "text/plain": [
       "array([ 2,  4,  6,  8, 10, 12, 14, 16, 18, 20])"
      ]
     },
     "execution_count": 76,
     "metadata": {},
     "output_type": "execute_result"
    }
   ],
   "source": [
    "y"
   ]
  },
  {
   "cell_type": "code",
   "execution_count": 77,
   "id": "0ba94fe4",
   "metadata": {
    "ExecuteTime": {
     "end_time": "2021-10-28T08:30:56.666407Z",
     "start_time": "2021-10-28T08:30:55.188820Z"
    }
   },
   "outputs": [
    {
     "data": {
      "image/png": "[encoded data removed]",
      "text/plain": [
       "<Figure size 432x288 with 1 Axes>"
      ]
     },
     "metadata": {
      "needs_background": "light"
     },
     "output_type": "display_data"
    }
   ],
   "source": [
    "plt.plot(x,y)\n",
    "plt.title(\"My First line plot\")\n",
    "plt.xlabel('x-axis')\n",
    "plt.ylabel('y-axis')\n",
    "plt.show()"
   ]
  },
  {
   "cell_type": "code",
   "execution_count": 78,
   "id": "62e070bd",
   "metadata": {
    "ExecuteTime": {
     "end_time": "2021-10-28T08:32:58.962886Z",
     "start_time": "2021-10-28T08:32:58.454091Z"
    }
   },
   "outputs": [
    {
     "data": {
      "image/png": "[encoded data removed]",
      "text/plain": [
       "<Figure size 432x288 with 1 Axes>"
      ]
     },
     "metadata": {
      "needs_background": "light"
     },
     "output_type": "display_data"
    }
   ],
   "source": [
    "plt.bar(x,y)\n",
    "plt.show()"
   ]
  },
  {
   "cell_type": "code",
   "execution_count": 80,
   "id": "4b508746",
   "metadata": {
    "ExecuteTime": {
     "end_time": "2021-10-28T08:34:47.846971Z",
     "start_time": "2021-10-28T08:34:47.822962Z"
    }
   },
   "outputs": [
    {
     "name": "stdout",
     "output_type": "stream",
     "text": [
      "vikas kale\n"
     ]
    }
   ],
   "source": [
    "str1 = 'vikas'\n",
    "str2 = 'kale'\n",
    "\n",
    "re = str1 +\" \" +str2\n",
    "\n",
    "print(re)"
   ]
  },
  {
   "cell_type": "markdown",
   "id": "03f0a412",
   "metadata": {},
   "source": [
    "### write a python program to extrat digit from given string"
   ]
  },
  {
   "cell_type": "code",
   "execution_count": 85,
   "id": "ccd7959d",
   "metadata": {
    "ExecuteTime": {
     "end_time": "2021-10-28T08:41:49.302548Z",
     "start_time": "2021-10-28T08:41:49.267852Z"
    }
   },
   "outputs": [
    {
     "name": "stdout",
     "output_type": "stream",
     "text": [
      "241996\n"
     ]
    }
   ],
   "source": [
    "import re\n",
    "\n",
    "str2 = \"my name is vikas kale my date of birth is 24 th sept 1996\"\n",
    "\n",
    "s = re.findall(r'\\d',str2)\n",
    "\n",
    "print(''.join(s))"
   ]
  },
  {
   "cell_type": "code",
   "execution_count": 84,
   "id": "398f2f2a",
   "metadata": {
    "ExecuteTime": {
     "end_time": "2021-10-28T08:41:28.374768Z",
     "start_time": "2021-10-28T08:41:28.334768Z"
    }
   },
   "outputs": [
    {
     "name": "stdout",
     "output_type": "stream",
     "text": [
      "241996\n"
     ]
    }
   ],
   "source": [
    "res = ''.join(filter(lambda i:i.isdigit(),str2))\n",
    "\n",
    "print(res)"
   ]
  },
  {
   "cell_type": "markdown",
   "id": "788cd8ab",
   "metadata": {},
   "source": [
    "### write python program to split strings using newline delimeter"
   ]
  },
  {
   "cell_type": "code",
   "execution_count": 87,
   "id": "31ac70c0",
   "metadata": {
    "ExecuteTime": {
     "end_time": "2021-10-28T08:46:13.748111Z",
     "start_time": "2021-10-28T08:46:13.724111Z"
    }
   },
   "outputs": [
    {
     "name": "stdout",
     "output_type": "stream",
     "text": [
      "['This', 'is', 'a', 'test', 'program']\n"
     ]
    }
   ],
   "source": [
    "str1 = \"This is a test program\"\n",
    "\n",
    "res = str1.rstrip().split(' ')\n",
    "print(res)"
   ]
  },
  {
   "cell_type": "code",
   "execution_count": 90,
   "id": "e1613144",
   "metadata": {
    "ExecuteTime": {
     "end_time": "2021-10-28T08:47:42.273779Z",
     "start_time": "2021-10-28T08:47:42.257814Z"
    }
   },
   "outputs": [
    {
     "name": "stdout",
     "output_type": "stream",
     "text": [
      "['This', 'is', 'a', 'test', 'program']\n"
     ]
    }
   ],
   "source": [
    "x = str1.split()\n",
    "print(x)"
   ]
  },
  {
   "cell_type": "code",
   "execution_count": 91,
   "id": "7313506b",
   "metadata": {
    "ExecuteTime": {
     "end_time": "2021-10-28T08:51:04.751538Z",
     "start_time": "2021-10-28T08:51:04.741232Z"
    }
   },
   "outputs": [],
   "source": [
    "import keyword"
   ]
  },
  {
   "cell_type": "code",
   "execution_count": 92,
   "id": "9012795e",
   "metadata": {
    "ExecuteTime": {
     "end_time": "2021-10-28T08:51:21.811411Z",
     "start_time": "2021-10-28T08:51:21.796164Z"
    }
   },
   "outputs": [
    {
     "name": "stdout",
     "output_type": "stream",
     "text": [
      "['False', 'None', 'True', 'and', 'as', 'assert', 'async', 'await', 'break', 'class', 'continue', 'def', 'del', 'elif', 'else', 'except', 'finally', 'for', 'from', 'global', 'if', 'import', 'in', 'is', 'lambda', 'nonlocal', 'not', 'or', 'pass', 'raise', 'return', 'try', 'while', 'with', 'yield']\n"
     ]
    }
   ],
   "source": [
    "print(keyword.kwlist)"
   ]
  },
  {
   "cell_type": "code",
   "execution_count": 93,
   "id": "3cc4e76a",
   "metadata": {
    "ExecuteTime": {
     "end_time": "2021-10-28T09:01:51.931597Z",
     "start_time": "2021-10-28T09:01:51.911599Z"
    }
   },
   "outputs": [],
   "source": [
    "import numpy"
   ]
  },
  {
   "cell_type": "code",
   "execution_count": 95,
   "id": "82b59e87",
   "metadata": {
    "ExecuteTime": {
     "end_time": "2021-10-28T09:02:26.750756Z",
     "start_time": "2021-10-28T09:02:26.696097Z"
    }
   },
   "outputs": [
    {
     "name": "stdout",
     "output_type": "stream",
     "text": [
      "[[0. 0. 0. 0. 0.]\n",
      " [0. 0. 0. 0. 0.]\n",
      " [0. 0. 0. 0. 0.]\n",
      " [0. 0. 0. 0. 0.]\n",
      " [0. 0. 0. 0. 0.]]\n"
     ]
    }
   ],
   "source": [
    "s = numpy.zeros((5,5))\n",
    "\n",
    "print(s)"
   ]
  },
  {
   "cell_type": "markdown",
   "id": "7d920284",
   "metadata": {},
   "source": [
    "# File handling"
   ]
  },
  {
   "cell_type": "code",
   "execution_count": 102,
   "id": "b0da1dbd",
   "metadata": {
    "ExecuteTime": {
     "end_time": "2021-10-28T09:57:38.141642Z",
     "start_time": "2021-10-28T09:57:38.127641Z"
    }
   },
   "outputs": [
    {
     "ename": "FileNotFoundError",
     "evalue": "[Errno 2] No such file or directory: 'test'",
     "output_type": "error",
     "traceback": [
      "\u001b[1;31m---------------------------------------------------------------------------\u001b[0m",
      "\u001b[1;31mFileNotFoundError\u001b[0m                         Traceback (most recent call last)",
      "\u001b[1;32m<ipython-input-102-9120d9eb4fd1>\u001b[0m in \u001b[0;36m<module>\u001b[1;34m\u001b[0m\n\u001b[1;32m----> 1\u001b[1;33m \u001b[0mf\u001b[0m \u001b[1;33m=\u001b[0m \u001b[0mopen\u001b[0m\u001b[1;33m(\u001b[0m\u001b[1;34m'test'\u001b[0m\u001b[1;33m,\u001b[0m\u001b[1;34m'r'\u001b[0m\u001b[1;33m)\u001b[0m\u001b[1;33m\u001b[0m\u001b[1;33m\u001b[0m\u001b[0m\n\u001b[0m\u001b[0;32m      2\u001b[0m \u001b[1;33m\u001b[0m\u001b[0m\n\u001b[0;32m      3\u001b[0m \u001b[0mprint\u001b[0m\u001b[1;33m(\u001b[0m\u001b[0mf\u001b[0m\u001b[1;33m.\u001b[0m\u001b[0mread\u001b[0m\u001b[1;33m)\u001b[0m\u001b[1;33m\u001b[0m\u001b[1;33m\u001b[0m\u001b[0m\n",
      "\u001b[1;31mFileNotFoundError\u001b[0m: [Errno 2] No such file or directory: 'test'"
     ]
    }
   ],
   "source": [
    "f = open('test','r')\n",
    "\n",
    "print(f.read)"
   ]
  },
  {
   "cell_type": "code",
   "execution_count": 104,
   "id": "51ecd998",
   "metadata": {
    "ExecuteTime": {
     "end_time": "2021-10-28T10:20:09.940642Z",
     "start_time": "2021-10-28T10:20:09.929549Z"
    }
   },
   "outputs": [
    {
     "name": "stdout",
     "output_type": "stream",
     "text": [
      "['v', 'i', 'k', 'a', 's']\n"
     ]
    }
   ],
   "source": [
    "name = 'v i k a s'\n",
    "\n",
    "s = name.split()\n"
   ]
  },
  {
   "cell_type": "code",
   "execution_count": 110,
   "id": "8ae11069",
   "metadata": {
    "ExecuteTime": {
     "end_time": "2021-10-28T10:25:18.167915Z",
     "start_time": "2021-10-28T10:25:18.148884Z"
    }
   },
   "outputs": [],
   "source": [
    "lst = ['v', 'i', 'k', 'a', 's']\n",
    "\n",
    "def search_vovels(num):\n",
    "    vovels = ['a','e','i','o','u','A','E','I','O','U']\n",
    "    \n",
    "    if num in vovels:\n",
    "        return True\n",
    "    \n",
    "    else:\n",
    "        return False\n",
    "    \n",
    "\n",
    "    \n",
    "    \n",
    "    \n",
    "    "
   ]
  },
  {
   "cell_type": "code",
   "execution_count": 111,
   "id": "ac7f3c0a",
   "metadata": {
    "ExecuteTime": {
     "end_time": "2021-10-28T10:25:18.894161Z",
     "start_time": "2021-10-28T10:25:18.882163Z"
    }
   },
   "outputs": [],
   "source": [
    "s = filter(search_vovels,lst)"
   ]
  },
  {
   "cell_type": "code",
   "execution_count": 112,
   "id": "dd1ae30f",
   "metadata": {
    "ExecuteTime": {
     "end_time": "2021-10-28T10:25:19.656450Z",
     "start_time": "2021-10-28T10:25:19.636450Z"
    }
   },
   "outputs": [
    {
     "name": "stdout",
     "output_type": "stream",
     "text": [
      "i\n",
      "a\n"
     ]
    }
   ],
   "source": [
    "for i in s:\n",
    "    print(i)"
   ]
  },
  {
   "cell_type": "code",
   "execution_count": 113,
   "id": "6b8c98ab",
   "metadata": {
    "ExecuteTime": {
     "end_time": "2021-10-28T10:32:30.886293Z",
     "start_time": "2021-10-28T10:32:30.880294Z"
    }
   },
   "outputs": [],
   "source": [
    "from functools import reduce"
   ]
  },
  {
   "cell_type": "code",
   "execution_count": 114,
   "id": "47ffea00",
   "metadata": {
    "ExecuteTime": {
     "end_time": "2021-10-28T10:33:38.234841Z",
     "start_time": "2021-10-28T10:33:38.209808Z"
    }
   },
   "outputs": [
    {
     "name": "stdout",
     "output_type": "stream",
     "text": [
      "15\n"
     ]
    }
   ],
   "source": [
    "lst = [1,2,3,4,5]\n",
    "\n",
    "x = reduce(lambda a,b:a+b,lst)\n",
    "\n",
    "print(x)"
   ]
  },
  {
   "cell_type": "code",
   "execution_count": 118,
   "id": "caf7c731",
   "metadata": {
    "ExecuteTime": {
     "end_time": "2021-10-28T10:36:56.536814Z",
     "start_time": "2021-10-28T10:36:56.522814Z"
    }
   },
   "outputs": [
    {
     "name": "stdout",
     "output_type": "stream",
     "text": [
      "1\n",
      "2\n",
      "3\n",
      "4\n",
      "5\n"
     ]
    }
   ],
   "source": [
    "for i in range(1,11):\n",
    "    if i > 5:\n",
    "        continue\n",
    "        \n",
    "    print(i)"
   ]
  },
  {
   "cell_type": "code",
   "execution_count": null,
   "id": "00c6fed1",
   "metadata": {},
   "outputs": [],
   "source": []
  }
 ],
 "metadata": {
  "kernelspec": {
   "display_name": "Python 3",
   "language": "python",
   "name": "python3"
  },
  "language_info": {
   "codemirror_mode": {
    "name": "ipython",
    "version": 3
   },
   "file_extension": ".py",
   "mimetype": "text/x-python",
   "name": "python",
   "nbconvert_exporter": "python",
   "pygments_lexer": "ipython3",
   "version": "3.8.8"
  }
 },
 "nbformat": 4,
 "nbformat_minor": 5
}
