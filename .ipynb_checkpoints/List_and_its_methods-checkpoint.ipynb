{
 "cells": [
  {
   "cell_type": "code",
   "execution_count": 3,
   "id": "c5203c65",
   "metadata": {},
   "outputs": [
    {
     "name": "stdout",
     "output_type": "stream",
     "text": [
      "current state of list: []\n",
      "Enter the first input45\n",
      "current state of list: ['45']\n",
      "Enter the second input50\n",
      "current state of list: ['45', '50']\n",
      "Enter the third input60\n",
      "current state of list: ['45', '50', '60']\n",
      "Enter the four input70\n",
      "current state of list: ['45', '50', '60', '70']\n"
     ]
    }
   ],
   "source": [
    "num=list()\n",
    "print('current state of list:',num)\n",
    "\n",
    "num.append(input('Enter the first input'))\n",
    "print('current state of list:',num)\n",
    "\n",
    "\n",
    "num.append(input('Enter the second input'))\n",
    "print('current state of list:',num)\n",
    "\n",
    "\n",
    "num.append(input('Enter the third input'))\n",
    "print('current state of list:',num)\n",
    "\n",
    "\n",
    "\n",
    "num.append(input('Enter the four input'))\n",
    "print('current state of list:',num)\n"
   ]
  },
  {
   "cell_type": "code",
   "execution_count": 9,
   "id": "aac22ed2",
   "metadata": {},
   "outputs": [
    {
     "name": "stdout",
     "output_type": "stream",
     "text": [
      "['__class__', '__contains__', '__delattr__', '__delitem__', '__dir__', '__doc__', '__eq__', '__format__', '__ge__', '__getattribute__', '__getitem__', '__gt__', '__hash__', '__init__', '__init_subclass__', '__iter__', '__le__', '__len__', '__lt__', '__ne__', '__new__', '__reduce__', '__reduce_ex__', '__repr__', '__reversed__', '__setattr__', '__setitem__', '__sizeof__', '__str__', '__subclasshook__', 'clear', 'copy', 'fromkeys', 'get', 'items', 'keys', 'pop', 'popitem', 'setdefault', 'update', 'values']\n"
     ]
    }
   ],
   "source": [
    "print(dir(dict))"
   ]
  },
  {
   "cell_type": "code",
   "execution_count": 8,
   "id": "16ab2ba2",
   "metadata": {},
   "outputs": [
    {
     "name": "stdout",
     "output_type": "stream",
     "text": [
      "['__class__', '__contains__', '__delattr__', '__delitem__', '__dir__', '__doc__', '__eq__', '__format__', '__ge__', '__getattribute__', '__getitem__', '__gt__', '__hash__', '__init__', '__init_subclass__', '__iter__', '__le__', '__len__', '__lt__', '__ne__', '__new__', '__reduce__', '__reduce_ex__', '__repr__', '__reversed__', '__setattr__', '__setitem__', '__sizeof__', '__str__', '__subclasshook__', 'clear', 'copy', 'fromkeys', 'get', 'items', 'keys', 'pop', 'popitem', 'setdefault', 'update', 'values']\n"
     ]
    }
   ],
   "source": [
    "print(dir(dict))"
   ]
  },
  {
   "cell_type": "code",
   "execution_count": 1,
   "id": "bc5df047",
   "metadata": {},
   "outputs": [
    {
     "name": "stdout",
     "output_type": "stream",
     "text": [
      "['__add__', '__class__', '__contains__', '__delattr__', '__delitem__', '__dir__', '__doc__', '__eq__', '__format__', '__ge__', '__getattribute__', '__getitem__', '__gt__', '__hash__', '__iadd__', '__imul__', '__init__', '__init_subclass__', '__iter__', '__le__', '__len__', '__lt__', '__mul__', '__ne__', '__new__', '__reduce__', '__reduce_ex__', '__repr__', '__reversed__', '__rmul__', '__setattr__', '__setitem__', '__sizeof__', '__str__', '__subclasshook__', 'append', 'clear', 'copy', 'count', 'extend', 'index', 'insert', 'pop', 'remove', 'reverse', 'sort']\n"
     ]
    }
   ],
   "source": [
    "print(dir(list))"
   ]
  },
  {
   "cell_type": "code",
   "execution_count": 6,
   "id": "2d27bbed",
   "metadata": {},
   "outputs": [],
   "source": [
    "List = [2.3, 4.445, 3, 5.33, 1.054, 2.5]\n",
    "\n",
    "List.sort()  # by default ascending order."
   ]
  },
  {
   "cell_type": "code",
   "execution_count": 7,
   "id": "9a4b1e1f",
   "metadata": {},
   "outputs": [
    {
     "data": {
      "text/plain": [
       "[1.054, 2.3, 2.5, 3, 4.445, 5.33]"
      ]
     },
     "execution_count": 7,
     "metadata": {},
     "output_type": "execute_result"
    }
   ],
   "source": [
    "List"
   ]
  },
  {
   "cell_type": "code",
   "execution_count": 8,
   "id": "dd1a9918",
   "metadata": {},
   "outputs": [],
   "source": [
    "List = [2.3, 4.445, 3, 5.33, 1.054, 2.5]\n",
    "\n",
    "List.sort(reverse=True)  # decending order"
   ]
  },
  {
   "cell_type": "code",
   "execution_count": 9,
   "id": "f3693063",
   "metadata": {},
   "outputs": [
    {
     "data": {
      "text/plain": [
       "[5.33, 4.445, 3, 2.5, 2.3, 1.054]"
      ]
     },
     "execution_count": 9,
     "metadata": {},
     "output_type": "execute_result"
    }
   ],
   "source": [
    "List"
   ]
  },
  {
   "cell_type": "code",
   "execution_count": 10,
   "id": "58f69602",
   "metadata": {},
   "outputs": [
    {
     "name": "stdout",
     "output_type": "stream",
     "text": [
      "[1.054, 2.3, 2.5, 3, 4.445, 5.33]\n"
     ]
    }
   ],
   "source": [
    "List = [2.3, 4.445, 3, 5.33, 1.054, 2.5]\n",
    "\n",
    "x=sorted(List)\n",
    "\n",
    "print(x)"
   ]
  },
  {
   "cell_type": "code",
   "execution_count": 13,
   "id": "e647718d",
   "metadata": {},
   "outputs": [
    {
     "name": "stdout",
     "output_type": "stream",
     "text": [
      "[2, 3, 4, 5]\n"
     ]
    }
   ],
   "source": [
    "A=[[2,3],[4,5]]\n",
    "\n",
    "print(sum(A,[]))"
   ]
  },
  {
   "cell_type": "code",
   "execution_count": 1,
   "id": "b149f099",
   "metadata": {},
   "outputs": [
    {
     "name": "stdout",
     "output_type": "stream",
     "text": [
      "['__add__', '__class__', '__contains__', '__delattr__', '__delitem__', '__dir__', '__doc__', '__eq__', '__format__', '__ge__', '__getattribute__', '__getitem__', '__gt__', '__hash__', '__iadd__', '__imul__', '__init__', '__init_subclass__', '__iter__', '__le__', '__len__', '__lt__', '__mul__', '__ne__', '__new__', '__reduce__', '__reduce_ex__', '__repr__', '__reversed__', '__rmul__', '__setattr__', '__setitem__', '__sizeof__', '__str__', '__subclasshook__', 'append', 'clear', 'copy', 'count', 'extend', 'index', 'insert', 'pop', 'remove', 'reverse', 'sort']\n"
     ]
    }
   ],
   "source": [
    "print(dir(list))"
   ]
  },
  {
   "cell_type": "markdown",
   "id": "154937f3",
   "metadata": {},
   "source": [
    "# 1) append"
   ]
  },
  {
   "cell_type": "code",
   "execution_count": 2,
   "id": "1c994c54",
   "metadata": {},
   "outputs": [
    {
     "name": "stdout",
     "output_type": "stream",
     "text": [
      "Help on method_descriptor:\n",
      "\n",
      "append(self, object, /)\n",
      "    Append object to the end of the list.\n",
      "\n"
     ]
    }
   ],
   "source": [
    "help(list.append)"
   ]
  },
  {
   "cell_type": "code",
   "execution_count": 3,
   "id": "7ecf4f77",
   "metadata": {},
   "outputs": [
    {
     "name": "stdout",
     "output_type": "stream",
     "text": [
      "[1, 2, 3, 4, 5, 11, 12, 55, 100]\n"
     ]
    }
   ],
   "source": [
    "lst=[1,2,3,4,5,11,12,55]\n",
    "\n",
    "lst.append(100)\n",
    "\n",
    "print(lst)"
   ]
  },
  {
   "cell_type": "code",
   "execution_count": 4,
   "id": "d122eb9b",
   "metadata": {},
   "outputs": [
    {
     "name": "stdout",
     "output_type": "stream",
     "text": [
      "[20, 50, 45, 85]\n"
     ]
    }
   ],
   "source": [
    "lst1=[]\n",
    "\n",
    "lst1.append(20)\n",
    "lst1.append(50)\n",
    "lst1.append(45)\n",
    "lst1.append(85)\n",
    "\n",
    "print(lst1)"
   ]
  },
  {
   "cell_type": "markdown",
   "id": "cee55ed1",
   "metadata": {},
   "source": [
    "# 2) clear"
   ]
  },
  {
   "cell_type": "code",
   "execution_count": 5,
   "id": "6e3e8cbb",
   "metadata": {},
   "outputs": [
    {
     "name": "stdout",
     "output_type": "stream",
     "text": [
      "Help on method_descriptor:\n",
      "\n",
      "clear(self, /)\n",
      "    Remove all items from list.\n",
      "\n"
     ]
    }
   ],
   "source": [
    "help(list.clear)"
   ]
  },
  {
   "cell_type": "code",
   "execution_count": 6,
   "id": "4c871406",
   "metadata": {},
   "outputs": [
    {
     "data": {
      "text/plain": [
       "[1, 2, 3, 4, 5, 11, 12, 55, 100]"
      ]
     },
     "execution_count": 6,
     "metadata": {},
     "output_type": "execute_result"
    }
   ],
   "source": [
    "lst"
   ]
  },
  {
   "cell_type": "code",
   "execution_count": 7,
   "id": "b1d6c9b2",
   "metadata": {},
   "outputs": [],
   "source": [
    "lst.clear()"
   ]
  },
  {
   "cell_type": "code",
   "execution_count": 8,
   "id": "a6faf8dc",
   "metadata": {},
   "outputs": [
    {
     "data": {
      "text/plain": [
       "[]"
      ]
     },
     "execution_count": 8,
     "metadata": {},
     "output_type": "execute_result"
    }
   ],
   "source": [
    "lst"
   ]
  },
  {
   "cell_type": "markdown",
   "id": "39a21c65",
   "metadata": {},
   "source": [
    "# 3) copy()"
   ]
  },
  {
   "cell_type": "code",
   "execution_count": 9,
   "id": "5f736351",
   "metadata": {},
   "outputs": [
    {
     "name": "stdout",
     "output_type": "stream",
     "text": [
      "Help on method_descriptor:\n",
      "\n",
      "copy(self, /)\n",
      "    Return a shallow copy of the list.\n",
      "\n"
     ]
    }
   ],
   "source": [
    "help(list.copy)"
   ]
  },
  {
   "cell_type": "code",
   "execution_count": 12,
   "id": "9bf53b5b",
   "metadata": {},
   "outputs": [
    {
     "name": "stdout",
     "output_type": "stream",
     "text": [
      "[11, 12, 13, 14, 15]\n"
     ]
    }
   ],
   "source": [
    "lst=[10,20,30,40,50]\n",
    "\n",
    "lst3=[11,12,13,14,15]\n",
    "\n",
    "lst4=lst3.copy()\n",
    "\n",
    "\n",
    "print(lst4)"
   ]
  },
  {
   "cell_type": "code",
   "execution_count": 13,
   "id": "9ebd84ba",
   "metadata": {},
   "outputs": [],
   "source": [
    "lst5=lst.copy()"
   ]
  },
  {
   "cell_type": "code",
   "execution_count": 14,
   "id": "82e46ab3",
   "metadata": {},
   "outputs": [
    {
     "data": {
      "text/plain": [
       "[10, 20, 30, 40, 50]"
      ]
     },
     "execution_count": 14,
     "metadata": {},
     "output_type": "execute_result"
    }
   ],
   "source": [
    "lst5"
   ]
  },
  {
   "cell_type": "markdown",
   "id": "2e259b3f",
   "metadata": {},
   "source": [
    "# 4) count()"
   ]
  },
  {
   "cell_type": "code",
   "execution_count": 15,
   "id": "c73ded10",
   "metadata": {},
   "outputs": [
    {
     "name": "stdout",
     "output_type": "stream",
     "text": [
      "Help on method_descriptor:\n",
      "\n",
      "count(self, value, /)\n",
      "    Return number of occurrences of value.\n",
      "\n"
     ]
    }
   ],
   "source": [
    "help(list.count)"
   ]
  },
  {
   "cell_type": "code",
   "execution_count": 16,
   "id": "610b2dcb",
   "metadata": {},
   "outputs": [
    {
     "data": {
      "text/plain": [
       "[10, 20, 30, 40, 50]"
      ]
     },
     "execution_count": 16,
     "metadata": {},
     "output_type": "execute_result"
    }
   ],
   "source": [
    "lst"
   ]
  },
  {
   "cell_type": "code",
   "execution_count": 17,
   "id": "05972017",
   "metadata": {},
   "outputs": [
    {
     "data": {
      "text/plain": [
       "1"
      ]
     },
     "execution_count": 17,
     "metadata": {},
     "output_type": "execute_result"
    }
   ],
   "source": [
    "lst.count(40)"
   ]
  },
  {
   "cell_type": "code",
   "execution_count": 18,
   "id": "0185de5f",
   "metadata": {},
   "outputs": [],
   "source": [
    "lst.append(40)"
   ]
  },
  {
   "cell_type": "code",
   "execution_count": 19,
   "id": "bfc61188",
   "metadata": {},
   "outputs": [
    {
     "data": {
      "text/plain": [
       "[10, 20, 30, 40, 50, 40]"
      ]
     },
     "execution_count": 19,
     "metadata": {},
     "output_type": "execute_result"
    }
   ],
   "source": [
    "lst"
   ]
  },
  {
   "cell_type": "code",
   "execution_count": 20,
   "id": "62a6cb1b",
   "metadata": {},
   "outputs": [
    {
     "data": {
      "text/plain": [
       "2"
      ]
     },
     "execution_count": 20,
     "metadata": {},
     "output_type": "execute_result"
    }
   ],
   "source": [
    "lst.count(40)"
   ]
  },
  {
   "cell_type": "code",
   "execution_count": 21,
   "id": "ca3124cb",
   "metadata": {},
   "outputs": [],
   "source": [
    "lst.append(30)\n",
    "lst.append(40)\n",
    "lst.append(50)"
   ]
  },
  {
   "cell_type": "code",
   "execution_count": 22,
   "id": "d05a09c2",
   "metadata": {},
   "outputs": [
    {
     "data": {
      "text/plain": [
       "[10, 20, 30, 40, 50, 40, 30, 40, 50]"
      ]
     },
     "execution_count": 22,
     "metadata": {},
     "output_type": "execute_result"
    }
   ],
   "source": [
    "lst"
   ]
  },
  {
   "cell_type": "code",
   "execution_count": 23,
   "id": "d20d6c2d",
   "metadata": {},
   "outputs": [
    {
     "data": {
      "text/plain": [
       "2"
      ]
     },
     "execution_count": 23,
     "metadata": {},
     "output_type": "execute_result"
    }
   ],
   "source": [
    "lst.count(50)"
   ]
  },
  {
   "cell_type": "code",
   "execution_count": 24,
   "id": "af5252e9",
   "metadata": {},
   "outputs": [
    {
     "data": {
      "text/plain": [
       "3"
      ]
     },
     "execution_count": 24,
     "metadata": {},
     "output_type": "execute_result"
    }
   ],
   "source": [
    "lst.count(40)"
   ]
  },
  {
   "cell_type": "code",
   "execution_count": 25,
   "id": "a5606b17",
   "metadata": {},
   "outputs": [
    {
     "data": {
      "text/plain": [
       "2"
      ]
     },
     "execution_count": 25,
     "metadata": {},
     "output_type": "execute_result"
    }
   ],
   "source": [
    "lst.count(30)"
   ]
  },
  {
   "cell_type": "markdown",
   "id": "f7c0bef4",
   "metadata": {},
   "source": [
    "# 5) extend()"
   ]
  },
  {
   "cell_type": "code",
   "execution_count": 27,
   "id": "c94e09fa",
   "metadata": {},
   "outputs": [
    {
     "name": "stdout",
     "output_type": "stream",
     "text": [
      "Help on method_descriptor:\n",
      "\n",
      "extend(self, iterable, /)\n",
      "    Extend list by appending elements from the iterable.\n",
      "\n"
     ]
    }
   ],
   "source": [
    "help(list.extend)"
   ]
  },
  {
   "cell_type": "code",
   "execution_count": 28,
   "id": "633515ee",
   "metadata": {},
   "outputs": [
    {
     "name": "stdout",
     "output_type": "stream",
     "text": [
      "None\n"
     ]
    }
   ],
   "source": [
    "lst=[1,2,3,4,5]\n",
    "lst2=[11,12,13,14]\n",
    "\n",
    "print(lst.extend(lst2))"
   ]
  },
  {
   "cell_type": "code",
   "execution_count": 31,
   "id": "ff5fdd2e",
   "metadata": {},
   "outputs": [],
   "source": [
    "List1=[1,2,3,4]\n",
    "List2=[11,12,13,1]\n",
    "List1.extend(List2)"
   ]
  },
  {
   "cell_type": "code",
   "execution_count": 32,
   "id": "06c562a0",
   "metadata": {},
   "outputs": [
    {
     "data": {
      "text/plain": [
       "[1, 2, 3, 4, 11, 12, 13, 1]"
      ]
     },
     "execution_count": 32,
     "metadata": {},
     "output_type": "execute_result"
    }
   ],
   "source": [
    "List1"
   ]
  },
  {
   "cell_type": "code",
   "execution_count": 33,
   "id": "6902e45b",
   "metadata": {},
   "outputs": [
    {
     "name": "stdout",
     "output_type": "stream",
     "text": [
      "Help on method_descriptor:\n",
      "\n",
      "index(self, value, start=0, stop=9223372036854775807, /)\n",
      "    Return first index of value.\n",
      "    \n",
      "    Raises ValueError if the value is not present.\n",
      "\n"
     ]
    }
   ],
   "source": [
    "help(list.index)"
   ]
  },
  {
   "cell_type": "code",
   "execution_count": 34,
   "id": "09856213",
   "metadata": {},
   "outputs": [
    {
     "data": {
      "text/plain": [
       "[1, 2, 3, 4, 11, 12, 13, 1]"
      ]
     },
     "execution_count": 34,
     "metadata": {},
     "output_type": "execute_result"
    }
   ],
   "source": [
    "List1"
   ]
  },
  {
   "cell_type": "code",
   "execution_count": 36,
   "id": "7a867805",
   "metadata": {},
   "outputs": [
    {
     "data": {
      "text/plain": [
       "7"
      ]
     },
     "execution_count": 36,
     "metadata": {},
     "output_type": "execute_result"
    }
   ],
   "source": [
    "List1.index(1,2)"
   ]
  },
  {
   "cell_type": "code",
   "execution_count": 37,
   "id": "bbddd514",
   "metadata": {},
   "outputs": [
    {
     "data": {
      "text/plain": [
       "3"
      ]
     },
     "execution_count": 37,
     "metadata": {},
     "output_type": "execute_result"
    }
   ],
   "source": [
    "List2=[111,113,112,143]\n",
    "\n",
    "List2.index(143)"
   ]
  },
  {
   "cell_type": "code",
   "execution_count": 38,
   "id": "dabe3783",
   "metadata": {},
   "outputs": [],
   "source": [
    "List2.append(113)"
   ]
  },
  {
   "cell_type": "code",
   "execution_count": 39,
   "id": "90ff57a0",
   "metadata": {},
   "outputs": [
    {
     "data": {
      "text/plain": [
       "4"
      ]
     },
     "execution_count": 39,
     "metadata": {},
     "output_type": "execute_result"
    }
   ],
   "source": [
    "List2.index(113,2)"
   ]
  },
  {
   "cell_type": "code",
   "execution_count": 40,
   "id": "05776b09",
   "metadata": {},
   "outputs": [
    {
     "data": {
      "text/plain": [
       "1"
      ]
     },
     "execution_count": 40,
     "metadata": {},
     "output_type": "execute_result"
    }
   ],
   "source": [
    "List2.index(113)"
   ]
  },
  {
   "cell_type": "markdown",
   "id": "6c182561",
   "metadata": {},
   "source": [
    "# 6) insert()"
   ]
  },
  {
   "cell_type": "code",
   "execution_count": 41,
   "id": "295825c8",
   "metadata": {},
   "outputs": [
    {
     "name": "stdout",
     "output_type": "stream",
     "text": [
      "Help on method_descriptor:\n",
      "\n",
      "insert(self, index, object, /)\n",
      "    Insert object before index.\n",
      "\n"
     ]
    }
   ],
   "source": [
    "help(list.insert)"
   ]
  },
  {
   "cell_type": "code",
   "execution_count": 42,
   "id": "2b2dd850",
   "metadata": {},
   "outputs": [
    {
     "data": {
      "text/plain": [
       "[1, 2, 3, 4, 11, 12, 13, 1]"
      ]
     },
     "execution_count": 42,
     "metadata": {},
     "output_type": "execute_result"
    }
   ],
   "source": [
    "List1"
   ]
  },
  {
   "cell_type": "code",
   "execution_count": 43,
   "id": "0004c38b",
   "metadata": {},
   "outputs": [],
   "source": [
    "List1.insert(1,5)"
   ]
  },
  {
   "cell_type": "code",
   "execution_count": 44,
   "id": "10774167",
   "metadata": {},
   "outputs": [
    {
     "data": {
      "text/plain": [
       "[1, 5, 2, 3, 4, 11, 12, 13, 1]"
      ]
     },
     "execution_count": 44,
     "metadata": {},
     "output_type": "execute_result"
    }
   ],
   "source": [
    "List1"
   ]
  },
  {
   "cell_type": "markdown",
   "id": "a7b89e2b",
   "metadata": {},
   "source": [
    "# 7) pop()"
   ]
  },
  {
   "cell_type": "code",
   "execution_count": 45,
   "id": "cc335697",
   "metadata": {},
   "outputs": [
    {
     "name": "stdout",
     "output_type": "stream",
     "text": [
      "Help on method_descriptor:\n",
      "\n",
      "pop(self, index=-1, /)\n",
      "    Remove and return item at index (default last).\n",
      "    \n",
      "    Raises IndexError if list is empty or index is out of range.\n",
      "\n"
     ]
    }
   ],
   "source": [
    "help(list.pop)"
   ]
  },
  {
   "cell_type": "code",
   "execution_count": 46,
   "id": "26e19255",
   "metadata": {},
   "outputs": [
    {
     "data": {
      "text/plain": [
       "[1, 5, 2, 3, 4, 11, 12, 13, 1]"
      ]
     },
     "execution_count": 46,
     "metadata": {},
     "output_type": "execute_result"
    }
   ],
   "source": [
    "List1"
   ]
  },
  {
   "cell_type": "code",
   "execution_count": 47,
   "id": "be988321",
   "metadata": {},
   "outputs": [
    {
     "data": {
      "text/plain": [
       "7"
      ]
     },
     "execution_count": 47,
     "metadata": {},
     "output_type": "execute_result"
    }
   ],
   "source": [
    "List1.index(13)"
   ]
  },
  {
   "cell_type": "code",
   "execution_count": 48,
   "id": "67dccf64",
   "metadata": {},
   "outputs": [
    {
     "data": {
      "text/plain": [
       "13"
      ]
     },
     "execution_count": 48,
     "metadata": {},
     "output_type": "execute_result"
    }
   ],
   "source": [
    "List1.pop(7)"
   ]
  },
  {
   "cell_type": "code",
   "execution_count": 49,
   "id": "ac04db2f",
   "metadata": {},
   "outputs": [
    {
     "data": {
      "text/plain": [
       "[1, 5, 2, 3, 4, 11, 12, 1]"
      ]
     },
     "execution_count": 49,
     "metadata": {},
     "output_type": "execute_result"
    }
   ],
   "source": [
    "List1"
   ]
  },
  {
   "cell_type": "code",
   "execution_count": 50,
   "id": "8bfd206e",
   "metadata": {},
   "outputs": [
    {
     "data": {
      "text/plain": [
       "1"
      ]
     },
     "execution_count": 50,
     "metadata": {},
     "output_type": "execute_result"
    }
   ],
   "source": [
    "List1.pop()"
   ]
  },
  {
   "cell_type": "code",
   "execution_count": 51,
   "id": "171db88c",
   "metadata": {},
   "outputs": [
    {
     "data": {
      "text/plain": [
       "12"
      ]
     },
     "execution_count": 51,
     "metadata": {},
     "output_type": "execute_result"
    }
   ],
   "source": [
    "List1.pop()"
   ]
  },
  {
   "cell_type": "markdown",
   "id": "e608efcf",
   "metadata": {},
   "source": [
    "# 8) remove()"
   ]
  },
  {
   "cell_type": "code",
   "execution_count": 52,
   "id": "f7be3d00",
   "metadata": {},
   "outputs": [
    {
     "name": "stdout",
     "output_type": "stream",
     "text": [
      "Help on method_descriptor:\n",
      "\n",
      "remove(self, value, /)\n",
      "    Remove first occurrence of value.\n",
      "    \n",
      "    Raises ValueError if the value is not present.\n",
      "\n"
     ]
    }
   ],
   "source": [
    "help(list.remove)"
   ]
  },
  {
   "cell_type": "code",
   "execution_count": 53,
   "id": "4eb03bc1",
   "metadata": {},
   "outputs": [
    {
     "data": {
      "text/plain": [
       "[111, 113, 112, 143, 113]"
      ]
     },
     "execution_count": 53,
     "metadata": {},
     "output_type": "execute_result"
    }
   ],
   "source": [
    "List2"
   ]
  },
  {
   "cell_type": "code",
   "execution_count": 54,
   "id": "7b86154f",
   "metadata": {},
   "outputs": [],
   "source": [
    "List2.remove(113)"
   ]
  },
  {
   "cell_type": "code",
   "execution_count": 55,
   "id": "4b91e3c3",
   "metadata": {},
   "outputs": [
    {
     "data": {
      "text/plain": [
       "[111, 112, 143, 113]"
      ]
     },
     "execution_count": 55,
     "metadata": {},
     "output_type": "execute_result"
    }
   ],
   "source": [
    "List2"
   ]
  },
  {
   "cell_type": "code",
   "execution_count": 56,
   "id": "47044af9",
   "metadata": {},
   "outputs": [],
   "source": [
    "List2.insert(1,113)"
   ]
  },
  {
   "cell_type": "code",
   "execution_count": 57,
   "id": "f2283e24",
   "metadata": {},
   "outputs": [
    {
     "data": {
      "text/plain": [
       "[111, 113, 112, 143, 113]"
      ]
     },
     "execution_count": 57,
     "metadata": {},
     "output_type": "execute_result"
    }
   ],
   "source": [
    "List2"
   ]
  },
  {
   "cell_type": "code",
   "execution_count": 58,
   "id": "cf14fc6d",
   "metadata": {},
   "outputs": [
    {
     "data": {
      "text/plain": [
       "4"
      ]
     },
     "execution_count": 58,
     "metadata": {},
     "output_type": "execute_result"
    }
   ],
   "source": [
    "List2.index(113,2)"
   ]
  },
  {
   "cell_type": "code",
   "execution_count": 59,
   "id": "2540049d",
   "metadata": {},
   "outputs": [
    {
     "data": {
      "text/plain": [
       "113"
      ]
     },
     "execution_count": 59,
     "metadata": {},
     "output_type": "execute_result"
    }
   ],
   "source": [
    "List2.pop(4)"
   ]
  },
  {
   "cell_type": "code",
   "execution_count": 60,
   "id": "c24a4a6e",
   "metadata": {},
   "outputs": [
    {
     "data": {
      "text/plain": [
       "[111, 113, 112, 143]"
      ]
     },
     "execution_count": 60,
     "metadata": {},
     "output_type": "execute_result"
    }
   ],
   "source": [
    "List2"
   ]
  },
  {
   "cell_type": "markdown",
   "id": "54f361af",
   "metadata": {},
   "source": [
    "# 9) reverse()"
   ]
  },
  {
   "cell_type": "code",
   "execution_count": 61,
   "id": "2fe0b460",
   "metadata": {},
   "outputs": [
    {
     "name": "stdout",
     "output_type": "stream",
     "text": [
      "Help on method_descriptor:\n",
      "\n",
      "reverse(self, /)\n",
      "    Reverse *IN PLACE*.\n",
      "\n"
     ]
    }
   ],
   "source": [
    "help(list.reverse)"
   ]
  },
  {
   "cell_type": "code",
   "execution_count": 62,
   "id": "87e062a4",
   "metadata": {},
   "outputs": [
    {
     "data": {
      "text/plain": [
       "[1, 5, 2, 3, 4, 11]"
      ]
     },
     "execution_count": 62,
     "metadata": {},
     "output_type": "execute_result"
    }
   ],
   "source": [
    "List1"
   ]
  },
  {
   "cell_type": "code",
   "execution_count": 63,
   "id": "4ca8c828",
   "metadata": {},
   "outputs": [],
   "source": [
    "List1.reverse()"
   ]
  },
  {
   "cell_type": "code",
   "execution_count": 64,
   "id": "f67b7c7e",
   "metadata": {},
   "outputs": [
    {
     "data": {
      "text/plain": [
       "[11, 4, 3, 2, 5, 1]"
      ]
     },
     "execution_count": 64,
     "metadata": {},
     "output_type": "execute_result"
    }
   ],
   "source": [
    "List1"
   ]
  },
  {
   "cell_type": "code",
   "execution_count": 65,
   "id": "8f316369",
   "metadata": {},
   "outputs": [
    {
     "data": {
      "text/plain": [
       "[111, 113, 112, 143]"
      ]
     },
     "execution_count": 65,
     "metadata": {},
     "output_type": "execute_result"
    }
   ],
   "source": [
    "List2"
   ]
  },
  {
   "cell_type": "code",
   "execution_count": 66,
   "id": "cf151e19",
   "metadata": {},
   "outputs": [],
   "source": [
    "List2.reverse()"
   ]
  },
  {
   "cell_type": "code",
   "execution_count": 67,
   "id": "820eb92c",
   "metadata": {},
   "outputs": [
    {
     "data": {
      "text/plain": [
       "[143, 112, 113, 111]"
      ]
     },
     "execution_count": 67,
     "metadata": {},
     "output_type": "execute_result"
    }
   ],
   "source": [
    "List2"
   ]
  },
  {
   "cell_type": "markdown",
   "id": "5a508a83",
   "metadata": {},
   "source": [
    "# 10) sort()"
   ]
  },
  {
   "cell_type": "code",
   "execution_count": 68,
   "id": "547da57e",
   "metadata": {},
   "outputs": [
    {
     "name": "stdout",
     "output_type": "stream",
     "text": [
      "Help on method_descriptor:\n",
      "\n",
      "sort(self, /, *, key=None, reverse=False)\n",
      "    Sort the list in ascending order and return None.\n",
      "    \n",
      "    The sort is in-place (i.e. the list itself is modified) and stable (i.e. the\n",
      "    order of two equal elements is maintained).\n",
      "    \n",
      "    If a key function is given, apply it once to each list item and sort them,\n",
      "    ascending or descending, according to their function values.\n",
      "    \n",
      "    The reverse flag can be set to sort in descending order.\n",
      "\n"
     ]
    }
   ],
   "source": [
    "help(list.sort)"
   ]
  },
  {
   "cell_type": "code",
   "execution_count": 69,
   "id": "73344987",
   "metadata": {},
   "outputs": [
    {
     "data": {
      "text/plain": [
       "[11, 4, 3, 2, 5, 1]"
      ]
     },
     "execution_count": 69,
     "metadata": {},
     "output_type": "execute_result"
    }
   ],
   "source": [
    "List1"
   ]
  },
  {
   "cell_type": "code",
   "execution_count": 70,
   "id": "baf18dd9",
   "metadata": {},
   "outputs": [],
   "source": [
    "List1.sort(reverse=True)"
   ]
  },
  {
   "cell_type": "code",
   "execution_count": 71,
   "id": "95b23cc9",
   "metadata": {},
   "outputs": [
    {
     "data": {
      "text/plain": [
       "[11, 5, 4, 3, 2, 1]"
      ]
     },
     "execution_count": 71,
     "metadata": {},
     "output_type": "execute_result"
    }
   ],
   "source": [
    "List1"
   ]
  },
  {
   "cell_type": "code",
   "execution_count": 5,
   "id": "e159a2ea",
   "metadata": {},
   "outputs": [
    {
     "name": "stdout",
     "output_type": "stream",
     "text": [
      "[1, 1, 2, 2, 4, 4, 5, 5, 12, 12, 13, 14]\n"
     ]
    }
   ],
   "source": [
    "num=[12,13,14,1,2,4,1,5,12,2,5,4]\n",
    "\n",
    "x=num.sort()\n",
    "print(num)"
   ]
  },
  {
   "cell_type": "code",
   "execution_count": 2,
   "id": "8a9c1b68",
   "metadata": {},
   "outputs": [
    {
     "data": {
      "text/plain": [
       "[1, 1, 2, 2, 4, 4, 5, 5, 12, 12, 13, 14]"
      ]
     },
     "execution_count": 2,
     "metadata": {},
     "output_type": "execute_result"
    }
   ],
   "source": [
    "num"
   ]
  },
  {
   "cell_type": "code",
   "execution_count": 3,
   "id": "278e5913",
   "metadata": {},
   "outputs": [],
   "source": [
    "num.sort()"
   ]
  },
  {
   "cell_type": "code",
   "execution_count": 4,
   "id": "e82a06e5",
   "metadata": {},
   "outputs": [
    {
     "data": {
      "text/plain": [
       "[1, 1, 2, 2, 4, 4, 5, 5, 12, 12, 13, 14]"
      ]
     },
     "execution_count": 4,
     "metadata": {},
     "output_type": "execute_result"
    }
   ],
   "source": [
    "num"
   ]
  },
  {
   "cell_type": "code",
   "execution_count": null,
   "id": "022206de",
   "metadata": {},
   "outputs": [],
   "source": []
  },
  {
   "cell_type": "code",
   "execution_count": 72,
   "id": "07ec7545",
   "metadata": {},
   "outputs": [],
   "source": [
    "List1.sort(reverse=False)"
   ]
  },
  {
   "cell_type": "code",
   "execution_count": 73,
   "id": "bbf40c33",
   "metadata": {},
   "outputs": [
    {
     "data": {
      "text/plain": [
       "[1, 2, 3, 4, 5, 11]"
      ]
     },
     "execution_count": 73,
     "metadata": {},
     "output_type": "execute_result"
    }
   ],
   "source": [
    "List1"
   ]
  },
  {
   "cell_type": "code",
   "execution_count": 76,
   "id": "2f6a7415",
   "metadata": {},
   "outputs": [
    {
     "name": "stdout",
     "output_type": "stream",
     "text": [
      "None\n",
      "None\n"
     ]
    }
   ],
   "source": [
    "lst=['Vikas','python','ram']\n",
    "\n",
    "print(lst.sort(key=len,reverse=True))\n",
    "print(lst.sort(key=len,reverse=False))"
   ]
  },
  {
   "cell_type": "code",
   "execution_count": 75,
   "id": "786cec01",
   "metadata": {},
   "outputs": [
    {
     "data": {
      "text/plain": [
       "['python', 'Vikas', 'ram']"
      ]
     },
     "execution_count": 75,
     "metadata": {},
     "output_type": "execute_result"
    }
   ],
   "source": [
    "lst"
   ]
  },
  {
   "cell_type": "code",
   "execution_count": 77,
   "id": "6cc724b9",
   "metadata": {},
   "outputs": [
    {
     "data": {
      "text/plain": [
       "['ram', 'Vikas', 'python']"
      ]
     },
     "execution_count": 77,
     "metadata": {},
     "output_type": "execute_result"
    }
   ],
   "source": [
    "lst"
   ]
  },
  {
   "cell_type": "code",
   "execution_count": 78,
   "id": "f1543f34",
   "metadata": {},
   "outputs": [],
   "source": [
    "List = [2.3, 4.445, 3, 5.33, 1.054, 2.5]\n",
    "\n",
    "List.sort()"
   ]
  },
  {
   "cell_type": "code",
   "execution_count": 79,
   "id": "33176cdb",
   "metadata": {},
   "outputs": [
    {
     "data": {
      "text/plain": [
       "[1.054, 2.3, 2.5, 3, 4.445, 5.33]"
      ]
     },
     "execution_count": 79,
     "metadata": {},
     "output_type": "execute_result"
    }
   ],
   "source": [
    "List"
   ]
  },
  {
   "cell_type": "code",
   "execution_count": 80,
   "id": "ba96bac5",
   "metadata": {},
   "outputs": [],
   "source": [
    "List.sort(reverse=True)"
   ]
  },
  {
   "cell_type": "code",
   "execution_count": 81,
   "id": "ebbbb8d0",
   "metadata": {},
   "outputs": [
    {
     "data": {
      "text/plain": [
       "[5.33, 4.445, 3, 2.5, 2.3, 1.054]"
      ]
     },
     "execution_count": 81,
     "metadata": {},
     "output_type": "execute_result"
    }
   ],
   "source": [
    "List"
   ]
  },
  {
   "cell_type": "code",
   "execution_count": 82,
   "id": "4aa0154e",
   "metadata": {},
   "outputs": [
    {
     "data": {
      "text/plain": [
       "[5.33, 4.445, 3, 2.5, 2.3, 1.054]"
      ]
     },
     "execution_count": 82,
     "metadata": {},
     "output_type": "execute_result"
    }
   ],
   "source": [
    "List"
   ]
  },
  {
   "cell_type": "code",
   "execution_count": 83,
   "id": "6084370c",
   "metadata": {},
   "outputs": [
    {
     "data": {
      "text/plain": [
       "6"
      ]
     },
     "execution_count": 83,
     "metadata": {},
     "output_type": "execute_result"
    }
   ],
   "source": [
    "len(List)"
   ]
  },
  {
   "cell_type": "code",
   "execution_count": 84,
   "id": "e50e9b5b",
   "metadata": {},
   "outputs": [
    {
     "data": {
      "text/plain": [
       "5.33"
      ]
     },
     "execution_count": 84,
     "metadata": {},
     "output_type": "execute_result"
    }
   ],
   "source": [
    "List[0]"
   ]
  },
  {
   "cell_type": "code",
   "execution_count": 86,
   "id": "846d8ac6",
   "metadata": {},
   "outputs": [
    {
     "data": {
      "text/plain": [
       "1.054"
      ]
     },
     "execution_count": 86,
     "metadata": {},
     "output_type": "execute_result"
    }
   ],
   "source": [
    "List[5]"
   ]
  },
  {
   "cell_type": "code",
   "execution_count": 87,
   "id": "983d4e28",
   "metadata": {},
   "outputs": [],
   "source": [
    "List[3]=5"
   ]
  },
  {
   "cell_type": "code",
   "execution_count": 88,
   "id": "e6697dbe",
   "metadata": {},
   "outputs": [
    {
     "data": {
      "text/plain": [
       "[5.33, 4.445, 3, 5, 2.3, 1.054]"
      ]
     },
     "execution_count": 88,
     "metadata": {},
     "output_type": "execute_result"
    }
   ],
   "source": [
    "List"
   ]
  },
  {
   "cell_type": "code",
   "execution_count": 89,
   "id": "f5927d03",
   "metadata": {},
   "outputs": [
    {
     "data": {
      "text/plain": [
       "5"
      ]
     },
     "execution_count": 89,
     "metadata": {},
     "output_type": "execute_result"
    }
   ],
   "source": [
    "List[3]"
   ]
  },
  {
   "cell_type": "markdown",
   "id": "54c99e2b",
   "metadata": {},
   "source": [
    "# Built-in functions with list"
   ]
  },
  {
   "cell_type": "markdown",
   "id": "ab2e06ad",
   "metadata": {},
   "source": [
    "## 1) reduce()"
   ]
  },
  {
   "cell_type": "markdown",
   "id": "43a78d93",
   "metadata": {},
   "source": [
    "- reduce(func,seq)"
   ]
  },
  {
   "cell_type": "code",
   "execution_count": 93,
   "id": "7dd72196",
   "metadata": {},
   "outputs": [],
   "source": [
    "import functools"
   ]
  },
  {
   "cell_type": "code",
   "execution_count": 94,
   "id": "3f57337a",
   "metadata": {},
   "outputs": [
    {
     "name": "stdout",
     "output_type": "stream",
     "text": [
      "['RLock', 'WRAPPER_ASSIGNMENTS', 'WRAPPER_UPDATES', '_CacheInfo', '_HashedSeq', '_NOT_FOUND', '__all__', '__builtins__', '__cached__', '__doc__', '__file__', '__loader__', '__name__', '__package__', '__spec__', '_c3_merge', '_c3_mro', '_compose_mro', '_convert', '_find_impl', '_ge_from_gt', '_ge_from_le', '_ge_from_lt', '_gt_from_ge', '_gt_from_le', '_gt_from_lt', '_initial_missing', '_le_from_ge', '_le_from_gt', '_le_from_lt', '_lru_cache_wrapper', '_lt_from_ge', '_lt_from_gt', '_lt_from_le', '_make_key', '_unwrap_partial', 'cached_property', 'cmp_to_key', 'get_cache_token', 'lru_cache', 'namedtuple', 'partial', 'partialmethod', 'recursive_repr', 'reduce', 'singledispatch', 'singledispatchmethod', 'total_ordering', 'update_wrapper', 'wraps']\n"
     ]
    }
   ],
   "source": [
    "print(dir(functools))"
   ]
  },
  {
   "cell_type": "code",
   "execution_count": 95,
   "id": "d1a9e1a8",
   "metadata": {},
   "outputs": [
    {
     "name": "stdout",
     "output_type": "stream",
     "text": [
      "Help on built-in function reduce in module _functools:\n",
      "\n",
      "reduce(...)\n",
      "    reduce(function, sequence[, initial]) -> value\n",
      "    \n",
      "    Apply a function of two arguments cumulatively to the items of a sequence,\n",
      "    from left to right, so as to reduce the sequence to a single value.\n",
      "    For example, reduce(lambda x, y: x+y, [1, 2, 3, 4, 5]) calculates\n",
      "    ((((1+2)+3)+4)+5).  If initial is present, it is placed before the items\n",
      "    of the sequence in the calculation, and serves as a default when the\n",
      "    sequence is empty.\n",
      "\n"
     ]
    }
   ],
   "source": [
    "help(functools.reduce)"
   ]
  },
  {
   "cell_type": "code",
   "execution_count": 96,
   "id": "30181e6a",
   "metadata": {},
   "outputs": [],
   "source": [
    "from functools import reduce"
   ]
  },
  {
   "cell_type": "code",
   "execution_count": 97,
   "id": "1210bdbd",
   "metadata": {},
   "outputs": [],
   "source": [
    "lst=[1,2,3,4,5]"
   ]
  },
  {
   "cell_type": "code",
   "execution_count": 98,
   "id": "464b26ff",
   "metadata": {},
   "outputs": [
    {
     "name": "stdout",
     "output_type": "stream",
     "text": [
      "15\n"
     ]
    }
   ],
   "source": [
    "print(reduce((lambda a,b:a+b),lst))"
   ]
  },
  {
   "cell_type": "code",
   "execution_count": 100,
   "id": "46d08842",
   "metadata": {},
   "outputs": [
    {
     "name": "stdout",
     "output_type": "stream",
     "text": [
      "The max value of lst: 5\n"
     ]
    }
   ],
   "source": [
    "print(\"The max value of lst: \",end='')\n",
    "print(reduce((lambda a,b: a if a>b else b),lst))"
   ]
  },
  {
   "cell_type": "code",
   "execution_count": 101,
   "id": "58a67b0b",
   "metadata": {},
   "outputs": [],
   "source": [
    "import operator"
   ]
  },
  {
   "cell_type": "code",
   "execution_count": 102,
   "id": "7ee45b35",
   "metadata": {},
   "outputs": [
    {
     "name": "stdout",
     "output_type": "stream",
     "text": [
      "['__abs__', '__add__', '__all__', '__and__', '__builtins__', '__cached__', '__concat__', '__contains__', '__delitem__', '__doc__', '__eq__', '__file__', '__floordiv__', '__ge__', '__getitem__', '__gt__', '__iadd__', '__iand__', '__iconcat__', '__ifloordiv__', '__ilshift__', '__imatmul__', '__imod__', '__imul__', '__index__', '__inv__', '__invert__', '__ior__', '__ipow__', '__irshift__', '__isub__', '__itruediv__', '__ixor__', '__le__', '__loader__', '__lshift__', '__lt__', '__matmul__', '__mod__', '__mul__', '__name__', '__ne__', '__neg__', '__not__', '__or__', '__package__', '__pos__', '__pow__', '__rshift__', '__setitem__', '__spec__', '__sub__', '__truediv__', '__xor__', '_abs', 'abs', 'add', 'and_', 'attrgetter', 'concat', 'contains', 'countOf', 'delitem', 'eq', 'floordiv', 'ge', 'getitem', 'gt', 'iadd', 'iand', 'iconcat', 'ifloordiv', 'ilshift', 'imatmul', 'imod', 'imul', 'index', 'indexOf', 'inv', 'invert', 'ior', 'ipow', 'irshift', 'is_', 'is_not', 'isub', 'itemgetter', 'itruediv', 'ixor', 'le', 'length_hint', 'lshift', 'lt', 'matmul', 'methodcaller', 'mod', 'mul', 'ne', 'neg', 'not_', 'or_', 'pos', 'pow', 'rshift', 'setitem', 'sub', 'truediv', 'truth', 'xor']\n"
     ]
    }
   ],
   "source": [
    "print(dir(operator))"
   ]
  },
  {
   "cell_type": "code",
   "execution_count": 106,
   "id": "f0ec82be",
   "metadata": {},
   "outputs": [],
   "source": [
    "from operator import add,mul,pow,sub"
   ]
  },
  {
   "cell_type": "code",
   "execution_count": 105,
   "id": "082a37b2",
   "metadata": {},
   "outputs": [
    {
     "name": "stdout",
     "output_type": "stream",
     "text": [
      "15\n"
     ]
    }
   ],
   "source": [
    "print(reduce((lambda a,b:add(a,b)),lst))"
   ]
  },
  {
   "cell_type": "code",
   "execution_count": 107,
   "id": "1903cecc",
   "metadata": {},
   "outputs": [
    {
     "name": "stdout",
     "output_type": "stream",
     "text": [
      "-13\n"
     ]
    }
   ],
   "source": [
    "print(reduce((lambda a,b:sub(a,b)),lst))"
   ]
  },
  {
   "cell_type": "code",
   "execution_count": 108,
   "id": "917c7e47",
   "metadata": {},
   "outputs": [
    {
     "data": {
      "text/plain": [
       "-13"
      ]
     },
     "execution_count": 108,
     "metadata": {},
     "output_type": "execute_result"
    }
   ],
   "source": [
    "1-2-3-4-5"
   ]
  },
  {
   "cell_type": "code",
   "execution_count": 109,
   "id": "d47d0c63",
   "metadata": {},
   "outputs": [
    {
     "name": "stdout",
     "output_type": "stream",
     "text": [
      "120\n"
     ]
    }
   ],
   "source": [
    "print(reduce((lambda a,b:mul(a,b)),lst))"
   ]
  },
  {
   "cell_type": "code",
   "execution_count": 110,
   "id": "4f925357",
   "metadata": {},
   "outputs": [
    {
     "data": {
      "text/plain": [
       "120"
      ]
     },
     "execution_count": 110,
     "metadata": {},
     "output_type": "execute_result"
    }
   ],
   "source": [
    "1*2*3*4*5"
   ]
  },
  {
   "cell_type": "markdown",
   "id": "4eb9d39e",
   "metadata": {},
   "source": [
    "# Find the Number Occurring Odd Number of Times using Lambda expression and reduce function"
   ]
  },
  {
   "cell_type": "markdown",
   "id": "ec72a3ca",
   "metadata": {},
   "source": [
    "- Given an array of positive integers. All numbers occur even number of times except one number which occurs odd number of times. Find the number in O(n) time & constant space."
   ]
  },
  {
   "cell_type": "code",
   "execution_count": null,
   "id": "1149496e",
   "metadata": {},
   "outputs": [],
   "source": [
    "Examples:\n",
    "\n",
    "Input :  [1, 2, 3, 2, 3, 1, 3]\n",
    "Output :  3"
   ]
  },
  {
   "cell_type": "code",
   "execution_count": 113,
   "id": "4b64d2db",
   "metadata": {},
   "outputs": [
    {
     "name": "stdout",
     "output_type": "stream",
     "text": [
      "3\n"
     ]
    }
   ],
   "source": [
    "lst1=[1, 2, 3, 2, 3, 1, 3]\n",
    "\n",
    "print(reduce((lambda a,b: a if lst1.count(a)%2!=0 else b),lst1))"
   ]
  },
  {
   "cell_type": "code",
   "execution_count": 116,
   "id": "c2b42b31",
   "metadata": {},
   "outputs": [
    {
     "name": "stdout",
     "output_type": "stream",
     "text": [
      "10\n"
     ]
    }
   ],
   "source": [
    "lst2=[10,11,12,10,12,11,10,10,10,55,55]\n",
    "\n",
    "print(reduce((lambda a,b: a if lst2.count(a)%2!=0 else b),lst2))"
   ]
  },
  {
   "cell_type": "markdown",
   "id": "2d29f933",
   "metadata": {},
   "source": [
    "# 2) sum()"
   ]
  },
  {
   "cell_type": "code",
   "execution_count": 117,
   "id": "7896b8eb",
   "metadata": {},
   "outputs": [
    {
     "data": {
      "text/plain": [
       "[10, 11, 12, 10, 12, 11, 10, 10, 10, 55, 55]"
      ]
     },
     "execution_count": 117,
     "metadata": {},
     "output_type": "execute_result"
    }
   ],
   "source": [
    "lst2"
   ]
  },
  {
   "cell_type": "code",
   "execution_count": 118,
   "id": "245ccf0f",
   "metadata": {},
   "outputs": [
    {
     "data": {
      "text/plain": [
       "206"
      ]
     },
     "execution_count": 118,
     "metadata": {},
     "output_type": "execute_result"
    }
   ],
   "source": [
    "sum(lst2)"
   ]
  },
  {
   "cell_type": "code",
   "execution_count": 119,
   "id": "76f9bf0a",
   "metadata": {},
   "outputs": [
    {
     "data": {
      "text/plain": [
       "[1, 2, 3, 4, 5]"
      ]
     },
     "execution_count": 119,
     "metadata": {},
     "output_type": "execute_result"
    }
   ],
   "source": [
    "lst"
   ]
  },
  {
   "cell_type": "code",
   "execution_count": 120,
   "id": "6f79ade6",
   "metadata": {},
   "outputs": [
    {
     "data": {
      "text/plain": [
       "15"
      ]
     },
     "execution_count": 120,
     "metadata": {},
     "output_type": "execute_result"
    }
   ],
   "source": [
    "sum(lst)"
   ]
  },
  {
   "cell_type": "markdown",
   "id": "23e86e92",
   "metadata": {},
   "source": [
    "# 3) ord()"
   ]
  },
  {
   "cell_type": "code",
   "execution_count": 122,
   "id": "f1da9197",
   "metadata": {},
   "outputs": [
    {
     "data": {
      "text/plain": [
       "97"
      ]
     },
     "execution_count": 122,
     "metadata": {},
     "output_type": "execute_result"
    }
   ],
   "source": [
    "ord('a')"
   ]
  },
  {
   "cell_type": "code",
   "execution_count": 123,
   "id": "8306829c",
   "metadata": {},
   "outputs": [
    {
     "data": {
      "text/plain": [
       "122"
      ]
     },
     "execution_count": 123,
     "metadata": {},
     "output_type": "execute_result"
    }
   ],
   "source": [
    "ord('z')"
   ]
  },
  {
   "cell_type": "code",
   "execution_count": 124,
   "id": "76ecb4cd",
   "metadata": {},
   "outputs": [
    {
     "data": {
      "text/plain": [
       "65"
      ]
     },
     "execution_count": 124,
     "metadata": {},
     "output_type": "execute_result"
    }
   ],
   "source": [
    "ord('A')"
   ]
  },
  {
   "cell_type": "code",
   "execution_count": 125,
   "id": "6ea5e912",
   "metadata": {},
   "outputs": [
    {
     "data": {
      "text/plain": [
       "90"
      ]
     },
     "execution_count": 125,
     "metadata": {},
     "output_type": "execute_result"
    }
   ],
   "source": [
    "ord('Z')"
   ]
  },
  {
   "cell_type": "code",
   "execution_count": 126,
   "id": "996f52f5",
   "metadata": {},
   "outputs": [
    {
     "ename": "TypeError",
     "evalue": "ord() expected a character, but string of length 2 found",
     "output_type": "error",
     "traceback": [
      "\u001b[1;31m---------------------------------------------------------------------------\u001b[0m",
      "\u001b[1;31mTypeError\u001b[0m                                 Traceback (most recent call last)",
      "\u001b[1;32m<ipython-input-126-e60987c7c1e6>\u001b[0m in \u001b[0;36m<module>\u001b[1;34m\u001b[0m\n\u001b[1;32m----> 1\u001b[1;33m \u001b[0mord\u001b[0m\u001b[1;33m(\u001b[0m\u001b[1;34m'AB'\u001b[0m\u001b[1;33m)\u001b[0m\u001b[1;33m\u001b[0m\u001b[1;33m\u001b[0m\u001b[0m\n\u001b[0m",
      "\u001b[1;31mTypeError\u001b[0m: ord() expected a character, but string of length 2 found"
     ]
    }
   ],
   "source": [
    "ord('AB')"
   ]
  },
  {
   "cell_type": "code",
   "execution_count": 127,
   "id": "aa60776b",
   "metadata": {},
   "outputs": [
    {
     "data": {
      "text/plain": [
       "66"
      ]
     },
     "execution_count": 127,
     "metadata": {},
     "output_type": "execute_result"
    }
   ],
   "source": [
    "ord('B')"
   ]
  },
  {
   "cell_type": "markdown",
   "id": "d58cc9f3",
   "metadata": {},
   "source": [
    "## List comprehension and ord() in Python to remove all characters other than alphabets"
   ]
  },
  {
   "cell_type": "raw",
   "id": "40a56d19",
   "metadata": {},
   "source": [
    "Given a string consisting of alphabets and other characters, remove all the characters other than alphabets and print the string so formed.\n",
    "Examples:\n",
    "\n",
    "Input : str = \"$Gee*k;s..fo, r'Ge^eks?\"\n",
    "Output : GeeksforGeeks"
   ]
  },
  {
   "cell_type": "code",
   "execution_count": null,
   "id": "376b68a3",
   "metadata": {},
   "outputs": [],
   "source": [
    "string=\"$Gee*k;s..fo, r'Ge^eks?\"\n",
    "Output=[string.remove(i) for i in range()]"
   ]
  },
  {
   "cell_type": "code",
   "execution_count": 134,
   "id": "973f1ac8",
   "metadata": {},
   "outputs": [
    {
     "data": {
      "text/plain": [
       "'\\x05'"
      ]
     },
     "execution_count": 134,
     "metadata": {},
     "output_type": "execute_result"
    }
   ],
   "source": [
    "chr(5)"
   ]
  },
  {
   "cell_type": "code",
   "execution_count": 135,
   "id": "3f237b17",
   "metadata": {},
   "outputs": [
    {
     "data": {
      "text/plain": [
       "'\\x01'"
      ]
     },
     "execution_count": 135,
     "metadata": {},
     "output_type": "execute_result"
    }
   ],
   "source": [
    "chr(1)"
   ]
  },
  {
   "cell_type": "code",
   "execution_count": 136,
   "id": "b85a86e4",
   "metadata": {},
   "outputs": [
    {
     "data": {
      "text/plain": [
       "'\\x0f'"
      ]
     },
     "execution_count": 136,
     "metadata": {},
     "output_type": "execute_result"
    }
   ],
   "source": [
    "chr(15)"
   ]
  },
  {
   "cell_type": "code",
   "execution_count": 137,
   "id": "42590ad6",
   "metadata": {},
   "outputs": [
    {
     "data": {
      "text/plain": [
       "'\\x14'"
      ]
     },
     "execution_count": 137,
     "metadata": {},
     "output_type": "execute_result"
    }
   ],
   "source": [
    "chr(20)"
   ]
  },
  {
   "cell_type": "code",
   "execution_count": 138,
   "id": "1bf0e975",
   "metadata": {},
   "outputs": [
    {
     "data": {
      "text/plain": [
       "';'"
      ]
     },
     "execution_count": 138,
     "metadata": {},
     "output_type": "execute_result"
    }
   ],
   "source": [
    "chr(59)"
   ]
  },
  {
   "cell_type": "code",
   "execution_count": 139,
   "id": "f1eaed78",
   "metadata": {},
   "outputs": [
    {
     "data": {
      "text/plain": [
       "'\\x1e'"
      ]
     },
     "execution_count": 139,
     "metadata": {},
     "output_type": "execute_result"
    }
   ],
   "source": [
    "chr(30)"
   ]
  },
  {
   "cell_type": "code",
   "execution_count": 140,
   "id": "1073aedb",
   "metadata": {},
   "outputs": [
    {
     "data": {
      "text/plain": [
       "'('"
      ]
     },
     "execution_count": 140,
     "metadata": {},
     "output_type": "execute_result"
    }
   ],
   "source": [
    "chr(40)"
   ]
  },
  {
   "cell_type": "code",
   "execution_count": 141,
   "id": "57c7db08",
   "metadata": {},
   "outputs": [
    {
     "data": {
      "text/plain": [
       "'#'"
      ]
     },
     "execution_count": 141,
     "metadata": {},
     "output_type": "execute_result"
    }
   ],
   "source": [
    "chr(35)"
   ]
  },
  {
   "cell_type": "code",
   "execution_count": 142,
   "id": "5a091700",
   "metadata": {},
   "outputs": [
    {
     "data": {
      "text/plain": [
       "'\\x1f'"
      ]
     },
     "execution_count": 142,
     "metadata": {},
     "output_type": "execute_result"
    }
   ],
   "source": [
    "chr(31)"
   ]
  },
  {
   "cell_type": "code",
   "execution_count": 143,
   "id": "4695df19",
   "metadata": {},
   "outputs": [
    {
     "data": {
      "text/plain": [
       "' '"
      ]
     },
     "execution_count": 143,
     "metadata": {},
     "output_type": "execute_result"
    }
   ],
   "source": [
    "chr(32)"
   ]
  },
  {
   "cell_type": "code",
   "execution_count": 144,
   "id": "af37fdb6",
   "metadata": {},
   "outputs": [
    {
     "data": {
      "text/plain": [
       "'!'"
      ]
     },
     "execution_count": 144,
     "metadata": {},
     "output_type": "execute_result"
    }
   ],
   "source": [
    "chr(33)"
   ]
  },
  {
   "cell_type": "code",
   "execution_count": 145,
   "id": "3c84cbeb",
   "metadata": {},
   "outputs": [
    {
     "data": {
      "text/plain": [
       "'@'"
      ]
     },
     "execution_count": 145,
     "metadata": {},
     "output_type": "execute_result"
    }
   ],
   "source": [
    "chr(64)"
   ]
  },
  {
   "cell_type": "code",
   "execution_count": 147,
   "id": "30882768",
   "metadata": {},
   "outputs": [
    {
     "name": "stdout",
     "output_type": "stream",
     "text": [
      "  32\n",
      "! 33\n",
      "\" 34\n",
      "# 35\n",
      "$ 36\n",
      "% 37\n",
      "& 38\n",
      "' 39\n",
      "( 40\n",
      ") 41\n",
      "* 42\n",
      "+ 43\n",
      ", 44\n",
      "- 45\n",
      ". 46\n",
      "/ 47\n",
      "0 48\n",
      "1 49\n",
      "2 50\n",
      "3 51\n",
      "4 52\n",
      "5 53\n",
      "6 54\n",
      "7 55\n",
      "8 56\n",
      "9 57\n",
      ": 58\n",
      "; 59\n",
      "< 60\n",
      "= 61\n",
      "> 62\n",
      "? 63\n",
      "@ 64\n"
     ]
    }
   ],
   "source": [
    "for i in range(32,65):\n",
    "    print(chr(i), i)\n",
    "    "
   ]
  },
  {
   "cell_type": "code",
   "execution_count": 148,
   "id": "d1d2c749",
   "metadata": {},
   "outputs": [
    {
     "data": {
      "text/plain": [
       "'A'"
      ]
     },
     "execution_count": 148,
     "metadata": {},
     "output_type": "execute_result"
    }
   ],
   "source": [
    "chr(65)"
   ]
  },
  {
   "cell_type": "code",
   "execution_count": 149,
   "id": "bf912c51",
   "metadata": {},
   "outputs": [],
   "source": [
    "string=\"$Gee*k;s..fo, r'Ge^eks?\"\n",
    "for i in string:\n",
    "    if i in range(32,65):\n",
    "        print(chr(i))"
   ]
  },
  {
   "cell_type": "code",
   "execution_count": 155,
   "id": "9d23226e",
   "metadata": {},
   "outputs": [
    {
     "name": "stdout",
     "output_type": "stream",
     "text": [
      "[]\n"
     ]
    }
   ],
   "source": [
    "x=[chr(i) for i in string if i in range(97,123) and i in range(65,90)]\n",
    "\n",
    "print(x)"
   ]
  },
  {
   "cell_type": "code",
   "execution_count": 161,
   "id": "e2855cb5",
   "metadata": {},
   "outputs": [],
   "source": [
    "s=[i for i in string if ord(i) in range(ord('a'),ord('z')+1,1) or ord(i) in range(ord('A'),ord('Z')+1,1)]\n"
   ]
  },
  {
   "cell_type": "code",
   "execution_count": 162,
   "id": "23f5f056",
   "metadata": {},
   "outputs": [
    {
     "name": "stdout",
     "output_type": "stream",
     "text": [
      "GeeksforGeeks\n"
     ]
    }
   ],
   "source": [
    "print(''.join(s))"
   ]
  },
  {
   "cell_type": "code",
   "execution_count": 168,
   "id": "1691716b",
   "metadata": {},
   "outputs": [
    {
     "name": "stdout",
     "output_type": "stream",
     "text": [
      "GeeksforGeeks\n"
     ]
    }
   ],
   "source": [
    "def removeAll(Input):\n",
    "    \"\"\"\n",
    "    This function removes all special characters from string.\n",
    "    returns only characters.\n",
    "    \"\"\"\n",
    "    x=[char for char in Input if ord(char) in range(ord('a'),ord('z')+1,1) or ord(char) in range(ord('A'),ord('Z')+1,1)]\n",
    "    \n",
    "    return ''.join(x)\n",
    "\n",
    "Input=\"$Gee*k;s..fo, r'Ge^eks?\"\n",
    "\n",
    "print(removeAll(Input))"
   ]
  },
  {
   "cell_type": "code",
   "execution_count": 169,
   "id": "f808037b",
   "metadata": {},
   "outputs": [
    {
     "data": {
      "text/plain": [
       "'Vikas'"
      ]
     },
     "execution_count": 169,
     "metadata": {},
     "output_type": "execute_result"
    }
   ],
   "source": [
    "removeAll(\"2Vi!#$k^&a*%s\")"
   ]
  },
  {
   "cell_type": "code",
   "execution_count": 170,
   "id": "672c59ed",
   "metadata": {},
   "outputs": [
    {
     "name": "stdout",
     "output_type": "stream",
     "text": [
      "Help on function removeAll in module __main__:\n",
      "\n",
      "removeAll(Input)\n",
      "    This function removes all special characters from string.\n",
      "    returns only characters.\n",
      "\n"
     ]
    }
   ],
   "source": [
    "help(removeAll)"
   ]
  },
  {
   "cell_type": "markdown",
   "id": "0e4fadd9",
   "metadata": {},
   "source": [
    "# Write a function to sort the nested list"
   ]
  },
  {
   "cell_type": "code",
   "execution_count": 171,
   "id": "a58a02a0",
   "metadata": {},
   "outputs": [],
   "source": [
    "lst=[10,2,4,50,[60,38,1,5]]\n",
    "# Output:[1,2,4,5,10,38,50,60]"
   ]
  },
  {
   "cell_type": "code",
   "execution_count": 172,
   "id": "ac09b5ef",
   "metadata": {},
   "outputs": [
    {
     "data": {
      "text/plain": [
       "[60, 38, 1, 5]"
      ]
     },
     "execution_count": 172,
     "metadata": {},
     "output_type": "execute_result"
    }
   ],
   "source": [
    "lst[4]"
   ]
  },
  {
   "cell_type": "code",
   "execution_count": 180,
   "id": "565ddc78",
   "metadata": {},
   "outputs": [
    {
     "name": "stdout",
     "output_type": "stream",
     "text": [
      "2 4 10 50 [60, 38, 1, 5]\n"
     ]
    }
   ],
   "source": [
    "print(*lst)"
   ]
  },
  {
   "cell_type": "code",
   "execution_count": 181,
   "id": "86de5849",
   "metadata": {},
   "outputs": [
    {
     "name": "stdout",
     "output_type": "stream",
     "text": [
      "[60, 38, 1, 5]\n"
     ]
    }
   ],
   "source": [
    "lst=[10,2,4,50,[60,38,1,5]]\n",
    "\n",
    "res=[]\n",
    "\n",
    "for ele in lst[4]:\n",
    "    res.append(ele)\n",
    "    \n",
    "print(res)\n",
    "    "
   ]
  },
  {
   "cell_type": "code",
   "execution_count": 188,
   "id": "1ba68c74",
   "metadata": {},
   "outputs": [
    {
     "name": "stdout",
     "output_type": "stream",
     "text": [
      "[1, 2, 4, 5, 10, 38, 50, 60]\n"
     ]
    }
   ],
   "source": [
    "lst=[10,2,4,50,[60,38,1,5]]\n",
    "\n",
    "res=[]\n",
    "\n",
    "for ele in lst[4]:\n",
    "    res.append(ele)\n",
    "    \n",
    "for i in lst[:4]:\n",
    "    res.append(i)\n",
    "    \n",
    "print(sorted(res))"
   ]
  },
  {
   "cell_type": "code",
   "execution_count": 201,
   "id": "9e12d7da",
   "metadata": {},
   "outputs": [
    {
     "name": "stdout",
     "output_type": "stream",
     "text": [
      "[1, 2, 4, 5, 10, 38, 50, 60]\n"
     ]
    }
   ],
   "source": [
    "x=[i for i in lst[4]]\n",
    "y=[j for j in lst[:4]]\n",
    "\n",
    "re=*x,*y\n",
    "print(sorted(re))"
   ]
  },
  {
   "cell_type": "markdown",
   "id": "8f77e8c8",
   "metadata": {},
   "source": []
  },
  {
   "cell_type": "code",
   "execution_count": null,
   "id": "224322f9",
   "metadata": {},
   "outputs": [],
   "source": [
    "I want to create a matrix which looks like below:\n",
    "\n",
    "matrix = [[0, 1, 2, 3, 4],\n",
    "          [0, 1, 2, 3, 4],\n",
    "          [0, 1, 2, 3, 4],\n",
    "          [0, 1, 2, 3, 4],\n",
    "          [0, 1, 2, 3, 4]]"
   ]
  },
  {
   "cell_type": "code",
   "execution_count": 212,
   "id": "dd2aceab",
   "metadata": {},
   "outputs": [
    {
     "name": "stdout",
     "output_type": "stream",
     "text": [
      "[0, 1, 2, 3, 4]\n",
      "[0, 1, 2, 3, 4]\n",
      "[0, 1, 2, 3, 4]\n",
      "[0, 1, 2, 3, 4]\n",
      "[0, 1, 2, 3, 4]\n"
     ]
    }
   ],
   "source": [
    "matrix=[]\n",
    "\n",
    "for i in range(5):\n",
    "    \n",
    "    matrix.append([])\n",
    "    \n",
    "    for j in range(5):\n",
    "        matrix[i].append(j)\n",
    "        \n",
    "print(*matrix,sep ='\\n')"
   ]
  },
  {
   "cell_type": "code",
   "execution_count": 9,
   "id": "2001d48c",
   "metadata": {},
   "outputs": [
    {
     "name": "stdout",
     "output_type": "stream",
     "text": [
      "[0, 1, 2, 3, 4]\n",
      "[0, 1, 2, 3, 4]\n",
      "[0, 1, 2, 3, 4]\n",
      "[0, 1, 2, 3, 4]\n",
      "[0, 1, 2, 3, 4]\n"
     ]
    }
   ],
   "source": [
    "# The same output can be achieved using nested list comprehension in just one line:\n",
    "\n",
    "x=[[i for i in range(5)] for j in range(5)]\n",
    "\n",
    "print(*x,sep='\\n')"
   ]
  },
  {
   "cell_type": "code",
   "execution_count": null,
   "id": "50a479e4",
   "metadata": {},
   "outputs": [],
   "source": []
  },
  {
   "cell_type": "markdown",
   "id": "ae250273",
   "metadata": {},
   "source": [
    "# Sort a list according to the second element in sublist"
   ]
  },
  {
   "cell_type": "code",
   "execution_count": 1,
   "id": "7779fe2a",
   "metadata": {},
   "outputs": [],
   "source": [
    "Input : [['rishav', 10], ['akash', 5], ['ram', 20], ['gaurav', 15]]\n",
    "Output : [['akash', 5], ['rishav', 10], ['gaurav', 15], ['ram', 20]]\n",
    "\n",
    "Input : [['452', 10], ['256', 5], ['100', 20], ['135', 15]]\n",
    "Output : [['256', 5], ['452', 10], ['135', 15], ['100', 20]]"
   ]
  },
  {
   "cell_type": "code",
   "execution_count": 2,
   "id": "e347da4d",
   "metadata": {},
   "outputs": [
    {
     "name": "stdout",
     "output_type": "stream",
     "text": [
      "[['akash', 5], ['rishav', 10], ['gaurav', 15], ['ram', 20]]\n"
     ]
    }
   ],
   "source": [
    "x=[['rishav', 10], ['akash', 5], ['ram', 20], ['gaurav', 15]]\n",
    "\n",
    "a=x.sort(key=lambda y:y[1])\n",
    "print(x)"
   ]
  },
  {
   "cell_type": "code",
   "execution_count": null,
   "id": "797366fe",
   "metadata": {},
   "outputs": [],
   "source": [
    "sorted()"
   ]
  },
  {
   "cell_type": "code",
   "execution_count": 5,
   "id": "d8172855",
   "metadata": {},
   "outputs": [
    {
     "name": "stdout",
     "output_type": "stream",
     "text": [
      "[['256', 5], ['452', 10], ['135', 15], ['100', 20]]\n"
     ]
    }
   ],
   "source": [
    "num=[['452', 10], ['256', 5], ['100', 20], ['135', 15]]\n",
    "\n",
    "num.sort(key=lambda a:a[1])\n",
    "\n",
    "print(num)"
   ]
  },
  {
   "cell_type": "markdown",
   "id": "25107244",
   "metadata": {},
   "source": []
  },
  {
   "cell_type": "raw",
   "id": "0b4ec053",
   "metadata": {},
   "source": [
    "Suppose I want to flatten a given 2-D list:\n",
    "\n",
    "matrix = [[1, 2, 3], [4, 5, 6], [7, 8, 9]]\n",
    "\n",
    "Expected Output: flatten_matrix = [1, 2, 3, 4, 5, 6, 7, 8, 9]"
   ]
  },
  {
   "cell_type": "code",
   "execution_count": 10,
   "id": "e75f6848",
   "metadata": {},
   "outputs": [],
   "source": [
    "matrix = [[1, 2, 3], [4, 5, 6], [7, 8, 9]]"
   ]
  },
  {
   "cell_type": "code",
   "execution_count": 33,
   "id": "f65633ab",
   "metadata": {},
   "outputs": [
    {
     "name": "stdout",
     "output_type": "stream",
     "text": [
      "[1, 2, 3]\n",
      "[4, 5, 6]\n",
      "[7, 8, 9]\n"
     ]
    }
   ],
   "source": [
    "for i in matrix:\n",
    "    print(i)"
   ]
  },
  {
   "cell_type": "code",
   "execution_count": 35,
   "id": "66e39971",
   "metadata": {},
   "outputs": [],
   "source": [
    "res=[]\n",
    "for i in matrix:\n",
    "    for j in i:\n",
    "        res.append(j)"
   ]
  },
  {
   "cell_type": "code",
   "execution_count": 36,
   "id": "2d9317ad",
   "metadata": {},
   "outputs": [
    {
     "data": {
      "text/plain": [
       "[1, 2, 3, 4, 5, 6, 7, 8, 9]"
      ]
     },
     "execution_count": 36,
     "metadata": {},
     "output_type": "execute_result"
    }
   ],
   "source": [
    "res"
   ]
  },
  {
   "cell_type": "code",
   "execution_count": 39,
   "id": "5e650c41",
   "metadata": {},
   "outputs": [
    {
     "name": "stdout",
     "output_type": "stream",
     "text": [
      "[1, 2, 3, 4, 5, 6, 7, 8, 9]\n"
     ]
    }
   ],
   "source": [
    "x=[j for i in matrix for j in i]\n",
    "\n",
    "print(x)"
   ]
  },
  {
   "cell_type": "markdown",
   "id": "889a5856",
   "metadata": {},
   "source": []
  },
  {
   "cell_type": "markdown",
   "id": "851d5f6f",
   "metadata": {},
   "source": [
    "Suppose I want to flatten a given 2-D list and only include those strings whose lengths are less than 6:\n",
    "\n",
    "planets = [[‘Mercury’, ‘Venus’, ‘Earth’], [‘Mars’, ‘Jupiter’, ‘Saturn’], [‘Uranus’, ‘Neptune’, ‘Pluto’]]"
   ]
  },
  {
   "cell_type": "code",
   "execution_count": 41,
   "id": "314e3661",
   "metadata": {},
   "outputs": [],
   "source": [
    "planets = [['Mercury', 'Venus', 'Earth'], ['Mars', 'Jupiter', 'Saturn'], ['Uranus', 'Neptune', 'Pluto']]"
   ]
  },
  {
   "cell_type": "code",
   "execution_count": 42,
   "id": "e0b731c0",
   "metadata": {},
   "outputs": [
    {
     "name": "stdout",
     "output_type": "stream",
     "text": [
      "['Venus', 'Earth', 'Mars', 'Pluto']\n"
     ]
    }
   ],
   "source": [
    "res=[]\n",
    "\n",
    "for sublst in planets:\n",
    "    for ele in sublst:\n",
    "        if len(str(ele))<6:\n",
    "            res.append(ele)\n",
    "            \n",
    "print(res)"
   ]
  },
  {
   "cell_type": "code",
   "execution_count": 45,
   "id": "862c4153",
   "metadata": {},
   "outputs": [
    {
     "name": "stdout",
     "output_type": "stream",
     "text": [
      "['Venus', 'Earth', 'Mars', 'Pluto']\n"
     ]
    }
   ],
   "source": [
    "x=[ele for sublst in planets for ele in sublst if len(ele)<6]\n",
    "\n",
    "print(x)"
   ]
  },
  {
   "cell_type": "code",
   "execution_count": null,
   "id": "f696d126",
   "metadata": {},
   "outputs": [],
   "source": []
  },
  {
   "cell_type": "code",
   "execution_count": null,
   "id": "e4817416",
   "metadata": {},
   "outputs": [],
   "source": []
  },
  {
   "cell_type": "code",
   "execution_count": null,
   "id": "fc608588",
   "metadata": {},
   "outputs": [],
   "source": []
  },
  {
   "cell_type": "code",
   "execution_count": null,
   "id": "06f43191",
   "metadata": {},
   "outputs": [],
   "source": []
  }
 ],
 "metadata": {
  "kernelspec": {
   "display_name": "Python 3",
   "language": "python",
   "name": "python3"
  },
  "language_info": {
   "codemirror_mode": {
    "name": "ipython",
    "version": 3
   },
   "file_extension": ".py",
   "mimetype": "text/x-python",
   "name": "python",
   "nbconvert_exporter": "python",
   "pygments_lexer": "ipython3",
   "version": "3.8.8"
  }
 },
 "nbformat": 4,
 "nbformat_minor": 5
}
