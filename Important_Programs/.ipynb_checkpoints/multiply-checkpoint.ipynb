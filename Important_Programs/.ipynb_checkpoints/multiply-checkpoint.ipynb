{
 "cells": [
  {
   "cell_type": "raw",
   "id": "94b6b8b9",
   "metadata": {},
   "source": [
    "When a Python interpreter reads a Python file, it first sets a few special variables. Then it executes the code from the file."
   ]
  },
  {
   "cell_type": "raw",
   "id": "a59748f1",
   "metadata": {},
   "source": [
    "One of those variables is called __name__."
   ]
  },
  {
   "cell_type": "raw",
   "id": "b9008272",
   "metadata": {},
   "source": [
    "Python files are called modules and they are identified by the .py file extension. A module can define functions, classes, and variables."
   ]
  },
  {
   "cell_type": "raw",
   "id": "4b7ed75f",
   "metadata": {},
   "source": [
    "So when the interpreter runs a module, the __name__ variable will be set as  __main__ if the module that is being run is the main program."
   ]
  },
  {
   "cell_type": "raw",
   "id": "8c7983cc",
   "metadata": {},
   "source": [
    "But if the code is importing the module from another module, then the __name__  variable will be set to that module’s name."
   ]
  },
  {
   "cell_type": "code",
   "execution_count": 1,
   "id": "fe71af91",
   "metadata": {},
   "outputs": [
    {
     "name": "stdout",
     "output_type": "stream",
     "text": [
      "__main__\n"
     ]
    }
   ],
   "source": [
    "print(__name__)"
   ]
  },
  {
   "cell_type": "code",
   "execution_count": 6,
   "id": "f36fe4ee",
   "metadata": {},
   "outputs": [],
   "source": [
    "def mul(a,b):\n",
    "    \"\"\"\n",
    "    Return multiplication of a and b i.e a*b\n",
    "    \"\"\"\n",
    "    return a*b"
   ]
  },
  {
   "cell_type": "code",
   "execution_count": 7,
   "id": "81699996",
   "metadata": {},
   "outputs": [
    {
     "data": {
      "text/plain": [
       "10"
      ]
     },
     "execution_count": 7,
     "metadata": {},
     "output_type": "execute_result"
    }
   ],
   "source": [
    "mul(5,2)"
   ]
  },
  {
   "cell_type": "code",
   "execution_count": null,
   "id": "5bca6c05",
   "metadata": {},
   "outputs": [],
   "source": []
  }
 ],
 "metadata": {
  "kernelspec": {
   "display_name": "Python 3",
   "language": "python",
   "name": "python3"
  },
  "language_info": {
   "codemirror_mode": {
    "name": "ipython",
    "version": 3
   },
   "file_extension": ".py",
   "mimetype": "text/x-python",
   "name": "python",
   "nbconvert_exporter": "python",
   "pygments_lexer": "ipython3",
   "version": "3.8.8"
  }
 },
 "nbformat": 4,
 "nbformat_minor": 5
}
