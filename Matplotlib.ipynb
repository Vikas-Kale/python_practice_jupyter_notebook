{
 "cells": [
  {
   "cell_type": "markdown",
   "id": "26ff03cd",
   "metadata": {},
   "source": [
    "# Matplotlib"
   ]
  },
  {
   "cell_type": "code",
   "execution_count": null,
   "id": "7d6d8e58",
   "metadata": {},
   "outputs": [],
   "source": [
    "- Matplotlib is a python library used for data visualization.\n",
    "- You can create a bar plots,scatter plots,histograms and a lot more with matplotlib."
   ]
  },
  {
   "cell_type": "code",
   "execution_count": 1,
   "id": "7b3972f9",
   "metadata": {
    "ExecuteTime": {
     "end_time": "2021-09-23T13:45:16.957394Z",
     "start_time": "2021-09-23T13:45:12.823994Z"
    }
   },
   "outputs": [],
   "source": [
    "import numpy"
   ]
  },
  {
   "cell_type": "code",
   "execution_count": 2,
   "id": "6b86eef8",
   "metadata": {
    "ExecuteTime": {
     "end_time": "2021-09-23T13:45:25.750694Z",
     "start_time": "2021-09-23T13:45:25.734695Z"
    }
   },
   "outputs": [
    {
     "name": "stdout",
     "output_type": "stream",
     "text": [
      "['ALLOW_THREADS', 'AxisError', 'BUFSIZE', 'Bytes0', 'CLIP', 'ComplexWarning', 'DataSource', 'Datetime64', 'ERR_CALL', 'ERR_DEFAULT', 'ERR_IGNORE', 'ERR_LOG', 'ERR_PRINT', 'ERR_RAISE', 'ERR_WARN', 'FLOATING_POINT_SUPPORT', 'FPE_DIVIDEBYZERO', 'FPE_INVALID', 'FPE_OVERFLOW', 'FPE_UNDERFLOW', 'False_', 'Inf', 'Infinity', 'MAXDIMS', 'MAY_SHARE_BOUNDS', 'MAY_SHARE_EXACT', 'MachAr', 'ModuleDeprecationWarning', 'NAN', 'NINF', 'NZERO', 'NaN', 'PINF', 'PZERO', 'RAISE', 'RankWarning', 'SHIFT_DIVIDEBYZERO', 'SHIFT_INVALID', 'SHIFT_OVERFLOW', 'SHIFT_UNDERFLOW', 'ScalarType', 'Str0', 'Tester', 'TooHardError', 'True_', 'UFUNC_BUFSIZE_DEFAULT', 'UFUNC_PYVALS_NAME', 'Uint64', 'VisibleDeprecationWarning', 'WRAP', '_NoValue', '_UFUNC_API', '__NUMPY_SETUP__', '__all__', '__builtins__', '__cached__', '__config__', '__deprecated_attrs__', '__dir__', '__doc__', '__expired_functions__', '__file__', '__getattr__', '__git_revision__', '__loader__', '__mkl_version__', '__name__', '__package__', '__path__', '__spec__', '__version__', '_add_newdoc_ufunc', '_distributor_init', '_financial_names', '_globals', '_mat', '_pytesttester', 'abs', 'absolute', 'add', 'add_docstring', 'add_newdoc', 'add_newdoc_ufunc', 'alen', 'all', 'allclose', 'alltrue', 'amax', 'amin', 'angle', 'any', 'append', 'apply_along_axis', 'apply_over_axes', 'arange', 'arccos', 'arccosh', 'arcsin', 'arcsinh', 'arctan', 'arctan2', 'arctanh', 'argmax', 'argmin', 'argpartition', 'argsort', 'argwhere', 'around', 'array', 'array2string', 'array_equal', 'array_equiv', 'array_repr', 'array_split', 'array_str', 'asanyarray', 'asarray', 'asarray_chkfinite', 'ascontiguousarray', 'asfarray', 'asfortranarray', 'asmatrix', 'asscalar', 'atleast_1d', 'atleast_2d', 'atleast_3d', 'average', 'bartlett', 'base_repr', 'binary_repr', 'bincount', 'bitwise_and', 'bitwise_not', 'bitwise_or', 'bitwise_xor', 'blackman', 'block', 'bmat', 'bool8', 'bool_', 'broadcast', 'broadcast_arrays', 'broadcast_shapes', 'broadcast_to', 'busday_count', 'busday_offset', 'busdaycalendar', 'byte', 'byte_bounds', 'bytes0', 'bytes_', 'c_', 'can_cast', 'cast', 'cbrt', 'cdouble', 'ceil', 'cfloat', 'char', 'character', 'chararray', 'choose', 'clip', 'clongdouble', 'clongfloat', 'column_stack', 'common_type', 'compare_chararrays', 'compat', 'complex128', 'complex64', 'complex_', 'complexfloating', 'compress', 'concatenate', 'conj', 'conjugate', 'convolve', 'copy', 'copysign', 'copyto', 'core', 'corrcoef', 'correlate', 'cos', 'cosh', 'count_nonzero', 'cov', 'cross', 'csingle', 'ctypeslib', 'cumprod', 'cumproduct', 'cumsum', 'datetime64', 'datetime_as_string', 'datetime_data', 'deg2rad', 'degrees', 'delete', 'deprecate', 'deprecate_with_doc', 'diag', 'diag_indices', 'diag_indices_from', 'diagflat', 'diagonal', 'diff', 'digitize', 'disp', 'divide', 'divmod', 'dot', 'double', 'dsplit', 'dstack', 'dtype', 'e', 'ediff1d', 'einsum', 'einsum_path', 'emath', 'empty', 'empty_like', 'equal', 'errstate', 'euler_gamma', 'exp', 'exp2', 'expand_dims', 'expm1', 'extract', 'eye', 'fabs', 'fastCopyAndTranspose', 'fft', 'fill_diagonal', 'find_common_type', 'finfo', 'fix', 'flatiter', 'flatnonzero', 'flexible', 'flip', 'fliplr', 'flipud', 'float16', 'float32', 'float64', 'float_', 'float_power', 'floating', 'floor', 'floor_divide', 'fmax', 'fmin', 'fmod', 'format_float_positional', 'format_float_scientific', 'format_parser', 'frexp', 'frombuffer', 'fromfile', 'fromfunction', 'fromiter', 'frompyfunc', 'fromregex', 'fromstring', 'full', 'full_like', 'gcd', 'generic', 'genfromtxt', 'geomspace', 'get_array_wrap', 'get_include', 'get_printoptions', 'getbufsize', 'geterr', 'geterrcall', 'geterrobj', 'gradient', 'greater', 'greater_equal', 'half', 'hamming', 'hanning', 'heaviside', 'histogram', 'histogram2d', 'histogram_bin_edges', 'histogramdd', 'hsplit', 'hstack', 'hypot', 'i0', 'identity', 'iinfo', 'imag', 'in1d', 'index_exp', 'indices', 'inexact', 'inf', 'info', 'infty', 'inner', 'insert', 'int0', 'int16', 'int32', 'int64', 'int8', 'int_', 'intc', 'integer', 'interp', 'intersect1d', 'intp', 'invert', 'is_busday', 'isclose', 'iscomplex', 'iscomplexobj', 'isfinite', 'isfortran', 'isin', 'isinf', 'isnan', 'isnat', 'isneginf', 'isposinf', 'isreal', 'isrealobj', 'isscalar', 'issctype', 'issubclass_', 'issubdtype', 'issubsctype', 'iterable', 'ix_', 'kaiser', 'kron', 'lcm', 'ldexp', 'left_shift', 'less', 'less_equal', 'lexsort', 'lib', 'linalg', 'linspace', 'little_endian', 'load', 'loads', 'loadtxt', 'log', 'log10', 'log1p', 'log2', 'logaddexp', 'logaddexp2', 'logical_and', 'logical_not', 'logical_or', 'logical_xor', 'logspace', 'longcomplex', 'longdouble', 'longfloat', 'longlong', 'lookfor', 'ma', 'mafromtxt', 'mask_indices', 'mat', 'math', 'matmul', 'matrix', 'matrixlib', 'max', 'maximum', 'maximum_sctype', 'may_share_memory', 'mean', 'median', 'memmap', 'meshgrid', 'mgrid', 'min', 'min_scalar_type', 'minimum', 'mintypecode', 'mkl', 'mod', 'modf', 'moveaxis', 'msort', 'multiply', 'nan', 'nan_to_num', 'nanargmax', 'nanargmin', 'nancumprod', 'nancumsum', 'nanmax', 'nanmean', 'nanmedian', 'nanmin', 'nanpercentile', 'nanprod', 'nanquantile', 'nanstd', 'nansum', 'nanvar', 'nbytes', 'ndarray', 'ndenumerate', 'ndfromtxt', 'ndim', 'ndindex', 'nditer', 'negative', 'nested_iters', 'newaxis', 'nextafter', 'nonzero', 'not_equal', 'numarray', 'number', 'obj2sctype', 'object0', 'object_', 'ogrid', 'oldnumeric', 'ones', 'ones_like', 'os', 'outer', 'packbits', 'pad', 'partition', 'percentile', 'pi', 'piecewise', 'place', 'poly', 'poly1d', 'polyadd', 'polyder', 'polydiv', 'polyfit', 'polyint', 'polymul', 'polynomial', 'polysub', 'polyval', 'positive', 'power', 'printoptions', 'prod', 'product', 'promote_types', 'ptp', 'put', 'put_along_axis', 'putmask', 'quantile', 'r_', 'rad2deg', 'radians', 'random', 'ravel', 'ravel_multi_index', 'real', 'real_if_close', 'rec', 'recarray', 'recfromcsv', 'recfromtxt', 'reciprocal', 'record', 'remainder', 'repeat', 'require', 'reshape', 'resize', 'result_type', 'right_shift', 'rint', 'roll', 'rollaxis', 'roots', 'rot90', 'round', 'round_', 'row_stack', 's_', 'safe_eval', 'save', 'savetxt', 'savez', 'savez_compressed', 'sctype2char', 'sctypeDict', 'sctypes', 'searchsorted', 'select', 'set_numeric_ops', 'set_printoptions', 'set_string_function', 'setbufsize', 'setdiff1d', 'seterr', 'seterrcall', 'seterrobj', 'setxor1d', 'shape', 'shares_memory', 'short', 'show_config', 'sign', 'signbit', 'signedinteger', 'sin', 'sinc', 'single', 'singlecomplex', 'sinh', 'size', 'sometrue', 'sort', 'sort_complex', 'source', 'spacing', 'split', 'sqrt', 'square', 'squeeze', 'stack', 'std', 'str0', 'str_', 'string_', 'subtract', 'sum', 'swapaxes', 'sys', 'take', 'take_along_axis', 'tan', 'tanh', 'tensordot', 'test', 'testing', 'tile', 'timedelta64', 'trace', 'tracemalloc_domain', 'transpose', 'trapz', 'tri', 'tril', 'tril_indices', 'tril_indices_from', 'trim_zeros', 'triu', 'triu_indices', 'triu_indices_from', 'true_divide', 'trunc', 'typeDict', 'typecodes', 'typename', 'ubyte', 'ufunc', 'uint', 'uint0', 'uint16', 'uint32', 'uint64', 'uint8', 'uintc', 'uintp', 'ulonglong', 'unicode_', 'union1d', 'unique', 'unpackbits', 'unravel_index', 'unsignedinteger', 'unwrap', 'use_hugepage', 'ushort', 'vander', 'var', 'vdot', 'vectorize', 'version', 'void', 'void0', 'vsplit', 'vstack', 'warnings', 'where', 'who', 'zeros', 'zeros_like']\n"
     ]
    }
   ],
   "source": [
    "print(dir(numpy))"
   ]
  },
  {
   "cell_type": "code",
   "execution_count": 3,
   "id": "fe364361",
   "metadata": {
    "ExecuteTime": {
     "end_time": "2021-09-23T13:46:42.037680Z",
     "start_time": "2021-09-23T13:46:41.098623Z"
    }
   },
   "outputs": [],
   "source": [
    "import matplotlib"
   ]
  },
  {
   "cell_type": "code",
   "execution_count": 4,
   "id": "3282991a",
   "metadata": {
    "ExecuteTime": {
     "end_time": "2021-09-23T13:46:53.852293Z",
     "start_time": "2021-09-23T13:46:53.836293Z"
    }
   },
   "outputs": [
    {
     "name": "stdout",
     "output_type": "stream",
     "text": [
      "['ExecutableNotFoundError', 'LooseVersion', 'MatplotlibDeprecationWarning', 'MutableMapping', 'Parameter', 'Path', 'RcParams', 'URL_REGEX', '_DATA_DOC_APPENDIX', '_DATA_DOC_TITLE', '_ExecInfo', '__bibtex__', '__builtins__', '__cached__', '__doc__', '__file__', '__loader__', '__name__', '__package__', '__path__', '__spec__', '__version__', '_add_data_doc', '_all_deprecated', '_animation_data', '_check_versions', '_color_data', '_deprecated_ignore_map', '_deprecated_map', '_deprecated_remain_as_none', '_ensure_handler', '_get_config_or_cache_dir', '_get_data_path', '_get_executable_info', '_get_ssl_context', '_get_xdg_cache_dir', '_get_xdg_config_dir', '_init_tests', '_label_from_arg', '_log', '_logged_cached', '_open_file_or_url', '_preprocess_data', '_rc_params_in_file', '_replacer', '_version', 'animation', 'atexit', 'cbook', 'checkdep_ps_distiller', 'checkdep_usetex', 'colors', 'compare_versions', 'contextlib', 'cycler', 'defaultParams', 'default_test_modules', 'docstring', 'fontconfig_pattern', 'ft2font', 'functools', 'get_backend', 'get_cachedir', 'get_configdir', 'get_data_path', 'get_home', 'importlib', 'inspect', 'interactive', 'is_interactive', 'is_url', 'locale', 'logging', 'matplotlib_fname', 'mplDeprecation', 'namedtuple', 'numpy', 'os', 'pprint', 'rc', 'rcParams', 'rcParamsDefault', 'rcParamsOrig', 'rc_context', 'rc_file', 'rc_file_defaults', 'rc_params', 'rc_params_from_file', 'rcdefaults', 'rcsetup', 're', 'sanitize_sequence', 'set_loglevel', 'shutil', 'subprocess', 'sys', 'tempfile', 'test', 'use', 'validate_backend', 'warnings']\n"
     ]
    }
   ],
   "source": [
    "print(dir(matplotlib))"
   ]
  },
  {
   "cell_type": "code",
   "execution_count": 1,
   "id": "2871cef7",
   "metadata": {
    "ExecuteTime": {
     "end_time": "2021-09-23T13:54:55.553937Z",
     "start_time": "2021-09-23T13:54:54.751397Z"
    }
   },
   "outputs": [],
   "source": [
    "import numpy as np\n",
    "from matplotlib import pyplot as plt"
   ]
  },
  {
   "cell_type": "code",
   "execution_count": 2,
   "id": "894cd89d",
   "metadata": {
    "ExecuteTime": {
     "end_time": "2021-09-23T13:54:56.743035Z",
     "start_time": "2021-09-23T13:54:56.727035Z"
    }
   },
   "outputs": [],
   "source": [
    "x=np.arange(1,11)"
   ]
  },
  {
   "cell_type": "code",
   "execution_count": 3,
   "id": "0c98026d",
   "metadata": {
    "ExecuteTime": {
     "end_time": "2021-09-23T13:54:57.450290Z",
     "start_time": "2021-09-23T13:54:57.426291Z"
    }
   },
   "outputs": [
    {
     "data": {
      "text/plain": [
       "array([ 1,  2,  3,  4,  5,  6,  7,  8,  9, 10])"
      ]
     },
     "execution_count": 3,
     "metadata": {},
     "output_type": "execute_result"
    }
   ],
   "source": [
    "x"
   ]
  },
  {
   "cell_type": "code",
   "execution_count": 4,
   "id": "a0c99c5b",
   "metadata": {
    "ExecuteTime": {
     "end_time": "2021-09-23T13:54:58.206383Z",
     "start_time": "2021-09-23T13:54:58.190415Z"
    }
   },
   "outputs": [],
   "source": [
    "y=2*x"
   ]
  },
  {
   "cell_type": "code",
   "execution_count": 5,
   "id": "94981b15",
   "metadata": {
    "ExecuteTime": {
     "end_time": "2021-09-23T13:54:58.910645Z",
     "start_time": "2021-09-23T13:54:58.886646Z"
    }
   },
   "outputs": [
    {
     "data": {
      "text/plain": [
       "array([ 2,  4,  6,  8, 10, 12, 14, 16, 18, 20])"
      ]
     },
     "execution_count": 5,
     "metadata": {},
     "output_type": "execute_result"
    }
   ],
   "source": [
    "y"
   ]
  },
  {
   "cell_type": "code",
   "execution_count": 7,
   "id": "ceafafaf",
   "metadata": {
    "ExecuteTime": {
     "end_time": "2021-09-23T13:58:02.859548Z",
     "start_time": "2021-09-23T13:58:02.531648Z"
    }
   },
   "outputs": [
    {
     "data": {
      "image/png": "[encoded data removed]",
      "text/plain": [
       "<Figure size 432x288 with 1 Axes>"
      ]
     },
     "metadata": {
      "needs_background": "light"
     },
     "output_type": "display_data"
    }
   ],
   "source": [
    "plt.plot(x,y)\n",
    "plt.title(\"My First line plot\")\n",
    "plt.xlabel(\"x-axis\")\n",
    "plt.ylabel(\"y-axis\")\n",
    "plt.show()"
   ]
  },
  {
   "cell_type": "code",
   "execution_count": 10,
   "id": "b04c6490",
   "metadata": {
    "ExecuteTime": {
     "end_time": "2021-09-23T14:01:28.419314Z",
     "start_time": "2021-09-23T14:01:28.105431Z"
    }
   },
   "outputs": [
    {
     "data": {
      "image/png": "[encoded data removed]",
      "text/plain": [
       "<Figure size 432x288 with 1 Axes>"
      ]
     },
     "metadata": {
      "needs_background": "light"
     },
     "output_type": "display_data"
    }
   ],
   "source": [
    "plt.plot(x,y,color='g',linestyle=':',linewidth=2)\n",
    "plt.title(\"My First line plot\")\n",
    "plt.xlabel(\"x-axis\")\n",
    "plt.ylabel(\"y-axis\")\n",
    "plt.show()"
   ]
  },
  {
   "cell_type": "code",
   "execution_count": 12,
   "id": "f426e4f1",
   "metadata": {
    "ExecuteTime": {
     "end_time": "2021-09-23T14:03:46.741535Z",
     "start_time": "2021-09-23T14:03:46.441564Z"
    }
   },
   "outputs": [
    {
     "data": {
      "image/png": "[encoded data removed]",
      "text/plain": [
       "<Figure size 432x288 with 1 Axes>"
      ]
     },
     "metadata": {
      "needs_background": "light"
     },
     "output_type": "display_data"
    }
   ],
   "source": [
    "plt.plot(x,y,color='r',linestyle='-.',linewidth=5)\n",
    "plt.title(\"My First line plot\")\n",
    "plt.xlabel(\"x-axis\")\n",
    "plt.ylabel(\"y-axis\")\n",
    "plt.show()"
   ]
  },
  {
   "cell_type": "code",
   "execution_count": 13,
   "id": "228e7656",
   "metadata": {
    "ExecuteTime": {
     "end_time": "2021-09-23T14:07:16.998755Z",
     "start_time": "2021-09-23T14:07:16.679667Z"
    }
   },
   "outputs": [
    {
     "data": {
      "image/png": "[encoded data removed]",
      "text/plain": [
       "<Figure size 432x288 with 1 Axes>"
      ]
     },
     "metadata": {
      "needs_background": "light"
     },
     "output_type": "display_data"
    }
   ],
   "source": [
    "plt.plot(x,y,color='r',linestyle='-.',linewidth=5)\n",
    "plt.title(\"My First line plot\")\n",
    "plt.xlabel(\"x-axis\")\n",
    "plt.ylabel(\"y-axis\")\n",
    "plt.grid(True)\n",
    "plt.show()"
   ]
  },
  {
   "cell_type": "markdown",
   "id": "77955bc5",
   "metadata": {},
   "source": [
    "# Adding two lines in the same plot"
   ]
  },
  {
   "cell_type": "code",
   "execution_count": 27,
   "id": "00a66ed2",
   "metadata": {
    "ExecuteTime": {
     "end_time": "2021-09-23T14:28:37.370101Z",
     "start_time": "2021-09-23T14:28:37.354555Z"
    }
   },
   "outputs": [],
   "source": [
    "x=np.arange(100,201)\n",
    "y1=3*x\n",
    "y2=5*x"
   ]
  },
  {
   "cell_type": "code",
   "execution_count": 28,
   "id": "77ba3f5e",
   "metadata": {
    "ExecuteTime": {
     "end_time": "2021-09-23T14:28:38.779571Z",
     "start_time": "2021-09-23T14:28:38.444882Z"
    }
   },
   "outputs": [
    {
     "data": {
      "image/png": "[encoded data removed]",
      "text/plain": [
       "<Figure size 432x288 with 1 Axes>"
      ]
     },
     "metadata": {
      "needs_background": "light"
     },
     "output_type": "display_data"
    }
   ],
   "source": [
    "plt.plot(x,y1,color='r',linestyle='-.',linewidth=2)\n",
    "plt.plot(x,y2,color='g',linestyle='-.',linewidth=2)\n",
    "plt.title(\"Two lines in the same plot\")\n",
    "plt.xlabel(\"X-Axis\")\n",
    "plt.ylabel(\"Y-Axis\")\n",
    "plt.grid(True)\n",
    "plt.show()"
   ]
  },
  {
   "cell_type": "code",
   "execution_count": 21,
   "id": "17c0af8d",
   "metadata": {
    "ExecuteTime": {
     "end_time": "2021-09-23T14:15:01.360172Z",
     "start_time": "2021-09-23T14:15:01.319179Z"
    }
   },
   "outputs": [
    {
     "name": "stdout",
     "output_type": "stream",
     "text": [
      "[300 303 306 309 312 315 318 321 324 327 330 333 336 339 342 345 348 351\n",
      " 354 357 360 363 366 369 372 375 378 381 384 387 390 393 396 399 402 405\n",
      " 408 411 414 417 420 423 426 429 432 435 438 441 444 447 450 453 456 459\n",
      " 462 465 468 471 474 477 480 483 486 489 492 495 498 501 504 507 510 513\n",
      " 516 519 522 525 528 531 534 537 540 543 546 549 552 555 558 561 564 567\n",
      " 570 573 576 579 582 585 588 591 594 597]"
     ]
    }
   ],
   "source": [
    "print(y1)"
   ]
  },
  {
   "cell_type": "code",
   "execution_count": 22,
   "id": "6fe24879",
   "metadata": {
    "ExecuteTime": {
     "end_time": "2021-09-23T14:15:25.888247Z",
     "start_time": "2021-09-23T14:15:25.864247Z"
    }
   },
   "outputs": [
    {
     "name": "stdout",
     "output_type": "stream",
     "text": [
      "[500 505 510 515 520 525 530 535 540 545 550 555 560 565 570 575 580 585\n",
      " 590 595 600 605 610 615 620 625 630 635 640 645 650 655 660 665 670 675\n",
      " 680 685 690 695 700 705 710 715 720 725 730 735 740 745 750 755 760 765\n",
      " 770 775 780 785 790 795 800 805 810 815 820 825 830 835 840 845 850 855\n",
      " 860 865 870 875 880 885 890 895 900 905 910 915 920 925 930 935 940 945\n",
      " 950 955 960 965 970 975 980 985 990 995]\n"
     ]
    }
   ],
   "source": [
    "print(y2)"
   ]
  },
  {
   "cell_type": "markdown",
   "id": "728df191",
   "metadata": {},
   "source": [
    "# Adding sub plot"
   ]
  },
  {
   "cell_type": "code",
   "execution_count": 30,
   "id": "9f076af1",
   "metadata": {
    "ExecuteTime": {
     "end_time": "2021-09-23T14:29:32.458612Z",
     "start_time": "2021-09-23T14:29:31.890020Z"
    }
   },
   "outputs": [
    {
     "data": {
      "image/png": "[encoded data removed]",
      "text/plain": [
       "<Figure size 432x288 with 2 Axes>"
      ]
     },
     "metadata": {
      "needs_background": "light"
     },
     "output_type": "display_data"
    }
   ],
   "source": [
    "x=np.arange(100,201)\n",
    "y1=2*x\n",
    "y2=3*x\n",
    "\n",
    "plt.subplot(1,2,1)\n",
    "plt.plot(x,y1,color='g',linestyle='-.',linewidth=2)\n",
    "plt.title(\"Sub plots\")\n",
    "plt.xlabel(\"x-axis\")\n",
    "plt.ylabel(\"y-axis\")\n",
    "\n",
    "\n",
    "plt.subplot(1,2,2)\n",
    "plt.plot(x,y2,color='r',linestyle=':',linewidth=5)\n",
    "\n",
    "plt.title(\"Sub plots\")\n",
    "plt.xlabel(\"x-axis\")\n",
    "plt.ylabel(\"y-axis\")\n",
    "\n",
    "plt.show()"
   ]
  },
  {
   "cell_type": "markdown",
   "id": "3a267ca6",
   "metadata": {},
   "source": [
    "# Bar Plot"
   ]
  },
  {
   "cell_type": "code",
   "execution_count": null,
   "id": "532f2684",
   "metadata": {},
   "outputs": [],
   "source": [
    "- bar plot is used for catagorcal variables."
   ]
  },
  {
   "cell_type": "code",
   "execution_count": 45,
   "id": "42729ff7",
   "metadata": {
    "ExecuteTime": {
     "end_time": "2021-09-23T17:21:00.790609Z",
     "start_time": "2021-09-23T17:21:00.516610Z"
    }
   },
   "outputs": [
    {
     "name": "stderr",
     "output_type": "stream",
     "text": [
      "C:\\ProgramData\\Anaconda3\\lib\\site-packages\\matplotlib\\backends\\backend_agg.py:238: RuntimeWarning: Glyph 27 missing from current font.\n",
      "  font.set_text(s, 0.0, flags=flags)\n",
      "C:\\ProgramData\\Anaconda3\\lib\\site-packages\\matplotlib\\backends\\backend_agg.py:201: RuntimeWarning: Glyph 27 missing from current font.\n",
      "  font.set_text(s, 0, flags=flags)\n"
     ]
    },
    {
     "data": {
      "image/png": "[encoded data removed]",
      "text/plain": [
       "<Figure size 432x288 with 1 Axes>"
      ]
     },
     "metadata": {
      "needs_background": "light"
     },
     "output_type": "display_data"
    }
   ],
   "source": [
    "student={\"Vikas\":87,\"Suraj\":65,\"Swapnil\":45}\n",
    "bold='\\033[1m'\n",
    "bold_end='\\033[0m'\n",
    "name=list(student.keys())\n",
    "marks=list(student.values())\n",
    "\n",
    "plt.bar(name,marks)\n",
    "\n",
    "plt.title(\"Student Marks\")\n",
    "plt.xlabel('Names')\n",
    "plt.ylabel(bold+'Marks'+bold_end)\n",
    "\n",
    "plt.show()"
   ]
  },
  {
   "cell_type": "code",
   "execution_count": 41,
   "id": "3d031678",
   "metadata": {
    "ExecuteTime": {
     "end_time": "2021-09-23T17:13:29.153171Z",
     "start_time": "2021-09-23T17:13:29.109137Z"
    }
   },
   "outputs": [
    {
     "name": "stdout",
     "output_type": "stream",
     "text": [
      "\u001b[1mThis is bold format\n"
     ]
    }
   ],
   "source": [
    "print('\\033[1m' + \"This is bold format\")"
   ]
  },
  {
   "cell_type": "code",
   "execution_count": 46,
   "id": "0b9de9cf",
   "metadata": {
    "ExecuteTime": {
     "end_time": "2021-09-23T17:21:44.420026Z",
     "start_time": "2021-09-23T17:21:44.151004Z"
    }
   },
   "outputs": [],
   "source": [
    "import termcolor"
   ]
  },
  {
   "cell_type": "code",
   "execution_count": 47,
   "id": "366a10ab",
   "metadata": {
    "ExecuteTime": {
     "end_time": "2021-09-23T17:21:54.546696Z",
     "start_time": "2021-09-23T17:21:54.515346Z"
    }
   },
   "outputs": [
    {
     "name": "stdout",
     "output_type": "stream",
     "text": [
      "['ATTRIBUTES', 'COLORS', 'HIGHLIGHTS', 'RESET', 'VERSION', '__ALL__', '__builtins__', '__cached__', '__doc__', '__file__', '__loader__', '__name__', '__package__', '__spec__', 'colored', 'cprint', 'os', 'print_function']\n"
     ]
    }
   ],
   "source": [
    "print(dir(termcolor))"
   ]
  },
  {
   "cell_type": "code",
   "execution_count": 48,
   "id": "fca24c50",
   "metadata": {
    "ExecuteTime": {
     "end_time": "2021-09-23T17:22:21.323883Z",
     "start_time": "2021-09-23T17:22:21.277884Z"
    }
   },
   "outputs": [
    {
     "name": "stdout",
     "output_type": "stream",
     "text": [
      "Help on function colored in module termcolor:\n",
      "\n",
      "colored(text, color=None, on_color=None, attrs=None)\n",
      "    Colorize text.\n",
      "    \n",
      "    Available text colors:\n",
      "        red, green, yellow, blue, magenta, cyan, white.\n",
      "    \n",
      "    Available text highlights:\n",
      "        on_red, on_green, on_yellow, on_blue, on_magenta, on_cyan, on_white.\n",
      "    \n",
      "    Available attributes:\n",
      "        bold, dark, underline, blink, reverse, concealed.\n",
      "    \n",
      "    Example:\n",
      "        colored('Hello, World!', 'red', 'on_grey', ['blue', 'blink'])\n",
      "        colored('Hello, World!', 'green')\n",
      "\n"
     ]
    }
   ],
   "source": [
    "help(termcolor.colored)"
   ]
  },
  {
   "cell_type": "code",
   "execution_count": 49,
   "id": "c91adf08",
   "metadata": {
    "ExecuteTime": {
     "end_time": "2021-09-23T17:23:22.514276Z",
     "start_time": "2021-09-23T17:23:22.504276Z"
    }
   },
   "outputs": [],
   "source": [
    "from termcolor import colored"
   ]
  },
  {
   "cell_type": "code",
   "execution_count": 52,
   "id": "ff84788d",
   "metadata": {
    "ExecuteTime": {
     "end_time": "2021-09-23T17:28:05.365784Z",
     "start_time": "2021-09-23T17:28:05.339750Z"
    }
   },
   "outputs": [
    {
     "ename": "KeyError",
     "evalue": "'\\x1b'",
     "output_type": "error",
     "traceback": [
      "\u001b[1;31m---------------------------------------------------------------------------\u001b[0m",
      "\u001b[1;31mKeyError\u001b[0m                                  Traceback (most recent call last)",
      "\u001b[1;32m<ipython-input-52-b298a6072ef0>\u001b[0m in \u001b[0;36m<module>\u001b[1;34m\u001b[0m\n\u001b[1;32m----> 1\u001b[1;33m \u001b[0mfull_name\u001b[0m\u001b[1;33m=\u001b[0m\u001b[0mcolored\u001b[0m\u001b[1;33m(\u001b[0m\u001b[1;34m'Vikas'\u001b[0m\u001b[1;33m,\u001b[0m\u001b[0mcolor\u001b[0m\u001b[1;33m=\u001b[0m\u001b[1;34m'green'\u001b[0m\u001b[1;33m,\u001b[0m\u001b[0mattrs\u001b[0m\u001b[1;33m=\u001b[0m\u001b[0mbold\u001b[0m\u001b[1;33m)\u001b[0m\u001b[1;33m\u001b[0m\u001b[1;33m\u001b[0m\u001b[0m\n\u001b[0m\u001b[0;32m      2\u001b[0m \u001b[0mprint\u001b[0m\u001b[1;33m(\u001b[0m\u001b[0mfull_name\u001b[0m\u001b[1;33m)\u001b[0m\u001b[1;33m\u001b[0m\u001b[1;33m\u001b[0m\u001b[0m\n",
      "\u001b[1;32mC:\\ProgramData\\Anaconda3\\lib\\site-packages\\termcolor.py\u001b[0m in \u001b[0;36mcolored\u001b[1;34m(text, color, on_color, attrs)\u001b[0m\n\u001b[0;32m    110\u001b[0m         \u001b[1;32mif\u001b[0m \u001b[0mattrs\u001b[0m \u001b[1;32mis\u001b[0m \u001b[1;32mnot\u001b[0m \u001b[1;32mNone\u001b[0m\u001b[1;33m:\u001b[0m\u001b[1;33m\u001b[0m\u001b[1;33m\u001b[0m\u001b[0m\n\u001b[0;32m    111\u001b[0m             \u001b[1;32mfor\u001b[0m \u001b[0mattr\u001b[0m \u001b[1;32min\u001b[0m \u001b[0mattrs\u001b[0m\u001b[1;33m:\u001b[0m\u001b[1;33m\u001b[0m\u001b[1;33m\u001b[0m\u001b[0m\n\u001b[1;32m--> 112\u001b[1;33m                 \u001b[0mtext\u001b[0m \u001b[1;33m=\u001b[0m \u001b[0mfmt_str\u001b[0m \u001b[1;33m%\u001b[0m \u001b[1;33m(\u001b[0m\u001b[0mATTRIBUTES\u001b[0m\u001b[1;33m[\u001b[0m\u001b[0mattr\u001b[0m\u001b[1;33m]\u001b[0m\u001b[1;33m,\u001b[0m \u001b[0mtext\u001b[0m\u001b[1;33m)\u001b[0m\u001b[1;33m\u001b[0m\u001b[1;33m\u001b[0m\u001b[0m\n\u001b[0m\u001b[0;32m    113\u001b[0m \u001b[1;33m\u001b[0m\u001b[0m\n\u001b[0;32m    114\u001b[0m         \u001b[0mtext\u001b[0m \u001b[1;33m+=\u001b[0m \u001b[0mRESET\u001b[0m\u001b[1;33m\u001b[0m\u001b[1;33m\u001b[0m\u001b[0m\n",
      "\u001b[1;31mKeyError\u001b[0m: '\\x1b'"
     ]
    }
   ],
   "source": [
    "full_name=colored('Vikas',color='green',attrs=bold)\n",
    "print(full_name)"
   ]
  },
  {
   "cell_type": "code",
   "execution_count": 53,
   "id": "98f0bdb8",
   "metadata": {
    "ExecuteTime": {
     "end_time": "2021-09-23T17:28:51.938822Z",
     "start_time": "2021-09-23T17:28:51.923822Z"
    }
   },
   "outputs": [
    {
     "ename": "KeyError",
     "evalue": "'blue'",
     "output_type": "error",
     "traceback": [
      "\u001b[1;31m---------------------------------------------------------------------------\u001b[0m",
      "\u001b[1;31mKeyError\u001b[0m                                  Traceback (most recent call last)",
      "\u001b[1;32m<ipython-input-53-8660193beaef>\u001b[0m in \u001b[0;36m<module>\u001b[1;34m\u001b[0m\n\u001b[1;32m----> 1\u001b[1;33m \u001b[0mcolored\u001b[0m\u001b[1;33m(\u001b[0m\u001b[1;34m'Hello, World!'\u001b[0m\u001b[1;33m,\u001b[0m \u001b[1;34m'red'\u001b[0m\u001b[1;33m,\u001b[0m \u001b[1;34m'on_grey'\u001b[0m\u001b[1;33m,\u001b[0m \u001b[1;33m[\u001b[0m\u001b[1;34m'blue'\u001b[0m\u001b[1;33m,\u001b[0m \u001b[1;34m'blink'\u001b[0m\u001b[1;33m]\u001b[0m\u001b[1;33m)\u001b[0m\u001b[1;33m\u001b[0m\u001b[1;33m\u001b[0m\u001b[0m\n\u001b[0m",
      "\u001b[1;32mC:\\ProgramData\\Anaconda3\\lib\\site-packages\\termcolor.py\u001b[0m in \u001b[0;36mcolored\u001b[1;34m(text, color, on_color, attrs)\u001b[0m\n\u001b[0;32m    110\u001b[0m         \u001b[1;32mif\u001b[0m \u001b[0mattrs\u001b[0m \u001b[1;32mis\u001b[0m \u001b[1;32mnot\u001b[0m \u001b[1;32mNone\u001b[0m\u001b[1;33m:\u001b[0m\u001b[1;33m\u001b[0m\u001b[1;33m\u001b[0m\u001b[0m\n\u001b[0;32m    111\u001b[0m             \u001b[1;32mfor\u001b[0m \u001b[0mattr\u001b[0m \u001b[1;32min\u001b[0m \u001b[0mattrs\u001b[0m\u001b[1;33m:\u001b[0m\u001b[1;33m\u001b[0m\u001b[1;33m\u001b[0m\u001b[0m\n\u001b[1;32m--> 112\u001b[1;33m                 \u001b[0mtext\u001b[0m \u001b[1;33m=\u001b[0m \u001b[0mfmt_str\u001b[0m \u001b[1;33m%\u001b[0m \u001b[1;33m(\u001b[0m\u001b[0mATTRIBUTES\u001b[0m\u001b[1;33m[\u001b[0m\u001b[0mattr\u001b[0m\u001b[1;33m]\u001b[0m\u001b[1;33m,\u001b[0m \u001b[0mtext\u001b[0m\u001b[1;33m)\u001b[0m\u001b[1;33m\u001b[0m\u001b[1;33m\u001b[0m\u001b[0m\n\u001b[0m\u001b[0;32m    113\u001b[0m \u001b[1;33m\u001b[0m\u001b[0m\n\u001b[0;32m    114\u001b[0m         \u001b[0mtext\u001b[0m \u001b[1;33m+=\u001b[0m \u001b[0mRESET\u001b[0m\u001b[1;33m\u001b[0m\u001b[1;33m\u001b[0m\u001b[0m\n",
      "\u001b[1;31mKeyError\u001b[0m: 'blue'"
     ]
    }
   ],
   "source": [
    "colored('Hello, World!', 'red', 'on_grey', ['blue', 'blink'])"
   ]
  },
  {
   "cell_type": "markdown",
   "id": "a7eb4e48",
   "metadata": {},
   "source": [
    "# box plot"
   ]
  },
  {
   "cell_type": "code",
   "execution_count": 1,
   "id": "aede7afe",
   "metadata": {
    "ExecuteTime": {
     "end_time": "2021-09-27T15:40:59.680513Z",
     "start_time": "2021-09-27T15:40:27.112576Z"
    }
   },
   "outputs": [],
   "source": [
    "import matplotlib"
   ]
  },
  {
   "cell_type": "code",
   "execution_count": 2,
   "id": "d0833ca1",
   "metadata": {
    "ExecuteTime": {
     "end_time": "2021-09-27T15:41:24.168145Z",
     "start_time": "2021-09-27T15:41:21.039329Z"
    }
   },
   "outputs": [],
   "source": [
    "from matplotlib import pyplot as plt"
   ]
  },
  {
   "cell_type": "code",
   "execution_count": 5,
   "id": "64e64ac8",
   "metadata": {
    "ExecuteTime": {
     "end_time": "2021-09-27T15:45:25.771326Z",
     "start_time": "2021-09-27T15:45:25.477561Z"
    }
   },
   "outputs": [
    {
     "data": {
      "image/png": "[encoded data removed]",
      "text/plain": [
       "<Figure size 432x288 with 1 Axes>"
      ]
     },
     "metadata": {
      "needs_background": "light"
     },
     "output_type": "display_data"
    }
   ],
   "source": [
    "one = [1,2,3,4,5,6,7,8,9]\n",
    "two = [1,2,3,4,5,4,3,2,1]\n",
    "three = [6,7,8,9,8,7,6,5,4]\n",
    "\n",
    "data = list([one,two,three])\n",
    "\n",
    "plt.boxplot(data)\n",
    "plt.show()"
   ]
  },
  {
   "cell_type": "markdown",
   "id": "59a69a47",
   "metadata": {},
   "source": [
    "# violin plot"
   ]
  },
  {
   "cell_type": "code",
   "execution_count": 6,
   "id": "a96cc225",
   "metadata": {
    "ExecuteTime": {
     "end_time": "2021-09-27T15:48:31.001200Z",
     "start_time": "2021-09-27T15:48:30.223376Z"
    }
   },
   "outputs": [
    {
     "data": {
      "image/png": "[encoded data removed]",
      "text/plain": [
       "<Figure size 432x288 with 1 Axes>"
      ]
     },
     "metadata": {
      "needs_background": "light"
     },
     "output_type": "display_data"
    }
   ],
   "source": [
    "one = [1,2,3,4,5,6,7,8,9]\n",
    "two = [1,2,3,4,5,4,3,2,1]\n",
    "three = [6,7,8,9,8,7,6,5,4]\n",
    "\n",
    "data = list([one,two,three])\n",
    "\n",
    "plt.violinplot(data,showmedians=True)\n",
    "\n",
    "plt.show()"
   ]
  },
  {
   "cell_type": "code",
   "execution_count": 10,
   "id": "ba1dd2db",
   "metadata": {
    "ExecuteTime": {
     "end_time": "2021-09-27T15:50:01.877607Z",
     "start_time": "2021-09-27T15:50:01.552118Z"
    }
   },
   "outputs": [
    {
     "data": {
      "image/png": "[encoded data removed]",
      "text/plain": [
       "<Figure size 432x288 with 1 Axes>"
      ]
     },
     "metadata": {
      "needs_background": "light"
     },
     "output_type": "display_data"
    }
   ],
   "source": [
    "one = [1,2,3,4,5,6,7,8,9]\n",
    "two = [1,2,3,4,5,4,3,2,1]\n",
    "three = [6,7,8,9,8,7,6,5,4]\n",
    "\n",
    "data = list([one,two,three])\n",
    "\n",
    "plt.violinplot(data,showmedians=True,showmeans=True)\n",
    "\n",
    "plt.show()"
   ]
  },
  {
   "cell_type": "markdown",
   "id": "26d32168",
   "metadata": {},
   "source": [
    "# pie-chart"
   ]
  },
  {
   "cell_type": "code",
   "execution_count": 13,
   "id": "81da099f",
   "metadata": {
    "ExecuteTime": {
     "end_time": "2021-09-27T15:53:54.407468Z",
     "start_time": "2021-09-27T15:53:54.236905Z"
    }
   },
   "outputs": [
    {
     "data": {
      "image/png": "[encoded data removed]",
      "text/plain": [
       "<Figure size 432x288 with 1 Axes>"
      ]
     },
     "metadata": {},
     "output_type": "display_data"
    }
   ],
   "source": [
    "fruits = [\"apple\",\"mango\",\"banana\",\"kiwi\"]\n",
    "quantity = [12,8,5,25]\n",
    "\n",
    "plt.pie(quantity,labels=fruits)\n",
    "plt.show()"
   ]
  },
  {
   "cell_type": "code",
   "execution_count": 14,
   "id": "75149b1a",
   "metadata": {
    "ExecuteTime": {
     "end_time": "2021-09-27T15:57:37.692993Z",
     "start_time": "2021-09-27T15:57:37.480480Z"
    }
   },
   "outputs": [
    {
     "data": {
      "image/png": "[encoded data removed]",
      "text/plain": [
       "<Figure size 432x288 with 1 Axes>"
      ]
     },
     "metadata": {},
     "output_type": "display_data"
    }
   ],
   "source": [
    "fruits = [\"apple\",\"mango\",\"banana\",\"orange\"]\n",
    "quantity = [12,8,5,25]\n",
    "\n",
    "plt.pie(quantity,labels=fruits,colors=[\"red\",\"green\",\"yellow\",\"orange\"])\n",
    "plt.show()"
   ]
  },
  {
   "cell_type": "code",
   "execution_count": 1,
   "id": "d8621325",
   "metadata": {
    "ExecuteTime": {
     "end_time": "2021-10-18T02:20:21.291494Z",
     "start_time": "2021-10-18T02:20:07.792775Z"
    }
   },
   "outputs": [],
   "source": [
    "import matplotlib "
   ]
  },
  {
   "cell_type": "code",
   "execution_count": 2,
   "id": "71d8b965",
   "metadata": {
    "ExecuteTime": {
     "end_time": "2021-10-18T02:20:41.646936Z",
     "start_time": "2021-10-18T02:20:38.327419Z"
    }
   },
   "outputs": [],
   "source": [
    "from matplotlib import pyplot as plt"
   ]
  },
  {
   "cell_type": "code",
   "execution_count": 3,
   "id": "60cde19c",
   "metadata": {
    "ExecuteTime": {
     "end_time": "2021-10-18T02:21:10.261707Z",
     "start_time": "2021-10-18T02:21:10.253710Z"
    }
   },
   "outputs": [],
   "source": [
    "import numpy as np"
   ]
  },
  {
   "cell_type": "code",
   "execution_count": 4,
   "id": "1f2b933f",
   "metadata": {
    "ExecuteTime": {
     "end_time": "2021-10-18T02:22:19.212702Z",
     "start_time": "2021-10-18T02:22:19.164695Z"
    }
   },
   "outputs": [],
   "source": [
    "x = np.arange(1,11)"
   ]
  },
  {
   "cell_type": "code",
   "execution_count": 5,
   "id": "e1fdd2e9",
   "metadata": {
    "ExecuteTime": {
     "end_time": "2021-10-18T02:22:21.483613Z",
     "start_time": "2021-10-18T02:22:21.435614Z"
    }
   },
   "outputs": [
    {
     "data": {
      "text/plain": [
       "array([ 1,  2,  3,  4,  5,  6,  7,  8,  9, 10])"
      ]
     },
     "execution_count": 5,
     "metadata": {},
     "output_type": "execute_result"
    }
   ],
   "source": [
    "x"
   ]
  },
  {
   "cell_type": "code",
   "execution_count": 6,
   "id": "d8a1f57e",
   "metadata": {
    "ExecuteTime": {
     "end_time": "2021-10-18T02:22:29.890404Z",
     "start_time": "2021-10-18T02:22:29.866404Z"
    }
   },
   "outputs": [],
   "source": [
    "y = x**2"
   ]
  },
  {
   "cell_type": "code",
   "execution_count": 7,
   "id": "e69969a0",
   "metadata": {
    "ExecuteTime": {
     "end_time": "2021-10-18T02:22:32.504518Z",
     "start_time": "2021-10-18T02:22:32.472521Z"
    }
   },
   "outputs": [
    {
     "data": {
      "text/plain": [
       "array([  1,   4,   9,  16,  25,  36,  49,  64,  81, 100], dtype=int32)"
      ]
     },
     "execution_count": 7,
     "metadata": {},
     "output_type": "execute_result"
    }
   ],
   "source": [
    "y"
   ]
  },
  {
   "cell_type": "code",
   "execution_count": null,
   "id": "6117c816",
   "metadata": {},
   "outputs": [],
   "source": []
  }
 ],
 "metadata": {
  "kernelspec": {
   "display_name": "Python 3",
   "language": "python",
   "name": "python3"
  },
  "language_info": {
   "codemirror_mode": {
    "name": "ipython",
    "version": 3
   },
   "file_extension": ".py",
   "mimetype": "text/x-python",
   "name": "python",
   "nbconvert_exporter": "python",
   "pygments_lexer": "ipython3",
   "version": "3.8.8"
  }
 },
 "nbformat": 4,
 "nbformat_minor": 5
}
