{
 "cells": [
  {
   "cell_type": "code",
   "execution_count": 3,
   "id": "eff43e3b",
   "metadata": {},
   "outputs": [],
   "source": [
    "def print_full_name(first, last):\n",
    "    string=\"Hello %s %s!  You just delved into python.\"%(first,last)\n",
    "    return string\n",
    "    "
   ]
  },
  {
   "cell_type": "code",
   "execution_count": 5,
   "id": "9a8c7d5c",
   "metadata": {},
   "outputs": [
    {
     "data": {
      "text/plain": [
       "'Hello Ross Taylor!  You just delved into python.'"
      ]
     },
     "execution_count": 5,
     "metadata": {},
     "output_type": "execute_result"
    }
   ],
   "source": [
    "print_full_name('Ross','Taylor')"
   ]
  },
  {
   "cell_type": "code",
   "execution_count": 6,
   "id": "c68d4cd8",
   "metadata": {},
   "outputs": [],
   "source": [
    "def print_full_name(first, last):\n",
    "    #string=\"Hello %s %s! You just delved into python.\"%(first,last)\n",
    "    string = \"Hello {} {}! You just delved into python.\".format(first,last)\n",
    "    return string"
   ]
  },
  {
   "cell_type": "code",
   "execution_count": 7,
   "id": "252641c4",
   "metadata": {},
   "outputs": [
    {
     "data": {
      "text/plain": [
       "'Hello Ross Taylor! You just delved into python.'"
      ]
     },
     "execution_count": 7,
     "metadata": {},
     "output_type": "execute_result"
    }
   ],
   "source": [
    "print_full_name('Ross','Taylor')"
   ]
  },
  {
   "cell_type": "code",
   "execution_count": null,
   "id": "8622cf8a",
   "metadata": {},
   "outputs": [],
   "source": []
  },
  {
   "cell_type": "code",
   "execution_count": 12,
   "id": "a1010321",
   "metadata": {},
   "outputs": [],
   "source": [
    "def print_full_name(a, b):\n",
    "    #string=\"Hello %s %s! You just delved into python.\"%(first,last)\n",
    "    print(\"Hello \"+a+\" \"+b+\"! \"+ \"You just delved into python.\")"
   ]
  },
  {
   "cell_type": "code",
   "execution_count": 13,
   "id": "1febd268",
   "metadata": {},
   "outputs": [
    {
     "name": "stdout",
     "output_type": "stream",
     "text": [
      "Hello Vikas Kale! You just delved into python.\n"
     ]
    }
   ],
   "source": [
    "print_full_name(\"Vikas\",\"Kale\")"
   ]
  },
  {
   "cell_type": "markdown",
   "id": "24b6ee0a",
   "metadata": {},
   "source": [
    "## String Formating"
   ]
  },
  {
   "cell_type": "code",
   "execution_count": 14,
   "id": "4db5511a",
   "metadata": {},
   "outputs": [],
   "source": [
    "greet=\"Hello my name is %s and my surname is %s\"%('vikas','kale')"
   ]
  },
  {
   "cell_type": "code",
   "execution_count": 15,
   "id": "ac2c4264",
   "metadata": {},
   "outputs": [
    {
     "name": "stdout",
     "output_type": "stream",
     "text": [
      "Hello my name is vikas and my surname is kale\n"
     ]
    }
   ],
   "source": [
    "print(greet)"
   ]
  },
  {
   "cell_type": "markdown",
   "id": "ea2db5a6",
   "metadata": {},
   "source": [
    "### Using f String"
   ]
  },
  {
   "cell_type": "code",
   "execution_count": 16,
   "id": "63693b93",
   "metadata": {},
   "outputs": [
    {
     "name": "stdout",
     "output_type": "stream",
     "text": [
      "Hello my name is vikas and my surname is kale\n"
     ]
    }
   ],
   "source": [
    "name='vikas'\n",
    "surname='kale'\n",
    "full_name=f\"Hello my name is {name} and my surname is {surname}\"\n",
    "print(full_name)"
   ]
  },
  {
   "cell_type": "code",
   "execution_count": 1,
   "id": "da30a8fb",
   "metadata": {
    "ExecuteTime": {
     "end_time": "2021-10-15T04:40:20.058057Z",
     "start_time": "2021-10-15T04:40:20.039057Z"
    }
   },
   "outputs": [],
   "source": [
    "string = \"abracadabra\""
   ]
  },
  {
   "cell_type": "code",
   "execution_count": 3,
   "id": "94978ee1",
   "metadata": {
    "ExecuteTime": {
     "end_time": "2021-10-15T04:40:36.690139Z",
     "start_time": "2021-10-15T04:40:36.672139Z"
    }
   },
   "outputs": [
    {
     "data": {
      "text/plain": [
       "'c'"
      ]
     },
     "execution_count": 3,
     "metadata": {},
     "output_type": "execute_result"
    }
   ],
   "source": [
    "string[4]"
   ]
  },
  {
   "cell_type": "code",
   "execution_count": 4,
   "id": "36a3cb33",
   "metadata": {
    "ExecuteTime": {
     "end_time": "2021-10-15T04:42:46.710949Z",
     "start_time": "2021-10-15T04:42:46.660949Z"
    },
    "scrolled": true
   },
   "outputs": [
    {
     "name": "stdout",
     "output_type": "stream",
     "text": [
      "abrackdabra\n"
     ]
    }
   ],
   "source": [
    "string = \"abracadabra\"\n",
    "l = list(string)\n",
    "l[5] = 'k'\n",
    "\n",
    "string = ''.join(l)\n",
    "\n",
    "print(string)"
   ]
  },
  {
   "cell_type": "code",
   "execution_count": 5,
   "id": "98eeebaf",
   "metadata": {
    "ExecuteTime": {
     "end_time": "2021-10-15T04:43:03.982514Z",
     "start_time": "2021-10-15T04:43:03.964514Z"
    }
   },
   "outputs": [
    {
     "data": {
      "text/plain": [
       "str"
      ]
     },
     "execution_count": 5,
     "metadata": {},
     "output_type": "execute_result"
    }
   ],
   "source": [
    "type(string)"
   ]
  },
  {
   "cell_type": "code",
   "execution_count": 7,
   "id": "363e513a",
   "metadata": {
    "ExecuteTime": {
     "end_time": "2021-10-15T04:45:03.119439Z",
     "start_time": "2021-10-15T04:45:03.102439Z"
    }
   },
   "outputs": [
    {
     "name": "stdout",
     "output_type": "stream",
     "text": [
      "abracMdabra\n"
     ]
    }
   ],
   "source": [
    "string = \"abracadabra\"\n",
    "\n",
    "string = string[:5] + \"M\" +string[6:]\n",
    "\n",
    "print(string)"
   ]
  },
  {
   "cell_type": "code",
   "execution_count": 13,
   "id": "bd713e59",
   "metadata": {
    "ExecuteTime": {
     "end_time": "2021-10-15T05:24:01.229325Z",
     "start_time": "2021-10-15T05:24:01.221325Z"
    }
   },
   "outputs": [],
   "source": [
    "String = 'ABCDCDC'\n",
    "Substring = 'CDC'\n",
    "\n"
   ]
  },
  {
   "cell_type": "code",
   "execution_count": 17,
   "id": "ea38f79d",
   "metadata": {
    "ExecuteTime": {
     "end_time": "2021-10-15T05:28:57.330749Z",
     "start_time": "2021-10-15T05:28:57.315751Z"
    }
   },
   "outputs": [],
   "source": [
    "def count_sub(String,Substring):\n",
    "    l = len(Substring)\n",
    "    count=0\n",
    "    for i in range(len(String)):\n",
    "        s = String[i:i+l]\n",
    "        print(s)\n",
    "        \n",
    "        if s == Substring:\n",
    "            count+=1\n",
    "            \n",
    "    return count\n",
    "            "
   ]
  },
  {
   "cell_type": "code",
   "execution_count": 18,
   "id": "bc735ae0",
   "metadata": {
    "ExecuteTime": {
     "end_time": "2021-10-15T05:28:58.346739Z",
     "start_time": "2021-10-15T05:28:58.329741Z"
    }
   },
   "outputs": [
    {
     "name": "stdout",
     "output_type": "stream",
     "text": [
      "ABC\n",
      "BCD\n",
      "CDC\n",
      "DCD\n",
      "CDC\n",
      "DC\n",
      "C\n"
     ]
    },
    {
     "data": {
      "text/plain": [
       "2"
      ]
     },
     "execution_count": 18,
     "metadata": {},
     "output_type": "execute_result"
    }
   ],
   "source": [
    "count_sub(String,Substring)"
   ]
  },
  {
   "cell_type": "code",
   "execution_count": null,
   "id": "8914c6c2",
   "metadata": {},
   "outputs": [],
   "source": []
  }
 ],
 "metadata": {
  "kernelspec": {
   "display_name": "Python 3",
   "language": "python",
   "name": "python3"
  },
  "language_info": {
   "codemirror_mode": {
    "name": "ipython",
    "version": 3
   },
   "file_extension": ".py",
   "mimetype": "text/x-python",
   "name": "python",
   "nbconvert_exporter": "python",
   "pygments_lexer": "ipython3",
   "version": "3.8.8"
  }
 },
 "nbformat": 4,
 "nbformat_minor": 5
}
