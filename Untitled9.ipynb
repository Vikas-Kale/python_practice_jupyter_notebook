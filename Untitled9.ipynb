{
 "cells": [
  {
   "cell_type": "code",
   "execution_count": 4,
   "id": "6ec588d6",
   "metadata": {},
   "outputs": [
    {
     "name": "stdout",
     "output_type": "stream",
     "text": [
      "50\n"
     ]
    }
   ],
   "source": [
    "def showdata():\n",
    "    num1=20\n",
    "    num2=30\n",
    "    print(num1+num2)\n",
    "showdata()"
   ]
  },
  {
   "cell_type": "code",
   "execution_count": 10,
   "id": "31ad01c6",
   "metadata": {},
   "outputs": [
    {
     "name": "stdout",
     "output_type": "stream",
     "text": [
      "Result is :  3915\n"
     ]
    }
   ],
   "source": [
    "def multiplication():\n",
    "    num1=45\n",
    "    num2=87\n",
    "    print(\"Result is : \",num1*num2)\n",
    "  \n",
    "multiplication()"
   ]
  },
  {
   "cell_type": "code",
   "execution_count": 14,
   "id": "60ae099d",
   "metadata": {},
   "outputs": [
    {
     "name": "stdout",
     "output_type": "stream",
     "text": [
      "Enter your marks: 45\n",
      "Grade C\n"
     ]
    }
   ],
   "source": [
    "def grades():\n",
    "    marks=int(input(\"Enter your marks: \"))\n",
    "    if marks >75 and marks<=100:\n",
    "        print(\"Grade A\")\n",
    "    elif marks >50 and marks <=75:\n",
    "            print(\"Grade B\")\n",
    "    elif marks >35 and marks <=50:\n",
    "                print(\"Grade C\")\n",
    "    else:\n",
    "        print(\"Only Pass\")\n",
    "grades()"
   ]
  },
  {
   "cell_type": "code",
   "execution_count": 17,
   "id": "efefe5d4",
   "metadata": {},
   "outputs": [
    {
     "name": "stdout",
     "output_type": "stream",
     "text": [
      "Enter your marks: 96\n",
      "Grade A\n"
     ]
    }
   ],
   "source": [
    "def grades():\n",
    "    marks=float(input(\"Enter your marks: \"))\n",
    "    if marks >75 and marks<=100:\n",
    "        print(\"Grade A\")\n",
    "    elif marks >50 and marks <=75:\n",
    "            print(\"Grade B\")\n",
    "    elif marks >35 and marks <=50:\n",
    "                print(\"Grade C\")\n",
    "    else:\n",
    "        print(\"Only Pass\")\n",
    "grades()"
   ]
  },
  {
   "cell_type": "code",
   "execution_count": 18,
   "id": "42745c6c",
   "metadata": {},
   "outputs": [
    {
     "name": "stdout",
     "output_type": "stream",
     "text": [
      "Enter your marks: 34\n",
      "Only Pass\n"
     ]
    }
   ],
   "source": [
    "def grades():\n",
    "    marks=int(input(\"Enter your marks: \"))\n",
    "    if marks >75 and marks<=100:\n",
    "        print(\"Grade A\")\n",
    "    elif marks >50 and marks <=75:\n",
    "            print(\"Grade B\")\n",
    "    elif marks >35 and marks <=50:\n",
    "                print(\"Grade C\")\n",
    "    else:\n",
    "        print(\"Only Pass\")\n",
    "grades()"
   ]
  },
  {
   "cell_type": "code",
   "execution_count": 32,
   "id": "031266a4",
   "metadata": {},
   "outputs": [
    {
     "name": "stdout",
     "output_type": "stream",
     "text": [
      "Enter First Number : 12\n",
      "Enter Second Number : 12\n"
     ]
    },
    {
     "data": {
      "text/plain": [
       "('Addition of Two Numbers is', 24)"
      ]
     },
     "execution_count": 32,
     "metadata": {},
     "output_type": "execute_result"
    }
   ],
   "source": [
    "def addition_of_two_numbers():\n",
    "    x=int(input(\"Enter First Number : \"))\n",
    "    y=int(input(\"Enter Second Number : \"))\n",
    "    \n",
    "    if type(x)==int and type(y)==int:\n",
    "        return \"Addition of Two Numbers is\" , x+y\n",
    "    else:\n",
    "        print(\"Enter Only Int type of Numbers!\")\n",
    "addition_of_two_numbers()"
   ]
  },
  {
   "cell_type": "code",
   "execution_count": 37,
   "id": "d1f1a34d",
   "metadata": {},
   "outputs": [
    {
     "name": "stdout",
     "output_type": "stream",
     "text": [
      "Enter First Number : 45\n",
      "Enter Second Number : 12.5\n"
     ]
    },
    {
     "data": {
      "text/plain": [
       "'Enter Only Int type of Numbers!'"
      ]
     },
     "execution_count": 37,
     "metadata": {},
     "output_type": "execute_result"
    }
   ],
   "source": [
    "def addition_of_two_numbers():\n",
    "    x=(input(\"Enter First Number : \"))\n",
    "    y=(input(\"Enter Second Number : \"))\n",
    "    \n",
    "    if type(x)==int and type(y)==int:\n",
    "        return \"Addition of Two Numbers is\" , x+y\n",
    "    else:\n",
    "        return \"Enter Only Int type of Numbers!\"\n",
    "addition_of_two_numbers()"
   ]
  },
  {
   "cell_type": "markdown",
   "id": "f6db9b32",
   "metadata": {},
   "source": [
    "def max_value():\n",
    "    numbers = [1, 2, 3, 100, 2, 99, 102, 55]\n",
    "    \n",
    "    # Write your logic here\n",
    "    # return max value -> here max value is 102"
   ]
  },
  {
   "cell_type": "code",
   "execution_count": 49,
   "id": "7f26b4c9",
   "metadata": {},
   "outputs": [],
   "source": [
    "def max_value():\n",
    "    numbers = [1, 2, 3, 100, 2, 99, 102, 55]\n",
    "    for i in numbers:#i=1,2,3,100,2,99,102,55\n",
    "        if i[0] > i[1]:\n",
    "            print(\"Max num is :\",i[0])\n",
    "            if i[1] > i[2]:\n",
    "                print(\"Max num is :\",i[1])\n",
    "               \n",
    "    max_value()       \n",
    "        "
   ]
  },
  {
   "cell_type": "code",
   "execution_count": 46,
   "id": "31987366",
   "metadata": {},
   "outputs": [
    {
     "ename": "TypeError",
     "evalue": "'int' object is not subscriptable",
     "output_type": "error",
     "traceback": [
      "\u001b[1;31m---------------------------------------------------------------------------\u001b[0m",
      "\u001b[1;31mTypeError\u001b[0m                                 Traceback (most recent call last)",
      "\u001b[1;32m<ipython-input-46-ad3056a3840e>\u001b[0m in \u001b[0;36m<module>\u001b[1;34m\u001b[0m\n\u001b[1;32m----> 1\u001b[1;33m \u001b[0mmax_value\u001b[0m\u001b[1;33m(\u001b[0m\u001b[1;33m)\u001b[0m\u001b[1;33m\u001b[0m\u001b[1;33m\u001b[0m\u001b[0m\n\u001b[0m",
      "\u001b[1;32m<ipython-input-44-af7f59a123a9>\u001b[0m in \u001b[0;36mmax_value\u001b[1;34m()\u001b[0m\n\u001b[0;32m      2\u001b[0m     \u001b[0mnumbers\u001b[0m \u001b[1;33m=\u001b[0m \u001b[1;33m[\u001b[0m\u001b[1;36m1\u001b[0m\u001b[1;33m,\u001b[0m \u001b[1;36m2\u001b[0m\u001b[1;33m,\u001b[0m \u001b[1;36m3\u001b[0m\u001b[1;33m,\u001b[0m \u001b[1;36m100\u001b[0m\u001b[1;33m,\u001b[0m \u001b[1;36m2\u001b[0m\u001b[1;33m,\u001b[0m \u001b[1;36m99\u001b[0m\u001b[1;33m,\u001b[0m \u001b[1;36m102\u001b[0m\u001b[1;33m,\u001b[0m \u001b[1;36m55\u001b[0m\u001b[1;33m]\u001b[0m\u001b[1;33m\u001b[0m\u001b[1;33m\u001b[0m\u001b[0m\n\u001b[0;32m      3\u001b[0m     \u001b[1;32mfor\u001b[0m \u001b[0mi\u001b[0m \u001b[1;32min\u001b[0m \u001b[0mnumbers\u001b[0m\u001b[1;33m:\u001b[0m\u001b[1;31m#i=1,2,3,100,2,99,102,55\u001b[0m\u001b[1;33m\u001b[0m\u001b[1;33m\u001b[0m\u001b[0m\n\u001b[1;32m----> 4\u001b[1;33m         \u001b[1;32mif\u001b[0m \u001b[0mi\u001b[0m\u001b[1;33m[\u001b[0m\u001b[1;36m0\u001b[0m\u001b[1;33m]\u001b[0m \u001b[1;33m>\u001b[0m \u001b[0mi\u001b[0m\u001b[1;33m[\u001b[0m\u001b[1;36m1\u001b[0m\u001b[1;33m]\u001b[0m\u001b[1;33m:\u001b[0m\u001b[1;33m\u001b[0m\u001b[1;33m\u001b[0m\u001b[0m\n\u001b[0m\u001b[0;32m      5\u001b[0m             \u001b[0mprint\u001b[0m\u001b[1;33m(\u001b[0m\u001b[1;34m\"Max num is :\"\u001b[0m\u001b[1;33m,\u001b[0m\u001b[0mi\u001b[0m\u001b[1;33m[\u001b[0m\u001b[1;36m0\u001b[0m\u001b[1;33m]\u001b[0m\u001b[1;33m)\u001b[0m\u001b[1;33m\u001b[0m\u001b[1;33m\u001b[0m\u001b[0m\n\u001b[0;32m      6\u001b[0m             \u001b[1;32mif\u001b[0m \u001b[0mi\u001b[0m\u001b[1;33m[\u001b[0m\u001b[1;36m1\u001b[0m\u001b[1;33m]\u001b[0m \u001b[1;33m>\u001b[0m \u001b[0mi\u001b[0m\u001b[1;33m[\u001b[0m\u001b[1;36m2\u001b[0m\u001b[1;33m]\u001b[0m\u001b[1;33m:\u001b[0m\u001b[1;33m\u001b[0m\u001b[1;33m\u001b[0m\u001b[0m\n",
      "\u001b[1;31mTypeError\u001b[0m: 'int' object is not subscriptable"
     ]
    }
   ],
   "source": [
    "max_value()"
   ]
  },
  {
   "cell_type": "code",
   "execution_count": 50,
   "id": "7332ad2b",
   "metadata": {},
   "outputs": [
    {
     "name": "stdout",
     "output_type": "stream",
     "text": [
      "grater\n"
     ]
    }
   ],
   "source": [
    "num=1,2,3,4,5\n",
    "if num[0]< num[1]:\n",
    "    print(\"grater\")\n",
    "else:\n",
    "    print(\"less\")"
   ]
  },
  {
   "cell_type": "code",
   "execution_count": 54,
   "id": "38b9e54d",
   "metadata": {},
   "outputs": [],
   "source": [
    "def max_value():\n",
    "    numbers = [1, 2, 3, 100, 2, 99, 102, 55]\n",
    "    for i in numbers:#i=1,2,3,100,2,99,102,55\n",
    "        print(i)\n",
    "    max_value"
   ]
  },
  {
   "cell_type": "code",
   "execution_count": 56,
   "id": "e66bd4f5",
   "metadata": {},
   "outputs": [
    {
     "name": "stdout",
     "output_type": "stream",
     "text": [
      "1\n",
      "2\n",
      "3\n",
      "100\n",
      "2\n",
      "99\n",
      "102\n",
      "55\n"
     ]
    }
   ],
   "source": [
    "numbers = [1, 2, 3, 100, 2, 99, 102, 55]\n",
    "for i in numbers:#i=1,2,3,100,2,99,102,55\n",
    "    print(i)"
   ]
  },
  {
   "cell_type": "code",
   "execution_count": 2,
   "id": "0aec929c",
   "metadata": {},
   "outputs": [
    {
     "name": "stdout",
     "output_type": "stream",
     "text": [
      "1\n",
      "2\n",
      "3\n",
      "100\n",
      "2\n",
      "99\n",
      "102\n",
      "55\n"
     ]
    }
   ],
   "source": [
    "numbers = [1, 2, 3, 100, 2, 99, 102, 55]\n",
    "for i in numbers:#i=1,2,3,100,2,99,102,55\n",
    "    print(i)"
   ]
  },
  {
   "cell_type": "markdown",
   "id": "97a7358f",
   "metadata": {},
   "source": [
    "# Write a function to find max value from given list"
   ]
  },
  {
   "cell_type": "markdown",
   "id": "4b0bc7ed",
   "metadata": {},
   "source": [
    "def max_value():\n",
    "    numbers = [1, 2, 3, 100, 2, 99, 102, 55]\n",
    "    \n",
    "    # Write your logic here\n",
    "    # return max value -> here max value is 102"
   ]
  },
  {
   "cell_type": "code",
   "execution_count": 8,
   "id": "7ea18461",
   "metadata": {},
   "outputs": [
    {
     "name": "stdout",
     "output_type": "stream",
     "text": [
      "lesser\n"
     ]
    }
   ],
   "source": [
    "def max_value():\n",
    "    numbers = [1, 2, 3, 100, 2, 99, 102, 55]\n",
    "    if numbers[0] > numbers[1]:\n",
    "        print(\"grater\")\n",
    "    else:\n",
    "        print(\"lesser\")\n",
    "max_value()"
   ]
  },
  {
   "cell_type": "code",
   "execution_count": 34,
   "id": "72d348c0",
   "metadata": {},
   "outputs": [],
   "source": [
    "def max_value():\n",
    "    numbers = [1, 2, 3, 100, 2, 99, 102, 55]\n",
    "    if numbers[0] > numbers[1] and numbers[2] and numbers[3] and numbers[4] and numbers[5] and numbers[6] and numbers[7]:\n",
    "        print(\"max value is \",numbers[0])\n",
    "    elif numbers[1] > numbers[2] and numbers[1] and numbers[2] and numbers[3] and numbers[4] and numbers[5] and numbers[6] and numbers[7]:\n",
    "        print(\"max value is\",numbers[1])\n",
    "    elif numbers[2] > numbers[3] and numbers[1] and numbers[2] and numbers[3] and numbers[4] and numbers[5] and numbers[6] and numbers[7]:\n",
    "        print(\"max value is\",numbers[2])\n",
    "    elif numbers[3] > numbers[7] and numbers[1] and numbers[2] and numbers[3] and numbers[4] and numbers[5] and numbers[6] and numbers[7]:\n",
    "        print(\"max value is\",numbers[3])\n",
    "    elif numbers[4] > numbers[5] and numbers[1] and numbers[2] and numbers[3] and numbers[4] and numbers[5] and numbers[6] and numbers[7]:\n",
    "        print(\"max value is\",numbers[4])\n",
    "    elif numbers[5] > numbers[6] and numbers[1] and numbers[2] and numbers[3] and numbers[4] and numbers[5] and numbers[6] and numbers[7]:\n",
    "        print(\"max value is\",numbers[5])\n",
    "    elif numbers[6] > numbers[4] and numbers[1] and numbers[2] and numbers[3] and numbers[4] and numbers[5] and numbers[6] and numbers[7]:\n",
    "        print(\"max value is\",numbers[6])\n",
    "    elif numbers[7] > numbers[4] and numbers[1] and numbers[2] and numbers[3] and numbers[4] and numbers[5] and numbers[6] and numbers[7]:\n",
    "        print(\"max value is\",numbers[7])\n",
    "    \n",
    "    else:\n",
    "        print(\"lesser\")\n"
   ]
  },
  {
   "cell_type": "code",
   "execution_count": 37,
   "id": "7f477284",
   "metadata": {},
   "outputs": [
    {
     "name": "stdout",
     "output_type": "stream",
     "text": [
      "max value is 100\n"
     ]
    }
   ],
   "source": [
    "max_value()"
   ]
  },
  {
   "cell_type": "code",
   "execution_count": 56,
   "id": "a12c61bd",
   "metadata": {},
   "outputs": [
    {
     "name": "stdout",
     "output_type": "stream",
     "text": [
      "max value is 102\n"
     ]
    }
   ],
   "source": [
    "def max_value():\n",
    "    numbers = [1, 2, 3, 100, 2, 99, 102, 55,]\n",
    "    if numbers[0] > numbers[1] and numbers[2] and numbers[3] and numbers[4] and numbers[5] and numbers[6] and numbers[7]:\n",
    "        print(\"max value is \",numbers[0])\n",
    "    elif numbers[1] > numbers[2]  and numbers[2] and numbers[3] and numbers[4] and numbers[5] and numbers[6] and numbers[7]:\n",
    "        print(\"max value is\",numbers[1])\n",
    "    elif numbers[2] > numbers[3] and numbers[1]  and numbers[3] and numbers[4] and numbers[5] and numbers[6] and numbers[7]:\n",
    "        print(\"max value is\",numbers[2])\n",
    "    elif numbers[3] > numbers[6] and numbers[1] and numbers[2]  and numbers[4] and numbers[5] and numbers[7]:\n",
    "        print(\"max value is\",numbers[3])\n",
    "    elif numbers[4] > numbers[5] and numbers[1] and numbers[2] and numbers[3]  and numbers[5] and numbers[6] and numbers[7]:\n",
    "        print(\"max value is\",numbers[4])\n",
    "    elif numbers[5] > numbers[6] and numbers[1] and numbers[2] and numbers[3] and numbers[4] and numbers[6] and numbers[7]:\n",
    "        print(\"max value is\",numbers[5])\n",
    "    elif numbers[6] > numbers[4] and numbers[1] and numbers[2] and numbers[3] and numbers[4] and numbers[5]  and numbers[7]:\n",
    "        print(\"max value is\",numbers[6])\n",
    "    elif numbers[7] > numbers[4] and numbers[1] and numbers[2] and numbers[3] and numbers[4] and numbers[5] and numbers[6]:\n",
    "        print(\"max value is\",numbers[7])\n",
    "    \n",
    "max_value()"
   ]
  },
  {
   "cell_type": "code",
   "execution_count": 50,
   "id": "f16f543e",
   "metadata": {},
   "outputs": [
    {
     "name": "stdout",
     "output_type": "stream",
     "text": [
      "max value is 100\n"
     ]
    },
    {
     "data": {
      "text/plain": [
       "<function __main__.max_value()>"
      ]
     },
     "execution_count": 50,
     "metadata": {},
     "output_type": "execute_result"
    }
   ],
   "source": [
    "max_value()"
   ]
  },
  {
   "cell_type": "code",
   "execution_count": 45,
   "id": "420cd4a8",
   "metadata": {},
   "outputs": [
    {
     "name": "stdout",
     "output_type": "stream",
     "text": [
      "max value is  1\n"
     ]
    },
    {
     "data": {
      "text/plain": [
       "<function __main__.max_value()>"
      ]
     },
     "execution_count": 45,
     "metadata": {},
     "output_type": "execute_result"
    }
   ],
   "source": [
    "max_value()"
   ]
  },
  {
   "cell_type": "code",
   "execution_count": 68,
   "id": "f5208d4e",
   "metadata": {},
   "outputs": [
    {
     "ename": "TypeError",
     "evalue": "'int' object is not subscriptable",
     "output_type": "error",
     "traceback": [
      "\u001b[1;31m---------------------------------------------------------------------------\u001b[0m",
      "\u001b[1;31mTypeError\u001b[0m                                 Traceback (most recent call last)",
      "\u001b[1;32m<ipython-input-68-598ebd04e777>\u001b[0m in \u001b[0;36m<module>\u001b[1;34m\u001b[0m\n\u001b[0;32m     18\u001b[0m         \u001b[0mprint\u001b[0m\u001b[1;33m(\u001b[0m\u001b[1;34m\"max value is\"\u001b[0m\u001b[1;33m,\u001b[0m\u001b[0mnumbers\u001b[0m\u001b[1;33m[\u001b[0m\u001b[1;36m7\u001b[0m\u001b[1;33m]\u001b[0m\u001b[1;33m)\u001b[0m\u001b[1;33m\u001b[0m\u001b[1;33m\u001b[0m\u001b[0m\n\u001b[0;32m     19\u001b[0m \u001b[1;33m\u001b[0m\u001b[0m\n\u001b[1;32m---> 20\u001b[1;33m \u001b[0mmax_value\u001b[0m\u001b[1;33m(\u001b[0m\u001b[1;33m)\u001b[0m\u001b[1;33m\u001b[0m\u001b[1;33m\u001b[0m\u001b[0m\n\u001b[0m",
      "\u001b[1;32m<ipython-input-68-598ebd04e777>\u001b[0m in \u001b[0;36mmax_value\u001b[1;34m()\u001b[0m\n\u001b[0;32m      1\u001b[0m \u001b[1;32mdef\u001b[0m \u001b[0mmax_value\u001b[0m\u001b[1;33m(\u001b[0m\u001b[1;33m)\u001b[0m\u001b[1;33m:\u001b[0m\u001b[1;33m\u001b[0m\u001b[1;33m\u001b[0m\u001b[0m\n\u001b[0;32m      2\u001b[0m     \u001b[0mnumbers\u001b[0m \u001b[1;33m=\u001b[0m \u001b[1;33m[\u001b[0m\u001b[1;36m1\u001b[0m\u001b[1;33m,\u001b[0m \u001b[1;36m2\u001b[0m\u001b[1;33m,\u001b[0m \u001b[1;36m3\u001b[0m\u001b[1;33m,\u001b[0m \u001b[1;36m100\u001b[0m\u001b[1;33m,\u001b[0m \u001b[1;36m2\u001b[0m\u001b[1;33m,\u001b[0m \u001b[1;36m99\u001b[0m\u001b[1;33m,\u001b[0m \u001b[1;36m102\u001b[0m\u001b[1;33m,\u001b[0m \u001b[1;36m55\u001b[0m\u001b[1;33m]\u001b[0m\u001b[1;33m\u001b[0m\u001b[1;33m\u001b[0m\u001b[0m\n\u001b[1;32m----> 3\u001b[1;33m     \u001b[1;32mif\u001b[0m \u001b[1;33m(\u001b[0m\u001b[0mnumbers\u001b[0m\u001b[1;33m[\u001b[0m\u001b[1;36m0\u001b[0m\u001b[1;33m]\u001b[0m \u001b[1;33m>\u001b[0m \u001b[0mnumbers\u001b[0m\u001b[1;33m[\u001b[0m\u001b[1;36m1\u001b[0m\u001b[1;33m]\u001b[0m\u001b[1;33m[\u001b[0m\u001b[1;36m2\u001b[0m\u001b[1;33m]\u001b[0m\u001b[1;33m[\u001b[0m\u001b[1;36m3\u001b[0m\u001b[1;33m]\u001b[0m\u001b[1;33m[\u001b[0m\u001b[1;36m4\u001b[0m\u001b[1;33m]\u001b[0m\u001b[1;33m[\u001b[0m\u001b[1;36m5\u001b[0m\u001b[1;33m]\u001b[0m\u001b[1;33m[\u001b[0m\u001b[1;36m6\u001b[0m\u001b[1;33m]\u001b[0m\u001b[1;33m[\u001b[0m\u001b[1;36m7\u001b[0m\u001b[1;33m]\u001b[0m\u001b[1;33m)\u001b[0m\u001b[1;33m:\u001b[0m\u001b[1;33m\u001b[0m\u001b[1;33m\u001b[0m\u001b[0m\n\u001b[0m\u001b[0;32m      4\u001b[0m         \u001b[0mprint\u001b[0m\u001b[1;33m(\u001b[0m\u001b[1;34m\"max value is \"\u001b[0m\u001b[1;33m,\u001b[0m\u001b[0mnumbers\u001b[0m\u001b[1;33m[\u001b[0m\u001b[1;36m0\u001b[0m\u001b[1;33m]\u001b[0m\u001b[1;33m)\u001b[0m\u001b[1;33m\u001b[0m\u001b[1;33m\u001b[0m\u001b[0m\n\u001b[0;32m      5\u001b[0m     \u001b[1;32melif\u001b[0m \u001b[1;33m(\u001b[0m\u001b[0mnumbers\u001b[0m\u001b[1;33m[\u001b[0m\u001b[1;36m1\u001b[0m\u001b[1;33m]\u001b[0m \u001b[1;33m>\u001b[0m \u001b[0mnumbers\u001b[0m\u001b[1;33m[\u001b[0m\u001b[1;36m2\u001b[0m\u001b[1;33m]\u001b[0m\u001b[1;33m[\u001b[0m\u001b[1;36m1\u001b[0m\u001b[1;33m]\u001b[0m\u001b[1;33m[\u001b[0m\u001b[1;36m3\u001b[0m\u001b[1;33m]\u001b[0m\u001b[1;33m[\u001b[0m\u001b[1;36m4\u001b[0m\u001b[1;33m]\u001b[0m\u001b[1;33m[\u001b[0m\u001b[1;36m5\u001b[0m\u001b[1;33m]\u001b[0m\u001b[1;33m[\u001b[0m\u001b[1;36m6\u001b[0m\u001b[1;33m]\u001b[0m\u001b[1;33m[\u001b[0m\u001b[1;36m7\u001b[0m\u001b[1;33m]\u001b[0m\u001b[1;33m)\u001b[0m\u001b[1;33m:\u001b[0m\u001b[1;33m\u001b[0m\u001b[1;33m\u001b[0m\u001b[0m\n",
      "\u001b[1;31mTypeError\u001b[0m: 'int' object is not subscriptable"
     ]
    }
   ],
   "source": [
    "def max_value():\n",
    "    numbers = [1, 2, 3, 100, 2, 99, 102, 55]\n",
    "    if (numbers[0] > numbers[1][2][3][4][5][6][7]):\n",
    "        print(\"max value is \",numbers[0])\n",
    "    elif (numbers[1] > numbers[2][1][3][4][5][6][7]):\n",
    "        print(\"max value is\",numbers[1])\n",
    "    elif (numbers[2] > numbers[3][1][2][4][5][6][7]):\n",
    "        print(\"max value is\",numbers[2])\n",
    "    elif (numbers[3] > numbers[4][1][2][3][5][6][7]):\n",
    "        print(\"max value is\",numbers[3])\n",
    "    elif (numbers[4] > numbers[5][1][2][3][4][6][7]):\n",
    "        print(\"max value is\",numbers[4])\n",
    "    elif (numbers[5] > numbers[6][1][2][3][4][5][7]):\n",
    "        print(\"max value is\",numbers[5])\n",
    "    elif (numbers[6] > numbers[4][5][6][7][3][2][1][0]):\n",
    "        print(\"max value is\",numbers[6])\n",
    "    elif (numbers[7] > numbers[4][1][2][3][5][6][7]):\n",
    "        print(\"max value is\",numbers[7])\n",
    "    \n",
    "max_value()"
   ]
  },
  {
   "cell_type": "code",
   "execution_count": 69,
   "id": "9eb54348",
   "metadata": {},
   "outputs": [],
   "source": [
    "def max_value():\n",
    "    numbers = [1, 2, 3, 100, 2, 99, 102, 55]\n",
    "    max=numbers[0]\n",
    "    for i in numbers:\n",
    "        if (numbers[i] > max):\n",
    "            max=numbers[i]\n",
    "        print(\"max num= \",max)\n",
    "    "
   ]
  },
  {
   "cell_type": "code",
   "execution_count": 70,
   "id": "c43d3b64",
   "metadata": {},
   "outputs": [
    {
     "name": "stdout",
     "output_type": "stream",
     "text": [
      "max num=  2\n",
      "max num=  3\n",
      "max num=  100\n"
     ]
    },
    {
     "ename": "IndexError",
     "evalue": "list index out of range",
     "output_type": "error",
     "traceback": [
      "\u001b[1;31m---------------------------------------------------------------------------\u001b[0m",
      "\u001b[1;31mIndexError\u001b[0m                                Traceback (most recent call last)",
      "\u001b[1;32m<ipython-input-70-ad3056a3840e>\u001b[0m in \u001b[0;36m<module>\u001b[1;34m\u001b[0m\n\u001b[1;32m----> 1\u001b[1;33m \u001b[0mmax_value\u001b[0m\u001b[1;33m(\u001b[0m\u001b[1;33m)\u001b[0m\u001b[1;33m\u001b[0m\u001b[1;33m\u001b[0m\u001b[0m\n\u001b[0m",
      "\u001b[1;32m<ipython-input-69-e4e1c7f5571f>\u001b[0m in \u001b[0;36mmax_value\u001b[1;34m()\u001b[0m\n\u001b[0;32m      3\u001b[0m     \u001b[0mmax\u001b[0m\u001b[1;33m=\u001b[0m\u001b[0mnumbers\u001b[0m\u001b[1;33m[\u001b[0m\u001b[1;36m0\u001b[0m\u001b[1;33m]\u001b[0m\u001b[1;33m\u001b[0m\u001b[1;33m\u001b[0m\u001b[0m\n\u001b[0;32m      4\u001b[0m     \u001b[1;32mfor\u001b[0m \u001b[0mi\u001b[0m \u001b[1;32min\u001b[0m \u001b[0mnumbers\u001b[0m\u001b[1;33m:\u001b[0m\u001b[1;33m\u001b[0m\u001b[1;33m\u001b[0m\u001b[0m\n\u001b[1;32m----> 5\u001b[1;33m         \u001b[1;32mif\u001b[0m \u001b[1;33m(\u001b[0m\u001b[0mnumbers\u001b[0m\u001b[1;33m[\u001b[0m\u001b[0mi\u001b[0m\u001b[1;33m]\u001b[0m \u001b[1;33m>\u001b[0m \u001b[0mmax\u001b[0m\u001b[1;33m)\u001b[0m\u001b[1;33m:\u001b[0m\u001b[1;33m\u001b[0m\u001b[1;33m\u001b[0m\u001b[0m\n\u001b[0m\u001b[0;32m      6\u001b[0m             \u001b[0mmax\u001b[0m\u001b[1;33m=\u001b[0m\u001b[0mnumbers\u001b[0m\u001b[1;33m[\u001b[0m\u001b[0mi\u001b[0m\u001b[1;33m]\u001b[0m\u001b[1;33m\u001b[0m\u001b[1;33m\u001b[0m\u001b[0m\n\u001b[0;32m      7\u001b[0m         \u001b[0mprint\u001b[0m\u001b[1;33m(\u001b[0m\u001b[1;34m\"max num= \"\u001b[0m\u001b[1;33m,\u001b[0m\u001b[0mmax\u001b[0m\u001b[1;33m)\u001b[0m\u001b[1;33m\u001b[0m\u001b[1;33m\u001b[0m\u001b[0m\n",
      "\u001b[1;31mIndexError\u001b[0m: list index out of range"
     ]
    }
   ],
   "source": [
    "max_value()"
   ]
  },
  {
   "cell_type": "code",
   "execution_count": 79,
   "id": "18617fb0",
   "metadata": {},
   "outputs": [],
   "source": [
    "def max_value():\n",
    "    numbers = [1, 2, 3, 100, 2, 99, 102, 55]\n",
    "    max=0\n",
    "    for i in numbers:\n",
    "        if i > max:\n",
    "            max=i\n",
    "    print(\"max num is : \",max)\n",
    "    "
   ]
  },
  {
   "cell_type": "code",
   "execution_count": 80,
   "id": "e95183e1",
   "metadata": {},
   "outputs": [
    {
     "name": "stdout",
     "output_type": "stream",
     "text": [
      "max num is :  102\n"
     ]
    }
   ],
   "source": [
    "max_value()"
   ]
  },
  {
   "cell_type": "code",
   "execution_count": 163,
   "id": "d7e32b80",
   "metadata": {},
   "outputs": [
    {
     "name": "stdout",
     "output_type": "stream",
     "text": [
      "max num is :  102\n",
      "Min num is :  2\n",
      "Second max number is : 55\n"
     ]
    }
   ],
   "source": [
    "def max_value():\n",
    "    numbers = [32, 2, 3, 100, 2, 99, 102, 55]\n",
    "    max=numbers[0]\n",
    "    min=numbers[0]\n",
    "    second_max=numbers[0]\n",
    "    for i in numbers:\n",
    "        if i > max:\n",
    "            max=i\n",
    "        if i < min:\n",
    "            min=i\n",
    "        if (numbers[0] > min and numbers[0] < max):\n",
    "            second_max = i\n",
    "    print(\"max num is : \",max)\n",
    "    print(\"Min num is : \",min)\n",
    "    print(\"Second max number is :\",second_max)\n",
    "max_value()   "
   ]
  },
  {
   "cell_type": "code",
   "execution_count": 199,
   "id": "4c4dcff7",
   "metadata": {},
   "outputs": [
    {
     "name": "stdout",
     "output_type": "stream",
     "text": [
      "max num is :  200\n",
      "Min num is :  1\n",
      "Second max number is : 102\n"
     ]
    }
   ],
   "source": [
    "def max_value():\n",
    "    numbers = [1, 2, 3, 100, 2, 200, 102, 55]\n",
    "    max=min=second_max=numbers[0]   # max=1,min=1,second_max=1\n",
    "    \n",
    "    for i in range(len(numbers)):   #length of numbers=8\n",
    "        if (numbers[i] >= max):     # for first iteration numbers[i]=1 and max=1 this condition is true,\n",
    "            second_max=max           # second_max=1 and max=1\n",
    "            max=numbers[i]           # max=1 and numbers[i]=2 then for loop continues till max=102 and numbers[i]=55 then the if condition false\n",
    "        elif (numbers[i] >= second_max and numbers[i] <= max): # for first iteration numbers[i]=1,for second iteration 2 and so on\n",
    "                                                             # for first iteration second_max=max=1\n",
    "            second_max = numbers[i] # when numbers[i]=100 and is < max that is 102 and greater than \n",
    "        \n",
    "    print(\"max num is : \",max)\n",
    "    print(\"Min num is : \",min)\n",
    "    print(\"Second max number is :\",second_max)\n",
    "max_value()   "
   ]
  },
  {
   "cell_type": "code",
   "execution_count": 145,
   "id": "0834c6e5",
   "metadata": {},
   "outputs": [
    {
     "name": "stdout",
     "output_type": "stream",
     "text": [
      "The Largest Element in this List is :  625\n",
      "The Second Largest Element in this List is :  420\n"
     ]
    }
   ],
   "source": [
    "num=[45,51,102,188,625,420]\n",
    "first = second = num[0]\n",
    "for i in range(len(num)):\n",
    "    if (num[i] > first):\n",
    "        second = first\n",
    "        first=num[i]\n",
    "    elif (num[i] > second and num[i] < first):\n",
    "        second = num[i]\n",
    "print(\"The Largest Element in this List is : \", first)\n",
    "print(\"The Second Largest Element in this List is : \", second)"
   ]
  },
  {
   "cell_type": "code",
   "execution_count": 136,
   "id": "78333b52",
   "metadata": {},
   "outputs": [],
   "source": [
    "def max_value():\n",
    "    num=[45,51,102,188,625,420]\n",
    "    max=0\n",
    "    for i in num:\n",
    "        if i > max:\n",
    "            max=i\n",
    "    print(\"Max value is : \",max)"
   ]
  },
  {
   "cell_type": "code",
   "execution_count": 82,
   "id": "9bf31155",
   "metadata": {},
   "outputs": [
    {
     "name": "stdout",
     "output_type": "stream",
     "text": [
      "Max value is :  625\n"
     ]
    }
   ],
   "source": [
    "max_value()"
   ]
  },
  {
   "cell_type": "code",
   "execution_count": 129,
   "id": "059e0db5",
   "metadata": {},
   "outputs": [
    {
     "name": "stdout",
     "output_type": "stream",
     "text": [
      "Max value is :  625\n",
      "second max value is :  45\n"
     ]
    }
   ],
   "source": [
    "def max_value():\n",
    "    num=[45,51,102,188,625,420]\n",
    "    max=0\n",
    "    second_max=num[0]\n",
    "    for i in num:\n",
    "        if i > max:\n",
    "            max=i\n",
    "        for i in num:\n",
    "            if i < max:\n",
    "                max - i\n",
    "            \n",
    "    print(\"Max value is : \",max)\n",
    "    print(\"second max value is : \",second_max)\n",
    "max_value()"
   ]
  },
  {
   "cell_type": "code",
   "execution_count": 92,
   "id": "5c200a19",
   "metadata": {},
   "outputs": [],
   "source": [
    "def max_value():\n",
    "    num=[45,51,102,188,625,420]\n",
    "    num.sort()\n",
    "    x=min(num)\n",
    "    print(x)\n",
    "    "
   ]
  },
  {
   "cell_type": "code",
   "execution_count": 93,
   "id": "b397ac4b",
   "metadata": {},
   "outputs": [
    {
     "name": "stdout",
     "output_type": "stream",
     "text": [
      "45\n"
     ]
    }
   ],
   "source": [
    "max_value()"
   ]
  },
  {
   "cell_type": "code",
   "execution_count": 94,
   "id": "b10f4a1a",
   "metadata": {},
   "outputs": [
    {
     "name": "stdout",
     "output_type": "stream",
     "text": [
      "Please enter the Total Number of List Elements: 5\n",
      "Please enter the Value of 1 Element : 12\n",
      "Please enter the Value of 2 Element : 21\n",
      "Please enter the Value of 3 Element : 84\n",
      "Please enter the Value of 4 Element : 54\n",
      "Please enter the Value of 5 Element : 10\n",
      "The Largest Element in this List is :  84\n",
      "The Second Largest Element in this List is :  54\n"
     ]
    }
   ],
   "source": [
    "# Python Program to find Second Largest Number in a List \n",
    "\n",
    "NumList = []\n",
    "Number = int(input(\"Please enter the Total Number of List Elements: \"))\n",
    "\n",
    "for i in range(1, Number + 1):\n",
    "    value = int(input(\"Please enter the Value of %d Element : \" %i))\n",
    "    NumList.append(value)\n",
    "\n",
    "first = second = NumList[0]\n",
    "for j in range(1, Number):\n",
    "    if(NumList[j] > first):\n",
    "        second = first\n",
    "        first = NumList[j]\n",
    "    elif(NumList[j] > second and NumList[j] < first):\n",
    "        second = NumList[j]\n",
    "        \n",
    "\n",
    "print(\"The Largest Element in this List is : \", first)\n",
    "print(\"The Second Largest Element in this List is : \", second)"
   ]
  },
  {
   "cell_type": "code",
   "execution_count": 95,
   "id": "60e28080",
   "metadata": {},
   "outputs": [
    {
     "name": "stdout",
     "output_type": "stream",
     "text": [
      "The Largest Element in this List is :  625\n",
      "The Second Largest Element in this List is :  420\n"
     ]
    }
   ],
   "source": [
    "num=[45,51,102,188,625,420]\n",
    "first = second = num[0]\n",
    "for i in range(len(num)):\n",
    "    if (num[i] > first):\n",
    "        second = first\n",
    "        first=num[i]\n",
    "    elif (num[i] > second and num[i] < first):\n",
    "        second = num[i]\n",
    "print(\"The Largest Element in this List is : \", first)\n",
    "print(\"The Second Largest Element in this List is : \", second)"
   ]
  },
  {
   "cell_type": "code",
   "execution_count": 96,
   "id": "6cda053f",
   "metadata": {},
   "outputs": [
    {
     "name": "stdout",
     "output_type": "stream",
     "text": [
      "0\n",
      "1\n",
      "2\n",
      "3\n",
      "4\n",
      "5\n"
     ]
    }
   ],
   "source": [
    "for i in range(6):\n",
    "    print(i)"
   ]
  },
  {
   "cell_type": "code",
   "execution_count": 99,
   "id": "1072476e",
   "metadata": {},
   "outputs": [
    {
     "name": "stdout",
     "output_type": "stream",
     "text": [
      "The Largest Element in this List is :  188\n"
     ]
    }
   ],
   "source": [
    "num=[45,51,102,188,15,48]\n",
    "first = second = num[0]\n",
    "for i in range(len(num)):\n",
    "    if (num[i] > first):\n",
    "        second = first\n",
    "        first=num[i]\n",
    "print(\"The Largest Element in this List is : \", first)"
   ]
  },
  {
   "cell_type": "code",
   "execution_count": 100,
   "id": "489cdf7b",
   "metadata": {},
   "outputs": [
    {
     "name": "stdout",
     "output_type": "stream",
     "text": [
      "45\n",
      "51\n",
      "102\n",
      "188\n",
      "15\n",
      "48\n"
     ]
    }
   ],
   "source": [
    "num=[45,51,102,188,15,48]\n",
    "for i in range(6):\n",
    "    print(num[i])"
   ]
  },
  {
   "cell_type": "code",
   "execution_count": 157,
   "id": "f593fdac",
   "metadata": {},
   "outputs": [
    {
     "name": "stdout",
     "output_type": "stream",
     "text": [
      "45\n",
      "51\n",
      "102\n",
      "188\n",
      "15\n",
      "48\n"
     ]
    }
   ],
   "source": [
    "num=[45,51,102,188,15,48]\n",
    "for i in range(len(num)):\n",
    "    \n",
    "    print(num[i])"
   ]
  },
  {
   "cell_type": "code",
   "execution_count": 101,
   "id": "258aa407",
   "metadata": {},
   "outputs": [
    {
     "data": {
      "text/plain": [
       "45"
      ]
     },
     "execution_count": 101,
     "metadata": {},
     "output_type": "execute_result"
    }
   ],
   "source": [
    "num[0]"
   ]
  },
  {
   "cell_type": "code",
   "execution_count": 176,
   "id": "3ce5097f",
   "metadata": {},
   "outputs": [
    {
     "name": "stdout",
     "output_type": "stream",
     "text": [
      "max num is :  188\n",
      "Min num is :  45\n",
      "Second max number is : 45\n"
     ]
    }
   ],
   "source": [
    "def max_value():\n",
    "    numbers=[45,51,102,188,15,48]\n",
    "    max=min=second_max=numbers[0]\n",
    "    \n",
    "    for i in range(len(numbers)):\n",
    "        if (numbers[i] > max):\n",
    "            second_max=max\n",
    "            max=numbers[i]\n",
    "        if numbers[i] > min:\n",
    "            second_max=min\n",
    "        elif (numbers[i] > second_max and numbers[i] < max):\n",
    "            \n",
    "            second_max = numbers[i]\n",
    "        \n",
    "    print(\"max num is : \",max)\n",
    "    print(\"Min num is : \",min)\n",
    "    print(\"Second max number is :\",second_max)\n",
    "max_value()   "
   ]
  },
  {
   "cell_type": "code",
   "execution_count": 154,
   "id": "9e0ab789",
   "metadata": {},
   "outputs": [
    {
     "name": "stdout",
     "output_type": "stream",
     "text": [
      "0\n",
      "1\n",
      "2\n",
      "3\n",
      "4\n",
      "5\n",
      "6\n",
      "7\n"
     ]
    }
   ],
   "source": [
    "numbers = [1, 2, 3, 100, 2, 99, 102, 55]\n",
    "for i in range(len(numbers)):\n",
    "    print(i)\n",
    "    "
   ]
  },
  {
   "cell_type": "code",
   "execution_count": 155,
   "id": "c655a249",
   "metadata": {},
   "outputs": [
    {
     "data": {
      "text/plain": [
       "55"
      ]
     },
     "execution_count": 155,
     "metadata": {},
     "output_type": "execute_result"
    }
   ],
   "source": [
    "numbers[i]"
   ]
  },
  {
   "cell_type": "code",
   "execution_count": 184,
   "id": "b7246701",
   "metadata": {},
   "outputs": [
    {
     "name": "stdout",
     "output_type": "stream",
     "text": [
      "max num is :  102\n",
      "Min num is :  5\n",
      "Second max number is : 55\n"
     ]
    }
   ],
   "source": [
    "def max_value():\n",
    "    numbers = [32, 5, 80, 100, 44, 99, 102, 55]\n",
    "    max=numbers[0]\n",
    "    min=numbers[0]\n",
    "    second_max=numbers[0]\n",
    "    for i in range(len(numbers)):\n",
    "        if numbers[i] > max:\n",
    "            max=numbers[i]\n",
    "        if numbers[i] < min:\n",
    "            min=numbers[i]\n",
    "        elif (numbers[i] >= min and numbers[i] <= max): \n",
    "            second_max = numbers[i] \n",
    "            \n",
    "    print(\"max num is : \",max)\n",
    "    print(\"Min num is : \",min)\n",
    "    print(\"Second max number is :\",second_max)\n",
    "max_value()  "
   ]
  },
  {
   "cell_type": "code",
   "execution_count": 185,
   "id": "6fa4f466",
   "metadata": {},
   "outputs": [
    {
     "name": "stdout",
     "output_type": "stream",
     "text": [
      "max num is :  102\n",
      "Min num is :  55\n",
      "Second max number is : 100\n"
     ]
    }
   ],
   "source": [
    "def max_value():\n",
    "    numbers = [11, 2, 3, 100, 21, 99, 102, 55]\n",
    "    max=min=second_max=numbers[0]   # max=1,min=1,second_max=1\n",
    "    \n",
    "    for i in range(len(numbers)):   #length of numbers=8\n",
    "        if (numbers[i] >= max):     # for first iteration numbers[i]=1 and max=1 this condition is true,\n",
    "            second_max=max           # second_max=1 and max=1\n",
    "            max=numbers[i]# max=1 and numbers[i]=2 then for loop continues till max=102 and numbers[i]=55 then the if condition false\n",
    "        elif (numbers[i] <= max):\n",
    "            min = numbers[i]\n",
    "        \n",
    "        \n",
    "        elif (numbers[i] >= second_max and numbers[i] <= max): \n",
    "            second_max = numbers[i] \n",
    "        \n",
    "    print(\"max num is : \",max)\n",
    "    print(\"Min num is : \",min)\n",
    "    print(\"Second max number is :\",second_max)\n",
    "max_value()   "
   ]
  },
  {
   "cell_type": "code",
   "execution_count": 182,
   "id": "c3c34afd",
   "metadata": {},
   "outputs": [
    {
     "name": "stdout",
     "output_type": "stream",
     "text": [
      "max num is :  102\n",
      "Min num is :  1\n",
      "Second max number is : 101\n"
     ]
    }
   ],
   "source": [
    "def max_value():\n",
    "    numbers = [1, 101, 3, 100, 2, 99, 102, 55]\n",
    "    max=min=second_max=numbers[0]   # max=1,min=1,second_max=1\n",
    "    \n",
    "    for i in range(len(numbers)):   #length of numbers=8\n",
    "        if (numbers[i] >= max):     # for first iteration numbers[i]=1 and max=1 this condition is true,\n",
    "            second_max=max           # second_max=1 and max=1\n",
    "            max=numbers[i]           # max=1 and numbers[i]=2 then for loop continues till max=102 and numbers[i]=55 then the if condition false\n",
    "        elif (numbers[i] >= second_max and numbers[i] <= max): \n",
    "            second_max = numbers[i] \n",
    "            \n",
    "    print(\"max num is : \",max)\n",
    "    print(\"Min num is : \",min)\n",
    "    print(\"Second max number is :\",second_max)\n",
    "max_value()   "
   ]
  },
  {
   "cell_type": "markdown",
   "id": "a9e5cac4",
   "metadata": {},
   "source": [
    "Write a function to find max value from given list\n",
    "def max_value():\n",
    "    numbers = [1, 2, 3, 100, 2, 99, 102, 55]\n",
    "    \n",
    "    # Write your logic here\n",
    "    # return max value -> here max value is 102"
   ]
  },
  {
   "cell_type": "code",
   "execution_count": 193,
   "id": "6e8d5ab7",
   "metadata": {},
   "outputs": [
    {
     "name": "stdout",
     "output_type": "stream",
     "text": [
      "Max number is :  102\n"
     ]
    }
   ],
   "source": [
    "def max_value():\n",
    "    numbers = [1, 2, 3, 100, 2, 99, 102, 55]\n",
    "    max=0  # Initially max =0 For first iteration max=1 for second iteration max =2 and so on.when max =102\n",
    "    for i in numbers:\n",
    "        if i > max: # 55> max which is 102 , this condition is false\n",
    "            max=i\n",
    "    print(\"Max number is : \",max)  # when if condition is false print this\n",
    "            \n",
    "max_value()"
   ]
  },
  {
   "cell_type": "code",
   "execution_count": 194,
   "id": "25ea9022",
   "metadata": {},
   "outputs": [
    {
     "name": "stdout",
     "output_type": "stream",
     "text": [
      "Max number is :  188\n"
     ]
    }
   ],
   "source": [
    "def max_value():\n",
    "    numbers=[45,51,102,188,15,48]\n",
    "    max=0  # Initially max =0 For first iteration max=1 for second iteration max =2 and so on.when max =102\n",
    "    for i in numbers:\n",
    "        if i > max: # 55> max which is 102 , this condition is false\n",
    "            max=i\n",
    "    print(\"Max number is : \",max)  # when if condition is false print this\n",
    "            \n",
    "max_value()"
   ]
  },
  {
   "cell_type": "markdown",
   "id": "80668d92",
   "metadata": {},
   "source": [
    "def second_max_value():\n",
    "    numbers = [1, 2, 3, 100, 2, 99, 102, 55]\n",
    "    \n",
    "    # Write your logic here\n",
    "    # return max value -> here max value is 100"
   ]
  },
  {
   "cell_type": "code",
   "execution_count": 197,
   "id": "707a4791",
   "metadata": {},
   "outputs": [
    {
     "name": "stdout",
     "output_type": "stream",
     "text": [
      "Second max number is :  100\n"
     ]
    }
   ],
   "source": [
    "def second_max_value():\n",
    "    numbers = [1,2,3,100,2,99,102,55]\n",
    "    second_max_value=0\n",
    "    max=0\n",
    "    \n",
    "    for i in range(len(numbers)):   #length of numbers=8\n",
    "        if (numbers[i] >= max):     # for first iteration numbers[i]=1 and max=1 this condition is true,\n",
    "            second_max=max           # second_max=1 and max=1\n",
    "            max=numbers[i]           # max=1 and numbers[i]=2 then for loop continues till max=102 and numbers[i]=55 then the if condition false\n",
    "        elif (numbers[i] >= second_max and numbers[i] <= max): \n",
    "            second_max = numbers[i] \n",
    "    print(\"Second max number is : \",second_max)\n",
    "second_max_value()"
   ]
  },
  {
   "cell_type": "code",
   "execution_count": 198,
   "id": "4e76c194",
   "metadata": {},
   "outputs": [
    {
     "name": "stdout",
     "output_type": "stream",
     "text": [
      "Second max number is :  102\n"
     ]
    }
   ],
   "source": [
    "def second_max_value():\n",
    "    numbers = [1,105,3,100,2,99,102,55]\n",
    "    second_max_value=0\n",
    "    max=0\n",
    "    \n",
    "    for i in range(len(numbers)):   #length of numbers=8\n",
    "        if (numbers[i] >= max):     # for first iteration numbers[i]=1 and max=1 this condition is true,\n",
    "            second_max=max           # second_max=1 and max=1\n",
    "            max=numbers[i]           # max=1 and numbers[i]=2 then for loop continues till max=102 and numbers[i]=55 then the if condition false\n",
    "        elif (numbers[i] >= second_max and numbers[i] <= max): \n",
    "            second_max = numbers[i] \n",
    "    print(\"Second max number is : \",second_max)\n",
    "second_max_value()"
   ]
  },
  {
   "cell_type": "code",
   "execution_count": null,
   "id": "870a1f73",
   "metadata": {},
   "outputs": [],
   "source": []
  }
 ],
 "metadata": {
  "kernelspec": {
   "display_name": "Python 3",
   "language": "python",
   "name": "python3"
  },
  "language_info": {
   "codemirror_mode": {
    "name": "ipython",
    "version": 3
   },
   "file_extension": ".py",
   "mimetype": "text/x-python",
   "name": "python",
   "nbconvert_exporter": "python",
   "pygments_lexer": "ipython3",
   "version": "3.8.8"
  }
 },
 "nbformat": 4,
 "nbformat_minor": 5
}
