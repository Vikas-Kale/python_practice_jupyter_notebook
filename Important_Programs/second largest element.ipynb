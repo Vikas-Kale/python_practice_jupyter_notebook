{
 "cells": [
  {
   "cell_type": "markdown",
   "id": "58107e1a",
   "metadata": {},
   "source": [
    "## Write a program to find  largest element in list."
   ]
  },
  {
   "cell_type": "code",
   "execution_count": 44,
   "id": "9572013b",
   "metadata": {},
   "outputs": [
    {
     "name": "stdout",
     "output_type": "stream",
     "text": [
      "Largest element in list is:- 12\n"
     ]
    }
   ],
   "source": [
    "num=[2,5,8,12,6]\n",
    "max2=0             # 1st:max=2,2nd:max=5,3rd:max=8,4th:max=12\n",
    "sec_large=0\n",
    "\n",
    "for i in num:        # i=2,5,8,12,6 ;1st:i=2,2nd:i=5,3rd:i=8,4th:i=12,5th:i=6\n",
    "    if i > max2:      # if this condition is true,then below statement execute. \n",
    "        sec_large=max2  # 1st:sec_large=0,2nd:sec_large=2,3rd:sec_large=5,4th:sec_large=8\n",
    "        max2=i          # 1st:max=2,2nd:max=5,3rd:max=8,4th:max=12\n",
    "              \n",
    "print(\"Largest element in list is:- {}\".format(max))"
   ]
  },
  {
   "cell_type": "code",
   "execution_count": 2,
   "id": "40bb03ba",
   "metadata": {
    "ExecuteTime": {
     "end_time": "2021-10-14T13:44:52.831523Z",
     "start_time": "2021-10-14T13:44:52.818525Z"
    }
   },
   "outputs": [
    {
     "name": "stdout",
     "output_type": "stream",
     "text": [
      "Largest element in list is:- 12\n",
      "Second_Largest element in list is:- 9\n"
     ]
    }
   ],
   "source": [
    "num=[2,5,8,12,9]\n",
    "max3=0             # 1st:max=2,2nd:max=5,3rd:max=8,4th:max=12\n",
    "sec_large=0\n",
    "\n",
    "for i in num:        # i=2,5,8,12,6 ;1st:i=2,2nd:i=5,3rd:i=8,4th:i=12,5th:i=6\n",
    "    if i > max3:      # if this condition is true,then below statement execute. \n",
    "        sec_large=max3  # 1st:sec_large=0,2nd:sec_large=2,3rd:sec_large=5,4th:sec_large=8\n",
    "        max3=i          # 1st:max=2,2nd:max=5,3rd:max=8,4th:max=12\n",
    "        \n",
    "    elif i>=sec_large and i<=max3:  # \n",
    "        sec_large=i\n",
    "              \n",
    "print(\"Largest element in list is:- {}\".format(max3))\n",
    "print(\"Second_Largest element in list is:- {}\".format(sec_large))"
   ]
  },
  {
   "cell_type": "code",
   "execution_count": 46,
   "id": "c6b08cae",
   "metadata": {},
   "outputs": [
    {
     "name": "stdout",
     "output_type": "stream",
     "text": [
      "Largest element in list is:- 180\n"
     ]
    }
   ],
   "source": [
    "num=[2,5,180,120,6]\n",
    "max4=0             # 1st:max=2,2nd:max=5,3rd:max=8,4th:max=12\n",
    "sec_large=0\n",
    "\n",
    "for i in num:        # i=2,5,8,12,6 ;1st:i=2,2nd:i=5,3rd:i=8,4th:i=12,5th:i=6\n",
    "    if i > max4:      # if this condition is true,then below statement execute. \n",
    "        sec_large=max4  # 1st:sec_large=0,2nd:sec_large=2,3rd:sec_large=5,4th:sec_large=8\n",
    "        max4=i          # 1st:max=2,2nd:max=5,3rd:max=8,4th:max=12\n",
    "              \n",
    "print(\"Largest element in list is:- {}\".format(max4))"
   ]
  },
  {
   "cell_type": "code",
   "execution_count": 47,
   "id": "cae188cd",
   "metadata": {},
   "outputs": [
    {
     "name": "stdout",
     "output_type": "stream",
     "text": [
      "Largest element in list is:- 180\n",
      "Second largest element in list is:- 120\n"
     ]
    }
   ],
   "source": [
    "num=[2,5,180,120,6]\n",
    "max5=0             # 1st:max=2,2nd:max=5,3rd:max=8,4th:max=12\n",
    "sec_large=0\n",
    "\n",
    "for i in range(len(num)):        # i=2,5,8,12,6 ;1st:i=2,2nd:i=5,3rd:i=8,4th:i=12,5th:i=6\n",
    "    if num[i] > max5:      # if this condition is true,then below statement execute. \n",
    "        sec_large=max5  # 1st:sec_large=0,2nd:sec_large=2,3rd:sec_large=5,4th:sec_large=8\n",
    "        max5=num[i]          # 1st:max=2,2nd:max=5,3rd:max=8,4th:max=12print(\"Second largest element in list is:- {}\".format(sec_large))\n",
    "    elif num[i] >= sec_large and num[i] <= max5:\n",
    "        sec_large=num[i]\n",
    "\n",
    "print(\"Largest element in list is:- {}\".format(max5))\n",
    "print(\"Second largest element in list is:- {}\".format(sec_large))\n"
   ]
  },
  {
   "cell_type": "code",
   "execution_count": 33,
   "id": "16ac7cc0",
   "metadata": {},
   "outputs": [],
   "source": [
    "def sec_largest(*num):\n",
    "    max1=0\n",
    "    second=0\n",
    "    \n",
    "    for i in num:\n",
    "        if i>max1:\n",
    "            second=max1\n",
    "            max1=i\n",
    "            \n",
    "        elif i>=second and i<=max1:\n",
    "            second=i\n",
    "    print(second,'second_max')\n",
    "    print(max1,\"max number\")"
   ]
  },
  {
   "cell_type": "code",
   "execution_count": 34,
   "id": "59468acb",
   "metadata": {},
   "outputs": [
    {
     "name": "stdout",
     "output_type": "stream",
     "text": [
      "3 second_max\n",
      "4 max number\n"
     ]
    }
   ],
   "source": [
    "sec_largest(1,2,3,4)"
   ]
  },
  {
   "cell_type": "code",
   "execution_count": 35,
   "id": "9efeb2e9",
   "metadata": {},
   "outputs": [
    {
     "name": "stdout",
     "output_type": "stream",
     "text": [
      "9 second_max\n",
      "12 max number\n"
     ]
    }
   ],
   "source": [
    "sec_largest(8,5,12,4,9)"
   ]
  },
  {
   "cell_type": "code",
   "execution_count": 36,
   "id": "d35adfe3",
   "metadata": {},
   "outputs": [
    {
     "name": "stdout",
     "output_type": "stream",
     "text": [
      "55 second_max\n",
      "80 max number\n"
     ]
    }
   ],
   "source": [
    "sec_largest(10,22,45,50,80,55)"
   ]
  },
  {
   "cell_type": "markdown",
   "id": "fc2e20b4",
   "metadata": {},
   "source": [
    "## Another method"
   ]
  },
  {
   "cell_type": "code",
   "execution_count": 1,
   "id": "93159997",
   "metadata": {},
   "outputs": [
    {
     "name": "stdout",
     "output_type": "stream",
     "text": [
      "8\n"
     ]
    }
   ],
   "source": [
    "num=[1,2,3,4,5,6,7,8]\n",
    "x=max(num)\n",
    "print(x)"
   ]
  },
  {
   "cell_type": "code",
   "execution_count": 1,
   "id": "8a922ac3",
   "metadata": {},
   "outputs": [
    {
     "name": "stdout",
     "output_type": "stream",
     "text": [
      "69\n"
     ]
    }
   ],
   "source": [
    "nums = [5, 12, 54, 87, 55, 69, 23, 17]\n",
    "nums.remove(max(nums))\n",
    "second_largest = max(nums)\n",
    "print(second_largest)"
   ]
  },
  {
   "cell_type": "code",
   "execution_count": 5,
   "id": "42822f04",
   "metadata": {},
   "outputs": [
    {
     "name": "stdout",
     "output_type": "stream",
     "text": [
      "Largest number is:  500\n",
      "Second largest number is: 420\n"
     ]
    }
   ],
   "source": [
    "lst=[12,14,15,18,25,500,100,50,75,420,10,5]\n",
    "n=max(lst)\n",
    "print(\"Largest number is: \",n)\n",
    "d=lst.remove(n)\n",
    "m=max(lst)\n",
    "print(\"Second largest number is:\",m)"
   ]
  },
  {
   "cell_type": "markdown",
   "id": "83a1b499",
   "metadata": {},
   "source": [
    "### Another method"
   ]
  },
  {
   "cell_type": "code",
   "execution_count": 16,
   "id": "3e700b52",
   "metadata": {},
   "outputs": [
    {
     "name": "stdout",
     "output_type": "stream",
     "text": [
      "enter numbers: 81\n",
      "enter numbers: 45\n",
      "enter numbers: 60\n",
      "enter numbers: 2\n",
      "enter numbers: 75\n",
      "[81, 45, 60, 2, 75]\n",
      "[2, 45, 60, 75, 81]\n",
      "Largest number is 81\n",
      "Second largest number is: 75\n"
     ]
    }
   ],
   "source": [
    "num=[]\n",
    "for i in range(5):\n",
    "    x=int(input(\"enter numbers: \"))\n",
    "    num.append(x)\n",
    "print(num)    \n",
    "s=sorted(num)\n",
    "print(s)\n",
    "d=s[3]\n",
    "l=s[4]\n",
    "print(\"Largest number is {}\".format(l))\n",
    "print(\"Second largest number is:\",d)"
   ]
  },
  {
   "cell_type": "code",
   "execution_count": 10,
   "id": "007ef6c6",
   "metadata": {},
   "outputs": [
    {
     "name": "stdout",
     "output_type": "stream",
     "text": [
      "12\n",
      "[5, 10, 12, 14, 15, 18, 25, 50, 75, 100, 420, 500]\n",
      "500\n"
     ]
    }
   ],
   "source": [
    "ls1=[12,14,15,18,25,500,100,50,75,420,10,5]\n",
    "print(len(ls1))\n",
    "c=sorted(ls1)\n",
    "print(c)\n",
    "s=c[11]\n",
    "print(s)"
   ]
  },
  {
   "cell_type": "code",
   "execution_count": null,
   "id": "42aac951",
   "metadata": {},
   "outputs": [],
   "source": []
  }
 ],
 "metadata": {
  "kernelspec": {
   "display_name": "Python 3",
   "language": "python",
   "name": "python3"
  },
  "language_info": {
   "codemirror_mode": {
    "name": "ipython",
    "version": 3
   },
   "file_extension": ".py",
   "mimetype": "text/x-python",
   "name": "python",
   "nbconvert_exporter": "python",
   "pygments_lexer": "ipython3",
   "version": "3.8.8"
  }
 },
 "nbformat": 4,
 "nbformat_minor": 5
}
