{
 "cells": [
  {
   "cell_type": "code",
   "execution_count": 1,
   "id": "aae0721a",
   "metadata": {
    "ExecuteTime": {
     "end_time": "2021-11-25T10:18:57.566560Z",
     "start_time": "2021-11-25T10:18:52.992226Z"
    }
   },
   "outputs": [],
   "source": [
    "import numpy as np"
   ]
  },
  {
   "cell_type": "code",
   "execution_count": 2,
   "id": "98cfcba1",
   "metadata": {
    "ExecuteTime": {
     "end_time": "2021-11-25T10:19:17.165282Z",
     "start_time": "2021-11-25T10:19:17.151281Z"
    }
   },
   "outputs": [],
   "source": [
    "myarr = np.array([1,2,3,4,5])"
   ]
  },
  {
   "cell_type": "code",
   "execution_count": 3,
   "id": "8e9fdca7",
   "metadata": {
    "ExecuteTime": {
     "end_time": "2021-11-25T10:19:24.788425Z",
     "start_time": "2021-11-25T10:19:24.730428Z"
    }
   },
   "outputs": [
    {
     "data": {
      "text/plain": [
       "array([1, 2, 3, 4, 5])"
      ]
     },
     "execution_count": 3,
     "metadata": {},
     "output_type": "execute_result"
    }
   ],
   "source": [
    "myarr"
   ]
  },
  {
   "cell_type": "code",
   "execution_count": 4,
   "id": "845eb356",
   "metadata": {
    "ExecuteTime": {
     "end_time": "2021-11-25T10:19:31.583212Z",
     "start_time": "2021-11-25T10:19:31.562212Z"
    }
   },
   "outputs": [
    {
     "data": {
      "text/plain": [
       "numpy.ndarray"
      ]
     },
     "execution_count": 4,
     "metadata": {},
     "output_type": "execute_result"
    }
   ],
   "source": [
    "type(myarr)"
   ]
  },
  {
   "cell_type": "code",
   "execution_count": 5,
   "id": "e1b06a3b",
   "metadata": {
    "ExecuteTime": {
     "end_time": "2021-11-25T10:19:40.199890Z",
     "start_time": "2021-11-25T10:19:40.173892Z"
    }
   },
   "outputs": [
    {
     "data": {
      "text/plain": [
       "(5,)"
      ]
     },
     "execution_count": 5,
     "metadata": {},
     "output_type": "execute_result"
    }
   ],
   "source": [
    "myarr.shape"
   ]
  },
  {
   "cell_type": "code",
   "execution_count": 6,
   "id": "4af4c2fd",
   "metadata": {
    "ExecuteTime": {
     "end_time": "2021-11-25T10:19:49.146530Z",
     "start_time": "2021-11-25T10:19:49.137530Z"
    }
   },
   "outputs": [
    {
     "data": {
      "text/plain": [
       "5"
      ]
     },
     "execution_count": 6,
     "metadata": {},
     "output_type": "execute_result"
    }
   ],
   "source": [
    "myarr.size"
   ]
  },
  {
   "cell_type": "code",
   "execution_count": 8,
   "id": "21bcd16c",
   "metadata": {
    "ExecuteTime": {
     "end_time": "2021-11-25T10:20:03.250525Z",
     "start_time": "2021-11-25T10:20:03.130625Z"
    }
   },
   "outputs": [
    {
     "data": {
      "text/plain": [
       "True"
      ]
     },
     "execution_count": 8,
     "metadata": {},
     "output_type": "execute_result"
    }
   ],
   "source": [
    "myarr.all()"
   ]
  },
  {
   "cell_type": "code",
   "execution_count": 9,
   "id": "c758ddfc",
   "metadata": {
    "ExecuteTime": {
     "end_time": "2021-11-25T13:52:40.857814Z",
     "start_time": "2021-11-25T13:52:39.925518Z"
    }
   },
   "outputs": [],
   "source": [
    "import numpy as np"
   ]
  },
  {
   "cell_type": "code",
   "execution_count": 10,
   "id": "b1d26633",
   "metadata": {
    "ExecuteTime": {
     "end_time": "2021-11-25T13:52:59.912483Z",
     "start_time": "2021-11-25T13:52:59.772485Z"
    }
   },
   "outputs": [],
   "source": [
    "arr = np.array((1,2,3,4,5))"
   ]
  },
  {
   "cell_type": "code",
   "execution_count": 11,
   "id": "8fbd9b8e",
   "metadata": {
    "ExecuteTime": {
     "end_time": "2021-11-25T13:53:03.550727Z",
     "start_time": "2021-11-25T13:53:03.424180Z"
    }
   },
   "outputs": [
    {
     "data": {
      "text/plain": [
       "array([1, 2, 3, 4, 5])"
      ]
     },
     "execution_count": 11,
     "metadata": {},
     "output_type": "execute_result"
    }
   ],
   "source": [
    "arr"
   ]
  },
  {
   "cell_type": "code",
   "execution_count": 12,
   "id": "419b16c8",
   "metadata": {
    "ExecuteTime": {
     "end_time": "2021-11-25T13:53:11.637942Z",
     "start_time": "2021-11-25T13:53:11.604944Z"
    }
   },
   "outputs": [
    {
     "data": {
      "text/plain": [
       "numpy.ndarray"
      ]
     },
     "execution_count": 12,
     "metadata": {},
     "output_type": "execute_result"
    }
   ],
   "source": [
    "type(arr)"
   ]
  },
  {
   "cell_type": "code",
   "execution_count": 13,
   "id": "53a386ce",
   "metadata": {
    "ExecuteTime": {
     "end_time": "2021-11-25T13:56:04.322035Z",
     "start_time": "2021-11-25T13:56:04.311035Z"
    }
   },
   "outputs": [],
   "source": [
    "arr = np.array([[1,2,3],[4,5,6]])"
   ]
  },
  {
   "cell_type": "code",
   "execution_count": 14,
   "id": "324a9b37",
   "metadata": {
    "ExecuteTime": {
     "end_time": "2021-11-25T13:56:07.846950Z",
     "start_time": "2021-11-25T13:56:07.825952Z"
    }
   },
   "outputs": [
    {
     "data": {
      "text/plain": [
       "array([[1, 2, 3],\n",
       "       [4, 5, 6]])"
      ]
     },
     "execution_count": 14,
     "metadata": {},
     "output_type": "execute_result"
    }
   ],
   "source": [
    "arr"
   ]
  },
  {
   "cell_type": "code",
   "execution_count": 15,
   "id": "b9383ac7",
   "metadata": {
    "ExecuteTime": {
     "end_time": "2021-11-25T13:56:16.645672Z",
     "start_time": "2021-11-25T13:56:16.631672Z"
    }
   },
   "outputs": [
    {
     "data": {
      "text/plain": [
       "(2, 3)"
      ]
     },
     "execution_count": 15,
     "metadata": {},
     "output_type": "execute_result"
    }
   ],
   "source": [
    "arr.shape"
   ]
  },
  {
   "cell_type": "code",
   "execution_count": 16,
   "id": "fbe7c787",
   "metadata": {
    "ExecuteTime": {
     "end_time": "2021-11-25T13:56:25.174196Z",
     "start_time": "2021-11-25T13:56:25.153197Z"
    }
   },
   "outputs": [
    {
     "data": {
      "text/plain": [
       "6"
      ]
     },
     "execution_count": 16,
     "metadata": {},
     "output_type": "execute_result"
    }
   ],
   "source": [
    "arr.size"
   ]
  },
  {
   "cell_type": "code",
   "execution_count": 18,
   "id": "84cb3f5d",
   "metadata": {
    "ExecuteTime": {
     "end_time": "2021-11-25T13:57:27.967389Z",
     "start_time": "2021-11-25T13:57:27.952389Z"
    }
   },
   "outputs": [
    {
     "data": {
      "text/plain": [
       "array([[1, 2],\n",
       "       [3, 4],\n",
       "       [5, 6]])"
      ]
     },
     "execution_count": 18,
     "metadata": {},
     "output_type": "execute_result"
    }
   ],
   "source": [
    "arr.reshape(3,2)"
   ]
  },
  {
   "cell_type": "code",
   "execution_count": 19,
   "id": "ef86405e",
   "metadata": {
    "ExecuteTime": {
     "end_time": "2021-11-25T13:58:39.475094Z",
     "start_time": "2021-11-25T13:58:38.944782Z"
    }
   },
   "outputs": [
    {
     "data": {
      "text/plain": [
       "2"
      ]
     },
     "execution_count": 19,
     "metadata": {},
     "output_type": "execute_result"
    }
   ],
   "source": [
    "arr.ndim"
   ]
  },
  {
   "cell_type": "code",
   "execution_count": 20,
   "id": "e710f2d1",
   "metadata": {
    "ExecuteTime": {
     "end_time": "2021-11-25T13:59:20.205735Z",
     "start_time": "2021-11-25T13:59:20.189734Z"
    }
   },
   "outputs": [],
   "source": [
    "arr = np.array([[[1,2,3],[4,5,6],[7,8,9]]])"
   ]
  },
  {
   "cell_type": "code",
   "execution_count": 21,
   "id": "027112fe",
   "metadata": {
    "ExecuteTime": {
     "end_time": "2021-11-25T13:59:24.108542Z",
     "start_time": "2021-11-25T13:59:24.086542Z"
    }
   },
   "outputs": [
    {
     "data": {
      "text/plain": [
       "array([[[1, 2, 3],\n",
       "        [4, 5, 6],\n",
       "        [7, 8, 9]]])"
      ]
     },
     "execution_count": 21,
     "metadata": {},
     "output_type": "execute_result"
    }
   ],
   "source": [
    "arr"
   ]
  },
  {
   "cell_type": "code",
   "execution_count": 22,
   "id": "84807385",
   "metadata": {
    "ExecuteTime": {
     "end_time": "2021-11-25T13:59:31.055649Z",
     "start_time": "2021-11-25T13:59:31.037651Z"
    }
   },
   "outputs": [
    {
     "data": {
      "text/plain": [
       "9"
      ]
     },
     "execution_count": 22,
     "metadata": {},
     "output_type": "execute_result"
    }
   ],
   "source": [
    "arr.size"
   ]
  },
  {
   "cell_type": "code",
   "execution_count": 23,
   "id": "76e454d9",
   "metadata": {
    "ExecuteTime": {
     "end_time": "2021-11-25T13:59:36.643031Z",
     "start_time": "2021-11-25T13:59:36.621030Z"
    }
   },
   "outputs": [
    {
     "data": {
      "text/plain": [
       "(1, 3, 3)"
      ]
     },
     "execution_count": 23,
     "metadata": {},
     "output_type": "execute_result"
    }
   ],
   "source": [
    "arr.shape"
   ]
  },
  {
   "cell_type": "code",
   "execution_count": 26,
   "id": "f6b8932f",
   "metadata": {
    "ExecuteTime": {
     "end_time": "2021-11-25T14:00:20.556534Z",
     "start_time": "2021-11-25T14:00:20.533501Z"
    }
   },
   "outputs": [
    {
     "data": {
      "text/plain": [
       "<memory at 0x00000168D52D88B0>"
      ]
     },
     "execution_count": 26,
     "metadata": {},
     "output_type": "execute_result"
    }
   ],
   "source": [
    "arr.data"
   ]
  },
  {
   "cell_type": "code",
   "execution_count": 27,
   "id": "4a780a22",
   "metadata": {
    "ExecuteTime": {
     "end_time": "2021-11-25T14:00:28.918847Z",
     "start_time": "2021-11-25T14:00:28.898849Z"
    }
   },
   "outputs": [
    {
     "data": {
      "text/plain": [
       "3"
      ]
     },
     "execution_count": 27,
     "metadata": {},
     "output_type": "execute_result"
    }
   ],
   "source": [
    "arr.ndim"
   ]
  },
  {
   "cell_type": "code",
   "execution_count": 29,
   "id": "f6f621be",
   "metadata": {
    "ExecuteTime": {
     "end_time": "2021-11-25T14:02:49.504104Z",
     "start_time": "2021-11-25T14:02:49.448070Z"
    }
   },
   "outputs": [],
   "source": [
    "arr = np.array([1,2,3,4,5], ndmin=5)"
   ]
  },
  {
   "cell_type": "code",
   "execution_count": 30,
   "id": "40be12b0",
   "metadata": {
    "ExecuteTime": {
     "end_time": "2021-11-25T14:02:53.101613Z",
     "start_time": "2021-11-25T14:02:53.074581Z"
    }
   },
   "outputs": [
    {
     "data": {
      "text/plain": [
       "array([[[[[1, 2, 3, 4, 5]]]]])"
      ]
     },
     "execution_count": 30,
     "metadata": {},
     "output_type": "execute_result"
    }
   ],
   "source": [
    "arr"
   ]
  },
  {
   "cell_type": "code",
   "execution_count": 31,
   "id": "e4c2c566",
   "metadata": {
    "ExecuteTime": {
     "end_time": "2021-11-25T14:03:00.094271Z",
     "start_time": "2021-11-25T14:03:00.078271Z"
    }
   },
   "outputs": [
    {
     "data": {
      "text/plain": [
       "5"
      ]
     },
     "execution_count": 31,
     "metadata": {},
     "output_type": "execute_result"
    }
   ],
   "source": [
    "arr.ndim"
   ]
  },
  {
   "cell_type": "code",
   "execution_count": 32,
   "id": "fef7981e",
   "metadata": {
    "ExecuteTime": {
     "end_time": "2021-11-25T14:03:04.882791Z",
     "start_time": "2021-11-25T14:03:04.862793Z"
    }
   },
   "outputs": [
    {
     "data": {
      "text/plain": [
       "(1, 1, 1, 1, 5)"
      ]
     },
     "execution_count": 32,
     "metadata": {},
     "output_type": "execute_result"
    }
   ],
   "source": [
    "arr.shape"
   ]
  },
  {
   "cell_type": "code",
   "execution_count": 33,
   "id": "b6443336",
   "metadata": {
    "ExecuteTime": {
     "end_time": "2021-11-25T14:03:09.303814Z",
     "start_time": "2021-11-25T14:03:09.283815Z"
    }
   },
   "outputs": [
    {
     "data": {
      "text/plain": [
       "5"
      ]
     },
     "execution_count": 33,
     "metadata": {},
     "output_type": "execute_result"
    }
   ],
   "source": [
    "arr.size"
   ]
  },
  {
   "cell_type": "code",
   "execution_count": 34,
   "id": "a56d7d22",
   "metadata": {
    "ExecuteTime": {
     "end_time": "2021-11-25T14:49:18.247333Z",
     "start_time": "2021-11-25T14:49:18.229335Z"
    }
   },
   "outputs": [],
   "source": [
    "import numpy as np"
   ]
  },
  {
   "cell_type": "code",
   "execution_count": 35,
   "id": "7dbb6af8",
   "metadata": {
    "ExecuteTime": {
     "end_time": "2021-11-25T14:49:35.617859Z",
     "start_time": "2021-11-25T14:49:35.600826Z"
    }
   },
   "outputs": [],
   "source": [
    "arr = np.array([1,2,3,4,5])"
   ]
  },
  {
   "cell_type": "code",
   "execution_count": 36,
   "id": "9d820c63",
   "metadata": {
    "ExecuteTime": {
     "end_time": "2021-11-25T14:49:38.030166Z",
     "start_time": "2021-11-25T14:49:38.012166Z"
    }
   },
   "outputs": [
    {
     "data": {
      "text/plain": [
       "array([1, 2, 3, 4, 5])"
      ]
     },
     "execution_count": 36,
     "metadata": {},
     "output_type": "execute_result"
    }
   ],
   "source": [
    "arr"
   ]
  },
  {
   "cell_type": "code",
   "execution_count": 37,
   "id": "506d5f06",
   "metadata": {
    "ExecuteTime": {
     "end_time": "2021-11-25T14:49:42.985769Z",
     "start_time": "2021-11-25T14:49:42.960768Z"
    }
   },
   "outputs": [
    {
     "data": {
      "text/plain": [
       "1"
      ]
     },
     "execution_count": 37,
     "metadata": {},
     "output_type": "execute_result"
    }
   ],
   "source": [
    "arr[0]"
   ]
  },
  {
   "cell_type": "code",
   "execution_count": 38,
   "id": "7093d34f",
   "metadata": {
    "ExecuteTime": {
     "end_time": "2021-11-25T14:49:47.313160Z",
     "start_time": "2021-11-25T14:49:47.293160Z"
    }
   },
   "outputs": [
    {
     "data": {
      "text/plain": [
       "2"
      ]
     },
     "execution_count": 38,
     "metadata": {},
     "output_type": "execute_result"
    }
   ],
   "source": [
    "arr[1]"
   ]
  },
  {
   "cell_type": "code",
   "execution_count": 39,
   "id": "168a185a",
   "metadata": {
    "ExecuteTime": {
     "end_time": "2021-11-25T14:49:53.345432Z",
     "start_time": "2021-11-25T14:49:53.320434Z"
    }
   },
   "outputs": [
    {
     "data": {
      "text/plain": [
       "5"
      ]
     },
     "execution_count": 39,
     "metadata": {},
     "output_type": "execute_result"
    }
   ],
   "source": [
    "arr[4]"
   ]
  },
  {
   "cell_type": "code",
   "execution_count": 40,
   "id": "3e1b9172",
   "metadata": {
    "ExecuteTime": {
     "end_time": "2021-11-25T14:50:24.398836Z",
     "start_time": "2021-11-25T14:50:24.307836Z"
    }
   },
   "outputs": [
    {
     "data": {
      "text/plain": [
       "7"
      ]
     },
     "execution_count": 40,
     "metadata": {},
     "output_type": "execute_result"
    }
   ],
   "source": [
    "arr[4] + arr[1]"
   ]
  },
  {
   "cell_type": "code",
   "execution_count": 41,
   "id": "3159912a",
   "metadata": {
    "ExecuteTime": {
     "end_time": "2021-11-25T14:50:59.527898Z",
     "start_time": "2021-11-25T14:50:59.130799Z"
    }
   },
   "outputs": [
    {
     "name": "stdout",
     "output_type": "stream",
     "text": [
      "[1 2 3 4 5]\n"
     ]
    }
   ],
   "source": [
    "print(arr)"
   ]
  },
  {
   "cell_type": "code",
   "execution_count": 42,
   "id": "452cf665",
   "metadata": {
    "ExecuteTime": {
     "end_time": "2021-11-25T14:51:14.954604Z",
     "start_time": "2021-11-25T14:51:14.932604Z"
    }
   },
   "outputs": [
    {
     "name": "stdout",
     "output_type": "stream",
     "text": [
      "7\n"
     ]
    }
   ],
   "source": [
    "print(arr[4] + arr[1])"
   ]
  },
  {
   "cell_type": "code",
   "execution_count": 43,
   "id": "ad234b15",
   "metadata": {
    "ExecuteTime": {
     "end_time": "2021-11-25T14:51:54.521276Z",
     "start_time": "2021-11-25T14:51:54.501277Z"
    }
   },
   "outputs": [
    {
     "name": "stdout",
     "output_type": "stream",
     "text": [
      "5\n"
     ]
    }
   ],
   "source": [
    "print(arr[2] + arr[1])"
   ]
  },
  {
   "cell_type": "code",
   "execution_count": 44,
   "id": "257c687b",
   "metadata": {
    "ExecuteTime": {
     "end_time": "2021-11-25T14:52:15.781278Z",
     "start_time": "2021-11-25T14:52:15.705354Z"
    }
   },
   "outputs": [
    {
     "name": "stdout",
     "output_type": "stream",
     "text": [
      "6\n"
     ]
    }
   ],
   "source": [
    "print(arr[2] * arr[1])"
   ]
  },
  {
   "cell_type": "markdown",
   "id": "ff6874b0",
   "metadata": {},
   "source": [
    "# accessing elements on 2-d array"
   ]
  },
  {
   "cell_type": "code",
   "execution_count": 45,
   "id": "a40878d7",
   "metadata": {
    "ExecuteTime": {
     "end_time": "2021-11-25T14:53:57.347246Z",
     "start_time": "2021-11-25T14:53:57.335246Z"
    }
   },
   "outputs": [],
   "source": [
    "import numpy as np\n",
    "\n",
    "arr = np.array([[1,2,3,4],[5,6,7,8]])"
   ]
  },
  {
   "cell_type": "code",
   "execution_count": 46,
   "id": "f23aa89a",
   "metadata": {
    "ExecuteTime": {
     "end_time": "2021-11-25T14:53:59.651386Z",
     "start_time": "2021-11-25T14:53:59.626388Z"
    }
   },
   "outputs": [
    {
     "data": {
      "text/plain": [
       "array([[1, 2, 3, 4],\n",
       "       [5, 6, 7, 8]])"
      ]
     },
     "execution_count": 46,
     "metadata": {},
     "output_type": "execute_result"
    }
   ],
   "source": [
    "arr"
   ]
  },
  {
   "cell_type": "code",
   "execution_count": 47,
   "id": "9d3dbff1",
   "metadata": {
    "ExecuteTime": {
     "end_time": "2021-11-25T14:54:10.233070Z",
     "start_time": "2021-11-25T14:54:10.214071Z"
    }
   },
   "outputs": [
    {
     "data": {
      "text/plain": [
       "2"
      ]
     },
     "execution_count": 47,
     "metadata": {},
     "output_type": "execute_result"
    }
   ],
   "source": [
    "arr.ndim"
   ]
  },
  {
   "cell_type": "code",
   "execution_count": 48,
   "id": "df71c39e",
   "metadata": {
    "ExecuteTime": {
     "end_time": "2021-11-25T14:54:54.953975Z",
     "start_time": "2021-11-25T14:54:54.940975Z"
    }
   },
   "outputs": [
    {
     "name": "stdout",
     "output_type": "stream",
     "text": [
      "2\n"
     ]
    }
   ],
   "source": [
    "print(arr[0,1])"
   ]
  },
  {
   "cell_type": "code",
   "execution_count": 49,
   "id": "f5714bf0",
   "metadata": {
    "ExecuteTime": {
     "end_time": "2021-11-25T14:55:06.281381Z",
     "start_time": "2021-11-25T14:55:06.266381Z"
    }
   },
   "outputs": [
    {
     "name": "stdout",
     "output_type": "stream",
     "text": [
      "1 3\n"
     ]
    }
   ],
   "source": [
    "print(1,3)"
   ]
  },
  {
   "cell_type": "code",
   "execution_count": 50,
   "id": "5d602d7e",
   "metadata": {
    "ExecuteTime": {
     "end_time": "2021-11-25T14:55:16.504572Z",
     "start_time": "2021-11-25T14:55:16.484573Z"
    }
   },
   "outputs": [
    {
     "name": "stdout",
     "output_type": "stream",
     "text": [
      "8\n"
     ]
    }
   ],
   "source": [
    "print(arr[1,3])"
   ]
  },
  {
   "cell_type": "code",
   "execution_count": 51,
   "id": "7343f6e1",
   "metadata": {
    "ExecuteTime": {
     "end_time": "2021-11-25T14:57:02.883073Z",
     "start_time": "2021-11-25T14:57:02.872074Z"
    }
   },
   "outputs": [],
   "source": [
    "import numpy as np\n",
    "\n",
    "arr = np.array([[[1,2,3],[2,3,1],[11,12,13]]])"
   ]
  },
  {
   "cell_type": "code",
   "execution_count": 52,
   "id": "9ef43f10",
   "metadata": {
    "ExecuteTime": {
     "end_time": "2021-11-25T14:57:05.671764Z",
     "start_time": "2021-11-25T14:57:05.643766Z"
    }
   },
   "outputs": [
    {
     "data": {
      "text/plain": [
       "array([[[ 1,  2,  3],\n",
       "        [ 2,  3,  1],\n",
       "        [11, 12, 13]]])"
      ]
     },
     "execution_count": 52,
     "metadata": {},
     "output_type": "execute_result"
    }
   ],
   "source": [
    "arr"
   ]
  },
  {
   "cell_type": "code",
   "execution_count": 53,
   "id": "d14007b0",
   "metadata": {
    "ExecuteTime": {
     "end_time": "2021-11-25T14:57:19.091318Z",
     "start_time": "2021-11-25T14:57:19.074318Z"
    }
   },
   "outputs": [
    {
     "data": {
      "text/plain": [
       "3"
      ]
     },
     "execution_count": 53,
     "metadata": {},
     "output_type": "execute_result"
    }
   ],
   "source": [
    "arr.ndim"
   ]
  },
  {
   "cell_type": "code",
   "execution_count": 54,
   "id": "eeca1a74",
   "metadata": {
    "ExecuteTime": {
     "end_time": "2021-11-25T14:57:53.953538Z",
     "start_time": "2021-11-25T14:57:53.931540Z"
    }
   },
   "outputs": [
    {
     "name": "stdout",
     "output_type": "stream",
     "text": [
      "3\n"
     ]
    }
   ],
   "source": [
    "print(arr[0,1,1])"
   ]
  },
  {
   "cell_type": "markdown",
   "id": "d5802e14",
   "metadata": {},
   "source": [
    "# numpy array slicing"
   ]
  },
  {
   "cell_type": "code",
   "execution_count": 55,
   "id": "29cfbf95",
   "metadata": {
    "ExecuteTime": {
     "end_time": "2021-11-25T15:36:12.467525Z",
     "start_time": "2021-11-25T15:36:12.446525Z"
    }
   },
   "outputs": [],
   "source": [
    "import numpy as np"
   ]
  },
  {
   "cell_type": "code",
   "execution_count": 56,
   "id": "3c7ce53b",
   "metadata": {
    "ExecuteTime": {
     "end_time": "2021-11-25T15:36:38.172400Z",
     "start_time": "2021-11-25T15:36:38.153399Z"
    }
   },
   "outputs": [],
   "source": [
    "arr = np.array([1,2,3,4,5])"
   ]
  },
  {
   "cell_type": "code",
   "execution_count": 57,
   "id": "b88a71c7",
   "metadata": {
    "ExecuteTime": {
     "end_time": "2021-11-25T15:36:40.322729Z",
     "start_time": "2021-11-25T15:36:40.301731Z"
    }
   },
   "outputs": [
    {
     "data": {
      "text/plain": [
       "array([1, 2, 3, 4, 5])"
      ]
     },
     "execution_count": 57,
     "metadata": {},
     "output_type": "execute_result"
    }
   ],
   "source": [
    "arr"
   ]
  },
  {
   "cell_type": "code",
   "execution_count": 58,
   "id": "6ac825c3",
   "metadata": {
    "ExecuteTime": {
     "end_time": "2021-11-25T15:36:47.403889Z",
     "start_time": "2021-11-25T15:36:47.328889Z"
    }
   },
   "outputs": [
    {
     "data": {
      "text/plain": [
       "dtype('int32')"
      ]
     },
     "execution_count": 58,
     "metadata": {},
     "output_type": "execute_result"
    }
   ],
   "source": [
    "arr.dtype"
   ]
  },
  {
   "cell_type": "code",
   "execution_count": 59,
   "id": "3507267f",
   "metadata": {
    "ExecuteTime": {
     "end_time": "2021-11-25T15:36:57.296479Z",
     "start_time": "2021-11-25T15:36:57.275480Z"
    }
   },
   "outputs": [
    {
     "data": {
      "text/plain": [
       "(5,)"
      ]
     },
     "execution_count": 59,
     "metadata": {},
     "output_type": "execute_result"
    }
   ],
   "source": [
    "arr.shape"
   ]
  },
  {
   "cell_type": "code",
   "execution_count": 60,
   "id": "182f29a8",
   "metadata": {
    "ExecuteTime": {
     "end_time": "2021-11-25T15:37:03.426425Z",
     "start_time": "2021-11-25T15:37:03.403426Z"
    }
   },
   "outputs": [
    {
     "data": {
      "text/plain": [
       "5"
      ]
     },
     "execution_count": 60,
     "metadata": {},
     "output_type": "execute_result"
    }
   ],
   "source": [
    "arr.size"
   ]
  },
  {
   "cell_type": "code",
   "execution_count": 61,
   "id": "79ceb58c",
   "metadata": {
    "ExecuteTime": {
     "end_time": "2021-11-25T15:37:16.482320Z",
     "start_time": "2021-11-25T15:37:16.468320Z"
    }
   },
   "outputs": [
    {
     "data": {
      "text/plain": [
       "4"
      ]
     },
     "execution_count": 61,
     "metadata": {},
     "output_type": "execute_result"
    }
   ],
   "source": [
    "arr[3]"
   ]
  },
  {
   "cell_type": "code",
   "execution_count": 62,
   "id": "dbdaedab",
   "metadata": {
    "ExecuteTime": {
     "end_time": "2021-11-25T15:37:47.982088Z",
     "start_time": "2021-11-25T15:37:47.954089Z"
    }
   },
   "outputs": [
    {
     "data": {
      "text/plain": [
       "array([2, 3, 4])"
      ]
     },
     "execution_count": 62,
     "metadata": {},
     "output_type": "execute_result"
    }
   ],
   "source": [
    "arr[1:4]"
   ]
  },
  {
   "cell_type": "code",
   "execution_count": 63,
   "id": "32f941c7",
   "metadata": {
    "ExecuteTime": {
     "end_time": "2021-11-25T15:38:07.646664Z",
     "start_time": "2021-11-25T15:38:07.559664Z"
    }
   },
   "outputs": [
    {
     "data": {
      "text/plain": [
       "array([5, 4, 3, 2, 1])"
      ]
     },
     "execution_count": 63,
     "metadata": {},
     "output_type": "execute_result"
    }
   ],
   "source": [
    "arr[::-1]"
   ]
  },
  {
   "cell_type": "code",
   "execution_count": 64,
   "id": "b47decd9",
   "metadata": {
    "ExecuteTime": {
     "end_time": "2021-11-25T15:39:12.325794Z",
     "start_time": "2021-11-25T15:39:12.305797Z"
    }
   },
   "outputs": [
    {
     "data": {
      "text/plain": [
       "array([1, 2, 3, 4, 5])"
      ]
     },
     "execution_count": 64,
     "metadata": {},
     "output_type": "execute_result"
    }
   ],
   "source": [
    "arr"
   ]
  },
  {
   "cell_type": "code",
   "execution_count": 66,
   "id": "add710f2",
   "metadata": {
    "ExecuteTime": {
     "end_time": "2021-11-25T15:40:25.660979Z",
     "start_time": "2021-11-25T15:40:25.634980Z"
    }
   },
   "outputs": [
    {
     "data": {
      "text/plain": [
       "array([2, 5])"
      ]
     },
     "execution_count": 66,
     "metadata": {},
     "output_type": "execute_result"
    }
   ],
   "source": [
    "arr[1:5:3]"
   ]
  },
  {
   "cell_type": "code",
   "execution_count": 67,
   "id": "91f4267e",
   "metadata": {
    "ExecuteTime": {
     "end_time": "2021-11-25T15:40:58.291368Z",
     "start_time": "2021-11-25T15:40:58.273368Z"
    }
   },
   "outputs": [
    {
     "data": {
      "text/plain": [
       "array([1, 2, 3, 4, 5])"
      ]
     },
     "execution_count": 67,
     "metadata": {},
     "output_type": "execute_result"
    }
   ],
   "source": [
    "arr"
   ]
  },
  {
   "cell_type": "code",
   "execution_count": 68,
   "id": "b26102c1",
   "metadata": {
    "ExecuteTime": {
     "end_time": "2021-11-25T15:41:05.706203Z",
     "start_time": "2021-11-25T15:41:05.693204Z"
    }
   },
   "outputs": [
    {
     "name": "stdout",
     "output_type": "stream",
     "text": [
      "[1 2 3 4 5]\n"
     ]
    }
   ],
   "source": [
    "print(arr)"
   ]
  },
  {
   "cell_type": "code",
   "execution_count": 69,
   "id": "6c067b6b",
   "metadata": {
    "ExecuteTime": {
     "end_time": "2021-11-25T15:41:24.649626Z",
     "start_time": "2021-11-25T15:41:24.633626Z"
    }
   },
   "outputs": [
    {
     "name": "stdout",
     "output_type": "stream",
     "text": [
      "[1 3 5]\n"
     ]
    }
   ],
   "source": [
    "print(arr[::2])"
   ]
  },
  {
   "cell_type": "code",
   "execution_count": null,
   "id": "e0a1a7cb",
   "metadata": {},
   "outputs": [],
   "source": []
  }
 ],
 "metadata": {
  "kernelspec": {
   "display_name": "Python 3",
   "language": "python",
   "name": "python3"
  },
  "language_info": {
   "codemirror_mode": {
    "name": "ipython",
    "version": 3
   },
   "file_extension": ".py",
   "mimetype": "text/x-python",
   "name": "python",
   "nbconvert_exporter": "python",
   "pygments_lexer": "ipython3",
   "version": "3.8.8"
  }
 },
 "nbformat": 4,
 "nbformat_minor": 5
}
