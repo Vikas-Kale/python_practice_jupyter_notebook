{
 "cells": [
  {
   "cell_type": "code",
   "execution_count": 1,
   "id": "47d7a3a0",
   "metadata": {},
   "outputs": [
    {
     "name": "stdout",
     "output_type": "stream",
     "text": [
      "error\n",
      "after try and except block\n"
     ]
    }
   ],
   "source": [
    "try :\n",
    "    result=100/'a'\n",
    "    print(result)\n",
    "except: \n",
    "    print('error')\n",
    "    \n",
    "print('after try and except block')"
   ]
  },
  {
   "cell_type": "code",
   "execution_count": 3,
   "id": "6b545c17",
   "metadata": {},
   "outputs": [
    {
     "name": "stdout",
     "output_type": "stream",
     "text": [
      "error- division by zero\n",
      "This will execute everytime.\n"
     ]
    }
   ],
   "source": [
    "result=0\n",
    "try:\n",
    "    result=10/0\n",
    "except Exception as e:\n",
    "    print('error-',e)\n",
    "else:\n",
    "    print('result is',result)\n",
    "    \n",
    "finally:\n",
    "    print('This will execute everytime.')"
   ]
  },
  {
   "cell_type": "code",
   "execution_count": 4,
   "id": "9d0b8942",
   "metadata": {},
   "outputs": [
    {
     "name": "stdout",
     "output_type": "stream",
     "text": [
      "result is 5.0\n",
      "This will execute everytime.\n"
     ]
    }
   ],
   "source": [
    "result=0\n",
    "try:\n",
    "    result=10/2\n",
    "except Exception as e:\n",
    "    print('error-',e)\n",
    "else:\n",
    "    print('result is',result)\n",
    "    \n",
    "finally:\n",
    "    print('This will execute everytime.')"
   ]
  },
  {
   "cell_type": "code",
   "execution_count": 6,
   "id": "c6dca142",
   "metadata": {},
   "outputs": [
    {
     "ename": "SyntaxError",
     "evalue": "cannot assign to operator (<ipython-input-6-d3486c1a5a99>, line 4)",
     "output_type": "error",
     "traceback": [
      "\u001b[1;36m  File \u001b[1;32m\"<ipython-input-6-d3486c1a5a99>\"\u001b[1;36m, line \u001b[1;32m4\u001b[0m\n\u001b[1;33m    re=i+j=5\u001b[0m\n\u001b[1;37m       ^\u001b[0m\n\u001b[1;31mSyntaxError\u001b[0m\u001b[1;31m:\u001b[0m cannot assign to operator\n"
     ]
    }
   ],
   "source": [
    "input_value=[1,2,3,4,5,6]\n",
    "for i in range(len(input_value)):\n",
    "    for j in input_value:\n",
    "        "
   ]
  },
  {
   "cell_type": "code",
   "execution_count": 7,
   "id": "0c71a6bc",
   "metadata": {},
   "outputs": [
    {
     "name": "stdout",
     "output_type": "stream",
     "text": [
      "Help on class map in module builtins:\n",
      "\n",
      "class map(object)\n",
      " |  map(func, *iterables) --> map object\n",
      " |  \n",
      " |  Make an iterator that computes the function using arguments from\n",
      " |  each of the iterables.  Stops when the shortest iterable is exhausted.\n",
      " |  \n",
      " |  Methods defined here:\n",
      " |  \n",
      " |  __getattribute__(self, name, /)\n",
      " |      Return getattr(self, name).\n",
      " |  \n",
      " |  __iter__(self, /)\n",
      " |      Implement iter(self).\n",
      " |  \n",
      " |  __next__(self, /)\n",
      " |      Implement next(self).\n",
      " |  \n",
      " |  __reduce__(...)\n",
      " |      Return state information for pickling.\n",
      " |  \n",
      " |  ----------------------------------------------------------------------\n",
      " |  Static methods defined here:\n",
      " |  \n",
      " |  __new__(*args, **kwargs) from builtins.type\n",
      " |      Create and return a new object.  See help(type) for accurate signature.\n",
      "\n"
     ]
    }
   ],
   "source": [
    "help(map)"
   ]
  },
  {
   "cell_type": "code",
   "execution_count": 8,
   "id": "43c51b31",
   "metadata": {},
   "outputs": [],
   "source": [
    "n={1,2,3,4,5,5,11,11,2,2,2,2,2,2,5,5,5,55,7,9,5,4,6,7,4}"
   ]
  },
  {
   "cell_type": "code",
   "execution_count": 9,
   "id": "1bd139bc",
   "metadata": {},
   "outputs": [
    {
     "data": {
      "text/plain": [
       "set"
      ]
     },
     "execution_count": 9,
     "metadata": {},
     "output_type": "execute_result"
    }
   ],
   "source": [
    "type(n)"
   ]
  },
  {
   "cell_type": "code",
   "execution_count": 10,
   "id": "bd1f45c0",
   "metadata": {},
   "outputs": [
    {
     "data": {
      "text/plain": [
       "{1, 2, 3, 4, 5, 6, 7, 9, 11, 55}"
      ]
     },
     "execution_count": 10,
     "metadata": {},
     "output_type": "execute_result"
    }
   ],
   "source": [
    "n"
   ]
  },
  {
   "cell_type": "code",
   "execution_count": 18,
   "id": "0ae5df60",
   "metadata": {},
   "outputs": [
    {
     "name": "stdout",
     "output_type": "stream",
     "text": [
      "Enter a number!10\n",
      "10\n"
     ]
    },
    {
     "ename": "TypeError",
     "evalue": "'>' not supported between instances of 'NoneType' and 'int'",
     "output_type": "error",
     "traceback": [
      "\u001b[1;31m---------------------------------------------------------------------------\u001b[0m",
      "\u001b[1;31mTypeError\u001b[0m                                 Traceback (most recent call last)",
      "\u001b[1;32m<ipython-input-18-5c30c3796385>\u001b[0m in \u001b[0;36m<module>\u001b[1;34m\u001b[0m\n\u001b[0;32m      6\u001b[0m \u001b[1;33m\u001b[0m\u001b[0m\n\u001b[0;32m      7\u001b[0m     \u001b[0mguess\u001b[0m\u001b[1;33m=\u001b[0m\u001b[0mprint\u001b[0m\u001b[1;33m(\u001b[0m\u001b[0minput\u001b[0m\u001b[1;33m(\u001b[0m\u001b[1;34m\"Enter a number!\"\u001b[0m\u001b[1;33m)\u001b[0m\u001b[1;33m)\u001b[0m\u001b[1;33m\u001b[0m\u001b[1;33m\u001b[0m\u001b[0m\n\u001b[1;32m----> 8\u001b[1;33m     \u001b[1;32mif\u001b[0m \u001b[0mguess\u001b[0m\u001b[1;33m>\u001b[0m\u001b[1;36m0\u001b[0m\u001b[1;33m:\u001b[0m\u001b[1;33m\u001b[0m\u001b[1;33m\u001b[0m\u001b[0m\n\u001b[0m\u001b[0;32m      9\u001b[0m         \u001b[1;32mif\u001b[0m \u001b[0mguess\u001b[0m\u001b[1;33m>\u001b[0m\u001b[0msecret_code\u001b[0m\u001b[1;33m:\u001b[0m\u001b[1;33m\u001b[0m\u001b[1;33m\u001b[0m\u001b[0m\n\u001b[0;32m     10\u001b[0m             \u001b[0mprint\u001b[0m\u001b[1;33m(\u001b[0m\u001b[1;34m\"Number is too large\"\u001b[0m\u001b[1;33m)\u001b[0m\u001b[1;33m\u001b[0m\u001b[1;33m\u001b[0m\u001b[0m\n",
      "\u001b[1;31mTypeError\u001b[0m: '>' not supported between instances of 'NoneType' and 'int'"
     ]
    }
   ],
   "source": [
    "secret_code=13\n",
    "guess=0\n",
    "\n",
    "\n",
    "while secret_code != guess:\n",
    "       \n",
    "    guess=print(input(\"Enter a number!\"))\n",
    "    if guess>0:\n",
    "        if guess>secret_code:\n",
    "            print(\"Number is too large\")\n",
    "        elif guess<secret_code:\n",
    "            print(\"Number is too small\")\n",
    "    else:\n",
    "        print(\"Enter valid number!\")\n",
    "        break\n",
    "    \n",
    "    \n",
    "        \n",
    "    \n",
    "else:\n",
    "    print(\"You win!\")\n",
    "    "
   ]
  },
  {
   "cell_type": "code",
   "execution_count": 19,
   "id": "f6c6b2ec",
   "metadata": {},
   "outputs": [
    {
     "name": "stdout",
     "output_type": "stream",
     "text": [
      "Enter a name: vikas\n",
      "Enter a name: raje\n",
      "Enter a name: jdgds\n",
      "Guess out of limit: You Loose!\n"
     ]
    }
   ],
   "source": [
    "secret_name= \"Python\"\n",
    "Guess=\"\"\n",
    "guess_count=0\n",
    "guess_count_limit=3\n",
    "guess_out_of_limit=False\n",
    "\n",
    "while Guess !=secret_name and not(guess_out_of_limit):\n",
    "    if guess_count < guess_count_limit:\n",
    "        Guess = input(\"Enter a name: \")\n",
    "        guess_count+=1\n",
    "\n",
    "    else:\n",
    "        guess_out_of_limit=True\n",
    "\n",
    "if guess_out_of_limit:\n",
    "    print(\"Guess out of limit: You Loose!\")\n",
    "else:\n",
    "    print(\"You Win!\")"
   ]
  },
  {
   "cell_type": "code",
   "execution_count": null,
   "id": "6f37d9ee",
   "metadata": {},
   "outputs": [],
   "source": []
  }
 ],
 "metadata": {
  "kernelspec": {
   "display_name": "Python 3",
   "language": "python",
   "name": "python3"
  },
  "language_info": {
   "codemirror_mode": {
    "name": "ipython",
    "version": 3
   },
   "file_extension": ".py",
   "mimetype": "text/x-python",
   "name": "python",
   "nbconvert_exporter": "python",
   "pygments_lexer": "ipython3",
   "version": "3.8.8"
  }
 },
 "nbformat": 4,
 "nbformat_minor": 5
}
