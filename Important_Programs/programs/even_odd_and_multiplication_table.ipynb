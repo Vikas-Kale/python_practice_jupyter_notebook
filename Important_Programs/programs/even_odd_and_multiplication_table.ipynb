{
 "cells": [
  {
   "cell_type": "markdown",
   "id": "9f84e744",
   "metadata": {},
   "source": [
    "# Write a program to print even numbers"
   ]
  },
  {
   "cell_type": "code",
   "execution_count": 2,
   "id": "1edaf399",
   "metadata": {},
   "outputs": [
    {
     "name": "stdout",
     "output_type": "stream",
     "text": [
      "1 is odd number.\n",
      "2 is even number.\n",
      "3 is odd number.\n",
      "4 is even number.\n",
      "5 is odd number.\n",
      "6 is even number.\n",
      "7 is odd number.\n",
      "8 is even number.\n",
      "9 is odd number.\n",
      "10 is even number.\n",
      "11 is odd number.\n",
      "12 is even number.\n",
      "13 is odd number.\n",
      "14 is even number.\n",
      "15 is odd number.\n",
      "16 is even number.\n",
      "17 is odd number.\n",
      "18 is even number.\n",
      "19 is odd number.\n",
      "20 is even number.\n"
     ]
    }
   ],
   "source": [
    "for num in range(1,21):\n",
    "    if num%2==0:\n",
    "        print(f\"{num} is even number.\")\n",
    "        \n",
    "    else:\n",
    "        print(f\"{num} is odd number.\")"
   ]
  },
  {
   "cell_type": "code",
   "execution_count": 9,
   "id": "77f1a997",
   "metadata": {},
   "outputs": [
    {
     "name": "stdout",
     "output_type": "stream",
     "text": [
      "Enter number: 4\n",
      "4 is even.\n",
      "Enter number: 5\n",
      "5 is odd.\n",
      "Enter number: 8\n",
      "8 is even.\n",
      "Enter number: 98\n",
      "98 is even.\n",
      "Enter number: 100\n",
      "100 is even.\n",
      "Enter number: 140\n",
      "140 is even.\n",
      "Enter number: exit\n"
     ]
    }
   ],
   "source": [
    "while True:\n",
    "    num=input(\"Enter number: \")\n",
    "    if num=='exit':\n",
    "        break\n",
    "    elif int(num)%2==0:\n",
    "        print(f\"{num} is even.\")\n",
    "    else:\n",
    "        print(f\"{num} is odd.\")\n",
    "    "
   ]
  },
  {
   "cell_type": "markdown",
   "id": "c2e32228",
   "metadata": {},
   "source": [
    "## All even numbers between 1 to 50."
   ]
  },
  {
   "cell_type": "code",
   "execution_count": 10,
   "id": "f2bbdcee",
   "metadata": {},
   "outputs": [
    {
     "name": "stdout",
     "output_type": "stream",
     "text": [
      "[2, 4, 6, 8, 10, 12, 14, 16, 18, 20, 22, 24, 26, 28, 30, 32, 34, 36, 38, 40, 42, 44, 46, 48]\n"
     ]
    }
   ],
   "source": [
    "even=[num for num in range(1,50) if num%2==0]  # List comprehension.\n",
    "print(even)"
   ]
  },
  {
   "cell_type": "markdown",
   "id": "228f7219",
   "metadata": {},
   "source": [
    "### lambda function"
   ]
  },
  {
   "cell_type": "code",
   "execution_count": 16,
   "id": "62b9a2a1",
   "metadata": {},
   "outputs": [],
   "source": [
    "a=lambda x:'even' if x%2 ==0 else 'odd'"
   ]
  },
  {
   "cell_type": "code",
   "execution_count": 17,
   "id": "84835aed",
   "metadata": {},
   "outputs": [
    {
     "data": {
      "text/plain": [
       "'odd'"
      ]
     },
     "execution_count": 17,
     "metadata": {},
     "output_type": "execute_result"
    }
   ],
   "source": [
    "a(5)"
   ]
  },
  {
   "cell_type": "code",
   "execution_count": 18,
   "id": "ea03fc68",
   "metadata": {},
   "outputs": [
    {
     "data": {
      "text/plain": [
       "'even'"
      ]
     },
     "execution_count": 18,
     "metadata": {},
     "output_type": "execute_result"
    }
   ],
   "source": [
    "a(8)"
   ]
  },
  {
   "cell_type": "markdown",
   "id": "e4ba890e",
   "metadata": {},
   "source": [
    "# Multiplication Table"
   ]
  },
  {
   "cell_type": "code",
   "execution_count": 31,
   "id": "fed68816",
   "metadata": {},
   "outputs": [
    {
     "name": "stdout",
     "output_type": "stream",
     "text": [
      "1\t2\t3\t4\t5\t6\t7\t8\t9\t10\t\n",
      "2\t4\t6\t8\t10\t12\t14\t16\t18\t20\t\n",
      "3\t6\t9\t12\t15\t18\t21\t24\t27\t30\t\n",
      "4\t8\t12\t16\t20\t24\t28\t32\t36\t40\t\n",
      "5\t10\t15\t20\t25\t30\t35\t40\t45\t50\t\n",
      "6\t12\t18\t24\t30\t36\t42\t48\t54\t60\t\n",
      "7\t14\t21\t28\t35\t42\t49\t56\t63\t70\t\n",
      "8\t16\t24\t32\t40\t48\t56\t64\t72\t80\t\n",
      "9\t18\t27\t36\t45\t54\t63\t72\t81\t90\t\n",
      "10\t20\t30\t40\t50\t60\t70\t80\t90\t100\t\n"
     ]
    }
   ],
   "source": [
    "for i in range(1,11):\n",
    "    for j in range(1,11):\n",
    "        print(i*j,end=\"\\t\")\n",
    "    print()"
   ]
  },
  {
   "cell_type": "code",
   "execution_count": 32,
   "id": "94993a9a",
   "metadata": {},
   "outputs": [
    {
     "name": "stdout",
     "output_type": "stream",
     "text": [
      "11\t12\t13\t14\t15\t16\t17\t18\t19\t20\t\n",
      "22\t24\t26\t28\t30\t32\t34\t36\t38\t40\t\n",
      "33\t36\t39\t42\t45\t48\t51\t54\t57\t60\t\n",
      "44\t48\t52\t56\t60\t64\t68\t72\t76\t80\t\n",
      "55\t60\t65\t70\t75\t80\t85\t90\t95\t100\t\n",
      "66\t72\t78\t84\t90\t96\t102\t108\t114\t120\t\n",
      "77\t84\t91\t98\t105\t112\t119\t126\t133\t140\t\n",
      "88\t96\t104\t112\t120\t128\t136\t144\t152\t160\t\n",
      "99\t108\t117\t126\t135\t144\t153\t162\t171\t180\t\n",
      "110\t120\t130\t140\t150\t160\t170\t180\t190\t200\t\n"
     ]
    }
   ],
   "source": [
    "for i in range(1,11):\n",
    "    for j in range(11,21):\n",
    "        print(i*j,end=\"\\t\")\n",
    "        \n",
    "    print()"
   ]
  },
  {
   "cell_type": "code",
   "execution_count": 33,
   "id": "756965db",
   "metadata": {},
   "outputs": [
    {
     "name": "stdout",
     "output_type": "stream",
     "text": [
      "21\t22\t23\t24\t25\t26\t27\t28\t29\t30\t\n",
      "42\t44\t46\t48\t50\t52\t54\t56\t58\t60\t\n",
      "63\t66\t69\t72\t75\t78\t81\t84\t87\t90\t\n",
      "84\t88\t92\t96\t100\t104\t108\t112\t116\t120\t\n",
      "105\t110\t115\t120\t125\t130\t135\t140\t145\t150\t\n",
      "126\t132\t138\t144\t150\t156\t162\t168\t174\t180\t\n",
      "147\t154\t161\t168\t175\t182\t189\t196\t203\t210\t\n",
      "168\t176\t184\t192\t200\t208\t216\t224\t232\t240\t\n",
      "189\t198\t207\t216\t225\t234\t243\t252\t261\t270\t\n",
      "210\t220\t230\t240\t250\t260\t270\t280\t290\t300\t\n"
     ]
    }
   ],
   "source": [
    "for i in range(1,11):\n",
    "    for j in range(21,31):\n",
    "        print(i*j,end=\"\\t\")\n",
    "        \n",
    "    print()"
   ]
  },
  {
   "cell_type": "code",
   "execution_count": 34,
   "id": "0d8b7463",
   "metadata": {},
   "outputs": [
    {
     "name": "stdout",
     "output_type": "stream",
     "text": [
      "2\n",
      "4\n",
      "6\n",
      "8\n",
      "10\n",
      "12\n",
      "14\n",
      "16\n",
      "18\n",
      "20\n"
     ]
    }
   ],
   "source": [
    "for i in range(2,21,2):\n",
    "    print(i)"
   ]
  },
  {
   "cell_type": "code",
   "execution_count": 35,
   "id": "02a1fc87",
   "metadata": {},
   "outputs": [
    {
     "name": "stdout",
     "output_type": "stream",
     "text": [
      "18\n",
      "36\n",
      "54\n",
      "72\n",
      "90\n",
      "108\n",
      "126\n",
      "144\n",
      "162\n",
      "180\n"
     ]
    }
   ],
   "source": [
    "for i in range(18,181,18):\n",
    "    print(i)"
   ]
  },
  {
   "cell_type": "code",
   "execution_count": null,
   "id": "3cdbb027",
   "metadata": {},
   "outputs": [],
   "source": []
  }
 ],
 "metadata": {
  "kernelspec": {
   "display_name": "Python 3",
   "language": "python",
   "name": "python3"
  },
  "language_info": {
   "codemirror_mode": {
    "name": "ipython",
    "version": 3
   },
   "file_extension": ".py",
   "mimetype": "text/x-python",
   "name": "python",
   "nbconvert_exporter": "python",
   "pygments_lexer": "ipython3",
   "version": "3.8.8"
  }
 },
 "nbformat": 4,
 "nbformat_minor": 5
}
