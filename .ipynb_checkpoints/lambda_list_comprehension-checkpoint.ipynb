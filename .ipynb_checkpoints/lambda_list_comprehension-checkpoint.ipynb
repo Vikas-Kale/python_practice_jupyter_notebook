{
 "cells": [
  {
   "cell_type": "raw",
   "id": "c82890ca",
   "metadata": {},
   "source": [
    "=> Lambda Function:- Function written in 1 line using Lamda Keyword.\n",
    "                     Accept any number of arguments,but only has one expression.\n",
    "                     It is a shortcut.\n",
    "=> Syntax:- \n",
    "           lambda parameters:expression"
   ]
  },
  {
   "cell_type": "markdown",
   "id": "3f9e4b10",
   "metadata": {},
   "source": [
    "## By Using Defenition function."
   ]
  },
  {
   "cell_type": "code",
   "execution_count": 2,
   "id": "1e554d88",
   "metadata": {},
   "outputs": [
    {
     "name": "stdout",
     "output_type": "stream",
     "text": [
      "10\n"
     ]
    }
   ],
   "source": [
    "def mul(num1,num2):\n",
    "    return num1*num2\n",
    "print(mul(2,5))"
   ]
  },
  {
   "cell_type": "markdown",
   "id": "d2021fcc",
   "metadata": {},
   "source": [
    "## By Using Lambda function."
   ]
  },
  {
   "cell_type": "code",
   "execution_count": 6,
   "id": "f29b3a00",
   "metadata": {},
   "outputs": [
    {
     "name": "stdout",
     "output_type": "stream",
     "text": [
      "10\n"
     ]
    }
   ],
   "source": [
    "mul1=lambda num1,num2:num1*num2\n",
    " #               |         |\n",
    "     #       Prameter    Expression\n",
    "        \n",
    "print(mul1(2,5))"
   ]
  },
  {
   "cell_type": "code",
   "execution_count": 8,
   "id": "a20c2cbd",
   "metadata": {},
   "outputs": [
    {
     "data": {
      "text/plain": [
       "16"
      ]
     },
     "execution_count": 8,
     "metadata": {},
     "output_type": "execute_result"
    }
   ],
   "source": [
    "mul1(8,2)"
   ]
  },
  {
   "cell_type": "code",
   "execution_count": 9,
   "id": "a1db6595",
   "metadata": {},
   "outputs": [],
   "source": [
    "addition=lambda a,b,c,d:a+b+c+d"
   ]
  },
  {
   "cell_type": "code",
   "execution_count": 10,
   "id": "39cb4583",
   "metadata": {},
   "outputs": [
    {
     "data": {
      "text/plain": [
       "14"
      ]
     },
     "execution_count": 10,
     "metadata": {},
     "output_type": "execute_result"
    }
   ],
   "source": [
    "addition(2,3,4,5)"
   ]
  },
  {
   "cell_type": "code",
   "execution_count": 11,
   "id": "f74a415a",
   "metadata": {},
   "outputs": [],
   "source": [
    "name=lambda first_name,last_name:first_name+\" \"+last_name"
   ]
  },
  {
   "cell_type": "code",
   "execution_count": 12,
   "id": "d271cebb",
   "metadata": {},
   "outputs": [
    {
     "data": {
      "text/plain": [
       "'Vikas Kale'"
      ]
     },
     "execution_count": 12,
     "metadata": {},
     "output_type": "execute_result"
    }
   ],
   "source": [
    "name('Vikas',\"Kale\")"
   ]
  },
  {
   "cell_type": "code",
   "execution_count": 13,
   "id": "f142ff48",
   "metadata": {},
   "outputs": [
    {
     "data": {
      "text/plain": [
       "'python programming'"
      ]
     },
     "execution_count": 13,
     "metadata": {},
     "output_type": "execute_result"
    }
   ],
   "source": [
    "name('python','programming')"
   ]
  },
  {
   "cell_type": "code",
   "execution_count": 24,
   "id": "295b3888",
   "metadata": {},
   "outputs": [],
   "source": [
    "#Age Check\n",
    "age_check=lambda age: \"You are eligible!\" if age >=18  else \"Your not eligible!\" "
   ]
  },
  {
   "cell_type": "code",
   "execution_count": 25,
   "id": "453a6e23",
   "metadata": {},
   "outputs": [
    {
     "data": {
      "text/plain": [
       "'Your not eligible!'"
      ]
     },
     "execution_count": 25,
     "metadata": {},
     "output_type": "execute_result"
    }
   ],
   "source": [
    "age_check(12)"
   ]
  },
  {
   "cell_type": "code",
   "execution_count": 26,
   "id": "6b7b6365",
   "metadata": {},
   "outputs": [
    {
     "data": {
      "text/plain": [
       "'You are eligible!'"
      ]
     },
     "execution_count": 26,
     "metadata": {},
     "output_type": "execute_result"
    }
   ],
   "source": [
    "age_check(18)"
   ]
  },
  {
   "cell_type": "markdown",
   "id": "082d911a",
   "metadata": {},
   "source": [
    "### Even and odd by using filter function."
   ]
  },
  {
   "cell_type": "code",
   "execution_count": 1,
   "id": "4fd7b85f",
   "metadata": {},
   "outputs": [
    {
     "name": "stdout",
     "output_type": "stream",
     "text": [
      "[2, 4, 6, 8, 18, 12]\n"
     ]
    }
   ],
   "source": [
    "def is_even(n):\n",
    "    return n%2==0\n",
    "num=[1,2,3,4,5,6,7,8,13,15,18,12]\n",
    "\n",
    "evens=list(filter(is_even,num))  # filter(function or None, iterable) \n",
    "print(evens)"
   ]
  },
  {
   "cell_type": "code",
   "execution_count": 3,
   "id": "8f453aea",
   "metadata": {},
   "outputs": [
    {
     "name": "stdout",
     "output_type": "stream",
     "text": [
      "[1, 3, 5, 7, 13, 15]\n"
     ]
    }
   ],
   "source": [
    "def is_odd(n):\n",
    "    return n%2!=0\n",
    "num=[1,2,3,4,5,6,7,8,13,15,18,12]\n",
    "\n",
    "result=list(filter(is_odd,num))\n",
    "print(result)"
   ]
  },
  {
   "cell_type": "markdown",
   "id": "81441b40",
   "metadata": {},
   "source": [
    "### By using lambda."
   ]
  },
  {
   "cell_type": "code",
   "execution_count": 7,
   "id": "5dab830e",
   "metadata": {},
   "outputs": [],
   "source": [
    "num=[1,2,3,4,5,6,7,8,13,15,18,12]\n",
    "\n",
    "is_evens=list(filter(lambda n: n%2==0 ,num))"
   ]
  },
  {
   "cell_type": "code",
   "execution_count": 8,
   "id": "ac310ff5",
   "metadata": {},
   "outputs": [
    {
     "name": "stdout",
     "output_type": "stream",
     "text": [
      "[2, 4, 6, 8, 18, 12]\n"
     ]
    }
   ],
   "source": [
    "print(is_evens)"
   ]
  },
  {
   "cell_type": "code",
   "execution_count": 21,
   "id": "50b8291e",
   "metadata": {},
   "outputs": [
    {
     "data": {
      "text/plain": [
       "[2, 4, 6, 8, 18, 12]"
      ]
     },
     "execution_count": 21,
     "metadata": {},
     "output_type": "execute_result"
    }
   ],
   "source": [
    "is_even=[i for i in num if i%2==0 ]\n",
    "\n",
    "is_even"
   ]
  },
  {
   "cell_type": "code",
   "execution_count": 12,
   "id": "f60cbb4b",
   "metadata": {},
   "outputs": [
    {
     "name": "stdout",
     "output_type": "stream",
     "text": [
      "[14, 16, 18, 80, 96, 100]\n"
     ]
    }
   ],
   "source": [
    "num2=[14,15,16,17,18,45,80,85,87,95,96,100]\n",
    "even_numbers=[i for i in num2 if i%2==0 ]\n",
    "print(even_numbers)"
   ]
  },
  {
   "cell_type": "code",
   "execution_count": 13,
   "id": "9e877e33",
   "metadata": {},
   "outputs": [
    {
     "name": "stdout",
     "output_type": "stream",
     "text": [
      "[15, 17, 45, 85, 87, 95]\n"
     ]
    }
   ],
   "source": [
    "odd_numbers=[i for i in num2 if i%2!=0]\n",
    "print(odd_numbers)"
   ]
  },
  {
   "cell_type": "code",
   "execution_count": 15,
   "id": "2dfa4f88",
   "metadata": {},
   "outputs": [
    {
     "name": "stdout",
     "output_type": "stream",
     "text": [
      "[15, 17, 45, 85, 87, 95]\n"
     ]
    }
   ],
   "source": [
    "odd1=list(filter(lambda n:n%2!=0,num2))\n",
    "print(odd1)"
   ]
  },
  {
   "cell_type": "code",
   "execution_count": 16,
   "id": "dff1b855",
   "metadata": {},
   "outputs": [
    {
     "name": "stdout",
     "output_type": "stream",
     "text": [
      "[14, 16, 18, 80, 96, 100]\n"
     ]
    }
   ],
   "source": [
    "even1=list(filter(lambda n: n%2==0,num2))\n",
    "print(even1)\n"
   ]
  },
  {
   "cell_type": "code",
   "execution_count": 2,
   "id": "34a7e5c5",
   "metadata": {
    "scrolled": true
   },
   "outputs": [
    {
     "name": "stdout",
     "output_type": "stream",
     "text": [
      "10\n",
      "20\n",
      "960\n"
     ]
    }
   ],
   "source": [
    "num=10\n",
    "print(num)\n",
    "\n",
    "b=20\n",
    "print(b)\n",
    "\n",
    "c=48\n",
    "print(c*b)"
   ]
  },
  {
   "cell_type": "code",
   "execution_count": 27,
   "id": "c6c99f34",
   "metadata": {},
   "outputs": [
    {
     "name": "stdout",
     "output_type": "stream",
     "text": [
      "10\n"
     ]
    }
   ],
   "source": [
    "a=10\n",
    "print(a)"
   ]
  },
  {
   "cell_type": "code",
   "execution_count": 28,
   "id": "e341bce2",
   "metadata": {},
   "outputs": [
    {
     "name": "stdout",
     "output_type": "stream",
     "text": [
      "20\n"
     ]
    }
   ],
   "source": [
    "b=20\n",
    "print(b)"
   ]
  },
  {
   "cell_type": "code",
   "execution_count": 26,
   "id": "14fd515c",
   "metadata": {},
   "outputs": [
    {
     "name": "stdout",
     "output_type": "stream",
     "text": [
      "10\n",
      "20\n",
      "960\n"
     ]
    }
   ],
   "source": [
    "c=48\n",
    "print(c*b)"
   ]
  },
  {
   "cell_type": "code",
   "execution_count": 3,
   "id": "0dc47b4d",
   "metadata": {},
   "outputs": [
    {
     "data": {
      "text/plain": [
       "True"
      ]
     },
     "execution_count": 3,
     "metadata": {},
     "output_type": "execute_result"
    }
   ],
   "source": [
    "def is_even(n):\n",
    "    return n%2==0\n",
    "is_even(8)"
   ]
  },
  {
   "cell_type": "code",
   "execution_count": 12,
   "id": "125ce27e",
   "metadata": {},
   "outputs": [
    {
     "name": "stdout",
     "output_type": "stream",
     "text": [
      "<function <lambda> at 0x000001F7DC86F700>\n"
     ]
    }
   ],
   "source": [
    "num=42\n",
    "result=lambda num:num%2==0\n",
    "print(result)"
   ]
  },
  {
   "cell_type": "markdown",
   "id": "2787f6e9",
   "metadata": {},
   "source": [
    "##### write a program to check out of two numbers which number is greater."
   ]
  },
  {
   "cell_type": "code",
   "execution_count": 28,
   "id": "05a22a63",
   "metadata": {},
   "outputs": [],
   "source": [
    "def grat(x,y):\n",
    "    if x>y:\n",
    "        return x,\"is greater! and\" ,y,\"is lesser!\"\n",
    "    else:\n",
    "        return y,\"is greater! and\" ,x,\"is lesser!\""
   ]
  },
  {
   "cell_type": "code",
   "execution_count": 29,
   "id": "f7af0d63",
   "metadata": {},
   "outputs": [
    {
     "data": {
      "text/plain": [
       "(8, 'is greater! and', 5, 'is lesser!')"
      ]
     },
     "execution_count": 29,
     "metadata": {},
     "output_type": "execute_result"
    }
   ],
   "source": [
    "grat(5,8)"
   ]
  },
  {
   "cell_type": "code",
   "execution_count": 31,
   "id": "58d2779f",
   "metadata": {},
   "outputs": [
    {
     "data": {
      "text/plain": [
       "(50, 'is greater! and', 40, 'is lesser!')"
      ]
     },
     "execution_count": 31,
     "metadata": {},
     "output_type": "execute_result"
    }
   ],
   "source": [
    "grat(40,50)"
   ]
  },
  {
   "cell_type": "markdown",
   "id": "f81f2f5a",
   "metadata": {},
   "source": [
    "#### above program using lambda function"
   ]
  },
  {
   "cell_type": "code",
   "execution_count": 45,
   "id": "c2cf6e28",
   "metadata": {},
   "outputs": [],
   "source": [
    "greater=lambda x,y:'%d is greater'%(x) if x>y else \"%d is less\"%(x)"
   ]
  },
  {
   "cell_type": "code",
   "execution_count": 46,
   "id": "fddfe41e",
   "metadata": {},
   "outputs": [
    {
     "data": {
      "text/plain": [
       "'5 is less'"
      ]
     },
     "execution_count": 46,
     "metadata": {},
     "output_type": "execute_result"
    }
   ],
   "source": [
    "greater(5,8)"
   ]
  },
  {
   "cell_type": "code",
   "execution_count": 47,
   "id": "eb92dd94",
   "metadata": {},
   "outputs": [
    {
     "data": {
      "text/plain": [
       "'100 is greater'"
      ]
     },
     "execution_count": 47,
     "metadata": {},
     "output_type": "execute_result"
    }
   ],
   "source": [
    "greater(100,50)"
   ]
  },
  {
   "cell_type": "code",
   "execution_count": 48,
   "id": "b53855ca",
   "metadata": {},
   "outputs": [],
   "source": [
    "add=lambda a,b:a+b"
   ]
  },
  {
   "cell_type": "code",
   "execution_count": 49,
   "id": "e9ec261d",
   "metadata": {},
   "outputs": [
    {
     "data": {
      "text/plain": [
       "700"
      ]
     },
     "execution_count": 49,
     "metadata": {},
     "output_type": "execute_result"
    }
   ],
   "source": [
    "add(200,500)"
   ]
  },
  {
   "cell_type": "code",
   "execution_count": 70,
   "id": "0d0d071d",
   "metadata": {},
   "outputs": [],
   "source": [
    "is_even=lambda num:'%d is even.'%(num) if num%2==0 else '%d is odd.' %(num)"
   ]
  },
  {
   "cell_type": "code",
   "execution_count": 71,
   "id": "be4fd922",
   "metadata": {},
   "outputs": [
    {
     "data": {
      "text/plain": [
       "'84 is even.'"
      ]
     },
     "execution_count": 71,
     "metadata": {},
     "output_type": "execute_result"
    }
   ],
   "source": [
    "is_even(84)"
   ]
  },
  {
   "cell_type": "code",
   "execution_count": 72,
   "id": "c29fc6df",
   "metadata": {},
   "outputs": [
    {
     "data": {
      "text/plain": [
       "'97 is odd.'"
      ]
     },
     "execution_count": 72,
     "metadata": {},
     "output_type": "execute_result"
    }
   ],
   "source": [
    "is_even(97)"
   ]
  },
  {
   "cell_type": "code",
   "execution_count": 83,
   "id": "28415dd1",
   "metadata": {},
   "outputs": [],
   "source": [
    "result=[i for i in range(1,11)]"
   ]
  },
  {
   "cell_type": "code",
   "execution_count": 84,
   "id": "c3163b1d",
   "metadata": {},
   "outputs": [
    {
     "data": {
      "text/plain": [
       "[1, 2, 3, 4, 5, 6, 7, 8, 9, 10]"
      ]
     },
     "execution_count": 84,
     "metadata": {},
     "output_type": "execute_result"
    }
   ],
   "source": [
    "result"
   ]
  },
  {
   "cell_type": "code",
   "execution_count": 88,
   "id": "7ebb0be0",
   "metadata": {},
   "outputs": [],
   "source": [
    "odd=lambda a,b : a if a%2!=0 else b"
   ]
  },
  {
   "cell_type": "code",
   "execution_count": 89,
   "id": "ac98939d",
   "metadata": {},
   "outputs": [
    {
     "data": {
      "text/plain": [
       "15"
      ]
     },
     "execution_count": 89,
     "metadata": {},
     "output_type": "execute_result"
    }
   ],
   "source": [
    "odd(4,15)"
   ]
  },
  {
   "cell_type": "code",
   "execution_count": 90,
   "id": "5f830892",
   "metadata": {},
   "outputs": [
    {
     "data": {
      "text/plain": [
       "7"
      ]
     },
     "execution_count": 90,
     "metadata": {},
     "output_type": "execute_result"
    }
   ],
   "source": [
    "odd(7,25)"
   ]
  },
  {
   "cell_type": "code",
   "execution_count": 92,
   "id": "795f3411",
   "metadata": {},
   "outputs": [
    {
     "data": {
      "text/plain": [
       "3"
      ]
     },
     "execution_count": 92,
     "metadata": {},
     "output_type": "execute_result"
    }
   ],
   "source": [
    "odd(3,5)\n"
   ]
  },
  {
   "cell_type": "markdown",
   "id": "461bc0fb",
   "metadata": {},
   "source": [
    "#### Write a program to print even numbers from 1 to 10."
   ]
  },
  {
   "cell_type": "code",
   "execution_count": 94,
   "id": "dc258230",
   "metadata": {},
   "outputs": [
    {
     "data": {
      "text/plain": [
       "2"
      ]
     },
     "execution_count": 94,
     "metadata": {},
     "output_type": "execute_result"
    }
   ],
   "source": [
    "even()"
   ]
  },
  {
   "cell_type": "code",
   "execution_count": 104,
   "id": "e0f13b1f",
   "metadata": {},
   "outputs": [],
   "source": [
    "def eve():\n",
    "    \n",
    "    for i in range(1,11):\n",
    "        if i%2==0:\n",
    "            print(i)\n",
    "    "
   ]
  },
  {
   "cell_type": "code",
   "execution_count": 105,
   "id": "adba6686",
   "metadata": {},
   "outputs": [
    {
     "name": "stdout",
     "output_type": "stream",
     "text": [
      "2\n",
      "4\n",
      "6\n",
      "8\n",
      "10\n"
     ]
    }
   ],
   "source": [
    "eve()"
   ]
  },
  {
   "cell_type": "code",
   "execution_count": 108,
   "id": "79c70ede",
   "metadata": {},
   "outputs": [],
   "source": [
    "def eve(n):\n",
    "    return n%2==0"
   ]
  },
  {
   "cell_type": "code",
   "execution_count": 109,
   "id": "2299c855",
   "metadata": {},
   "outputs": [
    {
     "data": {
      "text/plain": [
       "False"
      ]
     },
     "execution_count": 109,
     "metadata": {},
     "output_type": "execute_result"
    }
   ],
   "source": [
    "eve(5)"
   ]
  },
  {
   "cell_type": "code",
   "execution_count": 110,
   "id": "4fd1c4a2",
   "metadata": {},
   "outputs": [
    {
     "data": {
      "text/plain": [
       "True"
      ]
     },
     "execution_count": 110,
     "metadata": {},
     "output_type": "execute_result"
    }
   ],
   "source": [
    "eve(4)"
   ]
  },
  {
   "cell_type": "code",
   "execution_count": 111,
   "id": "bb0e134d",
   "metadata": {},
   "outputs": [],
   "source": [
    "result=[i for i in range(1,11) if i%2==0]"
   ]
  },
  {
   "cell_type": "code",
   "execution_count": 112,
   "id": "a67d4761",
   "metadata": {},
   "outputs": [
    {
     "data": {
      "text/plain": [
       "[2, 4, 6, 8, 10]"
      ]
     },
     "execution_count": 112,
     "metadata": {},
     "output_type": "execute_result"
    }
   ],
   "source": [
    "result"
   ]
  },
  {
   "cell_type": "code",
   "execution_count": 113,
   "id": "2b0be45f",
   "metadata": {},
   "outputs": [],
   "source": [
    "odd_numbers=[i for i in range(11,21) if i%2!=0]"
   ]
  },
  {
   "cell_type": "code",
   "execution_count": 114,
   "id": "f125e2b9",
   "metadata": {},
   "outputs": [
    {
     "data": {
      "text/plain": [
       "[11, 13, 15, 17, 19]"
      ]
     },
     "execution_count": 114,
     "metadata": {},
     "output_type": "execute_result"
    }
   ],
   "source": [
    "odd_numbers"
   ]
  },
  {
   "cell_type": "markdown",
   "id": "1c9d8f38",
   "metadata": {},
   "source": [
    "### Write a program to print all even numbers from 1 to 50 in one line.\n"
   ]
  },
  {
   "cell_type": "code",
   "execution_count": 115,
   "id": "c01ed5ea",
   "metadata": {},
   "outputs": [],
   "source": [
    "result=[num for num in range(1,51) if num%2==0]"
   ]
  },
  {
   "cell_type": "code",
   "execution_count": 118,
   "id": "2ee6bc47",
   "metadata": {},
   "outputs": [
    {
     "name": "stdout",
     "output_type": "stream",
     "text": [
      "[2, 4, 6, 8, 10, 12, 14, 16, 18, 20, 22, 24, 26, 28, 30, 32, 34, 36, 38, 40, 42, 44, 46, 48, 50]\t"
     ]
    }
   ],
   "source": [
    "print(result,end=\"\\t\")"
   ]
  },
  {
   "cell_type": "code",
   "execution_count": 119,
   "id": "c11bc322",
   "metadata": {},
   "outputs": [
    {
     "data": {
      "text/plain": [
       "25"
      ]
     },
     "execution_count": 119,
     "metadata": {},
     "output_type": "execute_result"
    }
   ],
   "source": [
    "len(result)"
   ]
  },
  {
   "cell_type": "code",
   "execution_count": 1,
   "id": "f1597f69",
   "metadata": {},
   "outputs": [],
   "source": [
    "res=['not valid data type %s'%(i) if type(i)!=int  else (\"even-%d\" %(i) if i%2==0 else \"odd-%d\" %(i)) for i in [12,2,3,4,5,6,7,'a','vikas',12.45,4,85]]"
   ]
  },
  {
   "cell_type": "code",
   "execution_count": 2,
   "id": "5b47d06a",
   "metadata": {},
   "outputs": [
    {
     "data": {
      "text/plain": [
       "['even-12',\n",
       " 'even-2',\n",
       " 'odd-3',\n",
       " 'even-4',\n",
       " 'odd-5',\n",
       " 'even-6',\n",
       " 'odd-7',\n",
       " 'not valid data type a',\n",
       " 'not valid data type vikas',\n",
       " 'not valid data type 12.45',\n",
       " 'even-4',\n",
       " 'odd-85']"
      ]
     },
     "execution_count": 2,
     "metadata": {},
     "output_type": "execute_result"
    }
   ],
   "source": [
    "res"
   ]
  },
  {
   "cell_type": "code",
   "execution_count": 138,
   "id": "b6e016f0",
   "metadata": {},
   "outputs": [
    {
     "data": {
      "text/plain": [
       "['Vikas is not valid data type: ',\n",
       " '7 is odd.',\n",
       " '8 is even.',\n",
       " '9 is odd.',\n",
       " '12 is even.',\n",
       " '13 is odd.',\n",
       " 'python is not valid data type: ']"
      ]
     },
     "execution_count": 138,
     "metadata": {},
     "output_type": "execute_result"
    }
   ],
   "source": [
    "[\"%s is not valid data type: \" %(i) if type(i)!=int else (\"%d is even.\" %(i) if i%2==0 else \"%d is odd.\" %(i)) for i in ['Vikas',7,8,9,12,13,'python']]"
   ]
  },
  {
   "cell_type": "code",
   "execution_count": 149,
   "id": "e5baf190",
   "metadata": {},
   "outputs": [],
   "source": [
    "out=[\"even=> %d \" %(i) if i%2==0 else \"odd=> %d\" %(i) for i in range(1,11)]"
   ]
  },
  {
   "cell_type": "code",
   "execution_count": 140,
   "id": "4584924e",
   "metadata": {},
   "outputs": [
    {
     "data": {
      "text/plain": [
       "['odd=> 1',\n",
       " 'even=> 2 ',\n",
       " 'odd=> 3',\n",
       " 'even=> 4 ',\n",
       " 'odd=> 5',\n",
       " 'even=> 6 ',\n",
       " 'odd=> 7',\n",
       " 'even=> 8 ',\n",
       " 'odd=> 9',\n",
       " 'even=> 10 ']"
      ]
     },
     "execution_count": 140,
     "metadata": {},
     "output_type": "execute_result"
    }
   ],
   "source": [
    "out"
   ]
  },
  {
   "cell_type": "code",
   "execution_count": 150,
   "id": "a4454d39",
   "metadata": {},
   "outputs": [],
   "source": [
    "result= lambda num: 'even=>%d' %(num) if num%2==0 else \"odd=> %d\" %(num) "
   ]
  },
  {
   "cell_type": "code",
   "execution_count": 151,
   "id": "89174e32",
   "metadata": {},
   "outputs": [
    {
     "data": {
      "text/plain": [
       "<function __main__.<lambda>(num)>"
      ]
     },
     "execution_count": 151,
     "metadata": {},
     "output_type": "execute_result"
    }
   ],
   "source": [
    "result"
   ]
  },
  {
   "cell_type": "code",
   "execution_count": 152,
   "id": "96934351",
   "metadata": {},
   "outputs": [
    {
     "data": {
      "text/plain": [
       "'odd=> 5'"
      ]
     },
     "execution_count": 152,
     "metadata": {},
     "output_type": "execute_result"
    }
   ],
   "source": [
    "result(5)"
   ]
  },
  {
   "cell_type": "code",
   "execution_count": 153,
   "id": "3d1d4966",
   "metadata": {},
   "outputs": [
    {
     "data": {
      "text/plain": [
       "'even=>12'"
      ]
     },
     "execution_count": 153,
     "metadata": {},
     "output_type": "execute_result"
    }
   ],
   "source": [
    "result(12)"
   ]
  },
  {
   "cell_type": "raw",
   "id": "8a9ee7b2",
   "metadata": {},
   "source": [
    "now by using map function map"
   ]
  },
  {
   "cell_type": "code",
   "execution_count": 154,
   "id": "148df775",
   "metadata": {},
   "outputs": [
    {
     "data": {
      "text/plain": [
       "['odd=> 1',\n",
       " 'even=>2',\n",
       " 'odd=> 3',\n",
       " 'even=>4',\n",
       " 'odd=> 5',\n",
       " 'even=>6',\n",
       " 'odd=> 7',\n",
       " 'even=>8',\n",
       " 'odd=> 9',\n",
       " 'even=>10']"
      ]
     },
     "execution_count": 154,
     "metadata": {},
     "output_type": "execute_result"
    }
   ],
   "source": [
    "list(map(result,[1,2,3,4,5,6,7,8,9,10]))"
   ]
  },
  {
   "cell_type": "code",
   "execution_count": 155,
   "id": "19e6bde3",
   "metadata": {},
   "outputs": [],
   "source": [
    "x=[i for i in range(1,5)]"
   ]
  },
  {
   "cell_type": "code",
   "execution_count": 156,
   "id": "c40da63c",
   "metadata": {},
   "outputs": [
    {
     "data": {
      "text/plain": [
       "[1, 2, 3, 4]"
      ]
     },
     "execution_count": 156,
     "metadata": {},
     "output_type": "execute_result"
    }
   ],
   "source": [
    "x"
   ]
  },
  {
   "cell_type": "code",
   "execution_count": 157,
   "id": "dfe988a4",
   "metadata": {},
   "outputs": [],
   "source": [
    "result1=list(map(result,x))"
   ]
  },
  {
   "cell_type": "code",
   "execution_count": 158,
   "id": "8e94d895",
   "metadata": {},
   "outputs": [
    {
     "data": {
      "text/plain": [
       "['odd=> 1', 'even=>2', 'odd=> 3', 'even=>4']"
      ]
     },
     "execution_count": 158,
     "metadata": {},
     "output_type": "execute_result"
    }
   ],
   "source": [
    "result1"
   ]
  },
  {
   "cell_type": "code",
   "execution_count": 159,
   "id": "3c0f16f1",
   "metadata": {},
   "outputs": [],
   "source": [
    "result2=list(map(result,[i for i in range(1,8)]))"
   ]
  },
  {
   "cell_type": "code",
   "execution_count": 160,
   "id": "67c8b31e",
   "metadata": {},
   "outputs": [
    {
     "data": {
      "text/plain": [
       "['odd=> 1', 'even=>2', 'odd=> 3', 'even=>4', 'odd=> 5', 'even=>6', 'odd=> 7']"
      ]
     },
     "execution_count": 160,
     "metadata": {},
     "output_type": "execute_result"
    }
   ],
   "source": [
    "result2"
   ]
  },
  {
   "cell_type": "code",
   "execution_count": null,
   "id": "f291877d",
   "metadata": {},
   "outputs": [],
   "source": []
  },
  {
   "cell_type": "code",
   "execution_count": 165,
   "id": "83395f7c",
   "metadata": {},
   "outputs": [],
   "source": [
    "list1=[1,2,3,4,5,6,7,8]\n",
    "result2=list(map(lambda num:\"even\" if num%2==0 else \"odd \",list1))"
   ]
  },
  {
   "cell_type": "code",
   "execution_count": 166,
   "id": "8cbc259a",
   "metadata": {},
   "outputs": [
    {
     "data": {
      "text/plain": [
       "['odd ', 'even', 'odd ', 'even', 'odd ', 'even', 'odd ', 'even']"
      ]
     },
     "execution_count": 166,
     "metadata": {},
     "output_type": "execute_result"
    }
   ],
   "source": [
    "result2"
   ]
  },
  {
   "cell_type": "code",
   "execution_count": null,
   "id": "ca527eb8",
   "metadata": {},
   "outputs": [],
   "source": []
  }
 ],
 "metadata": {
  "kernelspec": {
   "display_name": "Python 3",
   "language": "python",
   "name": "python3"
  },
  "language_info": {
   "codemirror_mode": {
    "name": "ipython",
    "version": 3
   },
   "file_extension": ".py",
   "mimetype": "text/x-python",
   "name": "python",
   "nbconvert_exporter": "python",
   "pygments_lexer": "ipython3",
   "version": "3.8.8"
  }
 },
 "nbformat": 4,
 "nbformat_minor": 5
}
