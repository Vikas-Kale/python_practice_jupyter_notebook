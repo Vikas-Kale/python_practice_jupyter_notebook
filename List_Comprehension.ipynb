{
 "cells": [
  {
   "cell_type": "code",
   "execution_count": null,
   "id": "fec2e514",
   "metadata": {},
   "outputs": [],
   "source": [
    "=> A way to create a new list with less syntax\n",
    "   can mimic certain lambda functons,easier to read\n",
    "Syntax:\n",
    "     list=[expression for item in iterable.]"
   ]
  },
  {
   "cell_type": "markdown",
   "id": "b88e0b2b",
   "metadata": {},
   "source": [
    "# Normal way to print square of list."
   ]
  },
  {
   "cell_type": "code",
   "execution_count": 1,
   "id": "8dce7674",
   "metadata": {},
   "outputs": [
    {
     "name": "stdout",
     "output_type": "stream",
     "text": [
      "[1, 4, 9, 16, 25, 36, 49, 64, 81, 100]\n"
     ]
    }
   ],
   "source": [
    "square=[]\n",
    "for i in range(1,11):\n",
    "    square.append(i*i)\n",
    "print(square)"
   ]
  },
  {
   "cell_type": "markdown",
   "id": "f8f4f0d1",
   "metadata": {},
   "source": [
    "# Using List Comprehension method."
   ]
  },
  {
   "cell_type": "code",
   "execution_count": 2,
   "id": "872331bb",
   "metadata": {},
   "outputs": [],
   "source": [
    "square=[i*i for i in range(1,11)]"
   ]
  },
  {
   "cell_type": "code",
   "execution_count": 4,
   "id": "922eef09",
   "metadata": {},
   "outputs": [
    {
     "data": {
      "text/plain": [
       "[1, 4, 9, 16, 25, 36, 49, 64, 81, 100]"
      ]
     },
     "execution_count": 4,
     "metadata": {},
     "output_type": "execute_result"
    }
   ],
   "source": [
    "square"
   ]
  },
  {
   "cell_type": "code",
   "execution_count": 5,
   "id": "bc9f3451",
   "metadata": {},
   "outputs": [],
   "source": [
    "add=[i+i for i in range(1,11)]"
   ]
  },
  {
   "cell_type": "code",
   "execution_count": 6,
   "id": "a88f44ca",
   "metadata": {},
   "outputs": [
    {
     "data": {
      "text/plain": [
       "[2, 4, 6, 8, 10, 12, 14, 16, 18, 20]"
      ]
     },
     "execution_count": 6,
     "metadata": {},
     "output_type": "execute_result"
    }
   ],
   "source": [
    "add"
   ]
  },
  {
   "cell_type": "markdown",
   "id": "4982512c",
   "metadata": {},
   "source": [
    "# Write a program to print even numbers from list."
   ]
  },
  {
   "cell_type": "code",
   "execution_count": 13,
   "id": "04db7221",
   "metadata": {},
   "outputs": [],
   "source": [
    "num=[1,2,3,4,5,6,7,8,9,10]\n",
    "even_numbers=[i for i in num if i%2==0]"
   ]
  },
  {
   "cell_type": "code",
   "execution_count": 14,
   "id": "4e7f69ac",
   "metadata": {},
   "outputs": [
    {
     "data": {
      "text/plain": [
       "[2, 4, 6, 8, 10]"
      ]
     },
     "execution_count": 14,
     "metadata": {},
     "output_type": "execute_result"
    }
   ],
   "source": [
    "even_numbers"
   ]
  },
  {
   "cell_type": "code",
   "execution_count": 17,
   "id": "2babdd9f",
   "metadata": {},
   "outputs": [],
   "source": [
    "numbers=[ num for num in range(1,11)]"
   ]
  },
  {
   "cell_type": "code",
   "execution_count": 18,
   "id": "0c6af323",
   "metadata": {},
   "outputs": [
    {
     "data": {
      "text/plain": [
       "[1, 2, 3, 4, 5, 6, 7, 8, 9, 10]"
      ]
     },
     "execution_count": 18,
     "metadata": {},
     "output_type": "execute_result"
    }
   ],
   "source": [
    "numbers"
   ]
  },
  {
   "cell_type": "code",
   "execution_count": 19,
   "id": "c487520c",
   "metadata": {},
   "outputs": [],
   "source": [
    "even=[i for i in numbers if i%2==0]"
   ]
  },
  {
   "cell_type": "code",
   "execution_count": 20,
   "id": "90e4bbe8",
   "metadata": {},
   "outputs": [
    {
     "data": {
      "text/plain": [
       "[2, 4, 6, 8, 10]"
      ]
     },
     "execution_count": 20,
     "metadata": {},
     "output_type": "execute_result"
    }
   ],
   "source": [
    "even"
   ]
  },
  {
   "cell_type": "code",
   "execution_count": 21,
   "id": "01fdf9dd",
   "metadata": {},
   "outputs": [],
   "source": [
    "num1=[j for j in range(1,21)]\n",
    "even=[i for i in num1 if i%2==0]"
   ]
  },
  {
   "cell_type": "code",
   "execution_count": 22,
   "id": "08cac9fb",
   "metadata": {},
   "outputs": [
    {
     "data": {
      "text/plain": [
       "[2, 4, 6, 8, 10, 12, 14, 16, 18, 20]"
      ]
     },
     "execution_count": 22,
     "metadata": {},
     "output_type": "execute_result"
    }
   ],
   "source": [
    "even\n"
   ]
  },
  {
   "cell_type": "markdown",
   "id": "91ac95fe",
   "metadata": {},
   "source": [
    "# Write a program to print odd number."
   ]
  },
  {
   "cell_type": "code",
   "execution_count": 24,
   "id": "6d548530",
   "metadata": {},
   "outputs": [],
   "source": [
    "odd=[k for k in num1 if k%2!=0]"
   ]
  },
  {
   "cell_type": "code",
   "execution_count": 25,
   "id": "20777965",
   "metadata": {},
   "outputs": [
    {
     "data": {
      "text/plain": [
       "[1, 3, 5, 7, 9, 11, 13, 15, 17, 19]"
      ]
     },
     "execution_count": 25,
     "metadata": {},
     "output_type": "execute_result"
    }
   ],
   "source": [
    "odd"
   ]
  },
  {
   "cell_type": "code",
   "execution_count": 26,
   "id": "167e11bd",
   "metadata": {},
   "outputs": [
    {
     "name": "stdout",
     "output_type": "stream",
     "text": [
      "[21, 22, 23, 24, 25, 26, 27, 28, 29, 30, 31, 32, 33, 34, 35, 36, 37, 38, 39, 40, 41, 42, 43, 44, 45, 46, 47, 48, 49]\n"
     ]
    }
   ],
   "source": [
    "odd1=[i for i in range(21,50)]\n",
    "print(odd1)"
   ]
  },
  {
   "cell_type": "code",
   "execution_count": 30,
   "id": "35313c40",
   "metadata": {},
   "outputs": [],
   "source": [
    "odd_num=[m for m in odd1 if m%2 != 0 ]"
   ]
  },
  {
   "cell_type": "code",
   "execution_count": 31,
   "id": "13bd1cbc",
   "metadata": {},
   "outputs": [
    {
     "data": {
      "text/plain": [
       "[21, 23, 25, 27, 29, 31, 33, 35, 37, 39, 41, 43, 45, 47, 49]"
      ]
     },
     "execution_count": 31,
     "metadata": {},
     "output_type": "execute_result"
    }
   ],
   "source": [
    "odd_num"
   ]
  },
  {
   "cell_type": "code",
   "execution_count": 32,
   "id": "57810a24",
   "metadata": {},
   "outputs": [],
   "source": [
    "x=[i for i in range(1,11)]"
   ]
  },
  {
   "cell_type": "code",
   "execution_count": 33,
   "id": "4aad9d4a",
   "metadata": {},
   "outputs": [
    {
     "name": "stdout",
     "output_type": "stream",
     "text": [
      "[1, 2, 3, 4, 5, 6, 7, 8, 9, 10]\n"
     ]
    }
   ],
   "source": [
    "print(x)"
   ]
  },
  {
   "cell_type": "code",
   "execution_count": 34,
   "id": "fe834187",
   "metadata": {},
   "outputs": [
    {
     "data": {
      "text/plain": [
       "'\\x0b'"
      ]
     },
     "execution_count": 34,
     "metadata": {},
     "output_type": "execute_result"
    }
   ],
   "source": [
    "chr(11)"
   ]
  },
  {
   "cell_type": "code",
   "execution_count": 35,
   "id": "7e338323",
   "metadata": {},
   "outputs": [
    {
     "data": {
      "text/plain": [
       "'_'"
      ]
     },
     "execution_count": 35,
     "metadata": {},
     "output_type": "execute_result"
    }
   ],
   "source": [
    "chr(95)"
   ]
  },
  {
   "cell_type": "code",
   "execution_count": 36,
   "id": "2660b4d7",
   "metadata": {},
   "outputs": [
    {
     "data": {
      "text/plain": [
       "'x'"
      ]
     },
     "execution_count": 36,
     "metadata": {},
     "output_type": "execute_result"
    }
   ],
   "source": [
    "chr(120)"
   ]
  },
  {
   "cell_type": "code",
   "execution_count": 37,
   "id": "56d2c73c",
   "metadata": {},
   "outputs": [
    {
     "data": {
      "text/plain": [
       "97"
      ]
     },
     "execution_count": 37,
     "metadata": {},
     "output_type": "execute_result"
    }
   ],
   "source": [
    "ord('a')"
   ]
  },
  {
   "cell_type": "code",
   "execution_count": 38,
   "id": "1f159bed",
   "metadata": {},
   "outputs": [
    {
     "data": {
      "text/plain": [
       "'a'"
      ]
     },
     "execution_count": 38,
     "metadata": {},
     "output_type": "execute_result"
    }
   ],
   "source": [
    "chr(97)"
   ]
  },
  {
   "cell_type": "code",
   "execution_count": 44,
   "id": "c8650822",
   "metadata": {},
   "outputs": [
    {
     "ename": "TypeError",
     "evalue": "an integer is required (got type str)",
     "output_type": "error",
     "traceback": [
      "\u001b[1;31m---------------------------------------------------------------------------\u001b[0m",
      "\u001b[1;31mTypeError\u001b[0m                                 Traceback (most recent call last)",
      "\u001b[1;32m<ipython-input-44-e4cd63371e81>\u001b[0m in \u001b[0;36m<module>\u001b[1;34m\u001b[0m\n\u001b[0;32m      1\u001b[0m \u001b[0mval\u001b[0m\u001b[1;33m=\u001b[0m\u001b[1;33m[\u001b[0m\u001b[0mi\u001b[0m \u001b[1;32mfor\u001b[0m \u001b[0mi\u001b[0m \u001b[1;32min\u001b[0m \u001b[0mrange\u001b[0m\u001b[1;33m(\u001b[0m\u001b[1;36m97\u001b[0m\u001b[1;33m,\u001b[0m\u001b[1;36m122\u001b[0m\u001b[1;33m)\u001b[0m\u001b[1;33m]\u001b[0m\u001b[1;33m\u001b[0m\u001b[1;33m\u001b[0m\u001b[0m\n\u001b[1;32m----> 2\u001b[1;33m \u001b[0mprint\u001b[0m\u001b[1;33m(\u001b[0m\u001b[0mchr\u001b[0m\u001b[1;33m(\u001b[0m\u001b[1;34m'val'\u001b[0m\u001b[1;33m)\u001b[0m\u001b[1;33m)\u001b[0m\u001b[1;33m\u001b[0m\u001b[1;33m\u001b[0m\u001b[0m\n\u001b[0m",
      "\u001b[1;31mTypeError\u001b[0m: an integer is required (got type str)"
     ]
    }
   ],
   "source": [
    "val=[i for i in range(97,122)]\n"
   ]
  },
  {
   "cell_type": "code",
   "execution_count": 66,
   "id": "fc4e39dc",
   "metadata": {},
   "outputs": [
    {
     "name": "stdout",
     "output_type": "stream",
     "text": [
      "a  b  c  d  e  f  g  h  i  j  k  l  m  n  o  p  q  r  s  t  u  v  w  x  y  z  "
     ]
    }
   ],
   "source": [
    "for i in range(97,123):\n",
    "    result=(chr(i))\n",
    "    x=print(result,end=\"  \")"
   ]
  },
  {
   "cell_type": "code",
   "execution_count": 69,
   "id": "2edfc23a",
   "metadata": {},
   "outputs": [
    {
     "data": {
      "text/plain": [
       "65"
      ]
     },
     "execution_count": 69,
     "metadata": {},
     "output_type": "execute_result"
    }
   ],
   "source": [
    "ord('A')"
   ]
  },
  {
   "cell_type": "code",
   "execution_count": 70,
   "id": "0d61baf4",
   "metadata": {},
   "outputs": [
    {
     "data": {
      "text/plain": [
       "90"
      ]
     },
     "execution_count": 70,
     "metadata": {},
     "output_type": "execute_result"
    }
   ],
   "source": [
    "ord('Z')"
   ]
  },
  {
   "cell_type": "markdown",
   "id": "39649aa3",
   "metadata": {},
   "source": [
    "### Write a program to print following output.\n",
    "\n",
    "- input=list1=[1,2]\n",
    "        list2=[3,4]\n",
    "    \n",
    "- output= [(1,3),(1,4),(2,3),(2,4)]"
   ]
  },
  {
   "cell_type": "code",
   "execution_count": 2,
   "id": "e8b69d6c",
   "metadata": {},
   "outputs": [],
   "source": [
    "list1=[1,2]\n",
    "list2=[3,4]\n",
    "\n",
    "x=[(i,j) for i in list1  for j in list2]"
   ]
  },
  {
   "cell_type": "code",
   "execution_count": 3,
   "id": "4d7cc717",
   "metadata": {},
   "outputs": [
    {
     "data": {
      "text/plain": [
       "[(1, 3), (1, 4), (2, 3), (2, 4)]"
      ]
     },
     "execution_count": 3,
     "metadata": {},
     "output_type": "execute_result"
    }
   ],
   "source": [
    "x"
   ]
  },
  {
   "cell_type": "code",
   "execution_count": 15,
   "id": "23b21326",
   "metadata": {},
   "outputs": [
    {
     "data": {
      "text/plain": [
       "4"
      ]
     },
     "execution_count": 15,
     "metadata": {},
     "output_type": "execute_result"
    }
   ],
   "source": [
    "len(x)"
   ]
  },
  {
   "cell_type": "code",
   "execution_count": 16,
   "id": "5c989d18",
   "metadata": {},
   "outputs": [
    {
     "data": {
      "text/plain": [
       "list"
      ]
     },
     "execution_count": 16,
     "metadata": {},
     "output_type": "execute_result"
    }
   ],
   "source": [
    "type(x)"
   ]
  },
  {
   "cell_type": "code",
   "execution_count": 4,
   "id": "65599389",
   "metadata": {},
   "outputs": [],
   "source": [
    "num1=[1,2,3,4]\n",
    "num2=[5,6,7,8]\n",
    "\n",
    "result=[(x,y) for x in num1 for y in num2]  # co-orrdinates(x,y)"
   ]
  },
  {
   "cell_type": "code",
   "execution_count": 7,
   "id": "482f26aa",
   "metadata": {},
   "outputs": [
    {
     "name": "stdout",
     "output_type": "stream",
     "text": [
      "[(1, 5), (1, 6), (1, 7), (1, 8), (2, 5), (2, 6), (2, 7), (2, 8), (3, 5), (3, 6), (3, 7), (3, 8), (4, 5), (4, 6), (4, 7), (4, 8)]\t"
     ]
    }
   ],
   "source": [
    "print(result,end=\"\\t\")"
   ]
  },
  {
   "cell_type": "code",
   "execution_count": 8,
   "id": "8310e9d9",
   "metadata": {},
   "outputs": [],
   "source": [
    "a=[1,2,3]\n",
    "b=[5,6,7]\n",
    "c=[8,9,10,11]\n",
    "\n",
    "re=[(i,j,k) for i in a for j in b for k in c]"
   ]
  },
  {
   "cell_type": "code",
   "execution_count": 10,
   "id": "a573cad0",
   "metadata": {},
   "outputs": [
    {
     "name": "stdout",
     "output_type": "stream",
     "text": [
      "[(1, 5, 8), (1, 5, 9), (1, 5, 10), (1, 5, 11), (1, 6, 8), (1, 6, 9), (1, 6, 10), (1, 6, 11), (1, 7, 8), (1, 7, 9), (1, 7, 10), (1, 7, 11), (2, 5, 8), (2, 5, 9), (2, 5, 10), (2, 5, 11), (2, 6, 8), (2, 6, 9), (2, 6, 10), (2, 6, 11), (2, 7, 8), (2, 7, 9), (2, 7, 10), (2, 7, 11), (3, 5, 8), (3, 5, 9), (3, 5, 10), (3, 5, 11), (3, 6, 8), (3, 6, 9), (3, 6, 10), (3, 6, 11), (3, 7, 8), (3, 7, 9), (3, 7, 10), (3, 7, 11)]\t"
     ]
    }
   ],
   "source": [
    "print(re,end=\"\\t\")"
   ]
  },
  {
   "cell_type": "code",
   "execution_count": null,
   "id": "075db15d",
   "metadata": {},
   "outputs": [],
   "source": []
  },
  {
   "cell_type": "code",
   "execution_count": 13,
   "id": "21140e9a",
   "metadata": {},
   "outputs": [],
   "source": [
    "list1=[1,2]\n",
    "list2=[3,4]\n",
    "\n",
    "x=[(i*j) for i in list1  for j in list2]"
   ]
  },
  {
   "cell_type": "code",
   "execution_count": 14,
   "id": "b69537a0",
   "metadata": {},
   "outputs": [
    {
     "name": "stdout",
     "output_type": "stream",
     "text": [
      "[3, 4, 6, 8]\n"
     ]
    }
   ],
   "source": [
    "print(x)"
   ]
  },
  {
   "cell_type": "markdown",
   "id": "094d87bd",
   "metadata": {},
   "source": [
    "### Write a program to print name starts with 'G' and make a new list."
   ]
  },
  {
   "cell_type": "markdown",
   "id": "d434407b",
   "metadata": {},
   "source": [
    "#### Method 1"
   ]
  },
  {
   "cell_type": "code",
   "execution_count": 26,
   "id": "84a20c59",
   "metadata": {},
   "outputs": [
    {
     "name": "stdout",
     "output_type": "stream",
     "text": [
      "['Ganesh', 'Guru', 'Gajanan']\n"
     ]
    }
   ],
   "source": [
    "list1=[\"Ganesh\",\"Vikas\",\"Guru\",\"Gajanan\",\"Ramesh\",\"grand\"]\n",
    "new_list=[]\n",
    "for i in list1:\n",
    "    if i.startswith('G'):\n",
    "        \n",
    "        new_list.append(i)\n",
    "print(new_list)"
   ]
  },
  {
   "cell_type": "markdown",
   "id": "da9a1811",
   "metadata": {},
   "source": [
    "#### Method 2"
   ]
  },
  {
   "cell_type": "code",
   "execution_count": 18,
   "id": "ae57e7d5",
   "metadata": {},
   "outputs": [],
   "source": [
    "list1=[\"Ganesh\",\"Vikas\",\"guru\",\"Gajanan\",\"Ramesh\",\"Grand\"]\n",
    "my_list=[i.startswith('G') for i in list1]"
   ]
  },
  {
   "cell_type": "code",
   "execution_count": 19,
   "id": "8716fe7f",
   "metadata": {},
   "outputs": [
    {
     "data": {
      "text/plain": [
       "[True, False, False, True, False, True]"
      ]
     },
     "execution_count": 19,
     "metadata": {},
     "output_type": "execute_result"
    }
   ],
   "source": [
    "my_list"
   ]
  },
  {
   "cell_type": "code",
   "execution_count": 24,
   "id": "d6919db1",
   "metadata": {},
   "outputs": [],
   "source": [
    "list1=[\"Ganesh\",\"Vikas\",\"Guru\",\"Gajanan\",\"Ramesh\",\"grand\"]\n",
    "my_list=[i for i in list1 if i.startswith('G') ]"
   ]
  },
  {
   "cell_type": "code",
   "execution_count": 25,
   "id": "c26e8d37",
   "metadata": {},
   "outputs": [
    {
     "data": {
      "text/plain": [
       "['Ganesh', 'Guru', 'Gajanan']"
      ]
     },
     "execution_count": 25,
     "metadata": {},
     "output_type": "execute_result"
    }
   ],
   "source": [
    "my_list"
   ]
  },
  {
   "cell_type": "markdown",
   "id": "de421cf3",
   "metadata": {},
   "source": [
    "### Write a program to print name of students whose age above 18.\n",
    "\n",
    "- students_name=[(\"Ram\",12),(\"Ganesh\",28),(\"Sham\",22),(\"Vikas\",24)]"
   ]
  },
  {
   "cell_type": "code",
   "execution_count": 30,
   "id": "3dc42900",
   "metadata": {},
   "outputs": [],
   "source": [
    "students_name=[(\"Ram\",12),(\"Ganesh\",28),(\"Sham\",22),(\"Vikas\",24)]\n",
    "age=[x for (x,y) in students_name if y>18]"
   ]
  },
  {
   "cell_type": "code",
   "execution_count": 31,
   "id": "40069378",
   "metadata": {},
   "outputs": [
    {
     "data": {
      "text/plain": [
       "['Ganesh', 'Sham', 'Vikas']"
      ]
     },
     "execution_count": 31,
     "metadata": {},
     "output_type": "execute_result"
    }
   ],
   "source": [
    "age"
   ]
  },
  {
   "cell_type": "markdown",
   "id": "f5b314d3",
   "metadata": {},
   "source": [
    "##### Name of students whose age below 18."
   ]
  },
  {
   "cell_type": "code",
   "execution_count": 40,
   "id": "09573763",
   "metadata": {},
   "outputs": [],
   "source": [
    "students_name=[(\"Ram\",12),(\"Ganesh\",28),(\"Sham\",22),(\"Vikas\",24),(\"Suraj\",15)]\n",
    "age=[x for (x,y) in students_name if y<18]"
   ]
  },
  {
   "cell_type": "code",
   "execution_count": 41,
   "id": "776ee2a7",
   "metadata": {},
   "outputs": [
    {
     "data": {
      "text/plain": [
       "['Ram', 'Suraj']"
      ]
     },
     "execution_count": 41,
     "metadata": {},
     "output_type": "execute_result"
    }
   ],
   "source": [
    "age"
   ]
  },
  {
   "cell_type": "code",
   "execution_count": 45,
   "id": "32aafafe",
   "metadata": {},
   "outputs": [
    {
     "name": "stdout",
     "output_type": "stream",
     "text": [
      "1\n",
      "1\n",
      "1\n",
      "2\n",
      "[[0, 0, 0], [0, 0, 1], [0, 1, 0], [0, 1, 1], [1, 0, 0], [1, 0, 1], [1, 1, 0], [1, 1, 1]]\n"
     ]
    }
   ],
   "source": [
    "x=int(input())\n",
    "y=int(input())\n",
    "z=int(input())\n",
    "n=int(input())\n",
    "\n",
    "x1=[i for i in range(x+1)]\n",
    "y1=[j for j in range(y+1)]\n",
    "z1=[k for k in range(z+1)]\n",
    "\n",
    "permutation=[[i,j,k] for i in x1 for j in y1 for k in z1]\n",
    "required=[m for m in permutation if m!=n]\n",
    "print(required)"
   ]
  },
  {
   "cell_type": "code",
   "execution_count": 48,
   "id": "a614c451",
   "metadata": {},
   "outputs": [
    {
     "name": "stdout",
     "output_type": "stream",
     "text": [
      "1\n",
      "[1]\n"
     ]
    }
   ],
   "source": [
    "n=[int(input())]\n",
    "\n",
    "print(n)"
   ]
  },
  {
   "cell_type": "code",
   "execution_count": null,
   "id": "5741bb4a",
   "metadata": {},
   "outputs": [],
   "source": []
  }
 ],
 "metadata": {
  "kernelspec": {
   "display_name": "Python 3",
   "language": "python",
   "name": "python3"
  },
  "language_info": {
   "codemirror_mode": {
    "name": "ipython",
    "version": 3
   },
   "file_extension": ".py",
   "mimetype": "text/x-python",
   "name": "python",
   "nbconvert_exporter": "python",
   "pygments_lexer": "ipython3",
   "version": "3.8.8"
  }
 },
 "nbformat": 4,
 "nbformat_minor": 5
}
