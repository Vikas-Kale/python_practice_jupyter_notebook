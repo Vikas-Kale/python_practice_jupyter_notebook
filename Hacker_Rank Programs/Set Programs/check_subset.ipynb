{
 "cells": [
  {
   "cell_type": "code",
   "execution_count": 1,
   "id": "6828cf02",
   "metadata": {},
   "outputs": [
    {
     "name": "stdout",
     "output_type": "stream",
     "text": [
      "['__and__', '__class__', '__contains__', '__delattr__', '__dir__', '__doc__', '__eq__', '__format__', '__ge__', '__getattribute__', '__gt__', '__hash__', '__iand__', '__init__', '__init_subclass__', '__ior__', '__isub__', '__iter__', '__ixor__', '__le__', '__len__', '__lt__', '__ne__', '__new__', '__or__', '__rand__', '__reduce__', '__reduce_ex__', '__repr__', '__ror__', '__rsub__', '__rxor__', '__setattr__', '__sizeof__', '__str__', '__sub__', '__subclasshook__', '__xor__', 'add', 'clear', 'copy', 'difference', 'difference_update', 'discard', 'intersection', 'intersection_update', 'isdisjoint', 'issubset', 'issuperset', 'pop', 'remove', 'symmetric_difference', 'symmetric_difference_update', 'union', 'update']\n"
     ]
    }
   ],
   "source": [
    "print(dir(set))"
   ]
  },
  {
   "cell_type": "code",
   "execution_count": 2,
   "id": "ec41bae4",
   "metadata": {},
   "outputs": [
    {
     "name": "stdout",
     "output_type": "stream",
     "text": [
      "Help on method_descriptor:\n",
      "\n",
      "issubset(...)\n",
      "    Report whether another set contains this set.\n",
      "\n"
     ]
    }
   ],
   "source": [
    "help(set.issubset)"
   ]
  },
  {
   "cell_type": "markdown",
   "id": "d0bad312",
   "metadata": {},
   "source": [
    "### The issubset() method returns True if all elements of a set are present in another set (passed as an argument). If not, it returns False."
   ]
  },
  {
   "cell_type": "code",
   "execution_count": 3,
   "id": "d6b0f06b",
   "metadata": {},
   "outputs": [],
   "source": [
    "A = {1, 2, 3}\n",
    "B = {1, 2, 3, 4, 5}\n",
    "C = {1, 2, 4, 5}"
   ]
  },
  {
   "cell_type": "code",
   "execution_count": 4,
   "id": "9a659055",
   "metadata": {},
   "outputs": [
    {
     "data": {
      "text/plain": [
       "True"
      ]
     },
     "execution_count": 4,
     "metadata": {},
     "output_type": "execute_result"
    }
   ],
   "source": [
    "A.issubset(B)"
   ]
  },
  {
   "cell_type": "code",
   "execution_count": 5,
   "id": "73b431d6",
   "metadata": {},
   "outputs": [
    {
     "data": {
      "text/plain": [
       "False"
      ]
     },
     "execution_count": 5,
     "metadata": {},
     "output_type": "execute_result"
    }
   ],
   "source": [
    "B.issubset(A)"
   ]
  },
  {
   "cell_type": "code",
   "execution_count": 6,
   "id": "f745e352",
   "metadata": {},
   "outputs": [
    {
     "data": {
      "text/plain": [
       "True"
      ]
     },
     "execution_count": 6,
     "metadata": {},
     "output_type": "execute_result"
    }
   ],
   "source": [
    "C.issubset(B)"
   ]
  },
  {
   "cell_type": "code",
   "execution_count": 10,
   "id": "1a14092e",
   "metadata": {},
   "outputs": [
    {
     "name": "stdout",
     "output_type": "stream",
     "text": [
      "3\n",
      "5\n",
      "1 2 3 5 6\n",
      "9\n",
      "9 8 5 6 3 2 1 4 7\n",
      "True\n",
      "1\n",
      "2\n",
      "5\n",
      "3 6 5 4 1\n",
      "False\n",
      "7\n",
      "1 2 3 5 6 8 9\n",
      "3\n",
      "9 8 2\n",
      "False\n"
     ]
    }
   ],
   "source": [
    "for i in range(int(input())):  # Here input is 3 --> the number of test cases. Loop iterates 3 times\n",
    "    x, a, z, b = input(), set(input().split()), input(), set(input().split()) # x=number of ele in set.a=set,z=no.of ele in b set.\n",
    "    print(a.issubset(b))"
   ]
  },
  {
   "cell_type": "code",
   "execution_count": null,
   "id": "d9a418aa",
   "metadata": {},
   "outputs": [],
   "source": [
    "3\n",
    "5\n",
    "1 2 3 5 6\n",
    "9\n",
    "9 8 5 6 3 2 1 4 7\n",
    "1\n",
    "2\n",
    "5\n",
    "3 6 5 4 1\n",
    "7\n",
    "1 2 3 5 6 8 9\n",
    "3\n",
    "9 8 2"
   ]
  },
  {
   "cell_type": "code",
   "execution_count": 7,
   "id": "51870b2a",
   "metadata": {},
   "outputs": [],
   "source": [
    "a,b,c=1,2,3\n"
   ]
  },
  {
   "cell_type": "code",
   "execution_count": 8,
   "id": "8d9cdd4b",
   "metadata": {},
   "outputs": [
    {
     "data": {
      "text/plain": [
       "1"
      ]
     },
     "execution_count": 8,
     "metadata": {},
     "output_type": "execute_result"
    }
   ],
   "source": [
    "a"
   ]
  },
  {
   "cell_type": "code",
   "execution_count": 9,
   "id": "dab6f21e",
   "metadata": {},
   "outputs": [
    {
     "data": {
      "text/plain": [
       "3"
      ]
     },
     "execution_count": 9,
     "metadata": {},
     "output_type": "execute_result"
    }
   ],
   "source": [
    "c"
   ]
  },
  {
   "cell_type": "code",
   "execution_count": 1,
   "id": "8cdbc751",
   "metadata": {
    "ExecuteTime": {
     "end_time": "2021-10-16T07:21:12.769414Z",
     "start_time": "2021-10-16T07:21:12.752145Z"
    }
   },
   "outputs": [
    {
     "name": "stdout",
     "output_type": "stream",
     "text": [
      "['__and__', '__class__', '__contains__', '__delattr__', '__dir__', '__doc__', '__eq__', '__format__', '__ge__', '__getattribute__', '__gt__', '__hash__', '__iand__', '__init__', '__init_subclass__', '__ior__', '__isub__', '__iter__', '__ixor__', '__le__', '__len__', '__lt__', '__ne__', '__new__', '__or__', '__rand__', '__reduce__', '__reduce_ex__', '__repr__', '__ror__', '__rsub__', '__rxor__', '__setattr__', '__sizeof__', '__str__', '__sub__', '__subclasshook__', '__xor__', 'add', 'clear', 'copy', 'difference', 'difference_update', 'discard', 'intersection', 'intersection_update', 'isdisjoint', 'issubset', 'issuperset', 'pop', 'remove', 'symmetric_difference', 'symmetric_difference_update', 'union', 'update']\n"
     ]
    }
   ],
   "source": [
    "print(dir(set))"
   ]
  },
  {
   "cell_type": "code",
   "execution_count": 2,
   "id": "89146984",
   "metadata": {
    "ExecuteTime": {
     "end_time": "2021-10-16T07:31:09.853365Z",
     "start_time": "2021-10-16T07:31:09.848367Z"
    }
   },
   "outputs": [],
   "source": [
    "set1 = {1,2,4,5,611,12}\n",
    "set2 = {5,6,7,81}"
   ]
  },
  {
   "cell_type": "code",
   "execution_count": 4,
   "id": "ac7d913c",
   "metadata": {
    "ExecuteTime": {
     "end_time": "2021-10-16T07:31:49.954500Z",
     "start_time": "2021-10-16T07:31:49.936502Z"
    }
   },
   "outputs": [
    {
     "name": "stdout",
     "output_type": "stream",
     "text": [
      "5\n"
     ]
    }
   ],
   "source": [
    "print(len(set1.difference(set2)))"
   ]
  },
  {
   "cell_type": "code",
   "execution_count": 5,
   "id": "aaacd3a1",
   "metadata": {
    "ExecuteTime": {
     "end_time": "2021-10-16T07:32:02.135069Z",
     "start_time": "2021-10-16T07:32:02.123068Z"
    }
   },
   "outputs": [
    {
     "data": {
      "text/plain": [
       "6"
      ]
     },
     "execution_count": 5,
     "metadata": {},
     "output_type": "execute_result"
    }
   ],
   "source": [
    "len(set1)"
   ]
  },
  {
   "cell_type": "code",
   "execution_count": 6,
   "id": "c3bbad19",
   "metadata": {
    "ExecuteTime": {
     "end_time": "2021-10-16T07:32:08.059949Z",
     "start_time": "2021-10-16T07:32:08.047949Z"
    }
   },
   "outputs": [
    {
     "data": {
      "text/plain": [
       "4"
      ]
     },
     "execution_count": 6,
     "metadata": {},
     "output_type": "execute_result"
    }
   ],
   "source": [
    "len(set2)"
   ]
  },
  {
   "cell_type": "code",
   "execution_count": 7,
   "id": "f3bc9a81",
   "metadata": {
    "ExecuteTime": {
     "end_time": "2021-10-16T07:32:55.091379Z",
     "start_time": "2021-10-16T07:32:55.074381Z"
    }
   },
   "outputs": [
    {
     "data": {
      "text/plain": [
       "{1, 2, 4, 12, 611}"
      ]
     },
     "execution_count": 7,
     "metadata": {},
     "output_type": "execute_result"
    }
   ],
   "source": [
    "set1 - set2"
   ]
  },
  {
   "cell_type": "code",
   "execution_count": 10,
   "id": "4852c38c",
   "metadata": {
    "ExecuteTime": {
     "end_time": "2021-10-16T07:49:59.914909Z",
     "start_time": "2021-10-16T07:49:59.890911Z"
    }
   },
   "outputs": [],
   "source": [
    "A = {1,2,3 ,4, 5, 6, 7 ,8, 9, 10, 11, 12,23, 45, 84 ,78}\n",
    "B = {1 ,2, 3 ,4, 5}"
   ]
  },
  {
   "cell_type": "code",
   "execution_count": 15,
   "id": "c65f079d",
   "metadata": {
    "ExecuteTime": {
     "end_time": "2021-10-16T07:50:43.359634Z",
     "start_time": "2021-10-16T07:50:43.325805Z"
    }
   },
   "outputs": [
    {
     "data": {
      "text/plain": [
       "16"
      ]
     },
     "execution_count": 15,
     "metadata": {},
     "output_type": "execute_result"
    }
   ],
   "source": [
    "len(A)"
   ]
  },
  {
   "cell_type": "code",
   "execution_count": 16,
   "id": "18524126",
   "metadata": {
    "ExecuteTime": {
     "end_time": "2021-10-16T07:51:22.315050Z",
     "start_time": "2021-10-16T07:51:22.291047Z"
    }
   },
   "outputs": [],
   "source": [
    "C = B - A"
   ]
  },
  {
   "cell_type": "code",
   "execution_count": 17,
   "id": "e59c5875",
   "metadata": {
    "ExecuteTime": {
     "end_time": "2021-10-16T07:51:23.326836Z",
     "start_time": "2021-10-16T07:51:23.310837Z"
    }
   },
   "outputs": [
    {
     "data": {
      "text/plain": [
       "0"
      ]
     },
     "execution_count": 17,
     "metadata": {},
     "output_type": "execute_result"
    }
   ],
   "source": [
    "len(C)"
   ]
  },
  {
   "cell_type": "code",
   "execution_count": 18,
   "id": "c49b9f77",
   "metadata": {
    "ExecuteTime": {
     "end_time": "2021-10-16T07:51:24.328231Z",
     "start_time": "2021-10-16T07:51:24.304234Z"
    }
   },
   "outputs": [
    {
     "data": {
      "text/plain": [
       "set()"
      ]
     },
     "execution_count": 18,
     "metadata": {},
     "output_type": "execute_result"
    }
   ],
   "source": [
    "C"
   ]
  },
  {
   "cell_type": "code",
   "execution_count": null,
   "id": "c42043c1",
   "metadata": {},
   "outputs": [],
   "source": []
  }
 ],
 "metadata": {
  "kernelspec": {
   "display_name": "Python 3",
   "language": "python",
   "name": "python3"
  },
  "language_info": {
   "codemirror_mode": {
    "name": "ipython",
    "version": 3
   },
   "file_extension": ".py",
   "mimetype": "text/x-python",
   "name": "python",
   "nbconvert_exporter": "python",
   "pygments_lexer": "ipython3",
   "version": "3.8.8"
  }
 },
 "nbformat": 4,
 "nbformat_minor": 5
}
