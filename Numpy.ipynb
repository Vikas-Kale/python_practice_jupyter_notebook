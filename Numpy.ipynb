{
 "cells": [
  {
   "cell_type": "code",
   "execution_count": 1,
   "id": "7b210d56",
   "metadata": {
    "ExecuteTime": {
     "end_time": "2021-11-14T04:38:27.859342Z",
     "start_time": "2021-11-14T04:38:23.669888Z"
    }
   },
   "outputs": [],
   "source": [
    "import numpy as np"
   ]
  },
  {
   "cell_type": "code",
   "execution_count": 2,
   "id": "d64839b8",
   "metadata": {
    "ExecuteTime": {
     "end_time": "2021-11-14T04:38:38.460058Z",
     "start_time": "2021-11-14T04:38:38.403023Z"
    }
   },
   "outputs": [
    {
     "name": "stdout",
     "output_type": "stream",
     "text": [
      "['ALLOW_THREADS', 'AxisError', 'BUFSIZE', 'Bytes0', 'CLIP', 'ComplexWarning', 'DataSource', 'Datetime64', 'ERR_CALL', 'ERR_DEFAULT', 'ERR_IGNORE', 'ERR_LOG', 'ERR_PRINT', 'ERR_RAISE', 'ERR_WARN', 'FLOATING_POINT_SUPPORT', 'FPE_DIVIDEBYZERO', 'FPE_INVALID', 'FPE_OVERFLOW', 'FPE_UNDERFLOW', 'False_', 'Inf', 'Infinity', 'MAXDIMS', 'MAY_SHARE_BOUNDS', 'MAY_SHARE_EXACT', 'MachAr', 'ModuleDeprecationWarning', 'NAN', 'NINF', 'NZERO', 'NaN', 'PINF', 'PZERO', 'RAISE', 'RankWarning', 'SHIFT_DIVIDEBYZERO', 'SHIFT_INVALID', 'SHIFT_OVERFLOW', 'SHIFT_UNDERFLOW', 'ScalarType', 'Str0', 'Tester', 'TooHardError', 'True_', 'UFUNC_BUFSIZE_DEFAULT', 'UFUNC_PYVALS_NAME', 'Uint64', 'VisibleDeprecationWarning', 'WRAP', '_NoValue', '_UFUNC_API', '__NUMPY_SETUP__', '__all__', '__builtins__', '__cached__', '__config__', '__deprecated_attrs__', '__dir__', '__doc__', '__expired_functions__', '__file__', '__getattr__', '__git_revision__', '__loader__', '__mkl_version__', '__name__', '__package__', '__path__', '__spec__', '__version__', '_add_newdoc_ufunc', '_distributor_init', '_financial_names', '_globals', '_mat', '_pytesttester', 'abs', 'absolute', 'add', 'add_docstring', 'add_newdoc', 'add_newdoc_ufunc', 'alen', 'all', 'allclose', 'alltrue', 'amax', 'amin', 'angle', 'any', 'append', 'apply_along_axis', 'apply_over_axes', 'arange', 'arccos', 'arccosh', 'arcsin', 'arcsinh', 'arctan', 'arctan2', 'arctanh', 'argmax', 'argmin', 'argpartition', 'argsort', 'argwhere', 'around', 'array', 'array2string', 'array_equal', 'array_equiv', 'array_repr', 'array_split', 'array_str', 'asanyarray', 'asarray', 'asarray_chkfinite', 'ascontiguousarray', 'asfarray', 'asfortranarray', 'asmatrix', 'asscalar', 'atleast_1d', 'atleast_2d', 'atleast_3d', 'average', 'bartlett', 'base_repr', 'binary_repr', 'bincount', 'bitwise_and', 'bitwise_not', 'bitwise_or', 'bitwise_xor', 'blackman', 'block', 'bmat', 'bool8', 'bool_', 'broadcast', 'broadcast_arrays', 'broadcast_shapes', 'broadcast_to', 'busday_count', 'busday_offset', 'busdaycalendar', 'byte', 'byte_bounds', 'bytes0', 'bytes_', 'c_', 'can_cast', 'cast', 'cbrt', 'cdouble', 'ceil', 'cfloat', 'char', 'character', 'chararray', 'choose', 'clip', 'clongdouble', 'clongfloat', 'column_stack', 'common_type', 'compare_chararrays', 'compat', 'complex128', 'complex64', 'complex_', 'complexfloating', 'compress', 'concatenate', 'conj', 'conjugate', 'convolve', 'copy', 'copysign', 'copyto', 'core', 'corrcoef', 'correlate', 'cos', 'cosh', 'count_nonzero', 'cov', 'cross', 'csingle', 'ctypeslib', 'cumprod', 'cumproduct', 'cumsum', 'datetime64', 'datetime_as_string', 'datetime_data', 'deg2rad', 'degrees', 'delete', 'deprecate', 'deprecate_with_doc', 'diag', 'diag_indices', 'diag_indices_from', 'diagflat', 'diagonal', 'diff', 'digitize', 'disp', 'divide', 'divmod', 'dot', 'double', 'dsplit', 'dstack', 'dtype', 'e', 'ediff1d', 'einsum', 'einsum_path', 'emath', 'empty', 'empty_like', 'equal', 'errstate', 'euler_gamma', 'exp', 'exp2', 'expand_dims', 'expm1', 'extract', 'eye', 'fabs', 'fastCopyAndTranspose', 'fft', 'fill_diagonal', 'find_common_type', 'finfo', 'fix', 'flatiter', 'flatnonzero', 'flexible', 'flip', 'fliplr', 'flipud', 'float16', 'float32', 'float64', 'float_', 'float_power', 'floating', 'floor', 'floor_divide', 'fmax', 'fmin', 'fmod', 'format_float_positional', 'format_float_scientific', 'format_parser', 'frexp', 'frombuffer', 'fromfile', 'fromfunction', 'fromiter', 'frompyfunc', 'fromregex', 'fromstring', 'full', 'full_like', 'gcd', 'generic', 'genfromtxt', 'geomspace', 'get_array_wrap', 'get_include', 'get_printoptions', 'getbufsize', 'geterr', 'geterrcall', 'geterrobj', 'gradient', 'greater', 'greater_equal', 'half', 'hamming', 'hanning', 'heaviside', 'histogram', 'histogram2d', 'histogram_bin_edges', 'histogramdd', 'hsplit', 'hstack', 'hypot', 'i0', 'identity', 'iinfo', 'imag', 'in1d', 'index_exp', 'indices', 'inexact', 'inf', 'info', 'infty', 'inner', 'insert', 'int0', 'int16', 'int32', 'int64', 'int8', 'int_', 'intc', 'integer', 'interp', 'intersect1d', 'intp', 'invert', 'is_busday', 'isclose', 'iscomplex', 'iscomplexobj', 'isfinite', 'isfortran', 'isin', 'isinf', 'isnan', 'isnat', 'isneginf', 'isposinf', 'isreal', 'isrealobj', 'isscalar', 'issctype', 'issubclass_', 'issubdtype', 'issubsctype', 'iterable', 'ix_', 'kaiser', 'kron', 'lcm', 'ldexp', 'left_shift', 'less', 'less_equal', 'lexsort', 'lib', 'linalg', 'linspace', 'little_endian', 'load', 'loads', 'loadtxt', 'log', 'log10', 'log1p', 'log2', 'logaddexp', 'logaddexp2', 'logical_and', 'logical_not', 'logical_or', 'logical_xor', 'logspace', 'longcomplex', 'longdouble', 'longfloat', 'longlong', 'lookfor', 'ma', 'mafromtxt', 'mask_indices', 'mat', 'math', 'matmul', 'matrix', 'matrixlib', 'max', 'maximum', 'maximum_sctype', 'may_share_memory', 'mean', 'median', 'memmap', 'meshgrid', 'mgrid', 'min', 'min_scalar_type', 'minimum', 'mintypecode', 'mkl', 'mod', 'modf', 'moveaxis', 'msort', 'multiply', 'nan', 'nan_to_num', 'nanargmax', 'nanargmin', 'nancumprod', 'nancumsum', 'nanmax', 'nanmean', 'nanmedian', 'nanmin', 'nanpercentile', 'nanprod', 'nanquantile', 'nanstd', 'nansum', 'nanvar', 'nbytes', 'ndarray', 'ndenumerate', 'ndfromtxt', 'ndim', 'ndindex', 'nditer', 'negative', 'nested_iters', 'newaxis', 'nextafter', 'nonzero', 'not_equal', 'numarray', 'number', 'obj2sctype', 'object0', 'object_', 'ogrid', 'oldnumeric', 'ones', 'ones_like', 'os', 'outer', 'packbits', 'pad', 'partition', 'percentile', 'pi', 'piecewise', 'place', 'poly', 'poly1d', 'polyadd', 'polyder', 'polydiv', 'polyfit', 'polyint', 'polymul', 'polynomial', 'polysub', 'polyval', 'positive', 'power', 'printoptions', 'prod', 'product', 'promote_types', 'ptp', 'put', 'put_along_axis', 'putmask', 'quantile', 'r_', 'rad2deg', 'radians', 'random', 'ravel', 'ravel_multi_index', 'real', 'real_if_close', 'rec', 'recarray', 'recfromcsv', 'recfromtxt', 'reciprocal', 'record', 'remainder', 'repeat', 'require', 'reshape', 'resize', 'result_type', 'right_shift', 'rint', 'roll', 'rollaxis', 'roots', 'rot90', 'round', 'round_', 'row_stack', 's_', 'safe_eval', 'save', 'savetxt', 'savez', 'savez_compressed', 'sctype2char', 'sctypeDict', 'sctypes', 'searchsorted', 'select', 'set_numeric_ops', 'set_printoptions', 'set_string_function', 'setbufsize', 'setdiff1d', 'seterr', 'seterrcall', 'seterrobj', 'setxor1d', 'shape', 'shares_memory', 'short', 'show_config', 'sign', 'signbit', 'signedinteger', 'sin', 'sinc', 'single', 'singlecomplex', 'sinh', 'size', 'sometrue', 'sort', 'sort_complex', 'source', 'spacing', 'split', 'sqrt', 'square', 'squeeze', 'stack', 'std', 'str0', 'str_', 'string_', 'subtract', 'sum', 'swapaxes', 'sys', 'take', 'take_along_axis', 'tan', 'tanh', 'tensordot', 'test', 'testing', 'tile', 'timedelta64', 'trace', 'tracemalloc_domain', 'transpose', 'trapz', 'tri', 'tril', 'tril_indices', 'tril_indices_from', 'trim_zeros', 'triu', 'triu_indices', 'triu_indices_from', 'true_divide', 'trunc', 'typeDict', 'typecodes', 'typename', 'ubyte', 'ufunc', 'uint', 'uint0', 'uint16', 'uint32', 'uint64', 'uint8', 'uintc', 'uintp', 'ulonglong', 'unicode_', 'union1d', 'unique', 'unpackbits', 'unravel_index', 'unsignedinteger', 'unwrap', 'use_hugepage', 'ushort', 'vander', 'var', 'vdot', 'vectorize', 'version', 'void', 'void0', 'vsplit', 'vstack', 'warnings', 'where', 'who', 'zeros', 'zeros_like']\n"
     ]
    }
   ],
   "source": [
    "print(dir(np))"
   ]
  },
  {
   "cell_type": "code",
   "execution_count": 3,
   "id": "ec78f158",
   "metadata": {
    "ExecuteTime": {
     "end_time": "2021-11-14T04:39:20.244827Z",
     "start_time": "2021-11-14T04:39:20.209826Z"
    }
   },
   "outputs": [],
   "source": [
    "myarr = np.array([3,4,512,2])"
   ]
  },
  {
   "cell_type": "code",
   "execution_count": 4,
   "id": "1f66e791",
   "metadata": {
    "ExecuteTime": {
     "end_time": "2021-11-14T04:39:25.351717Z",
     "start_time": "2021-11-14T04:39:25.242720Z"
    }
   },
   "outputs": [
    {
     "data": {
      "text/plain": [
       "array([  3,   4, 512,   2])"
      ]
     },
     "execution_count": 4,
     "metadata": {},
     "output_type": "execute_result"
    }
   ],
   "source": [
    "myarr"
   ]
  },
  {
   "cell_type": "code",
   "execution_count": 5,
   "id": "1a832341",
   "metadata": {
    "ExecuteTime": {
     "end_time": "2021-11-14T04:39:32.553319Z",
     "start_time": "2021-11-14T04:39:32.530319Z"
    }
   },
   "outputs": [
    {
     "data": {
      "text/plain": [
       "numpy.ndarray"
      ]
     },
     "execution_count": 5,
     "metadata": {},
     "output_type": "execute_result"
    }
   ],
   "source": [
    "type(myarr)"
   ]
  },
  {
   "cell_type": "code",
   "execution_count": 6,
   "id": "f28af437",
   "metadata": {
    "ExecuteTime": {
     "end_time": "2021-11-14T04:41:24.519546Z",
     "start_time": "2021-11-14T04:41:24.499548Z"
    }
   },
   "outputs": [],
   "source": [
    "myarr = np.array([14,1,2,45,50,55], np.int8)"
   ]
  },
  {
   "cell_type": "code",
   "execution_count": 7,
   "id": "f946cc7c",
   "metadata": {
    "ExecuteTime": {
     "end_time": "2021-11-14T04:41:27.870555Z",
     "start_time": "2021-11-14T04:41:27.803557Z"
    }
   },
   "outputs": [
    {
     "data": {
      "text/plain": [
       "array([14,  1,  2, 45, 50, 55], dtype=int8)"
      ]
     },
     "execution_count": 7,
     "metadata": {},
     "output_type": "execute_result"
    }
   ],
   "source": [
    "myarr"
   ]
  },
  {
   "cell_type": "code",
   "execution_count": 8,
   "id": "26305e81",
   "metadata": {
    "ExecuteTime": {
     "end_time": "2021-11-14T04:42:03.873644Z",
     "start_time": "2021-11-14T04:42:03.861644Z"
    }
   },
   "outputs": [],
   "source": [
    "myarr = np.array([14,1,2,45,50,55], np.int32)"
   ]
  },
  {
   "cell_type": "code",
   "execution_count": 9,
   "id": "eae893ed",
   "metadata": {
    "ExecuteTime": {
     "end_time": "2021-11-14T04:42:07.010047Z",
     "start_time": "2021-11-14T04:42:06.986011Z"
    }
   },
   "outputs": [
    {
     "data": {
      "text/plain": [
       "array([14,  1,  2, 45, 50, 55])"
      ]
     },
     "execution_count": 9,
     "metadata": {},
     "output_type": "execute_result"
    }
   ],
   "source": [
    "myarr"
   ]
  },
  {
   "cell_type": "code",
   "execution_count": 10,
   "id": "6ba67e07",
   "metadata": {
    "ExecuteTime": {
     "end_time": "2021-11-14T04:43:55.339632Z",
     "start_time": "2021-11-14T04:43:55.318633Z"
    }
   },
   "outputs": [
    {
     "data": {
      "text/plain": [
       "(6,)"
      ]
     },
     "execution_count": 10,
     "metadata": {},
     "output_type": "execute_result"
    }
   ],
   "source": [
    "myarr.shape"
   ]
  },
  {
   "cell_type": "code",
   "execution_count": 11,
   "id": "54ff2066",
   "metadata": {
    "ExecuteTime": {
     "end_time": "2021-11-14T04:44:32.748959Z",
     "start_time": "2021-11-14T04:44:32.729925Z"
    }
   },
   "outputs": [],
   "source": [
    "myarr = np.array([[14,1,2,45,50,55]], np.int64)"
   ]
  },
  {
   "cell_type": "code",
   "execution_count": 12,
   "id": "e4127b41",
   "metadata": {
    "ExecuteTime": {
     "end_time": "2021-11-14T04:44:39.348553Z",
     "start_time": "2021-11-14T04:44:39.337553Z"
    }
   },
   "outputs": [
    {
     "data": {
      "text/plain": [
       "(1, 6)"
      ]
     },
     "execution_count": 12,
     "metadata": {},
     "output_type": "execute_result"
    }
   ],
   "source": [
    "myarr.shape"
   ]
  },
  {
   "cell_type": "code",
   "execution_count": 13,
   "id": "f2f8a4d4",
   "metadata": {
    "ExecuteTime": {
     "end_time": "2021-11-14T04:45:00.525095Z",
     "start_time": "2021-11-14T04:45:00.497062Z"
    }
   },
   "outputs": [
    {
     "data": {
      "text/plain": [
       "dtype('int64')"
      ]
     },
     "execution_count": 13,
     "metadata": {},
     "output_type": "execute_result"
    }
   ],
   "source": [
    "myarr.dtype"
   ]
  },
  {
   "cell_type": "code",
   "execution_count": 14,
   "id": "06f8e486",
   "metadata": {
    "ExecuteTime": {
     "end_time": "2021-11-14T04:46:48.727665Z",
     "start_time": "2021-11-14T04:46:48.666668Z"
    }
   },
   "outputs": [
    {
     "data": {
      "text/plain": [
       "array([14,  1,  2, 45, 50, 55], dtype=int64)"
      ]
     },
     "execution_count": 14,
     "metadata": {},
     "output_type": "execute_result"
    }
   ],
   "source": [
    "myarr[0]"
   ]
  },
  {
   "cell_type": "code",
   "execution_count": 15,
   "id": "0aa9cbcb",
   "metadata": {
    "ExecuteTime": {
     "end_time": "2021-11-14T04:46:58.861244Z",
     "start_time": "2021-11-14T04:46:58.834246Z"
    }
   },
   "outputs": [
    {
     "data": {
      "text/plain": [
       "1"
      ]
     },
     "execution_count": 15,
     "metadata": {},
     "output_type": "execute_result"
    }
   ],
   "source": [
    "myarr[0,1]"
   ]
  },
  {
   "cell_type": "code",
   "execution_count": 16,
   "id": "a265658d",
   "metadata": {
    "ExecuteTime": {
     "end_time": "2021-11-14T04:47:07.100034Z",
     "start_time": "2021-11-14T04:47:07.078036Z"
    }
   },
   "outputs": [
    {
     "data": {
      "text/plain": [
       "45"
      ]
     },
     "execution_count": 16,
     "metadata": {},
     "output_type": "execute_result"
    }
   ],
   "source": [
    "myarr[0,3]"
   ]
  },
  {
   "cell_type": "code",
   "execution_count": 17,
   "id": "4b15e771",
   "metadata": {
    "ExecuteTime": {
     "end_time": "2021-11-14T04:47:19.431544Z",
     "start_time": "2021-11-14T04:47:19.411546Z"
    }
   },
   "outputs": [],
   "source": [
    "myarr[0,1] = 80"
   ]
  },
  {
   "cell_type": "code",
   "execution_count": 18,
   "id": "f4b9ed39",
   "metadata": {
    "ExecuteTime": {
     "end_time": "2021-11-14T04:47:23.649328Z",
     "start_time": "2021-11-14T04:47:23.625329Z"
    }
   },
   "outputs": [
    {
     "data": {
      "text/plain": [
       "array([[14, 80,  2, 45, 50, 55]], dtype=int64)"
      ]
     },
     "execution_count": 18,
     "metadata": {},
     "output_type": "execute_result"
    }
   ],
   "source": [
    "myarr"
   ]
  },
  {
   "cell_type": "code",
   "execution_count": 19,
   "id": "33b59df9",
   "metadata": {
    "ExecuteTime": {
     "end_time": "2021-11-14T04:47:29.817749Z",
     "start_time": "2021-11-14T04:47:29.795749Z"
    }
   },
   "outputs": [
    {
     "data": {
      "text/plain": [
       "80"
      ]
     },
     "execution_count": 19,
     "metadata": {},
     "output_type": "execute_result"
    }
   ],
   "source": [
    "myarr[0,1]"
   ]
  },
  {
   "cell_type": "code",
   "execution_count": 20,
   "id": "361b8171",
   "metadata": {
    "ExecuteTime": {
     "end_time": "2021-11-14T04:53:32.250409Z",
     "start_time": "2021-11-14T04:53:32.240916Z"
    }
   },
   "outputs": [],
   "source": [
    "listarr = np.array([[1,2,3],[4,5,6],[11,12,13]])"
   ]
  },
  {
   "cell_type": "code",
   "execution_count": 21,
   "id": "280d131a",
   "metadata": {
    "ExecuteTime": {
     "end_time": "2021-11-14T04:53:44.403829Z",
     "start_time": "2021-11-14T04:53:44.377831Z"
    }
   },
   "outputs": [
    {
     "data": {
      "text/plain": [
       "dtype('int32')"
      ]
     },
     "execution_count": 21,
     "metadata": {},
     "output_type": "execute_result"
    }
   ],
   "source": [
    "listarr.dtype"
   ]
  },
  {
   "cell_type": "code",
   "execution_count": 22,
   "id": "c6f09326",
   "metadata": {
    "ExecuteTime": {
     "end_time": "2021-11-14T04:53:51.213563Z",
     "start_time": "2021-11-14T04:53:51.203563Z"
    }
   },
   "outputs": [
    {
     "data": {
      "text/plain": [
       "array([[ 1,  2,  3],\n",
       "       [ 4,  5,  6],\n",
       "       [11, 12, 13]])"
      ]
     },
     "execution_count": 22,
     "metadata": {},
     "output_type": "execute_result"
    }
   ],
   "source": [
    "listarr"
   ]
  },
  {
   "cell_type": "code",
   "execution_count": 23,
   "id": "aeaa4874",
   "metadata": {
    "ExecuteTime": {
     "end_time": "2021-11-14T04:53:59.339248Z",
     "start_time": "2021-11-14T04:53:59.319247Z"
    }
   },
   "outputs": [
    {
     "data": {
      "text/plain": [
       "(3, 3)"
      ]
     },
     "execution_count": 23,
     "metadata": {},
     "output_type": "execute_result"
    }
   ],
   "source": [
    "listarr.shape"
   ]
  },
  {
   "cell_type": "code",
   "execution_count": 24,
   "id": "f71cbd0c",
   "metadata": {
    "ExecuteTime": {
     "end_time": "2021-11-14T04:54:09.264560Z",
     "start_time": "2021-11-14T04:54:09.238561Z"
    }
   },
   "outputs": [
    {
     "data": {
      "text/plain": [
       "9"
      ]
     },
     "execution_count": 24,
     "metadata": {},
     "output_type": "execute_result"
    }
   ],
   "source": [
    "listarr.size"
   ]
  },
  {
   "cell_type": "code",
   "execution_count": 25,
   "id": "65d1be04",
   "metadata": {
    "ExecuteTime": {
     "end_time": "2021-11-14T04:57:30.547286Z",
     "start_time": "2021-11-14T04:57:30.525288Z"
    }
   },
   "outputs": [],
   "source": [
    "zeroes = np.zeros((2,5))"
   ]
  },
  {
   "cell_type": "code",
   "execution_count": 26,
   "id": "43188636",
   "metadata": {
    "ExecuteTime": {
     "end_time": "2021-11-14T04:57:33.474335Z",
     "start_time": "2021-11-14T04:57:33.407337Z"
    }
   },
   "outputs": [
    {
     "data": {
      "text/plain": [
       "array([[0., 0., 0., 0., 0.],\n",
       "       [0., 0., 0., 0., 0.]])"
      ]
     },
     "execution_count": 26,
     "metadata": {},
     "output_type": "execute_result"
    }
   ],
   "source": [
    "zeroes"
   ]
  },
  {
   "cell_type": "code",
   "execution_count": 27,
   "id": "e7904eb5",
   "metadata": {
    "ExecuteTime": {
     "end_time": "2021-11-14T04:57:41.347480Z",
     "start_time": "2021-11-14T04:57:41.330480Z"
    }
   },
   "outputs": [
    {
     "data": {
      "text/plain": [
       "dtype('float64')"
      ]
     },
     "execution_count": 27,
     "metadata": {},
     "output_type": "execute_result"
    }
   ],
   "source": [
    "zeroes.dtype"
   ]
  },
  {
   "cell_type": "code",
   "execution_count": 28,
   "id": "6d5bdb41",
   "metadata": {
    "ExecuteTime": {
     "end_time": "2021-11-14T04:57:49.248537Z",
     "start_time": "2021-11-14T04:57:49.235538Z"
    }
   },
   "outputs": [
    {
     "data": {
      "text/plain": [
       "(2, 5)"
      ]
     },
     "execution_count": 28,
     "metadata": {},
     "output_type": "execute_result"
    }
   ],
   "source": [
    "zeroes.shape"
   ]
  },
  {
   "cell_type": "code",
   "execution_count": 29,
   "id": "b14dfae5",
   "metadata": {
    "ExecuteTime": {
     "end_time": "2021-11-14T04:57:55.782669Z",
     "start_time": "2021-11-14T04:57:55.761671Z"
    }
   },
   "outputs": [
    {
     "data": {
      "text/plain": [
       "10"
      ]
     },
     "execution_count": 29,
     "metadata": {},
     "output_type": "execute_result"
    }
   ],
   "source": [
    "zeroes.size"
   ]
  },
  {
   "cell_type": "code",
   "execution_count": 30,
   "id": "c0e9aff6",
   "metadata": {
    "ExecuteTime": {
     "end_time": "2021-11-14T04:58:59.199400Z",
     "start_time": "2021-11-14T04:58:59.157366Z"
    }
   },
   "outputs": [],
   "source": [
    "rng = np.arange(16)"
   ]
  },
  {
   "cell_type": "code",
   "execution_count": 31,
   "id": "4e56aab5",
   "metadata": {
    "ExecuteTime": {
     "end_time": "2021-11-14T04:59:02.356629Z",
     "start_time": "2021-11-14T04:59:02.338629Z"
    }
   },
   "outputs": [
    {
     "data": {
      "text/plain": [
       "array([ 0,  1,  2,  3,  4,  5,  6,  7,  8,  9, 10, 11, 12, 13, 14, 15])"
      ]
     },
     "execution_count": 31,
     "metadata": {},
     "output_type": "execute_result"
    }
   ],
   "source": [
    "rng"
   ]
  },
  {
   "cell_type": "code",
   "execution_count": 32,
   "id": "60386b07",
   "metadata": {
    "ExecuteTime": {
     "end_time": "2021-11-14T04:59:12.422822Z",
     "start_time": "2021-11-14T04:59:12.410821Z"
    }
   },
   "outputs": [
    {
     "data": {
      "text/plain": [
       "numpy.ndarray"
      ]
     },
     "execution_count": 32,
     "metadata": {},
     "output_type": "execute_result"
    }
   ],
   "source": [
    "type(rng)"
   ]
  },
  {
   "cell_type": "code",
   "execution_count": 33,
   "id": "59013129",
   "metadata": {
    "ExecuteTime": {
     "end_time": "2021-11-14T04:59:21.647911Z",
     "start_time": "2021-11-14T04:59:21.626910Z"
    }
   },
   "outputs": [
    {
     "data": {
      "text/plain": [
       "dtype('int32')"
      ]
     },
     "execution_count": 33,
     "metadata": {},
     "output_type": "execute_result"
    }
   ],
   "source": [
    "rng.dtype"
   ]
  },
  {
   "cell_type": "code",
   "execution_count": 34,
   "id": "21c14c1a",
   "metadata": {
    "ExecuteTime": {
     "end_time": "2021-11-14T04:59:28.877416Z",
     "start_time": "2021-11-14T04:59:28.856161Z"
    }
   },
   "outputs": [
    {
     "data": {
      "text/plain": [
       "(16,)"
      ]
     },
     "execution_count": 34,
     "metadata": {},
     "output_type": "execute_result"
    }
   ],
   "source": [
    "rng.shape"
   ]
  },
  {
   "cell_type": "code",
   "execution_count": 35,
   "id": "b4fc3d46",
   "metadata": {
    "ExecuteTime": {
     "end_time": "2021-11-14T04:59:35.530526Z",
     "start_time": "2021-11-14T04:59:35.508527Z"
    }
   },
   "outputs": [
    {
     "data": {
      "text/plain": [
       "16"
      ]
     },
     "execution_count": 35,
     "metadata": {},
     "output_type": "execute_result"
    }
   ],
   "source": [
    "rng.size"
   ]
  },
  {
   "cell_type": "code",
   "execution_count": 36,
   "id": "ce77c092",
   "metadata": {
    "ExecuteTime": {
     "end_time": "2021-11-14T05:01:40.528898Z",
     "start_time": "2021-11-14T05:01:40.452900Z"
    }
   },
   "outputs": [],
   "source": [
    "lspace = np.linspace(1,5,10)"
   ]
  },
  {
   "cell_type": "code",
   "execution_count": 37,
   "id": "56d8d525",
   "metadata": {
    "ExecuteTime": {
     "end_time": "2021-11-14T05:01:44.131981Z",
     "start_time": "2021-11-14T05:01:44.113981Z"
    }
   },
   "outputs": [
    {
     "data": {
      "text/plain": [
       "array([1.        , 1.44444444, 1.88888889, 2.33333333, 2.77777778,\n",
       "       3.22222222, 3.66666667, 4.11111111, 4.55555556, 5.        ])"
      ]
     },
     "execution_count": 37,
     "metadata": {},
     "output_type": "execute_result"
    }
   ],
   "source": [
    "lspace"
   ]
  },
  {
   "cell_type": "code",
   "execution_count": 38,
   "id": "581cdd79",
   "metadata": {
    "ExecuteTime": {
     "end_time": "2021-11-14T05:01:57.842961Z",
     "start_time": "2021-11-14T05:01:57.821960Z"
    }
   },
   "outputs": [
    {
     "data": {
      "text/plain": [
       "10"
      ]
     },
     "execution_count": 38,
     "metadata": {},
     "output_type": "execute_result"
    }
   ],
   "source": [
    "lspace.size"
   ]
  },
  {
   "cell_type": "code",
   "execution_count": 40,
   "id": "4cba6eb3",
   "metadata": {
    "ExecuteTime": {
     "end_time": "2021-11-14T05:03:37.657966Z",
     "start_time": "2021-11-14T05:03:37.637967Z"
    }
   },
   "outputs": [],
   "source": [
    "emp = np.empty((4,6))"
   ]
  },
  {
   "cell_type": "code",
   "execution_count": 41,
   "id": "f51997b4",
   "metadata": {
    "ExecuteTime": {
     "end_time": "2021-11-14T05:03:42.100663Z",
     "start_time": "2021-11-14T05:03:42.085665Z"
    }
   },
   "outputs": [
    {
     "data": {
      "text/plain": [
       "array([[6.23042070e-307, 3.56043053e-307, 1.60219306e-306,\n",
       "        7.56571288e-307, 1.89146896e-307, 1.37961302e-306],\n",
       "       [1.05699242e-307, 8.01097889e-307, 1.78020169e-306,\n",
       "        7.56601165e-307, 1.02359984e-306, 1.33510679e-306],\n",
       "       [2.22522597e-306, 1.33511562e-306, 6.23055651e-307,\n",
       "        7.56599128e-307, 1.24610587e-306, 1.24610723e-306],\n",
       "       [1.42418172e-306, 2.04712906e-306, 7.56589622e-307,\n",
       "        1.11258277e-307, 8.90111708e-307, 1.42410974e-306]])"
      ]
     },
     "execution_count": 41,
     "metadata": {},
     "output_type": "execute_result"
    }
   ],
   "source": [
    "emp"
   ]
  },
  {
   "cell_type": "code",
   "execution_count": 42,
   "id": "eca31d35",
   "metadata": {
    "ExecuteTime": {
     "end_time": "2021-11-14T05:03:53.845755Z",
     "start_time": "2021-11-14T05:03:53.818756Z"
    }
   },
   "outputs": [
    {
     "data": {
      "text/plain": [
       "24"
      ]
     },
     "execution_count": 42,
     "metadata": {},
     "output_type": "execute_result"
    }
   ],
   "source": [
    "emp.size"
   ]
  },
  {
   "cell_type": "code",
   "execution_count": 43,
   "id": "861ca48f",
   "metadata": {
    "ExecuteTime": {
     "end_time": "2021-11-14T05:04:06.035172Z",
     "start_time": "2021-11-14T05:04:06.017171Z"
    }
   },
   "outputs": [
    {
     "data": {
      "text/plain": [
       "(4, 6)"
      ]
     },
     "execution_count": 43,
     "metadata": {},
     "output_type": "execute_result"
    }
   ],
   "source": [
    "emp.shape"
   ]
  },
  {
   "cell_type": "code",
   "execution_count": 44,
   "id": "f41bed56",
   "metadata": {
    "ExecuteTime": {
     "end_time": "2021-11-14T05:04:14.575231Z",
     "start_time": "2021-11-14T05:04:14.556232Z"
    }
   },
   "outputs": [
    {
     "data": {
      "text/plain": [
       "dtype('float64')"
      ]
     },
     "execution_count": 44,
     "metadata": {},
     "output_type": "execute_result"
    }
   ],
   "source": [
    "emp.dtype"
   ]
  },
  {
   "cell_type": "code",
   "execution_count": 46,
   "id": "01a0f449",
   "metadata": {
    "ExecuteTime": {
     "end_time": "2021-11-14T05:06:03.455509Z",
     "start_time": "2021-11-14T05:06:03.438507Z"
    }
   },
   "outputs": [],
   "source": [
    "emp_like = np.empty_like(lspace)"
   ]
  },
  {
   "cell_type": "code",
   "execution_count": 47,
   "id": "f0ffa269",
   "metadata": {
    "ExecuteTime": {
     "end_time": "2021-11-14T05:06:07.923965Z",
     "start_time": "2021-11-14T05:06:07.905964Z"
    }
   },
   "outputs": [
    {
     "data": {
      "text/plain": [
       "array([0., 0., 0., 0., 0., 0., 0., 0., 0., 0.])"
      ]
     },
     "execution_count": 47,
     "metadata": {},
     "output_type": "execute_result"
    }
   ],
   "source": [
    "emp_like"
   ]
  },
  {
   "cell_type": "code",
   "execution_count": 48,
   "id": "7eece091",
   "metadata": {
    "ExecuteTime": {
     "end_time": "2021-11-14T05:07:09.225134Z",
     "start_time": "2021-11-14T05:07:09.172136Z"
    }
   },
   "outputs": [],
   "source": [
    "ide = np.identity(45)"
   ]
  },
  {
   "cell_type": "code",
   "execution_count": 49,
   "id": "ed5eca56",
   "metadata": {
    "ExecuteTime": {
     "end_time": "2021-11-14T05:07:12.089017Z",
     "start_time": "2021-11-14T05:07:12.063982Z"
    }
   },
   "outputs": [
    {
     "data": {
      "text/plain": [
       "array([[1., 0., 0., ..., 0., 0., 0.],\n",
       "       [0., 1., 0., ..., 0., 0., 0.],\n",
       "       [0., 0., 1., ..., 0., 0., 0.],\n",
       "       ...,\n",
       "       [0., 0., 0., ..., 1., 0., 0.],\n",
       "       [0., 0., 0., ..., 0., 1., 0.],\n",
       "       [0., 0., 0., ..., 0., 0., 1.]])"
      ]
     },
     "execution_count": 49,
     "metadata": {},
     "output_type": "execute_result"
    }
   ],
   "source": [
    "ide"
   ]
  },
  {
   "cell_type": "code",
   "execution_count": 50,
   "id": "2c141483",
   "metadata": {
    "ExecuteTime": {
     "end_time": "2021-11-14T05:07:19.307915Z",
     "start_time": "2021-11-14T05:07:19.281197Z"
    }
   },
   "outputs": [
    {
     "data": {
      "text/plain": [
       "(45, 45)"
      ]
     },
     "execution_count": 50,
     "metadata": {},
     "output_type": "execute_result"
    }
   ],
   "source": [
    "ide.shape"
   ]
  },
  {
   "cell_type": "code",
   "execution_count": 51,
   "id": "6413f24f",
   "metadata": {
    "ExecuteTime": {
     "end_time": "2021-11-14T05:07:35.182669Z",
     "start_time": "2021-11-14T05:07:35.169669Z"
    }
   },
   "outputs": [
    {
     "data": {
      "text/plain": [
       "2025"
      ]
     },
     "execution_count": 51,
     "metadata": {},
     "output_type": "execute_result"
    }
   ],
   "source": [
    "ide.size"
   ]
  },
  {
   "cell_type": "code",
   "execution_count": 52,
   "id": "c5923602",
   "metadata": {
    "ExecuteTime": {
     "end_time": "2021-11-14T05:09:58.946798Z",
     "start_time": "2021-11-14T05:09:58.930800Z"
    }
   },
   "outputs": [],
   "source": [
    "arr = np.arange(99)"
   ]
  },
  {
   "cell_type": "code",
   "execution_count": 53,
   "id": "eb389ba9",
   "metadata": {
    "ExecuteTime": {
     "end_time": "2021-11-14T05:10:02.336786Z",
     "start_time": "2021-11-14T05:10:02.310788Z"
    }
   },
   "outputs": [
    {
     "data": {
      "text/plain": [
       "array([ 0,  1,  2,  3,  4,  5,  6,  7,  8,  9, 10, 11, 12, 13, 14, 15, 16,\n",
       "       17, 18, 19, 20, 21, 22, 23, 24, 25, 26, 27, 28, 29, 30, 31, 32, 33,\n",
       "       34, 35, 36, 37, 38, 39, 40, 41, 42, 43, 44, 45, 46, 47, 48, 49, 50,\n",
       "       51, 52, 53, 54, 55, 56, 57, 58, 59, 60, 61, 62, 63, 64, 65, 66, 67,\n",
       "       68, 69, 70, 71, 72, 73, 74, 75, 76, 77, 78, 79, 80, 81, 82, 83, 84,\n",
       "       85, 86, 87, 88, 89, 90, 91, 92, 93, 94, 95, 96, 97, 98])"
      ]
     },
     "execution_count": 53,
     "metadata": {},
     "output_type": "execute_result"
    }
   ],
   "source": [
    "arr"
   ]
  },
  {
   "cell_type": "code",
   "execution_count": 54,
   "id": "a1ed6bc7",
   "metadata": {
    "ExecuteTime": {
     "end_time": "2021-11-14T05:10:21.322235Z",
     "start_time": "2021-11-14T05:10:21.297237Z"
    }
   },
   "outputs": [
    {
     "data": {
      "text/plain": [
       "array([[ 0,  1,  2,  3,  4,  5,  6,  7,  8,  9, 10, 11, 12, 13, 14, 15,\n",
       "        16, 17, 18, 19, 20, 21, 22, 23, 24, 25, 26, 27, 28, 29, 30, 31,\n",
       "        32],\n",
       "       [33, 34, 35, 36, 37, 38, 39, 40, 41, 42, 43, 44, 45, 46, 47, 48,\n",
       "        49, 50, 51, 52, 53, 54, 55, 56, 57, 58, 59, 60, 61, 62, 63, 64,\n",
       "        65],\n",
       "       [66, 67, 68, 69, 70, 71, 72, 73, 74, 75, 76, 77, 78, 79, 80, 81,\n",
       "        82, 83, 84, 85, 86, 87, 88, 89, 90, 91, 92, 93, 94, 95, 96, 97,\n",
       "        98]])"
      ]
     },
     "execution_count": 54,
     "metadata": {},
     "output_type": "execute_result"
    }
   ],
   "source": [
    "arr.reshape(3,33)"
   ]
  },
  {
   "cell_type": "code",
   "execution_count": 57,
   "id": "cff8e04d",
   "metadata": {
    "ExecuteTime": {
     "end_time": "2021-11-14T05:12:46.299596Z",
     "start_time": "2021-11-14T05:12:46.290598Z"
    }
   },
   "outputs": [],
   "source": [
    "arr = arr.ravel()"
   ]
  },
  {
   "cell_type": "code",
   "execution_count": 58,
   "id": "834413a6",
   "metadata": {
    "ExecuteTime": {
     "end_time": "2021-11-14T05:12:56.630209Z",
     "start_time": "2021-11-14T05:12:56.613212Z"
    }
   },
   "outputs": [
    {
     "data": {
      "text/plain": [
       "array([ 0,  1,  2,  3,  4,  5,  6,  7,  8,  9, 10, 11, 12, 13, 14, 15, 16,\n",
       "       17, 18, 19, 20, 21, 22, 23, 24, 25, 26, 27, 28, 29, 30, 31, 32, 33,\n",
       "       34, 35, 36, 37, 38, 39, 40, 41, 42, 43, 44, 45, 46, 47, 48, 49, 50,\n",
       "       51, 52, 53, 54, 55, 56, 57, 58, 59, 60, 61, 62, 63, 64, 65, 66, 67,\n",
       "       68, 69, 70, 71, 72, 73, 74, 75, 76, 77, 78, 79, 80, 81, 82, 83, 84,\n",
       "       85, 86, 87, 88, 89, 90, 91, 92, 93, 94, 95, 96, 97, 98])"
      ]
     },
     "execution_count": 58,
     "metadata": {},
     "output_type": "execute_result"
    }
   ],
   "source": [
    "arr"
   ]
  },
  {
   "cell_type": "code",
   "execution_count": 59,
   "id": "3c71a98c",
   "metadata": {
    "ExecuteTime": {
     "end_time": "2021-11-14T05:13:02.038337Z",
     "start_time": "2021-11-14T05:13:02.019303Z"
    }
   },
   "outputs": [
    {
     "data": {
      "text/plain": [
       "(99,)"
      ]
     },
     "execution_count": 59,
     "metadata": {},
     "output_type": "execute_result"
    }
   ],
   "source": [
    "arr.shape"
   ]
  },
  {
   "cell_type": "code",
   "execution_count": 1,
   "id": "38d9edba",
   "metadata": {
    "ExecuteTime": {
     "end_time": "2021-11-15T15:35:24.671740Z",
     "start_time": "2021-11-15T15:35:19.048362Z"
    }
   },
   "outputs": [],
   "source": [
    "import numpy as np"
   ]
  },
  {
   "cell_type": "code",
   "execution_count": null,
   "id": "06b0779e",
   "metadata": {},
   "outputs": [],
   "source": [
    "arr = np.array"
   ]
  },
  {
   "cell_type": "code",
   "execution_count": 1,
   "id": "4867c59a",
   "metadata": {
    "ExecuteTime": {
     "end_time": "2021-11-16T15:50:46.572072Z",
     "start_time": "2021-11-16T15:50:41.342779Z"
    }
   },
   "outputs": [],
   "source": [
    "import numpy as np"
   ]
  },
  {
   "cell_type": "code",
   "execution_count": 2,
   "id": "ed2a6693",
   "metadata": {
    "ExecuteTime": {
     "end_time": "2021-11-16T15:51:06.009796Z",
     "start_time": "2021-11-16T15:51:05.991795Z"
    }
   },
   "outputs": [],
   "source": [
    "a = np.array([1,2,3])"
   ]
  },
  {
   "cell_type": "code",
   "execution_count": 3,
   "id": "ebec4511",
   "metadata": {
    "ExecuteTime": {
     "end_time": "2021-11-16T15:51:09.995128Z",
     "start_time": "2021-11-16T15:51:09.936095Z"
    }
   },
   "outputs": [
    {
     "data": {
      "text/plain": [
       "array([1, 2, 3])"
      ]
     },
     "execution_count": 3,
     "metadata": {},
     "output_type": "execute_result"
    }
   ],
   "source": [
    "a"
   ]
  },
  {
   "cell_type": "code",
   "execution_count": 5,
   "id": "69350cc8",
   "metadata": {
    "ExecuteTime": {
     "end_time": "2021-11-16T15:51:32.612880Z",
     "start_time": "2021-11-16T15:51:32.593879Z"
    }
   },
   "outputs": [
    {
     "data": {
      "text/plain": [
       "(3,)"
      ]
     },
     "execution_count": 5,
     "metadata": {},
     "output_type": "execute_result"
    }
   ],
   "source": [
    "a.shape"
   ]
  },
  {
   "cell_type": "code",
   "execution_count": 6,
   "id": "74037034",
   "metadata": {
    "ExecuteTime": {
     "end_time": "2021-11-16T15:51:39.812533Z",
     "start_time": "2021-11-16T15:51:39.799532Z"
    }
   },
   "outputs": [
    {
     "data": {
      "text/plain": [
       "3"
      ]
     },
     "execution_count": 6,
     "metadata": {},
     "output_type": "execute_result"
    }
   ],
   "source": [
    "a.size"
   ]
  },
  {
   "cell_type": "code",
   "execution_count": 7,
   "id": "b7b98fef",
   "metadata": {
    "ExecuteTime": {
     "end_time": "2021-11-16T15:51:46.912774Z",
     "start_time": "2021-11-16T15:51:46.868772Z"
    }
   },
   "outputs": [
    {
     "data": {
      "text/plain": [
       "dtype('int32')"
      ]
     },
     "execution_count": 7,
     "metadata": {},
     "output_type": "execute_result"
    }
   ],
   "source": [
    "a.dtype"
   ]
  },
  {
   "cell_type": "code",
   "execution_count": 10,
   "id": "2d9fd69d",
   "metadata": {
    "ExecuteTime": {
     "end_time": "2021-11-16T15:53:47.867318Z",
     "start_time": "2021-11-16T15:53:47.856320Z"
    }
   },
   "outputs": [],
   "source": [
    "b = np.array([(1,2,3,4),(5,6,7,8)])"
   ]
  },
  {
   "cell_type": "code",
   "execution_count": 11,
   "id": "bbfb42a1",
   "metadata": {
    "ExecuteTime": {
     "end_time": "2021-11-16T15:53:48.636484Z",
     "start_time": "2021-11-16T15:53:48.616488Z"
    }
   },
   "outputs": [
    {
     "data": {
      "text/plain": [
       "array([[1, 2, 3, 4],\n",
       "       [5, 6, 7, 8]])"
      ]
     },
     "execution_count": 11,
     "metadata": {},
     "output_type": "execute_result"
    }
   ],
   "source": [
    "b"
   ]
  },
  {
   "cell_type": "markdown",
   "id": "a56e4242",
   "metadata": {},
   "source": [
    "# Numpy array occure less memory than list"
   ]
  },
  {
   "cell_type": "code",
   "execution_count": 14,
   "id": "eb6ba0fa",
   "metadata": {
    "ExecuteTime": {
     "end_time": "2021-11-16T16:04:10.757047Z",
     "start_time": "2021-11-16T16:04:10.737049Z"
    }
   },
   "outputs": [
    {
     "name": "stdout",
     "output_type": "stream",
     "text": [
      "28000\n",
      "4000\n"
     ]
    }
   ],
   "source": [
    "import numpy as np\n",
    "\n",
    "import time\n",
    "import sys\n",
    "\n",
    "S = range(1000) # list\n",
    "\n",
    "print(sys.getsizeof(5)*len(S))  \n",
    "\n",
    "D = np.arange(1000) # numpy array\n",
    "\n",
    "print(D.size*D.itemsize)"
   ]
  },
  {
   "cell_type": "markdown",
   "id": "46c31964",
   "metadata": {},
   "source": [
    "# Numpy array is more faster and convenient than list"
   ]
  },
  {
   "cell_type": "code",
   "execution_count": 16,
   "id": "09955411",
   "metadata": {
    "ExecuteTime": {
     "end_time": "2021-11-16T16:18:47.630395Z",
     "start_time": "2021-11-16T16:18:47.561395Z"
    }
   },
   "outputs": [
    {
     "name": "stdout",
     "output_type": "stream",
     "text": [
      "32.99975395202637\n",
      "11.000394821166992\n"
     ]
    }
   ],
   "source": [
    "import numpy as np\n",
    "\n",
    "import time\n",
    "\n",
    "import sys\n",
    "\n",
    "SIZE = 1000\n",
    "\n",
    "L1 = range(SIZE)\n",
    "L2 = range(SIZE)\n",
    "\n",
    "A1 = np.arange(SIZE)\n",
    "A2 = np.arange(SIZE)\n",
    "\n",
    "start = time.time()\n",
    "\n",
    "result = [(x,y) for x,y in zip(L1,L2)]  # sumation of 2 lists\n",
    "\n",
    "print((time.time() - start)*1000)\n",
    "\n",
    "start = time.time()\n",
    "\n",
    "result = A1 + A2   # numpy array is more convenient\n",
    "\n",
    "print((time.time() - start)*1000)"
   ]
  },
  {
   "cell_type": "markdown",
   "id": "4672e090",
   "metadata": {},
   "source": [
    "# Numpy operations"
   ]
  },
  {
   "cell_type": "markdown",
   "id": "a89fa5f5",
   "metadata": {},
   "source": [
    "- Find the dimension of the Arrays\n",
    "- Find The byte size of each element\n",
    "- Find the data type of the element"
   ]
  },
  {
   "cell_type": "markdown",
   "id": "33abb665",
   "metadata": {},
   "source": [
    "### how to check dimension of array"
   ]
  },
  {
   "cell_type": "code",
   "execution_count": 17,
   "id": "a57180fb",
   "metadata": {
    "ExecuteTime": {
     "end_time": "2021-11-16T16:24:48.823600Z",
     "start_time": "2021-11-16T16:24:48.812603Z"
    }
   },
   "outputs": [
    {
     "name": "stdout",
     "output_type": "stream",
     "text": [
      "[[1 2 3 4]\n",
      " [5 6 7 8]]\n",
      "2\n"
     ]
    }
   ],
   "source": [
    "import numpy as np\n",
    "\n",
    "a = np.array([(1,2,3,4),(5,6,7,8)])\n",
    "\n",
    "print(a)\n",
    "print(a.ndim)"
   ]
  },
  {
   "cell_type": "code",
   "execution_count": 21,
   "id": "f7342b42",
   "metadata": {
    "ExecuteTime": {
     "end_time": "2021-11-16T16:27:39.013420Z",
     "start_time": "2021-11-16T16:27:38.995423Z"
    }
   },
   "outputs": [
    {
     "name": "stdout",
     "output_type": "stream",
     "text": [
      "[1 2 3 4]\n",
      "1\n"
     ]
    }
   ],
   "source": [
    "import numpy as np\n",
    "\n",
    "b = np.array([1,2,3,4])\n",
    "\n",
    "print(b)\n",
    "print(b.ndim)"
   ]
  },
  {
   "cell_type": "markdown",
   "id": "3c3ed0dc",
   "metadata": {},
   "source": [
    "### how to find byte size of each element"
   ]
  },
  {
   "cell_type": "code",
   "execution_count": 22,
   "id": "92fff073",
   "metadata": {
    "ExecuteTime": {
     "end_time": "2021-11-16T16:30:53.254115Z",
     "start_time": "2021-11-16T16:30:53.233115Z"
    }
   },
   "outputs": [
    {
     "name": "stdout",
     "output_type": "stream",
     "text": [
      "[1 2 3]\n",
      "4\n"
     ]
    }
   ],
   "source": [
    "import numpy as np\n",
    "\n",
    "a = np.array([1,2,3]) # here each element occupies 4 bytes size\n",
    "\n",
    "print(a)\n",
    "print(a.itemsize)"
   ]
  },
  {
   "cell_type": "markdown",
   "id": "2d292221",
   "metadata": {},
   "source": [
    "# size & shape"
   ]
  },
  {
   "cell_type": "code",
   "execution_count": 23,
   "id": "967abfaf",
   "metadata": {
    "ExecuteTime": {
     "end_time": "2021-11-16T16:34:30.148634Z",
     "start_time": "2021-11-16T16:34:30.127706Z"
    }
   },
   "outputs": [
    {
     "name": "stdout",
     "output_type": "stream",
     "text": [
      "[1 2 3 4 5]\n",
      "5\n"
     ]
    }
   ],
   "source": [
    "import numpy as np\n",
    "\n",
    "a = np.array([1,2,3,4,5])\n",
    "\n",
    "print(a)\n",
    "print(a.size)"
   ]
  },
  {
   "cell_type": "code",
   "execution_count": 24,
   "id": "b19e61e2",
   "metadata": {
    "ExecuteTime": {
     "end_time": "2021-11-16T16:34:43.324644Z",
     "start_time": "2021-11-16T16:34:43.308645Z"
    }
   },
   "outputs": [
    {
     "data": {
      "text/plain": [
       "(5,)"
      ]
     },
     "execution_count": 24,
     "metadata": {},
     "output_type": "execute_result"
    }
   ],
   "source": [
    "a.shape"
   ]
  },
  {
   "cell_type": "code",
   "execution_count": 30,
   "id": "6687fc1f",
   "metadata": {
    "ExecuteTime": {
     "end_time": "2021-11-16T16:41:43.483111Z",
     "start_time": "2021-11-16T16:41:43.463111Z"
    }
   },
   "outputs": [
    {
     "name": "stdout",
     "output_type": "stream",
     "text": [
      "6\n",
      "(2, 3)\n",
      "int32\n"
     ]
    }
   ],
   "source": [
    "import numpy as np\n",
    "\n",
    "a = np.array([(1,2,3),(11,12,13)])\n",
    "print(a.size)\n",
    "print(a.shape)\n",
    "print(a.dtype)\n"
   ]
  },
  {
   "cell_type": "markdown",
   "id": "2b0040f0",
   "metadata": {},
   "source": [
    "# reshape operation"
   ]
  },
  {
   "cell_type": "code",
   "execution_count": 33,
   "id": "cd81cc56",
   "metadata": {
    "ExecuteTime": {
     "end_time": "2021-11-16T16:47:15.208748Z",
     "start_time": "2021-11-16T16:47:15.184747Z"
    }
   },
   "outputs": [
    {
     "name": "stdout",
     "output_type": "stream",
     "text": [
      "[[ 1  2  3  4]\n",
      " [11 12 13 14]]\n",
      "[[ 1  2]\n",
      " [ 3  4]\n",
      " [11 12]\n",
      " [13 14]]\n"
     ]
    }
   ],
   "source": [
    "import numpy as np\n",
    "\n",
    "a = np.array([(1,2,3,4),(11,12,13,14)])\n",
    "\n",
    "print(a)\n",
    "print(a.reshape(4,2))"
   ]
  },
  {
   "cell_type": "code",
   "execution_count": 1,
   "id": "152fb345",
   "metadata": {
    "ExecuteTime": {
     "end_time": "2021-11-25T10:49:59.361340Z",
     "start_time": "2021-11-25T10:49:56.966234Z"
    }
   },
   "outputs": [],
   "source": [
    "import numpy as np"
   ]
  },
  {
   "cell_type": "code",
   "execution_count": 2,
   "id": "d3d17793",
   "metadata": {
    "ExecuteTime": {
     "end_time": "2021-11-25T10:51:13.648635Z",
     "start_time": "2021-11-25T10:51:13.592642Z"
    }
   },
   "outputs": [
    {
     "name": "stdout",
     "output_type": "stream",
     "text": [
      "[ 5 12 21 32]\n"
     ]
    }
   ],
   "source": [
    "a = np.array([1,2,3,4])\n",
    "b = np.array([5,6,7,8])\n",
    "print(a*b)\n",
    "\n"
   ]
  },
  {
   "cell_type": "code",
   "execution_count": null,
   "id": "085ff88b",
   "metadata": {},
   "outputs": [],
   "source": []
  }
 ],
 "metadata": {
  "kernelspec": {
   "display_name": "Python 3",
   "language": "python",
   "name": "python3"
  },
  "language_info": {
   "codemirror_mode": {
    "name": "ipython",
    "version": 3
   },
   "file_extension": ".py",
   "mimetype": "text/x-python",
   "name": "python",
   "nbconvert_exporter": "python",
   "pygments_lexer": "ipython3",
   "version": "3.8.8"
  }
 },
 "nbformat": 4,
 "nbformat_minor": 5
}
