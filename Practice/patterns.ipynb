{
 "cells": [
  {
   "cell_type": "code",
   "execution_count": 1,
   "id": "6c975cab",
   "metadata": {
    "ExecuteTime": {
     "end_time": "2021-10-12T15:50:21.585397Z",
     "start_time": "2021-10-12T15:50:21.529398Z"
    }
   },
   "outputs": [],
   "source": [
    "def is_even(num):\n",
    "    if num%2==0:\n",
    "        print('even')\n",
    "    else:\n",
    "        print('odd')"
   ]
  },
  {
   "cell_type": "code",
   "execution_count": 2,
   "id": "d67852a2",
   "metadata": {
    "ExecuteTime": {
     "end_time": "2021-10-12T15:50:28.424547Z",
     "start_time": "2021-10-12T15:50:28.400666Z"
    }
   },
   "outputs": [
    {
     "name": "stdout",
     "output_type": "stream",
     "text": [
      "odd\n"
     ]
    }
   ],
   "source": [
    "is_even(5)"
   ]
  },
  {
   "cell_type": "code",
   "execution_count": 3,
   "id": "4030bea0",
   "metadata": {
    "ExecuteTime": {
     "end_time": "2021-10-12T15:50:35.826561Z",
     "start_time": "2021-10-12T15:50:35.794562Z"
    }
   },
   "outputs": [
    {
     "name": "stdout",
     "output_type": "stream",
     "text": [
      "even\n"
     ]
    }
   ],
   "source": [
    "is_even(8)"
   ]
  },
  {
   "cell_type": "code",
   "execution_count": 17,
   "id": "db91a6eb",
   "metadata": {
    "ExecuteTime": {
     "end_time": "2021-10-12T15:56:14.743072Z",
     "start_time": "2021-10-12T15:56:14.719075Z"
    }
   },
   "outputs": [
    {
     "name": "stdout",
     "output_type": "stream",
     "text": [
      "11\t12\t13\t14\t15\t16\t17\t18\t19\t20\t \n",
      "22\t24\t26\t28\t30\t32\t34\t36\t38\t40\t \n",
      "33\t36\t39\t42\t45\t48\t51\t54\t57\t60\t \n",
      "44\t48\t52\t56\t60\t64\t68\t72\t76\t80\t \n",
      "55\t60\t65\t70\t75\t80\t85\t90\t95\t100\t \n",
      "66\t72\t78\t84\t90\t96\t102\t108\t114\t120\t \n",
      "77\t84\t91\t98\t105\t112\t119\t126\t133\t140\t \n",
      "88\t96\t104\t112\t120\t128\t136\t144\t152\t160\t \n",
      "99\t108\t117\t126\t135\t144\t153\t162\t171\t180\t \n",
      "110\t120\t130\t140\t150\t160\t170\t180\t190\t200\t \n"
     ]
    }
   ],
   "source": [
    "for i in range(1,11):\n",
    "    for j in range(11,21):\n",
    "        print(j*i, end=\"\\t\")\n",
    "    print(\" \")\n"
   ]
  },
  {
   "cell_type": "code",
   "execution_count": 18,
   "id": "bb9a2770",
   "metadata": {
    "ExecuteTime": {
     "end_time": "2021-10-12T15:57:03.441280Z",
     "start_time": "2021-10-12T15:57:03.401269Z"
    }
   },
   "outputs": [
    {
     "name": "stdout",
     "output_type": "stream",
     "text": [
      "1\t2\t3\t4\t5\t6\t7\t8\t9\t10\t\n",
      "2\t4\t6\t8\t10\t12\t14\t16\t18\t20\t\n",
      "3\t6\t9\t12\t15\t18\t21\t24\t27\t30\t\n",
      "4\t8\t12\t16\t20\t24\t28\t32\t36\t40\t\n",
      "5\t10\t15\t20\t25\t30\t35\t40\t45\t50\t\n",
      "6\t12\t18\t24\t30\t36\t42\t48\t54\t60\t\n",
      "7\t14\t21\t28\t35\t42\t49\t56\t63\t70\t\n",
      "8\t16\t24\t32\t40\t48\t56\t64\t72\t80\t\n",
      "9\t18\t27\t36\t45\t54\t63\t72\t81\t90\t\n",
      "10\t20\t30\t40\t50\t60\t70\t80\t90\t100\t\n"
     ]
    }
   ],
   "source": [
    "for i in range(1,11):\n",
    "    for j in range(1,11):\n",
    "        print(i*j,end=\"\\t\")\n",
    "    print()"
   ]
  },
  {
   "cell_type": "code",
   "execution_count": 19,
   "id": "b0152a9a",
   "metadata": {
    "ExecuteTime": {
     "end_time": "2021-10-12T15:59:20.751008Z",
     "start_time": "2021-10-12T15:59:20.735010Z"
    }
   },
   "outputs": [],
   "source": [
    "def is_prime(num):\n",
    "    count=0\n",
    "    for i in range(1,num+1):\n",
    "        if num%i ==0:\n",
    "            count+=1\n",
    "            \n",
    "    if count==2:\n",
    "        print(\"prime\")\n",
    "    else:\n",
    "        print(\"not prime\")"
   ]
  },
  {
   "cell_type": "code",
   "execution_count": 20,
   "id": "932d1d22",
   "metadata": {
    "ExecuteTime": {
     "end_time": "2021-10-12T15:59:29.910078Z",
     "start_time": "2021-10-12T15:59:29.886077Z"
    }
   },
   "outputs": [
    {
     "name": "stdout",
     "output_type": "stream",
     "text": [
      "prime\n"
     ]
    }
   ],
   "source": [
    "is_prime(7)"
   ]
  },
  {
   "cell_type": "code",
   "execution_count": 21,
   "id": "0736dc72",
   "metadata": {
    "ExecuteTime": {
     "end_time": "2021-10-12T15:59:36.788760Z",
     "start_time": "2021-10-12T15:59:36.772758Z"
    }
   },
   "outputs": [
    {
     "name": "stdout",
     "output_type": "stream",
     "text": [
      "not prime\n"
     ]
    }
   ],
   "source": [
    "is_prime(8)"
   ]
  },
  {
   "cell_type": "code",
   "execution_count": 22,
   "id": "10dc6036",
   "metadata": {
    "ExecuteTime": {
     "end_time": "2021-10-12T15:59:43.269566Z",
     "start_time": "2021-10-12T15:59:43.253567Z"
    }
   },
   "outputs": [
    {
     "name": "stdout",
     "output_type": "stream",
     "text": [
      "prime\n"
     ]
    }
   ],
   "source": [
    "is_prime(17)"
   ]
  },
  {
   "cell_type": "code",
   "execution_count": 23,
   "id": "3867bc3a",
   "metadata": {
    "ExecuteTime": {
     "end_time": "2021-10-12T15:59:49.617143Z",
     "start_time": "2021-10-12T15:59:49.593142Z"
    }
   },
   "outputs": [
    {
     "name": "stdout",
     "output_type": "stream",
     "text": [
      "prime\n"
     ]
    }
   ],
   "source": [
    "is_prime(97)"
   ]
  },
  {
   "cell_type": "code",
   "execution_count": 24,
   "id": "2fade11b",
   "metadata": {
    "ExecuteTime": {
     "end_time": "2021-10-12T15:59:55.481480Z",
     "start_time": "2021-10-12T15:59:55.465478Z"
    }
   },
   "outputs": [
    {
     "name": "stdout",
     "output_type": "stream",
     "text": [
      "prime\n"
     ]
    }
   ],
   "source": [
    "is_prime(41)"
   ]
  },
  {
   "cell_type": "code",
   "execution_count": 25,
   "id": "092a7eff",
   "metadata": {
    "ExecuteTime": {
     "end_time": "2021-10-12T16:00:01.393957Z",
     "start_time": "2021-10-12T16:00:01.369957Z"
    }
   },
   "outputs": [
    {
     "name": "stdout",
     "output_type": "stream",
     "text": [
      "prime\n"
     ]
    }
   ],
   "source": [
    "is_prime(43)"
   ]
  },
  {
   "cell_type": "code",
   "execution_count": 26,
   "id": "0634f29d",
   "metadata": {
    "ExecuteTime": {
     "end_time": "2021-10-12T16:00:07.084761Z",
     "start_time": "2021-10-12T16:00:07.060763Z"
    }
   },
   "outputs": [
    {
     "name": "stdout",
     "output_type": "stream",
     "text": [
      "not prime\n"
     ]
    }
   ],
   "source": [
    "is_prime(45)"
   ]
  },
  {
   "cell_type": "markdown",
   "id": "42796f41",
   "metadata": {},
   "source": [
    "# leap year"
   ]
  },
  {
   "cell_type": "code",
   "execution_count": 34,
   "id": "6decd32b",
   "metadata": {
    "ExecuteTime": {
     "end_time": "2021-10-12T16:19:57.277500Z",
     "start_time": "2021-10-12T16:19:54.893394Z"
    }
   },
   "outputs": [
    {
     "name": "stdout",
     "output_type": "stream",
     "text": [
      "Enter year: 2056\n",
      "This is a leap year\n"
     ]
    }
   ],
   "source": [
    "num = int(input(\"Enter year: \"))\n",
    "\n",
    "if (num % 4==0 and num % 100!=0) or num%400==0:\n",
    "    print(\"This is a leap year\")\n",
    "    \n",
    "else:\n",
    "    print(\"This is not a leap year\")"
   ]
  },
  {
   "cell_type": "code",
   "execution_count": null,
   "id": "5f8e88e4",
   "metadata": {},
   "outputs": [],
   "source": [
    "          * \n",
    "        * * * \n",
    "      * * * * * \n",
    "    * * * * * * * \n",
    "  * * * * * * * * * \n"
   ]
  },
  {
   "cell_type": "code",
   "execution_count": 44,
   "id": "75974f9a",
   "metadata": {
    "ExecuteTime": {
     "end_time": "2021-10-12T16:44:19.472645Z",
     "start_time": "2021-10-12T16:44:19.416648Z"
    }
   },
   "outputs": [
    {
     "name": "stdout",
     "output_type": "stream",
     "text": [
      "          *  \n",
      "        * * *  \n",
      "      * * * * *  \n",
      "    * * * * * * *  \n",
      "  * * * * * * * * *  \n",
      "- * * * * * * * * * \n",
      "- - * * * * * * * \n",
      "- - - * * * * * \n",
      "- - - - * * * \n",
      "- - - - - * \n"
     ]
    }
   ],
   "source": [
    "n = 5\n",
    "\n",
    "for i in range(row):\n",
    "    for j in range(i,n):\n",
    "        print(\" \",end=\" \")\n",
    "    for j in range(i):\n",
    "        print(\"*\",end=\" \")\n",
    "    for j in range(i+1):\n",
    "        print(\"*\",end=\" \")\n",
    "        \n",
    "    print(\" \")\n",
    "    \n",
    "n=5\n",
    "for i in range(n):\n",
    "    \n",
    "    for j in range(i+1):   # Increasing space\n",
    "        print(\"-\",end=\" \")\n",
    "    for j in range(i,n-1):  # left side of triangle decreasing *\n",
    "        print(\"*\",end=\" \")\n",
    "        \n",
    "    for j in range(i,n):    # right side of triangle decreasing *\n",
    "        print('*',end=\" \")\n",
    "    print()\n",
    "        "
   ]
  },
  {
   "cell_type": "code",
   "execution_count": 38,
   "id": "eedbbf62",
   "metadata": {
    "ExecuteTime": {
     "end_time": "2021-10-12T16:36:32.921734Z",
     "start_time": "2021-10-12T16:36:32.896796Z"
    }
   },
   "outputs": [
    {
     "name": "stdout",
     "output_type": "stream",
     "text": [
      "          #  \n",
      "        @ # #  \n",
      "      @ @ # # #  \n",
      "    @ @ @ # # # #  \n",
      "  @ @ @ @ # # # # #  \n"
     ]
    }
   ],
   "source": [
    "n = 5\n",
    "\n",
    "for i in range(n):\n",
    "    for j in range(i,n):\n",
    "        print(\" \",end=\" \")\n",
    "    for j in range(i):\n",
    "        print(\"@\",end=\" \")\n",
    "    for j in range(i+1):\n",
    "        print(\"#\",end=\" \")\n",
    "        \n",
    "    print(\" \")"
   ]
  },
  {
   "cell_type": "code",
   "execution_count": 43,
   "id": "be15cea4",
   "metadata": {
    "ExecuteTime": {
     "end_time": "2021-10-12T16:42:54.904146Z",
     "start_time": "2021-10-12T16:42:54.864146Z"
    }
   },
   "outputs": [
    {
     "name": "stdout",
     "output_type": "stream",
     "text": [
      "          * * * * * * * * * * *  \n",
      "          * * * * * * * * *  \n",
      "          * * * * * * *  \n",
      "          * * * * *  \n",
      "          * * *  \n"
     ]
    }
   ],
   "source": [
    "n = 5\n",
    "\n",
    "for i in range(n):\n",
    "    for j in range(1,n+1):\n",
    "        print(\" \",end=\" \")\n",
    "    for j in range(i,n):\n",
    "        print(\"*\",end=\" \")\n",
    "    for j in range(i,n+1):\n",
    "        print(\"*\",end=\" \")\n",
    "        \n",
    "    print(\" \")\n",
    "        \n",
    "    "
   ]
  },
  {
   "cell_type": "code",
   "execution_count": 52,
   "id": "e934f8be",
   "metadata": {
    "ExecuteTime": {
     "end_time": "2021-10-12T16:53:23.614815Z",
     "start_time": "2021-10-12T16:53:23.581756Z"
    }
   },
   "outputs": [
    {
     "name": "stdout",
     "output_type": "stream",
     "text": [
      "15\n"
     ]
    }
   ],
   "source": [
    "num =8412\n",
    "count=0\n",
    "while num>0:\n",
    "    x = num%10\n",
    "    count = count+x\n",
    "    num = num//10\n",
    "print(count)\n",
    "    "
   ]
  },
  {
   "cell_type": "code",
   "execution_count": 45,
   "id": "b769992b",
   "metadata": {
    "ExecuteTime": {
     "end_time": "2021-10-12T16:48:44.740569Z",
     "start_time": "2021-10-12T16:48:44.700571Z"
    }
   },
   "outputs": [
    {
     "data": {
      "text/plain": [
       "5"
      ]
     },
     "execution_count": 45,
     "metadata": {},
     "output_type": "execute_result"
    }
   ],
   "source": [
    "145%10"
   ]
  },
  {
   "cell_type": "code",
   "execution_count": 47,
   "id": "78b98a4b",
   "metadata": {
    "ExecuteTime": {
     "end_time": "2021-10-12T16:49:00.057614Z",
     "start_time": "2021-10-12T16:49:00.041614Z"
    }
   },
   "outputs": [
    {
     "data": {
      "text/plain": [
       "14"
      ]
     },
     "execution_count": 47,
     "metadata": {},
     "output_type": "execute_result"
    }
   ],
   "source": [
    "145//10"
   ]
  },
  {
   "cell_type": "code",
   "execution_count": 53,
   "id": "3d0b2578",
   "metadata": {
    "ExecuteTime": {
     "end_time": "2021-10-12T16:53:50.019867Z",
     "start_time": "2021-10-12T16:53:49.995867Z"
    }
   },
   "outputs": [
    {
     "data": {
      "text/plain": [
       "65"
      ]
     },
     "execution_count": 53,
     "metadata": {},
     "output_type": "execute_result"
    }
   ],
   "source": [
    "ord(\"A\")"
   ]
  },
  {
   "cell_type": "code",
   "execution_count": 54,
   "id": "0971882a",
   "metadata": {
    "ExecuteTime": {
     "end_time": "2021-10-12T16:53:58.384246Z",
     "start_time": "2021-10-12T16:53:58.368245Z"
    }
   },
   "outputs": [
    {
     "data": {
      "text/plain": [
       "'z'"
      ]
     },
     "execution_count": 54,
     "metadata": {},
     "output_type": "execute_result"
    }
   ],
   "source": [
    "chr(122)"
   ]
  },
  {
   "cell_type": "code",
   "execution_count": 55,
   "id": "3dfc1535",
   "metadata": {
    "ExecuteTime": {
     "end_time": "2021-10-12T16:54:15.607184Z",
     "start_time": "2021-10-12T16:54:15.571238Z"
    }
   },
   "outputs": [
    {
     "data": {
      "text/plain": [
       "90"
      ]
     },
     "execution_count": 55,
     "metadata": {},
     "output_type": "execute_result"
    }
   ],
   "source": [
    "ord(\"Z\")"
   ]
  },
  {
   "cell_type": "code",
   "execution_count": 56,
   "id": "b26a4d1a",
   "metadata": {
    "ExecuteTime": {
     "end_time": "2021-10-12T16:54:37.052240Z",
     "start_time": "2021-10-12T16:54:37.028243Z"
    }
   },
   "outputs": [
    {
     "data": {
      "text/plain": [
       "97"
      ]
     },
     "execution_count": 56,
     "metadata": {},
     "output_type": "execute_result"
    }
   ],
   "source": [
    "ord(\"a\")"
   ]
  },
  {
   "cell_type": "code",
   "execution_count": 57,
   "id": "bfe34a37",
   "metadata": {
    "ExecuteTime": {
     "end_time": "2021-10-12T16:55:16.099211Z",
     "start_time": "2021-10-12T16:55:16.082294Z"
    }
   },
   "outputs": [],
   "source": [
    "x = [i for i in range(10)]"
   ]
  },
  {
   "cell_type": "code",
   "execution_count": 58,
   "id": "8b34d1b3",
   "metadata": {
    "ExecuteTime": {
     "end_time": "2021-10-12T16:55:23.196569Z",
     "start_time": "2021-10-12T16:55:23.164567Z"
    }
   },
   "outputs": [
    {
     "name": "stdout",
     "output_type": "stream",
     "text": [
      "[0, 1, 2, 3, 4, 5, 6, 7, 8, 9]\n"
     ]
    }
   ],
   "source": [
    "print(x)"
   ]
  },
  {
   "cell_type": "code",
   "execution_count": 59,
   "id": "cc4aa693",
   "metadata": {
    "ExecuteTime": {
     "end_time": "2021-10-12T16:57:58.522339Z",
     "start_time": "2021-10-12T16:57:58.490340Z"
    }
   },
   "outputs": [],
   "source": [
    "def is_prime(num):\n",
    "    count = 0\n",
    "    for i in range(1,num+1):\n",
    "        if num%i==0:\n",
    "            count=count+1\n",
    "    if count==2:\n",
    "        print(\"Prime\")\n",
    "    else:\n",
    "        print(\"not prime\")\n"
   ]
  },
  {
   "cell_type": "code",
   "execution_count": 1,
   "id": "aa2107b7",
   "metadata": {
    "ExecuteTime": {
     "end_time": "2021-10-13T00:11:06.451157Z",
     "start_time": "2021-10-13T00:11:06.406120Z"
    }
   },
   "outputs": [],
   "source": [
    "lst = [12,1,1,4,111,15,3,2]\n",
    "\n",
    "lst.sort(reverse=True)"
   ]
  },
  {
   "cell_type": "code",
   "execution_count": 2,
   "id": "59c19ac1",
   "metadata": {
    "ExecuteTime": {
     "end_time": "2021-10-13T00:11:12.874067Z",
     "start_time": "2021-10-13T00:11:12.827580Z"
    }
   },
   "outputs": [
    {
     "data": {
      "text/plain": [
       "[111, 15, 12, 4, 3, 2, 1, 1]"
      ]
     },
     "execution_count": 2,
     "metadata": {},
     "output_type": "execute_result"
    }
   ],
   "source": [
    "lst"
   ]
  },
  {
   "cell_type": "code",
   "execution_count": null,
   "id": "121c67e5",
   "metadata": {},
   "outputs": [],
   "source": [
    "Is_prime = map(is_prime, [i for i in range(1,)])"
   ]
  },
  {
   "cell_type": "code",
   "execution_count": 3,
   "id": "6f2d6c94",
   "metadata": {
    "ExecuteTime": {
     "end_time": "2021-10-13T00:11:30.947579Z",
     "start_time": "2021-10-13T00:11:30.939581Z"
    }
   },
   "outputs": [
    {
     "data": {
      "text/plain": [
       "[111, 15, 12, 4, 3, 2, 1, 1]"
      ]
     },
     "execution_count": 3,
     "metadata": {},
     "output_type": "execute_result"
    }
   ],
   "source": [
    "lst"
   ]
  },
  {
   "cell_type": "code",
   "execution_count": 4,
   "id": "523b2180",
   "metadata": {
    "ExecuteTime": {
     "end_time": "2021-10-13T00:12:04.899869Z",
     "start_time": "2021-10-13T00:12:04.884244Z"
    }
   },
   "outputs": [],
   "source": [
    "lst1 = sorted(lst)"
   ]
  },
  {
   "cell_type": "code",
   "execution_count": 5,
   "id": "4e20dd2e",
   "metadata": {
    "ExecuteTime": {
     "end_time": "2021-10-13T00:12:09.314947Z",
     "start_time": "2021-10-13T00:12:09.293948Z"
    }
   },
   "outputs": [
    {
     "data": {
      "text/plain": [
       "[1, 1, 2, 3, 4, 12, 15, 111]"
      ]
     },
     "execution_count": 5,
     "metadata": {},
     "output_type": "execute_result"
    }
   ],
   "source": [
    "lst1"
   ]
  },
  {
   "cell_type": "code",
   "execution_count": 6,
   "id": "6d20a28f",
   "metadata": {
    "ExecuteTime": {
     "end_time": "2021-10-13T00:12:18.715763Z",
     "start_time": "2021-10-13T00:12:18.702765Z"
    }
   },
   "outputs": [
    {
     "data": {
      "text/plain": [
       "[111, 15, 12, 4, 3, 2, 1, 1]"
      ]
     },
     "execution_count": 6,
     "metadata": {},
     "output_type": "execute_result"
    }
   ],
   "source": [
    "lst"
   ]
  },
  {
   "cell_type": "code",
   "execution_count": 7,
   "id": "515b88a8",
   "metadata": {
    "ExecuteTime": {
     "end_time": "2021-10-13T00:28:18.904643Z",
     "start_time": "2021-10-13T00:28:18.826177Z"
    }
   },
   "outputs": [
    {
     "name": "stdout",
     "output_type": "stream",
     "text": [
      "19\n"
     ]
    }
   ],
   "source": [
    "def add_10(func):\n",
    "    def inner(x,y):\n",
    "        re=func(x,y)\n",
    "        return re + 10\n",
    "    return inner\n",
    "\n",
    "\n",
    "@add_10\n",
    "def add(x,y):\n",
    "    return x+y\n",
    "print(add(5,4))"
   ]
  },
  {
   "cell_type": "code",
   "execution_count": 15,
   "id": "0750e6b5",
   "metadata": {
    "ExecuteTime": {
     "end_time": "2021-10-13T00:46:12.718914Z",
     "start_time": "2021-10-13T00:46:12.697901Z"
    }
   },
   "outputs": [],
   "source": [
    "class A:\n",
    "    num = 10\n",
    "    def showdata(self):\n",
    "        print(\"I am in sgowdata of class A\")\n",
    "        \n",
    "    def printdata(self):\n",
    "        print(\"i am in printdata of class A\")\n",
    "        \n",
    "class B(A):\n",
    "    def showdata(self):\n",
    "        print(\"I am in showdata of class B\")\n",
    "        super.showdata()\n",
    "        \n",
    "    \n",
    "    \n",
    "    "
   ]
  },
  {
   "cell_type": "code",
   "execution_count": 11,
   "id": "a7f0d96a",
   "metadata": {
    "ExecuteTime": {
     "end_time": "2021-10-13T00:45:15.946896Z",
     "start_time": "2021-10-13T00:45:15.931898Z"
    }
   },
   "outputs": [],
   "source": [
    "c1 = A()"
   ]
  },
  {
   "cell_type": "code",
   "execution_count": 12,
   "id": "3382f05a",
   "metadata": {
    "ExecuteTime": {
     "end_time": "2021-10-13T00:45:32.725407Z",
     "start_time": "2021-10-13T00:45:32.702410Z"
    }
   },
   "outputs": [
    {
     "name": "stdout",
     "output_type": "stream",
     "text": [
      "I am in sgowdata of class A\n"
     ]
    }
   ],
   "source": [
    "c1.showdata()"
   ]
  },
  {
   "cell_type": "code",
   "execution_count": 16,
   "id": "47defe10",
   "metadata": {
    "ExecuteTime": {
     "end_time": "2021-10-13T00:46:15.298032Z",
     "start_time": "2021-10-13T00:46:15.279032Z"
    }
   },
   "outputs": [],
   "source": [
    "c2 =B()"
   ]
  },
  {
   "cell_type": "code",
   "execution_count": null,
   "id": "53677a8d",
   "metadata": {
    "ExecuteTime": {
     "start_time": "2021-10-13T00:46:15.758Z"
    }
   },
   "outputs": [],
   "source": [
    "c2.printdata()"
   ]
  },
  {
   "cell_type": "code",
   "execution_count": 1,
   "id": "387c60cf",
   "metadata": {
    "ExecuteTime": {
     "end_time": "2021-10-16T11:34:43.882551Z",
     "start_time": "2021-10-16T11:34:43.829555Z"
    }
   },
   "outputs": [
    {
     "name": "stdout",
     "output_type": "stream",
     "text": [
      "0\n",
      "1\n",
      "1\n",
      "2\n",
      "3\n",
      "5\n",
      "8\n",
      "13\n",
      "21\n",
      "34\n"
     ]
    }
   ],
   "source": [
    "fibo = lambda n:n if n<=1 else fibo(n-1) + fibo(n-2)\n",
    "\n",
    "for i in range(10):\n",
    "    fs = fibo(i)\n",
    "    print(fs)"
   ]
  },
  {
   "cell_type": "code",
   "execution_count": 9,
   "id": "1448daaa",
   "metadata": {
    "ExecuteTime": {
     "end_time": "2021-10-16T12:52:31.583082Z",
     "start_time": "2021-10-16T12:52:31.567084Z"
    }
   },
   "outputs": [
    {
     "name": "stdout",
     "output_type": "stream",
     "text": [
      "0\n",
      "1\n",
      "1\n",
      "2\n",
      "3\n",
      "5\n",
      "8\n",
      "13\n",
      "21\n",
      "34\n"
     ]
    }
   ],
   "source": [
    "fibo = lambda n:n if n<=1 else fibo(n-1) + fibo(n-2)\n",
    "\n",
    "for i in range(10):\n",
    "    fs = fibo(i)\n",
    "    print(fs)"
   ]
  },
  {
   "cell_type": "code",
   "execution_count": 1,
   "id": "3ad98117",
   "metadata": {
    "ExecuteTime": {
     "end_time": "2021-10-19T01:53:44.645190Z",
     "start_time": "2021-10-19T01:53:44.573189Z"
    }
   },
   "outputs": [],
   "source": [
    "lst1 = [1,2,3,4,5,6,7]\n",
    "lst2 = [11,12,13]\n"
   ]
  },
  {
   "cell_type": "code",
   "execution_count": 7,
   "id": "9d0ade4d",
   "metadata": {
    "ExecuteTime": {
     "end_time": "2021-10-19T01:55:29.223502Z",
     "start_time": "2021-10-19T01:55:29.199501Z"
    }
   },
   "outputs": [
    {
     "name": "stdout",
     "output_type": "stream",
     "text": [
      "[(11, 1), (12, 2), (13, 3)]\n"
     ]
    }
   ],
   "source": [
    "s = zip(lst2,lst1)\n",
    "\n",
    "print(list(s))"
   ]
  },
  {
   "cell_type": "code",
   "execution_count": 4,
   "id": "76f7ae32",
   "metadata": {
    "ExecuteTime": {
     "end_time": "2021-10-19T01:54:35.718306Z",
     "start_time": "2021-10-19T01:54:35.686308Z"
    }
   },
   "outputs": [
    {
     "data": {
      "text/plain": [
       "[1, 2, 3, 4, 5, 6, 7]"
      ]
     },
     "execution_count": 4,
     "metadata": {},
     "output_type": "execute_result"
    }
   ],
   "source": [
    "lst1"
   ]
  },
  {
   "cell_type": "code",
   "execution_count": 5,
   "id": "ae8f8854",
   "metadata": {
    "ExecuteTime": {
     "end_time": "2021-10-19T01:54:40.429088Z",
     "start_time": "2021-10-19T01:54:40.405092Z"
    }
   },
   "outputs": [
    {
     "data": {
      "text/plain": [
       "[11, 12, 13]"
      ]
     },
     "execution_count": 5,
     "metadata": {},
     "output_type": "execute_result"
    }
   ],
   "source": [
    "lst2"
   ]
  },
  {
   "cell_type": "code",
   "execution_count": 8,
   "id": "c9b373af",
   "metadata": {
    "ExecuteTime": {
     "end_time": "2021-10-19T01:56:04.354891Z",
     "start_time": "2021-10-19T01:56:04.330892Z"
    }
   },
   "outputs": [],
   "source": [
    "a = lst1 + lst2"
   ]
  },
  {
   "cell_type": "code",
   "execution_count": 9,
   "id": "428e49ce",
   "metadata": {
    "ExecuteTime": {
     "end_time": "2021-10-19T01:56:12.079700Z",
     "start_time": "2021-10-19T01:56:12.063701Z"
    }
   },
   "outputs": [
    {
     "name": "stdout",
     "output_type": "stream",
     "text": [
      "[1, 2, 3, 4, 5, 6, 7, 11, 12, 13]\n"
     ]
    }
   ],
   "source": [
    "print(a)"
   ]
  },
  {
   "cell_type": "code",
   "execution_count": 10,
   "id": "7428e35e",
   "metadata": {
    "ExecuteTime": {
     "end_time": "2021-10-19T01:57:28.913950Z",
     "start_time": "2021-10-19T01:57:28.889979Z"
    }
   },
   "outputs": [
    {
     "data": {
      "text/plain": [
       "[1, 2, 3, 4, 5, 6, 7]"
      ]
     },
     "execution_count": 10,
     "metadata": {},
     "output_type": "execute_result"
    }
   ],
   "source": [
    "lst1"
   ]
  },
  {
   "cell_type": "code",
   "execution_count": 11,
   "id": "886affaf",
   "metadata": {
    "ExecuteTime": {
     "end_time": "2021-10-19T01:57:32.515472Z",
     "start_time": "2021-10-19T01:57:32.491474Z"
    }
   },
   "outputs": [
    {
     "data": {
      "text/plain": [
       "[11, 12, 13]"
      ]
     },
     "execution_count": 11,
     "metadata": {},
     "output_type": "execute_result"
    }
   ],
   "source": [
    "lst2"
   ]
  },
  {
   "cell_type": "code",
   "execution_count": 12,
   "id": "422d032c",
   "metadata": {
    "ExecuteTime": {
     "end_time": "2021-10-19T01:57:46.980078Z",
     "start_time": "2021-10-19T01:57:46.956078Z"
    }
   },
   "outputs": [],
   "source": [
    "lst1.extend(lst2)"
   ]
  },
  {
   "cell_type": "code",
   "execution_count": 13,
   "id": "98106d01",
   "metadata": {
    "ExecuteTime": {
     "end_time": "2021-10-19T01:57:52.008207Z",
     "start_time": "2021-10-19T01:57:51.992203Z"
    }
   },
   "outputs": [
    {
     "name": "stdout",
     "output_type": "stream",
     "text": [
      "[1, 2, 3, 4, 5, 6, 7, 11, 12, 13]\n"
     ]
    }
   ],
   "source": [
    "print(lst1)"
   ]
  },
  {
   "cell_type": "code",
   "execution_count": null,
   "id": "cafe5917",
   "metadata": {},
   "outputs": [],
   "source": [
    "# Write a program to print below patterns\n",
    "\n",
    "1\n",
    "1 0\n",
    "1 0 1\n",
    "1 0 1 0\n",
    "1 0 1 0 1\n",
    "\n",
    "\n",
    "*\n",
    "* *\n",
    "*  *          # space increasing\n",
    "*   *\n",
    "***** \n",
    "\n"
   ]
  },
  {
   "cell_type": "code",
   "execution_count": 29,
   "id": "ec125ad4",
   "metadata": {
    "ExecuteTime": {
     "end_time": "2021-10-19T04:12:05.775850Z",
     "start_time": "2021-10-19T04:12:04.258535Z"
    }
   },
   "outputs": [
    {
     "name": "stdout",
     "output_type": "stream",
     "text": [
      "5\n",
      "*         \n",
      "* *       \n",
      "*   *     \n",
      "*     *   \n",
      "* * * * * \n"
     ]
    }
   ],
   "source": [
    "total_rows = int(input())\n",
    "\n",
    "for row in range(1,total_rows+1):\n",
    "    for columns in range(1,total_rows+1):\n",
    "        if (columns == 1) or (row == total_rows) or (row == columns):\n",
    "            print(\"*\",end=\" \")\n",
    "            \n",
    "        else:\n",
    "            print(\" \",end = \" \")\n",
    "            \n",
    "    print()"
   ]
  },
  {
   "cell_type": "code",
   "execution_count": null,
   "id": "5799ff0a",
   "metadata": {},
   "outputs": [],
   "source": [
    "1\n",
    "1 0\n",
    "1 0 1\n",
    "1 0 1 0\n",
    "1 0 1 0 1"
   ]
  },
  {
   "cell_type": "code",
   "execution_count": 31,
   "id": "83c4a7c0",
   "metadata": {
    "ExecuteTime": {
     "end_time": "2021-10-19T04:15:26.741005Z",
     "start_time": "2021-10-19T04:15:25.645150Z"
    }
   },
   "outputs": [
    {
     "name": "stdout",
     "output_type": "stream",
     "text": [
      "5\n",
      "1 \n",
      "2 2 \n",
      "3 3 3 \n",
      "4 4 4 4 \n",
      "5 5 5 5 5 \n"
     ]
    }
   ],
   "source": [
    "total_rows = int(input())\n",
    "\n",
    "for row in range(1,total_rows+1):\n",
    "    for columns in range(1,row+1):\n",
    "        print(row,end=\" \")\n",
    "    print()\n",
    "    "
   ]
  },
  {
   "cell_type": "code",
   "execution_count": null,
   "id": "fb38e9f1",
   "metadata": {},
   "outputs": [],
   "source": []
  },
  {
   "cell_type": "code",
   "execution_count": null,
   "id": "16b3aeae",
   "metadata": {},
   "outputs": [],
   "source": []
  },
  {
   "cell_type": "code",
   "execution_count": null,
   "id": "fb35cf64",
   "metadata": {},
   "outputs": [],
   "source": []
  },
  {
   "cell_type": "code",
   "execution_count": 37,
   "id": "2f319af7",
   "metadata": {
    "ExecuteTime": {
     "end_time": "2021-10-19T07:52:18.410506Z",
     "start_time": "2021-10-19T07:52:16.287858Z"
    }
   },
   "outputs": [
    {
     "name": "stdout",
     "output_type": "stream",
     "text": [
      "5\n",
      "* \n",
      "* * \n",
      "* * * \n",
      "* * * * \n",
      "* * * * * \n"
     ]
    }
   ],
   "source": [
    "no_rows = int(input())\n",
    "\n",
    "for rows in range(1,no_rows+1):\n",
    "    for column in range(1,rows+1):\n",
    "        print(\"\"+\"*\",end=\" \")\n",
    "        \n",
    "    print()"
   ]
  },
  {
   "cell_type": "code",
   "execution_count": 18,
   "id": "3c8e8cb2",
   "metadata": {
    "ExecuteTime": {
     "end_time": "2021-10-19T02:38:26.178806Z",
     "start_time": "2021-10-19T02:38:24.953734Z"
    }
   },
   "outputs": [
    {
     "name": "stdout",
     "output_type": "stream",
     "text": [
      "5\n",
      "* * * * * \n",
      "* * * * \n",
      "* * * \n",
      "* * \n",
      "* \n"
     ]
    }
   ],
   "source": [
    "no_rows = int(input())\n",
    "\n",
    "for rows in range(no_rows,0,-1):\n",
    "    for column in range(1,rows+1):\n",
    "        print(\"*\",end=\" \")\n",
    "        \n",
    "    print()"
   ]
  },
  {
   "cell_type": "code",
   "execution_count": 20,
   "id": "461eadf1",
   "metadata": {
    "ExecuteTime": {
     "end_time": "2021-10-19T02:39:31.599883Z",
     "start_time": "2021-10-19T02:39:30.130836Z"
    }
   },
   "outputs": [
    {
     "name": "stdout",
     "output_type": "stream",
     "text": [
      "5\n",
      "* \n",
      "* * \n",
      "* * * \n",
      "* * * * \n",
      "* * * * * \n",
      "* * * * \n",
      "* * * \n",
      "* * \n",
      "* \n"
     ]
    }
   ],
   "source": [
    "no_rows = int(input())\n",
    "\n",
    "for rows in range(1,no_rows+1):\n",
    "    for column in range(1,rows+1):\n",
    "        print(\"*\",end=\" \")\n",
    "        \n",
    "    print()\n",
    "for rows in range(no_rows-1,0,-1):\n",
    "    for column in range(1,rows+1):\n",
    "        print(\"*\",end=\" \")\n",
    "        \n",
    "    print()"
   ]
  },
  {
   "cell_type": "code",
   "execution_count": 21,
   "id": "e85c006f",
   "metadata": {
    "ExecuteTime": {
     "end_time": "2021-10-19T02:42:59.776962Z",
     "start_time": "2021-10-19T02:42:58.446183Z"
    }
   },
   "outputs": [
    {
     "name": "stdout",
     "output_type": "stream",
     "text": [
      "5\n",
      "1 \n",
      "2 2 \n",
      "3 3 3 \n",
      "4 4 4 4 \n",
      "5 5 5 5 5 \n"
     ]
    }
   ],
   "source": [
    "no_rows = int(input())\n",
    "\n",
    "for rows in range(1,no_rows+1):\n",
    "    for column in range(1,rows + 1):\n",
    "        print(rows,end=\" \")\n",
    "        \n",
    "    print()"
   ]
  },
  {
   "cell_type": "code",
   "execution_count": 22,
   "id": "d273b9fe",
   "metadata": {
    "ExecuteTime": {
     "end_time": "2021-10-19T02:47:06.409308Z",
     "start_time": "2021-10-19T02:47:04.922624Z"
    }
   },
   "outputs": [
    {
     "name": "stdout",
     "output_type": "stream",
     "text": [
      "5\n",
      "1 2 3 4 5 \n",
      "1 2 3 4 \n",
      "1 2 3 \n",
      "1 2 \n",
      "1 \n"
     ]
    }
   ],
   "source": [
    "no_rows = int(input())\n",
    "\n",
    "for rows in range(no_rows,0,-1):\n",
    "    for column in range(1,rows+1):\n",
    "        print(column,end=\" \")\n",
    "    print()"
   ]
  },
  {
   "cell_type": "code",
   "execution_count": null,
   "id": "b64fd71b",
   "metadata": {
    "ExecuteTime": {
     "start_time": "2021-10-19T03:16:37.975Z"
    }
   },
   "outputs": [],
   "source": [
    "no_rows = int(input())\n",
    "\n",
    "for rows in range(97,no_rows+1):\n",
    "    for column in range(97,rows+1):\n",
    "        print(chr(rows),end=\" \")\n",
    "        \n",
    "    print()"
   ]
  },
  {
   "cell_type": "code",
   "execution_count": 1,
   "id": "9f7484b0",
   "metadata": {
    "ExecuteTime": {
     "end_time": "2021-10-19T03:22:39.957253Z",
     "start_time": "2021-10-19T03:22:38.267767Z"
    }
   },
   "outputs": [
    {
     "name": "stdout",
     "output_type": "stream",
     "text": [
      "5\n",
      "11 \n",
      "21 22 \n",
      "31 32 33 \n",
      "41 42 43 44 \n",
      "51 52 53 54 55 \n"
     ]
    }
   ],
   "source": [
    "no_rows = int(input())\n",
    "\n",
    "for rows in range(1,no_rows+1):\n",
    "    for columns in range(1,rows+1):\n",
    "        print(\"{0}{1}\".format(rows,columns),end=\" \")\n",
    "        \n",
    "    print()"
   ]
  },
  {
   "cell_type": "code",
   "execution_count": 2,
   "id": "4493ea85",
   "metadata": {
    "ExecuteTime": {
     "end_time": "2021-10-19T03:23:15.849591Z",
     "start_time": "2021-10-19T03:23:14.096021Z"
    }
   },
   "outputs": [
    {
     "name": "stdout",
     "output_type": "stream",
     "text": [
      "5\n",
      "11 \n",
      "12 22 \n",
      "13 23 33 \n",
      "14 24 34 44 \n",
      "15 25 35 45 55 \n"
     ]
    }
   ],
   "source": [
    "no_rows = int(input())\n",
    "\n",
    "for rows in range(1,no_rows+1):\n",
    "    for columns in range(1,rows+1):\n",
    "        print(\"{0}{1}\".format(columns,rows),end=\" \")\n",
    "        \n",
    "    print()"
   ]
  },
  {
   "cell_type": "code",
   "execution_count": 3,
   "id": "008bbb66",
   "metadata": {
    "ExecuteTime": {
     "end_time": "2021-10-19T03:24:32.567595Z",
     "start_time": "2021-10-19T03:24:31.189357Z"
    }
   },
   "outputs": [
    {
     "name": "stdout",
     "output_type": "stream",
     "text": [
      "5\n",
      "11 \n",
      "12 22 \n",
      "13 23 33 \n",
      "14 24 34 44 \n",
      "15 25 35 45 55 \n",
      "14 24 34 44 \n",
      "13 23 33 \n",
      "12 22 \n",
      "11 \n"
     ]
    }
   ],
   "source": [
    "no_rows = int(input())\n",
    "\n",
    "for rows in range(1,no_rows+1):\n",
    "    for columns in range(1,rows+1):\n",
    "        print(\"{0}{1}\".format(columns,rows),end=\" \")\n",
    "    print()\n",
    "for rows in range(no_rows-1,0,-1):\n",
    "    for columns in range(1,rows+1):\n",
    "        print(\"{0}{1}\".format(columns,rows),end=\" \")\n",
    "    print()\n"
   ]
  },
  {
   "cell_type": "code",
   "execution_count": 11,
   "id": "2ea99b1d",
   "metadata": {
    "ExecuteTime": {
     "end_time": "2021-10-19T03:32:26.300762Z",
     "start_time": "2021-10-19T03:32:24.857042Z"
    }
   },
   "outputs": [
    {
     "name": "stdout",
     "output_type": "stream",
     "text": [
      "5\n",
      "a \n",
      "b b \n",
      "c c c \n",
      "d d d d \n",
      "e e e e e \n"
     ]
    }
   ],
   "source": [
    "no_rows = int(input())\n",
    "ch = 96\n",
    "for rows in range(1,no_rows+1):\n",
    "    for columns in range(1,rows+1):\n",
    "        print(\"{0}\".format(chr(ch+rows)),end=\" \")\n",
    "    print()"
   ]
  },
  {
   "cell_type": "code",
   "execution_count": 20,
   "id": "df639cd9",
   "metadata": {
    "ExecuteTime": {
     "end_time": "2021-10-19T03:44:36.280388Z",
     "start_time": "2021-10-19T03:44:34.835032Z"
    }
   },
   "outputs": [
    {
     "name": "stdout",
     "output_type": "stream",
     "text": [
      "5\n",
      "B \n",
      "C E \n",
      "E G I \n",
      "H J L N \n",
      "L N P R T \n",
      "Q S U W \n",
      "U W Y \n",
      "X Z \n",
      "Z \n"
     ]
    }
   ],
   "source": [
    "no_rows = int(input())\n",
    "ch = 64\n",
    "for rows in range(1,no_rows+1):\n",
    "    for columns in range(1,rows+1):\n",
    "        ch = ch + 1\n",
    "        print(\"{0}\".format(chr(ch+columns)),end=\" \")\n",
    "    print()\n",
    "    \n",
    "for rows in range(no_rows-1,0,-1):\n",
    "    for columns in range(1,rows+1):\n",
    "        ch = ch + 1\n",
    "        print(\"{0}\".format(chr(ch + columns)),end=\" \")\n",
    "        \n",
    "    print()\n",
    "        "
   ]
  },
  {
   "cell_type": "code",
   "execution_count": 28,
   "id": "70d2f884",
   "metadata": {
    "ExecuteTime": {
     "end_time": "2021-10-19T03:53:49.755866Z",
     "start_time": "2021-10-19T03:53:47.370238Z"
    }
   },
   "outputs": [
    {
     "name": "stdout",
     "output_type": "stream",
     "text": [
      "5\n",
      "01 \n",
      "02 03 \n",
      "04 05 06 \n",
      "07 08 09 10 \n",
      "11 12 13 14 15 \n"
     ]
    }
   ],
   "source": [
    "no_rows = int(input())\n",
    "sum = 0\n",
    "for rows in range(1,no_rows+1):\n",
    "    for columns in range(1,rows+1):\n",
    "        sum = sum + 1\n",
    "        print(\"{:02d}\".format(sum),end=\" \")\n",
    "    print()"
   ]
  },
  {
   "cell_type": "code",
   "execution_count": 32,
   "id": "7d54a2ea",
   "metadata": {
    "ExecuteTime": {
     "end_time": "2021-10-19T05:04:43.151406Z",
     "start_time": "2021-10-19T05:04:43.114375Z"
    }
   },
   "outputs": [],
   "source": [
    "def fact(n):\n",
    "    if n == 1:\n",
    "        return n\n",
    "    else:\n",
    "        return n*fact(n-1)"
   ]
  },
  {
   "cell_type": "code",
   "execution_count": 33,
   "id": "62543875",
   "metadata": {
    "ExecuteTime": {
     "end_time": "2021-10-19T05:04:47.262454Z",
     "start_time": "2021-10-19T05:04:47.236454Z"
    }
   },
   "outputs": [
    {
     "data": {
      "text/plain": [
       "24"
      ]
     },
     "execution_count": 33,
     "metadata": {},
     "output_type": "execute_result"
    }
   ],
   "source": [
    "fact(4)"
   ]
  },
  {
   "cell_type": "code",
   "execution_count": 34,
   "id": "72dc4935",
   "metadata": {
    "ExecuteTime": {
     "end_time": "2021-10-19T05:04:51.556438Z",
     "start_time": "2021-10-19T05:04:51.535403Z"
    }
   },
   "outputs": [
    {
     "data": {
      "text/plain": [
       "120"
      ]
     },
     "execution_count": 34,
     "metadata": {},
     "output_type": "execute_result"
    }
   ],
   "source": [
    "fact(5)"
   ]
  },
  {
   "cell_type": "code",
   "execution_count": 1,
   "id": "6336b426",
   "metadata": {
    "ExecuteTime": {
     "end_time": "2021-10-21T14:16:26.944563Z",
     "start_time": "2021-10-21T14:16:26.864563Z"
    }
   },
   "outputs": [
    {
     "name": "stdout",
     "output_type": "stream",
     "text": [
      "*         \n",
      "* *       \n",
      "*   *     \n",
      "*     *   \n",
      "* * * * * \n"
     ]
    }
   ],
   "source": [
    "n = 5\n",
    "\n",
    "for row in range(1,n+1):\n",
    "    for column in range(1,n+1):\n",
    "        if column == 1 or (row==column) or row == n:\n",
    "            print(\"*\",end=\" \")\n",
    "            \n",
    "        else:\n",
    "            print(\" \",end=\" \")\n",
    "            \n",
    "    print()"
   ]
  },
  {
   "cell_type": "code",
   "execution_count": 2,
   "id": "0c40518b",
   "metadata": {
    "ExecuteTime": {
     "end_time": "2021-10-21T15:29:20.366852Z",
     "start_time": "2021-10-21T15:29:18.177891Z"
    },
    "scrolled": true
   },
   "outputs": [
    {
     "name": "stdout",
     "output_type": "stream",
     "text": [
      "5\n",
      "* * * * * \n",
      "  *     * \n",
      "    *   * \n",
      "      * * \n",
      "        * \n"
     ]
    }
   ],
   "source": [
    "n = int(input())\n",
    "\n",
    "for row in range(1,n+1):\n",
    "    for column in range(1,n+1):\n",
    "        if row == 1 or (column == n) or (row == column):\n",
    "            print(\"*\",end=\" \")\n",
    "            \n",
    "        else:\n",
    "            print(\" \",end=\" \")\n",
    "            \n",
    "    print()"
   ]
  },
  {
   "cell_type": "code",
   "execution_count": 9,
   "id": "d4026de2",
   "metadata": {
    "ExecuteTime": {
     "end_time": "2021-10-21T15:50:28.807206Z",
     "start_time": "2021-10-21T15:50:27.478138Z"
    }
   },
   "outputs": [
    {
     "name": "stdout",
     "output_type": "stream",
     "text": [
      "5\n",
      "    *     \n",
      "  *   *   \n",
      "*       * \n",
      "  *   *   \n",
      "    *     \n"
     ]
    }
   ],
   "source": [
    "n = int(input())\n",
    "\n",
    "for row in range(1,n+1):\n",
    "    for column in range(1,n+1):\n",
    "        if (row + column == 4) or (column - row == 2) or (row - column == 2) or (row + column == 8):\n",
    "            print(\"*\",end = \" \")\n",
    "            \n",
    "        else:\n",
    "            print(\" \",end = \" \")\n",
    "            \n",
    "    print()"
   ]
  },
  {
   "cell_type": "code",
   "execution_count": 12,
   "id": "9f4dcba8",
   "metadata": {
    "ExecuteTime": {
     "end_time": "2021-10-21T16:01:58.727506Z",
     "start_time": "2021-10-21T16:01:58.696506Z"
    }
   },
   "outputs": [
    {
     "name": "stdout",
     "output_type": "stream",
     "text": [
      "1 2 3 4 5 \n",
      "1 2 3 4 5 \n",
      "1 2 3 4 5 \n",
      "1 2 3 4 5 \n",
      "1 2 3 4 5 \n"
     ]
    }
   ],
   "source": [
    "for i in range(1,5+1):\n",
    "    for j in range(1,6):\n",
    "        print(j,end=\" \")\n",
    "    print()"
   ]
  },
  {
   "cell_type": "code",
   "execution_count": 13,
   "id": "293f0297",
   "metadata": {
    "ExecuteTime": {
     "end_time": "2021-10-21T16:03:11.063346Z",
     "start_time": "2021-10-21T16:03:11.038315Z"
    }
   },
   "outputs": [
    {
     "name": "stdout",
     "output_type": "stream",
     "text": [
      "1 1 1 1 1 \n",
      "2 2 2 2 2 \n",
      "3 3 3 3 3 \n",
      "4 4 4 4 4 \n",
      "5 5 5 5 5 \n"
     ]
    }
   ],
   "source": [
    "for i in range(1,5+1):\n",
    "    for j in range(1,6):\n",
    "        print(i,end=\" \")\n",
    "    print()"
   ]
  },
  {
   "cell_type": "code",
   "execution_count": 14,
   "id": "18917f47",
   "metadata": {
    "ExecuteTime": {
     "end_time": "2021-10-21T16:03:30.100937Z",
     "start_time": "2021-10-21T16:03:30.076938Z"
    }
   },
   "outputs": [
    {
     "name": "stdout",
     "output_type": "stream",
     "text": [
      "* * * * * \n",
      "* * * * * \n",
      "* * * * * \n",
      "* * * * * \n",
      "* * * * * \n"
     ]
    }
   ],
   "source": [
    "for i in range(1,5+1):\n",
    "    for j in range(1,6):\n",
    "        print(\"*\",end=\" \")\n",
    "    print()"
   ]
  },
  {
   "cell_type": "code",
   "execution_count": 2,
   "id": "7f2f2579",
   "metadata": {
    "ExecuteTime": {
     "end_time": "2021-10-22T00:28:26.974462Z",
     "start_time": "2021-10-22T00:28:26.958463Z"
    }
   },
   "outputs": [
    {
     "name": "stdout",
     "output_type": "stream",
     "text": [
      "* \n",
      "* * \n",
      "* * * \n",
      "* * * * \n",
      "* * * * * \n"
     ]
    }
   ],
   "source": [
    "for i in range(1,6):\n",
    "    for j in range(1,i+1):\n",
    "        print(\"*\",end=\" \")\n",
    "    print()"
   ]
  },
  {
   "cell_type": "code",
   "execution_count": 27,
   "id": "e86c9354",
   "metadata": {
    "ExecuteTime": {
     "end_time": "2021-10-21T16:23:45.028448Z",
     "start_time": "2021-10-21T16:23:45.006450Z"
    }
   },
   "outputs": [
    {
     "name": "stdout",
     "output_type": "stream",
     "text": [
      "5 x 1 = 5\n",
      "5 x 2 = 10\n",
      "5 x 3 = 15\n",
      "5 x 4 = 20\n",
      "5 x 5 = 25\n",
      "5 x 6 = 30\n",
      "5 x 7 = 35\n",
      "5 x 8 = 40\n",
      "5 x 9 = 45\n",
      "5 x 10 = 50\n"
     ]
    }
   ],
   "source": [
    "a = 5\n",
    "\n",
    "for i in range(1,11):\n",
    "    print(a,'x',i,'=',a*i)\n",
    "    "
   ]
  },
  {
   "cell_type": "code",
   "execution_count": 3,
   "id": "b13d1506",
   "metadata": {
    "ExecuteTime": {
     "end_time": "2021-10-22T00:28:51.778274Z",
     "start_time": "2021-10-22T00:28:51.754275Z"
    }
   },
   "outputs": [
    {
     "name": "stdout",
     "output_type": "stream",
     "text": [
      "1 \n",
      "1 0 \n",
      "1 0 1 \n",
      "1 0 1 0 \n",
      "1 0 1 0 1 \n"
     ]
    }
   ],
   "source": [
    "n = 5\n",
    "\n",
    "for row in range(1,n+1):\n",
    "    for column in range(1,row+1):\n",
    "        if column%2 == 0:\n",
    "            print(\"0\",end=\" \")\n",
    "            \n",
    "        else:\n",
    "            print(\"1\",end=\" \")\n",
    "            \n",
    "    print()"
   ]
  },
  {
   "cell_type": "code",
   "execution_count": 8,
   "id": "ff1aafff",
   "metadata": {
    "ExecuteTime": {
     "end_time": "2021-10-22T04:24:59.206301Z",
     "start_time": "2021-10-22T04:24:59.120646Z"
    }
   },
   "outputs": [
    {
     "name": "stdout",
     "output_type": "stream",
     "text": [
      "*           * \n",
      "  *       *   \n",
      "    *   *     \n",
      "      *       \n"
     ]
    }
   ],
   "source": [
    "n = 5\n",
    "r = 1\n",
    "c = 7\n",
    "for row in range(1,n):\n",
    "    for column in range(1,8):\n",
    "        if row == column:\n",
    "            print(\"*\",end=\" \")\n",
    "            \n",
    "        elif row == r and column == c:\n",
    "            print(\"*\",end=\" \")\n",
    "            r = r + 1\n",
    "            c = c - 1\n",
    "            \n",
    "        else:\n",
    "            print(\" \",end=\" \")\n",
    "            \n",
    "    print()"
   ]
  },
  {
   "cell_type": "code",
   "execution_count": 21,
   "id": "9e2160e4",
   "metadata": {
    "ExecuteTime": {
     "end_time": "2021-10-22T04:54:32.513171Z",
     "start_time": "2021-10-22T04:54:32.489173Z"
    }
   },
   "outputs": [
    {
     "name": "stdout",
     "output_type": "stream",
     "text": [
      "0 0 0 0 \n",
      "0 0 0 \n",
      "0 0 \n",
      "0 \n"
     ]
    }
   ],
   "source": [
    "n = 4\n",
    "\n",
    "for row in range(n,0,-1):\n",
    "    for column in range(1,row+1):\n",
    "        print(\"0\",end=\" \")\n",
    "        \n",
    "    print()"
   ]
  },
  {
   "cell_type": "code",
   "execution_count": null,
   "id": "c7bad37a",
   "metadata": {},
   "outputs": [],
   "source": [
    "0 0 0 0 \n",
    "0 0 0 1 \n",
    "0 0 1 2\n",
    "0 1 2 3 "
   ]
  },
  {
   "cell_type": "code",
   "execution_count": 25,
   "id": "57ca5fde",
   "metadata": {
    "ExecuteTime": {
     "end_time": "2021-10-22T08:49:39.985652Z",
     "start_time": "2021-10-22T08:49:39.961656Z"
    }
   },
   "outputs": [
    {
     "name": "stdout",
     "output_type": "stream",
     "text": [
      "0 0 0 0\n",
      "0 0 0 1\n",
      "0 0 1 2\n",
      "0 1 2 3\n"
     ]
    }
   ],
   "source": [
    "for i in range(0,4):\n",
    "    if i == 0:\n",
    "        print(\"{} {} {} {}\".format(i,i,i,i))\n",
    "    elif i == 1:\n",
    "        print(\"{} {} {} {}\".format(i-1,i-1,i-1,i))\n",
    "        \n",
    "    elif i == 2:\n",
    "        print(\"{} {} {} {}\".format(i-2,i-2,i-1,i))\n",
    "    elif i == 3:\n",
    "        print(\"{} {} {} {}\".format(i-3,i-2,i-1,i))\n",
    "        "
   ]
  },
  {
   "cell_type": "code",
   "execution_count": 28,
   "id": "64b57095",
   "metadata": {
    "ExecuteTime": {
     "end_time": "2021-10-22T08:53:12.669498Z",
     "start_time": "2021-10-22T08:53:12.645491Z"
    }
   },
   "outputs": [
    {
     "name": "stdout",
     "output_type": "stream",
     "text": [
      "0 0 0 0\n",
      "0 0 0 *\n",
      "0 0 * *\n",
      "0 * * *\n"
     ]
    }
   ],
   "source": [
    "for i in range(0,4):\n",
    "    if i == 0:\n",
    "        print(\"{} {} {} {}\".format(i,i,i,i))\n",
    "    elif i == 1:\n",
    "        print(\"{} {} {} {}\".format(i-1,i-1,i-1,\"*\"))\n",
    "        \n",
    "    elif i == 2:\n",
    "        print(\"{} {} {} {}\".format(i-2,i-2,\"*\",\"*\"))\n",
    "    elif i == 3:\n",
    "        print(\"{} {} {} {}\".format(i-3,\"*\",\"*\",\"*\"))"
   ]
  },
  {
   "cell_type": "code",
   "execution_count": 33,
   "id": "92dd2abe",
   "metadata": {
    "ExecuteTime": {
     "end_time": "2021-10-22T09:25:23.956383Z",
     "start_time": "2021-10-22T09:25:23.940387Z"
    }
   },
   "outputs": [],
   "source": [
    "lst1 = [1,2,3,4,5]\n",
    "lst2 = [11,12,13]"
   ]
  },
  {
   "cell_type": "code",
   "execution_count": 31,
   "id": "350dd918",
   "metadata": {
    "ExecuteTime": {
     "end_time": "2021-10-22T09:25:00.869986Z",
     "start_time": "2021-10-22T09:25:00.845984Z"
    }
   },
   "outputs": [
    {
     "name": "stdout",
     "output_type": "stream",
     "text": [
      "[1, 2, 3, 4, 5, 11, 12, 13, 11, 12, 13]\n"
     ]
    }
   ],
   "source": [
    "x = lst1.extend(lst2)\n",
    "\n",
    "print(lst1)"
   ]
  },
  {
   "cell_type": "code",
   "execution_count": 34,
   "id": "46d54876",
   "metadata": {
    "ExecuteTime": {
     "end_time": "2021-10-22T09:25:26.318330Z",
     "start_time": "2021-10-22T09:25:26.286333Z"
    }
   },
   "outputs": [
    {
     "data": {
      "text/plain": [
       "[1, 2, 3, 4, 5]"
      ]
     },
     "execution_count": 34,
     "metadata": {},
     "output_type": "execute_result"
    }
   ],
   "source": [
    "lst1"
   ]
  },
  {
   "cell_type": "code",
   "execution_count": 35,
   "id": "73477fab",
   "metadata": {
    "ExecuteTime": {
     "end_time": "2021-10-22T09:25:30.562290Z",
     "start_time": "2021-10-22T09:25:30.538289Z"
    }
   },
   "outputs": [
    {
     "data": {
      "text/plain": [
       "[11, 12, 13]"
      ]
     },
     "execution_count": 35,
     "metadata": {},
     "output_type": "execute_result"
    }
   ],
   "source": [
    "lst2"
   ]
  },
  {
   "cell_type": "code",
   "execution_count": 36,
   "id": "cc3f2831",
   "metadata": {
    "ExecuteTime": {
     "end_time": "2021-10-22T09:25:38.356463Z",
     "start_time": "2021-10-22T09:25:38.332453Z"
    }
   },
   "outputs": [
    {
     "data": {
      "text/plain": [
       "[1, 2, 3, 4, 5, 11, 12, 13]"
      ]
     },
     "execution_count": 36,
     "metadata": {},
     "output_type": "execute_result"
    }
   ],
   "source": [
    "lst1 + lst2"
   ]
  },
  {
   "cell_type": "code",
   "execution_count": 39,
   "id": "b173fa59",
   "metadata": {
    "ExecuteTime": {
     "end_time": "2021-10-22T09:49:46.137587Z",
     "start_time": "2021-10-22T09:49:46.121591Z"
    }
   },
   "outputs": [
    {
     "name": "stdout",
     "output_type": "stream",
     "text": [
      "1 \n",
      "1 0 \n",
      "1 0 1 \n",
      "1 0 1 0 \n",
      "1 0 1 0 1 \n"
     ]
    }
   ],
   "source": [
    "n = 5\n",
    "\n",
    "for row in range(1,n+1):\n",
    "    for column in range(1,row+1):\n",
    "        if column%2==0:\n",
    "            print(\"0\",end=\" \")\n",
    "            \n",
    "        else:\n",
    "            print(\"1\",end=\" \")\n",
    "            \n",
    "    print()"
   ]
  },
  {
   "cell_type": "code",
   "execution_count": null,
   "id": "6578e1dc",
   "metadata": {},
   "outputs": [],
   "source": []
  }
 ],
 "metadata": {
  "kernelspec": {
   "display_name": "Python 3",
   "language": "python",
   "name": "python3"
  },
  "language_info": {
   "codemirror_mode": {
    "name": "ipython",
    "version": 3
   },
   "file_extension": ".py",
   "mimetype": "text/x-python",
   "name": "python",
   "nbconvert_exporter": "python",
   "pygments_lexer": "ipython3",
   "version": "3.8.8"
  }
 },
 "nbformat": 4,
 "nbformat_minor": 5
}
