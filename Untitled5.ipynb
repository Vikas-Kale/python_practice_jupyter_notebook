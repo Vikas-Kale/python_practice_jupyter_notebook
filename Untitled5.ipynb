{
 "cells": [
  {
   "cell_type": "code",
   "execution_count": 2,
   "id": "c8b7e9cf",
   "metadata": {},
   "outputs": [
    {
     "name": "stdout",
     "output_type": "stream",
     "text": [
      "Enter a Number 1\n",
      ":65\n",
      "Enter a Number 2\n",
      ":89\n",
      "Enter a Number 3\n",
      ":98\n",
      "Enter a Number 4\n",
      ":90\n",
      "{89, 65, 98, 90}\n"
     ]
    }
   ],
   "source": [
    "x1=(int(input('Enter a Number 1\\n:')))\n",
    "x2=(int(input('Enter a Number 2\\n:')))\n",
    "x3=(int(input('Enter a Number 3\\n:')))\n",
    "x4=(int(input('Enter a Number 4\\n:')))\n",
    "ht=({x1,x2,x3,x4})\n",
    "print(ht)"
   ]
  },
  {
   "cell_type": "code",
   "execution_count": 3,
   "id": "be0b19f7",
   "metadata": {},
   "outputs": [],
   "source": [
    "s={45,'18'}"
   ]
  },
  {
   "cell_type": "code",
   "execution_count": 4,
   "id": "3dfe35e6",
   "metadata": {},
   "outputs": [
    {
     "name": "stdout",
     "output_type": "stream",
     "text": [
      "{'18', 45}\n"
     ]
    }
   ],
   "source": [
    "print(s)"
   ]
  },
  {
   "cell_type": "code",
   "execution_count": 5,
   "id": "ff0b7f1e",
   "metadata": {},
   "outputs": [
    {
     "data": {
      "text/plain": [
       "set"
      ]
     },
     "execution_count": 5,
     "metadata": {},
     "output_type": "execute_result"
    }
   ],
   "source": [
    "type(s)"
   ]
  },
  {
   "cell_type": "code",
   "execution_count": 6,
   "id": "ee91db23",
   "metadata": {},
   "outputs": [],
   "source": [
    "s1=('98',78,55)"
   ]
  },
  {
   "cell_type": "code",
   "execution_count": 7,
   "id": "e7bdb10f",
   "metadata": {},
   "outputs": [
    {
     "name": "stdout",
     "output_type": "stream",
     "text": [
      "('98', 78, 55)\n"
     ]
    }
   ],
   "source": [
    "print(s1)"
   ]
  },
  {
   "cell_type": "code",
   "execution_count": 8,
   "id": "6c0c9875",
   "metadata": {},
   "outputs": [
    {
     "data": {
      "text/plain": [
       "tuple"
      ]
     },
     "execution_count": 8,
     "metadata": {},
     "output_type": "execute_result"
    }
   ],
   "source": [
    "type(s1)"
   ]
  },
  {
   "cell_type": "code",
   "execution_count": 9,
   "id": "2a38fad6",
   "metadata": {},
   "outputs": [
    {
     "data": {
      "text/plain": [
       "set"
      ]
     },
     "execution_count": 9,
     "metadata": {},
     "output_type": "execute_result"
    }
   ],
   "source": [
    "type(s)"
   ]
  },
  {
   "cell_type": "code",
   "execution_count": 10,
   "id": "ea8046c6",
   "metadata": {},
   "outputs": [],
   "source": [
    "del s"
   ]
  },
  {
   "cell_type": "code",
   "execution_count": 19,
   "id": "a81b4a3e",
   "metadata": {},
   "outputs": [],
   "source": [
    "s=set()"
   ]
  },
  {
   "cell_type": "code",
   "execution_count": 20,
   "id": "b214580a",
   "metadata": {},
   "outputs": [
    {
     "data": {
      "text/plain": [
       "set"
      ]
     },
     "execution_count": 20,
     "metadata": {},
     "output_type": "execute_result"
    }
   ],
   "source": [
    "type(s)"
   ]
  },
  {
   "cell_type": "code",
   "execution_count": 21,
   "id": "c730309e",
   "metadata": {},
   "outputs": [],
   "source": [
    "s.add(20)"
   ]
  },
  {
   "cell_type": "code",
   "execution_count": 22,
   "id": "664b2826",
   "metadata": {},
   "outputs": [],
   "source": [
    "s.add(20.0)"
   ]
  },
  {
   "cell_type": "code",
   "execution_count": 23,
   "id": "1fb3e6d2",
   "metadata": {},
   "outputs": [],
   "source": [
    "s.add('20')         "
   ]
  },
  {
   "cell_type": "code",
   "execution_count": 24,
   "id": "e5f287aa",
   "metadata": {},
   "outputs": [
    {
     "name": "stdout",
     "output_type": "stream",
     "text": [
      "{'20', 20}\n"
     ]
    }
   ],
   "source": [
    "print(s)"
   ]
  },
  {
   "cell_type": "code",
   "execution_count": 25,
   "id": "94ca2191",
   "metadata": {},
   "outputs": [
    {
     "data": {
      "text/plain": [
       "set"
      ]
     },
     "execution_count": 25,
     "metadata": {},
     "output_type": "execute_result"
    }
   ],
   "source": [
    "type(s)"
   ]
  },
  {
   "cell_type": "code",
   "execution_count": 26,
   "id": "5e343712",
   "metadata": {},
   "outputs": [
    {
     "data": {
      "text/plain": [
       "2"
      ]
     },
     "execution_count": 26,
     "metadata": {},
     "output_type": "execute_result"
    }
   ],
   "source": [
    "len(s)"
   ]
  },
  {
   "cell_type": "code",
   "execution_count": 27,
   "id": "015e5051",
   "metadata": {},
   "outputs": [],
   "source": [
    "x={'name':'vikas','surname':'Kale'}"
   ]
  },
  {
   "cell_type": "code",
   "execution_count": 30,
   "id": "af31e9bd",
   "metadata": {},
   "outputs": [
    {
     "data": {
      "text/plain": [
       "'vikas'"
      ]
     },
     "execution_count": 30,
     "metadata": {},
     "output_type": "execute_result"
    }
   ],
   "source": [
    "x['name']"
   ]
  },
  {
   "cell_type": "code",
   "execution_count": 31,
   "id": "3eb20810",
   "metadata": {},
   "outputs": [
    {
     "data": {
      "text/plain": [
       "'Kale'"
      ]
     },
     "execution_count": 31,
     "metadata": {},
     "output_type": "execute_result"
    }
   ],
   "source": [
    "x['surname']"
   ]
  },
  {
   "cell_type": "code",
   "execution_count": 38,
   "id": "0f2b4b63",
   "metadata": {},
   "outputs": [
    {
     "ename": "SyntaxError",
     "evalue": "invalid syntax (<ipython-input-38-91e58684dfcf>, line 3)",
     "output_type": "error",
     "traceback": [
      "\u001b[1;36m  File \u001b[1;32m\"<ipython-input-38-91e58684dfcf>\"\u001b[1;36m, line \u001b[1;32m3\u001b[0m\n\u001b[1;33m    k=input({'Enter your fav language ram\\n'}\u001b[0m\n\u001b[1;37m    ^\u001b[0m\n\u001b[1;31mSyntaxError\u001b[0m\u001b[1;31m:\u001b[0m invalid syntax\n"
     ]
    }
   ],
   "source": [
    "favlang={}\n",
    "a=input({'Enter your fav language Vikas\\n'}\n",
    "k=input({'Enter your fav language ram\\n'}\n",
    "c=input({'Enter your fav language suraj\\n'}\n",
    "d=input({'Enter your fav language rajesh\\n'}\n",
    "favlang['Vikas']=a\n",
    "favlang['ram']= k\n",
    "favlang['suraj']=c\n",
    "favlang['rajesh']=d\n",
    "print(favlang)\n",
    "\n",
    "        "
   ]
  },
  {
   "cell_type": "code",
   "execution_count": 40,
   "id": "aa5d6183",
   "metadata": {},
   "outputs": [
    {
     "name": "stdout",
     "output_type": "stream",
     "text": [
      "{'Enter your fav language Vikas\\n'}Marathi\n",
      "{'Enter your fav language ram\\n'}English\n",
      "{'Enter your fav language suraj\\n'}Marathi\n",
      "{'Enter your fav language rajesh\\n'}Telugu\n",
      "{'Vikas': 'Marathi', 'ram': 'English', 'suraj': 'Marathi', 'rajesh': 'Telugu'}\n"
     ]
    }
   ],
   "source": [
    "favlang={}\n",
    "a=input({'Enter your fav language Vikas\\n'})\n",
    "k=input({'Enter your fav language ram\\n'})\n",
    "c=input({'Enter your fav language suraj\\n'})\n",
    "d=input({'Enter your fav language rajesh\\n'})\n",
    "favlang['Vikas']=a\n",
    "favlang['ram']= k\n",
    "favlang['suraj']=c\n",
    "favlang['rajesh']=d\n",
    "print(favlang)\n"
   ]
  },
  {
   "cell_type": "code",
   "execution_count": 41,
   "id": "90145153",
   "metadata": {},
   "outputs": [
    {
     "name": "stdout",
     "output_type": "stream",
     "text": [
      "{'Vikas': 'Marathi', 'ram': 'English', 'suraj': 'Marathi', 'rajesh': 'Telugu'}\n"
     ]
    }
   ],
   "source": [
    "print(favlang)"
   ]
  },
  {
   "cell_type": "code",
   "execution_count": null,
   "id": "d4726168",
   "metadata": {},
   "outputs": [],
   "source": []
  }
 ],
 "metadata": {
  "kernelspec": {
   "display_name": "Python 3",
   "language": "python",
   "name": "python3"
  },
  "language_info": {
   "codemirror_mode": {
    "name": "ipython",
    "version": 3
   },
   "file_extension": ".py",
   "mimetype": "text/x-python",
   "name": "python",
   "nbconvert_exporter": "python",
   "pygments_lexer": "ipython3",
   "version": "3.8.8"
  }
 },
 "nbformat": 4,
 "nbformat_minor": 5
}
