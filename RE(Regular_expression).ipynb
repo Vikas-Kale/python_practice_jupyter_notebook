{
 "cells": [
  {
   "cell_type": "markdown",
   "id": "a20d6c0e",
   "metadata": {},
   "source": [
    "# Regular expression"
   ]
  },
  {
   "cell_type": "code",
   "execution_count": null,
   "id": "9e4ab3b9",
   "metadata": {},
   "outputs": [],
   "source": [
    "- RegEx is a sequence of characters that forms a search patterns.\n",
    "- RegEx can be used to check if string contains the specified search pattern."
   ]
  },
  {
   "cell_type": "code",
   "execution_count": null,
   "id": "0f318211",
   "metadata": {},
   "outputs": [],
   "source": [
    "# search the string if it starts with 'The' and ends with 'Spain'"
   ]
  },
  {
   "cell_type": "code",
   "execution_count": 3,
   "id": "3232b313",
   "metadata": {
    "ExecuteTime": {
     "end_time": "2021-09-30T05:55:21.503810Z",
     "start_time": "2021-09-30T05:55:21.471814Z"
    }
   },
   "outputs": [
    {
     "name": "stdout",
     "output_type": "stream",
     "text": [
      "Yes!, We have a match.\n"
     ]
    }
   ],
   "source": [
    "import re\n",
    "\n",
    "txt = \"The rain in Spain\"\n",
    "\n",
    "x = re.search(\"^The.*Spain$\", txt)\n",
    "\n",
    "if x:\n",
    "    print(\"Yes!, We have a match.\")\n",
    "else:\n",
    "    print(\"We don't have a match.\")"
   ]
  },
  {
   "cell_type": "markdown",
   "id": "b483a2c6",
   "metadata": {},
   "source": [
    "# [] a set of characters"
   ]
  },
  {
   "cell_type": "code",
   "execution_count": 4,
   "id": "816d0e7b",
   "metadata": {
    "ExecuteTime": {
     "end_time": "2021-09-30T08:28:37.695502Z",
     "start_time": "2021-09-30T08:28:37.679465Z"
    }
   },
   "outputs": [
    {
     "name": "stdout",
     "output_type": "stream",
     "text": [
      "['h', 'e', 'a', 'i', 'i', 'a', 'i']\n"
     ]
    }
   ],
   "source": [
    "import re\n",
    "\n",
    "txt = \"The rain in Spain\"\n",
    "\n",
    "# find all lower case characters between a and m\n",
    "\n",
    "x = re.findall(\"[a-m]\", txt)\n",
    "\n",
    "print(x)"
   ]
  },
  {
   "cell_type": "markdown",
   "id": "8fd8c7c5",
   "metadata": {},
   "source": [
    "# \\ signals a special sequence\n",
    "- also used to escape special characters"
   ]
  },
  {
   "cell_type": "code",
   "execution_count": 5,
   "id": "13d217ff",
   "metadata": {
    "ExecuteTime": {
     "end_time": "2021-09-30T08:44:42.902786Z",
     "start_time": "2021-09-30T08:44:42.878786Z"
    }
   },
   "outputs": [
    {
     "name": "stdout",
     "output_type": "stream",
     "text": [
      "['5', '9']\n"
     ]
    }
   ],
   "source": [
    "import re\n",
    "\n",
    "txt = \"That will be 59 dollars\"\n",
    "\n",
    "# find all digit characters\n",
    "\n",
    "x = re.findall('\\d', txt)\n",
    "\n",
    "print(x)\n",
    "\n"
   ]
  },
  {
   "cell_type": "markdown",
   "id": "531b990b",
   "metadata": {},
   "source": [
    "# . any character (except newline character)"
   ]
  },
  {
   "cell_type": "code",
   "execution_count": 7,
   "id": "b0db3e52",
   "metadata": {
    "ExecuteTime": {
     "end_time": "2021-09-30T08:49:45.097488Z",
     "start_time": "2021-09-30T08:49:45.065456Z"
    }
   },
   "outputs": [
    {
     "name": "stdout",
     "output_type": "stream",
     "text": [
      "['Hello']\n"
     ]
    }
   ],
   "source": [
    "import re\n",
    "\n",
    "txt = \"Hello World!\"\n",
    "\n",
    "# search for a sequence that starts with 'He' and followed by two any characters and an 'o'\n",
    "\n",
    "x = re.findall('He..o', txt)\n",
    "\n",
    "print(x)"
   ]
  },
  {
   "cell_type": "code",
   "execution_count": 8,
   "id": "9c65fbd3",
   "metadata": {
    "ExecuteTime": {
     "end_time": "2021-09-30T08:51:09.584310Z",
     "start_time": "2021-09-30T08:51:09.560310Z"
    }
   },
   "outputs": [
    {
     "name": "stdout",
     "output_type": "stream",
     "text": [
      "['Vikas']\n"
     ]
    }
   ],
   "source": [
    "import re\n",
    "\n",
    "txt = \"My name is Vikas\"\n",
    "\n",
    "x = re.findall('V...s', txt)\n",
    "\n",
    "print(x)"
   ]
  },
  {
   "cell_type": "markdown",
   "id": "563e5b9d",
   "metadata": {},
   "source": [
    "# ^ starts with"
   ]
  },
  {
   "cell_type": "code",
   "execution_count": 9,
   "id": "ee713178",
   "metadata": {
    "ExecuteTime": {
     "end_time": "2021-09-30T08:55:06.485984Z",
     "start_time": "2021-09-30T08:55:06.461985Z"
    }
   },
   "outputs": [
    {
     "name": "stdout",
     "output_type": "stream",
     "text": [
      "Yes! string starts with hello.\n"
     ]
    }
   ],
   "source": [
    "import re\n",
    "\n",
    "txt = \"hello world!\"\n",
    "\n",
    "# check if string starts with hello\n",
    "\n",
    "x = re.findall('^hello', txt)\n",
    "\n",
    "if x:\n",
    "    print(\"Yes! string starts with hello.\")\n",
    "    \n",
    "else:\n",
    "    print(\"No,string not starts with hello.\")"
   ]
  },
  {
   "cell_type": "markdown",
   "id": "a5f033d5",
   "metadata": {},
   "source": [
    "# $ ends with"
   ]
  },
  {
   "cell_type": "code",
   "execution_count": 12,
   "id": "afdaea81",
   "metadata": {
    "ExecuteTime": {
     "end_time": "2021-09-30T08:58:13.464589Z",
     "start_time": "2021-09-30T08:58:13.440555Z"
    }
   },
   "outputs": [
    {
     "name": "stdout",
     "output_type": "stream",
     "text": [
      "Yes!, string ends with 'world'.\n"
     ]
    }
   ],
   "source": [
    "import re\n",
    "\n",
    "txt = \"hello world\"\n",
    "\n",
    "# check if string ends with 'world'\n",
    "\n",
    "x = re.findall('world$', txt)\n",
    "\n",
    "if x:\n",
    "    print(\"Yes!, string ends with 'world'.\")\n",
    "    \n",
    "else:\n",
    "    print(\"Not ends with 'world'.\")"
   ]
  },
  {
   "cell_type": "markdown",
   "id": "25ffb3d1",
   "metadata": {},
   "source": [
    "# * zero or more occurrences"
   ]
  },
  {
   "cell_type": "code",
   "execution_count": 15,
   "id": "79d75f34",
   "metadata": {
    "ExecuteTime": {
     "end_time": "2021-09-30T12:06:53.184478Z",
     "start_time": "2021-09-30T12:06:53.160478Z"
    }
   },
   "outputs": [
    {
     "name": "stdout",
     "output_type": "stream",
     "text": [
      "['ai', 'ai', 'ai', 'ai']\n",
      "Yes, there is atlist one match.\n"
     ]
    }
   ],
   "source": [
    "import re\n",
    "\n",
    "txt = \"The rain in Spain falls mainly in the plain!\"\n",
    "\n",
    "#Check if the string contains \"ai\" followed by 0 or more \"x\" characters:\n",
    "\n",
    "x = re.findall('aix*', txt)\n",
    "\n",
    "print(x)\n",
    "\n",
    "if x:\n",
    "    print(\"Yes, there is atlist one match.\")\n",
    "else:\n",
    "    print(\"No match\")"
   ]
  },
  {
   "cell_type": "code",
   "execution_count": 8,
   "id": "d4f5d02c",
   "metadata": {
    "ExecuteTime": {
     "end_time": "2021-10-13T01:34:41.607121Z",
     "start_time": "2021-10-13T01:34:41.586123Z"
    }
   },
   "outputs": [
    {
     "name": "stdout",
     "output_type": "stream",
     "text": [
      "This Not email\n"
     ]
    }
   ],
   "source": [
    "import re\n",
    "\n",
    "email = \"kalevikas@gmail\"\n",
    "\n",
    "s = re.findall(\"@gmail.com\",email)\n",
    "\n",
    "if s:\n",
    "    print(\"This is a email address\")\n",
    "else:\n",
    "    print(\"This Not email\")"
   ]
  },
  {
   "cell_type": "code",
   "execution_count": 9,
   "id": "94ffad26",
   "metadata": {
    "ExecuteTime": {
     "end_time": "2021-10-13T01:34:57.351898Z",
     "start_time": "2021-10-13T01:34:57.329900Z"
    }
   },
   "outputs": [
    {
     "name": "stdout",
     "output_type": "stream",
     "text": [
      "['A', 'ASCII', 'DEBUG', 'DOTALL', 'I', 'IGNORECASE', 'L', 'LOCALE', 'M', 'MULTILINE', 'Match', 'Pattern', 'RegexFlag', 'S', 'Scanner', 'T', 'TEMPLATE', 'U', 'UNICODE', 'VERBOSE', 'X', '_MAXCACHE', '__all__', '__builtins__', '__cached__', '__doc__', '__file__', '__loader__', '__name__', '__package__', '__spec__', '__version__', '_cache', '_compile', '_compile_repl', '_expand', '_locale', '_pickle', '_special_chars_map', '_subx', 'compile', 'copyreg', 'enum', 'error', 'escape', 'findall', 'finditer', 'fullmatch', 'functools', 'match', 'purge', 'search', 'split', 'sre_compile', 'sre_parse', 'sub', 'subn', 'template']\n"
     ]
    }
   ],
   "source": [
    "print(dir(re))"
   ]
  },
  {
   "cell_type": "code",
   "execution_count": null,
   "id": "cb1a1b50",
   "metadata": {},
   "outputs": [],
   "source": []
  }
 ],
 "metadata": {
  "kernelspec": {
   "display_name": "Python 3",
   "language": "python",
   "name": "python3"
  },
  "language_info": {
   "codemirror_mode": {
    "name": "ipython",
    "version": 3
   },
   "file_extension": ".py",
   "mimetype": "text/x-python",
   "name": "python",
   "nbconvert_exporter": "python",
   "pygments_lexer": "ipython3",
   "version": "3.8.8"
  }
 },
 "nbformat": 4,
 "nbformat_minor": 5
}
