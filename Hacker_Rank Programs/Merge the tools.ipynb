{
 "cells": [
  {
   "cell_type": "code",
   "execution_count": 5,
   "id": "4069a56a",
   "metadata": {},
   "outputs": [],
   "source": [
    "def merge_the_tools(string, k):\n",
    "    \n",
    "    s=\"\"\n",
    "    c=0\n",
    "    \n",
    "    for i in string:\n",
    "        if i not in s:\n",
    "            s=s+i\n",
    "        c+=1\n",
    "        \n",
    "        if (c==k):\n",
    "            print(s)\n",
    "            s=\"\"\n",
    "            c=0\n",
    "            \n",
    "    # your code goes here\n",
    "\n",
    "# if __name__ == '__main__':\n",
    "#     string, k = input(), int(input())\n",
    "#     merge_the_tools(string, k)"
   ]
  },
  {
   "cell_type": "code",
   "execution_count": 6,
   "id": "bd79d1c4",
   "metadata": {},
   "outputs": [
    {
     "name": "stdout",
     "output_type": "stream",
     "text": [
      "AB\n",
      "CA\n",
      "AD\n"
     ]
    }
   ],
   "source": [
    "merge_the_tools(\"AABCAAADA\",3)"
   ]
  },
  {
   "cell_type": "code",
   "execution_count": 34,
   "id": "b02a6f82",
   "metadata": {},
   "outputs": [],
   "source": [
    "def merge_the_tools(string, k):\n",
    "    for i in range(0, len(string), k):  # range(start:end:difference) ; range(0,9,3) here we enter value of k is 3.\n",
    "        str1 = ''                       # to store result create empty string of veriable str1.\n",
    "        for c in string[i : i+k]:       # in i= 0,3,6  for 1st:c=AAB,2nd:c=CAA,3rdc=ADA\n",
    "            if (c not in str1):         # initially str1 is empty.1st:AB,2nd:CA,3rd:AD  this will remove duplicates.\n",
    "                str1+=c                 # add char in str1\n",
    "        print(str1)                     "
   ]
  },
  {
   "cell_type": "code",
   "execution_count": 35,
   "id": "3402f5c9",
   "metadata": {},
   "outputs": [
    {
     "name": "stdout",
     "output_type": "stream",
     "text": [
      "AB\n",
      "CA\n",
      "AD\n"
     ]
    }
   ],
   "source": [
    "merge_the_tools(\"AABCAAADA\",3)"
   ]
  },
  {
   "cell_type": "code",
   "execution_count": 30,
   "id": "b9c88c3d",
   "metadata": {},
   "outputs": [
    {
     "name": "stdout",
     "output_type": "stream",
     "text": [
      "A A B C A A A D A "
     ]
    }
   ],
   "source": [
    "string1=\"AABCAAADA\"\n",
    "x=len(string1)\n",
    "for m in range(0,x,3):\n",
    "#     print(m)\n",
    "    for v in string1[m:m+k]:\n",
    "        print(v,end=\" \")"
   ]
  },
  {
   "cell_type": "code",
   "execution_count": 1,
   "id": "886ffcc9",
   "metadata": {
    "ExecuteTime": {
     "end_time": "2021-10-15T13:25:21.444126Z",
     "start_time": "2021-10-15T13:25:21.427127Z"
    }
   },
   "outputs": [],
   "source": [
    "def merge_the_tools(string, k):\n",
    "    for i in range(0, len(string), k):  # range(start:end:difference) ; range(0,9,3) here we enter value of k is 3.\n",
    "        t=string[i:i+k]\n",
    "        u=set()                        # set remove duplicates.\n",
    "        \n",
    "        for j in t:\n",
    "            if j not in u:\n",
    "                print(j,end=\"\")\n",
    "                u.add(j)\n",
    "        print()"
   ]
  },
  {
   "cell_type": "code",
   "execution_count": 4,
   "id": "740aaecd",
   "metadata": {
    "ExecuteTime": {
     "end_time": "2021-10-15T13:25:46.138036Z",
     "start_time": "2021-10-15T13:25:46.119038Z"
    }
   },
   "outputs": [
    {
     "name": "stdout",
     "output_type": "stream",
     "text": [
      "AB\n",
      "CA\n",
      "AD\n"
     ]
    }
   ],
   "source": [
    "merge_the_tools(\"AABCAAADA\",3)"
   ]
  },
  {
   "cell_type": "code",
   "execution_count": 6,
   "id": "d6c177a6",
   "metadata": {
    "ExecuteTime": {
     "end_time": "2021-10-15T13:50:59.794274Z",
     "start_time": "2021-10-15T13:50:56.659976Z"
    }
   },
   "outputs": [
    {
     "name": "stdout",
     "output_type": "stream",
     "text": [
      "AABCAAADA\n",
      "3\n",
      "['AAB', 'CAA', 'ADA']\n",
      "{'ADA', 'CAA', 'AAB'}\n"
     ]
    }
   ],
   "source": [
    "def merge_the_tools(string, k):\n",
    "    l=[]\n",
    "    m=0\n",
    "    for i in range(len(string)//k):\n",
    "        l.append(string[m:m+k])\n",
    "        m+=k\n",
    "\n",
    "    print(l)\n",
    "    \n",
    "        \n",
    "        \n",
    "    \n",
    "string, k = input(), int(input())\n",
    "merge_the_tools(string, k)"
   ]
  },
  {
   "cell_type": "code",
   "execution_count": 7,
   "id": "97e2de4b",
   "metadata": {
    "ExecuteTime": {
     "end_time": "2021-10-15T14:07:58.932356Z",
     "start_time": "2021-10-15T14:07:52.965466Z"
    }
   },
   "outputs": [
    {
     "name": "stdout",
     "output_type": "stream",
     "text": [
      "10\n",
      "161 182 161 154 176 170 167 171 170 174 \n",
      "[161, 182, 161, 154, 176, 170, 167, 171, 170, 174]\n",
      "{161, 167, 170, 171, 174, 176, 182, 154}\n"
     ]
    }
   ],
   "source": [
    "n = int(input())\n",
    "arr = list(map(int,input().split()))\n",
    "print(arr)\n",
    "\n",
    "s = set(arr)\n",
    "\n",
    "print(s)"
   ]
  },
  {
   "cell_type": "code",
   "execution_count": 11,
   "id": "c750fdac",
   "metadata": {
    "ExecuteTime": {
     "end_time": "2021-10-15T14:13:00.501338Z",
     "start_time": "2021-10-15T14:12:56.883819Z"
    }
   },
   "outputs": [
    {
     "name": "stdout",
     "output_type": "stream",
     "text": [
      " 1 2 3 4 5\n",
      "['', '1', '2', '3', '4', '5']\n"
     ]
    }
   ],
   "source": [
    "a = input().split(' ')\n",
    "print(a)"
   ]
  },
  {
   "cell_type": "code",
   "execution_count": 12,
   "id": "84eb7637",
   "metadata": {
    "ExecuteTime": {
     "end_time": "2021-10-15T14:14:34.597505Z",
     "start_time": "2021-10-15T14:14:31.283692Z"
    }
   },
   "outputs": [
    {
     "name": "stdout",
     "output_type": "stream",
     "text": [
      "1 2 3 4 5\n",
      "[1, 2, 3, 4, 5]\n"
     ]
    }
   ],
   "source": [
    "a = list(map(int,input().split(' ')))\n",
    "\n",
    "print(a)"
   ]
  },
  {
   "cell_type": "code",
   "execution_count": 13,
   "id": "2db62205",
   "metadata": {
    "ExecuteTime": {
     "end_time": "2021-10-15T14:15:00.886805Z",
     "start_time": "2021-10-15T14:15:00.870807Z"
    }
   },
   "outputs": [
    {
     "name": "stdout",
     "output_type": "stream",
     "text": [
      "['__and__', '__class__', '__contains__', '__delattr__', '__dir__', '__doc__', '__eq__', '__format__', '__ge__', '__getattribute__', '__gt__', '__hash__', '__iand__', '__init__', '__init_subclass__', '__ior__', '__isub__', '__iter__', '__ixor__', '__le__', '__len__', '__lt__', '__ne__', '__new__', '__or__', '__rand__', '__reduce__', '__reduce_ex__', '__repr__', '__ror__', '__rsub__', '__rxor__', '__setattr__', '__sizeof__', '__str__', '__sub__', '__subclasshook__', '__xor__', 'add', 'clear', 'copy', 'difference', 'difference_update', 'discard', 'intersection', 'intersection_update', 'isdisjoint', 'issubset', 'issuperset', 'pop', 'remove', 'symmetric_difference', 'symmetric_difference_update', 'union', 'update']\n"
     ]
    }
   ],
   "source": [
    "print(dir(set))"
   ]
  },
  {
   "cell_type": "code",
   "execution_count": 14,
   "id": "4e2a0ab9",
   "metadata": {
    "ExecuteTime": {
     "end_time": "2021-10-15T14:18:20.865868Z",
     "start_time": "2021-10-15T14:18:20.846869Z"
    }
   },
   "outputs": [],
   "source": [
    "s = set([1,2,3])"
   ]
  },
  {
   "cell_type": "code",
   "execution_count": 15,
   "id": "88aea8f3",
   "metadata": {
    "ExecuteTime": {
     "end_time": "2021-10-15T14:18:23.078082Z",
     "start_time": "2021-10-15T14:18:23.047084Z"
    }
   },
   "outputs": [
    {
     "data": {
      "text/plain": [
       "{1, 2, 3}"
      ]
     },
     "execution_count": 15,
     "metadata": {},
     "output_type": "execute_result"
    }
   ],
   "source": [
    "s"
   ]
  },
  {
   "cell_type": "code",
   "execution_count": 16,
   "id": "543d7041",
   "metadata": {
    "ExecuteTime": {
     "end_time": "2021-10-15T14:18:31.105277Z",
     "start_time": "2021-10-15T14:18:31.086277Z"
    }
   },
   "outputs": [],
   "source": [
    "s.add(5)"
   ]
  },
  {
   "cell_type": "code",
   "execution_count": 17,
   "id": "6589e68c",
   "metadata": {
    "ExecuteTime": {
     "end_time": "2021-10-15T14:18:32.951099Z",
     "start_time": "2021-10-15T14:18:32.932103Z"
    }
   },
   "outputs": [
    {
     "data": {
      "text/plain": [
       "{1, 2, 3, 5}"
      ]
     },
     "execution_count": 17,
     "metadata": {},
     "output_type": "execute_result"
    }
   ],
   "source": [
    "s"
   ]
  },
  {
   "cell_type": "code",
   "execution_count": 18,
   "id": "c660396a",
   "metadata": {
    "ExecuteTime": {
     "end_time": "2021-10-15T14:18:46.716574Z",
     "start_time": "2021-10-15T14:18:46.701576Z"
    }
   },
   "outputs": [],
   "source": [
    "s.update([11,12,13,14])"
   ]
  },
  {
   "cell_type": "code",
   "execution_count": 19,
   "id": "7d784451",
   "metadata": {
    "ExecuteTime": {
     "end_time": "2021-10-15T14:18:50.295492Z",
     "start_time": "2021-10-15T14:18:50.279493Z"
    }
   },
   "outputs": [
    {
     "data": {
      "text/plain": [
       "{1, 2, 3, 5, 11, 12, 13, 14}"
      ]
     },
     "execution_count": 19,
     "metadata": {},
     "output_type": "execute_result"
    }
   ],
   "source": [
    "s"
   ]
  },
  {
   "cell_type": "code",
   "execution_count": 20,
   "id": "42ee8d1c",
   "metadata": {
    "ExecuteTime": {
     "end_time": "2021-10-15T14:36:29.122811Z",
     "start_time": "2021-10-15T14:36:29.111811Z"
    }
   },
   "outputs": [],
   "source": [
    "s.discard(5)"
   ]
  },
  {
   "cell_type": "code",
   "execution_count": 21,
   "id": "5ffb4b0f",
   "metadata": {
    "ExecuteTime": {
     "end_time": "2021-10-15T14:36:31.839968Z",
     "start_time": "2021-10-15T14:36:31.820970Z"
    }
   },
   "outputs": [
    {
     "data": {
      "text/plain": [
       "{1, 2, 3, 11, 12, 13, 14}"
      ]
     },
     "execution_count": 21,
     "metadata": {},
     "output_type": "execute_result"
    }
   ],
   "source": [
    "s"
   ]
  },
  {
   "cell_type": "code",
   "execution_count": 22,
   "id": "ff303c1d",
   "metadata": {
    "ExecuteTime": {
     "end_time": "2021-10-15T14:36:43.708880Z",
     "start_time": "2021-10-15T14:36:43.699879Z"
    }
   },
   "outputs": [],
   "source": [
    "s.discard(11)"
   ]
  },
  {
   "cell_type": "code",
   "execution_count": 23,
   "id": "abf09e44",
   "metadata": {
    "ExecuteTime": {
     "end_time": "2021-10-15T14:36:45.881981Z",
     "start_time": "2021-10-15T14:36:45.863983Z"
    }
   },
   "outputs": [
    {
     "data": {
      "text/plain": [
       "{1, 2, 3, 12, 13, 14}"
      ]
     },
     "execution_count": 23,
     "metadata": {},
     "output_type": "execute_result"
    }
   ],
   "source": [
    "s"
   ]
  },
  {
   "cell_type": "code",
   "execution_count": 24,
   "id": "019a3964",
   "metadata": {
    "ExecuteTime": {
     "end_time": "2021-10-15T14:37:01.031577Z",
     "start_time": "2021-10-15T14:37:01.019577Z"
    }
   },
   "outputs": [],
   "source": [
    "s.remove(13)"
   ]
  },
  {
   "cell_type": "code",
   "execution_count": 25,
   "id": "2a7f7c8a",
   "metadata": {
    "ExecuteTime": {
     "end_time": "2021-10-15T14:37:03.122793Z",
     "start_time": "2021-10-15T14:37:03.113795Z"
    }
   },
   "outputs": [
    {
     "data": {
      "text/plain": [
       "{1, 2, 3, 12, 14}"
      ]
     },
     "execution_count": 25,
     "metadata": {},
     "output_type": "execute_result"
    }
   ],
   "source": [
    "s"
   ]
  },
  {
   "cell_type": "code",
   "execution_count": 26,
   "id": "fd49ca42",
   "metadata": {
    "ExecuteTime": {
     "end_time": "2021-10-15T14:47:21.938009Z",
     "start_time": "2021-10-15T14:47:21.906330Z"
    }
   },
   "outputs": [
    {
     "name": "stdout",
     "output_type": "stream",
     "text": [
      "{512, 1, 2, 3, 4, 5, 11}\n"
     ]
    }
   ],
   "source": [
    "s1 = {4,3,2,5,6,7}\n",
    "s2 = {11,1,512,6,7}\n",
    "\n",
    "print(s1.symmetric_difference(s2))"
   ]
  },
  {
   "cell_type": "code",
   "execution_count": 27,
   "id": "11776f2d",
   "metadata": {
    "ExecuteTime": {
     "end_time": "2021-10-15T15:01:08.398158Z",
     "start_time": "2021-10-15T15:01:08.374156Z"
    }
   },
   "outputs": [
    {
     "name": "stdout",
     "output_type": "stream",
     "text": [
      "6\n"
     ]
    }
   ],
   "source": [
    "print(len(s1))"
   ]
  },
  {
   "cell_type": "code",
   "execution_count": null,
   "id": "8fae4c18",
   "metadata": {},
   "outputs": [],
   "source": []
  }
 ],
 "metadata": {
  "kernelspec": {
   "display_name": "Python 3",
   "language": "python",
   "name": "python3"
  },
  "language_info": {
   "codemirror_mode": {
    "name": "ipython",
    "version": 3
   },
   "file_extension": ".py",
   "mimetype": "text/x-python",
   "name": "python",
   "nbconvert_exporter": "python",
   "pygments_lexer": "ipython3",
   "version": "3.8.8"
  }
 },
 "nbformat": 4,
 "nbformat_minor": 5
}
