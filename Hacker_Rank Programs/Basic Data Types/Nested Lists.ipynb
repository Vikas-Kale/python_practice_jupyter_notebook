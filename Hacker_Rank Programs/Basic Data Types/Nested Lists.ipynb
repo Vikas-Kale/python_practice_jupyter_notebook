{
 "cells": [
  {
   "cell_type": "code",
   "execution_count": null,
   "id": "174b4bf4",
   "metadata": {},
   "outputs": [],
   "source": [
    "Sample Input 0\n",
    "\n",
    "5\n",
    "Harry\n",
    "37.21\n",
    "Berry\n",
    "37.21\n",
    "Tina\n",
    "37.2\n",
    "Akriti\n",
    "41\n",
    "Harsh\n",
    "39\n",
    "Sample Output 0\n",
    "\n",
    "Berry\n",
    "Harry"
   ]
  },
  {
   "cell_type": "code",
   "execution_count": 6,
   "id": "a397ac67",
   "metadata": {
    "ExecuteTime": {
     "end_time": "2021-10-14T15:02:28.896676Z",
     "start_time": "2021-10-14T15:02:01.405977Z"
    }
   },
   "outputs": [
    {
     "name": "stdout",
     "output_type": "stream",
     "text": [
      "5\n",
      "Harry\n",
      "37.21\n",
      "Berry\n",
      "37.21\n",
      "Tina\n",
      "37.2\n",
      "Akriti\n",
      "41\n",
      "Harsh\n",
      "39\n",
      "{41.0, 37.2, 37.21, 39.0}\n",
      "[37.2, 37.21, 39.0, 41.0]\n"
     ]
    }
   ],
   "source": [
    "List = []\n",
    "second_lowest_name = []\n",
    "scores = set()\n",
    "\n",
    "N = int(input())\n",
    "for i in range(N):\n",
    "    Name = input()\n",
    "    score = float(input())\n",
    "    List.append([Name,score])\n",
    "    scores.add(score)\n",
    "print(scores)\n",
    "second_lowest = sorted(scores)[1]\n",
    "print(second_lowest)\n"
   ]
  },
  {
   "cell_type": "code",
   "execution_count": null,
   "id": "6f53b274",
   "metadata": {},
   "outputs": [],
   "source": [
    "5\n",
    "Harry\n",
    "37.21\n",
    "Berry\n",
    "37.21\n",
    "Tina\n",
    "37.2\n",
    "Akriti\n",
    "41\n",
    "Harsh\n",
    "39"
   ]
  },
  {
   "cell_type": "code",
   "execution_count": 14,
   "id": "9510d94b",
   "metadata": {
    "ExecuteTime": {
     "end_time": "2021-10-15T00:34:23.654391Z",
     "start_time": "2021-10-15T00:33:52.370916Z"
    }
   },
   "outputs": [
    {
     "name": "stdout",
     "output_type": "stream",
     "text": [
      "5\n",
      "Harry\n",
      "37.21\n",
      "Berry\n",
      "37.21\n",
      "Tina\n",
      "37.2\n",
      "Akriti\n",
      "41\n",
      "Harsh\n",
      "39\n",
      "{41.0, 37.2, 37.21, 39.0}\n",
      "37.21\n",
      "[['Harry', 37.21], ['Berry', 37.21], ['Tina', 37.2], ['Akriti', 41.0], ['Harsh', 39.0]]\n",
      "['Berry', 'Harry']\n"
     ]
    }
   ],
   "source": [
    "N = int(input())\n",
    "lst = []\n",
    "second_lowest_names=[]\n",
    "scores=set()\n",
    "\n",
    "for i in range(N):\n",
    "    name = input()\n",
    "    grade = float(input())\n",
    "    lst.append([name,grade])\n",
    "    scores.add(grade)\n",
    "print(scores)\n",
    "second_lowest_grade=sorted(scores)[1]\n",
    "print(second_lowest_grade)\n",
    "print(lst)\n",
    "\n",
    "for val in lst:\n",
    "    if val[1] == second_lowest_grade:\n",
    "        second_lowest_names.append(val[0])\n",
    "        \n",
    "print(sorted(second_lowest_names))\n",
    "\n",
    "\n",
    "    \n",
    "    \n",
    "\n",
    "    "
   ]
  },
  {
   "cell_type": "code",
   "execution_count": 7,
   "id": "6c423562",
   "metadata": {
    "ExecuteTime": {
     "end_time": "2021-10-15T00:26:10.282385Z",
     "start_time": "2021-10-15T00:26:10.266384Z"
    }
   },
   "outputs": [],
   "source": [
    "lst1 = [['Harry', 37.21], ['Berry', 37.21], ['Tina', 37.2], ['Akriti', 41.0], ['Harsh', 39.0]]\n"
   ]
  },
  {
   "cell_type": "code",
   "execution_count": 13,
   "id": "1ab14fe2",
   "metadata": {
    "ExecuteTime": {
     "end_time": "2021-10-15T00:32:02.161473Z",
     "start_time": "2021-10-15T00:32:02.145473Z"
    }
   },
   "outputs": [
    {
     "name": "stdout",
     "output_type": "stream",
     "text": [
      "37.21\n",
      "37.21\n",
      "37.2\n",
      "41.0\n",
      "39.0\n"
     ]
    }
   ],
   "source": [
    "for val in lst1:\n",
    "    print(val[1])"
   ]
  },
  {
   "cell_type": "code",
   "execution_count": 9,
   "id": "c3db0172",
   "metadata": {
    "ExecuteTime": {
     "end_time": "2021-10-15T00:28:27.042677Z",
     "start_time": "2021-10-15T00:28:27.002679Z"
    }
   },
   "outputs": [
    {
     "ename": "ValueError",
     "evalue": "too many values to unpack (expected 2)",
     "output_type": "error",
     "traceback": [
      "\u001b[1;31m---------------------------------------------------------------------------\u001b[0m",
      "\u001b[1;31mValueError\u001b[0m                                Traceback (most recent call last)",
      "\u001b[1;32m<ipython-input-9-d890120d7f4f>\u001b[0m in \u001b[0;36m<module>\u001b[1;34m\u001b[0m\n\u001b[0;32m      2\u001b[0m \u001b[0mgd\u001b[0m \u001b[1;33m=\u001b[0m \u001b[1;36m37.21\u001b[0m\u001b[1;33m\u001b[0m\u001b[1;33m\u001b[0m\u001b[0m\n\u001b[0;32m      3\u001b[0m \u001b[1;32mfor\u001b[0m \u001b[0mi\u001b[0m \u001b[1;32min\u001b[0m \u001b[0mlst1\u001b[0m\u001b[1;33m:\u001b[0m\u001b[1;33m\u001b[0m\u001b[1;33m\u001b[0m\u001b[0m\n\u001b[1;32m----> 4\u001b[1;33m     \u001b[1;32mfor\u001b[0m \u001b[0mnam\u001b[0m\u001b[1;33m,\u001b[0m\u001b[0mgrd\u001b[0m \u001b[1;32min\u001b[0m \u001b[0mi\u001b[0m\u001b[1;33m:\u001b[0m\u001b[1;33m\u001b[0m\u001b[1;33m\u001b[0m\u001b[0m\n\u001b[0m\u001b[0;32m      5\u001b[0m         \u001b[1;32mif\u001b[0m \u001b[0mgrd\u001b[0m \u001b[1;33m==\u001b[0m \u001b[0mgd\u001b[0m\u001b[1;33m:\u001b[0m\u001b[1;33m\u001b[0m\u001b[1;33m\u001b[0m\u001b[0m\n\u001b[0;32m      6\u001b[0m             \u001b[0mx\u001b[0m\u001b[1;33m.\u001b[0m\u001b[0mappend\u001b[0m\u001b[1;33m(\u001b[0m\u001b[0mnam\u001b[0m\u001b[1;33m)\u001b[0m\u001b[1;33m\u001b[0m\u001b[1;33m\u001b[0m\u001b[0m\n",
      "\u001b[1;31mValueError\u001b[0m: too many values to unpack (expected 2)"
     ]
    }
   ],
   "source": [
    "x = []\n",
    "gd = 37.21\n",
    "for i in lst1:\n",
    "    for nam,grd in i:\n",
    "        if grd == gd:\n",
    "            x.append(nam)\n",
    "print(x)\n",
    "            \n",
    "        "
   ]
  },
  {
   "cell_type": "code",
   "execution_count": 17,
   "id": "7cc9e37d",
   "metadata": {
    "ExecuteTime": {
     "end_time": "2021-10-15T00:46:54.044289Z",
     "start_time": "2021-10-15T00:46:54.028287Z"
    }
   },
   "outputs": [],
   "source": [
    "x= {'Harsh': [25.0, 26.5, 28.0], 'Anurag': [26.0, 28.0, 30.0]}\n"
   ]
  },
  {
   "cell_type": "code",
   "execution_count": 27,
   "id": "af510138",
   "metadata": {
    "ExecuteTime": {
     "end_time": "2021-10-15T00:53:57.804603Z",
     "start_time": "2021-10-15T00:53:57.772600Z"
    }
   },
   "outputs": [
    {
     "ename": "KeyError",
     "evalue": "1",
     "output_type": "error",
     "traceback": [
      "\u001b[1;31m---------------------------------------------------------------------------\u001b[0m",
      "\u001b[1;31mKeyError\u001b[0m                                  Traceback (most recent call last)",
      "\u001b[1;32m<ipython-input-27-fb0e0080324e>\u001b[0m in \u001b[0;36m<module>\u001b[1;34m\u001b[0m\n\u001b[1;32m----> 1\u001b[1;33m \u001b[0mx\u001b[0m\u001b[1;33m[\u001b[0m\u001b[1;36m1\u001b[0m\u001b[1;33m]\u001b[0m\u001b[1;33m\u001b[0m\u001b[1;33m\u001b[0m\u001b[0m\n\u001b[0m",
      "\u001b[1;31mKeyError\u001b[0m: 1"
     ]
    }
   ],
   "source": [
    "x[1]"
   ]
  },
  {
   "cell_type": "code",
   "execution_count": 23,
   "id": "a62b7425",
   "metadata": {
    "ExecuteTime": {
     "end_time": "2021-10-15T00:48:07.196748Z",
     "start_time": "2021-10-15T00:48:07.173445Z"
    }
   },
   "outputs": [
    {
     "data": {
      "text/plain": [
       "dict_values([[25.0, 26.5, 28.0], [26.0, 28.0, 30.0]])"
      ]
     },
     "execution_count": 23,
     "metadata": {},
     "output_type": "execute_result"
    }
   ],
   "source": [
    "x.values()"
   ]
  },
  {
   "cell_type": "code",
   "execution_count": 26,
   "id": "a2cb00a9",
   "metadata": {
    "ExecuteTime": {
     "end_time": "2021-10-15T00:51:01.188532Z",
     "start_time": "2021-10-15T00:51:01.172531Z"
    }
   },
   "outputs": [
    {
     "name": "stdout",
     "output_type": "stream",
     "text": [
      "Harsh\n",
      "Anurag\n"
     ]
    }
   ],
   "source": [
    "x.keys()\n",
    "for h in x.keys():\n",
    "    print(h)"
   ]
  },
  {
   "cell_type": "code",
   "execution_count": 24,
   "id": "b14d5572",
   "metadata": {
    "ExecuteTime": {
     "end_time": "2021-10-15T00:48:39.342412Z",
     "start_time": "2021-10-15T00:48:39.310413Z"
    }
   },
   "outputs": [
    {
     "name": "stdout",
     "output_type": "stream",
     "text": [
      "[25.0, 26.5, 28.0]\n",
      "[26.0, 28.0, 30.0]\n"
     ]
    }
   ],
   "source": [
    "for i in x.values():\n",
    "    print(i)"
   ]
  },
  {
   "cell_type": "code",
   "execution_count": 31,
   "id": "31d18324",
   "metadata": {
    "ExecuteTime": {
     "end_time": "2021-10-15T00:57:30.090832Z",
     "start_time": "2021-10-15T00:57:25.814911Z"
    }
   },
   "outputs": [
    {
     "name": "stdout",
     "output_type": "stream",
     "text": [
      "Enter query: Harsh\n",
      "26.5\n"
     ]
    }
   ],
   "source": [
    "query = input(\"Enter query: \")\n",
    "\n",
    "for j,h in x.items():\n",
    "    if j == query:\n",
    "        print(sum(h)/len(h))\n"
   ]
  },
  {
   "cell_type": "code",
   "execution_count": null,
   "id": "c2b5fd87",
   "metadata": {},
   "outputs": [],
   "source": []
  }
 ],
 "metadata": {
  "kernelspec": {
   "display_name": "Python 3",
   "language": "python",
   "name": "python3"
  },
  "language_info": {
   "codemirror_mode": {
    "name": "ipython",
    "version": 3
   },
   "file_extension": ".py",
   "mimetype": "text/x-python",
   "name": "python",
   "nbconvert_exporter": "python",
   "pygments_lexer": "ipython3",
   "version": "3.8.8"
  }
 },
 "nbformat": 4,
 "nbformat_minor": 5
}
