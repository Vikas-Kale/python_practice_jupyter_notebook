{
 "cells": [
  {
   "cell_type": "code",
   "execution_count": 1,
   "id": "013fffd9",
   "metadata": {},
   "outputs": [
    {
     "name": "stdout",
     "output_type": "stream",
     "text": [
      "hello world\n"
     ]
    }
   ],
   "source": [
    "print(\"hello world\")"
   ]
  },
  {
   "cell_type": "code",
   "execution_count": 9,
   "id": "ce9fff5b",
   "metadata": {},
   "outputs": [],
   "source": [
    "a = 100"
   ]
  },
  {
   "cell_type": "code",
   "execution_count": 3,
   "id": "ef2fd3e9",
   "metadata": {},
   "outputs": [],
   "source": [
    "b = 20"
   ]
  },
  {
   "cell_type": "code",
   "execution_count": 4,
   "id": "fa04eab5",
   "metadata": {},
   "outputs": [
    {
     "name": "stdout",
     "output_type": "stream",
     "text": [
      "Hi\n"
     ]
    }
   ],
   "source": [
    "print(\"Hi\")"
   ]
  },
  {
   "cell_type": "code",
   "execution_count": 5,
   "id": "cc783eb7",
   "metadata": {},
   "outputs": [
    {
     "name": "stdout",
     "output_type": "stream",
     "text": [
      "30\n"
     ]
    }
   ],
   "source": [
    "print(a+b)"
   ]
  },
  {
   "cell_type": "code",
   "execution_count": 7,
   "id": "ff26bdfc",
   "metadata": {},
   "outputs": [
    {
     "data": {
      "text/plain": [
       "70"
      ]
     },
     "execution_count": 7,
     "metadata": {},
     "output_type": "execute_result"
    }
   ],
   "source": [
    "a+b"
   ]
  },
  {
   "cell_type": "code",
   "execution_count": 8,
   "id": "8ad8a833",
   "metadata": {},
   "outputs": [
    {
     "data": {
      "text/plain": [
       "70"
      ]
     },
     "execution_count": 8,
     "metadata": {},
     "output_type": "execute_result"
    }
   ],
   "source": [
    "a+b"
   ]
  },
  {
   "cell_type": "code",
   "execution_count": 10,
   "id": "12c4ce68",
   "metadata": {},
   "outputs": [
    {
     "data": {
      "text/plain": [
       "120"
      ]
     },
     "execution_count": 10,
     "metadata": {},
     "output_type": "execute_result"
    }
   ],
   "source": [
    "a+b"
   ]
  },
  {
   "cell_type": "code",
   "execution_count": 11,
   "id": "7c0a1b29",
   "metadata": {},
   "outputs": [
    {
     "name": "stdout",
     "output_type": "stream",
     "text": [
      "Current state of list :  []\n",
      "Enter first input55\n",
      "Current state of list :  ['55']\n",
      "Enter second input44\n",
      "Current state of list :  ['55', '44']\n",
      "Enter third input88\n",
      "Current state of list :  ['55', '44', '88']\n",
      "Enter Fourth input99\n",
      "Current state of list :  ['55', '44', '88', '99']\n",
      "Enter fifth input11\n",
      "Current state of list :  ['55', '44', '88', '99', '11']\n"
     ]
    }
   ],
   "source": [
    "num = list() # create a empty list\n",
    "print(\"Current state of list : \", num)\n",
    "n1 = input(\"Enter first input\")\n",
    "num.append(n1) # Add element to last\n",
    "print(\"Current state of list : \", num)\n",
    "\n",
    "n2= input(\"Enter second input\")\n",
    "num.append(n2)\n",
    "print(\"Current state of list : \", num)\n",
    "\n",
    "n3 = input(\"Enter third input\")\n",
    "num.append(n3)\n",
    "print(\"Current state of list : \", num)\n",
    "\n",
    "n4 = input(\"Enter Fourth input\")\n",
    "num.append(n4)\n",
    "print(\"Current state of list : \", num)\n",
    "\n",
    "n5 = input(\"Enter fifth input\")\n",
    "num.append(n5)\n",
    "print(\"Current state of list : \", num)\n"
   ]
  },
  {
   "cell_type": "code",
   "execution_count": 12,
   "id": "35532112",
   "metadata": {},
   "outputs": [
    {
     "name": "stdout",
     "output_type": "stream",
     "text": [
      "Current state of list :  []\n",
      "Enter first input10\n",
      "Current state of list :  ['10']\n",
      "Enter second input20\n",
      "Current state of list :  ['10', '20']\n",
      "Enter third input30\n",
      "Current state of list :  ['10', '20', '30']\n",
      "Enter Fourth input40\n",
      "Current state of list :  ['10', '20', '30', '40']\n",
      "Enter fifth input50\n",
      "Current state of list :  ['10', '20', '30', '40', '50']\n"
     ]
    }
   ],
   "source": [
    "num = list() # create a empty list\n",
    "print(\"Current state of list : \", num)\n",
    "num.append(input(\"Enter first input\")) # Add element to last\n",
    "print(\"Current state of list : \", num)\n",
    "\n",
    "num.append(input(\"Enter second input\"))\n",
    "print(\"Current state of list : \", num)\n",
    "\n",
    "num.append(input(\"Enter third input\"))\n",
    "print(\"Current state of list : \", num)\n",
    "\n",
    "num.append(input(\"Enter Fourth input\"))\n",
    "print(\"Current state of list : \", num)\n",
    "\n",
    "num.append(input(\"Enter fifth input\"))\n",
    "print(\"Current state of list : \", num)\n"
   ]
  },
  {
   "cell_type": "code",
   "execution_count": 13,
   "id": "d84cf92f",
   "metadata": {},
   "outputs": [
    {
     "name": "stdout",
     "output_type": "stream",
     "text": [
      "Current state of list :  []\n",
      "Enter first input[1,2,3,4,5]\n"
     ]
    }
   ],
   "source": [
    "num = list() # create a empty list\n",
    "print(\"Current state of list : \", num)\n",
    "\n",
    "num.append(input(\"Enter first input\"))"
   ]
  },
  {
   "cell_type": "code",
   "execution_count": 14,
   "id": "7d8140ca",
   "metadata": {},
   "outputs": [
    {
     "data": {
      "text/plain": [
       "['[1,2,3,4,5]']"
      ]
     },
     "execution_count": 14,
     "metadata": {},
     "output_type": "execute_result"
    }
   ],
   "source": [
    "num"
   ]
  },
  {
   "cell_type": "code",
   "execution_count": 15,
   "id": "d807192e",
   "metadata": {},
   "outputs": [
    {
     "name": "stdout",
     "output_type": "stream",
     "text": [
      "Enter a list: [1,2,3,4,5]\n"
     ]
    }
   ],
   "source": [
    "n1 = input(\"Enter a list: \")"
   ]
  },
  {
   "cell_type": "code",
   "execution_count": 16,
   "id": "dffa9cba",
   "metadata": {},
   "outputs": [
    {
     "data": {
      "text/plain": [
       "'[1,2,3,4,5]'"
      ]
     },
     "execution_count": 16,
     "metadata": {},
     "output_type": "execute_result"
    }
   ],
   "source": [
    "n1"
   ]
  },
  {
   "cell_type": "code",
   "execution_count": 17,
   "id": "f706a358",
   "metadata": {},
   "outputs": [
    {
     "data": {
      "text/plain": [
       "str"
      ]
     },
     "execution_count": 17,
     "metadata": {},
     "output_type": "execute_result"
    }
   ],
   "source": [
    "type(n1)"
   ]
  },
  {
   "cell_type": "code",
   "execution_count": 19,
   "id": "373a1733",
   "metadata": {},
   "outputs": [
    {
     "data": {
      "text/plain": [
       "10"
      ]
     },
     "execution_count": 19,
     "metadata": {},
     "output_type": "execute_result"
    }
   ],
   "source": [
    "int('10')"
   ]
  },
  {
   "cell_type": "code",
   "execution_count": 20,
   "id": "d0e53149",
   "metadata": {},
   "outputs": [
    {
     "data": {
      "text/plain": [
       "'[1,2,3,4,5]'"
      ]
     },
     "execution_count": 20,
     "metadata": {},
     "output_type": "execute_result"
    }
   ],
   "source": [
    "n1"
   ]
  },
  {
   "cell_type": "code",
   "execution_count": 21,
   "id": "69b7bf95",
   "metadata": {},
   "outputs": [
    {
     "data": {
      "text/plain": [
       "['[', '1', ',', '2', ',', '3', ',', '4', ',', '5', ']']"
      ]
     },
     "execution_count": 21,
     "metadata": {},
     "output_type": "execute_result"
    }
   ],
   "source": [
    "list(n1)"
   ]
  },
  {
   "cell_type": "code",
   "execution_count": 22,
   "id": "298a0920",
   "metadata": {},
   "outputs": [
    {
     "data": {
      "text/plain": [
       "['v', 'i', 'r', 'a', 'j']"
      ]
     },
     "execution_count": 22,
     "metadata": {},
     "output_type": "execute_result"
    }
   ],
   "source": [
    "list('viraj')"
   ]
  },
  {
   "cell_type": "code",
   "execution_count": 23,
   "id": "d52329b2",
   "metadata": {},
   "outputs": [
    {
     "data": {
      "text/plain": [
       "'[1,2,3,4,5]'"
      ]
     },
     "execution_count": 23,
     "metadata": {},
     "output_type": "execute_result"
    }
   ],
   "source": [
    "n1"
   ]
  },
  {
   "cell_type": "markdown",
   "id": "f718bb83",
   "metadata": {},
   "source": [
    "# dict"
   ]
  },
  {
   "cell_type": "code",
   "execution_count": null,
   "id": "a038889c",
   "metadata": {},
   "outputs": [],
   "source": [
    "what is dict?\n",
    "    -> key, value pair\n",
    "    \n",
    "where to use it?\n",
    "    -> Your intrested to store student details.\n",
    "        -> name -> value\n",
    "        -> curse -> value\n",
    "        -> fees -> value\n",
    "        \n",
    "Syntax:\n",
    "    If I want to create empty dict?\n",
    "    \n",
    "    variable_name = dict() # this is \n",
    "    #or\n",
    "    variable_name = {}\n",
    "    "
   ]
  },
  {
   "cell_type": "code",
   "execution_count": 24,
   "id": "d9e71a84",
   "metadata": {},
   "outputs": [],
   "source": [
    "student_details = {'name': 'viraj', 'course': 'python'}"
   ]
  },
  {
   "cell_type": "code",
   "execution_count": null,
   "id": "e6610210",
   "metadata": {},
   "outputs": [],
   "source": [
    "1] student_details is variable which type is dict.\n",
    "2] student_details is contains two keys and value.\n",
    "    -> name and course are key\n",
    "    -> viraj and python are value.\n",
    "3] How to access dict element?\n",
    "    -> We can access any value by it's key\n",
    "    -> There are two ways to access element.\n",
    "        1] varaible_name['key_name'] # this will return value.\n",
    "        2] variable_name.get('key_name') # this will return value.\n",
    "        \n",
    "    Why we have two different methods.\n",
    "        1] As soon as you use .get method if the key is not present then it will not going to give any error.\n",
    "           It will return None.\n",
    "        2] WHere as if we use [] with key name and key is not present it will through an error.\n",
    "        \n",
    "4] We can modify dict value as well as key.\n",
    "5] Dict is ordered collection of data from python3.6>"
   ]
  },
  {
   "cell_type": "code",
   "execution_count": 25,
   "id": "3208aa73",
   "metadata": {},
   "outputs": [
    {
     "data": {
      "text/plain": [
       "{'name': 'viraj', 'course': 'python'}"
      ]
     },
     "execution_count": 25,
     "metadata": {},
     "output_type": "execute_result"
    }
   ],
   "source": [
    "student_details"
   ]
  },
  {
   "cell_type": "code",
   "execution_count": 26,
   "id": "9a547ba0",
   "metadata": {},
   "outputs": [
    {
     "data": {
      "text/plain": [
       "'viraj'"
      ]
     },
     "execution_count": 26,
     "metadata": {},
     "output_type": "execute_result"
    }
   ],
   "source": [
    "student_details['name']"
   ]
  },
  {
   "cell_type": "code",
   "execution_count": 27,
   "id": "61356680",
   "metadata": {},
   "outputs": [
    {
     "data": {
      "text/plain": [
       "'viraj'"
      ]
     },
     "execution_count": 27,
     "metadata": {},
     "output_type": "execute_result"
    }
   ],
   "source": [
    "student_details.get('name')"
   ]
  },
  {
   "cell_type": "code",
   "execution_count": 28,
   "id": "fad71bea",
   "metadata": {},
   "outputs": [
    {
     "ename": "KeyError",
     "evalue": "'fees'",
     "output_type": "error",
     "traceback": [
      "\u001b[1;31m---------------------------------------------------------------------------\u001b[0m",
      "\u001b[1;31mKeyError\u001b[0m                                  Traceback (most recent call last)",
      "\u001b[1;32m<ipython-input-28-bbff9e46ca8a>\u001b[0m in \u001b[0;36m<module>\u001b[1;34m\u001b[0m\n\u001b[1;32m----> 1\u001b[1;33m \u001b[0mstudent_details\u001b[0m\u001b[1;33m[\u001b[0m\u001b[1;34m'fees'\u001b[0m\u001b[1;33m]\u001b[0m\u001b[1;33m\u001b[0m\u001b[1;33m\u001b[0m\u001b[0m\n\u001b[0m",
      "\u001b[1;31mKeyError\u001b[0m: 'fees'"
     ]
    }
   ],
   "source": [
    "student_details['fees']"
   ]
  },
  {
   "cell_type": "code",
   "execution_count": 29,
   "id": "f02f2638",
   "metadata": {},
   "outputs": [],
   "source": [
    "student_details.get('fees')"
   ]
  },
  {
   "cell_type": "code",
   "execution_count": 30,
   "id": "f4f986c0",
   "metadata": {},
   "outputs": [
    {
     "data": {
      "text/plain": [
       "dict"
      ]
     },
     "execution_count": 30,
     "metadata": {},
     "output_type": "execute_result"
    }
   ],
   "source": [
    "type(student_details)"
   ]
  },
  {
   "cell_type": "code",
   "execution_count": 31,
   "id": "674b83b6",
   "metadata": {},
   "outputs": [
    {
     "name": "stdout",
     "output_type": "stream",
     "text": [
      "['__class__', '__contains__', '__delattr__', '__delitem__', '__dir__', '__doc__', '__eq__', '__format__', '__ge__', '__getattribute__', '__getitem__', '__gt__', '__hash__', '__init__', '__init_subclass__', '__iter__', '__le__', '__len__', '__lt__', '__ne__', '__new__', '__reduce__', '__reduce_ex__', '__repr__', '__reversed__', '__setattr__', '__setitem__', '__sizeof__', '__str__', '__subclasshook__', 'clear', 'copy', 'fromkeys', 'get', 'items', 'keys', 'pop', 'popitem', 'setdefault', 'update', 'values']\n"
     ]
    }
   ],
   "source": [
    "print(dir(student_details))"
   ]
  },
  {
   "cell_type": "code",
   "execution_count": 32,
   "id": "60d847e8",
   "metadata": {},
   "outputs": [
    {
     "name": "stdout",
     "output_type": "stream",
     "text": [
      "Help on method_descriptor:\n",
      "\n",
      "get(self, key, default=None, /)\n",
      "    Return the value for key if key is in the dictionary, else default.\n",
      "\n"
     ]
    }
   ],
   "source": [
    "help(dict.get)"
   ]
  },
  {
   "cell_type": "code",
   "execution_count": 33,
   "id": "f9c80774",
   "metadata": {},
   "outputs": [
    {
     "data": {
      "text/plain": [
       "NoneType"
      ]
     },
     "execution_count": 33,
     "metadata": {},
     "output_type": "execute_result"
    }
   ],
   "source": [
    "type(student_details.get('fees'))"
   ]
  },
  {
   "cell_type": "code",
   "execution_count": 34,
   "id": "7fd1c3af",
   "metadata": {},
   "outputs": [
    {
     "data": {
      "text/plain": [
       "NoneType"
      ]
     },
     "execution_count": 34,
     "metadata": {},
     "output_type": "execute_result"
    }
   ],
   "source": [
    "type(None)"
   ]
  },
  {
   "cell_type": "markdown",
   "id": "fdae20c0",
   "metadata": {},
   "source": [
    "## clear"
   ]
  },
  {
   "cell_type": "code",
   "execution_count": 35,
   "id": "25ac0420",
   "metadata": {},
   "outputs": [],
   "source": [
    "s1 = {'name': 'viraj'}"
   ]
  },
  {
   "cell_type": "code",
   "execution_count": 36,
   "id": "f9b48d37",
   "metadata": {},
   "outputs": [
    {
     "data": {
      "text/plain": [
       "{'name': 'viraj'}"
      ]
     },
     "execution_count": 36,
     "metadata": {},
     "output_type": "execute_result"
    }
   ],
   "source": [
    "s1"
   ]
  },
  {
   "cell_type": "code",
   "execution_count": 37,
   "id": "b759ee93",
   "metadata": {},
   "outputs": [
    {
     "name": "stdout",
     "output_type": "stream",
     "text": [
      "Help on method_descriptor:\n",
      "\n",
      "clear(...)\n",
      "    D.clear() -> None.  Remove all items from D.\n",
      "\n"
     ]
    }
   ],
   "source": [
    "help(dict.clear)"
   ]
  },
  {
   "cell_type": "code",
   "execution_count": 38,
   "id": "c482c6cd",
   "metadata": {},
   "outputs": [
    {
     "data": {
      "text/plain": [
       "{'name': 'viraj'}"
      ]
     },
     "execution_count": 38,
     "metadata": {},
     "output_type": "execute_result"
    }
   ],
   "source": [
    "s1"
   ]
  },
  {
   "cell_type": "code",
   "execution_count": 39,
   "id": "6e46fdad",
   "metadata": {},
   "outputs": [],
   "source": [
    "s1.clear()"
   ]
  },
  {
   "cell_type": "code",
   "execution_count": 40,
   "id": "433f11ab",
   "metadata": {},
   "outputs": [
    {
     "data": {
      "text/plain": [
       "{}"
      ]
     },
     "execution_count": 40,
     "metadata": {},
     "output_type": "execute_result"
    }
   ],
   "source": [
    "s1"
   ]
  },
  {
   "cell_type": "markdown",
   "id": "6f8ba0a3",
   "metadata": {},
   "source": [
    "## copy"
   ]
  },
  {
   "cell_type": "code",
   "execution_count": 41,
   "id": "fe8c274b",
   "metadata": {},
   "outputs": [],
   "source": [
    "s1 = {'name': 'viraj', 'course':'python', 'isfresher': False}"
   ]
  },
  {
   "cell_type": "code",
   "execution_count": 42,
   "id": "e8f0e2a5",
   "metadata": {},
   "outputs": [
    {
     "data": {
      "text/plain": [
       "{'name': 'viraj', 'course': 'python', 'isfresher': False}"
      ]
     },
     "execution_count": 42,
     "metadata": {},
     "output_type": "execute_result"
    }
   ],
   "source": [
    "s1"
   ]
  },
  {
   "cell_type": "code",
   "execution_count": 43,
   "id": "732e201f",
   "metadata": {},
   "outputs": [
    {
     "data": {
      "text/plain": [
       "dict"
      ]
     },
     "execution_count": 43,
     "metadata": {},
     "output_type": "execute_result"
    }
   ],
   "source": [
    "type(s1)"
   ]
  },
  {
   "cell_type": "code",
   "execution_count": 44,
   "id": "770b6e59",
   "metadata": {},
   "outputs": [
    {
     "name": "stdout",
     "output_type": "stream",
     "text": [
      "Help on built-in function copy:\n",
      "\n",
      "copy(...) method of builtins.dict instance\n",
      "    D.copy() -> a shallow copy of D\n",
      "\n"
     ]
    }
   ],
   "source": [
    "help(s1.copy)"
   ]
  },
  {
   "cell_type": "code",
   "execution_count": 45,
   "id": "754bea73",
   "metadata": {},
   "outputs": [],
   "source": [
    "s2 = s1.copy()"
   ]
  },
  {
   "cell_type": "code",
   "execution_count": 46,
   "id": "8e30c39d",
   "metadata": {},
   "outputs": [
    {
     "data": {
      "text/plain": [
       "{'name': 'viraj', 'course': 'python', 'isfresher': False}"
      ]
     },
     "execution_count": 46,
     "metadata": {},
     "output_type": "execute_result"
    }
   ],
   "source": [
    "s2"
   ]
  },
  {
   "cell_type": "markdown",
   "id": "97dbc8c5",
   "metadata": {},
   "source": [
    "## fromkeys"
   ]
  },
  {
   "cell_type": "code",
   "execution_count": 47,
   "id": "b3f57074",
   "metadata": {},
   "outputs": [
    {
     "name": "stdout",
     "output_type": "stream",
     "text": [
      "Help on built-in function fromkeys:\n",
      "\n",
      "fromkeys(iterable, value=None, /) method of builtins.type instance\n",
      "    Create a new dictionary with keys from iterable and values set to value.\n",
      "\n"
     ]
    }
   ],
   "source": [
    "help(dict.fromkeys)"
   ]
  },
  {
   "cell_type": "code",
   "execution_count": 48,
   "id": "1674b919",
   "metadata": {},
   "outputs": [],
   "source": [
    "input_keys = {'name', 'course'}\n",
    "default_value = 'none'"
   ]
  },
  {
   "cell_type": "code",
   "execution_count": 50,
   "id": "7cdf9cf6",
   "metadata": {},
   "outputs": [],
   "source": [
    "s3 = dict.fromkeys(input_keys, default_value)"
   ]
  },
  {
   "cell_type": "code",
   "execution_count": 51,
   "id": "b21134f4",
   "metadata": {},
   "outputs": [
    {
     "data": {
      "text/plain": [
       "{'course': 'none', 'name': 'none'}"
      ]
     },
     "execution_count": 51,
     "metadata": {},
     "output_type": "execute_result"
    }
   ],
   "source": [
    "s3"
   ]
  },
  {
   "cell_type": "markdown",
   "id": "577c72a0",
   "metadata": {},
   "source": [
    "## get"
   ]
  },
  {
   "cell_type": "code",
   "execution_count": 53,
   "id": "c140ae89",
   "metadata": {},
   "outputs": [
    {
     "data": {
      "text/plain": [
       "{'name': 'viraj', 'course': 'python', 'isfresher': False}"
      ]
     },
     "execution_count": 53,
     "metadata": {},
     "output_type": "execute_result"
    }
   ],
   "source": [
    "s2"
   ]
  },
  {
   "cell_type": "code",
   "execution_count": 57,
   "id": "892470b2",
   "metadata": {},
   "outputs": [],
   "source": [
    "s2.get('isfresher')"
   ]
  },
  {
   "cell_type": "markdown",
   "id": "c5949931",
   "metadata": {},
   "source": [
    "## items"
   ]
  },
  {
   "cell_type": "code",
   "execution_count": 58,
   "id": "05d700a9",
   "metadata": {},
   "outputs": [
    {
     "data": {
      "text/plain": [
       "{'name': 'viraj', 'course': 'python', 'isfresher': False}"
      ]
     },
     "execution_count": 58,
     "metadata": {},
     "output_type": "execute_result"
    }
   ],
   "source": [
    "s2"
   ]
  },
  {
   "cell_type": "code",
   "execution_count": 59,
   "id": "84a81a16",
   "metadata": {},
   "outputs": [
    {
     "name": "stdout",
     "output_type": "stream",
     "text": [
      "Help on built-in function items:\n",
      "\n",
      "items(...) method of builtins.dict instance\n",
      "    D.items() -> a set-like object providing a view on D's items\n",
      "\n"
     ]
    }
   ],
   "source": [
    "help(s2.items)"
   ]
  },
  {
   "cell_type": "code",
   "execution_count": 60,
   "id": "7b4aa638",
   "metadata": {},
   "outputs": [
    {
     "data": {
      "text/plain": [
       "dict_items([('name', 'viraj'), ('course', 'python'), ('isfresher', False)])"
      ]
     },
     "execution_count": 60,
     "metadata": {},
     "output_type": "execute_result"
    }
   ],
   "source": [
    "s2.items()"
   ]
  },
  {
   "cell_type": "markdown",
   "id": "982b17e6",
   "metadata": {},
   "source": [
    "## keys"
   ]
  },
  {
   "cell_type": "code",
   "execution_count": 61,
   "id": "e0a00e18",
   "metadata": {},
   "outputs": [
    {
     "data": {
      "text/plain": [
       "{'name': 'viraj', 'course': 'python', 'isfresher': False}"
      ]
     },
     "execution_count": 61,
     "metadata": {},
     "output_type": "execute_result"
    }
   ],
   "source": [
    "s2"
   ]
  },
  {
   "cell_type": "code",
   "execution_count": 62,
   "id": "2aafe9b1",
   "metadata": {},
   "outputs": [
    {
     "data": {
      "text/plain": [
       "dict_keys(['name', 'course', 'isfresher'])"
      ]
     },
     "execution_count": 62,
     "metadata": {},
     "output_type": "execute_result"
    }
   ],
   "source": [
    "s2.keys()"
   ]
  },
  {
   "cell_type": "markdown",
   "id": "685f154f",
   "metadata": {},
   "source": [
    "## pop"
   ]
  },
  {
   "cell_type": "code",
   "execution_count": 63,
   "id": "29060dec",
   "metadata": {},
   "outputs": [
    {
     "name": "stdout",
     "output_type": "stream",
     "text": [
      "Help on built-in function pop:\n",
      "\n",
      "pop(...) method of builtins.dict instance\n",
      "    D.pop(k[,d]) -> v, remove specified key and return the corresponding value.\n",
      "    If key is not found, d is returned if given, otherwise KeyError is raised\n",
      "\n"
     ]
    }
   ],
   "source": [
    "help(s2.pop)"
   ]
  },
  {
   "cell_type": "code",
   "execution_count": 64,
   "id": "f6c43271",
   "metadata": {},
   "outputs": [
    {
     "data": {
      "text/plain": [
       "{'name': 'viraj', 'course': 'python', 'isfresher': False}"
      ]
     },
     "execution_count": 64,
     "metadata": {},
     "output_type": "execute_result"
    }
   ],
   "source": [
    "s2"
   ]
  },
  {
   "cell_type": "code",
   "execution_count": 65,
   "id": "9eb8dac8",
   "metadata": {},
   "outputs": [
    {
     "data": {
      "text/plain": [
       "False"
      ]
     },
     "execution_count": 65,
     "metadata": {},
     "output_type": "execute_result"
    }
   ],
   "source": [
    "s2.pop('isfresher')"
   ]
  },
  {
   "cell_type": "code",
   "execution_count": 66,
   "id": "321b1e13",
   "metadata": {},
   "outputs": [
    {
     "data": {
      "text/plain": [
       "{'name': 'viraj', 'course': 'python'}"
      ]
     },
     "execution_count": 66,
     "metadata": {},
     "output_type": "execute_result"
    }
   ],
   "source": [
    "s2"
   ]
  },
  {
   "cell_type": "code",
   "execution_count": 67,
   "id": "b37d3761",
   "metadata": {},
   "outputs": [
    {
     "ename": "KeyError",
     "evalue": "'isfresher'",
     "output_type": "error",
     "traceback": [
      "\u001b[1;31m---------------------------------------------------------------------------\u001b[0m",
      "\u001b[1;31mKeyError\u001b[0m                                  Traceback (most recent call last)",
      "\u001b[1;32m<ipython-input-67-42cbcb523879>\u001b[0m in \u001b[0;36m<module>\u001b[1;34m\u001b[0m\n\u001b[1;32m----> 1\u001b[1;33m \u001b[0ms2\u001b[0m\u001b[1;33m.\u001b[0m\u001b[0mpop\u001b[0m\u001b[1;33m(\u001b[0m\u001b[1;34m'isfresher'\u001b[0m\u001b[1;33m)\u001b[0m\u001b[1;33m\u001b[0m\u001b[1;33m\u001b[0m\u001b[0m\n\u001b[0m",
      "\u001b[1;31mKeyError\u001b[0m: 'isfresher'"
     ]
    }
   ],
   "source": [
    "s2.pop('isfresher')"
   ]
  },
  {
   "cell_type": "markdown",
   "id": "be2d5432",
   "metadata": {},
   "source": [
    "## popitem"
   ]
  },
  {
   "cell_type": "code",
   "execution_count": 68,
   "id": "a5ab0c02",
   "metadata": {},
   "outputs": [
    {
     "name": "stdout",
     "output_type": "stream",
     "text": [
      "Help on built-in function popitem:\n",
      "\n",
      "popitem() method of builtins.dict instance\n",
      "    Remove and return a (key, value) pair as a 2-tuple.\n",
      "    \n",
      "    Pairs are returned in LIFO (last-in, first-out) order.\n",
      "    Raises KeyError if the dict is empty.\n",
      "\n"
     ]
    }
   ],
   "source": [
    "help(s2.popitem)"
   ]
  },
  {
   "cell_type": "code",
   "execution_count": 69,
   "id": "3563840a",
   "metadata": {},
   "outputs": [
    {
     "data": {
      "text/plain": [
       "{'name': 'viraj', 'course': 'python'}"
      ]
     },
     "execution_count": 69,
     "metadata": {},
     "output_type": "execute_result"
    }
   ],
   "source": [
    "s2"
   ]
  },
  {
   "cell_type": "code",
   "execution_count": 70,
   "id": "7db6b855",
   "metadata": {},
   "outputs": [
    {
     "data": {
      "text/plain": [
       "('course', 'python')"
      ]
     },
     "execution_count": 70,
     "metadata": {},
     "output_type": "execute_result"
    }
   ],
   "source": [
    "s2.popitem()"
   ]
  },
  {
   "cell_type": "code",
   "execution_count": 71,
   "id": "c6dc7288",
   "metadata": {},
   "outputs": [
    {
     "data": {
      "text/plain": [
       "{'name': 'viraj'}"
      ]
     },
     "execution_count": 71,
     "metadata": {},
     "output_type": "execute_result"
    }
   ],
   "source": [
    "s2"
   ]
  },
  {
   "cell_type": "markdown",
   "id": "8837a431",
   "metadata": {},
   "source": [
    "## setdefault"
   ]
  },
  {
   "cell_type": "code",
   "execution_count": 72,
   "id": "51e446cc",
   "metadata": {},
   "outputs": [
    {
     "name": "stdout",
     "output_type": "stream",
     "text": [
      "Help on built-in function setdefault:\n",
      "\n",
      "setdefault(key, default=None, /) method of builtins.dict instance\n",
      "    Insert key with a value of default if key is not in the dictionary.\n",
      "    \n",
      "    Return the value for key if key is in the dictionary, else default.\n",
      "\n"
     ]
    }
   ],
   "source": [
    "help(s2.setdefault)"
   ]
  },
  {
   "cell_type": "code",
   "execution_count": 73,
   "id": "3e148e25",
   "metadata": {},
   "outputs": [
    {
     "data": {
      "text/plain": [
       "{'name': 'viraj'}"
      ]
     },
     "execution_count": 73,
     "metadata": {},
     "output_type": "execute_result"
    }
   ],
   "source": [
    "s2"
   ]
  },
  {
   "cell_type": "code",
   "execution_count": 74,
   "id": "2c2eb67a",
   "metadata": {},
   "outputs": [
    {
     "data": {
      "text/plain": [
       "'viraj'"
      ]
     },
     "execution_count": 74,
     "metadata": {},
     "output_type": "execute_result"
    }
   ],
   "source": [
    "s2.setdefault('name', 'ravi')"
   ]
  },
  {
   "cell_type": "code",
   "execution_count": 75,
   "id": "9000673a",
   "metadata": {},
   "outputs": [
    {
     "data": {
      "text/plain": [
       "{'name': 'viraj'}"
      ]
     },
     "execution_count": 75,
     "metadata": {},
     "output_type": "execute_result"
    }
   ],
   "source": [
    "s2"
   ]
  },
  {
   "cell_type": "code",
   "execution_count": 76,
   "id": "7edb40da",
   "metadata": {},
   "outputs": [
    {
     "data": {
      "text/plain": [
       "'python'"
      ]
     },
     "execution_count": 76,
     "metadata": {},
     "output_type": "execute_result"
    }
   ],
   "source": [
    "s2.setdefault('course', 'python')"
   ]
  },
  {
   "cell_type": "code",
   "execution_count": 77,
   "id": "35256f9e",
   "metadata": {},
   "outputs": [
    {
     "data": {
      "text/plain": [
       "{'name': 'viraj', 'course': 'python'}"
      ]
     },
     "execution_count": 77,
     "metadata": {},
     "output_type": "execute_result"
    }
   ],
   "source": [
    "s2"
   ]
  },
  {
   "cell_type": "markdown",
   "id": "07c6c984",
   "metadata": {},
   "source": [
    "## update"
   ]
  },
  {
   "cell_type": "code",
   "execution_count": 78,
   "id": "6702b9e4",
   "metadata": {},
   "outputs": [
    {
     "name": "stdout",
     "output_type": "stream",
     "text": [
      "Help on built-in function update:\n",
      "\n",
      "update(...) method of builtins.dict instance\n",
      "    D.update([E, ]**F) -> None.  Update D from dict/iterable E and F.\n",
      "    If E is present and has a .keys() method, then does:  for k in E: D[k] = E[k]\n",
      "    If E is present and lacks a .keys() method, then does:  for k, v in E: D[k] = v\n",
      "    In either case, this is followed by: for k in F:  D[k] = F[k]\n",
      "\n"
     ]
    }
   ],
   "source": [
    "help(s2.update)"
   ]
  },
  {
   "cell_type": "code",
   "execution_count": 79,
   "id": "288689bd",
   "metadata": {},
   "outputs": [
    {
     "data": {
      "text/plain": [
       "{'name': 'viraj', 'course': 'python'}"
      ]
     },
     "execution_count": 79,
     "metadata": {},
     "output_type": "execute_result"
    }
   ],
   "source": [
    "s2"
   ]
  },
  {
   "cell_type": "code",
   "execution_count": 80,
   "id": "1f472c86",
   "metadata": {},
   "outputs": [],
   "source": [
    "s2.update({'isfresher': 'Yes'})"
   ]
  },
  {
   "cell_type": "code",
   "execution_count": 81,
   "id": "5d223f04",
   "metadata": {},
   "outputs": [
    {
     "data": {
      "text/plain": [
       "{'name': 'viraj', 'course': 'python', 'isfresher': 'Yes'}"
      ]
     },
     "execution_count": 81,
     "metadata": {},
     "output_type": "execute_result"
    }
   ],
   "source": [
    "s2"
   ]
  },
  {
   "cell_type": "code",
   "execution_count": 87,
   "id": "37c4bdab",
   "metadata": {},
   "outputs": [
    {
     "data": {
      "text/plain": [
       "{'name': 'ravi', 'course': 'python', 'isfresher': 'Yes'}"
      ]
     },
     "execution_count": 87,
     "metadata": {},
     "output_type": "execute_result"
    }
   ],
   "source": [
    "s2"
   ]
  },
  {
   "cell_type": "code",
   "execution_count": 88,
   "id": "43531df9",
   "metadata": {},
   "outputs": [],
   "source": [
    "s2.update({'name':'viraj'})"
   ]
  },
  {
   "cell_type": "code",
   "execution_count": 89,
   "id": "f217ca46",
   "metadata": {},
   "outputs": [
    {
     "data": {
      "text/plain": [
       "{'name': 'viraj', 'course': 'python', 'isfresher': 'Yes'}"
      ]
     },
     "execution_count": 89,
     "metadata": {},
     "output_type": "execute_result"
    }
   ],
   "source": [
    "s2"
   ]
  },
  {
   "cell_type": "code",
   "execution_count": 90,
   "id": "003603e3",
   "metadata": {},
   "outputs": [],
   "source": [
    "s2.update({'course': 'django'})"
   ]
  },
  {
   "cell_type": "code",
   "execution_count": 91,
   "id": "fac8cba8",
   "metadata": {},
   "outputs": [
    {
     "data": {
      "text/plain": [
       "{'name': 'viraj', 'course': 'django', 'isfresher': 'Yes'}"
      ]
     },
     "execution_count": 91,
     "metadata": {},
     "output_type": "execute_result"
    }
   ],
   "source": [
    "s2"
   ]
  },
  {
   "cell_type": "markdown",
   "id": "033a3d71",
   "metadata": {},
   "source": [
    "## values"
   ]
  },
  {
   "cell_type": "code",
   "execution_count": 82,
   "id": "bee0d753",
   "metadata": {},
   "outputs": [
    {
     "data": {
      "text/plain": [
       "dict_values(['viraj', 'python', 'Yes'])"
      ]
     },
     "execution_count": 82,
     "metadata": {},
     "output_type": "execute_result"
    }
   ],
   "source": [
    "s2.values()"
   ]
  },
  {
   "cell_type": "markdown",
   "id": "cbbcfa3f",
   "metadata": {},
   "source": [
    "## hwo to pudate value of dict"
   ]
  },
  {
   "cell_type": "code",
   "execution_count": 83,
   "id": "a4fa83a9",
   "metadata": {},
   "outputs": [
    {
     "data": {
      "text/plain": [
       "{'name': 'viraj', 'course': 'python', 'isfresher': 'Yes'}"
      ]
     },
     "execution_count": 83,
     "metadata": {},
     "output_type": "execute_result"
    }
   ],
   "source": [
    "s2"
   ]
  },
  {
   "cell_type": "code",
   "execution_count": 84,
   "id": "b5e640d6",
   "metadata": {},
   "outputs": [
    {
     "data": {
      "text/plain": [
       "'viraj'"
      ]
     },
     "execution_count": 84,
     "metadata": {},
     "output_type": "execute_result"
    }
   ],
   "source": [
    "s2['name']"
   ]
  },
  {
   "cell_type": "code",
   "execution_count": 85,
   "id": "9d881637",
   "metadata": {},
   "outputs": [],
   "source": [
    "s2['name'] = 'ravi'"
   ]
  },
  {
   "cell_type": "code",
   "execution_count": 86,
   "id": "a91233d8",
   "metadata": {},
   "outputs": [
    {
     "data": {
      "text/plain": [
       "{'name': 'ravi', 'course': 'python', 'isfresher': 'Yes'}"
      ]
     },
     "execution_count": 86,
     "metadata": {},
     "output_type": "execute_result"
    }
   ],
   "source": [
    "s2"
   ]
  },
  {
   "cell_type": "code",
   "execution_count": null,
   "id": "30d312b2",
   "metadata": {},
   "outputs": [],
   "source": []
  },
  {
   "cell_type": "code",
   "execution_count": 92,
   "id": "fb9531f4",
   "metadata": {},
   "outputs": [],
   "source": [
    "employee_details = {'name':'vijay', 'dept': 'sales'}"
   ]
  },
  {
   "cell_type": "code",
   "execution_count": 93,
   "id": "38124c01",
   "metadata": {},
   "outputs": [
    {
     "data": {
      "text/plain": [
       "{'name': 'vijay', 'dept': 'sales'}"
      ]
     },
     "execution_count": 93,
     "metadata": {},
     "output_type": "execute_result"
    }
   ],
   "source": [
    "employee_details"
   ]
  },
  {
   "cell_type": "code",
   "execution_count": 94,
   "id": "81cb33ed",
   "metadata": {},
   "outputs": [
    {
     "data": {
      "text/plain": [
       "'vijay'"
      ]
     },
     "execution_count": 94,
     "metadata": {},
     "output_type": "execute_result"
    }
   ],
   "source": [
    "employee_details['name']"
   ]
  },
  {
   "cell_type": "code",
   "execution_count": 95,
   "id": "6d69d7c5",
   "metadata": {},
   "outputs": [
    {
     "data": {
      "text/plain": [
       "'vijay'"
      ]
     },
     "execution_count": 95,
     "metadata": {},
     "output_type": "execute_result"
    }
   ],
   "source": [
    "employee_details.get('name')"
   ]
  },
  {
   "cell_type": "code",
   "execution_count": 96,
   "id": "5a24c5fc",
   "metadata": {},
   "outputs": [],
   "source": [
    "employee_details.get('salary')"
   ]
  },
  {
   "cell_type": "code",
   "execution_count": 97,
   "id": "f80c750c",
   "metadata": {},
   "outputs": [
    {
     "ename": "KeyError",
     "evalue": "'salary'",
     "output_type": "error",
     "traceback": [
      "\u001b[1;31m---------------------------------------------------------------------------\u001b[0m",
      "\u001b[1;31mKeyError\u001b[0m                                  Traceback (most recent call last)",
      "\u001b[1;32m<ipython-input-97-69dda4380fdf>\u001b[0m in \u001b[0;36m<module>\u001b[1;34m\u001b[0m\n\u001b[1;32m----> 1\u001b[1;33m \u001b[0memployee_details\u001b[0m\u001b[1;33m[\u001b[0m\u001b[1;34m'salary'\u001b[0m\u001b[1;33m]\u001b[0m\u001b[1;33m\u001b[0m\u001b[1;33m\u001b[0m\u001b[0m\n\u001b[0m",
      "\u001b[1;31mKeyError\u001b[0m: 'salary'"
     ]
    }
   ],
   "source": [
    "employee_details['salary']"
   ]
  },
  {
   "cell_type": "code",
   "execution_count": 98,
   "id": "59634577",
   "metadata": {},
   "outputs": [
    {
     "data": {
      "text/plain": [
       "NoneType"
      ]
     },
     "execution_count": 98,
     "metadata": {},
     "output_type": "execute_result"
    }
   ],
   "source": [
    "type(employee_details.get('salary'))"
   ]
  },
  {
   "cell_type": "code",
   "execution_count": 99,
   "id": "904a59ff",
   "metadata": {},
   "outputs": [
    {
     "ename": "KeyError",
     "evalue": "'salary'",
     "output_type": "error",
     "traceback": [
      "\u001b[1;31m---------------------------------------------------------------------------\u001b[0m",
      "\u001b[1;31mKeyError\u001b[0m                                  Traceback (most recent call last)",
      "\u001b[1;32m<ipython-input-99-d7404fb2e5a8>\u001b[0m in \u001b[0;36m<module>\u001b[1;34m\u001b[0m\n\u001b[1;32m----> 1\u001b[1;33m \u001b[0mtype\u001b[0m\u001b[1;33m(\u001b[0m\u001b[0memployee_details\u001b[0m\u001b[1;33m[\u001b[0m\u001b[1;34m'salary'\u001b[0m\u001b[1;33m]\u001b[0m\u001b[1;33m)\u001b[0m\u001b[1;33m\u001b[0m\u001b[1;33m\u001b[0m\u001b[0m\n\u001b[0m",
      "\u001b[1;31mKeyError\u001b[0m: 'salary'"
     ]
    }
   ],
   "source": [
    "type(employee_details['salary'])"
   ]
  },
  {
   "cell_type": "code",
   "execution_count": 100,
   "id": "ed0035fe",
   "metadata": {},
   "outputs": [
    {
     "name": "stdout",
     "output_type": "stream",
     "text": [
      "Help on method_descriptor:\n",
      "\n",
      "get(self, key, default=None, /)\n",
      "    Return the value for key if key is in the dictionary, else default.\n",
      "\n"
     ]
    }
   ],
   "source": [
    "help(dict.get)"
   ]
  },
  {
   "cell_type": "markdown",
   "id": "d5412bf8",
   "metadata": {},
   "source": [
    "## ord and chr"
   ]
  },
  {
   "cell_type": "code",
   "execution_count": null,
   "id": "3ec92110",
   "metadata": {},
   "outputs": [],
   "source": [
    "What is built-in function?\n",
    "    -> Which are wrtten and created in python we can directly use it.\n",
    "\n",
    "How many types of function?\n",
    "    -> User define function [we as developer]\n",
    "    -> Built-in function [print, help, type, get, append, ord, chr]"
   ]
  },
  {
   "cell_type": "code",
   "execution_count": null,
   "id": "2184e573",
   "metadata": {},
   "outputs": [],
   "source": [
    "ord -> I will take character as input which will be in str format and I will return unicode value.\n",
    "\n",
    "\n",
    "chr -> It will take unicode value and return character. Chr required number which is in int format."
   ]
  },
  {
   "cell_type": "code",
   "execution_count": 101,
   "id": "3c3136aa",
   "metadata": {},
   "outputs": [
    {
     "name": "stdout",
     "output_type": "stream",
     "text": [
      "Help on built-in function ord in module builtins:\n",
      "\n",
      "ord(c, /)\n",
      "    Return the Unicode code point for a one-character string.\n",
      "\n"
     ]
    }
   ],
   "source": [
    "help(ord)"
   ]
  },
  {
   "cell_type": "code",
   "execution_count": 102,
   "id": "32dc1bb9",
   "metadata": {},
   "outputs": [
    {
     "name": "stdout",
     "output_type": "stream",
     "text": [
      "Help on built-in function chr in module builtins:\n",
      "\n",
      "chr(i, /)\n",
      "    Return a Unicode string of one character with ordinal i; 0 <= i <= 0x10ffff.\n",
      "\n"
     ]
    }
   ],
   "source": [
    "help(chr)"
   ]
  },
  {
   "cell_type": "code",
   "execution_count": 103,
   "id": "022a51e1",
   "metadata": {},
   "outputs": [
    {
     "data": {
      "text/plain": [
       "97"
      ]
     },
     "execution_count": 103,
     "metadata": {},
     "output_type": "execute_result"
    }
   ],
   "source": [
    "ord('a')"
   ]
  },
  {
   "cell_type": "code",
   "execution_count": 104,
   "id": "df0b34a2",
   "metadata": {},
   "outputs": [
    {
     "data": {
      "text/plain": [
       "'a'"
      ]
     },
     "execution_count": 104,
     "metadata": {},
     "output_type": "execute_result"
    }
   ],
   "source": [
    "chr(97)"
   ]
  },
  {
   "cell_type": "code",
   "execution_count": 105,
   "id": "dd568519",
   "metadata": {},
   "outputs": [
    {
     "data": {
      "text/plain": [
       "49"
      ]
     },
     "execution_count": 105,
     "metadata": {},
     "output_type": "execute_result"
    }
   ],
   "source": [
    "ord('1')"
   ]
  },
  {
   "cell_type": "code",
   "execution_count": 106,
   "id": "9a7cc717",
   "metadata": {},
   "outputs": [
    {
     "data": {
      "text/plain": [
       "'3'"
      ]
     },
     "execution_count": 106,
     "metadata": {},
     "output_type": "execute_result"
    }
   ],
   "source": [
    "chr(51)"
   ]
  },
  {
   "cell_type": "code",
   "execution_count": 107,
   "id": "d87d7358",
   "metadata": {},
   "outputs": [],
   "source": [
    "n = ['a', 'b', 'c']"
   ]
  },
  {
   "cell_type": "code",
   "execution_count": 108,
   "id": "b57fb03f",
   "metadata": {},
   "outputs": [
    {
     "data": {
      "text/plain": [
       "['a', 'b', 'c']"
      ]
     },
     "execution_count": 108,
     "metadata": {},
     "output_type": "execute_result"
    }
   ],
   "source": [
    "n"
   ]
  },
  {
   "cell_type": "code",
   "execution_count": 109,
   "id": "7a03833e",
   "metadata": {},
   "outputs": [
    {
     "ename": "TypeError",
     "evalue": "'int' object is not iterable",
     "output_type": "error",
     "traceback": [
      "\u001b[1;31m---------------------------------------------------------------------------\u001b[0m",
      "\u001b[1;31mTypeError\u001b[0m                                 Traceback (most recent call last)",
      "\u001b[1;32m<ipython-input-109-1cbafe7afefa>\u001b[0m in \u001b[0;36m<module>\u001b[1;34m\u001b[0m\n\u001b[1;32m----> 1\u001b[1;33m \u001b[0mn\u001b[0m\u001b[1;33m.\u001b[0m\u001b[0mextend\u001b[0m\u001b[1;33m(\u001b[0m\u001b[1;36m70\u001b[0m\u001b[1;33m)\u001b[0m\u001b[1;33m\u001b[0m\u001b[1;33m\u001b[0m\u001b[0m\n\u001b[0m",
      "\u001b[1;31mTypeError\u001b[0m: 'int' object is not iterable"
     ]
    }
   ],
   "source": [
    "n.extend(70)"
   ]
  },
  {
   "cell_type": "code",
   "execution_count": 110,
   "id": "998cf312",
   "metadata": {},
   "outputs": [
    {
     "data": {
      "text/plain": [
       "['a', 'b', 'c']"
      ]
     },
     "execution_count": 110,
     "metadata": {},
     "output_type": "execute_result"
    }
   ],
   "source": [
    "n"
   ]
  },
  {
   "cell_type": "code",
   "execution_count": 111,
   "id": "e75e1cdc",
   "metadata": {},
   "outputs": [],
   "source": [
    "n.extend([80])"
   ]
  },
  {
   "cell_type": "code",
   "execution_count": 112,
   "id": "fb92df67",
   "metadata": {},
   "outputs": [
    {
     "data": {
      "text/plain": [
       "['a', 'b', 'c', 80]"
      ]
     },
     "execution_count": 112,
     "metadata": {},
     "output_type": "execute_result"
    }
   ],
   "source": [
    "n"
   ]
  },
  {
   "cell_type": "code",
   "execution_count": 1,
   "id": "9a8a164b",
   "metadata": {},
   "outputs": [],
   "source": [
    "n=[1,2,3,4,5,6,]"
   ]
  },
  {
   "cell_type": "code",
   "execution_count": 2,
   "id": "98a177a3",
   "metadata": {},
   "outputs": [
    {
     "data": {
      "text/plain": [
       "list"
      ]
     },
     "execution_count": 2,
     "metadata": {},
     "output_type": "execute_result"
    }
   ],
   "source": [
    "type(n)"
   ]
  },
  {
   "cell_type": "code",
   "execution_count": 3,
   "id": "c281a1ef",
   "metadata": {},
   "outputs": [],
   "source": [
    "n=(1,2,3,4,5,6)"
   ]
  },
  {
   "cell_type": "code",
   "execution_count": 4,
   "id": "a20e4ae9",
   "metadata": {},
   "outputs": [
    {
     "data": {
      "text/plain": [
       "tuple"
      ]
     },
     "execution_count": 4,
     "metadata": {},
     "output_type": "execute_result"
    }
   ],
   "source": [
    "type(n)"
   ]
  },
  {
   "cell_type": "code",
   "execution_count": null,
   "id": "fb52230c",
   "metadata": {},
   "outputs": [],
   "source": []
  }
 ],
 "metadata": {
  "kernelspec": {
   "display_name": "Python 3",
   "language": "python",
   "name": "python3"
  },
  "language_info": {
   "codemirror_mode": {
    "name": "ipython",
    "version": 3
   },
   "file_extension": ".py",
   "mimetype": "text/x-python",
   "name": "python",
   "nbconvert_exporter": "python",
   "pygments_lexer": "ipython3",
   "version": "3.8.8"
  }
 },
 "nbformat": 4,
 "nbformat_minor": 5
}
