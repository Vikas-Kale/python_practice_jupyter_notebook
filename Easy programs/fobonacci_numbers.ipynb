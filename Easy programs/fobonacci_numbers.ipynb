{
 "cells": [
  {
   "cell_type": "code",
   "execution_count": 1,
   "id": "8e7662af",
   "metadata": {
    "ExecuteTime": {
     "end_time": "2021-09-21T06:55:32.925622Z",
     "start_time": "2021-09-21T06:55:32.821621Z"
    }
   },
   "outputs": [
    {
     "name": "stdout",
     "output_type": "stream",
     "text": [
      "0 1 1 2 3 5 8 13 21 34 "
     ]
    }
   ],
   "source": [
    "fibo=lambda n:n if n<=1 else fibo(n-1) + fibo(n-2)\n",
    "for i in range(10):\n",
    "    fs=fibo(i)\n",
    "    print(fs,end=' ')\n",
    "    "
   ]
  },
  {
   "cell_type": "code",
   "execution_count": 2,
   "id": "00df44c7",
   "metadata": {
    "ExecuteTime": {
     "end_time": "2021-09-21T06:56:54.217496Z",
     "start_time": "2021-09-21T06:56:54.169498Z"
    }
   },
   "outputs": [
    {
     "name": "stdout",
     "output_type": "stream",
     "text": [
      "0 1 1 2 3 5 8 13 21 34 55 89 144 233 377 610 987 1597 2584 4181 "
     ]
    }
   ],
   "source": [
    "fibo=lambda n:n if n<=1 else fibo(n-1) + fibo(n-2)\n",
    "\n",
    "for i in range(20):\n",
    "    fs=fibo(i)\n",
    "    print(fs,end=\" \")"
   ]
  },
  {
   "cell_type": "code",
   "execution_count": 3,
   "id": "ddfef329",
   "metadata": {
    "ExecuteTime": {
     "end_time": "2021-09-21T06:58:24.114423Z",
     "start_time": "2021-09-21T06:58:22.962455Z"
    }
   },
   "outputs": [
    {
     "name": "stdout",
     "output_type": "stream",
     "text": [
      "55\n",
      "89\n",
      "144\n",
      "233\n",
      "377\n",
      "610\n",
      "987\n",
      "1597\n",
      "2584\n",
      "4181\n",
      "6765\n",
      "10946\n",
      "17711\n",
      "28657\n",
      "46368\n",
      "75025\n",
      "121393\n",
      "196418\n",
      "317811\n",
      "514229\n"
     ]
    }
   ],
   "source": [
    "fibo=lambda n:n if n<=1 else fibo(n-1) + fibo(n-2)\n",
    "for i in range(10,30):\n",
    "    fs=fibo(i)\n",
    "    print(fs)"
   ]
  },
  {
   "cell_type": "code",
   "execution_count": 1,
   "id": "a0953c6f",
   "metadata": {
    "ExecuteTime": {
     "end_time": "2021-09-21T07:05:20.176267Z",
     "start_time": "2021-09-21T07:05:20.136270Z"
    }
   },
   "outputs": [
    {
     "name": "stdout",
     "output_type": "stream",
     "text": [
      "0 1 1 2 3 5 8 13 21 34 55 89 "
     ]
    }
   ],
   "source": [
    "fibo=lambda n:n if n<=1 else fibo(n-1) + fibo(n-2)\n",
    "for i in range(12):\n",
    "    fs=fibo(i)\n",
    "    print(fs,end=\" \")"
   ]
  },
  {
   "cell_type": "code",
   "execution_count": null,
   "id": "0fd2fd9c",
   "metadata": {},
   "outputs": [],
   "source": []
  },
  {
   "cell_type": "code",
   "execution_count": null,
   "id": "4ea603aa",
   "metadata": {},
   "outputs": [],
   "source": []
  },
  {
   "cell_type": "code",
   "execution_count": null,
   "id": "a4aff7c2",
   "metadata": {},
   "outputs": [],
   "source": []
  },
  {
   "cell_type": "code",
   "execution_count": null,
   "id": "f6b31023",
   "metadata": {},
   "outputs": [],
   "source": []
  },
  {
   "cell_type": "code",
   "execution_count": 1,
   "id": "f1ddde92",
   "metadata": {
    "ExecuteTime": {
     "end_time": "2021-09-22T01:55:30.444557Z",
     "start_time": "2021-09-22T01:54:32.028213Z"
    }
   },
   "outputs": [
    {
     "name": "stdout",
     "output_type": "stream",
     "text": [
      "Enter Your responce : 1.To check even or odd.\n",
      " 2.To check prime or not\t3.For Exit.2\n",
      "Enter number which you want to check prime or not:- 97\n",
      "prime\n",
      "None\n",
      "Enter Your responce : 1.To check even or odd.\n",
      " 2.To check prime or not\t3.For Exit.1\n",
      "Enter number which you want to check even or add.: 15\n",
      "odd\n",
      "None\n",
      "Enter Your responce : 1.To check even or odd.\n",
      " 2.To check prime or not\t3.For Exit.2\n",
      "Enter number which you want to check prime or not:- 41\n",
      "prime\n",
      "None\n",
      "Enter Your responce : 1.To check even or odd.\n",
      " 2.To check prime or not\t3.For Exit.2\n",
      "Enter number which you want to check prime or not:- 42\n",
      "not_prime\n",
      "None\n",
      "Enter Your responce : 1.To check even or odd.\n",
      " 2.To check prime or not\t3.For Exit.3\n",
      "exit\n"
     ]
    }
   ],
   "source": [
    "\n",
    "\n",
    "def is_even(num):\n",
    "    if num%2==0:\n",
    "        print(\"even\")\n",
    "    else:\n",
    "        print(\"odd\")\n",
    "        \n",
    "def is_prime(num):\n",
    "    count=0\n",
    "    \n",
    "    for i in range(1,num+1):\n",
    "        if num%i==0:\n",
    "            count=count+1\n",
    "                \n",
    "                \n",
    "    if count==2:\n",
    "        print(\"prime\")\n",
    "    else:\n",
    "        print(\"not_prime\")\n",
    "            \n",
    "while True:\n",
    "    responce=int(input(\"Enter Your responce : 1.To check even or odd.\\n 2.To check prime or not\\t3.For Exit.\"))\n",
    "    if responce == 1:\n",
    "        num1=int(input(\"Enter number which you want to check even or add.: \"))\n",
    "        print(is_even(num1))\n",
    "    elif responce==2:\n",
    "        num2=int(input(\"Enter number which you want to check prime or not:- \"))\n",
    "        print(is_prime(num2))\n",
    "    if responce==3:\n",
    "        print(\"exit\")\n",
    "        break\n",
    "                \n",
    "            "
   ]
  },
  {
   "cell_type": "code",
   "execution_count": 2,
   "id": "8f9c837a",
   "metadata": {
    "ExecuteTime": {
     "end_time": "2021-09-21T10:07:47.617720Z",
     "start_time": "2021-09-21T10:07:47.589720Z"
    }
   },
   "outputs": [
    {
     "name": "stdout",
     "output_type": "stream",
     "text": [
      "not_prime\n"
     ]
    }
   ],
   "source": [
    "num=8\n",
    "count=0\n",
    "for i in range(1,num+1):\n",
    "    if num%i==0:\n",
    "        count+=1\n",
    "if count==2:\n",
    "    print(\"prime\")\n",
    "else:\n",
    "    print(\"not_prime\")"
   ]
  },
  {
   "cell_type": "code",
   "execution_count": 2,
   "id": "86c689ff",
   "metadata": {
    "ExecuteTime": {
     "end_time": "2021-09-22T04:08:41.464754Z",
     "start_time": "2021-09-22T04:08:41.440754Z"
    }
   },
   "outputs": [
    {
     "name": "stdout",
     "output_type": "stream",
     "text": [
      "[0, 1, 2, 3, 4]\n"
     ]
    }
   ],
   "source": [
    "x=[i for i in range(5)]\n",
    "print(x)"
   ]
  },
  {
   "cell_type": "code",
   "execution_count": 3,
   "id": "beea0c7d",
   "metadata": {
    "ExecuteTime": {
     "end_time": "2021-09-22T04:08:54.646374Z",
     "start_time": "2021-09-22T04:08:54.622376Z"
    }
   },
   "outputs": [],
   "source": [
    "x.append(9)"
   ]
  },
  {
   "cell_type": "code",
   "execution_count": 4,
   "id": "4109e90b",
   "metadata": {
    "ExecuteTime": {
     "end_time": "2021-09-22T04:08:59.844778Z",
     "start_time": "2021-09-22T04:08:59.788781Z"
    }
   },
   "outputs": [
    {
     "data": {
      "text/plain": [
       "[0, 1, 2, 3, 4, 9]"
      ]
     },
     "execution_count": 4,
     "metadata": {},
     "output_type": "execute_result"
    }
   ],
   "source": [
    "x"
   ]
  },
  {
   "cell_type": "code",
   "execution_count": 5,
   "id": "563d455f",
   "metadata": {
    "ExecuteTime": {
     "end_time": "2021-09-22T04:09:13.208537Z",
     "start_time": "2021-09-22T04:09:13.184538Z"
    }
   },
   "outputs": [
    {
     "data": {
      "text/plain": [
       "4"
      ]
     },
     "execution_count": 5,
     "metadata": {},
     "output_type": "execute_result"
    }
   ],
   "source": [
    "x.index(4)"
   ]
  },
  {
   "cell_type": "code",
   "execution_count": 6,
   "id": "c5fafb44",
   "metadata": {
    "ExecuteTime": {
     "end_time": "2021-09-22T04:09:27.289531Z",
     "start_time": "2021-09-22T04:09:27.257531Z"
    }
   },
   "outputs": [
    {
     "data": {
      "text/plain": [
       "5"
      ]
     },
     "execution_count": 6,
     "metadata": {},
     "output_type": "execute_result"
    }
   ],
   "source": [
    "x.index(9)"
   ]
  },
  {
   "cell_type": "code",
   "execution_count": 7,
   "id": "4847b398",
   "metadata": {
    "ExecuteTime": {
     "end_time": "2021-09-22T04:10:19.725836Z",
     "start_time": "2021-09-22T04:10:19.701834Z"
    }
   },
   "outputs": [
    {
     "name": "stdout",
     "output_type": "stream",
     "text": [
      "[0, 1, 2, 15, 4, 9]\n"
     ]
    }
   ],
   "source": [
    "x[3]=15\n",
    "print(x)"
   ]
  },
  {
   "cell_type": "code",
   "execution_count": 8,
   "id": "749910f8",
   "metadata": {
    "ExecuteTime": {
     "end_time": "2021-09-22T04:10:55.497359Z",
     "start_time": "2021-09-22T04:10:55.473361Z"
    }
   },
   "outputs": [
    {
     "data": {
      "text/plain": [
       "3"
      ]
     },
     "execution_count": 8,
     "metadata": {},
     "output_type": "execute_result"
    }
   ],
   "source": [
    "x.index(15)"
   ]
  },
  {
   "cell_type": "code",
   "execution_count": 10,
   "id": "04323a1d",
   "metadata": {
    "ExecuteTime": {
     "end_time": "2021-09-22T04:13:02.676972Z",
     "start_time": "2021-09-22T04:13:02.652973Z"
    }
   },
   "outputs": [],
   "source": [
    "y={12,15,1,2,5,4,1,3,4,5,10}"
   ]
  },
  {
   "cell_type": "code",
   "execution_count": 11,
   "id": "3a1d753f",
   "metadata": {
    "ExecuteTime": {
     "end_time": "2021-09-22T04:13:20.213643Z",
     "start_time": "2021-09-22T04:13:20.197645Z"
    }
   },
   "outputs": [
    {
     "data": {
      "text/plain": [
       "{1, 2, 3, 4, 5, 10, 12, 15}"
      ]
     },
     "execution_count": 11,
     "metadata": {},
     "output_type": "execute_result"
    }
   ],
   "source": [
    "y"
   ]
  },
  {
   "cell_type": "code",
   "execution_count": 12,
   "id": "44455282",
   "metadata": {
    "ExecuteTime": {
     "end_time": "2021-09-22T04:13:51.246058Z",
     "start_time": "2021-09-22T04:13:51.230060Z"
    }
   },
   "outputs": [],
   "source": [
    "y.add(44)"
   ]
  },
  {
   "cell_type": "code",
   "execution_count": 13,
   "id": "691a47cc",
   "metadata": {
    "ExecuteTime": {
     "end_time": "2021-09-22T04:13:54.401249Z",
     "start_time": "2021-09-22T04:13:54.376822Z"
    }
   },
   "outputs": [
    {
     "data": {
      "text/plain": [
       "{1, 2, 3, 4, 5, 10, 12, 15, 44}"
      ]
     },
     "execution_count": 13,
     "metadata": {},
     "output_type": "execute_result"
    }
   ],
   "source": [
    "y"
   ]
  },
  {
   "cell_type": "code",
   "execution_count": 14,
   "id": "5531540a",
   "metadata": {
    "ExecuteTime": {
     "end_time": "2021-09-22T04:18:43.349828Z",
     "start_time": "2021-09-22T04:18:43.338535Z"
    }
   },
   "outputs": [],
   "source": [
    "y.add(2.5)"
   ]
  },
  {
   "cell_type": "code",
   "execution_count": 15,
   "id": "edcae9c6",
   "metadata": {
    "ExecuteTime": {
     "end_time": "2021-09-22T04:18:46.661177Z",
     "start_time": "2021-09-22T04:18:46.637178Z"
    }
   },
   "outputs": [
    {
     "data": {
      "text/plain": [
       "{1, 2, 2.5, 3, 4, 5, 10, 12, 15, 44}"
      ]
     },
     "execution_count": 15,
     "metadata": {},
     "output_type": "execute_result"
    }
   ],
   "source": [
    "y"
   ]
  },
  {
   "cell_type": "code",
   "execution_count": 16,
   "id": "e5c497c2",
   "metadata": {
    "ExecuteTime": {
     "end_time": "2021-09-22T04:21:26.454290Z",
     "start_time": "2021-09-22T04:21:26.430285Z"
    }
   },
   "outputs": [
    {
     "data": {
      "text/plain": [
       "1"
      ]
     },
     "execution_count": 16,
     "metadata": {},
     "output_type": "execute_result"
    }
   ],
   "source": [
    "y.pop()"
   ]
  },
  {
   "cell_type": "code",
   "execution_count": 17,
   "id": "5e16f6cd",
   "metadata": {
    "ExecuteTime": {
     "end_time": "2021-09-22T04:21:33.325278Z",
     "start_time": "2021-09-22T04:21:33.300887Z"
    }
   },
   "outputs": [
    {
     "data": {
      "text/plain": [
       "2"
      ]
     },
     "execution_count": 17,
     "metadata": {},
     "output_type": "execute_result"
    }
   ],
   "source": [
    "y.pop()"
   ]
  },
  {
   "cell_type": "code",
   "execution_count": 18,
   "id": "2dbe689c",
   "metadata": {
    "ExecuteTime": {
     "end_time": "2021-09-22T04:21:38.377436Z",
     "start_time": "2021-09-22T04:21:38.353431Z"
    }
   },
   "outputs": [
    {
     "data": {
      "text/plain": [
       "{2.5, 3, 4, 5, 10, 12, 15, 44}"
      ]
     },
     "execution_count": 18,
     "metadata": {},
     "output_type": "execute_result"
    }
   ],
   "source": [
    "y"
   ]
  },
  {
   "cell_type": "code",
   "execution_count": 21,
   "id": "b995af5d",
   "metadata": {
    "ExecuteTime": {
     "end_time": "2021-09-22T04:22:26.826529Z",
     "start_time": "2021-09-22T04:22:26.810528Z"
    }
   },
   "outputs": [
    {
     "data": {
      "text/plain": [
       "2"
      ]
     },
     "execution_count": 21,
     "metadata": {},
     "output_type": "execute_result"
    }
   ],
   "source": [
    "x.pop(2)"
   ]
  },
  {
   "cell_type": "code",
   "execution_count": 23,
   "id": "4d758579",
   "metadata": {
    "ExecuteTime": {
     "end_time": "2021-09-22T04:22:51.261135Z",
     "start_time": "2021-09-22T04:22:51.229136Z"
    }
   },
   "outputs": [
    {
     "data": {
      "text/plain": [
       "[0, 1, 15, 4, 9]"
      ]
     },
     "execution_count": 23,
     "metadata": {},
     "output_type": "execute_result"
    }
   ],
   "source": [
    "x"
   ]
  },
  {
   "cell_type": "code",
   "execution_count": 24,
   "id": "65eeab1b",
   "metadata": {
    "ExecuteTime": {
     "end_time": "2021-09-22T04:23:02.449108Z",
     "start_time": "2021-09-22T04:23:02.425111Z"
    }
   },
   "outputs": [
    {
     "data": {
      "text/plain": [
       "9"
      ]
     },
     "execution_count": 24,
     "metadata": {},
     "output_type": "execute_result"
    }
   ],
   "source": [
    "x.pop(4)"
   ]
  },
  {
   "cell_type": "code",
   "execution_count": 25,
   "id": "2b85e5ca",
   "metadata": {
    "ExecuteTime": {
     "end_time": "2021-09-22T05:28:15.925750Z",
     "start_time": "2021-09-22T05:28:15.837754Z"
    }
   },
   "outputs": [
    {
     "name": "stdout",
     "output_type": "stream",
     "text": [
      "0\n",
      "1\n",
      "1\n",
      "2\n",
      "3\n",
      "5\n",
      "8\n",
      "13\n",
      "21\n",
      "34\n"
     ]
    }
   ],
   "source": [
    "fibo=lambda n:n if n<=1 else fibo(n-1) + fibo(n-2)\n",
    "for i in range(10):\n",
    "    fs=fibo(i)\n",
    "    print(fs)"
   ]
  },
  {
   "cell_type": "code",
   "execution_count": null,
   "id": "a223eb5a",
   "metadata": {},
   "outputs": [],
   "source": []
  }
 ],
 "metadata": {
  "kernelspec": {
   "display_name": "Python 3",
   "language": "python",
   "name": "python3"
  },
  "language_info": {
   "codemirror_mode": {
    "name": "ipython",
    "version": 3
   },
   "file_extension": ".py",
   "mimetype": "text/x-python",
   "name": "python",
   "nbconvert_exporter": "python",
   "pygments_lexer": "ipython3",
   "version": "3.8.8"
  }
 },
 "nbformat": 4,
 "nbformat_minor": 5
}
