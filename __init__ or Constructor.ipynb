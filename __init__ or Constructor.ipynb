{
 "cells": [
  {
   "cell_type": "markdown",
   "id": "68646910",
   "metadata": {},
   "source": [
    "# Constructor or __init__ methods in python"
   ]
  },
  {
   "cell_type": "code",
   "execution_count": null,
   "id": "2d8051a3",
   "metadata": {},
   "outputs": [],
   "source": [
    "__init__ means initilization.\n",
    "\n",
    "What is __init__?\n",
    "-> It is special method which execute as soon as object created\n",
    "-> This method can have 1 or more than 1 arg\n",
    "-> Default arguement will be self.\n",
    "-> By default every class has __init__ method\n",
    "-> If we won't define it is there\n",
    "\n",
    "Syntax:\n",
    "    class ClassName():\n",
    "        def __init__(self):\n",
    "            print(\"I am in init method\")"
   ]
  },
  {
   "cell_type": "code",
   "execution_count": 1,
   "id": "f6a604de",
   "metadata": {},
   "outputs": [],
   "source": [
    "class StudentDetails:\n",
    "    def __init__(self):\n",
    "        print(\"This will execute As soon as object is created\\n I am in __init__ method \")\n",
    "        \n",
    "    def showdata(self):\n",
    "        print(\"I am in showdata method\")"
   ]
  },
  {
   "cell_type": "code",
   "execution_count": 2,
   "id": "179af2d4",
   "metadata": {},
   "outputs": [
    {
     "name": "stdout",
     "output_type": "stream",
     "text": [
      "This will execute As soon as object is created\n",
      " I am in __init__ method \n"
     ]
    }
   ],
   "source": [
    "t1=StudentDetails()"
   ]
  },
  {
   "cell_type": "code",
   "execution_count": 3,
   "id": "5df7b542",
   "metadata": {},
   "outputs": [
    {
     "name": "stdout",
     "output_type": "stream",
     "text": [
      "I am in showdata method\n"
     ]
    }
   ],
   "source": [
    "t1.showdata()"
   ]
  },
  {
   "cell_type": "code",
   "execution_count": 19,
   "id": "867a6344",
   "metadata": {},
   "outputs": [],
   "source": [
    "class StudentDetails:\n",
    "    def __init__(self,name,course):\n",
    "        self.name=name\n",
    "        self.course=course\n",
    "        print(\"Once object create this will execute\\nI am in __init__ method\")\n",
    "        \n",
    "    def showdata(self):\n",
    "        \n",
    "        print(\"name:- %s and course:- %s\"%(self.name,self.course))"
   ]
  },
  {
   "cell_type": "code",
   "execution_count": 20,
   "id": "c17adc16",
   "metadata": {},
   "outputs": [
    {
     "name": "stdout",
     "output_type": "stream",
     "text": [
      "Once object create this will execute\n",
      "I am in __init__ method\n"
     ]
    }
   ],
   "source": [
    "s1=StudentDetails(\"Vikas\",\"Python\")"
   ]
  },
  {
   "cell_type": "code",
   "execution_count": 21,
   "id": "6d6b9b54",
   "metadata": {},
   "outputs": [
    {
     "name": "stdout",
     "output_type": "stream",
     "text": [
      "name:- Vikas and course:- Python\n"
     ]
    }
   ],
   "source": [
    "s1.showdata()"
   ]
  },
  {
   "cell_type": "code",
   "execution_count": 30,
   "id": "44111110",
   "metadata": {},
   "outputs": [],
   "source": [
    "class Test5:\n",
    "    def printname(self):\n",
    "        self.name=\"vikas\"\n",
    "        \n",
    "    def showdata(self):\n",
    "        print(\"my name is\",self.name)"
   ]
  },
  {
   "cell_type": "code",
   "execution_count": 31,
   "id": "abb4f70a",
   "metadata": {},
   "outputs": [],
   "source": [
    "p=Test5()"
   ]
  },
  {
   "cell_type": "code",
   "execution_count": 33,
   "id": "b6b061bb",
   "metadata": {},
   "outputs": [],
   "source": [
    "p.printname()"
   ]
  },
  {
   "cell_type": "code",
   "execution_count": 34,
   "id": "fc3ae405",
   "metadata": {},
   "outputs": [
    {
     "name": "stdout",
     "output_type": "stream",
     "text": [
      "my name is vikas\n"
     ]
    }
   ],
   "source": [
    "p.showdata()"
   ]
  },
  {
   "cell_type": "code",
   "execution_count": 35,
   "id": "13e33ddd",
   "metadata": {},
   "outputs": [
    {
     "name": "stdout",
     "output_type": "stream",
     "text": [
      "['__class__', '__delattr__', '__dict__', '__dir__', '__doc__', '__eq__', '__format__', '__ge__', '__getattribute__', '__gt__', '__hash__', '__init__', '__init_subclass__', '__le__', '__lt__', '__module__', '__ne__', '__new__', '__reduce__', '__reduce_ex__', '__repr__', '__setattr__', '__sizeof__', '__str__', '__subclasshook__', '__weakref__', 'name', 'printname', 'showdata']\n"
     ]
    }
   ],
   "source": [
    "print(dir(p))"
   ]
  },
  {
   "cell_type": "code",
   "execution_count": 10,
   "id": "3dd79f20",
   "metadata": {},
   "outputs": [
    {
     "name": "stdout",
     "output_type": "stream",
     "text": [
      "name=Vikas and age =24\n",
      "name=Ganesh and age =30\n"
     ]
    }
   ],
   "source": [
    "class Details:\n",
    "    def __init__(self,name,age):\n",
    "        self.name=name\n",
    "        self.age=age\n",
    "        \n",
    "    def confing(self):\n",
    "        print(\"name=%s and age =%s\"%(self.name,self.age))\n",
    "        \n",
    "c1=Details(\"Vikas\",24)\n",
    "c1.confing()\n",
    "c2=Details(\"Ganesh\",30)\n",
    "c2.confing()\n",
    "\n",
    "        "
   ]
  },
  {
   "cell_type": "markdown",
   "id": "b6b84489",
   "metadata": {},
   "source": [
    "# Compare the age of two different objects"
   ]
  },
  {
   "cell_type": "code",
   "execution_count": 17,
   "id": "5bbf296a",
   "metadata": {},
   "outputs": [
    {
     "name": "stdout",
     "output_type": "stream",
     "text": [
      "name=Vikas and age =24\n",
      "name=Ganesh and age =30\n"
     ]
    }
   ],
   "source": [
    "class Details:\n",
    "    def __init__(self,name,age):\n",
    "        self.name=name\n",
    "        self.age=age\n",
    "        \n",
    "    def confing(self):\n",
    "        print(\"name=%s and age =%s\"%(self.name,self.age))\n",
    "        \n",
    "    def compare(self,other):\n",
    "        if self.age==other.age:\n",
    "            return \"same Age\"\n",
    "        else:\n",
    "            return \"Different Age\"\n",
    "        \n",
    "  # c1 and c2 are two objects:      \n",
    "c1=Details(\"Vikas\",24)\n",
    "c1.confing()\n",
    "c2=Details(\"Ganesh\",30)\n",
    "c2.confing()\n",
    "\n",
    "        "
   ]
  },
  {
   "cell_type": "code",
   "execution_count": 18,
   "id": "e4014743",
   "metadata": {},
   "outputs": [
    {
     "data": {
      "text/plain": [
       "'Different Age'"
      ]
     },
     "execution_count": 18,
     "metadata": {},
     "output_type": "execute_result"
    }
   ],
   "source": [
    "c1.compare(c2)"
   ]
  },
  {
   "cell_type": "code",
   "execution_count": 19,
   "id": "894f30db",
   "metadata": {},
   "outputs": [
    {
     "data": {
      "text/plain": [
       "30"
      ]
     },
     "execution_count": 19,
     "metadata": {},
     "output_type": "execute_result"
    }
   ],
   "source": [
    "c2.age"
   ]
  },
  {
   "cell_type": "code",
   "execution_count": 20,
   "id": "7d4a3e22",
   "metadata": {},
   "outputs": [],
   "source": [
    "c2.age=24"
   ]
  },
  {
   "cell_type": "code",
   "execution_count": 21,
   "id": "2a971913",
   "metadata": {},
   "outputs": [
    {
     "data": {
      "text/plain": [
       "24"
      ]
     },
     "execution_count": 21,
     "metadata": {},
     "output_type": "execute_result"
    }
   ],
   "source": [
    "c2.age"
   ]
  },
  {
   "cell_type": "code",
   "execution_count": 22,
   "id": "4cfed2f9",
   "metadata": {},
   "outputs": [
    {
     "data": {
      "text/plain": [
       "'same Age'"
      ]
     },
     "execution_count": 22,
     "metadata": {},
     "output_type": "execute_result"
    }
   ],
   "source": [
    "c1.compare(c2)"
   ]
  },
  {
   "cell_type": "code",
   "execution_count": 23,
   "id": "7008b1e8",
   "metadata": {},
   "outputs": [
    {
     "name": "stdout",
     "output_type": "stream",
     "text": [
      "name=Vikas and age =24\n"
     ]
    }
   ],
   "source": [
    "c1.confing()"
   ]
  },
  {
   "cell_type": "code",
   "execution_count": 25,
   "id": "59737e68",
   "metadata": {},
   "outputs": [
    {
     "name": "stdout",
     "output_type": "stream",
     "text": [
      "name=Ganesh and age =24\n"
     ]
    }
   ],
   "source": [
    "c2.confing()"
   ]
  },
  {
   "cell_type": "markdown",
   "id": "160d03df",
   "metadata": {},
   "source": [
    "- two variable\n",
    "\n",
    "1] Instance veriable or object variable\n",
    "2]class variable or static variable"
   ]
  },
  {
   "cell_type": "code",
   "execution_count": 33,
   "id": "5b2dc4a4",
   "metadata": {},
   "outputs": [
    {
     "name": "stdout",
     "output_type": "stream",
     "text": [
      "Name: BMW  Milege: 10  Wheels: 4\n",
      "Rolls Royes 20 4\n"
     ]
    }
   ],
   "source": [
    "class Car:\n",
    "    wheels=4  # this is class veriable\n",
    "    \n",
    "    def __init__(self):\n",
    "        self.name=\"BMW\"\n",
    "        self.milege=10\n",
    "        \n",
    "# s1,s2 is instance or object veriable  \n",
    "\n",
    "s1=Car()  \n",
    "print(\"Name:\", s1.name,\" Milege:\", s1.milege,\" Wheels:\" ,s1.wheels)\n",
    "\n",
    "s2=Car()\n",
    "s2.name=\"Rolls Royes\"\n",
    "s2.milege=20\n",
    "print(s2.name,s2.milege,s2.wheels)"
   ]
  },
  {
   "cell_type": "code",
   "execution_count": 34,
   "id": "2bde65ae",
   "metadata": {},
   "outputs": [
    {
     "name": "stdout",
     "output_type": "stream",
     "text": [
      "2442196473408\n"
     ]
    }
   ],
   "source": [
    "print(id(s1))"
   ]
  },
  {
   "cell_type": "code",
   "execution_count": 35,
   "id": "dc747828",
   "metadata": {},
   "outputs": [
    {
     "name": "stdout",
     "output_type": "stream",
     "text": [
      "2442196445408\n"
     ]
    }
   ],
   "source": [
    "print(id(s2))"
   ]
  },
  {
   "cell_type": "code",
   "execution_count": 36,
   "id": "3d5369c2",
   "metadata": {},
   "outputs": [
    {
     "data": {
      "text/plain": [
       "4"
      ]
     },
     "execution_count": 36,
     "metadata": {},
     "output_type": "execute_result"
    }
   ],
   "source": [
    "Car.wheels"
   ]
  },
  {
   "cell_type": "code",
   "execution_count": 37,
   "id": "d915fe5a",
   "metadata": {},
   "outputs": [],
   "source": [
    "Car.wheels=5"
   ]
  },
  {
   "cell_type": "code",
   "execution_count": 38,
   "id": "08c6fc8c",
   "metadata": {},
   "outputs": [
    {
     "data": {
      "text/plain": [
       "5"
      ]
     },
     "execution_count": 38,
     "metadata": {},
     "output_type": "execute_result"
    }
   ],
   "source": [
    "Car.wheels"
   ]
  },
  {
   "cell_type": "code",
   "execution_count": 41,
   "id": "bdc0b724",
   "metadata": {},
   "outputs": [
    {
     "data": {
      "text/plain": [
       "5"
      ]
     },
     "execution_count": 41,
     "metadata": {},
     "output_type": "execute_result"
    }
   ],
   "source": [
    "s1.wheels"
   ]
  },
  {
   "cell_type": "code",
   "execution_count": 86,
   "id": "bc8b262b",
   "metadata": {},
   "outputs": [],
   "source": [
    "from datetime import datetime\n",
    "\n",
    "class Bank:\n",
    "    All_customers_detail=list()\n",
    "    def __init__(self):\n",
    "        self.bank_name=\"SBI BANK\"\n",
    "        \n",
    "    def create_account(self,name,amount):\n",
    "        user_details=dict()\n",
    "        user_details[\"account_num\"]=self.generate_account_num()\n",
    "        user_details[\"amount\"]=amount\n",
    "        user_details[\"name\"]=name\n",
    "        \n",
    "        self.All_customers_detail.append(user_details)\n",
    "        \n",
    "    def generate_account_num(self):\n",
    "        return datetime.now().strftime(\"SBI%Y%m%d%S\")\n",
    "    \n",
    "        "
   ]
  },
  {
   "cell_type": "code",
   "execution_count": 87,
   "id": "a628509c",
   "metadata": {},
   "outputs": [],
   "source": [
    "s1=Bank()"
   ]
  },
  {
   "cell_type": "code",
   "execution_count": 88,
   "id": "1c73da75",
   "metadata": {},
   "outputs": [
    {
     "data": {
      "text/plain": [
       "'SBI2021081834'"
      ]
     },
     "execution_count": 88,
     "metadata": {},
     "output_type": "execute_result"
    }
   ],
   "source": [
    "s1.generate_account_num()"
   ]
  },
  {
   "cell_type": "code",
   "execution_count": 89,
   "id": "ef1dc37e",
   "metadata": {},
   "outputs": [],
   "source": [
    "s1.create_account(\"Vikas Kale\",500)"
   ]
  },
  {
   "cell_type": "code",
   "execution_count": 90,
   "id": "f0576c30",
   "metadata": {},
   "outputs": [
    {
     "data": {
      "text/plain": [
       "[{'account_num': 'SBI2021081837', 'amount': 500, 'name': 'Vikas Kale'}]"
      ]
     },
     "execution_count": 90,
     "metadata": {},
     "output_type": "execute_result"
    }
   ],
   "source": [
    "s1.All_customers_detail"
   ]
  },
  {
   "cell_type": "code",
   "execution_count": 93,
   "id": "2e6db284",
   "metadata": {},
   "outputs": [],
   "source": [
    "from datetime import datetime\n",
    "\n",
    "class Bank:\n",
    "    ALL_CUSTOMERS_DATA = list()\n",
    "    \n",
    "    def __init__(self):\n",
    "        self.BANK_NAME = 'SBI BANK'\n",
    "        \n",
    "    def create_acccount(self, name, amount):\n",
    "        user_details = dict()\n",
    "        \n",
    "        user_details['account_no'] = self.generate_account_no()\n",
    "        user_details['name'] = name\n",
    "        user_details['amount'] = amount\n",
    "        \n",
    "        print(\"######## ACCOUNT NO IS %s ######## \"%(user_details.get('account_no')))\n",
    "        self.ALL_CUSTOMERS_DATA.append(user_details)\n",
    "        \n",
    "    def generate_account_no(self):\n",
    "        return datetime.now().strftime('%d%H%Y%S')"
   ]
  },
  {
   "cell_type": "code",
   "execution_count": 94,
   "id": "0c53f97e",
   "metadata": {},
   "outputs": [],
   "source": [
    "s2=Bank()"
   ]
  },
  {
   "cell_type": "code",
   "execution_count": 95,
   "id": "4ecd474a",
   "metadata": {},
   "outputs": [
    {
     "data": {
      "text/plain": [
       "'1812202118'"
      ]
     },
     "execution_count": 95,
     "metadata": {},
     "output_type": "execute_result"
    }
   ],
   "source": [
    "s2.generate_account_no()"
   ]
  },
  {
   "cell_type": "code",
   "execution_count": 96,
   "id": "e5fed58b",
   "metadata": {},
   "outputs": [
    {
     "name": "stdout",
     "output_type": "stream",
     "text": [
      "######## ACCOUNT NO IS 1812202142 ######## \n"
     ]
    }
   ],
   "source": [
    "s2.create_acccount(\"Vikas\",5000)"
   ]
  },
  {
   "cell_type": "code",
   "execution_count": 98,
   "id": "62c5e2ad",
   "metadata": {},
   "outputs": [
    {
     "data": {
      "text/plain": [
       "[{'account_no': '1812202142', 'name': 'Vikas', 'amount': 5000}]"
      ]
     },
     "execution_count": 98,
     "metadata": {},
     "output_type": "execute_result"
    }
   ],
   "source": [
    "s2.ALL_CUSTOMERS_DATA"
   ]
  },
  {
   "cell_type": "code",
   "execution_count": null,
   "id": "bccf6c90",
   "metadata": {},
   "outputs": [],
   "source": []
  }
 ],
 "metadata": {
  "kernelspec": {
   "display_name": "Python 3",
   "language": "python",
   "name": "python3"
  },
  "language_info": {
   "codemirror_mode": {
    "name": "ipython",
    "version": 3
   },
   "file_extension": ".py",
   "mimetype": "text/x-python",
   "name": "python",
   "nbconvert_exporter": "python",
   "pygments_lexer": "ipython3",
   "version": "3.8.8"
  }
 },
 "nbformat": 4,
 "nbformat_minor": 5
}
