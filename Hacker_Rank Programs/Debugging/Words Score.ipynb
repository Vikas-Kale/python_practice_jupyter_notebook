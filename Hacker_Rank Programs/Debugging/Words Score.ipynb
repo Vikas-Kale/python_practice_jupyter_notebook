{
 "cells": [
  {
   "cell_type": "code",
   "execution_count": null,
   "id": "0eace1f6",
   "metadata": {},
   "outputs": [],
   "source": [
    "In this challenge, the task is to debug the existing code to successfully execute all provided test files."
   ]
  },
  {
   "cell_type": "code",
   "execution_count": null,
   "id": "2e69cf7f",
   "metadata": {},
   "outputs": [],
   "source": []
  },
  {
   "cell_type": "code",
   "execution_count": null,
   "id": "64ae4f02",
   "metadata": {},
   "outputs": [],
   "source": [
    "# prime numbers between 100 to 200"
   ]
  },
  {
   "cell_type": "code",
   "execution_count": 3,
   "id": "061f812e",
   "metadata": {
    "ExecuteTime": {
     "end_time": "2021-10-15T16:55:36.079238Z",
     "start_time": "2021-10-15T16:55:36.066885Z"
    }
   },
   "outputs": [],
   "source": [
    "# lower = 100\n",
    "# upper = 200\n",
    "# count = 0\n",
    "\n",
    "# for num in range(lower,upper):\n",
    "#     for i in range(2,num+1):\n",
    "#         if num%i==0:\n",
    "#             count=count+1\n",
    "#             print(count)\n",
    "#             break\n",
    "            \n",
    "# print(count)\n",
    "    "
   ]
  },
  {
   "cell_type": "code",
   "execution_count": 5,
   "id": "4191ebec",
   "metadata": {
    "ExecuteTime": {
     "end_time": "2021-10-15T16:59:28.813283Z",
     "start_time": "2021-10-15T16:59:19.937714Z"
    }
   },
   "outputs": [
    {
     "name": "stdout",
     "output_type": "stream",
     "text": [
      "5\n",
      "20\n",
      "5\n",
      "7\n",
      "11\n",
      "13\n",
      "17\n",
      "19\n"
     ]
    }
   ],
   "source": [
    "lower = int(input())\n",
    "upper = int(input())\n",
    "\n",
    "for num in range(lower,upper+1):\n",
    "    if num>1:\n",
    "        for i in range(2,num):\n",
    "            if num%i==0:\n",
    "                break\n",
    "                \n",
    "        else:\n",
    "            print(num)\n",
    "            \n",
    "    else:\n",
    "        print(\"\")"
   ]
  },
  {
   "cell_type": "code",
   "execution_count": 1,
   "id": "bfbadd14",
   "metadata": {
    "ExecuteTime": {
     "end_time": "2021-10-17T07:50:22.173344Z",
     "start_time": "2021-10-17T07:50:22.109347Z"
    }
   },
   "outputs": [],
   "source": [
    "import calendar"
   ]
  },
  {
   "cell_type": "code",
   "execution_count": 2,
   "id": "8d2da4d5",
   "metadata": {
    "ExecuteTime": {
     "end_time": "2021-10-17T07:50:29.355369Z",
     "start_time": "2021-10-17T07:50:29.339368Z"
    }
   },
   "outputs": [
    {
     "name": "stdout",
     "output_type": "stream",
     "text": [
      "['Calendar', 'EPOCH', 'FRIDAY', 'February', 'HTMLCalendar', 'IllegalMonthError', 'IllegalWeekdayError', 'January', 'LocaleHTMLCalendar', 'LocaleTextCalendar', 'MONDAY', 'SATURDAY', 'SUNDAY', 'THURSDAY', 'TUESDAY', 'TextCalendar', 'WEDNESDAY', '_EPOCH_ORD', '__all__', '__builtins__', '__cached__', '__doc__', '__file__', '__loader__', '__name__', '__package__', '__spec__', '_colwidth', '_locale', '_localized_day', '_localized_month', '_monthlen', '_nextmonth', '_prevmonth', '_spacing', 'c', 'calendar', 'datetime', 'day_abbr', 'day_name', 'different_locale', 'error', 'firstweekday', 'format', 'formatstring', 'isleap', 'leapdays', 'main', 'mdays', 'month', 'month_abbr', 'month_name', 'monthcalendar', 'monthrange', 'prcal', 'prmonth', 'prweek', 'repeat', 'setfirstweekday', 'sys', 'timegm', 'week', 'weekday', 'weekheader']\n"
     ]
    }
   ],
   "source": [
    "print(dir(calendar))"
   ]
  },
  {
   "cell_type": "code",
   "execution_count": 7,
   "id": "868dbf63",
   "metadata": {
    "ExecuteTime": {
     "end_time": "2021-10-17T13:15:32.966977Z",
     "start_time": "2021-10-17T13:15:32.950977Z"
    }
   },
   "outputs": [
    {
     "name": "stdout",
     "output_type": "stream",
     "text": [
      "[15, 11, 9, 8, 7, 5, 3, 2]\n"
     ]
    }
   ],
   "source": [
    "t = (11,2,3,5,7,8,9,15)\n",
    "s = sorted(t,reverse=True)\n",
    "print(s)"
   ]
  },
  {
   "cell_type": "code",
   "execution_count": null,
   "id": "825ccf40",
   "metadata": {},
   "outputs": [],
   "source": []
  }
 ],
 "metadata": {
  "kernelspec": {
   "display_name": "Python 3",
   "language": "python",
   "name": "python3"
  },
  "language_info": {
   "codemirror_mode": {
    "name": "ipython",
    "version": 3
   },
   "file_extension": ".py",
   "mimetype": "text/x-python",
   "name": "python",
   "nbconvert_exporter": "python",
   "pygments_lexer": "ipython3",
   "version": "3.8.8"
  }
 },
 "nbformat": 4,
 "nbformat_minor": 5
}
