{
 "cells": [
  {
   "cell_type": "markdown",
   "id": "aab65fe0",
   "metadata": {
    "ExecuteTime": {
     "end_time": "2021-09-24T04:41:12.553657Z",
     "start_time": "2021-09-24T04:41:12.529657Z"
    }
   },
   "source": [
    "# What can you tell about object oriented program?"
   ]
  },
  {
   "cell_type": "markdown",
   "id": "ce447ef9",
   "metadata": {},
   "source": [
    "- you are surrounded with objects"
   ]
  },
  {
   "cell_type": "code",
   "execution_count": null,
   "id": "96004020",
   "metadata": {},
   "outputs": [],
   "source": [
    "- class is template or blueprint "
   ]
  },
  {
   "cell_type": "code",
   "execution_count": null,
   "id": "63adfa3e",
   "metadata": {},
   "outputs": [],
   "source": []
  },
  {
   "cell_type": "code",
   "execution_count": 1,
   "id": "9955ce53",
   "metadata": {
    "ExecuteTime": {
     "end_time": "2021-10-17T16:33:02.183375Z",
     "start_time": "2021-10-17T16:33:02.143378Z"
    }
   },
   "outputs": [
    {
     "data": {
      "text/plain": [
       "'\\x01'"
      ]
     },
     "execution_count": 1,
     "metadata": {},
     "output_type": "execute_result"
    }
   ],
   "source": [
    "chr(1)"
   ]
  },
  {
   "cell_type": "code",
   "execution_count": 2,
   "id": "b94a2bdc",
   "metadata": {
    "ExecuteTime": {
     "end_time": "2021-10-17T16:33:12.727637Z",
     "start_time": "2021-10-17T16:33:12.703634Z"
    }
   },
   "outputs": [
    {
     "data": {
      "text/plain": [
       "97"
      ]
     },
     "execution_count": 2,
     "metadata": {},
     "output_type": "execute_result"
    }
   ],
   "source": [
    "ord('a')"
   ]
  },
  {
   "cell_type": "code",
   "execution_count": 4,
   "id": "df0f48ec",
   "metadata": {
    "ExecuteTime": {
     "end_time": "2021-10-17T16:33:58.855160Z",
     "start_time": "2021-10-17T16:33:58.839160Z"
    }
   },
   "outputs": [
    {
     "data": {
      "text/plain": [
       "118"
      ]
     },
     "execution_count": 4,
     "metadata": {},
     "output_type": "execute_result"
    }
   ],
   "source": [
    "ord('v')"
   ]
  },
  {
   "cell_type": "code",
   "execution_count": 5,
   "id": "c50f36e9",
   "metadata": {
    "ExecuteTime": {
     "end_time": "2021-10-17T16:34:26.324705Z",
     "start_time": "2021-10-17T16:34:26.284705Z"
    }
   },
   "outputs": [],
   "source": [
    "import string"
   ]
  },
  {
   "cell_type": "code",
   "execution_count": 6,
   "id": "88c85187",
   "metadata": {
    "ExecuteTime": {
     "end_time": "2021-10-17T16:34:41.030752Z",
     "start_time": "2021-10-17T16:34:41.006782Z"
    }
   },
   "outputs": [
    {
     "name": "stdout",
     "output_type": "stream",
     "text": [
      "['Formatter', 'Template', '_ChainMap', '_TemplateMetaclass', '__all__', '__builtins__', '__cached__', '__doc__', '__file__', '__loader__', '__name__', '__package__', '__spec__', '_re', '_sentinel_dict', '_string', 'ascii_letters', 'ascii_lowercase', 'ascii_uppercase', 'capwords', 'digits', 'hexdigits', 'octdigits', 'printable', 'punctuation', 'whitespace']\n"
     ]
    }
   ],
   "source": [
    "print(dir(string))"
   ]
  },
  {
   "cell_type": "code",
   "execution_count": 7,
   "id": "18549721",
   "metadata": {
    "ExecuteTime": {
     "end_time": "2021-10-17T16:35:26.408024Z",
     "start_time": "2021-10-17T16:35:26.384023Z"
    }
   },
   "outputs": [
    {
     "data": {
      "text/plain": [
       "'abcdefghijklmnopqrstuvwxyzABCDEFGHIJKLMNOPQRSTUVWXYZ'"
      ]
     },
     "execution_count": 7,
     "metadata": {},
     "output_type": "execute_result"
    }
   ],
   "source": [
    "string.ascii_letters"
   ]
  },
  {
   "cell_type": "code",
   "execution_count": 8,
   "id": "83a256ac",
   "metadata": {
    "ExecuteTime": {
     "end_time": "2021-10-17T16:35:46.872373Z",
     "start_time": "2021-10-17T16:35:46.856377Z"
    }
   },
   "outputs": [
    {
     "data": {
      "text/plain": [
       "'abcdefghijklmnopqrstuvwxyz'"
      ]
     },
     "execution_count": 8,
     "metadata": {},
     "output_type": "execute_result"
    }
   ],
   "source": [
    "string.ascii_lowercase"
   ]
  },
  {
   "cell_type": "code",
   "execution_count": 9,
   "id": "4ddd90c1",
   "metadata": {
    "ExecuteTime": {
     "end_time": "2021-10-17T16:36:50.357424Z",
     "start_time": "2021-10-17T16:36:50.341424Z"
    }
   },
   "outputs": [
    {
     "data": {
      "text/plain": [
       "'1'"
      ]
     },
     "execution_count": 9,
     "metadata": {},
     "output_type": "execute_result"
    }
   ],
   "source": [
    "chr(49)"
   ]
  },
  {
   "cell_type": "code",
   "execution_count": 10,
   "id": "2c110dd2",
   "metadata": {
    "ExecuteTime": {
     "end_time": "2021-10-17T16:37:00.093200Z",
     "start_time": "2021-10-17T16:37:00.069198Z"
    }
   },
   "outputs": [
    {
     "data": {
      "text/plain": [
       "49"
      ]
     },
     "execution_count": 10,
     "metadata": {},
     "output_type": "execute_result"
    }
   ],
   "source": [
    "ord('1')"
   ]
  },
  {
   "cell_type": "code",
   "execution_count": 11,
   "id": "9bb48b4b",
   "metadata": {
    "ExecuteTime": {
     "end_time": "2021-10-17T16:37:09.533668Z",
     "start_time": "2021-10-17T16:37:09.509667Z"
    }
   },
   "outputs": [
    {
     "data": {
      "text/plain": [
       "'1'"
      ]
     },
     "execution_count": 11,
     "metadata": {},
     "output_type": "execute_result"
    }
   ],
   "source": [
    "chr(49)"
   ]
  },
  {
   "cell_type": "code",
   "execution_count": 12,
   "id": "9c688068",
   "metadata": {
    "ExecuteTime": {
     "end_time": "2021-10-17T16:37:14.985891Z",
     "start_time": "2021-10-17T16:37:14.961890Z"
    }
   },
   "outputs": [
    {
     "data": {
      "text/plain": [
       "'2'"
      ]
     },
     "execution_count": 12,
     "metadata": {},
     "output_type": "execute_result"
    }
   ],
   "source": [
    "chr(50)"
   ]
  },
  {
   "cell_type": "code",
   "execution_count": 13,
   "id": "b1ec444c",
   "metadata": {
    "ExecuteTime": {
     "end_time": "2021-10-17T16:37:20.951095Z",
     "start_time": "2021-10-17T16:37:20.927095Z"
    }
   },
   "outputs": [
    {
     "data": {
      "text/plain": [
       "'3'"
      ]
     },
     "execution_count": 13,
     "metadata": {},
     "output_type": "execute_result"
    }
   ],
   "source": [
    "chr(51)"
   ]
  },
  {
   "cell_type": "code",
   "execution_count": 14,
   "id": "f44b2767",
   "metadata": {
    "ExecuteTime": {
     "end_time": "2021-10-17T16:37:30.171828Z",
     "start_time": "2021-10-17T16:37:30.139829Z"
    }
   },
   "outputs": [
    {
     "data": {
      "text/plain": [
       "'1'"
      ]
     },
     "execution_count": 14,
     "metadata": {},
     "output_type": "execute_result"
    }
   ],
   "source": [
    "chr(49)"
   ]
  },
  {
   "cell_type": "code",
   "execution_count": 16,
   "id": "1aa0c697",
   "metadata": {
    "ExecuteTime": {
     "end_time": "2021-10-17T16:38:42.323143Z",
     "start_time": "2021-10-17T16:38:42.307144Z"
    }
   },
   "outputs": [
    {
     "data": {
      "text/plain": [
       "'9'"
      ]
     },
     "execution_count": 16,
     "metadata": {},
     "output_type": "execute_result"
    }
   ],
   "source": [
    "chr(57)"
   ]
  },
  {
   "cell_type": "code",
   "execution_count": 17,
   "id": "40cdde72",
   "metadata": {
    "ExecuteTime": {
     "end_time": "2021-10-17T16:38:54.279470Z",
     "start_time": "2021-10-17T16:38:54.255175Z"
    }
   },
   "outputs": [
    {
     "data": {
      "text/plain": [
       "57"
      ]
     },
     "execution_count": 17,
     "metadata": {},
     "output_type": "execute_result"
    }
   ],
   "source": [
    "ord('9')"
   ]
  },
  {
   "cell_type": "code",
   "execution_count": 19,
   "id": "1436001f",
   "metadata": {
    "ExecuteTime": {
     "end_time": "2021-10-17T16:42:22.149820Z",
     "start_time": "2021-10-17T16:42:22.122018Z"
    }
   },
   "outputs": [
    {
     "name": "stdout",
     "output_type": "stream",
     "text": [
      "1\t2\t3\t4\t5\t6\t7\t8\t9\t10\t\n",
      "2\t4\t6\t8\t10\t12\t14\t16\t18\t20\t\n",
      "3\t6\t9\t12\t15\t18\t21\t24\t27\t30\t\n",
      "4\t8\t12\t16\t20\t24\t28\t32\t36\t40\t\n",
      "5\t10\t15\t20\t25\t30\t35\t40\t45\t50\t\n",
      "6\t12\t18\t24\t30\t36\t42\t48\t54\t60\t\n",
      "7\t14\t21\t28\t35\t42\t49\t56\t63\t70\t\n",
      "8\t16\t24\t32\t40\t48\t56\t64\t72\t80\t\n",
      "9\t18\t27\t36\t45\t54\t63\t72\t81\t90\t\n",
      "10\t20\t30\t40\t50\t60\t70\t80\t90\t100\t\n"
     ]
    }
   ],
   "source": [
    "for i in range(1,11):\n",
    "    for j in range(1,11):\n",
    "        print((i*j),end='\\t')\n",
    "    print()"
   ]
  },
  {
   "cell_type": "code",
   "execution_count": null,
   "id": "257b009b",
   "metadata": {},
   "outputs": [],
   "source": []
  },
  {
   "cell_type": "code",
   "execution_count": null,
   "id": "46d9e8d5",
   "metadata": {},
   "outputs": [],
   "source": []
  },
  {
   "cell_type": "code",
   "execution_count": null,
   "id": "aabcdb09",
   "metadata": {},
   "outputs": [],
   "source": []
  },
  {
   "cell_type": "code",
   "execution_count": null,
   "id": "4ddc2371",
   "metadata": {},
   "outputs": [],
   "source": []
  },
  {
   "cell_type": "code",
   "execution_count": null,
   "id": "86bdc163",
   "metadata": {},
   "outputs": [],
   "source": []
  },
  {
   "cell_type": "code",
   "execution_count": null,
   "id": "f1757c54",
   "metadata": {},
   "outputs": [],
   "source": []
  }
 ],
 "metadata": {
  "kernelspec": {
   "display_name": "Python 3",
   "language": "python",
   "name": "python3"
  },
  "language_info": {
   "codemirror_mode": {
    "name": "ipython",
    "version": 3
   },
   "file_extension": ".py",
   "mimetype": "text/x-python",
   "name": "python",
   "nbconvert_exporter": "python",
   "pygments_lexer": "ipython3",
   "version": "3.8.8"
  }
 },
 "nbformat": 4,
 "nbformat_minor": 5
}
