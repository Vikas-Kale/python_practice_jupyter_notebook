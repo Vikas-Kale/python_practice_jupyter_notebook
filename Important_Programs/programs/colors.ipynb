{
 "cells": [
  {
   "cell_type": "markdown",
   "id": "f3c0dbf4",
   "metadata": {},
   "source": [
    "# method one"
   ]
  },
  {
   "cell_type": "code",
   "execution_count": 1,
   "id": "feb7d791",
   "metadata": {
    "ExecuteTime": {
     "end_time": "2021-09-23T17:33:31.545465Z",
     "start_time": "2021-09-23T17:33:31.493465Z"
    }
   },
   "outputs": [
    {
     "name": "stdout",
     "output_type": "stream",
     "text": [
      "\u001b[1mHello World !\u001b[0m\n"
     ]
    }
   ],
   "source": [
    "class color:\n",
    "   PURPLE = '\\033[95m'\n",
    "   CYAN = '\\033[96m'\n",
    "   DARKCYAN = '\\033[36m'\n",
    "   BLUE = '\\033[94m'\n",
    "   GREEN = '\\033[92m'\n",
    "   YELLOW = '\\033[93m'\n",
    "   RED = '\\033[91m'\n",
    "   BOLD = '\\033[1m'\n",
    "   UNDERLINE = '\\033[4m'\n",
    "   END = '\\033[0m'\n",
    "\n",
    "print(color.BOLD + 'Hello World !' + color.END)"
   ]
  },
  {
   "cell_type": "code",
   "execution_count": null,
   "id": "dbe33531",
   "metadata": {},
   "outputs": [],
   "source": []
  },
  {
   "cell_type": "code",
   "execution_count": 5,
   "id": "488e5dd4",
   "metadata": {
    "ExecuteTime": {
     "end_time": "2021-09-23T17:36:00.881605Z",
     "start_time": "2021-09-23T17:36:00.861606Z"
    }
   },
   "outputs": [
    {
     "name": "stdout",
     "output_type": "stream",
     "text": [
      "\u001b[92m \u001b[1mHello World !\u001b[0m\n"
     ]
    }
   ],
   "source": [
    "class color:\n",
    "   PURPLE = '\\033[95m'\n",
    "   CYAN = '\\033[96m'\n",
    "   DARKCYAN = '\\033[36m'\n",
    "   BLUE = '\\033[94m'\n",
    "   GREEN = '\\033[92m'\n",
    "   YELLOW = '\\033[93m'\n",
    "   RED = '\\033[91m'\n",
    "   BOLD = '\\033[1m'\n",
    "   UNDERLINE = '\\033[4m'\n",
    "   END = '\\033[0m'\n",
    "\n",
    "print(color.GREEN,color.BOLD + 'Hello World !' + color.END)"
   ]
  },
  {
   "cell_type": "markdown",
   "id": "1340b9f5",
   "metadata": {},
   "source": [
    "# method two"
   ]
  },
  {
   "cell_type": "markdown",
   "id": "5273e7dc",
   "metadata": {},
   "source": [
    "### using termcolor library"
   ]
  },
  {
   "cell_type": "markdown",
   "id": "5499c3ce",
   "metadata": {},
   "source": [
    "- ‘termcolor’ module: termcolor is a python module for ANSII Color formatting for output in the terminal. "
   ]
  },
  {
   "cell_type": "code",
   "execution_count": 8,
   "id": "f59eaae2",
   "metadata": {
    "ExecuteTime": {
     "end_time": "2021-09-23T17:44:51.455911Z",
     "start_time": "2021-09-23T17:44:51.440288Z"
    }
   },
   "outputs": [],
   "source": [
    "import termcolor\n",
    "from termcolor import colored"
   ]
  },
  {
   "cell_type": "code",
   "execution_count": 7,
   "id": "763d9a6f",
   "metadata": {
    "ExecuteTime": {
     "end_time": "2021-09-23T17:37:27.154372Z",
     "start_time": "2021-09-23T17:37:27.135373Z"
    }
   },
   "outputs": [
    {
     "name": "stdout",
     "output_type": "stream",
     "text": [
      "['ATTRIBUTES', 'COLORS', 'HIGHLIGHTS', 'RESET', 'VERSION', '__ALL__', '__builtins__', '__cached__', '__doc__', '__file__', '__loader__', '__name__', '__package__', '__spec__', 'colored', 'cprint', 'os', 'print_function']\n"
     ]
    }
   ],
   "source": [
    "print(dir(termcolor))"
   ]
  },
  {
   "cell_type": "code",
   "execution_count": 10,
   "id": "73dfabc1",
   "metadata": {
    "ExecuteTime": {
     "end_time": "2021-09-23T17:47:47.521405Z",
     "start_time": "2021-09-23T17:47:47.497407Z"
    }
   },
   "outputs": [
    {
     "name": "stdout",
     "output_type": "stream",
     "text": [
      "Help on function colored in module termcolor:\n",
      "\n",
      "colored(text, color=None, on_color=None, attrs=None)\n",
      "    Colorize text.\n",
      "    \n",
      "    Available text colors:\n",
      "        red, green, yellow, blue, magenta, cyan, white.\n",
      "    \n",
      "    Available text highlights:\n",
      "        on_red, on_green, on_yellow, on_blue, on_magenta, on_cyan, on_white.\n",
      "    \n",
      "    Available attributes:\n",
      "        bold, dark, underline, blink, reverse, concealed.\n",
      "    \n",
      "    Example:\n",
      "        colored('Hello, World!', 'red', 'on_grey', ['blue', 'blink'])\n",
      "        colored('Hello, World!', 'green')\n",
      "\n"
     ]
    }
   ],
   "source": [
    "help(termcolor.colored)"
   ]
  },
  {
   "cell_type": "code",
   "execution_count": 9,
   "id": "bda84890",
   "metadata": {
    "ExecuteTime": {
     "end_time": "2021-09-23T17:46:42.182841Z",
     "start_time": "2021-09-23T17:46:42.162839Z"
    }
   },
   "outputs": [
    {
     "name": "stdout",
     "output_type": "stream",
     "text": [
      "\u001b[5m\u001b[7m\u001b[31mHello World!\u001b[0m\n"
     ]
    }
   ],
   "source": [
    "# python program to print colored text and background\n",
    "\n",
    "import sys\n",
    "from termcolor import colored,cprint\n",
    "\n",
    "text=colored('Hello World!','red',attrs=['reverse','blink'])\n",
    "print(text)"
   ]
  },
  {
   "cell_type": "code",
   "execution_count": 14,
   "id": "3da96ae8",
   "metadata": {
    "ExecuteTime": {
     "end_time": "2021-09-23T17:49:19.686912Z",
     "start_time": "2021-09-23T17:49:19.676911Z"
    }
   },
   "outputs": [
    {
     "name": "stdout",
     "output_type": "stream",
     "text": [
      "\u001b[5m\u001b[7m\u001b[43m\u001b[31mHello World!\u001b[0m\n"
     ]
    }
   ],
   "source": [
    "# python program to print colored text and background\n",
    "\n",
    "import sys\n",
    "from termcolor import colored,cprint\n",
    "\n",
    "text=colored('Hello World!','red','on_yellow',attrs=['reverse','blink'])\n",
    "print(text)"
   ]
  },
  {
   "cell_type": "code",
   "execution_count": 17,
   "id": "732839ce",
   "metadata": {
    "ExecuteTime": {
     "end_time": "2021-09-23T17:51:00.646832Z",
     "start_time": "2021-09-23T17:51:00.632832Z"
    }
   },
   "outputs": [
    {
     "name": "stdout",
     "output_type": "stream",
     "text": [
      "\u001b[1m\u001b[43m\u001b[32mHello World!\u001b[0m\n"
     ]
    }
   ],
   "source": [
    "# python program to print colored text and background\n",
    "\n",
    "import sys\n",
    "from termcolor import colored,cprint\n",
    "\n",
    "text=colored('Hello World!','green','on_yellow',attrs=['bold'])\n",
    "print(text)"
   ]
  },
  {
   "cell_type": "code",
   "execution_count": 21,
   "id": "1a682fb5",
   "metadata": {
    "ExecuteTime": {
     "end_time": "2021-09-23T17:53:01.945608Z",
     "start_time": "2021-09-23T17:53:01.926610Z"
    }
   },
   "outputs": [
    {
     "name": "stdout",
     "output_type": "stream",
     "text": [
      "\u001b[4m\u001b[1m\u001b[43m\u001b[35mHello World!\u001b[0m\n"
     ]
    }
   ],
   "source": [
    "# python program to print colored text and background\n",
    "\n",
    "import sys\n",
    "from termcolor import colored,cprint\n",
    "\n",
    "text=colored('Hello World!','magenta','on_yellow',attrs=['bold','underline'])\n",
    "print(text)"
   ]
  },
  {
   "cell_type": "code",
   "execution_count": 32,
   "id": "b941d892",
   "metadata": {
    "ExecuteTime": {
     "end_time": "2021-09-23T17:58:15.505628Z",
     "start_time": "2021-09-23T17:58:15.489630Z"
    }
   },
   "outputs": [
    {
     "name": "stdout",
     "output_type": "stream",
     "text": [
      "\u001b[4m\u001b[1m\u001b[45m\u001b[34mHello World!\u001b[0m\n"
     ]
    }
   ],
   "source": [
    "# python program to print colored text and background\n",
    "\n",
    "import sys\n",
    "from termcolor import colored,cprint\n",
    "\n",
    "text=colored('Hello World!','blue','on_magenta',attrs=['bold','underline'])\n",
    "print(text)"
   ]
  },
  {
   "cell_type": "code",
   "execution_count": 26,
   "id": "038c6f7c",
   "metadata": {
    "ExecuteTime": {
     "end_time": "2021-09-23T17:55:17.150029Z",
     "start_time": "2021-09-23T17:55:17.126028Z"
    }
   },
   "outputs": [
    {
     "name": "stdout",
     "output_type": "stream",
     "text": [
      "\u001b[4m\u001b[1m\u001b[36mHello World!\u001b[0m\n"
     ]
    }
   ],
   "source": [
    "# python program to print colored text and background\n",
    "\n",
    "import sys\n",
    "from termcolor import colored,cprint\n",
    "\n",
    "text=colored('Hello World!','cyan',attrs=['bold','underline'])\n",
    "print(text)"
   ]
  },
  {
   "cell_type": "code",
   "execution_count": 33,
   "id": "6fac04c1",
   "metadata": {
    "ExecuteTime": {
     "end_time": "2021-09-23T17:58:59.473600Z",
     "start_time": "2021-09-23T17:58:59.454602Z"
    }
   },
   "outputs": [
    {
     "name": "stdout",
     "output_type": "stream",
     "text": [
      "Help on function cprint in module termcolor:\n",
      "\n",
      "cprint(text, color=None, on_color=None, attrs=None, **kwargs)\n",
      "    Print colorize text.\n",
      "    \n",
      "    It accepts arguments of print function.\n",
      "\n"
     ]
    }
   ],
   "source": [
    "help(termcolor.cprint)"
   ]
  },
  {
   "cell_type": "markdown",
   "id": "49cf08f6",
   "metadata": {},
   "source": [
    "# method three"
   ]
  },
  {
   "cell_type": "markdown",
   "id": "aece072e",
   "metadata": {},
   "source": [
    "- using colorama module"
   ]
  },
  {
   "cell_type": "raw",
   "id": "df969357",
   "metadata": {},
   "source": [
    "‘colorama’ module: Cross-platform printing of colored text can then be done using Colorama’s constant shorthand for ANSI escape sequences: "
   ]
  },
  {
   "cell_type": "markdown",
   "id": "c66a799b",
   "metadata": {},
   "source": [
    "#### program to print red text with green background"
   ]
  },
  {
   "cell_type": "code",
   "execution_count": 34,
   "id": "0acc2917",
   "metadata": {
    "ExecuteTime": {
     "end_time": "2021-09-23T18:10:54.661696Z",
     "start_time": "2021-09-23T18:10:54.645699Z"
    }
   },
   "outputs": [],
   "source": [
    "import colorama"
   ]
  },
  {
   "cell_type": "code",
   "execution_count": 35,
   "id": "96884a27",
   "metadata": {
    "ExecuteTime": {
     "end_time": "2021-09-23T18:11:03.675497Z",
     "start_time": "2021-09-23T18:11:03.659498Z"
    }
   },
   "outputs": [
    {
     "name": "stdout",
     "output_type": "stream",
     "text": [
      "['AnsiToWin32', 'Back', 'Cursor', 'Fore', 'Style', '__builtins__', '__cached__', '__doc__', '__file__', '__loader__', '__name__', '__package__', '__path__', '__spec__', '__version__', 'ansi', 'ansitowin32', 'colorama_text', 'deinit', 'init', 'initialise', 'reinit', 'win32', 'winterm']\n"
     ]
    }
   ],
   "source": [
    "print(dir(colorama))"
   ]
  },
  {
   "cell_type": "code",
   "execution_count": 36,
   "id": "140fb5e6",
   "metadata": {
    "ExecuteTime": {
     "end_time": "2021-09-23T18:11:46.125270Z",
     "start_time": "2021-09-23T18:11:46.069264Z"
    }
   },
   "outputs": [
    {
     "name": "stdout",
     "output_type": "stream",
     "text": [
      "Help on AnsiFore in module colorama.ansi object:\n",
      "\n",
      "class AnsiFore(AnsiCodes)\n",
      " |  Method resolution order:\n",
      " |      AnsiFore\n",
      " |      AnsiCodes\n",
      " |      builtins.object\n",
      " |  \n",
      " |  Data and other attributes defined here:\n",
      " |  \n",
      " |  BLACK = 30\n",
      " |  \n",
      " |  BLUE = 34\n",
      " |  \n",
      " |  CYAN = 36\n",
      " |  \n",
      " |  GREEN = 32\n",
      " |  \n",
      " |  LIGHTBLACK_EX = 90\n",
      " |  \n",
      " |  LIGHTBLUE_EX = 94\n",
      " |  \n",
      " |  LIGHTCYAN_EX = 96\n",
      " |  \n",
      " |  LIGHTGREEN_EX = 92\n",
      " |  \n",
      " |  LIGHTMAGENTA_EX = 95\n",
      " |  \n",
      " |  LIGHTRED_EX = 91\n",
      " |  \n",
      " |  LIGHTWHITE_EX = 97\n",
      " |  \n",
      " |  LIGHTYELLOW_EX = 93\n",
      " |  \n",
      " |  MAGENTA = 35\n",
      " |  \n",
      " |  RED = 31\n",
      " |  \n",
      " |  RESET = 39\n",
      " |  \n",
      " |  WHITE = 37\n",
      " |  \n",
      " |  YELLOW = 33\n",
      " |  \n",
      " |  ----------------------------------------------------------------------\n",
      " |  Methods inherited from AnsiCodes:\n",
      " |  \n",
      " |  __init__(self)\n",
      " |      Initialize self.  See help(type(self)) for accurate signature.\n",
      " |  \n",
      " |  ----------------------------------------------------------------------\n",
      " |  Data descriptors inherited from AnsiCodes:\n",
      " |  \n",
      " |  __dict__\n",
      " |      dictionary for instance variables (if defined)\n",
      " |  \n",
      " |  __weakref__\n",
      " |      list of weak references to the object (if defined)\n",
      "\n"
     ]
    }
   ],
   "source": [
    "help(colorama.Fore)"
   ]
  },
  {
   "cell_type": "code",
   "execution_count": 42,
   "id": "6cb21cce",
   "metadata": {
    "ExecuteTime": {
     "end_time": "2021-09-23T18:17:56.745092Z",
     "start_time": "2021-09-23T18:17:56.713096Z"
    }
   },
   "outputs": [
    {
     "name": "stdout",
     "output_type": "stream",
     "text": [
      "\u001b[31mSome Red Text\n",
      "\u001b[42mAnd some green background\n",
      "\u001b[2mAnd in dim text\n",
      "\u001b[0m\n",
      "back to normal now\n"
     ]
    }
   ],
   "source": [
    "from colorama import Fore,Back,Style\n",
    "print(Fore.RED + \"Some Red Text\")\n",
    "print(Back.GREEN + \"And some green background\")\n",
    "print(Style.DIM + \"And in dim text\" )\n",
    "\n",
    "print(Style.RESET_ALL)\n",
    "print(\"back to normal now\")"
   ]
  },
  {
   "cell_type": "code",
   "execution_count": null,
   "id": "2b03a8ec",
   "metadata": {},
   "outputs": [],
   "source": []
  }
 ],
 "metadata": {
  "kernelspec": {
   "display_name": "Python 3",
   "language": "python",
   "name": "python3"
  },
  "language_info": {
   "codemirror_mode": {
    "name": "ipython",
    "version": 3
   },
   "file_extension": ".py",
   "mimetype": "text/x-python",
   "name": "python",
   "nbconvert_exporter": "python",
   "pygments_lexer": "ipython3",
   "version": "3.8.8"
  }
 },
 "nbformat": 4,
 "nbformat_minor": 5
}
