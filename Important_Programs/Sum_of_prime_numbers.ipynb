{
 "cells": [
  {
   "cell_type": "raw",
   "id": "6cc1bb11",
   "metadata": {},
   "source": [
    "Sum of Prime Numbers\n",
    "Write a program to find the sum of all prime numbers in a given range. The program should consider all the prime numbers within the range, excluding the upper bound and lower bound.\n",
    "\n",
    "Case 1\n",
    "\n",
    "Input (stdin)\n",
    "7\n",
    "24\n",
    "\n",
    "Output (stdout)\n",
    "83"
   ]
  },
  {
   "cell_type": "code",
   "execution_count": null,
   "id": "26653881",
   "metadata": {},
   "outputs": [],
   "source": [
    "# prime numbers is all natural numbers grater than 1.\n"
   ]
  },
  {
   "cell_type": "code",
   "execution_count": 21,
   "id": "fbc1be2e",
   "metadata": {},
   "outputs": [
    {
     "name": "stdout",
     "output_type": "stream",
     "text": [
      "19\n",
      "19 is prime number.\n"
     ]
    }
   ],
   "source": [
    "num=int(input())\n",
    "count=0\n",
    "\n",
    "if num > 1:\n",
    "    for i in range(1,num+1):\n",
    "        if num%i == 0:\n",
    "            count+=1\n",
    "        \n",
    "    if count==2:\n",
    "        \n",
    "        print(f\"{num} is prime number.\")\n",
    "            \n",
    "    else:\n",
    "        print(f\"{num} is not prime number.\")\n",
    "        \n",
    "else:\n",
    "    print(\"Enter number which is greater than 1\")"
   ]
  },
  {
   "cell_type": "code",
   "execution_count": 3,
   "id": "632a84d3",
   "metadata": {},
   "outputs": [
    {
     "name": "stdout",
     "output_type": "stream",
     "text": [
      "[7, 11, 13, 17, 19, 23]\n",
      "83\n"
     ]
    }
   ],
   "source": [
    "lower=7\n",
    "upper=24\n",
    "\n",
    "res=[]\n",
    "for num in range(lower,upper+1):\n",
    "    for i in range(2,num):\n",
    "        if num%i==0:\n",
    "            break\n",
    "            \n",
    "    else:\n",
    "        res.append(num)\n",
    "\n",
    "        \n",
    "        \n",
    "print(res) \n",
    "\n",
    "\n",
    "if lower in res:\n",
    "    res.remove(lower)\n",
    "if upper in res:\n",
    "    res.remove(upper)\n",
    "    \n",
    "print(sum(res))    "
   ]
  },
  {
   "cell_type": "code",
   "execution_count": null,
   "id": "57a82def",
   "metadata": {},
   "outputs": [],
   "source": []
  },
  {
   "cell_type": "code",
   "execution_count": 9,
   "id": "3cce2087",
   "metadata": {},
   "outputs": [
    {
     "name": "stdout",
     "output_type": "stream",
     "text": [
      "[5, 7, 11, 13, 17, 19, 23, 29, 31, 37, 41, 43, 47, 53, 59, 61, 67, 71, 73, 79, 83, 89]\n",
      "22\n",
      "953\n"
     ]
    }
   ],
   "source": [
    "# print all prime numbers between 5 to 90 \n",
    "# print sum of prime numbers excluding lower and upper bound.\n",
    "\n",
    "res=[]\n",
    "for num in range(5,91):\n",
    "    for i in range(2,num):\n",
    "        if num%i==0:\n",
    "            break\n",
    "            \n",
    "    else:\n",
    "        res.append(num)\n",
    "        \n",
    "print(res)\n",
    "print(len(res))\n",
    "if 5 in res:\n",
    "    res.remove(5)\n",
    "if 90 in res:\n",
    "    res.remove(90)\n",
    "    \n",
    "print(sum(res))\n",
    "        \n",
    "        \n",
    "        "
   ]
  },
  {
   "cell_type": "code",
   "execution_count": 10,
   "id": "7f3e8d06",
   "metadata": {},
   "outputs": [
    {
     "name": "stdout",
     "output_type": "stream",
     "text": [
      "953\n"
     ]
    }
   ],
   "source": [
    "lst=[7, 11, 13, 17, 19, 23, 29, 31, 37, 41, 43, 47, 53, 59, 61, 67, 71, 73, 79, 83, 89]\n",
    "print(sum(lst))"
   ]
  },
  {
   "cell_type": "code",
   "execution_count": 16,
   "id": "f9f102e4",
   "metadata": {},
   "outputs": [
    {
     "name": "stdout",
     "output_type": "stream",
     "text": [
      "5\n",
      "90\n",
      "5\n",
      "7\n",
      "11\n",
      "13\n",
      "17\n",
      "19\n",
      "23\n",
      "29\n",
      "31\n",
      "37\n",
      "41\n",
      "43\n",
      "47\n",
      "53\n",
      "59\n",
      "61\n",
      "67\n",
      "71\n",
      "73\n",
      "79\n",
      "83\n",
      "89\n"
     ]
    }
   ],
   "source": [
    "lower=int(input())\n",
    "upper=int(input())\n",
    "\n",
    "for i in range(lower,upper+1):\n",
    "    if i>1:\n",
    "        for j in range(2,i):\n",
    "            if i%j==0:\n",
    "                break\n",
    "                \n",
    "        else:\n",
    "            print((i))\n",
    "    \n",
    "    else:\n",
    "        print(\"invalid range!\")\n",
    "    "
   ]
  },
  {
   "cell_type": "code",
   "execution_count": 10,
   "id": "3e65a22f",
   "metadata": {},
   "outputs": [],
   "source": [
    "def Prime_Numbers(lower,upper):\n",
    "    \"\"\"\n",
    "    This function returns prime numbers between given range.\n",
    "    NOTE:- The value of lower is greater than 1.\n",
    "    \"\"\"\n",
    "#     lower=int(input())\n",
    "#     upper=int(input())\n",
    "\n",
    "    for i in range(lower,upper+1):\n",
    "        if i>1:\n",
    "            for j in range(2,i):\n",
    "                if i%j==0:\n",
    "                    break\n",
    "                \n",
    "            else:\n",
    "                print(i)\n",
    "    \n",
    "        else:\n",
    "            print(\"invalid range!\")"
   ]
  },
  {
   "cell_type": "code",
   "execution_count": 11,
   "id": "20c2f08b",
   "metadata": {},
   "outputs": [
    {
     "name": "stdout",
     "output_type": "stream",
     "text": [
      "5\n",
      "7\n",
      "11\n",
      "13\n",
      "17\n",
      "19\n"
     ]
    }
   ],
   "source": [
    "Prime_Numbers(5,20)"
   ]
  },
  {
   "cell_type": "code",
   "execution_count": 12,
   "id": "965a292e",
   "metadata": {},
   "outputs": [
    {
     "name": "stdout",
     "output_type": "stream",
     "text": [
      "2\n",
      "3\n",
      "5\n",
      "7\n",
      "11\n",
      "13\n",
      "17\n",
      "19\n",
      "23\n",
      "29\n",
      "31\n",
      "37\n",
      "41\n",
      "43\n",
      "47\n"
     ]
    }
   ],
   "source": [
    "Prime_Numbers(2,50)"
   ]
  },
  {
   "cell_type": "code",
   "execution_count": 13,
   "id": "141432e2",
   "metadata": {},
   "outputs": [
    {
     "name": "stdout",
     "output_type": "stream",
     "text": [
      "Help on function Prime_Numbers in module __main__:\n",
      "\n",
      "Prime_Numbers(lower, upper)\n",
      "    This function returns prime numbers between given range.\n",
      "    NOTE:- The value of lower is greater than 1.\n",
      "\n"
     ]
    }
   ],
   "source": [
    "help(Prime_Numbers)"
   ]
  },
  {
   "cell_type": "code",
   "execution_count": null,
   "id": "b54bdf07",
   "metadata": {},
   "outputs": [],
   "source": []
  }
 ],
 "metadata": {
  "kernelspec": {
   "display_name": "Python 3",
   "language": "python",
   "name": "python3"
  },
  "language_info": {
   "codemirror_mode": {
    "name": "ipython",
    "version": 3
   },
   "file_extension": ".py",
   "mimetype": "text/x-python",
   "name": "python",
   "nbconvert_exporter": "python",
   "pygments_lexer": "ipython3",
   "version": "3.8.8"
  }
 },
 "nbformat": 4,
 "nbformat_minor": 5
}
