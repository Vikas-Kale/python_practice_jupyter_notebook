{
 "cells": [
  {
   "cell_type": "markdown",
   "id": "6e3147fb",
   "metadata": {},
   "source": [
    "# encapsulation"
   ]
  },
  {
   "cell_type": "markdown",
   "id": "f80ca43f",
   "metadata": {},
   "source": [
    "- restrict access to attributes and method"
   ]
  },
  {
   "cell_type": "code",
   "execution_count": null,
   "id": "1d0202f3",
   "metadata": {},
   "outputs": [],
   "source": [
    "- public:    \n",
    "- private :  __ `access only owner that class`\n",
    "- protected:_ `All protected methods and attributes can access in child class.`"
   ]
  },
  {
   "cell_type": "markdown",
   "id": "91911118",
   "metadata": {},
   "source": [
    "# protected"
   ]
  },
  {
   "cell_type": "code",
   "execution_count": 4,
   "id": "6f3e85d3",
   "metadata": {
    "ExecuteTime": {
     "end_time": "2021-09-25T09:05:15.839988Z",
     "start_time": "2021-09-25T09:05:15.832988Z"
    }
   },
   "outputs": [],
   "source": [
    "class Test:\n",
    "    num=100\n",
    "    \n",
    "    def _showdata(self):\n",
    "        print(\"I am in showdata of Test class\")\n",
    "        \n",
    "class Test2(Test):\n",
    "    def _printdata(self):\n",
    "        print(\"I am in printdata of Test2 class\")"
   ]
  },
  {
   "cell_type": "code",
   "execution_count": 5,
   "id": "ea3856e2",
   "metadata": {
    "ExecuteTime": {
     "end_time": "2021-09-25T09:05:16.528579Z",
     "start_time": "2021-09-25T09:05:16.510578Z"
    }
   },
   "outputs": [],
   "source": [
    "s1=Test()"
   ]
  },
  {
   "cell_type": "code",
   "execution_count": 6,
   "id": "6fed1202",
   "metadata": {
    "ExecuteTime": {
     "end_time": "2021-09-25T09:05:17.047986Z",
     "start_time": "2021-09-25T09:05:17.028987Z"
    }
   },
   "outputs": [],
   "source": [
    "s2=Test2()"
   ]
  },
  {
   "cell_type": "code",
   "execution_count": 7,
   "id": "1fdc57ad",
   "metadata": {
    "ExecuteTime": {
     "end_time": "2021-09-25T09:05:31.161558Z",
     "start_time": "2021-09-25T09:05:31.100560Z"
    }
   },
   "outputs": [
    {
     "name": "stdout",
     "output_type": "stream",
     "text": [
      "I am in showdata of Test class\n"
     ]
    }
   ],
   "source": [
    "s2._showdata()"
   ]
  },
  {
   "cell_type": "code",
   "execution_count": 8,
   "id": "cec03cd7",
   "metadata": {
    "ExecuteTime": {
     "end_time": "2021-09-25T09:05:53.743325Z",
     "start_time": "2021-09-25T09:05:53.727325Z"
    }
   },
   "outputs": [
    {
     "name": "stdout",
     "output_type": "stream",
     "text": [
      "I am in printdata of Test2 class\n"
     ]
    }
   ],
   "source": [
    "s2._printdata()"
   ]
  },
  {
   "cell_type": "markdown",
   "id": "4dbb9a6c",
   "metadata": {},
   "source": [
    "# private"
   ]
  },
  {
   "cell_type": "code",
   "execution_count": 21,
   "id": "0033462b",
   "metadata": {
    "ExecuteTime": {
     "end_time": "2021-09-25T09:18:41.236210Z",
     "start_time": "2021-09-25T09:18:41.224206Z"
    }
   },
   "outputs": [],
   "source": [
    "class Private:\n",
    "    __mobile_number=7798743804\n",
    "    \n",
    "    def __Showdata(self):\n",
    "        print(\"I am in __showdata of Private class.\")\n",
    "        \n",
    "class Info(Private):\n",
    "    name=\"Vikas\"\n",
    "    \n",
    "    def Printdata(self):\n",
    "        print(\"This is public class\")\n",
    "        print(\"I am in Printdata of Info class.\")"
   ]
  },
  {
   "cell_type": "code",
   "execution_count": 10,
   "id": "7f76e6bd",
   "metadata": {
    "ExecuteTime": {
     "end_time": "2021-09-25T09:11:10.801604Z",
     "start_time": "2021-09-25T09:11:10.793604Z"
    }
   },
   "outputs": [],
   "source": [
    "x=Private()"
   ]
  },
  {
   "cell_type": "code",
   "execution_count": 11,
   "id": "02a84385",
   "metadata": {
    "ExecuteTime": {
     "end_time": "2021-09-25T09:11:26.006605Z",
     "start_time": "2021-09-25T09:11:25.583608Z"
    }
   },
   "outputs": [
    {
     "ename": "AttributeError",
     "evalue": "'Private' object has no attribute '__Shodata'",
     "output_type": "error",
     "traceback": [
      "\u001b[1;31m---------------------------------------------------------------------------\u001b[0m",
      "\u001b[1;31mAttributeError\u001b[0m                            Traceback (most recent call last)",
      "\u001b[1;32m<ipython-input-11-9144b279aa59>\u001b[0m in \u001b[0;36m<module>\u001b[1;34m\u001b[0m\n\u001b[1;32m----> 1\u001b[1;33m \u001b[0mx\u001b[0m\u001b[1;33m.\u001b[0m\u001b[0m__Shodata\u001b[0m\u001b[1;33m(\u001b[0m\u001b[1;33m)\u001b[0m\u001b[1;33m\u001b[0m\u001b[1;33m\u001b[0m\u001b[0m\n\u001b[0m",
      "\u001b[1;31mAttributeError\u001b[0m: 'Private' object has no attribute '__Shodata'"
     ]
    }
   ],
   "source": [
    "x.__Shodata()"
   ]
  },
  {
   "cell_type": "code",
   "execution_count": 12,
   "id": "039e3b33",
   "metadata": {
    "ExecuteTime": {
     "end_time": "2021-09-25T09:11:37.957348Z",
     "start_time": "2021-09-25T09:11:37.949349Z"
    }
   },
   "outputs": [
    {
     "name": "stdout",
     "output_type": "stream",
     "text": [
      "['_Private__Showdata', '_Private__mobile_number', '__class__', '__delattr__', '__dict__', '__dir__', '__doc__', '__eq__', '__format__', '__ge__', '__getattribute__', '__gt__', '__hash__', '__init__', '__init_subclass__', '__le__', '__lt__', '__module__', '__ne__', '__new__', '__reduce__', '__reduce_ex__', '__repr__', '__setattr__', '__sizeof__', '__str__', '__subclasshook__', '__weakref__']\n"
     ]
    }
   ],
   "source": [
    "print(dir(x))"
   ]
  },
  {
   "cell_type": "code",
   "execution_count": 13,
   "id": "7cce2947",
   "metadata": {
    "ExecuteTime": {
     "end_time": "2021-09-25T09:12:09.750268Z",
     "start_time": "2021-09-25T09:12:09.733269Z"
    }
   },
   "outputs": [
    {
     "name": "stdout",
     "output_type": "stream",
     "text": [
      "I am in __showdata of Private class.\n"
     ]
    }
   ],
   "source": [
    "x._Private__Showdata()"
   ]
  },
  {
   "cell_type": "code",
   "execution_count": 14,
   "id": "4dbfa4b3",
   "metadata": {
    "ExecuteTime": {
     "end_time": "2021-09-25T09:12:48.125009Z",
     "start_time": "2021-09-25T09:12:48.096010Z"
    }
   },
   "outputs": [
    {
     "data": {
      "text/plain": [
       "7798743804"
      ]
     },
     "execution_count": 14,
     "metadata": {},
     "output_type": "execute_result"
    }
   ],
   "source": [
    "x._Private__mobile_number"
   ]
  },
  {
   "cell_type": "code",
   "execution_count": 22,
   "id": "4a26b6d5",
   "metadata": {
    "ExecuteTime": {
     "end_time": "2021-09-25T09:18:47.651267Z",
     "start_time": "2021-09-25T09:18:47.639268Z"
    }
   },
   "outputs": [],
   "source": [
    "x1=Info()"
   ]
  },
  {
   "cell_type": "code",
   "execution_count": 24,
   "id": "af13acb6",
   "metadata": {
    "ExecuteTime": {
     "end_time": "2021-09-25T09:19:13.903174Z",
     "start_time": "2021-09-25T09:19:13.882178Z"
    }
   },
   "outputs": [
    {
     "name": "stdout",
     "output_type": "stream",
     "text": [
      "This is public class\n",
      "I am in Printdata of Info class.\n"
     ]
    }
   ],
   "source": [
    "x1.Printdata()"
   ]
  },
  {
   "cell_type": "code",
   "execution_count": 26,
   "id": "c35cc465",
   "metadata": {
    "ExecuteTime": {
     "end_time": "2021-09-25T09:19:39.907200Z",
     "start_time": "2021-09-25T09:19:39.891200Z"
    }
   },
   "outputs": [
    {
     "data": {
      "text/plain": [
       "7798743804"
      ]
     },
     "execution_count": 26,
     "metadata": {},
     "output_type": "execute_result"
    }
   ],
   "source": [
    "x1._Private__mobile_number   # name mangling"
   ]
  },
  {
   "cell_type": "code",
   "execution_count": 27,
   "id": "2103b4bd",
   "metadata": {
    "ExecuteTime": {
     "end_time": "2021-09-25T09:19:56.256567Z",
     "start_time": "2021-09-25T09:19:56.237566Z"
    }
   },
   "outputs": [
    {
     "name": "stdout",
     "output_type": "stream",
     "text": [
      "I am in __showdata of Private class.\n"
     ]
    }
   ],
   "source": [
    "x1._Private__Showdata()"
   ]
  },
  {
   "cell_type": "code",
   "execution_count": null,
   "id": "e815b9ce",
   "metadata": {},
   "outputs": [],
   "source": []
  }
 ],
 "metadata": {
  "kernelspec": {
   "display_name": "Python 3",
   "language": "python",
   "name": "python3"
  },
  "language_info": {
   "codemirror_mode": {
    "name": "ipython",
    "version": 3
   },
   "file_extension": ".py",
   "mimetype": "text/x-python",
   "name": "python",
   "nbconvert_exporter": "python",
   "pygments_lexer": "ipython3",
   "version": "3.8.8"
  }
 },
 "nbformat": 4,
 "nbformat_minor": 5
}
