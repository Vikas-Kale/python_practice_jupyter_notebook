{
 "cells": [
  {
   "cell_type": "code",
   "execution_count": 1,
   "id": "9cb4d5bb",
   "metadata": {
    "ExecuteTime": {
     "end_time": "2021-09-26T23:40:36.065737Z",
     "start_time": "2021-09-26T23:40:36.018737Z"
    }
   },
   "outputs": [],
   "source": [
    "dict1 = {'name':'vikas','course':'python','address':'Pune,Maharashtra'}"
   ]
  },
  {
   "cell_type": "code",
   "execution_count": 2,
   "id": "0343580d",
   "metadata": {
    "ExecuteTime": {
     "end_time": "2021-09-26T23:40:43.548378Z",
     "start_time": "2021-09-26T23:40:43.504382Z"
    }
   },
   "outputs": [
    {
     "data": {
      "text/plain": [
       "dict"
      ]
     },
     "execution_count": 2,
     "metadata": {},
     "output_type": "execute_result"
    }
   ],
   "source": [
    "type(dict1)"
   ]
  },
  {
   "cell_type": "code",
   "execution_count": 3,
   "id": "7f2839e3",
   "metadata": {
    "ExecuteTime": {
     "end_time": "2021-09-26T23:40:56.104258Z",
     "start_time": "2021-09-26T23:40:56.084260Z"
    }
   },
   "outputs": [
    {
     "name": "stdout",
     "output_type": "stream",
     "text": [
      "['__class__', '__contains__', '__delattr__', '__delitem__', '__dir__', '__doc__', '__eq__', '__format__', '__ge__', '__getattribute__', '__getitem__', '__gt__', '__hash__', '__init__', '__init_subclass__', '__iter__', '__le__', '__len__', '__lt__', '__ne__', '__new__', '__reduce__', '__reduce_ex__', '__repr__', '__reversed__', '__setattr__', '__setitem__', '__sizeof__', '__str__', '__subclasshook__', 'clear', 'copy', 'fromkeys', 'get', 'items', 'keys', 'pop', 'popitem', 'setdefault', 'update', 'values']\n"
     ]
    }
   ],
   "source": [
    "print(dir(dict))"
   ]
  },
  {
   "cell_type": "code",
   "execution_count": 4,
   "id": "7080fd88",
   "metadata": {
    "ExecuteTime": {
     "end_time": "2021-09-26T23:41:26.610925Z",
     "start_time": "2021-09-26T23:41:26.595927Z"
    }
   },
   "outputs": [
    {
     "name": "stdout",
     "output_type": "stream",
     "text": [
      "Help on method_descriptor:\n",
      "\n",
      "clear(...)\n",
      "    D.clear() -> None.  Remove all items from D.\n",
      "\n"
     ]
    }
   ],
   "source": [
    "help(dict.clear)"
   ]
  },
  {
   "cell_type": "code",
   "execution_count": 5,
   "id": "6c818db2",
   "metadata": {
    "ExecuteTime": {
     "end_time": "2021-09-26T23:42:25.741697Z",
     "start_time": "2021-09-26T23:42:25.725698Z"
    }
   },
   "outputs": [
    {
     "name": "stdout",
     "output_type": "stream",
     "text": [
      "Help on method_descriptor:\n",
      "\n",
      "copy(...)\n",
      "    D.copy() -> a shallow copy of D\n",
      "\n"
     ]
    }
   ],
   "source": [
    "help(dict.copy)"
   ]
  },
  {
   "cell_type": "code",
   "execution_count": 7,
   "id": "b424f604",
   "metadata": {
    "ExecuteTime": {
     "end_time": "2021-09-26T23:46:48.307287Z",
     "start_time": "2021-09-26T23:46:48.290287Z"
    }
   },
   "outputs": [],
   "source": [
    "new_dict = dict1.copy()"
   ]
  },
  {
   "cell_type": "code",
   "execution_count": 8,
   "id": "909849b7",
   "metadata": {
    "ExecuteTime": {
     "end_time": "2021-09-26T23:46:53.441179Z",
     "start_time": "2021-09-26T23:46:53.422179Z"
    }
   },
   "outputs": [
    {
     "data": {
      "text/plain": [
       "{'name': 'vikas', 'course': 'python', 'address': 'Pune,Maharashtra'}"
      ]
     },
     "execution_count": 8,
     "metadata": {},
     "output_type": "execute_result"
    }
   ],
   "source": [
    "new_dict"
   ]
  },
  {
   "cell_type": "code",
   "execution_count": 9,
   "id": "fb41cad3",
   "metadata": {
    "ExecuteTime": {
     "end_time": "2021-09-27T04:00:34.261818Z",
     "start_time": "2021-09-27T04:00:34.165818Z"
    }
   },
   "outputs": [],
   "source": [
    "import copy"
   ]
  },
  {
   "cell_type": "code",
   "execution_count": 10,
   "id": "a807c370",
   "metadata": {
    "ExecuteTime": {
     "end_time": "2021-09-27T04:00:49.036079Z",
     "start_time": "2021-09-27T04:00:48.948082Z"
    }
   },
   "outputs": [
    {
     "name": "stdout",
     "output_type": "stream",
     "text": [
      "['Error', '__all__', '__builtins__', '__cached__', '__doc__', '__file__', '__loader__', '__name__', '__package__', '__spec__', '_copy_dispatch', '_copy_immutable', '_deepcopy_atomic', '_deepcopy_dict', '_deepcopy_dispatch', '_deepcopy_list', '_deepcopy_method', '_deepcopy_tuple', '_keep_alive', '_reconstruct', 'copy', 'deepcopy', 'dispatch_table', 'error']\n"
     ]
    }
   ],
   "source": [
    "print(dir(copy))"
   ]
  },
  {
   "cell_type": "code",
   "execution_count": 12,
   "id": "12070d6f",
   "metadata": {
    "ExecuteTime": {
     "end_time": "2021-09-27T04:04:17.796667Z",
     "start_time": "2021-09-27T04:04:17.780668Z"
    }
   },
   "outputs": [
    {
     "name": "stdout",
     "output_type": "stream",
     "text": [
      "[12, 1, 2, 5, 88]\n",
      "[12, 1, 2, 88]\n",
      "Original list: [12, 1, 2, 5, 88]\n"
     ]
    }
   ],
   "source": [
    "lst1 = [12,1,2,5,88]\n",
    "lst2 = [11,22,33,44,55,66]\n",
    "\n",
    "# deep copy\n",
    "\n",
    "lst2 = copy.deepcopy(lst1)\n",
    "\n",
    "print(lst2)\n",
    "\n",
    "lst2.remove(5)\n",
    "\n",
    "print(lst2)\n",
    "print(\"Original list:\",lst1)"
   ]
  },
  {
   "cell_type": "code",
   "execution_count": 13,
   "id": "31ce8b7c",
   "metadata": {
    "ExecuteTime": {
     "end_time": "2021-09-27T04:15:54.104635Z",
     "start_time": "2021-09-27T04:15:54.088635Z"
    }
   },
   "outputs": [
    {
     "data": {
      "text/plain": [
       "1937452210944"
      ]
     },
     "execution_count": 13,
     "metadata": {},
     "output_type": "execute_result"
    }
   ],
   "source": [
    "id(lst1)"
   ]
  },
  {
   "cell_type": "code",
   "execution_count": 15,
   "id": "7ed4b6c7",
   "metadata": {
    "ExecuteTime": {
     "end_time": "2021-09-27T04:16:11.916193Z",
     "start_time": "2021-09-27T04:16:11.892196Z"
    }
   },
   "outputs": [
    {
     "data": {
      "text/plain": [
       "1937457513216"
      ]
     },
     "execution_count": 15,
     "metadata": {},
     "output_type": "execute_result"
    }
   ],
   "source": [
    "id(lst2)"
   ]
  },
  {
   "cell_type": "code",
   "execution_count": 17,
   "id": "38dd78f2",
   "metadata": {
    "ExecuteTime": {
     "end_time": "2021-09-27T04:17:36.244127Z",
     "start_time": "2021-09-27T04:17:36.225618Z"
    }
   },
   "outputs": [
    {
     "name": "stdout",
     "output_type": "stream",
     "text": [
      "1937455797184\n",
      "[12, 1, 2, 5, 88]\n",
      "1937455797184\n"
     ]
    }
   ],
   "source": [
    "lst1 = [12,1,2,5,88]\n",
    "lst2 = [11,22,33,44,55,66]\n",
    "\n",
    "print(id(lst1))\n",
    "\n",
    "lst3 = lst1.copy()\n",
    "\n",
    "print(lst3)\n",
    "print(id(lst1))"
   ]
  },
  {
   "cell_type": "code",
   "execution_count": null,
   "id": "e1bf1a39",
   "metadata": {},
   "outputs": [],
   "source": []
  }
 ],
 "metadata": {
  "kernelspec": {
   "display_name": "Python 3",
   "language": "python",
   "name": "python3"
  },
  "language_info": {
   "codemirror_mode": {
    "name": "ipython",
    "version": 3
   },
   "file_extension": ".py",
   "mimetype": "text/x-python",
   "name": "python",
   "nbconvert_exporter": "python",
   "pygments_lexer": "ipython3",
   "version": "3.8.8"
  }
 },
 "nbformat": 4,
 "nbformat_minor": 5
}
