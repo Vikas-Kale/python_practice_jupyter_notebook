{
 "cells": [
  {
   "cell_type": "markdown",
   "id": "fdbbd81d",
   "metadata": {},
   "source": [
    "## Input\n",
    "Initial List -  [[1, 2, 3], [4, 5, 6], [7, 8, 9]]\n",
    "\n",
    "## Output\n",
    "final list -  [12, 15, 18]"
   ]
  },
  {
   "cell_type": "code",
   "execution_count": 1,
   "id": "e5dc4735",
   "metadata": {},
   "outputs": [
    {
     "name": "stdout",
     "output_type": "stream",
     "text": [
      "[1, 2, 3]\n",
      "[4, 5, 6]\n",
      "[7, 8, 9]\n"
     ]
    }
   ],
   "source": [
    "num=[[1,2,3],[4,5,6],[7,8,9]]\n",
    "\n",
    "for ele in num:\n",
    "    print(ele)\n",
    "    "
   ]
  },
  {
   "cell_type": "code",
   "execution_count": 2,
   "id": "e1c4ed48",
   "metadata": {},
   "outputs": [
    {
     "data": {
      "text/plain": [
       "list"
      ]
     },
     "execution_count": 2,
     "metadata": {},
     "output_type": "execute_result"
    }
   ],
   "source": [
    "type(ele)"
   ]
  },
  {
   "cell_type": "code",
   "execution_count": 3,
   "id": "f3d08cd7",
   "metadata": {},
   "outputs": [
    {
     "name": "stdout",
     "output_type": "stream",
     "text": [
      "7\n"
     ]
    }
   ],
   "source": [
    "print(ele[0])"
   ]
  },
  {
   "cell_type": "code",
   "execution_count": 17,
   "id": "2f3cd9a2",
   "metadata": {},
   "outputs": [
    {
     "ename": "TypeError",
     "evalue": "'end' is an invalid keyword argument for str()",
     "output_type": "error",
     "traceback": [
      "\u001b[1;31m---------------------------------------------------------------------------\u001b[0m",
      "\u001b[1;31mTypeError\u001b[0m                                 Traceback (most recent call last)",
      "\u001b[1;32m<ipython-input-17-be9a0dd8238b>\u001b[0m in \u001b[0;36m<module>\u001b[1;34m\u001b[0m\n\u001b[0;32m      5\u001b[0m \u001b[1;31m#     print(ele[0])\u001b[0m\u001b[1;33m\u001b[0m\u001b[1;33m\u001b[0m\u001b[1;33m\u001b[0m\u001b[0m\n\u001b[0;32m      6\u001b[0m     \u001b[0msum1\u001b[0m\u001b[1;33m=\u001b[0m\u001b[0msum1\u001b[0m\u001b[1;33m+\u001b[0m\u001b[0mele\u001b[0m\u001b[1;33m[\u001b[0m\u001b[1;36m0\u001b[0m\u001b[1;33m]\u001b[0m\u001b[1;33m\u001b[0m\u001b[1;33m\u001b[0m\u001b[0m\n\u001b[1;32m----> 7\u001b[1;33m     \u001b[0mprint\u001b[0m\u001b[1;33m(\u001b[0m\u001b[0msum\u001b[0m\u001b[1;33m(\u001b[0m\u001b[0mstr\u001b[0m\u001b[1;33m(\u001b[0m\u001b[0msum1\u001b[0m\u001b[1;33m,\u001b[0m\u001b[0mend\u001b[0m\u001b[1;33m=\u001b[0m\u001b[1;34m\" \"\u001b[0m\u001b[1;33m)\u001b[0m\u001b[1;33m)\u001b[0m\u001b[1;33m)\u001b[0m\u001b[1;33m\u001b[0m\u001b[1;33m\u001b[0m\u001b[0m\n\u001b[0m",
      "\u001b[1;31mTypeError\u001b[0m: 'end' is an invalid keyword argument for str()"
     ]
    }
   ],
   "source": [
    "num=[[1,2,3],[4,5,6],[7,8,9]]\n",
    "\n",
    "for ele in num:\n",
    "    sum1=0\n",
    "#     print(ele[0])\n",
    "    sum1=sum1+ele[0]\n"
   ]
  },
  {
   "cell_type": "code",
   "execution_count": 18,
   "id": "9e96d4a7",
   "metadata": {},
   "outputs": [
    {
     "data": {
      "text/plain": [
       "[1, 2, 3]"
      ]
     },
     "execution_count": 18,
     "metadata": {},
     "output_type": "execute_result"
    }
   ],
   "source": [
    "num=[[1,2,3],[4,5,6],[7,8,9]]\n",
    "num[0]"
   ]
  },
  {
   "cell_type": "code",
   "execution_count": 19,
   "id": "7ffe9338",
   "metadata": {},
   "outputs": [
    {
     "data": {
      "text/plain": [
       "1"
      ]
     },
     "execution_count": 19,
     "metadata": {},
     "output_type": "execute_result"
    }
   ],
   "source": [
    "num[0][0]"
   ]
  },
  {
   "cell_type": "markdown",
   "id": "ec49ddf0",
   "metadata": {},
   "source": [
    "# Solution"
   ]
  },
  {
   "cell_type": "code",
   "execution_count": 21,
   "id": "704387d0",
   "metadata": {},
   "outputs": [
    {
     "name": "stdout",
     "output_type": "stream",
     "text": [
      "[12, 15, 18]\n"
     ]
    }
   ],
   "source": [
    "n=[]\n",
    "a=num[0][0]+num[1][0]+num[2][0]\n",
    "b=num[0][1]+num[1][1]+num[2][1]\n",
    "c=num[0][2]+num[1][2]+num[2][2]\n",
    "n.append(a)\n",
    "n.append(b)\n",
    "n.append(c)\n",
    "print(n)"
   ]
  },
  {
   "cell_type": "code",
   "execution_count": 25,
   "id": "35ced0f7",
   "metadata": {},
   "outputs": [
    {
     "name": "stdout",
     "output_type": "stream",
     "text": [
      "[12, 15, 18]\n"
     ]
    }
   ],
   "source": [
    "L=[[1,2,3],[4,5,6],[7,8,9]]\n",
    "res = list()\n",
    "for j in range(0, len(L[0])):\n",
    "    sum2 = 0\n",
    "    for i in range(0, len(L)):\n",
    "        sum2 = sum2 + L[i][j]\n",
    "    res.append(sum2)\n",
    "print(res)"
   ]
  },
  {
   "cell_type": "code",
   "execution_count": 23,
   "id": "5d4a878e",
   "metadata": {},
   "outputs": [
    {
     "data": {
      "text/plain": [
       "3"
      ]
     },
     "execution_count": 23,
     "metadata": {},
     "output_type": "execute_result"
    }
   ],
   "source": [
    "len(L[0])"
   ]
  },
  {
   "cell_type": "code",
   "execution_count": 24,
   "id": "001c4fda",
   "metadata": {},
   "outputs": [
    {
     "data": {
      "text/plain": [
       "3"
      ]
     },
     "execution_count": 24,
     "metadata": {},
     "output_type": "execute_result"
    }
   ],
   "source": [
    "len(L)"
   ]
  },
  {
   "cell_type": "code",
   "execution_count": 27,
   "id": "fbad0edb",
   "metadata": {},
   "outputs": [
    {
     "name": "stdout",
     "output_type": "stream",
     "text": [
      "[12, 15, 18]\n"
     ]
    }
   ],
   "source": [
    "num=[[1,2,3],[4,5,6],[7,8,9]]\n",
    "result=[]\n",
    "for i in range(len(num[0])):\n",
    "    sum=0                               j  i      j  i      j  i \n",
    "    for j in range(len(num)):           |  |      |  |      |  |\n",
    "        sum=sum+num[j][i]     # 1st:num[0][0]+num[1][0]+num[2][0]\n",
    "                              # 2nd:num[0][1]+num[1][1]+num[2][1]\n",
    "                              # 3rd:num[0][2]+num[1][2]+num[2][2]\n",
    "    result.append(sum)\n",
    "print(result)"
   ]
  },
  {
   "cell_type": "code",
   "execution_count": null,
   "id": "1f6b01ef",
   "metadata": {},
   "outputs": [],
   "source": []
  }
 ],
 "metadata": {
  "kernelspec": {
   "display_name": "Python 3",
   "language": "python",
   "name": "python3"
  },
  "language_info": {
   "codemirror_mode": {
    "name": "ipython",
    "version": 3
   },
   "file_extension": ".py",
   "mimetype": "text/x-python",
   "name": "python",
   "nbconvert_exporter": "python",
   "pygments_lexer": "ipython3",
   "version": "3.8.8"
  }
 },
 "nbformat": 4,
 "nbformat_minor": 5
}
