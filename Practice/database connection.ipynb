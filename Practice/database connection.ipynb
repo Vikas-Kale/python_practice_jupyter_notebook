{
 "cells": [
  {
   "cell_type": "code",
   "execution_count": 1,
   "id": "2a2a0106",
   "metadata": {
    "ExecuteTime": {
     "end_time": "2021-09-26T04:32:53.867202Z",
     "start_time": "2021-09-26T04:32:53.858201Z"
    }
   },
   "outputs": [],
   "source": [
    "import sqlite3"
   ]
  },
  {
   "cell_type": "code",
   "execution_count": 2,
   "id": "be12448d",
   "metadata": {
    "ExecuteTime": {
     "end_time": "2021-09-26T04:35:22.082932Z",
     "start_time": "2021-09-26T04:35:22.063897Z"
    }
   },
   "outputs": [],
   "source": [
    "# create database\n",
    "\n",
    "conn=sqlite3.connect(\"Student_info.db\")"
   ]
  },
  {
   "cell_type": "code",
   "execution_count": 3,
   "id": "7b863aa8",
   "metadata": {
    "ExecuteTime": {
     "end_time": "2021-09-26T04:39:25.447022Z",
     "start_time": "2021-09-26T04:39:25.215397Z"
    }
   },
   "outputs": [
    {
     "data": {
      "text/plain": [
       "<sqlite3.Cursor at 0x20956047c00>"
      ]
     },
     "execution_count": 3,
     "metadata": {},
     "output_type": "execute_result"
    }
   ],
   "source": [
    "# create table \n",
    "\n",
    "conn.execute('create table details(name text, marks int, address text)')"
   ]
  },
  {
   "cell_type": "code",
   "execution_count": 18,
   "id": "f9a47a41",
   "metadata": {
    "ExecuteTime": {
     "end_time": "2021-09-26T04:45:07.467833Z",
     "start_time": "2021-09-26T04:45:07.454834Z"
    }
   },
   "outputs": [
    {
     "data": {
      "text/plain": [
       "<sqlite3.Cursor at 0x20955d72570>"
      ]
     },
     "execution_count": 18,
     "metadata": {},
     "output_type": "execute_result"
    }
   ],
   "source": [
    "# add records in that table\n",
    "conn.execute(\"insert into details values('Ganesh', 88, 'Tuljapur')\")"
   ]
  },
  {
   "cell_type": "code",
   "execution_count": 15,
   "id": "d6e69432",
   "metadata": {
    "ExecuteTime": {
     "end_time": "2021-09-26T04:44:56.563292Z",
     "start_time": "2021-09-26T04:44:56.414894Z"
    }
   },
   "outputs": [],
   "source": [
    "conn.commit()"
   ]
  },
  {
   "cell_type": "code",
   "execution_count": 19,
   "id": "66291afb",
   "metadata": {
    "ExecuteTime": {
     "end_time": "2021-09-26T04:45:11.800624Z",
     "start_time": "2021-09-26T04:45:11.783625Z"
    }
   },
   "outputs": [],
   "source": [
    "result = conn.execute(\"select * from details\")"
   ]
  },
  {
   "cell_type": "code",
   "execution_count": 20,
   "id": "4dfb7161",
   "metadata": {
    "ExecuteTime": {
     "end_time": "2021-09-26T04:45:12.551300Z",
     "start_time": "2021-09-26T04:45:12.536301Z"
    }
   },
   "outputs": [
    {
     "data": {
      "text/plain": [
       "[('Ganesh', 88, 'Tuljapur'),\n",
       " ('Ganesh', 88, 'Tuljapur'),\n",
       " ('Ganesh', 88, 'Tuljapur'),\n",
       " ('Ganesh', 88, 'Tuljapur'),\n",
       " ('Ganesh', 88, 'Tuljapur')]"
      ]
     },
     "execution_count": 20,
     "metadata": {},
     "output_type": "execute_result"
    }
   ],
   "source": [
    "result.fetchall()"
   ]
  },
  {
   "cell_type": "code",
   "execution_count": 25,
   "id": "0ed5be8e",
   "metadata": {
    "ExecuteTime": {
     "end_time": "2021-09-26T05:13:52.868706Z",
     "start_time": "2021-09-26T05:13:52.735567Z"
    }
   },
   "outputs": [
    {
     "data": {
      "text/plain": [
       "[('1.', 'BMW', 54000), ('1.', 'BMW', 54000)]"
      ]
     },
     "execution_count": 25,
     "metadata": {},
     "output_type": "execute_result"
    }
   ],
   "source": [
    "import sqlite3\n",
    "\n",
    "# create database\n",
    "\n",
    "conn = sqlite3.connect(\"vehicle_info.db\")\n",
    "\n",
    "# create table\n",
    "\n",
    "# conn.execute(\"create table car_details('sr.number' text, 'car_name' text, 'price' int)\")\n",
    "\n",
    "# insert records into table\n",
    "\n",
    "conn.execute(\"insert into car_details values('1.', 'BMW', 54000)\")\n",
    "\n",
    "# commit changes\n",
    "\n",
    "conn.commit()\n",
    "\n",
    "# fetch information in table\n",
    "result = conn.execute(\"select * from car_details\")\n",
    "\n",
    "result.fetchall()\n"
   ]
  },
  {
   "cell_type": "code",
   "execution_count": 5,
   "id": "42953e0a",
   "metadata": {
    "ExecuteTime": {
     "end_time": "2021-10-18T00:23:08.711772Z",
     "start_time": "2021-10-18T00:23:08.703772Z"
    }
   },
   "outputs": [
    {
     "name": "stdout",
     "output_type": "stream",
     "text": [
      "<module 'builtins' (built-in)>\n"
     ]
    }
   ],
   "source": [
    "print(locals()['__builtins__'])"
   ]
  },
  {
   "cell_type": "code",
   "execution_count": 6,
   "id": "8f903e2c",
   "metadata": {
    "ExecuteTime": {
     "end_time": "2021-10-18T00:34:21.532087Z",
     "start_time": "2021-10-18T00:34:21.524089Z"
    }
   },
   "outputs": [],
   "source": [
    "file = open('sample.bin','wb')\n",
    "file.write(b\"This binary file written in sample.bin file\")\n",
    "file.close()"
   ]
  },
  {
   "cell_type": "code",
   "execution_count": 8,
   "id": "4891c52f",
   "metadata": {
    "ExecuteTime": {
     "end_time": "2021-10-18T00:35:06.232465Z",
     "start_time": "2021-10-18T00:35:06.215466Z"
    }
   },
   "outputs": [
    {
     "ename": "NameError",
     "evalue": "name 'SAMPLE' is not defined",
     "output_type": "error",
     "traceback": [
      "\u001b[1;31m---------------------------------------------------------------------------\u001b[0m",
      "\u001b[1;31mNameError\u001b[0m                                 Traceback (most recent call last)",
      "\u001b[1;32m<ipython-input-8-923a95780f45>\u001b[0m in \u001b[0;36m<module>\u001b[1;34m\u001b[0m\n\u001b[1;32m----> 1\u001b[1;33m \u001b[0mSAMPLE\u001b[0m\u001b[1;33m.\u001b[0m\u001b[0mBIN\u001b[0m\u001b[1;33m\u001b[0m\u001b[1;33m\u001b[0m\u001b[0m\n\u001b[0m",
      "\u001b[1;31mNameError\u001b[0m: name 'SAMPLE' is not defined"
     ]
    }
   ],
   "source": [
    "SAMPLE.BIN"
   ]
  },
  {
   "cell_type": "code",
   "execution_count": null,
   "id": "b6d67b00",
   "metadata": {},
   "outputs": [],
   "source": []
  }
 ],
 "metadata": {
  "kernelspec": {
   "display_name": "Python 3",
   "language": "python",
   "name": "python3"
  },
  "language_info": {
   "codemirror_mode": {
    "name": "ipython",
    "version": 3
   },
   "file_extension": ".py",
   "mimetype": "text/x-python",
   "name": "python",
   "nbconvert_exporter": "python",
   "pygments_lexer": "ipython3",
   "version": "3.8.8"
  }
 },
 "nbformat": 4,
 "nbformat_minor": 5
}
