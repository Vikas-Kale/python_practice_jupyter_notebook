{
 "cells": [
  {
   "cell_type": "markdown",
   "id": "cb4f0824",
   "metadata": {},
   "source": [
    "## Decorator is nothing but adding something to make a thing more attractive.\n",
    "- If I want to give gift to my friend then what I do,I go to the shop,get a gift,wrap it and give it to the friend.\n",
    "- When we wrap it then gift decorate"
   ]
  },
  {
   "cell_type": "markdown",
   "id": "d4718c1c",
   "metadata": {},
   "source": [
    "- Decorator takes a function,add some functionality in it and return."
   ]
  },
  {
   "cell_type": "markdown",
   "id": "a7a452ec",
   "metadata": {},
   "source": [
    "- A decorator is any callable object that is used to **modify** a function or a class."
   ]
  },
  {
   "cell_type": "markdown",
   "id": "392d0ada",
   "metadata": {},
   "source": [
    "- There are 2 types:        1]Function Decorator \n",
    "                 2]Class Decorator"
   ]
  },
  {
   "cell_type": "code",
   "execution_count": null,
   "id": "7068e6e1",
   "metadata": {},
   "outputs": [],
   "source": [
    "Write a program to change char input\n",
    "for ex: input_value = 'a'\n",
    "\n",
    "Convert_it_into = 'A'\n",
    "input_value = 'A'\n",
    "\n",
    "Convert_it_inot = 'a'"
   ]
  },
  {
   "cell_type": "code",
   "execution_count": 30,
   "id": "c91a2d9e",
   "metadata": {},
   "outputs": [
    {
     "name": "stdout",
     "output_type": "stream",
     "text": [
      "Enter char: a\n",
      "Convert lower to upper A\n"
     ]
    }
   ],
   "source": [
    "input_val=input(\"Enter char: \")\n",
    "\n",
    "if input_val.isupper():\n",
    "    input_val=input_val.lower()\n",
    "    print(\"Convert Upper to Lower\",input_val)\n",
    "else:\n",
    "    input_val=input_val.upper()\n",
    "    print(\"Convert lower to upper\",input_val)\n"
   ]
  },
  {
   "cell_type": "code",
   "execution_count": 31,
   "id": "86085747",
   "metadata": {},
   "outputs": [
    {
     "name": "stdout",
     "output_type": "stream",
     "text": [
      "Enter char: A\n",
      "Convert Upper to Lower a\n"
     ]
    }
   ],
   "source": [
    "input_val=input(\"Enter char: \")\n",
    "\n",
    "if input_val.isupper():\n",
    "    input_val=input_val.lower()\n",
    "    print(\"Convert Upper to Lower\",input_val)\n",
    "else:\n",
    "    input_val=input_val.upper()\n",
    "    print(\"Convert lower to upper\",input_val)\n"
   ]
  },
  {
   "cell_type": "code",
   "execution_count": null,
   "id": "08d07c96",
   "metadata": {},
   "outputs": [],
   "source": []
  },
  {
   "cell_type": "code",
   "execution_count": 5,
   "id": "cad243a2",
   "metadata": {},
   "outputs": [
    {
     "ename": "SyntaxError",
     "evalue": "invalid syntax (<ipython-input-5-7fef32f437e1>, line 2)",
     "output_type": "error",
     "traceback": [
      "\u001b[1;36m  File \u001b[1;32m\"<ipython-input-5-7fef32f437e1>\"\u001b[1;36m, line \u001b[1;32m2\u001b[0m\n\u001b[1;33m    if input_val is in isupper():\u001b[0m\n\u001b[1;37m                    ^\u001b[0m\n\u001b[1;31mSyntaxError\u001b[0m\u001b[1;31m:\u001b[0m invalid syntax\n"
     ]
    }
   ],
   "source": [
    "input_val=input(\"Enter char: \")\n",
    "if input_val is in isupper():\n",
    "    input_val=lower\n",
    "else:\n",
    "    input_val=upper"
   ]
  },
  {
   "cell_type": "code",
   "execution_count": 2,
   "id": "7260dd9e",
   "metadata": {},
   "outputs": [
    {
     "name": "stdout",
     "output_type": "stream",
     "text": [
      "['__add__', '__class__', '__contains__', '__delattr__', '__dir__', '__doc__', '__eq__', '__format__', '__ge__', '__getattribute__', '__getitem__', '__getnewargs__', '__gt__', '__hash__', '__init__', '__init_subclass__', '__iter__', '__le__', '__len__', '__lt__', '__mod__', '__mul__', '__ne__', '__new__', '__reduce__', '__reduce_ex__', '__repr__', '__rmod__', '__rmul__', '__setattr__', '__sizeof__', '__str__', '__subclasshook__', 'capitalize', 'casefold', 'center', 'count', 'encode', 'endswith', 'expandtabs', 'find', 'format', 'format_map', 'index', 'isalnum', 'isalpha', 'isascii', 'isdecimal', 'isdigit', 'isidentifier', 'islower', 'isnumeric', 'isprintable', 'isspace', 'istitle', 'isupper', 'join', 'ljust', 'lower', 'lstrip', 'maketrans', 'partition', 'replace', 'rfind', 'rindex', 'rjust', 'rpartition', 'rsplit', 'rstrip', 'split', 'splitlines', 'startswith', 'strip', 'swapcase', 'title', 'translate', 'upper', 'zfill']\n"
     ]
    }
   ],
   "source": [
    "print(dir(str))"
   ]
  },
  {
   "cell_type": "markdown",
   "id": "11d4bc8d",
   "metadata": {},
   "source": [
    "# Decorators"
   ]
  },
  {
   "cell_type": "code",
   "execution_count": 6,
   "id": "2c9d1e13",
   "metadata": {},
   "outputs": [],
   "source": [
    "def decorator_example(func):\n",
    "    def inner_func():\n",
    "        print('before')\n",
    "        func()\n",
    "        print('after')\n",
    "    return inner_func\n",
    "\n",
    "@decorator_example\n",
    "def test2():\n",
    "    print(\"I am in test2 func\")"
   ]
  },
  {
   "cell_type": "code",
   "execution_count": 7,
   "id": "17784e64",
   "metadata": {},
   "outputs": [
    {
     "name": "stdout",
     "output_type": "stream",
     "text": [
      "before\n",
      "I am in test2 func\n",
      "after\n"
     ]
    }
   ],
   "source": [
    "test2()"
   ]
  },
  {
   "cell_type": "code",
   "execution_count": 18,
   "id": "c237d2a2",
   "metadata": {},
   "outputs": [],
   "source": [
    "@decorator_example\n",
    "def test2():\n",
    "    print(\"I am in test2 func\")\n",
    "    return \"Function execution is done\""
   ]
  },
  {
   "cell_type": "code",
   "execution_count": 19,
   "id": "f20f9c35",
   "metadata": {},
   "outputs": [
    {
     "name": "stdout",
     "output_type": "stream",
     "text": [
      "before\n",
      "I am in test2 func\n",
      "Function execution is done\n",
      "after\n"
     ]
    }
   ],
   "source": [
    "test2()"
   ]
  },
  {
   "cell_type": "code",
   "execution_count": 20,
   "id": "ee61337e",
   "metadata": {},
   "outputs": [],
   "source": [
    "def is_valid_string(func):\n",
    "    def check_string(input_string):\n",
    "        if type(input_string)==str and len(input_string)==5:\n",
    "            func(input_string)\n",
    "        elif type(input_string)==str and len(input_string)!=5:\n",
    "            print('string length is not valid',len(input_string))\n",
    "            \n",
    "        else:\n",
    "            print('invalid input')\n",
    "    return check_string"
   ]
  },
  {
   "cell_type": "code",
   "execution_count": 21,
   "id": "2ead5a59",
   "metadata": {},
   "outputs": [],
   "source": [
    "@is_valid_string\n",
    "def check_input_string(input_string):\n",
    "    print(\"string is valid : in input string\")"
   ]
  },
  {
   "cell_type": "code",
   "execution_count": 22,
   "id": "6523792d",
   "metadata": {},
   "outputs": [
    {
     "name": "stdout",
     "output_type": "stream",
     "text": [
      "string is valid : in input string\n"
     ]
    }
   ],
   "source": [
    "check_input_string('vikas')"
   ]
  },
  {
   "cell_type": "code",
   "execution_count": 23,
   "id": "a385fd87",
   "metadata": {},
   "outputs": [
    {
     "name": "stdout",
     "output_type": "stream",
     "text": [
      "string length is not valid 3\n"
     ]
    }
   ],
   "source": [
    "check_input_string(\"sam\")"
   ]
  },
  {
   "cell_type": "code",
   "execution_count": 24,
   "id": "451d63e8",
   "metadata": {},
   "outputs": [
    {
     "name": "stdout",
     "output_type": "stream",
     "text": [
      "invalid input\n"
     ]
    }
   ],
   "source": [
    "check_input_string(1000)"
   ]
  },
  {
   "cell_type": "code",
   "execution_count": 25,
   "id": "6422e60f",
   "metadata": {},
   "outputs": [
    {
     "name": "stdout",
     "output_type": "stream",
     "text": [
      "invalid input\n"
     ]
    }
   ],
   "source": [
    "check_input_string(52.9)"
   ]
  },
  {
   "cell_type": "code",
   "execution_count": 32,
   "id": "fc75fea7",
   "metadata": {},
   "outputs": [],
   "source": [
    "import IPython"
   ]
  },
  {
   "cell_type": "code",
   "execution_count": 33,
   "id": "2ee11d07",
   "metadata": {},
   "outputs": [
    {
     "name": "stdout",
     "output_type": "stream",
     "text": [
      "['Application', 'InteractiveShell', '__author__', '__builtins__', '__cached__', '__doc__', '__file__', '__license__', '__loader__', '__name__', '__package__', '__path__', '__spec__', '__version__', 'core', 'display', 'embed', 'embed_kernel', 'extensions', 'extract_module_locals', 'get_ipython', 'lib', 'os', 'paths', 'release', 'start_ipython', 'start_kernel', 'sys', 'sys_info', 'terminal', 'test', 'testing', 'utils', 'version_info']\n"
     ]
    }
   ],
   "source": [
    "print(dir(IPython))"
   ]
  },
  {
   "cell_type": "code",
   "execution_count": 43,
   "id": "31f58527",
   "metadata": {},
   "outputs": [],
   "source": [
    "from datetime import *"
   ]
  },
  {
   "cell_type": "code",
   "execution_count": 44,
   "id": "dc28f311",
   "metadata": {},
   "outputs": [
    {
     "name": "stdout",
     "output_type": "stream",
     "text": [
      "['__add__', '__class__', '__delattr__', '__dir__', '__doc__', '__eq__', '__format__', '__ge__', '__getattribute__', '__gt__', '__hash__', '__init__', '__init_subclass__', '__le__', '__lt__', '__ne__', '__new__', '__radd__', '__reduce__', '__reduce_ex__', '__repr__', '__rsub__', '__setattr__', '__sizeof__', '__str__', '__sub__', '__subclasshook__', 'astimezone', 'combine', 'ctime', 'date', 'day', 'dst', 'fold', 'fromisocalendar', 'fromisoformat', 'fromordinal', 'fromtimestamp', 'hour', 'isocalendar', 'isoformat', 'isoweekday', 'max', 'microsecond', 'min', 'minute', 'month', 'now', 'replace', 'resolution', 'second', 'strftime', 'strptime', 'time', 'timestamp', 'timetuple', 'timetz', 'today', 'toordinal', 'tzinfo', 'tzname', 'utcfromtimestamp', 'utcnow', 'utcoffset', 'utctimetuple', 'weekday', 'year']\n"
     ]
    }
   ],
   "source": [
    "print(dir(datetime))"
   ]
  },
  {
   "cell_type": "code",
   "execution_count": 49,
   "id": "2bfe6fae",
   "metadata": {},
   "outputs": [
    {
     "data": {
      "text/plain": [
       "10"
      ]
     },
     "execution_count": 49,
     "metadata": {},
     "output_type": "execute_result"
    }
   ],
   "source": [
    "datetime.now().day"
   ]
  },
  {
   "cell_type": "code",
   "execution_count": 50,
   "id": "1978aacf",
   "metadata": {},
   "outputs": [
    {
     "data": {
      "text/plain": [
       "datetime.datetime(2021, 8, 10, 12, 24, 53, 759824)"
      ]
     },
     "execution_count": 50,
     "metadata": {},
     "output_type": "execute_result"
    }
   ],
   "source": [
    "datetime.now()"
   ]
  },
  {
   "cell_type": "code",
   "execution_count": 53,
   "id": "2c9465a5",
   "metadata": {},
   "outputs": [
    {
     "data": {
      "text/plain": [
       "8"
      ]
     },
     "execution_count": 53,
     "metadata": {},
     "output_type": "execute_result"
    }
   ],
   "source": [
    "datetime.now().month"
   ]
  },
  {
   "cell_type": "code",
   "execution_count": null,
   "id": "752d6681",
   "metadata": {},
   "outputs": [],
   "source": []
  },
  {
   "cell_type": "code",
   "execution_count": 5,
   "id": "4111cd79",
   "metadata": {},
   "outputs": [],
   "source": [
    "from datetime import datetime\n",
    "\n",
    "#BANK_CUSTOMER_DETAILS is list which will store all data.\n",
    "#In this list all data will be dict type\n",
    "#EX: [{'name':<value>, 'mobile':<value>, 'account_type':<value>, 'amount':<value>, 'account_number':<values>}]\n",
    "\n",
    "\n",
    "BANK_CUSTOMER_DETAILS = list()\n",
    "\n",
    "def generate_account_no():\n",
    "    \"\"\"\n",
    "    Auto generated account number\n",
    "    \"\"\"\n",
    "    return datetime.now().strftime(\"SBI35%Y%m%d%S\")\n",
    "\n",
    "def is_valid_mobile(mobile_no):\n",
    "    if len(str(mobile_no)) == 10:\n",
    "        return True\n",
    "    return False\n",
    "\n",
    "def is_valid_account_type(account_type):\n",
    "    if account_type in ['saving', 'current']:\n",
    "        return True\n",
    "    return False\n",
    "\n",
    "def is_valid_amount(amount):\n",
    "    if amount>0:\n",
    "        return True\n",
    "    return False\n",
    "\n",
    "\n",
    "def create_account(**customer_info):\n",
    "    \"\"\"\n",
    "    customer_info should contain name, mobile, account_type, amount\n",
    "    Return - Account Number\n",
    "    \"\"\"\n",
    "    if is_valid_mobile(customer_info.get(\"mobile\")) and is_valid_account_type(customer_info.get(\"account_type\")) and is_valid_amount(customer_info.get(\"amount\")):\n",
    "        account_no = generate_account_no()\n",
    "        customer_info['account_number'] = account_no\n",
    "\n",
    "        BANK_CUSTOMER_DETAILS.append(customer_info)\n",
    "\n",
    "        return \"Thanks for creating account in SBI Bank your account number is %s\" %(account_no)\n",
    "    else:\n",
    "        print(\"Input data is not valid\")\n",
    "\n",
    "def deposit(account_number, amount):\n",
    "    \"\"\"\n",
    "    Based on account number deposit the amount\n",
    "    Return - amount\n",
    "    \"\"\"\n",
    "    for user in BANK_CUSTOMER_DETAILS:\n",
    "        if user.get('account_number') == account_number:\n",
    "            current_amount = user.get('amount')\n",
    "            print(\"Amount before deposit \", current_amount)\n",
    "            user['amount'] = current_amount + amount\n",
    "            print(\"After deposit amount is \", user.get('amount'))\n",
    "            \n",
    "def withdraw(account_number, amount):\n",
    "    \"\"\"\n",
    "    Based on account number withdraw the amount\n",
    "    Return - amount\n",
    "    \"\"\"\n",
    "    for user in BANK_CUSTOMER_DETAILS:\n",
    "        if user.get('account_number') == account_number:\n",
    "            current_amount = user.get('amount')\n",
    "            print(\"Amount before withdraw \", current_amount)\n",
    "            user['amount'] = current_amount - amount\n",
    "            print(\"After withdraw amount is \", user.get('amount'))\n",
    "            \n",
    "def check_balance(account_number):\n",
    "    \"\"\"\n",
    "    Return balance of account_number\n",
    "    \"\"\"\n",
    "    for user in BANK_CUSTOMER_DETAILS:\n",
    "        if user.get('account_number') == account_number:\n",
    "            return user.get(\"amount\")\n",
    "    \n",
    "def main():\n",
    "    while True:\n",
    "        print(\"Chose one of the following \\n1] Create account\\t2] Check Balance\\n3]Deposit\\t4]Withdraw\\n5]Exit\")\n",
    "        user_input = int(input(\"--------- Welcome to SBI Bank ----------\"))\n",
    "        if user_input == 1:\n",
    "            customer_name = input(\"Enter your name: \")\n",
    "            mobile = int(input(\"Enter your mobile number: \"))\n",
    "            account_type = input(\"Enter your account type It can be saving or current : \")\n",
    "            amount = int(input(\"Enter your ammount: \"))\n",
    "            print(create_account(name=customer_name, mobile=mobile, account_type=account_type, amount=amount))\n",
    "        elif user_input == 2:\n",
    "            account_number = input(\"Enter your account number\")\n",
    "            print(check_balance(account_number))\n",
    "        elif user_input == 3:\n",
    "            account_number = input(\"Enter your account number \")\n",
    "            amount = int(input(\"Enter amout to deposit in your account \"))\n",
    "            print(deposit(account_number, amount))\n",
    "        elif user_input == 4:\n",
    "            account_number = input(\"Enter your account number \")\n",
    "            amount = int(input(\"Enter amout to withdraw in your account \"))\n",
    "            print(withdraw(account_number, amount))\n",
    "        elif user_input == 5:\n",
    "            print(\"Thanks for visiting SBI Bank\")\n",
    "            break\n",
    "        else:\n",
    "            print(\"Enter valid input 1 to 5\")"
   ]
  },
  {
   "cell_type": "code",
   "execution_count": 6,
   "id": "e7170b78",
   "metadata": {},
   "outputs": [
    {
     "name": "stdout",
     "output_type": "stream",
     "text": [
      "Chose one of the following \n",
      "1] Create account\t2] Check Balance\n",
      "3]Deposit\t4]Withdraw\n",
      "5]Exit\n",
      "--------- Welcome to SBI Bank ----------1\n",
      "Enter your name: Hanumant Ganpati kale\n",
      "Enter your mobile number: 9422119274\n",
      "Enter your account type It can be saving or current : saving\n",
      "Enter your ammount: 10000\n",
      "Thanks for creating account in SBI Bank your account number is SBI352021081124\n",
      "Chose one of the following \n",
      "1] Create account\t2] Check Balance\n",
      "3]Deposit\t4]Withdraw\n",
      "5]Exit\n",
      "--------- Welcome to SBI Bank ----------2\n",
      "Enter your account numberSBI352021081124\n",
      "10000\n",
      "Chose one of the following \n",
      "1] Create account\t2] Check Balance\n",
      "3]Deposit\t4]Withdraw\n",
      "5]Exit\n",
      "--------- Welcome to SBI Bank ----------4\n",
      "Enter your account number SBI352021081124\n",
      "Enter amout to withdraw in your account 5\n",
      "Amount before withdraw  10000\n",
      "After withdraw amount is  9995\n",
      "None\n",
      "Chose one of the following \n",
      "1] Create account\t2] Check Balance\n",
      "3]Deposit\t4]Withdraw\n",
      "5]Exit\n",
      "--------- Welcome to SBI Bank ----------4\n",
      "Enter your account number SBI352021081124\n",
      "Enter amout to withdraw in your account 5000\n",
      "Amount before withdraw  9995\n",
      "After withdraw amount is  4995\n",
      "None\n",
      "Chose one of the following \n",
      "1] Create account\t2] Check Balance\n",
      "3]Deposit\t4]Withdraw\n",
      "5]Exit\n",
      "--------- Welcome to SBI Bank ----------2\n",
      "Enter your account numberSBI352021081124\n",
      "4995\n",
      "Chose one of the following \n",
      "1] Create account\t2] Check Balance\n",
      "3]Deposit\t4]Withdraw\n",
      "5]Exit\n",
      "--------- Welcome to SBI Bank ----------5\n",
      "Thanks for visiting SBI Bank\n"
     ]
    }
   ],
   "source": [
    "main()"
   ]
  },
  {
   "cell_type": "markdown",
   "id": "c1d9fb76",
   "metadata": {},
   "source": [
    "## Example 1"
   ]
  },
  {
   "cell_type": "code",
   "execution_count": 10,
   "id": "6e038b75",
   "metadata": {},
   "outputs": [
    {
     "name": "stdout",
     "output_type": "stream",
     "text": [
      "Hii !\n"
     ]
    }
   ],
   "source": [
    "def outer_function():\n",
    "    message='Hii !'\n",
    "    \n",
    "    def inner_function():\n",
    "        print(message)\n",
    "    return inner_function()\n",
    "outer_function()"
   ]
  },
  {
   "cell_type": "code",
   "execution_count": 12,
   "id": "92da6a63",
   "metadata": {},
   "outputs": [],
   "source": [
    "def outer_code():\n",
    "    name=\"vikas\"\n",
    "    course='python'\n",
    "    \n",
    "    def inner_code():\n",
    "        print(name,course)\n",
    "    return inner_code()"
   ]
  },
  {
   "cell_type": "code",
   "execution_count": 13,
   "id": "8bd6fe1c",
   "metadata": {},
   "outputs": [
    {
     "name": "stdout",
     "output_type": "stream",
     "text": [
      "vikas python\n"
     ]
    }
   ],
   "source": [
    "outer_code()"
   ]
  },
  {
   "cell_type": "markdown",
   "id": "4a97fb3d",
   "metadata": {},
   "source": [
    "## Example 2"
   ]
  },
  {
   "cell_type": "code",
   "execution_count": 16,
   "id": "a478cb99",
   "metadata": {},
   "outputs": [
    {
     "name": "stdout",
     "output_type": "stream",
     "text": [
      "Hello\n",
      "Vikas\n"
     ]
    }
   ],
   "source": [
    "def outer_func(msg):\n",
    "    message=msg\n",
    "    \n",
    "    def inner_func():\n",
    "        print(message)\n",
    "    return inner_func()\n",
    "x=outer_func('Hello')\n",
    "y=outer_func(\"Vikas\")\n",
    "                    "
   ]
  },
  {
   "cell_type": "markdown",
   "id": "af9e96dd",
   "metadata": {},
   "source": [
    "### Example  3"
   ]
  },
  {
   "cell_type": "code",
   "execution_count": 19,
   "id": "f2fab279",
   "metadata": {},
   "outputs": [
    {
     "name": "stdout",
     "output_type": "stream",
     "text": [
      "My name is Vikas!\n"
     ]
    }
   ],
   "source": [
    "def decorator_function(original_func):  # define decorator_fun and 1 argument original_func.\n",
    "    def wrapper_func():                  # def another function in function \n",
    "        return original_func()          \n",
    "    return wrapper_func\n",
    "\n",
    "\n",
    "def display():\n",
    "    print(\"My name is Vikas!\")\n",
    "    \n",
    "decorated_display=decorator_function(display)\n",
    "decorated_display()"
   ]
  },
  {
   "cell_type": "code",
   "execution_count": 21,
   "id": "db7e96bf",
   "metadata": {},
   "outputs": [
    {
     "name": "stdout",
     "output_type": "stream",
     "text": [
      "wrapper executed this before display\n",
      "My name is Vikas!\n"
     ]
    }
   ],
   "source": [
    "def decorator_function(original_func):  # define decorator_fun and 1 argument original_func.\n",
    "    def wrapper_func():                  # def another function in function \n",
    "        print(\"wrapper executed this before {}\".format(original_func.__name__))\n",
    "        return original_func()\n",
    "    return wrapper_func\n",
    "\n",
    "\n",
    "def display():\n",
    "    print(\"My name is Vikas!\")\n",
    "    \n",
    "decorated_display=decorator_function(display)\n",
    "decorated_display()"
   ]
  },
  {
   "cell_type": "code",
   "execution_count": 22,
   "id": "8b7526da",
   "metadata": {},
   "outputs": [
    {
     "name": "stdout",
     "output_type": "stream",
     "text": [
      "wrapper executed this before display\n",
      "My name is Vikas!\n"
     ]
    }
   ],
   "source": [
    "def decorator_function(original_func):  # define decorator_fun and 1 argument original_func.\n",
    "    def wrapper_func():                  # def another function in function \n",
    "        print(\"wrapper executed this before {}\".format(original_func.__name__))\n",
    "        return original_func()\n",
    "    return wrapper_func\n",
    "\n",
    "@decorator_function\n",
    "def display():\n",
    "    print(\"My name is Vikas!\")\n",
    "    \n",
    "display()                         # @decorator_function and the decorated_display=decorator_function(display) both are equal ie,do same work\n"
   ]
  },
  {
   "cell_type": "code",
   "execution_count": 23,
   "id": "d363791b",
   "metadata": {},
   "outputs": [
    {
     "name": "stdout",
     "output_type": "stream",
     "text": [
      "Display function ran with arguments (Vikas,24)\n",
      "wrapper executed this before display\n",
      "My name is Vikas!\n"
     ]
    }
   ],
   "source": [
    "def decorator_function(original_func):  # define decorator_fun and 1 argument original_func.\n",
    "    def wrapper_func():                  # def another function in function \n",
    "        print(\"wrapper executed this before {}\".format(original_func.__name__))\n",
    "        return original_func()\n",
    "    return wrapper_func\n",
    "\n",
    "@decorator_function\n",
    "def display():\n",
    "    print(\"My name is Vikas!\")\n",
    "    \n",
    "# display()                         # @decorator_function and the decorated_display=decorator_function(display) both are equal ie,do same work\n",
    "\n",
    "def display_info(name,age):\n",
    "    print('Display function ran with arguments ({},{})'.format(name,age))\n",
    "    \n",
    "display_info('Vikas',24)\n",
    "\n",
    "display()\n",
    "    "
   ]
  },
  {
   "cell_type": "code",
   "execution_count": 24,
   "id": "ee22eebb",
   "metadata": {},
   "outputs": [
    {
     "name": "stdout",
     "output_type": "stream",
     "text": [
      "Display function ran with arguments (Vikas,24)\n"
     ]
    }
   ],
   "source": [
    "def decorator_function(original_func):  # define decorator_fun and 1 argument original_func.\n",
    "    def wrapper_func():                  # def another function in function \n",
    "        print(\"wrapper executed this before {}\".format(original_func.__name__))\n",
    "        return original_func()\n",
    "    return wrapper_func\n",
    "\n",
    "@decorator_function\n",
    "def display():\n",
    "    print(\"My name is Vikas!\")\n",
    "    \n",
    "# display()                         # @decorator_function and the decorated_display=decorator_function(display) both are equal ie,do same work\n",
    "\n",
    "def display_info(name,age):\n",
    "    print('Display function ran with arguments ({},{})'.format(name,age))\n",
    "    \n",
    "display_info('Vikas',24)\n",
    "\n",
    "# display()\n",
    "    "
   ]
  },
  {
   "cell_type": "code",
   "execution_count": 25,
   "id": "d76afd10",
   "metadata": {},
   "outputs": [
    {
     "ename": "TypeError",
     "evalue": "wrapper_func() takes 0 positional arguments but 2 were given",
     "output_type": "error",
     "traceback": [
      "\u001b[1;31m---------------------------------------------------------------------------\u001b[0m",
      "\u001b[1;31mTypeError\u001b[0m                                 Traceback (most recent call last)",
      "\u001b[1;32m<ipython-input-25-c0202eee31ee>\u001b[0m in \u001b[0;36m<module>\u001b[1;34m\u001b[0m\n\u001b[0;32m     14\u001b[0m     \u001b[0mprint\u001b[0m\u001b[1;33m(\u001b[0m\u001b[1;34m'Display function ran with arguments ({},{})'\u001b[0m\u001b[1;33m.\u001b[0m\u001b[0mformat\u001b[0m\u001b[1;33m(\u001b[0m\u001b[0mname\u001b[0m\u001b[1;33m,\u001b[0m\u001b[0mage\u001b[0m\u001b[1;33m)\u001b[0m\u001b[1;33m)\u001b[0m\u001b[1;33m\u001b[0m\u001b[1;33m\u001b[0m\u001b[0m\n\u001b[0;32m     15\u001b[0m \u001b[1;33m\u001b[0m\u001b[0m\n\u001b[1;32m---> 16\u001b[1;33m \u001b[0mdisplay_info\u001b[0m\u001b[1;33m(\u001b[0m\u001b[1;34m'Vikas'\u001b[0m\u001b[1;33m,\u001b[0m\u001b[1;36m24\u001b[0m\u001b[1;33m)\u001b[0m\u001b[1;33m\u001b[0m\u001b[1;33m\u001b[0m\u001b[0m\n\u001b[0m\u001b[0;32m     17\u001b[0m \u001b[1;33m\u001b[0m\u001b[0m\n\u001b[0;32m     18\u001b[0m \u001b[1;31m# display()\u001b[0m\u001b[1;33m\u001b[0m\u001b[1;33m\u001b[0m\u001b[1;33m\u001b[0m\u001b[0m\n",
      "\u001b[1;31mTypeError\u001b[0m: wrapper_func() takes 0 positional arguments but 2 were given"
     ]
    }
   ],
   "source": [
    "def decorator_function(original_func):  # define decorator_fun and 1 argument original_func.\n",
    "    def wrapper_func():                  # def another function in function \n",
    "        print(\"wrapper executed this before {}\".format(original_func.__name__))\n",
    "        return original_func()\n",
    "    return wrapper_func\n",
    "\n",
    "@decorator_function\n",
    "def display():\n",
    "    print(\"My name is Vikas!\")\n",
    "    \n",
    "# display()                         # @decorator_function and the decorated_display=decorator_function(display) both are equal ie,do same work\n",
    "@decorator_function\n",
    "def display_info(name,age):\n",
    "    print('Display function ran with arguments ({},{})'.format(name,age))\n",
    "    \n",
    "display_info('Vikas',24)\n",
    "\n",
    "# display()\n",
    "    "
   ]
  },
  {
   "cell_type": "code",
   "execution_count": 28,
   "id": "db21b163",
   "metadata": {},
   "outputs": [
    {
     "name": "stdout",
     "output_type": "stream",
     "text": [
      "wrapper executed this before display_info\n",
      "Display function ran with arguments (Vikas,24)\n",
      "wrapper executed this before display\n",
      "My name is Vikas!\n"
     ]
    }
   ],
   "source": [
    "def decorator_function(original_func):  # define decorator_fun and 1 argument original_func.\n",
    "    def wrapper_func(*args,**kwargs):                  # def another function in function \n",
    "        print(\"wrapper executed this before {}\".format(original_func.__name__))\n",
    "        return original_func(*args,**kwargs)\n",
    "    return wrapper_func\n",
    "\n",
    "@decorator_function\n",
    "def display():\n",
    "    print(\"My name is Vikas!\")\n",
    "    \n",
    "# display()                         # @decorator_function and the decorated_display=decorator_function(display) both are equal ie,do same work\n",
    "@decorator_function\n",
    "def display_info(name,age):\n",
    "    print('Display function ran with arguments ({},{})'.format(name,age))\n",
    "    \n",
    "display_info('Vikas',24)\n",
    "\n",
    "display()\n",
    "    "
   ]
  },
  {
   "cell_type": "code",
   "execution_count": 33,
   "id": "8136eef7",
   "metadata": {},
   "outputs": [],
   "source": [
    "def name(my_name):\n",
    "    def full_name(*args,**kwargs):\n",
    "        print(\"the func name is {}\".format(my_name.__name__))\n",
    "        return my_name()        # () this is used for call the function.\n",
    "    return full_name\n",
    "\n",
    "@name\n",
    "\n",
    "def result():\n",
    "    print(\"My name is Vikas\")\n"
   ]
  },
  {
   "cell_type": "code",
   "execution_count": 34,
   "id": "a927ceb6",
   "metadata": {},
   "outputs": [
    {
     "name": "stdout",
     "output_type": "stream",
     "text": [
      "the func name is result\n",
      "My name is Vikas\n"
     ]
    }
   ],
   "source": [
    "result()"
   ]
  },
  {
   "cell_type": "code",
   "execution_count": 35,
   "id": "82ad85e5",
   "metadata": {},
   "outputs": [
    {
     "name": "stdout",
     "output_type": "stream",
     "text": [
      "__main__\n"
     ]
    }
   ],
   "source": [
    "print(__name__)"
   ]
  },
  {
   "cell_type": "code",
   "execution_count": 50,
   "id": "d323ef7a",
   "metadata": {},
   "outputs": [],
   "source": [
    "def decorator_example(func):\n",
    "    def inner_func():\n",
    "        print(\"Before function name is {}\".format(func.__name__))\n",
    "        print(func())\n",
    "        print(\"after function name is {}\".format(func.__name__))\n",
    "        \n",
    "    return inner_func\n",
    "\n",
    "@decorator_example\n",
    "\n",
    "def test1():\n",
    "    print(\"I am In test1\")"
   ]
  },
  {
   "cell_type": "code",
   "execution_count": 51,
   "id": "3a3ac577",
   "metadata": {},
   "outputs": [
    {
     "name": "stdout",
     "output_type": "stream",
     "text": [
      "Before function name is test1\n",
      "I am In test1\n",
      "None\n",
      "after function name is test1\n"
     ]
    }
   ],
   "source": [
    "test1()"
   ]
  },
  {
   "cell_type": "code",
   "execution_count": 54,
   "id": "1932f75c",
   "metadata": {},
   "outputs": [],
   "source": [
    "def decorator_example(func):\n",
    "    def inner_func():\n",
    "        print(\"Before function name is {}\".format(func.__name__))\n",
    "        print(func())\n",
    "        print(\"after function name is {}\".format(func.__name__))\n",
    "        \n",
    "    return inner_func\n",
    "\n",
    "@decorator_example\n",
    "\n",
    "def test1():\n",
    "    print(\"I am In test1\")\n",
    "    return \"Execution is done!\""
   ]
  },
  {
   "cell_type": "code",
   "execution_count": 55,
   "id": "c7e4a1ab",
   "metadata": {},
   "outputs": [
    {
     "name": "stdout",
     "output_type": "stream",
     "text": [
      "Before function name is test1\n",
      "I am In test1\n",
      "Execution is done!\n",
      "after function name is test1\n"
     ]
    }
   ],
   "source": [
    "test1()"
   ]
  },
  {
   "cell_type": "markdown",
   "id": "896b2ec6",
   "metadata": {},
   "source": [
    "# Write a program to check whether the string is valid or not.\n",
    "- String is valid only when the type of input is str.\n",
    "- and len(input())==5"
   ]
  },
  {
   "cell_type": "code",
   "execution_count": 62,
   "id": "32f568ce",
   "metadata": {},
   "outputs": [],
   "source": [
    "def is_valid_string(func):\n",
    "    def check_string(input_string):\n",
    "        if type(input_string)==str and len(input_string)==5:\n",
    "            \n",
    "            \n",
    "            func(input_string)\n",
    "        elif type(input_string)==str and len(input_string)!=5:\n",
    "            print(\"string is not valid!\",len(input_string))\n",
    "        else:\n",
    "            print(\"Invalid string\")\n",
    "            \n",
    "        \n",
    "    return check_string\n",
    "\n",
    "\n",
    "@is_valid_string\n",
    "def check_input_string(input_string):\n",
    "    print(\"string is valid-in check string input\")"
   ]
  },
  {
   "cell_type": "code",
   "execution_count": 63,
   "id": "9e1241d5",
   "metadata": {},
   "outputs": [
    {
     "name": "stdout",
     "output_type": "stream",
     "text": [
      "string is valid-in check string input\n"
     ]
    }
   ],
   "source": [
    "check_input_string(\"Vikas\")"
   ]
  },
  {
   "cell_type": "code",
   "execution_count": 64,
   "id": "bf4d670f",
   "metadata": {},
   "outputs": [
    {
     "name": "stdout",
     "output_type": "stream",
     "text": [
      "string is not valid! 3\n"
     ]
    }
   ],
   "source": [
    "check_input_string(\"Ram\")"
   ]
  },
  {
   "cell_type": "code",
   "execution_count": 65,
   "id": "d7d00a2b",
   "metadata": {},
   "outputs": [
    {
     "name": "stdout",
     "output_type": "stream",
     "text": [
      "['__call__', '__class__', '__delattr__', '__dir__', '__doc__', '__eq__', '__format__', '__func__', '__ge__', '__get__', '__getattribute__', '__gt__', '__hash__', '__init__', '__init_subclass__', '__le__', '__lt__', '__ne__', '__new__', '__reduce__', '__reduce_ex__', '__repr__', '__self__', '__setattr__', '__sizeof__', '__str__', '__subclasshook__']\n"
     ]
    }
   ],
   "source": [
    "print(dir(input))"
   ]
  },
  {
   "cell_type": "markdown",
   "id": "c8a9a559",
   "metadata": {},
   "source": [
    "# Function Decorator"
   ]
  },
  {
   "cell_type": "markdown",
   "id": "abbd4a1b",
   "metadata": {},
   "source": [
    "- For function decorator we need to know:\n",
    "    1) Nested function --> function inside function.\n",
    "    2) function return function-->return as a function\n",
    "    3) reference --> when we execute only function name then it gives memory location of that function \n",
    "    4) Function as a parameter for another function.\n",
    "- In python functions name are reference and we can give multiple name to the function."
   ]
  },
  {
   "cell_type": "code",
   "execution_count": 1,
   "id": "9926f119",
   "metadata": {
    "ExecuteTime": {
     "end_time": "2021-09-20T06:34:20.776049Z",
     "start_time": "2021-09-20T06:34:20.681728Z"
    }
   },
   "outputs": [
    {
     "name": "stdout",
     "output_type": "stream",
     "text": [
      "25\n"
     ]
    }
   ],
   "source": [
    "def outer():\n",
    "    x=5\n",
    "    \n",
    "    def inner():\n",
    "        y=20\n",
    "        result=x+y\n",
    "        return result\n",
    "    return inner()        # if we return this without parenthesis() then it returns memory address of that function.\n",
    "d=outer()           # Here d is another name given to the inner function.\n",
    "print(d)"
   ]
  },
  {
   "cell_type": "code",
   "execution_count": 3,
   "id": "24d75316",
   "metadata": {
    "ExecuteTime": {
     "end_time": "2021-09-20T06:34:25.914229Z",
     "start_time": "2021-09-20T06:34:25.903230Z"
    }
   },
   "outputs": [
    {
     "ename": "AttributeError",
     "evalue": "'int' object has no attribute '__name__'",
     "output_type": "error",
     "traceback": [
      "\u001b[1;31m---------------------------------------------------------------------------\u001b[0m",
      "\u001b[1;31mAttributeError\u001b[0m                            Traceback (most recent call last)",
      "\u001b[1;32m<ipython-input-3-570bca49d230>\u001b[0m in \u001b[0;36m<module>\u001b[1;34m\u001b[0m\n\u001b[1;32m----> 1\u001b[1;33m \u001b[0mprint\u001b[0m\u001b[1;33m(\u001b[0m\u001b[0md\u001b[0m\u001b[1;33m.\u001b[0m\u001b[0m__name__\u001b[0m\u001b[1;33m)\u001b[0m    \u001b[1;31m# here we see the function name of d is inner.\u001b[0m\u001b[1;33m\u001b[0m\u001b[1;33m\u001b[0m\u001b[0m\n\u001b[0m",
      "\u001b[1;31mAttributeError\u001b[0m: 'int' object has no attribute '__name__'"
     ]
    }
   ],
   "source": [
    "print(d.__name__)    # here we see the function name of d is inner."
   ]
  },
  {
   "cell_type": "code",
   "execution_count": 4,
   "id": "f64ba198",
   "metadata": {},
   "outputs": [
    {
     "name": "stdout",
     "output_type": "stream",
     "text": [
      "<function outer.<locals>.inner at 0x000002C148060820>\n"
     ]
    }
   ],
   "source": [
    "def outer():\n",
    "    x=5\n",
    "    \n",
    "    def inner():\n",
    "        y=20\n",
    "        result=x+y\n",
    "        return result\n",
    "    return inner        # if we return this without parenthesis() then it returns memory address of that function.\n",
    "d=outer() # Here d is another name given to the inner function\n",
    "print(d)"
   ]
  },
  {
   "cell_type": "markdown",
   "id": "0b421f99",
   "metadata": {},
   "source": [
    "# How to use function name as a parameter to another function."
   ]
  },
  {
   "cell_type": "code",
   "execution_count": 6,
   "id": "ab7fd627",
   "metadata": {},
   "outputs": [
    {
     "name": "stdout",
     "output_type": "stream",
     "text": [
      "Hii i am in function 2 and now I will call function 1\n",
      "Hii I am in function 1\n"
     ]
    }
   ],
   "source": [
    "def function1():\n",
    "    print(\"Hii I am in function 1\")\n",
    "    \n",
    "def function2(func):\n",
    "    print(\"Hii i am in function 2 and now I will call function 1\")\n",
    "    func()\n",
    "    \n",
    "function2(function1)\n",
    "        "
   ]
  },
  {
   "cell_type": "code",
   "execution_count": 7,
   "id": "4bad6215",
   "metadata": {},
   "outputs": [
    {
     "name": "stdout",
     "output_type": "stream",
     "text": [
      "Hii I am in function 1\n",
      "Hii i am in function 2 and now I will call function 1\n"
     ]
    }
   ],
   "source": [
    "def function1(func):\n",
    "    print(\"Hii I am in function 1\")\n",
    "    func()\n",
    "    \n",
    "def function2():\n",
    "    print(\"Hii i am in function 2 and now I will call function 1\")\n",
    "    \n",
    "    \n",
    "function1(function2)"
   ]
  },
  {
   "cell_type": "code",
   "execution_count": 8,
   "id": "b8778ce6",
   "metadata": {},
   "outputs": [
    {
     "name": "stdout",
     "output_type": "stream",
     "text": [
      "hello good morning\n"
     ]
    }
   ],
   "source": [
    "def print_str():\n",
    "    return \"hello good morning\"\n",
    "print(print_str())"
   ]
  },
  {
   "cell_type": "markdown",
   "id": "e0e60e92",
   "metadata": {},
   "source": [
    "#### now we convert string in upper case"
   ]
  },
  {
   "cell_type": "code",
   "execution_count": 22,
   "id": "6f0e704e",
   "metadata": {},
   "outputs": [
    {
     "name": "stdout",
     "output_type": "stream",
     "text": [
      "hello good morning\n",
      "HELLO GOOD MORNING\n"
     ]
    }
   ],
   "source": [
    "# To decorate the function we need to pass that function as a parameter.\n",
    "def str_upper(func):\n",
    "    def inner():\n",
    "        \n",
    "        str1=func()    # the func means print_str function and it returns something to store that we need a variable i.e str1\n",
    "        return str1.upper()\n",
    "    return inner()       \n",
    "\n",
    "def print_str():\n",
    "    return \"hello good morning\"\n",
    "print(print_str())\n",
    "\n",
    "a=str_upper(print_str)\n",
    "print(a)"
   ]
  },
  {
   "cell_type": "code",
   "execution_count": 1,
   "id": "fc980c71",
   "metadata": {},
   "outputs": [
    {
     "name": "stdout",
     "output_type": "stream",
     "text": [
      "hello good morning\n",
      "HELLO GOOD MORNING\n"
     ]
    }
   ],
   "source": [
    "# To decorate the function we need to pass that function as a parameter.\n",
    "def str_upper(print_str): # We can directly use function name as a parameter. instead of func.\n",
    "    def inner():\n",
    "        \n",
    "        str1=print_str()    # the func means print_str function and it returns something to store that we need a variable i.e str1\n",
    "        return str1.upper()\n",
    "    return inner       # Here we just return function name\n",
    "\n",
    "def print_str():\n",
    "    return \"hello good morning\"\n",
    "print(print_str())\n",
    "\n",
    "a=str_upper(print_str)  # =@str_upper  and this put on top of the function which you want to decorate.\n",
    "print(a())"
   ]
  },
  {
   "cell_type": "markdown",
   "id": "4da77896",
   "metadata": {},
   "source": [
    "## Proper Way to decorate function."
   ]
  },
  {
   "cell_type": "code",
   "execution_count": 4,
   "id": "70569ce5",
   "metadata": {},
   "outputs": [
    {
     "name": "stdout",
     "output_type": "stream",
     "text": [
      "HELLO GOOD MORNING\n"
     ]
    }
   ],
   "source": [
    "# To decorate the function we need to pass that function as a parameter.\n",
    "def str_upper(func):\n",
    "    def inner():\n",
    "        \n",
    "        str1=func()    # the func means print_str function and it returns something to store that we need a variable i.e str1\n",
    "        return str1.upper()\n",
    "    return inner       # Here we just return function name\n",
    "@str_upper\n",
    "def print_str():\n",
    "    return \"hello good morning\"\n",
    "print(print_str())\n",
    "\n"
   ]
  },
  {
   "cell_type": "markdown",
   "id": "0eb8cf83",
   "metadata": {},
   "source": [
    "# Example 2"
   ]
  },
  {
   "cell_type": "markdown",
   "id": "d334c8d0",
   "metadata": {},
   "source": [
    "- In above example the function which we decorate does not take any parameter.\n",
    "- then how to decorate a function which takes parameter."
   ]
  },
  {
   "cell_type": "code",
   "execution_count": 7,
   "id": "f6de4438",
   "metadata": {},
   "outputs": [
    {
     "name": "stdout",
     "output_type": "stream",
     "text": [
      "2.0\n"
     ]
    }
   ],
   "source": [
    "def div(a,b):\n",
    "    return a/b\n",
    "print(div(4,2))"
   ]
  },
  {
   "cell_type": "code",
   "execution_count": 8,
   "id": "ca0d6e99",
   "metadata": {},
   "outputs": [
    {
     "ename": "ZeroDivisionError",
     "evalue": "division by zero",
     "output_type": "error",
     "traceback": [
      "\u001b[1;31m---------------------------------------------------------------------------\u001b[0m",
      "\u001b[1;31mZeroDivisionError\u001b[0m                         Traceback (most recent call last)",
      "\u001b[1;32m<ipython-input-8-491ed475d69f>\u001b[0m in \u001b[0;36m<module>\u001b[1;34m\u001b[0m\n\u001b[0;32m      1\u001b[0m \u001b[1;32mdef\u001b[0m \u001b[0mdiv\u001b[0m\u001b[1;33m(\u001b[0m\u001b[0ma\u001b[0m\u001b[1;33m,\u001b[0m\u001b[0mb\u001b[0m\u001b[1;33m)\u001b[0m\u001b[1;33m:\u001b[0m\u001b[1;33m\u001b[0m\u001b[1;33m\u001b[0m\u001b[0m\n\u001b[0;32m      2\u001b[0m     \u001b[1;32mreturn\u001b[0m \u001b[0ma\u001b[0m\u001b[1;33m/\u001b[0m\u001b[0mb\u001b[0m\u001b[1;33m\u001b[0m\u001b[1;33m\u001b[0m\u001b[0m\n\u001b[1;32m----> 3\u001b[1;33m \u001b[0mprint\u001b[0m\u001b[1;33m(\u001b[0m\u001b[0mdiv\u001b[0m\u001b[1;33m(\u001b[0m\u001b[1;36m4\u001b[0m\u001b[1;33m/\u001b[0m\u001b[1;36m0\u001b[0m\u001b[1;33m)\u001b[0m\u001b[1;33m)\u001b[0m\u001b[1;33m\u001b[0m\u001b[1;33m\u001b[0m\u001b[0m\n\u001b[0m",
      "\u001b[1;31mZeroDivisionError\u001b[0m: division by zero"
     ]
    }
   ],
   "source": [
    "def div(a,b):\n",
    "    return a/b\n",
    "print(div(4/0))"
   ]
  },
  {
   "cell_type": "markdown",
   "id": "f255d4a2",
   "metadata": {},
   "source": [
    "### instead of getting erron we print \"give proper input\""
   ]
  },
  {
   "cell_type": "code",
   "execution_count": 15,
   "id": "d1cd563d",
   "metadata": {},
   "outputs": [
    {
     "name": "stdout",
     "output_type": "stream",
     "text": [
      "Give Proper Input\n"
     ]
    }
   ],
   "source": [
    "def div_decorator(div):       # Take a function \n",
    "    def inner(x,y):           # add functionality or modify function.\n",
    "        if y==0:\n",
    "            return \"Give Proper Input\"\n",
    "        return div(x,y)\n",
    "    return inner\n",
    "@div_decorator\n",
    "def div(a,b):\n",
    "    return a/b\n",
    "print(div(4,0))"
   ]
  },
  {
   "cell_type": "markdown",
   "id": "5c32782f",
   "metadata": {},
   "source": [
    "# 1] Multiple decorators on single function,without parameter."
   ]
  },
  {
   "cell_type": "code",
   "execution_count": 5,
   "id": "d9a8ed1c",
   "metadata": {
    "ExecuteTime": {
     "end_time": "2021-09-20T10:29:09.373080Z",
     "start_time": "2021-09-20T10:29:09.317125Z"
    }
   },
   "outputs": [
    {
     "name": "stdout",
     "output_type": "stream",
     "text": [
      "['GOOD', 'MORNING']\n"
     ]
    }
   ],
   "source": [
    "def upper_d(func):\n",
    "    def inner():\n",
    "        r=func()\n",
    "        return r.upper()\n",
    "    return inner\n",
    "\n",
    "def split_d(func):\n",
    "    def wrapper():\n",
    "        s=func()\n",
    "        return s.split()\n",
    "    return wrapper\n",
    "\n",
    "\n",
    "\n",
    "@split_d                  # we add two functionality in one function.\n",
    "@upper_d\n",
    "def ordinary():\n",
    "    return \"good morning\"\n",
    "print(ordinary())"
   ]
  },
  {
   "cell_type": "code",
   "execution_count": 27,
   "id": "485eb502",
   "metadata": {},
   "outputs": [
    {
     "name": "stdout",
     "output_type": "stream",
     "text": [
      "First Second good morning Second First\n"
     ]
    }
   ],
   "source": [
    "def upper_d(func):\n",
    "    def inner():\n",
    "\n",
    "        return \"First \" + func() + \" First\"\n",
    "    return inner\n",
    "\n",
    "def split_d(func):\n",
    "    def wrapper():\n",
    "        \n",
    "        return \"Second \" + func() + \" Second\"\n",
    "    return wrapper\n",
    "\n",
    "\n",
    "@upper_d\n",
    "@split_d                  # we add two functionality in one function.\n",
    "def ordinary():\n",
    "    return \"good morning\"\n",
    "print(ordinary())"
   ]
  },
  {
   "cell_type": "code",
   "execution_count": 30,
   "id": "e65cbe85",
   "metadata": {},
   "outputs": [
    {
     "name": "stdout",
     "output_type": "stream",
     "text": [
      "> \u001b[1;32m<ipython-input-30-895467c6cdb3>\u001b[0m(6)\u001b[0;36minner\u001b[1;34m()\u001b[0m\n",
      "\u001b[1;32m      4 \u001b[1;33m        \u001b[0mpdb\u001b[0m\u001b[1;33m.\u001b[0m\u001b[0mset_trace\u001b[0m\u001b[1;33m(\u001b[0m\u001b[1;33m)\u001b[0m\u001b[1;33m\u001b[0m\u001b[1;33m\u001b[0m\u001b[0m\n",
      "\u001b[0m\u001b[1;32m      5 \u001b[1;33m\u001b[1;33m\u001b[0m\u001b[0m\n",
      "\u001b[0m\u001b[1;32m----> 6 \u001b[1;33m        \u001b[1;32mreturn\u001b[0m \u001b[1;34m\"First \"\u001b[0m \u001b[1;33m+\u001b[0m \u001b[0mfunc\u001b[0m\u001b[1;33m(\u001b[0m\u001b[1;33m)\u001b[0m \u001b[1;33m+\u001b[0m \u001b[1;34m\" First\"\u001b[0m\u001b[1;33m\u001b[0m\u001b[1;33m\u001b[0m\u001b[0m\n",
      "\u001b[0m\u001b[1;32m      7 \u001b[1;33m    \u001b[1;32mreturn\u001b[0m \u001b[0minner\u001b[0m\u001b[1;33m\u001b[0m\u001b[1;33m\u001b[0m\u001b[0m\n",
      "\u001b[0m\u001b[1;32m      8 \u001b[1;33m\u001b[1;33m\u001b[0m\u001b[0m\n",
      "\u001b[0m\n",
      "ipdb> l\n",
      "\u001b[0;32m      1 \u001b[0m\u001b[1;32mdef\u001b[0m \u001b[0mupper_d\u001b[0m\u001b[1;33m(\u001b[0m\u001b[0mfunc\u001b[0m\u001b[1;33m)\u001b[0m\u001b[1;33m:\u001b[0m\u001b[1;33m\u001b[0m\u001b[1;33m\u001b[0m\u001b[0m\n",
      "\u001b[0;32m      2 \u001b[0m    \u001b[1;32mdef\u001b[0m \u001b[0minner\u001b[0m\u001b[1;33m(\u001b[0m\u001b[1;33m)\u001b[0m\u001b[1;33m:\u001b[0m\u001b[1;33m\u001b[0m\u001b[1;33m\u001b[0m\u001b[0m\n",
      "\u001b[0;32m      3 \u001b[0m        \u001b[1;32mimport\u001b[0m \u001b[0mpdb\u001b[0m\u001b[1;33m\u001b[0m\u001b[1;33m\u001b[0m\u001b[0m\n",
      "\u001b[0;32m      4 \u001b[0m        \u001b[0mpdb\u001b[0m\u001b[1;33m.\u001b[0m\u001b[0mset_trace\u001b[0m\u001b[1;33m(\u001b[0m\u001b[1;33m)\u001b[0m\u001b[1;33m\u001b[0m\u001b[1;33m\u001b[0m\u001b[0m\n",
      "\u001b[0;32m      5 \u001b[0m\u001b[1;33m\u001b[0m\u001b[0m\n",
      "\u001b[1;32m----> 6 \u001b[1;33m        \u001b[1;32mreturn\u001b[0m \u001b[1;34m\"First \"\u001b[0m \u001b[1;33m+\u001b[0m \u001b[0mfunc\u001b[0m\u001b[1;33m(\u001b[0m\u001b[1;33m)\u001b[0m \u001b[1;33m+\u001b[0m \u001b[1;34m\" First\"\u001b[0m\u001b[1;33m\u001b[0m\u001b[1;33m\u001b[0m\u001b[0m\n",
      "\u001b[0m\u001b[0;32m      7 \u001b[0m    \u001b[1;32mreturn\u001b[0m \u001b[0minner\u001b[0m\u001b[1;33m\u001b[0m\u001b[1;33m\u001b[0m\u001b[0m\n",
      "\u001b[0;32m      8 \u001b[0m\u001b[1;33m\u001b[0m\u001b[0m\n",
      "\u001b[0;32m      9 \u001b[0m\u001b[1;32mdef\u001b[0m \u001b[0msplit_d\u001b[0m\u001b[1;33m(\u001b[0m\u001b[0mfunc\u001b[0m\u001b[1;33m)\u001b[0m\u001b[1;33m:\u001b[0m\u001b[1;33m\u001b[0m\u001b[1;33m\u001b[0m\u001b[0m\n",
      "\u001b[0;32m     10 \u001b[0m    \u001b[1;32mdef\u001b[0m \u001b[0mwrapper\u001b[0m\u001b[1;33m(\u001b[0m\u001b[1;33m)\u001b[0m\u001b[1;33m:\u001b[0m\u001b[1;33m\u001b[0m\u001b[1;33m\u001b[0m\u001b[0m\n",
      "\u001b[0;32m     11 \u001b[0m\u001b[1;33m\u001b[0m\u001b[0m\n",
      "\n",
      "ipdb> n\n",
      "--Return--\n",
      "'First good morning First'\n",
      "> \u001b[1;32m<ipython-input-30-895467c6cdb3>\u001b[0m(6)\u001b[0;36minner\u001b[1;34m()\u001b[0m\n",
      "\u001b[1;32m      4 \u001b[1;33m        \u001b[0mpdb\u001b[0m\u001b[1;33m.\u001b[0m\u001b[0mset_trace\u001b[0m\u001b[1;33m(\u001b[0m\u001b[1;33m)\u001b[0m\u001b[1;33m\u001b[0m\u001b[1;33m\u001b[0m\u001b[0m\n",
      "\u001b[0m\u001b[1;32m      5 \u001b[1;33m\u001b[1;33m\u001b[0m\u001b[0m\n",
      "\u001b[0m\u001b[1;32m----> 6 \u001b[1;33m        \u001b[1;32mreturn\u001b[0m \u001b[1;34m\"First \"\u001b[0m \u001b[1;33m+\u001b[0m \u001b[0mfunc\u001b[0m\u001b[1;33m(\u001b[0m\u001b[1;33m)\u001b[0m \u001b[1;33m+\u001b[0m \u001b[1;34m\" First\"\u001b[0m\u001b[1;33m\u001b[0m\u001b[1;33m\u001b[0m\u001b[0m\n",
      "\u001b[0m\u001b[1;32m      7 \u001b[1;33m    \u001b[1;32mreturn\u001b[0m \u001b[0minner\u001b[0m\u001b[1;33m\u001b[0m\u001b[1;33m\u001b[0m\u001b[0m\n",
      "\u001b[0m\u001b[1;32m      8 \u001b[1;33m\u001b[1;33m\u001b[0m\u001b[0m\n",
      "\u001b[0m\n",
      "ipdb> n\n",
      "--Return--\n",
      "'Second First... First Second'\n",
      "> \u001b[1;32m<ipython-input-30-895467c6cdb3>\u001b[0m(12)\u001b[0;36mwrapper\u001b[1;34m()\u001b[0m\n",
      "\u001b[1;32m     10 \u001b[1;33m    \u001b[1;32mdef\u001b[0m \u001b[0mwrapper\u001b[0m\u001b[1;33m(\u001b[0m\u001b[1;33m)\u001b[0m\u001b[1;33m:\u001b[0m\u001b[1;33m\u001b[0m\u001b[1;33m\u001b[0m\u001b[0m\n",
      "\u001b[0m\u001b[1;32m     11 \u001b[1;33m\u001b[1;33m\u001b[0m\u001b[0m\n",
      "\u001b[0m\u001b[1;32m---> 12 \u001b[1;33m        \u001b[1;32mreturn\u001b[0m \u001b[1;34m\"Second \"\u001b[0m \u001b[1;33m+\u001b[0m \u001b[0mfunc\u001b[0m\u001b[1;33m(\u001b[0m\u001b[1;33m)\u001b[0m \u001b[1;33m+\u001b[0m \u001b[1;34m\" Second\"\u001b[0m\u001b[1;33m\u001b[0m\u001b[1;33m\u001b[0m\u001b[0m\n",
      "\u001b[0m\u001b[1;32m     13 \u001b[1;33m    \u001b[1;32mreturn\u001b[0m \u001b[0mwrapper\u001b[0m\u001b[1;33m\u001b[0m\u001b[1;33m\u001b[0m\u001b[0m\n",
      "\u001b[0m\u001b[1;32m     14 \u001b[1;33m\u001b[1;33m\u001b[0m\u001b[0m\n",
      "\u001b[0m\n",
      "ipdb> c\n",
      "Second First good morning First Second\n"
     ]
    }
   ],
   "source": [
    "def upper_d(func):\n",
    "    def inner():\n",
    "        import pdb       # By using python debugger we trace the code.\n",
    "        pdb.set_trace()\n",
    "\n",
    "        return \"First \" + func() + \" First\"\n",
    "    return inner\n",
    "\n",
    "def split_d(func):\n",
    "    def wrapper():\n",
    "        \n",
    "        return \"Second \" + func() + \" Second\"\n",
    "    return wrapper\n",
    "\n",
    "\n",
    "\n",
    "@split_d                  # we add two functionality in one function.\n",
    "@upper_d\n",
    "def ordinary():\n",
    "    return \"good morning\"\n",
    "print(ordinary())"
   ]
  },
  {
   "cell_type": "markdown",
   "id": "2f1162c6",
   "metadata": {},
   "source": [
    "# 2] Decorator contains parameter"
   ]
  },
  {
   "cell_type": "code",
   "execution_count": 6,
   "id": "2eefaa31",
   "metadata": {
    "ExecuteTime": {
     "end_time": "2021-09-20T10:50:14.321497Z",
     "start_time": "2021-09-20T10:50:14.209497Z"
    }
   },
   "outputs": [
    {
     "name": "stdout",
     "output_type": "stream",
     "text": [
      "Good Morning! Vikas\n"
     ]
    }
   ],
   "source": [
    "def outer_func(exp):\n",
    "    def str_d(func):\n",
    "        def inner():\n",
    "            return func() + exp     # Here func()  returns string and exp=\"Vikas\" is also string,therefore we use +\n",
    "        return inner\n",
    "    return str_d\n",
    "\n",
    "\n",
    "@outer_func(\"Vikas\")   # Here we give parameter to the decorator function.\n",
    "def greet():\n",
    "    return \"Good Morning! \"\n",
    "print(greet())"
   ]
  },
  {
   "cell_type": "code",
   "execution_count": 49,
   "id": "b18ba087",
   "metadata": {},
   "outputs": [
    {
     "name": "stdout",
     "output_type": "stream",
     "text": [
      "Give Proper input\n",
      "0.0\n"
     ]
    }
   ],
   "source": [
    "def dev_decorator(func):\n",
    "    def inner(*args):  # *args is used to send a non-keyworded variable length argument list to the function. \n",
    "        list1=[]\n",
    "        list1=args[1:]  # Using the *, the variable that we associate with the * becomes an iterable meaning you can  iterate over it.\n",
    "\n",
    "        \n",
    "        for i in list1:\n",
    "            if i==0:\n",
    "                return \"Give Proper input\"\n",
    "        return func(*args)\n",
    "    return inner\n",
    "\n",
    "\n",
    "@dev_decorator\n",
    "def dev1(a,b):\n",
    "    return a/b\n",
    "\n",
    "\n",
    "@dev_decorator\n",
    "def dev2(a,b,c):\n",
    "    return a/b/c\n",
    "\n",
    "print(dev1(4,0))\n",
    "print(dev2(0,2,5))"
   ]
  },
  {
   "cell_type": "code",
   "execution_count": 1,
   "id": "3245a3bd",
   "metadata": {},
   "outputs": [
    {
     "name": "stdout",
     "output_type": "stream",
     "text": [
      "> \u001b[1;32m<ipython-input-1-3635bf2dca3d>\u001b[0m(5)\u001b[0;36minner\u001b[1;34m()\u001b[0m\n",
      "\u001b[1;32m      3 \u001b[1;33m        \u001b[1;32mimport\u001b[0m \u001b[0mpdb\u001b[0m\u001b[1;33m\u001b[0m\u001b[1;33m\u001b[0m\u001b[0m\n",
      "\u001b[0m\u001b[1;32m      4 \u001b[1;33m        \u001b[0mpdb\u001b[0m\u001b[1;33m.\u001b[0m\u001b[0mset_trace\u001b[0m\u001b[1;33m(\u001b[0m\u001b[1;33m)\u001b[0m\u001b[1;33m\u001b[0m\u001b[1;33m\u001b[0m\u001b[0m\n",
      "\u001b[0m\u001b[1;32m----> 5 \u001b[1;33m        \u001b[0mlist1\u001b[0m\u001b[1;33m=\u001b[0m\u001b[1;33m[\u001b[0m\u001b[1;33m]\u001b[0m\u001b[1;33m\u001b[0m\u001b[1;33m\u001b[0m\u001b[0m\n",
      "\u001b[0m\u001b[1;32m      6 \u001b[1;33m        \u001b[0mlist1\u001b[0m\u001b[1;33m=\u001b[0m\u001b[0margs\u001b[0m\u001b[1;33m[\u001b[0m\u001b[1;36m1\u001b[0m\u001b[1;33m:\u001b[0m\u001b[1;33m]\u001b[0m  \u001b[1;31m# Using the *, the variable that we associate with the * becomes an iterable meaning you can  iterate over it.\u001b[0m\u001b[1;33m\u001b[0m\u001b[1;33m\u001b[0m\u001b[0m\n",
      "\u001b[0m\u001b[1;32m      7 \u001b[1;33m\u001b[1;33m\u001b[0m\u001b[0m\n",
      "\u001b[0m\n",
      "ipdb> l\n",
      "\u001b[0;32m      1 \u001b[0m\u001b[1;32mdef\u001b[0m \u001b[0mdev_decorator\u001b[0m\u001b[1;33m(\u001b[0m\u001b[0mfunc\u001b[0m\u001b[1;33m)\u001b[0m\u001b[1;33m:\u001b[0m\u001b[1;33m\u001b[0m\u001b[1;33m\u001b[0m\u001b[0m\n",
      "\u001b[0;32m      2 \u001b[0m    \u001b[1;32mdef\u001b[0m \u001b[0minner\u001b[0m\u001b[1;33m(\u001b[0m\u001b[1;33m*\u001b[0m\u001b[0margs\u001b[0m\u001b[1;33m)\u001b[0m\u001b[1;33m:\u001b[0m  \u001b[1;31m# *args is used to send a non-keyworded variable length argument list to the function.\u001b[0m\u001b[1;33m\u001b[0m\u001b[1;33m\u001b[0m\u001b[0m\n",
      "\u001b[0;32m      3 \u001b[0m        \u001b[1;32mimport\u001b[0m \u001b[0mpdb\u001b[0m\u001b[1;33m\u001b[0m\u001b[1;33m\u001b[0m\u001b[0m\n",
      "\u001b[0;32m      4 \u001b[0m        \u001b[0mpdb\u001b[0m\u001b[1;33m.\u001b[0m\u001b[0mset_trace\u001b[0m\u001b[1;33m(\u001b[0m\u001b[1;33m)\u001b[0m\u001b[1;33m\u001b[0m\u001b[1;33m\u001b[0m\u001b[0m\n",
      "\u001b[1;32m----> 5 \u001b[1;33m        \u001b[0mlist1\u001b[0m\u001b[1;33m=\u001b[0m\u001b[1;33m[\u001b[0m\u001b[1;33m]\u001b[0m\u001b[1;33m\u001b[0m\u001b[1;33m\u001b[0m\u001b[0m\n",
      "\u001b[0m\u001b[0;32m      6 \u001b[0m        \u001b[0mlist1\u001b[0m\u001b[1;33m=\u001b[0m\u001b[0margs\u001b[0m\u001b[1;33m[\u001b[0m\u001b[1;36m1\u001b[0m\u001b[1;33m:\u001b[0m\u001b[1;33m]\u001b[0m  \u001b[1;31m# Using the *, the variable that we associate with the * becomes an iterable meaning you can  iterate over it.\u001b[0m\u001b[1;33m\u001b[0m\u001b[1;33m\u001b[0m\u001b[0m\n",
      "\u001b[0;32m      7 \u001b[0m\u001b[1;33m\u001b[0m\u001b[0m\n",
      "\u001b[0;32m      8 \u001b[0m\u001b[1;33m\u001b[0m\u001b[0m\n",
      "\u001b[0;32m      9 \u001b[0m        \u001b[1;32mfor\u001b[0m \u001b[0mi\u001b[0m \u001b[1;32min\u001b[0m \u001b[0mlist1\u001b[0m\u001b[1;33m:\u001b[0m\u001b[1;33m\u001b[0m\u001b[1;33m\u001b[0m\u001b[0m\n",
      "\u001b[0;32m     10 \u001b[0m            \u001b[1;32mif\u001b[0m \u001b[0mi\u001b[0m\u001b[1;33m==\u001b[0m\u001b[1;36m0\u001b[0m\u001b[1;33m:\u001b[0m\u001b[1;33m\u001b[0m\u001b[1;33m\u001b[0m\u001b[0m\n",
      "\u001b[0;32m     11 \u001b[0m                \u001b[1;32mreturn\u001b[0m \u001b[1;34m\"Give Proper input\"\u001b[0m\u001b[1;33m\u001b[0m\u001b[1;33m\u001b[0m\u001b[0m\n",
      "\n",
      "ipdb> n\n",
      "> \u001b[1;32m<ipython-input-1-3635bf2dca3d>\u001b[0m(6)\u001b[0;36minner\u001b[1;34m()\u001b[0m\n",
      "\u001b[1;32m      4 \u001b[1;33m        \u001b[0mpdb\u001b[0m\u001b[1;33m.\u001b[0m\u001b[0mset_trace\u001b[0m\u001b[1;33m(\u001b[0m\u001b[1;33m)\u001b[0m\u001b[1;33m\u001b[0m\u001b[1;33m\u001b[0m\u001b[0m\n",
      "\u001b[0m\u001b[1;32m      5 \u001b[1;33m        \u001b[0mlist1\u001b[0m\u001b[1;33m=\u001b[0m\u001b[1;33m[\u001b[0m\u001b[1;33m]\u001b[0m\u001b[1;33m\u001b[0m\u001b[1;33m\u001b[0m\u001b[0m\n",
      "\u001b[0m\u001b[1;32m----> 6 \u001b[1;33m        \u001b[0mlist1\u001b[0m\u001b[1;33m=\u001b[0m\u001b[0margs\u001b[0m\u001b[1;33m[\u001b[0m\u001b[1;36m1\u001b[0m\u001b[1;33m:\u001b[0m\u001b[1;33m]\u001b[0m  \u001b[1;31m# Using the *, the variable that we associate with the * becomes an iterable meaning you can  iterate over it.\u001b[0m\u001b[1;33m\u001b[0m\u001b[1;33m\u001b[0m\u001b[0m\n",
      "\u001b[0m\u001b[1;32m      7 \u001b[1;33m\u001b[1;33m\u001b[0m\u001b[0m\n",
      "\u001b[0m\u001b[1;32m      8 \u001b[1;33m\u001b[1;33m\u001b[0m\u001b[0m\n",
      "\u001b[0m\n",
      "ipdb> c\n",
      "Give Proper input\n",
      "> \u001b[1;32m<ipython-input-1-3635bf2dca3d>\u001b[0m(5)\u001b[0;36minner\u001b[1;34m()\u001b[0m\n",
      "\u001b[1;32m      3 \u001b[1;33m        \u001b[1;32mimport\u001b[0m \u001b[0mpdb\u001b[0m\u001b[1;33m\u001b[0m\u001b[1;33m\u001b[0m\u001b[0m\n",
      "\u001b[0m\u001b[1;32m      4 \u001b[1;33m        \u001b[0mpdb\u001b[0m\u001b[1;33m.\u001b[0m\u001b[0mset_trace\u001b[0m\u001b[1;33m(\u001b[0m\u001b[1;33m)\u001b[0m\u001b[1;33m\u001b[0m\u001b[1;33m\u001b[0m\u001b[0m\n",
      "\u001b[0m\u001b[1;32m----> 5 \u001b[1;33m        \u001b[0mlist1\u001b[0m\u001b[1;33m=\u001b[0m\u001b[1;33m[\u001b[0m\u001b[1;33m]\u001b[0m\u001b[1;33m\u001b[0m\u001b[1;33m\u001b[0m\u001b[0m\n",
      "\u001b[0m\u001b[1;32m      6 \u001b[1;33m        \u001b[0mlist1\u001b[0m\u001b[1;33m=\u001b[0m\u001b[0margs\u001b[0m\u001b[1;33m[\u001b[0m\u001b[1;36m1\u001b[0m\u001b[1;33m:\u001b[0m\u001b[1;33m]\u001b[0m  \u001b[1;31m# Using the *, the variable that we associate with the * becomes an iterable meaning you can  iterate over it.\u001b[0m\u001b[1;33m\u001b[0m\u001b[1;33m\u001b[0m\u001b[0m\n",
      "\u001b[0m\u001b[1;32m      7 \u001b[1;33m\u001b[1;33m\u001b[0m\u001b[0m\n",
      "\u001b[0m\n",
      "ipdb> c\n",
      "0.0\n"
     ]
    }
   ],
   "source": [
    "def dev_decorator(func):\n",
    "    def inner(*args):  # *args is used to send a non-keyworded variable length argument list to the function.\n",
    "        import pdb\n",
    "        pdb.set_trace()\n",
    "        list1=[]\n",
    "        list1=args[1:]  # Using the *, the variable that we associate with the * becomes an iterable meaning you can  iterate over it.\n",
    "\n",
    "        \n",
    "        for i in list1:\n",
    "            if i==0:\n",
    "                return \"Give Proper input\"\n",
    "        return func(*args)\n",
    "    return inner\n",
    "\n",
    "\n",
    "@dev_decorator\n",
    "def dev1(a,b):\n",
    "    return a/b\n",
    "\n",
    "\n",
    "@dev_decorator\n",
    "def dev2(a,b,c):\n",
    "    return a/b/c\n",
    "\n",
    "print(dev1(4,0))\n",
    "print(dev2(0,2,5))"
   ]
  },
  {
   "cell_type": "code",
   "execution_count": 3,
   "id": "c9308a8f",
   "metadata": {},
   "outputs": [
    {
     "name": "stdout",
     "output_type": "stream",
     "text": [
      "HELLO, GOOD MORNING!\n"
     ]
    }
   ],
   "source": [
    "def greet_d(func):\n",
    "    def inner():\n",
    "        result=func().upper()\n",
    "        return result\n",
    "    return inner\n",
    "\n",
    "\n",
    "@greet_d\n",
    "def greet():\n",
    "    return \"hello, good morning!\"\n",
    "print(greet())"
   ]
  },
  {
   "cell_type": "code",
   "execution_count": 5,
   "id": "6d64c3cc",
   "metadata": {},
   "outputs": [
    {
     "name": "stdout",
     "output_type": "stream",
     "text": [
      "inner\n"
     ]
    }
   ],
   "source": [
    "print(greet.__name__)           # It shows the function name inner \n",
    "                                 # decorator hides original function."
   ]
  },
  {
   "cell_type": "markdown",
   "id": "7cd99f45",
   "metadata": {},
   "source": [
    "## How to get original function name\n",
    "- If you want to print original function name use functool.wraps()"
   ]
  },
  {
   "cell_type": "code",
   "execution_count": 11,
   "id": "2ec337db",
   "metadata": {},
   "outputs": [
    {
     "name": "stdout",
     "output_type": "stream",
     "text": [
      "HELLO, GOOD MORNING!\n"
     ]
    }
   ],
   "source": [
    "import functools\n",
    "\n",
    "def greet_d(func):\n",
    "    @functools.wraps(func)\n",
    "    def inner():\n",
    "        result=func()\n",
    "        return result.upper()\n",
    "    return inner\n",
    "\n",
    "\n",
    "@greet_d\n",
    "def greet():\n",
    "    return \"hello, good morning!\"\n",
    "print(greet())"
   ]
  },
  {
   "cell_type": "code",
   "execution_count": 12,
   "id": "46d7f896",
   "metadata": {},
   "outputs": [
    {
     "name": "stdout",
     "output_type": "stream",
     "text": [
      "greet\n"
     ]
    }
   ],
   "source": [
    "print(greet.__name__)         # Here you can see the original function name get printed."
   ]
  },
  {
   "cell_type": "code",
   "execution_count": 20,
   "id": "2ea5d2aa",
   "metadata": {},
   "outputs": [
    {
     "name": "stdout",
     "output_type": "stream",
     "text": [
      "['GOOD', 'MORNING']\n"
     ]
    }
   ],
   "source": [
    "import functools\n",
    "\n",
    "def upper_d(func):\n",
    "    @functools.wraps(func)\n",
    "    def inner():\n",
    "        r=func()\n",
    "        return r.upper()\n",
    "    return inner\n",
    "\n",
    "def split_d(func):\n",
    "    @functools.wraps(func)\n",
    "    def wrapper():\n",
    "        s=func()\n",
    "        return s.split()\n",
    "    return wrapper\n",
    "\n",
    "\n",
    "\n",
    "@split_d                  # we add two functionality in one function.\n",
    "@upper_d\n",
    "def ordinary():\n",
    "    return \"good morning\"\n",
    "print(ordinary())"
   ]
  },
  {
   "cell_type": "code",
   "execution_count": 21,
   "id": "63c22ee5",
   "metadata": {},
   "outputs": [
    {
     "name": "stdout",
     "output_type": "stream",
     "text": [
      "ordinary\n"
     ]
    }
   ],
   "source": [
    "print(ordinary.__name__)"
   ]
  },
  {
   "cell_type": "markdown",
   "id": "666acc3d",
   "metadata": {},
   "source": [
    "# Class Decorators"
   ]
  },
  {
   "cell_type": "code",
   "execution_count": 26,
   "id": "20449874",
   "metadata": {},
   "outputs": [],
   "source": [
    "class Printing:\n",
    "    def __init__(self,name):\n",
    "        self.name=name\n",
    "        \n",
    "    def print_name(self):\n",
    "        print(\"entered username is: \",self.name)\n",
    "        \n",
    "t1=Printing(\"Vikas\")\n",
    "\n",
    "    "
   ]
  },
  {
   "cell_type": "code",
   "execution_count": 27,
   "id": "0d772269",
   "metadata": {},
   "outputs": [
    {
     "name": "stdout",
     "output_type": "stream",
     "text": [
      "entered username is:  Vikas\n"
     ]
    }
   ],
   "source": [
    "t1.print_name()"
   ]
  },
  {
   "cell_type": "code",
   "execution_count": 30,
   "id": "3c4d6d23",
   "metadata": {},
   "outputs": [],
   "source": [
    "def check_name(method): # in class function is nothing but method therefore instead of func parameter we write method.\n",
    "    def inner(name_ref):\n",
    "        if name_ref.name==\"Vikas\":\n",
    "            print(\"Hey my name is also same!!!\")\n",
    "        else:\n",
    "            method(name_ref)\n",
    "    return inner\n",
    "    \n",
    "\n",
    "class Printing:\n",
    "    def __init__(self,name):\n",
    "        self.name=name\n",
    "    @check_name    \n",
    "    def print_name(self):\n",
    "        print(\"entered username is: \",self.name)\n",
    "        \n",
    "t1=Printing(\"Vikas\")\n",
    "\n",
    "    "
   ]
  },
  {
   "cell_type": "code",
   "execution_count": 31,
   "id": "26aa8fb3",
   "metadata": {},
   "outputs": [
    {
     "name": "stdout",
     "output_type": "stream",
     "text": [
      "Hey my name is also same!!!\n"
     ]
    }
   ],
   "source": [
    "t1.print_name()"
   ]
  },
  {
   "cell_type": "code",
   "execution_count": 32,
   "id": "7fb112db",
   "metadata": {},
   "outputs": [],
   "source": [
    "def check_name(method): # in class function is nothing but method therefore instead of func parameter we write method.\n",
    "    def inner(name_ref):\n",
    "        if name_ref.name==\"Vikas\":\n",
    "            print(\"Hey my name is also same!!!\")\n",
    "        else:\n",
    "            method(name_ref)\n",
    "    return inner\n",
    "    \n",
    "\n",
    "class Printing:\n",
    "    def __init__(self,name):\n",
    "        self.name=name\n",
    "    @check_name    \n",
    "    def print_name(self):\n",
    "        print(\"entered username is: \",self.name)\n",
    "        \n",
    "t1=Printing(\"Ganesh\")\n",
    "\n",
    "    "
   ]
  },
  {
   "cell_type": "code",
   "execution_count": 33,
   "id": "b8af894e",
   "metadata": {},
   "outputs": [
    {
     "name": "stdout",
     "output_type": "stream",
     "text": [
      "entered username is:  Ganesh\n"
     ]
    }
   ],
   "source": [
    "t1.print_name()"
   ]
  },
  {
   "cell_type": "code",
   "execution_count": 34,
   "id": "b72bc891",
   "metadata": {},
   "outputs": [
    {
     "name": "stdout",
     "output_type": "stream",
     "text": [
      "entered username is:  Vikas\n"
     ]
    }
   ],
   "source": [
    "class Printing:\n",
    "    def __init__(self,name):\n",
    "        self.name=name\n",
    "        \n",
    "    def print_name(self):\n",
    "        print(\"entered username is: \",self.name)\n",
    "        \n",
    "t1=Printing(\"Vikas\")\n",
    "t1.print_name()\n",
    "\n",
    "    "
   ]
  },
  {
   "cell_type": "code",
   "execution_count": 35,
   "id": "fbfb6b2b",
   "metadata": {},
   "outputs": [
    {
     "ename": "TypeError",
     "evalue": "'Printing' object is not callable",
     "output_type": "error",
     "traceback": [
      "\u001b[1;31m---------------------------------------------------------------------------\u001b[0m",
      "\u001b[1;31mTypeError\u001b[0m                                 Traceback (most recent call last)",
      "\u001b[1;32m<ipython-input-35-2ec6368ea58c>\u001b[0m in \u001b[0;36m<module>\u001b[1;34m\u001b[0m\n\u001b[0;32m      7\u001b[0m \u001b[1;33m\u001b[0m\u001b[0m\n\u001b[0;32m      8\u001b[0m \u001b[0mt1\u001b[0m\u001b[1;33m=\u001b[0m\u001b[0mPrinting\u001b[0m\u001b[1;33m(\u001b[0m\u001b[1;34m\"Vikas\"\u001b[0m\u001b[1;33m)\u001b[0m\u001b[1;33m\u001b[0m\u001b[1;33m\u001b[0m\u001b[0m\n\u001b[1;32m----> 9\u001b[1;33m \u001b[0mt1\u001b[0m\u001b[1;33m(\u001b[0m\u001b[1;33m)\u001b[0m\u001b[1;33m\u001b[0m\u001b[1;33m\u001b[0m\u001b[0m\n\u001b[0m\u001b[0;32m     10\u001b[0m \u001b[1;33m\u001b[0m\u001b[0m\n\u001b[0;32m     11\u001b[0m \u001b[1;33m\u001b[0m\u001b[0m\n",
      "\u001b[1;31mTypeError\u001b[0m: 'Printing' object is not callable"
     ]
    }
   ],
   "source": [
    "class Printing:\n",
    "    def __init__(self,name):\n",
    "        self.name=name\n",
    "        \n",
    "    def print_name(self):\n",
    "        print(\"entered username is: \",self.name)\n",
    "        \n",
    "t1=Printing(\"Vikas\")\n",
    "t1()\n",
    "\n",
    "    "
   ]
  },
  {
   "cell_type": "markdown",
   "id": "8fa4b71b",
   "metadata": {},
   "source": [
    "# __call__"
   ]
  },
  {
   "cell_type": "code",
   "execution_count": 36,
   "id": "5a92d29a",
   "metadata": {},
   "outputs": [
    {
     "name": "stdout",
     "output_type": "stream",
     "text": [
      "entered username is:  Vikas\n"
     ]
    }
   ],
   "source": [
    "class Printing:\n",
    "    def __init__(self,name):\n",
    "        self.name=name\n",
    " \"\"\"\n",
    " call is is special method which execute when we call\n",
    " a object in function form.\n",
    " \"\"\"       \n",
    "    def __call__(self): \n",
    "        print(\"entered username is: \",self.name)\n",
    "        \n",
    "t1=Printing(\"Vikas\")\n",
    "t1()      # Here we call object in function form.\n",
    "\n",
    "    "
   ]
  },
  {
   "cell_type": "code",
   "execution_count": 2,
   "id": "c14afc0d",
   "metadata": {},
   "outputs": [
    {
     "name": "stdout",
     "output_type": "stream",
     "text": [
      "GOOD MORNING!\n"
     ]
    }
   ],
   "source": [
    "class decorator:\n",
    "    def __init__(self,func):\n",
    "        self.func=func\n",
    "        \n",
    "    def __call__(self):\n",
    "        str1=self.func()\n",
    "        return str1.upper()\n",
    "        \n",
    "@decorator\n",
    "def greet():\n",
    "    return \"good morning!\"\n",
    "print(greet())"
   ]
  },
  {
   "cell_type": "code",
   "execution_count": 43,
   "id": "0ea8f7d8",
   "metadata": {},
   "outputs": [
    {
     "name": "stdout",
     "output_type": "stream",
     "text": [
      "2.0\n",
      "You can't devide change the input!\n"
     ]
    }
   ],
   "source": [
    "class div_d:\n",
    "    def __init__(self,func):\n",
    "        self.func=func\n",
    "    \n",
    "    def __call__(self,*args,**kwargs):\n",
    "        list1=[]\n",
    "        list1=args[1:]\n",
    "        for i in list1:\n",
    "            if i==0:\n",
    "                \n",
    "                return \"You can't devide change the input!\"\n",
    "        else:\n",
    "            \n",
    "            return self.func(*args,**kwargs)\n",
    "\n",
    "@div_d\n",
    "def div(a,b):\n",
    "    return a/b\n",
    "@div_d\n",
    "def div2(a,b,c):\n",
    "    return a/b/c\n",
    "\n",
    "print(div2(8,2,2))\n",
    "print(div(4,0))"
   ]
  },
  {
   "cell_type": "code",
   "execution_count": 1,
   "id": "3b2d5d30",
   "metadata": {},
   "outputs": [
    {
     "name": "stdout",
     "output_type": "stream",
     "text": [
      "10\n"
     ]
    }
   ],
   "source": [
    "def num():             # I want to modify this function without changing this then use decorator.\n",
    "    return 10   \n",
    "print(num())"
   ]
  },
  {
   "cell_type": "code",
   "execution_count": 6,
   "id": "90ac7dde",
   "metadata": {},
   "outputs": [
    {
     "name": "stdout",
     "output_type": "stream",
     "text": [
      "50\n"
     ]
    }
   ],
   "source": [
    "def decorator(num):\n",
    "    def inner():\n",
    "        out_num=num()\n",
    "        return out_num *5\n",
    "    return inner\n",
    "\n",
    "\n",
    "@decorator\n",
    "def num():             # I want to modify this function without changing this then use decorator.\n",
    "    return 10\n",
    "\n",
    "# result=decorator(num)\n",
    "print(result())"
   ]
  },
  {
   "cell_type": "code",
   "execution_count": 8,
   "id": "7b224c68",
   "metadata": {},
   "outputs": [
    {
     "name": "stdout",
     "output_type": "stream",
     "text": [
      "55\n"
     ]
    }
   ],
   "source": [
    "def deco1_num(num):\n",
    "    def inner():\n",
    "        s=num()\n",
    "        return s*5\n",
    "    return inner\n",
    "\n",
    "def deco2_num(num):\n",
    "    def wrapper():\n",
    "        d=num()\n",
    "        return d+5\n",
    "    return wrapper\n",
    "\n",
    "\n",
    "\n",
    "def num():\n",
    "    return 10\n",
    "main_out=deco2_num(deco1_num(num))\n",
    "print(main_out())"
   ]
  },
  {
   "cell_type": "code",
   "execution_count": 9,
   "id": "26fa0650",
   "metadata": {},
   "outputs": [
    {
     "name": "stdout",
     "output_type": "stream",
     "text": [
      "55\n"
     ]
    }
   ],
   "source": [
    "def deco1_num(num):\n",
    "    def inner():\n",
    "        s=num()\n",
    "        return s*5\n",
    "    return inner\n",
    "\n",
    "def deco2_num(num):\n",
    "    def wrapper():\n",
    "        d=num()\n",
    "        return d+5\n",
    "    return wrapper\n",
    "@deco2_num\n",
    "@deco1_num\n",
    "def num():\n",
    "    return 10\n",
    "#main_out=deco2_num(deco1_num(num))\n",
    "print(main_out())"
   ]
  },
  {
   "cell_type": "code",
   "execution_count": 11,
   "id": "0397bf74",
   "metadata": {},
   "outputs": [
    {
     "name": "stdout",
     "output_type": "stream",
     "text": [
      "55\n"
     ]
    }
   ],
   "source": [
    "\n",
    "def deco1_num(num):\n",
    "    def inner():\n",
    "        s=num()\n",
    "        return s*5\n",
    "    return inner\n",
    "\n",
    "def deco2_num(num):\n",
    "    def wrapper():\n",
    "        d=num()\n",
    "        return d+5\n",
    "    return wrapper\n",
    "\n",
    "\n",
    "\n",
    "def num():\n",
    "    return 10\n",
    "main_out=deco2_num(deco1_num(num))\n",
    "print(main_out())"
   ]
  },
  {
   "cell_type": "code",
   "execution_count": 17,
   "id": "c5141766",
   "metadata": {},
   "outputs": [
    {
     "name": "stdout",
     "output_type": "stream",
     "text": [
      "VIKAS\n"
     ]
    }
   ],
   "source": [
    "def deco_input(func):\n",
    "    def wrapper(t):\n",
    "        func(t)\n",
    "        return (func(t).upper())\n",
    "    return wrapper\n",
    "\n",
    "\n",
    "@deco_input\n",
    "def input(s):\n",
    "    return s\n",
    "s=\"vikas\"\n",
    "print(input(s))"
   ]
  },
  {
   "cell_type": "code",
   "execution_count": null,
   "id": "72a6be8d",
   "metadata": {},
   "outputs": [],
   "source": [
    "# Functions can be passed as arguments to another function."
   ]
  },
  {
   "cell_type": "code",
   "execution_count": 1,
   "id": "fb956b94",
   "metadata": {
    "ExecuteTime": {
     "end_time": "2021-09-16T00:26:20.362858Z",
     "start_time": "2021-09-16T00:26:20.282859Z"
    }
   },
   "outputs": [],
   "source": [
    "def inc(x):\n",
    "    return x+1\n",
    "\n",
    "def dec(x):\n",
    "    return x-1\n",
    "\n",
    "def operate(func,x):\n",
    "    result=func(x)\n",
    "    return result"
   ]
  },
  {
   "cell_type": "code",
   "execution_count": 2,
   "id": "57d7ece3",
   "metadata": {
    "ExecuteTime": {
     "end_time": "2021-09-16T00:26:49.199042Z",
     "start_time": "2021-09-16T00:26:49.151042Z"
    }
   },
   "outputs": [
    {
     "data": {
      "text/plain": [
       "4"
      ]
     },
     "execution_count": 2,
     "metadata": {},
     "output_type": "execute_result"
    }
   ],
   "source": [
    "operate(inc,3)"
   ]
  },
  {
   "cell_type": "code",
   "execution_count": 3,
   "id": "0d291d8d",
   "metadata": {
    "ExecuteTime": {
     "end_time": "2021-09-16T00:27:07.639696Z",
     "start_time": "2021-09-16T00:27:07.607720Z"
    }
   },
   "outputs": [
    {
     "data": {
      "text/plain": [
       "2"
      ]
     },
     "execution_count": 3,
     "metadata": {},
     "output_type": "execute_result"
    }
   ],
   "source": [
    "operate(dec,3)"
   ]
  },
  {
   "cell_type": "code",
   "execution_count": null,
   "id": "1698ae4f",
   "metadata": {},
   "outputs": [],
   "source": [
    "# a function can return another function."
   ]
  },
  {
   "cell_type": "code",
   "execution_count": 6,
   "id": "b860aa69",
   "metadata": {
    "ExecuteTime": {
     "end_time": "2021-09-16T00:39:44.257993Z",
     "start_time": "2021-09-16T00:39:44.241954Z"
    }
   },
   "outputs": [],
   "source": [
    "def shout(text):\n",
    "    return text.upper()\n",
    "\n",
    "def whisper(text):\n",
    "    return text.lower()\n",
    "\n",
    "def greet(func,text):\n",
    "    greeting=shout(text)\n",
    "    \n",
    "    return greeting"
   ]
  },
  {
   "cell_type": "code",
   "execution_count": 7,
   "id": "4094b31b",
   "metadata": {
    "ExecuteTime": {
     "end_time": "2021-09-16T00:39:54.626252Z",
     "start_time": "2021-09-16T00:39:54.602253Z"
    }
   },
   "outputs": [
    {
     "data": {
      "text/plain": [
       "'HII, WELCOME TO THE WORLD OF PYTHON!'"
      ]
     },
     "execution_count": 7,
     "metadata": {},
     "output_type": "execute_result"
    }
   ],
   "source": [
    "shout(\"hii, welcome to the world of python!\")"
   ]
  },
  {
   "cell_type": "code",
   "execution_count": 9,
   "id": "db921dc2",
   "metadata": {
    "ExecuteTime": {
     "end_time": "2021-09-16T00:40:26.377138Z",
     "start_time": "2021-09-16T00:40:26.353095Z"
    }
   },
   "outputs": [
    {
     "data": {
      "text/plain": [
       "'hii, welcome to the world of python!'"
      ]
     },
     "execution_count": 9,
     "metadata": {},
     "output_type": "execute_result"
    }
   ],
   "source": [
    "whisper('HII, WELCOME TO THE WORLD OF PYTHON!')"
   ]
  },
  {
   "cell_type": "code",
   "execution_count": null,
   "id": "6bc53f82",
   "metadata": {},
   "outputs": [],
   "source": [
    "# Returning functions from another functions."
   ]
  },
  {
   "cell_type": "code",
   "execution_count": 14,
   "id": "01d1c0eb",
   "metadata": {
    "ExecuteTime": {
     "end_time": "2021-09-16T00:44:48.868613Z",
     "start_time": "2021-09-16T00:44:48.812570Z"
    }
   },
   "outputs": [
    {
     "name": "stdout",
     "output_type": "stream",
     "text": [
      "25\n"
     ]
    }
   ],
   "source": [
    "# Python program to illustrate functions\n",
    "# Functions can return another function\n",
    "\n",
    "def create_adder(x):\n",
    "\tdef adder(y):\n",
    "\t\treturn x+y\n",
    "\n",
    "\treturn adder\n",
    "\n",
    "add_15 = create_adder(15)\n",
    "\n",
    "print(add_15(10))\n"
   ]
  },
  {
   "cell_type": "code",
   "execution_count": 3,
   "id": "23afc90a",
   "metadata": {
    "ExecuteTime": {
     "end_time": "2021-11-11T09:13:43.637865Z",
     "start_time": "2021-11-11T09:13:43.606237Z"
    }
   },
   "outputs": [],
   "source": [
    "def defecorator_example(func):\n",
    "    def inner():\n",
    "        print(\"Before\")\n",
    "        func()\n",
    "        print(\"after\")\n",
    "    return inner\n",
    "@defecorator_example\n",
    "def prnt():\n",
    "    print(\"I am in prnt function\")"
   ]
  },
  {
   "cell_type": "code",
   "execution_count": 4,
   "id": "a32ef2f1",
   "metadata": {
    "ExecuteTime": {
     "end_time": "2021-11-11T09:13:51.702856Z",
     "start_time": "2021-11-11T09:13:51.685857Z"
    }
   },
   "outputs": [
    {
     "name": "stdout",
     "output_type": "stream",
     "text": [
      "Before\n",
      "I am in prnt function\n",
      "after\n"
     ]
    }
   ],
   "source": [
    "prnt()"
   ]
  },
  {
   "cell_type": "code",
   "execution_count": 7,
   "id": "b8b8c20b",
   "metadata": {
    "ExecuteTime": {
     "end_time": "2021-11-11T09:19:27.591966Z",
     "start_time": "2021-11-11T09:19:27.570967Z"
    }
   },
   "outputs": [
    {
     "name": "stdout",
     "output_type": "stream",
     "text": [
      "VIKAS KALE\n"
     ]
    }
   ],
   "source": [
    "def name_deco(func):\n",
    "    def wrapper():\n",
    "        r = func()\n",
    "        return r.upper()\n",
    "    return wrapper\n",
    "\n",
    "\n",
    "@name_deco\n",
    "def name():\n",
    "    return \"vikas kale\"\n",
    "\n",
    "print(name())"
   ]
  },
  {
   "cell_type": "code",
   "execution_count": null,
   "id": "6b416ad8",
   "metadata": {},
   "outputs": [],
   "source": []
  }
 ],
 "metadata": {
  "kernelspec": {
   "display_name": "Python 3",
   "language": "python",
   "name": "python3"
  },
  "language_info": {
   "codemirror_mode": {
    "name": "ipython",
    "version": 3
   },
   "file_extension": ".py",
   "mimetype": "text/x-python",
   "name": "python",
   "nbconvert_exporter": "python",
   "pygments_lexer": "ipython3",
   "version": "3.8.8"
  }
 },
 "nbformat": 4,
 "nbformat_minor": 5
}
