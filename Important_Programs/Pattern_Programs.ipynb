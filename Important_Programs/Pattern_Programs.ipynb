{
 "cells": [
  {
   "cell_type": "code",
   "execution_count": 1,
   "id": "979eb77a",
   "metadata": {},
   "outputs": [
    {
     "name": "stdout",
     "output_type": "stream",
     "text": [
      "* * * * * \n",
      "* * * * * \n",
      "* * * * * \n",
      "* * * * * \n",
      "* * * * * \n"
     ]
    }
   ],
   "source": [
    "for i in range(1,6):\n",
    "    for j in range(1,6):\n",
    "        print(\"*\",end=\" \")\n",
    "    print()"
   ]
  },
  {
   "cell_type": "code",
   "execution_count": 7,
   "id": "9c47a224",
   "metadata": {},
   "outputs": [
    {
     "name": "stdout",
     "output_type": "stream",
     "text": [
      "a b c d e f g h i j k l m n o p q r \n",
      "a b c d e f g h i j k l m n o p q r \n",
      "a b c d e f g h i j k l m n o p q r \n",
      "a b c d e f g h i j k l m n o p q r \n"
     ]
    }
   ],
   "source": [
    "for i in range(1,5):\n",
    "    for j in range(97,115):\n",
    "        print(chr(j),end=' ')\n",
    "    print()"
   ]
  },
  {
   "cell_type": "code",
   "execution_count": 21,
   "id": "2f60c167",
   "metadata": {},
   "outputs": [
    {
     "name": "stdout",
     "output_type": "stream",
     "text": [
      "1 \n",
      "1 2 \n",
      "1 2 3 \n",
      "1 2 3 4 \n",
      "1 2 3 4 5 \n"
     ]
    }
   ],
   "source": [
    "\"\"\"\n",
    "1\n",
    "1 2\n",
    "1 2 3\n",
    "1 2 3 4\n",
    "1 2 3 4 5\n",
    "\n",
    "\"\"\"\n",
    "for i in range(1,6):\n",
    "    for j in range(1,i+1):\n",
    "        print(j,end=\" \")\n",
    "    print()\n"
   ]
  },
  {
   "cell_type": "code",
   "execution_count": 28,
   "id": "4ca8941f",
   "metadata": {},
   "outputs": [
    {
     "name": "stdout",
     "output_type": "stream",
     "text": [
      "1 \n",
      "2 1 \n",
      "3 2 1 \n",
      "4 3 2 1 \n",
      "5 4 3 2 1 \n"
     ]
    }
   ],
   "source": [
    "\"\"\"\n",
    "1\n",
    "2 1\n",
    "3 2 1\n",
    "4 3 2 1\n",
    "5 4 3 2 1\n",
    "\n",
    "\"\"\"\n",
    "for i in range(1,6):\n",
    "    for j in range(i,0,-1):\n",
    "        print(j,end=\" \")\n",
    "    print()"
   ]
  },
  {
   "cell_type": "code",
   "execution_count": 40,
   "id": "bd64af06",
   "metadata": {},
   "outputs": [
    {
     "name": "stdout",
     "output_type": "stream",
     "text": [
      "1 2 3 4 5 \n",
      "1 2 3 4 \n",
      "1 2 3 \n",
      "1 2 \n",
      "1 \n"
     ]
    }
   ],
   "source": [
    "\"\"\"\n",
    "1 2 3 4 5\n",
    "1 2 3 4\n",
    "1 2 3\n",
    "1 2\n",
    "1\n",
    "\"\"\"\n",
    "\n",
    "for i in range(5,0,-1):  # outer loop strats with 5 and decreasing upto 1.\n",
    "    for j in range(1,i+1): # inner loop starts with 1 ends with i.\n",
    "        print(j,end=\" \")\n",
    "    print()               # this is used to take control on another line."
   ]
  },
  {
   "cell_type": "code",
   "execution_count": 41,
   "id": "364a6923",
   "metadata": {},
   "outputs": [
    {
     "name": "stdout",
     "output_type": "stream",
     "text": [
      "* \n",
      "* * \n",
      "* * * \n",
      "* * * * \n",
      "* * * * * \n"
     ]
    }
   ],
   "source": [
    "\"\"\"\n",
    "* \n",
    "* *\n",
    "* * *\n",
    "* * * *\n",
    "* * * * *\n",
    "\"\"\"\n",
    "\n",
    "n=5\n",
    "for i in range(5):\n",
    "    for j in range(i+1):\n",
    "        print('*',end=\" \")\n",
    "    print()"
   ]
  },
  {
   "cell_type": "code",
   "execution_count": 42,
   "id": "1a50fcb5",
   "metadata": {},
   "outputs": [
    {
     "name": "stdout",
     "output_type": "stream",
     "text": [
      "* * * * * \n",
      "* * * * \n",
      "* * * \n",
      "* * \n",
      "* \n"
     ]
    }
   ],
   "source": [
    "for i in range(5):\n",
    "    for j in range(i,5):\n",
    "        print('*',end=\" \")\n",
    "    print()"
   ]
  },
  {
   "cell_type": "code",
   "execution_count": 56,
   "id": "32f30f2f",
   "metadata": {},
   "outputs": [
    {
     "name": "stdout",
     "output_type": "stream",
     "text": [
      "- - - - - * \n",
      "- - - - * * \n",
      "- - - * * * \n",
      "- - * * * * \n",
      "- * * * * * \n"
     ]
    }
   ],
   "source": [
    "n=5\n",
    "\n",
    "for i in range(n):    # The outer loop which contain 5 rows.\n",
    "    for j in range(i,n): # inner loop 1st print spaces which is decreasing 1st:i=0,n=5 i.e n is 4,2nd i=1,2,3,4\n",
    "        print(\"-\",end=\" \")\n",
    "    for j in range(i+1):  # in inner loop * increasing therefore i+1.\n",
    "        print(\"*\",end=\" \")\n",
    "    print()"
   ]
  },
  {
   "cell_type": "code",
   "execution_count": 64,
   "id": "bc1b4ce9",
   "metadata": {},
   "outputs": [
    {
     "name": "stdout",
     "output_type": "stream",
     "text": [
      "  * * * * * \n",
      "    * * * * \n",
      "      * * * \n",
      "        * * \n",
      "          * \n"
     ]
    }
   ],
   "source": [
    "# now increasing spaces and decreasing *\n",
    "\n",
    "n=5\n",
    "for i in range(n):\n",
    "    for j in range(i+1):\n",
    "        print(\" \",end=\" \")\n",
    "    for j in range(i,n):\n",
    "        print(\"*\",end=\" \")\n",
    "    print()"
   ]
  },
  {
   "cell_type": "code",
   "execution_count": 71,
   "id": "f46ced94",
   "metadata": {},
   "outputs": [
    {
     "name": "stdout",
     "output_type": "stream",
     "text": [
      "          * \n",
      "        * * * \n",
      "      * * * * * \n",
      "    * * * * * * * \n",
      "  * * * * * * * * * \n"
     ]
    }
   ],
   "source": [
    "# Hill pattern\n",
    "\n",
    "n=5\n",
    "for i in range(n):\n",
    "    for j in range(i,n):  # decreasing space\n",
    "        print(\" \",end=\" \")\n",
    "    for j in range(i):    # This is left side of triangle.in this 1st we print 0 star,then 1 star then 2 ,3 and so on.\n",
    "        print(\"*\",end=\" \")\n",
    "    for j in range(i+1):   # this is right side of triangle.we increasing star.\n",
    "        print(\"*\",end=\" \")\n",
    "    print()\n",
    "        "
   ]
  },
  {
   "cell_type": "code",
   "execution_count": 74,
   "id": "e0be7933",
   "metadata": {},
   "outputs": [
    {
     "name": "stdout",
     "output_type": "stream",
     "text": [
      "- * * * * * * * * * \n",
      "- - * * * * * * * \n",
      "- - - * * * * * \n",
      "- - - - * * * \n",
      "- - - - - * \n"
     ]
    }
   ],
   "source": [
    "n=5\n",
    "for i in range(n):\n",
    "    \n",
    "    for j in range(i+1):   # Increasing space\n",
    "        print(\"-\",end=\" \")\n",
    "    for j in range(i,n-1):  # left side of triangle decreasing *\n",
    "        print(\"*\",end=\" \")\n",
    "        \n",
    "    for j in range(i,n):    # right side of triangle decreasing *\n",
    "        print('*',end=\" \")\n",
    "    print()"
   ]
  },
  {
   "cell_type": "markdown",
   "id": "493a091e",
   "metadata": {},
   "source": [
    "# Diamond shape"
   ]
  },
  {
   "cell_type": "code",
   "execution_count": 79,
   "id": "48a38b95",
   "metadata": {},
   "outputs": [
    {
     "name": "stdout",
     "output_type": "stream",
     "text": [
      "          * \n",
      "        * * * \n",
      "      * * * * * \n",
      "    * * * * * * * \n",
      "  * * * * * * * * * \n",
      "    * * * * * * * \n",
      "      * * * * * \n",
      "        * * * \n",
      "          * \n"
     ]
    }
   ],
   "source": [
    "\n",
    "n=5\n",
    "for i in range(n-1):  # To reduce 1 common row decrease  range by 1.\n",
    "    for j in range(i,n):  # decreasing space\n",
    "        print(\" \",end=\" \")\n",
    "    for j in range(i):    # This is left side of triangle.in this 1st we print 0 star,then 1 star then 2 ,3 and so on.\n",
    "        print(\"*\",end=\" \")\n",
    "    for j in range(i+1):   # this is right side of triangle.we increasing star.\n",
    "        print(\"*\",end=\" \")\n",
    "    print()\n",
    "\n",
    "for i in range(n):\n",
    "    \n",
    "    for j in range(i+1):   # Increasing space\n",
    "        print(\" \",end=\" \")\n",
    "    for j in range(i,n-1):  # left side of triangle decreasing *\n",
    "        print(\"*\",end=\" \")\n",
    "        \n",
    "    for j in range(i,n):    # right side of triangle decreasing *\n",
    "        print('*',end=\" \")\n",
    "    print()"
   ]
  },
  {
   "cell_type": "code",
   "execution_count": 8,
   "id": "a7fd6cee",
   "metadata": {
    "ExecuteTime": {
     "end_time": "2021-09-27T09:27:12.362505Z",
     "start_time": "2021-09-27T09:27:12.322505Z"
    }
   },
   "outputs": [
    {
     "name": "stdout",
     "output_type": "stream",
     "text": [
      "* \n",
      "* * \n",
      "* * * \n",
      "* * * * \n",
      "* * * * * \n"
     ]
    }
   ],
   "source": [
    "n = 5\n",
    "\n",
    "for i in range(1,n+1):\n",
    "    for j in range(1,i+1):\n",
    "        print(\"*\",end=' ' )\n",
    "    print()"
   ]
  },
  {
   "cell_type": "code",
   "execution_count": 10,
   "id": "eff916e7",
   "metadata": {
    "ExecuteTime": {
     "end_time": "2021-09-27T09:33:17.734996Z",
     "start_time": "2021-09-27T09:33:17.694956Z"
    }
   },
   "outputs": [
    {
     "name": "stdout",
     "output_type": "stream",
     "text": [
      "          * \n",
      "        * * * \n",
      "      * * * * * \n",
      "    * * * * * * * \n",
      "  * * * * * * * * * \n"
     ]
    }
   ],
   "source": [
    "n=5\n",
    "for i in range(n):\n",
    "    for j in range(i,n):\n",
    "        print(\" \",end=' ')\n",
    "        \n",
    "    for j in range(i):\n",
    "        print(\"*\",end=\" \")\n",
    "        \n",
    "    for j in range(i+1):\n",
    "        print(\"*\",end=\" \")\n",
    "    print()\n",
    "        \n",
    "    "
   ]
  },
  {
   "cell_type": "code",
   "execution_count": 3,
   "id": "56090ecf",
   "metadata": {
    "ExecuteTime": {
     "end_time": "2021-10-28T10:11:40.525916Z",
     "start_time": "2021-10-28T10:11:37.840713Z"
    }
   },
   "outputs": [
    {
     "name": "stdout",
     "output_type": "stream",
     "text": [
      "8\n",
      "                * \n",
      "              * * * \n",
      "            * * * * * \n",
      "          * * * * * * * \n",
      "        * * * * * * * * * \n",
      "      * * * * * * * * * * * \n",
      "    * * * * * * * * * * * * * \n",
      "  * * * * * * * * * * * * * * * \n"
     ]
    }
   ],
   "source": [
    "n = int(input())\n",
    "\n",
    "for i in range(n):\n",
    "    for j in range(i,n):\n",
    "        print(\" \",end=\" \")\n",
    "    for j in range(i):\n",
    "        print(\"*\",end=\" \")\n",
    "        \n",
    "    for j in range(i+1):\n",
    "        print(\"*\",end=\" \")\n",
    "        \n",
    "    print()"
   ]
  },
  {
   "cell_type": "code",
   "execution_count": null,
   "id": "25de3f04",
   "metadata": {},
   "outputs": [],
   "source": []
  }
 ],
 "metadata": {
  "kernelspec": {
   "display_name": "Python 3",
   "language": "python",
   "name": "python3"
  },
  "language_info": {
   "codemirror_mode": {
    "name": "ipython",
    "version": 3
   },
   "file_extension": ".py",
   "mimetype": "text/x-python",
   "name": "python",
   "nbconvert_exporter": "python",
   "pygments_lexer": "ipython3",
   "version": "3.8.8"
  }
 },
 "nbformat": 4,
 "nbformat_minor": 5
}
