{
 "cells": [
  {
   "cell_type": "code",
   "execution_count": 1,
   "id": "cbef4288",
   "metadata": {},
   "outputs": [],
   "source": [
    "import os"
   ]
  },
  {
   "cell_type": "code",
   "execution_count": 2,
   "id": "1390302a",
   "metadata": {},
   "outputs": [
    {
     "name": "stdout",
     "output_type": "stream",
     "text": [
      "['DirEntry', 'F_OK', 'MutableMapping', 'O_APPEND', 'O_BINARY', 'O_CREAT', 'O_EXCL', 'O_NOINHERIT', 'O_RANDOM', 'O_RDONLY', 'O_RDWR', 'O_SEQUENTIAL', 'O_SHORT_LIVED', 'O_TEMPORARY', 'O_TEXT', 'O_TRUNC', 'O_WRONLY', 'P_DETACH', 'P_NOWAIT', 'P_NOWAITO', 'P_OVERLAY', 'P_WAIT', 'PathLike', 'R_OK', 'SEEK_CUR', 'SEEK_END', 'SEEK_SET', 'TMP_MAX', 'W_OK', 'X_OK', '_AddedDllDirectory', '_Environ', '__all__', '__builtins__', '__cached__', '__doc__', '__file__', '__loader__', '__name__', '__package__', '__spec__', '_check_methods', '_execvpe', '_exists', '_exit', '_fspath', '_get_exports_list', '_putenv', '_unsetenv', '_wrap_close', 'abc', 'abort', 'access', 'add_dll_directory', 'altsep', 'chdir', 'chmod', 'close', 'closerange', 'cpu_count', 'curdir', 'defpath', 'device_encoding', 'devnull', 'dup', 'dup2', 'environ', 'error', 'execl', 'execle', 'execlp', 'execlpe', 'execv', 'execve', 'execvp', 'execvpe', 'extsep', 'fdopen', 'fsdecode', 'fsencode', 'fspath', 'fstat', 'fsync', 'ftruncate', 'get_exec_path', 'get_handle_inheritable', 'get_inheritable', 'get_terminal_size', 'getcwd', 'getcwdb', 'getenv', 'getlogin', 'getpid', 'getppid', 'isatty', 'kill', 'linesep', 'link', 'listdir', 'lseek', 'lstat', 'makedirs', 'mkdir', 'name', 'open', 'pardir', 'path', 'pathsep', 'pipe', 'popen', 'putenv', 'read', 'readlink', 'remove', 'removedirs', 'rename', 'renames', 'replace', 'rmdir', 'scandir', 'sep', 'set_handle_inheritable', 'set_inheritable', 'spawnl', 'spawnle', 'spawnv', 'spawnve', 'st', 'startfile', 'stat', 'stat_result', 'statvfs_result', 'strerror', 'supports_bytes_environ', 'supports_dir_fd', 'supports_effective_ids', 'supports_fd', 'supports_follow_symlinks', 'symlink', 'sys', 'system', 'terminal_size', 'times', 'times_result', 'truncate', 'umask', 'uname_result', 'unlink', 'urandom', 'utime', 'waitpid', 'walk', 'write']\n"
     ]
    }
   ],
   "source": [
    "print(dir(os))"
   ]
  },
  {
   "cell_type": "code",
   "execution_count": 4,
   "id": "4b9fb9f7",
   "metadata": {},
   "outputs": [
    {
     "name": "stdout",
     "output_type": "stream",
     "text": [
      "vikas_kale\n",
      "kalevikas@7798\n"
     ]
    }
   ],
   "source": [
    "import os\n",
    "db_user=os.environ.get(\"DB_USER\")\n",
    "db_pass=os.environ.get(\"DB_PASS\")\n",
    "print(db_user)\n",
    "print(db_pass)"
   ]
  },
  {
   "cell_type": "code",
   "execution_count": null,
   "id": "63dba23b",
   "metadata": {},
   "outputs": [],
   "source": [
    "# SMTP ---> Simple Mail Transfer Protocol\n",
    "\n",
    "- used to send email using python.\n",
    "\n",
    "# We require 3 things\n",
    "\n",
    "1) SMTP domain name of service provider with port number.\n",
    "2) sender's username and password.\n",
    "3) Receiver's email address.\n",
    "\n",
    "\n",
    "# Different E-mail's service providers have different SMTP domain names.\n",
    "\n",
    "- Gmail:- smtp.gmail.com  ------>  587\n",
    "    \n",
    "- Yahoo:- smtp.mail.yahoo.com ----> 587\n",
    "    \n",
    "- Outlook/Hotmail:- smtp-mail.outlook.com --> 587"
   ]
  },
  {
   "cell_type": "code",
   "execution_count": 1,
   "id": "ffe21450",
   "metadata": {
    "ExecuteTime": {
     "end_time": "2021-10-28T06:00:32.077668Z",
     "start_time": "2021-10-28T06:00:10.154607Z"
    }
   },
   "outputs": [
    {
     "ename": "SMTPAuthenticationError",
     "evalue": "(535, b'authentication failed (#5.7.1)')",
     "output_type": "error",
     "traceback": [
      "\u001b[1;31m---------------------------------------------------------------------------\u001b[0m",
      "\u001b[1;31mSMTPAuthenticationError\u001b[0m                   Traceback (most recent call last)",
      "\u001b[1;32m<ipython-input-1-76814be32dcf>\u001b[0m in \u001b[0;36m<module>\u001b[1;34m\u001b[0m\n\u001b[0;32m      3\u001b[0m \u001b[0mconnection\u001b[0m\u001b[1;33m.\u001b[0m\u001b[0mehlo\u001b[0m\u001b[1;33m(\u001b[0m\u001b[1;33m)\u001b[0m\u001b[1;33m\u001b[0m\u001b[1;33m\u001b[0m\u001b[0m\n\u001b[0;32m      4\u001b[0m \u001b[0mconnection\u001b[0m\u001b[1;33m.\u001b[0m\u001b[0mstarttls\u001b[0m\u001b[1;33m(\u001b[0m\u001b[1;33m)\u001b[0m\u001b[1;33m\u001b[0m\u001b[1;33m\u001b[0m\u001b[0m\n\u001b[1;32m----> 5\u001b[1;33m \u001b[0mconnection\u001b[0m\u001b[1;33m.\u001b[0m\u001b[0mlogin\u001b[0m\u001b[1;33m(\u001b[0m\u001b[1;34m'kalevikas7798@gmail.com '\u001b[0m\u001b[1;33m,\u001b[0m\u001b[1;34m'9422119274'\u001b[0m\u001b[1;33m)\u001b[0m\u001b[1;33m\u001b[0m\u001b[1;33m\u001b[0m\u001b[0m\n\u001b[0m\u001b[0;32m      6\u001b[0m \u001b[0mconnection\u001b[0m\u001b[1;33m.\u001b[0m\u001b[0msendmail\u001b[0m\u001b[1;33m(\u001b[0m\u001b[1;34m'kalevikas7798@gmail.com'\u001b[0m\u001b[1;33m,\u001b[0m\u001b[1;34m'vkale4938@gmail.com'\u001b[0m\u001b[1;33m,\u001b[0m\u001b[1;34m'Subject: This is Test Mail from python \\n\\n Hii, I am SMTP server from python library.'\u001b[0m\u001b[1;33m)\u001b[0m\u001b[1;33m\u001b[0m\u001b[1;33m\u001b[0m\u001b[0m\n\u001b[0;32m      7\u001b[0m \u001b[0mconnection\u001b[0m\u001b[1;33m.\u001b[0m\u001b[0mquit\u001b[0m\u001b[1;33m(\u001b[0m\u001b[1;33m)\u001b[0m\u001b[1;33m\u001b[0m\u001b[1;33m\u001b[0m\u001b[0m\n",
      "\u001b[1;32mC:\\ProgramData\\Anaconda3\\lib\\smtplib.py\u001b[0m in \u001b[0;36mlogin\u001b[1;34m(self, user, password, initial_response_ok)\u001b[0m\n\u001b[0;32m    730\u001b[0m \u001b[1;33m\u001b[0m\u001b[0m\n\u001b[0;32m    731\u001b[0m         \u001b[1;31m# We could not login successfully.  Return result of last attempt.\u001b[0m\u001b[1;33m\u001b[0m\u001b[1;33m\u001b[0m\u001b[1;33m\u001b[0m\u001b[0m\n\u001b[1;32m--> 732\u001b[1;33m         \u001b[1;32mraise\u001b[0m \u001b[0mlast_exception\u001b[0m\u001b[1;33m\u001b[0m\u001b[1;33m\u001b[0m\u001b[0m\n\u001b[0m\u001b[0;32m    733\u001b[0m \u001b[1;33m\u001b[0m\u001b[0m\n\u001b[0;32m    734\u001b[0m     \u001b[1;32mdef\u001b[0m \u001b[0mstarttls\u001b[0m\u001b[1;33m(\u001b[0m\u001b[0mself\u001b[0m\u001b[1;33m,\u001b[0m \u001b[0mkeyfile\u001b[0m\u001b[1;33m=\u001b[0m\u001b[1;32mNone\u001b[0m\u001b[1;33m,\u001b[0m \u001b[0mcertfile\u001b[0m\u001b[1;33m=\u001b[0m\u001b[1;32mNone\u001b[0m\u001b[1;33m,\u001b[0m \u001b[0mcontext\u001b[0m\u001b[1;33m=\u001b[0m\u001b[1;32mNone\u001b[0m\u001b[1;33m)\u001b[0m\u001b[1;33m:\u001b[0m\u001b[1;33m\u001b[0m\u001b[1;33m\u001b[0m\u001b[0m\n",
      "\u001b[1;32mC:\\ProgramData\\Anaconda3\\lib\\smtplib.py\u001b[0m in \u001b[0;36mlogin\u001b[1;34m(self, user, password, initial_response_ok)\u001b[0m\n\u001b[0;32m    719\u001b[0m             \u001b[0mmethod_name\u001b[0m \u001b[1;33m=\u001b[0m \u001b[1;34m'auth_'\u001b[0m \u001b[1;33m+\u001b[0m \u001b[0mauthmethod\u001b[0m\u001b[1;33m.\u001b[0m\u001b[0mlower\u001b[0m\u001b[1;33m(\u001b[0m\u001b[1;33m)\u001b[0m\u001b[1;33m.\u001b[0m\u001b[0mreplace\u001b[0m\u001b[1;33m(\u001b[0m\u001b[1;34m'-'\u001b[0m\u001b[1;33m,\u001b[0m \u001b[1;34m'_'\u001b[0m\u001b[1;33m)\u001b[0m\u001b[1;33m\u001b[0m\u001b[1;33m\u001b[0m\u001b[0m\n\u001b[0;32m    720\u001b[0m             \u001b[1;32mtry\u001b[0m\u001b[1;33m:\u001b[0m\u001b[1;33m\u001b[0m\u001b[1;33m\u001b[0m\u001b[0m\n\u001b[1;32m--> 721\u001b[1;33m                 (code, resp) = self.auth(\n\u001b[0m\u001b[0;32m    722\u001b[0m                     \u001b[0mauthmethod\u001b[0m\u001b[1;33m,\u001b[0m \u001b[0mgetattr\u001b[0m\u001b[1;33m(\u001b[0m\u001b[0mself\u001b[0m\u001b[1;33m,\u001b[0m \u001b[0mmethod_name\u001b[0m\u001b[1;33m)\u001b[0m\u001b[1;33m,\u001b[0m\u001b[1;33m\u001b[0m\u001b[1;33m\u001b[0m\u001b[0m\n\u001b[0;32m    723\u001b[0m                     initial_response_ok=initial_response_ok)\n",
      "\u001b[1;32mC:\\ProgramData\\Anaconda3\\lib\\smtplib.py\u001b[0m in \u001b[0;36mauth\u001b[1;34m(self, mechanism, authobject, initial_response_ok)\u001b[0m\n\u001b[0;32m    642\u001b[0m         \u001b[1;32mif\u001b[0m \u001b[0mcode\u001b[0m \u001b[1;32min\u001b[0m \u001b[1;33m(\u001b[0m\u001b[1;36m235\u001b[0m\u001b[1;33m,\u001b[0m \u001b[1;36m503\u001b[0m\u001b[1;33m)\u001b[0m\u001b[1;33m:\u001b[0m\u001b[1;33m\u001b[0m\u001b[1;33m\u001b[0m\u001b[0m\n\u001b[0;32m    643\u001b[0m             \u001b[1;32mreturn\u001b[0m \u001b[1;33m(\u001b[0m\u001b[0mcode\u001b[0m\u001b[1;33m,\u001b[0m \u001b[0mresp\u001b[0m\u001b[1;33m)\u001b[0m\u001b[1;33m\u001b[0m\u001b[1;33m\u001b[0m\u001b[0m\n\u001b[1;32m--> 644\u001b[1;33m         \u001b[1;32mraise\u001b[0m \u001b[0mSMTPAuthenticationError\u001b[0m\u001b[1;33m(\u001b[0m\u001b[0mcode\u001b[0m\u001b[1;33m,\u001b[0m \u001b[0mresp\u001b[0m\u001b[1;33m)\u001b[0m\u001b[1;33m\u001b[0m\u001b[1;33m\u001b[0m\u001b[0m\n\u001b[0m\u001b[0;32m    645\u001b[0m \u001b[1;33m\u001b[0m\u001b[0m\n\u001b[0;32m    646\u001b[0m     \u001b[1;32mdef\u001b[0m \u001b[0mauth_cram_md5\u001b[0m\u001b[1;33m(\u001b[0m\u001b[0mself\u001b[0m\u001b[1;33m,\u001b[0m \u001b[0mchallenge\u001b[0m\u001b[1;33m=\u001b[0m\u001b[1;32mNone\u001b[0m\u001b[1;33m)\u001b[0m\u001b[1;33m:\u001b[0m\u001b[1;33m\u001b[0m\u001b[1;33m\u001b[0m\u001b[0m\n",
      "\u001b[1;31mSMTPAuthenticationError\u001b[0m: (535, b'authentication failed (#5.7.1)')"
     ]
    }
   ],
   "source": [
    "import smtplib\n",
    "connection=smtplib.SMTP(\"smtp.gamil.com\",587)\n",
    "connection.ehlo()\n",
    "connection.starttls()\n",
    "connection.login('kalevikas7798@gmail.com ','9422119274')\n",
    "connection.sendmail('kalevikas7798@gmail.com','vkale4938@gmail.com','Subject: This is Test Mail from python \\n\\n Hii, I am SMTP server from python library.')\n",
    "connection.quit()"
   ]
  },
  {
   "cell_type": "code",
   "execution_count": 2,
   "id": "f563ddf8",
   "metadata": {},
   "outputs": [],
   "source": [
    "# Use pycharm "
   ]
  },
  {
   "cell_type": "code",
   "execution_count": 4,
   "id": "accdcdb1",
   "metadata": {},
   "outputs": [
    {
     "ename": "TypeError",
     "evalue": "set_text_content() got an unexpected keyword argument 'Subtype'",
     "output_type": "error",
     "traceback": [
      "\u001b[1;31m---------------------------------------------------------------------------\u001b[0m",
      "\u001b[1;31mTypeError\u001b[0m                                 Traceback (most recent call last)",
      "\u001b[1;32m<ipython-input-4-aab3f9071f53>\u001b[0m in \u001b[0;36m<module>\u001b[1;34m\u001b[0m\n\u001b[0;32m     10\u001b[0m \u001b[0mmessage\u001b[0m\u001b[1;33m[\u001b[0m\u001b[1;34m'From'\u001b[0m\u001b[1;33m]\u001b[0m \u001b[1;33m=\u001b[0m \u001b[1;34m'kalevikas7798@gmail.com'\u001b[0m\u001b[1;33m\u001b[0m\u001b[1;33m\u001b[0m\u001b[0m\n\u001b[0;32m     11\u001b[0m \u001b[0mmessage\u001b[0m\u001b[1;33m[\u001b[0m\u001b[1;34m'To'\u001b[0m\u001b[1;33m]\u001b[0m \u001b[1;33m=\u001b[0m \u001b[1;34m'vkale4938@gmail.com'\u001b[0m\u001b[1;33m\u001b[0m\u001b[1;33m\u001b[0m\u001b[0m\n\u001b[1;32m---> 12\u001b[1;33m message.set_content(\"\"\"\n\u001b[0m\u001b[0;32m     13\u001b[0m \u001b[1;33m<\u001b[0m\u001b[0mhtml\u001b[0m\u001b[1;33m>\u001b[0m\u001b[1;33m\u001b[0m\u001b[1;33m\u001b[0m\u001b[0m\n\u001b[0;32m     14\u001b[0m \u001b[1;33m<\u001b[0m\u001b[0mbody\u001b[0m\u001b[1;33m>\u001b[0m\u001b[1;33m\u001b[0m\u001b[1;33m\u001b[0m\u001b[0m\n",
      "\u001b[1;32mC:\\ProgramData\\Anaconda3\\lib\\email\\message.py\u001b[0m in \u001b[0;36mset_content\u001b[1;34m(self, *args, **kw)\u001b[0m\n\u001b[0;32m   1169\u001b[0m \u001b[1;33m\u001b[0m\u001b[0m\n\u001b[0;32m   1170\u001b[0m     \u001b[1;32mdef\u001b[0m \u001b[0mset_content\u001b[0m\u001b[1;33m(\u001b[0m\u001b[0mself\u001b[0m\u001b[1;33m,\u001b[0m \u001b[1;33m*\u001b[0m\u001b[0margs\u001b[0m\u001b[1;33m,\u001b[0m \u001b[1;33m**\u001b[0m\u001b[0mkw\u001b[0m\u001b[1;33m)\u001b[0m\u001b[1;33m:\u001b[0m\u001b[1;33m\u001b[0m\u001b[1;33m\u001b[0m\u001b[0m\n\u001b[1;32m-> 1171\u001b[1;33m         \u001b[0msuper\u001b[0m\u001b[1;33m(\u001b[0m\u001b[1;33m)\u001b[0m\u001b[1;33m.\u001b[0m\u001b[0mset_content\u001b[0m\u001b[1;33m(\u001b[0m\u001b[1;33m*\u001b[0m\u001b[0margs\u001b[0m\u001b[1;33m,\u001b[0m \u001b[1;33m**\u001b[0m\u001b[0mkw\u001b[0m\u001b[1;33m)\u001b[0m\u001b[1;33m\u001b[0m\u001b[1;33m\u001b[0m\u001b[0m\n\u001b[0m\u001b[0;32m   1172\u001b[0m         \u001b[1;32mif\u001b[0m \u001b[1;34m'MIME-Version'\u001b[0m \u001b[1;32mnot\u001b[0m \u001b[1;32min\u001b[0m \u001b[0mself\u001b[0m\u001b[1;33m:\u001b[0m\u001b[1;33m\u001b[0m\u001b[1;33m\u001b[0m\u001b[0m\n\u001b[0;32m   1173\u001b[0m             \u001b[0mself\u001b[0m\u001b[1;33m[\u001b[0m\u001b[1;34m'MIME-Version'\u001b[0m\u001b[1;33m]\u001b[0m \u001b[1;33m=\u001b[0m \u001b[1;34m'1.0'\u001b[0m\u001b[1;33m\u001b[0m\u001b[1;33m\u001b[0m\u001b[0m\n",
      "\u001b[1;32mC:\\ProgramData\\Anaconda3\\lib\\email\\message.py\u001b[0m in \u001b[0;36mset_content\u001b[1;34m(self, content_manager, *args, **kw)\u001b[0m\n\u001b[0;32m   1099\u001b[0m         \u001b[1;32mif\u001b[0m \u001b[0mcontent_manager\u001b[0m \u001b[1;32mis\u001b[0m \u001b[1;32mNone\u001b[0m\u001b[1;33m:\u001b[0m\u001b[1;33m\u001b[0m\u001b[1;33m\u001b[0m\u001b[0m\n\u001b[0;32m   1100\u001b[0m             \u001b[0mcontent_manager\u001b[0m \u001b[1;33m=\u001b[0m \u001b[0mself\u001b[0m\u001b[1;33m.\u001b[0m\u001b[0mpolicy\u001b[0m\u001b[1;33m.\u001b[0m\u001b[0mcontent_manager\u001b[0m\u001b[1;33m\u001b[0m\u001b[1;33m\u001b[0m\u001b[0m\n\u001b[1;32m-> 1101\u001b[1;33m         \u001b[0mcontent_manager\u001b[0m\u001b[1;33m.\u001b[0m\u001b[0mset_content\u001b[0m\u001b[1;33m(\u001b[0m\u001b[0mself\u001b[0m\u001b[1;33m,\u001b[0m \u001b[1;33m*\u001b[0m\u001b[0margs\u001b[0m\u001b[1;33m,\u001b[0m \u001b[1;33m**\u001b[0m\u001b[0mkw\u001b[0m\u001b[1;33m)\u001b[0m\u001b[1;33m\u001b[0m\u001b[1;33m\u001b[0m\u001b[0m\n\u001b[0m\u001b[0;32m   1102\u001b[0m \u001b[1;33m\u001b[0m\u001b[0m\n\u001b[0;32m   1103\u001b[0m     \u001b[1;32mdef\u001b[0m \u001b[0m_make_multipart\u001b[0m\u001b[1;33m(\u001b[0m\u001b[0mself\u001b[0m\u001b[1;33m,\u001b[0m \u001b[0msubtype\u001b[0m\u001b[1;33m,\u001b[0m \u001b[0mdisallowed_subtypes\u001b[0m\u001b[1;33m,\u001b[0m \u001b[0mboundary\u001b[0m\u001b[1;33m)\u001b[0m\u001b[1;33m:\u001b[0m\u001b[1;33m\u001b[0m\u001b[1;33m\u001b[0m\u001b[0m\n",
      "\u001b[1;32mC:\\ProgramData\\Anaconda3\\lib\\email\\contentmanager.py\u001b[0m in \u001b[0;36mset_content\u001b[1;34m(self, msg, obj, *args, **kw)\u001b[0m\n\u001b[0;32m     35\u001b[0m         \u001b[0mhandler\u001b[0m \u001b[1;33m=\u001b[0m \u001b[0mself\u001b[0m\u001b[1;33m.\u001b[0m\u001b[0m_find_set_handler\u001b[0m\u001b[1;33m(\u001b[0m\u001b[0mmsg\u001b[0m\u001b[1;33m,\u001b[0m \u001b[0mobj\u001b[0m\u001b[1;33m)\u001b[0m\u001b[1;33m\u001b[0m\u001b[1;33m\u001b[0m\u001b[0m\n\u001b[0;32m     36\u001b[0m         \u001b[0mmsg\u001b[0m\u001b[1;33m.\u001b[0m\u001b[0mclear_content\u001b[0m\u001b[1;33m(\u001b[0m\u001b[1;33m)\u001b[0m\u001b[1;33m\u001b[0m\u001b[1;33m\u001b[0m\u001b[0m\n\u001b[1;32m---> 37\u001b[1;33m         \u001b[0mhandler\u001b[0m\u001b[1;33m(\u001b[0m\u001b[0mmsg\u001b[0m\u001b[1;33m,\u001b[0m \u001b[0mobj\u001b[0m\u001b[1;33m,\u001b[0m \u001b[1;33m*\u001b[0m\u001b[0margs\u001b[0m\u001b[1;33m,\u001b[0m \u001b[1;33m**\u001b[0m\u001b[0mkw\u001b[0m\u001b[1;33m)\u001b[0m\u001b[1;33m\u001b[0m\u001b[1;33m\u001b[0m\u001b[0m\n\u001b[0m\u001b[0;32m     38\u001b[0m \u001b[1;33m\u001b[0m\u001b[0m\n\u001b[0;32m     39\u001b[0m     \u001b[1;32mdef\u001b[0m \u001b[0m_find_set_handler\u001b[0m\u001b[1;33m(\u001b[0m\u001b[0mself\u001b[0m\u001b[1;33m,\u001b[0m \u001b[0mmsg\u001b[0m\u001b[1;33m,\u001b[0m \u001b[0mobj\u001b[0m\u001b[1;33m)\u001b[0m\u001b[1;33m:\u001b[0m\u001b[1;33m\u001b[0m\u001b[1;33m\u001b[0m\u001b[0m\n",
      "\u001b[1;31mTypeError\u001b[0m: set_text_content() got an unexpected keyword argument 'Subtype'"
     ]
    }
   ],
   "source": [
    "import smtplib\n",
    "from email.message import EmailMessage\n",
    "smtp = smtplib.SMTP('smtp.gmail.com', 587)\n",
    "smtp.starttls()\n",
    "#              email                       password\n",
    "smtp.login('kalevikas7798@gmail.com','9422119274')\n",
    "#create a object from EmailMessage\n",
    "message = EmailMessage()\n",
    "message['Subject'] = 'Test email via python script'\n",
    "message['From'] = 'kalevikas7798@gmail.com'\n",
    "message['To'] = 'vkale4938@gmail.com'\n",
    "message.set_content(\"\"\"\n",
    "<html>\n",
    "<body>\n",
    "    <h1> First email vai python script </h1>\n",
    "</body>\n",
    "</html>\n",
    "\"\"\",subtype=\"html\")\n",
    "\n",
    "smtp.send_message(message)\n",
    "smtp.quit()\n"
   ]
  },
  {
   "cell_type": "code",
   "execution_count": null,
   "id": "afd51509",
   "metadata": {},
   "outputs": [],
   "source": [
    "import smtplib\n",
    "\n",
    "from email.message import EmailMessage\n",
    "\n",
    "new_mail=smtplib.SMTP()"
   ]
  },
  {
   "cell_type": "code",
   "execution_count": 6,
   "id": "5edc804a",
   "metadata": {},
   "outputs": [
    {
     "data": {
      "text/plain": [
       "(221, b'2.0.0 closing connection i5sm9413897pjk.47 - gsmtp')"
      ]
     },
     "execution_count": 6,
     "metadata": {},
     "output_type": "execute_result"
    }
   ],
   "source": [
    "smtp = smtplib.SMTP('smtp.gmail.com', 587)\n",
    "smtp.starttls()\n",
    "#              email                       password\n",
    "smtp.login('kalevikas7798@gmail.com','9422119274')\n",
    "#create a object from EmailMessage\n",
    "message = EmailMessage()\n",
    "message['Subject'] = 'Test email via python script'\n",
    "message['From'] = 'kalevikas7798@gmail.com'\n",
    "message['To'] = 'vkale4938@gmail.com'\n",
    "message.set_content(\"\"\"\n",
    "<html>\n",
    "<body>\n",
    "    <h1> First email vai python script </h1>\n",
    "</body>\n",
    "</html>\n",
    "\"\"\", subtype='html')\n",
    "\n",
    "smtp.send_message(message)\n",
    "smtp.quit()\n"
   ]
  },
  {
   "cell_type": "code",
   "execution_count": 2,
   "id": "6cc0125f",
   "metadata": {
    "ExecuteTime": {
     "end_time": "2021-10-05T16:33:39.489722Z",
     "start_time": "2021-10-05T16:33:39.465725Z"
    }
   },
   "outputs": [],
   "source": [
    "import getpass"
   ]
  },
  {
   "cell_type": "code",
   "execution_count": 7,
   "id": "1c5f4013",
   "metadata": {
    "ExecuteTime": {
     "end_time": "2021-10-05T16:38:31.928280Z",
     "start_time": "2021-10-05T16:38:23.741984Z"
    }
   },
   "outputs": [
    {
     "name": "stdout",
     "output_type": "stream",
     "text": [
      "Enter password 123456789\n",
      "123456789········\n",
      "XXXXXX6789\n"
     ]
    }
   ],
   "source": [
    "\n",
    "\n",
    "print(\"XXXXXX\" + str(getpass.getpass(int(input(\"Enter password \")))[5:]))\n",
    "# print(\"XXXXXX\" + str(s))"
   ]
  },
  {
   "cell_type": "code",
   "execution_count": 6,
   "id": "3b69d29e",
   "metadata": {
    "ExecuteTime": {
     "end_time": "2021-10-05T16:37:50.744620Z",
     "start_time": "2021-10-05T16:37:45.703363Z"
    }
   },
   "outputs": [
    {
     "name": "stdout",
     "output_type": "stream",
     "text": [
      "123456789\n"
     ]
    },
    {
     "ename": "TypeError",
     "evalue": "'module' object is not callable",
     "output_type": "error",
     "traceback": [
      "\u001b[1;31m---------------------------------------------------------------------------\u001b[0m",
      "\u001b[1;31mTypeError\u001b[0m                                 Traceback (most recent call last)",
      "\u001b[1;32m<ipython-input-6-3096116b1660>\u001b[0m in \u001b[0;36m<module>\u001b[1;34m\u001b[0m\n\u001b[1;32m----> 1\u001b[1;33m \u001b[0mprint\u001b[0m\u001b[1;33m(\u001b[0m\u001b[0mgetpass\u001b[0m\u001b[1;33m(\u001b[0m\u001b[0mint\u001b[0m\u001b[1;33m(\u001b[0m\u001b[0minput\u001b[0m\u001b[1;33m(\u001b[0m\u001b[1;33m)\u001b[0m\u001b[1;33m)\u001b[0m\u001b[1;33m)\u001b[0m\u001b[1;33m)\u001b[0m\u001b[1;33m\u001b[0m\u001b[1;33m\u001b[0m\u001b[0m\n\u001b[0m",
      "\u001b[1;31mTypeError\u001b[0m: 'module' object is not callable"
     ]
    }
   ],
   "source": [
    "print(getpass.getpass(int(input())))"
   ]
  },
  {
   "cell_type": "code",
   "execution_count": null,
   "id": "d77b5b77",
   "metadata": {},
   "outputs": [],
   "source": [
    "import smtplib\n",
    "\n",
    "conn = smtplib.SMTP('smtp.gail.com',587)\n",
    "conn.ehlo()\n",
    "conn.starttls()\n",
    "conn.login()\n",
    "conn.sendmail()\n",
    "quit()"
   ]
  },
  {
   "cell_type": "code",
   "execution_count": 1,
   "id": "99a84ed8",
   "metadata": {
    "ExecuteTime": {
     "end_time": "2021-10-18T03:29:45.213526Z",
     "start_time": "2021-10-18T03:29:45.189527Z"
    }
   },
   "outputs": [],
   "source": [
    "n = {\"name\":\"vikas\",\"course\":\"python\"}\n"
   ]
  },
  {
   "cell_type": "code",
   "execution_count": 5,
   "id": "915fb7e8",
   "metadata": {
    "ExecuteTime": {
     "end_time": "2021-10-18T03:30:25.274060Z",
     "start_time": "2021-10-18T03:30:25.258064Z"
    }
   },
   "outputs": [],
   "source": [
    "n.get(1)"
   ]
  },
  {
   "cell_type": "code",
   "execution_count": 3,
   "id": "33a05417",
   "metadata": {
    "ExecuteTime": {
     "end_time": "2021-10-18T03:30:02.330409Z",
     "start_time": "2021-10-18T03:30:02.298411Z"
    }
   },
   "outputs": [
    {
     "data": {
      "text/plain": [
       "{'name': 'vikas', 'course': 'python'}"
      ]
     },
     "execution_count": 3,
     "metadata": {},
     "output_type": "execute_result"
    }
   ],
   "source": [
    "n"
   ]
  },
  {
   "cell_type": "code",
   "execution_count": 6,
   "id": "f808389b",
   "metadata": {
    "ExecuteTime": {
     "end_time": "2021-10-18T03:30:37.502064Z",
     "start_time": "2021-10-18T03:30:37.470066Z"
    }
   },
   "outputs": [
    {
     "name": "stdout",
     "output_type": "stream",
     "text": [
      "Help on method_descriptor:\n",
      "\n",
      "get(self, key, default=None, /)\n",
      "    Return the value for key if key is in the dictionary, else default.\n",
      "\n"
     ]
    }
   ],
   "source": [
    "help(dict.get)"
   ]
  },
  {
   "cell_type": "code",
   "execution_count": 7,
   "id": "07b5dc1c",
   "metadata": {
    "ExecuteTime": {
     "end_time": "2021-10-18T03:31:01.719571Z",
     "start_time": "2021-10-18T03:31:01.687958Z"
    }
   },
   "outputs": [
    {
     "data": {
      "text/plain": [
       "'vikas'"
      ]
     },
     "execution_count": 7,
     "metadata": {},
     "output_type": "execute_result"
    }
   ],
   "source": [
    "n.get('name')"
   ]
  },
  {
   "cell_type": "code",
   "execution_count": 8,
   "id": "e1bbd032",
   "metadata": {
    "ExecuteTime": {
     "end_time": "2021-10-18T03:31:21.259480Z",
     "start_time": "2021-10-18T03:31:21.242479Z"
    }
   },
   "outputs": [
    {
     "data": {
      "text/plain": [
       "'python'"
      ]
     },
     "execution_count": 8,
     "metadata": {},
     "output_type": "execute_result"
    }
   ],
   "source": [
    "n.get('course')"
   ]
  },
  {
   "cell_type": "code",
   "execution_count": 11,
   "id": "1421f15d",
   "metadata": {
    "ExecuteTime": {
     "end_time": "2021-10-18T03:32:45.205855Z",
     "start_time": "2021-10-18T03:32:45.194857Z"
    }
   },
   "outputs": [
    {
     "name": "stdout",
     "output_type": "stream",
     "text": [
      "Help on method_descriptor:\n",
      "\n",
      "update(...)\n",
      "    D.update([E, ]**F) -> None.  Update D from dict/iterable E and F.\n",
      "    If E is present and has a .keys() method, then does:  for k in E: D[k] = E[k]\n",
      "    If E is present and lacks a .keys() method, then does:  for k, v in E: D[k] = v\n",
      "    In either case, this is followed by: for k in F:  D[k] = F[k]\n",
      "\n"
     ]
    }
   ],
   "source": [
    "help(dict.update)"
   ]
  },
  {
   "cell_type": "code",
   "execution_count": null,
   "id": "36f919cb",
   "metadata": {},
   "outputs": [],
   "source": []
  }
 ],
 "metadata": {
  "kernelspec": {
   "display_name": "Python 3",
   "language": "python",
   "name": "python3"
  },
  "language_info": {
   "codemirror_mode": {
    "name": "ipython",
    "version": 3
   },
   "file_extension": ".py",
   "mimetype": "text/x-python",
   "name": "python",
   "nbconvert_exporter": "python",
   "pygments_lexer": "ipython3",
   "version": "3.8.8"
  }
 },
 "nbformat": 4,
 "nbformat_minor": 5
}
