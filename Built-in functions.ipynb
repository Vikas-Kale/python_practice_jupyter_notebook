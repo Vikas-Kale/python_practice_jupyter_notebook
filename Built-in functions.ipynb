{
 "cells": [
  {
   "cell_type": "markdown",
   "id": "112dd64c",
   "metadata": {},
   "source": [
    "# zip()"
   ]
  },
  {
   "cell_type": "code",
   "execution_count": 4,
   "id": "3f949b67",
   "metadata": {},
   "outputs": [
    {
     "name": "stdout",
     "output_type": "stream",
     "text": [
      "<zip object at 0x00000251727DB840>\n"
     ]
    }
   ],
   "source": [
    "name = [ \"Manjeet\", \"Nikhil\", \"Shambhavi\", \"Astha\" ]\n",
    "roll_no = [ 4, 1, 3, 2 ]\n",
    "marks = [ 40, 50, 60, 70 ]\n",
    "\n",
    "mapped=zip(name,roll_no,marks)\n",
    "\n",
    "print(mapped)"
   ]
  },
  {
   "cell_type": "code",
   "execution_count": 5,
   "id": "e03ea93b",
   "metadata": {},
   "outputs": [
    {
     "name": "stdout",
     "output_type": "stream",
     "text": [
      "(('Manjeet', 4, 40), ('Nikhil', 1, 50), ('Shambhavi', 3, 60), ('Astha', 2, 70))\n"
     ]
    }
   ],
   "source": [
    "print(tuple(mapped))"
   ]
  },
  {
   "cell_type": "code",
   "execution_count": 8,
   "id": "e3e314f2",
   "metadata": {},
   "outputs": [
    {
     "name": "stdout",
     "output_type": "stream",
     "text": [
      "{('Nikhil', 1, 50), ('Manjeet', 4, 40), ('Shambhavi', 3, 60)}\n"
     ]
    }
   ],
   "source": [
    "name = [ \"Manjeet\", \"Nikhil\", \"Shambhavi\", \"Astha\" ]\n",
    "roll_no = [ 4, 1, 3, 2 ]\n",
    "marks = [ 40, 50, 60 ]\n",
    "\n",
    "mapped=zip(name,roll_no,marks)\n",
    "\n",
    "print(set(mapped))\n"
   ]
  },
  {
   "cell_type": "markdown",
   "id": "7b664adc",
   "metadata": {},
   "source": [
    "- **How to unzip?** \n",
    "- Unzipping means converting the zipped values back to the individual self as they were. This is done with the help of “*” operator."
   ]
  },
  {
   "cell_type": "code",
   "execution_count": 11,
   "id": "a007d714",
   "metadata": {},
   "outputs": [
    {
     "name": "stdout",
     "output_type": "stream",
     "text": [
      "The zipped result is (('Manjeet', 4, 40), ('Nikhil', 1, 50), ('Shambhavi', 3, 60), ('Astha', 2, 70))\n",
      "The unzipped result is: The names of students ('Manjeet', 'Nikhil', 'Shambhavi', 'Astha')\n",
      "The roll numbers of students (4, 1, 3, 2)\n",
      "Mark's of student's (40, 50, 60, 70)\n"
     ]
    }
   ],
   "source": [
    "name = [ \"Manjeet\", \"Nikhil\", \"Shambhavi\", \"Astha\" ]\n",
    "roll_no = [ 4, 1, 3, 2 ]\n",
    "marks = [ 40, 50, 60, 70 ]\n",
    "\n",
    "mapped=zip(name,roll_no,marks)\n",
    "mapped=tuple(mapped)\n",
    "\n",
    "print(f\"The zipped result is {mapped}\")\n",
    "\n",
    "# Unzipping\n",
    "\n",
    "name,roll_no,marks=zip(*mapped)\n",
    "\n",
    "print(\"The unzipped result is: \",end=\"\")\n",
    "\n",
    "print(f\"The names of students {name}\")\n",
    "\n",
    "print(f\"The roll numbers of students {roll_no}\")\n",
    "\n",
    "print(f\"Mark's of student's {marks}\")\n"
   ]
  },
  {
   "cell_type": "code",
   "execution_count": 12,
   "id": "7910ede3",
   "metadata": {},
   "outputs": [
    {
     "name": "stdout",
     "output_type": "stream",
     "text": [
      "Players:- Sachin and scores:- 100\n",
      "Players:- Sehwag and scores:- 15\n",
      "Players:- Gambhir and scores:- 17\n",
      "Players:- Dravid and scores:- 28\n",
      "Players:- Raina and scores:- 43\n"
     ]
    }
   ],
   "source": [
    "players = [ \"Sachin\", \"Sehwag\", \"Gambhir\", \"Dravid\", \"Raina\" ]\n",
    "scores = [100, 15, 17, 28, 43 ]\n",
    "\n",
    "for ply,scr in zip(players,scores):\n",
    "    \n",
    "    print(f\"Players:- {ply} and scores:- {scr}\")"
   ]
  },
  {
   "cell_type": "markdown",
   "id": "67eaff6d",
   "metadata": {},
   "source": [
    "# Zip function in Python to change to a new character set\n",
    "- Given a 26 letter character set, which is equivalent to character set of English alphabet i.e. (abcd….xyz) and act as a relation. We are also given several sentences and we have to translate them with the help of given new character set.m"
   ]
  },
  {
   "cell_type": "code",
   "execution_count": 14,
   "id": "3685ae7e",
   "metadata": {},
   "outputs": [
    {
     "name": "stdout",
     "output_type": "stream",
     "text": [
      "['a', 'b', 'c', 'd', 'e', 'f', 'g', 'h', 'i', 'j', 'k', 'l', 'm', 'n', 'o', 'p', 'q', 'r', 's', 't', 'u', 'v', 'w', 'x', 'y', 'z']\n"
     ]
    }
   ],
   "source": [
    "alpha=[chr(i) for i in range(97,123)]\n",
    "\n",
    "print(alpha)"
   ]
  },
  {
   "cell_type": "code",
   "execution_count": 16,
   "id": "71a3ab55",
   "metadata": {},
   "outputs": [
    {
     "name": "stdout",
     "output_type": "stream",
     "text": [
      "{'v', 'f', 'n', 'd', 'p', 'w', 'h', 'r', 'k', 'o', 't', 'b', 'i', 'j', 'z', 'e', 'u', 'c', 'x', 'q', 'l', 'y', 's', 'm', 'g', 'a'}\n"
     ]
    }
   ],
   "source": [
    "alpha=set(alpha)\n",
    "\n",
    "print(alpha)"
   ]
  },
  {
   "cell_type": "code",
   "execution_count": 1,
   "id": "9b562b46",
   "metadata": {},
   "outputs": [
    {
     "name": "stdout",
     "output_type": "stream",
     "text": [
      "{'q': 'a', 'w': 'b', 'e': 'c', 'r': 'd', 't': 'e', 'y': 'f', 'u': 'g', 'i': 'h', 'o': 'i', 'p': 'j', 'a': 'k', 's': 'l', 'd': 'm', 'f': 'n', 'g': 'o', 'h': 'p', 'j': 'q', 'k': 'r', 'l': 's', 'z': 't', 'x': 'u', 'c': 'v', 'v': 'w', 'b': 'x', 'n': 'y', 'm': 'z'}\n",
      "['g', 'e', 'e', 'k']\n",
      "geek\n"
     ]
    }
   ],
   "source": [
    "# Function to change string to a new character\n",
    "  \n",
    "def newString(charSet,input):\n",
    "  \n",
    "    # map original character set of english\n",
    "    # onto new character set given\n",
    "    origCharSet = 'abcdefghijklmnopqrstuvwxyz'\n",
    "    mapChars = dict(zip(charSet,origCharSet))\n",
    "    \n",
    "    print(mapChars)\n",
    "  \n",
    "    # iterate through original string and get\n",
    "    #  characters of original character set\n",
    "    changeChars = [mapChars[chr] for chr in input] \n",
    "    print(changeChars)\n",
    "  \n",
    "    # join characters without space to get new string\n",
    "    print (''.join(changeChars))\n",
    "  \n",
    "# Driver program\n",
    "if __name__ == \"__main__\":\n",
    "    charSet = 'qwertyuiopasdfghjklzxcvbnm'\n",
    "    input = 'utta'\n",
    "    newString(charSet,input)"
   ]
  },
  {
   "cell_type": "code",
   "execution_count": null,
   "id": "7aeecaf7",
   "metadata": {},
   "outputs": [],
   "source": [
    "New character set : qwertyuiopasdfghjklzxcvbnm\n",
    "Input : \"utta\"\n",
    "Output : geek\n",
    "\n",
    "Input : \"egrt\"\n",
    "Output : code"
   ]
  },
  {
   "cell_type": "code",
   "execution_count": 20,
   "id": "8ec697f1",
   "metadata": {},
   "outputs": [
    {
     "name": "stdout",
     "output_type": "stream",
     "text": [
      "abcdefghijklmnopqrstuvwxyz"
     ]
    }
   ],
   "source": [
    "for i in range(97,123):\n",
    "    print(chr(i),end=\"\")"
   ]
  },
  {
   "cell_type": "code",
   "execution_count": 23,
   "id": "6d5164d2",
   "metadata": {},
   "outputs": [
    {
     "name": "stdout",
     "output_type": "stream",
     "text": [
      "{'q': 'a', 'w': 'b', 'e': 'c', 'r': 'd', 't': 'e', 'y': 'f', 'u': 'g', 'i': 'h', 'o': 'i', 'p': 'j', 'a': 'k', 's': 'l', 'd': 'm', 'f': 'n', 'g': 'o', 'h': 'p', 'j': 'q', 'k': 'r', 'l': 's', 'z': 't', 'x': 'u', 'c': 'v', 'v': 'w', 'b': 'x', 'n': 'y', 'm': 'z'}\n",
      "vikas\n"
     ]
    }
   ],
   "source": [
    "def new_string(new_charset,input_str):\n",
    "    \n",
    "    original_set='abcdefghijklmnopqrstuvwxyz'\n",
    "    map_chars=dict(zip(new_charset,original_set))\n",
    "    \n",
    "    print(map_chars)\n",
    "    \n",
    "new_charset=\"qwertyuiopasdfghjklzxcvbnm\"\n",
    "    \n",
    "newString(new_charset,'coaql')\n",
    "    "
   ]
  },
  {
   "cell_type": "code",
   "execution_count": null,
   "id": "65c5ad85",
   "metadata": {},
   "outputs": [],
   "source": [
    "# We want output [(7,1),(8,5),(4,6),(5,1),(9,5),(10,6)]"
   ]
  },
  {
   "cell_type": "code",
   "execution_count": 24,
   "id": "2746e6c8",
   "metadata": {},
   "outputs": [
    {
     "name": "stdout",
     "output_type": "stream",
     "text": [
      "[(7, 1), (8, 5), (4, 6)]\n"
     ]
    }
   ],
   "source": [
    "test_list1 = [7, 8, 4, 5, 9, 10]\n",
    "test_list2 = [1, 5, 6]\n",
    "\n",
    "result=zip(test_list1,test_list2)\n",
    "\n",
    "print(list(result))"
   ]
  },
  {
   "cell_type": "code",
   "execution_count": 26,
   "id": "cf482f82",
   "metadata": {},
   "outputs": [
    {
     "name": "stdout",
     "output_type": "stream",
     "text": [
      "The original list 1 is : [7, 8, 4, 5, 9, 10]\n",
      "The original list 2 is : [1, 5, 6]\n",
      "0 7\n",
      "1 8\n",
      "2 4\n",
      "3 5\n",
      "4 9\n",
      "5 10\n",
      "The zipped list is : []\n"
     ]
    }
   ],
   "source": [
    "# zipping of two different size list \n",
    "# using enumerate() + loop\n",
    "  \n",
    "# initializing lists\n",
    "test_list1 = [7, 8, 4, 5, 9, 10]\n",
    "test_list2 = [1, 5, 6]\n",
    "  \n",
    "# printing original lists\n",
    "print (\"The original list 1 is : \" + str(test_list1))\n",
    "print (\"The original list 2 is : \" + str(test_list2))\n",
    "  \n",
    "# using enumerate() + loop\n",
    "# zipping of two different size list \n",
    "res = []\n",
    "for i, j in enumerate(test_list1):\n",
    "    print(i,j)\n",
    "    \n",
    "#     res.append((j, test_list2[i % len(test_list2)]))  # j=7,i=0 ,0%3\n",
    "  \n",
    "# printing result \n",
    "print (\"The zipped list is : \" +  str(res))"
   ]
  },
  {
   "cell_type": "code",
   "execution_count": 31,
   "id": "78b7f0d2",
   "metadata": {},
   "outputs": [
    {
     "name": "stdout",
     "output_type": "stream",
     "text": [
      "The original list 1 is : [7, 8, 4, 5, 9, 10]\n",
      "The original list 2 is : [1, 5, 6]\n",
      "The zipped list is : [(7, 1), (8, 5), (4, 6), (5, 1), (9, 5), (10, 6)]\n"
     ]
    }
   ],
   "source": [
    "# zipping of two different size list \n",
    "# using enumerate() + loop\n",
    "  \n",
    "# initializing lists\n",
    "test_list1 = [7, 8, 4, 5, 9, 10]\n",
    "test_list2 = [1, 5, 6]\n",
    "  \n",
    "# printing original lists\n",
    "print (\"The original list 1 is : \" + str(test_list1))\n",
    "print (\"The original list 2 is : \" + str(test_list2))\n",
    "  \n",
    "# using enumerate() + loop\n",
    "# zipping of two different size list \n",
    "res = []\n",
    "for i, j in enumerate(test_list1):\n",
    "    res.append((j, test_list2[i % len(test_list2)]))\n",
    "  \n",
    "# printing result \n",
    "print (\"The zipped list is : \" +  str(res))"
   ]
  },
  {
   "cell_type": "code",
   "execution_count": 27,
   "id": "d929c6f1",
   "metadata": {},
   "outputs": [
    {
     "data": {
      "text/plain": [
       "0"
      ]
     },
     "execution_count": 27,
     "metadata": {},
     "output_type": "execute_result"
    }
   ],
   "source": [
    "0%3"
   ]
  },
  {
   "cell_type": "code",
   "execution_count": 28,
   "id": "0d928abe",
   "metadata": {},
   "outputs": [
    {
     "data": {
      "text/plain": [
       "1"
      ]
     },
     "execution_count": 28,
     "metadata": {},
     "output_type": "execute_result"
    }
   ],
   "source": [
    "1%3"
   ]
  },
  {
   "cell_type": "code",
   "execution_count": 29,
   "id": "8cf08169",
   "metadata": {},
   "outputs": [
    {
     "data": {
      "text/plain": [
       "2"
      ]
     },
     "execution_count": 29,
     "metadata": {},
     "output_type": "execute_result"
    }
   ],
   "source": [
    "2%3"
   ]
  },
  {
   "cell_type": "code",
   "execution_count": 3,
   "id": "92809f8d",
   "metadata": {},
   "outputs": [
    {
     "name": "stdout",
     "output_type": "stream",
     "text": [
      "{'A'}{'B'}{'C'}{'D'}{'E'}{'F'}{'G'}{'H'}{'I'}{'J'}{'K'}{'L'}{'M'}{'N'}{'O'}{'P'}{'Q'}{'R'}{'S'}{'T'}{'U'}{'V'}{'W'}{'X'}{'Y'}{'Z'}"
     ]
    }
   ],
   "source": [
    "for i in range(65,91):\n",
    "    print(set(chr(i)),end=\"\")"
   ]
  },
  {
   "cell_type": "code",
   "execution_count": 4,
   "id": "8746d456",
   "metadata": {},
   "outputs": [
    {
     "name": "stdout",
     "output_type": "stream",
     "text": [
      "[('K', 'A'), ('L', 'B'), ('M', 'C'), ('N', 'D'), ('O', 'E'), ('P', 'F'), ('A', 'G'), ('B', 'H'), ('C', 'I'), ('D', 'J'), ('E', 'K'), ('F', 'L'), ('G', 'M'), ('H', 'N'), ('I', 'O'), ('J', 'P'), ('S', 'Q'), ('T', 'R'), ('U', 'S'), ('V', 'T'), ('W', 'U'), ('X', 'V'), ('Y', 'W'), ('Z', 'X'), ('Q', 'Y'), ('R', 'Z')]\n"
     ]
    }
   ],
   "source": [
    "set1='KLMNOPABCDEFGHIJSTUVWXYZQR'\n",
    "set2='ABCDEFGHIJKLMNOPQRSTUVWXYZ'\n",
    "\n",
    "re=list(zip(set1,set2))\n",
    "print(re)"
   ]
  },
  {
   "cell_type": "code",
   "execution_count": 11,
   "id": "212fff7a",
   "metadata": {},
   "outputs": [
    {
     "name": "stdout",
     "output_type": "stream",
     "text": [
      "{'K': 'A', 'L': 'B', 'M': 'C', 'N': 'D', 'O': 'E', 'P': 'F', 'A': 'G', 'B': 'H', 'C': 'I', 'D': 'J', 'E': 'K', 'F': 'L', 'G': 'M', 'H': 'N', 'I': 'O', 'J': 'P', 'S': 'Q', 'T': 'R', 'U': 'S', 'V': 'T', 'W': 'U', 'X': 'V', 'Y': 'W', 'Z': 'X', 'Q': 'Y', 'R': 'Z'}\n",
      "TOAGQ\n",
      "['T', 'O', 'A', 'G', 'Q']\n"
     ]
    }
   ],
   "source": [
    "set1='KLMNOPABCDEFGHIJSTUVWXYZQR'\n",
    "set2='ABCDEFGHIJKLMNOPQRSTUVWXYZ'\n",
    "new_set='VIKAS'\n",
    "\n",
    "re=dict(zip(set1,set2))\n",
    "\n",
    "print(re)\n",
    "\n",
    "re1=[re[chr] for chr in new_set]\n",
    "\n",
    "main_re=\"\".join(re1)\n",
    "\n",
    "print(main_re)\n",
    "\n",
    "print(re1)"
   ]
  },
  {
   "cell_type": "code",
   "execution_count": 13,
   "id": "29caece4",
   "metadata": {},
   "outputs": [
    {
     "name": "stdout",
     "output_type": "stream",
     "text": [
      "The zipped result is [(4, 44), (5, 67), (6, 98)]\n",
      "[(4, 44), (5, 67), (6, 98), (7, 44), (8, 67), (9, 98)]\n"
     ]
    }
   ],
   "source": [
    "lst1=[4,5,6,7,8,9]\n",
    "\n",
    "lst2=[44,67,98]\n",
    "\n",
    "ans=list(zip(lst1,lst2))\n",
    "\n",
    "print(f\"The zipped result is {ans}\")\n",
    "\n",
    "re=[]\n",
    "for m,n in enumerate(lst1):\n",
    "    re.append((n,lst2[m % len(lst2)]))\n",
    "    \n",
    "print(re)"
   ]
  },
  {
   "cell_type": "code",
   "execution_count": 14,
   "id": "7da9b97e",
   "metadata": {},
   "outputs": [
    {
     "data": {
      "text/plain": [
       "0"
      ]
     },
     "execution_count": 14,
     "metadata": {},
     "output_type": "execute_result"
    }
   ],
   "source": [
    "3%3"
   ]
  },
  {
   "cell_type": "code",
   "execution_count": 15,
   "id": "5efd83f4",
   "metadata": {},
   "outputs": [
    {
     "data": {
      "text/plain": [
       "1"
      ]
     },
     "execution_count": 15,
     "metadata": {},
     "output_type": "execute_result"
    }
   ],
   "source": [
    "4%3"
   ]
  },
  {
   "cell_type": "code",
   "execution_count": 16,
   "id": "e60d5de2",
   "metadata": {},
   "outputs": [
    {
     "data": {
      "text/plain": [
       "2"
      ]
     },
     "execution_count": 16,
     "metadata": {},
     "output_type": "execute_result"
    }
   ],
   "source": [
    "5%3"
   ]
  },
  {
   "cell_type": "code",
   "execution_count": 23,
   "id": "23aae6a2",
   "metadata": {},
   "outputs": [
    {
     "data": {
      "text/plain": [
       "8"
      ]
     },
     "execution_count": 23,
     "metadata": {},
     "output_type": "execute_result"
    }
   ],
   "source": [
    "8%17"
   ]
  },
  {
   "cell_type": "code",
   "execution_count": 29,
   "id": "64afb7eb",
   "metadata": {},
   "outputs": [
    {
     "name": "stdout",
     "output_type": "stream",
     "text": [
      "[(84, 12), (56, 14), (12, 16), (36, 18)]\n",
      "[(84, 12), (56, 14), (12, 16), (36, 18), (22, 12), (88, 14)]\n"
     ]
    }
   ],
   "source": [
    "list1=[12,14,16,18]\n",
    "list2=[84,56,12,36,22,88]\n",
    "\n",
    "ans1=list(zip(list2,list1))\n",
    "\n",
    "print(ans1)\n",
    "\n",
    "re2=[]\n",
    "\n",
    "for i,j in enumerate(list2):\n",
    "    re2.append((j,list1[i % len(list1)]))\n",
    "    \n",
    "print(re2)"
   ]
  },
  {
   "cell_type": "markdown",
   "id": "6d271aa4",
   "metadata": {},
   "source": [
    "# How to Zip two lists of lists in Python?"
   ]
  },
  {
   "cell_type": "markdown",
   "id": "4c72aac7",
   "metadata": {},
   "source": [
    "### Method 1 : Using map() + __add__"
   ]
  },
  {
   "cell_type": "code",
   "execution_count": 36,
   "id": "cc1d052e",
   "metadata": {},
   "outputs": [
    {
     "name": "stdout",
     "output_type": "stream",
     "text": [
      "The original list1 and list2 is => [[1, 3], [4, 5], [5, 6]] and [[7, 9], [3, 2], [3, 10]]\n",
      "The answer is:- [[1, 3, 7, 9], [4, 5, 3, 2], [5, 6, 3, 10]]\n"
     ]
    }
   ],
   "source": [
    "test_list1 = [[1, 3], [4, 5], [5, 6]]\n",
    "test_list2 = [[7, 9], [3, 2], [3, 10]]\n",
    "\n",
    "print(f\"The original list1 and list2 is => {test_list1} and {test_list2}\")\n",
    "\n",
    "result=list(map(list.__add__,test_list1,test_list2))\n",
    "\n",
    "print(f\"The answer is:- {result}\")"
   ]
  },
  {
   "cell_type": "code",
   "execution_count": 34,
   "id": "8866d366",
   "metadata": {},
   "outputs": [
    {
     "name": "stdout",
     "output_type": "stream",
     "text": [
      "Help on wrapper_descriptor:\n",
      "\n",
      "__add__(self, value, /)\n",
      "    Return self+value.\n",
      "\n"
     ]
    }
   ],
   "source": [
    "help(str.__add__)"
   ]
  },
  {
   "cell_type": "markdown",
   "id": "031ebfde",
   "metadata": {},
   "source": [
    "### Method 2 : Using itertools.chain() + zip()"
   ]
  },
  {
   "cell_type": "code",
   "execution_count": 40,
   "id": "8afc234a",
   "metadata": {},
   "outputs": [
    {
     "name": "stdout",
     "output_type": "stream",
     "text": [
      "[[1, 3, 7, 9], [4, 5, 3, 2], [5, 6, 3, 10]]\n"
     ]
    }
   ],
   "source": [
    "import itertools\n",
    "\n",
    "test_list1 = [[1, 3], [4, 5], [5, 6]]\n",
    "test_list2 = [[7, 9], [3, 2], [3, 10]]\n",
    "\n",
    "answer=[list(itertools.chain(*i)) for i in zip(test_list1,test_list2)]\n",
    "\n",
    "print(answer)"
   ]
  },
  {
   "cell_type": "code",
   "execution_count": null,
   "id": "2dc6369c",
   "metadata": {},
   "outputs": [],
   "source": []
  },
  {
   "cell_type": "markdown",
   "id": "24543791",
   "metadata": {},
   "source": [
    "# Itertools"
   ]
  },
  {
   "cell_type": "code",
   "execution_count": 10,
   "id": "2bd3a780",
   "metadata": {},
   "outputs": [],
   "source": [
    "# iter object\n",
    "\n",
    "# first create iter object\n",
    "\n",
    "lst=[1,2,3,4,5]\n",
    "\n",
    "re=iter(lst)"
   ]
  },
  {
   "cell_type": "code",
   "execution_count": 12,
   "id": "83bb02c6",
   "metadata": {},
   "outputs": [
    {
     "data": {
      "text/plain": [
       "2"
      ]
     },
     "execution_count": 12,
     "metadata": {},
     "output_type": "execute_result"
    }
   ],
   "source": [
    "next(re)  # it iterates new ele in list "
   ]
  },
  {
   "cell_type": "code",
   "execution_count": 13,
   "id": "60fc84c5",
   "metadata": {},
   "outputs": [
    {
     "name": "stdout",
     "output_type": "stream",
     "text": [
      "['__doc__', '__loader__', '__name__', '__package__', '__spec__', '_grouper', '_tee', '_tee_dataobject', 'accumulate', 'chain', 'combinations', 'combinations_with_replacement', 'compress', 'count', 'cycle', 'dropwhile', 'filterfalse', 'groupby', 'islice', 'permutations', 'product', 'repeat', 'starmap', 'takewhile', 'tee', 'zip_longest']\n"
     ]
    }
   ],
   "source": [
    "import itertools\n",
    "\n",
    "print(dir(itertools))"
   ]
  },
  {
   "cell_type": "code",
   "execution_count": 14,
   "id": "1364dee9",
   "metadata": {},
   "outputs": [
    {
     "name": "stdout",
     "output_type": "stream",
     "text": [
      "Help on class chain in module itertools:\n",
      "\n",
      "class chain(builtins.object)\n",
      " |  chain(*iterables) --> chain object\n",
      " |  \n",
      " |  Return a chain object whose .__next__() method returns elements from the\n",
      " |  first iterable until it is exhausted, then elements from the next\n",
      " |  iterable, until all of the iterables are exhausted.\n",
      " |  \n",
      " |  Methods defined here:\n",
      " |  \n",
      " |  __getattribute__(self, name, /)\n",
      " |      Return getattr(self, name).\n",
      " |  \n",
      " |  __iter__(self, /)\n",
      " |      Implement iter(self).\n",
      " |  \n",
      " |  __next__(self, /)\n",
      " |      Implement next(self).\n",
      " |  \n",
      " |  __reduce__(...)\n",
      " |      Return state information for pickling.\n",
      " |  \n",
      " |  __setstate__(...)\n",
      " |      Set state information for unpickling.\n",
      " |  \n",
      " |  ----------------------------------------------------------------------\n",
      " |  Class methods defined here:\n",
      " |  \n",
      " |  from_iterable(iterable, /) from builtins.type\n",
      " |      Alternative chain() constructor taking a single iterable argument that evaluates lazily.\n",
      " |  \n",
      " |  ----------------------------------------------------------------------\n",
      " |  Static methods defined here:\n",
      " |  \n",
      " |  __new__(*args, **kwargs) from builtins.type\n",
      " |      Create and return a new object.  See help(type) for accurate signature.\n",
      "\n"
     ]
    }
   ],
   "source": [
    "help(itertools.chain)"
   ]
  },
  {
   "cell_type": "code",
   "execution_count": 15,
   "id": "a9ca7305",
   "metadata": {},
   "outputs": [
    {
     "name": "stdout",
     "output_type": "stream",
     "text": [
      "Help on class accumulate in module itertools:\n",
      "\n",
      "class accumulate(builtins.object)\n",
      " |  accumulate(iterable, func=None, *, initial=None)\n",
      " |  \n",
      " |  Return series of accumulated sums (or other binary function results).\n",
      " |  \n",
      " |  Methods defined here:\n",
      " |  \n",
      " |  __getattribute__(self, name, /)\n",
      " |      Return getattr(self, name).\n",
      " |  \n",
      " |  __iter__(self, /)\n",
      " |      Implement iter(self).\n",
      " |  \n",
      " |  __next__(self, /)\n",
      " |      Implement next(self).\n",
      " |  \n",
      " |  __reduce__(...)\n",
      " |      Return state information for pickling.\n",
      " |  \n",
      " |  __setstate__(...)\n",
      " |      Set state information for unpickling.\n",
      " |  \n",
      " |  ----------------------------------------------------------------------\n",
      " |  Static methods defined here:\n",
      " |  \n",
      " |  __new__(*args, **kwargs) from builtins.type\n",
      " |      Create and return a new object.  See help(type) for accurate signature.\n",
      "\n"
     ]
    }
   ],
   "source": [
    "help(itertools.accumulate)"
   ]
  },
  {
   "cell_type": "code",
   "execution_count": 22,
   "id": "897be32d",
   "metadata": {},
   "outputs": [],
   "source": [
    "import itertools\n",
    "\n",
    "import operator\n",
    "\n",
    "a=[1,2,3,4,5]\n",
    "\n",
    "b=itertools.accumulate(a)\n"
   ]
  },
  {
   "cell_type": "code",
   "execution_count": 20,
   "id": "514ed1f5",
   "metadata": {},
   "outputs": [
    {
     "name": "stdout",
     "output_type": "stream",
     "text": [
      "[1, 3, 6, 10, 15]\n"
     ]
    }
   ],
   "source": [
    "print(list(b))"
   ]
  },
  {
   "cell_type": "code",
   "execution_count": 23,
   "id": "627f6349",
   "metadata": {},
   "outputs": [
    {
     "name": "stdout",
     "output_type": "stream",
     "text": [
      "1\n",
      "3\n",
      "6\n",
      "10\n",
      "15\n"
     ]
    }
   ],
   "source": [
    "for i in b:\n",
    "    print(i)"
   ]
  },
  {
   "cell_type": "code",
   "execution_count": 24,
   "id": "31e434f7",
   "metadata": {},
   "outputs": [],
   "source": [
    "import itertools\n",
    "\n",
    "import operator\n",
    "\n",
    "a=[1,2,3,4,5]\n",
    "\n",
    "b=itertools.accumulate(a,operator.mul)\n"
   ]
  },
  {
   "cell_type": "code",
   "execution_count": 25,
   "id": "ff4b00ff",
   "metadata": {},
   "outputs": [
    {
     "name": "stdout",
     "output_type": "stream",
     "text": [
      "[1, 2, 6, 24, 120]\n"
     ]
    }
   ],
   "source": [
    "print(list(b))"
   ]
  },
  {
   "cell_type": "code",
   "execution_count": 26,
   "id": "80802b27",
   "metadata": {},
   "outputs": [],
   "source": [
    "import itertools\n",
    "\n",
    "import operator\n",
    "\n",
    "a=[1,2,3,4,5]\n",
    "\n",
    "b=itertools.accumulate(a,operator.xor)\n"
   ]
  },
  {
   "cell_type": "code",
   "execution_count": 27,
   "id": "ba1ac176",
   "metadata": {},
   "outputs": [
    {
     "name": "stdout",
     "output_type": "stream",
     "text": [
      "1\n",
      "3\n",
      "0\n",
      "4\n",
      "1\n"
     ]
    }
   ],
   "source": [
    "for i in b:\n",
    "    print(i)"
   ]
  },
  {
   "cell_type": "markdown",
   "id": "6a3fc7be",
   "metadata": {},
   "source": [
    "# Chain"
   ]
  },
  {
   "cell_type": "code",
   "execution_count": 35,
   "id": "ceba5345",
   "metadata": {},
   "outputs": [
    {
     "name": "stdout",
     "output_type": "stream",
     "text": [
      "[1, 2, 3, 4, 5, 6, 7, 11, 12, 13, 14, 15, 16, 18, 100, 101, 102, 444, 50]\n"
     ]
    }
   ],
   "source": [
    "a=[1,2,3,4,5,6,7]\n",
    "b=[11,12,13,14,15,16,18]\n",
    "c=[100,101,102,444,50]\n",
    "\n",
    "re=itertools.chain(a,b,c)\n",
    "\n",
    "print(list(re))"
   ]
  },
  {
   "cell_type": "code",
   "execution_count": 34,
   "id": "87306b9d",
   "metadata": {},
   "outputs": [
    {
     "name": "stdout",
     "output_type": "stream",
     "text": [
      "1\n",
      "2\n",
      "3\n",
      "4\n",
      "5\n",
      "6\n",
      "7\n",
      "11\n",
      "12\n",
      "13\n",
      "14\n",
      "15\n",
      "16\n",
      "18\n",
      "100\n",
      "101\n",
      "102\n",
      "444\n",
      "50\n"
     ]
    }
   ],
   "source": [
    "for i in re:\n",
    "    print(i)"
   ]
  },
  {
   "cell_type": "code",
   "execution_count": 37,
   "id": "6c1c610c",
   "metadata": {},
   "outputs": [
    {
     "name": "stdout",
     "output_type": "stream",
     "text": [
      "Help on class compress in module itertools:\n",
      "\n",
      "class compress(builtins.object)\n",
      " |  compress(data, selectors)\n",
      " |  \n",
      " |  Return data elements corresponding to true selector elements.\n",
      " |  \n",
      " |  Forms a shorter iterator from selected data elements using the selectors to\n",
      " |  choose the data elements.\n",
      " |  \n",
      " |  Methods defined here:\n",
      " |  \n",
      " |  __getattribute__(self, name, /)\n",
      " |      Return getattr(self, name).\n",
      " |  \n",
      " |  __iter__(self, /)\n",
      " |      Implement iter(self).\n",
      " |  \n",
      " |  __next__(self, /)\n",
      " |      Implement next(self).\n",
      " |  \n",
      " |  __reduce__(...)\n",
      " |      Return state information for pickling.\n",
      " |  \n",
      " |  ----------------------------------------------------------------------\n",
      " |  Static methods defined here:\n",
      " |  \n",
      " |  __new__(*args, **kwargs) from builtins.type\n",
      " |      Create and return a new object.  See help(type) for accurate signature.\n",
      "\n"
     ]
    }
   ],
   "source": [
    "help(itertools.compress)"
   ]
  },
  {
   "cell_type": "markdown",
   "id": "77e0d986",
   "metadata": {},
   "source": [
    "# compress"
   ]
  },
  {
   "cell_type": "code",
   "execution_count": 38,
   "id": "56aec83e",
   "metadata": {},
   "outputs": [
    {
     "name": "stdout",
     "output_type": "stream",
     "text": [
      "[1, 3, 5]\n"
     ]
    }
   ],
   "source": [
    "a=[1,2,3,4,5]\n",
    "sel=[1,0,1,0,1]\n",
    "\n",
    "re=itertools.compress(a,sel)\n",
    "\n",
    "print(list(re))"
   ]
  },
  {
   "cell_type": "code",
   "execution_count": 39,
   "id": "c592170d",
   "metadata": {},
   "outputs": [
    {
     "name": "stdout",
     "output_type": "stream",
     "text": [
      "['__doc__', '__loader__', '__name__', '__package__', '__spec__', '_grouper', '_tee', '_tee_dataobject', 'accumulate', 'chain', 'combinations', 'combinations_with_replacement', 'compress', 'count', 'cycle', 'dropwhile', 'filterfalse', 'groupby', 'islice', 'permutations', 'product', 'repeat', 'starmap', 'takewhile', 'tee', 'zip_longest']\n"
     ]
    }
   ],
   "source": [
    "print(dir(itertools))"
   ]
  },
  {
   "cell_type": "markdown",
   "id": "deb920f4",
   "metadata": {},
   "source": [
    "# dropwhile"
   ]
  },
  {
   "cell_type": "code",
   "execution_count": 40,
   "id": "41586e72",
   "metadata": {},
   "outputs": [
    {
     "name": "stdout",
     "output_type": "stream",
     "text": [
      "Help on class dropwhile in module itertools:\n",
      "\n",
      "class dropwhile(builtins.object)\n",
      " |  dropwhile(predicate, iterable, /)\n",
      " |  \n",
      " |  Drop items from the iterable while predicate(item) is true.\n",
      " |  \n",
      " |  Afterwards, return every element until the iterable is exhausted.\n",
      " |  \n",
      " |  Methods defined here:\n",
      " |  \n",
      " |  __getattribute__(self, name, /)\n",
      " |      Return getattr(self, name).\n",
      " |  \n",
      " |  __iter__(self, /)\n",
      " |      Implement iter(self).\n",
      " |  \n",
      " |  __next__(self, /)\n",
      " |      Implement next(self).\n",
      " |  \n",
      " |  __reduce__(...)\n",
      " |      Return state information for pickling.\n",
      " |  \n",
      " |  __setstate__(...)\n",
      " |      Set state information for unpickling.\n",
      " |  \n",
      " |  ----------------------------------------------------------------------\n",
      " |  Static methods defined here:\n",
      " |  \n",
      " |  __new__(*args, **kwargs) from builtins.type\n",
      " |      Create and return a new object.  See help(type) for accurate signature.\n",
      "\n"
     ]
    }
   ],
   "source": [
    "help(itertools.dropwhile)"
   ]
  },
  {
   "cell_type": "code",
   "execution_count": 42,
   "id": "b5f20c65",
   "metadata": {},
   "outputs": [],
   "source": [
    "a= list(range(0,100,5))\n",
    "\n",
    "b=itertools.dropwhile(lambda x:x<20,a)"
   ]
  },
  {
   "cell_type": "code",
   "execution_count": 43,
   "id": "73977bc6",
   "metadata": {},
   "outputs": [
    {
     "name": "stdout",
     "output_type": "stream",
     "text": [
      "20\n",
      "25\n",
      "30\n",
      "35\n",
      "40\n",
      "45\n",
      "50\n",
      "55\n",
      "60\n",
      "65\n",
      "70\n",
      "75\n",
      "80\n",
      "85\n",
      "90\n",
      "95\n"
     ]
    }
   ],
   "source": [
    "for i in b:\n",
    "    print(i)"
   ]
  },
  {
   "cell_type": "markdown",
   "id": "634ffc96",
   "metadata": {},
   "source": [
    "# filterfalse"
   ]
  },
  {
   "cell_type": "code",
   "execution_count": 46,
   "id": "22d4bb77",
   "metadata": {},
   "outputs": [
    {
     "name": "stdout",
     "output_type": "stream",
     "text": [
      "Help on class filterfalse in module itertools:\n",
      "\n",
      "class filterfalse(builtins.object)\n",
      " |  filterfalse(function, iterable, /)\n",
      " |  \n",
      " |  Return those items of iterable for which function(item) is false.\n",
      " |  \n",
      " |  If function is None, return the items that are false.\n",
      " |  \n",
      " |  Methods defined here:\n",
      " |  \n",
      " |  __getattribute__(self, name, /)\n",
      " |      Return getattr(self, name).\n",
      " |  \n",
      " |  __iter__(self, /)\n",
      " |      Implement iter(self).\n",
      " |  \n",
      " |  __next__(self, /)\n",
      " |      Implement next(self).\n",
      " |  \n",
      " |  __reduce__(...)\n",
      " |      Return state information for pickling.\n",
      " |  \n",
      " |  ----------------------------------------------------------------------\n",
      " |  Static methods defined here:\n",
      " |  \n",
      " |  __new__(*args, **kwargs) from builtins.type\n",
      " |      Create and return a new object.  See help(type) for accurate signature.\n",
      "\n"
     ]
    }
   ],
   "source": [
    "help(itertools.filterfalse)"
   ]
  },
  {
   "cell_type": "code",
   "execution_count": 53,
   "id": "581c2c6d",
   "metadata": {},
   "outputs": [],
   "source": [
    "a= list(range(0,100,5))\n",
    "\n",
    "b=itertools.filterfalse(lambda x:x<20,a)"
   ]
  },
  {
   "cell_type": "code",
   "execution_count": 54,
   "id": "632aaebc",
   "metadata": {},
   "outputs": [
    {
     "name": "stdout",
     "output_type": "stream",
     "text": [
      "20\n",
      "25\n",
      "30\n",
      "35\n",
      "40\n",
      "45\n",
      "50\n",
      "55\n",
      "60\n",
      "65\n",
      "70\n",
      "75\n",
      "80\n",
      "85\n",
      "90\n",
      "95\n"
     ]
    }
   ],
   "source": [
    "for i in b:\n",
    "    print(i)"
   ]
  },
  {
   "cell_type": "markdown",
   "id": "f41ad917",
   "metadata": {},
   "source": [
    "# islice"
   ]
  },
  {
   "cell_type": "code",
   "execution_count": 55,
   "id": "f9d8d56c",
   "metadata": {},
   "outputs": [
    {
     "name": "stdout",
     "output_type": "stream",
     "text": [
      "Help on class islice in module itertools:\n",
      "\n",
      "class islice(builtins.object)\n",
      " |  islice(iterable, stop) --> islice object\n",
      " |  islice(iterable, start, stop[, step]) --> islice object\n",
      " |  \n",
      " |  Return an iterator whose next() method returns selected values from an\n",
      " |  iterable.  If start is specified, will skip all preceding elements;\n",
      " |  otherwise, start defaults to zero.  Step defaults to one.  If\n",
      " |  specified as another value, step determines how many values are\n",
      " |  skipped between successive calls.  Works like a slice() on a list\n",
      " |  but returns an iterator.\n",
      " |  \n",
      " |  Methods defined here:\n",
      " |  \n",
      " |  __getattribute__(self, name, /)\n",
      " |      Return getattr(self, name).\n",
      " |  \n",
      " |  __iter__(self, /)\n",
      " |      Implement iter(self).\n",
      " |  \n",
      " |  __next__(self, /)\n",
      " |      Implement next(self).\n",
      " |  \n",
      " |  __reduce__(...)\n",
      " |      Return state information for pickling.\n",
      " |  \n",
      " |  __setstate__(...)\n",
      " |      Set state information for unpickling.\n",
      " |  \n",
      " |  ----------------------------------------------------------------------\n",
      " |  Static methods defined here:\n",
      " |  \n",
      " |  __new__(*args, **kwargs) from builtins.type\n",
      " |      Create and return a new object.  See help(type) for accurate signature.\n",
      "\n"
     ]
    }
   ],
   "source": [
    "help(itertools.islice)"
   ]
  },
  {
   "cell_type": "code",
   "execution_count": 56,
   "id": "452b836d",
   "metadata": {},
   "outputs": [
    {
     "data": {
      "text/plain": [
       "[0, 5, 10, 15, 20, 25, 30, 35, 40, 45, 50, 55, 60, 65, 70, 75, 80, 85, 90, 95]"
      ]
     },
     "execution_count": 56,
     "metadata": {},
     "output_type": "execute_result"
    }
   ],
   "source": [
    "a"
   ]
  },
  {
   "cell_type": "code",
   "execution_count": 57,
   "id": "a76e0137",
   "metadata": {},
   "outputs": [],
   "source": [
    "r=itertools.islice(a,0,15,3) # iterable,start,stop,step"
   ]
  },
  {
   "cell_type": "code",
   "execution_count": 59,
   "id": "5c5194ee",
   "metadata": {},
   "outputs": [
    {
     "name": "stdout",
     "output_type": "stream",
     "text": [
      "[0, 15, 30, 45, 60]\n"
     ]
    }
   ],
   "source": [
    "print(list(r))"
   ]
  },
  {
   "cell_type": "code",
   "execution_count": 60,
   "id": "f4aa24c2",
   "metadata": {},
   "outputs": [
    {
     "name": "stdout",
     "output_type": "stream",
     "text": [
      "['__doc__', '__loader__', '__name__', '__package__', '__spec__', '_grouper', '_tee', '_tee_dataobject', 'accumulate', 'chain', 'combinations', 'combinations_with_replacement', 'compress', 'count', 'cycle', 'dropwhile', 'filterfalse', 'groupby', 'islice', 'permutations', 'product', 'repeat', 'starmap', 'takewhile', 'tee', 'zip_longest']\n"
     ]
    }
   ],
   "source": [
    "print(dir(itertools))"
   ]
  },
  {
   "cell_type": "markdown",
   "id": "3018518d",
   "metadata": {},
   "source": [
    "# starmap"
   ]
  },
  {
   "cell_type": "code",
   "execution_count": 61,
   "id": "2063cebf",
   "metadata": {},
   "outputs": [
    {
     "name": "stdout",
     "output_type": "stream",
     "text": [
      "Help on class starmap in module itertools:\n",
      "\n",
      "class starmap(builtins.object)\n",
      " |  starmap(function, iterable, /)\n",
      " |  \n",
      " |  Return an iterator whose values are returned from the function evaluated with an argument tuple taken from the given sequence.\n",
      " |  \n",
      " |  Methods defined here:\n",
      " |  \n",
      " |  __getattribute__(self, name, /)\n",
      " |      Return getattr(self, name).\n",
      " |  \n",
      " |  __iter__(self, /)\n",
      " |      Implement iter(self).\n",
      " |  \n",
      " |  __next__(self, /)\n",
      " |      Implement next(self).\n",
      " |  \n",
      " |  __reduce__(...)\n",
      " |      Return state information for pickling.\n",
      " |  \n",
      " |  ----------------------------------------------------------------------\n",
      " |  Static methods defined here:\n",
      " |  \n",
      " |  __new__(*args, **kwargs) from builtins.type\n",
      " |      Create and return a new object.  See help(type) for accurate signature.\n",
      "\n"
     ]
    }
   ],
   "source": [
    "help(itertools.starmap)"
   ]
  },
  {
   "cell_type": "code",
   "execution_count": 62,
   "id": "1a8a2538",
   "metadata": {},
   "outputs": [
    {
     "name": "stdout",
     "output_type": "stream",
     "text": [
      "4\n",
      "5\n",
      "10\n"
     ]
    }
   ],
   "source": [
    "s=[(1,3),(2,4),(7,9)]\n",
    "\n",
    "re=itertools.starmap(lambda x,y: x+3,s)\n",
    "\n",
    "for i in re:\n",
    "    print(i)"
   ]
  },
  {
   "cell_type": "code",
   "execution_count": 63,
   "id": "7c13f2bf",
   "metadata": {},
   "outputs": [
    {
     "name": "stdout",
     "output_type": "stream",
     "text": [
      "(4, 5)\n",
      "(5, 6)\n",
      "(10, 11)\n"
     ]
    }
   ],
   "source": [
    "s=[(1,3),(2,4),(7,9)]\n",
    "\n",
    "re=itertools.starmap(lambda x,y: (x+3,y+2),s)\n",
    "\n",
    "for i in re:\n",
    "    print(i)"
   ]
  },
  {
   "cell_type": "markdown",
   "id": "0c0599d9",
   "metadata": {},
   "source": [
    "# takewhile"
   ]
  },
  {
   "cell_type": "code",
   "execution_count": 64,
   "id": "93be96cd",
   "metadata": {},
   "outputs": [
    {
     "name": "stdout",
     "output_type": "stream",
     "text": [
      "0\n",
      "5\n",
      "10\n",
      "15\n",
      "20\n",
      "25\n",
      "30\n",
      "35\n",
      "40\n",
      "45\n"
     ]
    }
   ],
   "source": [
    "a=list(range(0,100,5))\n",
    "\n",
    "s=itertools.takewhile(lambda x:x<50 ,a)\n",
    "\n",
    "for i in s:\n",
    "    print(i)"
   ]
  },
  {
   "cell_type": "markdown",
   "id": "5a72106f",
   "metadata": {},
   "source": [
    "# tee"
   ]
  },
  {
   "cell_type": "code",
   "execution_count": 68,
   "id": "c98a4663",
   "metadata": {},
   "outputs": [
    {
     "name": "stdout",
     "output_type": "stream",
     "text": [
      "[1, 2, 3, 4, 5, 6, 7]\n",
      "[1, 2, 3, 4, 5, 6, 7]\n",
      "[1, 2, 3, 4, 5, 6, 7]\n",
      "[1, 2, 3, 4, 5, 6, 7]\n",
      "[1, 2, 3, 4, 5, 6, 7]\n"
     ]
    }
   ],
   "source": [
    "a=[1,2,3,4,5,6,7]\n",
    "\n",
    "d=iter(a)\n",
    "\n",
    "re=itertools.tee(d,5)\n",
    "\n",
    "for i in re:\n",
    "    print(list(i))"
   ]
  },
  {
   "cell_type": "markdown",
   "id": "3342cc12",
   "metadata": {},
   "source": [
    "# zip_longest"
   ]
  },
  {
   "cell_type": "code",
   "execution_count": 69,
   "id": "2b206e46",
   "metadata": {},
   "outputs": [
    {
     "name": "stdout",
     "output_type": "stream",
     "text": [
      "(1, 7)\n",
      "(2, 8)\n",
      "(3, 9)\n",
      "(4, 10)\n",
      "(5, 11)\n",
      "(6, 12)\n"
     ]
    }
   ],
   "source": [
    "a=[1,2,3,4,5,6]\n",
    "b=[7,8,9,10,11]\n",
    "\n",
    "w=itertools.zip_longest(a,b,fillvalue=12)\n",
    "\n",
    "for i in w:\n",
    "    print(i)"
   ]
  },
  {
   "cell_type": "markdown",
   "id": "255c8b2d",
   "metadata": {},
   "source": [
    "# groupby"
   ]
  },
  {
   "cell_type": "code",
   "execution_count": 70,
   "id": "8a80c2c1",
   "metadata": {},
   "outputs": [
    {
     "name": "stdout",
     "output_type": "stream",
     "text": [
      "('A', 'A')\n",
      "('A', 'B')\n",
      "('A', 'C')\n",
      "('A', 'D')\n",
      "('B', 'A')\n",
      "('B', 'B')\n",
      "('B', 'C')\n",
      "('B', 'D')\n",
      "('C', 'A')\n",
      "('C', 'B')\n",
      "('C', 'C')\n",
      "('C', 'D')\n",
      "('D', 'A')\n",
      "('D', 'B')\n",
      "('D', 'C')\n",
      "('D', 'D')\n"
     ]
    }
   ],
   "source": [
    "a= itertools.product(\"ABCD\",repeat=2)\n",
    "\n",
    "for i in a:\n",
    "    print(i)"
   ]
  },
  {
   "cell_type": "code",
   "execution_count": 72,
   "id": "12999f36",
   "metadata": {},
   "outputs": [
    {
     "name": "stdout",
     "output_type": "stream",
     "text": [
      "('A', 'B')\n",
      "('A', 'C')\n",
      "('B', 'A')\n",
      "('B', 'C')\n",
      "('C', 'A')\n",
      "('C', 'B')\n"
     ]
    }
   ],
   "source": [
    "a=itertools.permutations(\"ABC\",2)\n",
    "\n",
    "for i in a:\n",
    "    print(i)"
   ]
  },
  {
   "cell_type": "code",
   "execution_count": 73,
   "id": "9c5e64f2",
   "metadata": {},
   "outputs": [],
   "source": [
    "a=itertools.combinations(\"ABC\",2)"
   ]
  },
  {
   "cell_type": "code",
   "execution_count": 74,
   "id": "cfefa1a9",
   "metadata": {},
   "outputs": [
    {
     "name": "stdout",
     "output_type": "stream",
     "text": [
      "('A', 'B')\n",
      "('A', 'C')\n",
      "('B', 'C')\n"
     ]
    }
   ],
   "source": [
    "for i in a:\n",
    "    print(i)"
   ]
  },
  {
   "cell_type": "markdown",
   "id": "8678a72e",
   "metadata": {},
   "source": [
    "# Zip Uneven Tuple"
   ]
  },
  {
   "cell_type": "code",
   "execution_count": 79,
   "id": "5c04c56f",
   "metadata": {},
   "outputs": [
    {
     "name": "stdout",
     "output_type": "stream",
     "text": [
      "(7, 1)\n",
      "(8, 5)\n",
      "(4, 6)\n",
      "(5, 1)\n",
      "(9, 5)\n",
      "(10, 6)\n"
     ]
    }
   ],
   "source": [
    "test_tup1 = (7, 8, 4, 5, 9, 10)\n",
    "test_tup2 = (1, 5, 6)\n",
    "\n",
    "re=[]\n",
    "\n",
    "for i,j in enumerate(test_tup1):\n",
    "    print((j,test_tup2[i % len(test_tup2)]))"
   ]
  },
  {
   "cell_type": "code",
   "execution_count": 84,
   "id": "0f5e0131",
   "metadata": {},
   "outputs": [
    {
     "name": "stdout",
     "output_type": "stream",
     "text": [
      "[(7, 1), (8, 5), (4, 6), (5, 1), (9, 5), (10, 6)]\n"
     ]
    }
   ],
   "source": [
    "test_tup1 = (7, 8, 4, 5, 9, 10)\n",
    "test_tup2 = (1, 5, 6)\n",
    "\n",
    "res = list(zip(test_tup1, itertools.cycle(test_tup2)) if len(test_tup1) > len(test_tup2) else zip(itertools.cycle(test_tup1), test_tup2))\n",
    "\n",
    "print(res)"
   ]
  },
  {
   "cell_type": "code",
   "execution_count": null,
   "id": "3fcaaad6",
   "metadata": {},
   "outputs": [],
   "source": []
  }
 ],
 "metadata": {
  "kernelspec": {
   "display_name": "Python 3",
   "language": "python",
   "name": "python3"
  },
  "language_info": {
   "codemirror_mode": {
    "name": "ipython",
    "version": 3
   },
   "file_extension": ".py",
   "mimetype": "text/x-python",
   "name": "python",
   "nbconvert_exporter": "python",
   "pygments_lexer": "ipython3",
   "version": "3.8.8"
  }
 },
 "nbformat": 4,
 "nbformat_minor": 5
}
