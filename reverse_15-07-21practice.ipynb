{
 "cells": [
  {
   "cell_type": "markdown",
   "id": "5c3cdc4b",
   "metadata": {},
   "source": [
    "# Write a program to print 10, 9, 8, 7, 6, 5, 4, 3, 2, 1 using range built-in method\n"
   ]
  },
  {
   "cell_type": "code",
   "execution_count": 1,
   "id": "f7567632",
   "metadata": {},
   "outputs": [
    {
     "name": "stdout",
     "output_type": "stream",
     "text": [
      "10\n",
      "9\n",
      "8\n",
      "7\n",
      "6\n",
      "5\n",
      "4\n",
      "3\n",
      "2\n",
      "1\n"
     ]
    }
   ],
   "source": [
    "for i in range(10,0,-1):\n",
    "    print(i)\n"
   ]
  },
  {
   "cell_type": "code",
   "execution_count": null,
   "id": "134c5e1f",
   "metadata": {},
   "outputs": [],
   "source": [
    "Write a program to print all possible ways of creating list from given list\n",
    "input_list = [1,2,3,4]\n",
    "\n",
    "OUTPUT:\n",
    "    [1,2,3,4]\n",
    "    [2,3,4,1]\n",
    "    [3,4,1,2]\n",
    "    [4,1,2,3]\n",
    "\n",
    "input_list = [1,2]\n",
    "\n",
    "OUTPUT\n",
    "    [1,2]\n",
    "    [2,1]\n",
    "\n",
    "input_list = ['a','b','c','d','e']\n",
    "\n",
    "OUTPUT\n",
    "    ['a','b','c','d','e']\n",
    "    ['b','c','d','e','a']\n",
    "    ['c','d','e','a','b']\n",
    "    ['d','e','a','b','c']\n",
    "    ['e','a','b','c','d']"
   ]
  },
  {
   "cell_type": "code",
   "execution_count": 36,
   "id": "137b751c",
   "metadata": {},
   "outputs": [
    {
     "name": "stdout",
     "output_type": "stream",
     "text": [
      "1\n",
      "2\n",
      "3\n",
      "4\n"
     ]
    }
   ],
   "source": [
    "input_list=[1,2,3,4]\n",
    "for i in input_list:\n",
    "    "
   ]
  },
  {
   "cell_type": "code",
   "execution_count": 37,
   "id": "9772d001",
   "metadata": {},
   "outputs": [
    {
     "name": "stdout",
     "output_type": "stream",
     "text": [
      "1 2 3\n",
      "1 3 2\n",
      "2 1 3\n",
      "2 3 1\n",
      "3 1 2\n",
      "3 2 1\n"
     ]
    }
   ],
   "source": [
    "def comb(L):\n",
    "      \n",
    "    for i in range(3):\n",
    "        for j in range(3):\n",
    "            for k in range(3):\n",
    "                  \n",
    "                # check if the indexes are not\n",
    "                # same\n",
    "                if (i!=j and j!=k and i!=k):\n",
    "                    print(L[i], L[j], L[k])\n",
    "                      \n",
    "# Driver Code\n",
    "comb([1, 2, 3])"
   ]
  },
  {
   "cell_type": "code",
   "execution_count": 38,
   "id": "e20ce5b1",
   "metadata": {},
   "outputs": [
    {
     "ename": "TypeError",
     "evalue": "'int' object is not subscriptable",
     "output_type": "error",
     "traceback": [
      "\u001b[1;31m---------------------------------------------------------------------------\u001b[0m",
      "\u001b[1;31mTypeError\u001b[0m                                 Traceback (most recent call last)",
      "\u001b[1;32m<ipython-input-38-f4eb11778004>\u001b[0m in \u001b[0;36m<module>\u001b[1;34m\u001b[0m\n\u001b[0;32m      3\u001b[0m \u001b[1;33m\u001b[0m\u001b[0m\n\u001b[0;32m      4\u001b[0m \u001b[1;32mfor\u001b[0m \u001b[0mi\u001b[0m \u001b[1;32min\u001b[0m \u001b[0minput_list\u001b[0m\u001b[1;33m:\u001b[0m\u001b[1;33m\u001b[0m\u001b[1;33m\u001b[0m\u001b[0m\n\u001b[1;32m----> 5\u001b[1;33m     \u001b[0mlist1\u001b[0m\u001b[1;33m=\u001b[0m\u001b[0minput_list\u001b[0m\u001b[1;33m[\u001b[0m\u001b[1;36m1\u001b[0m\u001b[1;33m]\u001b[0m\u001b[1;33m[\u001b[0m\u001b[1;36m2\u001b[0m\u001b[1;33m]\u001b[0m\u001b[1;33m[\u001b[0m\u001b[1;36m3\u001b[0m\u001b[1;33m]\u001b[0m\u001b[1;33m[\u001b[0m\u001b[1;36m0\u001b[0m\u001b[1;33m]\u001b[0m\u001b[1;33m\u001b[0m\u001b[1;33m\u001b[0m\u001b[0m\n\u001b[0m\u001b[0;32m      6\u001b[0m \u001b[0mprint\u001b[0m\u001b[1;33m(\u001b[0m\u001b[0mlist1\u001b[0m\u001b[1;33m)\u001b[0m\u001b[1;33m\u001b[0m\u001b[1;33m\u001b[0m\u001b[0m\n\u001b[0;32m      7\u001b[0m \u001b[1;33m\u001b[0m\u001b[0m\n",
      "\u001b[1;31mTypeError\u001b[0m: 'int' object is not subscriptable"
     ]
    }
   ],
   "source": [
    "input_list=[1,2,3,4]\n",
    "list1=[]\n",
    "\n",
    "for i in input_list:\n",
    "    list1=input_list[1][2][3][0]\n",
    "print(list1)\n",
    "      \n",
    "    "
   ]
  },
  {
   "cell_type": "code",
   "execution_count": 17,
   "id": "2e20f6dd",
   "metadata": {},
   "outputs": [
    {
     "data": {
      "text/plain": [
       "[]"
      ]
     },
     "execution_count": 17,
     "metadata": {},
     "output_type": "execute_result"
    }
   ],
   "source": [
    "num=[1,2,3,4]\n",
    "num[1:0]"
   ]
  },
  {
   "cell_type": "markdown",
   "id": "e7c70cf8",
   "metadata": {},
   "source": [
    "Write a program to reverse the string\n",
    "course = 'python'\n",
    "\n",
    "OUTPUT\n",
    "\n",
    "nohtyp\n",
    "\n",
    "Note: Don't use slicing or built-in method.\n",
    "\n",
    "number = 123"
   ]
  },
  {
   "cell_type": "code",
   "execution_count": 31,
   "id": "b542fdb7",
   "metadata": {},
   "outputs": [
    {
     "name": "stdout",
     "output_type": "stream",
     "text": [
      "reverse of string is:-  nohtyp\n"
     ]
    }
   ],
   "source": [
    "course='python'\n",
    "reverse=\"\"\n",
    "for i in course: \n",
    "    reverse=i+reverse\n",
    "print(\"reverse of string is:- \",reverse)\n",
    "    \n",
    "    \n"
   ]
  },
  {
   "cell_type": "code",
   "execution_count": 28,
   "id": "de97d4b5",
   "metadata": {},
   "outputs": [
    {
     "name": "stdout",
     "output_type": "stream",
     "text": [
      "p\n",
      "y\n",
      "t\n",
      "h\n",
      "o\n",
      "n\n"
     ]
    }
   ],
   "source": [
    "course=\"python\"\n",
    "for i in course:\n",
    "    print(i)"
   ]
  },
  {
   "cell_type": "markdown",
   "id": "1483a8dc",
   "metadata": {},
   "source": [
    "# write a programming to reverse of string"
   ]
  },
  {
   "cell_type": "code",
   "execution_count": 32,
   "id": "81124216",
   "metadata": {},
   "outputs": [
    {
     "name": "stdout",
     "output_type": "stream",
     "text": [
      "reverse string is :  sakiV\n"
     ]
    }
   ],
   "source": [
    "name=\"Vikas\"\n",
    "reverse=\"\"\n",
    "for i in name:\n",
    "    reverse=i+reverse\n",
    "print(\"reverse string is : \",reverse)"
   ]
  },
  {
   "cell_type": "code",
   "execution_count": 35,
   "id": "beaa2e82",
   "metadata": {},
   "outputs": [
    {
     "name": "stdout",
     "output_type": "stream",
     "text": [
      "p\n",
      "py\n",
      "pyt\n",
      "pyth\n",
      "pytho\n",
      "python\n"
     ]
    }
   ],
   "source": [
    "course=\"python\"\n",
    "rev=\"\"\n",
    "for i in course:\n",
    "    rev=rev+i\n",
    "    print(rev)"
   ]
  },
  {
   "cell_type": "code",
   "execution_count": 1,
   "id": "0504f890",
   "metadata": {},
   "outputs": [],
   "source": [
    "def addition():\n",
    "    num1=200\n",
    "    num2=300\n",
    "    print(\"addition is : \",num1+num2)"
   ]
  },
  {
   "cell_type": "code",
   "execution_count": 3,
   "id": "30dfbe6a",
   "metadata": {},
   "outputs": [
    {
     "name": "stdout",
     "output_type": "stream",
     "text": [
      "addition is :  500\n"
     ]
    }
   ],
   "source": [
    "addition()"
   ]
  },
  {
   "cell_type": "code",
   "execution_count": 4,
   "id": "6cc0bf07",
   "metadata": {},
   "outputs": [],
   "source": [
    "def showdata():\n",
    "    print(\"Hello World\")"
   ]
  },
  {
   "cell_type": "code",
   "execution_count": 5,
   "id": "a4480753",
   "metadata": {},
   "outputs": [
    {
     "name": "stdout",
     "output_type": "stream",
     "text": [
      "Hello World\n"
     ]
    }
   ],
   "source": [
    "showdata()"
   ]
  },
  {
   "cell_type": "code",
   "execution_count": 6,
   "id": "7f01e36a",
   "metadata": {},
   "outputs": [],
   "source": [
    "def multiplication():\n",
    "    num1=10\n",
    "    num2=20\n",
    "    print(\"result is : \",num1*num2)"
   ]
  },
  {
   "cell_type": "code",
   "execution_count": 7,
   "id": "16f1932a",
   "metadata": {},
   "outputs": [
    {
     "name": "stdout",
     "output_type": "stream",
     "text": [
      "result is :  200\n"
     ]
    }
   ],
   "source": [
    "multiplication()"
   ]
  },
  {
   "cell_type": "code",
   "execution_count": 8,
   "id": "f31e100a",
   "metadata": {},
   "outputs": [],
   "source": [
    "def grade():\n",
    "    \n",
    "    marks=int(input(\"Enter marks: \"))\n",
    "    if marks > 75 and marks <=100:\n",
    "        print(\"grade A\")\n",
    "        if marks > 50 and marks <75:\n",
    "            print(\"grade B\")\n",
    "            \n",
    "    "
   ]
  },
  {
   "cell_type": "code",
   "execution_count": 9,
   "id": "9cec0a8c",
   "metadata": {},
   "outputs": [
    {
     "name": "stdout",
     "output_type": "stream",
     "text": [
      "Enter marks: 88\n",
      "grade A\n"
     ]
    }
   ],
   "source": [
    "grade()"
   ]
  },
  {
   "cell_type": "code",
   "execution_count": 10,
   "id": "e7cef781",
   "metadata": {},
   "outputs": [],
   "source": [
    "def addition_of_numbers(num1, num2):\n",
    "    \"\"\"\n",
    "    addition_of_numbers is user defined function - Purpose of this function to make addition of\n",
    "    num1 + num2 and retun result.\n",
    "    \n",
    "    num1 and num2 - Should be int. \n",
    "    If num1 or num2 is not int raise error datatype is not mached it should be int.\n",
    "    \"\"\"\n",
    "    if type(num1) == int and type(num2) == int:\n",
    "        \n",
    "        return num1 + num2\n",
    "    else:\n",
    "        return \"ERROR - Data type is not mached. It should be int\"\n"
   ]
  },
  {
   "cell_type": "code",
   "execution_count": 11,
   "id": "1219cd52",
   "metadata": {},
   "outputs": [
    {
     "data": {
      "text/plain": [
       "132"
      ]
     },
     "execution_count": 11,
     "metadata": {},
     "output_type": "execute_result"
    }
   ],
   "source": [
    "addition_of_numbers(52,80)"
   ]
  },
  {
   "cell_type": "code",
   "execution_count": 12,
   "id": "b05a3846",
   "metadata": {},
   "outputs": [
    {
     "name": "stdout",
     "output_type": "stream",
     "text": [
      "Help on function addition_of_numbers in module __main__:\n",
      "\n",
      "addition_of_numbers(num1, num2)\n",
      "    addition_of_numbers is user defined function - Purpose of this function to make addition of\n",
      "    num1 + num2 and retun result.\n",
      "    \n",
      "    num1 and num2 - Should be int. \n",
      "    If num1 or num2 is not int raise error datatype is not mached it should be int.\n",
      "\n"
     ]
    }
   ],
   "source": [
    "help(addition_of_numbers)"
   ]
  },
  {
   "cell_type": "code",
   "execution_count": 14,
   "id": "bf28a603",
   "metadata": {},
   "outputs": [],
   "source": [
    "def addition_of_numbers(num1, num2):\n",
    "    \"\"\"\n",
    "    addition_of_numbers is user defined function - Purpose of this function to make addition of\n",
    "    num1 + num2 and retun result.\n",
    "    \n",
    "    num1 and num2 - Should be int. \n",
    "    If num1 or num2 is not int raise error datatype is not mached it should be int.\n",
    "    \"\"\"\n",
    "    if type(num1) == float and type(num2) == float:\n",
    "        \n",
    "        return num1 + num2\n",
    "    else:\n",
    "        return \"ERROR - Data type is not mached. It should be int\"\n"
   ]
  },
  {
   "cell_type": "code",
   "execution_count": 15,
   "id": "1dbb8c16",
   "metadata": {},
   "outputs": [
    {
     "data": {
      "text/plain": [
       "'ERROR - Data type is not mached. It should be int'"
      ]
     },
     "execution_count": 15,
     "metadata": {},
     "output_type": "execute_result"
    }
   ],
   "source": [
    "addition_of_numbers(12.2,45)"
   ]
  },
  {
   "cell_type": "code",
   "execution_count": 16,
   "id": "49a79643",
   "metadata": {},
   "outputs": [
    {
     "data": {
      "text/plain": [
       "'ERROR - Data type is not mached. It should be int'"
      ]
     },
     "execution_count": 16,
     "metadata": {},
     "output_type": "execute_result"
    }
   ],
   "source": [
    "addition_of_numbers(12.2,45)"
   ]
  },
  {
   "cell_type": "code",
   "execution_count": null,
   "id": "9aceebf7",
   "metadata": {},
   "outputs": [],
   "source": [
    "def "
   ]
  }
 ],
 "metadata": {
  "kernelspec": {
   "display_name": "Python 3",
   "language": "python",
   "name": "python3"
  },
  "language_info": {
   "codemirror_mode": {
    "name": "ipython",
    "version": 3
   },
   "file_extension": ".py",
   "mimetype": "text/x-python",
   "name": "python",
   "nbconvert_exporter": "python",
   "pygments_lexer": "ipython3",
   "version": "3.8.8"
  }
 },
 "nbformat": 4,
 "nbformat_minor": 5
}
