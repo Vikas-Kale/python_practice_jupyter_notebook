{
 "cells": [
  {
   "cell_type": "markdown",
   "id": "34b306ad",
   "metadata": {},
   "source": [
    "# What are tokens in python?"
   ]
  },
  {
   "cell_type": "markdown",
   "id": "109bab4c",
   "metadata": {},
   "source": [
    "- `Tokens is the smallest building units in python`.\n",
    "- There are different types of tokens:- \n",
    "    - 1. Keywords\n",
    "    - 2. Identifiers\n",
    "    - 3. Literals\n",
    "    - 4. Operators"
   ]
  },
  {
   "cell_type": "markdown",
   "id": "5e35c034",
   "metadata": {},
   "source": [
    "# 1. `Keywords`\n",
    "\n",
    "- `keywords are a special reserved words` and you can't gives keywords name to the variables. "
   ]
  },
  {
   "cell_type": "code",
   "execution_count": 1,
   "id": "a9a97cff",
   "metadata": {
    "ExecuteTime": {
     "end_time": "2021-09-24T04:12:52.286523Z",
     "start_time": "2021-09-24T04:12:52.238525Z"
    }
   },
   "outputs": [
    {
     "name": "stdout",
     "output_type": "stream",
     "text": [
      "['__all__', '__builtins__', '__cached__', '__doc__', '__file__', '__loader__', '__name__', '__package__', '__spec__', 'iskeyword', 'kwlist']\n"
     ]
    }
   ],
   "source": [
    "import keyword\n",
    "print(dir(keyword))"
   ]
  },
  {
   "cell_type": "code",
   "execution_count": 2,
   "id": "f1b8af2e",
   "metadata": {
    "ExecuteTime": {
     "end_time": "2021-09-24T04:13:13.550102Z",
     "start_time": "2021-09-24T04:13:13.518102Z"
    }
   },
   "outputs": [
    {
     "name": "stdout",
     "output_type": "stream",
     "text": [
      "['False', 'None', 'True', 'and', 'as', 'assert', 'async', 'await', 'break', 'class', 'continue', 'def', 'del', 'elif', 'else', 'except', 'finally', 'for', 'from', 'global', 'if', 'import', 'in', 'is', 'lambda', 'nonlocal', 'not', 'or', 'pass', 'raise', 'return', 'try', 'while', 'with', 'yield']\n"
     ]
    }
   ],
   "source": [
    "print(keyword.kwlist)"
   ]
  },
  {
   "cell_type": "markdown",
   "id": "9c177a95",
   "metadata": {},
   "source": [
    "# 2. `identifiers`"
   ]
  },
  {
   "cell_type": "markdown",
   "id": "32852581",
   "metadata": {},
   "source": [
    "- identifiers are names used for variables,functions or objects."
   ]
  },
  {
   "cell_type": "markdown",
   "id": "9ea6fe93",
   "metadata": {},
   "source": [
    "- **`Rules`**\n",
    "- 1) no special characters except _(underscore)\n",
    "- 2) identifiers are case sensitive.\n",
    "- 3) first letter cannot be a digit."
   ]
  },
  {
   "cell_type": "markdown",
   "id": "2b34717b",
   "metadata": {},
   "source": [
    "# 3.`Literals`"
   ]
  },
  {
   "cell_type": "markdown",
   "id": "67a937cb",
   "metadata": {},
   "source": [
    "- `Literals are constants in python`"
   ]
  },
  {
   "cell_type": "code",
   "execution_count": null,
   "id": "a37bf6b1",
   "metadata": {},
   "outputs": [],
   "source": [
    "# a=10\n",
    "here a is a variable and 10 is literals"
   ]
  },
  {
   "cell_type": "markdown",
   "id": "b7c84be2",
   "metadata": {},
   "source": [
    "# 4. Operators"
   ]
  },
  {
   "cell_type": "markdown",
   "id": "6d60027d",
   "metadata": {},
   "source": [
    "# There are 3 types of operators\n",
    "\n",
    "- Arithmatical operator\n",
    "- Relational operator\n",
    "- Logical operatory"
   ]
  },
  {
   "cell_type": "markdown",
   "id": "5160c698",
   "metadata": {},
   "source": [
    "### arithmatical operator"
   ]
  },
  {
   "cell_type": "code",
   "execution_count": null,
   "id": "73de6306",
   "metadata": {},
   "outputs": [],
   "source": [
    "+ , - , * , / "
   ]
  },
  {
   "cell_type": "markdown",
   "id": "123dc3c7",
   "metadata": {},
   "source": [
    "### relational operator"
   ]
  },
  {
   "cell_type": "code",
   "execution_count": null,
   "id": "ac659a4f",
   "metadata": {},
   "outputs": [],
   "source": [
    "==,=,>=,<=,>,<"
   ]
  },
  {
   "cell_type": "markdown",
   "id": "81c1d79c",
   "metadata": {},
   "source": [
    "### logical operators"
   ]
  },
  {
   "cell_type": "code",
   "execution_count": null,
   "id": "3c6c25ca",
   "metadata": {},
   "outputs": [],
   "source": [
    "and (&)\n",
    "or  (|)"
   ]
  },
  {
   "cell_type": "code",
   "execution_count": null,
   "id": "fbb6c10f",
   "metadata": {},
   "outputs": [],
   "source": []
  }
 ],
 "metadata": {
  "kernelspec": {
   "display_name": "Python 3",
   "language": "python",
   "name": "python3"
  },
  "language_info": {
   "codemirror_mode": {
    "name": "ipython",
    "version": 3
   },
   "file_extension": ".py",
   "mimetype": "text/x-python",
   "name": "python",
   "nbconvert_exporter": "python",
   "pygments_lexer": "ipython3",
   "version": "3.8.8"
  }
 },
 "nbformat": 4,
 "nbformat_minor": 5
}
