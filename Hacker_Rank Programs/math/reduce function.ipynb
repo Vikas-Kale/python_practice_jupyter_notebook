{
 "cells": [
  {
   "cell_type": "code",
   "execution_count": 1,
   "id": "ff5dd6f9",
   "metadata": {
    "ExecuteTime": {
     "end_time": "2021-10-17T01:34:03.208588Z",
     "start_time": "2021-10-17T01:34:03.087205Z"
    }
   },
   "outputs": [],
   "source": [
    "import fractions"
   ]
  },
  {
   "cell_type": "code",
   "execution_count": 2,
   "id": "6cac6193",
   "metadata": {
    "ExecuteTime": {
     "end_time": "2021-10-17T01:34:10.710907Z",
     "start_time": "2021-10-17T01:34:10.686909Z"
    }
   },
   "outputs": [
    {
     "name": "stdout",
     "output_type": "stream",
     "text": [
      "['Decimal', 'Fraction', '_PyHASH_INF', '_PyHASH_MODULUS', '_RATIONAL_FORMAT', '__all__', '__builtins__', '__cached__', '__doc__', '__file__', '__loader__', '__name__', '__package__', '__spec__', '_gcd', 'gcd', 'math', 'numbers', 'operator', 're', 'sys']\n"
     ]
    }
   ],
   "source": [
    "print(dir(fractions))"
   ]
  },
  {
   "cell_type": "code",
   "execution_count": 3,
   "id": "4dcf402c",
   "metadata": {
    "ExecuteTime": {
     "end_time": "2021-10-17T01:34:42.662736Z",
     "start_time": "2021-10-17T01:34:42.645737Z"
    }
   },
   "outputs": [],
   "source": [
    "from fractions import Fraction"
   ]
  },
  {
   "cell_type": "code",
   "execution_count": 4,
   "id": "1396f876",
   "metadata": {
    "ExecuteTime": {
     "end_time": "2021-10-17T01:34:56.136058Z",
     "start_time": "2021-10-17T01:34:56.117024Z"
    }
   },
   "outputs": [],
   "source": [
    "value1 = Fraction(1,2)"
   ]
  },
  {
   "cell_type": "code",
   "execution_count": 6,
   "id": "28e2959a",
   "metadata": {
    "ExecuteTime": {
     "end_time": "2021-10-17T01:35:20.762624Z",
     "start_time": "2021-10-17T01:35:20.740624Z"
    }
   },
   "outputs": [
    {
     "name": "stdout",
     "output_type": "stream",
     "text": [
      "1/2\n"
     ]
    }
   ],
   "source": [
    "print(value1)"
   ]
  },
  {
   "cell_type": "code",
   "execution_count": 7,
   "id": "83114365",
   "metadata": {
    "ExecuteTime": {
     "end_time": "2021-10-17T01:35:47.072728Z",
     "start_time": "2021-10-17T01:35:47.040968Z"
    }
   },
   "outputs": [],
   "source": [
    "value2 = Fraction(3,9)"
   ]
  },
  {
   "cell_type": "code",
   "execution_count": 8,
   "id": "514bb2a9",
   "metadata": {
    "ExecuteTime": {
     "end_time": "2021-10-17T01:35:52.509151Z",
     "start_time": "2021-10-17T01:35:52.493283Z"
    }
   },
   "outputs": [
    {
     "name": "stdout",
     "output_type": "stream",
     "text": [
      "1/3\n"
     ]
    }
   ],
   "source": [
    "print(value2)"
   ]
  },
  {
   "cell_type": "code",
   "execution_count": 10,
   "id": "e5782c66",
   "metadata": {
    "ExecuteTime": {
     "end_time": "2021-10-17T01:36:09.311593Z",
     "start_time": "2021-10-17T01:36:09.292595Z"
    }
   },
   "outputs": [
    {
     "data": {
      "text/plain": [
       "1"
      ]
     },
     "execution_count": 10,
     "metadata": {},
     "output_type": "execute_result"
    }
   ],
   "source": [
    "value2.numerator"
   ]
  },
  {
   "cell_type": "code",
   "execution_count": 11,
   "id": "7a716fc8",
   "metadata": {
    "ExecuteTime": {
     "end_time": "2021-10-17T01:36:21.184057Z",
     "start_time": "2021-10-17T01:36:21.158059Z"
    }
   },
   "outputs": [
    {
     "data": {
      "text/plain": [
       "3"
      ]
     },
     "execution_count": 11,
     "metadata": {},
     "output_type": "execute_result"
    }
   ],
   "source": [
    "value2.denominator"
   ]
  },
  {
   "cell_type": "code",
   "execution_count": 17,
   "id": "d9b447ac",
   "metadata": {
    "ExecuteTime": {
     "end_time": "2021-10-17T01:42:21.651257Z",
     "start_time": "2021-10-17T01:42:21.641259Z"
    }
   },
   "outputs": [],
   "source": [
    "lst = [1,2,3,4]"
   ]
  },
  {
   "cell_type": "code",
   "execution_count": 18,
   "id": "0ce5bfe8",
   "metadata": {
    "ExecuteTime": {
     "end_time": "2021-10-17T01:42:33.594829Z",
     "start_time": "2021-10-17T01:42:33.575832Z"
    }
   },
   "outputs": [],
   "source": [
    "from functools import reduce"
   ]
  },
  {
   "cell_type": "code",
   "execution_count": 19,
   "id": "47d86205",
   "metadata": {
    "ExecuteTime": {
     "end_time": "2021-10-17T01:42:52.247911Z",
     "start_time": "2021-10-17T01:42:52.216308Z"
    }
   },
   "outputs": [
    {
     "data": {
      "text/plain": [
       "10"
      ]
     },
     "execution_count": 19,
     "metadata": {},
     "output_type": "execute_result"
    }
   ],
   "source": [
    "reduce(lambda x,y:x+y,lst)"
   ]
  },
  {
   "cell_type": "code",
   "execution_count": 21,
   "id": "53d80f3d",
   "metadata": {
    "ExecuteTime": {
     "end_time": "2021-10-17T01:46:40.692785Z",
     "start_time": "2021-10-17T01:46:40.674787Z"
    }
   },
   "outputs": [],
   "source": [
    "t = reduce(lambda x,y:x*y,lst)"
   ]
  },
  {
   "cell_type": "code",
   "execution_count": 22,
   "id": "ea6cc1d7",
   "metadata": {
    "ExecuteTime": {
     "end_time": "2021-10-17T01:46:47.061611Z",
     "start_time": "2021-10-17T01:46:47.038613Z"
    }
   },
   "outputs": [
    {
     "data": {
      "text/plain": [
       "24"
      ]
     },
     "execution_count": 22,
     "metadata": {},
     "output_type": "execute_result"
    }
   ],
   "source": [
    "t.numerator"
   ]
  },
  {
   "cell_type": "code",
   "execution_count": 23,
   "id": "3ec50534",
   "metadata": {
    "ExecuteTime": {
     "end_time": "2021-10-17T01:46:52.920651Z",
     "start_time": "2021-10-17T01:46:52.894651Z"
    }
   },
   "outputs": [
    {
     "data": {
      "text/plain": [
       "1"
      ]
     },
     "execution_count": 23,
     "metadata": {},
     "output_type": "execute_result"
    }
   ],
   "source": [
    "t.denominator"
   ]
  },
  {
   "cell_type": "code",
   "execution_count": 29,
   "id": "e064c8d7",
   "metadata": {
    "ExecuteTime": {
     "end_time": "2021-10-17T02:40:09.058879Z",
     "start_time": "2021-10-17T02:40:09.016079Z"
    }
   },
   "outputs": [
    {
     "name": "stdout",
     "output_type": "stream",
     "text": [
      "find\n"
     ]
    }
   ],
   "source": [
    "import re\n",
    "\n",
    "mail = 'vikas@com'\n",
    "\n",
    "res = re.search('^v.*m$',mail)\n",
    "\n",
    "if res:\n",
    "    print('find')\n",
    "    \n",
    "else:\n",
    "    print('not-find')\n",
    "\n"
   ]
  },
  {
   "cell_type": "code",
   "execution_count": 34,
   "id": "59c7e61c",
   "metadata": {
    "ExecuteTime": {
     "end_time": "2021-10-17T04:16:31.657636Z",
     "start_time": "2021-10-17T04:16:31.633634Z"
    }
   },
   "outputs": [],
   "source": [
    "import re\n",
    "\n",
    "m = re.match(r'(\\w+)@(\\w+)\\.(\\w+)','vikaskale@gmail.com')\n"
   ]
  },
  {
   "cell_type": "code",
   "execution_count": 35,
   "id": "19d5f256",
   "metadata": {
    "ExecuteTime": {
     "end_time": "2021-10-17T04:16:40.380316Z",
     "start_time": "2021-10-17T04:16:40.348318Z"
    }
   },
   "outputs": [
    {
     "data": {
      "text/plain": [
       "('vikaskale', 'gmail', 'com')"
      ]
     },
     "execution_count": 35,
     "metadata": {},
     "output_type": "execute_result"
    }
   ],
   "source": [
    "m.groups()"
   ]
  },
  {
   "cell_type": "code",
   "execution_count": 36,
   "id": "234890a3",
   "metadata": {
    "ExecuteTime": {
     "end_time": "2021-10-17T04:18:48.736244Z",
     "start_time": "2021-10-17T04:18:48.720246Z"
    }
   },
   "outputs": [
    {
     "name": "stdout",
     "output_type": "stream",
     "text": [
      "('kalevikas', 'gmail', 'com')\n"
     ]
    }
   ],
   "source": [
    "import re\n",
    "\n",
    "m = re.match(r'(\\w+)@(\\w+)\\.(\\w+)','kalevikas@gmail.com')\n",
    "\n",
    "print(m.groups())"
   ]
  },
  {
   "cell_type": "code",
   "execution_count": 37,
   "id": "9273f488",
   "metadata": {
    "ExecuteTime": {
     "end_time": "2021-10-17T04:20:27.576539Z",
     "start_time": "2021-10-17T04:20:27.552537Z"
    }
   },
   "outputs": [
    {
     "data": {
      "text/plain": [
       "'kalevikas@gmail.com'"
      ]
     },
     "execution_count": 37,
     "metadata": {},
     "output_type": "execute_result"
    }
   ],
   "source": [
    "m.group(0)"
   ]
  },
  {
   "cell_type": "code",
   "execution_count": 38,
   "id": "8d7690ca",
   "metadata": {
    "ExecuteTime": {
     "end_time": "2021-10-17T04:20:35.027994Z",
     "start_time": "2021-10-17T04:20:35.003992Z"
    }
   },
   "outputs": [
    {
     "data": {
      "text/plain": [
       "'kalevikas'"
      ]
     },
     "execution_count": 38,
     "metadata": {},
     "output_type": "execute_result"
    }
   ],
   "source": [
    "m.group(1)"
   ]
  },
  {
   "cell_type": "code",
   "execution_count": 39,
   "id": "0ca8030c",
   "metadata": {
    "ExecuteTime": {
     "end_time": "2021-10-17T04:20:43.893032Z",
     "start_time": "2021-10-17T04:20:43.860992Z"
    }
   },
   "outputs": [
    {
     "data": {
      "text/plain": [
       "'gmail'"
      ]
     },
     "execution_count": 39,
     "metadata": {},
     "output_type": "execute_result"
    }
   ],
   "source": [
    "m.group(2)"
   ]
  },
  {
   "cell_type": "code",
   "execution_count": 40,
   "id": "c1a353da",
   "metadata": {
    "ExecuteTime": {
     "end_time": "2021-10-17T04:20:51.192617Z",
     "start_time": "2021-10-17T04:20:51.160617Z"
    }
   },
   "outputs": [
    {
     "data": {
      "text/plain": [
       "'com'"
      ]
     },
     "execution_count": 40,
     "metadata": {},
     "output_type": "execute_result"
    }
   ],
   "source": [
    "m.group(3)"
   ]
  },
  {
   "cell_type": "code",
   "execution_count": null,
   "id": "546ba87d",
   "metadata": {},
   "outputs": [],
   "source": []
  }
 ],
 "metadata": {
  "kernelspec": {
   "display_name": "Python 3",
   "language": "python",
   "name": "python3"
  },
  "language_info": {
   "codemirror_mode": {
    "name": "ipython",
    "version": 3
   },
   "file_extension": ".py",
   "mimetype": "text/x-python",
   "name": "python",
   "nbconvert_exporter": "python",
   "pygments_lexer": "ipython3",
   "version": "3.8.8"
  }
 },
 "nbformat": 4,
 "nbformat_minor": 5
}
