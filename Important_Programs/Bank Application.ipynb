{
 "cells": [
  {
   "cell_type": "code",
   "execution_count": null,
   "id": "eaf7f587",
   "metadata": {},
   "outputs": [],
   "source": [
    "- Create a new account\n",
    "    -> name, mobile, account_type, amount\n",
    "    -> RETURN -> Account Number\n",
    "- Close account\n",
    "    -> Account Number\n",
    "- Check balance\n",
    "    -> Account Number\n",
    "    -> RETURN -> Amount\n",
    "- Widraw money\n",
    "    -> Account Number, amount\n",
    "    -> RETURN -> BALANCE\n",
    "- Deposit money\n",
    "    -> Account Number, amount\n",
    "    -> RETURN -> BALANCE"
   ]
  },
  {
   "cell_type": "code",
   "execution_count": 3,
   "id": "2e12f514",
   "metadata": {},
   "outputs": [],
   "source": [
    "def generate_account_number():\n",
    "    \"\"\"\n",
    "    Auto generated account number\n",
    "    return- New account number\n",
    "    \"\"\"\n",
    "    pass\n",
    "\n",
    "def create_new_account(**customer_info):\n",
    "    \"\"\"\n",
    "    Customer information should contain name,mobile no.,account type,amount,address.\n",
    "    return-Account number.\n",
    "    \"\"\"\n",
    "    pass\n",
    "    \n",
    "def close_account(account_number):\n",
    "    \"\"\"\n",
    "    Based on account number marked as account closed.\n",
    "    return Thank you messege\n",
    "    \"\"\"\n",
    "    pass\n",
    "    \n",
    "def withdraw(account_number,amount):\n",
    "    \"\"\"\n",
    "    Based on account number withdraw amount.\n",
    "    return amount\n",
    "    \"\"\"\n",
    "    pass\n",
    "    \n",
    "def deposite(account_number,amount):\n",
    "    \"\"\"\n",
    "    Based on account number deposite amount.\n",
    "    return amount\n",
    "    \"\"\"\n",
    "    pass\n",
    "    \n",
    "def check_balance(account_number):\n",
    "    \"\"\"\n",
    "    Return balance of your account.\n",
    "    \"\"\"\n",
    "    pass"
   ]
  },
  {
   "cell_type": "code",
   "execution_count": 8,
   "id": "6e00afe3",
   "metadata": {},
   "outputs": [],
   "source": [
    "from datetime import datetime\n",
    "\n",
    "def generate_account_number():\n",
    "    \"\"\"\n",
    "    Auto generated account number.\n",
    "    \"\"\"\n",
    "    return datetime.now().strftime(\"SBI35%Y%m%d%S\")"
   ]
  },
  {
   "cell_type": "code",
   "execution_count": 9,
   "id": "0bd950a6",
   "metadata": {},
   "outputs": [
    {
     "data": {
      "text/plain": [
       "'SBI352021081045'"
      ]
     },
     "execution_count": 9,
     "metadata": {},
     "output_type": "execute_result"
    }
   ],
   "source": [
    "generate_account_number()"
   ]
  },
  {
   "cell_type": "code",
   "execution_count": 2,
   "id": "28162940",
   "metadata": {},
   "outputs": [],
   "source": [
    "from datetime import datetime\n",
    "\n",
    "#BANK_CUSTOMER_DETAILS is list which will store all data.\n",
    "#In this list all data will be dict type\n",
    "#EX: [{'name':<value>, 'mobile':<value>, 'account_type':<value>, 'amount':<value>, 'account_number':<values>}]\n",
    "BANK_CUSTOMER_DETAILS = list()\n",
    "\n",
    "def generate_account_no():\n",
    "    \"\"\"\n",
    "    Auto generated account number\n",
    "    \"\"\"\n",
    "    return datetime.now().strftime(\"SBI35%Y%m%d%S\")\n",
    "\n",
    "\n",
    "def create_account(**customer_info):\n",
    "    \"\"\"\n",
    "    customer_info should contain name, mobile, account_type, amount\n",
    "    Return - Account Number\n",
    "    \"\"\"\n",
    "    \n",
    "    account_no = generate_account_no()\n",
    "    #Create a new key in customer_info with name account_number\n",
    "    #Call generate account_no function to get account no.\n",
    "    customer_info['account_number'] = account_no\n",
    "    \n",
    "    #Now add current customer data to BANK_CUSTOMER_DETAILS list\n",
    "    BANK_CUSTOMER_DETAILS.append(customer_info)\n",
    "    \n",
    "    return account_no\n",
    "\n",
    "def deposite(account_number,amount):\n",
    "    \"\"\"\n",
    "    Based on account number deposite amount.\n",
    "    return amount\n",
    "    \"\"\"\n",
    "    for user in BANK_CUSTOMER_DETAILS:\n",
    "        if user.get(\"account_number\")==account_number:\n",
    "            current_amount=user.get(\"amount\")\n",
    "            print(\"Amount before deposit: \",current_amount)\n",
    "            user[\"amount\"]=current_amount+amount\n",
    "            print(\"Amount after deposit: \",user[\"amount\"])\n",
    "            \n",
    "def withdraw(account_number,amount):\n",
    "    \"\"\"\n",
    "    Based on account number withdraw amount.\n",
    "    return amount\n",
    "    \"\"\"\n",
    "    for user in BANK_CUSTOMER_DETAILS:\n",
    "        user.get(\"account_number\")==account_number\n",
    "        current_amount=user['amount']\n",
    "        print(\"Amount before withdraw: \",current_amount)\n",
    "        user['amount']=current_amount-amount\n",
    "        print(\"Amount after withdraw: \",user[\"amount\"])\n",
    "        \n",
    "def check_balance(account_number):\n",
    "    \"\"\"\n",
    "    Return balance of your account.\n",
    "    \"\"\"\n",
    "    for user in BANK_CUSTOMER_DETAILS:\n",
    "        if user.get(\"account_number\")==account_number:\n",
    "            Balance=user[\"amount\"]\n",
    "            print(\"Current balance in your account: \",Balance)\n",
    "            \n",
    "def main():\n",
    "    while True:\n",
    "        print(\"Chose one of the following \\n1]Create Account\\t2]Check Balance\\n3]Withdraw money\\t4]Deposit Money\\n5]Exit\")\n",
    "        user_input=int(input('____________WELCOME TO SBI BANK!_____________'))\n",
    "        if user_input==1:\n",
    "            customer_name=input(\"Enter Your name: \")\n",
    "            mobile_number=int(input(\"Enter Your Mobile Number: \"))\n",
    "            account_type=input(\"Enter account type: Saving or Current: \")\n",
    "            amount=int(input(\"Enter Your Amount: \"))\n",
    "            print(create_account(name=customer_name,mobile=mobile_number,account_type=account_type,amount=amount))\n",
    "        else:\n",
    "            pass\n",
    "    \n",
    "\n",
    "#Call create_account function and pass values to it.\n",
    "\n",
    "#create_account(name='Vikas', mobile=7798743804, account_type='saving', amount=5000)\n"
   ]
  },
  {
   "cell_type": "code",
   "execution_count": 17,
   "id": "5e3aa335",
   "metadata": {},
   "outputs": [
    {
     "name": "stdout",
     "output_type": "stream",
     "text": [
      "Amount before deposit:  5000\n",
      "Amount after deposit:  15000\n"
     ]
    }
   ],
   "source": [
    "deposite('SBI352021081058',10000)"
   ]
  },
  {
   "cell_type": "code",
   "execution_count": 18,
   "id": "e17498e1",
   "metadata": {},
   "outputs": [
    {
     "data": {
      "text/plain": [
       "[{'name': 'Vikas',\n",
       "  'mobile': 7798743804,\n",
       "  'account_type': 'saving',\n",
       "  'amount': 15000,\n",
       "  'account_number': 'SBI352021081058'}]"
      ]
     },
     "execution_count": 18,
     "metadata": {},
     "output_type": "execute_result"
    }
   ],
   "source": [
    "BANK_CUSTOMER_DETAILS"
   ]
  },
  {
   "cell_type": "code",
   "execution_count": 19,
   "id": "f325b896",
   "metadata": {},
   "outputs": [
    {
     "name": "stdout",
     "output_type": "stream",
     "text": [
      "Amount before withdraw:  15000\n",
      "Amount after withdraw:  10000\n"
     ]
    }
   ],
   "source": [
    "withdraw('SBI352021081058',5000)"
   ]
  },
  {
   "cell_type": "code",
   "execution_count": 20,
   "id": "b78b0728",
   "metadata": {},
   "outputs": [
    {
     "name": "stdout",
     "output_type": "stream",
     "text": [
      "Current balance in your account:  10000\n"
     ]
    }
   ],
   "source": [
    "check_balance('SBI352021081058')"
   ]
  },
  {
   "cell_type": "code",
   "execution_count": 6,
   "id": "60fe8e6f",
   "metadata": {},
   "outputs": [
    {
     "data": {
      "text/plain": [
       "'SBI3502021081123'"
      ]
     },
     "execution_count": 6,
     "metadata": {},
     "output_type": "execute_result"
    }
   ],
   "source": [
    "from datetime import datetime\n",
    "\n",
    "BANK_CUSTOMER_DETAILS=[]\n",
    "\n",
    "def generate_account_no():\n",
    "    \"\"\"\n",
    "    Auto generated account number using datetime module.\n",
    "    return account number.\n",
    "    \"\"\"\n",
    "    account_number=datetime.now().strftime(\"SBI350%Y%m%d%S\")\n",
    "    return account_number\n",
    "generate_account_no()"
   ]
  },
  {
   "cell_type": "code",
   "execution_count": null,
   "id": "d5cad451",
   "metadata": {},
   "outputs": [],
   "source": []
  },
  {
   "cell_type": "code",
   "execution_count": 1,
   "id": "b6a9a654",
   "metadata": {
    "ExecuteTime": {
     "end_time": "2021-09-15T03:03:53.091141Z",
     "start_time": "2021-09-15T03:03:51.761279Z"
    }
   },
   "outputs": [],
   "source": [
    "from datetime import datetime\n",
    "\n",
    "BANK_CUSTOMER_DETAILS=[]\n",
    "\n",
    "def generate_account_no():\n",
    "    \"\"\"\n",
    "    Auto generated account number using datetime module.\n",
    "    return account number.\n",
    "    \"\"\"\n",
    "    account_number=datetime.now().strftime(\"SBI350%Y%m%d%S\")\n",
    "    return account_number\n",
    "\n",
    "def is_valid_mobile_no(mobile_number):\n",
    "    if len(str(mobile_number))==10 and type(mobile_number)==int:\n",
    "        return True\n",
    "    return False\n",
    "\n",
    "def is_valid_account_type(account_type):\n",
    "    for account_type in [\"saving\",\"current\"]:\n",
    "        return True\n",
    "    return False\n",
    "def is_valid_amount(amount):\n",
    "    if type(amount)==int:\n",
    "        return True\n",
    "    return False\n",
    "\n",
    "\n",
    "\n",
    "\n",
    "def create_account(**customer_info):\n",
    "    \"\"\"\n",
    "    Create new account using customer information.\n",
    "    In customer info name,mobile nu,address,account type,amount etc is include.\n",
    "    return account_information\n",
    "    \"\"\"\n",
    "#     name=input(\"Enter Your Name: \")\n",
    "#     mobile_number=int(input(\"Enter Your Mobile Number: \"))\n",
    "#     address=input(\"Enter Your Address: \")\n",
    "#     account_type=input(\"Enter Account Type [Saving or Current]: \")\n",
    "#     amount=int(input(\"Enter amount to create account: Minimum amount should be Rs.100 : \"))\n",
    "    if is_valid_mobile_no(customer_info.get(\"mobile_number\")) and is_valid_account_type(customer_info.get(\"account_type\")) and is_valid_amount(customer_info.get(\"amount\")):\n",
    "        account_number=generate_account_no()\n",
    "        customer_info[\"account_number\"]=account_number\n",
    "        BANK_CUSTOMER_DETAILS.append(customer_info)\n",
    "        print( \"Thanks for creating account in SBI Bank!\\nYour Account Number is: %s\"%(account_number))\n",
    "    else:\n",
    "        print(\"Please Enter valid Details!\")\n",
    "        \n",
    "def deposit(account_number,amount):\n",
    "    \"\"\"\n",
    "    Deposite amount in your bank using account number.\n",
    "    return amount\n",
    "    \"\"\"\n",
    "    for user in BANK_CUSTOMER_DETAILS:\n",
    "        user[\"account_number\"]=account_number\n",
    "        current_amount=user.get(\"amount\")\n",
    "        print(\"Amount before deposit :\",current_amount)\n",
    "        user[\"amount\"]=current_amount+amount\n",
    "        print(\"Amount after deposite : \",user.get(\"amount\"))\n",
    "        \n",
    "def withdraw(account_number,amount):\n",
    "    \"\"\"\n",
    "    Withdraw money usnig account number\n",
    "    return amount\n",
    "    \"\"\"\n",
    "    for user in BANK_CUSTOMER_DETAILS:\n",
    "        if user.get(\"account_number\")==account_number:\n",
    "            \n",
    "            current_amount=user.get(\"amount\")\n",
    "            user[\"amount\"]=current_amount-amount\n",
    "            print(\"Available balance in your acount: \",user.get('amount'))\n",
    "    \n",
    "def check_balance(account_number):\n",
    "    \"\"\"\n",
    "    Check balance using account number\n",
    "    return amount\n",
    "    \"\"\"\n",
    "    for user in BANK_CUSTOMER_DETAILS:\n",
    "        if user[\"account_number\"]==account_number:\n",
    "            balance=user.get(\"amount\")\n",
    "            print(\"Balance in your account is: \",balance)\n",
    "            \n",
    "def main():\n",
    "\n",
    "    while True:\n",
    "        print(\"Chose one of the following:\\n1]Create account\\t2]Check balance\\n3]Deposit Money\\t4]Withdraw Money\\t5]exit\")\n",
    "        user_input=int(input(\"_________________________WELCOME TO SBI BANK_____________________\"))\n",
    "        if user_input==1:\n",
    "            name=input(\"Enter Your Name: \")\n",
    "            mobile_number=int(input(\"Enter Your Mobile Number: \"))\n",
    "            address=input(\"Enter Your Address: \")\n",
    "            account_type=input(\"Enter Account Type [Saving or Current]: \")\n",
    "            amount=int(input(\"Enter amount to create account: Minimum amount should be Rs.100 : \"))\n",
    "            print(create_account(name=name,mobile_number=mobile_number,address=address,account_type=account_type,amount=amount))\n",
    "        elif user_input == 2:\n",
    "            account_number = input(\"Enter your account number\")\n",
    "            print(check_balance(account_number))\n",
    "        elif user_input == 3:\n",
    "            account_number = input(\"Enter your account number \")\n",
    "            amount = int(input(\"Enter amout to deposit in your account \"))\n",
    "            print(deposit(account_number, amount))\n",
    "        elif user_input == 4:\n",
    "            account_number = input(\"Enter your account number \")\n",
    "            amount = int(input(\"Enter amout to withdraw in your account \"))\n",
    "            print(withdraw(account_number, amount))\n",
    "        elif user_input == 5:\n",
    "            print(\"Thanks for visiting SBI Bank\")\n",
    "            break\n",
    "        else:\n",
    "            print(\"Enter valid input 1 to 5\")\n",
    "            "
   ]
  },
  {
   "cell_type": "code",
   "execution_count": 2,
   "id": "003383df",
   "metadata": {},
   "outputs": [
    {
     "name": "stdout",
     "output_type": "stream",
     "text": [
      "Chose one of the following:\n",
      "1]Create account\t2]Check balance\n",
      "3]Deposit Money\t4]Withdraw Money\t5]exit\n",
      "_________________________WELCOME TO SBI BANK_____________________1\n",
      "Enter Your Name: Vikas\n",
      "Enter Your Mobile Number: 7798743804\n",
      "Enter Your Address: Pune\n",
      "Enter Account Type [Saving or Current]: saving\n",
      "Enter amount to create account: Minimum amount should be Rs.100 : 500\n",
      "Thanks for creating account in SBI Bank!\n",
      "Your Account Number is: SBI3502021081134\n",
      "None\n",
      "Chose one of the following:\n",
      "1]Create account\t2]Check balance\n",
      "3]Deposit Money\t4]Withdraw Money\t5]exit\n",
      "_________________________WELCOME TO SBI BANK_____________________3\n",
      "Enter your account number SBI3502021081134\n",
      "Enter amout to deposit in your account 100000\n",
      "Amount before deposit : 500\n",
      "Amount after deposite :  100500\n",
      "None\n",
      "Chose one of the following:\n",
      "1]Create account\t2]Check balance\n",
      "3]Deposit Money\t4]Withdraw Money\t5]exit\n",
      "_________________________WELCOME TO SBI BANK_____________________4\n",
      "Enter your account number SBI3502021081134\n",
      "Enter amout to withdraw in your account 20000\n",
      "Available balance in your acount:  80500\n",
      "None\n",
      "Chose one of the following:\n",
      "1]Create account\t2]Check balance\n",
      "3]Deposit Money\t4]Withdraw Money\t5]exit\n",
      "_________________________WELCOME TO SBI BANK_____________________5\n",
      "Thanks for visiting SBI Bank\n"
     ]
    }
   ],
   "source": [
    "main()"
   ]
  },
  {
   "cell_type": "code",
   "execution_count": 2,
   "id": "61e9116f",
   "metadata": {},
   "outputs": [
    {
     "data": {
      "text/plain": [
       "'SBI3502021081106'"
      ]
     },
     "execution_count": 2,
     "metadata": {},
     "output_type": "execute_result"
    }
   ],
   "source": [
    "generate_account_no()"
   ]
  },
  {
   "cell_type": "code",
   "execution_count": 3,
   "id": "f4bb390d",
   "metadata": {},
   "outputs": [
    {
     "name": "stdout",
     "output_type": "stream",
     "text": [
      "Thanks for creating account in SBI Bank!\n",
      "Your Account Number is: SBI3502021081109\n"
     ]
    }
   ],
   "source": [
    "create_account(name=\"Vikas\",mobile_number=7798743804,account_type='saving',address=\"Pune\",amount=5000)"
   ]
  },
  {
   "cell_type": "code",
   "execution_count": 4,
   "id": "75ceee5b",
   "metadata": {},
   "outputs": [
    {
     "data": {
      "text/plain": [
       "[{'name': 'Vikas',\n",
       "  'mobile_number': 7798743804,\n",
       "  'account_type': 'saving',\n",
       "  'address': 'Pune',\n",
       "  'amount': 5000,\n",
       "  'account_number': 'SBI3502021081109'}]"
      ]
     },
     "execution_count": 4,
     "metadata": {},
     "output_type": "execute_result"
    }
   ],
   "source": [
    "BANK_CUSTOMER_DETAILS"
   ]
  },
  {
   "cell_type": "code",
   "execution_count": 46,
   "id": "64ae7fea",
   "metadata": {},
   "outputs": [
    {
     "data": {
      "text/plain": [
       "<function __main__.deposite(account_number, amount)>"
      ]
     },
     "execution_count": 46,
     "metadata": {},
     "output_type": "execute_result"
    }
   ],
   "source": [
    "deposite"
   ]
  },
  {
   "cell_type": "code",
   "execution_count": 5,
   "id": "04194845",
   "metadata": {},
   "outputs": [
    {
     "name": "stdout",
     "output_type": "stream",
     "text": [
      "Amount before deposit : 5000\n",
      "Amount after deposite :  55000\n"
     ]
    }
   ],
   "source": [
    "deposite('SBI3502021081109',50000)"
   ]
  },
  {
   "cell_type": "code",
   "execution_count": 6,
   "id": "e4810035",
   "metadata": {},
   "outputs": [
    {
     "name": "stdout",
     "output_type": "stream",
     "text": [
      "Available balance in your acount:  40000\n"
     ]
    }
   ],
   "source": [
    "withdraw('SBI3502021081109',15000)"
   ]
  },
  {
   "cell_type": "code",
   "execution_count": 7,
   "id": "51ba6a15",
   "metadata": {},
   "outputs": [
    {
     "name": "stdout",
     "output_type": "stream",
     "text": [
      "Balance in your account is:  40000\n"
     ]
    }
   ],
   "source": [
    "check_amount(\"SBI3502021081109\")"
   ]
  },
  {
   "cell_type": "code",
   "execution_count": 9,
   "id": "d7619d5c",
   "metadata": {},
   "outputs": [
    {
     "name": "stdout",
     "output_type": "stream",
     "text": [
      "Chose one of the following:\n",
      "1]Create account\t2]Check balance\n",
      "3]Withdraw Money\t4]Deposit Money\t5]exit\n",
      "_________________________WELCOME TO SBI BANK_____________________1\n",
      "Enter Your Name: Vikas\n",
      "Enter Your Mobile Number: 7798743804\n",
      "Enter Your Address: Pune\n",
      "Enter Account Type [Saving or Current]: saving\n",
      "Enter amount to create account: Minimum amount should be Rs.100 : 500\n",
      "Thanks for creating account in SBI Bank!\n",
      "Your Account Number is: SBI3502021081155\n",
      "None\n",
      "Chose one of the following:\n",
      "1]Create account\t2]Check balance\n",
      "3]Withdraw Money\t4]Deposit Money\t5]exit\n",
      "_________________________WELCOME TO SBI BANK_____________________2\n",
      "Enter valid number:\n",
      "Chose one of the following:\n",
      "1]Create account\t2]Check balance\n",
      "3]Withdraw Money\t4]Deposit Money\t5]exit\n"
     ]
    },
    {
     "ename": "KeyboardInterrupt",
     "evalue": "Interrupted by user",
     "output_type": "error",
     "traceback": [
      "\u001b[1;31m---------------------------------------------------------------------------\u001b[0m",
      "\u001b[1;31mKeyboardInterrupt\u001b[0m                         Traceback (most recent call last)",
      "\u001b[1;32m<ipython-input-9-263240bbee7e>\u001b[0m in \u001b[0;36m<module>\u001b[1;34m\u001b[0m\n\u001b[1;32m----> 1\u001b[1;33m \u001b[0mmain\u001b[0m\u001b[1;33m(\u001b[0m\u001b[1;33m)\u001b[0m\u001b[1;33m\u001b[0m\u001b[1;33m\u001b[0m\u001b[0m\n\u001b[0m",
      "\u001b[1;32m<ipython-input-8-7c1999e68014>\u001b[0m in \u001b[0;36mmain\u001b[1;34m()\u001b[0m\n\u001b[0;32m     85\u001b[0m     \u001b[1;32mwhile\u001b[0m \u001b[1;32mTrue\u001b[0m\u001b[1;33m:\u001b[0m\u001b[1;33m\u001b[0m\u001b[1;33m\u001b[0m\u001b[0m\n\u001b[0;32m     86\u001b[0m         \u001b[0mprint\u001b[0m\u001b[1;33m(\u001b[0m\u001b[1;34m\"Chose one of the following:\\n1]Create account\\t2]Check balance\\n3]Withdraw Money\\t4]Deposit Money\\t5]exit\"\u001b[0m\u001b[1;33m)\u001b[0m\u001b[1;33m\u001b[0m\u001b[1;33m\u001b[0m\u001b[0m\n\u001b[1;32m---> 87\u001b[1;33m         \u001b[0muser_input\u001b[0m\u001b[1;33m=\u001b[0m\u001b[0mint\u001b[0m\u001b[1;33m(\u001b[0m\u001b[0minput\u001b[0m\u001b[1;33m(\u001b[0m\u001b[1;34m\"_________________________WELCOME TO SBI BANK_____________________\"\u001b[0m\u001b[1;33m)\u001b[0m\u001b[1;33m)\u001b[0m\u001b[1;33m\u001b[0m\u001b[1;33m\u001b[0m\u001b[0m\n\u001b[0m\u001b[0;32m     88\u001b[0m         \u001b[1;32mif\u001b[0m \u001b[0muser_input\u001b[0m\u001b[1;33m==\u001b[0m\u001b[1;36m1\u001b[0m\u001b[1;33m:\u001b[0m\u001b[1;33m\u001b[0m\u001b[1;33m\u001b[0m\u001b[0m\n\u001b[0;32m     89\u001b[0m             \u001b[0mname\u001b[0m\u001b[1;33m=\u001b[0m\u001b[0minput\u001b[0m\u001b[1;33m(\u001b[0m\u001b[1;34m\"Enter Your Name: \"\u001b[0m\u001b[1;33m)\u001b[0m\u001b[1;33m\u001b[0m\u001b[1;33m\u001b[0m\u001b[0m\n",
      "\u001b[1;32mC:\\ProgramData\\Anaconda3\\lib\\site-packages\\ipykernel\\kernelbase.py\u001b[0m in \u001b[0;36mraw_input\u001b[1;34m(self, prompt)\u001b[0m\n\u001b[0;32m    858\u001b[0m                 \u001b[1;34m\"raw_input was called, but this frontend does not support input requests.\"\u001b[0m\u001b[1;33m\u001b[0m\u001b[1;33m\u001b[0m\u001b[0m\n\u001b[0;32m    859\u001b[0m             )\n\u001b[1;32m--> 860\u001b[1;33m         return self._input_request(str(prompt),\n\u001b[0m\u001b[0;32m    861\u001b[0m             \u001b[0mself\u001b[0m\u001b[1;33m.\u001b[0m\u001b[0m_parent_ident\u001b[0m\u001b[1;33m,\u001b[0m\u001b[1;33m\u001b[0m\u001b[1;33m\u001b[0m\u001b[0m\n\u001b[0;32m    862\u001b[0m             \u001b[0mself\u001b[0m\u001b[1;33m.\u001b[0m\u001b[0m_parent_header\u001b[0m\u001b[1;33m,\u001b[0m\u001b[1;33m\u001b[0m\u001b[1;33m\u001b[0m\u001b[0m\n",
      "\u001b[1;32mC:\\ProgramData\\Anaconda3\\lib\\site-packages\\ipykernel\\kernelbase.py\u001b[0m in \u001b[0;36m_input_request\u001b[1;34m(self, prompt, ident, parent, password)\u001b[0m\n\u001b[0;32m    902\u001b[0m             \u001b[1;32mexcept\u001b[0m \u001b[0mKeyboardInterrupt\u001b[0m\u001b[1;33m:\u001b[0m\u001b[1;33m\u001b[0m\u001b[1;33m\u001b[0m\u001b[0m\n\u001b[0;32m    903\u001b[0m                 \u001b[1;31m# re-raise KeyboardInterrupt, to truncate traceback\u001b[0m\u001b[1;33m\u001b[0m\u001b[1;33m\u001b[0m\u001b[1;33m\u001b[0m\u001b[0m\n\u001b[1;32m--> 904\u001b[1;33m                 \u001b[1;32mraise\u001b[0m \u001b[0mKeyboardInterrupt\u001b[0m\u001b[1;33m(\u001b[0m\u001b[1;34m\"Interrupted by user\"\u001b[0m\u001b[1;33m)\u001b[0m \u001b[1;32mfrom\u001b[0m \u001b[1;32mNone\u001b[0m\u001b[1;33m\u001b[0m\u001b[1;33m\u001b[0m\u001b[0m\n\u001b[0m\u001b[0;32m    905\u001b[0m             \u001b[1;32mexcept\u001b[0m \u001b[0mException\u001b[0m \u001b[1;32mas\u001b[0m \u001b[0me\u001b[0m\u001b[1;33m:\u001b[0m\u001b[1;33m\u001b[0m\u001b[1;33m\u001b[0m\u001b[0m\n\u001b[0;32m    906\u001b[0m                 \u001b[0mself\u001b[0m\u001b[1;33m.\u001b[0m\u001b[0mlog\u001b[0m\u001b[1;33m.\u001b[0m\u001b[0mwarning\u001b[0m\u001b[1;33m(\u001b[0m\u001b[1;34m\"Invalid Message:\"\u001b[0m\u001b[1;33m,\u001b[0m \u001b[0mexc_info\u001b[0m\u001b[1;33m=\u001b[0m\u001b[1;32mTrue\u001b[0m\u001b[1;33m)\u001b[0m\u001b[1;33m\u001b[0m\u001b[1;33m\u001b[0m\u001b[0m\n",
      "\u001b[1;31mKeyboardInterrupt\u001b[0m: Interrupted by user"
     ]
    }
   ],
   "source": [
    "main()"
   ]
  },
  {
   "cell_type": "code",
   "execution_count": 14,
   "id": "c91a99c1",
   "metadata": {},
   "outputs": [
    {
     "name": "stdout",
     "output_type": "stream",
     "text": [
      "[1, 2, 3]\n",
      "6\n",
      "3\n",
      "2.0\n"
     ]
    }
   ],
   "source": [
    "num=[1,2,3,-4,-6,-7]\n",
    "\n",
    "# sum=6\n",
    "res=[]\n",
    "for ele in num:\n",
    "    if ele >0:\n",
    "        res.append(ele)\n",
    "print(res)\n",
    "sum=0\n",
    "for j in res:\n",
    "    sum=sum+j\n",
    "print(sum)\n",
    "print(len(res))\n",
    "\n",
    "print(sum/len(res))\n",
    "\n"
   ]
  },
  {
   "cell_type": "code",
   "execution_count": 7,
   "id": "98e75699",
   "metadata": {},
   "outputs": [
    {
     "data": {
      "text/plain": [
       "[1, 2, 3]"
      ]
     },
     "execution_count": 7,
     "metadata": {},
     "output_type": "execute_result"
    }
   ],
   "source": [
    "res"
   ]
  },
  {
   "cell_type": "code",
   "execution_count": 10,
   "id": "a6bdef20",
   "metadata": {},
   "outputs": [
    {
     "ename": "TypeError",
     "evalue": "'int' object is not callable",
     "output_type": "error",
     "traceback": [
      "\u001b[1;31m---------------------------------------------------------------------------\u001b[0m",
      "\u001b[1;31mTypeError\u001b[0m                                 Traceback (most recent call last)",
      "\u001b[1;32m<ipython-input-10-e3135fdee682>\u001b[0m in \u001b[0;36m<module>\u001b[1;34m\u001b[0m\n\u001b[1;32m----> 1\u001b[1;33m \u001b[0msum\u001b[0m\u001b[1;33m(\u001b[0m\u001b[0mlist\u001b[0m\u001b[1;33m(\u001b[0m\u001b[0mres\u001b[0m\u001b[1;33m)\u001b[0m\u001b[1;33m)\u001b[0m\u001b[1;33m\u001b[0m\u001b[1;33m\u001b[0m\u001b[0m\n\u001b[0m",
      "\u001b[1;31mTypeError\u001b[0m: 'int' object is not callable"
     ]
    }
   ],
   "source": [
    "sum(list(res))"
   ]
  },
  {
   "cell_type": "code",
   "execution_count": 20,
   "id": "02f7b01d",
   "metadata": {},
   "outputs": [
    {
     "name": "stdout",
     "output_type": "stream",
     "text": [
      "[1, 2, 3]\n"
     ]
    }
   ],
   "source": [
    "num=[1,2,3,-4,-6,-7]\n",
    "\n",
    "avg=[i for i in num if i >0]\n",
    "\n",
    "print(avg)"
   ]
  },
  {
   "cell_type": "code",
   "execution_count": 21,
   "id": "6c71093d",
   "metadata": {},
   "outputs": [],
   "source": [
    "num1=lambda x : x+x ,avg"
   ]
  },
  {
   "cell_type": "code",
   "execution_count": 22,
   "id": "4a916911",
   "metadata": {},
   "outputs": [
    {
     "data": {
      "text/plain": [
       "(<function __main__.<lambda>(x)>, [1, 2, 3])"
      ]
     },
     "execution_count": 22,
     "metadata": {},
     "output_type": "execute_result"
    }
   ],
   "source": [
    "num1"
   ]
  },
  {
   "cell_type": "code",
   "execution_count": 27,
   "id": "f9860bed",
   "metadata": {},
   "outputs": [
    {
     "name": "stdout",
     "output_type": "stream",
     "text": [
      "['o', 'u', 'o', 'a', 'i', 'o']\n",
      "6\n"
     ]
    }
   ],
   "source": [
    "s1='Python Automation'\n",
    "\n",
    "vovels='aeiou'\n",
    "\n",
    "z=[i for i in s1 if i in vovels]\n",
    "\n",
    "print(z)\n",
    "print(len(z))\n"
   ]
  },
  {
   "cell_type": "code",
   "execution_count": 28,
   "id": "e8836edb",
   "metadata": {},
   "outputs": [],
   "source": [
    "import re"
   ]
  },
  {
   "cell_type": "code",
   "execution_count": null,
   "id": "2cc74c90",
   "metadata": {},
   "outputs": [],
   "source": [
    "result = [letter for letter in string if letter.lower() not in vowels]"
   ]
  },
  {
   "cell_type": "code",
   "execution_count": 34,
   "id": "03ba30b1",
   "metadata": {},
   "outputs": [
    {
     "name": "stdout",
     "output_type": "stream",
     "text": [
      "P\n",
      "y\n",
      "t\n",
      "h\n",
      "n\n",
      " \n",
      "A\n",
      "t\n",
      "m\n",
      "t\n",
      "n\n",
      "['P', 'y', 't', 'h', 'n', ' ', 'A', 't', 'm', 't', 'n']\n",
      "11\n"
     ]
    }
   ],
   "source": [
    "s1='Python Automation'\n",
    "\n",
    "vovels='aeiou'\n",
    "\n",
    "z=[''.join(i) for i in s1 if i not in vovels]\n",
    "\n",
    "print(z)\n",
    "print(len(z))\n",
    "\n"
   ]
  },
  {
   "cell_type": "code",
   "execution_count": 48,
   "id": "b9a6adb4",
   "metadata": {},
   "outputs": [
    {
     "name": "stdout",
     "output_type": "stream",
     "text": [
      "['o', 'u', 'o', 'a', 'i', 'o']\n",
      "6\n",
      "['P', 'y', 't', 'h', 'n', ' ', 'A', 't', 'm', 't', 'n']\n",
      "Pythn Atmtn\n"
     ]
    }
   ],
   "source": [
    "s1='Python Automation'\n",
    "\n",
    "vovels='aeiou'\n",
    "\n",
    "z=[i for i in s1 if i in vovels]\n",
    "\n",
    "m=[i for i in s1 if i not in vovels]\n",
    "\n",
    "k=''.join(m)\n",
    "\n",
    "print(z)\n",
    "print(len(z))\n",
    "print(m)\n",
    "print(k)\n"
   ]
  },
  {
   "cell_type": "code",
   "execution_count": 42,
   "id": "aab6ba39",
   "metadata": {},
   "outputs": [
    {
     "name": "stdout",
     "output_type": "stream",
     "text": [
      "The original list is : ['P', 'y', 't', 'h', 'n', ' ', 'A', 't', 'm', 't', 'n']\n",
      "List after consecutive joining : ['Pyt', 'yth', 'thn', 'hn ', 'n A', ' At', 'Atm', 'tmt', 'mtn']\n",
      "The original list is : ['P', 'y', 't', 'h', 'n', ' ', 'A', 't', 'm', 't', 'n']\n",
      "List after consecutive joining : ['Pythn Atmtn', 'ythn Atmtn', 'thn Atmtn', 'hn Atmtn', 'n Atmtn', ' Atmtn', 'Atmtn', 'tmtn', 'mtn', 'tn', 'n']\n"
     ]
    }
   ],
   "source": [
    "# Python3 code to demonstrate \n",
    "# Consecutive K elements join in List\n",
    "# using List comprehension\n",
    "  \n",
    "# Initializing list\n",
    "#test_list = # Python3 code to demonstrate \n",
    "# Consecutive K elements join in List\n",
    "# using List comprehension\n",
    "  \n",
    "# Initializing list\n",
    "test_list = ['P', 'y', 't', 'h', 'n', ' ', 'A', 't', 'm', 't', 'n']\n",
    "  \n",
    "# printing original list\n",
    "print(\"The original list is : \" + str(test_list))\n",
    "  \n",
    "# Initializing K \n",
    "K = 3\n",
    "  \n",
    "# Consecutive K elements join in List\n",
    "# using List comprehension\n",
    "res = [ \"\".join(test_list[idx : idx + K]) for idx in range(len(test_list) - K + 1) ]\n",
    "              \n",
    "# printing result \n",
    "print (\"List after consecutive joining : \" + str(res))\n",
    "  \n",
    "# printing original list\n",
    "print(\"The original list is : \" + str(test_list))\n",
    "  \n",
    "# Initializing K \n",
    "K = 3\n",
    "  \n",
    "# Consecutive K elements join in List\n",
    "# using List comprehension\n",
    "res = [ \"\".join(test_list[idx : ]) for idx in range(len(test_list) ) ]\n",
    "              \n",
    "# printing result \n",
    "print (\"List after consecutive joining : \" + str(res))"
   ]
  },
  {
   "cell_type": "code",
   "execution_count": null,
   "id": "298bbc1a",
   "metadata": {},
   "outputs": [],
   "source": [
    "['P', 'y', 't', 'h', 'n', ' ', 'A', 't', 'm', 't', 'n']\n",
    "\n",
    "# output=['pythn Atmtn']"
   ]
  },
  {
   "cell_type": "code",
   "execution_count": 44,
   "id": "a586f504",
   "metadata": {},
   "outputs": [
    {
     "name": "stdout",
     "output_type": "stream",
     "text": [
      "The original list is : ['P', 'y', 't', 'h', 'n', ' ', 'A', 't', 'm', 't', 'n']\n",
      "List after consecutive joining : ['Pythn Atm', 'ythn Atmt', 'thn Atmtn']\n"
     ]
    }
   ],
   "source": [
    "\n",
    "# Python3 code to demonstrate \n",
    "# Consecutive K elements join in List\n",
    "# using loop\n",
    "  \n",
    "# Initializing list\n",
    "test_list = ['P', 'y', 't', 'h', 'n', ' ', 'A', 't', 'm', 't', 'n']\n",
    "  \n",
    "# printing original list\n",
    "print(\"The original list is : \" + str(test_list))\n",
    "  \n",
    "# Initializing K \n",
    "K =9\n",
    "  \n",
    "# Consecutive K elements join in List\n",
    "# using loop\n",
    "res = []\n",
    "for idx in range(0, len(test_list) - K + 1):\n",
    "    res.append(\"\".join(test_list[idx : idx + K]))\n",
    "              \n",
    "# printing result \n",
    "print (\"List after consecutive joining : \" + str(res))"
   ]
  },
  {
   "cell_type": "code",
   "execution_count": 46,
   "id": "1509330c",
   "metadata": {},
   "outputs": [
    {
     "name": "stdout",
     "output_type": "stream",
     "text": [
      "Pythn Atmtn\n"
     ]
    }
   ],
   "source": [
    "x=['P', 'y', 't', 'h', 'n', ' ', 'A', 't', 'm', 't', 'n']\n",
    "\n",
    "h=''.join(x)\n",
    "\n",
    "print(h)"
   ]
  },
  {
   "cell_type": "code",
   "execution_count": 53,
   "id": "dbdc89f5",
   "metadata": {},
   "outputs": [
    {
     "name": "stdout",
     "output_type": "stream",
     "text": [
      "['o', 'u', 'o', 'a', 'i', 'o']\n",
      "6\n",
      "['P', 'y', 't', 'h', 'n', ' ', 'A', 't', 'm', 't', 'n']\n",
      "Pythn Atmtn\n"
     ]
    }
   ],
   "source": [
    "s1='Python Automation'\n",
    "\n",
    "vovels='aeiou'\n",
    "\n",
    "z=[i for i in s1 if i in vovels]\n",
    "\n",
    "m=[i for i in s1 if i not in vovels]\n",
    "\n",
    "k=''.join(m)\n",
    "\n",
    "print(z)\n",
    "print(len(z))\n",
    "print(m)\n",
    "print(k)\n"
   ]
  },
  {
   "cell_type": "code",
   "execution_count": 4,
   "id": "219497a5",
   "metadata": {},
   "outputs": [],
   "source": [
    "city=['Pune','Mumbai']\n"
   ]
  },
  {
   "cell_type": "code",
   "execution_count": 6,
   "id": "138563d6",
   "metadata": {},
   "outputs": [
    {
     "name": "stdout",
     "output_type": "stream",
     "text": [
      "Pune Mumbai\n"
     ]
    }
   ],
   "source": [
    "print(*city)"
   ]
  },
  {
   "cell_type": "code",
   "execution_count": 1,
   "id": "8b14d793",
   "metadata": {},
   "outputs": [
    {
     "name": "stdout",
     "output_type": "stream",
     "text": [
      "['__add__', '__class__', '__contains__', '__delattr__', '__dir__', '__doc__', '__eq__', '__format__', '__ge__', '__getattribute__', '__getitem__', '__getnewargs__', '__gt__', '__hash__', '__init__', '__init_subclass__', '__iter__', '__le__', '__len__', '__lt__', '__mod__', '__mul__', '__ne__', '__new__', '__reduce__', '__reduce_ex__', '__repr__', '__rmod__', '__rmul__', '__setattr__', '__sizeof__', '__str__', '__subclasshook__', 'capitalize', 'casefold', 'center', 'count', 'encode', 'endswith', 'expandtabs', 'find', 'format', 'format_map', 'index', 'isalnum', 'isalpha', 'isascii', 'isdecimal', 'isdigit', 'isidentifier', 'islower', 'isnumeric', 'isprintable', 'isspace', 'istitle', 'isupper', 'join', 'ljust', 'lower', 'lstrip', 'maketrans', 'partition', 'replace', 'rfind', 'rindex', 'rjust', 'rpartition', 'rsplit', 'rstrip', 'split', 'splitlines', 'startswith', 'strip', 'swapcase', 'title', 'translate', 'upper', 'zfill']\n"
     ]
    }
   ],
   "source": [
    "print(dir(str))"
   ]
  },
  {
   "cell_type": "code",
   "execution_count": null,
   "id": "312abc9e",
   "metadata": {},
   "outputs": [],
   "source": []
  }
 ],
 "metadata": {
  "kernelspec": {
   "display_name": "Python 3",
   "language": "python",
   "name": "python3"
  },
  "language_info": {
   "codemirror_mode": {
    "name": "ipython",
    "version": 3
   },
   "file_extension": ".py",
   "mimetype": "text/x-python",
   "name": "python",
   "nbconvert_exporter": "python",
   "pygments_lexer": "ipython3",
   "version": "3.8.8"
  }
 },
 "nbformat": 4,
 "nbformat_minor": 5
}
