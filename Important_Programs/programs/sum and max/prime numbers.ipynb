{
 "cells": [
  {
   "cell_type": "markdown",
   "id": "08e474e5",
   "metadata": {},
   "source": [
    "## Write a program to print prime numbers"
   ]
  },
  {
   "cell_type": "markdown",
   "id": "31ee8bdc",
   "metadata": {},
   "source": [
    "=> Prime numbers is a Natural numbers>1\n",
    "=> Prime numbers have only two factors 1 and itself.\n",
    "=> If factors greater than two then this is not a prime number.\n",
    "\n",
    "ex:\n",
    "   3 => factors of 3 is: 3 and 1 only two factors => Prime number\n",
    "   28 => factors of 28 is: 1,2,4,5,8,10,20,40.  => More than 2 factors => Not Prime number\n",
    "   "
   ]
  },
  {
   "cell_type": "code",
   "execution_count": 17,
   "id": "39f909fb",
   "metadata": {},
   "outputs": [
    {
     "name": "stdout",
     "output_type": "stream",
     "text": [
      "Enter number: 89\n",
      "89 is prime number.\n"
     ]
    }
   ],
   "source": [
    "num=int(input(\"Enter number: \"))\n",
    "count=0\n",
    "for i in range(1,num+1):\n",
    "    if num%i==0:\n",
    "        count+=1\n",
    "if count==2:\n",
    "    print(\"{} is prime number.\".format(num))\n",
    "else:\n",
    "    print(\"{} is not prime number:\".format(num))\n"
   ]
  },
  {
   "cell_type": "markdown",
   "id": "475c7224",
   "metadata": {},
   "source": [
    "2, 3, 5, 7, 11, 13, 17, 19, 23, 29, 31, 37, 41, 43, 47, 53, 59, 61, 67, 71, 73, 79, 83, 89, 97."
   ]
  },
  {
   "cell_type": "code",
   "execution_count": null,
   "id": "2d4e5847",
   "metadata": {},
   "outputs": [],
   "source": []
  },
  {
   "cell_type": "code",
   "execution_count": null,
   "id": "eb636335",
   "metadata": {},
   "outputs": [],
   "source": []
  }
 ],
 "metadata": {
  "kernelspec": {
   "display_name": "Python 3",
   "language": "python",
   "name": "python3"
  },
  "language_info": {
   "codemirror_mode": {
    "name": "ipython",
    "version": 3
   },
   "file_extension": ".py",
   "mimetype": "text/x-python",
   "name": "python",
   "nbconvert_exporter": "python",
   "pygments_lexer": "ipython3",
   "version": "3.8.8"
  }
 },
 "nbformat": 4,
 "nbformat_minor": 5
}
