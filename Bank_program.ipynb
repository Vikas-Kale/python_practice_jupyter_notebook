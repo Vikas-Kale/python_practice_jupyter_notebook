{
 "cells": [
  {
   "cell_type": "code",
   "execution_count": 1,
   "id": "6c32122f",
   "metadata": {},
   "outputs": [],
   "source": [
    "def nums(*args):\n",
    "    print(args)"
   ]
  },
  {
   "cell_type": "code",
   "execution_count": 2,
   "id": "9b2d73d0",
   "metadata": {},
   "outputs": [
    {
     "name": "stdout",
     "output_type": "stream",
     "text": [
      "(1, 2, 4, 5, 6, 8)\n"
     ]
    }
   ],
   "source": [
    "nums(1,2,4,5,6,8)"
   ]
  },
  {
   "cell_type": "code",
   "execution_count": 3,
   "id": "51551724",
   "metadata": {},
   "outputs": [
    {
     "name": "stdout",
     "output_type": "stream",
     "text": [
      "('vikas', 'kale', [12, 14, 15, 80, 100])\n"
     ]
    }
   ],
   "source": [
    "nums('vikas','kale',[12,14,15,80,100])"
   ]
  },
  {
   "cell_type": "code",
   "execution_count": 5,
   "id": "dce3e161",
   "metadata": {},
   "outputs": [
    {
     "data": {
      "text/plain": [
       "function"
      ]
     },
     "execution_count": 5,
     "metadata": {},
     "output_type": "execute_result"
    }
   ],
   "source": [
    "type(nums)"
   ]
  },
  {
   "cell_type": "code",
   "execution_count": 6,
   "id": "3f9b14f1",
   "metadata": {},
   "outputs": [],
   "source": [
    "def student_info(**kwrgs):\n",
    "    print(kwrgs)"
   ]
  },
  {
   "cell_type": "code",
   "execution_count": 8,
   "id": "3fc146a2",
   "metadata": {},
   "outputs": [
    {
     "name": "stdout",
     "output_type": "stream",
     "text": [
      "{'name': 'vikas', 'village': 'Keshegaon'}\n"
     ]
    }
   ],
   "source": [
    "student_info(name='vikas',village='Keshegaon')"
   ]
  },
  {
   "cell_type": "code",
   "execution_count": 1,
   "id": "be590f98",
   "metadata": {},
   "outputs": [
    {
     "name": "stdout",
     "output_type": "stream",
     "text": [
      "Student Details:- {'Name': 'Vikas', 'Courese': 'Python', 'Duration': 'two months'}\n"
     ]
    }
   ],
   "source": [
    "def student_details(info):\n",
    "    print(\"Student Details:-\",info)\n",
    "\n",
    "details={'Name':'Vikas','Courese':\"Python\",'Duration':\"two months\"}\n",
    "student_details(details)"
   ]
  },
  {
   "cell_type": "code",
   "execution_count": null,
   "id": "7a63f170",
   "metadata": {},
   "outputs": [],
   "source": []
  }
 ],
 "metadata": {
  "kernelspec": {
   "display_name": "Python 3",
   "language": "python",
   "name": "python3"
  },
  "language_info": {
   "codemirror_mode": {
    "name": "ipython",
    "version": 3
   },
   "file_extension": ".py",
   "mimetype": "text/x-python",
   "name": "python",
   "nbconvert_exporter": "python",
   "pygments_lexer": "ipython3",
   "version": "3.8.8"
  }
 },
 "nbformat": 4,
 "nbformat_minor": 5
}
