{
 "cells": [
  {
   "cell_type": "markdown",
   "id": "1fce349f",
   "metadata": {},
   "source": [
    "# Sum of Each Digit"
   ]
  },
  {
   "cell_type": "code",
   "execution_count": 1,
   "id": "b9f1215e",
   "metadata": {},
   "outputs": [
    {
     "name": "stdout",
     "output_type": "stream",
     "text": [
      "15\n"
     ]
    }
   ],
   "source": [
    "num=12345\n",
    "sum=0\n",
    "while num>0:\n",
    "    x=num%10\n",
    "    sum=sum+x\n",
    "    num=num//10\n",
    "print(sum)"
   ]
  },
  {
   "cell_type": "markdown",
   "id": "9b6d2e7e",
   "metadata": {},
   "source": [
    "# In list"
   ]
  },
  {
   "cell_type": "code",
   "execution_count": 12,
   "id": "5c20d1d3",
   "metadata": {},
   "outputs": [
    {
     "name": "stdout",
     "output_type": "stream",
     "text": [
      "[6, 10, 21, 27, 24]\n",
      "27\n"
     ]
    }
   ],
   "source": [
    "lst1=[123,55,777,999,888]\n",
    "result=[]\n",
    "\n",
    "for ele in lst1:\n",
    "    sum=0\n",
    "    for digit in str(ele):\n",
    "        sum= sum+int(digit)\n",
    "    result.append(sum)\n",
    "        \n",
    "print(result)\n",
    "# print(max(result))\n",
    "\n",
    "max=0\n",
    "for i in result:\n",
    "    if i > max:\n",
    "        max=i\n",
    "        \n",
    "print(max)\n",
    "    \n",
    "        \n",
    "        "
   ]
  },
  {
   "cell_type": "markdown",
   "id": "496d1d3e",
   "metadata": {},
   "source": [
    "## using For and while loop"
   ]
  },
  {
   "cell_type": "code",
   "execution_count": 3,
   "id": "b985caba",
   "metadata": {},
   "outputs": [
    {
     "name": "stdout",
     "output_type": "stream",
     "text": [
      "27\n"
     ]
    }
   ],
   "source": [
    "a=[123,567,777,888,999,1000]\n",
    "a1=[]\n",
    "\n",
    "for i in a:\n",
    "    result=0\n",
    "    while i > 0:\n",
    "        x=i%10\n",
    "        result=result+x\n",
    "        i=i//10\n",
    "    a1.append(result)\n",
    "print(max(a1))\n"
   ]
  },
  {
   "cell_type": "code",
   "execution_count": 2,
   "id": "d9ac21d7",
   "metadata": {},
   "outputs": [
    {
     "name": "stdout",
     "output_type": "stream",
     "text": [
      "6\n",
      "14\n",
      "17\n",
      "10\n"
     ]
    }
   ],
   "source": [
    "lst1=[123,455,89,55]\n",
    "lst2=[]\n",
    "for i in lst1:\n",
    "    result=0\n",
    "    while i>0:\n",
    "        a=i%10\n",
    "        result=result+a\n",
    "        i=i//10\n",
    "    print(result)      "
   ]
  },
  {
   "cell_type": "code",
   "execution_count": 1,
   "id": "865b255b",
   "metadata": {},
   "outputs": [
    {
     "name": "stdout",
     "output_type": "stream",
     "text": [
      "17\n"
     ]
    }
   ],
   "source": [
    "lst1=[123,455,89,55] \n",
    "lst2=[]\n",
    "for i in lst1: \n",
    "    result=0 \n",
    "    while i>0: \n",
    "        a=i%10 \n",
    "        result=result+a \n",
    "        i=i//10 \n",
    "    lst2.append(result)\n",
    "print(max(lst2))"
   ]
  },
  {
   "cell_type": "code",
   "execution_count": 4,
   "id": "9c893014",
   "metadata": {},
   "outputs": [
    {
     "name": "stdout",
     "output_type": "stream",
     "text": [
      "26\n"
     ]
    }
   ],
   "source": [
    "num1=5678\n",
    "result=0\n",
    "while num1 > 0:\n",
    "    st=num1%10\n",
    "    result=result+st\n",
    "    num1=num1//10     # // truncating division.\n",
    "print(result)"
   ]
  },
  {
   "cell_type": "code",
   "execution_count": 5,
   "id": "87c27717",
   "metadata": {},
   "outputs": [
    {
     "name": "stdout",
     "output_type": "stream",
     "text": [
      "512\n",
      "890\n",
      "777\n",
      "450\n"
     ]
    }
   ],
   "source": [
    "num2=512,890,777,450\n",
    "for i in num2:\n",
    "    print(i)"
   ]
  },
  {
   "cell_type": "code",
   "execution_count": 9,
   "id": "29796425",
   "metadata": {},
   "outputs": [
    {
     "ename": "TypeError",
     "evalue": "'>' not supported between instances of 'tuple' and 'int'",
     "output_type": "error",
     "traceback": [
      "\u001b[1;31m---------------------------------------------------------------------------\u001b[0m",
      "\u001b[1;31mTypeError\u001b[0m                                 Traceback (most recent call last)",
      "\u001b[1;32m<ipython-input-9-7f0aa2a65ed7>\u001b[0m in \u001b[0;36m<module>\u001b[1;34m\u001b[0m\n\u001b[0;32m      2\u001b[0m \u001b[0mre\u001b[0m\u001b[1;33m=\u001b[0m\u001b[1;33m[\u001b[0m\u001b[1;36m0\u001b[0m\u001b[1;33m]\u001b[0m\u001b[1;33m\u001b[0m\u001b[1;33m\u001b[0m\u001b[0m\n\u001b[0;32m      3\u001b[0m \u001b[1;33m\u001b[0m\u001b[0m\n\u001b[1;32m----> 4\u001b[1;33m \u001b[1;32mwhile\u001b[0m \u001b[0mnum2\u001b[0m\u001b[1;33m>\u001b[0m\u001b[1;36m0\u001b[0m\u001b[1;33m:\u001b[0m\u001b[1;33m\u001b[0m\u001b[1;33m\u001b[0m\u001b[0m\n\u001b[0m\u001b[0;32m      5\u001b[0m     \u001b[0ms\u001b[0m\u001b[1;33m=\u001b[0m\u001b[0mnum2\u001b[0m\u001b[1;33m%\u001b[0m\u001b[1;36m10\u001b[0m\u001b[1;33m\u001b[0m\u001b[1;33m\u001b[0m\u001b[0m\n\u001b[0;32m      6\u001b[0m     \u001b[0mre\u001b[0m\u001b[1;33m.\u001b[0m\u001b[0mappend\u001b[0m\u001b[1;33m(\u001b[0m\u001b[0ms\u001b[0m\u001b[1;33m)\u001b[0m\u001b[1;33m\u001b[0m\u001b[1;33m\u001b[0m\u001b[0m\n",
      "\u001b[1;31mTypeError\u001b[0m: '>' not supported between instances of 'tuple' and 'int'"
     ]
    }
   ],
   "source": [
    "num2=512,890,777,450\n",
    "re=[0]\n",
    "\n",
    "while num2>0:\n",
    "    s=num2%10\n",
    "    re.append(s)\n",
    "    num2=num2//10\n",
    "print(re)"
   ]
  },
  {
   "cell_type": "markdown",
   "id": "f0cb2faf",
   "metadata": {},
   "source": [
    "#### type of numbers 1,2,3,4,5 is tuple"
   ]
  },
  {
   "cell_type": "code",
   "execution_count": 7,
   "id": "92e042bf",
   "metadata": {},
   "outputs": [
    {
     "data": {
      "text/plain": [
       "tuple"
      ]
     },
     "execution_count": 7,
     "metadata": {},
     "output_type": "execute_result"
    }
   ],
   "source": [
    "num2=512,890,777,450\n",
    "type(num2)"
   ]
  },
  {
   "cell_type": "code",
   "execution_count": 13,
   "id": "2290848c",
   "metadata": {},
   "outputs": [],
   "source": [
    "num2=(512,890,777,450)\n",
    "num2=list(num2)"
   ]
  },
  {
   "cell_type": "code",
   "execution_count": 14,
   "id": "65190339",
   "metadata": {},
   "outputs": [
    {
     "name": "stdout",
     "output_type": "stream",
     "text": [
      "['__add__', '__class__', '__contains__', '__delattr__', '__delitem__', '__dir__', '__doc__', '__eq__', '__format__', '__ge__', '__getattribute__', '__getitem__', '__gt__', '__hash__', '__iadd__', '__imul__', '__init__', '__init_subclass__', '__iter__', '__le__', '__len__', '__lt__', '__mul__', '__ne__', '__new__', '__reduce__', '__reduce_ex__', '__repr__', '__reversed__', '__rmul__', '__setattr__', '__setitem__', '__sizeof__', '__str__', '__subclasshook__', 'append', 'clear', 'copy', 'count', 'extend', 'index', 'insert', 'pop', 'remove', 'reverse', 'sort']\n"
     ]
    }
   ],
   "source": [
    "print(dir(num2))"
   ]
  },
  {
   "cell_type": "code",
   "execution_count": 19,
   "id": "2a32b236",
   "metadata": {},
   "outputs": [
    {
     "name": "stdout",
     "output_type": "stream",
     "text": [
      "[8, 17, 21, 9]\n",
      "21\n"
     ]
    }
   ],
   "source": [
    "num2=(512,890,777,450)\n",
    "num2=list(num2)\n",
    "num3=[]\n",
    "\n",
    "for ele in num2:\n",
    "    sum=0\n",
    "    for digit in str(ele):\n",
    "        sum=sum+int(digit)\n",
    "    num3.append(sum)\n",
    "print(num3)\n",
    "print(max(num3))\n",
    "        "
   ]
  },
  {
   "cell_type": "code",
   "execution_count": 20,
   "id": "f92f5476",
   "metadata": {},
   "outputs": [],
   "source": [
    "num4={512,890,777,450}\n",
    "        "
   ]
  },
  {
   "cell_type": "code",
   "execution_count": 21,
   "id": "93e32722",
   "metadata": {},
   "outputs": [
    {
     "name": "stdout",
     "output_type": "stream",
     "text": [
      "['__and__', '__class__', '__contains__', '__delattr__', '__dir__', '__doc__', '__eq__', '__format__', '__ge__', '__getattribute__', '__gt__', '__hash__', '__iand__', '__init__', '__init_subclass__', '__ior__', '__isub__', '__iter__', '__ixor__', '__le__', '__len__', '__lt__', '__ne__', '__new__', '__or__', '__rand__', '__reduce__', '__reduce_ex__', '__repr__', '__ror__', '__rsub__', '__rxor__', '__setattr__', '__sizeof__', '__str__', '__sub__', '__subclasshook__', '__xor__', 'add', 'clear', 'copy', 'difference', 'difference_update', 'discard', 'intersection', 'intersection_update', 'isdisjoint', 'issubset', 'issuperset', 'pop', 'remove', 'symmetric_difference', 'symmetric_difference_update', 'union', 'update']\n"
     ]
    }
   ],
   "source": [
    "print(dir(num4))"
   ]
  },
  {
   "cell_type": "code",
   "execution_count": 22,
   "id": "6d30f7c9",
   "metadata": {},
   "outputs": [],
   "source": [
    "num4={512,890,777,450}\n",
    "num4=list(num4)"
   ]
  },
  {
   "cell_type": "code",
   "execution_count": 23,
   "id": "0bb2ccd4",
   "metadata": {},
   "outputs": [
    {
     "name": "stdout",
     "output_type": "stream",
     "text": [
      "['__add__', '__class__', '__contains__', '__delattr__', '__delitem__', '__dir__', '__doc__', '__eq__', '__format__', '__ge__', '__getattribute__', '__getitem__', '__gt__', '__hash__', '__iadd__', '__imul__', '__init__', '__init_subclass__', '__iter__', '__le__', '__len__', '__lt__', '__mul__', '__ne__', '__new__', '__reduce__', '__reduce_ex__', '__repr__', '__reversed__', '__rmul__', '__setattr__', '__setitem__', '__sizeof__', '__str__', '__subclasshook__', 'append', 'clear', 'copy', 'count', 'extend', 'index', 'insert', 'pop', 'remove', 'reverse', 'sort']\n"
     ]
    }
   ],
   "source": [
    "print(dir(num4))"
   ]
  },
  {
   "cell_type": "code",
   "execution_count": 4,
   "id": "22bfb14f",
   "metadata": {},
   "outputs": [
    {
     "name": "stdout",
     "output_type": "stream",
     "text": [
      "21\n"
     ]
    }
   ],
   "source": [
    "num4={512,890,777,450}\n",
    "num4=list(num4)\n",
    "result1=[]\n",
    "\n",
    "for ele in num4:\n",
    "    sum1=0\n",
    "    for digit in str(ele):\n",
    "        sum1=sum1+int(digit)\n",
    "#     print(sum1)\n",
    "    result1.append(sum1)\n",
    "max=0\n",
    "for i in result1:\n",
    "    if i >max:\n",
    "        max=i\n",
    "print(max)"
   ]
  },
  {
   "cell_type": "markdown",
   "id": "736d08da",
   "metadata": {},
   "source": [
    "# max of digits"
   ]
  },
  {
   "cell_type": "code",
   "execution_count": 6,
   "id": "82a4da97",
   "metadata": {},
   "outputs": [
    {
     "name": "stdout",
     "output_type": "stream",
     "text": [
      "6\n"
     ]
    }
   ],
   "source": [
    "num=125632\n",
    "\n",
    "re=0\n",
    "while num >0:\n",
    "    s1=num%10\n",
    "    if s1 > re:\n",
    "        re=s1\n",
    "    num=num//10\n",
    "        \n",
    "print(re)"
   ]
  },
  {
   "cell_type": "code",
   "execution_count": 8,
   "id": "375293a4",
   "metadata": {},
   "outputs": [
    {
     "name": "stdout",
     "output_type": "stream",
     "text": [
      "Enter number: 1284536907\n",
      "Max digit is:  9\n"
     ]
    }
   ],
   "source": [
    "num=int(input(\"Enter number: \"))\n",
    "re=0\n",
    "while num > 0:\n",
    "    a=num%10\n",
    "    if a > re:\n",
    "        re=a\n",
    "    num=num//10\n",
    "print(\"Max digit is: \",re)"
   ]
  },
  {
   "cell_type": "code",
   "execution_count": null,
   "id": "f5607f6c",
   "metadata": {},
   "outputs": [],
   "source": []
  }
 ],
 "metadata": {
  "kernelspec": {
   "display_name": "Python 3",
   "language": "python",
   "name": "python3"
  },
  "language_info": {
   "codemirror_mode": {
    "name": "ipython",
    "version": 3
   },
   "file_extension": ".py",
   "mimetype": "text/x-python",
   "name": "python",
   "nbconvert_exporter": "python",
   "pygments_lexer": "ipython3",
   "version": "3.8.8"
  }
 },
 "nbformat": 4,
 "nbformat_minor": 5
}
