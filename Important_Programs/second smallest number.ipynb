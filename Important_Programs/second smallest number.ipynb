{
 "cells": [
  {
   "cell_type": "code",
   "execution_count": 2,
   "id": "2f68cf8f",
   "metadata": {},
   "outputs": [
    {
     "name": "stdout",
     "output_type": "stream",
     "text": [
      "First smallest num is:  1\n",
      "Second smallest num is:  2\n"
     ]
    }
   ],
   "source": [
    "num=[12,15,1,2,5,7,9,22]\n",
    "c=min(num)\n",
    "f=print(\"First smallest num is: \",c)\n",
    "d=num.remove(c)\n",
    "e=min(num)\n",
    "print(\"Second smallest num is: \",e)"
   ]
  },
  {
   "cell_type": "code",
   "execution_count": 12,
   "id": "52d6ca04",
   "metadata": {},
   "outputs": [
    {
     "name": "stdout",
     "output_type": "stream",
     "text": [
      "Second smallest num is: 2\n"
     ]
    }
   ],
   "source": [
    "xyz=[12,15,1,2,5,7,9,22]\n",
    "s=sorted(xyz)\n",
    "print(\"Second smallest num is:\",s[1])"
   ]
  },
  {
   "cell_type": "code",
   "execution_count": 8,
   "id": "ddc53115",
   "metadata": {},
   "outputs": [
    {
     "name": "stdout",
     "output_type": "stream",
     "text": [
      "Help on method_descriptor:\n",
      "\n",
      "sort(self, /, *, key=None, reverse=False)\n",
      "    Sort the list in ascending order and return None.\n",
      "    \n",
      "    The sort is in-place (i.e. the list itself is modified) and stable (i.e. the\n",
      "    order of two equal elements is maintained).\n",
      "    \n",
      "    If a key function is given, apply it once to each list item and sort them,\n",
      "    ascending or descending, according to their function values.\n",
      "    \n",
      "    The reverse flag can be set to sort in descending order.\n",
      "\n"
     ]
    }
   ],
   "source": [
    "help(list.sort)"
   ]
  },
  {
   "cell_type": "code",
   "execution_count": 14,
   "id": "cbb36b72",
   "metadata": {},
   "outputs": [
    {
     "name": "stdout",
     "output_type": "stream",
     "text": [
      "Eneter numbers: 5\n",
      "Eneter numbers: 8\n",
      "Eneter numbers: 12\n",
      "Eneter numbers: 80\n",
      "Eneter numbers: 2\n",
      "[5, 8, 12, 80, 2]\n",
      "[2, 5, 8, 12, 80]\n",
      "Largest element:  80\n",
      "smallest element:  2\n",
      "second smallest number:  5\n"
     ]
    }
   ],
   "source": [
    "lst1=[]\n",
    "for i in range(5):\n",
    "    df=int(input(\"Eneter numbers: \"))\n",
    "    ac=lst1.append(df)\n",
    "    \n",
    "print(lst1)\n",
    "h=sorted(lst1)\n",
    "print(h)\n",
    "large=h[4]\n",
    "print(\"Largest element: \",large)\n",
    "smalle=h[0]\n",
    "print(\"smallest element: \",smalle)\n",
    "sec_small=h[1]\n",
    "print(\"second smallest number: \",sec_small)\n",
    "    "
   ]
  },
  {
   "cell_type": "code",
   "execution_count": null,
   "id": "a59b18da",
   "metadata": {},
   "outputs": [],
   "source": []
  }
 ],
 "metadata": {
  "kernelspec": {
   "display_name": "Python 3",
   "language": "python",
   "name": "python3"
  },
  "language_info": {
   "codemirror_mode": {
    "name": "ipython",
    "version": 3
   },
   "file_extension": ".py",
   "mimetype": "text/x-python",
   "name": "python",
   "nbconvert_exporter": "python",
   "pygments_lexer": "ipython3",
   "version": "3.8.8"
  }
 },
 "nbformat": 4,
 "nbformat_minor": 5
}
