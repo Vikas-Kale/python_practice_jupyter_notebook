{
 "cells": [
  {
   "cell_type": "code",
   "execution_count": 1,
   "id": "a9468344",
   "metadata": {},
   "outputs": [],
   "source": [
    "class Test:\n",
    "    num=100\n",
    "    \n",
    "    def _showdata(self):\n",
    "        print(\"In protected showdata of Test class!\")"
   ]
  },
  {
   "cell_type": "code",
   "execution_count": 2,
   "id": "26de0514",
   "metadata": {},
   "outputs": [],
   "source": [
    "t1=Test()"
   ]
  },
  {
   "cell_type": "code",
   "execution_count": 3,
   "id": "5131037b",
   "metadata": {},
   "outputs": [
    {
     "data": {
      "text/plain": [
       "100"
      ]
     },
     "execution_count": 3,
     "metadata": {},
     "output_type": "execute_result"
    }
   ],
   "source": [
    "t1.num"
   ]
  },
  {
   "cell_type": "code",
   "execution_count": 5,
   "id": "e56f51f0",
   "metadata": {},
   "outputs": [
    {
     "name": "stdout",
     "output_type": "stream",
     "text": [
      "In protected showdata of Test class!\n"
     ]
    }
   ],
   "source": [
    "t1._showdata()"
   ]
  },
  {
   "cell_type": "code",
   "execution_count": 22,
   "id": "ef7f29fd",
   "metadata": {},
   "outputs": [],
   "source": [
    "class Test:\n",
    "    num=100\n",
    "    \n",
    "    def _showdata(self):\n",
    "        print(\"showdata is protected method of test class!\")\n",
    "        \n",
    "class Student:\n",
    "    def printdata(self):\n",
    "        print(\"printdata is protected method of student class\")"
   ]
  },
  {
   "cell_type": "code",
   "execution_count": 7,
   "id": "bafafc43",
   "metadata": {},
   "outputs": [],
   "source": [
    "t2=Student()"
   ]
  },
  {
   "cell_type": "code",
   "execution_count": 8,
   "id": "67b90e00",
   "metadata": {},
   "outputs": [
    {
     "name": "stdout",
     "output_type": "stream",
     "text": [
      "printdata is protected method of student class\n"
     ]
    }
   ],
   "source": [
    "t2.printdata()"
   ]
  },
  {
   "cell_type": "code",
   "execution_count": 9,
   "id": "b9e4856f",
   "metadata": {},
   "outputs": [
    {
     "ename": "AttributeError",
     "evalue": "'Student' object has no attribute '_showdata'",
     "output_type": "error",
     "traceback": [
      "\u001b[1;31m---------------------------------------------------------------------------\u001b[0m",
      "\u001b[1;31mAttributeError\u001b[0m                            Traceback (most recent call last)",
      "\u001b[1;32m<ipython-input-9-cbd9fe7a563e>\u001b[0m in \u001b[0;36m<module>\u001b[1;34m\u001b[0m\n\u001b[1;32m----> 1\u001b[1;33m \u001b[0mt2\u001b[0m\u001b[1;33m.\u001b[0m\u001b[0m_showdata\u001b[0m\u001b[1;33m(\u001b[0m\u001b[1;33m)\u001b[0m\u001b[1;33m\u001b[0m\u001b[1;33m\u001b[0m\u001b[0m\n\u001b[0m",
      "\u001b[1;31mAttributeError\u001b[0m: 'Student' object has no attribute '_showdata'"
     ]
    }
   ],
   "source": [
    "t2._showdata()"
   ]
  },
  {
   "cell_type": "code",
   "execution_count": 10,
   "id": "9b39783e",
   "metadata": {},
   "outputs": [
    {
     "name": "stdout",
     "output_type": "stream",
     "text": [
      "['__class__', '__delattr__', '__dict__', '__dir__', '__doc__', '__eq__', '__format__', '__ge__', '__getattribute__', '__gt__', '__hash__', '__init__', '__init_subclass__', '__le__', '__lt__', '__module__', '__ne__', '__new__', '__reduce__', '__reduce_ex__', '__repr__', '__setattr__', '__sizeof__', '__str__', '__subclasshook__', '__weakref__', 'printdata']\n"
     ]
    }
   ],
   "source": [
    "print(dir(t2))"
   ]
  },
  {
   "cell_type": "code",
   "execution_count": 23,
   "id": "1d8024f8",
   "metadata": {},
   "outputs": [],
   "source": [
    "b1=Test()"
   ]
  },
  {
   "cell_type": "code",
   "execution_count": 24,
   "id": "8195c6a3",
   "metadata": {},
   "outputs": [
    {
     "name": "stdout",
     "output_type": "stream",
     "text": [
      "showdata is protected method of test class!\n"
     ]
    }
   ],
   "source": [
    "b1._showdata()"
   ]
  },
  {
   "cell_type": "code",
   "execution_count": 25,
   "id": "089d61a6",
   "metadata": {},
   "outputs": [
    {
     "ename": "AttributeError",
     "evalue": "'Test' object has no attribute 'printdata'",
     "output_type": "error",
     "traceback": [
      "\u001b[1;31m---------------------------------------------------------------------------\u001b[0m",
      "\u001b[1;31mAttributeError\u001b[0m                            Traceback (most recent call last)",
      "\u001b[1;32m<ipython-input-25-4c76b5a88ee0>\u001b[0m in \u001b[0;36m<module>\u001b[1;34m\u001b[0m\n\u001b[1;32m----> 1\u001b[1;33m \u001b[0mb1\u001b[0m\u001b[1;33m.\u001b[0m\u001b[0mprintdata\u001b[0m\u001b[1;33m(\u001b[0m\u001b[1;33m)\u001b[0m\u001b[1;33m\u001b[0m\u001b[1;33m\u001b[0m\u001b[0m\n\u001b[0m",
      "\u001b[1;31mAttributeError\u001b[0m: 'Test' object has no attribute 'printdata'"
     ]
    }
   ],
   "source": [
    "b1.printdata()"
   ]
  },
  {
   "cell_type": "code",
   "execution_count": null,
   "id": "11e1dd68",
   "metadata": {},
   "outputs": [],
   "source": []
  },
  {
   "cell_type": "code",
   "execution_count": null,
   "id": "82fac24a",
   "metadata": {},
   "outputs": [],
   "source": []
  },
  {
   "cell_type": "code",
   "execution_count": 11,
   "id": "a0a0630e",
   "metadata": {},
   "outputs": [],
   "source": [
    "class Test:\n",
    "    __num=100\n",
    "    \n",
    "    def __showdata(self):\n",
    "        print(\"showdata is protected method of test class\")\n",
    "\n",
    "class Student(Test):\n",
    "    def printdata(self):\n",
    "        print(\"printdata is public method\")"
   ]
  },
  {
   "cell_type": "code",
   "execution_count": 12,
   "id": "562fc929",
   "metadata": {},
   "outputs": [],
   "source": [
    "s1=Student()"
   ]
  },
  {
   "cell_type": "code",
   "execution_count": 13,
   "id": "a1abbb99",
   "metadata": {},
   "outputs": [
    {
     "name": "stdout",
     "output_type": "stream",
     "text": [
      "printdata is public method\n"
     ]
    }
   ],
   "source": [
    "s1.printdata()"
   ]
  },
  {
   "cell_type": "code",
   "execution_count": 14,
   "id": "474e2562",
   "metadata": {},
   "outputs": [
    {
     "ename": "AttributeError",
     "evalue": "'Student' object has no attribute '__showdata'",
     "output_type": "error",
     "traceback": [
      "\u001b[1;31m---------------------------------------------------------------------------\u001b[0m",
      "\u001b[1;31mAttributeError\u001b[0m                            Traceback (most recent call last)",
      "\u001b[1;32m<ipython-input-14-b6ab4d448bb4>\u001b[0m in \u001b[0;36m<module>\u001b[1;34m\u001b[0m\n\u001b[1;32m----> 1\u001b[1;33m \u001b[0ms1\u001b[0m\u001b[1;33m.\u001b[0m\u001b[0m__showdata\u001b[0m\u001b[1;33m(\u001b[0m\u001b[1;33m)\u001b[0m\u001b[1;33m\u001b[0m\u001b[1;33m\u001b[0m\u001b[0m\n\u001b[0m",
      "\u001b[1;31mAttributeError\u001b[0m: 'Student' object has no attribute '__showdata'"
     ]
    }
   ],
   "source": [
    "s1.__showdata()"
   ]
  },
  {
   "cell_type": "code",
   "execution_count": 15,
   "id": "4165f97a",
   "metadata": {},
   "outputs": [
    {
     "name": "stdout",
     "output_type": "stream",
     "text": [
      "['_Test__num', '_Test__showdata', '__class__', '__delattr__', '__dict__', '__dir__', '__doc__', '__eq__', '__format__', '__ge__', '__getattribute__', '__gt__', '__hash__', '__init__', '__init_subclass__', '__le__', '__lt__', '__module__', '__ne__', '__new__', '__reduce__', '__reduce_ex__', '__repr__', '__setattr__', '__sizeof__', '__str__', '__subclasshook__', '__weakref__', 'printdata']\n"
     ]
    }
   ],
   "source": [
    "print(dir(s1))"
   ]
  },
  {
   "cell_type": "code",
   "execution_count": 17,
   "id": "dd9f6d9a",
   "metadata": {},
   "outputs": [
    {
     "data": {
      "text/plain": [
       "100"
      ]
     },
     "execution_count": 17,
     "metadata": {},
     "output_type": "execute_result"
    }
   ],
   "source": [
    "s1._Test__num"
   ]
  },
  {
   "cell_type": "code",
   "execution_count": 19,
   "id": "5e9262f7",
   "metadata": {},
   "outputs": [
    {
     "name": "stdout",
     "output_type": "stream",
     "text": [
      "showdata is protected method of test class\n"
     ]
    }
   ],
   "source": [
    "s1._Test__showdata()"
   ]
  },
  {
   "cell_type": "code",
   "execution_count": null,
   "id": "f4e387c0",
   "metadata": {},
   "outputs": [],
   "source": [
    "user_details=[{'admin':'12345@admin','user':'user@user'}]\n",
    "\n",
    "def validate_user(func):\n",
    "    def is_valid(user_name,password):\n",
    "        count=0\n",
    "        \n",
    "        for ele in user_details:\n",
    "            for usr_username,usr_password"
   ]
  },
  {
   "cell_type": "code",
   "execution_count": 26,
   "id": "f872c64f",
   "metadata": {},
   "outputs": [],
   "source": [
    "from getpass import getpass"
   ]
  },
  {
   "cell_type": "code",
   "execution_count": 27,
   "id": "88694d5e",
   "metadata": {},
   "outputs": [
    {
     "name": "stdout",
     "output_type": "stream",
     "text": [
      "['__call__', '__class__', '__delattr__', '__dir__', '__doc__', '__eq__', '__format__', '__func__', '__ge__', '__get__', '__getattribute__', '__gt__', '__hash__', '__init__', '__init_subclass__', '__le__', '__lt__', '__ne__', '__new__', '__reduce__', '__reduce_ex__', '__repr__', '__self__', '__setattr__', '__sizeof__', '__str__', '__subclasshook__']\n"
     ]
    }
   ],
   "source": [
    "print(dir(getpass))"
   ]
  },
  {
   "cell_type": "code",
   "execution_count": 1,
   "id": "bb5b5f43",
   "metadata": {},
   "outputs": [],
   "source": [
    "from getpass import getpass"
   ]
  },
  {
   "cell_type": "code",
   "execution_count": 3,
   "id": "b8b46a67",
   "metadata": {},
   "outputs": [
    {
     "name": "stdout",
     "output_type": "stream",
     "text": [
      "Help on method getpass in module ipykernel.kernelbase:\n",
      "\n",
      "getpass(prompt='', stream=None) method of ipykernel.ipkernel.IPythonKernel instance\n",
      "    Forward getpass to frontends\n",
      "    \n",
      "    Raises\n",
      "    ------\n",
      "    StdinNotImplentedError if active frontend doesn't support stdin.\n",
      "\n"
     ]
    }
   ],
   "source": [
    "help(getpass)"
   ]
  },
  {
   "cell_type": "code",
   "execution_count": null,
   "id": "170563c7",
   "metadata": {},
   "outputs": [],
   "source": [
    "help(\"modules\")"
   ]
  },
  {
   "cell_type": "code",
   "execution_count": 87,
   "id": "e0d9871b",
   "metadata": {},
   "outputs": [],
   "source": [
    "from datetime import datetime\n",
    "\n",
    "class Bank:\n",
    "    def _generate_account_no(self):\n",
    "        \"\"\"\n",
    "        Generate account number and return it.\n",
    "        \"\"\"\n",
    "        return datetime.now().strftime(\"SBI%Y%m%d%S\")\n",
    "    \n",
    "    \n",
    "    user_details = [{'username':\"Vikas\",'password':\"vikas@1234\" }]\n",
    "\n",
    "    def validate_user(func):\n",
    "        def is_valid(self,username, password):\n",
    "            count = 0\n",
    "            for ele in user_details:\n",
    "                for usr_name, usr_password in ele.items():\n",
    "                    if usr_name == username and usr_password == password:\n",
    "                        print(\"############ WELCOME TO BANK #############\")\n",
    "                        count=1\n",
    "                        func(username,password)\n",
    "                else:\n",
    "                        \n",
    "                    print(\"########## Not valid user ###########\")\n",
    "        return is_valid\n",
    "    \n",
    "    \n",
    "    @validate_user\n",
    "    def _auth(username, password):\n",
    "        print(\"###### Now your are logged in to BANK ########\")\n",
    "    \n",
    "    def __check_balance(self, username, password):\n",
    "        \"\"\"\n",
    "        Validate user and password and print total avaliable balance in bank.\n",
    "        \"\"\"\n",
    "        pass\n",
    "    \n",
    "    def create_account(self):\n",
    "        \"\"\"\n",
    "        Override this method inside a child class Customer.\n",
    "        \"\"\"\n",
    "        pass\n",
    "    \n",
    "class Customer(Bank):\n",
    "    def create_account(self, name, account_type, password, amount):\n",
    "        \"\"\"\n",
    "        Take username, account_type, amount, password, and return Account No\n",
    "        \"\"\"\n",
    "        pass\n",
    "    \n",
    "    def __check_balance(self, account_no, password):\n",
    "        \"\"\"\n",
    "        Check balance based on account_no and password.\n",
    "        If one of the value is flase return not valid user.\n",
    "        \"\"\"\n",
    "        pass\n",
    "    \n",
    "    def deposit(self, account_no, password, amount):\n",
    "        \"\"\"\n",
    "        Deposit amount based on account no\n",
    "        \"\"\"\n",
    "        pass\n",
    "    \n",
    "    def __withdraw(self, account_no, password, amount):\n",
    "        \"\"\"\n",
    "        withdraw amount based on account no\n",
    "        \"\"\"\n",
    "        pass\n"
   ]
  },
  {
   "cell_type": "code",
   "execution_count": 88,
   "id": "18c3fb32",
   "metadata": {},
   "outputs": [],
   "source": [
    "b1=Bank()"
   ]
  },
  {
   "cell_type": "code",
   "execution_count": 89,
   "id": "f93cb879",
   "metadata": {},
   "outputs": [
    {
     "name": "stdout",
     "output_type": "stream",
     "text": [
      "['_Bank__check_balance', '__class__', '__delattr__', '__dict__', '__dir__', '__doc__', '__eq__', '__format__', '__ge__', '__getattribute__', '__gt__', '__hash__', '__init__', '__init_subclass__', '__le__', '__lt__', '__module__', '__ne__', '__new__', '__reduce__', '__reduce_ex__', '__repr__', '__setattr__', '__sizeof__', '__str__', '__subclasshook__', '__weakref__', '_auth', '_generate_account_no', 'create_account', 'user_details', 'validate_user']\n"
     ]
    }
   ],
   "source": [
    "print(dir(b1))"
   ]
  },
  {
   "cell_type": "code",
   "execution_count": 90,
   "id": "c7035c53",
   "metadata": {},
   "outputs": [
    {
     "data": {
      "text/plain": [
       "'SBI2021081920'"
      ]
     },
     "execution_count": 90,
     "metadata": {},
     "output_type": "execute_result"
    }
   ],
   "source": [
    "b1._generate_account_no()"
   ]
  },
  {
   "cell_type": "code",
   "execution_count": 91,
   "id": "71e5d3fe",
   "metadata": {},
   "outputs": [
    {
     "name": "stdout",
     "output_type": "stream",
     "text": [
      "########## Not valid user ###########\n"
     ]
    }
   ],
   "source": [
    "b1._auth(\"username\",\"password\")"
   ]
  },
  {
   "cell_type": "code",
   "execution_count": 92,
   "id": "383775b8",
   "metadata": {},
   "outputs": [
    {
     "name": "stdout",
     "output_type": "stream",
     "text": [
      "########## Not valid user ###########\n"
     ]
    }
   ],
   "source": [
    "b1._auth(\"vikas@1234\",\"Vikas\")"
   ]
  },
  {
   "cell_type": "code",
   "execution_count": null,
   "id": "9827e2ef",
   "metadata": {},
   "outputs": [],
   "source": []
  },
  {
   "cell_type": "code",
   "execution_count": null,
   "id": "10dc0f91",
   "metadata": {},
   "outputs": [],
   "source": []
  },
  {
   "cell_type": "code",
   "execution_count": null,
   "id": "1cc3ba67",
   "metadata": {},
   "outputs": [],
   "source": []
  },
  {
   "cell_type": "code",
   "execution_count": null,
   "id": "9c0d9f4c",
   "metadata": {},
   "outputs": [],
   "source": []
  },
  {
   "cell_type": "code",
   "execution_count": null,
   "id": "c97102a3",
   "metadata": {},
   "outputs": [],
   "source": []
  },
  {
   "cell_type": "code",
   "execution_count": null,
   "id": "87d47523",
   "metadata": {},
   "outputs": [],
   "source": []
  },
  {
   "cell_type": "code",
   "execution_count": 2,
   "id": "a9805221",
   "metadata": {},
   "outputs": [],
   "source": [
    "user_details = [{'admin':'12345@admin', 'user':'user@user'}]\n",
    "\n",
    "def validate_user(func):\n",
    "    def is_valid(username, password):\n",
    "        count = 0\n",
    "        for ele in user_details:\n",
    "            for usr_name, usr_password in ele.items():\n",
    "                if usr_name == username and usr_password == password:\n",
    "                    print(\"############ WELCOME TO BANK #############\")\n",
    "                    count = 1\n",
    "                    func(username, password)\n",
    "        if count == 0:\n",
    "            print(\"########## Not valid user ###########\")\n",
    "    return is_valid\n",
    "        "
   ]
  },
  {
   "cell_type": "code",
   "execution_count": 3,
   "id": "56abfe1a",
   "metadata": {},
   "outputs": [],
   "source": [
    "@validate_user\n",
    "def auth(username, password):\n",
    "    print(\"###### Now your are logged in to BANK ########\")"
   ]
  },
  {
   "cell_type": "code",
   "execution_count": 4,
   "id": "c9cbc094",
   "metadata": {},
   "outputs": [
    {
     "name": "stdout",
     "output_type": "stream",
     "text": [
      "########## Not valid user ###########\n"
     ]
    }
   ],
   "source": [
    "auth(\"Vikas\",\"vikas@1234\")"
   ]
  },
  {
   "cell_type": "code",
   "execution_count": 5,
   "id": "6f04e8bf",
   "metadata": {},
   "outputs": [
    {
     "name": "stdout",
     "output_type": "stream",
     "text": [
      "############ WELCOME TO BANK #############\n",
      "###### Now your are logged in to BANK ########\n"
     ]
    }
   ],
   "source": [
    "auth(\"admin\",\"12345@admin\")"
   ]
  },
  {
   "cell_type": "code",
   "execution_count": 93,
   "id": "9f3f5eba",
   "metadata": {},
   "outputs": [
    {
     "name": "stdout",
     "output_type": "stream",
     "text": [
      "username Vikas\n",
      "password vikas@1234\n"
     ]
    }
   ],
   "source": [
    "user_details = [{'username':\"Vikas\",'password':\"vikas@1234\" }]\n",
    "\n",
    "for i in user_details:\n",
    "    for j,k in i.items():\n",
    "        print(j,k)"
   ]
  },
  {
   "cell_type": "code",
   "execution_count": 103,
   "id": "c27aedd1",
   "metadata": {},
   "outputs": [],
   "source": [
    "s=Bank()"
   ]
  },
  {
   "cell_type": "code",
   "execution_count": 104,
   "id": "bc234964",
   "metadata": {},
   "outputs": [
    {
     "name": "stdout",
     "output_type": "stream",
     "text": [
      "['_Bank__check_balance', '__class__', '__delattr__', '__dict__', '__dir__', '__doc__', '__eq__', '__format__', '__ge__', '__getattribute__', '__gt__', '__hash__', '__init__', '__init_subclass__', '__le__', '__lt__', '__module__', '__ne__', '__new__', '__reduce__', '__reduce_ex__', '__repr__', '__setattr__', '__sizeof__', '__str__', '__subclasshook__', '__weakref__', '_auth', '_generate_account_no', 'create_account', 'user_details', 'validate_user']\n"
     ]
    }
   ],
   "source": [
    "print(dir(s))"
   ]
  },
  {
   "cell_type": "code",
   "execution_count": 105,
   "id": "1bf282d8",
   "metadata": {},
   "outputs": [
    {
     "name": "stdout",
     "output_type": "stream",
     "text": [
      "########## Not valid user ###########\n"
     ]
    }
   ],
   "source": [
    "s._auth(\"12345@admin\",\"user@user\")"
   ]
  },
  {
   "cell_type": "code",
   "execution_count": 108,
   "id": "05bedeae",
   "metadata": {},
   "outputs": [],
   "source": [
    "from datetime import datetime\n",
    "\n",
    "class Bank:\n",
    "    BANK_CUSTOMER_DETAILS=[]\n",
    "\n",
    "    def _generate_account_no():\n",
    "        \"\"\"\n",
    "        Auto generated account number using datetime module.\n",
    "        return account number.\n",
    "        \"\"\"\n",
    "        account_number=datetime.now().strftime(\"SBI350%Y%m%d%S\")\n",
    "        return account_number\n",
    "\n",
    "    def is_valid_mobile_no(mobile_number):\n",
    "        if len(str(mobile_number))==10 and type(mobile_number)==int:\n",
    "            return True\n",
    "        return False\n",
    "\n",
    "    def is_valid_account_type(account_type):\n",
    "        for account_type in [\"saving\",\"current\"]:\n",
    "            return True\n",
    "        return False\n",
    "    def is_valid_amount(amount):\n",
    "        if type(amount)==int:\n",
    "            return True\n",
    "        return False\n",
    "\n",
    "\n",
    "    def create_account(**customer_info):\n",
    "        \"\"\"\n",
    "        Create new account using customer information.\n",
    "        In customer info name,mobile nu,address,account type,amount etc is include.\n",
    "        return account_information\n",
    "        \"\"\"\n",
    "#     name=input(\"Enter Your Name: \")\n",
    "#     mobile_number=int(input(\"Enter Your Mobile Number: \"))\n",
    "#     address=input(\"Enter Your Address: \")\n",
    "#     account_type=input(\"Enter Account Type [Saving or Current]: \")\n",
    "#     amount=int(input(\"Enter amount to create account: Minimum amount should be Rs.100 : \"))\n",
    "        if is_valid_mobile_no(customer_info.get(\"mobile_number\")) and is_valid_account_type(customer_info.get(\"account_type\")) and is_valid_amount(customer_info.get(\"amount\")):\n",
    "            account_number=generate_account_no()\n",
    "            customer_info[\"account_number\"]=account_number\n",
    "            BANK_CUSTOMER_DETAILS.append(customer_info)\n",
    "            print( \"Thanks for creating account in SBI Bank!\\nYour Account Number is: %s\"%(account_number))\n",
    "        else:\n",
    "            print(\"Please Enter valid Details!\")\n",
    "        \n",
    "    def deposit(account_number,amount):\n",
    "        \"\"\"\n",
    "        Deposite amount in your bank using account number.\n",
    "        return amount\n",
    "        \"\"\"\n",
    "        for user in BANK_CUSTOMER_DETAILS:\n",
    "            user[\"account_number\"]=account_number\n",
    "            current_amount=user.get(\"amount\")\n",
    "            print(\"Amount before deposit :\",current_amount)\n",
    "            user[\"amount\"]=current_amount+amount\n",
    "            print(\"Amount after deposite : \",user.get(\"amount\"))\n",
    "        \n",
    "    def withdraw(account_number,amount):\n",
    "        \"\"\"\n",
    "        Withdraw money usnig account number\n",
    "        return amount\n",
    "        \"\"\"\n",
    "        for user in BANK_CUSTOMER_DETAILS:\n",
    "            if user.get(\"account_number\")==account_number:\n",
    "            \n",
    "                current_amount=user.get(\"amount\")\n",
    "                user[\"amount\"]=current_amount-amount\n",
    "                print(\"Available balance in your acount: \",user.get('amount'))\n",
    "    \n",
    "    def check_balance(account_number):\n",
    "        \"\"\"\n",
    "        Check balance using account number\n",
    "        return amount\n",
    "        \"\"\"\n",
    "        for user in BANK_CUSTOMER_DETAILS:\n",
    "            if user[\"account_number\"]==account_number:\n",
    "                balance=user.get(\"amount\")\n",
    "                print(\"Balance in your account is: \",balance)\n",
    "            \n",
    "    def main():\n",
    "\n",
    "        while True:\n",
    "            print(\"Chose one of the following:\\n1]Create account\\t2]Check balance\\n3]Deposit Money\\t4]Withdraw Money\\t5]exit\")\n",
    "            user_input=int(input(\"_________________________WELCOME TO SBI BANK_____________________\"))\n",
    "            if user_input==1:\n",
    "                name=input(\"Enter Your Name: \")\n",
    "                mobile_number=int(input(\"Enter Your Mobile Number: \"))\n",
    "                address=input(\"Enter Your Address: \")\n",
    "                account_type=input(\"Enter Account Type [Saving or Current]: \")\n",
    "                amount=int(input(\"Enter amount to create account: Minimum amount should be Rs.100 : \"))\n",
    "                print(create_account(name=name,mobile_number=mobile_number,address=address,account_type=account_type,amount=amount))\n",
    "            elif user_input == 2:\n",
    "                account_number = input(\"Enter your account number\")\n",
    "                print(check_balance(account_number))\n",
    "            elif user_input == 3:\n",
    "                account_number = input(\"Enter your account number \")\n",
    "                amount = int(input(\"Enter amout to deposit in your account \"))\n",
    "                print(deposit(account_number, amount))\n",
    "            elif user_input == 4:\n",
    "                account_number = input(\"Enter your account number \")\n",
    "                amount = int(input(\"Enter amout to withdraw in your account \"))\n",
    "                print(withdraw(account_number, amount))\n",
    "            elif user_input == 5:\n",
    "                print(\"Thanks for visiting SBI Bank\")\n",
    "                break\n",
    "            else:\n",
    "                print(\"Enter valid input 1 to 5\")\n",
    "            "
   ]
  },
  {
   "cell_type": "code",
   "execution_count": null,
   "id": "1de5f927",
   "metadata": {},
   "outputs": [],
   "source": [
    "a=input(\"Enter char: \")\n",
    "def test():\n",
    "    return \n",
    "    \n"
   ]
  },
  {
   "cell_type": "code",
   "execution_count": 12,
   "id": "7cba9fbc",
   "metadata": {},
   "outputs": [
    {
     "name": "stdout",
     "output_type": "stream",
     "text": [
      "Enter char: a\n",
      "97\n"
     ]
    },
    {
     "ename": "TypeError",
     "evalue": "can only concatenate str (not \"int\") to str",
     "output_type": "error",
     "traceback": [
      "\u001b[1;31m---------------------------------------------------------------------------\u001b[0m",
      "\u001b[1;31mTypeError\u001b[0m                                 Traceback (most recent call last)",
      "\u001b[1;32m<ipython-input-12-522136b9ea10>\u001b[0m in \u001b[0;36m<module>\u001b[1;34m\u001b[0m\n\u001b[0;32m      2\u001b[0m \u001b[0mre\u001b[0m\u001b[1;33m=\u001b[0m\u001b[0mord\u001b[0m\u001b[1;33m(\u001b[0m\u001b[0ma\u001b[0m\u001b[1;33m)\u001b[0m\u001b[1;33m\u001b[0m\u001b[1;33m\u001b[0m\u001b[0m\n\u001b[0;32m      3\u001b[0m \u001b[0mprint\u001b[0m\u001b[1;33m(\u001b[0m\u001b[0mre\u001b[0m\u001b[1;33m)\u001b[0m\u001b[1;33m\u001b[0m\u001b[1;33m\u001b[0m\u001b[0m\n\u001b[1;32m----> 4\u001b[1;33m \u001b[0mre1\u001b[0m\u001b[1;33m=\u001b[0m\u001b[0mchr\u001b[0m\u001b[1;33m(\u001b[0m\u001b[0mstr\u001b[0m\u001b[1;33m(\u001b[0m\u001b[0mre\u001b[0m\u001b[1;33m)\u001b[0m\u001b[1;33m+\u001b[0m\u001b[1;36m1\u001b[0m\u001b[1;33m)\u001b[0m\u001b[1;33m\u001b[0m\u001b[1;33m\u001b[0m\u001b[0m\n\u001b[0m\u001b[0;32m      5\u001b[0m \u001b[1;33m\u001b[0m\u001b[0m\n\u001b[0;32m      6\u001b[0m \u001b[1;33m\u001b[0m\u001b[0m\n",
      "\u001b[1;31mTypeError\u001b[0m: can only concatenate str (not \"int\") to str"
     ]
    }
   ],
   "source": [
    "a=input(\"Enter char: \")\n",
    "re=ord(a)\n",
    "print(re)\n",
    "re1=chr(str(re)+1)\n",
    "\n",
    "\n",
    "\n",
    "       "
   ]
  },
  {
   "cell_type": "code",
   "execution_count": 25,
   "id": "f815ebae",
   "metadata": {},
   "outputs": [
    {
     "name": "stdout",
     "output_type": "stream",
     "text": [
      "123\n",
      "690\n",
      "1467\n",
      "2355\n",
      "3354\n",
      "4354\n"
     ]
    }
   ],
   "source": [
    "a=[123,567,777,888,999,1000]\n",
    "sum=0\n",
    "for i in a:\n",
    "    \n",
    "    \n",
    "    sum=sum+i\n",
    "    print(sum)\n",
    "    \n",
    "\n",
    "   "
   ]
  },
  {
   "cell_type": "code",
   "execution_count": 19,
   "id": "a9dfe572",
   "metadata": {},
   "outputs": [
    {
     "ename": "TypeError",
     "evalue": "'int' object is not iterable",
     "output_type": "error",
     "traceback": [
      "\u001b[1;31m---------------------------------------------------------------------------\u001b[0m",
      "\u001b[1;31mTypeError\u001b[0m                                 Traceback (most recent call last)",
      "\u001b[1;32m<ipython-input-19-f5b16f0d3ced>\u001b[0m in \u001b[0;36m<module>\u001b[1;34m\u001b[0m\n\u001b[1;32m----> 1\u001b[1;33m \u001b[1;32mfor\u001b[0m \u001b[0mi\u001b[0m \u001b[1;32min\u001b[0m \u001b[1;36m123\u001b[0m\u001b[1;33m:\u001b[0m\u001b[1;33m\u001b[0m\u001b[1;33m\u001b[0m\u001b[0m\n\u001b[0m\u001b[0;32m      2\u001b[0m     \u001b[0mprint\u001b[0m\u001b[1;33m(\u001b[0m\u001b[0mi\u001b[0m\u001b[1;33m)\u001b[0m\u001b[1;33m\u001b[0m\u001b[1;33m\u001b[0m\u001b[0m\n",
      "\u001b[1;31mTypeError\u001b[0m: 'int' object is not iterable"
     ]
    }
   ],
   "source": [
    "for i in 123:\n",
    "    print(i)"
   ]
  },
  {
   "cell_type": "code",
   "execution_count": 23,
   "id": "6c0059d5",
   "metadata": {},
   "outputs": [
    {
     "ename": "TypeError",
     "evalue": "'int' object is not subscriptable",
     "output_type": "error",
     "traceback": [
      "\u001b[1;31m---------------------------------------------------------------------------\u001b[0m",
      "\u001b[1;31mTypeError\u001b[0m                                 Traceback (most recent call last)",
      "\u001b[1;32m<ipython-input-23-2188ceebccc4>\u001b[0m in \u001b[0;36m<module>\u001b[1;34m\u001b[0m\n\u001b[0;32m      1\u001b[0m \u001b[0ma\u001b[0m\u001b[1;33m=\u001b[0m\u001b[1;33m[\u001b[0m\u001b[1;36m123\u001b[0m\u001b[1;33m,\u001b[0m\u001b[1;36m567\u001b[0m\u001b[1;33m,\u001b[0m\u001b[1;36m777\u001b[0m\u001b[1;33m,\u001b[0m\u001b[1;36m888\u001b[0m\u001b[1;33m,\u001b[0m\u001b[1;36m999\u001b[0m\u001b[1;33m,\u001b[0m\u001b[1;36m1000\u001b[0m\u001b[1;33m]\u001b[0m\u001b[1;33m\u001b[0m\u001b[1;33m\u001b[0m\u001b[0m\n\u001b[1;32m----> 2\u001b[1;33m \u001b[0mx\u001b[0m\u001b[1;33m=\u001b[0m\u001b[1;33m[\u001b[0m\u001b[0mi\u001b[0m\u001b[1;33m[\u001b[0m\u001b[1;36m0\u001b[0m\u001b[1;33m:\u001b[0m\u001b[1;33m]\u001b[0m \u001b[1;32mfor\u001b[0m \u001b[0mi\u001b[0m \u001b[1;32min\u001b[0m \u001b[0ma\u001b[0m\u001b[1;33m]\u001b[0m\u001b[1;33m\u001b[0m\u001b[1;33m\u001b[0m\u001b[0m\n\u001b[0m\u001b[0;32m      3\u001b[0m \u001b[0mprint\u001b[0m\u001b[1;33m(\u001b[0m\u001b[0mx\u001b[0m\u001b[1;33m)\u001b[0m\u001b[1;33m\u001b[0m\u001b[1;33m\u001b[0m\u001b[0m\n",
      "\u001b[1;32m<ipython-input-23-2188ceebccc4>\u001b[0m in \u001b[0;36m<listcomp>\u001b[1;34m(.0)\u001b[0m\n\u001b[0;32m      1\u001b[0m \u001b[0ma\u001b[0m\u001b[1;33m=\u001b[0m\u001b[1;33m[\u001b[0m\u001b[1;36m123\u001b[0m\u001b[1;33m,\u001b[0m\u001b[1;36m567\u001b[0m\u001b[1;33m,\u001b[0m\u001b[1;36m777\u001b[0m\u001b[1;33m,\u001b[0m\u001b[1;36m888\u001b[0m\u001b[1;33m,\u001b[0m\u001b[1;36m999\u001b[0m\u001b[1;33m,\u001b[0m\u001b[1;36m1000\u001b[0m\u001b[1;33m]\u001b[0m\u001b[1;33m\u001b[0m\u001b[1;33m\u001b[0m\u001b[0m\n\u001b[1;32m----> 2\u001b[1;33m \u001b[0mx\u001b[0m\u001b[1;33m=\u001b[0m\u001b[1;33m[\u001b[0m\u001b[0mi\u001b[0m\u001b[1;33m[\u001b[0m\u001b[1;36m0\u001b[0m\u001b[1;33m:\u001b[0m\u001b[1;33m]\u001b[0m \u001b[1;32mfor\u001b[0m \u001b[0mi\u001b[0m \u001b[1;32min\u001b[0m \u001b[0ma\u001b[0m\u001b[1;33m]\u001b[0m\u001b[1;33m\u001b[0m\u001b[1;33m\u001b[0m\u001b[0m\n\u001b[0m\u001b[0;32m      3\u001b[0m \u001b[0mprint\u001b[0m\u001b[1;33m(\u001b[0m\u001b[0mx\u001b[0m\u001b[1;33m)\u001b[0m\u001b[1;33m\u001b[0m\u001b[1;33m\u001b[0m\u001b[0m\n",
      "\u001b[1;31mTypeError\u001b[0m: 'int' object is not subscriptable"
     ]
    }
   ],
   "source": [
    "a=[123,567,777,888,999,1000]\n",
    "x=[i[0:] for i in a]\n",
    "print(x)"
   ]
  },
  {
   "cell_type": "code",
   "execution_count": null,
   "id": "227ca5ff",
   "metadata": {},
   "outputs": [],
   "source": [
    "a=[123,567,777,888,999,1000]\n",
    "for i in a:\n",
    "    "
   ]
  },
  {
   "cell_type": "code",
   "execution_count": 1,
   "id": "497f585c",
   "metadata": {},
   "outputs": [
    {
     "ename": "KeyboardInterrupt",
     "evalue": "",
     "output_type": "error",
     "traceback": [
      "\u001b[1;31m---------------------------------------------------------------------------\u001b[0m",
      "\u001b[1;31mKeyboardInterrupt\u001b[0m                         Traceback (most recent call last)",
      "\u001b[1;32m<ipython-input-1-075fc4f9ee63>\u001b[0m in \u001b[0;36m<module>\u001b[1;34m\u001b[0m\n\u001b[0;32m      3\u001b[0m \u001b[1;32mwhile\u001b[0m \u001b[0mb\u001b[0m\u001b[1;33m>\u001b[0m\u001b[1;36m0\u001b[0m\u001b[1;33m:\u001b[0m\u001b[1;33m\u001b[0m\u001b[1;33m\u001b[0m\u001b[0m\n\u001b[0;32m      4\u001b[0m     \u001b[0mre\u001b[0m\u001b[1;33m=\u001b[0m\u001b[0mb\u001b[0m\u001b[1;33m%\u001b[0m\u001b[1;36m10\u001b[0m\u001b[1;33m\u001b[0m\u001b[1;33m\u001b[0m\u001b[0m\n\u001b[1;32m----> 5\u001b[1;33m     \u001b[0msum\u001b[0m\u001b[1;33m=\u001b[0m\u001b[0msum\u001b[0m\u001b[1;33m+\u001b[0m\u001b[0mre\u001b[0m\u001b[1;33m\u001b[0m\u001b[1;33m\u001b[0m\u001b[0m\n\u001b[0m\u001b[0;32m      6\u001b[0m \u001b[0mprint\u001b[0m\u001b[1;33m(\u001b[0m\u001b[0msum\u001b[0m\u001b[1;33m)\u001b[0m\u001b[1;33m\u001b[0m\u001b[1;33m\u001b[0m\u001b[0m\n\u001b[0;32m      7\u001b[0m \u001b[1;33m\u001b[0m\u001b[0m\n",
      "\u001b[1;31mKeyboardInterrupt\u001b[0m: "
     ]
    }
   ],
   "source": [
    "b=123\n",
    "sum=0\n",
    "while b>0:\n",
    "    re=b%10\n",
    "    sum=sum+re\n",
    "print(sum)\n",
    "    "
   ]
  },
  {
   "cell_type": "code",
   "execution_count": 2,
   "id": "bd76c743",
   "metadata": {},
   "outputs": [
    {
     "data": {
      "text/plain": [
       "3"
      ]
     },
     "execution_count": 2,
     "metadata": {},
     "output_type": "execute_result"
    }
   ],
   "source": [
    "h=123\n",
    "h%10"
   ]
  },
  {
   "cell_type": "code",
   "execution_count": 4,
   "id": "89c64e38",
   "metadata": {},
   "outputs": [
    {
     "data": {
      "text/plain": [
       "2"
      ]
     },
     "execution_count": 4,
     "metadata": {},
     "output_type": "execute_result"
    }
   ],
   "source": [
    "h=12\n",
    "h%10"
   ]
  },
  {
   "cell_type": "code",
   "execution_count": 13,
   "id": "9ca1c111",
   "metadata": {},
   "outputs": [
    {
     "name": "stdout",
     "output_type": "stream",
     "text": [
      "15\n"
     ]
    }
   ],
   "source": [
    "num=4551\n",
    "result=0\n",
    "while num>0:\n",
    "    s=num%10\n",
    "    result=result+s\n",
    "    num=num//10\n",
    "print(result)"
   ]
  },
  {
   "cell_type": "code",
   "execution_count": 36,
   "id": "af117338",
   "metadata": {
    "scrolled": true
   },
   "outputs": [
    {
     "name": "stdout",
     "output_type": "stream",
     "text": [
      "6\n",
      "14\n",
      "17\n",
      "10\n"
     ]
    }
   ],
   "source": [
    "lst1=[123,455,89,55]\n",
    "for i in lst1:\n",
    "    result=0\n",
    "    while i>0:\n",
    "        a=i%10\n",
    "        result=result+a\n",
    "        i=i//10\n",
    "    print(result)    # result 6,14,17,10\n",
    "    \n",
    " # How to print max value in result.   \n",
    "        "
   ]
  },
  {
   "cell_type": "code",
   "execution_count": 45,
   "id": "9a20c5b6",
   "metadata": {},
   "outputs": [
    {
     "name": "stdout",
     "output_type": "stream",
     "text": [
      "10\n"
     ]
    }
   ],
   "source": [
    "lst1=[123,455,89,55]\n",
    "for i in lst1:\n",
    "    result=0\n",
    "    \n",
    "    while i>0:\n",
    "        a=i%10\n",
    "        result=result+a\n",
    "        i=i//10\n",
    "        \n",
    "    x= str(result)\n",
    "print(x)\n",
    "        \n",
    "        "
   ]
  },
  {
   "cell_type": "code",
   "execution_count": 17,
   "id": "7d688712",
   "metadata": {},
   "outputs": [
    {
     "name": "stdout",
     "output_type": "stream",
     "text": [
      "0\n",
      "1\n",
      "2\n",
      "3\n"
     ]
    }
   ],
   "source": [
    "for i in range(4):\n",
    "    print(i)"
   ]
  },
  {
   "cell_type": "code",
   "execution_count": 20,
   "id": "8017b94b",
   "metadata": {},
   "outputs": [
    {
     "name": "stdout",
     "output_type": "stream",
     "text": [
      "123\n",
      "455\n",
      "89\n",
      "55\n"
     ]
    }
   ],
   "source": [
    "lst1=[123,455,89,55]\n",
    "for i in lst1:\n",
    "    print(i)"
   ]
  },
  {
   "cell_type": "code",
   "execution_count": 21,
   "id": "841ce2e4",
   "metadata": {},
   "outputs": [
    {
     "data": {
      "text/plain": [
       "int"
      ]
     },
     "execution_count": 21,
     "metadata": {},
     "output_type": "execute_result"
    }
   ],
   "source": [
    "type(i)"
   ]
  },
  {
   "cell_type": "code",
   "execution_count": 38,
   "id": "7ce8637d",
   "metadata": {},
   "outputs": [
    {
     "name": "stdout",
     "output_type": "stream",
     "text": [
      "The original list is : [123, 455, 89, 55]\n",
      "List Integer Summation : [6, 14, 17, 10]\n",
      "17\n"
     ]
    }
   ],
   "source": [
    "# Python3 code to demonstrate\n",
    "# Sum of number digits in List\n",
    "# using loop + str()\n",
    " \n",
    "# Initializing list\n",
    "lst1=[123,455,89,55]\n",
    " \n",
    "# printing original list\n",
    "print(\"The original list is : \" + str(lst1))\n",
    " \n",
    "# Sum of number digits in List\n",
    "# using loop + str()\n",
    "res = []\n",
    "for ele in lst1:\n",
    "    sum = 0\n",
    "    for digit in str(ele):\n",
    "        sum += int(digit)\n",
    "    res.append(sum)\n",
    "     \n",
    "# printing result\n",
    "print (\"List Integer Summation : \" + str(res))\n",
    "print(str(max(res)))"
   ]
  },
  {
   "cell_type": "code",
   "execution_count": 41,
   "id": "64e9326a",
   "metadata": {},
   "outputs": [
    {
     "name": "stdout",
     "output_type": "stream",
     "text": [
      "[6, 14, 17, 10]\n",
      "17\n"
     ]
    }
   ],
   "source": [
    "lst1=[123,455,89,55]\n",
    "res=[]\n",
    "for ele in lst1:\n",
    "    sum=0\n",
    "    for digit in str(ele):\n",
    "        sum=sum+int(digit)\n",
    "    res.append(sum)\n",
    "print(res)\n",
    "print(max(res))"
   ]
  },
  {
   "cell_type": "code",
   "execution_count": 52,
   "id": "a8975bb1",
   "metadata": {},
   "outputs": [
    {
     "name": "stdout",
     "output_type": "stream",
     "text": [
      "[6, 14, 17, 10]\n",
      "17\n"
     ]
    }
   ],
   "source": [
    "lst1=[123,455,89,55]\n",
    "res=[]\n",
    "for ele in lst1:\n",
    "    sum=0\n",
    "    for digit in str(ele):\n",
    "        sum=sum + int(digit)\n",
    "    res.append(sum)\n",
    "        \n",
    "print(res)\n",
    "print(max(res))\n",
    "max1=0\n",
    "for i in res:\n",
    "    \n",
    "        \n",
    "    "
   ]
  },
  {
   "cell_type": "code",
   "execution_count": 63,
   "id": "ad7b8e03",
   "metadata": {},
   "outputs": [
    {
     "name": "stdout",
     "output_type": "stream",
     "text": [
      "The original list is : [12, 67, 98, 34]\n",
      "List Integer Summation : [3, 13, 17, 7]\n",
      "17\n"
     ]
    }
   ],
   "source": [
    "# Python3 code to demonstrate\n",
    "# Sum of number digits in a List\n",
    "# using sum() + reduce()\n",
    "from functools import reduce\n",
    " \n",
    "# Initializing list\n",
    "test_list = [12, 67, 98, 34]\n",
    " \n",
    "# printing original list\n",
    "print(\"The original list is : \" + str(test_list))\n",
    " \n",
    "# Sum of number digits in List\n",
    "# using sum() + reduce()\n",
    "res = [reduce(lambda x, y: int(x) + int(y), list(str(i))) for i in test_list]\n",
    " \n",
    "# printing result\n",
    "print(\"List Integer Summation : \" + str(res))\n",
    "print(max(res))"
   ]
  },
  {
   "cell_type": "code",
   "execution_count": null,
   "id": "3fea65e9",
   "metadata": {},
   "outputs": [],
   "source": []
  }
 ],
 "metadata": {
  "kernelspec": {
   "display_name": "Python 3",
   "language": "python",
   "name": "python3"
  },
  "language_info": {
   "codemirror_mode": {
    "name": "ipython",
    "version": 3
   },
   "file_extension": ".py",
   "mimetype": "text/x-python",
   "name": "python",
   "nbconvert_exporter": "python",
   "pygments_lexer": "ipython3",
   "version": "3.8.8"
  }
 },
 "nbformat": 4,
 "nbformat_minor": 5
}
