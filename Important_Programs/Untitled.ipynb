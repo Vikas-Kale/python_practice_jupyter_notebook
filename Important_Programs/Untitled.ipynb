{
 "cells": [
  {
   "cell_type": "code",
   "execution_count": 4,
   "id": "94fbe157",
   "metadata": {
    "ExecuteTime": {
     "end_time": "2021-09-12T03:41:30.677689Z",
     "start_time": "2021-09-12T03:41:30.024894Z"
    }
   },
   "outputs": [
    {
     "ename": "NameError",
     "evalue": "name 'x' is not defined",
     "output_type": "error",
     "traceback": [
      "\u001b[1;31m---------------------------------------------------------------------------\u001b[0m",
      "\u001b[1;31mNameError\u001b[0m                                 Traceback (most recent call last)",
      "\u001b[1;32m<ipython-input-4-d4cfcc5d2d46>\u001b[0m in \u001b[0;36m<module>\u001b[1;34m\u001b[0m\n\u001b[1;32m----> 1\u001b[1;33m \u001b[1;32mif\u001b[0m \u001b[1;33m(\u001b[0m\u001b[0mx\u001b[0m \u001b[1;33m==\u001b[0m \u001b[1;36m1\u001b[0m\u001b[1;33m)\u001b[0m\u001b[1;33m:\u001b[0m\u001b[1;33m\u001b[0m\u001b[1;33m\u001b[0m\u001b[0m\n\u001b[0m\u001b[0;32m      2\u001b[0m     \u001b[0mprint\u001b[0m\u001b[1;33m(\u001b[0m\u001b[1;34m\"joe\"\u001b[0m\u001b[1;33m)\u001b[0m\u001b[1;33m\u001b[0m\u001b[1;33m\u001b[0m\u001b[0m\n",
      "\u001b[1;31mNameError\u001b[0m: name 'x' is not defined"
     ]
    }
   ],
   "source": [
    "if (x == 1): \n",
    "    print(\"joe\")"
   ]
  },
  {
   "cell_type": "code",
   "execution_count": 5,
   "id": "afc23b49",
   "metadata": {
    "ExecuteTime": {
     "end_time": "2021-09-12T03:41:58.487153Z",
     "start_time": "2021-09-12T03:41:58.474153Z"
    }
   },
   "outputs": [
    {
     "ename": "NameError",
     "evalue": "name 'x' is not defined",
     "output_type": "error",
     "traceback": [
      "\u001b[1;31m---------------------------------------------------------------------------\u001b[0m",
      "\u001b[1;31mNameError\u001b[0m                                 Traceback (most recent call last)",
      "\u001b[1;32m<ipython-input-5-c4dd18b8b48b>\u001b[0m in \u001b[0;36m<module>\u001b[1;34m\u001b[0m\n\u001b[1;32m----> 1\u001b[1;33m \u001b[1;32mif\u001b[0m \u001b[1;33m(\u001b[0m\u001b[0mx\u001b[0m\u001b[1;33m==\u001b[0m\u001b[1;34m\"1\"\u001b[0m\u001b[1;33m)\u001b[0m\u001b[1;33m:\u001b[0m\u001b[1;33m\u001b[0m\u001b[1;33m\u001b[0m\u001b[0m\n\u001b[0m\u001b[0;32m      2\u001b[0m     \u001b[0mprint\u001b[0m\u001b[1;33m(\u001b[0m\u001b[1;34m\"raja\"\u001b[0m\u001b[1;33m)\u001b[0m\u001b[1;33m\u001b[0m\u001b[1;33m\u001b[0m\u001b[0m\n",
      "\u001b[1;31mNameError\u001b[0m: name 'x' is not defined"
     ]
    }
   ],
   "source": [
    "if (x==\"1\"):\n",
    "    print(\"raja\")"
   ]
  },
  {
   "cell_type": "code",
   "execution_count": null,
   "id": "c9555390",
   "metadata": {},
   "outputs": [],
   "source": [
    "\tif (x==4): print \"raja\"\n",
    "\tif (x==4): print \"raja\" else: print \"joe\"\n",
    "\tif (x==4): print \"raja\" elif print \"joe\"\n",
    "\tif (x == 8): \"joe\""
   ]
  },
  {
   "cell_type": "code",
   "execution_count": 6,
   "id": "68ade28d",
   "metadata": {
    "ExecuteTime": {
     "end_time": "2021-09-12T03:43:19.485171Z",
     "start_time": "2021-09-12T03:43:19.467137Z"
    }
   },
   "outputs": [],
   "source": [
    "n = 108 - 8 / 4 + (12 * 3)"
   ]
  },
  {
   "cell_type": "code",
   "execution_count": 7,
   "id": "b2c9282f",
   "metadata": {
    "ExecuteTime": {
     "end_time": "2021-09-12T03:43:27.093011Z",
     "start_time": "2021-09-12T03:43:27.064013Z"
    }
   },
   "outputs": [
    {
     "data": {
      "text/plain": [
       "142.0"
      ]
     },
     "execution_count": 7,
     "metadata": {},
     "output_type": "execute_result"
    }
   ],
   "source": [
    "n"
   ]
  },
  {
   "cell_type": "code",
   "execution_count": 8,
   "id": "10ff0c90",
   "metadata": {
    "ExecuteTime": {
     "end_time": "2021-09-12T03:45:19.232757Z",
     "start_time": "2021-09-12T03:45:19.186756Z"
    }
   },
   "outputs": [
    {
     "name": "stdout",
     "output_type": "stream",
     "text": [
      "Vanilla\n"
     ]
    }
   ],
   "source": [
    "str1, str2, str3 = '', 'Vanilla', 'Yoghurt'\n",
    "print(str1 or str2 or str3)"
   ]
  },
  {
   "cell_type": "code",
   "execution_count": 9,
   "id": "41157ccf",
   "metadata": {
    "ExecuteTime": {
     "end_time": "2021-09-12T03:47:31.917753Z",
     "start_time": "2021-09-12T03:47:31.897754Z"
    }
   },
   "outputs": [
    {
     "name": "stdout",
     "output_type": "stream",
     "text": [
      "ouch\n"
     ]
    }
   ],
   "source": [
    "if ('1'): \n",
    "    print('ouch')\n",
    "else: \n",
    "    print('echo')"
   ]
  },
  {
   "cell_type": "code",
   "execution_count": 10,
   "id": "75956bb5",
   "metadata": {
    "ExecuteTime": {
     "end_time": "2021-09-12T03:49:08.657650Z",
     "start_time": "2021-09-12T03:49:08.648650Z"
    }
   },
   "outputs": [],
   "source": [
    "class junk:\n",
    "  def __init__(self):\n",
    "    tt = 'ww'\n",
    "    ww = 'tt'"
   ]
  },
  {
   "cell_type": "code",
   "execution_count": 13,
   "id": "2ef6385f",
   "metadata": {
    "ExecuteTime": {
     "end_time": "2021-09-12T03:50:05.673567Z",
     "start_time": "2021-09-12T03:50:05.651567Z"
    }
   },
   "outputs": [
    {
     "ename": "AttributeError",
     "evalue": "'junk' object has no attribute 'tt'",
     "output_type": "error",
     "traceback": [
      "\u001b[1;31m---------------------------------------------------------------------------\u001b[0m",
      "\u001b[1;31mAttributeError\u001b[0m                            Traceback (most recent call last)",
      "\u001b[1;32m<ipython-input-13-f390efefeaff>\u001b[0m in \u001b[0;36m<module>\u001b[1;34m\u001b[0m\n\u001b[1;32m----> 1\u001b[1;33m \u001b[0mf\u001b[0m\u001b[1;33m=\u001b[0m\u001b[0mjunk\u001b[0m\u001b[1;33m(\u001b[0m\u001b[1;33m)\u001b[0m\u001b[1;33m.\u001b[0m\u001b[0mtt\u001b[0m\u001b[1;33m\u001b[0m\u001b[1;33m\u001b[0m\u001b[0m\n\u001b[0m",
      "\u001b[1;31mAttributeError\u001b[0m: 'junk' object has no attribute 'tt'"
     ]
    }
   ],
   "source": [
    "f=junk().tt"
   ]
  },
  {
   "cell_type": "code",
   "execution_count": 15,
   "id": "f3c79cd5",
   "metadata": {
    "ExecuteTime": {
     "end_time": "2021-09-12T03:50:31.060520Z",
     "start_time": "2021-09-12T03:50:31.040520Z"
    }
   },
   "outputs": [
    {
     "ename": "NameError",
     "evalue": "name 'junkf' is not defined",
     "output_type": "error",
     "traceback": [
      "\u001b[1;31m---------------------------------------------------------------------------\u001b[0m",
      "\u001b[1;31mNameError\u001b[0m                                 Traceback (most recent call last)",
      "\u001b[1;32m<ipython-input-15-043e81852361>\u001b[0m in \u001b[0;36m<module>\u001b[1;34m\u001b[0m\n\u001b[1;32m----> 1\u001b[1;33m \u001b[0mf\u001b[0m \u001b[1;33m=\u001b[0m \u001b[0mjunkf\u001b[0m\u001b[1;33m.\u001b[0m\u001b[0mget\u001b[0m\u001b[1;33m(\u001b[0m\u001b[0mtt\u001b[0m\u001b[1;33m)\u001b[0m\u001b[1;33m\u001b[0m\u001b[1;33m\u001b[0m\u001b[0m\n\u001b[0m",
      "\u001b[1;31mNameError\u001b[0m: name 'junkf' is not defined"
     ]
    }
   ],
   "source": [
    "f = junkf.get(tt)"
   ]
  },
  {
   "cell_type": "code",
   "execution_count": 16,
   "id": "d096811f",
   "metadata": {
    "ExecuteTime": {
     "end_time": "2021-09-12T03:50:49.260704Z",
     "start_time": "2021-09-12T03:50:49.237708Z"
    }
   },
   "outputs": [
    {
     "ename": "SyntaxError",
     "evalue": "invalid syntax (<ipython-input-16-c024d1e6609f>, line 1)",
     "output_type": "error",
     "traceback": [
      "\u001b[1;36m  File \u001b[1;32m\"<ipython-input-16-c024d1e6609f>\"\u001b[1;36m, line \u001b[1;32m1\u001b[0m\n\u001b[1;33m    f = junk() f.tt\u001b[0m\n\u001b[1;37m               ^\u001b[0m\n\u001b[1;31mSyntaxError\u001b[0m\u001b[1;31m:\u001b[0m invalid syntax\n"
     ]
    }
   ],
   "source": [
    "f = junk() f.tt"
   ]
  },
  {
   "cell_type": "code",
   "execution_count": 17,
   "id": "da44c274",
   "metadata": {
    "ExecuteTime": {
     "end_time": "2021-09-12T03:51:06.560317Z",
     "start_time": "2021-09-12T03:51:06.554317Z"
    }
   },
   "outputs": [
    {
     "ename": "SyntaxError",
     "evalue": "invalid syntax (<ipython-input-17-b361ee24457e>, line 1)",
     "output_type": "error",
     "traceback": [
      "\u001b[1;36m  File \u001b[1;32m\"<ipython-input-17-b361ee24457e>\"\u001b[1;36m, line \u001b[1;32m1\u001b[0m\n\u001b[1;33m    f = junk f.get(tt)\u001b[0m\n\u001b[1;37m             ^\u001b[0m\n\u001b[1;31mSyntaxError\u001b[0m\u001b[1;31m:\u001b[0m invalid syntax\n"
     ]
    }
   ],
   "source": [
    "\tf = junk f.get(tt)"
   ]
  },
  {
   "cell_type": "code",
   "execution_count": 20,
   "id": "9a093cf4",
   "metadata": {
    "ExecuteTime": {
     "end_time": "2021-09-12T03:53:54.463384Z",
     "start_time": "2021-09-12T03:53:54.456384Z"
    }
   },
   "outputs": [
    {
     "ename": "SyntaxError",
     "evalue": "invalid syntax (<ipython-input-20-2220a9559fd9>, line 1)",
     "output_type": "error",
     "traceback": [
      "\u001b[1;36m  File \u001b[1;32m\"<ipython-input-20-2220a9559fd9>\"\u001b[1;36m, line \u001b[1;32m1\u001b[0m\n\u001b[1;33m    y = 12L\u001b[0m\n\u001b[1;37m          ^\u001b[0m\n\u001b[1;31mSyntaxError\u001b[0m\u001b[1;31m:\u001b[0m invalid syntax\n"
     ]
    }
   ],
   "source": [
    "y = 12L\n",
    "z = 12\n",
    "v = y + z\n",
    "print(v)"
   ]
  },
  {
   "cell_type": "code",
   "execution_count": 21,
   "id": "edc319e7",
   "metadata": {
    "ExecuteTime": {
     "end_time": "2021-09-12T03:54:33.861361Z",
     "start_time": "2021-09-12T03:54:33.794363Z"
    }
   },
   "outputs": [
    {
     "data": {
      "text/plain": [
       "24"
      ]
     },
     "execution_count": 21,
     "metadata": {},
     "output_type": "execute_result"
    }
   ],
   "source": [
    "def hose():\n",
    "  try:\n",
    "    1/1\n",
    "    return 22\n",
    "    return 23\n",
    "  finally:\n",
    "    return 24\n",
    "\n",
    "hose()"
   ]
  },
  {
   "cell_type": "code",
   "execution_count": 23,
   "id": "bcdb077f",
   "metadata": {
    "ExecuteTime": {
     "end_time": "2021-09-12T03:56:00.208203Z",
     "start_time": "2021-09-12T03:56:00.184205Z"
    }
   },
   "outputs": [
    {
     "name": "stdout",
     "output_type": "stream",
     "text": [
      "['wolf']\n"
     ]
    }
   ],
   "source": [
    "def goat(b): b.append(\"wolf\")\n",
    "\n",
    "sheep = []\n",
    "goat(sheep)\n",
    "print(sheep)"
   ]
  },
  {
   "cell_type": "code",
   "execution_count": 24,
   "id": "7f4e18bc",
   "metadata": {
    "ExecuteTime": {
     "end_time": "2021-09-12T04:00:28.417833Z",
     "start_time": "2021-09-12T04:00:28.400833Z"
    }
   },
   "outputs": [
    {
     "data": {
      "text/plain": [
       "['aa', 'bb']"
      ]
     },
     "execution_count": 24,
     "metadata": {},
     "output_type": "execute_result"
    }
   ],
   "source": [
    "def func(num):\n",
    "    re=num.keys()\n",
    "    return sorted(re)\n",
    "num={'bb':'vv','aa':'ww'}\n",
    "func(num)"
   ]
  },
  {
   "cell_type": "code",
   "execution_count": 29,
   "id": "a6ebdd5a",
   "metadata": {
    "ExecuteTime": {
     "end_time": "2021-09-12T04:04:14.011896Z",
     "start_time": "2021-09-12T04:04:13.991898Z"
    }
   },
   "outputs": [
    {
     "data": {
      "text/plain": [
       "'nohtyP'"
      ]
     },
     "execution_count": 29,
     "metadata": {},
     "output_type": "execute_result"
    }
   ],
   "source": [
    "def reverse_text(text):\n",
    "    re=list(text)\n",
    "    return ''.join(re[::-1])\n",
    "text='Python'\n",
    "reverse_text(text)"
   ]
  },
  {
   "cell_type": "code",
   "execution_count": 31,
   "id": "4852929d",
   "metadata": {
    "ExecuteTime": {
     "end_time": "2021-09-12T04:13:23.025899Z",
     "start_time": "2021-09-12T04:13:22.995898Z"
    }
   },
   "outputs": [
    {
     "data": {
      "text/plain": [
       "True"
      ]
     },
     "execution_count": 31,
     "metadata": {},
     "output_type": "execute_result"
    }
   ],
   "source": [
    "import re\n",
    "\n",
    "res=r'\\b[A-Za-z0-9._%+-]+@[A-Za-z0-9.-]+\\.[A-Z|a-z]{2,}\\b'\n",
    "\n",
    "def valid_mail(id):\n",
    "    if re.fullmatch(res,id):\n",
    "        return True\n",
    "    else:\n",
    "        return False\n",
    "id='v@kale.com'\n",
    "valid_mail(id)"
   ]
  },
  {
   "cell_type": "code",
   "execution_count": null,
   "id": "d96cc37d",
   "metadata": {},
   "outputs": [],
   "source": []
  }
 ],
 "metadata": {
  "kernelspec": {
   "display_name": "Python 3",
   "language": "python",
   "name": "python3"
  },
  "language_info": {
   "codemirror_mode": {
    "name": "ipython",
    "version": 3
   },
   "file_extension": ".py",
   "mimetype": "text/x-python",
   "name": "python",
   "nbconvert_exporter": "python",
   "pygments_lexer": "ipython3",
   "version": "3.8.8"
  }
 },
 "nbformat": 4,
 "nbformat_minor": 5
}
