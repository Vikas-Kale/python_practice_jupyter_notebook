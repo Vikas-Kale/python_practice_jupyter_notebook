{
 "cells": [
  {
   "cell_type": "code",
   "execution_count": 5,
   "id": "54e8129b",
   "metadata": {
    "ExecuteTime": {
     "end_time": "2021-10-16T13:33:08.729186Z",
     "start_time": "2021-10-16T13:33:08.711188Z"
    }
   },
   "outputs": [],
   "source": [
    "lst = list(range(10))"
   ]
  },
  {
   "cell_type": "code",
   "execution_count": 6,
   "id": "be936f89",
   "metadata": {
    "ExecuteTime": {
     "end_time": "2021-10-16T13:33:14.123301Z",
     "start_time": "2021-10-16T13:33:14.109300Z"
    }
   },
   "outputs": [
    {
     "data": {
      "text/plain": [
       "[0, 1, 2, 3, 4, 5, 6, 7, 8, 9]"
      ]
     },
     "execution_count": 6,
     "metadata": {},
     "output_type": "execute_result"
    }
   ],
   "source": [
    "lst"
   ]
  },
  {
   "cell_type": "code",
   "execution_count": 7,
   "id": "ab9410d0",
   "metadata": {
    "ExecuteTime": {
     "end_time": "2021-10-16T13:33:44.415133Z",
     "start_time": "2021-10-16T13:33:44.402132Z"
    }
   },
   "outputs": [],
   "source": [
    "lst = list(map(lambda x:x*x,lst))"
   ]
  },
  {
   "cell_type": "code",
   "execution_count": 8,
   "id": "4e978d29",
   "metadata": {
    "ExecuteTime": {
     "end_time": "2021-10-16T13:33:46.889962Z",
     "start_time": "2021-10-16T13:33:46.869963Z"
    }
   },
   "outputs": [
    {
     "data": {
      "text/plain": [
       "[0, 1, 4, 9, 16, 25, 36, 49, 64, 81]"
      ]
     },
     "execution_count": 8,
     "metadata": {},
     "output_type": "execute_result"
    }
   ],
   "source": [
    "lst"
   ]
  },
  {
   "cell_type": "code",
   "execution_count": null,
   "id": "9ebeff87",
   "metadata": {},
   "outputs": [],
   "source": [
    "# filter values between 10 to 50"
   ]
  },
  {
   "cell_type": "code",
   "execution_count": 9,
   "id": "7ce92839",
   "metadata": {
    "ExecuteTime": {
     "end_time": "2021-10-16T13:35:42.144827Z",
     "start_time": "2021-10-16T13:35:42.131827Z"
    }
   },
   "outputs": [],
   "source": [
    "lst = list(filter(lambda x:x>10 and x<50,lst))"
   ]
  },
  {
   "cell_type": "code",
   "execution_count": 10,
   "id": "b84a110b",
   "metadata": {
    "ExecuteTime": {
     "end_time": "2021-10-16T13:35:44.392173Z",
     "start_time": "2021-10-16T13:35:44.373172Z"
    }
   },
   "outputs": [
    {
     "data": {
      "text/plain": [
       "[16, 25, 36, 49]"
      ]
     },
     "execution_count": 10,
     "metadata": {},
     "output_type": "execute_result"
    }
   ],
   "source": [
    "lst"
   ]
  },
  {
   "cell_type": "code",
   "execution_count": 11,
   "id": "284196dc",
   "metadata": {
    "ExecuteTime": {
     "end_time": "2021-10-16T13:37:13.859138Z",
     "start_time": "2021-10-16T13:37:13.845138Z"
    }
   },
   "outputs": [],
   "source": [
    "lst1 = list(map(lambda x:x**2,[i for i in range(20)]))"
   ]
  },
  {
   "cell_type": "code",
   "execution_count": 25,
   "id": "2ed7a085",
   "metadata": {
    "ExecuteTime": {
     "end_time": "2021-10-16T13:40:16.433902Z",
     "start_time": "2021-10-16T13:40:16.413903Z"
    }
   },
   "outputs": [
    {
     "data": {
      "text/plain": [
       "[25, 36, 49, 64, 81]"
      ]
     },
     "execution_count": 25,
     "metadata": {},
     "output_type": "execute_result"
    }
   ],
   "source": [
    "lst1"
   ]
  },
  {
   "cell_type": "code",
   "execution_count": 23,
   "id": "a18eb1c7",
   "metadata": {
    "ExecuteTime": {
     "end_time": "2021-10-16T13:40:11.632925Z",
     "start_time": "2021-10-16T13:40:11.614925Z"
    }
   },
   "outputs": [],
   "source": [
    "lst2 = list(filter(lambda x:x > 20 and  x<=101,lst1))"
   ]
  },
  {
   "cell_type": "code",
   "execution_count": 24,
   "id": "2a890797",
   "metadata": {
    "ExecuteTime": {
     "end_time": "2021-10-16T13:40:12.154023Z",
     "start_time": "2021-10-16T13:40:12.134023Z"
    }
   },
   "outputs": [
    {
     "data": {
      "text/plain": [
       "[25, 36, 49, 64, 81]"
      ]
     },
     "execution_count": 24,
     "metadata": {},
     "output_type": "execute_result"
    }
   ],
   "source": [
    "lst2"
   ]
  },
  {
   "cell_type": "code",
   "execution_count": null,
   "id": "f4d571b5",
   "metadata": {},
   "outputs": [],
   "source": []
  }
 ],
 "metadata": {
  "kernelspec": {
   "display_name": "Python 3",
   "language": "python",
   "name": "python3"
  },
  "language_info": {
   "codemirror_mode": {
    "name": "ipython",
    "version": 3
   },
   "file_extension": ".py",
   "mimetype": "text/x-python",
   "name": "python",
   "nbconvert_exporter": "python",
   "pygments_lexer": "ipython3",
   "version": "3.8.8"
  }
 },
 "nbformat": 4,
 "nbformat_minor": 5
}
