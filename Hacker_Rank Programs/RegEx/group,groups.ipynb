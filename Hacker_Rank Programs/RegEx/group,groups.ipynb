{
 "cells": [
  {
   "cell_type": "code",
   "execution_count": 1,
   "id": "54f80ddb",
   "metadata": {
    "ExecuteTime": {
     "end_time": "2021-10-17T04:28:14.580404Z",
     "start_time": "2021-10-17T04:28:14.556404Z"
    }
   },
   "outputs": [],
   "source": [
    "import re"
   ]
  },
  {
   "cell_type": "code",
   "execution_count": 4,
   "id": "0b9f6511",
   "metadata": {
    "ExecuteTime": {
     "end_time": "2021-10-17T04:32:59.223122Z",
     "start_time": "2021-10-17T04:32:59.201481Z"
    }
   },
   "outputs": [],
   "source": [
    "m = re.match(r'(?P<user>\\w+)@(?P<website>\\w+)\\.(?P<extension>\\w+)','kalevikas@gmail.com')"
   ]
  },
  {
   "cell_type": "code",
   "execution_count": 5,
   "id": "22fba7a5",
   "metadata": {
    "ExecuteTime": {
     "end_time": "2021-10-17T04:33:11.206065Z",
     "start_time": "2021-10-17T04:33:11.182032Z"
    }
   },
   "outputs": [
    {
     "data": {
      "text/plain": [
       "{'user': 'kalevikas', 'website': 'gmail', 'extension': 'com'}"
      ]
     },
     "execution_count": 5,
     "metadata": {},
     "output_type": "execute_result"
    }
   ],
   "source": [
    "m.groupdict()"
   ]
  },
  {
   "cell_type": "code",
   "execution_count": 3,
   "id": "adf5b7e7",
   "metadata": {
    "ExecuteTime": {
     "end_time": "2021-10-17T04:32:34.449283Z",
     "start_time": "2021-10-17T04:32:34.409245Z"
    }
   },
   "outputs": [
    {
     "data": {
      "text/plain": [
       "{'user': 'myname', 'website': 'hackerrank', 'extension': 'com'}"
      ]
     },
     "execution_count": 3,
     "metadata": {},
     "output_type": "execute_result"
    }
   ],
   "source": [
    "m = re.match(r'(?P<user>\\w+)@(?P<website>\\w+)\\.(?P<extension>\\w+)','myname@hackerrank.com')\n",
    "\n",
    "m.groupdict()\n"
   ]
  },
  {
   "cell_type": "code",
   "execution_count": null,
   "id": "1f1858a5",
   "metadata": {},
   "outputs": [],
   "source": [
    "import re\n",
    "m = re.search(r\"([a-z0-9])\\1+\", input())\n",
    "print(m.group(1) if m else -1)"
   ]
  }
 ],
 "metadata": {
  "kernelspec": {
   "display_name": "Python 3",
   "language": "python",
   "name": "python3"
  },
  "language_info": {
   "codemirror_mode": {
    "name": "ipython",
    "version": 3
   },
   "file_extension": ".py",
   "mimetype": "text/x-python",
   "name": "python",
   "nbconvert_exporter": "python",
   "pygments_lexer": "ipython3",
   "version": "3.8.8"
  }
 },
 "nbformat": 4,
 "nbformat_minor": 5
}
