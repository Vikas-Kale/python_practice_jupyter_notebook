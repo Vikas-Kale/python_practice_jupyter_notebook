{
 "cells": [
  {
   "cell_type": "markdown",
   "id": "8ab762c8",
   "metadata": {},
   "source": [
    "# Write a decorator to validate mobile number"
   ]
  },
  {
   "cell_type": "code",
   "execution_count": 10,
   "id": "78c55432",
   "metadata": {},
   "outputs": [],
   "source": [
    "def validate_mobile_no(func):\n",
    "    def chk_length(mobile_num):\n",
    "        if len(str(mobile_num))==10 and str(mobile_num).isnumeric():\n",
    "            \n",
    "            print(\"Mobile number is valid\")\n",
    "            func(mobile_num)\n",
    "        else:\n",
    "            print(\"invalid mobile number!\")\n",
    "    return chk_length"
   ]
  },
  {
   "cell_type": "code",
   "execution_count": 11,
   "id": "821853f3",
   "metadata": {},
   "outputs": [],
   "source": [
    "@validate_mobile_no\n",
    "def user_details(mobile_number):\n",
    "    print(\"Your data is saved!!\")"
   ]
  },
  {
   "cell_type": "code",
   "execution_count": 12,
   "id": "632eb6c1",
   "metadata": {},
   "outputs": [
    {
     "name": "stdout",
     "output_type": "stream",
     "text": [
      "Mobile number is valid\n",
      "Your data is saved!!\n"
     ]
    }
   ],
   "source": [
    "user_details(7798743804)"
   ]
  },
  {
   "cell_type": "markdown",
   "id": "be051281",
   "metadata": {},
   "source": [
    "# Overloading"
   ]
  },
  {
   "cell_type": "code",
   "execution_count": 13,
   "id": "f5fc1e68",
   "metadata": {},
   "outputs": [],
   "source": [
    "class A:\n",
    "    def showdata(self):\n",
    "        print(\"In showdata with 0 argument\")\n",
    "        \n",
    "    def showdata(self,num):\n",
    "        print(\"In showdata with 1 argument\")\n",
    "        \n",
    "    def showdata(self,num1,num2):\n",
    "        print(\"In showdata with 2 arguments\")"
   ]
  },
  {
   "cell_type": "code",
   "execution_count": 14,
   "id": "a665ab90",
   "metadata": {},
   "outputs": [],
   "source": [
    "s=A()"
   ]
  },
  {
   "cell_type": "code",
   "execution_count": 15,
   "id": "35088cc6",
   "metadata": {},
   "outputs": [
    {
     "ename": "TypeError",
     "evalue": "showdata() missing 2 required positional arguments: 'num1' and 'num2'",
     "output_type": "error",
     "traceback": [
      "\u001b[1;31m---------------------------------------------------------------------------\u001b[0m",
      "\u001b[1;31mTypeError\u001b[0m                                 Traceback (most recent call last)",
      "\u001b[1;32m<ipython-input-15-066602d5fd13>\u001b[0m in \u001b[0;36m<module>\u001b[1;34m\u001b[0m\n\u001b[1;32m----> 1\u001b[1;33m \u001b[0ms\u001b[0m\u001b[1;33m.\u001b[0m\u001b[0mshowdata\u001b[0m\u001b[1;33m(\u001b[0m\u001b[1;33m)\u001b[0m\u001b[1;33m\u001b[0m\u001b[1;33m\u001b[0m\u001b[0m\n\u001b[0m",
      "\u001b[1;31mTypeError\u001b[0m: showdata() missing 2 required positional arguments: 'num1' and 'num2'"
     ]
    }
   ],
   "source": [
    "s.showdata()"
   ]
  },
  {
   "cell_type": "code",
   "execution_count": 16,
   "id": "5923478b",
   "metadata": {},
   "outputs": [
    {
     "name": "stdout",
     "output_type": "stream",
     "text": [
      "In showdata with 2 arguments\n"
     ]
    }
   ],
   "source": [
    "s.showdata(10,20)"
   ]
  },
  {
   "cell_type": "code",
   "execution_count": 10,
   "id": "918d4f28",
   "metadata": {
    "ExecuteTime": {
     "end_time": "2021-11-11T09:40:20.025360Z",
     "start_time": "2021-11-11T09:40:20.014359Z"
    }
   },
   "outputs": [],
   "source": [
    "class A:\n",
    "    def showdata(self):\n",
    "        print(\"In showdata from class A\")\n",
    "        \n",
    "class B(A):\n",
    "    def showdata(self):\n",
    "        super().showdata()\n",
    "        print(\"In showdata from class B\")"
   ]
  },
  {
   "cell_type": "code",
   "execution_count": 11,
   "id": "b40d39b0",
   "metadata": {
    "ExecuteTime": {
     "end_time": "2021-11-11T09:40:20.737433Z",
     "start_time": "2021-11-11T09:40:20.720434Z"
    }
   },
   "outputs": [],
   "source": [
    "b1=B()"
   ]
  },
  {
   "cell_type": "code",
   "execution_count": 12,
   "id": "6c854d41",
   "metadata": {
    "ExecuteTime": {
     "end_time": "2021-11-11T09:40:21.050560Z",
     "start_time": "2021-11-11T09:40:21.039559Z"
    }
   },
   "outputs": [
    {
     "name": "stdout",
     "output_type": "stream",
     "text": [
      "In showdata from class A\n",
      "In showdata from class B\n"
     ]
    }
   ],
   "source": [
    "b1.showdata()"
   ]
  },
  {
   "cell_type": "markdown",
   "id": "f60bd336",
   "metadata": {},
   "source": [
    "# method overriding"
   ]
  },
  {
   "cell_type": "code",
   "execution_count": 24,
   "id": "c5be4866",
   "metadata": {},
   "outputs": [],
   "source": [
    "class A:\n",
    "    def showdata(self):\n",
    "        print(\"In showdata from class A\")\n",
    "        \n",
    "class B(A):\n",
    "    def showdata(self):\n",
    "        super().showdata()\n",
    "        print(\"In showdata from class B\")"
   ]
  },
  {
   "cell_type": "code",
   "execution_count": 25,
   "id": "5baa0487",
   "metadata": {},
   "outputs": [],
   "source": [
    "d1=B()"
   ]
  },
  {
   "cell_type": "code",
   "execution_count": 26,
   "id": "a41d4209",
   "metadata": {},
   "outputs": [
    {
     "name": "stdout",
     "output_type": "stream",
     "text": [
      "In showdata from class A\n",
      "In showdata from class B\n"
     ]
    }
   ],
   "source": [
    "d1.showdata()"
   ]
  },
  {
   "cell_type": "markdown",
   "id": "756ce4cb",
   "metadata": {},
   "source": [
    "# In method overloading by default last method get called."
   ]
  },
  {
   "cell_type": "code",
   "execution_count": null,
   "id": "eb62478b",
   "metadata": {},
   "outputs": [],
   "source": []
  }
 ],
 "metadata": {
  "kernelspec": {
   "display_name": "Python 3",
   "language": "python",
   "name": "python3"
  },
  "language_info": {
   "codemirror_mode": {
    "name": "ipython",
    "version": 3
   },
   "file_extension": ".py",
   "mimetype": "text/x-python",
   "name": "python",
   "nbconvert_exporter": "python",
   "pygments_lexer": "ipython3",
   "version": "3.8.8"
  }
 },
 "nbformat": 4,
 "nbformat_minor": 5
}
