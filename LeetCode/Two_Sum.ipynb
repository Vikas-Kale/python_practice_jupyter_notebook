{
 "cells": [
  {
   "cell_type": "raw",
   "id": "977235a0",
   "metadata": {},
   "source": [
    "Given an array of integers nums and an integer target, return indices of the two numbers such that they add up to target.\n",
    "\n",
    "You may assume that each input would have exactly one solution, and you may not use the same element twice.\n",
    "\n",
    "You can return the answer in any order."
   ]
  },
  {
   "cell_type": "code",
   "execution_count": null,
   "id": "fd312232",
   "metadata": {},
   "outputs": [],
   "source": [
    "Example 1:\n",
    "\n",
    "Input: nums = [2,7,11,15], target = 9\n",
    "Output: [0,1]\n",
    "Output: Because nums[0] + nums[1] == 9, we return [0, 1]."
   ]
  },
  {
   "cell_type": "code",
   "execution_count": null,
   "id": "867b23d6",
   "metadata": {},
   "outputs": [],
   "source": [
    "Example 2:\n",
    "\n",
    "Input: nums = [3,2,4], target = 6\n",
    "Output: [1,2]"
   ]
  },
  {
   "cell_type": "code",
   "execution_count": null,
   "id": "096c6b64",
   "metadata": {},
   "outputs": [],
   "source": [
    "Example 3:\n",
    "\n",
    "Input: nums = [3,3], target = 6\n",
    "Output: [0,1]"
   ]
  },
  {
   "cell_type": "markdown",
   "id": "69b37552",
   "metadata": {},
   "source": []
  },
  {
   "cell_type": "code",
   "execution_count": 4,
   "id": "5c503227",
   "metadata": {},
   "outputs": [
    {
     "name": "stdout",
     "output_type": "stream",
     "text": [
      "35\n"
     ]
    }
   ],
   "source": [
    "# target =9\n",
    "num=[2,7,11,15]\n",
    "sum=0\n",
    "for i in num:\n",
    "        sum=sum+i\n",
    "print(sum)\n",
    "\n",
    "\n"
   ]
  },
  {
   "cell_type": "code",
   "execution_count": 11,
   "id": "83272c5a",
   "metadata": {},
   "outputs": [],
   "source": [
    "def two_sum(arr,target):  # define function with 2 arguments.\n",
    "    values=dict()          # \n",
    "    \n",
    "    for i,ele in enumerate(arr):\n",
    "        comp=target-ele\n",
    "        \n",
    "        if comp in values:\n",
    "            return [values[comp],i]\n",
    "        \n",
    "        values[ele]=i\n",
    "        \n",
    "    return []\n"
   ]
  },
  {
   "cell_type": "code",
   "execution_count": 3,
   "id": "0f725da3",
   "metadata": {},
   "outputs": [],
   "source": [
    "nums = [2,7,11,15]\n",
    "target = 9"
   ]
  },
  {
   "cell_type": "code",
   "execution_count": 13,
   "id": "0acd1630",
   "metadata": {},
   "outputs": [
    {
     "data": {
      "text/plain": [
       "[0, 1]"
      ]
     },
     "execution_count": 13,
     "metadata": {},
     "output_type": "execute_result"
    }
   ],
   "source": [
    "two_sum(nums,target)"
   ]
  },
  {
   "cell_type": "code",
   "execution_count": null,
   "id": "5dd40df5",
   "metadata": {},
   "outputs": [],
   "source": [
    "class Solution()"
   ]
  },
  {
   "cell_type": "code",
   "execution_count": null,
   "id": "bea3fcb6",
   "metadata": {},
   "outputs": [],
   "source": []
  },
  {
   "cell_type": "code",
   "execution_count": 1,
   "id": "4ee19b15",
   "metadata": {},
   "outputs": [],
   "source": [
    "def twoSum(nums, target):\n",
    "    i = 0\n",
    "    while True:\n",
    "        n = nums[i]\n",
    "        for j in range(i+1, len(nums)):\n",
    "            if n+nums[j]==target:\n",
    "                return [i,j]\n",
    "        i+=1"
   ]
  },
  {
   "cell_type": "code",
   "execution_count": 4,
   "id": "3dd64a78",
   "metadata": {},
   "outputs": [
    {
     "data": {
      "text/plain": [
       "[0, 1]"
      ]
     },
     "execution_count": 4,
     "metadata": {},
     "output_type": "execute_result"
    }
   ],
   "source": [
    "twoSum(nums,target)"
   ]
  },
  {
   "cell_type": "code",
   "execution_count": null,
   "id": "992c00d1",
   "metadata": {},
   "outputs": [],
   "source": []
  },
  {
   "cell_type": "code",
   "execution_count": 21,
   "id": "bcbdc3a5",
   "metadata": {},
   "outputs": [],
   "source": [
    "def twoSum(nums1, target):\n",
    "    i = 0\n",
    "    while True:\n",
    "        n = nums1[i]\n",
    "        for j in range(i+1, len(nums1)):\n",
    "            if n+nums1[j]==target:\n",
    "                return [i,j]\n",
    "        i+=1"
   ]
  },
  {
   "cell_type": "code",
   "execution_count": 22,
   "id": "12c21282",
   "metadata": {},
   "outputs": [],
   "source": [
    "nums1 = [3,2,4,8]\n",
    "target1 =14"
   ]
  },
  {
   "cell_type": "code",
   "execution_count": 6,
   "id": "131811b1",
   "metadata": {},
   "outputs": [
    {
     "data": {
      "text/plain": [
       "[1, 2]"
      ]
     },
     "execution_count": 6,
     "metadata": {},
     "output_type": "execute_result"
    }
   ],
   "source": [
    "def twoSum(nums, target):\n",
    "    i = 0\n",
    "    while True:\n",
    "        n = nums[i]\n",
    "        for j in range(i+1, len(nums)):\n",
    "            if n+nums[j]==target:\n",
    "                return [i,j]\n",
    "        i+=1\n",
    "        \n",
    "nums=[12,125,8,2]\n",
    "target=133\n",
    "\n",
    "twoSum(nums,target)"
   ]
  },
  {
   "cell_type": "code",
   "execution_count": 13,
   "id": "a8763732",
   "metadata": {},
   "outputs": [],
   "source": [
    "# nums=[12,125,8,2]\n",
    "# target=20\n",
    "# target1=100\n",
    "\n",
    "def twoSum(nums, target):\n",
    "    i = 0\n",
    "    while True:\n",
    "        n = nums[i]\n",
    "        for j in range(i+1, len(nums)):\n",
    "            if n+nums[j]==target:\n",
    "                return [i,j]\n",
    "        i+=1\n",
    "\n",
    "try:\n",
    "    twoSum([12,125,8,2],20)\n",
    "    \n",
    "except IndexError:\n",
    "    print(\"Two Sum not found!\")\n",
    "    \n",
    "    "
   ]
  },
  {
   "cell_type": "code",
   "execution_count": 23,
   "id": "14259c5a",
   "metadata": {},
   "outputs": [
    {
     "name": "stdout",
     "output_type": "stream",
     "text": [
      "Sum not Found\n"
     ]
    }
   ],
   "source": [
    "try:\n",
    "    def twoSum(nums, target):\n",
    "        i = 0\n",
    "        while True:\n",
    "            n = nums[i]\n",
    "            for j in range(i+1, len(nums)):\n",
    "                if n+nums[j]==target:\n",
    "                    return [i,j]\n",
    "            i+=1\n",
    "        \n",
    "    nums=[12,125,8,2]\n",
    "    target=20\n",
    "\n",
    "    print(twoSum(nums,target))\n",
    "\n",
    "except IndexError:\n",
    "    \n",
    "    print(\"Sum not Found\")"
   ]
  },
  {
   "cell_type": "code",
   "execution_count": 24,
   "id": "6e32929d",
   "metadata": {},
   "outputs": [
    {
     "data": {
      "text/plain": [
       "[0, 2]"
      ]
     },
     "execution_count": 24,
     "metadata": {},
     "output_type": "execute_result"
    }
   ],
   "source": [
    "nums=[12,125,8,2] # 12+8=20 ;A+B=Target \n",
    "target=20"
   ]
  },
  {
   "cell_type": "code",
   "execution_count": null,
   "id": "18ffbe82",
   "metadata": {},
   "outputs": [],
   "source": [
    "nums=[12,125,8,2] # 12+8=20 ;A+B=Target \n",
    "target=20"
   ]
  },
  {
   "cell_type": "code",
   "execution_count": null,
   "id": "fc4c017c",
   "metadata": {},
   "outputs": [],
   "source": []
  },
  {
   "cell_type": "code",
   "execution_count": null,
   "id": "5dc829c1",
   "metadata": {},
   "outputs": [],
   "source": []
  },
  {
   "cell_type": "code",
   "execution_count": 5,
   "id": "3996cedd",
   "metadata": {},
   "outputs": [],
   "source": [
    "def Two_Sum(lst,target):\n",
    "    \n",
    "    for i in range(len(lst)):\n",
    "        for j in range(i+1,len(lst)):\n",
    "            if lst[i] + lst[j] == target:\n",
    "                return [i,j]\n",
    "    return None\n",
    "    "
   ]
  },
  {
   "cell_type": "code",
   "execution_count": 6,
   "id": "0115ac32",
   "metadata": {},
   "outputs": [
    {
     "data": {
      "text/plain": [
       "[1, 2]"
      ]
     },
     "execution_count": 6,
     "metadata": {},
     "output_type": "execute_result"
    }
   ],
   "source": [
    "lst=[55,12,13,14,15]\n",
    "target=25\n",
    "\n",
    "Two_Sum(lst,target)"
   ]
  },
  {
   "cell_type": "code",
   "execution_count": 7,
   "id": "d88c28bf",
   "metadata": {},
   "outputs": [],
   "source": [
    "def Three_sum(num,target):\n",
    "    \n",
    "    for i in range(len(num)):\n",
    "        for j in range(i+1,len(num)):\n",
    "            for k in range(i+2,len(num)):\n",
    "                \n",
    "                if num[i] + num[j] + num[k] == target:\n",
    "                    return [i,j,k]\n",
    "                \n",
    "    return \"Not Found\""
   ]
  },
  {
   "cell_type": "code",
   "execution_count": 11,
   "id": "34fbbd6c",
   "metadata": {},
   "outputs": [
    {
     "data": {
      "text/plain": [
       "[0, 3, 5]"
      ]
     },
     "execution_count": 11,
     "metadata": {},
     "output_type": "execute_result"
    }
   ],
   "source": [
    "num=[100,11,15,5,50,10]\n",
    "target = 115\n",
    "\n",
    "Three_sum(num,target)"
   ]
  },
  {
   "cell_type": "code",
   "execution_count": null,
   "id": "f09f356e",
   "metadata": {},
   "outputs": [],
   "source": [
    "Example 1:\n",
    "\n",
    "Input: nums = [2,7,11,15], target = 9\n",
    "Output: [0,1]\n",
    "Output: Because nums[0] + nums[1] == 9, we return [0, 1]."
   ]
  },
  {
   "cell_type": "code",
   "execution_count": 1,
   "id": "fca75e80",
   "metadata": {},
   "outputs": [],
   "source": [
    "def TwoSum(nums,target):\n",
    "    \n",
    "    for i in range(len(nums)):\n",
    "        for j in range(i+1,len(nums)):\n",
    "            if nums[i] + nums [j] == target:\n",
    "                \n",
    "                return [i,j]\n",
    "    return []"
   ]
  },
  {
   "cell_type": "code",
   "execution_count": 2,
   "id": "40f4c2a5",
   "metadata": {},
   "outputs": [
    {
     "data": {
      "text/plain": [
       "[0, 1]"
      ]
     },
     "execution_count": 2,
     "metadata": {},
     "output_type": "execute_result"
    }
   ],
   "source": [
    "num=[2,7,11,15]\n",
    "target=9\n",
    "\n",
    "TwoSum(num,target)"
   ]
  },
  {
   "cell_type": "code",
   "execution_count": 4,
   "id": "c133652c",
   "metadata": {},
   "outputs": [],
   "source": [
    "\n",
    "num = [3,2,4]\n",
    "target = 6\n"
   ]
  },
  {
   "cell_type": "code",
   "execution_count": 5,
   "id": "6add927b",
   "metadata": {},
   "outputs": [
    {
     "data": {
      "text/plain": [
       "[1, 2]"
      ]
     },
     "execution_count": 5,
     "metadata": {},
     "output_type": "execute_result"
    }
   ],
   "source": [
    "TwoSum(num,target)"
   ]
  },
  {
   "cell_type": "code",
   "execution_count": 7,
   "id": "1433205c",
   "metadata": {},
   "outputs": [
    {
     "name": "stdout",
     "output_type": "stream",
     "text": [
      "12 24 55 66 88\n",
      "[12, 24, 55, 66, 88]\n"
     ]
    }
   ],
   "source": [
    "x=list(map(int,input().split()))\n",
    "\n",
    "print(x)"
   ]
  },
  {
   "cell_type": "code",
   "execution_count": 8,
   "id": "ac4142c5",
   "metadata": {},
   "outputs": [
    {
     "name": "stdout",
     "output_type": "stream",
     "text": [
      "[12,45,88,95]\n",
      "[12,45,88,95]\n"
     ]
    }
   ],
   "source": [
    "c=input()\n",
    "print(c)"
   ]
  },
  {
   "cell_type": "code",
   "execution_count": 19,
   "id": "a57e743a",
   "metadata": {},
   "outputs": [
    {
     "name": "stdout",
     "output_type": "stream",
     "text": [
      "[2,7,11,15]\n",
      "9\n",
      "[]\n"
     ]
    }
   ],
   "source": [
    "class Solution:\n",
    "    def twoSum(self,nums,target):\n",
    "        self.nums=nums\n",
    "        self.target=target\n",
    "    \n",
    "        for i in range(len(nums)):\n",
    "            for j in range(i+1,len(nums)):\n",
    "                if nums[i] + nums [j] == target:\n",
    "                \n",
    "                    return [i,j]\n",
    "        return []\n",
    "                \n",
    "           \n",
    "    \n",
    "nums=input()\n",
    "target=int(input())\n",
    "s1=Solution()\n",
    "\n",
    "print(s1.twoSum(nums,target))"
   ]
  },
  {
   "cell_type": "code",
   "execution_count": 22,
   "id": "04aa75ce",
   "metadata": {},
   "outputs": [
    {
     "name": "stdout",
     "output_type": "stream",
     "text": [
      "[2,7,11,15]\n",
      "9\n"
     ]
    },
    {
     "ename": "IndexError",
     "evalue": "string index out of range",
     "output_type": "error",
     "traceback": [
      "\u001b[1;31m---------------------------------------------------------------------------\u001b[0m",
      "\u001b[1;31mIndexError\u001b[0m                                Traceback (most recent call last)",
      "\u001b[1;32m<ipython-input-22-781be78ec0b0>\u001b[0m in \u001b[0;36m<module>\u001b[1;34m\u001b[0m\n\u001b[0;32m     15\u001b[0m \u001b[0ms1\u001b[0m\u001b[1;33m=\u001b[0m\u001b[0mSolution\u001b[0m\u001b[1;33m(\u001b[0m\u001b[1;33m)\u001b[0m\u001b[1;33m\u001b[0m\u001b[1;33m\u001b[0m\u001b[0m\n\u001b[0;32m     16\u001b[0m \u001b[1;33m\u001b[0m\u001b[0m\n\u001b[1;32m---> 17\u001b[1;33m \u001b[0mprint\u001b[0m\u001b[1;33m(\u001b[0m\u001b[0ms1\u001b[0m\u001b[1;33m.\u001b[0m\u001b[0mtwoSum\u001b[0m\u001b[1;33m(\u001b[0m\u001b[0mnums\u001b[0m\u001b[1;33m,\u001b[0m\u001b[0mtarget\u001b[0m\u001b[1;33m)\u001b[0m\u001b[1;33m)\u001b[0m\u001b[1;33m\u001b[0m\u001b[1;33m\u001b[0m\u001b[0m\n\u001b[0m",
      "\u001b[1;32m<ipython-input-22-781be78ec0b0>\u001b[0m in \u001b[0;36mtwoSum\u001b[1;34m(self, nums, target)\u001b[0m\n\u001b[0;32m      3\u001b[0m         \u001b[0mi\u001b[0m \u001b[1;33m=\u001b[0m \u001b[1;36m0\u001b[0m\u001b[1;33m\u001b[0m\u001b[1;33m\u001b[0m\u001b[0m\n\u001b[0;32m      4\u001b[0m         \u001b[1;32mwhile\u001b[0m \u001b[1;32mTrue\u001b[0m\u001b[1;33m:\u001b[0m\u001b[1;33m\u001b[0m\u001b[1;33m\u001b[0m\u001b[0m\n\u001b[1;32m----> 5\u001b[1;33m             \u001b[0mn\u001b[0m \u001b[1;33m=\u001b[0m \u001b[0mnums\u001b[0m\u001b[1;33m[\u001b[0m\u001b[0mi\u001b[0m\u001b[1;33m]\u001b[0m\u001b[1;33m\u001b[0m\u001b[1;33m\u001b[0m\u001b[0m\n\u001b[0m\u001b[0;32m      6\u001b[0m             \u001b[1;32mfor\u001b[0m \u001b[0mj\u001b[0m \u001b[1;32min\u001b[0m \u001b[0mrange\u001b[0m\u001b[1;33m(\u001b[0m\u001b[0mi\u001b[0m\u001b[1;33m+\u001b[0m\u001b[1;36m1\u001b[0m\u001b[1;33m,\u001b[0m \u001b[0mlen\u001b[0m\u001b[1;33m(\u001b[0m\u001b[0mnums\u001b[0m\u001b[1;33m)\u001b[0m\u001b[1;33m)\u001b[0m\u001b[1;33m:\u001b[0m\u001b[1;33m\u001b[0m\u001b[1;33m\u001b[0m\u001b[0m\n\u001b[0;32m      7\u001b[0m                 \u001b[1;32mif\u001b[0m \u001b[0mn\u001b[0m\u001b[1;33m+\u001b[0m\u001b[0mnums\u001b[0m\u001b[1;33m[\u001b[0m\u001b[0mj\u001b[0m\u001b[1;33m]\u001b[0m\u001b[1;33m==\u001b[0m\u001b[0mtarget\u001b[0m\u001b[1;33m:\u001b[0m\u001b[1;33m\u001b[0m\u001b[1;33m\u001b[0m\u001b[0m\n",
      "\u001b[1;31mIndexError\u001b[0m: string index out of range"
     ]
    }
   ],
   "source": [
    "class Solution:\n",
    "    def twoSum(self,nums, target):\n",
    "        i = 0\n",
    "        while True:\n",
    "            n = nums[i]\n",
    "            for j in range(i+1, len(nums)):\n",
    "                if n+nums[j]==target:\n",
    "                    return [i,j]\n",
    "            i+=1\n",
    "             \n",
    "            \n",
    " \n",
    "nums=input()\n",
    "target=int(input())\n",
    "s1=Solution()\n",
    "\n",
    "print(s1.twoSum(nums,target))"
   ]
  },
  {
   "cell_type": "code",
   "execution_count": null,
   "id": "c945851b",
   "metadata": {},
   "outputs": [],
   "source": [
    "class Solution:\n",
    "    def twoSum(self, nums: List[int], target: int) -> List[int]:\n",
    "        lookup = {}\n",
    "        for i in range(len(nums)):\n",
    "            if nums[i] in lookup:\n",
    "                return (lookup[nums[i]],i)\n",
    "            else:\n",
    "                lookup[target-nums[i]] = i\n",
    "        return None"
   ]
  },
  {
   "cell_type": "code",
   "execution_count": null,
   "id": "94a5f9ed",
   "metadata": {},
   "outputs": [],
   "source": [
    "class Solution:\n",
    "    def twoSum(self, nums: List[int], target: int) -> List[int]:\n",
    "        visited = {}\n",
    "        for index, number in enumerate(nums):\n",
    "            difference = target - number\n",
    "            if difference in visited:\n",
    "                return [visited[difference], index]\n",
    "            else:\n",
    "                visited[number] = index"
   ]
  },
  {
   "cell_type": "code",
   "execution_count": 9,
   "id": "c832d23d",
   "metadata": {},
   "outputs": [],
   "source": [
    "num=[1,6,7,4,5,6,8]\n",
    "target=12\n",
    "\n",
    "def twosum(num,target):\n",
    "    \"\"\"\n",
    "    Syntax: twosum(num,target)\n",
    "    This function returns index of elements in list which sum is equal to target.\n",
    "    \"\"\"\n",
    "    i=0\n",
    "    \n",
    "    while True:\n",
    "        n=num[i]\n",
    "        \n",
    "        for j in range(i+1,len(num)):\n",
    "            if n + num[j] == target:\n",
    "                return [i,j]\n",
    "        i+=1\n",
    "    \n",
    "    "
   ]
  },
  {
   "cell_type": "code",
   "execution_count": 10,
   "id": "d1ea3e97",
   "metadata": {},
   "outputs": [
    {
     "data": {
      "text/plain": [
       "[1, 5]"
      ]
     },
     "execution_count": 10,
     "metadata": {},
     "output_type": "execute_result"
    }
   ],
   "source": [
    "twosum(num,target)"
   ]
  },
  {
   "cell_type": "code",
   "execution_count": null,
   "id": "e2c820cf",
   "metadata": {},
   "outputs": [],
   "source": []
  },
  {
   "cell_type": "code",
   "execution_count": null,
   "id": "1aeb2d95",
   "metadata": {},
   "outputs": [],
   "source": []
  },
  {
   "cell_type": "code",
   "execution_count": null,
   "id": "58e238da",
   "metadata": {},
   "outputs": [],
   "source": []
  },
  {
   "cell_type": "code",
   "execution_count": null,
   "id": "1a8ab3a4",
   "metadata": {},
   "outputs": [],
   "source": []
  }
 ],
 "metadata": {
  "kernelspec": {
   "display_name": "Python 3",
   "language": "python",
   "name": "python3"
  },
  "language_info": {
   "codemirror_mode": {
    "name": "ipython",
    "version": 3
   },
   "file_extension": ".py",
   "mimetype": "text/x-python",
   "name": "python",
   "nbconvert_exporter": "python",
   "pygments_lexer": "ipython3",
   "version": "3.8.8"
  }
 },
 "nbformat": 4,
 "nbformat_minor": 5
}
