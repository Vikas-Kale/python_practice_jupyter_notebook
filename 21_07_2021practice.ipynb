{
 "cells": [
  {
   "cell_type": "code",
   "execution_count": 1,
   "id": "735d9f3a",
   "metadata": {},
   "outputs": [
    {
     "name": "stdout",
     "output_type": "stream",
     "text": [
      "Second max number is :  7\n"
     ]
    }
   ],
   "source": [
    "def second_max_value():\n",
    "    numbers = [10,2,4,5,7]\n",
    "    second_max_value=0\n",
    "    max=0\n",
    "    \n",
    "    for i in range(len(numbers)):   #length of numbers=8\n",
    "        if (numbers[i] >= max):     # for first iteration numbers[i]=1 and max=1 this condition is true,\n",
    "            second_max=max           # second_max=1 and max=1\n",
    "            max=numbers[i]           # max=1 and numbers[i]=2 then for loop continues till max=102 and numbers[i]=55 then the if condition false\n",
    "        elif (numbers[i] >= second_max and numbers[i] <= max): \n",
    "            second_max = numbers[i] \n",
    "    print(\"Second max number is : \",second_max)\n",
    "second_max_value()"
   ]
  },
  {
   "cell_type": "code",
   "execution_count": null,
   "id": "be619393",
   "metadata": {},
   "outputs": [],
   "source": [
    "def get_second_max(input_list):\n",
    "    first_max=max(input_list[0],input_list[1])\n",
    "    second_max=min(input_list[0],input_list[1])\n",
    "    for ele in range(2,len(input_list)):\n",
    "        if input_list[ele]>first_max:\n",
    "            second_max=first_max\n",
    "            first_max=input_list[ele]\n",
    "        else:\n",
    "            if input_list[ele]>second_max:\n",
    "                "
   ]
  },
  {
   "cell_type": "code",
   "execution_count": null,
   "id": "33ed2c2a",
   "metadata": {},
   "outputs": [],
   "source": [
    "write a program to print following output\n",
    "      *\n",
    "    *   *\n",
    "   *  *  *\n",
    "\n",
    "      A\n",
    "    B   C\n",
    "   D  E  F"
   ]
  },
  {
   "cell_type": "code",
   "execution_count": null,
   "id": "48bdb125",
   "metadata": {},
   "outputs": [],
   "source": [
    "Write a program to count occurance of following numbers"
   ]
  },
  {
   "cell_type": "code",
   "execution_count": 7,
   "id": "7c02feba",
   "metadata": {},
   "outputs": [
    {
     "name": "stdout",
     "output_type": "stream",
     "text": [
      "Enter a number: 201\n",
      "Please Enter number in given range\n"
     ]
    }
   ],
   "source": [
    "n=int(input(\"Enter a number: \"))\n",
    "\"\"\"\n",
    "If n is odd, print Weird\n",
    "If n is even and in the inclusive range of 2 to 5, print Not Weird\n",
    "If n is even and in the inclusive range of 6 to 20, print Weird\n",
    "If n is even and greater than 20 , print Not Weird\n",
    "\"\"\"\n",
    "if 1<=n<=100:\n",
    "    \n",
    "    if n%2!=0:\n",
    "        print('Weird')\n",
    "    elif n%2==0 and n in range(2,6):\n",
    "        print('Not Weird')\n",
    "    elif n%2==0 and n in range(6,21):\n",
    "        print('Weird')\n",
    "    elif n%2==0 and n > 20:\n",
    "        print('Not Weird')\n",
    "else:\n",
    "    print('Please Enter number in given range')"
   ]
  },
  {
   "cell_type": "code",
   "execution_count": 4,
   "id": "b6389022",
   "metadata": {},
   "outputs": [
    {
     "name": "stdout",
     "output_type": "stream",
     "text": [
      "4\n",
      "Vikas\n",
      "60\n",
      "Ram\n",
      "70\n",
      "Ganesh\n",
      "75\n",
      "Ramesh\n",
      "80\n"
     ]
    },
    {
     "ename": "NameError",
     "evalue": "name 'n' is not defined",
     "output_type": "error",
     "traceback": [
      "\u001b[1;31m---------------------------------------------------------------------------\u001b[0m",
      "\u001b[1;31mNameError\u001b[0m                                 Traceback (most recent call last)",
      "\u001b[1;32m<ipython-input-4-f4c5616184c1>\u001b[0m in \u001b[0;36m<module>\u001b[1;34m\u001b[0m\n\u001b[0;32m      3\u001b[0m     \u001b[0mname\u001b[0m \u001b[1;33m=\u001b[0m \u001b[0minput\u001b[0m\u001b[1;33m(\u001b[0m\u001b[1;33m)\u001b[0m\u001b[1;33m\u001b[0m\u001b[1;33m\u001b[0m\u001b[0m\n\u001b[0;32m      4\u001b[0m     \u001b[0mscore\u001b[0m \u001b[1;33m=\u001b[0m \u001b[0mfloat\u001b[0m\u001b[1;33m(\u001b[0m\u001b[0minput\u001b[0m\u001b[1;33m(\u001b[0m\u001b[1;33m)\u001b[0m\u001b[1;33m)\u001b[0m\u001b[1;33m\u001b[0m\u001b[1;33m\u001b[0m\u001b[0m\n\u001b[1;32m----> 5\u001b[1;33m \u001b[0mrecords\u001b[0m\u001b[1;33m=\u001b[0m\u001b[1;33m[\u001b[0m\u001b[0mname\u001b[0m\u001b[1;33m[\u001b[0m\u001b[0mn\u001b[0m\u001b[1;33m]\u001b[0m\u001b[1;33m,\u001b[0m\u001b[0mscore\u001b[0m\u001b[1;33m[\u001b[0m\u001b[0mn\u001b[0m\u001b[1;33m]\u001b[0m\u001b[1;33m]\u001b[0m\u001b[1;33m\u001b[0m\u001b[1;33m\u001b[0m\u001b[0m\n\u001b[0m\u001b[0;32m      6\u001b[0m \u001b[1;33m\u001b[0m\u001b[0m\n",
      "\u001b[1;31mNameError\u001b[0m: name 'n' is not defined"
     ]
    }
   ],
   "source": [
    "records=[]\n",
    "for N in range(int(input())):\n",
    "    name = input()\n",
    "    score = float(input())\n",
    "records=[name[n],score[n]]\n",
    "        \n"
   ]
  },
  {
   "cell_type": "code",
   "execution_count": null,
   "id": "0c261324",
   "metadata": {},
   "outputs": [],
   "source": []
  }
 ],
 "metadata": {
  "kernelspec": {
   "display_name": "Python 3",
   "language": "python",
   "name": "python3"
  },
  "language_info": {
   "codemirror_mode": {
    "name": "ipython",
    "version": 3
   },
   "file_extension": ".py",
   "mimetype": "text/x-python",
   "name": "python",
   "nbconvert_exporter": "python",
   "pygments_lexer": "ipython3",
   "version": "3.8.8"
  }
 },
 "nbformat": 4,
 "nbformat_minor": 5
}
