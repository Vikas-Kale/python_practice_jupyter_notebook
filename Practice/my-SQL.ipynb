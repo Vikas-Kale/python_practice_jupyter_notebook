{
 "cells": [
  {
   "cell_type": "code",
   "execution_count": 9,
   "id": "89f7f15e",
   "metadata": {
    "ExecuteTime": {
     "end_time": "2021-09-27T05:15:33.812189Z",
     "start_time": "2021-09-27T05:15:33.132337Z"
    }
   },
   "outputs": [],
   "source": [
    "import mysql.connector"
   ]
  },
  {
   "cell_type": "code",
   "execution_count": 10,
   "id": "b4059059",
   "metadata": {
    "ExecuteTime": {
     "end_time": "2021-09-27T05:17:57.517551Z",
     "start_time": "2021-09-27T05:17:56.865202Z"
    }
   },
   "outputs": [],
   "source": [
    "conn = mysql.connector.connect(host = 'localhost', user = 'root', passwd = 'kalevikas@7798', database = 'peoples')"
   ]
  },
  {
   "cell_type": "code",
   "execution_count": 11,
   "id": "3f99e644",
   "metadata": {
    "ExecuteTime": {
     "end_time": "2021-09-27T05:18:32.836721Z",
     "start_time": "2021-09-27T05:18:32.828721Z"
    }
   },
   "outputs": [],
   "source": [
    "cursor = conn.cursor()"
   ]
  },
  {
   "cell_type": "code",
   "execution_count": 12,
   "id": "b56b4cab",
   "metadata": {
    "ExecuteTime": {
     "end_time": "2021-09-27T05:18:59.875786Z",
     "start_time": "2021-09-27T05:18:59.779751Z"
    }
   },
   "outputs": [],
   "source": [
    "cursor.execute('select * from data')"
   ]
  },
  {
   "cell_type": "code",
   "execution_count": 13,
   "id": "e7006872",
   "metadata": {
    "ExecuteTime": {
     "end_time": "2021-09-27T05:19:14.383033Z",
     "start_time": "2021-09-27T05:19:14.351036Z"
    }
   },
   "outputs": [
    {
     "data": {
      "text/plain": [
       "[('Info-4589', 'Vikas', 'Kale', 'Pune', '7798743804'),\n",
       " ('TATA-8532', 'Suraj', 'Kadam', 'Osmanabad', '9856525623'),\n",
       " ('MindTree-9621', 'Raj', 'Pawar', 'Mumbai', '7453529875')]"
      ]
     },
     "execution_count": 13,
     "metadata": {},
     "output_type": "execute_result"
    }
   ],
   "source": [
    "cursor.fetchall()"
   ]
  },
  {
   "cell_type": "code",
   "execution_count": 14,
   "id": "7a425a18",
   "metadata": {
    "ExecuteTime": {
     "end_time": "2021-09-27T05:25:22.404982Z",
     "start_time": "2021-09-27T05:25:22.244863Z"
    }
   },
   "outputs": [],
   "source": [
    "conn1 = mysql.connector.connect(host = 'localhost', user = 'root', passwd = 'kalevikas@7798', database = 'test')"
   ]
  },
  {
   "cell_type": "code",
   "execution_count": 15,
   "id": "3a62ed25",
   "metadata": {
    "ExecuteTime": {
     "end_time": "2021-09-27T05:25:38.995596Z",
     "start_time": "2021-09-27T05:25:38.979628Z"
    }
   },
   "outputs": [],
   "source": [
    "cursor = conn1.cursor()"
   ]
  },
  {
   "cell_type": "code",
   "execution_count": 16,
   "id": "1329c337",
   "metadata": {
    "ExecuteTime": {
     "end_time": "2021-09-27T05:26:06.662864Z",
     "start_time": "2021-09-27T05:26:06.638861Z"
    }
   },
   "outputs": [],
   "source": [
    "cursor.execute('select * from result')"
   ]
  },
  {
   "cell_type": "code",
   "execution_count": 17,
   "id": "69b2e3b1",
   "metadata": {
    "ExecuteTime": {
     "end_time": "2021-09-27T05:26:13.990757Z",
     "start_time": "2021-09-27T05:26:13.966757Z"
    }
   },
   "outputs": [
    {
     "data": {
      "text/plain": [
       "[('Vikas', '85'), ('Suraj', '90'), ('Raj', '65'), ('Swapnil', '78')]"
      ]
     },
     "execution_count": 17,
     "metadata": {},
     "output_type": "execute_result"
    }
   ],
   "source": [
    "cursor.fetchall()"
   ]
  },
  {
   "cell_type": "code",
   "execution_count": 18,
   "id": "c4a325a8",
   "metadata": {
    "ExecuteTime": {
     "end_time": "2021-09-27T05:43:22.778889Z",
     "start_time": "2021-09-27T05:43:22.634847Z"
    }
   },
   "outputs": [],
   "source": [
    "conn = mysql.connector.connect(host = \"localhost\", user = \"root\", passwd = \"kalevikas@7798\", database = \"mobiles\")"
   ]
  },
  {
   "cell_type": "code",
   "execution_count": 19,
   "id": "6d95ef87",
   "metadata": {
    "ExecuteTime": {
     "end_time": "2021-09-27T05:43:38.409981Z",
     "start_time": "2021-09-27T05:43:38.393980Z"
    }
   },
   "outputs": [],
   "source": [
    "cursor = conn.cursor()"
   ]
  },
  {
   "cell_type": "code",
   "execution_count": 20,
   "id": "e948478d",
   "metadata": {
    "ExecuteTime": {
     "end_time": "2021-09-27T05:44:09.108126Z",
     "start_time": "2021-09-27T05:44:09.084119Z"
    }
   },
   "outputs": [],
   "source": [
    "cursor.execute(\"select * from configuration\")"
   ]
  },
  {
   "cell_type": "code",
   "execution_count": 21,
   "id": "7d369ebd",
   "metadata": {
    "ExecuteTime": {
     "end_time": "2021-09-27T05:44:22.352350Z",
     "start_time": "2021-09-27T05:44:22.328349Z"
    }
   },
   "outputs": [
    {
     "data": {
      "text/plain": [
       "[('Motorola', 12000, '4gb', '5000mah'),\n",
       " ('Nokia', 45000, '8gb', '4000mah'),\n",
       " ('Samsung', 21000, '8gb', '4000mah'),\n",
       " ('Sony', 30000, '4gb', '32000mah'),\n",
       " ('Apple', 8000, '5gb', '4000mah')]"
      ]
     },
     "execution_count": 21,
     "metadata": {},
     "output_type": "execute_result"
    }
   ],
   "source": [
    "cursor.fetchall()"
   ]
  },
  {
   "cell_type": "code",
   "execution_count": 22,
   "id": "d57540d5",
   "metadata": {
    "ExecuteTime": {
     "end_time": "2021-09-27T05:45:22.168806Z",
     "start_time": "2021-09-27T05:45:22.152837Z"
    }
   },
   "outputs": [],
   "source": [
    "for i in cursor:\n",
    "    print(i)"
   ]
  },
  {
   "cell_type": "code",
   "execution_count": null,
   "id": "5e74a73c",
   "metadata": {},
   "outputs": [],
   "source": []
  },
  {
   "cell_type": "markdown",
   "id": "b5b8f0ad",
   "metadata": {},
   "source": [
    "# sqlite3"
   ]
  },
  {
   "cell_type": "code",
   "execution_count": 1,
   "id": "62353d48",
   "metadata": {
    "ExecuteTime": {
     "end_time": "2021-09-25T10:03:14.696771Z",
     "start_time": "2021-09-25T10:03:14.640774Z"
    }
   },
   "outputs": [],
   "source": [
    "import sqlite3"
   ]
  },
  {
   "cell_type": "code",
   "execution_count": 2,
   "id": "73069341",
   "metadata": {
    "ExecuteTime": {
     "end_time": "2021-09-25T10:03:27.709353Z",
     "start_time": "2021-09-25T10:03:27.685352Z"
    }
   },
   "outputs": [
    {
     "name": "stdout",
     "output_type": "stream",
     "text": [
      "['Binary', 'Connection', 'Cursor', 'DataError', 'DatabaseError', 'Date', 'DateFromTicks', 'Error', 'IntegrityError', 'InterfaceError', 'InternalError', 'NotSupportedError', 'OperationalError', 'OptimizedUnicode', 'PARSE_COLNAMES', 'PARSE_DECLTYPES', 'PrepareProtocol', 'ProgrammingError', 'Row', 'SQLITE_ALTER_TABLE', 'SQLITE_ANALYZE', 'SQLITE_ATTACH', 'SQLITE_CREATE_INDEX', 'SQLITE_CREATE_TABLE', 'SQLITE_CREATE_TEMP_INDEX', 'SQLITE_CREATE_TEMP_TABLE', 'SQLITE_CREATE_TEMP_TRIGGER', 'SQLITE_CREATE_TEMP_VIEW', 'SQLITE_CREATE_TRIGGER', 'SQLITE_CREATE_VIEW', 'SQLITE_CREATE_VTABLE', 'SQLITE_DELETE', 'SQLITE_DENY', 'SQLITE_DETACH', 'SQLITE_DONE', 'SQLITE_DROP_INDEX', 'SQLITE_DROP_TABLE', 'SQLITE_DROP_TEMP_INDEX', 'SQLITE_DROP_TEMP_TABLE', 'SQLITE_DROP_TEMP_TRIGGER', 'SQLITE_DROP_TEMP_VIEW', 'SQLITE_DROP_TRIGGER', 'SQLITE_DROP_VIEW', 'SQLITE_DROP_VTABLE', 'SQLITE_FUNCTION', 'SQLITE_IGNORE', 'SQLITE_INSERT', 'SQLITE_OK', 'SQLITE_PRAGMA', 'SQLITE_READ', 'SQLITE_RECURSIVE', 'SQLITE_REINDEX', 'SQLITE_SAVEPOINT', 'SQLITE_SELECT', 'SQLITE_TRANSACTION', 'SQLITE_UPDATE', 'Time', 'TimeFromTicks', 'Timestamp', 'TimestampFromTicks', 'Warning', '__builtins__', '__cached__', '__doc__', '__file__', '__loader__', '__name__', '__package__', '__path__', '__spec__', 'adapt', 'adapters', 'apilevel', 'collections', 'complete_statement', 'connect', 'converters', 'datetime', 'dbapi2', 'enable_callback_tracebacks', 'enable_shared_cache', 'paramstyle', 'register_adapter', 'register_converter', 'sqlite_version', 'sqlite_version_info', 'threadsafety', 'time', 'version', 'version_info']\n"
     ]
    }
   ],
   "source": [
    "print(dir(sqlite3))"
   ]
  },
  {
   "cell_type": "code",
   "execution_count": 3,
   "id": "b1a807f2",
   "metadata": {
    "ExecuteTime": {
     "end_time": "2021-09-25T10:04:53.352179Z",
     "start_time": "2021-09-25T10:04:53.336180Z"
    }
   },
   "outputs": [],
   "source": [
    "# create database file name as Info.db\n",
    "\n",
    "conn=sqlite3.connect('Info.db')"
   ]
  },
  {
   "cell_type": "code",
   "execution_count": 4,
   "id": "25dbc28f",
   "metadata": {
    "ExecuteTime": {
     "end_time": "2021-09-25T10:09:57.115745Z",
     "start_time": "2021-09-25T10:09:56.895529Z"
    }
   },
   "outputs": [
    {
     "data": {
      "text/plain": [
       "<sqlite3.Cursor at 0x1bc9b459810>"
      ]
     },
     "execution_count": 4,
     "metadata": {},
     "output_type": "execute_result"
    }
   ],
   "source": [
    "# create table name Student_info\n",
    "\n",
    "conn.execute(\"create table Student_info(name text,mobile_number int,address text)\")"
   ]
  },
  {
   "cell_type": "code",
   "execution_count": 5,
   "id": "3645ee02",
   "metadata": {
    "ExecuteTime": {
     "end_time": "2021-09-25T10:13:13.031651Z",
     "start_time": "2021-09-25T10:13:12.951653Z"
    }
   },
   "outputs": [
    {
     "data": {
      "text/plain": [
       "<sqlite3.Cursor at 0x1bc9ab0d420>"
      ]
     },
     "execution_count": 5,
     "metadata": {},
     "output_type": "execute_result"
    }
   ],
   "source": [
    "# add records to your Student_info table\n",
    "\n",
    "conn.execute(\"insert into Student_info values('Vikas',7798743804,'Pune')\")"
   ]
  },
  {
   "cell_type": "code",
   "execution_count": 6,
   "id": "1cfbc69a",
   "metadata": {
    "ExecuteTime": {
     "end_time": "2021-09-25T10:13:29.272953Z",
     "start_time": "2021-09-25T10:13:29.044873Z"
    }
   },
   "outputs": [],
   "source": [
    "conn.commit()"
   ]
  },
  {
   "cell_type": "code",
   "execution_count": 7,
   "id": "cc2f50c2",
   "metadata": {
    "ExecuteTime": {
     "end_time": "2021-09-25T10:14:49.466981Z",
     "start_time": "2021-09-25T10:14:49.442983Z"
    }
   },
   "outputs": [],
   "source": [
    "# print all records available in Student_info table\n",
    "\n",
    "result=conn.execute(\"select * from Student_info\")"
   ]
  },
  {
   "cell_type": "code",
   "execution_count": 8,
   "id": "ea720b45",
   "metadata": {
    "ExecuteTime": {
     "end_time": "2021-09-25T10:15:04.278902Z",
     "start_time": "2021-09-25T10:15:04.254973Z"
    }
   },
   "outputs": [
    {
     "data": {
      "text/plain": [
       "[('Vikas', 7798743804, 'Pune')]"
      ]
     },
     "execution_count": 8,
     "metadata": {},
     "output_type": "execute_result"
    }
   ],
   "source": [
    "result.fetchall()"
   ]
  },
  {
   "cell_type": "code",
   "execution_count": 1,
   "id": "902a4910",
   "metadata": {
    "ExecuteTime": {
     "end_time": "2021-09-27T04:34:55.968246Z",
     "start_time": "2021-09-27T04:34:55.944283Z"
    }
   },
   "outputs": [],
   "source": [
    "import sqlite3"
   ]
  },
  {
   "cell_type": "code",
   "execution_count": 2,
   "id": "300d1de4",
   "metadata": {
    "ExecuteTime": {
     "end_time": "2021-09-27T04:35:58.098995Z",
     "start_time": "2021-09-27T04:35:58.074997Z"
    }
   },
   "outputs": [],
   "source": [
    "# create database\n",
    "\n",
    "conn = sqlite3.connect(\"mobiles.db\")"
   ]
  },
  {
   "cell_type": "code",
   "execution_count": 4,
   "id": "e41289b6",
   "metadata": {
    "ExecuteTime": {
     "end_time": "2021-09-27T04:37:53.742206Z",
     "start_time": "2021-09-27T04:37:53.498291Z"
    }
   },
   "outputs": [
    {
     "data": {
      "text/plain": [
       "<sqlite3.Cursor at 0x1f72a90a5e0>"
      ]
     },
     "execution_count": 4,
     "metadata": {},
     "output_type": "execute_result"
    }
   ],
   "source": [
    "# create table\n",
    "\n",
    "conn.execute(\"create table config('company' text, 'ram' text, 'battery' text, 'price' int)\")"
   ]
  },
  {
   "cell_type": "code",
   "execution_count": 5,
   "id": "301d70b9",
   "metadata": {
    "ExecuteTime": {
     "end_time": "2021-09-27T04:40:09.154663Z",
     "start_time": "2021-09-27T04:40:09.082633Z"
    }
   },
   "outputs": [
    {
     "data": {
      "text/plain": [
       "<sqlite3.Cursor at 0x1f72a9a79d0>"
      ]
     },
     "execution_count": 5,
     "metadata": {},
     "output_type": "execute_result"
    }
   ],
   "source": [
    "# add records\n",
    "\n",
    "conn.execute(\"insert into config values('Motorola', '4GB', '5000 mah', 9000)\")"
   ]
  },
  {
   "cell_type": "code",
   "execution_count": 6,
   "id": "1e21dd5f",
   "metadata": {
    "ExecuteTime": {
     "end_time": "2021-09-27T04:40:21.086206Z",
     "start_time": "2021-09-27T04:40:20.924345Z"
    }
   },
   "outputs": [],
   "source": [
    "conn.commit()"
   ]
  },
  {
   "cell_type": "code",
   "execution_count": 7,
   "id": "1b9e871e",
   "metadata": {
    "ExecuteTime": {
     "end_time": "2021-09-27T04:40:59.972878Z",
     "start_time": "2021-09-27T04:40:59.956878Z"
    }
   },
   "outputs": [],
   "source": [
    "result = conn.execute(\"select * from config\")"
   ]
  },
  {
   "cell_type": "code",
   "execution_count": 8,
   "id": "4cf41ff9",
   "metadata": {
    "ExecuteTime": {
     "end_time": "2021-09-27T04:41:08.927823Z",
     "start_time": "2021-09-27T04:41:08.911822Z"
    }
   },
   "outputs": [
    {
     "data": {
      "text/plain": [
       "[('Motorola', '4GB', '5000 mah', 9000)]"
      ]
     },
     "execution_count": 8,
     "metadata": {},
     "output_type": "execute_result"
    }
   ],
   "source": [
    "result.fetchall()"
   ]
  },
  {
   "cell_type": "code",
   "execution_count": null,
   "id": "b748f04f",
   "metadata": {},
   "outputs": [],
   "source": []
  }
 ],
 "metadata": {
  "kernelspec": {
   "display_name": "Python 3",
   "language": "python",
   "name": "python3"
  },
  "language_info": {
   "codemirror_mode": {
    "name": "ipython",
    "version": 3
   },
   "file_extension": ".py",
   "mimetype": "text/x-python",
   "name": "python",
   "nbconvert_exporter": "python",
   "pygments_lexer": "ipython3",
   "version": "3.8.8"
  }
 },
 "nbformat": 4,
 "nbformat_minor": 5
}
