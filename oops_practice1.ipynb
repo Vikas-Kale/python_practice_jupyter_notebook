{
 "cells": [
  {
   "cell_type": "code",
   "execution_count": 5,
   "id": "6d86c8b8",
   "metadata": {
    "ExecuteTime": {
     "end_time": "2021-09-15T16:17:28.583514Z",
     "start_time": "2021-09-15T16:17:28.519517Z"
    }
   },
   "outputs": [
    {
     "name": "stdout",
     "output_type": "stream",
     "text": [
      "Vikas\n",
      "24\n"
     ]
    }
   ],
   "source": [
    "class Person:\n",
    "    def __init__(self,name,age):\n",
    "        self.name=name\n",
    "        self.age=age\n",
    "    \n",
    "p1=Person(\"Vikas\",24)\n",
    "print(p1.name)\n",
    "print(p1.age)"
   ]
  },
  {
   "cell_type": "code",
   "execution_count": 6,
   "id": "31c87429",
   "metadata": {
    "ExecuteTime": {
     "end_time": "2021-09-15T16:17:35.948357Z",
     "start_time": "2021-09-15T16:17:35.932735Z"
    }
   },
   "outputs": [],
   "source": [
    "s1=Person(\"john\",24)"
   ]
  },
  {
   "cell_type": "code",
   "execution_count": 15,
   "id": "ac66f1aa",
   "metadata": {
    "ExecuteTime": {
     "end_time": "2021-09-15T16:27:28.645681Z",
     "start_time": "2021-09-15T16:27:28.621680Z"
    }
   },
   "outputs": [],
   "source": [
    "class Info:\n",
    "    def __init__(self,name,age,mobile_number,address):\n",
    "        self.name=name\n",
    "        self.age=age\n",
    "        self.mobile_number=mobile_number\n",
    "        self.address=address\n",
    "        \n",
    "    def is_valid(self,mobile_number):\n",
    "        \"\"\"\n",
    "        This function is return true if mobile number is valid else False.\n",
    "        \"\"\"\n",
    "        if type(self.mobile_number)==int and len(str(mobile_number))>=10:\n",
    "            print(\"valid\")\n",
    "        else:\n",
    "            print(\"Invalid\")\n",
    "        "
   ]
  },
  {
   "cell_type": "code",
   "execution_count": 16,
   "id": "7c08ea4b",
   "metadata": {
    "ExecuteTime": {
     "end_time": "2021-09-15T16:27:29.083220Z",
     "start_time": "2021-09-15T16:27:29.075221Z"
    }
   },
   "outputs": [],
   "source": [
    "a=Info('Vikas',24,7798743804,'Pune')"
   ]
  },
  {
   "cell_type": "code",
   "execution_count": 17,
   "id": "d8499297",
   "metadata": {
    "ExecuteTime": {
     "end_time": "2021-09-15T16:27:29.579220Z",
     "start_time": "2021-09-15T16:27:29.563219Z"
    }
   },
   "outputs": [
    {
     "name": "stdout",
     "output_type": "stream",
     "text": [
      "valid\n"
     ]
    }
   ],
   "source": [
    "a.is_valid(7798743804)"
   ]
  },
  {
   "cell_type": "code",
   "execution_count": 18,
   "id": "ecd618f1",
   "metadata": {
    "ExecuteTime": {
     "end_time": "2021-09-15T16:27:43.755650Z",
     "start_time": "2021-09-15T16:27:43.739651Z"
    }
   },
   "outputs": [
    {
     "name": "stdout",
     "output_type": "stream",
     "text": [
      "Invalid\n"
     ]
    }
   ],
   "source": [
    "a.is_valid(45987535)"
   ]
  },
  {
   "cell_type": "code",
   "execution_count": 20,
   "id": "9e79b890",
   "metadata": {
    "ExecuteTime": {
     "end_time": "2021-09-15T16:28:29.216950Z",
     "start_time": "2021-09-15T16:28:29.192950Z"
    }
   },
   "outputs": [
    {
     "name": "stdout",
     "output_type": "stream",
     "text": [
      "Help on function is_valid in module __main__:\n",
      "\n",
      "is_valid(self, mobile_number)\n",
      "    This function is return true if mobile number is valid else False.\n",
      "\n"
     ]
    }
   ],
   "source": [
    "help(Info.is_valid)"
   ]
  },
  {
   "cell_type": "code",
   "execution_count": null,
   "id": "c003c6d1",
   "metadata": {},
   "outputs": [],
   "source": [
    "Create a class named Person, with firstname and lastname properties, and a printname method:"
   ]
  },
  {
   "cell_type": "code",
   "execution_count": 24,
   "id": "5de1b73a",
   "metadata": {
    "ExecuteTime": {
     "end_time": "2021-09-15T16:36:23.369551Z",
     "start_time": "2021-09-15T16:36:23.350552Z"
    }
   },
   "outputs": [],
   "source": [
    "class Person:\n",
    "    def __init__(self,fname,lname):\n",
    "        self.fname=fname\n",
    "        self.lname=lname\n",
    "        \n",
    "    def printname(self):\n",
    "        print(f\"My name is {self.fname}\")\n",
    "        print(f\"My surname is {self.lname}\")"
   ]
  },
  {
   "cell_type": "code",
   "execution_count": 25,
   "id": "e084d1c7",
   "metadata": {
    "ExecuteTime": {
     "end_time": "2021-09-15T16:36:24.045802Z",
     "start_time": "2021-09-15T16:36:24.030802Z"
    }
   },
   "outputs": [],
   "source": [
    "x1=Person('Vikas','Kale')"
   ]
  },
  {
   "cell_type": "code",
   "execution_count": 26,
   "id": "f582689b",
   "metadata": {
    "ExecuteTime": {
     "end_time": "2021-09-15T16:36:25.541209Z",
     "start_time": "2021-09-15T16:36:25.522210Z"
    }
   },
   "outputs": [
    {
     "name": "stdout",
     "output_type": "stream",
     "text": [
      "My name is Vikas\n",
      "My surname is Kale\n"
     ]
    }
   ],
   "source": [
    "x1.printname()"
   ]
  },
  {
   "cell_type": "code",
   "execution_count": null,
   "id": "f2deeaa2",
   "metadata": {},
   "outputs": [],
   "source": [
    "Create a class named Student, which will inherit the properties and methods from the Person class:"
   ]
  },
  {
   "cell_type": "code",
   "execution_count": 27,
   "id": "902ce5ec",
   "metadata": {
    "ExecuteTime": {
     "end_time": "2021-09-15T16:43:04.271036Z",
     "start_time": "2021-09-15T16:43:04.254035Z"
    }
   },
   "outputs": [],
   "source": [
    "class Student:                               # parent class\n",
    "    def __init__(self,name,standard):\n",
    "        self.name=name\n",
    "        self.standard=standard\n",
    "        \n",
    "    def showdata(self):\n",
    "        print(\"This is Student class.\")\n",
    "        \n",
    "class Person(Student):                         # child class\n",
    "    def __init__(self,fname,lname):\n",
    "        self.fname=fname\n",
    "        self.lname=lname\n",
    "        \n",
    "    def print_data(self):\n",
    "        print(\"This is Person class\")\n",
    "        print(f\"My first name is {self.fname}\")\n",
    "        print(f\"My last name is {self.lname}\")\n",
    "        \n",
    "        "
   ]
  },
  {
   "cell_type": "code",
   "execution_count": 28,
   "id": "44f9e69b",
   "metadata": {
    "ExecuteTime": {
     "end_time": "2021-09-15T16:43:49.239659Z",
     "start_time": "2021-09-15T16:43:49.223661Z"
    }
   },
   "outputs": [],
   "source": [
    "a1=Student(\"Raj\",12)"
   ]
  },
  {
   "cell_type": "code",
   "execution_count": 29,
   "id": "404646d7",
   "metadata": {
    "ExecuteTime": {
     "end_time": "2021-09-15T16:44:03.181477Z",
     "start_time": "2021-09-15T16:44:03.161480Z"
    }
   },
   "outputs": [
    {
     "name": "stdout",
     "output_type": "stream",
     "text": [
      "This is Student class.\n"
     ]
    }
   ],
   "source": [
    "a1.showdata()"
   ]
  },
  {
   "cell_type": "code",
   "execution_count": 31,
   "id": "3600be4f",
   "metadata": {
    "ExecuteTime": {
     "end_time": "2021-09-15T16:45:01.949950Z",
     "start_time": "2021-09-15T16:45:01.940950Z"
    }
   },
   "outputs": [],
   "source": [
    "a2=Person(\"Raj\",\"Thakrey\")"
   ]
  },
  {
   "cell_type": "code",
   "execution_count": 32,
   "id": "4ebcc789",
   "metadata": {
    "ExecuteTime": {
     "end_time": "2021-09-15T16:45:11.810886Z",
     "start_time": "2021-09-15T16:45:11.792886Z"
    }
   },
   "outputs": [
    {
     "name": "stdout",
     "output_type": "stream",
     "text": [
      "This is Person class\n",
      "My first name is Raj\n",
      "My last name is Thakrey\n"
     ]
    }
   ],
   "source": [
    "a2.print_data()"
   ]
  },
  {
   "cell_type": "code",
   "execution_count": 33,
   "id": "118959fa",
   "metadata": {
    "ExecuteTime": {
     "end_time": "2021-09-15T16:47:28.786215Z",
     "start_time": "2021-09-15T16:47:28.766216Z"
    }
   },
   "outputs": [
    {
     "name": "stdout",
     "output_type": "stream",
     "text": [
      "This is Student class.\n"
     ]
    }
   ],
   "source": [
    "a2.showdata()"
   ]
  },
  {
   "cell_type": "markdown",
   "id": "ba408bff",
   "metadata": {},
   "source": [
    "# What is hash table?"
   ]
  },
  {
   "cell_type": "code",
   "execution_count": null,
   "id": "eb04f827",
   "metadata": {},
   "outputs": [],
   "source": []
  },
  {
   "cell_type": "code",
   "execution_count": null,
   "id": "7d5d43ec",
   "metadata": {},
   "outputs": [],
   "source": []
  },
  {
   "cell_type": "code",
   "execution_count": null,
   "id": "fbe4c874",
   "metadata": {},
   "outputs": [],
   "source": []
  }
 ],
 "metadata": {
  "kernelspec": {
   "display_name": "Python 3",
   "language": "python",
   "name": "python3"
  },
  "language_info": {
   "codemirror_mode": {
    "name": "ipython",
    "version": 3
   },
   "file_extension": ".py",
   "mimetype": "text/x-python",
   "name": "python",
   "nbconvert_exporter": "python",
   "pygments_lexer": "ipython3",
   "version": "3.8.8"
  }
 },
 "nbformat": 4,
 "nbformat_minor": 5
}
