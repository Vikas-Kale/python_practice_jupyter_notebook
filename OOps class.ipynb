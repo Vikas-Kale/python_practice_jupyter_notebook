{
 "cells": [
  {
   "cell_type": "markdown",
   "id": "ad7a195c",
   "metadata": {},
   "source": [
    "# OOP(Object Oriented Programming)"
   ]
  },
  {
   "cell_type": "raw",
   "id": "372ab2f6",
   "metadata": {},
   "source": [
    "What is class ?\n",
    "Class = Design or Blueprint\n",
    "Object = Instance\n",
    "- class is nothing but strecture.\n",
    "- class contains two things\n",
    "    1] attributes - local varialble inside a class\n",
    "    2] methods = a function inside a class called method\n",
    "\n",
    "What is object ?\n",
    "- Object is nothing but instance of a class   # instance mean example,sample.\n",
    "- Every object has it's own properites\n",
    "\n",
    "\n",
    "Rules while creating class\n",
    "1] Class Name must start with capital case\n",
    "2] If name is splited use cample case\n",
    "\n",
    "    Student        #valid\n",
    "    StudentDetails #valid\n",
    "    Student_Details #in-valid\n",
    "\n",
    "3] We need to use class keyword before class name\n",
    "\n",
    "Syntax:\n",
    "#This is defination of a class\n",
    "    class <ClassName>():\n",
    "        #attributes\n",
    "        a = 10\n",
    "        \n",
    "        #Methods\n",
    "        def shwdata(self):\n",
    "            print(\"In showdata\")\n",
    "        \n",
    "#Create a object\n",
    "object_name = <ClassName>()\n",
    "\n",
    "#Now you can call class attributes as well as methods\n",
    "object_name.attribute\n",
    "\n",
    "object_name.method()\n",
    "\n",
    "What is self?\n",
    "- self is current state of object\n",
    "- As soon as any object call method of class. Then self will know that which object called.\n",
    "- IF we are not defining self it will give an error required one argeument not defined."
   ]
  },
  {
   "cell_type": "markdown",
   "id": "d5436f81",
   "metadata": {},
   "source": [
    "## This is defination of class"
   ]
  },
  {
   "cell_type": "code",
   "execution_count": 1,
   "id": "101fdf78",
   "metadata": {},
   "outputs": [],
   "source": [
    "class Test:\n",
    "    a=100  # Attributes\n",
    "    \n",
    "    def showdata(self):  # method\n",
    "        print(\"In-showdata self class\")"
   ]
  },
  {
   "cell_type": "markdown",
   "id": "51f99acf",
   "metadata": {},
   "source": [
    "### create a object of test class name as t1."
   ]
  },
  {
   "cell_type": "code",
   "execution_count": 2,
   "id": "847a768e",
   "metadata": {},
   "outputs": [],
   "source": [
    "t1=Test()  # object"
   ]
  },
  {
   "cell_type": "code",
   "execution_count": 3,
   "id": "5af72265",
   "metadata": {},
   "outputs": [
    {
     "data": {
      "text/plain": [
       "__main__.Test"
      ]
     },
     "execution_count": 3,
     "metadata": {},
     "output_type": "execute_result"
    }
   ],
   "source": [
    "type(t1)"
   ]
  },
  {
   "cell_type": "code",
   "execution_count": 4,
   "id": "cee17fb9",
   "metadata": {},
   "outputs": [
    {
     "data": {
      "text/plain": [
       "100"
      ]
     },
     "execution_count": 4,
     "metadata": {},
     "output_type": "execute_result"
    }
   ],
   "source": [
    "t1.a"
   ]
  },
  {
   "cell_type": "code",
   "execution_count": 6,
   "id": "9f927abe",
   "metadata": {},
   "outputs": [
    {
     "name": "stdout",
     "output_type": "stream",
     "text": [
      "In-showdata self class\n"
     ]
    }
   ],
   "source": [
    "t1.showdata()"
   ]
  },
  {
   "cell_type": "code",
   "execution_count": 7,
   "id": "02765a7c",
   "metadata": {},
   "outputs": [
    {
     "name": "stdout",
     "output_type": "stream",
     "text": [
      "['__class__', '__delattr__', '__dict__', '__dir__', '__doc__', '__eq__', '__format__', '__ge__', '__getattribute__', '__gt__', '__hash__', '__init__', '__init_subclass__', '__le__', '__lt__', '__module__', '__ne__', '__new__', '__reduce__', '__reduce_ex__', '__repr__', '__setattr__', '__sizeof__', '__str__', '__subclasshook__', '__weakref__', 'a', 'showdata']\n"
     ]
    }
   ],
   "source": [
    "print(dir(t1))"
   ]
  },
  {
   "cell_type": "code",
   "execution_count": 8,
   "id": "d23a06a3",
   "metadata": {},
   "outputs": [],
   "source": [
    "t1.a=500"
   ]
  },
  {
   "cell_type": "code",
   "execution_count": 9,
   "id": "17f488f4",
   "metadata": {},
   "outputs": [
    {
     "name": "stdout",
     "output_type": "stream",
     "text": [
      "<__main__.Test object at 0x000001FCE2D95BB0>\n"
     ]
    }
   ],
   "source": [
    "print(t1)"
   ]
  },
  {
   "cell_type": "code",
   "execution_count": 10,
   "id": "4fe1582b",
   "metadata": {},
   "outputs": [
    {
     "name": "stdout",
     "output_type": "stream",
     "text": [
      "500\n"
     ]
    }
   ],
   "source": [
    "print(t1.a)"
   ]
  },
  {
   "cell_type": "code",
   "execution_count": 11,
   "id": "60d4dcee",
   "metadata": {},
   "outputs": [
    {
     "name": "stdout",
     "output_type": "stream",
     "text": [
      "['__class__', '__delattr__', '__dict__', '__dir__', '__doc__', '__eq__', '__format__', '__ge__', '__getattribute__', '__gt__', '__hash__', '__init__', '__init_subclass__', '__le__', '__lt__', '__module__', '__ne__', '__new__', '__reduce__', '__reduce_ex__', '__repr__', '__setattr__', '__sizeof__', '__str__', '__subclasshook__', '__weakref__', 'a', 'showdata']\n"
     ]
    }
   ],
   "source": [
    "print(dir(t1))"
   ]
  },
  {
   "cell_type": "code",
   "execution_count": 12,
   "id": "246166e9",
   "metadata": {},
   "outputs": [
    {
     "ename": "NameError",
     "evalue": "name 't2' is not defined",
     "output_type": "error",
     "traceback": [
      "\u001b[1;31m---------------------------------------------------------------------------\u001b[0m",
      "\u001b[1;31mNameError\u001b[0m                                 Traceback (most recent call last)",
      "\u001b[1;32m<ipython-input-12-9e16d8705d00>\u001b[0m in \u001b[0;36m<module>\u001b[1;34m\u001b[0m\n\u001b[1;32m----> 1\u001b[1;33m \u001b[0mt2\u001b[0m\u001b[1;33m.\u001b[0m\u001b[0mname\u001b[0m\u001b[1;33m=\u001b[0m\u001b[1;34m'Vikas'\u001b[0m\u001b[1;33m\u001b[0m\u001b[1;33m\u001b[0m\u001b[0m\n\u001b[0m",
      "\u001b[1;31mNameError\u001b[0m: name 't2' is not defined"
     ]
    }
   ],
   "source": [
    "t2.name='Vikas'"
   ]
  },
  {
   "cell_type": "code",
   "execution_count": 13,
   "id": "45907310",
   "metadata": {},
   "outputs": [],
   "source": [
    "t2=Test()"
   ]
  },
  {
   "cell_type": "code",
   "execution_count": 14,
   "id": "6a6ed372",
   "metadata": {},
   "outputs": [],
   "source": [
    "t2.name=\"Vikas\""
   ]
  },
  {
   "cell_type": "code",
   "execution_count": 15,
   "id": "9f7d3d49",
   "metadata": {},
   "outputs": [
    {
     "name": "stdout",
     "output_type": "stream",
     "text": [
      "<__main__.Test object at 0x000001FCE2D95670>\n"
     ]
    }
   ],
   "source": [
    "print(t2)"
   ]
  },
  {
   "cell_type": "code",
   "execution_count": 16,
   "id": "7d5f1a9e",
   "metadata": {},
   "outputs": [
    {
     "name": "stdout",
     "output_type": "stream",
     "text": [
      "Vikas\n"
     ]
    }
   ],
   "source": [
    "print(t2.name)"
   ]
  },
  {
   "cell_type": "code",
   "execution_count": 17,
   "id": "2041a2b9",
   "metadata": {},
   "outputs": [
    {
     "name": "stdout",
     "output_type": "stream",
     "text": [
      "['__class__', '__delattr__', '__dict__', '__dir__', '__doc__', '__eq__', '__format__', '__ge__', '__getattribute__', '__gt__', '__hash__', '__init__', '__init_subclass__', '__le__', '__lt__', '__module__', '__ne__', '__new__', '__reduce__', '__reduce_ex__', '__repr__', '__setattr__', '__sizeof__', '__str__', '__subclasshook__', '__weakref__', 'a', 'name', 'showdata']\n"
     ]
    }
   ],
   "source": [
    "print(dir(t2))"
   ]
  },
  {
   "cell_type": "code",
   "execution_count": 18,
   "id": "3449f2ba",
   "metadata": {},
   "outputs": [],
   "source": [
    "t1=Test()"
   ]
  },
  {
   "cell_type": "code",
   "execution_count": 19,
   "id": "7acace17",
   "metadata": {},
   "outputs": [],
   "source": [
    "t1.course=\"python\""
   ]
  },
  {
   "cell_type": "code",
   "execution_count": 20,
   "id": "ad75aa91",
   "metadata": {},
   "outputs": [
    {
     "name": "stdout",
     "output_type": "stream",
     "text": [
      "python\n"
     ]
    }
   ],
   "source": [
    "print(t1.course)"
   ]
  },
  {
   "cell_type": "code",
   "execution_count": 21,
   "id": "1ea9cb48",
   "metadata": {},
   "outputs": [
    {
     "name": "stdout",
     "output_type": "stream",
     "text": [
      "['__class__', '__delattr__', '__dict__', '__dir__', '__doc__', '__eq__', '__format__', '__ge__', '__getattribute__', '__gt__', '__hash__', '__init__', '__init_subclass__', '__le__', '__lt__', '__module__', '__ne__', '__new__', '__reduce__', '__reduce_ex__', '__repr__', '__setattr__', '__sizeof__', '__str__', '__subclasshook__', '__weakref__', 'a', 'course', 'showdata']\n"
     ]
    }
   ],
   "source": [
    "print(dir(t1))"
   ]
  },
  {
   "cell_type": "code",
   "execution_count": 22,
   "id": "0ceeb58d",
   "metadata": {},
   "outputs": [],
   "source": [
    "class MarksofStudents():\n",
    "    marks=95\n",
    "    def showmarks(self):\n",
    "        print(\"Marks of student\")"
   ]
  },
  {
   "cell_type": "code",
   "execution_count": 23,
   "id": "4c1646b6",
   "metadata": {},
   "outputs": [
    {
     "data": {
      "text/plain": [
       "<__main__.MarksofStudents at 0x1fce2dae970>"
      ]
     },
     "execution_count": 23,
     "metadata": {},
     "output_type": "execute_result"
    }
   ],
   "source": [
    "MarksofStudents()"
   ]
  },
  {
   "cell_type": "code",
   "execution_count": 25,
   "id": "aeb0f3fa",
   "metadata": {},
   "outputs": [],
   "source": [
    "t1=MarksofStudents()"
   ]
  },
  {
   "cell_type": "code",
   "execution_count": 26,
   "id": "c2de83e9",
   "metadata": {},
   "outputs": [
    {
     "data": {
      "text/plain": [
       "95"
      ]
     },
     "execution_count": 26,
     "metadata": {},
     "output_type": "execute_result"
    }
   ],
   "source": [
    "t1.marks"
   ]
  },
  {
   "cell_type": "code",
   "execution_count": 27,
   "id": "5920e4db",
   "metadata": {},
   "outputs": [
    {
     "name": "stdout",
     "output_type": "stream",
     "text": [
      "['__class__', '__delattr__', '__dict__', '__dir__', '__doc__', '__eq__', '__format__', '__ge__', '__getattribute__', '__gt__', '__hash__', '__init__', '__init_subclass__', '__le__', '__lt__', '__module__', '__ne__', '__new__', '__reduce__', '__reduce_ex__', '__repr__', '__setattr__', '__sizeof__', '__str__', '__subclasshook__', '__weakref__', 'marks', 'showmarks']\n"
     ]
    }
   ],
   "source": [
    "print(dir(t1))"
   ]
  },
  {
   "cell_type": "code",
   "execution_count": 28,
   "id": "44c3fd58",
   "metadata": {},
   "outputs": [],
   "source": [
    "t2=88\n"
   ]
  },
  {
   "cell_type": "code",
   "execution_count": 29,
   "id": "3c5fefb8",
   "metadata": {},
   "outputs": [],
   "source": [
    "t2=MarksofStudents()"
   ]
  },
  {
   "cell_type": "code",
   "execution_count": 33,
   "id": "4f7e55ed",
   "metadata": {},
   "outputs": [
    {
     "ename": "AttributeError",
     "evalue": "'int' object has no attribute 'marks'",
     "output_type": "error",
     "traceback": [
      "\u001b[1;31m---------------------------------------------------------------------------\u001b[0m",
      "\u001b[1;31mAttributeError\u001b[0m                            Traceback (most recent call last)",
      "\u001b[1;32m<ipython-input-33-9e5f32b5a750>\u001b[0m in \u001b[0;36m<module>\u001b[1;34m\u001b[0m\n\u001b[1;32m----> 1\u001b[1;33m \u001b[0mt2\u001b[0m\u001b[1;33m.\u001b[0m\u001b[0mmarks\u001b[0m\u001b[1;33m=\u001b[0m\u001b[1;36m88\u001b[0m\u001b[1;33m\u001b[0m\u001b[1;33m\u001b[0m\u001b[0m\n\u001b[0m",
      "\u001b[1;31mAttributeError\u001b[0m: 'int' object has no attribute 'marks'"
     ]
    }
   ],
   "source": [
    "t2.marks=88"
   ]
  },
  {
   "cell_type": "code",
   "execution_count": 31,
   "id": "3f0fbd1f",
   "metadata": {},
   "outputs": [],
   "source": [
    "t2=88"
   ]
  },
  {
   "cell_type": "code",
   "execution_count": 34,
   "id": "ad7c4f20",
   "metadata": {},
   "outputs": [
    {
     "ename": "AttributeError",
     "evalue": "'int' object has no attribute 'marks'",
     "output_type": "error",
     "traceback": [
      "\u001b[1;31m---------------------------------------------------------------------------\u001b[0m",
      "\u001b[1;31mAttributeError\u001b[0m                            Traceback (most recent call last)",
      "\u001b[1;32m<ipython-input-34-04ced7e9d19d>\u001b[0m in \u001b[0;36m<module>\u001b[1;34m\u001b[0m\n\u001b[1;32m----> 1\u001b[1;33m \u001b[0mt2\u001b[0m\u001b[1;33m.\u001b[0m\u001b[0mmarks\u001b[0m\u001b[1;33m=\u001b[0m\u001b[1;36m45\u001b[0m\u001b[1;33m\u001b[0m\u001b[1;33m\u001b[0m\u001b[0m\n\u001b[0m",
      "\u001b[1;31mAttributeError\u001b[0m: 'int' object has no attribute 'marks'"
     ]
    }
   ],
   "source": [
    "t2.marks=45"
   ]
  },
  {
   "cell_type": "code",
   "execution_count": 39,
   "id": "5f93c756",
   "metadata": {},
   "outputs": [],
   "source": [
    "class Test:\n",
    "    a=100\n",
    "    \n",
    "    def showdata(self):\n",
    "        a=500\n",
    "        print(\"Value of local variable a is %d and class attribuit a is %d\"%(a,self.a))"
   ]
  },
  {
   "cell_type": "code",
   "execution_count": 40,
   "id": "243f3601",
   "metadata": {},
   "outputs": [],
   "source": [
    "t1=Test()"
   ]
  },
  {
   "cell_type": "code",
   "execution_count": 41,
   "id": "72444b50",
   "metadata": {},
   "outputs": [
    {
     "data": {
      "text/plain": [
       "100"
      ]
     },
     "execution_count": 41,
     "metadata": {},
     "output_type": "execute_result"
    }
   ],
   "source": [
    "t1.a"
   ]
  },
  {
   "cell_type": "code",
   "execution_count": 42,
   "id": "558bf8c4",
   "metadata": {},
   "outputs": [
    {
     "name": "stdout",
     "output_type": "stream",
     "text": [
      "Value of local variable a is 500 and class attribuit a is 100\n"
     ]
    }
   ],
   "source": [
    "t1.showdata()"
   ]
  },
  {
   "cell_type": "code",
   "execution_count": 1,
   "id": "bba37cef",
   "metadata": {},
   "outputs": [],
   "source": [
    "class MarksofStudents():\n",
    "    marks=95\n",
    "    def showmarks(self):\n",
    "        print(\"Marks of student\")"
   ]
  },
  {
   "cell_type": "code",
   "execution_count": 2,
   "id": "654947ef",
   "metadata": {},
   "outputs": [],
   "source": [
    "grades=MarksofStudents()\n"
   ]
  },
  {
   "cell_type": "code",
   "execution_count": 3,
   "id": "4ee71295",
   "metadata": {},
   "outputs": [
    {
     "data": {
      "text/plain": [
       "95"
      ]
     },
     "execution_count": 3,
     "metadata": {},
     "output_type": "execute_result"
    }
   ],
   "source": [
    "grades.marks"
   ]
  },
  {
   "cell_type": "code",
   "execution_count": 4,
   "id": "fba08045",
   "metadata": {},
   "outputs": [
    {
     "data": {
      "text/plain": [
       "<bound method MarksofStudents.showmarks of <__main__.MarksofStudents object at 0x00000274039E55E0>>"
      ]
     },
     "execution_count": 4,
     "metadata": {},
     "output_type": "execute_result"
    }
   ],
   "source": [
    "grades.showmarks"
   ]
  },
  {
   "cell_type": "code",
   "execution_count": 5,
   "id": "b787893a",
   "metadata": {},
   "outputs": [
    {
     "name": "stdout",
     "output_type": "stream",
     "text": [
      "Marks of student\n"
     ]
    }
   ],
   "source": [
    "grades.showmarks()"
   ]
  },
  {
   "cell_type": "code",
   "execution_count": 6,
   "id": "8cb39f5a",
   "metadata": {},
   "outputs": [
    {
     "data": {
      "text/plain": [
       "95"
      ]
     },
     "execution_count": 6,
     "metadata": {},
     "output_type": "execute_result"
    }
   ],
   "source": [
    "grades.marks=100\n",
    "grades1=MarksofStudents()\n",
    "grades1.marks"
   ]
  },
  {
   "cell_type": "code",
   "execution_count": 7,
   "id": "315cb2b1",
   "metadata": {},
   "outputs": [
    {
     "data": {
      "text/plain": [
       "100"
      ]
     },
     "execution_count": 7,
     "metadata": {},
     "output_type": "execute_result"
    }
   ],
   "source": [
    "grades.marks"
   ]
  },
  {
   "cell_type": "code",
   "execution_count": 8,
   "id": "403c501b",
   "metadata": {},
   "outputs": [],
   "source": [
    "grades.name='Vikas'"
   ]
  },
  {
   "cell_type": "code",
   "execution_count": 9,
   "id": "ee267792",
   "metadata": {},
   "outputs": [
    {
     "data": {
      "text/plain": [
       "'Vikas'"
      ]
     },
     "execution_count": 9,
     "metadata": {},
     "output_type": "execute_result"
    }
   ],
   "source": [
    "grades.name"
   ]
  },
  {
   "cell_type": "code",
   "execution_count": 10,
   "id": "0dc1e383",
   "metadata": {},
   "outputs": [
    {
     "name": "stdout",
     "output_type": "stream",
     "text": [
      "['In', 'MarksofStudents', 'Out', '_', '_3', '_4', '_6', '_7', '_9', '__', '___', '__builtin__', '__builtins__', '__doc__', '__loader__', '__name__', '__package__', '__spec__', '_dh', '_i', '_i1', '_i10', '_i2', '_i3', '_i4', '_i5', '_i6', '_i7', '_i8', '_i9', '_ih', '_ii', '_iii', '_oh', 'exit', 'get_ipython', 'grades', 'grades1', 'quit']\n"
     ]
    }
   ],
   "source": [
    "print(dir())"
   ]
  },
  {
   "cell_type": "markdown",
   "id": "2cf724ea",
   "metadata": {},
   "source": [
    "# Concept of self"
   ]
  },
  {
   "cell_type": "code",
   "execution_count": 20,
   "id": "ddd6a36c",
   "metadata": {},
   "outputs": [
    {
     "name": "stdout",
     "output_type": "stream",
     "text": [
      "Enter name: vikas\n"
     ]
    }
   ],
   "source": [
    "class modify():\n",
    "    \n",
    "    name=input(\"Enter name: \").upper()\n",
    "    \n",
    "    def showdata(self):\n",
    "        \n",
    "        print(\"This is my name:\")\n",
    "        "
   ]
  },
  {
   "cell_type": "code",
   "execution_count": 21,
   "id": "451c7183",
   "metadata": {},
   "outputs": [],
   "source": [
    "result1=modify()"
   ]
  },
  {
   "cell_type": "code",
   "execution_count": 23,
   "id": "5c868074",
   "metadata": {},
   "outputs": [],
   "source": [
    "result1.name=\"raj\""
   ]
  },
  {
   "cell_type": "code",
   "execution_count": 24,
   "id": "de6c460c",
   "metadata": {},
   "outputs": [
    {
     "data": {
      "text/plain": [
       "'raj'"
      ]
     },
     "execution_count": 24,
     "metadata": {},
     "output_type": "execute_result"
    }
   ],
   "source": [
    "result1.name"
   ]
  },
  {
   "cell_type": "code",
   "execution_count": 22,
   "id": "0fce5e59",
   "metadata": {},
   "outputs": [],
   "source": [
    "class Test1:\n",
    "    # Attribuits\n",
    "    num=100\n",
    "    \n",
    "    # method\n",
    "    def prt(self):\n",
    "        print(\"the value of num is: \",self.num)"
   ]
  },
  {
   "cell_type": "code",
   "execution_count": 14,
   "id": "394e279a",
   "metadata": {},
   "outputs": [],
   "source": [
    "# create an object:\n",
    "v1=Test1()"
   ]
  },
  {
   "cell_type": "code",
   "execution_count": 15,
   "id": "1e1c765c",
   "metadata": {},
   "outputs": [
    {
     "data": {
      "text/plain": [
       "100"
      ]
     },
     "execution_count": 15,
     "metadata": {},
     "output_type": "execute_result"
    }
   ],
   "source": [
    "v1.num"
   ]
  },
  {
   "cell_type": "code",
   "execution_count": 16,
   "id": "d5e174d5",
   "metadata": {},
   "outputs": [
    {
     "name": "stdout",
     "output_type": "stream",
     "text": [
      "the value of num is:  100\n"
     ]
    }
   ],
   "source": [
    "v1.prt()"
   ]
  },
  {
   "cell_type": "code",
   "execution_count": 17,
   "id": "afe46954",
   "metadata": {},
   "outputs": [
    {
     "name": "stdout",
     "output_type": "stream",
     "text": [
      "['__class__', '__delattr__', '__dict__', '__dir__', '__doc__', '__eq__', '__format__', '__ge__', '__getattribute__', '__gt__', '__hash__', '__init__', '__init_subclass__', '__le__', '__lt__', '__module__', '__ne__', '__new__', '__reduce__', '__reduce_ex__', '__repr__', '__setattr__', '__sizeof__', '__str__', '__subclasshook__', '__weakref__', 'num', 'prt']\n"
     ]
    }
   ],
   "source": [
    "print(dir(v1))"
   ]
  },
  {
   "cell_type": "code",
   "execution_count": 19,
   "id": "43847fa0",
   "metadata": {},
   "outputs": [],
   "source": [
    "v1=500\n"
   ]
  },
  {
   "cell_type": "code",
   "execution_count": 24,
   "id": "5ab070ed",
   "metadata": {},
   "outputs": [],
   "source": [
    "v1=Test1()"
   ]
  },
  {
   "cell_type": "code",
   "execution_count": 25,
   "id": "4e4fa4a7",
   "metadata": {},
   "outputs": [
    {
     "data": {
      "text/plain": [
       "100"
      ]
     },
     "execution_count": 25,
     "metadata": {},
     "output_type": "execute_result"
    }
   ],
   "source": [
    "v1.num"
   ]
  },
  {
   "cell_type": "code",
   "execution_count": 26,
   "id": "a1398e26",
   "metadata": {},
   "outputs": [],
   "source": [
    "v1=500"
   ]
  },
  {
   "cell_type": "code",
   "execution_count": 28,
   "id": "58855cf6",
   "metadata": {},
   "outputs": [
    {
     "data": {
      "text/plain": [
       "500"
      ]
     },
     "execution_count": 28,
     "metadata": {},
     "output_type": "execute_result"
    }
   ],
   "source": [
    "v1"
   ]
  },
  {
   "cell_type": "code",
   "execution_count": null,
   "id": "4bc3a37e",
   "metadata": {},
   "outputs": [],
   "source": []
  },
  {
   "cell_type": "code",
   "execution_count": 30,
   "id": "5fd11cdc",
   "metadata": {},
   "outputs": [],
   "source": [
    "class Test:\n",
    "    # Attribuits\n",
    "    num=100\n",
    "    \n",
    "    # method\n",
    "    def prt(self):\n",
    "        print(\"the value of num is: \",self.num)"
   ]
  },
  {
   "cell_type": "code",
   "execution_count": 31,
   "id": "9325e782",
   "metadata": {},
   "outputs": [],
   "source": [
    "v2=Test()"
   ]
  },
  {
   "cell_type": "code",
   "execution_count": 32,
   "id": "ec9df59b",
   "metadata": {},
   "outputs": [
    {
     "data": {
      "text/plain": [
       "100"
      ]
     },
     "execution_count": 32,
     "metadata": {},
     "output_type": "execute_result"
    }
   ],
   "source": [
    "v2.num"
   ]
  },
  {
   "cell_type": "code",
   "execution_count": 33,
   "id": "3f673cc0",
   "metadata": {},
   "outputs": [
    {
     "name": "stdout",
     "output_type": "stream",
     "text": [
      "the value of num is:  100\n"
     ]
    }
   ],
   "source": [
    "v2.prt()"
   ]
  },
  {
   "cell_type": "code",
   "execution_count": 34,
   "id": "1a016a07",
   "metadata": {},
   "outputs": [],
   "source": [
    "v2.num=400"
   ]
  },
  {
   "cell_type": "code",
   "execution_count": 35,
   "id": "9c42e1cb",
   "metadata": {},
   "outputs": [
    {
     "data": {
      "text/plain": [
       "400"
      ]
     },
     "execution_count": 35,
     "metadata": {},
     "output_type": "execute_result"
    }
   ],
   "source": [
    "v2.num"
   ]
  },
  {
   "cell_type": "code",
   "execution_count": 36,
   "id": "54ab8e89",
   "metadata": {},
   "outputs": [
    {
     "name": "stdout",
     "output_type": "stream",
     "text": [
      "the value of num is:  400\n"
     ]
    }
   ],
   "source": [
    "v2.prt()"
   ]
  },
  {
   "cell_type": "code",
   "execution_count": 37,
   "id": "f1d481c5",
   "metadata": {},
   "outputs": [],
   "source": [
    "v3=Test()"
   ]
  },
  {
   "cell_type": "code",
   "execution_count": 38,
   "id": "b70accaf",
   "metadata": {},
   "outputs": [
    {
     "data": {
      "text/plain": [
       "100"
      ]
     },
     "execution_count": 38,
     "metadata": {},
     "output_type": "execute_result"
    }
   ],
   "source": [
    "v3.num"
   ]
  },
  {
   "cell_type": "code",
   "execution_count": 39,
   "id": "73e3f217",
   "metadata": {},
   "outputs": [
    {
     "name": "stdout",
     "output_type": "stream",
     "text": [
      "the value of num is:  100\n"
     ]
    }
   ],
   "source": [
    "v3.prt()"
   ]
  },
  {
   "cell_type": "code",
   "execution_count": 45,
   "id": "51ca52f0",
   "metadata": {},
   "outputs": [],
   "source": [
    "class StudentInfo:\n",
    "    student_details=list()\n",
    "    \n",
    "    def all_student_details(self,name,course):\n",
    "        student_info=dict()\n",
    "        \n",
    "        student_info[\"name\"]=name\n",
    "        student_info[\"course\"]=course\n",
    "        \n",
    "        self.student_details.append(student_info)\n",
    "        \n",
    "    def showdata(self):\n",
    "        print(\"########STUDENTS INFO ARE:###########\")\n",
    "        \n",
    "        for student in self.student_details:\n",
    "            for name,course in student.items():\n",
    "                print(name,course)\n",
    "            print()\n",
    "            \n",
    "    "
   ]
  },
  {
   "cell_type": "code",
   "execution_count": 46,
   "id": "f7a24c6c",
   "metadata": {},
   "outputs": [],
   "source": [
    "s1=StudentInfo()"
   ]
  },
  {
   "cell_type": "code",
   "execution_count": 47,
   "id": "27e42466",
   "metadata": {},
   "outputs": [
    {
     "name": "stdout",
     "output_type": "stream",
     "text": [
      "########STUDENTS INFO ARE:###########\n"
     ]
    }
   ],
   "source": [
    "s1.showdata()"
   ]
  },
  {
   "cell_type": "code",
   "execution_count": 48,
   "id": "5d45bd3b",
   "metadata": {},
   "outputs": [],
   "source": [
    "s1.all_student_details(\"Vikas\",\"Python\")"
   ]
  },
  {
   "cell_type": "code",
   "execution_count": 49,
   "id": "c4a92c57",
   "metadata": {},
   "outputs": [
    {
     "name": "stdout",
     "output_type": "stream",
     "text": [
      "########STUDENTS INFO ARE:###########\n",
      "name Vikas\n",
      "course Python\n",
      "\n"
     ]
    }
   ],
   "source": [
    "s1.showdata()"
   ]
  },
  {
   "cell_type": "code",
   "execution_count": 51,
   "id": "924473e9",
   "metadata": {},
   "outputs": [],
   "source": [
    "s2=StudentInfo()"
   ]
  },
  {
   "cell_type": "code",
   "execution_count": 52,
   "id": "a172274a",
   "metadata": {},
   "outputs": [],
   "source": [
    "s2.all_student_details(\"Ganesh\",\"SQL\")"
   ]
  },
  {
   "cell_type": "code",
   "execution_count": 53,
   "id": "3023669d",
   "metadata": {},
   "outputs": [
    {
     "name": "stdout",
     "output_type": "stream",
     "text": [
      "########STUDENTS INFO ARE:###########\n",
      "name Vikas\n",
      "course Python\n",
      "\n",
      "name Ganesh\n",
      "course SQL\n",
      "\n"
     ]
    }
   ],
   "source": [
    "s2.showdata()"
   ]
  },
  {
   "cell_type": "code",
   "execution_count": 6,
   "id": "76f2ff5d",
   "metadata": {},
   "outputs": [],
   "source": [
    "# Here we design a class or blueprint.\n",
    "class Computer:\n",
    "    def __init__(self,cpu,ram):\n",
    "        self.cpu=cpu\n",
    "        self.ram=ram\n",
    "    \n",
    "    def config(self):\n",
    "        print(\"The ram is %s and cpu of computer is %s\"%(self.ram,self.cpu))\n",
    "        \n",
    "    "
   ]
  },
  {
   "cell_type": "code",
   "execution_count": 7,
   "id": "a9956a54",
   "metadata": {},
   "outputs": [],
   "source": [
    "# Here we create an object.we can create mutiple objects.\n",
    "comp1=Computer('i5','8gb')"
   ]
  },
  {
   "cell_type": "code",
   "execution_count": 8,
   "id": "5b372e8b",
   "metadata": {},
   "outputs": [
    {
     "name": "stdout",
     "output_type": "stream",
     "text": [
      "The ram is 8gb and cpu of computer is i5\n"
     ]
    }
   ],
   "source": [
    "comp1.config()"
   ]
  },
  {
   "cell_type": "code",
   "execution_count": 9,
   "id": "f60a4054",
   "metadata": {},
   "outputs": [],
   "source": [
    "# another object\n",
    "comp2=Computer(\"i7\",\"24gb\")"
   ]
  },
  {
   "cell_type": "code",
   "execution_count": 10,
   "id": "439a1806",
   "metadata": {},
   "outputs": [
    {
     "name": "stdout",
     "output_type": "stream",
     "text": [
      "The ram is 24gb and cpu of computer is i7\n"
     ]
    }
   ],
   "source": [
    "comp2.config()"
   ]
  },
  {
   "cell_type": "code",
   "execution_count": 11,
   "id": "cc2ee102",
   "metadata": {},
   "outputs": [
    {
     "ename": "TypeError",
     "evalue": "__init__() missing 2 required positional arguments: 'cpu' and 'ram'",
     "output_type": "error",
     "traceback": [
      "\u001b[1;31m---------------------------------------------------------------------------\u001b[0m",
      "\u001b[1;31mTypeError\u001b[0m                                 Traceback (most recent call last)",
      "\u001b[1;32m<ipython-input-11-6b0fdaef948e>\u001b[0m in \u001b[0;36m<module>\u001b[1;34m\u001b[0m\n\u001b[1;32m----> 1\u001b[1;33m \u001b[0mcomp3\u001b[0m\u001b[1;33m=\u001b[0m\u001b[0mComputer\u001b[0m\u001b[1;33m(\u001b[0m\u001b[1;33m)\u001b[0m\u001b[1;33m\u001b[0m\u001b[1;33m\u001b[0m\u001b[0m\n\u001b[0m",
      "\u001b[1;31mTypeError\u001b[0m: __init__() missing 2 required positional arguments: 'cpu' and 'ram'"
     ]
    }
   ],
   "source": [
    "comp3=Computer()"
   ]
  },
  {
   "cell_type": "code",
   "execution_count": 15,
   "id": "282a9d1a",
   "metadata": {},
   "outputs": [
    {
     "name": "stdout",
     "output_type": "stream",
     "text": [
      "2531442785872\n",
      "2531469241168\n"
     ]
    }
   ],
   "source": [
    "# In our system we have a special memory called heap memory.\n",
    "# Inside this heap memory we store all objects that we created.\n",
    "# In this memory the object get some space\n",
    "# We can see the address of this object by using id function.\n",
    "\n",
    "print(id(comp1)) # everytime it will get changed.\n",
    "print(id(comp2))"
   ]
  },
  {
   "cell_type": "code",
   "execution_count": 54,
   "id": "2f1d4290",
   "metadata": {},
   "outputs": [],
   "source": [
    "class TestData:\n",
    "    msg=\"Python with Django\"\n",
    "    \n",
    "    def test1(self):\n",
    "        print(\"I am in test1: \")\n",
    "    \n",
    "    def test2(self):\n",
    "        print(\"I am in test2: \")\n",
    "        print(self.msg)\n",
    "        print(\"After printing msg\")"
   ]
  },
  {
   "cell_type": "code",
   "execution_count": 55,
   "id": "5013258f",
   "metadata": {},
   "outputs": [],
   "source": [
    "r=TestData()"
   ]
  },
  {
   "cell_type": "code",
   "execution_count": 57,
   "id": "aa743412",
   "metadata": {},
   "outputs": [
    {
     "name": "stdout",
     "output_type": "stream",
     "text": [
      "I am in test1: \n"
     ]
    }
   ],
   "source": [
    "r.test1()"
   ]
  },
  {
   "cell_type": "code",
   "execution_count": 58,
   "id": "7178b24a",
   "metadata": {},
   "outputs": [
    {
     "name": "stdout",
     "output_type": "stream",
     "text": [
      "I am in test2: \n",
      "Python with Django\n",
      "After printing msg\n"
     ]
    }
   ],
   "source": [
    "r.test2()"
   ]
  },
  {
   "cell_type": "code",
   "execution_count": 17,
   "id": "b3c9b4e1",
   "metadata": {},
   "outputs": [],
   "source": [
    "class Details:\n",
    "    def __init__(self):\n",
    "        self.name=\"Vikas\"\n",
    "        self.age=24\n",
    "        \n",
    "    def info(self):\n",
    "        print(\"Name is %s and age is %s\"%(self.name,self.age))"
   ]
  },
  {
   "cell_type": "code",
   "execution_count": 18,
   "id": "70b13477",
   "metadata": {},
   "outputs": [],
   "source": [
    "n1=Details()"
   ]
  },
  {
   "cell_type": "code",
   "execution_count": 19,
   "id": "333d328f",
   "metadata": {},
   "outputs": [
    {
     "name": "stdout",
     "output_type": "stream",
     "text": [
      "Name is Vikas and age is 24\n"
     ]
    }
   ],
   "source": [
    "n1.info()"
   ]
  },
  {
   "cell_type": "code",
   "execution_count": 21,
   "id": "a9fcfa3a",
   "metadata": {},
   "outputs": [
    {
     "data": {
      "text/plain": [
       "'Vikas'"
      ]
     },
     "execution_count": 21,
     "metadata": {},
     "output_type": "execute_result"
    }
   ],
   "source": [
    "n1.name"
   ]
  },
  {
   "cell_type": "code",
   "execution_count": 22,
   "id": "6f6e2301",
   "metadata": {},
   "outputs": [
    {
     "data": {
      "text/plain": [
       "24"
      ]
     },
     "execution_count": 22,
     "metadata": {},
     "output_type": "execute_result"
    }
   ],
   "source": [
    "n1.age"
   ]
  },
  {
   "cell_type": "code",
   "execution_count": 23,
   "id": "849dfe9d",
   "metadata": {},
   "outputs": [],
   "source": [
    "n1.name=\"Ganesh\""
   ]
  },
  {
   "cell_type": "code",
   "execution_count": 24,
   "id": "e64dc579",
   "metadata": {},
   "outputs": [
    {
     "data": {
      "text/plain": [
       "<__main__.Details at 0x24d66e2d850>"
      ]
     },
     "execution_count": 24,
     "metadata": {},
     "output_type": "execute_result"
    }
   ],
   "source": [
    "n1"
   ]
  },
  {
   "cell_type": "code",
   "execution_count": 25,
   "id": "1ae90c0f",
   "metadata": {},
   "outputs": [
    {
     "data": {
      "text/plain": [
       "'Ganesh'"
      ]
     },
     "execution_count": 25,
     "metadata": {},
     "output_type": "execute_result"
    }
   ],
   "source": [
    "n1.name"
   ]
  },
  {
   "cell_type": "markdown",
   "id": "8b3b25d0",
   "metadata": {},
   "source": [
    "# Program to compare age"
   ]
  },
  {
   "cell_type": "code",
   "execution_count": 41,
   "id": "c8abed7d",
   "metadata": {},
   "outputs": [
    {
     "name": "stdout",
     "output_type": "stream",
     "text": [
      "They are different\n"
     ]
    }
   ],
   "source": [
    "class StudentDetails:\n",
    "    def __init__(self):\n",
    "        self.name=\"Vikas\"\n",
    "        self.age=24\n",
    "        \n",
    "    def print_messg(self):\n",
    "        print(\"Name=%s and age =%s\"%(self.name,self.age))\n",
    "        \n",
    "\n",
    "\n",
    "    def compare(self,other):\n",
    "        if self.age==other.age:\n",
    "            return True\n",
    "        else:\n",
    "            return False\n",
    "a2=StudentDetails()\n",
    "a2.age=30\n",
    "a1=StudentDetails()\n",
    "\n",
    "\n",
    "if a2.compare(a1):\n",
    "    print(\"They are same\")\n",
    "else:\n",
    "    print(\"They are different\")"
   ]
  },
  {
   "cell_type": "code",
   "execution_count": 42,
   "id": "dbe3ed14",
   "metadata": {},
   "outputs": [
    {
     "name": "stdout",
     "output_type": "stream",
     "text": [
      "They are same\n"
     ]
    }
   ],
   "source": [
    "class StudentDetails:\n",
    "    def __init__(self):\n",
    "        self.name=\"Vikas\"\n",
    "        self.age=24\n",
    "        \n",
    "    def print_messg(self):\n",
    "        print(\"Name=%s and age =%s\"%(self.name,self.age))\n",
    "        \n",
    "\n",
    "\n",
    "    def compare(self,other):\n",
    "        if self.age==other.age:\n",
    "            return True\n",
    "        else:\n",
    "            return False\n",
    "a2=StudentDetails()\n",
    "a2.age=30\n",
    "a1=StudentDetails()\n",
    "a1.age=30\n",
    "\n",
    "\n",
    "if a2.compare(a1):\n",
    "    print(\"They are same\")\n",
    "else:\n",
    "    print(\"They are different\")"
   ]
  },
  {
   "cell_type": "code",
   "execution_count": 27,
   "id": "12e9e2c5",
   "metadata": {},
   "outputs": [],
   "source": [
    "a1=StudentDetails()"
   ]
  },
  {
   "cell_type": "code",
   "execution_count": 28,
   "id": "030ab8b7",
   "metadata": {},
   "outputs": [
    {
     "name": "stdout",
     "output_type": "stream",
     "text": [
      "Name=Vikas and age =24\n"
     ]
    }
   ],
   "source": [
    "a1.print_messg()"
   ]
  },
  {
   "cell_type": "code",
   "execution_count": 29,
   "id": "e1b7c027",
   "metadata": {},
   "outputs": [
    {
     "data": {
      "text/plain": [
       "'Vikas'"
      ]
     },
     "execution_count": 29,
     "metadata": {},
     "output_type": "execute_result"
    }
   ],
   "source": [
    "a1.name"
   ]
  },
  {
   "cell_type": "code",
   "execution_count": 30,
   "id": "38d7ce72",
   "metadata": {},
   "outputs": [
    {
     "data": {
      "text/plain": [
       "24"
      ]
     },
     "execution_count": 30,
     "metadata": {},
     "output_type": "execute_result"
    }
   ],
   "source": [
    "a1.age"
   ]
  },
  {
   "cell_type": "code",
   "execution_count": 31,
   "id": "81ddbac5",
   "metadata": {},
   "outputs": [],
   "source": [
    "a2=StudentDetails()"
   ]
  },
  {
   "cell_type": "code",
   "execution_count": 32,
   "id": "8845cbdc",
   "metadata": {},
   "outputs": [
    {
     "data": {
      "text/plain": [
       "'Vikas'"
      ]
     },
     "execution_count": 32,
     "metadata": {},
     "output_type": "execute_result"
    }
   ],
   "source": [
    "a2.name"
   ]
  },
  {
   "cell_type": "code",
   "execution_count": 33,
   "id": "aebc2efe",
   "metadata": {},
   "outputs": [
    {
     "data": {
      "text/plain": [
       "24"
      ]
     },
     "execution_count": 33,
     "metadata": {},
     "output_type": "execute_result"
    }
   ],
   "source": [
    "a2.age"
   ]
  },
  {
   "cell_type": "code",
   "execution_count": 34,
   "id": "5637ff5c",
   "metadata": {},
   "outputs": [],
   "source": [
    "a2.age=30"
   ]
  },
  {
   "cell_type": "code",
   "execution_count": 35,
   "id": "2eeeec4e",
   "metadata": {},
   "outputs": [
    {
     "name": "stdout",
     "output_type": "stream",
     "text": [
      "Name=Vikas and age =30\n"
     ]
    }
   ],
   "source": [
    "a2.print_messg()"
   ]
  },
  {
   "cell_type": "raw",
   "id": "979cfb5a",
   "metadata": {},
   "source": []
  },
  {
   "cell_type": "markdown",
   "id": "25544905",
   "metadata": {},
   "source": [
    "- two variable\n",
    "\n",
    "1] Instance veriable or object variable\n",
    "2]class variable or static variable"
   ]
  },
  {
   "cell_type": "code",
   "execution_count": null,
   "id": "62a0ae0e",
   "metadata": {},
   "outputs": [],
   "source": []
  },
  {
   "cell_type": "markdown",
   "id": "cb6792df",
   "metadata": {},
   "source": [
    "# Calculate average of marks"
   ]
  },
  {
   "cell_type": "code",
   "execution_count": 43,
   "id": "5e2c5281",
   "metadata": {},
   "outputs": [],
   "source": [
    "class Students:\n",
    "    def __init__(self,m1,m2,m3):# here m1,m2 and m3 is marks\n",
    "        self.m1=m1\n",
    "        self.m2=m2\n",
    "        self.m3=m3\n",
    "        \n",
    "        \n",
    "    def avg(self):\n",
    "        print(\"The average of marks:\")\n",
    "        \n",
    "        return (self.m1+self.m2+self.m3)/3\n",
    "    "
   ]
  },
  {
   "cell_type": "code",
   "execution_count": 44,
   "id": "47ec7da7",
   "metadata": {},
   "outputs": [],
   "source": [
    "a1=Students(23,25,78)"
   ]
  },
  {
   "cell_type": "code",
   "execution_count": 45,
   "id": "edcf7c62",
   "metadata": {},
   "outputs": [
    {
     "name": "stdout",
     "output_type": "stream",
     "text": [
      "The average of marks:\n"
     ]
    },
    {
     "data": {
      "text/plain": [
       "42.0"
      ]
     },
     "execution_count": 45,
     "metadata": {},
     "output_type": "execute_result"
    }
   ],
   "source": [
    "a1.avg()"
   ]
  },
  {
   "cell_type": "code",
   "execution_count": 46,
   "id": "7ce0a2a7",
   "metadata": {},
   "outputs": [],
   "source": [
    "a2=Students(45,20,60)"
   ]
  },
  {
   "cell_type": "code",
   "execution_count": 47,
   "id": "aaf5ba60",
   "metadata": {},
   "outputs": [
    {
     "name": "stdout",
     "output_type": "stream",
     "text": [
      "The average of marks:\n"
     ]
    },
    {
     "data": {
      "text/plain": [
       "41.666666666666664"
      ]
     },
     "execution_count": 47,
     "metadata": {},
     "output_type": "execute_result"
    }
   ],
   "source": [
    "a2.avg()"
   ]
  },
  {
   "cell_type": "code",
   "execution_count": 49,
   "id": "dcc48d42",
   "metadata": {},
   "outputs": [],
   "source": [
    "class Students:\n",
    "    def __init__(self,m1,m2,m3):# here m1,m2 and m3 is marks\n",
    "        self.m1=m1\n",
    "        self.m2=m2\n",
    "        self.m3=m3\n",
    "        \n",
    "        \n",
    "    def avg(self):\n",
    "        print(\"The average of marks:\")\n",
    "        result=(self.m1+self.m2+self.m3)/3\n",
    "        \n",
    "        return \"%.2f\"%(result)  # By using this we get result in 2 digits.\n",
    "    "
   ]
  },
  {
   "cell_type": "code",
   "execution_count": 50,
   "id": "beb5c033",
   "metadata": {},
   "outputs": [],
   "source": [
    "s=Students(60,45,80)"
   ]
  },
  {
   "cell_type": "code",
   "execution_count": 51,
   "id": "56aecf7b",
   "metadata": {},
   "outputs": [
    {
     "name": "stdout",
     "output_type": "stream",
     "text": [
      "The average of marks:\n"
     ]
    },
    {
     "data": {
      "text/plain": [
       "'61.67'"
      ]
     },
     "execution_count": 51,
     "metadata": {},
     "output_type": "execute_result"
    }
   ],
   "source": [
    "s.avg()"
   ]
  },
  {
   "cell_type": "code",
   "execution_count": 52,
   "id": "0e3ceb37",
   "metadata": {},
   "outputs": [],
   "source": [
    "s1=Students(45,20,60)"
   ]
  },
  {
   "cell_type": "code",
   "execution_count": 53,
   "id": "e43d3883",
   "metadata": {},
   "outputs": [
    {
     "name": "stdout",
     "output_type": "stream",
     "text": [
      "The average of marks:\n"
     ]
    },
    {
     "data": {
      "text/plain": [
       "'41.67'"
      ]
     },
     "execution_count": 53,
     "metadata": {},
     "output_type": "execute_result"
    }
   ],
   "source": [
    "s1.avg()"
   ]
  },
  {
   "cell_type": "code",
   "execution_count": null,
   "id": "1d317cfb",
   "metadata": {},
   "outputs": [],
   "source": []
  },
  {
   "cell_type": "code",
   "execution_count": 55,
   "id": "ed08c500",
   "metadata": {},
   "outputs": [],
   "source": [
    "class Students:\n",
    "    school=\"Dnyanvardhini Vidyalay\"\n",
    "    def __init__(self,m1,m2,m3):# here m1,m2 and m3 is marks\n",
    "        self.m1=m1\n",
    "        self.m2=m2\n",
    "        self.m3=m3\n",
    "        \n",
    "        \n",
    "    def avg(self):\n",
    "        print(\"The average of marks:\")\n",
    "        result=(self.m1+self.m2+self.m3)/3\n",
    "        \n",
    "        return \"%.2f\"%(result)  # By using this we get result in 2 digits.\n",
    "    @classmethod      # use decorator\n",
    "    def info(cls):  # for class method use cls instead of self.\n",
    "        return cls.school\n",
    "    "
   ]
  },
  {
   "cell_type": "code",
   "execution_count": 56,
   "id": "f7969178",
   "metadata": {},
   "outputs": [],
   "source": [
    "t1=Students(12,15,17)"
   ]
  },
  {
   "cell_type": "code",
   "execution_count": 57,
   "id": "1f5b7a4e",
   "metadata": {},
   "outputs": [
    {
     "name": "stdout",
     "output_type": "stream",
     "text": [
      "The average of marks:\n"
     ]
    },
    {
     "data": {
      "text/plain": [
       "'14.67'"
      ]
     },
     "execution_count": 57,
     "metadata": {},
     "output_type": "execute_result"
    }
   ],
   "source": [
    "t1.avg()"
   ]
  },
  {
   "cell_type": "code",
   "execution_count": 58,
   "id": "cb6e20e2",
   "metadata": {},
   "outputs": [
    {
     "data": {
      "text/plain": [
       "'Dnyanvardhini Vidyalay'"
      ]
     },
     "execution_count": 58,
     "metadata": {},
     "output_type": "execute_result"
    }
   ],
   "source": [
    "t1.info()"
   ]
  },
  {
   "cell_type": "code",
   "execution_count": 59,
   "id": "06195226",
   "metadata": {},
   "outputs": [
    {
     "data": {
      "text/plain": [
       "'Dnyanvardhini Vidyalay'"
      ]
     },
     "execution_count": 59,
     "metadata": {},
     "output_type": "execute_result"
    }
   ],
   "source": [
    "Students.info()"
   ]
  },
  {
   "cell_type": "code",
   "execution_count": 9,
   "id": "1bbe94aa",
   "metadata": {},
   "outputs": [],
   "source": [
    "class Student:\n",
    "    \n",
    "    School_name=\"SIT,Lonavala\"  # class attribute\n",
    "    \n",
    "    def __init__(self,name,address,marks):\n",
    "        self.name=name\n",
    "        self.address=address\n",
    "        self.marks=marks\n",
    "        \n",
    "        \n",
    "    def get_marks(self):\n",
    "        \n",
    "        \"\"\"\n",
    "        This function returns marks of endividual students.\n",
    "        \"\"\"\n",
    "        return self.marks\n",
    "    \n",
    "class Courses:\n",
    "    \n",
    "    def __init__(self,name,course_name,max_student):\n",
    "        self.name=name\n",
    "        self.course_name=course_name\n",
    "        self.max_student=max_student\n",
    "        self.student=[]\n",
    "    \n",
    "    def add_student(self,student):\n",
    "        self.student=student\n",
    "    \n",
    "    def avg(self,marks):\n",
    "        \"\"\"\n",
    "        This function returns average of total marks in the list.\n",
    "        \"\"\"\n",
    "        self.marks=marks\n",
    "        \n",
    "        value=0\n",
    "        \n",
    "        \n",
    "    \n"
   ]
  },
  {
   "cell_type": "code",
   "execution_count": 10,
   "id": "626ba8be",
   "metadata": {},
   "outputs": [],
   "source": [
    "s1=Student('Vikas',95)\n",
    "s2=Student(\"Suraj\",98)\n",
    "s3=Student(\"Raj\",88)\n",
    "s4=Student(\"Ganesh\",75)\n"
   ]
  },
  {
   "cell_type": "code",
   "execution_count": 13,
   "id": "82177c09",
   "metadata": {},
   "outputs": [
    {
     "data": {
      "text/plain": [
       "75"
      ]
     },
     "execution_count": 13,
     "metadata": {},
     "output_type": "execute_result"
    }
   ],
   "source": [
    "s4.get_marks(\"Ganesh\")"
   ]
  },
  {
   "cell_type": "code",
   "execution_count": 15,
   "id": "9fb8c17f",
   "metadata": {},
   "outputs": [
    {
     "data": {
      "text/plain": [
       "88"
      ]
     },
     "execution_count": 15,
     "metadata": {},
     "output_type": "execute_result"
    }
   ],
   "source": [
    "s3.get_marks(\"Raj\")"
   ]
  },
  {
   "cell_type": "code",
   "execution_count": 18,
   "id": "f1ddecaa",
   "metadata": {},
   "outputs": [
    {
     "name": "stdout",
     "output_type": "stream",
     "text": [
      "89.0\n"
     ]
    }
   ],
   "source": [
    "class Student:\n",
    "    \n",
    "    def __init__(self,name,age,grade):\n",
    "        self.name=name\n",
    "        self.age=age\n",
    "        self.grade=grade\n",
    "        \n",
    "    def get_grade(self):\n",
    "        \n",
    "        return self.grade\n",
    "    \n",
    "class Course:\n",
    "    \n",
    "    def __init__(self,name,max_students):\n",
    "        self.name=name\n",
    "        self.max_students=max_students\n",
    "        self.students=[]\n",
    "        \n",
    "    def add_students(self,student):\n",
    "        \n",
    "        if (len(self.students) < self.max_students):\n",
    "            self.students.append(student)\n",
    "            return True\n",
    "            \n",
    "        return False\n",
    "    \n",
    "    def get_avg(self):\n",
    "        \n",
    "        value=0\n",
    "        for student in self.students:\n",
    "            value += student.get_grade()\n",
    "            \n",
    "        return value/len(self.students)\n",
    "\n",
    "s1=Student('Vikas',24,95)\n",
    "s2=Student(\"Suraj\",25,98)\n",
    "s3=Student(\"Raj\",30,88)\n",
    "s4=Student(\"Ganesh\",45,75)\n",
    "\n",
    "course=Course(\"Science\",5)\n",
    "course.add_students(s1)\n",
    "course.add_students(s2)\n",
    "course.add_students(s3)\n",
    "course.add_students(s4)\n",
    "\n",
    "print(course.get_avg())\n"
   ]
  },
  {
   "cell_type": "code",
   "execution_count": 19,
   "id": "e0839165",
   "metadata": {},
   "outputs": [
    {
     "data": {
      "text/plain": [
       "356"
      ]
     },
     "execution_count": 19,
     "metadata": {},
     "output_type": "execute_result"
    }
   ],
   "source": [
    "95+98+88+75"
   ]
  },
  {
   "cell_type": "code",
   "execution_count": 20,
   "id": "b7e1ebff",
   "metadata": {},
   "outputs": [
    {
     "data": {
      "text/plain": [
       "89.0"
      ]
     },
     "execution_count": 20,
     "metadata": {},
     "output_type": "execute_result"
    }
   ],
   "source": [
    "356/4"
   ]
  },
  {
   "cell_type": "code",
   "execution_count": null,
   "id": "f8a5312c",
   "metadata": {},
   "outputs": [],
   "source": []
  }
 ],
 "metadata": {
  "kernelspec": {
   "display_name": "Python 3",
   "language": "python",
   "name": "python3"
  },
  "language_info": {
   "codemirror_mode": {
    "name": "ipython",
    "version": 3
   },
   "file_extension": ".py",
   "mimetype": "text/x-python",
   "name": "python",
   "nbconvert_exporter": "python",
   "pygments_lexer": "ipython3",
   "version": "3.8.8"
  }
 },
 "nbformat": 4,
 "nbformat_minor": 5
}
