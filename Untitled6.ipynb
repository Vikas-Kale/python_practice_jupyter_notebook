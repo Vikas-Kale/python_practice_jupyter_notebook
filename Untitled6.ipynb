{
 "cells": [
  {
   "cell_type": "code",
   "execution_count": 1,
   "id": "c7a32fb1",
   "metadata": {},
   "outputs": [],
   "source": [
    "num=['vikas','ramesh','raj']"
   ]
  },
  {
   "cell_type": "code",
   "execution_count": 3,
   "id": "f6954622",
   "metadata": {},
   "outputs": [
    {
     "ename": "SyntaxError",
     "evalue": "unexpected EOF while parsing (<ipython-input-3-053158d7e610>, line 1)",
     "output_type": "error",
     "traceback": [
      "\u001b[1;36m  File \u001b[1;32m\"<ipython-input-3-053158d7e610>\"\u001b[1;36m, line \u001b[1;32m1\u001b[0m\n\u001b[1;33m    for x in num:\u001b[0m\n\u001b[1;37m                 ^\u001b[0m\n\u001b[1;31mSyntaxError\u001b[0m\u001b[1;31m:\u001b[0m unexpected EOF while parsing\n"
     ]
    }
   ],
   "source": [
    "for x in num:\n",
    "    "
   ]
  },
  {
   "cell_type": "code",
   "execution_count": 7,
   "id": "1a0fa19e",
   "metadata": {},
   "outputs": [
    {
     "ename": "IndentationError",
     "evalue": "expected an indented block (<ipython-input-7-8b990a7ea39a>, line 2)",
     "output_type": "error",
     "traceback": [
      "\u001b[1;36m  File \u001b[1;32m\"<ipython-input-7-8b990a7ea39a>\"\u001b[1;36m, line \u001b[1;32m2\u001b[0m\n\u001b[1;33m    print(\"Hellow World\")\u001b[0m\n\u001b[1;37m    ^\u001b[0m\n\u001b[1;31mIndentationError\u001b[0m\u001b[1;31m:\u001b[0m expected an indented block\n"
     ]
    }
   ],
   "source": [
    "for i in range(10):\n",
    "print(\"Hellow World\")"
   ]
  },
  {
   "cell_type": "code",
   "execution_count": 8,
   "id": "076edc63",
   "metadata": {},
   "outputs": [
    {
     "name": "stdout",
     "output_type": "stream",
     "text": [
      "Hellow World\n",
      "Hellow World\n",
      "Hellow World\n",
      "Hellow World\n",
      "Hellow World\n",
      "Hellow World\n",
      "Hellow World\n",
      "Hellow World\n",
      "Hellow World\n",
      "Hellow World\n"
     ]
    }
   ],
   "source": [
    "for i in range(10):\n",
    "    print(\"Hellow World\")"
   ]
  },
  {
   "cell_type": "code",
   "execution_count": 10,
   "id": "7e98b3cd",
   "metadata": {},
   "outputs": [
    {
     "name": "stdout",
     "output_type": "stream",
     "text": [
      "Hellow world 0\n",
      "Hellow world 1\n",
      "Hellow world 2\n",
      "Hellow world 3\n",
      "Hellow world 4\n",
      "Hellow world 5\n",
      "Hellow world 6\n",
      "Hellow world 7\n",
      "Hellow world 8\n",
      "Hellow world 9\n",
      "Hellow world 10\n",
      "Hellow world 11\n",
      "Hellow world 12\n",
      "Hellow world 13\n",
      "Hellow world 14\n",
      "Hellow world 15\n",
      "Hellow world 16\n",
      "Hellow world 17\n",
      "Hellow world 18\n",
      "Hellow world 19\n"
     ]
    }
   ],
   "source": [
    "for i in range(20):\n",
    "    print(\"Hellow world\",i)"
   ]
  },
  {
   "cell_type": "code",
   "execution_count": 14,
   "id": "b8031d56",
   "metadata": {},
   "outputs": [
    {
     "name": "stdout",
     "output_type": "stream",
     "text": [
      "1 Vikas\n",
      "2 Vikas\n",
      "3 Vikas\n",
      "4 Vikas\n",
      "5 Vikas\n",
      "6 Vikas\n",
      "7 Vikas\n",
      "8 Vikas\n",
      "9 Vikas\n",
      "10 Vikas\n"
     ]
    }
   ],
   "source": [
    "for i in range(1,11):\n",
    "    print(i,\"Vikas\")"
   ]
  },
  {
   "cell_type": "code",
   "execution_count": 15,
   "id": "dc827d08",
   "metadata": {},
   "outputs": [],
   "source": [
    "sample_chars=['a','b','c','d']\n"
   ]
  },
  {
   "cell_type": "code",
   "execution_count": 21,
   "id": "9b09d69a",
   "metadata": {},
   "outputs": [
    {
     "ename": "IndentationError",
     "evalue": "expected an indented block (<ipython-input-21-ba17021e5bc3>, line 2)",
     "output_type": "error",
     "traceback": [
      "\u001b[1;36m  File \u001b[1;32m\"<ipython-input-21-ba17021e5bc3>\"\u001b[1;36m, line \u001b[1;32m2\u001b[0m\n\u001b[1;33m    print(sample_chars[ele])\u001b[0m\n\u001b[1;37m    ^\u001b[0m\n\u001b[1;31mIndentationError\u001b[0m\u001b[1;31m:\u001b[0m expected an indented block\n"
     ]
    }
   ],
   "source": [
    "for ele in range(len(sample_chars)):\n",
    "print(sample_chars[ele])"
   ]
  },
  {
   "cell_type": "code",
   "execution_count": null,
   "id": "3111a038",
   "metadata": {},
   "outputs": [],
   "source": []
  }
 ],
 "metadata": {
  "kernelspec": {
   "display_name": "Python 3",
   "language": "python",
   "name": "python3"
  },
  "language_info": {
   "codemirror_mode": {
    "name": "ipython",
    "version": 3
   },
   "file_extension": ".py",
   "mimetype": "text/x-python",
   "name": "python",
   "nbconvert_exporter": "python",
   "pygments_lexer": "ipython3",
   "version": "3.8.8"
  }
 },
 "nbformat": 4,
 "nbformat_minor": 5
}
