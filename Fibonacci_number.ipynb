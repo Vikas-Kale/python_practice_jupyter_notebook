{
 "cells": [
  {
   "cell_type": "code",
   "execution_count": null,
   "id": "fe3a964d",
   "metadata": {},
   "outputs": [],
   "source": [
    "A series of number in which each number(fibonacci number) is the sum of two preceding numbers.\n",
    "\n",
    "0 1  1  2  3  5  8  13  21 .....\n",
    "| |  |  |  |  |  |   |   |\n",
    "a b  c  d  e  f  g   h   i\n",
    "\n",
    "\n",
    "Here c is the sum of two preceding numbers like;c=a+b=0+1=1\n",
    "d=2 ;  d=b+c=1+1=2\n",
    "e=3 ;  e=c+d=1+2=3\n",
    "f=5 ;  f=d+e=2+3=5\n",
    "g=8 ;  g=e+f=3+5=8\n"
   ]
  },
  {
   "cell_type": "markdown",
   "id": "1c905012",
   "metadata": {},
   "source": [
    "# Write a program to print first 10 fibonacci numbers."
   ]
  },
  {
   "cell_type": "code",
   "execution_count": 9,
   "id": "e571552d",
   "metadata": {},
   "outputs": [
    {
     "name": "stdout",
     "output_type": "stream",
     "text": [
      "0\n",
      "1\n",
      "1\n",
      "2\n",
      "3\n",
      "5\n",
      "8\n",
      "13\n",
      "21\n",
      "34\n"
     ]
    }
   ],
   "source": [
    "num1=0\n",
    "num2=1\n",
    "\n",
    "print(num1)\n",
    "print(num2)\n",
    "\n",
    "for i in range(2,10):      # i=2,3,4,5,6,7,8,9\n",
    "    sum=num1+num2         # sum=0+1=1 ; 2nd: sum=1+1=2; 3rd: sum=3 \n",
    "    print(sum)            # sum=1 ; 2nd: sum=2 ; 3rd: sum=3\n",
    "    num1=num2             # num1=1  ; num2=1\n",
    "    num2=sum               # num2=sum ;num2=2 \n",
    "    "
   ]
  },
  {
   "cell_type": "markdown",
   "id": "4012a3a4",
   "metadata": {},
   "source": [
    "# Write a program to print fibonacci numbers from 5 to 50."
   ]
  },
  {
   "cell_type": "code",
   "execution_count": 10,
   "id": "659c068a",
   "metadata": {},
   "outputs": [
    {
     "name": "stdout",
     "output_type": "stream",
     "text": [
      "1\n",
      "2\n",
      "3\n",
      "5\n",
      "8\n",
      "13\n",
      "21\n",
      "34\n",
      "55\n",
      "89\n",
      "144\n",
      "233\n",
      "377\n",
      "610\n",
      "987\n",
      "1597\n",
      "2584\n",
      "4181\n",
      "6765\n",
      "10946\n",
      "17711\n",
      "28657\n",
      "46368\n",
      "75025\n",
      "121393\n",
      "196418\n",
      "317811\n",
      "514229\n",
      "832040\n",
      "1346269\n",
      "2178309\n",
      "3524578\n",
      "5702887\n",
      "9227465\n",
      "14930352\n",
      "24157817\n",
      "39088169\n",
      "63245986\n",
      "102334155\n",
      "165580141\n",
      "267914296\n",
      "433494437\n",
      "701408733\n",
      "1134903170\n",
      "1836311903\n",
      "2971215073\n"
     ]
    }
   ],
   "source": [
    "num1=0\n",
    "num2=1\n",
    "\n",
    "for i in range(5,51):\n",
    "    sum=num1+num2\n",
    "    print(sum)\n",
    "    num1=num2\n",
    "    num2=sum"
   ]
  },
  {
   "cell_type": "code",
   "execution_count": 12,
   "id": "e56c9902",
   "metadata": {},
   "outputs": [
    {
     "name": "stdout",
     "output_type": "stream",
     "text": [
      "1\n",
      "2\n",
      "3\n",
      "5\n",
      "8\n",
      "13\n",
      "21\n",
      "34\n",
      "55\n",
      "89\n",
      "144\n",
      "233\n",
      "377\n",
      "610\n",
      "987\n",
      "1597\n",
      "2584\n",
      "4181\n"
     ]
    }
   ],
   "source": [
    "num1=0\n",
    "num2=1\n",
    "def fibo():\n",
    "    for i in range(2,20):\n",
    "        global num1\n",
    "        global num2\n",
    "        sum=num1+num2\n",
    "        print(sum)\n",
    "        num1=num2\n",
    "        num2=sum\n",
    "    \n",
    "fibo()\n",
    "    "
   ]
  },
  {
   "cell_type": "code",
   "execution_count": 14,
   "id": "43ed4f37",
   "metadata": {},
   "outputs": [
    {
     "name": "stdout",
     "output_type": "stream",
     "text": [
      "1\n",
      "2\n",
      "3\n",
      "5\n",
      "8\n",
      "13\n",
      "21\n",
      "34\n",
      "55\n",
      "89\n",
      "144\n",
      "233\n",
      "377\n"
     ]
    }
   ],
   "source": [
    "num1=0\n",
    "num2=1\n",
    "def fibo():\n",
    "    for i in range(2,15):\n",
    "        global num1,num2\n",
    "        \n",
    "        sum=num1+num2\n",
    "        print(sum)\n",
    "        num1=num2\n",
    "        num2=sum\n",
    "    \n",
    "fibo()\n",
    "    "
   ]
  },
  {
   "cell_type": "markdown",
   "id": "41b8fee9",
   "metadata": {},
   "source": [
    "# Write a program to multiply all numbers in a list."
   ]
  },
  {
   "cell_type": "code",
   "execution_count": 27,
   "id": "50733ccd",
   "metadata": {},
   "outputs": [
    {
     "name": "stdout",
     "output_type": "stream",
     "text": [
      "120\n"
     ]
    }
   ],
   "source": [
    "num1=[1,2,3,4,5]\n",
    "result=1\n",
    "for i in num1:\n",
    "    \n",
    "    result=result*i\n",
    "print(result)"
   ]
  },
  {
   "cell_type": "code",
   "execution_count": 28,
   "id": "4f8e26c8",
   "metadata": {},
   "outputs": [
    {
     "data": {
      "text/plain": [
       "120"
      ]
     },
     "execution_count": 28,
     "metadata": {},
     "output_type": "execute_result"
    }
   ],
   "source": [
    "1*2*3*4*5"
   ]
  },
  {
   "cell_type": "code",
   "execution_count": 23,
   "id": "3c0f72a6",
   "metadata": {},
   "outputs": [
    {
     "data": {
      "text/plain": [
       "120"
      ]
     },
     "execution_count": 23,
     "metadata": {},
     "output_type": "execute_result"
    }
   ],
   "source": [
    "24*5"
   ]
  },
  {
   "cell_type": "code",
   "execution_count": 29,
   "id": "3c92d2a6",
   "metadata": {},
   "outputs": [
    {
     "name": "stdout",
     "output_type": "stream",
     "text": [
      "40\n"
     ]
    }
   ],
   "source": [
    "num2=[2,4,5]\n",
    "mul=1\n",
    "for i in num2:\n",
    "    mul=mul*i\n",
    "print(mul)"
   ]
  },
  {
   "cell_type": "code",
   "execution_count": 7,
   "id": "d2b1552a",
   "metadata": {},
   "outputs": [
    {
     "name": "stdout",
     "output_type": "stream",
     "text": [
      "[1, 2, 6, 24, 120]\n"
     ]
    }
   ],
   "source": [
    "import itertools\n",
    "\n",
    "num1=[1,2,3,4,5]\n",
    "\n",
    "result=itertools.accumulate(num1,lambda x,y :x*y)\n",
    "\n",
    "print(list(result))\n",
    "\n"
   ]
  },
  {
   "cell_type": "code",
   "execution_count": 8,
   "id": "df64813a",
   "metadata": {},
   "outputs": [
    {
     "name": "stdout",
     "output_type": "stream",
     "text": [
      "120\n"
     ]
    }
   ],
   "source": [
    "import functools\n",
    "\n",
    "num1=[1,2,3,4,5]\n",
    "\n",
    "result1=functools.reduce((lambda x,y :x*y),num1)\n",
    "\n",
    "print(result1)\n",
    "\n"
   ]
  },
  {
   "cell_type": "code",
   "execution_count": null,
   "id": "5ae23b9b",
   "metadata": {},
   "outputs": [],
   "source": []
  },
  {
   "cell_type": "code",
   "execution_count": 3,
   "id": "8f499b3c",
   "metadata": {},
   "outputs": [],
   "source": [
    "import itertools"
   ]
  },
  {
   "cell_type": "code",
   "execution_count": 4,
   "id": "22f30bb4",
   "metadata": {},
   "outputs": [
    {
     "name": "stdout",
     "output_type": "stream",
     "text": [
      "['__doc__', '__loader__', '__name__', '__package__', '__spec__', '_grouper', '_tee', '_tee_dataobject', 'accumulate', 'chain', 'combinations', 'combinations_with_replacement', 'compress', 'count', 'cycle', 'dropwhile', 'filterfalse', 'groupby', 'islice', 'permutations', 'product', 'repeat', 'starmap', 'takewhile', 'tee', 'zip_longest']\n"
     ]
    }
   ],
   "source": [
    "print(dir(itertools))"
   ]
  },
  {
   "cell_type": "code",
   "execution_count": 13,
   "id": "8f964fe2",
   "metadata": {},
   "outputs": [
    {
     "name": "stdout",
     "output_type": "stream",
     "text": [
      "1\n",
      "2\n",
      "3\n",
      "5\n",
      "8\n",
      "13\n",
      "21\n",
      "34\n",
      "55\n",
      "89\n"
     ]
    }
   ],
   "source": [
    "num=0\n",
    "num1=1\n",
    "\n",
    "for i in range(1,11):\n",
    "    sum=num+num1\n",
    "    \n",
    "    print(sum)\n",
    "    \n",
    "    num=num1\n",
    "    num1=sum"
   ]
  },
  {
   "cell_type": "code",
   "execution_count": 16,
   "id": "0d8392da",
   "metadata": {},
   "outputs": [],
   "source": [
    "def fibonacci_numbers(nums):\n",
    "    x, y = 0, 1\n",
    "    for _ in range(nums):\n",
    "        x, y = y, x+y\n",
    "        yield x\n",
    "\n",
    "def square(nums):\n",
    "    for num in nums:\n",
    "        yield num**2\n",
    "\n",
    "# print(sum(square(fibonacci_numbers(10))))"
   ]
  },
  {
   "cell_type": "code",
   "execution_count": 18,
   "id": "9b3b9d2a",
   "metadata": {},
   "outputs": [
    {
     "data": {
      "text/plain": [
       "[1, 1, 2, 3, 5, 8, 13, 21, 34, 55]"
      ]
     },
     "execution_count": 18,
     "metadata": {},
     "output_type": "execute_result"
    }
   ],
   "source": [
    "list(fibonacci_numbers(10))"
   ]
  },
  {
   "cell_type": "code",
   "execution_count": 23,
   "id": "1b43fca2",
   "metadata": {},
   "outputs": [],
   "source": [
    "re=list(square(list(fibonacci_numbers(10))))"
   ]
  },
  {
   "cell_type": "code",
   "execution_count": 24,
   "id": "08bd0908",
   "metadata": {},
   "outputs": [
    {
     "name": "stdout",
     "output_type": "stream",
     "text": [
      "[1, 1, 4, 9, 25, 64, 169, 441, 1156, 3025]\n"
     ]
    }
   ],
   "source": [
    "print(re)"
   ]
  },
  {
   "cell_type": "code",
   "execution_count": 27,
   "id": "cbd11d03",
   "metadata": {},
   "outputs": [
    {
     "name": "stdout",
     "output_type": "stream",
     "text": [
      "4895\n"
     ]
    }
   ],
   "source": [
    "x=0\n",
    "for i in re:\n",
    "    x=x+i\n",
    "print(x)    "
   ]
  },
  {
   "cell_type": "code",
   "execution_count": 1,
   "id": "82a7dfb5",
   "metadata": {},
   "outputs": [
    {
     "name": "stdout",
     "output_type": "stream",
     "text": [
      "1\n",
      "2\n",
      "3\n",
      "5\n",
      "8\n",
      "13\n",
      "21\n",
      "34\n",
      "55\n",
      "89\n",
      "144\n",
      "233\n",
      "377\n",
      "610\n",
      "987\n",
      "1597\n",
      "2584\n",
      "4181\n",
      "6765\n"
     ]
    }
   ],
   "source": [
    "def fibbo(num):\n",
    "    \"\"\"\n",
    "    :param num: enter num ,upto num returns fibbonacci numbers.\n",
    "    :return: return fibonacci numbers.\n",
    "    \"\"\"\n",
    "    a = 0\n",
    "    b = 1\n",
    "\n",
    "    for i in range(2,num+1):\n",
    "        sum = a + b\n",
    "        print(sum)\n",
    "        a = b\n",
    "        b = sum\n",
    "fibbo(20)"
   ]
  },
  {
   "cell_type": "code",
   "execution_count": 2,
   "id": "f306a449",
   "metadata": {},
   "outputs": [
    {
     "name": "stdout",
     "output_type": "stream",
     "text": [
      "Help on function fibbo in module __main__:\n",
      "\n",
      "fibbo(num)\n",
      "    :param num: enter num ,upto num returns fibbonacci numbers.\n",
      "    :return: return fibonacci numbers.\n",
      "\n"
     ]
    }
   ],
   "source": [
    "help(fibbo)"
   ]
  },
  {
   "cell_type": "code",
   "execution_count": null,
   "id": "9e227b95",
   "metadata": {},
   "outputs": [],
   "source": []
  }
 ],
 "metadata": {
  "kernelspec": {
   "display_name": "Python 3",
   "language": "python",
   "name": "python3"
  },
  "language_info": {
   "codemirror_mode": {
    "name": "ipython",
    "version": 3
   },
   "file_extension": ".py",
   "mimetype": "text/x-python",
   "name": "python",
   "nbconvert_exporter": "python",
   "pygments_lexer": "ipython3",
   "version": "3.8.8"
  }
 },
 "nbformat": 4,
 "nbformat_minor": 5
}
