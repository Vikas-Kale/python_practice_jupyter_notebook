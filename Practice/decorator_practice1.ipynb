{
 "cells": [
  {
   "cell_type": "code",
   "execution_count": 5,
   "id": "e6df0344",
   "metadata": {
    "ExecuteTime": {
     "end_time": "2021-09-20T05:03:19.481717Z",
     "start_time": "2021-09-20T05:03:19.457717Z"
    }
   },
   "outputs": [],
   "source": [
    "def decorator_example(func):\n",
    "    def inner_func():\n",
    "        print(\"before\")\n",
    "        func()\n",
    "        print(\"after\")\n",
    "    return inner_func        "
   ]
  },
  {
   "cell_type": "code",
   "execution_count": 6,
   "id": "237bc40a",
   "metadata": {
    "ExecuteTime": {
     "end_time": "2021-09-20T05:03:19.916230Z",
     "start_time": "2021-09-20T05:03:19.900233Z"
    }
   },
   "outputs": [],
   "source": [
    "@decorator_example\n",
    "def test():\n",
    "    print(\"I am in func now\")"
   ]
  },
  {
   "cell_type": "code",
   "execution_count": 7,
   "id": "6b01040f",
   "metadata": {
    "ExecuteTime": {
     "end_time": "2021-09-20T05:03:31.119238Z",
     "start_time": "2021-09-20T05:03:31.055241Z"
    }
   },
   "outputs": [
    {
     "name": "stdout",
     "output_type": "stream",
     "text": [
      "before\n",
      "I am in func now\n",
      "after\n"
     ]
    }
   ],
   "source": [
    "test()"
   ]
  },
  {
   "cell_type": "code",
   "execution_count": 8,
   "id": "010f7fa2",
   "metadata": {
    "ExecuteTime": {
     "end_time": "2021-09-20T05:04:35.921285Z",
     "start_time": "2021-09-20T05:04:35.905283Z"
    }
   },
   "outputs": [],
   "source": [
    "@decorator_example\n",
    "def test2():\n",
    "    print(\"I am in test 2 now\")\n",
    "    print(\"Execution done\")"
   ]
  },
  {
   "cell_type": "code",
   "execution_count": 9,
   "id": "436f9263",
   "metadata": {
    "ExecuteTime": {
     "end_time": "2021-09-20T05:04:48.015182Z",
     "start_time": "2021-09-20T05:04:47.991181Z"
    }
   },
   "outputs": [
    {
     "name": "stdout",
     "output_type": "stream",
     "text": [
      "before\n",
      "I am in test 2 now\n",
      "Execution done\n",
      "after\n"
     ]
    }
   ],
   "source": [
    "test2()"
   ]
  },
  {
   "cell_type": "code",
   "execution_count": 23,
   "id": "a3b5a3c1",
   "metadata": {
    "ExecuteTime": {
     "end_time": "2021-09-20T05:22:13.637481Z",
     "start_time": "2021-09-20T05:22:13.613483Z"
    }
   },
   "outputs": [],
   "source": [
    "# Write a program to check input string is valid or not.\n",
    "def is_valid_str(func):\n",
    "    def deco_check_str(input_string):\n",
    "        \"\"\"\n",
    "        This function check whether the string is valid or not.\n",
    "        string is valid when len of str is greater than or equal to 5.\n",
    "        \"\"\"\n",
    "        if type(input_string)==str and len(input_string)>=5:\n",
    "            func(input_string)\n",
    "        else:\n",
    "            print(f\"string is invalid {len(input_string)}\")\n",
    "    return deco_check_str\n",
    "        "
   ]
  },
  {
   "cell_type": "code",
   "execution_count": 26,
   "id": "026467be",
   "metadata": {
    "ExecuteTime": {
     "end_time": "2021-09-20T05:23:03.139488Z",
     "start_time": "2021-09-20T05:23:03.123490Z"
    }
   },
   "outputs": [],
   "source": [
    "@is_valid_str\n",
    "def check_input_string(input_string):\n",
    "    print(\"string is valid\",len(input_string))"
   ]
  },
  {
   "cell_type": "code",
   "execution_count": 27,
   "id": "be4cdd1f",
   "metadata": {
    "ExecuteTime": {
     "end_time": "2021-09-20T05:23:03.977751Z",
     "start_time": "2021-09-20T05:23:03.952597Z"
    }
   },
   "outputs": [
    {
     "name": "stdout",
     "output_type": "stream",
     "text": [
      "string is valid 5\n"
     ]
    }
   ],
   "source": [
    "check_input_string(\"Vikas\")"
   ]
  },
  {
   "cell_type": "code",
   "execution_count": 28,
   "id": "d711a8bf",
   "metadata": {
    "ExecuteTime": {
     "end_time": "2021-09-20T05:23:43.475353Z",
     "start_time": "2021-09-20T05:23:43.443354Z"
    }
   },
   "outputs": [
    {
     "name": "stdout",
     "output_type": "stream",
     "text": [
      "string is valid 12\n"
     ]
    }
   ],
   "source": [
    "check_input_string(\"Ram and Sham\")"
   ]
  },
  {
   "cell_type": "code",
   "execution_count": 29,
   "id": "3ae93b49",
   "metadata": {
    "ExecuteTime": {
     "end_time": "2021-09-20T06:17:03.011345Z",
     "start_time": "2021-09-20T06:17:02.987345Z"
    }
   },
   "outputs": [
    {
     "name": "stdout",
     "output_type": "stream",
     "text": [
      "Now I am in wrapper function.\n",
      "Now display name\n",
      "My name is Vikas\n"
     ]
    }
   ],
   "source": [
    "def deco_func(func):\n",
    "    def wrapper_func():\n",
    "        print(\"Now I am in wrapper function.\")\n",
    "        print(\"Now display name\")\n",
    "        func()\n",
    "    return wrapper_func\n",
    "\n",
    "\n",
    "@deco_func\n",
    "def display():\n",
    "    print(\"My name is Vikas\")\n",
    "    \n",
    "display()"
   ]
  },
  {
   "cell_type": "code",
   "execution_count": 30,
   "id": "4e3b6c44",
   "metadata": {
    "ExecuteTime": {
     "end_time": "2021-09-20T06:19:12.098276Z",
     "start_time": "2021-09-20T06:19:12.074273Z"
    }
   },
   "outputs": [
    {
     "name": "stdout",
     "output_type": "stream",
     "text": [
      "Now I am in wrapper function.\n",
      "Now display name\n",
      "name:- vikas\n",
      "course:-python\n"
     ]
    }
   ],
   "source": [
    "@deco_func\n",
    "def info():\n",
    "    print(\"name:- vikas\")\n",
    "    print(\"course:-python\")\n",
    "info()"
   ]
  },
  {
   "cell_type": "code",
   "execution_count": 39,
   "id": "5d2e196e",
   "metadata": {
    "ExecuteTime": {
     "end_time": "2021-09-20T06:32:22.980659Z",
     "start_time": "2021-09-20T06:32:22.958661Z"
    }
   },
   "outputs": [
    {
     "name": "stdout",
     "output_type": "stream",
     "text": [
      "15\n"
     ]
    }
   ],
   "source": [
    "def outer():\n",
    "    x=5\n",
    "    \n",
    "    def inner():\n",
    "        y=10\n",
    "        result=x+y\n",
    "        return result\n",
    "    return inner()\n",
    "d=outer()\n",
    "print(d)"
   ]
  },
  {
   "cell_type": "code",
   "execution_count": 40,
   "id": "b89e5605",
   "metadata": {
    "ExecuteTime": {
     "end_time": "2021-09-20T06:32:30.713743Z",
     "start_time": "2021-09-20T06:32:30.697745Z"
    }
   },
   "outputs": [
    {
     "data": {
      "text/plain": [
       "15"
      ]
     },
     "execution_count": 40,
     "metadata": {},
     "output_type": "execute_result"
    }
   ],
   "source": [
    "d"
   ]
  },
  {
   "cell_type": "code",
   "execution_count": 38,
   "id": "50e3d3a1",
   "metadata": {
    "ExecuteTime": {
     "end_time": "2021-09-20T06:31:56.145740Z",
     "start_time": "2021-09-20T06:31:56.112742Z"
    }
   },
   "outputs": [
    {
     "name": "stdout",
     "output_type": "stream",
     "text": [
      "25\n"
     ]
    }
   ],
   "source": [
    "def outer():\n",
    "    x=5\n",
    "    \n",
    "    def inner():\n",
    "        y=20\n",
    "        result=x+y\n",
    "        return result\n",
    "    return inner()        # if we return this without parenthesis() then it returns memory address of that function.\n",
    "d=outer()           # Here d is another name given to the inner function.\n",
    "print(d)"
   ]
  },
  {
   "cell_type": "code",
   "execution_count": 45,
   "id": "a745d583",
   "metadata": {
    "ExecuteTime": {
     "end_time": "2021-09-20T06:34:48.131372Z",
     "start_time": "2021-09-20T06:34:48.109371Z"
    }
   },
   "outputs": [
    {
     "ename": "AttributeError",
     "evalue": "'str' object has no attribute '__name__'",
     "output_type": "error",
     "traceback": [
      "\u001b[1;31m---------------------------------------------------------------------------\u001b[0m",
      "\u001b[1;31mAttributeError\u001b[0m                            Traceback (most recent call last)",
      "\u001b[1;32m<ipython-input-45-e38ed5162750>\u001b[0m in \u001b[0;36m<module>\u001b[1;34m\u001b[0m\n\u001b[1;32m----> 1\u001b[1;33m \u001b[0mprint\u001b[0m\u001b[1;33m(\u001b[0m\u001b[0mstr\u001b[0m\u001b[1;33m(\u001b[0m\u001b[0md\u001b[0m\u001b[1;33m)\u001b[0m\u001b[1;33m.\u001b[0m\u001b[0m__name__\u001b[0m\u001b[1;33m)\u001b[0m\u001b[1;33m\u001b[0m\u001b[1;33m\u001b[0m\u001b[0m\n\u001b[0m",
      "\u001b[1;31mAttributeError\u001b[0m: 'str' object has no attribute '__name__'"
     ]
    }
   ],
   "source": [
    "print(str(d).__name__)"
   ]
  },
  {
   "cell_type": "code",
   "execution_count": 73,
   "id": "db154027",
   "metadata": {
    "ExecuteTime": {
     "end_time": "2021-09-20T06:56:02.070935Z",
     "start_time": "2021-09-20T06:56:02.050937Z"
    }
   },
   "outputs": [],
   "source": [
    "def deco_print(func):\n",
    "    def inner(name):\n",
    "        res=func(name)\n",
    "        \n",
    "        if res.isupper == True:\n",
    "            res=res.lower\n",
    "            return res()\n",
    "        else:\n",
    "            res=res.upper\n",
    "            return res()\n",
    "    return inner\n",
    "\n",
    "    \n",
    "@deco_print\n",
    "def print_data(name):\n",
    "    return f\"hello,good morning {name}\"\n",
    "    "
   ]
  },
  {
   "cell_type": "code",
   "execution_count": 74,
   "id": "43e6683b",
   "metadata": {
    "ExecuteTime": {
     "end_time": "2021-09-20T06:56:02.720007Z",
     "start_time": "2021-09-20T06:56:02.708008Z"
    }
   },
   "outputs": [
    {
     "name": "stdout",
     "output_type": "stream",
     "text": [
      "HELLO,GOOD MORNING VIKAS\n"
     ]
    }
   ],
   "source": [
    "a=print_data(\"VIKAS\")\n",
    "print(a)"
   ]
  },
  {
   "cell_type": "code",
   "execution_count": 82,
   "id": "5d781915",
   "metadata": {
    "ExecuteTime": {
     "end_time": "2021-09-20T07:07:50.125734Z",
     "start_time": "2021-09-20T07:07:50.116733Z"
    }
   },
   "outputs": [
    {
     "name": "stdout",
     "output_type": "stream",
     "text": [
      "GOOD MORNING\n"
     ]
    }
   ],
   "source": [
    "def deco_str(print_str):\n",
    "    def wrapper():\n",
    "        str1=print_str()\n",
    "        if str1.isupper == True:\n",
    "            Lower=str1.lower\n",
    "            return Lower()\n",
    "        else:\n",
    "            Upper=str1.upper\n",
    "            return Upper() \n",
    "    return wrapper\n",
    "\n",
    "@deco_str\n",
    "def print_str():\n",
    "    return \"good morning\"\n",
    "print(print_str())"
   ]
  },
  {
   "cell_type": "code",
   "execution_count": 83,
   "id": "4032cbc4",
   "metadata": {
    "ExecuteTime": {
     "end_time": "2021-09-20T10:16:33.373591Z",
     "start_time": "2021-09-20T10:16:33.309550Z"
    }
   },
   "outputs": [],
   "source": [
    "def div(x,y):\n",
    "    return (x/y)"
   ]
  },
  {
   "cell_type": "code",
   "execution_count": 85,
   "id": "be7e30f7",
   "metadata": {
    "ExecuteTime": {
     "end_time": "2021-09-20T10:16:49.442470Z",
     "start_time": "2021-09-20T10:16:49.410470Z"
    }
   },
   "outputs": [
    {
     "data": {
      "text/plain": [
       "2.0"
      ]
     },
     "execution_count": 85,
     "metadata": {},
     "output_type": "execute_result"
    }
   ],
   "source": [
    "div(4,2)"
   ]
  },
  {
   "cell_type": "code",
   "execution_count": 86,
   "id": "d8581476",
   "metadata": {
    "ExecuteTime": {
     "end_time": "2021-09-20T10:17:11.626381Z",
     "start_time": "2021-09-20T10:17:11.581830Z"
    }
   },
   "outputs": [
    {
     "ename": "ZeroDivisionError",
     "evalue": "division by zero",
     "output_type": "error",
     "traceback": [
      "\u001b[1;31m---------------------------------------------------------------------------\u001b[0m",
      "\u001b[1;31mZeroDivisionError\u001b[0m                         Traceback (most recent call last)",
      "\u001b[1;32m<ipython-input-86-ea9800fe5d90>\u001b[0m in \u001b[0;36m<module>\u001b[1;34m\u001b[0m\n\u001b[1;32m----> 1\u001b[1;33m \u001b[0mdiv\u001b[0m\u001b[1;33m(\u001b[0m\u001b[1;36m8\u001b[0m\u001b[1;33m/\u001b[0m\u001b[1;36m0\u001b[0m\u001b[1;33m)\u001b[0m\u001b[1;33m\u001b[0m\u001b[1;33m\u001b[0m\u001b[0m\n\u001b[0m",
      "\u001b[1;31mZeroDivisionError\u001b[0m: division by zero"
     ]
    }
   ],
   "source": [
    "div(8/0)"
   ]
  },
  {
   "cell_type": "code",
   "execution_count": 87,
   "id": "07a09e6e",
   "metadata": {
    "ExecuteTime": {
     "end_time": "2021-09-20T10:19:35.610220Z",
     "start_time": "2021-09-20T10:19:35.586220Z"
    }
   },
   "outputs": [],
   "source": [
    "def deco_div(div):\n",
    "    def inner(x,y):\n",
    "        if y==0:\n",
    "            return \"Give proper input.\"\n",
    "        return x/y\n",
    "    return inner\n",
    "\n",
    "@deco_div\n",
    "def div(x,y):\n",
    "    return x/y\n"
   ]
  },
  {
   "cell_type": "code",
   "execution_count": 89,
   "id": "4aefc787",
   "metadata": {
    "ExecuteTime": {
     "end_time": "2021-09-20T10:19:49.367296Z",
     "start_time": "2021-09-20T10:19:49.343295Z"
    }
   },
   "outputs": [
    {
     "data": {
      "text/plain": [
       "2.0"
      ]
     },
     "execution_count": 89,
     "metadata": {},
     "output_type": "execute_result"
    }
   ],
   "source": [
    "div(8,4)"
   ]
  },
  {
   "cell_type": "code",
   "execution_count": 91,
   "id": "61c2bc00",
   "metadata": {
    "ExecuteTime": {
     "end_time": "2021-09-20T10:20:20.798922Z",
     "start_time": "2021-09-20T10:20:20.774923Z"
    }
   },
   "outputs": [
    {
     "data": {
      "text/plain": [
       "3.0"
      ]
     },
     "execution_count": 91,
     "metadata": {},
     "output_type": "execute_result"
    }
   ],
   "source": [
    "div(45,15)"
   ]
  },
  {
   "cell_type": "code",
   "execution_count": 93,
   "id": "8271c7e0",
   "metadata": {
    "ExecuteTime": {
     "end_time": "2021-09-20T10:20:37.514629Z",
     "start_time": "2021-09-20T10:20:37.498632Z"
    }
   },
   "outputs": [
    {
     "data": {
      "text/plain": [
       "'Give proper input.'"
      ]
     },
     "execution_count": 93,
     "metadata": {},
     "output_type": "execute_result"
    }
   ],
   "source": [
    "div(12,0)"
   ]
  },
  {
   "cell_type": "code",
   "execution_count": 94,
   "id": "c30497ab",
   "metadata": {
    "ExecuteTime": {
     "end_time": "2021-09-20T10:20:59.260648Z",
     "start_time": "2021-09-20T10:20:59.236646Z"
    }
   },
   "outputs": [
    {
     "data": {
      "text/plain": [
       "0.0"
      ]
     },
     "execution_count": 94,
     "metadata": {},
     "output_type": "execute_result"
    }
   ],
   "source": [
    "div(0,12)"
   ]
  },
  {
   "cell_type": "code",
   "execution_count": 104,
   "id": "a80f5b47",
   "metadata": {
    "ExecuteTime": {
     "end_time": "2021-09-20T10:38:35.521955Z",
     "start_time": "2021-09-20T10:38:35.497958Z"
    }
   },
   "outputs": [
    {
     "name": "stdout",
     "output_type": "stream",
     "text": [
      "['GOOD', 'LUCK']\n"
     ]
    }
   ],
   "source": [
    "def outer_deco(func):\n",
    "    def inner():\n",
    "        r=func()\n",
    "        return r.upper()\n",
    "    return inner\n",
    "\n",
    "def split_deco(func):\n",
    "    def wrapper():\n",
    "        r1=func()\n",
    "        return r1.split()\n",
    "    return wrapper\n",
    "\n",
    "\n",
    "@split_deco\n",
    "@outer_deco\n",
    "def ordinaray():\n",
    "    return \"good luck\"\n",
    "print(ordinaray())"
   ]
  },
  {
   "cell_type": "code",
   "execution_count": 116,
   "id": "cb6a6c8e",
   "metadata": {
    "ExecuteTime": {
     "end_time": "2021-09-20T10:51:44.052348Z",
     "start_time": "2021-09-20T10:51:44.028346Z"
    }
   },
   "outputs": [
    {
     "name": "stdout",
     "output_type": "stream",
     "text": [
      "Good Morning! Vikas\n"
     ]
    }
   ],
   "source": [
    "def outer_deco(name):\n",
    "    def deco(func):\n",
    "        def inner():\n",
    "            re=func()\n",
    "            return re.title() + name\n",
    "        return inner\n",
    "    return deco\n",
    "\n",
    "@outer_deco(\"Vikas\")\n",
    "def greet():\n",
    "    return \"good morning! \"\n",
    "print(greet())"
   ]
  },
  {
   "cell_type": "code",
   "execution_count": 115,
   "id": "ac87406a",
   "metadata": {
    "ExecuteTime": {
     "end_time": "2021-09-20T10:51:36.046457Z",
     "start_time": "2021-09-20T10:51:36.022456Z"
    }
   },
   "outputs": [
    {
     "name": "stdout",
     "output_type": "stream",
     "text": [
      "Good Morning\n"
     ]
    }
   ],
   "source": [
    "s=\"good morning\"\n",
    "print(s.title())"
   ]
  },
  {
   "cell_type": "code",
   "execution_count": 114,
   "id": "54f9c2dc",
   "metadata": {
    "ExecuteTime": {
     "end_time": "2021-09-20T10:51:19.249490Z",
     "start_time": "2021-09-20T10:51:19.233490Z"
    }
   },
   "outputs": [
    {
     "name": "stdout",
     "output_type": "stream",
     "text": [
      "['__add__', '__class__', '__contains__', '__delattr__', '__dir__', '__doc__', '__eq__', '__format__', '__ge__', '__getattribute__', '__getitem__', '__getnewargs__', '__gt__', '__hash__', '__init__', '__init_subclass__', '__iter__', '__le__', '__len__', '__lt__', '__mod__', '__mul__', '__ne__', '__new__', '__reduce__', '__reduce_ex__', '__repr__', '__rmod__', '__rmul__', '__setattr__', '__sizeof__', '__str__', '__subclasshook__', 'capitalize', 'casefold', 'center', 'count', 'encode', 'endswith', 'expandtabs', 'find', 'format', 'format_map', 'index', 'isalnum', 'isalpha', 'isascii', 'isdecimal', 'isdigit', 'isidentifier', 'islower', 'isnumeric', 'isprintable', 'isspace', 'istitle', 'isupper', 'join', 'ljust', 'lower', 'lstrip', 'maketrans', 'partition', 'replace', 'rfind', 'rindex', 'rjust', 'rpartition', 'rsplit', 'rstrip', 'split', 'splitlines', 'startswith', 'strip', 'swapcase', 'title', 'translate', 'upper', 'zfill']\n"
     ]
    }
   ],
   "source": [
    "print(dir(str))"
   ]
  },
  {
   "cell_type": "code",
   "execution_count": 118,
   "id": "3afd4345",
   "metadata": {
    "ExecuteTime": {
     "end_time": "2021-09-20T10:53:24.569202Z",
     "start_time": "2021-09-20T10:53:24.545200Z"
    }
   },
   "outputs": [
    {
     "data": {
      "text/plain": [
       "'inner'"
      ]
     },
     "execution_count": 118,
     "metadata": {},
     "output_type": "execute_result"
    }
   ],
   "source": [
    "greet.__name__"
   ]
  },
  {
   "cell_type": "markdown",
   "id": "a486a306",
   "metadata": {},
   "source": [
    "# how to get original func name"
   ]
  },
  {
   "cell_type": "code",
   "execution_count": 119,
   "id": "4d58c10d",
   "metadata": {
    "ExecuteTime": {
     "end_time": "2021-09-20T10:55:15.723820Z",
     "start_time": "2021-09-20T10:55:15.675821Z"
    }
   },
   "outputs": [],
   "source": [
    "import functools"
   ]
  },
  {
   "cell_type": "code",
   "execution_count": 121,
   "id": "6a8735f0",
   "metadata": {
    "ExecuteTime": {
     "end_time": "2021-09-20T10:58:53.912058Z",
     "start_time": "2021-09-20T10:58:53.888058Z"
    }
   },
   "outputs": [
    {
     "name": "stdout",
     "output_type": "stream",
     "text": [
      "Good Morning! Vikas\n"
     ]
    }
   ],
   "source": [
    "def outer(name):\n",
    "    def deco_func(func):\n",
    "        @functools.wraps(func)\n",
    "        def inner():\n",
    "            res=func()\n",
    "            return res.title() + name\n",
    "        return inner\n",
    "    return deco_func\n",
    "@outer('Vikas')\n",
    "def greet():\n",
    "    return \"good morning! \"\n",
    "print(greet())"
   ]
  },
  {
   "cell_type": "code",
   "execution_count": 122,
   "id": "13d7663e",
   "metadata": {
    "ExecuteTime": {
     "end_time": "2021-09-20T10:59:11.172439Z",
     "start_time": "2021-09-20T10:59:11.156439Z"
    }
   },
   "outputs": [
    {
     "name": "stdout",
     "output_type": "stream",
     "text": [
      "greet\n"
     ]
    }
   ],
   "source": [
    "print(greet.__name__)"
   ]
  },
  {
   "cell_type": "code",
   "execution_count": 124,
   "id": "a06bca4a",
   "metadata": {
    "ExecuteTime": {
     "end_time": "2021-09-20T11:00:37.411776Z",
     "start_time": "2021-09-20T11:00:37.395776Z"
    }
   },
   "outputs": [
    {
     "name": "stdout",
     "output_type": "stream",
     "text": [
      "['False', 'None', 'True', 'and', 'as', 'assert', 'async', 'await', 'break', 'class', 'continue', 'def', 'del', 'elif', 'else', 'except', 'finally', 'for', 'from', 'global', 'if', 'import', 'in', 'is', 'lambda', 'nonlocal', 'not', 'or', 'pass', 'raise', 'return', 'try', 'while', 'with', 'yield']\n",
      "35\n"
     ]
    }
   ],
   "source": [
    "import keyword\n",
    "print(keyword.kwlist)\n",
    "print(len(keyword.kwlist))"
   ]
  },
  {
   "cell_type": "markdown",
   "id": "3b08269d",
   "metadata": {},
   "source": [
    "# class decorators"
   ]
  },
  {
   "cell_type": "code",
   "execution_count": 134,
   "id": "59635a0e",
   "metadata": {
    "ExecuteTime": {
     "end_time": "2021-09-20T12:01:14.782288Z",
     "start_time": "2021-09-20T12:01:14.758289Z"
    }
   },
   "outputs": [],
   "source": [
    "def check_name(method):\n",
    "    def inner(name_ref):\n",
    "        if name_ref.name==\"Vikas\":\n",
    "            print(\"Hey! My name is also same.\")\n",
    "        else:\n",
    "            method(name_ref)\n",
    "    return inner\n",
    "\n",
    "\n",
    "\n",
    "class Printing:\n",
    "    def __init__(self,name):\n",
    "        self.name=name\n",
    "    @check_name  \n",
    "    def print_name(self):\n",
    "        print(f\"Entered name is:-{self.name}\")\n",
    "        \n"
   ]
  },
  {
   "cell_type": "code",
   "execution_count": 135,
   "id": "0a9c052b",
   "metadata": {
    "ExecuteTime": {
     "end_time": "2021-09-20T12:01:15.294797Z",
     "start_time": "2021-09-20T12:01:15.278796Z"
    }
   },
   "outputs": [],
   "source": [
    "x1=Printing(\"Vikas\")"
   ]
  },
  {
   "cell_type": "code",
   "execution_count": 136,
   "id": "eef6f1b0",
   "metadata": {
    "ExecuteTime": {
     "end_time": "2021-09-20T12:01:15.926211Z",
     "start_time": "2021-09-20T12:01:15.902241Z"
    }
   },
   "outputs": [
    {
     "name": "stdout",
     "output_type": "stream",
     "text": [
      "Hey! My name is also same.\n"
     ]
    }
   ],
   "source": [
    "x1.print_name()"
   ]
  },
  {
   "cell_type": "code",
   "execution_count": 140,
   "id": "aa4b7961",
   "metadata": {
    "ExecuteTime": {
     "end_time": "2021-09-20T14:36:08.287916Z",
     "start_time": "2021-09-20T14:36:08.167919Z"
    }
   },
   "outputs": [
    {
     "name": "stdout",
     "output_type": "stream",
     "text": [
      "Function: daily_backup\n",
      "Run on: 2021-09-20 20:06:08\n",
      "------------------------------\n",
      "Daily backup job has finished.\n"
     ]
    }
   ],
   "source": [
    "from datetime import datetime\n",
    "\n",
    "\n",
    "def log_datetime(func):\n",
    "    '''Log the date and time of a function'''\n",
    "\n",
    "    def wrapper():\n",
    "        print(f'Function: {func.__name__}\\nRun on: {datetime.today().strftime(\"%Y-%m-%d %H:%M:%S\")}')\n",
    "        print(f'{\"-\"*30}')\n",
    "        func()\n",
    "    return wrapper\n",
    "\n",
    "\n",
    "@log_datetime\n",
    "def daily_backup():\n",
    "\n",
    "    print('Daily backup job has finished.')   \n",
    "\n",
    "     \n",
    "daily_backup()"
   ]
  },
  {
   "cell_type": "code",
   "execution_count": 149,
   "id": "e13c4051",
   "metadata": {
    "ExecuteTime": {
     "end_time": "2021-09-20T14:54:43.140238Z",
     "start_time": "2021-09-20T14:54:43.108235Z"
    }
   },
   "outputs": [
    {
     "name": "stdout",
     "output_type": "stream",
     "text": [
      "44\n"
     ]
    }
   ],
   "source": [
    "def add_10(func):\n",
    "    def inner(x,y):\n",
    "        re=func(x,y)\n",
    "        return re+10\n",
    "    return inner\n",
    "@mul_2\n",
    "@add_10\n",
    "def add(x,y):\n",
    "    return x+y\n",
    "print(add(8,4))"
   ]
  },
  {
   "cell_type": "code",
   "execution_count": 148,
   "id": "0cdf41e6",
   "metadata": {
    "ExecuteTime": {
     "end_time": "2021-09-20T14:54:39.075727Z",
     "start_time": "2021-09-20T14:54:39.059727Z"
    }
   },
   "outputs": [],
   "source": [
    "def mul_2(func):\n",
    "    def wrapper(x,y):\n",
    "        re1=func(x,y)\n",
    "        return re1 * 2\n",
    "    return wrapper\n"
   ]
  },
  {
   "cell_type": "code",
   "execution_count": 152,
   "id": "95bc9d9c",
   "metadata": {
    "ExecuteTime": {
     "end_time": "2021-09-20T16:43:25.331215Z",
     "start_time": "2021-09-20T16:43:25.310324Z"
    }
   },
   "outputs": [],
   "source": [
    "def my_function():\n",
    "    print(\"I am a function\")\n",
    "    return \"execution done\"\n",
    "    \n",
    "discription=my_function\n"
   ]
  },
  {
   "cell_type": "code",
   "execution_count": 153,
   "id": "81145967",
   "metadata": {
    "ExecuteTime": {
     "end_time": "2021-09-20T16:43:26.101634Z",
     "start_time": "2021-09-20T16:43:26.075637Z"
    }
   },
   "outputs": [
    {
     "name": "stdout",
     "output_type": "stream",
     "text": [
      "I am a function\n",
      "execution done\n"
     ]
    }
   ],
   "source": [
    "print(discription())"
   ]
  },
  {
   "cell_type": "code",
   "execution_count": 157,
   "id": "6f687733",
   "metadata": {
    "ExecuteTime": {
     "end_time": "2021-09-20T16:48:12.477796Z",
     "start_time": "2021-09-20T16:48:12.446503Z"
    }
   },
   "outputs": [
    {
     "name": "stdout",
     "output_type": "stream",
     "text": [
      "I came from the inner_function.\n"
     ]
    }
   ],
   "source": [
    "def outer_function():\n",
    "    def inner_function():\n",
    "        print(\"I came from the inner_function.\")\n",
    "    inner_function()\n",
    "outer_function()"
   ]
  },
  {
   "cell_type": "code",
   "execution_count": 163,
   "id": "a11565e3",
   "metadata": {
    "ExecuteTime": {
     "end_time": "2021-09-20T16:57:51.770595Z",
     "start_time": "2021-09-20T16:57:51.749595Z"
    }
   },
   "outputs": [
    {
     "name": "stdout",
     "output_type": "stream",
     "text": [
      "...reminder for wife...\n",
      "I am going to market buy you somthing nice\n",
      "don't forget to bring your wallet.\n",
      "None\n"
     ]
    }
   ],
   "source": [
    "def friendly_reminder(func):\n",
    "    print(\"...reminder for wife...\")\n",
    "    \n",
    "    func()\n",
    "    print('don\\'t forget to bring your wallet.')\n",
    "    \n",
    "    \n",
    "def display():\n",
    "    print(\"I am going to market buy you somthing nice\")\n",
    "print(friendly_reminder(display))"
   ]
  },
  {
   "cell_type": "code",
   "execution_count": 1,
   "id": "b03fc8b7",
   "metadata": {
    "ExecuteTime": {
     "end_time": "2021-09-21T00:26:35.414007Z",
     "start_time": "2021-09-21T00:26:35.398009Z"
    }
   },
   "outputs": [],
   "source": [
    "import time"
   ]
  },
  {
   "cell_type": "code",
   "execution_count": 2,
   "id": "aa9df269",
   "metadata": {
    "ExecuteTime": {
     "end_time": "2021-09-21T00:26:45.534451Z",
     "start_time": "2021-09-21T00:26:45.502421Z"
    }
   },
   "outputs": [
    {
     "name": "stdout",
     "output_type": "stream",
     "text": [
      "['_STRUCT_TM_ITEMS', '__doc__', '__loader__', '__name__', '__package__', '__spec__', 'altzone', 'asctime', 'ctime', 'daylight', 'get_clock_info', 'gmtime', 'localtime', 'mktime', 'monotonic', 'monotonic_ns', 'perf_counter', 'perf_counter_ns', 'process_time', 'process_time_ns', 'sleep', 'strftime', 'strptime', 'struct_time', 'thread_time', 'thread_time_ns', 'time', 'time_ns', 'timezone', 'tzname']\n"
     ]
    }
   ],
   "source": [
    "print(dir(time))"
   ]
  },
  {
   "cell_type": "code",
   "execution_count": 3,
   "id": "3d946da0",
   "metadata": {
    "ExecuteTime": {
     "end_time": "2021-09-21T00:27:22.395375Z",
     "start_time": "2021-09-21T00:27:22.371340Z"
    }
   },
   "outputs": [
    {
     "name": "stdout",
     "output_type": "stream",
     "text": [
      "Help on built-in function perf_counter in module time:\n",
      "\n",
      "perf_counter(...)\n",
      "    perf_counter() -> float\n",
      "    \n",
      "    Performance counter for benchmarking.\n",
      "\n"
     ]
    }
   ],
   "source": [
    "help(time.perf_counter)"
   ]
  },
  {
   "cell_type": "code",
   "execution_count": 4,
   "id": "a311e375",
   "metadata": {
    "ExecuteTime": {
     "end_time": "2021-09-21T00:28:16.315227Z",
     "start_time": "2021-09-21T00:28:16.179229Z"
    }
   },
   "outputs": [],
   "source": [
    "import tracemalloc"
   ]
  },
  {
   "cell_type": "code",
   "execution_count": 5,
   "id": "976ae7c3",
   "metadata": {
    "ExecuteTime": {
     "end_time": "2021-09-21T00:28:28.890766Z",
     "start_time": "2021-09-21T00:28:28.874765Z"
    }
   },
   "outputs": [
    {
     "name": "stdout",
     "output_type": "stream",
     "text": [
      "['BaseFilter', 'DomainFilter', 'Filter', 'Frame', 'Iterable', 'Sequence', 'Snapshot', 'Statistic', 'StatisticDiff', 'Trace', 'Traceback', '_Traces', '__builtins__', '__cached__', '__doc__', '__file__', '__loader__', '__name__', '__package__', '__spec__', '_compare_grouped_stats', '_format_size', '_get_object_traceback', '_get_traces', '_normalize_filename', 'clear_traces', 'fnmatch', 'get_object_traceback', 'get_traceback_limit', 'get_traced_memory', 'get_tracemalloc_memory', 'is_tracing', 'linecache', 'os', 'pickle', 'start', 'stop', 'take_snapshot', 'total_ordering']\n"
     ]
    }
   ],
   "source": [
    "print(dir(tracemalloc))"
   ]
  },
  {
   "cell_type": "code",
   "execution_count": 6,
   "id": "3d89b74b",
   "metadata": {
    "ExecuteTime": {
     "end_time": "2021-09-21T00:29:54.131384Z",
     "start_time": "2021-09-21T00:29:54.107381Z"
    }
   },
   "outputs": [
    {
     "name": "stdout",
     "output_type": "stream",
     "text": [
      "Help on built-in function start in module _tracemalloc:\n",
      "\n",
      "start(nframe=1, /)\n",
      "    Start tracing Python memory allocations.\n",
      "    \n",
      "    Also set the maximum number of frames stored in the traceback of a\n",
      "    trace to nframe.\n",
      "\n"
     ]
    }
   ],
   "source": [
    "help(tracemalloc.start)"
   ]
  },
  {
   "cell_type": "code",
   "execution_count": 7,
   "id": "512997a0",
   "metadata": {
    "ExecuteTime": {
     "end_time": "2021-09-21T00:32:21.170917Z",
     "start_time": "2021-09-21T00:32:21.154917Z"
    }
   },
   "outputs": [
    {
     "name": "stdout",
     "output_type": "stream",
     "text": [
      "Help on built-in function get_traced_memory in module _tracemalloc:\n",
      "\n",
      "get_traced_memory()\n",
      "    Get the current size and peak size of memory blocks traced by tracemalloc.\n",
      "    \n",
      "    Returns a tuple: (current: int, peak: int).\n",
      "\n"
     ]
    }
   ],
   "source": [
    "help(tracemalloc.get_traced_memory)"
   ]
  },
  {
   "cell_type": "code",
   "execution_count": 11,
   "id": "d7965a79",
   "metadata": {
    "ExecuteTime": {
     "end_time": "2021-09-21T00:43:03.828632Z",
     "start_time": "2021-09-21T00:43:03.796631Z"
    }
   },
   "outputs": [
    {
     "name": "stdout",
     "output_type": "stream",
     "text": [
      "[0, 1, 2, 3, 4, 5, 6, 7, 8, 9, 10, 11, 12, 13, 14, 15, 16, 17, 18, 19, 20, 21, 22, 23, 24, 25, 26, 27, 28, 29, 30, 31, 32, 33, 34, 35, 36, 37, 38, 39, 40, 41, 42, 43, 44, 45, 46, 47, 48, 49, 50, 51, 52, 53, 54, 55, 56, 57, 58, 59, 60, 61, 62, 63, 64, 65, 66, 67, 68, 69, 70, 71, 72, 73, 74, 75, 76, 77, 78, 79, 80, 81, 82, 83, 84, 85, 86, 87, 88, 89, 90, 91, 92, 93, 94, 95, 96, 97, 98, 99]\n"
     ]
    }
   ],
   "source": [
    "x=[i for i in range(100)]\n",
    "\n",
    "print(x)"
   ]
  },
  {
   "cell_type": "code",
   "execution_count": 12,
   "id": "980c4bf7",
   "metadata": {
    "ExecuteTime": {
     "end_time": "2021-09-21T00:43:20.974456Z",
     "start_time": "2021-09-21T00:43:20.886021Z"
    }
   },
   "outputs": [
    {
     "name": "stdout",
     "output_type": "stream",
     "text": [
      "0\n",
      "1\n",
      "2\n",
      "3\n",
      "4\n",
      "5\n",
      "6\n",
      "7\n",
      "8\n",
      "9\n",
      "10\n",
      "11\n",
      "12\n",
      "13\n",
      "14\n",
      "15\n",
      "16\n",
      "17\n",
      "18\n",
      "19\n",
      "20\n",
      "21\n",
      "22\n",
      "23\n",
      "24\n",
      "25\n",
      "26\n",
      "27\n",
      "28\n",
      "29\n",
      "30\n",
      "31\n",
      "32\n",
      "33\n",
      "34\n",
      "35\n",
      "36\n",
      "37\n",
      "38\n",
      "39\n",
      "40\n",
      "41\n",
      "42\n",
      "43\n",
      "44\n",
      "45\n",
      "46\n",
      "47\n",
      "48\n",
      "49\n",
      "50\n",
      "51\n",
      "52\n",
      "53\n",
      "54\n",
      "55\n",
      "56\n",
      "57\n",
      "58\n",
      "59\n",
      "60\n",
      "61\n",
      "62\n",
      "63\n",
      "64\n",
      "65\n",
      "66\n",
      "67\n",
      "68\n",
      "69\n",
      "70\n",
      "71\n",
      "72\n",
      "73\n",
      "74\n",
      "75\n",
      "76\n",
      "77\n",
      "78\n",
      "79\n",
      "80\n",
      "81\n",
      "82\n",
      "83\n",
      "84\n",
      "85\n",
      "86\n",
      "87\n",
      "88\n",
      "89\n",
      "90\n",
      "91\n",
      "92\n",
      "93\n",
      "94\n",
      "95\n",
      "96\n",
      "97\n",
      "98\n",
      "99\n"
     ]
    }
   ],
   "source": [
    "for i in range(100):\n",
    "    print(i)"
   ]
  },
  {
   "cell_type": "code",
   "execution_count": null,
   "id": "7ef5cd59",
   "metadata": {},
   "outputs": [],
   "source": []
  }
 ],
 "metadata": {
  "kernelspec": {
   "display_name": "Python 3",
   "language": "python",
   "name": "python3"
  },
  "language_info": {
   "codemirror_mode": {
    "name": "ipython",
    "version": 3
   },
   "file_extension": ".py",
   "mimetype": "text/x-python",
   "name": "python",
   "nbconvert_exporter": "python",
   "pygments_lexer": "ipython3",
   "version": "3.8.8"
  }
 },
 "nbformat": 4,
 "nbformat_minor": 5
}
