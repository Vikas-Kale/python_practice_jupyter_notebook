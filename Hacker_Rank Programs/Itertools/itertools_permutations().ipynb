{
 "cells": [
  {
   "cell_type": "code",
   "execution_count": 2,
   "id": "08a40273",
   "metadata": {},
   "outputs": [],
   "source": [
    "import itertools"
   ]
  },
  {
   "cell_type": "markdown",
   "id": "b7458569",
   "metadata": {},
   "source": [
    "# Combination"
   ]
  },
  {
   "cell_type": "code",
   "execution_count": 4,
   "id": "72787a93",
   "metadata": {},
   "outputs": [
    {
     "name": "stdout",
     "output_type": "stream",
     "text": [
      "(1, 2, 3)\n"
     ]
    }
   ],
   "source": [
    "mylist=[1,2,3]\n",
    "combination=itertools.combinations(mylist,3)\n",
    "for c in combination:\n",
    "    print(c)"
   ]
  },
  {
   "cell_type": "code",
   "execution_count": 5,
   "id": "487a86af",
   "metadata": {},
   "outputs": [
    {
     "name": "stdout",
     "output_type": "stream",
     "text": [
      "(1, 2)\n",
      "(1, 3)\n",
      "(2, 3)\n"
     ]
    }
   ],
   "source": [
    "mylist=[1,2,3]\n",
    "combination=itertools.combinations(mylist,2)\n",
    "for c in combination:\n",
    "    print(c)"
   ]
  },
  {
   "cell_type": "markdown",
   "id": "ab068fd0",
   "metadata": {},
   "source": [
    "# permutations"
   ]
  },
  {
   "cell_type": "code",
   "execution_count": 5,
   "id": "1faf68c9",
   "metadata": {},
   "outputs": [
    {
     "name": "stdout",
     "output_type": "stream",
     "text": [
      "HACK 2\n",
      "AC\n",
      "AH\n",
      "AK\n",
      "CA\n",
      "CH\n",
      "CK\n",
      "HA\n",
      "HC\n",
      "HK\n",
      "KA\n",
      "KC\n",
      "KH\n"
     ]
    }
   ],
   "source": [
    "from itertools import permutations\n",
    "\n",
    "a,b=input().split()\n",
    "\n",
    "print(*[''.join(i) for i in permutations(sorted(a),int(b))], sep = '\\n')\n"
   ]
  },
  {
   "cell_type": "code",
   "execution_count": 7,
   "id": "a039ae21",
   "metadata": {},
   "outputs": [
    {
     "name": "stdout",
     "output_type": "stream",
     "text": [
      "['__doc__', '__loader__', '__name__', '__package__', '__spec__', '_grouper', '_tee', '_tee_dataobject', 'accumulate', 'chain', 'combinations', 'combinations_with_replacement', 'compress', 'count', 'cycle', 'dropwhile', 'filterfalse', 'groupby', 'islice', 'permutations', 'product', 'repeat', 'starmap', 'takewhile', 'tee', 'zip_longest']\n"
     ]
    }
   ],
   "source": [
    "import itertools\n",
    "print(dir(itertools))"
   ]
  },
  {
   "cell_type": "code",
   "execution_count": 8,
   "id": "3ff73023",
   "metadata": {},
   "outputs": [
    {
     "name": "stdout",
     "output_type": "stream",
     "text": [
      "['A', 'C', 'H', 'K']\n"
     ]
    }
   ],
   "source": [
    "a='HACK'\n",
    "\n",
    "print(sorted(a))"
   ]
  },
  {
   "cell_type": "code",
   "execution_count": 10,
   "id": "513c3d05",
   "metadata": {},
   "outputs": [
    {
     "name": "stdout",
     "output_type": "stream",
     "text": [
      "[('A', 'C'), ('A', 'H'), ('A', 'K'), ('C', 'A'), ('C', 'H'), ('C', 'K'), ('H', 'A'), ('H', 'C'), ('H', 'K'), ('K', 'A'), ('K', 'C'), ('K', 'H')]\n"
     ]
    }
   ],
   "source": [
    "print(list(itertools.permutations(sorted(a),2)))"
   ]
  },
  {
   "cell_type": "code",
   "execution_count": 12,
   "id": "a7709ebf",
   "metadata": {},
   "outputs": [
    {
     "name": "stdout",
     "output_type": "stream",
     "text": [
      "['AC', 'AH', 'AK', 'CA', 'CH', 'CK', 'HA', 'HC', 'HK', 'KA', 'KC', 'KH']\n"
     ]
    }
   ],
   "source": [
    "print([''.join(i) for i in list(itertools.permutations(sorted(a),2))])"
   ]
  },
  {
   "cell_type": "code",
   "execution_count": 15,
   "id": "a66ce922",
   "metadata": {},
   "outputs": [
    {
     "name": "stdout",
     "output_type": "stream",
     "text": [
      "AC\n",
      "AH\n",
      "AK\n",
      "CA\n",
      "CH\n",
      "CK\n",
      "HA\n",
      "HC\n",
      "HK\n",
      "KA\n",
      "KC\n",
      "KH\n"
     ]
    }
   ],
   "source": [
    "print(*[''.join(i) for i in list(itertools.permutations(sorted(a),2))],sep='\\n')"
   ]
  },
  {
   "cell_type": "code",
   "execution_count": 18,
   "id": "0e9db7c0",
   "metadata": {},
   "outputs": [
    {
     "name": "stdout",
     "output_type": "stream",
     "text": [
      "1\n",
      "2\n",
      "3\n",
      "4\n",
      "5\n",
      "6\n",
      "7\n",
      "8\n",
      "9\n",
      "10\n"
     ]
    }
   ],
   "source": [
    "\n",
    "print(*[i for i in range(1,11)],sep='\\n')"
   ]
  },
  {
   "cell_type": "code",
   "execution_count": 22,
   "id": "728c579a",
   "metadata": {},
   "outputs": [
    {
     "name": "stdout",
     "output_type": "stream",
     "text": [
      "vikas 2\n",
      "<itertools.permutations object at 0x0000026F0ECFB040>\n"
     ]
    }
   ],
   "source": [
    "from itertools import permutations\n",
    "\n",
    "p,q=input().split()\n",
    "\n",
    "ans=sorted(p)\n",
    "\n",
    "ans1=permutations(ans,r=int(q))\n",
    "\n",
    "print(ans1)\n"
   ]
  },
  {
   "cell_type": "code",
   "execution_count": 26,
   "id": "e300091c",
   "metadata": {},
   "outputs": [
    {
     "name": "stdout",
     "output_type": "stream",
     "text": [
      "vikas 2\n",
      "['ai', 'ak', 'as', 'av', 'ia', 'ik', 'is', 'iv', 'ka', 'ki', 'ks', 'kv', 'sa', 'si', 'sk', 'sv', 'va', 'vi', 'vk', 'vs']\n"
     ]
    }
   ],
   "source": [
    "from itertools import permutations\n",
    "\n",
    "p,q=input().split()\n",
    "\n",
    "ans=sorted(p)\n",
    "\n",
    "ans1=permutations(ans,r=int(q))\n",
    "\n",
    "# print(list(ans1))\n",
    "\n",
    "ans2=[''.join(i) for i in ans1]\n",
    "\n",
    "\n",
    "print(ans2)"
   ]
  },
  {
   "cell_type": "code",
   "execution_count": 27,
   "id": "adc86d8f",
   "metadata": {},
   "outputs": [
    {
     "name": "stdout",
     "output_type": "stream",
     "text": [
      "ai\n",
      "ak\n",
      "as\n",
      "av\n",
      "ia\n",
      "ik\n",
      "is\n",
      "iv\n",
      "ka\n",
      "ki\n",
      "ks\n",
      "kv\n",
      "sa\n",
      "si\n",
      "sk\n",
      "sv\n",
      "va\n",
      "vi\n",
      "vk\n",
      "vs\n"
     ]
    }
   ],
   "source": [
    "for j in ans2:\n",
    "    print(j)"
   ]
  },
  {
   "cell_type": "code",
   "execution_count": null,
   "id": "8883e2ce",
   "metadata": {},
   "outputs": [],
   "source": []
  }
 ],
 "metadata": {
  "kernelspec": {
   "display_name": "Python 3",
   "language": "python",
   "name": "python3"
  },
  "language_info": {
   "codemirror_mode": {
    "name": "ipython",
    "version": 3
   },
   "file_extension": ".py",
   "mimetype": "text/x-python",
   "name": "python",
   "nbconvert_exporter": "python",
   "pygments_lexer": "ipython3",
   "version": "3.8.8"
  }
 },
 "nbformat": 4,
 "nbformat_minor": 5
}
