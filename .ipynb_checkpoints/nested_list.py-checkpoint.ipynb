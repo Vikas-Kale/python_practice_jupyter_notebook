{
 "cells": [
  {
   "cell_type": "code",
   "execution_count": 1,
   "id": "1ec57191",
   "metadata": {},
   "outputs": [],
   "source": [
    "num=[2,3,4,5,1,20,55]"
   ]
  },
  {
   "cell_type": "code",
   "execution_count": 2,
   "id": "8c935536",
   "metadata": {},
   "outputs": [
    {
     "data": {
      "text/plain": [
       "[2, 3, 4, 5, 1, 20, 55]"
      ]
     },
     "execution_count": 2,
     "metadata": {},
     "output_type": "execute_result"
    }
   ],
   "source": [
    "num"
   ]
  },
  {
   "cell_type": "code",
   "execution_count": 3,
   "id": "b5064173",
   "metadata": {},
   "outputs": [
    {
     "data": {
      "text/plain": [
       "7"
      ]
     },
     "execution_count": 3,
     "metadata": {},
     "output_type": "execute_result"
    }
   ],
   "source": [
    "len(num)"
   ]
  },
  {
   "cell_type": "code",
   "execution_count": 5,
   "id": "5f962de8",
   "metadata": {},
   "outputs": [
    {
     "data": {
      "text/plain": [
       "6"
      ]
     },
     "execution_count": 5,
     "metadata": {},
     "output_type": "execute_result"
    }
   ],
   "source": [
    "num.index(55)"
   ]
  },
  {
   "cell_type": "code",
   "execution_count": 6,
   "id": "78f1d0b4",
   "metadata": {},
   "outputs": [],
   "source": [
    "num.append([23,45,67,88])"
   ]
  },
  {
   "cell_type": "code",
   "execution_count": 7,
   "id": "ce0f5a80",
   "metadata": {},
   "outputs": [
    {
     "data": {
      "text/plain": [
       "[2, 3, 4, 5, 1, 20, 55, [23, 45, 67, 88]]"
      ]
     },
     "execution_count": 7,
     "metadata": {},
     "output_type": "execute_result"
    }
   ],
   "source": [
    "num"
   ]
  },
  {
   "cell_type": "code",
   "execution_count": 8,
   "id": "9b53aa3a",
   "metadata": {},
   "outputs": [
    {
     "data": {
      "text/plain": [
       "8"
      ]
     },
     "execution_count": 8,
     "metadata": {},
     "output_type": "execute_result"
    }
   ],
   "source": [
    "len(num)"
   ]
  },
  {
   "cell_type": "code",
   "execution_count": 9,
   "id": "032c9e1d",
   "metadata": {},
   "outputs": [],
   "source": [
    "num.insert(0,[100,200,500])"
   ]
  },
  {
   "cell_type": "code",
   "execution_count": 10,
   "id": "1eb5f6a4",
   "metadata": {},
   "outputs": [
    {
     "data": {
      "text/plain": [
       "[[100, 200, 500], 2, 3, 4, 5, 1, 20, 55, [23, 45, 67, 88]]"
      ]
     },
     "execution_count": 10,
     "metadata": {},
     "output_type": "execute_result"
    }
   ],
   "source": [
    "num"
   ]
  },
  {
   "cell_type": "code",
   "execution_count": 11,
   "id": "373cf98c",
   "metadata": {},
   "outputs": [
    {
     "data": {
      "text/plain": [
       "9"
      ]
     },
     "execution_count": 11,
     "metadata": {},
     "output_type": "execute_result"
    }
   ],
   "source": [
    "len(num)"
   ]
  },
  {
   "cell_type": "code",
   "execution_count": 14,
   "id": "5a5ae583",
   "metadata": {},
   "outputs": [
    {
     "data": {
      "text/plain": [
       "0"
      ]
     },
     "execution_count": 14,
     "metadata": {},
     "output_type": "execute_result"
    }
   ],
   "source": [
    "num.index([100,200,500])"
   ]
  },
  {
   "cell_type": "code",
   "execution_count": 17,
   "id": "039447e5",
   "metadata": {},
   "outputs": [
    {
     "data": {
      "text/plain": [
       "200"
      ]
     },
     "execution_count": 17,
     "metadata": {},
     "output_type": "execute_result"
    }
   ],
   "source": [
    "num[0][1]"
   ]
  },
  {
   "cell_type": "code",
   "execution_count": null,
   "id": "f3c49e9d",
   "metadata": {},
   "outputs": [],
   "source": [
    "# print 10 from ex1\n",
    "\n",
    "## print 6 8 10 12 using step by with +ve as well as -ve indexing."
   ]
  },
  {
   "cell_type": "code",
   "execution_count": 18,
   "id": "db707e90",
   "metadata": {},
   "outputs": [],
   "source": [
    "ex1 = [[1,2,3,[4,5,[6,7,8,9,10,11,12]]]]"
   ]
  },
  {
   "cell_type": "code",
   "execution_count": 19,
   "id": "81095322",
   "metadata": {},
   "outputs": [
    {
     "data": {
      "text/plain": [
       "[[1, 2, 3, [4, 5, [6, 7, 8, 9, 10, 11, 12]]]]"
      ]
     },
     "execution_count": 19,
     "metadata": {},
     "output_type": "execute_result"
    }
   ],
   "source": [
    "ex1"
   ]
  },
  {
   "cell_type": "code",
   "execution_count": 20,
   "id": "5d3971d1",
   "metadata": {},
   "outputs": [
    {
     "data": {
      "text/plain": [
       "1"
      ]
     },
     "execution_count": 20,
     "metadata": {},
     "output_type": "execute_result"
    }
   ],
   "source": [
    "len(ex1)"
   ]
  },
  {
   "cell_type": "code",
   "execution_count": 23,
   "id": "50d8d49f",
   "metadata": {},
   "outputs": [
    {
     "ename": "TypeError",
     "evalue": "'int' object is not subscriptable",
     "output_type": "error",
     "traceback": [
      "\u001b[1;31m---------------------------------------------------------------------------\u001b[0m",
      "\u001b[1;31mTypeError\u001b[0m                                 Traceback (most recent call last)",
      "\u001b[1;32m<ipython-input-23-845dda78fc24>\u001b[0m in \u001b[0;36m<module>\u001b[1;34m\u001b[0m\n\u001b[1;32m----> 1\u001b[1;33m \u001b[0mex1\u001b[0m\u001b[1;33m[\u001b[0m\u001b[1;36m0\u001b[0m\u001b[1;33m]\u001b[0m\u001b[1;33m[\u001b[0m\u001b[1;36m2\u001b[0m\u001b[1;33m]\u001b[0m\u001b[1;33m[\u001b[0m\u001b[1;36m4\u001b[0m\u001b[1;33m]\u001b[0m\u001b[1;33m\u001b[0m\u001b[1;33m\u001b[0m\u001b[0m\n\u001b[0m",
      "\u001b[1;31mTypeError\u001b[0m: 'int' object is not subscriptable"
     ]
    }
   ],
   "source": [
    "ex1[0][2][4]"
   ]
  },
  {
   "cell_type": "code",
   "execution_count": 22,
   "id": "5422ebf1",
   "metadata": {},
   "outputs": [
    {
     "data": {
      "text/plain": [
       "[[1, 2, 3, [4, 5, [6, 7, 8, 9, 10, 11, 12]]]]"
      ]
     },
     "execution_count": 22,
     "metadata": {},
     "output_type": "execute_result"
    }
   ],
   "source": [
    "ex1"
   ]
  },
  {
   "cell_type": "code",
   "execution_count": 27,
   "id": "81d26100",
   "metadata": {},
   "outputs": [
    {
     "data": {
      "text/plain": [
       "2"
      ]
     },
     "execution_count": 27,
     "metadata": {},
     "output_type": "execute_result"
    }
   ],
   "source": [
    "ex1[0][-3]"
   ]
  },
  {
   "cell_type": "code",
   "execution_count": 31,
   "id": "c29872e7",
   "metadata": {},
   "outputs": [
    {
     "data": {
      "text/plain": [
       "[1, 2, 3, [4, 5, [6, 7, 8, 9, 10, 11, 12]]]"
      ]
     },
     "execution_count": 31,
     "metadata": {},
     "output_type": "execute_result"
    }
   ],
   "source": [
    "ex1[len(ex1)-1]"
   ]
  },
  {
   "cell_type": "code",
   "execution_count": 32,
   "id": "5fda9bef",
   "metadata": {},
   "outputs": [
    {
     "data": {
      "text/plain": [
       "1"
      ]
     },
     "execution_count": 32,
     "metadata": {},
     "output_type": "execute_result"
    }
   ],
   "source": [
    "ex1[0][len(ex1)-1]"
   ]
  },
  {
   "cell_type": "code",
   "execution_count": 34,
   "id": "953840e0",
   "metadata": {},
   "outputs": [
    {
     "data": {
      "text/plain": [
       "[4, 5, [6, 7, 8, 9, 10, 11, 12]]"
      ]
     },
     "execution_count": 34,
     "metadata": {},
     "output_type": "execute_result"
    }
   ],
   "source": [
    "ex1[0][len(ex1)-2]"
   ]
  },
  {
   "cell_type": "code",
   "execution_count": 36,
   "id": "ae8e5f8b",
   "metadata": {},
   "outputs": [
    {
     "data": {
      "text/plain": [
       "3"
      ]
     },
     "execution_count": 36,
     "metadata": {},
     "output_type": "execute_result"
    }
   ],
   "source": [
    "ex1[0][len(ex1)-3]"
   ]
  },
  {
   "cell_type": "code",
   "execution_count": 37,
   "id": "e55a95d6",
   "metadata": {},
   "outputs": [
    {
     "data": {
      "text/plain": [
       "[[1, 2, 3, [4, 5, [6, 7, 8, 9, 10, 11, 12]]]]"
      ]
     },
     "execution_count": 37,
     "metadata": {},
     "output_type": "execute_result"
    }
   ],
   "source": [
    "ex1"
   ]
  },
  {
   "cell_type": "code",
   "execution_count": 38,
   "id": "5d1ff72d",
   "metadata": {},
   "outputs": [
    {
     "data": {
      "text/plain": [
       "[2, 3, [4, 5, [6, 7, 8, 9, 10, 11, 12]]]"
      ]
     },
     "execution_count": 38,
     "metadata": {},
     "output_type": "execute_result"
    }
   ],
   "source": [
    "ex1[0][1:4]"
   ]
  },
  {
   "cell_type": "code",
   "execution_count": 41,
   "id": "24a4a9b6",
   "metadata": {},
   "outputs": [
    {
     "data": {
      "text/plain": [
       "[]"
      ]
     },
     "execution_count": 41,
     "metadata": {},
     "output_type": "execute_result"
    }
   ],
   "source": [
    "ex1[0][4:3]"
   ]
  },
  {
   "cell_type": "code",
   "execution_count": 46,
   "id": "327532bd",
   "metadata": {},
   "outputs": [
    {
     "data": {
      "text/plain": [
       "[1, 2, 3, [4, 5, [6, 7, 8, 9, 10, 11, 12]]]"
      ]
     },
     "execution_count": 46,
     "metadata": {},
     "output_type": "execute_result"
    }
   ],
   "source": [
    "ex1[0][0:4]"
   ]
  },
  {
   "cell_type": "code",
   "execution_count": 47,
   "id": "81590aee",
   "metadata": {},
   "outputs": [],
   "source": [
    "num1=[40,50,60,70]"
   ]
  },
  {
   "cell_type": "code",
   "execution_count": 48,
   "id": "749b5e14",
   "metadata": {},
   "outputs": [
    {
     "name": "stdout",
     "output_type": "stream",
     "text": [
      "[40, 50, 60, 70]\n"
     ]
    }
   ],
   "source": [
    "print(num1)"
   ]
  },
  {
   "cell_type": "code",
   "execution_count": 49,
   "id": "98a0799f",
   "metadata": {},
   "outputs": [
    {
     "name": "stdout",
     "output_type": "stream",
     "text": [
      "[40, 50, 60, 70] 1\n"
     ]
    }
   ],
   "source": [
    "print(num1,1)"
   ]
  },
  {
   "cell_type": "code",
   "execution_count": 50,
   "id": "8544e953",
   "metadata": {},
   "outputs": [],
   "source": [
    "num=[35,20,60,29,70,40]"
   ]
  },
  {
   "cell_type": "code",
   "execution_count": 51,
   "id": "05893308",
   "metadata": {},
   "outputs": [
    {
     "data": {
      "text/plain": [
       "[35, 20, 60, 29, 70, 40]"
      ]
     },
     "execution_count": 51,
     "metadata": {},
     "output_type": "execute_result"
    }
   ],
   "source": [
    "num"
   ]
  },
  {
   "cell_type": "code",
   "execution_count": 55,
   "id": "046d3f1d",
   "metadata": {},
   "outputs": [],
   "source": [
    "num.insert(1,36)"
   ]
  },
  {
   "cell_type": "code",
   "execution_count": 56,
   "id": "5d6fc0ae",
   "metadata": {},
   "outputs": [
    {
     "data": {
      "text/plain": [
       "[36, 36, 36, 35, 20, 60, 29, 70, 40]"
      ]
     },
     "execution_count": 56,
     "metadata": {},
     "output_type": "execute_result"
    }
   ],
   "source": [
    "num"
   ]
  },
  {
   "cell_type": "code",
   "execution_count": 57,
   "id": "2ff00a0a",
   "metadata": {},
   "outputs": [],
   "source": [
    "num=[35,20,60,29,70,40]"
   ]
  },
  {
   "cell_type": "code",
   "execution_count": 58,
   "id": "968dfa7f",
   "metadata": {},
   "outputs": [
    {
     "data": {
      "text/plain": [
       "[35, 20, 60, 29, 70, 40]"
      ]
     },
     "execution_count": 58,
     "metadata": {},
     "output_type": "execute_result"
    }
   ],
   "source": [
    "num"
   ]
  },
  {
   "cell_type": "code",
   "execution_count": 60,
   "id": "163f6fe7",
   "metadata": {},
   "outputs": [],
   "source": [
    "num.insert(1,36)"
   ]
  },
  {
   "cell_type": "code",
   "execution_count": 61,
   "id": "80e00fcb",
   "metadata": {},
   "outputs": [
    {
     "data": {
      "text/plain": [
       "[35, 36, 20, 60, 29, 70, 40]"
      ]
     },
     "execution_count": 61,
     "metadata": {},
     "output_type": "execute_result"
    }
   ],
   "source": [
    "num"
   ]
  },
  {
   "cell_type": "code",
   "execution_count": 62,
   "id": "7f9f8730",
   "metadata": {},
   "outputs": [],
   "source": [
    "num.insert(6,75)"
   ]
  },
  {
   "cell_type": "code",
   "execution_count": 63,
   "id": "bda4b7c4",
   "metadata": {},
   "outputs": [
    {
     "data": {
      "text/plain": [
       "[35, 36, 20, 60, 29, 70, 75, 40]"
      ]
     },
     "execution_count": 63,
     "metadata": {},
     "output_type": "execute_result"
    }
   ],
   "source": [
    "num"
   ]
  },
  {
   "cell_type": "code",
   "execution_count": 65,
   "id": "894a7d30",
   "metadata": {},
   "outputs": [
    {
     "name": "stdout",
     "output_type": "stream",
     "text": [
      "['__class__', '__contains__', '__delattr__', '__delitem__', '__dir__', '__doc__', '__eq__', '__format__', '__ge__', '__getattribute__', '__getitem__', '__gt__', '__hash__', '__init__', '__init_subclass__', '__iter__', '__le__', '__len__', '__lt__', '__ne__', '__new__', '__reduce__', '__reduce_ex__', '__repr__', '__reversed__', '__setattr__', '__setitem__', '__sizeof__', '__str__', '__subclasshook__', 'clear', 'copy', 'fromkeys', 'get', 'items', 'keys', 'pop', 'popitem', 'setdefault', 'update', 'values']\n"
     ]
    }
   ],
   "source": [
    "print(dir(dict))"
   ]
  },
  {
   "cell_type": "code",
   "execution_count": 66,
   "id": "49e1d06d",
   "metadata": {},
   "outputs": [],
   "source": [
    "del num"
   ]
  },
  {
   "cell_type": "code",
   "execution_count": 68,
   "id": "0fedb415",
   "metadata": {},
   "outputs": [],
   "source": [
    "num={'Name':'Vikas','Country':'India','State':'Maharashtra','Village':'Keshegaon'}"
   ]
  },
  {
   "cell_type": "code",
   "execution_count": 69,
   "id": "4abf40f8",
   "metadata": {},
   "outputs": [
    {
     "data": {
      "text/plain": [
       "dict"
      ]
     },
     "execution_count": 69,
     "metadata": {},
     "output_type": "execute_result"
    }
   ],
   "source": [
    "type(num)"
   ]
  },
  {
   "cell_type": "code",
   "execution_count": 71,
   "id": "8e78ef51",
   "metadata": {},
   "outputs": [
    {
     "name": "stdout",
     "output_type": "stream",
     "text": [
      "{'Name': 'Vikas', 'Country': 'India', 'State': 'Maharashtra', 'Village': 'Keshegaon'}\n"
     ]
    }
   ],
   "source": [
    "print(num)"
   ]
  },
  {
   "cell_type": "code",
   "execution_count": 75,
   "id": "83ca8fb1",
   "metadata": {},
   "outputs": [
    {
     "data": {
      "text/plain": [
       "'Vikas'"
      ]
     },
     "execution_count": 75,
     "metadata": {},
     "output_type": "execute_result"
    }
   ],
   "source": [
    "num.get('Name')"
   ]
  },
  {
   "cell_type": "code",
   "execution_count": 76,
   "id": "9a783254",
   "metadata": {},
   "outputs": [
    {
     "data": {
      "text/plain": [
       "'India'"
      ]
     },
     "execution_count": 76,
     "metadata": {},
     "output_type": "execute_result"
    }
   ],
   "source": [
    "num.get('Country')"
   ]
  },
  {
   "cell_type": "code",
   "execution_count": 77,
   "id": "296758f2",
   "metadata": {},
   "outputs": [
    {
     "data": {
      "text/plain": [
       "'Maharashtra'"
      ]
     },
     "execution_count": 77,
     "metadata": {},
     "output_type": "execute_result"
    }
   ],
   "source": [
    "num.get('State')"
   ]
  },
  {
   "cell_type": "code",
   "execution_count": 78,
   "id": "6e73a3f4",
   "metadata": {},
   "outputs": [
    {
     "data": {
      "text/plain": [
       "'Keshegaon'"
      ]
     },
     "execution_count": 78,
     "metadata": {},
     "output_type": "execute_result"
    }
   ],
   "source": [
    "num.get('Village')"
   ]
  },
  {
   "cell_type": "code",
   "execution_count": 79,
   "id": "b99cc08a",
   "metadata": {},
   "outputs": [],
   "source": [
    "num.get('House')"
   ]
  },
  {
   "cell_type": "code",
   "execution_count": 80,
   "id": "57acd8c1",
   "metadata": {},
   "outputs": [
    {
     "name": "stdout",
     "output_type": "stream",
     "text": [
      "{'Name': 'Vikas', 'Country': 'India', 'State': 'Maharashtra', 'Village': 'Keshegaon'}\n"
     ]
    }
   ],
   "source": [
    "print(num)"
   ]
  },
  {
   "cell_type": "code",
   "execution_count": 81,
   "id": "7643dec0",
   "metadata": {},
   "outputs": [
    {
     "data": {
      "text/plain": [
       "dict_values(['Vikas', 'India', 'Maharashtra', 'Keshegaon'])"
      ]
     },
     "execution_count": 81,
     "metadata": {},
     "output_type": "execute_result"
    }
   ],
   "source": [
    "num.values()"
   ]
  },
  {
   "cell_type": "code",
   "execution_count": 82,
   "id": "80380751",
   "metadata": {},
   "outputs": [
    {
     "data": {
      "text/plain": [
       "dict_keys(['Name', 'Country', 'State', 'Village'])"
      ]
     },
     "execution_count": 82,
     "metadata": {},
     "output_type": "execute_result"
    }
   ],
   "source": [
    "num.keys()"
   ]
  },
  {
   "cell_type": "code",
   "execution_count": 83,
   "id": "9fa596a9",
   "metadata": {},
   "outputs": [],
   "source": [
    "del num"
   ]
  },
  {
   "cell_type": "code",
   "execution_count": 84,
   "id": "5f3600a5",
   "metadata": {},
   "outputs": [],
   "source": [
    "num={1,2,3,4,5,6,7,8,9,10}"
   ]
  },
  {
   "cell_type": "code",
   "execution_count": 85,
   "id": "e0c221bc",
   "metadata": {},
   "outputs": [
    {
     "data": {
      "text/plain": [
       "set"
      ]
     },
     "execution_count": 85,
     "metadata": {},
     "output_type": "execute_result"
    }
   ],
   "source": [
    "type(num)"
   ]
  },
  {
   "cell_type": "code",
   "execution_count": 86,
   "id": "a382ebbd",
   "metadata": {},
   "outputs": [],
   "source": [
    "num={'1','2','3','4','5','6','7','8','9','10'}"
   ]
  },
  {
   "cell_type": "code",
   "execution_count": 87,
   "id": "caa24ddd",
   "metadata": {},
   "outputs": [
    {
     "data": {
      "text/plain": [
       "{'1', '10', '2', '3', '4', '5', '6', '7', '8', '9'}"
      ]
     },
     "execution_count": 87,
     "metadata": {},
     "output_type": "execute_result"
    }
   ],
   "source": [
    "num"
   ]
  },
  {
   "cell_type": "code",
   "execution_count": 88,
   "id": "496b2396",
   "metadata": {},
   "outputs": [
    {
     "data": {
      "text/plain": [
       "set"
      ]
     },
     "execution_count": 88,
     "metadata": {},
     "output_type": "execute_result"
    }
   ],
   "source": [
    "type(num)"
   ]
  },
  {
   "cell_type": "code",
   "execution_count": 89,
   "id": "41b06e48",
   "metadata": {},
   "outputs": [],
   "source": [
    "num={'1':'2','3':'4'}"
   ]
  },
  {
   "cell_type": "code",
   "execution_count": 90,
   "id": "63077d50",
   "metadata": {},
   "outputs": [
    {
     "data": {
      "text/plain": [
       "{'1': '2', '3': '4'}"
      ]
     },
     "execution_count": 90,
     "metadata": {},
     "output_type": "execute_result"
    }
   ],
   "source": [
    "num"
   ]
  },
  {
   "cell_type": "code",
   "execution_count": 91,
   "id": "3f71834b",
   "metadata": {},
   "outputs": [
    {
     "data": {
      "text/plain": [
       "dict"
      ]
     },
     "execution_count": 91,
     "metadata": {},
     "output_type": "execute_result"
    }
   ],
   "source": [
    "type(num)"
   ]
  },
  {
   "cell_type": "code",
   "execution_count": 92,
   "id": "5b692667",
   "metadata": {},
   "outputs": [],
   "source": [
    "del num"
   ]
  },
  {
   "cell_type": "code",
   "execution_count": 93,
   "id": "3100afcb",
   "metadata": {},
   "outputs": [],
   "source": [
    "num={1,2,3,4,5,6,7,8,9,10}"
   ]
  },
  {
   "cell_type": "code",
   "execution_count": 96,
   "id": "e4eb31fe",
   "metadata": {},
   "outputs": [
    {
     "name": "stdout",
     "output_type": "stream",
     "text": [
      "['__and__', '__class__', '__contains__', '__delattr__', '__dir__', '__doc__', '__eq__', '__format__', '__ge__', '__getattribute__', '__gt__', '__hash__', '__iand__', '__init__', '__init_subclass__', '__ior__', '__isub__', '__iter__', '__ixor__', '__le__', '__len__', '__lt__', '__ne__', '__new__', '__or__', '__rand__', '__reduce__', '__reduce_ex__', '__repr__', '__ror__', '__rsub__', '__rxor__', '__setattr__', '__sizeof__', '__str__', '__sub__', '__subclasshook__', '__xor__', 'add', 'clear', 'copy', 'difference', 'difference_update', 'discard', 'intersection', 'intersection_update', 'isdisjoint', 'issubset', 'issuperset', 'pop', 'remove', 'symmetric_difference', 'symmetric_difference_update', 'union', 'update']\n"
     ]
    }
   ],
   "source": [
    "print(dir(set))"
   ]
  },
  {
   "cell_type": "markdown",
   "id": "28c3eefb",
   "metadata": {},
   "source": [
    "# add"
   ]
  },
  {
   "cell_type": "code",
   "execution_count": 97,
   "id": "2b3775b5",
   "metadata": {},
   "outputs": [
    {
     "data": {
      "text/plain": [
       "{1, 2, 3, 4, 5, 6, 7, 8, 9, 10}"
      ]
     },
     "execution_count": 97,
     "metadata": {},
     "output_type": "execute_result"
    }
   ],
   "source": [
    "num"
   ]
  },
  {
   "cell_type": "code",
   "execution_count": 98,
   "id": "7989b56b",
   "metadata": {},
   "outputs": [],
   "source": [
    "num.add(30)"
   ]
  },
  {
   "cell_type": "code",
   "execution_count": 99,
   "id": "95974ab6",
   "metadata": {},
   "outputs": [
    {
     "data": {
      "text/plain": [
       "{1, 2, 3, 4, 5, 6, 7, 8, 9, 10, 30}"
      ]
     },
     "execution_count": 99,
     "metadata": {},
     "output_type": "execute_result"
    }
   ],
   "source": [
    "num"
   ]
  },
  {
   "cell_type": "code",
   "execution_count": 103,
   "id": "aef447a3",
   "metadata": {},
   "outputs": [],
   "source": [
    "num.add(1)"
   ]
  },
  {
   "cell_type": "code",
   "execution_count": 104,
   "id": "3b3e748b",
   "metadata": {},
   "outputs": [
    {
     "data": {
      "text/plain": [
       "{1, 2, 3, 4, 5, 6, 7, 8, 9, 10, 30}"
      ]
     },
     "execution_count": 104,
     "metadata": {},
     "output_type": "execute_result"
    }
   ],
   "source": [
    "num"
   ]
  },
  {
   "cell_type": "code",
   "execution_count": 105,
   "id": "5a0021a2",
   "metadata": {},
   "outputs": [
    {
     "name": "stdout",
     "output_type": "stream",
     "text": [
      "Help on method_descriptor:\n",
      "\n",
      "discard(...)\n",
      "    Remove an element from a set if it is a member.\n",
      "    \n",
      "    If the element is not a member, do nothing.\n",
      "\n"
     ]
    }
   ],
   "source": [
    "help(set.discard)"
   ]
  },
  {
   "cell_type": "code",
   "execution_count": 106,
   "id": "1977bc62",
   "metadata": {},
   "outputs": [],
   "source": [
    "num.discard(10)"
   ]
  },
  {
   "cell_type": "code",
   "execution_count": 107,
   "id": "169e29ad",
   "metadata": {},
   "outputs": [
    {
     "data": {
      "text/plain": [
       "{1, 2, 3, 4, 5, 6, 7, 8, 9, 30}"
      ]
     },
     "execution_count": 107,
     "metadata": {},
     "output_type": "execute_result"
    }
   ],
   "source": [
    "num"
   ]
  },
  {
   "cell_type": "code",
   "execution_count": 108,
   "id": "c6c5d9b2",
   "metadata": {},
   "outputs": [
    {
     "data": {
      "text/plain": [
       "1"
      ]
     },
     "execution_count": 108,
     "metadata": {},
     "output_type": "execute_result"
    }
   ],
   "source": [
    "num.pop()"
   ]
  },
  {
   "cell_type": "code",
   "execution_count": 109,
   "id": "a79cdf49",
   "metadata": {},
   "outputs": [
    {
     "data": {
      "text/plain": [
       "{2, 3, 4, 5, 6, 7, 8, 9, 30}"
      ]
     },
     "execution_count": 109,
     "metadata": {},
     "output_type": "execute_result"
    }
   ],
   "source": [
    "num"
   ]
  },
  {
   "cell_type": "markdown",
   "id": "f078ac6c",
   "metadata": {},
   "source": [
    "help(set.pop)"
   ]
  },
  {
   "cell_type": "code",
   "execution_count": 111,
   "id": "0a49123d",
   "metadata": {},
   "outputs": [
    {
     "data": {
      "text/plain": [
       "9"
      ]
     },
     "execution_count": 111,
     "metadata": {},
     "output_type": "execute_result"
    }
   ],
   "source": [
    "len(num)"
   ]
  },
  {
   "cell_type": "code",
   "execution_count": 116,
   "id": "47cb267b",
   "metadata": {},
   "outputs": [
    {
     "data": {
      "text/plain": [
       "3"
      ]
     },
     "execution_count": 116,
     "metadata": {},
     "output_type": "execute_result"
    }
   ],
   "source": [
    "num.pop()"
   ]
  },
  {
   "cell_type": "code",
   "execution_count": 117,
   "id": "5b46d619",
   "metadata": {},
   "outputs": [
    {
     "data": {
      "text/plain": [
       "{4, 5, 6, 7, 8, 9, 30}"
      ]
     },
     "execution_count": 117,
     "metadata": {},
     "output_type": "execute_result"
    }
   ],
   "source": [
    "num"
   ]
  },
  {
   "cell_type": "code",
   "execution_count": 118,
   "id": "31d508ba",
   "metadata": {},
   "outputs": [],
   "source": [
    "num.discard(6)"
   ]
  },
  {
   "cell_type": "code",
   "execution_count": 119,
   "id": "a5265ae9",
   "metadata": {},
   "outputs": [
    {
     "data": {
      "text/plain": [
       "{4, 5, 7, 8, 9, 30}"
      ]
     },
     "execution_count": 119,
     "metadata": {},
     "output_type": "execute_result"
    }
   ],
   "source": [
    "num"
   ]
  },
  {
   "cell_type": "code",
   "execution_count": 120,
   "id": "73b04b47",
   "metadata": {},
   "outputs": [
    {
     "data": {
      "text/plain": [
       "4"
      ]
     },
     "execution_count": 120,
     "metadata": {},
     "output_type": "execute_result"
    }
   ],
   "source": [
    "num.pop()"
   ]
  },
  {
   "cell_type": "code",
   "execution_count": 121,
   "id": "eea95d47",
   "metadata": {},
   "outputs": [
    {
     "data": {
      "text/plain": [
       "{5, 7, 8, 9, 30}"
      ]
     },
     "execution_count": 121,
     "metadata": {},
     "output_type": "execute_result"
    }
   ],
   "source": [
    "num"
   ]
  },
  {
   "cell_type": "code",
   "execution_count": 122,
   "id": "22ca2d75",
   "metadata": {},
   "outputs": [],
   "source": [
    "num.add(40)"
   ]
  },
  {
   "cell_type": "code",
   "execution_count": 123,
   "id": "e08d792a",
   "metadata": {},
   "outputs": [
    {
     "data": {
      "text/plain": [
       "{5, 7, 8, 9, 30, 40}"
      ]
     },
     "execution_count": 123,
     "metadata": {},
     "output_type": "execute_result"
    }
   ],
   "source": [
    "num"
   ]
  },
  {
   "cell_type": "code",
   "execution_count": 124,
   "id": "c3ce4942",
   "metadata": {},
   "outputs": [],
   "source": [
    "Days={'monday','tuesday','thursday','wednesday','friday','saturday','sunday'}\n",
    "Months={'jan','feb','march','sept'}\n",
    "Dates={4,5,10,20}"
   ]
  },
  {
   "cell_type": "code",
   "execution_count": 128,
   "id": "f244be5f",
   "metadata": {},
   "outputs": [
    {
     "name": "stdout",
     "output_type": "stream",
     "text": [
      "{'friday', 'wednesday', 'tuesday', 'monday', 'thursday', 'saturday', 'sunday'}\n"
     ]
    }
   ],
   "source": [
    "print(Days)"
   ]
  },
  {
   "cell_type": "code",
   "execution_count": 129,
   "id": "5b6b84e8",
   "metadata": {},
   "outputs": [
    {
     "data": {
      "text/plain": [
       "set"
      ]
     },
     "execution_count": 129,
     "metadata": {},
     "output_type": "execute_result"
    }
   ],
   "source": [
    "type(Dates)"
   ]
  },
  {
   "cell_type": "code",
   "execution_count": 130,
   "id": "d236ef3d",
   "metadata": {},
   "outputs": [
    {
     "ename": "AttributeError",
     "evalue": "'set' object has no attribute 'reverse'",
     "output_type": "error",
     "traceback": [
      "\u001b[1;31m---------------------------------------------------------------------------\u001b[0m",
      "\u001b[1;31mAttributeError\u001b[0m                            Traceback (most recent call last)",
      "\u001b[1;32m<ipython-input-130-46254e86de8f>\u001b[0m in \u001b[0;36m<module>\u001b[1;34m\u001b[0m\n\u001b[1;32m----> 1\u001b[1;33m \u001b[0mDays\u001b[0m\u001b[1;33m.\u001b[0m\u001b[0mreverse\u001b[0m\u001b[1;33m(\u001b[0m\u001b[1;33m)\u001b[0m\u001b[1;33m\u001b[0m\u001b[1;33m\u001b[0m\u001b[0m\n\u001b[0m",
      "\u001b[1;31mAttributeError\u001b[0m: 'set' object has no attribute 'reverse'"
     ]
    }
   ],
   "source": []
  },
  {
   "cell_type": "code",
   "execution_count": 131,
   "id": "ef651608",
   "metadata": {},
   "outputs": [
    {
     "name": "stdout",
     "output_type": "stream",
     "text": [
      "['__and__', '__class__', '__contains__', '__delattr__', '__dir__', '__doc__', '__eq__', '__format__', '__ge__', '__getattribute__', '__gt__', '__hash__', '__iand__', '__init__', '__init_subclass__', '__ior__', '__isub__', '__iter__', '__ixor__', '__le__', '__len__', '__lt__', '__ne__', '__new__', '__or__', '__rand__', '__reduce__', '__reduce_ex__', '__repr__', '__ror__', '__rsub__', '__rxor__', '__setattr__', '__sizeof__', '__str__', '__sub__', '__subclasshook__', '__xor__', 'add', 'clear', 'copy', 'difference', 'difference_update', 'discard', 'intersection', 'intersection_update', 'isdisjoint', 'issubset', 'issuperset', 'pop', 'remove', 'symmetric_difference', 'symmetric_difference_update', 'union', 'update']\n"
     ]
    }
   ],
   "source": [
    "print(dir(set))"
   ]
  },
  {
   "cell_type": "code",
   "execution_count": 132,
   "id": "cbe02d4a",
   "metadata": {},
   "outputs": [
    {
     "name": "stdout",
     "output_type": "stream",
     "text": [
      "Help on method_descriptor:\n",
      "\n",
      "difference(...)\n",
      "    Return the difference of two or more sets as a new set.\n",
      "    \n",
      "    (i.e. all elements that are in this set but not the others.)\n",
      "\n"
     ]
    }
   ],
   "source": [
    "help(set.difference)"
   ]
  },
  {
   "cell_type": "code",
   "execution_count": 133,
   "id": "9a0436f3",
   "metadata": {},
   "outputs": [],
   "source": [
    "set1={20,10,30,20,45,30,80}"
   ]
  },
  {
   "cell_type": "code",
   "execution_count": 134,
   "id": "8070b4b0",
   "metadata": {},
   "outputs": [],
   "source": [
    "set2={45,65,20,30,80,77}"
   ]
  },
  {
   "cell_type": "code",
   "execution_count": 135,
   "id": "382a62ea",
   "metadata": {},
   "outputs": [
    {
     "data": {
      "text/plain": [
       "{10}"
      ]
     },
     "execution_count": 135,
     "metadata": {},
     "output_type": "execute_result"
    }
   ],
   "source": [
    "set1.difference(set2)"
   ]
  },
  {
   "cell_type": "code",
   "execution_count": 136,
   "id": "31425909",
   "metadata": {},
   "outputs": [
    {
     "data": {
      "text/plain": [
       "{65, 77}"
      ]
     },
     "execution_count": 136,
     "metadata": {},
     "output_type": "execute_result"
    }
   ],
   "source": [
    "set2.difference(set1)"
   ]
  },
  {
   "cell_type": "code",
   "execution_count": 139,
   "id": "5942dc9d",
   "metadata": {},
   "outputs": [
    {
     "name": "stdout",
     "output_type": "stream",
     "text": [
      "Help on method_descriptor:\n",
      "\n",
      "difference_update(...)\n",
      "    Remove all elements of another set from this set.\n",
      "\n"
     ]
    }
   ],
   "source": [
    "help(set.difference_update)"
   ]
  },
  {
   "cell_type": "code",
   "execution_count": 140,
   "id": "d8ba0f6a",
   "metadata": {},
   "outputs": [
    {
     "data": {
      "text/plain": [
       "{10, 20, 30, 45, 80}"
      ]
     },
     "execution_count": 140,
     "metadata": {},
     "output_type": "execute_result"
    }
   ],
   "source": [
    "set1"
   ]
  },
  {
   "cell_type": "code",
   "execution_count": 141,
   "id": "3eea6c54",
   "metadata": {},
   "outputs": [
    {
     "data": {
      "text/plain": [
       "{20, 30, 45, 65, 77, 80}"
      ]
     },
     "execution_count": 141,
     "metadata": {},
     "output_type": "execute_result"
    }
   ],
   "source": [
    "set2"
   ]
  },
  {
   "cell_type": "code",
   "execution_count": 142,
   "id": "c0c5a2b4",
   "metadata": {},
   "outputs": [
    {
     "data": {
      "text/plain": [
       "{10}"
      ]
     },
     "execution_count": 142,
     "metadata": {},
     "output_type": "execute_result"
    }
   ],
   "source": [
    "set1-set2"
   ]
  },
  {
   "cell_type": "code",
   "execution_count": 143,
   "id": "0c4ac168",
   "metadata": {},
   "outputs": [
    {
     "data": {
      "text/plain": [
       "{65, 77}"
      ]
     },
     "execution_count": 143,
     "metadata": {},
     "output_type": "execute_result"
    }
   ],
   "source": [
    "set2-set1"
   ]
  },
  {
   "cell_type": "code",
   "execution_count": 144,
   "id": "820e9ff7",
   "metadata": {},
   "outputs": [],
   "source": [
    "set1.difference_update()"
   ]
  },
  {
   "cell_type": "code",
   "execution_count": 145,
   "id": "db2d015f",
   "metadata": {},
   "outputs": [
    {
     "data": {
      "text/plain": [
       "{10, 20, 30, 45, 80}"
      ]
     },
     "execution_count": 145,
     "metadata": {},
     "output_type": "execute_result"
    }
   ],
   "source": [
    "set1"
   ]
  },
  {
   "cell_type": "code",
   "execution_count": 148,
   "id": "676736d3",
   "metadata": {},
   "outputs": [],
   "source": [
    "set2.difference_update(set1)"
   ]
  },
  {
   "cell_type": "code",
   "execution_count": 149,
   "id": "4c5e90b0",
   "metadata": {},
   "outputs": [
    {
     "data": {
      "text/plain": [
       "{65, 77}"
      ]
     },
     "execution_count": 149,
     "metadata": {},
     "output_type": "execute_result"
    }
   ],
   "source": [
    "set2"
   ]
  },
  {
   "cell_type": "code",
   "execution_count": 150,
   "id": "547ec875",
   "metadata": {},
   "outputs": [],
   "source": [
    "set1.difference_update(set2)"
   ]
  },
  {
   "cell_type": "code",
   "execution_count": 151,
   "id": "187c2ed1",
   "metadata": {},
   "outputs": [
    {
     "data": {
      "text/plain": [
       "{10, 20, 30, 45, 80}"
      ]
     },
     "execution_count": 151,
     "metadata": {},
     "output_type": "execute_result"
    }
   ],
   "source": [
    "set1"
   ]
  },
  {
   "cell_type": "code",
   "execution_count": 152,
   "id": "72314ef8",
   "metadata": {},
   "outputs": [],
   "source": [
    "set1.add(96)"
   ]
  },
  {
   "cell_type": "code",
   "execution_count": 153,
   "id": "7ff79de3",
   "metadata": {},
   "outputs": [
    {
     "data": {
      "text/plain": [
       "{10, 20, 30, 45, 80, 96}"
      ]
     },
     "execution_count": 153,
     "metadata": {},
     "output_type": "execute_result"
    }
   ],
   "source": [
    "set1"
   ]
  },
  {
   "cell_type": "code",
   "execution_count": 154,
   "id": "aefcde9b",
   "metadata": {},
   "outputs": [],
   "source": [
    "set1.add(100)"
   ]
  },
  {
   "cell_type": "code",
   "execution_count": 155,
   "id": "0b10c8d6",
   "metadata": {},
   "outputs": [
    {
     "data": {
      "text/plain": [
       "{10, 20, 30, 45, 80, 96, 100}"
      ]
     },
     "execution_count": 155,
     "metadata": {},
     "output_type": "execute_result"
    }
   ],
   "source": [
    "set1"
   ]
  },
  {
   "cell_type": "code",
   "execution_count": 156,
   "id": "f2f7c89f",
   "metadata": {},
   "outputs": [],
   "source": [
    "set1.difference_update(set2)"
   ]
  },
  {
   "cell_type": "code",
   "execution_count": 157,
   "id": "71c67947",
   "metadata": {},
   "outputs": [
    {
     "data": {
      "text/plain": [
       "{10, 20, 30, 45, 80, 96, 100}"
      ]
     },
     "execution_count": 157,
     "metadata": {},
     "output_type": "execute_result"
    }
   ],
   "source": [
    "set1"
   ]
  },
  {
   "cell_type": "code",
   "execution_count": 159,
   "id": "2183eee6",
   "metadata": {},
   "outputs": [],
   "source": [
    "set2={20, 30, 45, 65, 77, 80}"
   ]
  },
  {
   "cell_type": "code",
   "execution_count": 160,
   "id": "17967d07",
   "metadata": {},
   "outputs": [
    {
     "data": {
      "text/plain": [
       "{20, 30, 45, 65, 77, 80}"
      ]
     },
     "execution_count": 160,
     "metadata": {},
     "output_type": "execute_result"
    }
   ],
   "source": [
    "set2"
   ]
  },
  {
   "cell_type": "code",
   "execution_count": 161,
   "id": "d4dcbd5c",
   "metadata": {},
   "outputs": [],
   "source": [
    "set1.difference_update(set2)"
   ]
  },
  {
   "cell_type": "code",
   "execution_count": 162,
   "id": "3f43e89e",
   "metadata": {},
   "outputs": [
    {
     "data": {
      "text/plain": [
       "{10, 96, 100}"
      ]
     },
     "execution_count": 162,
     "metadata": {},
     "output_type": "execute_result"
    }
   ],
   "source": [
    "set1"
   ]
  },
  {
   "cell_type": "code",
   "execution_count": 163,
   "id": "d604c0f9",
   "metadata": {},
   "outputs": [
    {
     "data": {
      "text/plain": [
       "{10, 96, 100}"
      ]
     },
     "execution_count": 163,
     "metadata": {},
     "output_type": "execute_result"
    }
   ],
   "source": [
    "set1"
   ]
  },
  {
   "cell_type": "code",
   "execution_count": 164,
   "id": "17e1e140",
   "metadata": {},
   "outputs": [
    {
     "data": {
      "text/plain": [
       "{20, 30, 45, 65, 77, 80}"
      ]
     },
     "execution_count": 164,
     "metadata": {},
     "output_type": "execute_result"
    }
   ],
   "source": [
    "set2"
   ]
  },
  {
   "cell_type": "code",
   "execution_count": 165,
   "id": "45c3bb6a",
   "metadata": {},
   "outputs": [],
   "source": [
    "set1={10, 20, 30, 45, 80, 96, 100}"
   ]
  },
  {
   "cell_type": "code",
   "execution_count": 166,
   "id": "89fa8294",
   "metadata": {},
   "outputs": [
    {
     "data": {
      "text/plain": [
       "{10, 20, 30, 45, 80, 96, 100}"
      ]
     },
     "execution_count": 166,
     "metadata": {},
     "output_type": "execute_result"
    }
   ],
   "source": [
    "set1"
   ]
  },
  {
   "cell_type": "code",
   "execution_count": 167,
   "id": "4a32257f",
   "metadata": {},
   "outputs": [
    {
     "data": {
      "text/plain": [
       "{10, 96, 100}"
      ]
     },
     "execution_count": 167,
     "metadata": {},
     "output_type": "execute_result"
    }
   ],
   "source": [
    "set1.difference(set2)"
   ]
  },
  {
   "cell_type": "code",
   "execution_count": 168,
   "id": "360369af",
   "metadata": {},
   "outputs": [
    {
     "name": "stdout",
     "output_type": "stream",
     "text": [
      "Help on method_descriptor:\n",
      "\n",
      "difference(...)\n",
      "    Return the difference of two or more sets as a new set.\n",
      "    \n",
      "    (i.e. all elements that are in this set but not the others.)\n",
      "\n"
     ]
    }
   ],
   "source": [
    "help(set.difference)"
   ]
  },
  {
   "cell_type": "code",
   "execution_count": 170,
   "id": "09bc4065",
   "metadata": {},
   "outputs": [
    {
     "name": "stdout",
     "output_type": "stream",
     "text": [
      "Help on method_descriptor:\n",
      "\n",
      "difference_update(...)\n",
      "    Remove all elements of another set from this set.\n",
      "\n"
     ]
    }
   ],
   "source": [
    "help(set.difference_update)"
   ]
  },
  {
   "cell_type": "code",
   "execution_count": 171,
   "id": "26d60157",
   "metadata": {},
   "outputs": [
    {
     "data": {
      "text/plain": [
       "{10, 20, 30, 45, 80, 96, 100}"
      ]
     },
     "execution_count": 171,
     "metadata": {},
     "output_type": "execute_result"
    }
   ],
   "source": [
    "set1"
   ]
  },
  {
   "cell_type": "code",
   "execution_count": 172,
   "id": "c6ef6b98",
   "metadata": {},
   "outputs": [
    {
     "data": {
      "text/plain": [
       "{20, 30, 45, 65, 77, 80}"
      ]
     },
     "execution_count": 172,
     "metadata": {},
     "output_type": "execute_result"
    }
   ],
   "source": [
    "set2"
   ]
  },
  {
   "cell_type": "code",
   "execution_count": 173,
   "id": "41b6167c",
   "metadata": {},
   "outputs": [],
   "source": [
    "set1.difference_update(set2)"
   ]
  },
  {
   "cell_type": "code",
   "execution_count": 174,
   "id": "51aea73c",
   "metadata": {},
   "outputs": [
    {
     "data": {
      "text/plain": [
       "{10, 96, 100}"
      ]
     },
     "execution_count": 174,
     "metadata": {},
     "output_type": "execute_result"
    }
   ],
   "source": [
    "set1"
   ]
  },
  {
   "cell_type": "code",
   "execution_count": 175,
   "id": "035316bd",
   "metadata": {},
   "outputs": [
    {
     "data": {
      "text/plain": [
       "{10, 96, 100}"
      ]
     },
     "execution_count": 175,
     "metadata": {},
     "output_type": "execute_result"
    }
   ],
   "source": [
    "set1"
   ]
  },
  {
   "cell_type": "code",
   "execution_count": 176,
   "id": "fa23c014",
   "metadata": {},
   "outputs": [
    {
     "name": "stdout",
     "output_type": "stream",
     "text": [
      "['__and__', '__class__', '__contains__', '__delattr__', '__dir__', '__doc__', '__eq__', '__format__', '__ge__', '__getattribute__', '__gt__', '__hash__', '__iand__', '__init__', '__init_subclass__', '__ior__', '__isub__', '__iter__', '__ixor__', '__le__', '__len__', '__lt__', '__ne__', '__new__', '__or__', '__rand__', '__reduce__', '__reduce_ex__', '__repr__', '__ror__', '__rsub__', '__rxor__', '__setattr__', '__sizeof__', '__str__', '__sub__', '__subclasshook__', '__xor__', 'add', 'clear', 'copy', 'difference', 'difference_update', 'discard', 'intersection', 'intersection_update', 'isdisjoint', 'issubset', 'issuperset', 'pop', 'remove', 'symmetric_difference', 'symmetric_difference_update', 'union', 'update']\n"
     ]
    }
   ],
   "source": [
    "print(dir(set))"
   ]
  },
  {
   "cell_type": "code",
   "execution_count": 177,
   "id": "54c41bf6",
   "metadata": {},
   "outputs": [],
   "source": [
    "set1.discard(10)"
   ]
  },
  {
   "cell_type": "code",
   "execution_count": 178,
   "id": "a4f85872",
   "metadata": {},
   "outputs": [
    {
     "data": {
      "text/plain": [
       "{96, 100}"
      ]
     },
     "execution_count": 178,
     "metadata": {},
     "output_type": "execute_result"
    }
   ],
   "source": [
    "set1"
   ]
  },
  {
   "cell_type": "code",
   "execution_count": 179,
   "id": "9b19dc31",
   "metadata": {},
   "outputs": [],
   "source": [
    "set1.discard(20)"
   ]
  },
  {
   "cell_type": "code",
   "execution_count": 180,
   "id": "cb5dec3b",
   "metadata": {},
   "outputs": [
    {
     "data": {
      "text/plain": [
       "{96, 100}"
      ]
     },
     "execution_count": 180,
     "metadata": {},
     "output_type": "execute_result"
    }
   ],
   "source": [
    "set1"
   ]
  },
  {
   "cell_type": "code",
   "execution_count": 185,
   "id": "b780b2e6",
   "metadata": {},
   "outputs": [
    {
     "name": "stdout",
     "output_type": "stream",
     "text": [
      "Help on method_descriptor:\n",
      "\n",
      "intersection(...)\n",
      "    Return the intersection of two sets as a new set.\n",
      "    \n",
      "    (i.e. all elements that are in both sets.)\n",
      "\n"
     ]
    }
   ],
   "source": [
    "help(set.intersection)"
   ]
  },
  {
   "cell_type": "code",
   "execution_count": 186,
   "id": "a38c9f66",
   "metadata": {},
   "outputs": [
    {
     "data": {
      "text/plain": [
       "{96, 100}"
      ]
     },
     "execution_count": 186,
     "metadata": {},
     "output_type": "execute_result"
    }
   ],
   "source": [
    "set1"
   ]
  },
  {
   "cell_type": "code",
   "execution_count": 187,
   "id": "9d764ba7",
   "metadata": {},
   "outputs": [],
   "source": [
    "set1.add(45)"
   ]
  },
  {
   "cell_type": "code",
   "execution_count": 188,
   "id": "a5f80eff",
   "metadata": {},
   "outputs": [],
   "source": [
    "set1.add(60)\n",
    "set1.add(80)"
   ]
  },
  {
   "cell_type": "code",
   "execution_count": 189,
   "id": "9b1702a2",
   "metadata": {},
   "outputs": [
    {
     "data": {
      "text/plain": [
       "{45, 60, 80, 96, 100}"
      ]
     },
     "execution_count": 189,
     "metadata": {},
     "output_type": "execute_result"
    }
   ],
   "source": [
    "set1"
   ]
  },
  {
   "cell_type": "code",
   "execution_count": 190,
   "id": "b14cc808",
   "metadata": {},
   "outputs": [
    {
     "data": {
      "text/plain": [
       "{20, 30, 45, 65, 77, 80}"
      ]
     },
     "execution_count": 190,
     "metadata": {},
     "output_type": "execute_result"
    }
   ],
   "source": [
    "set2"
   ]
  },
  {
   "cell_type": "code",
   "execution_count": 191,
   "id": "e0aa5231",
   "metadata": {},
   "outputs": [
    {
     "data": {
      "text/plain": [
       "{45, 80}"
      ]
     },
     "execution_count": 191,
     "metadata": {},
     "output_type": "execute_result"
    }
   ],
   "source": [
    "set1.intersection(set2)"
   ]
  },
  {
   "cell_type": "code",
   "execution_count": 192,
   "id": "56862a6a",
   "metadata": {},
   "outputs": [],
   "source": [
    "set3={43,40,77,60,100}"
   ]
  },
  {
   "cell_type": "code",
   "execution_count": 198,
   "id": "63cf6bcd",
   "metadata": {},
   "outputs": [],
   "source": [
    "set1.intersection_update(set2,set3)"
   ]
  },
  {
   "cell_type": "code",
   "execution_count": 199,
   "id": "e25d15d0",
   "metadata": {},
   "outputs": [
    {
     "data": {
      "text/plain": [
       "set()"
      ]
     },
     "execution_count": 199,
     "metadata": {},
     "output_type": "execute_result"
    }
   ],
   "source": [
    "set1"
   ]
  },
  {
   "cell_type": "code",
   "execution_count": 200,
   "id": "3c305a9a",
   "metadata": {},
   "outputs": [
    {
     "data": {
      "text/plain": [
       "{20, 30, 45, 65, 77, 80}"
      ]
     },
     "execution_count": 200,
     "metadata": {},
     "output_type": "execute_result"
    }
   ],
   "source": [
    "set2"
   ]
  },
  {
   "cell_type": "code",
   "execution_count": 201,
   "id": "07baca9d",
   "metadata": {},
   "outputs": [
    {
     "data": {
      "text/plain": [
       "{40, 43, 77}"
      ]
     },
     "execution_count": 201,
     "metadata": {},
     "output_type": "execute_result"
    }
   ],
   "source": [
    "set3"
   ]
  },
  {
   "cell_type": "code",
   "execution_count": 202,
   "id": "386e8c1b",
   "metadata": {},
   "outputs": [
    {
     "data": {
      "text/plain": [
       "{40, 43, 77}"
      ]
     },
     "execution_count": 202,
     "metadata": {},
     "output_type": "execute_result"
    }
   ],
   "source": [
    "set3"
   ]
  },
  {
   "cell_type": "code",
   "execution_count": null,
   "id": "a0bbbe32",
   "metadata": {},
   "outputs": [],
   "source": []
  }
 ],
 "metadata": {
  "kernelspec": {
   "display_name": "Python 3",
   "language": "python",
   "name": "python3"
  },
  "language_info": {
   "codemirror_mode": {
    "name": "ipython",
    "version": 3
   },
   "file_extension": ".py",
   "mimetype": "text/x-python",
   "name": "python",
   "nbconvert_exporter": "python",
   "pygments_lexer": "ipython3",
   "version": "3.8.8"
  }
 },
 "nbformat": 4,
 "nbformat_minor": 5
}
