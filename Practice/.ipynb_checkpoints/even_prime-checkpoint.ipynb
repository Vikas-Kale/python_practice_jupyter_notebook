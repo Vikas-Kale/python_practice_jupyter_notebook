{
 "cells": [
  {
   "cell_type": "code",
   "execution_count": 18,
   "id": "9313b34e",
   "metadata": {
    "ExecuteTime": {
     "end_time": "2021-09-29T10:33:04.210593Z",
     "start_time": "2021-09-29T10:32:21.917470Z"
    }
   },
   "outputs": [
    {
     "name": "stdout",
     "output_type": "stream",
     "text": [
      "1. To Check Even or Odd:- \t 2. To Check Prime or Not:- \n",
      " 3. For exit \n",
      "########## ENTER YOUR RESPONCE ###########1\n",
      "Enter number which you want to check even or odd :- 8\n",
      "8 is even.\n",
      "1. To Check Even or Odd:- \t 2. To Check Prime or Not:- \n",
      " 3. For exit \n",
      "########## ENTER YOUR RESPONCE ###########1\n",
      "Enter number which you want to check even or odd :- 11\n",
      "11 is odd.\n",
      "1. To Check Even or Odd:- \t 2. To Check Prime or Not:- \n",
      " 3. For exit \n",
      "########## ENTER YOUR RESPONCE ###########2\n",
      "Enter number which you want to check prime or not :- 41\n",
      "41 is prime.\n",
      "1. To Check Even or Odd:- \t 2. To Check Prime or Not:- \n",
      " 3. For exit \n",
      "########## ENTER YOUR RESPONCE ###########3\n",
      "Exit the program.\n",
      "Thank You!!\n"
     ]
    }
   ],
   "source": [
    "def is_even(num):\n",
    "    \"\"\"\n",
    "    This function return True is number is even.\n",
    "    \"\"\"\n",
    "    if num % 2 == 0:\n",
    "        return f\"{num} is even.\"\n",
    "    else:\n",
    "        return f\"{num} is odd.\"\n",
    "    \n",
    "def is_prime(num):\n",
    "    \"\"\"\n",
    "    This function return True if num is prime otherwise False.\n",
    "    Note :- Enter number which is grater than one.\n",
    "    \"\"\"\n",
    "    if num > 1:\n",
    "        count = 0\n",
    "        for i in range(1, num + 1):\n",
    "            if num % i == 0:\n",
    "                count+=1\n",
    "                \n",
    "        if count == 2:\n",
    "            return f\"{num} is prime.\"\n",
    "        else:\n",
    "            return f\"{num} is not prime.\"\n",
    "        \n",
    "    else:\n",
    "        print(\"Please enter number which is greater than one.\")\n",
    "        \n",
    "while True:\n",
    "    \n",
    "    print(\"1. To Check Even or Odd:- \\t 2. To Check Prime or Not:- \\n 3. For exit \")\n",
    "    responce = int(input(\"########## ENTER YOUR RESPONCE ###########\"))\n",
    "    if responce == 1:\n",
    "        num = int(input(\"Enter number which you want to check even or odd :- \"))\n",
    "        print(is_even(num))\n",
    "    elif responce == 2:\n",
    "        num = int(input(\"Enter number which you want to check prime or not :- \"))\n",
    "        print(is_prime(num))\n",
    "    elif responce == 3:\n",
    "        print(\"Exit the program.\\nThank You!!\")\n",
    "        break"
   ]
  },
  {
   "cell_type": "code",
   "execution_count": 2,
   "id": "267c4716",
   "metadata": {
    "ExecuteTime": {
     "end_time": "2021-09-29T10:14:41.686955Z",
     "start_time": "2021-09-29T10:14:41.645922Z"
    }
   },
   "outputs": [
    {
     "data": {
      "text/plain": [
       "'5 is odd.'"
      ]
     },
     "execution_count": 2,
     "metadata": {},
     "output_type": "execute_result"
    }
   ],
   "source": [
    "is_even(5)"
   ]
  },
  {
   "cell_type": "code",
   "execution_count": 3,
   "id": "5b98a0f4",
   "metadata": {
    "ExecuteTime": {
     "end_time": "2021-09-29T10:14:52.229071Z",
     "start_time": "2021-09-29T10:14:52.197071Z"
    }
   },
   "outputs": [
    {
     "data": {
      "text/plain": [
       "'8 is even.'"
      ]
     },
     "execution_count": 3,
     "metadata": {},
     "output_type": "execute_result"
    }
   ],
   "source": [
    "is_even(8)"
   ]
  },
  {
   "cell_type": "code",
   "execution_count": 11,
   "id": "e994fa23",
   "metadata": {
    "ExecuteTime": {
     "end_time": "2021-09-29T10:21:02.810633Z",
     "start_time": "2021-09-29T10:21:02.790912Z"
    }
   },
   "outputs": [],
   "source": [
    "def is_prime(num):\n",
    "    \"\"\"\n",
    "    This function return True if num is prime otherwise False.\n",
    "    Note :- Enter number which is grater than one.\n",
    "    \"\"\"\n",
    "    if num > 1:\n",
    "        count = 0\n",
    "        for i in range(1, num + 1):\n",
    "            if num % i == 0:\n",
    "                count+=1\n",
    "                \n",
    "        if count == 2:\n",
    "            return f\"{num} is prime.\"\n",
    "        else:\n",
    "            return f\"{num} is not prime.\"\n",
    "        \n",
    "    else:\n",
    "        print(\"Please enter number which is greater than one.\")\n",
    "                "
   ]
  },
  {
   "cell_type": "code",
   "execution_count": 12,
   "id": "96a9e2e1",
   "metadata": {
    "ExecuteTime": {
     "end_time": "2021-09-29T10:21:04.916264Z",
     "start_time": "2021-09-29T10:21:04.892262Z"
    }
   },
   "outputs": [
    {
     "data": {
      "text/plain": [
       "'5 is prime.'"
      ]
     },
     "execution_count": 12,
     "metadata": {},
     "output_type": "execute_result"
    }
   ],
   "source": [
    "is_prime(5)"
   ]
  },
  {
   "cell_type": "code",
   "execution_count": 13,
   "id": "843f4c88",
   "metadata": {
    "ExecuteTime": {
     "end_time": "2021-09-29T10:21:06.404073Z",
     "start_time": "2021-09-29T10:21:06.388073Z"
    }
   },
   "outputs": [
    {
     "data": {
      "text/plain": [
       "'7 is prime.'"
      ]
     },
     "execution_count": 13,
     "metadata": {},
     "output_type": "execute_result"
    }
   ],
   "source": [
    "is_prime(7)"
   ]
  },
  {
   "cell_type": "code",
   "execution_count": 14,
   "id": "9ecd19b8",
   "metadata": {
    "ExecuteTime": {
     "end_time": "2021-09-29T10:21:15.151562Z",
     "start_time": "2021-09-29T10:21:15.127561Z"
    }
   },
   "outputs": [
    {
     "data": {
      "text/plain": [
       "'41 is prime.'"
      ]
     },
     "execution_count": 14,
     "metadata": {},
     "output_type": "execute_result"
    }
   ],
   "source": [
    "is_prime(41)"
   ]
  },
  {
   "cell_type": "code",
   "execution_count": 15,
   "id": "81e85b7f",
   "metadata": {
    "ExecuteTime": {
     "end_time": "2021-09-29T10:21:21.287062Z",
     "start_time": "2021-09-29T10:21:21.263065Z"
    }
   },
   "outputs": [
    {
     "data": {
      "text/plain": [
       "'97 is prime.'"
      ]
     },
     "execution_count": 15,
     "metadata": {},
     "output_type": "execute_result"
    }
   ],
   "source": [
    "is_prime(97)"
   ]
  },
  {
   "cell_type": "code",
   "execution_count": 16,
   "id": "0c6bd2ac",
   "metadata": {
    "ExecuteTime": {
     "end_time": "2021-09-29T10:21:28.936869Z",
     "start_time": "2021-09-29T10:21:28.912870Z"
    }
   },
   "outputs": [
    {
     "data": {
      "text/plain": [
       "'96 is not prime.'"
      ]
     },
     "execution_count": 16,
     "metadata": {},
     "output_type": "execute_result"
    }
   ],
   "source": [
    "is_prime(96)"
   ]
  },
  {
   "cell_type": "code",
   "execution_count": 17,
   "id": "84d1c613",
   "metadata": {
    "ExecuteTime": {
     "end_time": "2021-09-29T10:22:06.708312Z",
     "start_time": "2021-09-29T10:22:06.684313Z"
    }
   },
   "outputs": [
    {
     "data": {
      "text/plain": [
       "'42 is not prime.'"
      ]
     },
     "execution_count": 17,
     "metadata": {},
     "output_type": "execute_result"
    }
   ],
   "source": [
    "is_prime(42)"
   ]
  },
  {
   "cell_type": "code",
   "execution_count": null,
   "id": "3b9d836d",
   "metadata": {},
   "outputs": [],
   "source": []
  }
 ],
 "metadata": {
  "kernelspec": {
   "display_name": "Python 3",
   "language": "python",
   "name": "python3"
  },
  "language_info": {
   "codemirror_mode": {
    "name": "ipython",
    "version": 3
   },
   "file_extension": ".py",
   "mimetype": "text/x-python",
   "name": "python",
   "nbconvert_exporter": "python",
   "pygments_lexer": "ipython3",
   "version": "3.8.8"
  }
 },
 "nbformat": 4,
 "nbformat_minor": 5
}
