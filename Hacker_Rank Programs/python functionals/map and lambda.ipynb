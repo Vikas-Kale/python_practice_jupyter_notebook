{
 "cells": [
  {
   "cell_type": "code",
   "execution_count": 7,
   "id": "6c90a1c8",
   "metadata": {
    "ExecuteTime": {
     "end_time": "2021-10-17T01:08:16.191561Z",
     "start_time": "2021-10-17T01:08:16.179563Z"
    }
   },
   "outputs": [
    {
     "name": "stdout",
     "output_type": "stream",
     "text": [
      "0\n",
      "1\n",
      "1\n",
      "8\n",
      "27\n"
     ]
    }
   ],
   "source": [
    "fibo = lambda n:n if n<=1 else fibo(n-1) + fibo(n-2)\n",
    "\n",
    "for i in range(5):\n",
    "    fs = fibo(i)\n",
    "    print((fs**3))"
   ]
  },
  {
   "cell_type": "code",
   "execution_count": null,
   "id": "d65e3ca2",
   "metadata": {},
   "outputs": [],
   "source": [
    "inp = int(input())\n",
    "\n",
    "cube = lambda x: x**3 # complete the lambda function\n",
    "\n",
    "def fibonacci(n):\n",
    "    a,b = 0,1\n",
    "    for i in range(n):\n",
    "        yield a\n",
    "        a,b = b,a+b\n",
    "\n",
    "print(list(map(cube, list(fibonacci(inp)))))"
   ]
  }
 ],
 "metadata": {
  "kernelspec": {
   "display_name": "Python 3",
   "language": "python",
   "name": "python3"
  },
  "language_info": {
   "codemirror_mode": {
    "name": "ipython",
    "version": 3
   },
   "file_extension": ".py",
   "mimetype": "text/x-python",
   "name": "python",
   "nbconvert_exporter": "python",
   "pygments_lexer": "ipython3",
   "version": "3.8.8"
  }
 },
 "nbformat": 4,
 "nbformat_minor": 5
}
