{
 "cells": [
  {
   "cell_type": "code",
   "execution_count": 2,
   "id": "b42a29f4",
   "metadata": {},
   "outputs": [
    {
     "name": "stdout",
     "output_type": "stream",
     "text": [
      "Enter a Number 1\n",
      ":65\n",
      "Enter a Number 2\n",
      ":89\n",
      "Enter a Number 3\n",
      ":98\n",
      "Enter a Number 4\n",
      ":90\n",
      "{89, 65, 98, 90}\n"
     ]
    }
   ],
   "source": [
    "x1=(int(input('Enter a Number 1\\n:')))\n",
    "x2=(int(input('Enter a Number 2\\n:')))\n",
    "x3=(int(input('Enter a Number 3\\n:')))\n",
    "x4=(int(input('Enter a Number 4\\n:')))\n",
    "ht=({x1,x2,x3,x4})\n",
    "print(ht)"
   ]
  },
  {
   "cell_type": "code",
   "execution_count": null,
   "id": "5b1783aa",
   "metadata": {},
   "outputs": [],
   "source": []
  }
 ],
 "metadata": {
  "kernelspec": {
   "display_name": "Python 3",
   "language": "python",
   "name": "python3"
  },
  "language_info": {
   "codemirror_mode": {
    "name": "ipython",
    "version": 3
   },
   "file_extension": ".py",
   "mimetype": "text/x-python",
   "name": "python",
   "nbconvert_exporter": "python",
   "pygments_lexer": "ipython3",
   "version": "3.8.8"
  }
 },
 "nbformat": 4,
 "nbformat_minor": 5
}
