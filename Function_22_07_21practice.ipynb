{
 "cells": [
  {
   "cell_type": "code",
   "execution_count": 2,
   "id": "d3845025",
   "metadata": {},
   "outputs": [
    {
     "name": "stdout",
     "output_type": "stream",
     "text": [
      "['In', 'Out', '_', '_1', '__', '___', '__builtin__', '__builtins__', '__doc__', '__loader__', '__name__', '__package__', '__spec__', '_dh', '_i', '_i1', '_i2', '_ih', '_ii', '_iii', '_oh', 'exit', 'get_ipython', 'quit']\n"
     ]
    }
   ],
   "source": [
    "print(dir())"
   ]
  },
  {
   "cell_type": "code",
   "execution_count": 1,
   "id": "481ff27b",
   "metadata": {},
   "outputs": [
    {
     "name": "stdout",
     "output_type": "stream",
     "text": [
      "['In', 'Out', '_', '__', '___', '__builtin__', '__builtins__', '__doc__', '__loader__', '__name__', '__package__', '__spec__', '_dh', '_i', '_i1', '_ih', '_ii', '_iii', '_oh', 'exit', 'get_ipython', 'quit']\n"
     ]
    }
   ],
   "source": [
    "print(dir())"
   ]
  },
  {
   "cell_type": "code",
   "execution_count": 3,
   "id": "74c4824a",
   "metadata": {},
   "outputs": [
    {
     "name": "stdout",
     "output_type": "stream",
     "text": [
      "['__add__', '__class__', '__contains__', '__delattr__', '__delitem__', '__dir__', '__doc__', '__eq__', '__format__', '__ge__', '__getattribute__', '__getitem__', '__gt__', '__hash__', '__iadd__', '__imul__', '__init__', '__init_subclass__', '__iter__', '__le__', '__len__', '__lt__', '__mul__', '__ne__', '__new__', '__reduce__', '__reduce_ex__', '__repr__', '__reversed__', '__rmul__', '__setattr__', '__setitem__', '__sizeof__', '__str__', '__subclasshook__', 'append', 'clear', 'copy', 'count', 'extend', 'index', 'insert', 'pop', 'remove', 'reverse', 'sort']\n"
     ]
    }
   ],
   "source": [
    "print(dir(In))"
   ]
  },
  {
   "cell_type": "code",
   "execution_count": 6,
   "id": "7f9e7eb4",
   "metadata": {},
   "outputs": [
    {
     "name": "stdout",
     "output_type": "stream",
     "text": [
      "['In', 'Out', '_', '_2', '__', '___', '__builtin__', '__builtins__', '__doc__', '__loader__', '__name__', '__package__', '__spec__', '_dh', '_i', '_i1', '_i2', '_i3', '_i4', '_i5', '_i6', '_ih', '_ii', '_iii', '_oh', 'exit', 'get_ipython', 'quit']\n"
     ]
    }
   ],
   "source": [
    "print(dir())  #  This is standard built-in attribuits."
   ]
  },
  {
   "cell_type": "code",
   "execution_count": 7,
   "id": "75d95c70",
   "metadata": {},
   "outputs": [],
   "source": [
    "def vk():\n",
    "    \"\"\"\n",
    "    Here function name vk.Function followed by paranthesis.\n",
    "    Inside parenthesis you lists the input to the function or arguments.\n",
    "    This function has 0 arguments.\n",
    "    \"\"\"\n",
    "    \n",
    "    pass  # pass used to skip this line and do nothing."
   ]
  },
  {
   "cell_type": "code",
   "execution_count": 8,
   "id": "46d108b4",
   "metadata": {},
   "outputs": [],
   "source": [
    "vk()   # To call the function type name of function and parethesis."
   ]
  },
  {
   "cell_type": "code",
   "execution_count": 10,
   "id": "072204b2",
   "metadata": {},
   "outputs": [
    {
     "data": {
      "text/plain": [
       "<function __main__.vk()>"
      ]
     },
     "execution_count": 10,
     "metadata": {},
     "output_type": "execute_result"
    }
   ],
   "source": [
    "vk"
   ]
  },
  {
   "cell_type": "code",
   "execution_count": 9,
   "id": "e31e8617",
   "metadata": {},
   "outputs": [
    {
     "name": "stdout",
     "output_type": "stream",
     "text": [
      "['In', 'Out', '_', '_2', '__', '___', '__builtin__', '__builtins__', '__doc__', '__loader__', '__name__', '__package__', '__spec__', '_dh', '_i', '_i1', '_i2', '_i3', '_i4', '_i5', '_i6', '_i7', '_i8', '_i9', '_ih', '_ii', '_iii', '_oh', 'exit', 'get_ipython', 'quit', 'vk']\n"
     ]
    }
   ],
   "source": [
    "print(dir())   # Now you can see vk function added in this directory."
   ]
  },
  {
   "cell_type": "code",
   "execution_count": 11,
   "id": "c69ff05c",
   "metadata": {},
   "outputs": [],
   "source": [
    "def add(a,b):\n",
    "    return a+b\n"
   ]
  },
  {
   "cell_type": "code",
   "execution_count": 12,
   "id": "d7247694",
   "metadata": {},
   "outputs": [
    {
     "data": {
      "text/plain": [
       "9"
      ]
     },
     "execution_count": 12,
     "metadata": {},
     "output_type": "execute_result"
    }
   ],
   "source": [
    "add(5,4)"
   ]
  },
  {
   "cell_type": "code",
   "execution_count": 13,
   "id": "423d956f",
   "metadata": {},
   "outputs": [
    {
     "data": {
      "text/plain": [
       "<function __main__.add(a, b)>"
      ]
     },
     "execution_count": 13,
     "metadata": {},
     "output_type": "execute_result"
    }
   ],
   "source": [
    "add  # Without parenthesis python returns function and memory address."
   ]
  },
  {
   "cell_type": "code",
   "execution_count": 14,
   "id": "b53e88a1",
   "metadata": {},
   "outputs": [
    {
     "name": "stdout",
     "output_type": "stream",
     "text": [
      "['In', 'Out', '_', '_10', '_12', '_13', '_2', '__', '___', '__builtin__', '__builtins__', '__doc__', '__loader__', '__name__', '__package__', '__spec__', '_dh', '_i', '_i1', '_i10', '_i11', '_i12', '_i13', '_i14', '_i2', '_i3', '_i4', '_i5', '_i6', '_i7', '_i8', '_i9', '_ih', '_ii', '_iii', '_oh', 'add', 'exit', 'get_ipython', 'quit', 'vk']\n"
     ]
    }
   ],
   "source": [
    "print(dir())  # add function listed in directory."
   ]
  },
  {
   "cell_type": "code",
   "execution_count": null,
   "id": "e12f7431",
   "metadata": {},
   "outputs": [],
   "source": []
  },
  {
   "cell_type": "markdown",
   "id": "40fc4e02",
   "metadata": {},
   "source": [
    "# Write a program to calculate volume of sphere.\n",
    "- Formula :- V=4/3*pi*r^3"
   ]
  },
  {
   "cell_type": "code",
   "execution_count": 17,
   "id": "61eccf2c",
   "metadata": {},
   "outputs": [
    {
     "ename": "NameError",
     "evalue": "name 'math' is not defined",
     "output_type": "error",
     "traceback": [
      "\u001b[1;31m---------------------------------------------------------------------------\u001b[0m",
      "\u001b[1;31mNameError\u001b[0m                                 Traceback (most recent call last)",
      "\u001b[1;32m<ipython-input-17-dba301b0095e>\u001b[0m in \u001b[0;36m<module>\u001b[1;34m\u001b[0m\n\u001b[1;32m----> 1\u001b[1;33m \u001b[0mdir\u001b[0m\u001b[1;33m(\u001b[0m\u001b[0mmath\u001b[0m\u001b[1;33m)\u001b[0m\u001b[1;33m\u001b[0m\u001b[1;33m\u001b[0m\u001b[0m\n\u001b[0m",
      "\u001b[1;31mNameError\u001b[0m: name 'math' is not defined"
     ]
    }
   ],
   "source": [
    "dir(math)   # before importing math module."
   ]
  },
  {
   "cell_type": "code",
   "execution_count": 18,
   "id": "0e39fcdc",
   "metadata": {},
   "outputs": [],
   "source": [
    "import math  # Import math module.\n"
   ]
  },
  {
   "cell_type": "code",
   "execution_count": 20,
   "id": "6423fa70",
   "metadata": {},
   "outputs": [
    {
     "name": "stdout",
     "output_type": "stream",
     "text": [
      "['__doc__', '__loader__', '__name__', '__package__', '__spec__', 'acos', 'acosh', 'asin', 'asinh', 'atan', 'atan2', 'atanh', 'ceil', 'comb', 'copysign', 'cos', 'cosh', 'degrees', 'dist', 'e', 'erf', 'erfc', 'exp', 'expm1', 'fabs', 'factorial', 'floor', 'fmod', 'frexp', 'fsum', 'gamma', 'gcd', 'hypot', 'inf', 'isclose', 'isfinite', 'isinf', 'isnan', 'isqrt', 'ldexp', 'lgamma', 'log', 'log10', 'log1p', 'log2', 'modf', 'nan', 'perm', 'pi', 'pow', 'prod', 'radians', 'remainder', 'sin', 'sinh', 'sqrt', 'tan', 'tanh', 'tau', 'trunc']\n"
     ]
    }
   ],
   "source": [
    "print(dir(math))"
   ]
  },
  {
   "cell_type": "code",
   "execution_count": 21,
   "id": "1d2a2402",
   "metadata": {},
   "outputs": [
    {
     "data": {
      "text/plain": [
       "3.141592653589793"
      ]
     },
     "execution_count": 21,
     "metadata": {},
     "output_type": "execute_result"
    }
   ],
   "source": [
    "math.pi  # the value of pi is 3.14"
   ]
  },
  {
   "cell_type": "code",
   "execution_count": 22,
   "id": "87baa6cb",
   "metadata": {},
   "outputs": [],
   "source": [
    "def volume(r):  # Define volume function and one arguments which is radius.\n",
    "    \"\"\"\n",
    "    Return the volume of sphere with radius.\n",
    "    \"\"\"\n",
    "    v=(4.0/3.0)*math.pi*r**3  # formula here,r is radius.\n",
    "    return v\n"
   ]
  },
  {
   "cell_type": "code",
   "execution_count": 23,
   "id": "9d067071",
   "metadata": {},
   "outputs": [
    {
     "data": {
      "text/plain": [
       "33.510321638291124"
      ]
     },
     "execution_count": 23,
     "metadata": {},
     "output_type": "execute_result"
    }
   ],
   "source": [
    "volume(2)  # The volume of sphere with radius 2 is 33.51."
   ]
  },
  {
   "cell_type": "code",
   "execution_count": null,
   "id": "ca9bf526",
   "metadata": {},
   "outputs": [],
   "source": []
  },
  {
   "cell_type": "code",
   "execution_count": null,
   "id": "74c2ea77",
   "metadata": {},
   "outputs": [],
   "source": []
  },
  {
   "cell_type": "code",
   "execution_count": 1,
   "id": "60a9b96a",
   "metadata": {},
   "outputs": [],
   "source": [
    "def students_details(**kwargs):\n",
    "    print(\"Details of students: \",kwargs)"
   ]
  },
  {
   "cell_type": "code",
   "execution_count": 4,
   "id": "0e05c9b7",
   "metadata": {},
   "outputs": [
    {
     "name": "stdout",
     "output_type": "stream",
     "text": [
      "Details of students:  {'name': 'vikas', 'std': '3rd', 'fees': 2000}\n"
     ]
    }
   ],
   "source": [
    "students_details(name='vikas',std='3rd',fees=2000)"
   ]
  },
  {
   "cell_type": "code",
   "execution_count": null,
   "id": "cbc89710",
   "metadata": {},
   "outputs": [],
   "source": []
  },
  {
   "cell_type": "code",
   "execution_count": 8,
   "id": "3a22f056",
   "metadata": {},
   "outputs": [],
   "source": [
    "def student_detail(**student_form):\n",
    "    print(\"Student information:\",student_form)"
   ]
  },
  {
   "cell_type": "code",
   "execution_count": 9,
   "id": "71a03076",
   "metadata": {},
   "outputs": [
    {
     "name": "stdout",
     "output_type": "stream",
     "text": [
      "Student information: {'name': 'Ganesh', 'fathers_name': 'Mahadev'}\n"
     ]
    }
   ],
   "source": [
    "student_detail(name='Ganesh',fathers_name='Mahadev')"
   ]
  },
  {
   "cell_type": "code",
   "execution_count": 10,
   "id": "169ae386",
   "metadata": {},
   "outputs": [
    {
     "data": {
      "text/plain": [
       "datetime.datetime(2021, 7, 22, 8, 40, 59, 137797)"
      ]
     },
     "execution_count": 10,
     "metadata": {},
     "output_type": "execute_result"
    }
   ],
   "source": [
    "from datetime import datetime\n",
    "datetime.now()"
   ]
  },
  {
   "cell_type": "code",
   "execution_count": 12,
   "id": "def03102",
   "metadata": {},
   "outputs": [
    {
     "data": {
      "text/plain": [
       "'07'"
      ]
     },
     "execution_count": 12,
     "metadata": {},
     "output_type": "execute_result"
    }
   ],
   "source": [
    "datetime.now().strftime('%m')"
   ]
  },
  {
   "cell_type": "code",
   "execution_count": 13,
   "id": "85bc12d5",
   "metadata": {},
   "outputs": [
    {
     "data": {
      "text/plain": [
       "'21'"
      ]
     },
     "execution_count": 13,
     "metadata": {},
     "output_type": "execute_result"
    }
   ],
   "source": [
    "datetime.now().strftime('%y')"
   ]
  },
  {
   "cell_type": "code",
   "execution_count": 14,
   "id": "03e07b2d",
   "metadata": {},
   "outputs": [
    {
     "data": {
      "text/plain": [
       "'2021'"
      ]
     },
     "execution_count": 14,
     "metadata": {},
     "output_type": "execute_result"
    }
   ],
   "source": [
    "datetime.now().strftime('%Y')"
   ]
  },
  {
   "cell_type": "code",
   "execution_count": 15,
   "id": "d22e7b24",
   "metadata": {},
   "outputs": [
    {
     "data": {
      "text/plain": [
       "'42'"
      ]
     },
     "execution_count": 15,
     "metadata": {},
     "output_type": "execute_result"
    }
   ],
   "source": [
    "datetime.now().strftime('%M')"
   ]
  },
  {
   "cell_type": "code",
   "execution_count": 20,
   "id": "0d235844",
   "metadata": {},
   "outputs": [
    {
     "data": {
      "text/plain": [
       "'2021072216'"
      ]
     },
     "execution_count": 20,
     "metadata": {},
     "output_type": "execute_result"
    }
   ],
   "source": [
    "datetime.now().strftime('%Y%m%d%S')"
   ]
  },
  {
   "cell_type": "code",
   "execution_count": 1,
   "id": "ddd2901f",
   "metadata": {},
   "outputs": [
    {
     "ename": "NameError",
     "evalue": "name 'datetime' is not defined",
     "output_type": "error",
     "traceback": [
      "\u001b[1;31m---------------------------------------------------------------------------\u001b[0m",
      "\u001b[1;31mNameError\u001b[0m                                 Traceback (most recent call last)",
      "\u001b[1;32m<ipython-input-1-4b2e079430a7>\u001b[0m in \u001b[0;36m<module>\u001b[1;34m\u001b[0m\n\u001b[1;32m----> 1\u001b[1;33m \u001b[0mdatetime\u001b[0m\u001b[1;33m.\u001b[0m\u001b[0mnow\u001b[0m\u001b[1;33m(\u001b[0m\u001b[1;33m)\u001b[0m\u001b[1;33m.\u001b[0m\u001b[0mstrftime\u001b[0m\u001b[1;33m(\u001b[0m\u001b[1;34m\"%Y%m%d%s\"\u001b[0m\u001b[1;33m)\u001b[0m\u001b[1;33m\u001b[0m\u001b[1;33m\u001b[0m\u001b[0m\n\u001b[0m",
      "\u001b[1;31mNameError\u001b[0m: name 'datetime' is not defined"
     ]
    }
   ],
   "source": [
    "datetime.now().strftime(\"%Y%m%d%s\")"
   ]
  },
  {
   "cell_type": "markdown",
   "id": "341af660",
   "metadata": {},
   "source": [
    "# bank example"
   ]
  },
  {
   "cell_type": "raw",
   "id": "5a2fb4d3",
   "metadata": {},
   "source": [
    "- Generate account no.\n",
    "  -> Auto generated account no.\n",
    "- Create a new account\n",
    "    -> name, mobile, account_type, amount\n",
    "    -> RETURN -> Account Number\n",
    "- Close account\n",
    "    -> Account Number\n",
    "- Check balance\n",
    "    -> Account Number\n",
    "    -> RETURN -> Amount\n",
    "- Widraw money\n",
    "    -> Account Number, amount\n",
    "    -> RETURN -> BALANCE\n",
    "- Deposit money\n",
    "    -> Account Number, amount\n",
    "    -> RETURN -> BALANCE"
   ]
  },
  {
   "cell_type": "markdown",
   "id": "95c8d5ac",
   "metadata": {},
   "source": [
    "# task 1  : Generate account number"
   ]
  },
  {
   "cell_type": "code",
   "execution_count": 72,
   "id": "91479aa7",
   "metadata": {},
   "outputs": [
    {
     "ename": "IndexError",
     "evalue": "list index out of range",
     "output_type": "error",
     "traceback": [
      "\u001b[1;31m---------------------------------------------------------------------------\u001b[0m",
      "\u001b[1;31mIndexError\u001b[0m                                Traceback (most recent call last)",
      "\u001b[1;32m<ipython-input-72-160fa86332e8>\u001b[0m in \u001b[0;36m<module>\u001b[1;34m\u001b[0m\n\u001b[0;32m     33\u001b[0m     \u001b[1;32mreturn\u001b[0m \u001b[0mbal\u001b[0m\u001b[1;33m\u001b[0m\u001b[1;33m\u001b[0m\u001b[0m\n\u001b[0;32m     34\u001b[0m \u001b[1;33m\u001b[0m\u001b[0m\n\u001b[1;32m---> 35\u001b[1;33m \u001b[0mcheck_balance\u001b[0m\u001b[1;33m(\u001b[0m\u001b[0maccount_no\u001b[0m \u001b[1;33m)\u001b[0m\u001b[1;33m\u001b[0m\u001b[1;33m\u001b[0m\u001b[0m\n\u001b[0m",
      "\u001b[1;32m<ipython-input-72-160fa86332e8>\u001b[0m in \u001b[0;36mcheck_balance\u001b[1;34m(account_no)\u001b[0m\n\u001b[0;32m     30\u001b[0m \u001b[1;33m\u001b[0m\u001b[0m\n\u001b[0;32m     31\u001b[0m \u001b[1;32mdef\u001b[0m \u001b[0mcheck_balance\u001b[0m\u001b[1;33m(\u001b[0m\u001b[0maccount_no\u001b[0m\u001b[1;33m)\u001b[0m\u001b[1;33m:\u001b[0m\u001b[1;33m\u001b[0m\u001b[1;33m\u001b[0m\u001b[0m\n\u001b[1;32m---> 32\u001b[1;33m     \u001b[0mbalance\u001b[0m\u001b[1;33m=\u001b[0m\u001b[0mBANK_CUSTOMER_DETAILS\u001b[0m\u001b[1;33m[\u001b[0m\u001b[1;36m4\u001b[0m\u001b[1;33m]\u001b[0m\u001b[1;33m\u001b[0m\u001b[1;33m\u001b[0m\u001b[0m\n\u001b[0m\u001b[0;32m     33\u001b[0m     \u001b[1;32mreturn\u001b[0m \u001b[0mbal\u001b[0m\u001b[1;33m\u001b[0m\u001b[1;33m\u001b[0m\u001b[0m\n\u001b[0;32m     34\u001b[0m \u001b[1;33m\u001b[0m\u001b[0m\n",
      "\u001b[1;31mIndexError\u001b[0m: list index out of range"
     ]
    }
   ],
   "source": [
    "from datetime import datetime\n",
    "\n",
    "BANK_CUSTOMER_DETAILS=list()\n",
    "\n",
    "def generate_account_no():\n",
    "    \"\"\"\n",
    "    Auto generated account number\n",
    "    \"\"\"\n",
    "    return datetime.now().strftime(\"SBI%Y%m%d%S\")\n",
    "generate_account_no()\n",
    "\n",
    "\n",
    "def create_account(**customer_info):\n",
    "    \n",
    "    \"\"\"\n",
    "    customer info should contain name,account no.,amount,type of account\n",
    "    return account no.\n",
    "    \"\"\"\n",
    "    account_no = generate_account_no()\n",
    "    \n",
    "     #Create a new key in customer_info with name account_number\n",
    "    #Call generate account_no function to get account no.\n",
    "    \n",
    "    customer_info['account_number']=account_no\n",
    "    \n",
    "     #Now add current customer data to BANK_CUSTOMER_DETAILS list\n",
    "        \n",
    "    BANK_CUSTOMER_DETAILS.append(customer_info)\n",
    "    return account_no\n",
    "\n",
    "def check_balance(account_no):\n",
    "    balance=BANK_CUSTOMER_DETAILS[4]\n",
    "    return bal\n",
    "\n",
    "check_balance(account_no )"
   ]
  },
  {
   "cell_type": "markdown",
   "id": "8842de5a",
   "metadata": {},
   "source": [
    "# task 2: creat a account"
   ]
  },
  {
   "cell_type": "code",
   "execution_count": 55,
   "id": "65b72977",
   "metadata": {},
   "outputs": [],
   "source": [
    "def create_account(**customer_info):\n",
    "    \n",
    "    \"\"\"\n",
    "    customer info should contain name,account no.,amount,type of account\n",
    "    return account no.\n",
    "    \"\"\"\n",
    "    account_no = generate_account_no()\n",
    "    \n",
    "     #Create a new key in customer_info with name account_number\n",
    "    #Call generate account_no function to get account no.\n",
    "    \n",
    "    customer_info['account_number']=account_no\n",
    "    \n",
    "     #Now add current customer data to BANK_CUSTOMER_DETAILS list\n",
    "        \n",
    "    BANK_CUSTOMER_DETAILS.append(customer_info)\n",
    "    return account_no"
   ]
  },
  {
   "cell_type": "code",
   "execution_count": 56,
   "id": "67abdb4a",
   "metadata": {},
   "outputs": [
    {
     "data": {
      "text/plain": [
       "'SBI2021072237'"
      ]
     },
     "execution_count": 56,
     "metadata": {},
     "output_type": "execute_result"
    }
   ],
   "source": [
    "create_account(name='Vikas',Mobile_no=7798743804,Account_type='Saving',Address='Pune',amount=80000)"
   ]
  },
  {
   "cell_type": "code",
   "execution_count": 57,
   "id": "bd4d46d2",
   "metadata": {},
   "outputs": [
    {
     "data": {
      "text/plain": [
       "[{'name': 'Vikas',\n",
       "  'Mobile_no': 7798743804,\n",
       "  'Account_type': 'Saving',\n",
       "  'Address': 'Pune',\n",
       "  'amount': 80000,\n",
       "  'account_number': 'SBI2021072237'}]"
      ]
     },
     "execution_count": 57,
     "metadata": {},
     "output_type": "execute_result"
    }
   ],
   "source": [
    "BANK_CUSTOMER_DETAILS"
   ]
  },
  {
   "cell_type": "markdown",
   "id": "6de25851",
   "metadata": {},
   "source": [
    "# Task 3:Check Balance"
   ]
  },
  {
   "cell_type": "code",
   "execution_count": 101,
   "id": "46aa7ade",
   "metadata": {},
   "outputs": [
    {
     "name": "stdout",
     "output_type": "stream",
     "text": [
      "Balance 80000\n"
     ]
    }
   ],
   "source": [
    "def check_balance(account_no):\n",
    "    for items in BANK_CUSTOMER_DETAILS:\n",
    "        print (\"Balance\",items['amount'])\n",
    "        \n",
    "        \n",
    "        \n",
    "check_balance(account_no)\n"
   ]
  },
  {
   "cell_type": "markdown",
   "id": "54de44ad",
   "metadata": {},
   "source": [
    "# Task 4:Deposit money"
   ]
  },
  {
   "cell_type": "code",
   "execution_count": null,
   "id": "4014f4b2",
   "metadata": {},
   "outputs": [],
   "source": []
  },
  {
   "cell_type": "code",
   "execution_count": null,
   "id": "38f4c36d",
   "metadata": {},
   "outputs": [],
   "source": []
  },
  {
   "cell_type": "code",
   "execution_count": null,
   "id": "09c51fb1",
   "metadata": {},
   "outputs": [],
   "source": []
  },
  {
   "cell_type": "code",
   "execution_count": 8,
   "id": "b5022112",
   "metadata": {},
   "outputs": [
    {
     "data": {
      "text/plain": [
       "'Jul53'"
      ]
     },
     "execution_count": 8,
     "metadata": {},
     "output_type": "execute_result"
    }
   ],
   "source": [
    "datetime.now().strftime(\"%h%M\")"
   ]
  },
  {
   "cell_type": "code",
   "execution_count": 69,
   "id": "898762ea",
   "metadata": {},
   "outputs": [
    {
     "name": "stdout",
     "output_type": "stream",
     "text": [
      "2021-07-22 00:00:00\n"
     ]
    }
   ],
   "source": [
    "date = '2021-07-22'\n",
    "my_date = datetime.strptime(date,\"%Y-%m-%d\")\n",
    "print(my_date)"
   ]
  },
  {
   "cell_type": "code",
   "execution_count": 68,
   "id": "cdb5c5c1",
   "metadata": {},
   "outputs": [
    {
     "name": "stdout",
     "output_type": "stream",
     "text": [
      "2021-07-22 00:00:00\n",
      "Type:  <class 'datetime.datetime'>\n"
     ]
    }
   ],
   "source": [
    "my_string = '2021-07-22'\n",
    "\n",
    "# Create date object in given time format yyyy-mm-dd\n",
    "my_date = datetime.strptime(my_string, \"%Y-%m-%d\")\n",
    "\n",
    "print(my_date)\n",
    "print('Type: ',type(my_date))"
   ]
  },
  {
   "cell_type": "code",
   "execution_count": 66,
   "id": "c80ba3d4",
   "metadata": {},
   "outputs": [
    {
     "name": "stdout",
     "output_type": "stream",
     "text": [
      "2021-07-22 18:48:55.909844\n"
     ]
    }
   ],
   "source": [
    "x=datetime.now()\n",
    "print(x)"
   ]
  },
  {
   "cell_type": "code",
   "execution_count": 14,
   "id": "af199b9e",
   "metadata": {},
   "outputs": [
    {
     "name": "stdout",
     "output_type": "stream",
     "text": [
      "['__add__', '__class__', '__delattr__', '__dir__', '__doc__', '__eq__', '__format__', '__ge__', '__getattribute__', '__gt__', '__hash__', '__init__', '__init_subclass__', '__le__', '__lt__', '__ne__', '__new__', '__radd__', '__reduce__', '__reduce_ex__', '__repr__', '__rsub__', '__setattr__', '__sizeof__', '__str__', '__sub__', '__subclasshook__', 'astimezone', 'combine', 'ctime', 'date', 'day', 'dst', 'fold', 'fromisocalendar', 'fromisoformat', 'fromordinal', 'fromtimestamp', 'hour', 'isocalendar', 'isoformat', 'isoweekday', 'max', 'microsecond', 'min', 'minute', 'month', 'now', 'replace', 'resolution', 'second', 'strftime', 'strptime', 'time', 'timestamp', 'timetuple', 'timetz', 'today', 'toordinal', 'tzinfo', 'tzname', 'utcfromtimestamp', 'utcnow', 'utcoffset', 'utctimetuple', 'weekday', 'year']\n"
     ]
    }
   ],
   "source": [
    "print(dir(datetime))"
   ]
  },
  {
   "cell_type": "code",
   "execution_count": 15,
   "id": "1606593f",
   "metadata": {},
   "outputs": [
    {
     "name": "stdout",
     "output_type": "stream",
     "text": [
      "Help on method_descriptor:\n",
      "\n",
      "strftime(...)\n",
      "    format -> strftime() style string.\n",
      "\n"
     ]
    }
   ],
   "source": [
    "help(datetime.strftime)"
   ]
  },
  {
   "cell_type": "code",
   "execution_count": 9,
   "id": "125a491e",
   "metadata": {},
   "outputs": [
    {
     "name": "stdout",
     "output_type": "stream",
     "text": [
      "2021-07-22 17:57:19.373203\n",
      "Type :-  <class 'datetime.datetime'>\n"
     ]
    }
   ],
   "source": [
    "# import datetime class from datetime module\n",
    "from datetime import datetime\n",
    "\n",
    "# get current date\n",
    "datetime_object = datetime.now()\n",
    "print(datetime_object)\n",
    "print('Type :- ',type(datetime_object))"
   ]
  },
  {
   "cell_type": "code",
   "execution_count": null,
   "id": "828e537d",
   "metadata": {},
   "outputs": [],
   "source": []
  },
  {
   "cell_type": "code",
   "execution_count": null,
   "id": "32d8d728",
   "metadata": {},
   "outputs": [],
   "source": []
  },
  {
   "cell_type": "code",
   "execution_count": 4,
   "id": "ab3994be",
   "metadata": {},
   "outputs": [
    {
     "data": {
      "text/plain": [
       "'SBI2021072322'"
      ]
     },
     "execution_count": 4,
     "metadata": {},
     "output_type": "execute_result"
    }
   ],
   "source": [
    "from datetime import datetime\n",
    "\n",
    "#BANK_CUSTOMER_DETAILS is list which will store all data.\n",
    "#In this list all data will be dict type\n",
    "#EX: [{'name':<value>, 'mobile':<value>, 'account_type':<value>, 'amount':<value>, 'account_number':<values>}]\n",
    "BANK_CUSTOMER_DETAILS = list()\n",
    "\n",
    "def generate_account_no():\n",
    "    \"\"\"\n",
    "    Auto generated account number\n",
    "    \"\"\"\n",
    "    return datetime.now().strftime(\"SBI%Y%m%d%S\")\n",
    "\n",
    "\n",
    "def create_account(**customer_info):\n",
    "    \"\"\"\n",
    "    customer_info should contain name, mobile, account_type, amount\n",
    "    Return - Account Number\n",
    "    \"\"\"\n",
    "   \n",
    "    \n",
    "    number=9405109507\n",
    "    if len(str(number))==10:\n",
    "        return number\n",
    "    else:\n",
    "        print(\"Enter a valid mobile number\")\n",
    "    account_no = generate_account_no()   \n",
    "    #Create a new key in customer_info with name account_number\n",
    "    #Call generate account_no function to get account no.\n",
    "    customer_info['account_number'] = account_no\n",
    "    \n",
    "    #Now add current customer data to BANK_CUSTOMER_DETAILS list\n",
    "    BANK_CUSTOMER_DETAILS.append(customer_info)\n",
    "    \n",
    "    return account_no\n",
    "\n",
    "#Call create_account function and pass values to it.\n",
    "\n",
    "create_account(name='Viraj', mobile=9405109507, account_type='saving', amount=5000)\n"
   ]
  },
  {
   "cell_type": "code",
   "execution_count": 22,
   "id": "d66bc312",
   "metadata": {},
   "outputs": [
    {
     "data": {
      "text/plain": [
       "'SBI2021072256'"
      ]
     },
     "execution_count": 22,
     "metadata": {},
     "output_type": "execute_result"
    }
   ],
   "source": [
    "generate_account_no()"
   ]
  },
  {
   "cell_type": "code",
   "execution_count": 23,
   "id": "6b3a13db",
   "metadata": {},
   "outputs": [
    {
     "data": {
      "text/plain": [
       "'SBI2021072210'"
      ]
     },
     "execution_count": 23,
     "metadata": {},
     "output_type": "execute_result"
    }
   ],
   "source": [
    "create_account()"
   ]
  },
  {
   "cell_type": "code",
   "execution_count": 25,
   "id": "4a6e4f32",
   "metadata": {},
   "outputs": [
    {
     "data": {
      "text/plain": [
       "[{'name': 'Viraj',\n",
       "  'mobile': 9405109507,\n",
       "  'account_type': 'saving',\n",
       "  'amount': 5000,\n",
       "  'account_number': 'SBI2021072236'},\n",
       " {'account_number': 'SBI2021072210'}]"
      ]
     },
     "execution_count": 25,
     "metadata": {},
     "output_type": "execute_result"
    }
   ],
   "source": [
    "BANK_CUSTOMER_DETAILS "
   ]
  },
  {
   "cell_type": "code",
   "execution_count": 1,
   "id": "24a87c18",
   "metadata": {},
   "outputs": [],
   "source": [
    "def withdraw(account_number, amount):\n",
    "    \"\"\"\n",
    "    Based on account number withdraw the amount\n",
    "    Return - amount\n",
    "    \"\"\"\n",
    "    for user in BANK_CUSTOMER_DETAILS:\n",
    "        if user.get('account_number') == account_number:\n",
    "            current_amount = user.get('amount')\n",
    "            print(\"Amount before withdraw \", current_amount)\n",
    "            user['amount'] = current_amount - amount\n",
    "            print(\"After withdraw amount is \", user.get('amount'))\n",
    "            \n",
    "def check_balance(account_number):\n",
    "    \"\"\"\n",
    "    Return balance of account_number\n",
    "    \"\"\"\n",
    "    for user in BANK_CUSTOMER_DETAILS:\n",
    "        if user.get('account_number') == account_number:\n",
    "            return user.get(\"amount\")\n"
   ]
  },
  {
   "cell_type": "code",
   "execution_count": 5,
   "id": "d95103bd",
   "metadata": {},
   "outputs": [
    {
     "data": {
      "text/plain": [
       "[{'name': 'Viraj',\n",
       "  'mobile': 9405109507,\n",
       "  'account_type': 'saving',\n",
       "  'amount': 5000,\n",
       "  'account_number': 'SBI2021072322'}]"
      ]
     },
     "execution_count": 5,
     "metadata": {},
     "output_type": "execute_result"
    }
   ],
   "source": [
    "BANK_CUSTOMER_DETAILS "
   ]
  },
  {
   "cell_type": "code",
   "execution_count": 7,
   "id": "bd9dffcf",
   "metadata": {},
   "outputs": [
    {
     "name": "stdout",
     "output_type": "stream",
     "text": [
      "Amount before withdraw  5000\n",
      "After withdraw amount is  2000\n"
     ]
    }
   ],
   "source": [
    "withdraw('SBI2021072322',3000)"
   ]
  },
  {
   "cell_type": "code",
   "execution_count": 8,
   "id": "381b78ac",
   "metadata": {},
   "outputs": [
    {
     "data": {
      "text/plain": [
       "2000"
      ]
     },
     "execution_count": 8,
     "metadata": {},
     "output_type": "execute_result"
    }
   ],
   "source": [
    "check_balance('SBI2021072322')"
   ]
  },
  {
   "cell_type": "code",
   "execution_count": 11,
   "id": "af292534",
   "metadata": {},
   "outputs": [],
   "source": [
    "\n",
    "def withdraw(account_number, amount):\n",
    "    \"\"\"\n",
    "    Based on account number withdraw the amount\n",
    "    Return - amount\n",
    "    \"\"\"\n",
    "    for user in BANK_CUSTOMER_DETAILS:\n",
    "        if user.get('account_number') == account_number:\n",
    "            current_amount = user.get('amount')\n",
    "            print(\"Amount before withdraw \", current_amount)\n",
    "            user['amount'] = current_amount - amount\n",
    "            print(\"After withdraw amount is \", user.get('amount'))\n",
    "            \n",
    "def check_balance(account_number):\n",
    "    \"\"\"\n",
    "    Return balance of account_number\n",
    "    \"\"\"\n",
    "    for user in BANK_CUSTOMER_DETAILS:\n",
    "        if user.get('account_number') == account_number:\n",
    "            return user.get(\"amount\")\n",
    "\n",
    "\n",
    "\n",
    "\n",
    "\n",
    "\n",
    "\n",
    "\n",
    "\n",
    "from datetime import datetime\n",
    "\n",
    "#BANK_CUSTOMER_DETAILS is list which will store all data.\n",
    "#In this list all data will be dict type\n",
    "#EX: [{'name':<value>, 'mobile':<value>, 'account_type':<value>, 'amount':<value>, 'account_number':<values>}]\n",
    "BANK_CUSTOMER_DETAILS = list()\n",
    "\n",
    "def generate_account_no():\n",
    "    \"\"\"\n",
    "    Auto generated account number\n",
    "    \"\"\"\n",
    "    return datetime.now().strftime(\"SBI%Y%m%d%S\")\n",
    "\n",
    "def is_valid_mobile(mobile_no):\n",
    "    if len(str(mobile_no)) == 10:\n",
    "        return True\n",
    "    return False\n",
    "\n",
    "def is_valid_account_type(account_type):\n",
    "    if account_type in ['saving', 'current']:\n",
    "        return True\n",
    "    return False\n",
    "\n",
    "def is_valid_amount(amount):\n",
    "    if amount>0:\n",
    "        return True\n",
    "    return False\n",
    "\n",
    "\n",
    "def create_account(**customer_info):\n",
    "    \"\"\"\n",
    "    customer_info should contain name, mobile, account_type, amount\n",
    "    Return - Account Number\n",
    "    \"\"\"\n",
    "    if is_valid_mobile(customer_info.get(\"mobile\")) and is_valid_account_type(customer_info.get(\"account_type\")) and is_valid_amount(customer_info.get(\"amount\")):\n",
    "        account_no = generate_account_no()\n",
    "        customer_info['account_number'] = account_no\n",
    "\n",
    "        BANK_CUSTOMER_DETAILS.append(customer_info)\n",
    "\n",
    "        return \"Thanks for creating account in SBI Bank your account number is %s\" %(account_no)\n",
    "    else:\n",
    "        print(\"Input data is not valid\")\n",
    "\n",
    "def deposit(account_number, amount):\n",
    "    \"\"\"\n",
    "    Based on account number deposit the amount\n",
    "    Return - amount\n",
    "    \"\"\"\n",
    "    for user in BANK_CUSTOMER_DETAILS:\n",
    "        if user.get('account_number') == account_number:\n",
    "            current_amount = user.get('amount')\n",
    "            print(\"Amount before deposit \", current_amount)\n",
    "            user['amount'] = current_amount + amount\n",
    "            print(\"After deposit amount is \", user.get('amount'))\n",
    "            \n",
    "def withdraw(account_number, amount):\n",
    "    \"\"\"\n",
    "    Based on account number withdraw the amount\n",
    "    Return - amount\n",
    "    \"\"\"\n",
    "    for user in BANK_CUSTOMER_DETAILS:\n",
    "        if user.get('account_number') == account_number:\n",
    "            current_amount = user.get('amount')\n",
    "            print(\"Amount before withdraw \", current_amount)\n",
    "            user['amount'] = current_amount - amount\n",
    "            print(\"After withdraw amount is \", user.get('amount'))\n",
    "            \n",
    "def check_balance(account_number):\n",
    "    \"\"\"\n",
    "    Return balance of account_number\n",
    "    \"\"\"\n",
    "    for user in BANK_CUSTOMER_DETAILS:\n",
    "        if user.get('account_number') == account_number:\n",
    "            return user.get(\"amount\")\n"
   ]
  },
  {
   "cell_type": "code",
   "execution_count": 12,
   "id": "791f6e18",
   "metadata": {},
   "outputs": [
    {
     "data": {
      "text/plain": [
       "'Thanks for creating account in SBI Bank your account number is SBI2021072323'"
      ]
     },
     "execution_count": 12,
     "metadata": {},
     "output_type": "execute_result"
    }
   ],
   "source": [
    "create_account(name='Viraj', mobile=9405109507, account_type='saving', amount=5000)\n"
   ]
  },
  {
   "cell_type": "markdown",
   "id": "419e141a",
   "metadata": {},
   "source": [
    "BANK_CUSTOMER_DETAILS"
   ]
  },
  {
   "cell_type": "code",
   "execution_count": 14,
   "id": "12049bd5",
   "metadata": {},
   "outputs": [
    {
     "name": "stdout",
     "output_type": "stream",
     "text": [
      "Input data is not valid\n"
     ]
    }
   ],
   "source": [
    "create_account(name='Viraj', mobile=9405109507, account_type='bank', amount=5000)"
   ]
  },
  {
   "cell_type": "code",
   "execution_count": 17,
   "id": "3c3901ef",
   "metadata": {},
   "outputs": [
    {
     "data": {
      "text/plain": [
       "'Thanks for creating account in SBI Bank your account number is SBI2021072332'"
      ]
     },
     "execution_count": 17,
     "metadata": {},
     "output_type": "execute_result"
    }
   ],
   "source": [
    "create_account(name='Viraj', mobile=9405109507, account_type='saving', amount=8000)"
   ]
  },
  {
   "cell_type": "code",
   "execution_count": 19,
   "id": "f92dea95",
   "metadata": {},
   "outputs": [
    {
     "data": {
      "text/plain": [
       "[{'name': 'Viraj',\n",
       "  'mobile': 9405109507,\n",
       "  'account_type': 'saving',\n",
       "  'amount': 5000,\n",
       "  'account_number': 'SBI2021072323'},\n",
       " {'name': 'Viraj',\n",
       "  'mobile': 9405109507,\n",
       "  'account_type': 'saving',\n",
       "  'amount': 5000,\n",
       "  'account_number': 'SBI2021072312'},\n",
       " {'name': 'Viraj',\n",
       "  'mobile': 9405109507,\n",
       "  'account_type': 'saving',\n",
       "  'amount': 8000,\n",
       "  'account_number': 'SBI2021072332'}]"
      ]
     },
     "execution_count": 19,
     "metadata": {},
     "output_type": "execute_result"
    }
   ],
   "source": [
    "BANK_CUSTOMER_DETAILS"
   ]
  },
  {
   "cell_type": "code",
   "execution_count": 20,
   "id": "3230cba9",
   "metadata": {},
   "outputs": [
    {
     "name": "stdout",
     "output_type": "stream",
     "text": [
      "Good Morning\n"
     ]
    }
   ],
   "source": [
    "def greet():\n",
    "    print('Good Morning')\n",
    "\n",
    "greet()"
   ]
  },
  {
   "cell_type": "code",
   "execution_count": 38,
   "id": "233b2167",
   "metadata": {},
   "outputs": [
    {
     "name": "stdout",
     "output_type": "stream",
     "text": [
      "Happy Birthday,Vikas ;Age becomes:   24\n"
     ]
    }
   ],
   "source": [
    "def wish(name,Age):\n",
    "    print(\"Happy Birthday,\"+ name, \";Age becomes: \"+Age)\n",
    "\n",
    "wish('Vikas','  24')"
   ]
  },
  {
   "cell_type": "code",
   "execution_count": 40,
   "id": "a26e30fd",
   "metadata": {},
   "outputs": [
    {
     "name": "stdout",
     "output_type": "stream",
     "text": [
      "Good Morning\n"
     ]
    }
   ],
   "source": [
    "greet()"
   ]
  },
  {
   "cell_type": "code",
   "execution_count": 41,
   "id": "0567e2ff",
   "metadata": {},
   "outputs": [
    {
     "name": "stdout",
     "output_type": "stream",
     "text": [
      "Good Day: Ram\n"
     ]
    }
   ],
   "source": [
    "def best(name='Ram'):\n",
    "    print(\"Good Day: \"+ name)\n",
    "best()"
   ]
  },
  {
   "cell_type": "code",
   "execution_count": 42,
   "id": "1c9c4634",
   "metadata": {},
   "outputs": [
    {
     "name": "stdout",
     "output_type": "stream",
     "text": [
      "Good Day: Vikas\n"
     ]
    }
   ],
   "source": [
    "best(\"Vikas\")"
   ]
  },
  {
   "cell_type": "code",
   "execution_count": 43,
   "id": "9520b49f",
   "metadata": {},
   "outputs": [
    {
     "name": "stdout",
     "output_type": "stream",
     "text": [
      "Good Day: Ram\n"
     ]
    }
   ],
   "source": [
    "best()"
   ]
  },
  {
   "cell_type": "markdown",
   "id": "ae328a23",
   "metadata": {},
   "source": [
    "# Factorial"
   ]
  },
  {
   "cell_type": "code",
   "execution_count": 52,
   "id": "5ce3dccb",
   "metadata": {},
   "outputs": [
    {
     "name": "stdout",
     "output_type": "stream",
     "text": [
      "24\n"
     ]
    }
   ],
   "source": [
    "n=4\n",
    "product=1\n",
    "for i in range(n):\n",
    "    product=product*(i+1)\n",
    "print(product)"
   ]
  },
  {
   "cell_type": "code",
   "execution_count": 69,
   "id": "44917f6a",
   "metadata": {},
   "outputs": [
    {
     "data": {
      "text/plain": [
       "1"
      ]
     },
     "execution_count": 69,
     "metadata": {},
     "output_type": "execute_result"
    }
   ],
   "source": [
    "fact(5)"
   ]
  },
  {
   "cell_type": "code",
   "execution_count": 80,
   "id": "8374de9f",
   "metadata": {},
   "outputs": [],
   "source": [
    "def fact_new(n):\n",
    "    product=1\n",
    "    for i in range(n):\n",
    "        product=product*(i+1)\n",
    "    return product"
   ]
  },
  {
   "cell_type": "code",
   "execution_count": 81,
   "id": "42864ad0",
   "metadata": {},
   "outputs": [
    {
     "name": "stdout",
     "output_type": "stream",
     "text": [
      "24\n"
     ]
    }
   ],
   "source": [
    "print(fact_new(4))"
   ]
  },
  {
   "cell_type": "code",
   "execution_count": 82,
   "id": "e906172b",
   "metadata": {},
   "outputs": [
    {
     "data": {
      "text/plain": [
       "120"
      ]
     },
     "execution_count": 82,
     "metadata": {},
     "output_type": "execute_result"
    }
   ],
   "source": [
    "fact_new(5)"
   ]
  },
  {
   "cell_type": "code",
   "execution_count": 83,
   "id": "571f57b3",
   "metadata": {},
   "outputs": [
    {
     "data": {
      "text/plain": [
       "24"
      ]
     },
     "execution_count": 83,
     "metadata": {},
     "output_type": "execute_result"
    }
   ],
   "source": [
    "fact_new(4)"
   ]
  },
  {
   "cell_type": "code",
   "execution_count": 86,
   "id": "c1e98a50",
   "metadata": {},
   "outputs": [
    {
     "data": {
      "text/plain": [
       "6"
      ]
     },
     "execution_count": 86,
     "metadata": {},
     "output_type": "execute_result"
    }
   ],
   "source": [
    "def fact_numbers(n=3):\n",
    "    product=1\n",
    "    for i in range(n): # n=3 means it iterate upto 2 i.e i=2\n",
    "        product=product*(i+1) #  i=0;1a =1*(0+1) = 1 # now i=1 product=1*(1+1)=2 # now i=2 and product=2 therefore product=2*(2+1)=6\n",
    "    return product\n",
    "fact_numbers()"
   ]
  },
  {
   "cell_type": "code",
   "execution_count": 85,
   "id": "303365ec",
   "metadata": {},
   "outputs": [
    {
     "data": {
      "text/plain": [
       "40320"
      ]
     },
     "execution_count": 85,
     "metadata": {},
     "output_type": "execute_result"
    }
   ],
   "source": [
    "fact_numbers(8)"
   ]
  },
  {
   "cell_type": "code",
   "execution_count": 87,
   "id": "6099a533",
   "metadata": {},
   "outputs": [
    {
     "ename": "SyntaxError",
     "evalue": "'return' outside function (<ipython-input-87-d2583e8e1b2b>, line 3)",
     "output_type": "error",
     "traceback": [
      "\u001b[1;36m  File \u001b[1;32m\"<ipython-input-87-d2583e8e1b2b>\"\u001b[1;36m, line \u001b[1;32m3\u001b[0m\n\u001b[1;33m    return 1\u001b[0m\n\u001b[1;37m    ^\u001b[0m\n\u001b[1;31mSyntaxError\u001b[0m\u001b[1;31m:\u001b[0m 'return' outside function\n"
     ]
    }
   ],
   "source": [
    "fact_numbers()\n",
    "if n==0 and n==1:\n",
    "    return 1\n",
    "return n*fact_numbers(n-1)"
   ]
  },
  {
   "cell_type": "code",
   "execution_count": 93,
   "id": "1088ca9a",
   "metadata": {},
   "outputs": [
    {
     "name": "stdout",
     "output_type": "stream",
     "text": [
      "6\n"
     ]
    }
   ],
   "source": [
    "def fact_numbers(n=3):\n",
    "    product=1\n",
    "    for i in range(n): # n=3 means it iterate upto 2 i.e i=2\n",
    "        product=product*(i+1) #  i=0;1=1*(0+1) = 1 # now i=1 product=1*(1+1)=2 # now i=2 and product=2 therefore product=2*(2+1)=6\n",
    "    return product\n",
    "fact_numbers()\n",
    "\n",
    "def fact_recursive(n):\n",
    "    if n==1 and n==0:\n",
    "        return 1\n",
    "    return n*fact_recursive(n-1)\n",
    "p=fact_numbers()\n",
    "print(p)"
   ]
  },
  {
   "cell_type": "markdown",
   "id": "b52764bd",
   "metadata": {},
   "source": [
    "# Find max value"
   ]
  },
  {
   "cell_type": "code",
   "execution_count": 95,
   "id": "d1b55e88",
   "metadata": {},
   "outputs": [
    {
     "name": "stdout",
     "output_type": "stream",
     "text": [
      "The maximum value is:  85\n"
     ]
    }
   ],
   "source": [
    "def maximum(num1,num2,num3):\n",
    "    if num1>num2:\n",
    "        if num1>num3:\n",
    "            return num1\n",
    "        else:\n",
    "            return num3\n",
    "    else:\n",
    "        if num2 >num3:\n",
    "            return num2\n",
    "        else:\n",
    "            return num3\n",
    "    \n",
    "m=maximum(45,85,75)\n",
    "print(\"The maximum value is: \",m)"
   ]
  },
  {
   "cell_type": "code",
   "execution_count": 98,
   "id": "f3b24e2f",
   "metadata": {},
   "outputs": [
    {
     "name": "stdout",
     "output_type": "stream",
     "text": [
      "500\n"
     ]
    }
   ],
   "source": [
    "m=maximum(200,85,500)\n",
    "print(m)"
   ]
  },
  {
   "cell_type": "markdown",
   "id": "565be4ae",
   "metadata": {},
   "source": [
    "# Write a program to convert celcius to farenheit"
   ]
  },
  {
   "cell_type": "code",
   "execution_count": 99,
   "id": "391ff54a",
   "metadata": {},
   "outputs": [
    {
     "name": "stdout",
     "output_type": "stream",
     "text": [
      "The farenheit temperature is 104.0\n"
     ]
    }
   ],
   "source": [
    "def faren(cell):\n",
    "    return (cell*(9/5)+32)\n",
    "\n",
    "x=faren(40)\n",
    "print('The farenheit temperature is '+str(x))"
   ]
  },
  {
   "cell_type": "code",
   "execution_count": 103,
   "id": "d8f3cc88",
   "metadata": {},
   "outputs": [
    {
     "name": "stdout",
     "output_type": "stream",
     "text": [
      "Enter a value: 40\n",
      "The farenheit temperature is 104.0\n"
     ]
    }
   ],
   "source": [
    "cell=int(input(\"Enter a value: \"))\n",
    "def faren(cell):\n",
    "    \n",
    "    return (cell*(9/5)+32)\n",
    "\n",
    "x=faren(cell)\n",
    "print('The farenheit temperature is '+str(x))"
   ]
  },
  {
   "cell_type": "code",
   "execution_count": 104,
   "id": "c9469371",
   "metadata": {},
   "outputs": [
    {
     "name": "stdout",
     "output_type": "stream",
     "text": [
      "Enter a value: 80\n",
      "The farenheit temperature is 176.0\n"
     ]
    }
   ],
   "source": [
    "cell=int(input(\"Enter a value: \"))\n",
    "def faren(cell):\n",
    "    \n",
    "    return (cell*(9/5)+32)\n",
    "\n",
    "x=faren(cell)\n",
    "print('The farenheit temperature is '+str(x))"
   ]
  },
  {
   "cell_type": "raw",
   "id": "937f44e5",
   "metadata": {},
   "source": [
    "# Write a python function to print n lines of following pattern\n",
    "\n",
    "* * *\n",
    "* *\n",
    "*"
   ]
  },
  {
   "cell_type": "code",
   "execution_count": 106,
   "id": "ba7291d0",
   "metadata": {},
   "outputs": [
    {
     "name": "stdout",
     "output_type": "stream",
     "text": [
      "* * * \n",
      "* * \n",
      "* \n"
     ]
    }
   ],
   "source": [
    "def pattern():\n",
    "    n=3\n",
    "    for i in range(n):\n",
    "        print(\"* \" * (n-i))\n",
    "pattern()"
   ]
  },
  {
   "cell_type": "code",
   "execution_count": 110,
   "id": "5782c464",
   "metadata": {},
   "outputs": [
    {
     "name": "stdout",
     "output_type": "stream",
     "text": [
      "Enter a Number: 4\n",
      "* * * * \n",
      "* * * \n",
      "* * \n",
      "* \n"
     ]
    }
   ],
   "source": [
    "n=int(input(\"Enter a Number: \"))\n",
    "\n",
    "def pattern_new():\n",
    "    for i in range(n):\n",
    "        print(\"* \"*(n-i))\n",
    "\n",
    "pattern_new()"
   ]
  },
  {
   "cell_type": "code",
   "execution_count": 116,
   "id": "93bcedd1",
   "metadata": {},
   "outputs": [
    {
     "name": "stdout",
     "output_type": "stream",
     "text": [
      "Enter a Number: 5\n",
      "* * * * * \n",
      "* * * * \n",
      "* * * \n",
      "* * \n",
      "* \n"
     ]
    }
   ],
   "source": [
    "n=int(input(\"Enter a Number: \"))\n",
    "\n",
    "def pattern_new():\n",
    "    for i in range(n):\n",
    "        print(\"* \"*(n-i))\n",
    "\n",
    "pattern_new()"
   ]
  },
  {
   "cell_type": "markdown",
   "id": "0692f9a3",
   "metadata": {},
   "source": [
    "# Write a python function to remove a given word from a string and strip it at the same time"
   ]
  },
  {
   "cell_type": "code",
   "execution_count": 132,
   "id": "f5a387e1",
   "metadata": {},
   "outputs": [
    {
     "name": "stdout",
     "output_type": "stream",
     "text": [
      "is good\n"
     ]
    }
   ],
   "source": [
    "def remove_string(string,word):\n",
    "    new_str=strng.replace(word,\"\")\n",
    "    return new_str.strip()\n",
    "\n",
    "strng=\"    Vikas is good    \"\n",
    "p=remove_string(strng,\"Vikas\")\n",
    "print(p)"
   ]
  },
  {
   "cell_type": "code",
   "execution_count": 126,
   "id": "f62f8941",
   "metadata": {},
   "outputs": [
    {
     "name": "stdout",
     "output_type": "stream",
     "text": [
      " kale\n"
     ]
    }
   ],
   "source": [
    "x='vikas kale'\n",
    "word='vikas'\n",
    "x=x.replace(word,\"\")\n",
    "print(x)"
   ]
  },
  {
   "cell_type": "code",
   "execution_count": 127,
   "id": "e2d9ab60",
   "metadata": {},
   "outputs": [
    {
     "name": "stdout",
     "output_type": "stream",
     "text": [
      " kale\n"
     ]
    }
   ],
   "source": [
    "print(x)"
   ]
  },
  {
   "cell_type": "code",
   "execution_count": 133,
   "id": "df6e0def",
   "metadata": {},
   "outputs": [
    {
     "name": "stdout",
     "output_type": "stream",
     "text": [
      "Apple\n"
     ]
    }
   ],
   "source": [
    "txt='    Apple   '\n",
    "x=txt.strip()\n",
    "\n",
    "print(x)"
   ]
  },
  {
   "cell_type": "code",
   "execution_count": 134,
   "id": "d47f510b",
   "metadata": {},
   "outputs": [
    {
     "name": "stdout",
     "output_type": "stream",
     "text": [
      "Apple is my favourite fruit\n"
     ]
    }
   ],
   "source": [
    "txt='    Apple   '\n",
    "x=txt.strip()\n",
    "\n",
    "print(x,\"is my favourite fruit\")"
   ]
  },
  {
   "cell_type": "code",
   "execution_count": 27,
   "id": "b8699934",
   "metadata": {},
   "outputs": [
    {
     "data": {
      "text/plain": [
       "'           Hello!             '"
      ]
     },
     "execution_count": 27,
     "metadata": {},
     "output_type": "execute_result"
    }
   ],
   "source": [
    "num=\"Hello! \"\n",
    "format(num,str('^30'))"
   ]
  },
  {
   "cell_type": "code",
   "execution_count": 33,
   "id": "c12fcc10",
   "metadata": {},
   "outputs": [
    {
     "data": {
      "text/plain": [
       "'                                           Hello! '"
      ]
     },
     "execution_count": 33,
     "metadata": {},
     "output_type": "execute_result"
    }
   ],
   "source": [
    "num=\"  Hello! \" \n",
    "format(num,str('>50'))"
   ]
  },
  {
   "cell_type": "code",
   "execution_count": null,
   "id": "cc24236a",
   "metadata": {},
   "outputs": [],
   "source": []
  }
 ],
 "metadata": {
  "kernelspec": {
   "display_name": "Python 3",
   "language": "python",
   "name": "python3"
  },
  "language_info": {
   "codemirror_mode": {
    "name": "ipython",
    "version": 3
   },
   "file_extension": ".py",
   "mimetype": "text/x-python",
   "name": "python",
   "nbconvert_exporter": "python",
   "pygments_lexer": "ipython3",
   "version": "3.8.8"
  }
 },
 "nbformat": 4,
 "nbformat_minor": 5
}
