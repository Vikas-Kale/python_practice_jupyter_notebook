{
 "cells": [
  {
   "cell_type": "code",
   "execution_count": 1,
   "id": "6c975cab",
   "metadata": {
    "ExecuteTime": {
     "end_time": "2021-10-12T15:50:21.585397Z",
     "start_time": "2021-10-12T15:50:21.529398Z"
    }
   },
   "outputs": [],
   "source": [
    "def is_even(num):\n",
    "    if num%2==0:\n",
    "        print('even')\n",
    "    else:\n",
    "        print('odd')"
   ]
  },
  {
   "cell_type": "code",
   "execution_count": 2,
   "id": "d67852a2",
   "metadata": {
    "ExecuteTime": {
     "end_time": "2021-10-12T15:50:28.424547Z",
     "start_time": "2021-10-12T15:50:28.400666Z"
    }
   },
   "outputs": [
    {
     "name": "stdout",
     "output_type": "stream",
     "text": [
      "odd\n"
     ]
    }
   ],
   "source": [
    "is_even(5)"
   ]
  },
  {
   "cell_type": "code",
   "execution_count": 3,
   "id": "4030bea0",
   "metadata": {
    "ExecuteTime": {
     "end_time": "2021-10-12T15:50:35.826561Z",
     "start_time": "2021-10-12T15:50:35.794562Z"
    }
   },
   "outputs": [
    {
     "name": "stdout",
     "output_type": "stream",
     "text": [
      "even\n"
     ]
    }
   ],
   "source": [
    "is_even(8)"
   ]
  },
  {
   "cell_type": "code",
   "execution_count": 17,
   "id": "db91a6eb",
   "metadata": {
    "ExecuteTime": {
     "end_time": "2021-10-12T15:56:14.743072Z",
     "start_time": "2021-10-12T15:56:14.719075Z"
    }
   },
   "outputs": [
    {
     "name": "stdout",
     "output_type": "stream",
     "text": [
      "11\t12\t13\t14\t15\t16\t17\t18\t19\t20\t \n",
      "22\t24\t26\t28\t30\t32\t34\t36\t38\t40\t \n",
      "33\t36\t39\t42\t45\t48\t51\t54\t57\t60\t \n",
      "44\t48\t52\t56\t60\t64\t68\t72\t76\t80\t \n",
      "55\t60\t65\t70\t75\t80\t85\t90\t95\t100\t \n",
      "66\t72\t78\t84\t90\t96\t102\t108\t114\t120\t \n",
      "77\t84\t91\t98\t105\t112\t119\t126\t133\t140\t \n",
      "88\t96\t104\t112\t120\t128\t136\t144\t152\t160\t \n",
      "99\t108\t117\t126\t135\t144\t153\t162\t171\t180\t \n",
      "110\t120\t130\t140\t150\t160\t170\t180\t190\t200\t \n"
     ]
    }
   ],
   "source": [
    "for i in range(1,11):\n",
    "    for j in range(11,21):\n",
    "        print(j*i, end=\"\\t\")\n",
    "    print(\" \")\n"
   ]
  },
  {
   "cell_type": "code",
   "execution_count": 18,
   "id": "bb9a2770",
   "metadata": {
    "ExecuteTime": {
     "end_time": "2021-10-12T15:57:03.441280Z",
     "start_time": "2021-10-12T15:57:03.401269Z"
    }
   },
   "outputs": [
    {
     "name": "stdout",
     "output_type": "stream",
     "text": [
      "1\t2\t3\t4\t5\t6\t7\t8\t9\t10\t\n",
      "2\t4\t6\t8\t10\t12\t14\t16\t18\t20\t\n",
      "3\t6\t9\t12\t15\t18\t21\t24\t27\t30\t\n",
      "4\t8\t12\t16\t20\t24\t28\t32\t36\t40\t\n",
      "5\t10\t15\t20\t25\t30\t35\t40\t45\t50\t\n",
      "6\t12\t18\t24\t30\t36\t42\t48\t54\t60\t\n",
      "7\t14\t21\t28\t35\t42\t49\t56\t63\t70\t\n",
      "8\t16\t24\t32\t40\t48\t56\t64\t72\t80\t\n",
      "9\t18\t27\t36\t45\t54\t63\t72\t81\t90\t\n",
      "10\t20\t30\t40\t50\t60\t70\t80\t90\t100\t\n"
     ]
    }
   ],
   "source": [
    "for i in range(1,11):\n",
    "    for j in range(1,11):\n",
    "        print(i*j,end=\"\\t\")\n",
    "    print()"
   ]
  },
  {
   "cell_type": "code",
   "execution_count": 19,
   "id": "b0152a9a",
   "metadata": {
    "ExecuteTime": {
     "end_time": "2021-10-12T15:59:20.751008Z",
     "start_time": "2021-10-12T15:59:20.735010Z"
    }
   },
   "outputs": [],
   "source": [
    "def is_prime(num):\n",
    "    count=0\n",
    "    for i in range(1,num+1):\n",
    "        if num%i ==0:\n",
    "            count+=1\n",
    "            \n",
    "    if count==2:\n",
    "        print(\"prime\")\n",
    "    else:\n",
    "        print(\"not prime\")"
   ]
  },
  {
   "cell_type": "code",
   "execution_count": 20,
   "id": "932d1d22",
   "metadata": {
    "ExecuteTime": {
     "end_time": "2021-10-12T15:59:29.910078Z",
     "start_time": "2021-10-12T15:59:29.886077Z"
    }
   },
   "outputs": [
    {
     "name": "stdout",
     "output_type": "stream",
     "text": [
      "prime\n"
     ]
    }
   ],
   "source": [
    "is_prime(7)"
   ]
  },
  {
   "cell_type": "code",
   "execution_count": 21,
   "id": "0736dc72",
   "metadata": {
    "ExecuteTime": {
     "end_time": "2021-10-12T15:59:36.788760Z",
     "start_time": "2021-10-12T15:59:36.772758Z"
    }
   },
   "outputs": [
    {
     "name": "stdout",
     "output_type": "stream",
     "text": [
      "not prime\n"
     ]
    }
   ],
   "source": [
    "is_prime(8)"
   ]
  },
  {
   "cell_type": "code",
   "execution_count": 22,
   "id": "10dc6036",
   "metadata": {
    "ExecuteTime": {
     "end_time": "2021-10-12T15:59:43.269566Z",
     "start_time": "2021-10-12T15:59:43.253567Z"
    }
   },
   "outputs": [
    {
     "name": "stdout",
     "output_type": "stream",
     "text": [
      "prime\n"
     ]
    }
   ],
   "source": [
    "is_prime(17)"
   ]
  },
  {
   "cell_type": "code",
   "execution_count": 23,
   "id": "3867bc3a",
   "metadata": {
    "ExecuteTime": {
     "end_time": "2021-10-12T15:59:49.617143Z",
     "start_time": "2021-10-12T15:59:49.593142Z"
    }
   },
   "outputs": [
    {
     "name": "stdout",
     "output_type": "stream",
     "text": [
      "prime\n"
     ]
    }
   ],
   "source": [
    "is_prime(97)"
   ]
  },
  {
   "cell_type": "code",
   "execution_count": 24,
   "id": "2fade11b",
   "metadata": {
    "ExecuteTime": {
     "end_time": "2021-10-12T15:59:55.481480Z",
     "start_time": "2021-10-12T15:59:55.465478Z"
    }
   },
   "outputs": [
    {
     "name": "stdout",
     "output_type": "stream",
     "text": [
      "prime\n"
     ]
    }
   ],
   "source": [
    "is_prime(41)"
   ]
  },
  {
   "cell_type": "code",
   "execution_count": 25,
   "id": "092a7eff",
   "metadata": {
    "ExecuteTime": {
     "end_time": "2021-10-12T16:00:01.393957Z",
     "start_time": "2021-10-12T16:00:01.369957Z"
    }
   },
   "outputs": [
    {
     "name": "stdout",
     "output_type": "stream",
     "text": [
      "prime\n"
     ]
    }
   ],
   "source": [
    "is_prime(43)"
   ]
  },
  {
   "cell_type": "code",
   "execution_count": 26,
   "id": "0634f29d",
   "metadata": {
    "ExecuteTime": {
     "end_time": "2021-10-12T16:00:07.084761Z",
     "start_time": "2021-10-12T16:00:07.060763Z"
    }
   },
   "outputs": [
    {
     "name": "stdout",
     "output_type": "stream",
     "text": [
      "not prime\n"
     ]
    }
   ],
   "source": [
    "is_prime(45)"
   ]
  },
  {
   "cell_type": "markdown",
   "id": "42796f41",
   "metadata": {},
   "source": [
    "# leap year"
   ]
  },
  {
   "cell_type": "code",
   "execution_count": 34,
   "id": "6decd32b",
   "metadata": {
    "ExecuteTime": {
     "end_time": "2021-10-12T16:19:57.277500Z",
     "start_time": "2021-10-12T16:19:54.893394Z"
    }
   },
   "outputs": [
    {
     "name": "stdout",
     "output_type": "stream",
     "text": [
      "Enter year: 2056\n",
      "This is a leap year\n"
     ]
    }
   ],
   "source": [
    "num = int(input(\"Enter year: \"))\n",
    "\n",
    "if (num % 4==0 and num % 100!=0) or num%400==0:\n",
    "    print(\"This is a leap year\")\n",
    "    \n",
    "else:\n",
    "    print(\"This is not a leap year\")"
   ]
  },
  {
   "cell_type": "code",
   "execution_count": null,
   "id": "5f8e88e4",
   "metadata": {},
   "outputs": [],
   "source": [
    "          * \n",
    "        * * * \n",
    "      * * * * * \n",
    "    * * * * * * * \n",
    "  * * * * * * * * * \n"
   ]
  },
  {
   "cell_type": "code",
   "execution_count": 44,
   "id": "75974f9a",
   "metadata": {
    "ExecuteTime": {
     "end_time": "2021-10-12T16:44:19.472645Z",
     "start_time": "2021-10-12T16:44:19.416648Z"
    }
   },
   "outputs": [
    {
     "name": "stdout",
     "output_type": "stream",
     "text": [
      "          *  \n",
      "        * * *  \n",
      "      * * * * *  \n",
      "    * * * * * * *  \n",
      "  * * * * * * * * *  \n",
      "- * * * * * * * * * \n",
      "- - * * * * * * * \n",
      "- - - * * * * * \n",
      "- - - - * * * \n",
      "- - - - - * \n"
     ]
    }
   ],
   "source": [
    "n = 5\n",
    "\n",
    "for i in range(row):\n",
    "    for j in range(i,n):\n",
    "        print(\" \",end=\" \")\n",
    "    for j in range(i):\n",
    "        print(\"*\",end=\" \")\n",
    "    for j in range(i+1):\n",
    "        print(\"*\",end=\" \")\n",
    "        \n",
    "    print(\" \")\n",
    "    \n",
    "n=5\n",
    "for i in range(n):\n",
    "    \n",
    "    for j in range(i+1):   # Increasing space\n",
    "        print(\"-\",end=\" \")\n",
    "    for j in range(i,n-1):  # left side of triangle decreasing *\n",
    "        print(\"*\",end=\" \")\n",
    "        \n",
    "    for j in range(i,n):    # right side of triangle decreasing *\n",
    "        print('*',end=\" \")\n",
    "    print()\n",
    "        "
   ]
  },
  {
   "cell_type": "code",
   "execution_count": 38,
   "id": "eedbbf62",
   "metadata": {
    "ExecuteTime": {
     "end_time": "2021-10-12T16:36:32.921734Z",
     "start_time": "2021-10-12T16:36:32.896796Z"
    }
   },
   "outputs": [
    {
     "name": "stdout",
     "output_type": "stream",
     "text": [
      "          #  \n",
      "        @ # #  \n",
      "      @ @ # # #  \n",
      "    @ @ @ # # # #  \n",
      "  @ @ @ @ # # # # #  \n"
     ]
    }
   ],
   "source": [
    "n = 5\n",
    "\n",
    "for i in range(n):\n",
    "    for j in range(i,n):\n",
    "        print(\" \",end=\" \")\n",
    "    for j in range(i):\n",
    "        print(\"@\",end=\" \")\n",
    "    for j in range(i+1):\n",
    "        print(\"#\",end=\" \")\n",
    "        \n",
    "    print(\" \")"
   ]
  },
  {
   "cell_type": "code",
   "execution_count": 43,
   "id": "be15cea4",
   "metadata": {
    "ExecuteTime": {
     "end_time": "2021-10-12T16:42:54.904146Z",
     "start_time": "2021-10-12T16:42:54.864146Z"
    }
   },
   "outputs": [
    {
     "name": "stdout",
     "output_type": "stream",
     "text": [
      "          * * * * * * * * * * *  \n",
      "          * * * * * * * * *  \n",
      "          * * * * * * *  \n",
      "          * * * * *  \n",
      "          * * *  \n"
     ]
    }
   ],
   "source": [
    "n = 5\n",
    "\n",
    "for i in range(n):\n",
    "    for j in range(1,n+1):\n",
    "        print(\" \",end=\" \")\n",
    "    for j in range(i,n):\n",
    "        print(\"*\",end=\" \")\n",
    "    for j in range(i,n+1):\n",
    "        print(\"*\",end=\" \")\n",
    "        \n",
    "    print(\" \")\n",
    "        \n",
    "    "
   ]
  },
  {
   "cell_type": "code",
   "execution_count": 52,
   "id": "e934f8be",
   "metadata": {
    "ExecuteTime": {
     "end_time": "2021-10-12T16:53:23.614815Z",
     "start_time": "2021-10-12T16:53:23.581756Z"
    }
   },
   "outputs": [
    {
     "name": "stdout",
     "output_type": "stream",
     "text": [
      "15\n"
     ]
    }
   ],
   "source": [
    "num =8412\n",
    "count=0\n",
    "while num>0:\n",
    "    x = num%10\n",
    "    count = count+x\n",
    "    num = num//10\n",
    "print(count)\n",
    "    "
   ]
  },
  {
   "cell_type": "code",
   "execution_count": 45,
   "id": "b769992b",
   "metadata": {
    "ExecuteTime": {
     "end_time": "2021-10-12T16:48:44.740569Z",
     "start_time": "2021-10-12T16:48:44.700571Z"
    }
   },
   "outputs": [
    {
     "data": {
      "text/plain": [
       "5"
      ]
     },
     "execution_count": 45,
     "metadata": {},
     "output_type": "execute_result"
    }
   ],
   "source": [
    "145%10"
   ]
  },
  {
   "cell_type": "code",
   "execution_count": 47,
   "id": "78b98a4b",
   "metadata": {
    "ExecuteTime": {
     "end_time": "2021-10-12T16:49:00.057614Z",
     "start_time": "2021-10-12T16:49:00.041614Z"
    }
   },
   "outputs": [
    {
     "data": {
      "text/plain": [
       "14"
      ]
     },
     "execution_count": 47,
     "metadata": {},
     "output_type": "execute_result"
    }
   ],
   "source": [
    "145//10"
   ]
  },
  {
   "cell_type": "code",
   "execution_count": 53,
   "id": "3d0b2578",
   "metadata": {
    "ExecuteTime": {
     "end_time": "2021-10-12T16:53:50.019867Z",
     "start_time": "2021-10-12T16:53:49.995867Z"
    }
   },
   "outputs": [
    {
     "data": {
      "text/plain": [
       "65"
      ]
     },
     "execution_count": 53,
     "metadata": {},
     "output_type": "execute_result"
    }
   ],
   "source": [
    "ord(\"A\")"
   ]
  },
  {
   "cell_type": "code",
   "execution_count": 54,
   "id": "0971882a",
   "metadata": {
    "ExecuteTime": {
     "end_time": "2021-10-12T16:53:58.384246Z",
     "start_time": "2021-10-12T16:53:58.368245Z"
    }
   },
   "outputs": [
    {
     "data": {
      "text/plain": [
       "'z'"
      ]
     },
     "execution_count": 54,
     "metadata": {},
     "output_type": "execute_result"
    }
   ],
   "source": [
    "chr(122)"
   ]
  },
  {
   "cell_type": "code",
   "execution_count": 55,
   "id": "3dfc1535",
   "metadata": {
    "ExecuteTime": {
     "end_time": "2021-10-12T16:54:15.607184Z",
     "start_time": "2021-10-12T16:54:15.571238Z"
    }
   },
   "outputs": [
    {
     "data": {
      "text/plain": [
       "90"
      ]
     },
     "execution_count": 55,
     "metadata": {},
     "output_type": "execute_result"
    }
   ],
   "source": [
    "ord(\"Z\")"
   ]
  },
  {
   "cell_type": "code",
   "execution_count": 56,
   "id": "b26a4d1a",
   "metadata": {
    "ExecuteTime": {
     "end_time": "2021-10-12T16:54:37.052240Z",
     "start_time": "2021-10-12T16:54:37.028243Z"
    }
   },
   "outputs": [
    {
     "data": {
      "text/plain": [
       "97"
      ]
     },
     "execution_count": 56,
     "metadata": {},
     "output_type": "execute_result"
    }
   ],
   "source": [
    "ord(\"a\")"
   ]
  },
  {
   "cell_type": "code",
   "execution_count": 57,
   "id": "bfe34a37",
   "metadata": {
    "ExecuteTime": {
     "end_time": "2021-10-12T16:55:16.099211Z",
     "start_time": "2021-10-12T16:55:16.082294Z"
    }
   },
   "outputs": [],
   "source": [
    "x = [i for i in range(10)]"
   ]
  },
  {
   "cell_type": "code",
   "execution_count": 58,
   "id": "8b34d1b3",
   "metadata": {
    "ExecuteTime": {
     "end_time": "2021-10-12T16:55:23.196569Z",
     "start_time": "2021-10-12T16:55:23.164567Z"
    }
   },
   "outputs": [
    {
     "name": "stdout",
     "output_type": "stream",
     "text": [
      "[0, 1, 2, 3, 4, 5, 6, 7, 8, 9]\n"
     ]
    }
   ],
   "source": [
    "print(x)"
   ]
  },
  {
   "cell_type": "code",
   "execution_count": 59,
   "id": "cc4aa693",
   "metadata": {
    "ExecuteTime": {
     "end_time": "2021-10-12T16:57:58.522339Z",
     "start_time": "2021-10-12T16:57:58.490340Z"
    }
   },
   "outputs": [],
   "source": [
    "def is_prime(num):\n",
    "    count = 0\n",
    "    for i in range(1,num+1):\n",
    "        if num%i==0:\n",
    "            count=count+1\n",
    "    if count==2:\n",
    "        print(\"Prime\")\n",
    "    else:\n",
    "        print(\"not prime\")\n"
   ]
  },
  {
   "cell_type": "code",
   "execution_count": 1,
   "id": "6074f039",
   "metadata": {
    "ExecuteTime": {
     "end_time": "2021-10-13T00:11:06.451157Z",
     "start_time": "2021-10-13T00:11:06.406120Z"
    }
   },
   "outputs": [],
   "source": [
    "lst = [12,1,1,4,111,15,3,2]\n",
    "\n",
    "lst.sort(reverse=True)"
   ]
  },
  {
   "cell_type": "code",
   "execution_count": null,
   "id": "194ae9c8",
   "metadata": {},
   "outputs": [],
   "source": []
  },
  {
   "cell_type": "code",
   "execution_count": null,
   "id": "121c67e5",
   "metadata": {},
   "outputs": [],
   "source": [
    "Is_prime = map(is_prime, [i for i in range(1,)])"
   ]
  }
 ],
 "metadata": {
  "kernelspec": {
   "display_name": "Python 3",
   "language": "python",
   "name": "python3"
  },
  "language_info": {
   "codemirror_mode": {
    "name": "ipython",
    "version": 3
   },
   "file_extension": ".py",
   "mimetype": "text/x-python",
   "name": "python",
   "nbconvert_exporter": "python",
   "pygments_lexer": "ipython3",
   "version": "3.8.8"
  }
 },
 "nbformat": 4,
 "nbformat_minor": 5
}
