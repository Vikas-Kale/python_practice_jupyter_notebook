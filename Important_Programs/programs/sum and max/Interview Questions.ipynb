{
 "cells": [
  {
   "cell_type": "markdown",
   "id": "9c3ba026",
   "metadata": {},
   "source": [
    "## 1]What is Python?"
   ]
  },
  {
   "cell_type": "markdown",
   "id": "1b1ea3ed",
   "metadata": {},
   "source": [
    "- Python is a popular programming language. It was created by `Guido van Rossum`, and released in `1991`.\n",
    "- It is used for:\n",
    "\n",
    "    - web development (server-side),\n",
    "    - software development,\n",
    "    - mathematics,\n",
    "    - system scripting."
   ]
  },
  {
   "cell_type": "markdown",
   "id": "1048c1e4",
   "metadata": {},
   "source": [
    "## 2]What can Python do?\n",
    "- Python can be used on a server to create `web applications`.\n",
    "- Python can be used alongside software to `create workflows.`\n",
    "- Python can connect to database systems. `It can also read and modify files`.\n",
    "- Python can be used to handle big data and `perform complex mathematics`.\n",
    "- Python can be used for `rapid prototyping, or for production-ready software development.`"
   ]
  },
  {
   "cell_type": "markdown",
   "id": "3e2d87c8",
   "metadata": {},
   "source": [
    "# 3]Why Python?\n",
    "- Python works on different platforms (Windows, Mac, Linux, Raspberry Pi, etc).\n",
    "- Python has a simple syntax similar to the English language.\n",
    "- Python has syntax that allows developers to write programs with fewer lines than some other programming languages.\n",
    "- Python runs on an interpreter system, meaning that code can be executed as soon as it is written. This means that prototyping can be very quick.\n",
    "- Python can be treated in a procedural way, an object-oriented way or a functional way."
   ]
  },
  {
   "cell_type": "markdown",
   "id": "b69e720b",
   "metadata": {},
   "source": [
    "## 4] Python Indentation"
   ]
  },
  {
   "cell_type": "markdown",
   "id": "b13b8ccb",
   "metadata": {},
   "source": [
    "- Indentation refers to the spaces at the beginning of a code line.\n",
    "\n",
    "- Where in other programming languages the indentation in code is for readability only, the indentation in Python is very important.\n",
    "\n",
    "- `Python uses indentation to indicate a block of code.`"
   ]
  },
  {
   "cell_type": "markdown",
   "id": "ba6608e4",
   "metadata": {},
   "source": [
    "- Python will give you an error if you skip the indentation\n",
    "- `The number of spaces is up to you as a programmer, but it has to be at least one.`\n",
    "- `You have to use the same number of spaces in the same block of code, otherwise Python will give you an error`"
   ]
  },
  {
   "cell_type": "code",
   "execution_count": 4,
   "id": "ecb18a56",
   "metadata": {},
   "outputs": [
    {
     "name": "stdout",
     "output_type": "stream",
     "text": [
      "greater\n",
      "number\n"
     ]
    }
   ],
   "source": [
    "x=5\n",
    "if x >3:\n",
    " print('greater')\n",
    " print('number')\n",
    "else:\n",
    "                                                  print('less')\n",
    "   "
   ]
  },
  {
   "cell_type": "code",
   "execution_count": 5,
   "id": "9cc36d50",
   "metadata": {},
   "outputs": [
    {
     "name": "stdout",
     "output_type": "stream",
     "text": [
      "less\n"
     ]
    }
   ],
   "source": [
    "x=2\n",
    "if x >3:\n",
    " print('greater')\n",
    " print('number')\n",
    "else:\n",
    "                                                  print('less')\n",
    "   "
   ]
  },
  {
   "cell_type": "markdown",
   "id": "7728a4ec",
   "metadata": {},
   "source": [
    "# 5] What is variables"
   ]
  },
  {
   "cell_type": "markdown",
   "id": "4880578f",
   "metadata": {},
   "source": [
    "- `Variables are containers for storing data values.`"
   ]
  },
  {
   "cell_type": "markdown",
   "id": "0cec895b",
   "metadata": {},
   "source": [
    "- **Creating Variables**\n",
    "\n",
    "- Python has no command for declaring a variable.\n",
    "\n",
    "- A variable is created the moment you first assign a value to it."
   ]
  },
  {
   "cell_type": "markdown",
   "id": "8a6146fd",
   "metadata": {},
   "source": [
    "- `Variables do not need to be declared with any particular type, and can even change type after they have been set.`"
   ]
  },
  {
   "cell_type": "code",
   "execution_count": null,
   "id": "de7cc52f",
   "metadata": {},
   "outputs": [],
   "source": []
  }
 ],
 "metadata": {
  "kernelspec": {
   "display_name": "Python 3",
   "language": "python",
   "name": "python3"
  },
  "language_info": {
   "codemirror_mode": {
    "name": "ipython",
    "version": 3
   },
   "file_extension": ".py",
   "mimetype": "text/x-python",
   "name": "python",
   "nbconvert_exporter": "python",
   "pygments_lexer": "ipython3",
   "version": "3.8.8"
  }
 },
 "nbformat": 4,
 "nbformat_minor": 5
}
