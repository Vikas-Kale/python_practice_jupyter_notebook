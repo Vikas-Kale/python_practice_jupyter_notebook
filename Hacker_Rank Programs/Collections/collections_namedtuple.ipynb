{
 "cells": [
  {
   "cell_type": "code",
   "execution_count": 1,
   "id": "f878ed35",
   "metadata": {},
   "outputs": [],
   "source": [
    "import collections"
   ]
  },
  {
   "cell_type": "code",
   "execution_count": 3,
   "id": "de07e711",
   "metadata": {},
   "outputs": [
    {
     "name": "stdout",
     "output_type": "stream",
     "text": [
      "['ChainMap', 'Counter', 'OrderedDict', 'UserDict', 'UserList', 'UserString', '_Link', '_OrderedDictItemsView', '_OrderedDictKeysView', '_OrderedDictValuesView', '__all__', '__builtins__', '__cached__', '__doc__', '__file__', '__getattr__', '__loader__', '__name__', '__package__', '__path__', '__spec__', '_chain', '_collections_abc', '_count_elements', '_eq', '_heapq', '_iskeyword', '_itemgetter', '_proxy', '_recursive_repr', '_repeat', '_starmap', '_sys', '_tuplegetter', 'abc', 'defaultdict', 'deque', 'namedtuple']\n"
     ]
    }
   ],
   "source": [
    "print(dir(collections))"
   ]
  },
  {
   "cell_type": "code",
   "execution_count": 4,
   "id": "a322544f",
   "metadata": {},
   "outputs": [
    {
     "name": "stdout",
     "output_type": "stream",
     "text": [
      "Help on function namedtuple in module collections:\n",
      "\n",
      "namedtuple(typename, field_names, *, rename=False, defaults=None, module=None)\n",
      "    Returns a new subclass of tuple with named fields.\n",
      "    \n",
      "    >>> Point = namedtuple('Point', ['x', 'y'])\n",
      "    >>> Point.__doc__                   # docstring for the new class\n",
      "    'Point(x, y)'\n",
      "    >>> p = Point(11, y=22)             # instantiate with positional args or keywords\n",
      "    >>> p[0] + p[1]                     # indexable like a plain tuple\n",
      "    33\n",
      "    >>> x, y = p                        # unpack like a regular tuple\n",
      "    >>> x, y\n",
      "    (11, 22)\n",
      "    >>> p.x + p.y                       # fields also accessible by name\n",
      "    33\n",
      "    >>> d = p._asdict()                 # convert to a dictionary\n",
      "    >>> d['x']\n",
      "    11\n",
      "    >>> Point(**d)                      # convert from a dictionary\n",
      "    Point(x=11, y=22)\n",
      "    >>> p._replace(x=100)               # _replace() is like str.replace() but targets named fields\n",
      "    Point(x=100, y=22)\n",
      "\n"
     ]
    }
   ],
   "source": [
    "help(collections.namedtuple)"
   ]
  },
  {
   "cell_type": "raw",
   "id": "6a6bc046",
   "metadata": {},
   "source": [
    "A NamedTuple returns a tuple object with names for each position which the ordinary tuples lack. For example, consider a tuple names student where the first element represents fname, second represents lname and the third element represents the DOB. Suppose for calling fname instead of remembering the index position you can actually call the element by using the fname argument, then it will be really easy for accessing tuples element. This functionality is provided by the NamedTuple.\n",
    "\n",
    "Syntax:\n",
    "\n",
    "class collections.namedtuple(typename, field_names)"
   ]
  },
  {
   "cell_type": "code",
   "execution_count": 5,
   "id": "4c5c896e",
   "metadata": {},
   "outputs": [],
   "source": [
    "from collections import namedtuple\n",
    "\n",
    "Student=namedtuple('Student',['name','age','DOB']) # declaring namedtuple()\n",
    "S=Student('Vikas',24,'24-sept.1996')               # Adding values\n"
   ]
  },
  {
   "cell_type": "code",
   "execution_count": 7,
   "id": "fe10a94a",
   "metadata": {},
   "outputs": [
    {
     "data": {
      "text/plain": [
       "'Vikas'"
      ]
     },
     "execution_count": 7,
     "metadata": {},
     "output_type": "execute_result"
    }
   ],
   "source": [
    "S.name"
   ]
  },
  {
   "cell_type": "code",
   "execution_count": 8,
   "id": "0e34636b",
   "metadata": {},
   "outputs": [
    {
     "data": {
      "text/plain": [
       "24"
      ]
     },
     "execution_count": 8,
     "metadata": {},
     "output_type": "execute_result"
    }
   ],
   "source": [
    "S.age"
   ]
  },
  {
   "cell_type": "code",
   "execution_count": 9,
   "id": "95577c30",
   "metadata": {},
   "outputs": [
    {
     "data": {
      "text/plain": [
       "'24-sept.1996'"
      ]
     },
     "execution_count": 9,
     "metadata": {},
     "output_type": "execute_result"
    }
   ],
   "source": [
    "S.DOB"
   ]
  },
  {
   "cell_type": "code",
   "execution_count": 12,
   "id": "e65fe2f7",
   "metadata": {},
   "outputs": [
    {
     "data": {
      "text/plain": [
       "1"
      ]
     },
     "execution_count": 12,
     "metadata": {},
     "output_type": "execute_result"
    }
   ],
   "source": [
    "S.count('Vikas')"
   ]
  },
  {
   "cell_type": "code",
   "execution_count": 13,
   "id": "058e698b",
   "metadata": {},
   "outputs": [
    {
     "data": {
      "text/plain": [
       "'Vikas'"
      ]
     },
     "execution_count": 13,
     "metadata": {},
     "output_type": "execute_result"
    }
   ],
   "source": [
    "# value access using index\n",
    "\n",
    "S[0]"
   ]
  },
  {
   "cell_type": "code",
   "execution_count": 14,
   "id": "7ba6cf56",
   "metadata": {},
   "outputs": [
    {
     "data": {
      "text/plain": [
       "24"
      ]
     },
     "execution_count": 14,
     "metadata": {},
     "output_type": "execute_result"
    }
   ],
   "source": [
    "S[1]"
   ]
  },
  {
   "cell_type": "code",
   "execution_count": null,
   "id": "5e539233",
   "metadata": {},
   "outputs": [],
   "source": [
    "1. _make(): This function is used to return a namedtuple() from the iterable passed as argument.\n",
    "\n",
    "2. _asdict(): This function returns the OrdereDict() as constructed from the mapped values of namedtuple()."
   ]
  },
  {
   "cell_type": "code",
   "execution_count": 15,
   "id": "59b14f6f",
   "metadata": {},
   "outputs": [],
   "source": [
    "from collections import namedtuple\n",
    "\n",
    "student=namedtuple(\"student\",['name','age','DOB'])\n",
    "s=student('Ram',20,'1-1-2011')"
   ]
  },
  {
   "cell_type": "code",
   "execution_count": 16,
   "id": "e2367617",
   "metadata": {},
   "outputs": [
    {
     "data": {
      "text/plain": [
       "'Ram'"
      ]
     },
     "execution_count": 16,
     "metadata": {},
     "output_type": "execute_result"
    }
   ],
   "source": [
    "s.name"
   ]
  },
  {
   "cell_type": "code",
   "execution_count": 17,
   "id": "f44fefc2",
   "metadata": {},
   "outputs": [
    {
     "data": {
      "text/plain": [
       "20"
      ]
     },
     "execution_count": 17,
     "metadata": {},
     "output_type": "execute_result"
    }
   ],
   "source": [
    "s.age"
   ]
  },
  {
   "cell_type": "code",
   "execution_count": 18,
   "id": "e7e90bf4",
   "metadata": {},
   "outputs": [
    {
     "data": {
      "text/plain": [
       "'1-1-2011'"
      ]
     },
     "execution_count": 18,
     "metadata": {},
     "output_type": "execute_result"
    }
   ],
   "source": [
    "s.DOB"
   ]
  },
  {
   "cell_type": "code",
   "execution_count": 20,
   "id": "0f7db8d2",
   "metadata": {},
   "outputs": [
    {
     "data": {
      "text/plain": [
       "student(name='Ganesh', age=25, DOB='24-jan-2022')"
      ]
     },
     "execution_count": 20,
     "metadata": {},
     "output_type": "execute_result"
    }
   ],
   "source": [
    "# 1. _make(): This function is used to return a namedtuple() from the iterable passed as argument.\n",
    "\n",
    "# initializing iterable\n",
    "\n",
    "li=['Ganesh',25,'24-jan-2022']\n",
    "\n",
    "student._make(li) # protective"
   ]
  },
  {
   "cell_type": "code",
   "execution_count": 22,
   "id": "30c03131",
   "metadata": {},
   "outputs": [
    {
     "name": "stdout",
     "output_type": "stream",
     "text": [
      "The OrderedDict instance using namedtuple is  : \n",
      "{'name': 'Ram', 'age': 20, 'DOB': '1-1-2011'}\n"
     ]
    }
   ],
   "source": [
    "#2. _asdict(): This function returns the OrdereDict() as constructed from the mapped values of namedtuple().\n",
    "\n",
    "# using _asdict() to return an OrderedDict()\n",
    "print (\"The OrderedDict instance using namedtuple is  : \")\n",
    "print (s._asdict()) "
   ]
  },
  {
   "cell_type": "code",
   "execution_count": 23,
   "id": "109e8a9e",
   "metadata": {},
   "outputs": [],
   "source": [
    "from collections import namedtuple\n",
    "\n",
    "Point=namedtuple(\"Point\",'x,y')\n",
    "pt1=Point(1,3)"
   ]
  },
  {
   "cell_type": "code",
   "execution_count": 24,
   "id": "3640597a",
   "metadata": {},
   "outputs": [
    {
     "data": {
      "text/plain": [
       "1"
      ]
     },
     "execution_count": 24,
     "metadata": {},
     "output_type": "execute_result"
    }
   ],
   "source": [
    "pt1.x"
   ]
  },
  {
   "cell_type": "code",
   "execution_count": 25,
   "id": "8632bb87",
   "metadata": {},
   "outputs": [
    {
     "data": {
      "text/plain": [
       "3"
      ]
     },
     "execution_count": 25,
     "metadata": {},
     "output_type": "execute_result"
    }
   ],
   "source": [
    "pt1.y"
   ]
  },
  {
   "cell_type": "code",
   "execution_count": 26,
   "id": "801daa01",
   "metadata": {},
   "outputs": [],
   "source": [
    "pt2=Point(4,5)"
   ]
  },
  {
   "cell_type": "code",
   "execution_count": 28,
   "id": "f84ff706",
   "metadata": {},
   "outputs": [
    {
     "data": {
      "text/plain": [
       "4"
      ]
     },
     "execution_count": 28,
     "metadata": {},
     "output_type": "execute_result"
    }
   ],
   "source": [
    "pt2.x"
   ]
  },
  {
   "cell_type": "code",
   "execution_count": 29,
   "id": "8aaa0486",
   "metadata": {},
   "outputs": [
    {
     "data": {
      "text/plain": [
       "5"
      ]
     },
     "execution_count": 29,
     "metadata": {},
     "output_type": "execute_result"
    }
   ],
   "source": [
    "pt2.y"
   ]
  },
  {
   "cell_type": "code",
   "execution_count": 30,
   "id": "5cfd1449",
   "metadata": {},
   "outputs": [],
   "source": [
    "dot_product=(pt1.x * pt2.x) + (pt1.y * pt2.y)"
   ]
  },
  {
   "cell_type": "code",
   "execution_count": 31,
   "id": "fbbfcf49",
   "metadata": {},
   "outputs": [
    {
     "data": {
      "text/plain": [
       "19"
      ]
     },
     "execution_count": 31,
     "metadata": {},
     "output_type": "execute_result"
    }
   ],
   "source": [
    "dot_product"
   ]
  },
  {
   "cell_type": "code",
   "execution_count": 36,
   "id": "f1b11e42",
   "metadata": {},
   "outputs": [],
   "source": [
    "from collections import namedtuple\n",
    "\n",
    "Car=namedtuple(\"Car\",['name','mileage','Class','colour'])\n",
    "C=Car(\"Rolls Royce\",'50km/liter','A','Orange')\n"
   ]
  },
  {
   "cell_type": "code",
   "execution_count": 37,
   "id": "70258514",
   "metadata": {},
   "outputs": [
    {
     "data": {
      "text/plain": [
       "'Rolls Royce'"
      ]
     },
     "execution_count": 37,
     "metadata": {},
     "output_type": "execute_result"
    }
   ],
   "source": [
    "C.name"
   ]
  },
  {
   "cell_type": "code",
   "execution_count": 38,
   "id": "a3c3a11f",
   "metadata": {},
   "outputs": [
    {
     "data": {
      "text/plain": [
       "'A'"
      ]
     },
     "execution_count": 38,
     "metadata": {},
     "output_type": "execute_result"
    }
   ],
   "source": [
    "C.Class"
   ]
  },
  {
   "cell_type": "code",
   "execution_count": 39,
   "id": "772e3775",
   "metadata": {},
   "outputs": [
    {
     "data": {
      "text/plain": [
       "'Orange'"
      ]
     },
     "execution_count": 39,
     "metadata": {},
     "output_type": "execute_result"
    }
   ],
   "source": [
    "C.colour"
   ]
  },
  {
   "cell_type": "code",
   "execution_count": 40,
   "id": "73630889",
   "metadata": {},
   "outputs": [
    {
     "data": {
      "text/plain": [
       "<function Car.index(value, start=0, stop=9223372036854775807, /)>"
      ]
     },
     "execution_count": 40,
     "metadata": {},
     "output_type": "execute_result"
    }
   ],
   "source": [
    "C.index"
   ]
  },
  {
   "cell_type": "code",
   "execution_count": 41,
   "id": "eac27ce7",
   "metadata": {},
   "outputs": [
    {
     "data": {
      "text/plain": [
       "'50km/liter'"
      ]
     },
     "execution_count": 41,
     "metadata": {},
     "output_type": "execute_result"
    }
   ],
   "source": [
    "C.mileage"
   ]
  },
  {
   "cell_type": "code",
   "execution_count": 42,
   "id": "92a4ba52",
   "metadata": {},
   "outputs": [
    {
     "name": "stdout",
     "output_type": "stream",
     "text": [
      "5\n",
      "ID MARKS NAME CLASS\n",
      "1 97 Raymond 7\n",
      "2 50 Steven 4\n",
      "3 91 Andrian 9\n",
      "4 72 Stewart 5\n",
      "5 80 Peter 6\n",
      "78.00\n"
     ]
    }
   ],
   "source": [
    "from collections import namedtuple\n",
    "\n",
    "N = int(input())\n",
    "fields = input().split()\n",
    "\n",
    "total = 0\n",
    "for i in range(N):\n",
    "    students = namedtuple('student',fields)\n",
    "    field1, field2, field3,field4 = input().split()\n",
    "    student = students(field1,field2,field3,field4)\n",
    "    total += int(student.MARKS)\n",
    "print('{:.2f}'.format(total/N))"
   ]
  },
  {
   "cell_type": "code",
   "execution_count": 43,
   "id": "482d23bd",
   "metadata": {},
   "outputs": [
    {
     "name": "stdout",
     "output_type": "stream",
     "text": [
      "5\n",
      "MARKS CLASS NAME ID\n",
      "92 2 Calum 1\n",
      "82 5 Scott 2\n",
      "94 2 Jason 3\n",
      "55 8 Glenn 4\n",
      "82 2 Fergus 5\n",
      "81.00\n"
     ]
    }
   ],
   "source": [
    "import collections, statistics\n",
    "print('%.2f' % statistics.mean(next((int(student(*row).MARKS) for row in (input().split() for i in range(size))) for size, student in [[int(input()), collections.namedtuple('Student', input())]])))"
   ]
  },
  {
   "cell_type": "code",
   "execution_count": null,
   "id": "bc87a2b1",
   "metadata": {},
   "outputs": [],
   "source": [
    "5\n",
    "ID         MARKS      NAME       CLASS     \n",
    "1          97         Raymond    7         \n",
    "2          50         Steven     4         \n",
    "3          91         Adrian     9         \n",
    "4          72         Stewart    5         \n",
    "5          80         Peter      6  \n",
    "\n",
    "5\n",
    "MARKS      CLASS      NAME       ID        \n",
    "92         2          Calum      1         \n",
    "82         5          Scott      2         \n",
    "94         2          Jason      3         \n",
    "55         8          Glenn      4         \n",
    "82         2          Fergus     5"
   ]
  },
  {
   "cell_type": "code",
   "execution_count": 45,
   "id": "34983d50",
   "metadata": {},
   "outputs": [
    {
     "name": "stdout",
     "output_type": "stream",
     "text": [
      "5\n",
      "MARKS CLASS NAME ID\n",
      "92 2 Calum 1\n",
      "82 5 Scott 2\n",
      "94 2 Jason 3\n",
      "55 8 Glenn 4\n",
      "82 2 Fergus 5\n",
      "81.0\n"
     ]
    }
   ],
   "source": [
    "from collections import namedtuple\n",
    "N=int(input())\n",
    "Student=namedtuple('Student',input().split())\n",
    "Total=0\n",
    "for i in range(N):\n",
    "    Total+=int(Student(*input().split()).MARKS)\n",
    "print(Total/N)    "
   ]
  },
  {
   "cell_type": "code",
   "execution_count": 46,
   "id": "354e9c21",
   "metadata": {},
   "outputs": [],
   "source": [
    "import statistics"
   ]
  },
  {
   "cell_type": "code",
   "execution_count": 47,
   "id": "d8e22d41",
   "metadata": {},
   "outputs": [
    {
     "name": "stdout",
     "output_type": "stream",
     "text": [
      "['Counter', 'Decimal', 'Fraction', 'NormalDist', 'StatisticsError', '__all__', '__builtins__', '__cached__', '__doc__', '__file__', '__loader__', '__name__', '__package__', '__spec__', '_coerce', '_convert', '_exact_ratio', '_fail_neg', '_find_lteq', '_find_rteq', '_isfinite', '_normal_dist_inv_cdf', '_ss', '_sum', 'bisect_left', 'bisect_right', 'erf', 'exp', 'fabs', 'fmean', 'fsum', 'geometric_mean', 'groupby', 'harmonic_mean', 'hypot', 'itemgetter', 'log', 'math', 'mean', 'median', 'median_grouped', 'median_high', 'median_low', 'mode', 'multimode', 'numbers', 'pstdev', 'pvariance', 'quantiles', 'random', 'sqrt', 'stdev', 'tau', 'variance']\n"
     ]
    }
   ],
   "source": [
    "print(dir(statistics))"
   ]
  },
  {
   "cell_type": "code",
   "execution_count": 48,
   "id": "d1e2986f",
   "metadata": {},
   "outputs": [
    {
     "name": "stdout",
     "output_type": "stream",
     "text": [
      "Help on function mean in module statistics:\n",
      "\n",
      "mean(data)\n",
      "    Return the sample arithmetic mean of data.\n",
      "    \n",
      "    >>> mean([1, 2, 3, 4, 4])\n",
      "    2.8\n",
      "    \n",
      "    >>> from fractions import Fraction as F\n",
      "    >>> mean([F(3, 7), F(1, 21), F(5, 3), F(1, 3)])\n",
      "    Fraction(13, 21)\n",
      "    \n",
      "    >>> from decimal import Decimal as D\n",
      "    >>> mean([D(\"0.5\"), D(\"0.75\"), D(\"0.625\"), D(\"0.375\")])\n",
      "    Decimal('0.5625')\n",
      "    \n",
      "    If ``data`` is empty, StatisticsError will be raised.\n",
      "\n"
     ]
    }
   ],
   "source": [
    "help(statistics.mean)"
   ]
  },
  {
   "cell_type": "code",
   "execution_count": 52,
   "id": "af316c54",
   "metadata": {},
   "outputs": [
    {
     "data": {
      "text/plain": [
       "8.6"
      ]
     },
     "execution_count": 52,
     "metadata": {},
     "output_type": "execute_result"
    }
   ],
   "source": [
    "statistics.mean([4,6,8,10,15])"
   ]
  },
  {
   "cell_type": "markdown",
   "id": "893da8be",
   "metadata": {},
   "source": [
    "`The mean is the average of a data set.`\n",
    "`The mode is the most common number in a data set.`\n",
    "`The median is the middle of the set of numbers.`"
   ]
  },
  {
   "cell_type": "code",
   "execution_count": 53,
   "id": "8f80b593",
   "metadata": {},
   "outputs": [],
   "source": [
    "lst=[4,6,8,10,15]"
   ]
  },
  {
   "cell_type": "code",
   "execution_count": 54,
   "id": "30e73d31",
   "metadata": {},
   "outputs": [
    {
     "data": {
      "text/plain": [
       "8.6"
      ]
     },
     "execution_count": 54,
     "metadata": {},
     "output_type": "execute_result"
    }
   ],
   "source": [
    "sum(lst)/len(lst)"
   ]
  },
  {
   "cell_type": "code",
   "execution_count": 55,
   "id": "3be88b2a",
   "metadata": {},
   "outputs": [
    {
     "data": {
      "text/plain": [
       "8.6"
      ]
     },
     "execution_count": 55,
     "metadata": {},
     "output_type": "execute_result"
    }
   ],
   "source": [
    "statistics.mean(lst)"
   ]
  },
  {
   "cell_type": "code",
   "execution_count": 56,
   "id": "1db5135e",
   "metadata": {},
   "outputs": [
    {
     "data": {
      "text/plain": [
       "4"
      ]
     },
     "execution_count": 56,
     "metadata": {},
     "output_type": "execute_result"
    }
   ],
   "source": [
    "statistics.mode(lst)"
   ]
  },
  {
   "cell_type": "code",
   "execution_count": 57,
   "id": "4b558816",
   "metadata": {},
   "outputs": [
    {
     "data": {
      "text/plain": [
       "'red'"
      ]
     },
     "execution_count": 57,
     "metadata": {},
     "output_type": "execute_result"
    }
   ],
   "source": [
    "statistics.mode([\"red\", \"blue\", \"blue\", \"red\", \"green\", \"red\", \"red\"])"
   ]
  },
  {
   "cell_type": "code",
   "execution_count": 58,
   "id": "a589552d",
   "metadata": {},
   "outputs": [
    {
     "data": {
      "text/plain": [
       "3"
      ]
     },
     "execution_count": 58,
     "metadata": {},
     "output_type": "execute_result"
    }
   ],
   "source": [
    "statistics.median([1,3,5])"
   ]
  },
  {
   "cell_type": "code",
   "execution_count": 59,
   "id": "ee9ff875",
   "metadata": {},
   "outputs": [
    {
     "data": {
      "text/plain": [
       "4.5"
      ]
     },
     "execution_count": 59,
     "metadata": {},
     "output_type": "execute_result"
    }
   ],
   "source": [
    "statistics.median([1,2,3,4,5,6,7,8])"
   ]
  },
  {
   "cell_type": "code",
   "execution_count": null,
   "id": "2bcd184a",
   "metadata": {},
   "outputs": [],
   "source": []
  },
  {
   "cell_type": "code",
   "execution_count": null,
   "id": "4d0fca54",
   "metadata": {},
   "outputs": [],
   "source": []
  },
  {
   "cell_type": "code",
   "execution_count": null,
   "id": "8b26bd13",
   "metadata": {},
   "outputs": [],
   "source": []
  },
  {
   "cell_type": "code",
   "execution_count": null,
   "id": "c969c82c",
   "metadata": {},
   "outputs": [],
   "source": []
  },
  {
   "cell_type": "code",
   "execution_count": null,
   "id": "68b39cea",
   "metadata": {},
   "outputs": [],
   "source": []
  },
  {
   "cell_type": "code",
   "execution_count": null,
   "id": "84bf8dfb",
   "metadata": {},
   "outputs": [],
   "source": []
  },
  {
   "cell_type": "code",
   "execution_count": null,
   "id": "b3d5a81b",
   "metadata": {},
   "outputs": [],
   "source": []
  },
  {
   "cell_type": "code",
   "execution_count": null,
   "id": "4868e70c",
   "metadata": {},
   "outputs": [],
   "source": []
  },
  {
   "cell_type": "code",
   "execution_count": null,
   "id": "5290a834",
   "metadata": {},
   "outputs": [],
   "source": []
  },
  {
   "cell_type": "code",
   "execution_count": null,
   "id": "9d75cb83",
   "metadata": {},
   "outputs": [],
   "source": []
  },
  {
   "cell_type": "code",
   "execution_count": null,
   "id": "76be24c6",
   "metadata": {},
   "outputs": [],
   "source": []
  },
  {
   "cell_type": "code",
   "execution_count": null,
   "id": "42c7e0d3",
   "metadata": {},
   "outputs": [],
   "source": []
  },
  {
   "cell_type": "code",
   "execution_count": null,
   "id": "83f574dc",
   "metadata": {},
   "outputs": [],
   "source": []
  },
  {
   "cell_type": "code",
   "execution_count": null,
   "id": "1bbad70e",
   "metadata": {},
   "outputs": [],
   "source": []
  },
  {
   "cell_type": "code",
   "execution_count": null,
   "id": "1072c4a2",
   "metadata": {},
   "outputs": [],
   "source": []
  },
  {
   "cell_type": "code",
   "execution_count": null,
   "id": "1d43c98a",
   "metadata": {},
   "outputs": [],
   "source": []
  },
  {
   "cell_type": "code",
   "execution_count": null,
   "id": "3ac76abb",
   "metadata": {},
   "outputs": [],
   "source": []
  },
  {
   "cell_type": "code",
   "execution_count": null,
   "id": "c23927f4",
   "metadata": {},
   "outputs": [],
   "source": []
  },
  {
   "cell_type": "code",
   "execution_count": null,
   "id": "0cfd0468",
   "metadata": {},
   "outputs": [],
   "source": []
  },
  {
   "cell_type": "code",
   "execution_count": null,
   "id": "b87e96ba",
   "metadata": {},
   "outputs": [],
   "source": []
  }
 ],
 "metadata": {
  "kernelspec": {
   "display_name": "Python 3",
   "language": "python",
   "name": "python3"
  },
  "language_info": {
   "codemirror_mode": {
    "name": "ipython",
    "version": 3
   },
   "file_extension": ".py",
   "mimetype": "text/x-python",
   "name": "python",
   "nbconvert_exporter": "python",
   "pygments_lexer": "ipython3",
   "version": "3.8.8"
  }
 },
 "nbformat": 4,
 "nbformat_minor": 5
}
