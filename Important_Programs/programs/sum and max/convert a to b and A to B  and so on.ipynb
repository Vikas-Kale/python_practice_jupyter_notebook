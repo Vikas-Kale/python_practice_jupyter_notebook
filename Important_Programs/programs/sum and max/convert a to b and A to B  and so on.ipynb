{
 "cells": [
  {
   "cell_type": "markdown",
   "id": "1606e5e5",
   "metadata": {},
   "source": [
    "## Write a program when input='a' then output should be 'b' and when 'A' then 'B'\n"
   ]
  },
  {
   "cell_type": "code",
   "execution_count": 6,
   "id": "f87b1683",
   "metadata": {},
   "outputs": [
    {
     "name": "stdout",
     "output_type": "stream",
     "text": [
      "c\n"
     ]
    }
   ],
   "source": [
    "x=input()\n",
    "c=lambda x:ord(x+1)\n",
    "\n"
   ]
  },
  {
   "cell_type": "code",
   "execution_count": 12,
   "id": "2a991bcb",
   "metadata": {},
   "outputs": [
    {
     "name": "stdout",
     "output_type": "stream",
     "text": [
      "A\n",
      "B\n"
     ]
    }
   ],
   "source": [
    "# num=input()     # a\n",
    "n1=ord(input())   # \n",
    "re=n1+1\n",
    "re1=chr(re)\n",
    "print(re1)"
   ]
  },
  {
   "cell_type": "code",
   "execution_count": null,
   "id": "c2b4e9f2",
   "metadata": {},
   "outputs": [],
   "source": []
  },
  {
   "cell_type": "code",
   "execution_count": 1,
   "id": "e8388b17",
   "metadata": {},
   "outputs": [
    {
     "data": {
      "text/plain": [
       "97"
      ]
     },
     "execution_count": 1,
     "metadata": {},
     "output_type": "execute_result"
    }
   ],
   "source": [
    "ord('a')"
   ]
  },
  {
   "cell_type": "code",
   "execution_count": 2,
   "id": "fc12b8d9",
   "metadata": {},
   "outputs": [
    {
     "data": {
      "text/plain": [
       "98"
      ]
     },
     "execution_count": 2,
     "metadata": {},
     "output_type": "execute_result"
    }
   ],
   "source": [
    "ord(\"b\")"
   ]
  },
  {
   "cell_type": "code",
   "execution_count": 3,
   "id": "e7be6c03",
   "metadata": {},
   "outputs": [
    {
     "data": {
      "text/plain": [
       "'a'"
      ]
     },
     "execution_count": 3,
     "metadata": {},
     "output_type": "execute_result"
    }
   ],
   "source": [
    "chr(97)"
   ]
  },
  {
   "cell_type": "code",
   "execution_count": 9,
   "id": "a86fef4a",
   "metadata": {},
   "outputs": [
    {
     "data": {
      "text/plain": [
       "'b'"
      ]
     },
     "execution_count": 9,
     "metadata": {},
     "output_type": "execute_result"
    }
   ],
   "source": [
    "chr(98)"
   ]
  },
  {
   "cell_type": "code",
   "execution_count": 13,
   "id": "3387eca6",
   "metadata": {},
   "outputs": [
    {
     "name": "stdout",
     "output_type": "stream",
     "text": [
      "d\n",
      "e\n"
     ]
    }
   ],
   "source": [
    "n1=ord(input())   \n",
    "re=n1+1\n",
    "re1=chr(re)\n",
    "print(re1)"
   ]
  },
  {
   "cell_type": "code",
   "execution_count": 17,
   "id": "5ff940bc",
   "metadata": {},
   "outputs": [
    {
     "name": "stdout",
     "output_type": "stream",
     "text": [
      "q\n",
      "r\n"
     ]
    }
   ],
   "source": [
    "re2=chr((ord(input())+1))\n",
    "print(re2)"
   ]
  },
  {
   "cell_type": "code",
   "execution_count": 18,
   "id": "3da04521",
   "metadata": {},
   "outputs": [
    {
     "name": "stdout",
     "output_type": "stream",
     "text": [
      "a\n",
      "b\n"
     ]
    }
   ],
   "source": [
    "print(chr((ord(input())+1)))"
   ]
  },
  {
   "cell_type": "code",
   "execution_count": 21,
   "id": "5cd70759",
   "metadata": {},
   "outputs": [
    {
     "name": "stdout",
     "output_type": "stream",
     "text": [
      "M\n",
      "N\n"
     ]
    }
   ],
   "source": [
    "print(chr((ord(input())+1)))"
   ]
  },
  {
   "cell_type": "code",
   "execution_count": 29,
   "id": "1ff159f2",
   "metadata": {},
   "outputs": [
    {
     "name": "stdout",
     "output_type": "stream",
     "text": [
      "5\n"
     ]
    }
   ],
   "source": [
    "if 5 >2:\n",
    "                        print(5)\n",
    "else:\n",
    "   print(2)\n",
    "   print(56)"
   ]
  },
  {
   "cell_type": "code",
   "execution_count": null,
   "id": "1585e90a",
   "metadata": {},
   "outputs": [],
   "source": []
  }
 ],
 "metadata": {
  "kernelspec": {
   "display_name": "Python 3",
   "language": "python",
   "name": "python3"
  },
  "language_info": {
   "codemirror_mode": {
    "name": "ipython",
    "version": 3
   },
   "file_extension": ".py",
   "mimetype": "text/x-python",
   "name": "python",
   "nbconvert_exporter": "python",
   "pygments_lexer": "ipython3",
   "version": "3.8.8"
  }
 },
 "nbformat": 4,
 "nbformat_minor": 5
}
