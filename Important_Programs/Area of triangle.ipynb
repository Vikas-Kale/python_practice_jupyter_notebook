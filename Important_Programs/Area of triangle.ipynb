{
 "cells": [
  {
   "cell_type": "markdown",
   "id": "30b08814",
   "metadata": {},
   "source": [
    "## Write a program to calculate area of triangle."
   ]
  },
  {
   "cell_type": "code",
   "execution_count": 1,
   "id": "cd6808ed",
   "metadata": {},
   "outputs": [],
   "source": [
    "def area_of_triangle(h,b):\n",
    "    \"\"\"\n",
    "    Return area of triangle with height and base.\n",
    "    formula:- (1/2)*h*b\n",
    "    \n",
    "    \"\"\"\n",
    "    area=(1/2)*h*b\n",
    "    return area\n"
   ]
  },
  {
   "cell_type": "code",
   "execution_count": 2,
   "id": "484799a4",
   "metadata": {},
   "outputs": [
    {
     "data": {
      "text/plain": [
       "9.0"
      ]
     },
     "execution_count": 2,
     "metadata": {},
     "output_type": "execute_result"
    }
   ],
   "source": [
    "area_of_triangle(3,6)"
   ]
  },
  {
   "cell_type": "code",
   "execution_count": 3,
   "id": "5083e596",
   "metadata": {},
   "outputs": [
    {
     "name": "stdout",
     "output_type": "stream",
     "text": [
      "Help on function area_of_triangle in module __main__:\n",
      "\n",
      "area_of_triangle(h, b)\n",
      "    Return area of triangle with height and base.\n",
      "    formula:- (1/2)*h*b\n",
      "\n"
     ]
    }
   ],
   "source": [
    "help(area_of_triangle)"
   ]
  },
  {
   "cell_type": "markdown",
   "id": "dfc8e539",
   "metadata": {},
   "source": [
    "## Using Lambda function"
   ]
  },
  {
   "cell_type": "code",
   "execution_count": 4,
   "id": "7ba6b82d",
   "metadata": {},
   "outputs": [],
   "source": [
    "result=lambda h,b:(1/2)*h*b"
   ]
  },
  {
   "cell_type": "code",
   "execution_count": 5,
   "id": "bbdac82c",
   "metadata": {},
   "outputs": [
    {
     "data": {
      "text/plain": [
       "9.0"
      ]
     },
     "execution_count": 5,
     "metadata": {},
     "output_type": "execute_result"
    }
   ],
   "source": [
    "result(3,6)"
   ]
  },
  {
   "cell_type": "code",
   "execution_count": null,
   "id": "d6a9341d",
   "metadata": {},
   "outputs": [],
   "source": []
  }
 ],
 "metadata": {
  "kernelspec": {
   "display_name": "Python 3",
   "language": "python",
   "name": "python3"
  },
  "language_info": {
   "codemirror_mode": {
    "name": "ipython",
    "version": 3
   },
   "file_extension": ".py",
   "mimetype": "text/x-python",
   "name": "python",
   "nbconvert_exporter": "python",
   "pygments_lexer": "ipython3",
   "version": "3.8.8"
  }
 },
 "nbformat": 4,
 "nbformat_minor": 5
}
