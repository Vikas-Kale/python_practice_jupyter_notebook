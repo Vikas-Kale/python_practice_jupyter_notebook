{
 "cells": [
  {
   "cell_type": "code",
   "execution_count": null,
   "id": "298134cf",
   "metadata": {},
   "outputs": [],
   "source": [
    "# Frontend\n",
    "# We can built websites using HTML,CSS,JAVACRIPTS \n",
    "\n",
    "HTML ---> Design the page.\n",
    "CSS ----> Improve design and uniformity in design \n",
    "Javascripts --> to make your website interactive"
   ]
  },
  {
   "cell_type": "code",
   "execution_count": null,
   "id": "b7bebfa9",
   "metadata": {},
   "outputs": [],
   "source": [
    "# Backeend\n",
    "\n",
    "- servlet\n",
    "- javascript\n",
    "- php\n",
    "- ASP\n",
    "- Python :\n",
    "    in python we use Django to built web application the backend part."
   ]
  },
  {
   "cell_type": "markdown",
   "id": "c2a0794c",
   "metadata": {},
   "source": [
    "# In web application one thing is very famous MVC --> Model View Controller\n",
    "- This is common for all bakend frameworks.\n",
    "- Model --> for data\n",
    "- View ---> for HTML format we see on screen.\n",
    "- Controller --> To control this operation.\n",
    "\n",
    "# `In Django we have MVT which is similar to MVC`.\n",
    "\n"
   ]
  },
  {
   "cell_type": "markdown",
   "id": "275db643",
   "metadata": {},
   "source": [
    "- `Model View Template`(MVT)"
   ]
  },
  {
   "cell_type": "code",
   "execution_count": null,
   "id": "e82c6d20",
   "metadata": {},
   "outputs": [],
   "source": [
    "# Why use Django if there are other frameworks.\n",
    "\n",
    "- Because it is `fast`. it help to built web application faster.\n",
    "- Components (built-in)\n",
    "- Security\n",
    "- Scalabilty\n"
   ]
  }
 ],
 "metadata": {
  "kernelspec": {
   "display_name": "Python 3",
   "language": "python",
   "name": "python3"
  },
  "language_info": {
   "codemirror_mode": {
    "name": "ipython",
    "version": 3
   },
   "file_extension": ".py",
   "mimetype": "text/x-python",
   "name": "python",
   "nbconvert_exporter": "python",
   "pygments_lexer": "ipython3",
   "version": "3.8.8"
  }
 },
 "nbformat": 4,
 "nbformat_minor": 5
}
