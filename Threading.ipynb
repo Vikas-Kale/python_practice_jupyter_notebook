{
 "cells": [
  {
   "cell_type": "code",
   "execution_count": 3,
   "id": "dad9b4ae",
   "metadata": {},
   "outputs": [],
   "source": [
    "import threading"
   ]
  },
  {
   "cell_type": "code",
   "execution_count": 4,
   "id": "e23221fc",
   "metadata": {},
   "outputs": [
    {
     "ename": "SyntaxError",
     "evalue": "invalid syntax (<ipython-input-4-c904dea43c84>, line 12)",
     "output_type": "error",
     "traceback": [
      "\u001b[1;36m  File \u001b[1;32m\"<ipython-input-4-c904dea43c84>\"\u001b[1;36m, line \u001b[1;32m12\u001b[0m\n\u001b[1;33m    print(\"####################\")\u001b[0m\n\u001b[1;37m    ^\u001b[0m\n\u001b[1;31mSyntaxError\u001b[0m\u001b[1;31m:\u001b[0m invalid syntax\n"
     ]
    }
   ],
   "source": [
    "def addition():\n",
    "    a=100\n",
    "    b=200\n",
    "    print(\"Total number of threads in:\",threading.enumerate())\n",
    "    print(\"Total number of thread active:\",threading.active_count())\n",
    "    \n",
    "    import time\n",
    "    \n",
    "    time.sleep(10)\n",
    "    \n",
    "    print(\"Addintion {} and get current thread name {} \".format(a+b,threading.current_thread().getName())\n",
    "    print(\"####################\")\n",
    "    print(\"Total number of threads in:\",threading.enumerate())\n",
    "    print(\"Total number of thread active:\",threading.active_count())     "
   ]
  },
  {
   "cell_type": "code",
   "execution_count": null,
   "id": "2c95a7a8",
   "metadata": {},
   "outputs": [],
   "source": [
    "class ChildThreadEx(threading.thread):\n",
    "    def addition(self):\n",
    "        a=50\n",
    "        b=20\n",
    "        print(\"asition is \",a+b)\n",
    "        print(\"Current thread name\",threading.current_thread().getName())\n",
    "        \n",
    "    def compute_addition(self):\n",
    "        print(\"calling addition method and count of threads are\",threading.active_count())\n",
    "        self.addition\n",
    "        \n",
    "    def run(self):\n",
    "        print(\"calling compute addition method and count of threads are\",the)"
   ]
  },
  {
   "cell_type": "code",
   "execution_count": null,
   "id": "fab1b782",
   "metadata": {},
   "outputs": [],
   "source": []
  }
 ],
 "metadata": {
  "kernelspec": {
   "display_name": "Python 3",
   "language": "python",
   "name": "python3"
  },
  "language_info": {
   "codemirror_mode": {
    "name": "ipython",
    "version": 3
   },
   "file_extension": ".py",
   "mimetype": "text/x-python",
   "name": "python",
   "nbconvert_exporter": "python",
   "pygments_lexer": "ipython3",
   "version": "3.8.8"
  }
 },
 "nbformat": 4,
 "nbformat_minor": 5
}
