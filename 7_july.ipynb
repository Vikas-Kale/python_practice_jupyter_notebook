{
 "cells": [
  {
   "cell_type": "code",
   "execution_count": 1,
   "id": "280d8b37",
   "metadata": {},
   "outputs": [],
   "source": [
    "num=10\n"
   ]
  },
  {
   "cell_type": "code",
   "execution_count": 1,
   "id": "61dc2afa",
   "metadata": {},
   "outputs": [
    {
     "name": "stdout",
     "output_type": "stream",
     "text": [
      "vikas kale\n"
     ]
    }
   ],
   "source": [
    "print(\"vikas kale\")"
   ]
  },
  {
   "cell_type": "code",
   "execution_count": 2,
   "id": "073d0ad8",
   "metadata": {},
   "outputs": [
    {
     "data": {
      "text/plain": [
       "builtin_function_or_method"
      ]
     },
     "execution_count": 2,
     "metadata": {},
     "output_type": "execute_result"
    }
   ],
   "source": [
    "type(print)"
   ]
  },
  {
   "cell_type": "code",
   "execution_count": 2,
   "id": "b1ab548d",
   "metadata": {},
   "outputs": [
    {
     "data": {
      "text/plain": [
       "int"
      ]
     },
     "execution_count": 2,
     "metadata": {},
     "output_type": "execute_result"
    }
   ],
   "source": [
    "type(num)"
   ]
  },
  {
   "cell_type": "code",
   "execution_count": 3,
   "id": "4f11c571",
   "metadata": {},
   "outputs": [],
   "source": [
    "num=(\"vikas\")"
   ]
  },
  {
   "cell_type": "code",
   "execution_count": 4,
   "id": "dc107d04",
   "metadata": {},
   "outputs": [
    {
     "data": {
      "text/plain": [
       "str"
      ]
     },
     "execution_count": 4,
     "metadata": {},
     "output_type": "execute_result"
    }
   ],
   "source": [
    "type(num)"
   ]
  },
  {
   "cell_type": "code",
   "execution_count": 10,
   "id": "02def18e",
   "metadata": {},
   "outputs": [],
   "source": [
    "num=(44.3)"
   ]
  },
  {
   "cell_type": "code",
   "execution_count": 11,
   "id": "9b484ccf",
   "metadata": {},
   "outputs": [
    {
     "data": {
      "text/plain": [
       "float"
      ]
     },
     "execution_count": 11,
     "metadata": {},
     "output_type": "execute_result"
    }
   ],
   "source": [
    "type(num)"
   ]
  },
  {
   "cell_type": "code",
   "execution_count": 14,
   "id": "8602d712",
   "metadata": {},
   "outputs": [
    {
     "name": "stdout",
     "output_type": "stream",
     "text": [
      "44.3\n"
     ]
    }
   ],
   "source": [
    "print(num)"
   ]
  },
  {
   "cell_type": "code",
   "execution_count": 15,
   "id": "93da433a",
   "metadata": {},
   "outputs": [
    {
     "data": {
      "text/plain": [
       "float"
      ]
     },
     "execution_count": 15,
     "metadata": {},
     "output_type": "execute_result"
    }
   ],
   "source": [
    "type(num)"
   ]
  },
  {
   "cell_type": "code",
   "execution_count": 16,
   "id": "c3e4a071",
   "metadata": {},
   "outputs": [],
   "source": [
    "course_name=\"Python ds\""
   ]
  },
  {
   "cell_type": "code",
   "execution_count": 18,
   "id": "4d9b9933",
   "metadata": {},
   "outputs": [
    {
     "data": {
      "text/plain": [
       "'Python ds'"
      ]
     },
     "execution_count": 18,
     "metadata": {},
     "output_type": "execute_result"
    }
   ],
   "source": [
    "course_name"
   ]
  },
  {
   "cell_type": "code",
   "execution_count": 19,
   "id": "6b039ba1",
   "metadata": {},
   "outputs": [
    {
     "data": {
      "text/plain": [
       "str"
      ]
     },
     "execution_count": 19,
     "metadata": {},
     "output_type": "execute_result"
    }
   ],
   "source": [
    "type(course_name)"
   ]
  },
  {
   "cell_type": "code",
   "execution_count": 20,
   "id": "93a6b081",
   "metadata": {},
   "outputs": [
    {
     "name": "stdout",
     "output_type": "stream",
     "text": [
      "Enter Some Value80\n"
     ]
    },
    {
     "data": {
      "text/plain": [
       "'80'"
      ]
     },
     "execution_count": 20,
     "metadata": {},
     "output_type": "execute_result"
    }
   ],
   "source": [
    "input(\"Enter Some Value\")"
   ]
  },
  {
   "cell_type": "code",
   "execution_count": 26,
   "id": "fa8e3657",
   "metadata": {},
   "outputs": [
    {
     "name": "stdout",
     "output_type": "stream",
     "text": [
      "Enter Some Value100\n"
     ]
    }
   ],
   "source": [
    "number=input(\"Enter Some Value\")"
   ]
  },
  {
   "cell_type": "code",
   "execution_count": 22,
   "id": "2d8340f5",
   "metadata": {},
   "outputs": [
    {
     "data": {
      "text/plain": [
       "'100'"
      ]
     },
     "execution_count": 22,
     "metadata": {},
     "output_type": "execute_result"
    }
   ],
   "source": [
    "number"
   ]
  },
  {
   "cell_type": "code",
   "execution_count": 24,
   "id": "6bb66996",
   "metadata": {},
   "outputs": [
    {
     "data": {
      "text/plain": [
       "str"
      ]
     },
     "execution_count": 24,
     "metadata": {},
     "output_type": "execute_result"
    }
   ],
   "source": [
    "type(number)"
   ]
  },
  {
   "cell_type": "code",
   "execution_count": 27,
   "id": "653f4479",
   "metadata": {},
   "outputs": [
    {
     "name": "stdout",
     "output_type": "stream",
     "text": [
      "Enter Some Value700\n"
     ]
    }
   ],
   "source": [
    "number=int(input(\"Enter Some Value\"))"
   ]
  },
  {
   "cell_type": "code",
   "execution_count": 28,
   "id": "c37b324c",
   "metadata": {},
   "outputs": [
    {
     "data": {
      "text/plain": [
       "int"
      ]
     },
     "execution_count": 28,
     "metadata": {},
     "output_type": "execute_result"
    }
   ],
   "source": [
    "type(number)"
   ]
  },
  {
   "cell_type": "code",
   "execution_count": 31,
   "id": "d16cc289",
   "metadata": {},
   "outputs": [
    {
     "data": {
      "text/plain": [
       "str"
      ]
     },
     "execution_count": 31,
     "metadata": {},
     "output_type": "execute_result"
    }
   ],
   "source": [
    "type(\"tg\")"
   ]
  },
  {
   "cell_type": "code",
   "execution_count": 32,
   "id": "12e9c6e9",
   "metadata": {},
   "outputs": [],
   "source": [
    "name=\"vikas\""
   ]
  },
  {
   "cell_type": "code",
   "execution_count": 37,
   "id": "cce776e6",
   "metadata": {},
   "outputs": [
    {
     "name": "stdout",
     "output_type": "stream",
     "text": [
      "Help on built-in function dir in module builtins:\n",
      "\n",
      "dir(...)\n",
      "    dir([object]) -> list of strings\n",
      "    \n",
      "    If called without an argument, return the names in the current scope.\n",
      "    Else, return an alphabetized list of names comprising (some of) the attributes\n",
      "    of the given object, and of attributes reachable from it.\n",
      "    If the object supplies a method named __dir__, it will be used; otherwise\n",
      "    the default dir() logic is used and returns:\n",
      "      for a module object: the module's attributes.\n",
      "      for a class object:  its attributes, and recursively the attributes\n",
      "        of its bases.\n",
      "      for any other object: its attributes, its class's attributes, and\n",
      "        recursively the attributes of its class's base classes.\n",
      "\n"
     ]
    }
   ],
   "source": [
    "help(dir)"
   ]
  },
  {
   "cell_type": "code",
   "execution_count": 1,
   "id": "eaf902be",
   "metadata": {},
   "outputs": [
    {
     "name": "stdout",
     "output_type": "stream",
     "text": [
      "['__add__', '__class__', '__contains__', '__delattr__', '__dir__', '__doc__', '__eq__', '__format__', '__ge__', '__getattribute__', '__getitem__', '__getnewargs__', '__gt__', '__hash__', '__init__', '__init_subclass__', '__iter__', '__le__', '__len__', '__lt__', '__mod__', '__mul__', '__ne__', '__new__', '__reduce__', '__reduce_ex__', '__repr__', '__rmod__', '__rmul__', '__setattr__', '__sizeof__', '__str__', '__subclasshook__', 'capitalize', 'casefold', 'center', 'count', 'encode', 'endswith', 'expandtabs', 'find', 'format', 'format_map', 'index', 'isalnum', 'isalpha', 'isascii', 'isdecimal', 'isdigit', 'isidentifier', 'islower', 'isnumeric', 'isprintable', 'isspace', 'istitle', 'isupper', 'join', 'ljust', 'lower', 'lstrip', 'maketrans', 'partition', 'replace', 'rfind', 'rindex', 'rjust', 'rpartition', 'rsplit', 'rstrip', 'split', 'splitlines', 'startswith', 'strip', 'swapcase', 'title', 'translate', 'upper', 'zfill']\n"
     ]
    }
   ],
   "source": [
    "print(dir(str))"
   ]
  },
  {
   "cell_type": "code",
   "execution_count": 9,
   "id": "0307bcba",
   "metadata": {},
   "outputs": [],
   "source": [
    "course_name=\"Python ds\""
   ]
  },
  {
   "cell_type": "code",
   "execution_count": 10,
   "id": "3c381838",
   "metadata": {},
   "outputs": [
    {
     "data": {
      "text/plain": [
       "'Python ds'"
      ]
     },
     "execution_count": 10,
     "metadata": {},
     "output_type": "execute_result"
    }
   ],
   "source": [
    "course_name"
   ]
  },
  {
   "cell_type": "code",
   "execution_count": 11,
   "id": "0fedcdee",
   "metadata": {},
   "outputs": [
    {
     "data": {
      "text/plain": [
       "'PYTHON DS'"
      ]
     },
     "execution_count": 11,
     "metadata": {},
     "output_type": "execute_result"
    }
   ],
   "source": [
    "course_name.upper()"
   ]
  },
  {
   "cell_type": "code",
   "execution_count": 12,
   "id": "37c9a57f",
   "metadata": {},
   "outputs": [],
   "source": [
    "project_name=\"python_programming\""
   ]
  },
  {
   "cell_type": "code",
   "execution_count": 13,
   "id": "d5b999c8",
   "metadata": {},
   "outputs": [
    {
     "data": {
      "text/plain": [
       "'python_programming'"
      ]
     },
     "execution_count": 13,
     "metadata": {},
     "output_type": "execute_result"
    }
   ],
   "source": [
    "project_name"
   ]
  },
  {
   "cell_type": "code",
   "execution_count": 14,
   "id": "dc57f054",
   "metadata": {},
   "outputs": [
    {
     "data": {
      "text/plain": [
       "'PYTHON_PROGRAMMING'"
      ]
     },
     "execution_count": 14,
     "metadata": {},
     "output_type": "execute_result"
    }
   ],
   "source": [
    "project_name.upper()"
   ]
  },
  {
   "cell_type": "code",
   "execution_count": 16,
   "id": "f2e7e4aa",
   "metadata": {},
   "outputs": [
    {
     "name": "stdout",
     "output_type": "stream",
     "text": [
      "Help on method_descriptor:\n",
      "\n",
      "upper(self, /)\n",
      "    Return a copy of the string converted to uppercase.\n",
      "\n"
     ]
    }
   ],
   "source": [
    "help(str.upper)"
   ]
  },
  {
   "cell_type": "code",
   "execution_count": 17,
   "id": "ca40ec01",
   "metadata": {},
   "outputs": [
    {
     "name": "stdout",
     "output_type": "stream",
     "text": [
      "Help on method_descriptor:\n",
      "\n",
      "lower(self, /)\n",
      "    Return a copy of the string converted to lowercase.\n",
      "\n"
     ]
    }
   ],
   "source": [
    "help(str.lower)"
   ]
  },
  {
   "cell_type": "code",
   "execution_count": 18,
   "id": "7c8083eb",
   "metadata": {},
   "outputs": [
    {
     "data": {
      "text/plain": [
       "'python ds'"
      ]
     },
     "execution_count": 18,
     "metadata": {},
     "output_type": "execute_result"
    }
   ],
   "source": [
    "course_name.lower()"
   ]
  },
  {
   "cell_type": "code",
   "execution_count": 19,
   "id": "c2fa6996",
   "metadata": {},
   "outputs": [
    {
     "data": {
      "text/plain": [
       "'Python ds'"
      ]
     },
     "execution_count": 19,
     "metadata": {},
     "output_type": "execute_result"
    }
   ],
   "source": [
    "course_name"
   ]
  },
  {
   "cell_type": "code",
   "execution_count": 20,
   "id": "ced924fe",
   "metadata": {},
   "outputs": [
    {
     "data": {
      "text/plain": [
       "'python_programming'"
      ]
     },
     "execution_count": 20,
     "metadata": {},
     "output_type": "execute_result"
    }
   ],
   "source": [
    "project_name.lower()"
   ]
  },
  {
   "cell_type": "code",
   "execution_count": 21,
   "id": "a354e8fc",
   "metadata": {},
   "outputs": [
    {
     "name": "stdout",
     "output_type": "stream",
     "text": [
      "Help on method_descriptor:\n",
      "\n",
      "partition(self, sep, /)\n",
      "    Partition the string into three parts using the given separator.\n",
      "    \n",
      "    This will search for the separator in the string.  If the separator is found,\n",
      "    returns a 3-tuple containing the part before the separator, the separator\n",
      "    itself, and the part after it.\n",
      "    \n",
      "    If the separator is not found, returns a 3-tuple containing the original string\n",
      "    and two empty strings.\n",
      "\n"
     ]
    }
   ],
   "source": [
    "help(str.partition)"
   ]
  },
  {
   "cell_type": "code",
   "execution_count": 22,
   "id": "90ed088d",
   "metadata": {},
   "outputs": [
    {
     "name": "stdout",
     "output_type": "stream",
     "text": [
      "Help on method_descriptor:\n",
      "\n",
      "title(self, /)\n",
      "    Return a version of the string where each word is titlecased.\n",
      "    \n",
      "    More specifically, words start with uppercased characters and all remaining\n",
      "    cased characters have lower case.\n",
      "\n"
     ]
    }
   ],
   "source": [
    "help(str.title)"
   ]
  },
  {
   "cell_type": "code",
   "execution_count": 23,
   "id": "608218bd",
   "metadata": {},
   "outputs": [
    {
     "data": {
      "text/plain": [
       "'Python Ds'"
      ]
     },
     "execution_count": 23,
     "metadata": {},
     "output_type": "execute_result"
    }
   ],
   "source": [
    "course_name.title()"
   ]
  },
  {
   "cell_type": "code",
   "execution_count": 24,
   "id": "3a0ab5ee",
   "metadata": {},
   "outputs": [
    {
     "data": {
      "text/plain": [
       "'Python_Programming'"
      ]
     },
     "execution_count": 24,
     "metadata": {},
     "output_type": "execute_result"
    }
   ],
   "source": [
    "project_name.title()"
   ]
  },
  {
   "cell_type": "code",
   "execution_count": 25,
   "id": "3ee62147",
   "metadata": {},
   "outputs": [
    {
     "data": {
      "text/plain": [
       "'PYTHON_PROGRAMMING'"
      ]
     },
     "execution_count": 25,
     "metadata": {},
     "output_type": "execute_result"
    }
   ],
   "source": [
    "project_name.upper()"
   ]
  },
  {
   "cell_type": "code",
   "execution_count": 26,
   "id": "4c60968c",
   "metadata": {},
   "outputs": [
    {
     "data": {
      "text/plain": [
       "'python_programming'"
      ]
     },
     "execution_count": 26,
     "metadata": {},
     "output_type": "execute_result"
    }
   ],
   "source": [
    "project_name"
   ]
  },
  {
   "cell_type": "code",
   "execution_count": 38,
   "id": "6b7cb0c4",
   "metadata": {},
   "outputs": [],
   "source": [
    "project_name=project_name.lower()"
   ]
  },
  {
   "cell_type": "code",
   "execution_count": 28,
   "id": "cd8d18a2",
   "metadata": {},
   "outputs": [
    {
     "data": {
      "text/plain": [
       "'PYTHON_PROGRAMMING'"
      ]
     },
     "execution_count": 28,
     "metadata": {},
     "output_type": "execute_result"
    }
   ],
   "source": [
    "project_name"
   ]
  },
  {
   "cell_type": "code",
   "execution_count": 29,
   "id": "3bcd602a",
   "metadata": {},
   "outputs": [
    {
     "data": {
      "text/plain": [
       "'python_programming'"
      ]
     },
     "execution_count": 29,
     "metadata": {},
     "output_type": "execute_result"
    }
   ],
   "source": [
    "project_name.lower()"
   ]
  },
  {
   "cell_type": "code",
   "execution_count": 30,
   "id": "c784a9de",
   "metadata": {},
   "outputs": [
    {
     "data": {
      "text/plain": [
       "'PYTHON_PROGRAMMING'"
      ]
     },
     "execution_count": 30,
     "metadata": {},
     "output_type": "execute_result"
    }
   ],
   "source": [
    "project_name"
   ]
  },
  {
   "cell_type": "code",
   "execution_count": 31,
   "id": "28ff2046",
   "metadata": {},
   "outputs": [
    {
     "data": {
      "text/plain": [
       "'Python ds'"
      ]
     },
     "execution_count": 31,
     "metadata": {},
     "output_type": "execute_result"
    }
   ],
   "source": [
    "course_name"
   ]
  },
  {
   "cell_type": "code",
   "execution_count": 32,
   "id": "fe40b377",
   "metadata": {},
   "outputs": [],
   "source": [
    "course_name=course_name.lower()"
   ]
  },
  {
   "cell_type": "code",
   "execution_count": 33,
   "id": "10a34bf0",
   "metadata": {},
   "outputs": [
    {
     "data": {
      "text/plain": [
       "'python ds'"
      ]
     },
     "execution_count": 33,
     "metadata": {},
     "output_type": "execute_result"
    }
   ],
   "source": [
    "course_name"
   ]
  },
  {
   "cell_type": "code",
   "execution_count": 34,
   "id": "9ad662e5",
   "metadata": {},
   "outputs": [
    {
     "data": {
      "text/plain": [
       "'PYTHON DS'"
      ]
     },
     "execution_count": 34,
     "metadata": {},
     "output_type": "execute_result"
    }
   ],
   "source": [
    "course_name.upper()"
   ]
  },
  {
   "cell_type": "code",
   "execution_count": 35,
   "id": "0d063ec6",
   "metadata": {},
   "outputs": [
    {
     "data": {
      "text/plain": [
       "'python ds'"
      ]
     },
     "execution_count": 35,
     "metadata": {},
     "output_type": "execute_result"
    }
   ],
   "source": [
    "course_name"
   ]
  },
  {
   "cell_type": "code",
   "execution_count": 36,
   "id": "edcd4a19",
   "metadata": {},
   "outputs": [
    {
     "name": "stdout",
     "output_type": "stream",
     "text": [
      "Help on method_descriptor:\n",
      "\n",
      "istitle(self, /)\n",
      "    Return True if the string is a title-cased string, False otherwise.\n",
      "    \n",
      "    In a title-cased string, upper- and title-case characters may only\n",
      "    follow uncased characters and lowercase characters only cased ones.\n",
      "\n"
     ]
    }
   ],
   "source": [
    "help(str.istitle)"
   ]
  },
  {
   "cell_type": "code",
   "execution_count": 37,
   "id": "e0f5e052",
   "metadata": {},
   "outputs": [
    {
     "data": {
      "text/plain": [
       "False"
      ]
     },
     "execution_count": 37,
     "metadata": {},
     "output_type": "execute_result"
    }
   ],
   "source": [
    "project_name.istitle()"
   ]
  },
  {
   "cell_type": "code",
   "execution_count": 39,
   "id": "9fa2356d",
   "metadata": {},
   "outputs": [
    {
     "data": {
      "text/plain": [
       "False"
      ]
     },
     "execution_count": 39,
     "metadata": {},
     "output_type": "execute_result"
    }
   ],
   "source": [
    "project_name.istitle()"
   ]
  },
  {
   "cell_type": "code",
   "execution_count": 40,
   "id": "b708d0cf",
   "metadata": {},
   "outputs": [
    {
     "data": {
      "text/plain": [
       "False"
      ]
     },
     "execution_count": 40,
     "metadata": {},
     "output_type": "execute_result"
    }
   ],
   "source": [
    "course_name.istitle()"
   ]
  },
  {
   "cell_type": "code",
   "execution_count": 41,
   "id": "c59fc6c4",
   "metadata": {},
   "outputs": [
    {
     "data": {
      "text/plain": [
       "'Python Ds'"
      ]
     },
     "execution_count": 41,
     "metadata": {},
     "output_type": "execute_result"
    }
   ],
   "source": [
    "course_name.title()"
   ]
  },
  {
   "cell_type": "code",
   "execution_count": 42,
   "id": "79e5b84d",
   "metadata": {},
   "outputs": [
    {
     "data": {
      "text/plain": [
       "False"
      ]
     },
     "execution_count": 42,
     "metadata": {},
     "output_type": "execute_result"
    }
   ],
   "source": [
    "course_name.istitle()"
   ]
  },
  {
   "cell_type": "code",
   "execution_count": 44,
   "id": "494bbf59",
   "metadata": {},
   "outputs": [
    {
     "data": {
      "text/plain": [
       "<function str.title()>"
      ]
     },
     "execution_count": 44,
     "metadata": {},
     "output_type": "execute_result"
    }
   ],
   "source": [
    "course_name"
   ]
  },
  {
   "cell_type": "code",
   "execution_count": 46,
   "id": "fcd2eac9",
   "metadata": {},
   "outputs": [
    {
     "data": {
      "text/plain": [
       "'Python Ds'"
      ]
     },
     "execution_count": 46,
     "metadata": {},
     "output_type": "execute_result"
    }
   ],
   "source": [
    "course_name()"
   ]
  },
  {
   "cell_type": "code",
   "execution_count": 52,
   "id": "dc6b767e",
   "metadata": {},
   "outputs": [],
   "source": [
    "a=23\n",
    "b=10"
   ]
  },
  {
   "cell_type": "code",
   "execution_count": 53,
   "id": "1b74b3eb",
   "metadata": {},
   "outputs": [
    {
     "data": {
      "text/plain": [
       "True"
      ]
     },
     "execution_count": 53,
     "metadata": {},
     "output_type": "execute_result"
    }
   ],
   "source": [
    "a>b"
   ]
  },
  {
   "cell_type": "code",
   "execution_count": 54,
   "id": "4364b490",
   "metadata": {},
   "outputs": [
    {
     "data": {
      "text/plain": [
       "33"
      ]
     },
     "execution_count": 54,
     "metadata": {},
     "output_type": "execute_result"
    }
   ],
   "source": [
    "a+b"
   ]
  },
  {
   "cell_type": "code",
   "execution_count": 55,
   "id": "a740cabc",
   "metadata": {},
   "outputs": [],
   "source": [
    "c=a+b"
   ]
  },
  {
   "cell_type": "code",
   "execution_count": 57,
   "id": "5abc4f7e",
   "metadata": {},
   "outputs": [
    {
     "data": {
      "text/plain": [
       "33"
      ]
     },
     "execution_count": 57,
     "metadata": {},
     "output_type": "execute_result"
    }
   ],
   "source": [
    "c"
   ]
  },
  {
   "cell_type": "code",
   "execution_count": 58,
   "id": "b21f51fc",
   "metadata": {},
   "outputs": [
    {
     "data": {
      "text/plain": [
       "33"
      ]
     },
     "execution_count": 58,
     "metadata": {},
     "output_type": "execute_result"
    }
   ],
   "source": [
    "33"
   ]
  },
  {
   "cell_type": "code",
   "execution_count": 59,
   "id": "8f5504e8",
   "metadata": {},
   "outputs": [
    {
     "data": {
      "text/plain": [
       "False"
      ]
     },
     "execution_count": 59,
     "metadata": {},
     "output_type": "execute_result"
    }
   ],
   "source": [
    "c<a"
   ]
  },
  {
   "cell_type": "code",
   "execution_count": 60,
   "id": "cb60c6ea",
   "metadata": {},
   "outputs": [
    {
     "data": {
      "text/plain": [
       "97"
      ]
     },
     "execution_count": 60,
     "metadata": {},
     "output_type": "execute_result"
    }
   ],
   "source": [
    "ord('a')"
   ]
  },
  {
   "cell_type": "code",
   "execution_count": 61,
   "id": "a9ac1cfe",
   "metadata": {},
   "outputs": [
    {
     "data": {
      "text/plain": [
       "98"
      ]
     },
     "execution_count": 61,
     "metadata": {},
     "output_type": "execute_result"
    }
   ],
   "source": [
    "ord('b')"
   ]
  },
  {
   "cell_type": "code",
   "execution_count": 63,
   "id": "9fb7fa00",
   "metadata": {},
   "outputs": [
    {
     "data": {
      "text/plain": [
       "65"
      ]
     },
     "execution_count": 63,
     "metadata": {},
     "output_type": "execute_result"
    }
   ],
   "source": [
    "ord('A')"
   ]
  },
  {
   "cell_type": "code",
   "execution_count": 64,
   "id": "6950aa9b",
   "metadata": {},
   "outputs": [
    {
     "data": {
      "text/plain": [
       "'N'"
      ]
     },
     "execution_count": 64,
     "metadata": {},
     "output_type": "execute_result"
    }
   ],
   "source": [
    "chr(78)"
   ]
  },
  {
   "cell_type": "code",
   "execution_count": 65,
   "id": "1159d64f",
   "metadata": {},
   "outputs": [
    {
     "data": {
      "text/plain": [
       "'\\x00'"
      ]
     },
     "execution_count": 65,
     "metadata": {},
     "output_type": "execute_result"
    }
   ],
   "source": [
    "chr(0)"
   ]
  },
  {
   "cell_type": "code",
   "execution_count": 66,
   "id": "cc0c89e3",
   "metadata": {},
   "outputs": [
    {
     "data": {
      "text/plain": [
       "'\\x01'"
      ]
     },
     "execution_count": 66,
     "metadata": {},
     "output_type": "execute_result"
    }
   ],
   "source": [
    "chr(1)"
   ]
  },
  {
   "cell_type": "code",
   "execution_count": 67,
   "id": "7ad15e75",
   "metadata": {},
   "outputs": [
    {
     "data": {
      "text/plain": [
       "'\\x05'"
      ]
     },
     "execution_count": 67,
     "metadata": {},
     "output_type": "execute_result"
    }
   ],
   "source": [
    "chr(5)"
   ]
  },
  {
   "cell_type": "code",
   "execution_count": 69,
   "id": "e4f1292e",
   "metadata": {},
   "outputs": [
    {
     "data": {
      "text/plain": [
       "'\\t'"
      ]
     },
     "execution_count": 69,
     "metadata": {},
     "output_type": "execute_result"
    }
   ],
   "source": [
    "chr(9)"
   ]
  },
  {
   "cell_type": "code",
   "execution_count": 70,
   "id": "6ce78bef",
   "metadata": {},
   "outputs": [
    {
     "data": {
      "text/plain": [
       "'Y'"
      ]
     },
     "execution_count": 70,
     "metadata": {},
     "output_type": "execute_result"
    }
   ],
   "source": [
    "chr(89)"
   ]
  },
  {
   "cell_type": "code",
   "execution_count": 79,
   "id": "84b6d0a8",
   "metadata": {},
   "outputs": [
    {
     "data": {
      "text/plain": [
       "0"
      ]
     },
     "execution_count": 79,
     "metadata": {},
     "output_type": "execute_result"
    }
   ],
   "source": [
    "nums"
   ]
  },
  {
   "cell_type": "code",
   "execution_count": null,
   "id": "ee16991a",
   "metadata": {},
   "outputs": [],
   "source": []
  },
  {
   "cell_type": "code",
   "execution_count": 80,
   "id": "48d23b76",
   "metadata": {},
   "outputs": [
    {
     "data": {
      "text/plain": [
       "0"
      ]
     },
     "execution_count": 80,
     "metadata": {},
     "output_type": "execute_result"
    }
   ],
   "source": [
    "nums"
   ]
  },
  {
   "cell_type": "code",
   "execution_count": 81,
   "id": "6ac2463b",
   "metadata": {},
   "outputs": [
    {
     "data": {
      "text/plain": [
       "[20, 45, 88, 98, 96]"
      ]
     },
     "execution_count": 81,
     "metadata": {},
     "output_type": "execute_result"
    }
   ],
   "source": [
    "[20,45,88,98,96]"
   ]
  },
  {
   "cell_type": "code",
   "execution_count": 82,
   "id": "e222f40c",
   "metadata": {},
   "outputs": [
    {
     "ename": "TypeError",
     "evalue": "'int' object is not subscriptable",
     "output_type": "error",
     "traceback": [
      "\u001b[1;31m---------------------------------------------------------------------------\u001b[0m",
      "\u001b[1;31mTypeError\u001b[0m                                 Traceback (most recent call last)",
      "\u001b[1;32m<ipython-input-82-3907b3281290>\u001b[0m in \u001b[0;36m<module>\u001b[1;34m\u001b[0m\n\u001b[1;32m----> 1\u001b[1;33m \u001b[0mnums\u001b[0m\u001b[1;33m[\u001b[0m\u001b[1;36m2\u001b[0m\u001b[1;33m]\u001b[0m\u001b[1;33m\u001b[0m\u001b[1;33m\u001b[0m\u001b[0m\n\u001b[0m",
      "\u001b[1;31mTypeError\u001b[0m: 'int' object is not subscriptable"
     ]
    }
   ],
   "source": [
    "nums[2]"
   ]
  },
  {
   "cell_type": "code",
   "execution_count": null,
   "id": "67a8d521",
   "metadata": {},
   "outputs": [],
   "source": []
  }
 ],
 "metadata": {
  "kernelspec": {
   "display_name": "Python 3",
   "language": "python",
   "name": "python3"
  },
  "language_info": {
   "codemirror_mode": {
    "name": "ipython",
    "version": 3
   },
   "file_extension": ".py",
   "mimetype": "text/x-python",
   "name": "python",
   "nbconvert_exporter": "python",
   "pygments_lexer": "ipython3",
   "version": "3.8.8"
  }
 },
 "nbformat": 4,
 "nbformat_minor": 5
}
