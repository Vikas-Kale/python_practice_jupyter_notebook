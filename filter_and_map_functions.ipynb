{
 "cells": [
  {
   "cell_type": "markdown",
   "id": "d0e8be1c",
   "metadata": {},
   "source": [
    "# Map\n",
    "- Applies the given function to all iterables and returns a new list.\n",
    "- Syntax:- \n",
    "           map(function,iterables)\n",
    "           \n",
    "-  The map() function executes a specified function for each item in an iterable. The item is sent to the function as a           parameter."
   ]
  },
  {
   "cell_type": "raw",
   "id": "34f4523b",
   "metadata": {},
   "source": [
    "map(funciton, iterable)\n",
    "\n",
    "function - can be anything user defined function or built-in functions.\n",
    "iterable - list, tuple, dict, set\n",
    "\n",
    "You need to typecast date datatype of map to iterable."
   ]
  },
  {
   "cell_type": "code",
   "execution_count": null,
   "id": "281b50d4",
   "metadata": {},
   "outputs": [],
   "source": []
  },
  {
   "cell_type": "code",
   "execution_count": 49,
   "id": "4f68e131",
   "metadata": {},
   "outputs": [],
   "source": [
    "def my_func(n):\n",
    "    return len(n)\n",
    "x=map(my_func,(\"Apple\",\"Banana\",\"Mango\",\"Grapes\"))"
   ]
  },
  {
   "cell_type": "code",
   "execution_count": 50,
   "id": "27cb2b83",
   "metadata": {},
   "outputs": [
    {
     "name": "stdout",
     "output_type": "stream",
     "text": [
      "<map object at 0x0000017922AF72E0>\n"
     ]
    }
   ],
   "source": [
    "print(x)"
   ]
  },
  {
   "cell_type": "code",
   "execution_count": 51,
   "id": "cb99c48b",
   "metadata": {},
   "outputs": [
    {
     "name": "stdout",
     "output_type": "stream",
     "text": [
      "[5, 6, 5, 6]\n"
     ]
    }
   ],
   "source": [
    "print(list(x))"
   ]
  },
  {
   "cell_type": "code",
   "execution_count": 70,
   "id": "6fe6b719",
   "metadata": {},
   "outputs": [],
   "source": [
    "def addition(n):\n",
    "    return n+n\n",
    "add=tuple(map(addition,(4,8)))"
   ]
  },
  {
   "cell_type": "code",
   "execution_count": 73,
   "id": "5b4e18bc",
   "metadata": {},
   "outputs": [
    {
     "name": "stdout",
     "output_type": "stream",
     "text": [
      "{8, 16}\n"
     ]
    }
   ],
   "source": [
    "print(set(add))"
   ]
  },
  {
   "cell_type": "code",
   "execution_count": 74,
   "id": "3046c0c2",
   "metadata": {},
   "outputs": [
    {
     "name": "stdout",
     "output_type": "stream",
     "text": [
      "[8, 16]\n"
     ]
    }
   ],
   "source": [
    "print(list(add))"
   ]
  },
  {
   "cell_type": "code",
   "execution_count": 75,
   "id": "b37a9f1e",
   "metadata": {},
   "outputs": [
    {
     "name": "stdout",
     "output_type": "stream",
     "text": [
      "(8, 16)\n"
     ]
    }
   ],
   "source": [
    "print(tuple(add))"
   ]
  },
  {
   "cell_type": "code",
   "execution_count": 76,
   "id": "9e479b8b",
   "metadata": {},
   "outputs": [],
   "source": [
    "def func(a):\n",
    "    return a**2\n",
    "result=map(func,[1,2,3,4,5])"
   ]
  },
  {
   "cell_type": "code",
   "execution_count": 77,
   "id": "e53ce996",
   "metadata": {},
   "outputs": [
    {
     "name": "stdout",
     "output_type": "stream",
     "text": [
      "<map object at 0x000001792292FD90>\n"
     ]
    }
   ],
   "source": [
    "print(result)"
   ]
  },
  {
   "cell_type": "code",
   "execution_count": 78,
   "id": "c9fcf5c3",
   "metadata": {},
   "outputs": [
    {
     "name": "stdout",
     "output_type": "stream",
     "text": [
      "[1, 4, 9, 16, 25]\n"
     ]
    }
   ],
   "source": [
    "print(list(result))"
   ]
  },
  {
   "cell_type": "code",
   "execution_count": 81,
   "id": "252e63c9",
   "metadata": {},
   "outputs": [],
   "source": [
    "def even(n):\n",
    "    if n%2==0:\n",
    "        return n\n",
    "    \n",
    "x=map(even,[1,2,3,4,5,6,7,8])"
   ]
  },
  {
   "cell_type": "code",
   "execution_count": 82,
   "id": "aa2699c3",
   "metadata": {},
   "outputs": [
    {
     "name": "stdout",
     "output_type": "stream",
     "text": [
      "[None, 2, None, 4, None, 6, None, 8]\n"
     ]
    }
   ],
   "source": [
    "print(list(x))"
   ]
  },
  {
   "cell_type": "code",
   "execution_count": 83,
   "id": "d7100484",
   "metadata": {},
   "outputs": [],
   "source": [
    "def even(n):\n",
    "    if n%2==0:\n",
    "        print(n) \n",
    "        \n",
    "x=map(even,[1,2,3,4,5,6,7,8])"
   ]
  },
  {
   "cell_type": "code",
   "execution_count": 84,
   "id": "b67badf8",
   "metadata": {},
   "outputs": [
    {
     "name": "stdout",
     "output_type": "stream",
     "text": [
      "2\n",
      "4\n",
      "6\n",
      "8\n",
      "[None, None, None, None, None, None, None, None]\n"
     ]
    }
   ],
   "source": [
    "print(list(x))"
   ]
  },
  {
   "cell_type": "code",
   "execution_count": null,
   "id": "cb5210b5",
   "metadata": {},
   "outputs": [],
   "source": []
  },
  {
   "cell_type": "markdown",
   "id": "585ef104",
   "metadata": {},
   "source": [
    "# Filter\n",
    "- Create an output list consisting of values for which function returns true."
   ]
  },
  {
   "cell_type": "markdown",
   "id": "98d379d6",
   "metadata": {},
   "source": [
    "# Reduce\n",
    "- Applies a given function to iterables and returns a single value."
   ]
  },
  {
   "cell_type": "code",
   "execution_count": 2,
   "id": "df5bb5dc",
   "metadata": {},
   "outputs": [],
   "source": [
    "result=lambda num:'even-%d'%(num) if num%2==0 else \"odd-%d\"%(num) "
   ]
  },
  {
   "cell_type": "code",
   "execution_count": 4,
   "id": "030bbf7b",
   "metadata": {},
   "outputs": [
    {
     "data": {
      "text/plain": [
       "['odd-1', 'even-2', 'odd-3', 'even-4', 'odd-5']"
      ]
     },
     "execution_count": 4,
     "metadata": {},
     "output_type": "execute_result"
    }
   ],
   "source": [
    "list(map(result,[1,2,3,4,5]))"
   ]
  },
  {
   "cell_type": "code",
   "execution_count": 5,
   "id": "5f713219",
   "metadata": {},
   "outputs": [
    {
     "data": {
      "text/plain": [
       "['even-12', 'odd-13', 'even-14', 'odd-15', 'even-16', 'even-18']"
      ]
     },
     "execution_count": 5,
     "metadata": {},
     "output_type": "execute_result"
    }
   ],
   "source": [
    "list(map(result,[12,13,14,15,16,18]))"
   ]
  },
  {
   "cell_type": "code",
   "execution_count": 6,
   "id": "e6fcc9a6",
   "metadata": {},
   "outputs": [],
   "source": [
    "def is_even(num):\n",
    "    if num%2==0:\n",
    "        return num"
   ]
  },
  {
   "cell_type": "code",
   "execution_count": 7,
   "id": "17448220",
   "metadata": {},
   "outputs": [
    {
     "data": {
      "text/plain": [
       "[2, 4]"
      ]
     },
     "execution_count": 7,
     "metadata": {},
     "output_type": "execute_result"
    }
   ],
   "source": [
    "list(filter(is_even,[1,2,3,4,5]))"
   ]
  },
  {
   "cell_type": "code",
   "execution_count": 9,
   "id": "eda2b31d",
   "metadata": {},
   "outputs": [
    {
     "ename": "TypeError",
     "evalue": "filter expected 2 arguments, got 1",
     "output_type": "error",
     "traceback": [
      "\u001b[1;31m---------------------------------------------------------------------------\u001b[0m",
      "\u001b[1;31mTypeError\u001b[0m                                 Traceback (most recent call last)",
      "\u001b[1;32m<ipython-input-9-ab208e2b948b>\u001b[0m in \u001b[0;36m<module>\u001b[1;34m\u001b[0m\n\u001b[1;32m----> 1\u001b[1;33m \u001b[0mlist\u001b[0m\u001b[1;33m(\u001b[0m\u001b[0mfilter\u001b[0m\u001b[1;33m(\u001b[0m\u001b[0mmap\u001b[0m\u001b[1;33m(\u001b[0m\u001b[0mis_even\u001b[0m\u001b[1;33m,\u001b[0m\u001b[1;33m[\u001b[0m\u001b[1;36m1\u001b[0m\u001b[1;33m,\u001b[0m\u001b[1;36m2\u001b[0m\u001b[1;33m,\u001b[0m\u001b[1;36m3\u001b[0m\u001b[1;33m,\u001b[0m\u001b[1;36m4\u001b[0m\u001b[1;33m,\u001b[0m\u001b[1;36m5\u001b[0m\u001b[1;33m]\u001b[0m\u001b[1;33m)\u001b[0m\u001b[1;33m)\u001b[0m\u001b[1;33m)\u001b[0m\u001b[1;33m\u001b[0m\u001b[1;33m\u001b[0m\u001b[0m\n\u001b[0m",
      "\u001b[1;31mTypeError\u001b[0m: filter expected 2 arguments, got 1"
     ]
    }
   ],
   "source": [
    "list(filter(map(is_even,[1,2,3,4,5])))"
   ]
  },
  {
   "cell_type": "markdown",
   "id": "22d7c4ca",
   "metadata": {},
   "source": [
    "### Write a program to check is it int, float, str using map, filter and lambda\n",
    "- [1, 2, 3, 'a', 'b', 5.5, 7, 8, 9]"
   ]
  },
  {
   "cell_type": "code",
   "execution_count": null,
   "id": "d7b98ffb",
   "metadata": {},
   "outputs": [],
   "source": [
    "greater=lambda x,y:'%d is greater'%(x) if x>y else \"%d is less\"%(x)"
   ]
  },
  {
   "cell_type": "code",
   "execution_count": 36,
   "id": "65c86240",
   "metadata": {},
   "outputs": [],
   "source": [
    "res=['%s is string'%(i) if type(i)==str  else (\"%d is integer\" %(i) if type(i)==int else \"%d is float\" %(i)) for i in [1,2,3,'a','b',5.5,7,8,9]]"
   ]
  },
  {
   "cell_type": "code",
   "execution_count": 37,
   "id": "d318e7f9",
   "metadata": {},
   "outputs": [
    {
     "data": {
      "text/plain": [
       "['1 is integer',\n",
       " '2 is integer',\n",
       " '3 is integer',\n",
       " 'a is string',\n",
       " 'b is string',\n",
       " '5 is float',\n",
       " '7 is integer',\n",
       " '8 is integer',\n",
       " '9 is integer']"
      ]
     },
     "execution_count": 37,
     "metadata": {},
     "output_type": "execute_result"
    }
   ],
   "source": [
    "res"
   ]
  },
  {
   "cell_type": "code",
   "execution_count": 17,
   "id": "e66c9651",
   "metadata": {},
   "outputs": [],
   "source": [
    "def chk(n):\n",
    "    for i in n:\n",
    "        if type(n)==int:\n",
    "            return integer\n",
    "        elif type(n)==str:\n",
    "                return string\n",
    "        else:\n",
    "            return float\n"
   ]
  },
  {
   "cell_type": "code",
   "execution_count": 18,
   "id": "c15824c2",
   "metadata": {},
   "outputs": [
    {
     "data": {
      "text/plain": [
       "float"
      ]
     },
     "execution_count": 18,
     "metadata": {},
     "output_type": "execute_result"
    }
   ],
   "source": [
    "chk([1,2,3,4,5,'a','b'])"
   ]
  },
  {
   "cell_type": "code",
   "execution_count": null,
   "id": "3ada5f6a",
   "metadata": {},
   "outputs": [],
   "source": []
  },
  {
   "cell_type": "code",
   "execution_count": null,
   "id": "23ef8b20",
   "metadata": {},
   "outputs": [],
   "source": []
  },
  {
   "cell_type": "code",
   "execution_count": 7,
   "id": "6da3495d",
   "metadata": {},
   "outputs": [
    {
     "ename": "SyntaxError",
     "evalue": "invalid syntax (<ipython-input-7-d307bf319911>, line 1)",
     "output_type": "error",
     "traceback": [
      "\u001b[1;36m  File \u001b[1;32m\"<ipython-input-7-d307bf319911>\"\u001b[1;36m, line \u001b[1;32m1\u001b[0m\n\u001b[1;33m    check=lambda n:'%d is int'%(num) if type(num)==int else '%s is str' for i in [1,2,3,4,'a']\u001b[0m\n\u001b[1;37m                                                                        ^\u001b[0m\n\u001b[1;31mSyntaxError\u001b[0m\u001b[1;31m:\u001b[0m invalid syntax\n"
     ]
    }
   ],
   "source": [
    "\n",
    "check=lambda n:'%d is int'%(num) if type(num)==int else '%s is str' for i in [1,2,3,4,'a']"
   ]
  },
  {
   "cell_type": "code",
   "execution_count": 5,
   "id": "bb8f1ab5",
   "metadata": {},
   "outputs": [
    {
     "data": {
      "text/plain": [
       "'%s is str'"
      ]
     },
     "execution_count": 5,
     "metadata": {},
     "output_type": "execute_result"
    }
   ],
   "source": [
    "check([1,2,3,'b'])"
   ]
  },
  {
   "cell_type": "code",
   "execution_count": null,
   "id": "eece6e7f",
   "metadata": {},
   "outputs": [],
   "source": [
    "num2=list(filter(lambda n: '%s is string'%(n) if type()))"
   ]
  },
  {
   "cell_type": "code",
   "execution_count": null,
   "id": "737a5649",
   "metadata": {},
   "outputs": [],
   "source": []
  },
  {
   "cell_type": "code",
   "execution_count": 23,
   "id": "1a90bbf5",
   "metadata": {},
   "outputs": [],
   "source": [
    "num=[1, 2, 3, 'a', 'b', 5.5, 7, 8, 9]\n",
    "num1=[i for i in num if type(i)==str]"
   ]
  },
  {
   "cell_type": "code",
   "execution_count": 24,
   "id": "f6e2b608",
   "metadata": {},
   "outputs": [
    {
     "name": "stdout",
     "output_type": "stream",
     "text": [
      "['a', 'b']\n"
     ]
    }
   ],
   "source": [
    "print(num1)"
   ]
  },
  {
   "cell_type": "code",
   "execution_count": 26,
   "id": "33e9dac3",
   "metadata": {},
   "outputs": [],
   "source": [
    "num=[1, 2, 3, 'a', 'b', 5.5, 7, 8, 9]"
   ]
  },
  {
   "cell_type": "code",
   "execution_count": 31,
   "id": "f3b60fcf",
   "metadata": {},
   "outputs": [],
   "source": [
    "resut=list(filter(lambda n:type(n)==int, num))"
   ]
  },
  {
   "cell_type": "code",
   "execution_count": 28,
   "id": "d0921196",
   "metadata": {},
   "outputs": [
    {
     "name": "stdout",
     "output_type": "stream",
     "text": [
      "[1, 2, 3, 7, 8, 9]\n"
     ]
    }
   ],
   "source": [
    "print(resut)"
   ]
  },
  {
   "cell_type": "code",
   "execution_count": 25,
   "id": "15c08648",
   "metadata": {},
   "outputs": [
    {
     "ename": "TypeError",
     "evalue": "'list' object is not callable",
     "output_type": "error",
     "traceback": [
      "\u001b[1;31m---------------------------------------------------------------------------\u001b[0m",
      "\u001b[1;31mTypeError\u001b[0m                                 Traceback (most recent call last)",
      "\u001b[1;32m<ipython-input-25-3378a3cd96b3>\u001b[0m in \u001b[0;36m<module>\u001b[1;34m\u001b[0m\n\u001b[1;32m----> 1\u001b[1;33m \u001b[0ma\u001b[0m\u001b[1;33m=\u001b[0m\u001b[0mlist\u001b[0m\u001b[1;33m(\u001b[0m\u001b[0mmap\u001b[0m\u001b[1;33m(\u001b[0m\u001b[0mnum1\u001b[0m\u001b[1;33m,\u001b[0m\u001b[1;33m[\u001b[0m\u001b[1;36m1\u001b[0m\u001b[1;33m,\u001b[0m\u001b[1;36m2\u001b[0m\u001b[1;33m,\u001b[0m\u001b[1;36m3\u001b[0m\u001b[1;33m,\u001b[0m\u001b[1;34m'a'\u001b[0m\u001b[1;33m,\u001b[0m\u001b[1;34m'h'\u001b[0m\u001b[1;33m,\u001b[0m\u001b[1;34m'd'\u001b[0m\u001b[1;33m]\u001b[0m\u001b[1;33m)\u001b[0m\u001b[1;33m)\u001b[0m\u001b[1;33m\u001b[0m\u001b[1;33m\u001b[0m\u001b[0m\n\u001b[0m",
      "\u001b[1;31mTypeError\u001b[0m: 'list' object is not callable"
     ]
    }
   ],
   "source": [
    "a=list(map(num1,[1,2,3,'a','h','d']))"
   ]
  },
  {
   "cell_type": "code",
   "execution_count": null,
   "id": "253a6d78",
   "metadata": {},
   "outputs": [],
   "source": []
  },
  {
   "cell_type": "code",
   "execution_count": 16,
   "id": "e03a7905",
   "metadata": {},
   "outputs": [
    {
     "ename": "SyntaxError",
     "evalue": "invalid syntax (<ipython-input-16-72488d915740>, line 1)",
     "output_type": "error",
     "traceback": [
      "\u001b[1;36m  File \u001b[1;32m\"<ipython-input-16-72488d915740>\"\u001b[1;36m, line \u001b[1;32m1\u001b[0m\n\u001b[1;33m    result=lambda num1: \" value is %s\" %(i) if type(i)==str else \"value is %d\" [i for i in num1]\u001b[0m\n\u001b[1;37m                                                                                  ^\u001b[0m\n\u001b[1;31mSyntaxError\u001b[0m\u001b[1;31m:\u001b[0m invalid syntax\n"
     ]
    }
   ],
   "source": [
    "\n",
    "result=lambda num1: \" value is %s\" %(i) if type(i)==str else \"value is %d\" "
   ]
  },
  {
   "cell_type": "code",
   "execution_count": null,
   "id": "78b75aa2",
   "metadata": {},
   "outputs": [],
   "source": []
  },
  {
   "cell_type": "code",
   "execution_count": 14,
   "id": "c994d268",
   "metadata": {},
   "outputs": [
    {
     "ename": "TypeError",
     "evalue": "'function' object is not subscriptable",
     "output_type": "error",
     "traceback": [
      "\u001b[1;31m---------------------------------------------------------------------------\u001b[0m",
      "\u001b[1;31mTypeError\u001b[0m                                 Traceback (most recent call last)",
      "\u001b[1;32m<ipython-input-14-aebf10c73feb>\u001b[0m in \u001b[0;36m<module>\u001b[1;34m\u001b[0m\n\u001b[1;32m----> 1\u001b[1;33m \u001b[0mresult\u001b[0m\u001b[1;33m[\u001b[0m\u001b[1;36m1\u001b[0m\u001b[1;33m,\u001b[0m\u001b[1;36m2\u001b[0m\u001b[1;33m,\u001b[0m\u001b[1;36m3\u001b[0m\u001b[1;33m,\u001b[0m\u001b[1;36m4\u001b[0m\u001b[1;33m,\u001b[0m\u001b[1;34m'a'\u001b[0m\u001b[1;33m,\u001b[0m\u001b[1;34m'b'\u001b[0m\u001b[1;33m,\u001b[0m\u001b[1;36m12.4\u001b[0m\u001b[1;33m]\u001b[0m\u001b[1;33m\u001b[0m\u001b[1;33m\u001b[0m\u001b[0m\n\u001b[0m",
      "\u001b[1;31mTypeError\u001b[0m: 'function' object is not subscriptable"
     ]
    }
   ],
   "source": [
    "result[1,2,3,4,'a','b',12.4]"
   ]
  },
  {
   "cell_type": "code",
   "execution_count": null,
   "id": "dd2cef7f",
   "metadata": {},
   "outputs": [],
   "source": []
  },
  {
   "cell_type": "code",
   "execution_count": 10,
   "id": "feae681f",
   "metadata": {},
   "outputs": [],
   "source": [
    "def test_gen():\n",
    "    print('first time')\n",
    "    yield\n",
    "    print('second time')\n",
    "    yield\n",
    "    print('third time')\n",
    "    yield\n",
    "    "
   ]
  },
  {
   "cell_type": "code",
   "execution_count": 11,
   "id": "fa24a949",
   "metadata": {},
   "outputs": [
    {
     "data": {
      "text/plain": [
       "<function __main__.test_gen()>"
      ]
     },
     "execution_count": 11,
     "metadata": {},
     "output_type": "execute_result"
    }
   ],
   "source": [
    "test_gen"
   ]
  },
  {
   "cell_type": "markdown",
   "id": "c8f29984",
   "metadata": {},
   "source": [
    "#We need to create object from this function as we create generator"
   ]
  },
  {
   "cell_type": "code",
   "execution_count": 12,
   "id": "16cb1241",
   "metadata": {},
   "outputs": [],
   "source": [
    "gen=test_gen()"
   ]
  },
  {
   "cell_type": "code",
   "execution_count": 13,
   "id": "918f86b1",
   "metadata": {},
   "outputs": [
    {
     "data": {
      "text/plain": [
       "generator"
      ]
     },
     "execution_count": 13,
     "metadata": {},
     "output_type": "execute_result"
    }
   ],
   "source": [
    "type(gen)"
   ]
  },
  {
   "cell_type": "code",
   "execution_count": 14,
   "id": "4a57adad",
   "metadata": {},
   "outputs": [
    {
     "name": "stdout",
     "output_type": "stream",
     "text": [
      "first time\n"
     ]
    }
   ],
   "source": [
    "next(gen)"
   ]
  },
  {
   "cell_type": "code",
   "execution_count": 15,
   "id": "cc75c5e4",
   "metadata": {},
   "outputs": [
    {
     "name": "stdout",
     "output_type": "stream",
     "text": [
      "second time\n"
     ]
    }
   ],
   "source": [
    "next(gen)"
   ]
  },
  {
   "cell_type": "code",
   "execution_count": 16,
   "id": "7b0141ee",
   "metadata": {},
   "outputs": [
    {
     "name": "stdout",
     "output_type": "stream",
     "text": [
      "third time\n"
     ]
    }
   ],
   "source": [
    "next(gen)"
   ]
  },
  {
   "cell_type": "code",
   "execution_count": 17,
   "id": "b9dcd94e",
   "metadata": {},
   "outputs": [
    {
     "ename": "StopIteration",
     "evalue": "",
     "output_type": "error",
     "traceback": [
      "\u001b[1;31m---------------------------------------------------------------------------\u001b[0m",
      "\u001b[1;31mStopIteration\u001b[0m                             Traceback (most recent call last)",
      "\u001b[1;32m<ipython-input-17-6e72e47198db>\u001b[0m in \u001b[0;36m<module>\u001b[1;34m\u001b[0m\n\u001b[1;32m----> 1\u001b[1;33m \u001b[0mnext\u001b[0m\u001b[1;33m(\u001b[0m\u001b[0mgen\u001b[0m\u001b[1;33m)\u001b[0m\u001b[1;33m\u001b[0m\u001b[1;33m\u001b[0m\u001b[0m\n\u001b[0m",
      "\u001b[1;31mStopIteration\u001b[0m: "
     ]
    }
   ],
   "source": [
    "next(gen)"
   ]
  },
  {
   "cell_type": "code",
   "execution_count": 5,
   "id": "46758d40",
   "metadata": {},
   "outputs": [
    {
     "name": "stdout",
     "output_type": "stream",
     "text": [
      "e\n",
      "e\n"
     ]
    }
   ],
   "source": [
    "# function that filter vovels\n",
    "\n",
    "sequence = ['g', 'e', 'e', 'j', 'k', 's', 'p', 'r']\n",
    "\n",
    "def vovels(variables):\n",
    "    \n",
    "    letters = ['a', 'e', 'i', 'o', 'u']\n",
    "    \n",
    "    if variables in letters:\n",
    "        return True\n",
    "    \n",
    "    else:\n",
    "        return False\n",
    "    \n",
    "filtered=filter(vovels,sequence)\n",
    "\n",
    "for s in filtered:\n",
    "    print(s)\n"
   ]
  },
  {
   "cell_type": "code",
   "execution_count": 13,
   "id": "ae2e834f",
   "metadata": {},
   "outputs": [
    {
     "name": "stdout",
     "output_type": "stream",
     "text": [
      "vikas\n",
      "[('v', 'i', 'k', 'a', 's')]\n"
     ]
    }
   ],
   "source": [
    "print(list(map(tuple,input().split())))\n",
    "# def filter_vovel(parameter):\n",
    "    \n",
    "#     vovels=['a','e','i','o','u']\n",
    "    \n",
    "#     if "
   ]
  },
  {
   "cell_type": "code",
   "execution_count": 14,
   "id": "b4a583e2",
   "metadata": {},
   "outputs": [
    {
     "name": "stdout",
     "output_type": "stream",
     "text": [
      "i\n",
      "a\n"
     ]
    }
   ],
   "source": [
    "sequence =['v', 'i', 'k', 'a', 's']\n",
    "\n",
    "def filter_vovels(parameter):\n",
    "    \n",
    "    vovels=['a','e','i','o','u']\n",
    "    \n",
    "    if parameter in vovels:\n",
    "        return True\n",
    "    else:\n",
    "        return False\n",
    "    \n",
    "re=filter(filter_vovels,sequence)\n",
    "\n",
    "for a in re:\n",
    "    print(a)"
   ]
  },
  {
   "cell_type": "code",
   "execution_count": 15,
   "id": "eccba522",
   "metadata": {},
   "outputs": [
    {
     "data": {
      "text/plain": [
       "25"
      ]
     },
     "execution_count": 15,
     "metadata": {},
     "output_type": "execute_result"
    }
   ],
   "source": [
    "def sqr(num):\n",
    "    return num**2\n",
    "\n",
    "sqr(5)"
   ]
  },
  {
   "cell_type": "code",
   "execution_count": 16,
   "id": "b207ceca",
   "metadata": {},
   "outputs": [],
   "source": [
    "res=list(map(sqr,[1,2,3,4,5,6,7]))"
   ]
  },
  {
   "cell_type": "code",
   "execution_count": 17,
   "id": "eb1d89a7",
   "metadata": {},
   "outputs": [
    {
     "name": "stdout",
     "output_type": "stream",
     "text": [
      "[1, 4, 9, 16, 25, 36, 49]\n"
     ]
    }
   ],
   "source": [
    "print(res)"
   ]
  },
  {
   "cell_type": "code",
   "execution_count": 18,
   "id": "4cde47d3",
   "metadata": {},
   "outputs": [],
   "source": [
    "res1=filter(sqr,[1,2,3,4,5,6,7])"
   ]
  },
  {
   "cell_type": "code",
   "execution_count": 20,
   "id": "19acbbcd",
   "metadata": {},
   "outputs": [
    {
     "name": "stdout",
     "output_type": "stream",
     "text": [
      "[1, 2, 3, 4, 5, 6, 7]\n"
     ]
    }
   ],
   "source": [
    "print(list(res1))"
   ]
  },
  {
   "cell_type": "code",
   "execution_count": 21,
   "id": "b0d19fb9",
   "metadata": {},
   "outputs": [
    {
     "data": {
      "text/plain": [
       "True"
      ]
     },
     "execution_count": 21,
     "metadata": {},
     "output_type": "execute_result"
    }
   ],
   "source": [
    "def even_odd(num):\n",
    "    \n",
    "    if num%2==0:\n",
    "        \n",
    "        return True\n",
    "    \n",
    "    else:\n",
    "        \n",
    "        return False\n",
    "    \n",
    "even_odd(8)\n",
    "    "
   ]
  },
  {
   "cell_type": "code",
   "execution_count": 22,
   "id": "73395809",
   "metadata": {},
   "outputs": [
    {
     "data": {
      "text/plain": [
       "False"
      ]
     },
     "execution_count": 22,
     "metadata": {},
     "output_type": "execute_result"
    }
   ],
   "source": [
    "even_odd(5)"
   ]
  },
  {
   "cell_type": "code",
   "execution_count": 23,
   "id": "237cc236",
   "metadata": {},
   "outputs": [],
   "source": [
    "result1=list(map(even_odd,[1,2,3,4,5]))"
   ]
  },
  {
   "cell_type": "code",
   "execution_count": 24,
   "id": "f3120566",
   "metadata": {},
   "outputs": [
    {
     "name": "stdout",
     "output_type": "stream",
     "text": [
      "[False, True, False, True, False]\n"
     ]
    }
   ],
   "source": [
    "print(result1)"
   ]
  },
  {
   "cell_type": "code",
   "execution_count": 25,
   "id": "1706d574",
   "metadata": {},
   "outputs": [],
   "source": [
    "# filter \n",
    "\n",
    "result2=filter(even_odd,[1,2,3,4,5,6,7,8,9])"
   ]
  },
  {
   "cell_type": "code",
   "execution_count": 26,
   "id": "8280348a",
   "metadata": {},
   "outputs": [
    {
     "name": "stdout",
     "output_type": "stream",
     "text": [
      "[2, 4, 6, 8]\n"
     ]
    }
   ],
   "source": [
    "print(list(result2))"
   ]
  },
  {
   "cell_type": "code",
   "execution_count": 42,
   "id": "59e464bf",
   "metadata": {},
   "outputs": [],
   "source": [
    "def evenodd(*args):\n",
    "    for i in args:\n",
    "        \n",
    "        if i %2==0:\n",
    "            print(\"even\")\n",
    "            \n",
    "        else:\n",
    "            print('odd')\n",
    "   "
   ]
  },
  {
   "cell_type": "code",
   "execution_count": 43,
   "id": "623d128f",
   "metadata": {},
   "outputs": [
    {
     "name": "stdout",
     "output_type": "stream",
     "text": [
      "even\n",
      "odd\n",
      "even\n",
      "odd\n"
     ]
    }
   ],
   "source": [
    "evenodd(12,13,14,15)"
   ]
  },
  {
   "cell_type": "code",
   "execution_count": 44,
   "id": "6bd071a1",
   "metadata": {},
   "outputs": [
    {
     "name": "stdout",
     "output_type": "stream",
     "text": [
      "odd\n",
      "even\n",
      "odd\n",
      "even\n",
      "odd\n",
      "even\n",
      "odd\n",
      "even\n"
     ]
    }
   ],
   "source": [
    "ans=list(map(evenodd,[1,2,3,4,5,6,7,8]))"
   ]
  },
  {
   "cell_type": "code",
   "execution_count": 49,
   "id": "d9ed6433",
   "metadata": {},
   "outputs": [
    {
     "name": "stdout",
     "output_type": "stream",
     "text": [
      "odd\n",
      "even\n",
      "odd\n",
      "even\n",
      "odd\n"
     ]
    }
   ],
   "source": [
    "ans1=list(filter(evenodd,[1,2,3,4,5]))"
   ]
  },
  {
   "cell_type": "code",
   "execution_count": 51,
   "id": "aa4950e1",
   "metadata": {},
   "outputs": [],
   "source": [
    "import functools"
   ]
  },
  {
   "cell_type": "code",
   "execution_count": 52,
   "id": "bbc803a2",
   "metadata": {},
   "outputs": [
    {
     "name": "stdout",
     "output_type": "stream",
     "text": [
      "['RLock', 'WRAPPER_ASSIGNMENTS', 'WRAPPER_UPDATES', '_CacheInfo', '_HashedSeq', '_NOT_FOUND', '__all__', '__builtins__', '__cached__', '__doc__', '__file__', '__loader__', '__name__', '__package__', '__spec__', '_c3_merge', '_c3_mro', '_compose_mro', '_convert', '_find_impl', '_ge_from_gt', '_ge_from_le', '_ge_from_lt', '_gt_from_ge', '_gt_from_le', '_gt_from_lt', '_initial_missing', '_le_from_ge', '_le_from_gt', '_le_from_lt', '_lru_cache_wrapper', '_lt_from_ge', '_lt_from_gt', '_lt_from_le', '_make_key', '_unwrap_partial', 'cached_property', 'cmp_to_key', 'get_cache_token', 'lru_cache', 'namedtuple', 'partial', 'partialmethod', 'recursive_repr', 'reduce', 'singledispatch', 'singledispatchmethod', 'total_ordering', 'update_wrapper', 'wraps']\n"
     ]
    }
   ],
   "source": [
    "print(dir(functools))"
   ]
  },
  {
   "cell_type": "code",
   "execution_count": 54,
   "id": "13908d3f",
   "metadata": {},
   "outputs": [
    {
     "data": {
      "text/plain": [
       "[2, 4]"
      ]
     },
     "execution_count": 54,
     "metadata": {},
     "output_type": "execute_result"
    }
   ],
   "source": [
    "def eve(*n):\n",
    "    \n",
    "    return [i for i in n if i%2==0]\n",
    "\n",
    "eve(1,2,3,4)"
   ]
  },
  {
   "cell_type": "code",
   "execution_count": 57,
   "id": "6d5f15de",
   "metadata": {},
   "outputs": [],
   "source": [
    "s=list(filter(eve,[1,2,3,4,5,6,7,8,9]))"
   ]
  },
  {
   "cell_type": "code",
   "execution_count": 58,
   "id": "19b5a88c",
   "metadata": {},
   "outputs": [
    {
     "data": {
      "text/plain": [
       "[2, 4, 6, 8]"
      ]
     },
     "execution_count": 58,
     "metadata": {},
     "output_type": "execute_result"
    }
   ],
   "source": [
    "s"
   ]
  },
  {
   "cell_type": "code",
   "execution_count": 74,
   "id": "29f2be2a",
   "metadata": {},
   "outputs": [],
   "source": [
    "num=[1,2,3,4,5,6,7,11,12,13,15]\n",
    "\n",
    "s1=functools.reduce(lambda a,b: a+b,num)"
   ]
  },
  {
   "cell_type": "code",
   "execution_count": 75,
   "id": "e42dfefa",
   "metadata": {},
   "outputs": [
    {
     "data": {
      "text/plain": [
       "79"
      ]
     },
     "execution_count": 75,
     "metadata": {},
     "output_type": "execute_result"
    }
   ],
   "source": [
    "s1"
   ]
  },
  {
   "cell_type": "code",
   "execution_count": 71,
   "id": "df578e36",
   "metadata": {},
   "outputs": [
    {
     "data": {
      "text/plain": [
       "79"
      ]
     },
     "execution_count": 71,
     "metadata": {},
     "output_type": "execute_result"
    }
   ],
   "source": [
    "num=[1,2,3,4,5,6,7,11,12,13,15]\n",
    "\n",
    "sum(num)"
   ]
  },
  {
   "cell_type": "code",
   "execution_count": 76,
   "id": "1bcfa17f",
   "metadata": {},
   "outputs": [],
   "source": [
    "lis = [1, 3, 4, 10, 4]\n",
    "\n",
    "import itertools"
   ]
  },
  {
   "cell_type": "code",
   "execution_count": 77,
   "id": "0ca1b799",
   "metadata": {},
   "outputs": [],
   "source": [
    "re1=itertools.accumulate(lis,lambda x,y:x+y)"
   ]
  },
  {
   "cell_type": "code",
   "execution_count": 78,
   "id": "75b0119c",
   "metadata": {},
   "outputs": [
    {
     "data": {
      "text/plain": [
       "<itertools.accumulate at 0x19f4bb80140>"
      ]
     },
     "execution_count": 78,
     "metadata": {},
     "output_type": "execute_result"
    }
   ],
   "source": [
    "re1"
   ]
  },
  {
   "cell_type": "code",
   "execution_count": 79,
   "id": "04c03c1b",
   "metadata": {},
   "outputs": [
    {
     "data": {
      "text/plain": [
       "[1, 4, 8, 18, 22]"
      ]
     },
     "execution_count": 79,
     "metadata": {},
     "output_type": "execute_result"
    }
   ],
   "source": [
    "list(re1)"
   ]
  },
  {
   "cell_type": "code",
   "execution_count": 84,
   "id": "31e28d10",
   "metadata": {},
   "outputs": [],
   "source": [
    "lis = [1, 3, 4, 10, 4]\n",
    "\n",
    "re2=itertools.accumulate(lis,lambda x,y:x*y)"
   ]
  },
  {
   "cell_type": "code",
   "execution_count": 85,
   "id": "44c38713",
   "metadata": {},
   "outputs": [
    {
     "data": {
      "text/plain": [
       "[1, 3, 12, 120, 480]"
      ]
     },
     "execution_count": 85,
     "metadata": {},
     "output_type": "execute_result"
    }
   ],
   "source": [
    "list(re2)"
   ]
  },
  {
   "cell_type": "code",
   "execution_count": 88,
   "id": "3018c6da",
   "metadata": {},
   "outputs": [
    {
     "name": "stdout",
     "output_type": "stream",
     "text": [
      "The summation of list using accumulate :- [1, 4, 8, 18, 22]\n",
      "The summation of list using reduce :- 22\n"
     ]
    }
   ],
   "source": [
    "import functools\n",
    "\n",
    "lis = [1, 3, 4, 10, 4]\n",
    "\n",
    "out1=itertools.accumulate(lis,lambda x,y:x+y)\n",
    "\n",
    "print(f\"The summation of list using accumulate :- {list(out1)}\")\n",
    "\n",
    "out2=functools.reduce((lambda x,y:x+y),lis)\n",
    "\n",
    "print(f\"The summation of list using reduce :- {out2}\")"
   ]
  },
  {
   "cell_type": "code",
   "execution_count": null,
   "id": "8cbae98f",
   "metadata": {},
   "outputs": [],
   "source": []
  }
 ],
 "metadata": {
  "kernelspec": {
   "display_name": "Python 3",
   "language": "python",
   "name": "python3"
  },
  "language_info": {
   "codemirror_mode": {
    "name": "ipython",
    "version": 3
   },
   "file_extension": ".py",
   "mimetype": "text/x-python",
   "name": "python",
   "nbconvert_exporter": "python",
   "pygments_lexer": "ipython3",
   "version": "3.8.8"
  }
 },
 "nbformat": 4,
 "nbformat_minor": 5
}
