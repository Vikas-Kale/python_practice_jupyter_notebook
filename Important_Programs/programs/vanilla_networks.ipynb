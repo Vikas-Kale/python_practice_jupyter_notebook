{
 "cells": [
  {
   "cell_type": "code",
   "execution_count": null,
   "id": "b28440b8",
   "metadata": {},
   "outputs": [],
   "source": [
    "# Create a python function that accept a list of strings and return a list of strings that are sorted by ascending order\n",
    "# according to word size.\n",
    "\n",
    "# for example:1.\n",
    "\n",
    "input: ['a','bb','dddd','ccc'] \n",
    "output:['a','bb','ccc','dddd']\n",
    "    \n",
    " 2.\n",
    "\n",
    "input:['dddd','ccc','a','bb']\n",
    "output:['a','bb','ccc','dddd']"
   ]
  },
  {
   "cell_type": "code",
   "execution_count": 40,
   "id": "e7a09a1d",
   "metadata": {},
   "outputs": [
    {
     "data": {
      "text/plain": [
       "['a', 'bb', 'ccc', 'mmmm', 'ddddd']"
      ]
     },
     "execution_count": 40,
     "metadata": {},
     "output_type": "execute_result"
    }
   ],
   "source": [
    "def lst_str(args):\n",
    "    return sorted(args,key=len)\n",
    "\n",
    "args=['a','bb','ddddd','ccc','mmmm']\n",
    "\n",
    "lst_str(args)"
   ]
  },
  {
   "cell_type": "code",
   "execution_count": 41,
   "id": "b574749a",
   "metadata": {},
   "outputs": [
    {
     "data": {
      "text/plain": [
       "['kk', 'vvvv', 'jjjjj']"
      ]
     },
     "execution_count": 41,
     "metadata": {},
     "output_type": "execute_result"
    }
   ],
   "source": [
    "lst_str(['jjjjj','kk','vvvv'])"
   ]
  },
  {
   "cell_type": "code",
   "execution_count": 42,
   "id": "5842ccf6",
   "metadata": {},
   "outputs": [
    {
     "data": {
      "text/plain": [
       "['n', 'll', 'yyy', 'xxxxx']"
      ]
     },
     "execution_count": 42,
     "metadata": {},
     "output_type": "execute_result"
    }
   ],
   "source": [
    "lst_str(['xxxxx','yyy','n','ll'])"
   ]
  },
  {
   "cell_type": "code",
   "execution_count": 7,
   "id": "1af1214d",
   "metadata": {},
   "outputs": [],
   "source": [
    "num=['a','bb','dddd','ccc']\n"
   ]
  },
  {
   "cell_type": "code",
   "execution_count": 10,
   "id": "9199e0c7",
   "metadata": {},
   "outputs": [],
   "source": [
    "re=sorted(num)"
   ]
  },
  {
   "cell_type": "code",
   "execution_count": 11,
   "id": "bcbdc7ce",
   "metadata": {},
   "outputs": [
    {
     "data": {
      "text/plain": [
       "['a', 'bb', 'ccc', 'dddd']"
      ]
     },
     "execution_count": 11,
     "metadata": {},
     "output_type": "execute_result"
    }
   ],
   "source": [
    "re"
   ]
  },
  {
   "cell_type": "code",
   "execution_count": 1,
   "id": "e3760f8d",
   "metadata": {},
   "outputs": [],
   "source": [
    "import collections"
   ]
  },
  {
   "cell_type": "code",
   "execution_count": 2,
   "id": "5d3763b1",
   "metadata": {},
   "outputs": [
    {
     "name": "stdout",
     "output_type": "stream",
     "text": [
      "['ChainMap', 'Counter', 'OrderedDict', 'UserDict', 'UserList', 'UserString', '_Link', '_OrderedDictItemsView', '_OrderedDictKeysView', '_OrderedDictValuesView', '__all__', '__builtins__', '__cached__', '__doc__', '__file__', '__getattr__', '__loader__', '__name__', '__package__', '__path__', '__spec__', '_chain', '_collections_abc', '_count_elements', '_eq', '_heapq', '_iskeyword', '_itemgetter', '_proxy', '_recursive_repr', '_repeat', '_starmap', '_sys', '_tuplegetter', 'abc', 'defaultdict', 'deque', 'namedtuple']\n"
     ]
    }
   ],
   "source": [
    "print(dir(collections))"
   ]
  },
  {
   "cell_type": "code",
   "execution_count": 3,
   "id": "08283e1a",
   "metadata": {},
   "outputs": [],
   "source": [
    "from collections import Counter"
   ]
  },
  {
   "cell_type": "code",
   "execution_count": 8,
   "id": "2a07b0be",
   "metadata": {},
   "outputs": [
    {
     "name": "stdout",
     "output_type": "stream",
     "text": [
      "Counter({'a': 1, 'bb': 1, 'dddd': 1, 'ccc': 1})\n"
     ]
    }
   ],
   "source": [
    "print(Counter(num))"
   ]
  },
  {
   "cell_type": "code",
   "execution_count": 12,
   "id": "ff44ffce",
   "metadata": {},
   "outputs": [],
   "source": [
    "num1=['a','bb','ddddd','ccc','mmmm'] \n",
    "\n",
    "re=sorted(num1)"
   ]
  },
  {
   "cell_type": "code",
   "execution_count": 20,
   "id": "c3910c11",
   "metadata": {},
   "outputs": [
    {
     "data": {
      "text/plain": [
       "['a', 'bb', 'ccc', 'ddddd', 'mmmm']"
      ]
     },
     "execution_count": 20,
     "metadata": {},
     "output_type": "execute_result"
    }
   ],
   "source": [
    "re"
   ]
  },
  {
   "cell_type": "code",
   "execution_count": 22,
   "id": "79ef9bf4",
   "metadata": {},
   "outputs": [
    {
     "ename": "SyntaxError",
     "evalue": "invalid syntax (<ipython-input-22-9f2dd45e2b70>, line 1)",
     "output_type": "error",
     "traceback": [
      "\u001b[1;36m  File \u001b[1;32m\"<ipython-input-22-9f2dd45e2b70>\"\u001b[1;36m, line \u001b[1;32m1\u001b[0m\n\u001b[1;33m    re1=[len(str(i)) for in re]\u001b[0m\n\u001b[1;37m                         ^\u001b[0m\n\u001b[1;31mSyntaxError\u001b[0m\u001b[1;31m:\u001b[0m invalid syntax\n"
     ]
    }
   ],
   "source": [
    "re1=[len(str(i)) for in re]"
   ]
  },
  {
   "cell_type": "code",
   "execution_count": 23,
   "id": "9dfbb475",
   "metadata": {},
   "outputs": [],
   "source": [
    "num1=['a','bb','ddddd','ccc','mmmm'] "
   ]
  },
  {
   "cell_type": "code",
   "execution_count": 24,
   "id": "29dc20bd",
   "metadata": {},
   "outputs": [
    {
     "data": {
      "text/plain": [
       "5"
      ]
     },
     "execution_count": 24,
     "metadata": {},
     "output_type": "execute_result"
    }
   ],
   "source": [
    "len(num1[2])"
   ]
  },
  {
   "cell_type": "code",
   "execution_count": 25,
   "id": "9c4613aa",
   "metadata": {},
   "outputs": [
    {
     "data": {
      "text/plain": [
       "4"
      ]
     },
     "execution_count": 25,
     "metadata": {},
     "output_type": "execute_result"
    }
   ],
   "source": [
    "len(num1[4])"
   ]
  },
  {
   "cell_type": "code",
   "execution_count": null,
   "id": "74470abc",
   "metadata": {},
   "outputs": [],
   "source": [
    "if num1[sorted(0)] "
   ]
  },
  {
   "cell_type": "code",
   "execution_count": 29,
   "id": "9eccb17c",
   "metadata": {},
   "outputs": [
    {
     "ename": "NameError",
     "evalue": "name 'sort' is not defined",
     "output_type": "error",
     "traceback": [
      "\u001b[1;31m---------------------------------------------------------------------------\u001b[0m",
      "\u001b[1;31mNameError\u001b[0m                                 Traceback (most recent call last)",
      "\u001b[1;32m<ipython-input-29-fab937e9d8e9>\u001b[0m in \u001b[0;36m<module>\u001b[1;34m\u001b[0m\n\u001b[0;32m      1\u001b[0m \u001b[0mnum1\u001b[0m\u001b[1;33m=\u001b[0m\u001b[1;33m[\u001b[0m\u001b[1;34m'a'\u001b[0m\u001b[1;33m,\u001b[0m\u001b[1;34m'bb'\u001b[0m\u001b[1;33m,\u001b[0m\u001b[1;34m'ddddd'\u001b[0m\u001b[1;33m,\u001b[0m\u001b[1;34m'ccc'\u001b[0m\u001b[1;33m,\u001b[0m\u001b[1;34m'mmmm'\u001b[0m\u001b[1;33m]\u001b[0m\u001b[1;33m\u001b[0m\u001b[1;33m\u001b[0m\u001b[0m\n\u001b[0;32m      2\u001b[0m \u001b[1;33m\u001b[0m\u001b[0m\n\u001b[1;32m----> 3\u001b[1;33m \u001b[0mre\u001b[0m\u001b[1;33m=\u001b[0m\u001b[0msort\u001b[0m\u001b[1;33m(\u001b[0m\u001b[0mnum1\u001b[0m\u001b[1;33m,\u001b[0m\u001b[0mkey\u001b[0m\u001b[1;33m=\u001b[0m\u001b[0mlen\u001b[0m\u001b[1;33m)\u001b[0m\u001b[1;33m\u001b[0m\u001b[1;33m\u001b[0m\u001b[0m\n\u001b[0m\u001b[0;32m      4\u001b[0m \u001b[1;33m\u001b[0m\u001b[0m\n\u001b[0;32m      5\u001b[0m \u001b[0mprint\u001b[0m\u001b[1;33m(\u001b[0m\u001b[0mre\u001b[0m\u001b[1;33m)\u001b[0m\u001b[1;33m\u001b[0m\u001b[1;33m\u001b[0m\u001b[0m\n",
      "\u001b[1;31mNameError\u001b[0m: name 'sort' is not defined"
     ]
    }
   ],
   "source": [
    "num1=['a','bb','ddddd','ccc','mmmm'] \n",
    "\n",
    "re=sort(num1,key=len)\n",
    "\n",
    "print(re)"
   ]
  },
  {
   "cell_type": "code",
   "execution_count": 30,
   "id": "110f12a7",
   "metadata": {},
   "outputs": [
    {
     "name": "stdout",
     "output_type": "stream",
     "text": [
      "['a', 'bb', 'ccc', 'mmmm', 'ddddd']\n"
     ]
    }
   ],
   "source": [
    "print(sorted(num1,key=len))"
   ]
  },
  {
   "cell_type": "code",
   "execution_count": null,
   "id": "20a7f3af",
   "metadata": {},
   "outputs": [],
   "source": []
  },
  {
   "cell_type": "code",
   "execution_count": null,
   "id": "c21cc211",
   "metadata": {},
   "outputs": [],
   "source": [
    "# create a python function that has standard integer base(10) parameter passed in and returns as equivalent number (or string)\n",
    "# in base(14).\n",
    "# That is 10 = A\n",
    "          13 = D\n",
    "          14 = 10\n",
    "        "
   ]
  },
  {
   "cell_type": "code",
   "execution_count": 43,
   "id": "db6a7ef4",
   "metadata": {},
   "outputs": [
    {
     "data": {
      "text/plain": [
       "'0b10'"
      ]
     },
     "execution_count": 43,
     "metadata": {},
     "output_type": "execute_result"
    }
   ],
   "source": [
    "bin(2)"
   ]
  },
  {
   "cell_type": "code",
   "execution_count": 44,
   "id": "b34a86df",
   "metadata": {},
   "outputs": [
    {
     "data": {
      "text/plain": [
       "'0xa'"
      ]
     },
     "execution_count": 44,
     "metadata": {},
     "output_type": "execute_result"
    }
   ],
   "source": [
    "hex(10)"
   ]
  },
  {
   "cell_type": "code",
   "execution_count": 45,
   "id": "bf7c80a2",
   "metadata": {},
   "outputs": [
    {
     "data": {
      "text/plain": [
       "'0xd'"
      ]
     },
     "execution_count": 45,
     "metadata": {},
     "output_type": "execute_result"
    }
   ],
   "source": [
    "hex(13)"
   ]
  },
  {
   "cell_type": "code",
   "execution_count": 46,
   "id": "170523be",
   "metadata": {},
   "outputs": [
    {
     "data": {
      "text/plain": [
       "'0o16'"
      ]
     },
     "execution_count": 46,
     "metadata": {},
     "output_type": "execute_result"
    }
   ],
   "source": [
    "oct(14)"
   ]
  },
  {
   "cell_type": "code",
   "execution_count": 47,
   "id": "2b665cbf",
   "metadata": {},
   "outputs": [
    {
     "data": {
      "text/plain": [
       "'0xe'"
      ]
     },
     "execution_count": 47,
     "metadata": {},
     "output_type": "execute_result"
    }
   ],
   "source": [
    "hex(14)"
   ]
  },
  {
   "cell_type": "code",
   "execution_count": 51,
   "id": "98d560e6",
   "metadata": {},
   "outputs": [
    {
     "name": "stdout",
     "output_type": "stream",
     "text": [
      "120\n"
     ]
    }
   ],
   "source": [
    "num=5\n",
    "\n",
    "factorial=1\n",
    "\n",
    "for i in range(1,num+1):\n",
    "    factorial=factorial*i\n",
    "    \n",
    "print(factorial)"
   ]
  },
  {
   "cell_type": "code",
   "execution_count": 52,
   "id": "1acf1e87",
   "metadata": {},
   "outputs": [],
   "source": [
    "def fact(n):\n",
    "    if n==0:\n",
    "        return 1\n",
    "    return n*(fact(n-1))"
   ]
  },
  {
   "cell_type": "code",
   "execution_count": 53,
   "id": "25f27e26",
   "metadata": {},
   "outputs": [
    {
     "data": {
      "text/plain": [
       "120"
      ]
     },
     "execution_count": 53,
     "metadata": {},
     "output_type": "execute_result"
    }
   ],
   "source": [
    "fact(5)"
   ]
  },
  {
   "cell_type": "code",
   "execution_count": 54,
   "id": "4acc8a66",
   "metadata": {},
   "outputs": [
    {
     "data": {
      "text/plain": [
       "40320"
      ]
     },
     "execution_count": 54,
     "metadata": {},
     "output_type": "execute_result"
    }
   ],
   "source": [
    "fact(8)"
   ]
  },
  {
   "cell_type": "code",
   "execution_count": 55,
   "id": "f8fa289d",
   "metadata": {},
   "outputs": [
    {
     "data": {
      "text/plain": [
       "3628800"
      ]
     },
     "execution_count": 55,
     "metadata": {},
     "output_type": "execute_result"
    }
   ],
   "source": [
    "fact(10)"
   ]
  },
  {
   "cell_type": "code",
   "execution_count": 56,
   "id": "6b2d0fb1",
   "metadata": {},
   "outputs": [
    {
     "data": {
      "text/plain": [
       "720"
      ]
     },
     "execution_count": 56,
     "metadata": {},
     "output_type": "execute_result"
    }
   ],
   "source": [
    "fact(6)"
   ]
  },
  {
   "cell_type": "code",
   "execution_count": 64,
   "id": "cde62059",
   "metadata": {},
   "outputs": [],
   "source": [
    "def fact(n):\n",
    "    if n==0:\n",
    "        return 1\n",
    "    if n < 0:\n",
    "        return \"Invalid input\"\n",
    "    return n*fact(n-1)"
   ]
  },
  {
   "cell_type": "code",
   "execution_count": 58,
   "id": "cca9ed2c",
   "metadata": {},
   "outputs": [
    {
     "data": {
      "text/plain": [
       "2"
      ]
     },
     "execution_count": 58,
     "metadata": {},
     "output_type": "execute_result"
    }
   ],
   "source": [
    "fact(2)"
   ]
  },
  {
   "cell_type": "code",
   "execution_count": 59,
   "id": "4f4aae09",
   "metadata": {},
   "outputs": [
    {
     "data": {
      "text/plain": [
       "6"
      ]
     },
     "execution_count": 59,
     "metadata": {},
     "output_type": "execute_result"
    }
   ],
   "source": [
    "fact(3)"
   ]
  },
  {
   "cell_type": "code",
   "execution_count": 60,
   "id": "436573a1",
   "metadata": {},
   "outputs": [
    {
     "data": {
      "text/plain": [
       "24"
      ]
     },
     "execution_count": 60,
     "metadata": {},
     "output_type": "execute_result"
    }
   ],
   "source": [
    "fact(4)"
   ]
  },
  {
   "cell_type": "code",
   "execution_count": 61,
   "id": "14d4f6f1",
   "metadata": {},
   "outputs": [
    {
     "data": {
      "text/plain": [
       "24"
      ]
     },
     "execution_count": 61,
     "metadata": {},
     "output_type": "execute_result"
    }
   ],
   "source": [
    "4*3*2*1"
   ]
  },
  {
   "cell_type": "code",
   "execution_count": 62,
   "id": "c3851964",
   "metadata": {},
   "outputs": [
    {
     "data": {
      "text/plain": [
       "1"
      ]
     },
     "execution_count": 62,
     "metadata": {},
     "output_type": "execute_result"
    }
   ],
   "source": [
    "fact(1)"
   ]
  },
  {
   "cell_type": "code",
   "execution_count": 65,
   "id": "7632df8a",
   "metadata": {},
   "outputs": [
    {
     "data": {
      "text/plain": [
       "'Invalid input'"
      ]
     },
     "execution_count": 65,
     "metadata": {},
     "output_type": "execute_result"
    }
   ],
   "source": [
    "fact(-5)"
   ]
  },
  {
   "cell_type": "code",
   "execution_count": null,
   "id": "01ee29f4",
   "metadata": {},
   "outputs": [],
   "source": [
    "# Write a python function that will output the twelve months(i.e January,February,...) in a HTML table one month per row.\n",
    "# The rows will have alternating Bold and normal font."
   ]
  },
  {
   "cell_type": "code",
   "execution_count": 15,
   "id": "172b62fb",
   "metadata": {},
   "outputs": [
    {
     "name": "stdout",
     "output_type": "stream",
     "text": [
      "\u001b[0m\u001b[?7h\u001b[0;1mThis is bold\u001b[0m\n",
      "\u001b[0m\u001b[0m\u001b[?7h\u001b[0;3mThis is italic\u001b[0m\n",
      "\u001b[0m\u001b[0m\u001b[?7h\u001b[0;4mThis is underlined\u001b[0m\n",
      "\u001b[0m"
     ]
    }
   ],
   "source": [
    "from __future__ import unicode_literals, print_function\n",
    "from prompt_toolkit import print_formatted_text, HTML\n",
    "\n",
    "print_formatted_text(HTML('<b>This is bold</b>'))\n",
    "print_formatted_text(HTML('<i>This is italic</i>'))\n",
    "print_formatted_text(HTML('<u>This is underlined</u>'))"
   ]
  },
  {
   "cell_type": "code",
   "execution_count": 2,
   "id": "a3da4006",
   "metadata": {},
   "outputs": [],
   "source": [
    "import calendar"
   ]
  },
  {
   "cell_type": "code",
   "execution_count": 14,
   "id": "1a15553e",
   "metadata": {},
   "outputs": [
    {
     "name": "stdout",
     "output_type": "stream",
     "text": [
      "\n",
      "January\n",
      "February\n",
      "March\n",
      "April\n",
      "May\n",
      "June\n",
      "July\n",
      "August\n",
      "September\n",
      "October\n",
      "November\n",
      "December\n"
     ]
    }
   ],
   "source": [
    "for name in calendar.month_name:\n",
    "    print(name)"
   ]
  },
  {
   "cell_type": "code",
   "execution_count": 3,
   "id": "d34ef6a8",
   "metadata": {},
   "outputs": [
    {
     "name": "stdout",
     "output_type": "stream",
     "text": [
      "['Calendar', 'EPOCH', 'FRIDAY', 'February', 'HTMLCalendar', 'IllegalMonthError', 'IllegalWeekdayError', 'January', 'LocaleHTMLCalendar', 'LocaleTextCalendar', 'MONDAY', 'SATURDAY', 'SUNDAY', 'THURSDAY', 'TUESDAY', 'TextCalendar', 'WEDNESDAY', '_EPOCH_ORD', '__all__', '__builtins__', '__cached__', '__doc__', '__file__', '__loader__', '__name__', '__package__', '__spec__', '_colwidth', '_locale', '_localized_day', '_localized_month', '_monthlen', '_nextmonth', '_prevmonth', '_spacing', 'c', 'calendar', 'datetime', 'day_abbr', 'day_name', 'different_locale', 'error', 'firstweekday', 'format', 'formatstring', 'isleap', 'leapdays', 'main', 'mdays', 'month', 'month_abbr', 'month_name', 'monthcalendar', 'monthrange', 'prcal', 'prmonth', 'prweek', 'repeat', 'setfirstweekday', 'sys', 'timegm', 'week', 'weekday', 'weekheader']\n"
     ]
    }
   ],
   "source": [
    "print(dir(calendar))"
   ]
  },
  {
   "cell_type": "code",
   "execution_count": 4,
   "id": "9507d852",
   "metadata": {},
   "outputs": [
    {
     "name": "stdout",
     "output_type": "stream",
     "text": [
      "                                  2021\n",
      "\n",
      "      January                   February                   March\n",
      "Mo Tu We Th Fr Sa Su      Mo Tu We Th Fr Sa Su      Mo Tu We Th Fr Sa Su\n",
      "             1  2  3       1  2  3  4  5  6  7       1  2  3  4  5  6  7\n",
      " 4  5  6  7  8  9 10       8  9 10 11 12 13 14       8  9 10 11 12 13 14\n",
      "11 12 13 14 15 16 17      15 16 17 18 19 20 21      15 16 17 18 19 20 21\n",
      "18 19 20 21 22 23 24      22 23 24 25 26 27 28      22 23 24 25 26 27 28\n",
      "25 26 27 28 29 30 31                                29 30 31\n",
      "\n",
      "       April                      May                       June\n",
      "Mo Tu We Th Fr Sa Su      Mo Tu We Th Fr Sa Su      Mo Tu We Th Fr Sa Su\n",
      "          1  2  3  4                      1  2          1  2  3  4  5  6\n",
      " 5  6  7  8  9 10 11       3  4  5  6  7  8  9       7  8  9 10 11 12 13\n",
      "12 13 14 15 16 17 18      10 11 12 13 14 15 16      14 15 16 17 18 19 20\n",
      "19 20 21 22 23 24 25      17 18 19 20 21 22 23      21 22 23 24 25 26 27\n",
      "26 27 28 29 30            24 25 26 27 28 29 30      28 29 30\n",
      "                          31\n",
      "\n",
      "        July                     August                  September\n",
      "Mo Tu We Th Fr Sa Su      Mo Tu We Th Fr Sa Su      Mo Tu We Th Fr Sa Su\n",
      "          1  2  3  4                         1             1  2  3  4  5\n",
      " 5  6  7  8  9 10 11       2  3  4  5  6  7  8       6  7  8  9 10 11 12\n",
      "12 13 14 15 16 17 18       9 10 11 12 13 14 15      13 14 15 16 17 18 19\n",
      "19 20 21 22 23 24 25      16 17 18 19 20 21 22      20 21 22 23 24 25 26\n",
      "26 27 28 29 30 31         23 24 25 26 27 28 29      27 28 29 30\n",
      "                          30 31\n",
      "\n",
      "      October                   November                  December\n",
      "Mo Tu We Th Fr Sa Su      Mo Tu We Th Fr Sa Su      Mo Tu We Th Fr Sa Su\n",
      "             1  2  3       1  2  3  4  5  6  7             1  2  3  4  5\n",
      " 4  5  6  7  8  9 10       8  9 10 11 12 13 14       6  7  8  9 10 11 12\n",
      "11 12 13 14 15 16 17      15 16 17 18 19 20 21      13 14 15 16 17 18 19\n",
      "18 19 20 21 22 23 24      22 23 24 25 26 27 28      20 21 22 23 24 25 26\n",
      "25 26 27 28 29 30 31      29 30                     27 28 29 30 31\n",
      "\n"
     ]
    }
   ],
   "source": [
    "print(calendar.calendar(2021))"
   ]
  },
  {
   "cell_type": "code",
   "execution_count": null,
   "id": "3fe047a1",
   "metadata": {},
   "outputs": [],
   "source": [
    "from __future__ import unicode_literals, print_function\n",
    "from prompt_toolkit import print_formatted_text, HTML\n",
    "\n",
    "print_formatted_text(HTML('<b>This is bold</b>'))\n",
    "print_formatted_text(HTML('<i>This is italic</i>'))\n",
    "print_formatted_text(HTML('<u>This is underlined</u>'))"
   ]
  },
  {
   "cell_type": "code",
   "execution_count": 13,
   "id": "41cf0068",
   "metadata": {},
   "outputs": [
    {
     "name": "stdout",
     "output_type": "stream",
     "text": [
      "\u001b[1mText\u001b[0m\n",
      "\u001b[1mText\u001b[0m\n"
     ]
    }
   ],
   "source": [
    "print('\\033[1m' + 'Text' + '\\033[0m')\n",
    "print('\\033[1m' + 'Text' + '\\033[0m')"
   ]
  },
  {
   "cell_type": "code",
   "execution_count": null,
   "id": "19a7c86a",
   "metadata": {},
   "outputs": [],
   "source": [
    "print_formatted_text(HTML('<b>This is bold</b>'))"
   ]
  },
  {
   "cell_type": "code",
   "execution_count": 18,
   "id": "8ad5719b",
   "metadata": {},
   "outputs": [
    {
     "name": "stdout",
     "output_type": "stream",
     "text": [
      "\u001b[0m\u001b[?7h\u001b[0;1mname\u001b[0m\n",
      "\u001b[0m\u001b[0m\u001b[?7h\u001b[0;1mname\u001b[0m\n",
      "\u001b[0m\u001b[0m\u001b[?7h\u001b[0;1mname\u001b[0m\n",
      "\u001b[0m\u001b[0m\u001b[?7h\u001b[0;1mname\u001b[0m\n",
      "\u001b[0m\u001b[0m\u001b[?7h\u001b[0;1mname\u001b[0m\n",
      "\u001b[0m\u001b[0m\u001b[?7h\u001b[0;1mname\u001b[0m\n",
      "\u001b[0m\u001b[0m\u001b[?7h\u001b[0;1mname\u001b[0m\n",
      "\u001b[0m\u001b[0m\u001b[?7h\u001b[0;1mname\u001b[0m\n",
      "\u001b[0m\u001b[0m\u001b[?7h\u001b[0;1mname\u001b[0m\n",
      "\u001b[0m\u001b[0m\u001b[?7h\u001b[0;1mname\u001b[0m\n",
      "\u001b[0m\u001b[0m\u001b[?7h\u001b[0;1mname\u001b[0m\n",
      "\u001b[0m\u001b[0m\u001b[?7h\u001b[0;1mname\u001b[0m\n",
      "\u001b[0m\u001b[0m\u001b[?7h\u001b[0;1mname\u001b[0m\n",
      "\u001b[0m"
     ]
    }
   ],
   "source": [
    "for name in calendar.month_name:\n",
    "    print_formatted_text(HTML('<b>name</b>'))"
   ]
  },
  {
   "cell_type": "code",
   "execution_count": 19,
   "id": "32329c8f",
   "metadata": {},
   "outputs": [
    {
     "name": "stdout",
     "output_type": "stream",
     "text": [
      "\u001b[1mDecember\u001b[0m\n"
     ]
    }
   ],
   "source": [
    "print('\\033[1m' + name + '\\033[0m')"
   ]
  },
  {
   "cell_type": "code",
   "execution_count": 56,
   "id": "4b484ace",
   "metadata": {},
   "outputs": [
    {
     "name": "stdout",
     "output_type": "stream",
     "text": [
      "\u001b[1mJanuary \n",
      " February \n",
      " March\u001b[0m\n"
     ]
    }
   ],
   "source": [
    "# for name in calendar.month_name:\n",
    "x=list(i for i in calendar.month_name)[1:]\n",
    "    \n",
    "    \n",
    "print('\\033[1m' + x[0],'\\n',x[1],'\\n',x[2] + '\\033[0m')"
   ]
  },
  {
   "cell_type": "code",
   "execution_count": 28,
   "id": "ea92f6e5",
   "metadata": {},
   "outputs": [
    {
     "name": "stdout",
     "output_type": "stream",
     "text": [
      "\n",
      "January\n",
      "February\n",
      "March\n",
      "April\n",
      "May\n",
      "June\n",
      "July\n",
      "August\n",
      "September\n",
      "October\n",
      "November\n",
      "December\n"
     ]
    }
   ],
   "source": [
    "for name in calendar.month_name:\n",
    "    res=[i for i in name]\n",
    "    print(\"\".join(res))\n",
    "    \n",
    "#     print('\\033[1m' + name + '\\033[0m')"
   ]
  },
  {
   "cell_type": "code",
   "execution_count": 35,
   "id": "55d83425",
   "metadata": {},
   "outputs": [],
   "source": [
    "x=list(i for i in calendar.month_name)[1:]"
   ]
  },
  {
   "cell_type": "code",
   "execution_count": 36,
   "id": "4b0be572",
   "metadata": {},
   "outputs": [
    {
     "data": {
      "text/plain": [
       "['January',\n",
       " 'February',\n",
       " 'March',\n",
       " 'April',\n",
       " 'May',\n",
       " 'June',\n",
       " 'July',\n",
       " 'August',\n",
       " 'September',\n",
       " 'October',\n",
       " 'November',\n",
       " 'December']"
      ]
     },
     "execution_count": 36,
     "metadata": {},
     "output_type": "execute_result"
    }
   ],
   "source": [
    "x"
   ]
  },
  {
   "cell_type": "code",
   "execution_count": 37,
   "id": "bedd4ec7",
   "metadata": {},
   "outputs": [
    {
     "data": {
      "text/plain": [
       "'January'"
      ]
     },
     "execution_count": 37,
     "metadata": {},
     "output_type": "execute_result"
    }
   ],
   "source": [
    "x[0]"
   ]
  },
  {
   "cell_type": "code",
   "execution_count": 38,
   "id": "188ccc09",
   "metadata": {},
   "outputs": [
    {
     "data": {
      "text/plain": [
       "'February'"
      ]
     },
     "execution_count": 38,
     "metadata": {},
     "output_type": "execute_result"
    }
   ],
   "source": [
    "x[1]"
   ]
  },
  {
   "cell_type": "code",
   "execution_count": 64,
   "id": "243fa893",
   "metadata": {},
   "outputs": [
    {
     "name": "stdout",
     "output_type": "stream",
     "text": [
      "\u001b[1mJanuary\u001b[0m\n",
      "February\n",
      "\u001b[1mMarch\u001b[0m\n",
      "April\n",
      "\u001b[1mMay\u001b[0m\n",
      "June\n",
      "\u001b[1mJuly\u001b[0m\n",
      "August\n",
      "\u001b[1mSeptember\u001b[0m\n",
      "October\n",
      "\u001b[1mNovember\u001b[0m\n",
      "December\n"
     ]
    }
   ],
   "source": [
    "x=list(i for i in calendar.month_name)[1:]\n",
    "\n",
    "\n",
    "print('\\033[1m' + x[0] + '\\033[0m')\n",
    "print(x[1])\n",
    "print('\\033[1m' + x[2] + '\\033[0m')\n",
    "print(x[3])\n",
    "print('\\033[1m' + x[4] + '\\033[0m')\n",
    "print(x[5])\n",
    "print('\\033[1m' + x[6] + '\\033[0m')\n",
    "print(x[7])\n",
    "print('\\033[1m' + x[8] + '\\033[0m')\n",
    "print(x[9])\n",
    "print('\\033[1m' + x[10] + '\\033[0m')\n",
    "print(x[11])\n",
    "\n",
    "    \n",
    "        "
   ]
  },
  {
   "cell_type": "code",
   "execution_count": 40,
   "id": "3be183ac",
   "metadata": {},
   "outputs": [
    {
     "name": "stdout",
     "output_type": "stream",
     "text": [
      "January\n",
      "February\n",
      "March\n",
      "April\n",
      "May\n",
      "June\n",
      "July\n",
      "August\n",
      "September\n",
      "October\n",
      "November\n",
      "December\n",
      "<class 'str'>\n"
     ]
    }
   ],
   "source": [
    "x=list(i for i in calendar.month_name)[1:]\n",
    "\n",
    "for i in x:\n",
    "    print(i)\n",
    "print(type(i))"
   ]
  },
  {
   "cell_type": "code",
   "execution_count": 68,
   "id": "309f97fb",
   "metadata": {},
   "outputs": [
    {
     "name": "stdout",
     "output_type": "stream",
     "text": [
      "The output is:\u001b[93mPython Programming !\u001b[94m\n"
     ]
    }
   ],
   "source": [
    "class bold_color:\n",
    "   PURPLE = '\\033[95m'\n",
    "   CYAN = '\\033[96m'\n",
    "   DARKCYAN = '\\033[36m'\n",
    "   BLUE = '\\033[94m'\n",
    "   GREEN = '\\033[92m'\n",
    "   YELLOW = '\\033[93m'\n",
    "   RED = '\\033[91m'\n",
    "   BOLD = '\\033[1m'\n",
    "   UNDERLINE = '\\033[4m'\n",
    "   END = '\\033[0m'\n",
    "\n",
    "print(\"The output is:\" + bold_color.YELLOW + 'Python Programming !' + bold_color.BLUE)"
   ]
  },
  {
   "cell_type": "code",
   "execution_count": 72,
   "id": "b896ca71",
   "metadata": {},
   "outputs": [
    {
     "name": "stdout",
     "output_type": "stream",
     "text": [
      "The output is:\u001b[36mPython Programming !\u001b[94m\n"
     ]
    }
   ],
   "source": [
    "class bold_color:\n",
    "   PURPLE = '\\033[95m'\n",
    "   CYAN = '\\033[96m'\n",
    "   DARKCYAN = '\\033[36m'\n",
    "   BLUE = '\\033[94m'\n",
    "   GREEN = '\\033[92m'\n",
    "   YELLOW = '\\033[93m'\n",
    "   RED = '\\033[91m'\n",
    "   BOLD = '\\033[1m'\n",
    "   UNDERLINE = '\\033[4m'\n",
    "   END = '\\033[0m'\n",
    "\n",
    "print(\"The output is:\" + bold_color.DARKCYAN + 'Python Programming !' + bold_color.BLUE)"
   ]
  },
  {
   "cell_type": "code",
   "execution_count": 73,
   "id": "75b6dff5",
   "metadata": {},
   "outputs": [
    {
     "ename": "ModuleNotFoundError",
     "evalue": "No module named 'termcolor'",
     "output_type": "error",
     "traceback": [
      "\u001b[1;31m---------------------------------------------------------------------------\u001b[0m",
      "\u001b[1;31mModuleNotFoundError\u001b[0m                       Traceback (most recent call last)",
      "\u001b[1;32m<ipython-input-73-509547cb8ccf>\u001b[0m in \u001b[0;36m<module>\u001b[1;34m\u001b[0m\n\u001b[1;32m----> 1\u001b[1;33m \u001b[1;32mimport\u001b[0m \u001b[0mtermcolor\u001b[0m\u001b[1;33m\u001b[0m\u001b[1;33m\u001b[0m\u001b[0m\n\u001b[0m",
      "\u001b[1;31mModuleNotFoundError\u001b[0m: No module named 'termcolor'"
     ]
    }
   ],
   "source": [
    "import termcolor"
   ]
  },
  {
   "cell_type": "code",
   "execution_count": 74,
   "id": "1aac3d97",
   "metadata": {},
   "outputs": [
    {
     "name": "stdout",
     "output_type": "stream",
     "text": [
      "Collecting termcolorNote: you may need to restart the kernel to use updated packages.\n",
      "\n",
      "  Downloading termcolor-1.1.0.tar.gz (3.9 kB)\n",
      "Building wheels for collected packages: termcolor\n",
      "  Building wheel for termcolor (setup.py): started\n",
      "  Building wheel for termcolor (setup.py): finished with status 'done'\n",
      "  Created wheel for termcolor: filename=termcolor-1.1.0-py3-none-any.whl size=4829 sha256=46cd52fde6bb555790b5300b768637c09c95d110d2bd7bfd1035cc204ec53b2f\n",
      "  Stored in directory: c:\\users\\shweta bhandare\\appdata\\local\\pip\\cache\\wheels\\a0\\16\\9c\\5473df82468f958445479c59e784896fa24f4a5fc024b0f501\n",
      "Successfully built termcolor\n",
      "Installing collected packages: termcolor\n",
      "Successfully installed termcolor-1.1.0\n"
     ]
    }
   ],
   "source": [
    "pip install termcolor"
   ]
  },
  {
   "cell_type": "code",
   "execution_count": 75,
   "id": "eaa726ab",
   "metadata": {},
   "outputs": [],
   "source": [
    "import termcolor"
   ]
  },
  {
   "cell_type": "code",
   "execution_count": 76,
   "id": "f3c1501c",
   "metadata": {},
   "outputs": [
    {
     "name": "stdout",
     "output_type": "stream",
     "text": [
      "['ATTRIBUTES', 'COLORS', 'HIGHLIGHTS', 'RESET', 'VERSION', '__ALL__', '__builtins__', '__cached__', '__doc__', '__file__', '__loader__', '__name__', '__package__', '__spec__', 'colored', 'cprint', 'os', 'print_function']\n"
     ]
    }
   ],
   "source": [
    "print(dir(termcolor))"
   ]
  },
  {
   "cell_type": "code",
   "execution_count": 79,
   "id": "e637ebcf",
   "metadata": {},
   "outputs": [],
   "source": [
    "from termcolor import COLORS,colored"
   ]
  },
  {
   "cell_type": "code",
   "execution_count": 80,
   "id": "f36ac2f2",
   "metadata": {},
   "outputs": [
    {
     "name": "stdout",
     "output_type": "stream",
     "text": [
      "['__annotations__', '__call__', '__class__', '__closure__', '__code__', '__defaults__', '__delattr__', '__dict__', '__dir__', '__doc__', '__eq__', '__format__', '__ge__', '__get__', '__getattribute__', '__globals__', '__gt__', '__hash__', '__init__', '__init_subclass__', '__kwdefaults__', '__le__', '__lt__', '__module__', '__name__', '__ne__', '__new__', '__qualname__', '__reduce__', '__reduce_ex__', '__repr__', '__setattr__', '__sizeof__', '__str__', '__subclasshook__']\n"
     ]
    }
   ],
   "source": [
    "print(dir(colored))"
   ]
  },
  {
   "cell_type": "code",
   "execution_count": 81,
   "id": "af870ff9",
   "metadata": {},
   "outputs": [
    {
     "name": "stdout",
     "output_type": "stream",
     "text": [
      "Help on function colored in module termcolor:\n",
      "\n",
      "colored(text, color=None, on_color=None, attrs=None)\n",
      "    Colorize text.\n",
      "    \n",
      "    Available text colors:\n",
      "        red, green, yellow, blue, magenta, cyan, white.\n",
      "    \n",
      "    Available text highlights:\n",
      "        on_red, on_green, on_yellow, on_blue, on_magenta, on_cyan, on_white.\n",
      "    \n",
      "    Available attributes:\n",
      "        bold, dark, underline, blink, reverse, concealed.\n",
      "    \n",
      "    Example:\n",
      "        colored('Hello, World!', 'red', 'on_grey', ['blue', 'blink'])\n",
      "        colored('Hello, World!', 'green')\n",
      "\n"
     ]
    }
   ],
   "source": [
    "help(termcolor.colored)"
   ]
  },
  {
   "cell_type": "code",
   "execution_count": 82,
   "id": "66fb613d",
   "metadata": {},
   "outputs": [
    {
     "name": "stdout",
     "output_type": "stream",
     "text": [
      "\u001b[32mVikas\u001b[0m\n"
     ]
    }
   ],
   "source": [
    "print(colored(\"Vikas\",'green'))"
   ]
  },
  {
   "cell_type": "code",
   "execution_count": 83,
   "id": "4fb82e8e",
   "metadata": {},
   "outputs": [
    {
     "name": "stdout",
     "output_type": "stream",
     "text": [
      "\u001b[31mPython\u001b[0m\n"
     ]
    }
   ],
   "source": [
    "print(colored(\"Python\",'red'))"
   ]
  },
  {
   "cell_type": "code",
   "execution_count": 88,
   "id": "570888fe",
   "metadata": {},
   "outputs": [
    {
     "name": "stdout",
     "output_type": "stream",
     "text": [
      "\u001b[33mHello, World!\u001b[0m\n"
     ]
    }
   ],
   "source": [
    "print(colored('Hello, World!', 'yellow'))"
   ]
  },
  {
   "cell_type": "code",
   "execution_count": 7,
   "id": "8da077e0",
   "metadata": {},
   "outputs": [
    {
     "name": "stdout",
     "output_type": "stream",
     "text": [
      "\u001b[1mJanuary\u001b[0m\n",
      "February\n",
      "\u001b[1mMarch\u001b[0m\n",
      "April\n",
      "\u001b[1mMay\u001b[0m\n",
      "June\n",
      "\u001b[1mJuly\u001b[0m\n",
      "August\n",
      "\u001b[1mSeptember\u001b[0m\n",
      "October\n",
      "\u001b[1mNovember\u001b[0m\n",
      "December\n"
     ]
    }
   ],
   "source": [
    "import calendar\n",
    "\n",
    "x=list(i for i in calendar.month_name)[1:]\n",
    "\n",
    "for name in range(len(x)):\n",
    "    if name % 2==0:\n",
    "        print('\\033[1m' + x[name] + '\\033[0m')\n",
    "    else:\n",
    "        print(x[name])"
   ]
  },
  {
   "cell_type": "code",
   "execution_count": null,
   "id": "93a75fea",
   "metadata": {},
   "outputs": [],
   "source": [
    "# Write a python function that will output the twelve months(i.e January,February,...) in a HTML table one month per row.\n",
    "# The rows will have alternating Bold and normal font."
   ]
  },
  {
   "cell_type": "code",
   "execution_count": 16,
   "id": "fd309cf7",
   "metadata": {},
   "outputs": [],
   "source": [
    "import calendar\n",
    "\n",
    "def months_bold():\n",
    "    \"\"\"\n",
    "    This function returns one month per row.\n",
    "    The rows will have alternating Bold and normal font.\n",
    "    \"\"\"\n",
    "    x=list(i for i in calendar.month_name)[1:]\n",
    "\n",
    "    for name in range(len(x)):\n",
    "        if name % 2==0:\n",
    "            print( + x[name] + '\\033[0m')\n",
    "        else:\n",
    "            print(x[name])"
   ]
  },
  {
   "cell_type": "code",
   "execution_count": 17,
   "id": "d73189c3",
   "metadata": {},
   "outputs": [
    {
     "name": "stdout",
     "output_type": "stream",
     "text": [
      "\u001b[1mJanuary\u001b[0m\n",
      "February\n",
      "\u001b[1mMarch\u001b[0m\n",
      "April\n",
      "\u001b[1mMay\u001b[0m\n",
      "June\n",
      "\u001b[1mJuly\u001b[0m\n",
      "August\n",
      "\u001b[1mSeptember\u001b[0m\n",
      "October\n",
      "\u001b[1mNovember\u001b[0m\n",
      "December\n"
     ]
    }
   ],
   "source": [
    "months_bold()"
   ]
  },
  {
   "cell_type": "code",
   "execution_count": 21,
   "id": "04819cf4",
   "metadata": {},
   "outputs": [],
   "source": [
    "import calendar\n",
    "\n",
    "def months_red():\n",
    "    \"\"\"\n",
    "    This function returns one month per row.\n",
    "    The rows will have alternating Red and normal font.\n",
    "    \"\"\"\n",
    "    x=list(i for i in calendar.month_name)[1:]\n",
    "\n",
    "    for name in range(len(x)):\n",
    "        if name % 2==0:\n",
    "            print('\\033[91m' + x[name] + '\\033[0m')\n",
    "        else:\n",
    "            print(x[name])"
   ]
  },
  {
   "cell_type": "code",
   "execution_count": 23,
   "id": "60dde39f",
   "metadata": {},
   "outputs": [
    {
     "name": "stdout",
     "output_type": "stream",
     "text": [
      "\u001b[91mJanuary\u001b[0m\n",
      "February\n",
      "\u001b[91mMarch\u001b[0m\n",
      "April\n",
      "\u001b[91mMay\u001b[0m\n",
      "June\n",
      "\u001b[91mJuly\u001b[0m\n",
      "August\n",
      "\u001b[91mSeptember\u001b[0m\n",
      "October\n",
      "\u001b[91mNovember\u001b[0m\n",
      "December\n"
     ]
    }
   ],
   "source": [
    "months_red()"
   ]
  },
  {
   "cell_type": "code",
   "execution_count": 27,
   "id": "39016efe",
   "metadata": {},
   "outputs": [],
   "source": [
    "import calendar\n",
    "\n",
    "def months_green():\n",
    "    \"\"\"\n",
    "    This function returns one month per row.\n",
    "    The rows will have alternating Green and normal font.\n",
    "    \"\"\"\n",
    "    x=list(i for i in calendar.month_name)[1:]\n",
    "\n",
    "    for name in range(len(x)): \n",
    "        if name % 2==0:\n",
    "            print('\\033[92m'+'\\033[1m' + x[name] + '\\033[0m')  # green + Bold\n",
    "        else:\n",
    "            print(x[name])"
   ]
  },
  {
   "cell_type": "code",
   "execution_count": 28,
   "id": "c1792d94",
   "metadata": {},
   "outputs": [
    {
     "name": "stdout",
     "output_type": "stream",
     "text": [
      "\u001b[92m\u001b[1mJanuary\u001b[0m\n",
      "February\n",
      "\u001b[92m\u001b[1mMarch\u001b[0m\n",
      "April\n",
      "\u001b[92m\u001b[1mMay\u001b[0m\n",
      "June\n",
      "\u001b[92m\u001b[1mJuly\u001b[0m\n",
      "August\n",
      "\u001b[92m\u001b[1mSeptember\u001b[0m\n",
      "October\n",
      "\u001b[92m\u001b[1mNovember\u001b[0m\n",
      "December\n"
     ]
    }
   ],
   "source": [
    "months_green()"
   ]
  },
  {
   "cell_type": "code",
   "execution_count": 29,
   "id": "f87d296f",
   "metadata": {},
   "outputs": [
    {
     "name": "stdout",
     "output_type": "stream",
     "text": [
      "['A', 'B', 'C', 'D', 'a', 'b', 'c', 'd']\n"
     ]
    }
   ],
   "source": [
    "x=['a','b','c','d','A','B','C','D']\n",
    "x.sort()\n",
    "print(x)"
   ]
  },
  {
   "cell_type": "code",
   "execution_count": 4,
   "id": "cefa0d32",
   "metadata": {
    "ExecuteTime": {
     "end_time": "2021-09-23T15:23:19.655574Z",
     "start_time": "2021-09-23T15:23:17.795333Z"
    }
   },
   "outputs": [
    {
     "name": "stdout",
     "output_type": "stream",
     "text": [
      "Enter number:- 4\n"
     ]
    },
    {
     "ename": "TypeError",
     "evalue": "'function' object is not iterable",
     "output_type": "error",
     "traceback": [
      "\u001b[1;31m---------------------------------------------------------------------------\u001b[0m",
      "\u001b[1;31mTypeError\u001b[0m                                 Traceback (most recent call last)",
      "\u001b[1;32m<ipython-input-4-01f1d6b355ab>\u001b[0m in \u001b[0;36m<module>\u001b[1;34m\u001b[0m\n\u001b[0;32m      1\u001b[0m \u001b[0mn\u001b[0m\u001b[1;33m=\u001b[0m\u001b[0mint\u001b[0m\u001b[1;33m(\u001b[0m\u001b[0minput\u001b[0m\u001b[1;33m(\u001b[0m\u001b[1;34m\"Enter number:- \"\u001b[0m\u001b[1;33m)\u001b[0m\u001b[1;33m)\u001b[0m\u001b[1;33m\u001b[0m\u001b[1;33m\u001b[0m\u001b[0m\n\u001b[0;32m      2\u001b[0m \u001b[0mx\u001b[0m\u001b[1;33m=\u001b[0m\u001b[1;32mlambda\u001b[0m \u001b[0mn\u001b[0m\u001b[1;33m:\u001b[0m\u001b[1;34m\"even\"\u001b[0m \u001b[1;32mif\u001b[0m \u001b[0mn\u001b[0m\u001b[1;33m%\u001b[0m\u001b[1;36m2\u001b[0m\u001b[1;33m==\u001b[0m\u001b[1;36m0\u001b[0m \u001b[1;32melse\u001b[0m \u001b[1;34m\"odd\"\u001b[0m\u001b[1;33m\u001b[0m\u001b[1;33m\u001b[0m\u001b[0m\n\u001b[1;32m----> 3\u001b[1;33m \u001b[0mprint\u001b[0m\u001b[1;33m(\u001b[0m\u001b[0mlist\u001b[0m\u001b[1;33m(\u001b[0m\u001b[0mx\u001b[0m\u001b[1;33m)\u001b[0m\u001b[1;33m)\u001b[0m\u001b[1;33m\u001b[0m\u001b[1;33m\u001b[0m\u001b[0m\n\u001b[0m",
      "\u001b[1;31mTypeError\u001b[0m: 'function' object is not iterable"
     ]
    }
   ],
   "source": [
    "n=int(input(\"Enter number:- \"))\n",
    "x=lambda n:\"even\" if n%2==0 else \"odd\"\n",
    "print(list(x))"
   ]
  },
  {
   "cell_type": "code",
   "execution_count": 8,
   "id": "e8d5f29e",
   "metadata": {
    "ExecuteTime": {
     "end_time": "2021-09-23T15:27:12.613775Z",
     "start_time": "2021-09-23T15:27:09.652492Z"
    }
   },
   "outputs": [
    {
     "name": "stdout",
     "output_type": "stream",
     "text": [
      "16\n"
     ]
    },
    {
     "ename": "TypeError",
     "evalue": "'tuple' object is not callable",
     "output_type": "error",
     "traceback": [
      "\u001b[1;31m---------------------------------------------------------------------------\u001b[0m",
      "\u001b[1;31mTypeError\u001b[0m                                 Traceback (most recent call last)",
      "\u001b[1;32m<ipython-input-8-d42b0a4b9b0a>\u001b[0m in \u001b[0;36m<module>\u001b[1;34m\u001b[0m\n\u001b[0;32m      1\u001b[0m \u001b[0mn\u001b[0m\u001b[1;33m=\u001b[0m\u001b[0mint\u001b[0m\u001b[1;33m(\u001b[0m\u001b[0minput\u001b[0m\u001b[1;33m(\u001b[0m\u001b[1;33m)\u001b[0m\u001b[1;33m)\u001b[0m\u001b[1;33m\u001b[0m\u001b[1;33m\u001b[0m\u001b[0m\n\u001b[0;32m      2\u001b[0m \u001b[0mx\u001b[0m\u001b[1;33m=\u001b[0m\u001b[1;32mlambda\u001b[0m \u001b[0mn\u001b[0m\u001b[1;33m:\u001b[0m\u001b[1;34m\"even\"\u001b[0m \u001b[1;32mif\u001b[0m \u001b[0mn\u001b[0m\u001b[1;33m%\u001b[0m\u001b[1;36m2\u001b[0m\u001b[1;33m==\u001b[0m\u001b[1;36m0\u001b[0m \u001b[1;32melse\u001b[0m \u001b[1;34m\"odd\"\u001b[0m\u001b[1;33m,\u001b[0m\u001b[0mn\u001b[0m\u001b[1;33m\u001b[0m\u001b[1;33m\u001b[0m\u001b[0m\n\u001b[1;32m----> 3\u001b[1;33m \u001b[0mprint\u001b[0m\u001b[1;33m(\u001b[0m\u001b[0mx\u001b[0m\u001b[1;33m(\u001b[0m\u001b[1;33m)\u001b[0m\u001b[1;33m)\u001b[0m\u001b[1;33m\u001b[0m\u001b[1;33m\u001b[0m\u001b[0m\n\u001b[0m",
      "\u001b[1;31mTypeError\u001b[0m: 'tuple' object is not callable"
     ]
    }
   ],
   "source": [
    "\n",
    "n=int(input())\n",
    "x=lambda n:\"even\" if n%2==0 else \"odd\",n\n",
    "print(x())"
   ]
  },
  {
   "cell_type": "code",
   "execution_count": null,
   "id": "a22f2bcb",
   "metadata": {},
   "outputs": [],
   "source": []
  }
 ],
 "metadata": {
  "kernelspec": {
   "display_name": "Python 3",
   "language": "python",
   "name": "python3"
  },
  "language_info": {
   "codemirror_mode": {
    "name": "ipython",
    "version": 3
   },
   "file_extension": ".py",
   "mimetype": "text/x-python",
   "name": "python",
   "nbconvert_exporter": "python",
   "pygments_lexer": "ipython3",
   "version": "3.8.8"
  }
 },
 "nbformat": 4,
 "nbformat_minor": 5
}
