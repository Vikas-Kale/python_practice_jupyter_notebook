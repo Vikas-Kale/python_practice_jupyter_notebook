{
 "cells": [
  {
   "cell_type": "code",
   "execution_count": 3,
   "id": "53d92b6d",
   "metadata": {
    "ExecuteTime": {
     "end_time": "2021-09-26T03:56:44.674272Z",
     "start_time": "2021-09-26T03:56:44.659274Z"
    }
   },
   "outputs": [],
   "source": [
    "# write a python program to calculate lcm of two numbers.\n",
    "\n",
    "def LCM(a,b):\n",
    "    if a > b:\n",
    "        greater = a\n",
    "    elif b > a:\n",
    "        greater = b\n",
    "        \n",
    "    while True:\n",
    "        if ((greater % a == 0) and (greater % b == 0)):\n",
    "            lcm = greater\n",
    "            break\n",
    "        greater+=1\n",
    "    return lcm\n"
   ]
  },
  {
   "cell_type": "code",
   "execution_count": 4,
   "id": "0c1d140d",
   "metadata": {
    "ExecuteTime": {
     "end_time": "2021-09-26T03:56:54.247117Z",
     "start_time": "2021-09-26T03:56:54.224248Z"
    }
   },
   "outputs": [
    {
     "data": {
      "text/plain": [
       "60"
      ]
     },
     "execution_count": 4,
     "metadata": {},
     "output_type": "execute_result"
    }
   ],
   "source": [
    "LCM(10,12)"
   ]
  },
  {
   "cell_type": "code",
   "execution_count": 5,
   "id": "d3b6a95a",
   "metadata": {
    "ExecuteTime": {
     "end_time": "2021-09-26T04:04:37.153673Z",
     "start_time": "2021-09-26T04:04:37.142674Z"
    }
   },
   "outputs": [],
   "source": [
    "def lcm_of_three_numbers(a,b,c):\n",
    "    \"\"\"\n",
    "    This function calculate and returns lcm of three numbers.\n",
    "    Parameter of this function must be integer.\n",
    "    \"\"\"\n",
    "    if a > b and c:\n",
    "        greater = a\n",
    "    elif b > a and c:\n",
    "        greater = b\n",
    "    elif c > a and b:\n",
    "        greater = c\n",
    "        \n",
    "    while True:\n",
    "        if ((greater % a == 0) and (greater % b == 0) and (greater % c == 0)):\n",
    "            lcm = greater\n",
    "            break\n",
    "        greater+=1\n",
    "    return lcm\n",
    "            "
   ]
  },
  {
   "cell_type": "code",
   "execution_count": 6,
   "id": "f9eee1dd",
   "metadata": {
    "ExecuteTime": {
     "end_time": "2021-09-26T04:05:19.781650Z",
     "start_time": "2021-09-26T04:05:19.758651Z"
    }
   },
   "outputs": [
    {
     "data": {
      "text/plain": [
       "24"
      ]
     },
     "execution_count": 6,
     "metadata": {},
     "output_type": "execute_result"
    }
   ],
   "source": [
    "lcm_of_three_numbers(12,6,8)"
   ]
  },
  {
   "cell_type": "code",
   "execution_count": 8,
   "id": "d5d19b54",
   "metadata": {
    "ExecuteTime": {
     "end_time": "2021-09-26T04:30:11.946839Z",
     "start_time": "2021-09-26T04:30:11.929840Z"
    }
   },
   "outputs": [
    {
     "name": "stdout",
     "output_type": "stream",
     "text": [
      "0\n",
      "1\n",
      "1\n",
      "2\n",
      "3\n",
      "5\n",
      "8\n",
      "13\n",
      "21\n",
      "34\n"
     ]
    }
   ],
   "source": [
    "fibo = lambda n:n if n<=1 else fibo(n-1) + fibo(n-2)\n",
    "\n",
    "for i in range(10):\n",
    "    f=fibo(i)\n",
    "    print(f)"
   ]
  },
  {
   "cell_type": "code",
   "execution_count": 9,
   "id": "90b83fb0",
   "metadata": {
    "ExecuteTime": {
     "end_time": "2021-09-26T04:30:22.953000Z",
     "start_time": "2021-09-26T04:30:22.906384Z"
    }
   },
   "outputs": [
    {
     "name": "stdout",
     "output_type": "stream",
     "text": [
      "Help on function <lambda> in module __main__:\n",
      "\n",
      "<lambda> lambda n\n",
      "\n"
     ]
    }
   ],
   "source": [
    "help(fibo)"
   ]
  },
  {
   "cell_type": "code",
   "execution_count": null,
   "id": "17e541f0",
   "metadata": {},
   "outputs": [],
   "source": []
  }
 ],
 "metadata": {
  "kernelspec": {
   "display_name": "Python 3",
   "language": "python",
   "name": "python3"
  },
  "language_info": {
   "codemirror_mode": {
    "name": "ipython",
    "version": 3
   },
   "file_extension": ".py",
   "mimetype": "text/x-python",
   "name": "python",
   "nbconvert_exporter": "python",
   "pygments_lexer": "ipython3",
   "version": "3.8.8"
  }
 },
 "nbformat": 4,
 "nbformat_minor": 5
}
