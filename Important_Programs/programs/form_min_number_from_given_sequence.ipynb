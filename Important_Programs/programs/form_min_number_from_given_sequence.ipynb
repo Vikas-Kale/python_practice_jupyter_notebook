{
 "cells": [
  {
   "cell_type": "code",
   "execution_count": null,
   "id": "3526006a",
   "metadata": {},
   "outputs": [],
   "source": [
    "Given a pattern containing only I’s and D’s. I for increasing and D for decreasing. Devise an algorithm to print the minimum number following that pattern. Digits from 1-9 and digits can’t repeat.\n",
    "\n",
    "Examples: \n",
    "\n",
    "   Input: D        Output: 21\n",
    "   Input: I        Output: 12\n",
    "   Input: DD       Output: 321\n",
    "   Input: II       Output: 123\n",
    "   Input: DIDI     Output: 21435\n",
    "   Input: IIDDD    Output: 126543\n",
    "   Input: DDIDDIID Output: 321654798"
   ]
  },
  {
   "cell_type": "code",
   "execution_count": 3,
   "id": "b8c12f50",
   "metadata": {},
   "outputs": [
    {
     "name": "stdout",
     "output_type": "stream",
     "text": [
      "1 3 2 5 4 \n",
      "1 2 \n",
      "3 2 1 \n",
      "1 2 3 \n",
      "2 1 4 3 5 \n",
      "1 2 6 5 4 3 \n",
      "3 2 1 6 5 4 7 9 8 \n"
     ]
    }
   ],
   "source": [
    "# Python3 program to print minimum\n",
    "# number that can be formed from a\n",
    "# given sequence of Is and Ds\n",
    "def PrintMinNumberForPattern(Strr):\n",
    "\t\n",
    "\t# Take a List to work as Stack\n",
    "\tstack = []\n",
    "\n",
    "\t# String for storing result\n",
    "\tres = ''\n",
    "\n",
    "\t# run n+1 times where n is length\n",
    "\t# of input sequence, As length of\n",
    "\t# result string is always 1 greater\n",
    "\tfor i in range(len(Strr) + 1):\n",
    "\n",
    "\t\t# Push number i+1 into the stack\n",
    "\t\tstack.append(i + 1)\n",
    "\n",
    "\t\t# If all characters of the input\n",
    "\t\t# sequence are processed or current\n",
    "\t\t# character is 'I\n",
    "\t\tif (i == len(Strr) or Strr[i] == 'I'):\n",
    "\n",
    "\t\t\t# Run While Loop Until stack is empty\n",
    "\t\t\twhile len(stack) > 0:\n",
    "\t\t\t\t\n",
    "\t\t\t\t# pop the element on top of stack\n",
    "\t\t\t\t# And store it in result String\n",
    "\t\t\t\tres += str(stack.pop())\n",
    "\t\t\t\tres += ' '\n",
    "\t\t\t\t\n",
    "\t# Print the result\n",
    "\tprint(res)\n",
    "\n",
    "# Driver Code\n",
    "\n",
    "PrintMinNumberForPattern(\"IDID\")\n",
    "PrintMinNumberForPattern(\"I\")\n",
    "PrintMinNumberForPattern(\"DD\")\n",
    "PrintMinNumberForPattern(\"II\")\n",
    "PrintMinNumberForPattern(\"DIDI\")\n",
    "PrintMinNumberForPattern(\"IIDDD\")\n",
    "PrintMinNumberForPattern(\"DDIDDIID\")\n",
    "\n",
    "# This code is contributed by AyushManglani\n"
   ]
  },
  {
   "cell_type": "code",
   "execution_count": null,
   "id": "de45887b",
   "metadata": {},
   "outputs": [],
   "source": [
    "for i in range(1,10):\n",
    "    "
   ]
  }
 ],
 "metadata": {
  "kernelspec": {
   "display_name": "Python 3",
   "language": "python",
   "name": "python3"
  },
  "language_info": {
   "codemirror_mode": {
    "name": "ipython",
    "version": 3
   },
   "file_extension": ".py",
   "mimetype": "text/x-python",
   "name": "python",
   "nbconvert_exporter": "python",
   "pygments_lexer": "ipython3",
   "version": "3.8.8"
  }
 },
 "nbformat": 4,
 "nbformat_minor": 5
}
