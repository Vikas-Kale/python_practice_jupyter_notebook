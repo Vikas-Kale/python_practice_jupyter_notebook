{
 "cells": [
  {
   "cell_type": "code",
   "execution_count": 2,
   "id": "e37e0c30",
   "metadata": {},
   "outputs": [],
   "source": [
    "a={1,2,3,4,5,6}\n",
    "b={8,9,10,2,5,1}"
   ]
  },
  {
   "cell_type": "code",
   "execution_count": 4,
   "id": "86479903",
   "metadata": {},
   "outputs": [
    {
     "data": {
      "text/plain": [
       "{3, 4, 6}"
      ]
     },
     "execution_count": 4,
     "metadata": {},
     "output_type": "execute_result"
    }
   ],
   "source": [
    "a.difference(b)"
   ]
  },
  {
   "cell_type": "code",
   "execution_count": 5,
   "id": "0c1e62ef",
   "metadata": {},
   "outputs": [
    {
     "data": {
      "text/plain": [
       "{8, 9, 10}"
      ]
     },
     "execution_count": 5,
     "metadata": {},
     "output_type": "execute_result"
    }
   ],
   "source": [
    "b.difference(a)"
   ]
  },
  {
   "cell_type": "code",
   "execution_count": 6,
   "id": "a4eacc34",
   "metadata": {},
   "outputs": [
    {
     "data": {
      "text/plain": [
       "{1, 2, 3, 4, 5, 6}"
      ]
     },
     "execution_count": 6,
     "metadata": {},
     "output_type": "execute_result"
    }
   ],
   "source": [
    "a"
   ]
  },
  {
   "cell_type": "code",
   "execution_count": 7,
   "id": "f2dcc9cb",
   "metadata": {},
   "outputs": [
    {
     "data": {
      "text/plain": [
       "{1, 2, 5, 8, 9, 10}"
      ]
     },
     "execution_count": 7,
     "metadata": {},
     "output_type": "execute_result"
    }
   ],
   "source": [
    "b"
   ]
  },
  {
   "cell_type": "code",
   "execution_count": 8,
   "id": "ffadbe9e",
   "metadata": {},
   "outputs": [
    {
     "data": {
      "text/plain": [
       "{3, 4, 6}"
      ]
     },
     "execution_count": 8,
     "metadata": {},
     "output_type": "execute_result"
    }
   ],
   "source": [
    "a-b"
   ]
  },
  {
   "cell_type": "code",
   "execution_count": 9,
   "id": "0fa4dced",
   "metadata": {},
   "outputs": [
    {
     "data": {
      "text/plain": [
       "{8, 9, 10}"
      ]
     },
     "execution_count": 9,
     "metadata": {},
     "output_type": "execute_result"
    }
   ],
   "source": [
    "b-a"
   ]
  },
  {
   "cell_type": "code",
   "execution_count": 12,
   "id": "ddb73c97",
   "metadata": {},
   "outputs": [],
   "source": [
    "s={\"Hacker\"}\n",
    "d={\"Rank\"}"
   ]
  },
  {
   "cell_type": "code",
   "execution_count": 13,
   "id": "541cf0a5",
   "metadata": {},
   "outputs": [
    {
     "data": {
      "text/plain": [
       "{'Hacker'}"
      ]
     },
     "execution_count": 13,
     "metadata": {},
     "output_type": "execute_result"
    }
   ],
   "source": [
    "s.difference(d)"
   ]
  },
  {
   "cell_type": "code",
   "execution_count": 14,
   "id": "ec41216c",
   "metadata": {},
   "outputs": [
    {
     "data": {
      "text/plain": [
       "{'Rank'}"
      ]
     },
     "execution_count": 14,
     "metadata": {},
     "output_type": "execute_result"
    }
   ],
   "source": [
    "d.difference(s)"
   ]
  },
  {
   "cell_type": "code",
   "execution_count": 15,
   "id": "47539e3d",
   "metadata": {},
   "outputs": [
    {
     "data": {
      "text/plain": [
       "{'Hacker'}"
      ]
     },
     "execution_count": 15,
     "metadata": {},
     "output_type": "execute_result"
    }
   ],
   "source": [
    "s-d"
   ]
  },
  {
   "cell_type": "code",
   "execution_count": 16,
   "id": "d79fe7ee",
   "metadata": {},
   "outputs": [
    {
     "data": {
      "text/plain": [
       "{'Hacker'}"
      ]
     },
     "execution_count": 16,
     "metadata": {},
     "output_type": "execute_result"
    }
   ],
   "source": [
    "s.difference(\"Rank\")"
   ]
  },
  {
   "cell_type": "code",
   "execution_count": 17,
   "id": "1a50667d",
   "metadata": {},
   "outputs": [],
   "source": [
    "s=set(\"Hacker\")"
   ]
  },
  {
   "cell_type": "code",
   "execution_count": 18,
   "id": "c44baa96",
   "metadata": {},
   "outputs": [
    {
     "data": {
      "text/plain": [
       "{'H', 'c', 'e', 'r'}"
      ]
     },
     "execution_count": 18,
     "metadata": {},
     "output_type": "execute_result"
    }
   ],
   "source": [
    "s.difference(\"Rank\")"
   ]
  },
  {
   "cell_type": "code",
   "execution_count": 20,
   "id": "83ec3ebd",
   "metadata": {},
   "outputs": [
    {
     "data": {
      "text/plain": [
       "{'H', 'a', 'c', 'e', 'k', 'r'}"
      ]
     },
     "execution_count": 20,
     "metadata": {},
     "output_type": "execute_result"
    }
   ],
   "source": [
    "s.difference(enumerate({\"Rank\"}))"
   ]
  },
  {
   "cell_type": "code",
   "execution_count": 21,
   "id": "8adcd12b",
   "metadata": {},
   "outputs": [
    {
     "data": {
      "text/plain": [
       "{'H', 'a', 'c', 'e', 'k', 'r'}"
      ]
     },
     "execution_count": 21,
     "metadata": {},
     "output_type": "execute_result"
    }
   ],
   "source": [
    "s"
   ]
  },
  {
   "cell_type": "code",
   "execution_count": 22,
   "id": "8464c095",
   "metadata": {},
   "outputs": [],
   "source": [
    "s={\"Hacker\"}"
   ]
  },
  {
   "cell_type": "code",
   "execution_count": 23,
   "id": "54310e53",
   "metadata": {},
   "outputs": [
    {
     "data": {
      "text/plain": [
       "{'Hacker'}"
      ]
     },
     "execution_count": 23,
     "metadata": {},
     "output_type": "execute_result"
    }
   ],
   "source": [
    "s-set(\"Rank\")"
   ]
  },
  {
   "cell_type": "markdown",
   "id": "0cee2216",
   "metadata": {},
   "source": [
    "Task\n",
    "Students of District College have a subscription to English and French newspapers. Some students have subscribed to only the English newspaper, some have subscribed to only the French newspaper, and some have subscribed to both newspapers.\n",
    "\n",
    "You are given two sets of student roll numbers. One set has subscribed to the English newspaper, and one set has subscribed to the French newspaper. Your task is to find the total number of students who have subscribed to only English newspapers."
   ]
  },
  {
   "cell_type": "code",
   "execution_count": null,
   "id": "5336fe78",
   "metadata": {},
   "outputs": [],
   "source": [
    "9\n",
    "1 2 3 4 5 6 7 8 9\n",
    "9\n",
    "10 1 2 3 11 21 55 6 8\n"
   ]
  },
  {
   "cell_type": "code",
   "execution_count": 30,
   "id": "3aeab776",
   "metadata": {},
   "outputs": [
    {
     "name": "stdout",
     "output_type": "stream",
     "text": [
      "9\n",
      "1 2 3 4 5 6 7 8 9\n",
      "9\n",
      "10 1 2 3 11 21 55 6 8\n",
      "4\n"
     ]
    }
   ],
   "source": [
    "num1=int(input())\n",
    "a=set(map(int,input().split()))\n",
    "num2=int(input())\n",
    "b=set(map(int,input().split()))\n",
    "print(len(a.difference(b)))"
   ]
  },
  {
   "cell_type": "code",
   "execution_count": null,
   "id": "a9d24140",
   "metadata": {},
   "outputs": [],
   "source": []
  }
 ],
 "metadata": {
  "kernelspec": {
   "display_name": "Python 3",
   "language": "python",
   "name": "python3"
  },
  "language_info": {
   "codemirror_mode": {
    "name": "ipython",
    "version": 3
   },
   "file_extension": ".py",
   "mimetype": "text/x-python",
   "name": "python",
   "nbconvert_exporter": "python",
   "pygments_lexer": "ipython3",
   "version": "3.8.8"
  }
 },
 "nbformat": 4,
 "nbformat_minor": 5
}
