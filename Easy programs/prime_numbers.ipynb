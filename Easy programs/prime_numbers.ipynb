{
 "cells": [
  {
   "cell_type": "markdown",
   "id": "de1aa81c",
   "metadata": {},
   "source": [
    "# Write a program to print prime numbers between 1,50\n"
   ]
  },
  {
   "cell_type": "code",
   "execution_count": 2,
   "id": "fdba2482",
   "metadata": {
    "ExecuteTime": {
     "end_time": "2021-09-21T06:20:51.203157Z",
     "start_time": "2021-09-21T06:20:51.171156Z"
    }
   },
   "outputs": [
    {
     "name": "stdout",
     "output_type": "stream",
     "text": [
      "2\n",
      "3\n",
      "5\n",
      "7\n",
      "11\n",
      "13\n",
      "17\n",
      "19\n",
      "23\n",
      "29\n",
      "31\n",
      "37\n",
      "41\n",
      "43\n",
      "47\n"
     ]
    }
   ],
   "source": [
    "lower=1\n",
    "upper=50\n",
    "\n",
    "for num in range(lower,upper+1):\n",
    "    if num>1:\n",
    "        for i in range(2,num):\n",
    "            if num%i==0:\n",
    "                break\n",
    "        else:\n",
    "            print(num)\n",
    "            \n",
    "                "
   ]
  },
  {
   "cell_type": "code",
   "execution_count": 3,
   "id": "8ad165d3",
   "metadata": {
    "ExecuteTime": {
     "end_time": "2021-09-21T06:23:27.704589Z",
     "start_time": "2021-09-21T06:23:27.680591Z"
    }
   },
   "outputs": [
    {
     "name": "stdout",
     "output_type": "stream",
     "text": [
      "10,11,12,13,14,15,"
     ]
    }
   ],
   "source": [
    "for i in range(10,16,1):\n",
    "    print(i,end=\",\")"
   ]
  },
  {
   "cell_type": "code",
   "execution_count": null,
   "id": "724e3e5f",
   "metadata": {},
   "outputs": [],
   "source": []
  }
 ],
 "metadata": {
  "kernelspec": {
   "display_name": "Python 3",
   "language": "python",
   "name": "python3"
  },
  "language_info": {
   "codemirror_mode": {
    "name": "ipython",
    "version": 3
   },
   "file_extension": ".py",
   "mimetype": "text/x-python",
   "name": "python",
   "nbconvert_exporter": "python",
   "pygments_lexer": "ipython3",
   "version": "3.8.8"
  }
 },
 "nbformat": 4,
 "nbformat_minor": 5
}
