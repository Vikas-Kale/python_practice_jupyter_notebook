{
 "cells": [
  {
   "cell_type": "raw",
   "id": "791d979e",
   "metadata": {},
   "source": [
    "Take a number as input. Then get the sum of the numbers. If the number is n. Then get\n",
    "\n",
    "0^2+1^2+2^2+3^2+4^2+.............+n^2"
   ]
  },
  {
   "cell_type": "code",
   "execution_count": 14,
   "id": "a3e69246",
   "metadata": {},
   "outputs": [
    {
     "name": "stdout",
     "output_type": "stream",
     "text": [
      "Enter num.of elements:5\n",
      "Enter elements: 1\n",
      "Enter elements: 2\n",
      "Enter elements: 3\n",
      "Enter elements: 4\n",
      "Enter elements: 5\n",
      "Enter elements: 6\n",
      "[1, 2, 3, 4, 5, 6]\n",
      "1  5  14  30  55  "
     ]
    }
   ],
   "source": [
    "num_of_elements=int(input(\"Enter num.of elements:\"))\n",
    "lst=[]\n",
    "lst2=0\n",
    "\n",
    "for i in range(num_of_elements+1):\n",
    "    nums=int(input(\"Enter elements: \"))\n",
    "    lst.append(nums)\n",
    "    \n",
    "print(lst)\n",
    "for j in range(1,num_of_elements+1):\n",
    "    square=j**2\n",
    "    lst2=lst2+square\n",
    "print(lst2,end=\"  \")\n",
    "    \n"
   ]
  },
  {
   "cell_type": "code",
   "execution_count": 11,
   "id": "04790fa1",
   "metadata": {},
   "outputs": [
    {
     "name": "stdout",
     "output_type": "stream",
     "text": [
      "Enter a number: 5\n",
      "sum of square numbers is  55\n"
     ]
    }
   ],
   "source": [
    "def square_sum(num) :\n",
    "    sum = 0\n",
    "    for i in range(num+1) :\n",
    "        square = (i ** 2)\n",
    "        sum = sum + square\n",
    "    \n",
    "    return sum\n",
    "\n",
    "num = int(input('Enter a number: '))\n",
    "sum = square_sum(num)\n",
    "\n",
    "print('sum of square numbers is ', sum)"
   ]
  },
  {
   "cell_type": "code",
   "execution_count": null,
   "id": "53ae94b1",
   "metadata": {},
   "outputs": [],
   "source": []
  },
  {
   "cell_type": "code",
   "execution_count": null,
   "id": "a0c1e2df",
   "metadata": {},
   "outputs": [],
   "source": []
  },
  {
   "cell_type": "code",
   "execution_count": null,
   "id": "fb9e6acf",
   "metadata": {},
   "outputs": [],
   "source": []
  },
  {
   "cell_type": "code",
   "execution_count": null,
   "id": "70609cdc",
   "metadata": {},
   "outputs": [],
   "source": []
  }
 ],
 "metadata": {
  "kernelspec": {
   "display_name": "Python 3",
   "language": "python",
   "name": "python3"
  },
  "language_info": {
   "codemirror_mode": {
    "name": "ipython",
    "version": 3
   },
   "file_extension": ".py",
   "mimetype": "text/x-python",
   "name": "python",
   "nbconvert_exporter": "python",
   "pygments_lexer": "ipython3",
   "version": "3.8.8"
  }
 },
 "nbformat": 4,
 "nbformat_minor": 5
}
