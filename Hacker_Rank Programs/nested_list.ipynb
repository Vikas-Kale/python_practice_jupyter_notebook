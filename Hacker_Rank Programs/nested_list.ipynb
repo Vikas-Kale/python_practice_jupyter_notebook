{
 "cells": [
  {
   "cell_type": "raw",
   "id": "a3ac84b1",
   "metadata": {},
   "source": [
    "Given the names and grades for each student in a class of N students, store them in a nested list and print the name(s) of any student(s) having the second lowest grade.\n",
    "\n",
    "Note: If there are multiple students with the second lowest grade, order their names alphabetically and print each name on a new line."
   ]
  },
  {
   "cell_type": "raw",
   "id": "dcf47be2",
   "metadata": {},
   "source": [
    "There are 5 students in this class whose names and grades are assembled to build the following list:\n",
    "\n",
    "python students = [['Harry', 37.21], ['Berry', 37.21], ['Tina', 37.2], ['Akriti', 41], ['Harsh', 39]]\n",
    "\n",
    "The lowest grade of 37.2 belongs to Tina. The second lowest grade of 37.21 belongs to both Harry and Berry, so we order their names alphabetically and print each name on a new line."
   ]
  },
  {
   "cell_type": "code",
   "execution_count": 6,
   "id": "97df088f",
   "metadata": {},
   "outputs": [
    {
     "name": "stdout",
     "output_type": "stream",
     "text": [
      "5\n",
      "Harry\n",
      "37.21\n",
      "Berry\n",
      "37.21\n",
      "Tina\n",
      "37.2\n",
      "Akriti\n",
      "41\n",
      "Harsh\n",
      "39\n",
      "[['Harry', 37.21], ['Berry', 37.21], ['Tina', 37.2], ['Akriti', 41.0], ['Harsh', 39.0]]\n",
      "[37.21, 37.21, 37.2, 41.0, 39.0]\n",
      "[37.2, 37.21, 39.0, 41.0]\n",
      "['Harry', 'Berry']\n",
      "['Berry', 'Harry']\n",
      "Berry\n",
      "Harry\n"
     ]
    }
   ],
   "source": [
    "n=int(input())  # Enter number of students.\n",
    "res=[]          # create an empty list with variable res to store name,marks.\n",
    "grades=[]       # create an empty list with variable grades to store only marks.\n",
    "\n",
    "for i in range(n):   # This loop iterates n times.The statements written in this loop iterates n times.\n",
    "    names=input()    # take names from user and store in variable name.\n",
    "    marks=float(input())  # take marks from user and store in variable name marks.\n",
    "    res.append([names,marks]) # append list of names and marks in res list.Everytime loop execute.\n",
    "    grades.append(marks)      # append marks in grades list whenever loop iterates.\n",
    "\n",
    "print(res)     # In res Inside the list both names and marks in list format. \n",
    "print(grades)   # In grades only marks \n",
    "\n",
    "grades=sorted(set(grades))# To find lowest and 2nd lowest grades we sort the grade list.after sorting list print in ascending order.\n",
    "print(grades)           # here print sorted list of grades.\n",
    "m=grades[1]             # By using indexing get 2nd lowest grade and assign in m variable.grades[1]=37.21\n",
    "name=[]                 # create an empty list with variable name to store names of stuents who got the 2nd lowest marks.\n",
    "for val in res:   # res=[['Harry', 37.21], ['Berry', 37.21], ['Tina', 37.2], ['Akriti', 41.0], ['Harsh', 39.0]]\n",
    "                              |   0  |         |    1  |         |   2  |         |    3  |         |   4  |\n",
    "                              0      1         0        1        0      1         0       1         0      1\n",
    "    if m==val[1]: # val[1]=37.21  and m=37.21 this condition true. Again for 2nd iteration val[1]=37.21\n",
    "        name.append(val[0])     # val[0]='Harry'  add this to empty list name. for 2nd iteration val[0]='Berry'\n",
    "print(name)\n",
    "name.sort()               # Sort the names list to print in alphabetical order.\n",
    "print(name)\n",
    "\n",
    "for nm in name:          # To print each name saperately use for loop.\n",
    "    print(nm)\n",
    "    \n",
    "#     5\n",
    "# Harry\n",
    "# 37.21\n",
    "# Berry\n",
    "# 37.21\n",
    "# Tina\n",
    "# 37.2\n",
    "# Akriti\n",
    "# 41\n",
    "# Harsh\n",
    "# 39"
   ]
  },
  {
   "cell_type": "code",
   "execution_count": null,
   "id": "32c4bd59",
   "metadata": {},
   "outputs": [],
   "source": []
  },
  {
   "cell_type": "markdown",
   "id": "731a0172",
   "metadata": {},
   "source": [
    "# Write a Program to print name of students who got 90% marks.\n",
    "- If there are multiple students who got 90% marks print them in alphabetical order.\n",
    "- and print each name on a new line."
   ]
  },
  {
   "cell_type": "code",
   "execution_count": 8,
   "id": "99c19f27",
   "metadata": {},
   "outputs": [
    {
     "name": "stdout",
     "output_type": "stream",
     "text": [
      "Enter number of students: 5\n",
      "Enter name of student: Ram\n",
      "Enter mark of student: 88\n",
      "Enter name of student: Sham\n",
      "Enter mark of student: 90\n",
      "Enter name of student: Ganesh\n",
      "Enter mark of student: 90\n",
      "Enter name of student: Amar\n",
      "Enter mark of student: 90\n",
      "Enter name of student: Vikas\n",
      "Enter mark of student: 80\n",
      "[['Ram', 88], ['Sham', 90], ['Ganesh', 90], ['Amar', 90], ['Vikas', 80]]\n",
      "[88, 90, 90, 90, 80]\n",
      "['Sham', 'Ganesh', 'Amar']\n",
      "['Amar', 'Ganesh', 'Sham']\n",
      "Amar\n",
      "Ganesh\n",
      "Sham\n"
     ]
    }
   ],
   "source": [
    "n=int(input(\"Enter number of students: \"))\n",
    "names_and_marks=[]\n",
    "marks1=[]\n",
    "for i in range(n):\n",
    "    names=input(\"Enter name of student: \")\n",
    "    marks=int(input(\"Enter mark of student: \"))\n",
    "    names_and_marks.append([names,marks])\n",
    "    marks1.append(marks)\n",
    "print(names_and_marks)\n",
    "print(marks1)\n",
    "names1=[]\n",
    "for mark in names_and_marks:\n",
    "    if mark[1]==90:\n",
    "        \n",
    "        names1.append(mark[0])\n",
    "print(names1)\n",
    "s=sorted(names1)\n",
    "print(s)\n",
    "for nm1 in s:\n",
    "    print(nm1)  "
   ]
  },
  {
   "cell_type": "code",
   "execution_count": null,
   "id": "f44a2f5a",
   "metadata": {},
   "outputs": [],
   "source": []
  },
  {
   "cell_type": "code",
   "execution_count": null,
   "id": "b381d397",
   "metadata": {},
   "outputs": [],
   "source": []
  }
 ],
 "metadata": {
  "kernelspec": {
   "display_name": "Python 3",
   "language": "python",
   "name": "python3"
  },
  "language_info": {
   "codemirror_mode": {
    "name": "ipython",
    "version": 3
   },
   "file_extension": ".py",
   "mimetype": "text/x-python",
   "name": "python",
   "nbconvert_exporter": "python",
   "pygments_lexer": "ipython3",
   "version": "3.8.8"
  }
 },
 "nbformat": 4,
 "nbformat_minor": 5
}
