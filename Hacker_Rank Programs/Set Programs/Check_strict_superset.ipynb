{
 "cells": [
  {
   "cell_type": "code",
   "execution_count": null,
   "id": "c94aba0d",
   "metadata": {},
   "outputs": [],
   "source": [
    "- A strict superset has at least one element that does not exist in its subset."
   ]
  },
  {
   "cell_type": "code",
   "execution_count": 1,
   "id": "60f8dfe9",
   "metadata": {},
   "outputs": [
    {
     "name": "stdout",
     "output_type": "stream",
     "text": [
      "1 2 3 4 5 6 7 8 9 10 11 12 23 45 84 78\n",
      "2\n",
      "1 2 3 4 5\n",
      "100 11 12\n",
      "False\n"
     ]
    }
   ],
   "source": [
    "A=set(map(int,input().split()))\n",
    "N=int(input())\n",
    "val=''\n",
    "for i in range(N):\n",
    "    l1= set(map(int,input().split()))\n",
    "    if l1.difference(A)==0:\n",
    "        val=\"True\"\n",
    "    else:\n",
    "        val=\"False\"\n",
    "        break\n",
    "print(val)\n"
   ]
  },
  {
   "cell_type": "code",
   "execution_count": null,
   "id": "f1f182a8",
   "metadata": {},
   "outputs": [],
   "source": [
    "1 2 3 4 5 6 7 8 9 10 11 12 23 45 84 78\n",
    "2\n",
    "1 2 3 4 5\n",
    "100 11 12"
   ]
  },
  {
   "cell_type": "code",
   "execution_count": null,
   "id": "dd3922fd",
   "metadata": {},
   "outputs": [],
   "source": [
    "a = set(input().split())\n",
    "counter , n = 0, int(input())\n",
    "for i in range (n):\n",
    "        b = set(input().split())\n",
    "        if a.issuperset(b) :\n",
    "                counter += 1\n",
    "print(counter == n)"
   ]
  },
  {
   "cell_type": "code",
   "execution_count": null,
   "id": "ee1a319f",
   "metadata": {},
   "outputs": [],
   "source": [
    "A = set(input().split())\n",
    "\n",
    "for i in range(int(input())):\n",
    "    if not A.issuperset(set(input().split())):\n",
    "        print(False)\n",
    "        break\n",
    "else:\n",
    "    print(True)"
   ]
  },
  {
   "cell_type": "code",
   "execution_count": 2,
   "id": "8afc6d6c",
   "metadata": {},
   "outputs": [],
   "source": [
    "a={1,2,3,4}\n",
    "b={1,2,3}"
   ]
  },
  {
   "cell_type": "code",
   "execution_count": 3,
   "id": "4d79d409",
   "metadata": {},
   "outputs": [
    {
     "data": {
      "text/plain": [
       "True"
      ]
     },
     "execution_count": 3,
     "metadata": {},
     "output_type": "execute_result"
    }
   ],
   "source": [
    "b.issubset(a)"
   ]
  },
  {
   "cell_type": "code",
   "execution_count": 4,
   "id": "d10640db",
   "metadata": {},
   "outputs": [
    {
     "data": {
      "text/plain": [
       "False"
      ]
     },
     "execution_count": 4,
     "metadata": {},
     "output_type": "execute_result"
    }
   ],
   "source": [
    "a.issubset(b)"
   ]
  },
  {
   "cell_type": "code",
   "execution_count": 7,
   "id": "b772d480",
   "metadata": {},
   "outputs": [
    {
     "name": "stdout",
     "output_type": "stream",
     "text": [
      "Ok\n"
     ]
    }
   ],
   "source": [
    "if not a.issuperset(b):\n",
    "    \n",
    "    print(\"Hello\")\n",
    "else:\n",
    "    print(\"Ok\")"
   ]
  },
  {
   "cell_type": "code",
   "execution_count": null,
   "id": "f2a82eda",
   "metadata": {},
   "outputs": [],
   "source": []
  }
 ],
 "metadata": {
  "kernelspec": {
   "display_name": "Python 3",
   "language": "python",
   "name": "python3"
  },
  "language_info": {
   "codemirror_mode": {
    "name": "ipython",
    "version": 3
   },
   "file_extension": ".py",
   "mimetype": "text/x-python",
   "name": "python",
   "nbconvert_exporter": "python",
   "pygments_lexer": "ipython3",
   "version": "3.8.8"
  }
 },
 "nbformat": 4,
 "nbformat_minor": 5
}
