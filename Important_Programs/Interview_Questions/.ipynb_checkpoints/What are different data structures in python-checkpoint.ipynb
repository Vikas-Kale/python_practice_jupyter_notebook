{
 "cells": [
  {
   "cell_type": "markdown",
   "id": "2ebdd689",
   "metadata": {},
   "source": [
    "# What are different data structures in python?"
   ]
  },
  {
   "cell_type": "markdown",
   "id": "9173a9c3",
   "metadata": {},
   "source": [
    "- List\n",
    "- Tuple\n",
    "- Dict\n",
    "- Set"
   ]
  },
  {
   "cell_type": "markdown",
   "id": "4591b743",
   "metadata": {},
   "source": [
    "## list"
   ]
  },
  {
   "cell_type": "code",
   "execution_count": 1,
   "id": "2c326f8c",
   "metadata": {
    "ExecuteTime": {
     "end_time": "2021-09-24T04:33:31.574873Z",
     "start_time": "2021-09-24T04:33:31.549969Z"
    }
   },
   "outputs": [
    {
     "name": "stdout",
     "output_type": "stream",
     "text": [
      "['__add__', '__class__', '__contains__', '__delattr__', '__delitem__', '__dir__', '__doc__', '__eq__', '__format__', '__ge__', '__getattribute__', '__getitem__', '__gt__', '__hash__', '__iadd__', '__imul__', '__init__', '__init_subclass__', '__iter__', '__le__', '__len__', '__lt__', '__mul__', '__ne__', '__new__', '__reduce__', '__reduce_ex__', '__repr__', '__reversed__', '__rmul__', '__setattr__', '__setitem__', '__sizeof__', '__str__', '__subclasshook__', 'append', 'clear', 'copy', 'count', 'extend', 'index', 'insert', 'pop', 'remove', 'reverse', 'sort']\n"
     ]
    }
   ],
   "source": [
    "print(dir(list))"
   ]
  },
  {
   "cell_type": "code",
   "execution_count": 3,
   "id": "dd6600a2",
   "metadata": {
    "ExecuteTime": {
     "end_time": "2021-09-24T04:34:37.406832Z",
     "start_time": "2021-09-24T04:34:37.382835Z"
    }
   },
   "outputs": [
    {
     "name": "stdout",
     "output_type": "stream",
     "text": [
      "[1, 2, 3, 4, 11, 88, 12]\n"
     ]
    }
   ],
   "source": [
    "lst1=[1,2,3,4,11,12]\n",
    "lst1.insert(5,88)\n",
    "print(lst1)"
   ]
  },
  {
   "cell_type": "markdown",
   "id": "0379a72d",
   "metadata": {},
   "source": [
    "# tuple"
   ]
  },
  {
   "cell_type": "code",
   "execution_count": 4,
   "id": "325f49ac",
   "metadata": {
    "ExecuteTime": {
     "end_time": "2021-09-24T04:34:55.424103Z",
     "start_time": "2021-09-24T04:34:55.400106Z"
    }
   },
   "outputs": [
    {
     "name": "stdout",
     "output_type": "stream",
     "text": [
      "['__add__', '__class__', '__contains__', '__delattr__', '__dir__', '__doc__', '__eq__', '__format__', '__ge__', '__getattribute__', '__getitem__', '__getnewargs__', '__gt__', '__hash__', '__init__', '__init_subclass__', '__iter__', '__le__', '__len__', '__lt__', '__mul__', '__ne__', '__new__', '__reduce__', '__reduce_ex__', '__repr__', '__rmul__', '__setattr__', '__sizeof__', '__str__', '__subclasshook__', 'count', 'index']\n"
     ]
    }
   ],
   "source": [
    "print(dir(tuple))"
   ]
  },
  {
   "cell_type": "markdown",
   "id": "b803f976",
   "metadata": {},
   "source": [
    "# set"
   ]
  },
  {
   "cell_type": "code",
   "execution_count": 5,
   "id": "01b92b17",
   "metadata": {
    "ExecuteTime": {
     "end_time": "2021-09-24T04:35:17.094687Z",
     "start_time": "2021-09-24T04:35:17.070687Z"
    }
   },
   "outputs": [
    {
     "name": "stdout",
     "output_type": "stream",
     "text": [
      "['__and__', '__class__', '__contains__', '__delattr__', '__dir__', '__doc__', '__eq__', '__format__', '__ge__', '__getattribute__', '__gt__', '__hash__', '__iand__', '__init__', '__init_subclass__', '__ior__', '__isub__', '__iter__', '__ixor__', '__le__', '__len__', '__lt__', '__ne__', '__new__', '__or__', '__rand__', '__reduce__', '__reduce_ex__', '__repr__', '__ror__', '__rsub__', '__rxor__', '__setattr__', '__sizeof__', '__str__', '__sub__', '__subclasshook__', '__xor__', 'add', 'clear', 'copy', 'difference', 'difference_update', 'discard', 'intersection', 'intersection_update', 'isdisjoint', 'issubset', 'issuperset', 'pop', 'remove', 'symmetric_difference', 'symmetric_difference_update', 'union', 'update']\n"
     ]
    }
   ],
   "source": [
    "print(dir(set))"
   ]
  },
  {
   "cell_type": "markdown",
   "id": "f774e40c",
   "metadata": {},
   "source": [
    "- `set is a unorderd collection of data `\n",
    "- You can't access elements in set using indexing"
   ]
  },
  {
   "cell_type": "code",
   "execution_count": 6,
   "id": "dd9b7d92",
   "metadata": {
    "ExecuteTime": {
     "end_time": "2021-09-24T04:37:59.196062Z",
     "start_time": "2021-09-24T04:37:59.140061Z"
    }
   },
   "outputs": [],
   "source": [
    "set1={11,12,1,2,11,14,2,3,4,12}"
   ]
  },
  {
   "cell_type": "code",
   "execution_count": 7,
   "id": "ffa5c6ef",
   "metadata": {
    "ExecuteTime": {
     "end_time": "2021-09-24T04:38:03.055855Z",
     "start_time": "2021-09-24T04:38:03.007814Z"
    }
   },
   "outputs": [
    {
     "data": {
      "text/plain": [
       "{1, 2, 3, 4, 11, 12, 14}"
      ]
     },
     "execution_count": 7,
     "metadata": {},
     "output_type": "execute_result"
    }
   ],
   "source": [
    "set1"
   ]
  },
  {
   "cell_type": "code",
   "execution_count": 8,
   "id": "5d0f3d4d",
   "metadata": {
    "ExecuteTime": {
     "end_time": "2021-09-24T04:38:16.895805Z",
     "start_time": "2021-09-24T04:38:16.492785Z"
    }
   },
   "outputs": [
    {
     "ename": "TypeError",
     "evalue": "'set' object is not subscriptable",
     "output_type": "error",
     "traceback": [
      "\u001b[1;31m---------------------------------------------------------------------------\u001b[0m",
      "\u001b[1;31mTypeError\u001b[0m                                 Traceback (most recent call last)",
      "\u001b[1;32m<ipython-input-8-c38563f1af7a>\u001b[0m in \u001b[0;36m<module>\u001b[1;34m\u001b[0m\n\u001b[1;32m----> 1\u001b[1;33m \u001b[0mset1\u001b[0m\u001b[1;33m[\u001b[0m\u001b[1;36m0\u001b[0m\u001b[1;33m]\u001b[0m\u001b[1;33m\u001b[0m\u001b[1;33m\u001b[0m\u001b[0m\n\u001b[0m",
      "\u001b[1;31mTypeError\u001b[0m: 'set' object is not subscriptable"
     ]
    }
   ],
   "source": [
    "set1[0]  # You cannot access elements in set using indexing."
   ]
  },
  {
   "cell_type": "markdown",
   "id": "c316ce9c",
   "metadata": {},
   "source": [
    "# dict"
   ]
  },
  {
   "cell_type": "code",
   "execution_count": 9,
   "id": "b7bfa306",
   "metadata": {
    "ExecuteTime": {
     "end_time": "2021-09-24T04:39:37.127280Z",
     "start_time": "2021-09-24T04:39:37.103316Z"
    }
   },
   "outputs": [
    {
     "name": "stdout",
     "output_type": "stream",
     "text": [
      "['__class__', '__contains__', '__delattr__', '__delitem__', '__dir__', '__doc__', '__eq__', '__format__', '__ge__', '__getattribute__', '__getitem__', '__gt__', '__hash__', '__init__', '__init_subclass__', '__iter__', '__le__', '__len__', '__lt__', '__ne__', '__new__', '__reduce__', '__reduce_ex__', '__repr__', '__reversed__', '__setattr__', '__setitem__', '__sizeof__', '__str__', '__subclasshook__', 'clear', 'copy', 'fromkeys', 'get', 'items', 'keys', 'pop', 'popitem', 'setdefault', 'update', 'values']\n"
     ]
    }
   ],
   "source": [
    "print(dir(dict))"
   ]
  },
  {
   "cell_type": "code",
   "execution_count": null,
   "id": "dcf7caf3",
   "metadata": {},
   "outputs": [],
   "source": []
  }
 ],
 "metadata": {
  "kernelspec": {
   "display_name": "Python 3",
   "language": "python",
   "name": "python3"
  },
  "language_info": {
   "codemirror_mode": {
    "name": "ipython",
    "version": 3
   },
   "file_extension": ".py",
   "mimetype": "text/x-python",
   "name": "python",
   "nbconvert_exporter": "python",
   "pygments_lexer": "ipython3",
   "version": "3.8.8"
  }
 },
 "nbformat": 4,
 "nbformat_minor": 5
}
