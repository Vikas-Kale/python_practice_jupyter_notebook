{
 "cells": [
  {
   "cell_type": "code",
   "execution_count": 1,
   "id": "c72e52f1",
   "metadata": {},
   "outputs": [],
   "source": [
    "import calendar"
   ]
  },
  {
   "cell_type": "code",
   "execution_count": 2,
   "id": "d69b8ea4",
   "metadata": {},
   "outputs": [
    {
     "name": "stdout",
     "output_type": "stream",
     "text": [
      "['Calendar', 'EPOCH', 'FRIDAY', 'February', 'HTMLCalendar', 'IllegalMonthError', 'IllegalWeekdayError', 'January', 'LocaleHTMLCalendar', 'LocaleTextCalendar', 'MONDAY', 'SATURDAY', 'SUNDAY', 'THURSDAY', 'TUESDAY', 'TextCalendar', 'WEDNESDAY', '_EPOCH_ORD', '__all__', '__builtins__', '__cached__', '__doc__', '__file__', '__loader__', '__name__', '__package__', '__spec__', '_colwidth', '_locale', '_localized_day', '_localized_month', '_monthlen', '_nextmonth', '_prevmonth', '_spacing', 'c', 'calendar', 'datetime', 'day_abbr', 'day_name', 'different_locale', 'error', 'firstweekday', 'format', 'formatstring', 'isleap', 'leapdays', 'main', 'mdays', 'month', 'month_abbr', 'month_name', 'monthcalendar', 'monthrange', 'prcal', 'prmonth', 'prweek', 'repeat', 'setfirstweekday', 'sys', 'timegm', 'week', 'weekday', 'weekheader']\n"
     ]
    }
   ],
   "source": [
    "print(dir(calendar))"
   ]
  },
  {
   "cell_type": "code",
   "execution_count": 3,
   "id": "67b0c4a0",
   "metadata": {},
   "outputs": [
    {
     "name": "stdout",
     "output_type": "stream",
     "text": [
      "    August 2021\n",
      "Mo Tu We Th Fr Sa Su\n",
      "                   1\n",
      " 2  3  4  5  6  7  8\n",
      " 9 10 11 12 13 14 15\n",
      "16 17 18 19 20 21 22\n",
      "23 24 25 26 27 28 29\n",
      "30 31\n",
      "\n"
     ]
    }
   ],
   "source": [
    "year=2021\n",
    "month=8\n",
    "print(calendar.month(year,month))"
   ]
  },
  {
   "cell_type": "code",
   "execution_count": 4,
   "id": "4ceb0043",
   "metadata": {},
   "outputs": [
    {
     "name": "stdout",
     "output_type": "stream",
     "text": [
      "   September 2021\n",
      "Mo Tu We Th Fr Sa Su\n",
      "       1  2  3  4  5\n",
      " 6  7  8  9 10 11 12\n",
      "13 14 15 16 17 18 19\n",
      "20 21 22 23 24 25 26\n",
      "27 28 29 30\n",
      "\n"
     ]
    }
   ],
   "source": [
    "year=2021\n",
    "month=9\n",
    "print(calendar.month(year,month))"
   ]
  },
  {
   "cell_type": "code",
   "execution_count": 6,
   "id": "11610b9f",
   "metadata": {},
   "outputs": [
    {
     "name": "stdout",
     "output_type": "stream",
     "text": [
      "                                  2021\n",
      "\n",
      "      January                   February                   March\n",
      "Mo Tu We Th Fr Sa Su      Mo Tu We Th Fr Sa Su      Mo Tu We Th Fr Sa Su\n",
      "             1  2  3       1  2  3  4  5  6  7       1  2  3  4  5  6  7\n",
      " 4  5  6  7  8  9 10       8  9 10 11 12 13 14       8  9 10 11 12 13 14\n",
      "11 12 13 14 15 16 17      15 16 17 18 19 20 21      15 16 17 18 19 20 21\n",
      "18 19 20 21 22 23 24      22 23 24 25 26 27 28      22 23 24 25 26 27 28\n",
      "25 26 27 28 29 30 31                                29 30 31\n",
      "\n",
      "       April                      May                       June\n",
      "Mo Tu We Th Fr Sa Su      Mo Tu We Th Fr Sa Su      Mo Tu We Th Fr Sa Su\n",
      "          1  2  3  4                      1  2          1  2  3  4  5  6\n",
      " 5  6  7  8  9 10 11       3  4  5  6  7  8  9       7  8  9 10 11 12 13\n",
      "12 13 14 15 16 17 18      10 11 12 13 14 15 16      14 15 16 17 18 19 20\n",
      "19 20 21 22 23 24 25      17 18 19 20 21 22 23      21 22 23 24 25 26 27\n",
      "26 27 28 29 30            24 25 26 27 28 29 30      28 29 30\n",
      "                          31\n",
      "\n",
      "        July                     August                  September\n",
      "Mo Tu We Th Fr Sa Su      Mo Tu We Th Fr Sa Su      Mo Tu We Th Fr Sa Su\n",
      "          1  2  3  4                         1             1  2  3  4  5\n",
      " 5  6  7  8  9 10 11       2  3  4  5  6  7  8       6  7  8  9 10 11 12\n",
      "12 13 14 15 16 17 18       9 10 11 12 13 14 15      13 14 15 16 17 18 19\n",
      "19 20 21 22 23 24 25      16 17 18 19 20 21 22      20 21 22 23 24 25 26\n",
      "26 27 28 29 30 31         23 24 25 26 27 28 29      27 28 29 30\n",
      "                          30 31\n",
      "\n",
      "      October                   November                  December\n",
      "Mo Tu We Th Fr Sa Su      Mo Tu We Th Fr Sa Su      Mo Tu We Th Fr Sa Su\n",
      "             1  2  3       1  2  3  4  5  6  7             1  2  3  4  5\n",
      " 4  5  6  7  8  9 10       8  9 10 11 12 13 14       6  7  8  9 10 11 12\n",
      "11 12 13 14 15 16 17      15 16 17 18 19 20 21      13 14 15 16 17 18 19\n",
      "18 19 20 21 22 23 24      22 23 24 25 26 27 28      20 21 22 23 24 25 26\n",
      "25 26 27 28 29 30 31      29 30                     27 28 29 30 31\n",
      "\n"
     ]
    }
   ],
   "source": [
    "print(calendar.calendar(2021))"
   ]
  },
  {
   "cell_type": "code",
   "execution_count": 7,
   "id": "e72945e7",
   "metadata": {},
   "outputs": [
    {
     "name": "stdout",
     "output_type": "stream",
     "text": [
      "['Calendar', 'EPOCH', 'FRIDAY', 'February', 'HTMLCalendar', 'IllegalMonthError', 'IllegalWeekdayError', 'January', 'LocaleHTMLCalendar', 'LocaleTextCalendar', 'MONDAY', 'SATURDAY', 'SUNDAY', 'THURSDAY', 'TUESDAY', 'TextCalendar', 'WEDNESDAY', '_EPOCH_ORD', '__all__', '__builtins__', '__cached__', '__doc__', '__file__', '__loader__', '__name__', '__package__', '__spec__', '_colwidth', '_locale', '_localized_day', '_localized_month', '_monthlen', '_nextmonth', '_prevmonth', '_spacing', 'c', 'calendar', 'datetime', 'day_abbr', 'day_name', 'different_locale', 'error', 'firstweekday', 'format', 'formatstring', 'isleap', 'leapdays', 'main', 'mdays', 'month', 'month_abbr', 'month_name', 'monthcalendar', 'monthrange', 'prcal', 'prmonth', 'prweek', 'repeat', 'setfirstweekday', 'sys', 'timegm', 'week', 'weekday', 'weekheader']\n"
     ]
    }
   ],
   "source": [
    "print(dir(calendar))"
   ]
  },
  {
   "cell_type": "markdown",
   "id": "aa73d4c3",
   "metadata": {},
   "source": [
    "`locale', '_localized_day', '_localized_month', '_monthlen', '_nextmonth', '_prevmonth', '_spacing', 'c', 'calendar', 'datetime', 'day_abbr', 'day_name', 'different_locale', 'error', 'firstweekday', 'format', 'formatstring', 'isleap', 'leapdays', 'main', 'mdays', 'month', 'month_abbr', 'month_name', 'monthcalendar', 'monthrange', 'prcal', 'prmonth', 'prweek', 'repeat', 'setfirstweekday', 'sys', 'timegm', 'week', 'weekday', 'weekheader'`"
   ]
  },
  {
   "cell_type": "markdown",
   "id": "1da5246b",
   "metadata": {},
   "source": [
    "# Weekday"
   ]
  },
  {
   "cell_type": "code",
   "execution_count": 8,
   "id": "2c358d7d",
   "metadata": {},
   "outputs": [
    {
     "name": "stdout",
     "output_type": "stream",
     "text": [
      "Help on function weekday in module calendar:\n",
      "\n",
      "weekday(year, month, day)\n",
      "    Return weekday (0-6 ~ Mon-Sun) for year, month (1-12), day (1-31).\n",
      "\n"
     ]
    }
   ],
   "source": [
    "help(calendar.weekday)"
   ]
  },
  {
   "cell_type": "code",
   "execution_count": 9,
   "id": "152e862b",
   "metadata": {},
   "outputs": [
    {
     "name": "stdout",
     "output_type": "stream",
     "text": [
      "6\n"
     ]
    }
   ],
   "source": [
    "print(calendar.weekday(2021,8,22))"
   ]
  },
  {
   "cell_type": "code",
   "execution_count": 11,
   "id": "df8aa783",
   "metadata": {},
   "outputs": [
    {
     "name": "stdout",
     "output_type": "stream",
     "text": [
      "False\n"
     ]
    }
   ],
   "source": [
    "print(calendar.isleap(2021))"
   ]
  },
  {
   "cell_type": "code",
   "execution_count": 13,
   "id": "93f8623b",
   "metadata": {},
   "outputs": [
    {
     "name": "stdout",
     "output_type": "stream",
     "text": [
      "True\n"
     ]
    }
   ],
   "source": [
    "print(calendar.isleap(2024))"
   ]
  },
  {
   "cell_type": "code",
   "execution_count": 15,
   "id": "a9121e43",
   "metadata": {},
   "outputs": [],
   "source": [
    "import getpass"
   ]
  },
  {
   "cell_type": "code",
   "execution_count": 16,
   "id": "da09573c",
   "metadata": {},
   "outputs": [
    {
     "name": "stdout",
     "output_type": "stream",
     "text": [
      "['GetPassWarning', '__all__', '__builtins__', '__cached__', '__doc__', '__file__', '__loader__', '__name__', '__package__', '__spec__', '_raw_input', 'contextlib', 'fallback_getpass', 'getpass', 'getuser', 'io', 'msvcrt', 'os', 'sys', 'unix_getpass', 'warnings', 'win_getpass']\n"
     ]
    }
   ],
   "source": [
    "print(dir(getpass))"
   ]
  },
  {
   "cell_type": "markdown",
   "id": "1107802e",
   "metadata": {},
   "source": [
    "# weekheader"
   ]
  },
  {
   "cell_type": "code",
   "execution_count": 1,
   "id": "9a378069",
   "metadata": {},
   "outputs": [],
   "source": [
    "import calendar"
   ]
  },
  {
   "cell_type": "code",
   "execution_count": 2,
   "id": "eb217357",
   "metadata": {},
   "outputs": [
    {
     "name": "stdout",
     "output_type": "stream",
     "text": [
      "['Calendar', 'EPOCH', 'FRIDAY', 'February', 'HTMLCalendar', 'IllegalMonthError', 'IllegalWeekdayError', 'January', 'LocaleHTMLCalendar', 'LocaleTextCalendar', 'MONDAY', 'SATURDAY', 'SUNDAY', 'THURSDAY', 'TUESDAY', 'TextCalendar', 'WEDNESDAY', '_EPOCH_ORD', '__all__', '__builtins__', '__cached__', '__doc__', '__file__', '__loader__', '__name__', '__package__', '__spec__', '_colwidth', '_locale', '_localized_day', '_localized_month', '_monthlen', '_nextmonth', '_prevmonth', '_spacing', 'c', 'calendar', 'datetime', 'day_abbr', 'day_name', 'different_locale', 'error', 'firstweekday', 'format', 'formatstring', 'isleap', 'leapdays', 'main', 'mdays', 'month', 'month_abbr', 'month_name', 'monthcalendar', 'monthrange', 'prcal', 'prmonth', 'prweek', 'repeat', 'setfirstweekday', 'sys', 'timegm', 'week', 'weekday', 'weekheader']\n"
     ]
    }
   ],
   "source": [
    "print(dir(calendar))"
   ]
  },
  {
   "cell_type": "code",
   "execution_count": 3,
   "id": "14992de5",
   "metadata": {},
   "outputs": [
    {
     "name": "stdout",
     "output_type": "stream",
     "text": [
      "Help on method formatweekheader in module calendar:\n",
      "\n",
      "formatweekheader(width) method of calendar.TextCalendar instance\n",
      "    Return a header for a week.\n",
      "\n"
     ]
    }
   ],
   "source": [
    "help(calendar.weekheader)"
   ]
  },
  {
   "cell_type": "code",
   "execution_count": 4,
   "id": "b58fb803",
   "metadata": {},
   "outputs": [
    {
     "name": "stdout",
     "output_type": "stream",
     "text": [
      "Mon Tue Wed Thu Fri Sat Sun\n"
     ]
    }
   ],
   "source": [
    "print(calendar.weekheader(3))"
   ]
  },
  {
   "cell_type": "code",
   "execution_count": 6,
   "id": "c1e7fa81",
   "metadata": {},
   "outputs": [
    {
     "name": "stdout",
     "output_type": "stream",
     "text": [
      " Mon   Tue   Wed   Thu   Fri   Sat   Sun \n"
     ]
    }
   ],
   "source": [
    "print(calendar.weekheader(5))"
   ]
  },
  {
   "cell_type": "markdown",
   "id": "dcd0d601",
   "metadata": {},
   "source": [
    "# firstweekday"
   ]
  },
  {
   "cell_type": "code",
   "execution_count": 7,
   "id": "d9250cda",
   "metadata": {},
   "outputs": [
    {
     "name": "stdout",
     "output_type": "stream",
     "text": [
      "0\n"
     ]
    }
   ],
   "source": [
    "print(calendar.firstweekday()) # Monday is our weekday so index value 0"
   ]
  },
  {
   "cell_type": "markdown",
   "id": "4e06cdc5",
   "metadata": {},
   "source": [
    "# setfirstweekday"
   ]
  },
  {
   "cell_type": "code",
   "execution_count": 10,
   "id": "4c679f28",
   "metadata": {},
   "outputs": [
    {
     "name": "stdout",
     "output_type": "stream",
     "text": [
      "Help on function setfirstweekday in module calendar:\n",
      "\n",
      "setfirstweekday(firstweekday)\n",
      "\n"
     ]
    }
   ],
   "source": [
    "help(calendar.setfirstweekday)"
   ]
  },
  {
   "cell_type": "code",
   "execution_count": 12,
   "id": "f57c47c9",
   "metadata": {},
   "outputs": [],
   "source": [
    "calendar.setfirstweekday(calendar.TUESDAY) # Here we change firstweek day from sun to tue so index value is 1."
   ]
  },
  {
   "cell_type": "code",
   "execution_count": 13,
   "id": "6ebf6aa6",
   "metadata": {},
   "outputs": [
    {
     "data": {
      "text/plain": [
       "1"
      ]
     },
     "execution_count": 13,
     "metadata": {},
     "output_type": "execute_result"
    }
   ],
   "source": [
    "calendar.firstweekday()"
   ]
  },
  {
   "cell_type": "code",
   "execution_count": 14,
   "id": "12346982",
   "metadata": {},
   "outputs": [
    {
     "data": {
      "text/plain": [
       "' Tue   Wed   Thu   Fri   Sat   Sun   Mon '"
      ]
     },
     "execution_count": 14,
     "metadata": {},
     "output_type": "execute_result"
    }
   ],
   "source": [
    "calendar.weekheader(5)"
   ]
  },
  {
   "cell_type": "code",
   "execution_count": null,
   "id": "bcbd7457",
   "metadata": {},
   "outputs": [],
   "source": [
    "# set default weekday"
   ]
  },
  {
   "cell_type": "code",
   "execution_count": 15,
   "id": "66bea192",
   "metadata": {},
   "outputs": [],
   "source": [
    "calendar.setfirstweekday(calendar.SUNDAY)"
   ]
  },
  {
   "cell_type": "code",
   "execution_count": 16,
   "id": "dc631866",
   "metadata": {},
   "outputs": [
    {
     "data": {
      "text/plain": [
       "2"
      ]
     },
     "execution_count": 16,
     "metadata": {},
     "output_type": "execute_result"
    }
   ],
   "source": [
    "calendar.weekday(2021,9,1)"
   ]
  },
  {
   "cell_type": "code",
   "execution_count": 17,
   "id": "c7a63e99",
   "metadata": {},
   "outputs": [
    {
     "data": {
      "text/plain": [
       "'Sun Mon Tue Wed Thu Fri Sat'"
      ]
     },
     "execution_count": 17,
     "metadata": {},
     "output_type": "execute_result"
    }
   ],
   "source": [
    "calendar.weekheader(3)"
   ]
  },
  {
   "cell_type": "markdown",
   "id": "2ffe980c",
   "metadata": {},
   "source": [
    "# month"
   ]
  },
  {
   "cell_type": "code",
   "execution_count": 18,
   "id": "29a1d36c",
   "metadata": {},
   "outputs": [
    {
     "name": "stdout",
     "output_type": "stream",
     "text": [
      "Help on method formatmonth in module calendar:\n",
      "\n",
      "formatmonth(theyear, themonth, w=0, l=0) method of calendar.TextCalendar instance\n",
      "    Return a month's calendar string (multi-line).\n",
      "\n"
     ]
    }
   ],
   "source": [
    "help(calendar.month)"
   ]
  },
  {
   "cell_type": "code",
   "execution_count": 20,
   "id": "c62a11c0",
   "metadata": {},
   "outputs": [
    {
     "name": "stdout",
     "output_type": "stream",
     "text": [
      "   September 2021\n",
      "Su Mo Tu We Th Fr Sa\n",
      "          1  2  3  4\n",
      " 5  6  7  8  9 10 11\n",
      "12 13 14 15 16 17 18\n",
      "19 20 21 22 23 24 25\n",
      "26 27 28 29 30\n",
      "\n"
     ]
    }
   ],
   "source": [
    "print(calendar.month(2021,9))"
   ]
  },
  {
   "cell_type": "markdown",
   "id": "42470b69",
   "metadata": {},
   "source": [
    "# monthcalendar"
   ]
  },
  {
   "cell_type": "code",
   "execution_count": 21,
   "id": "00b8323c",
   "metadata": {},
   "outputs": [
    {
     "name": "stdout",
     "output_type": "stream",
     "text": [
      "Help on method monthdayscalendar in module calendar:\n",
      "\n",
      "monthdayscalendar(year, month) method of calendar.TextCalendar instance\n",
      "    Return a matrix representing a month's calendar.\n",
      "    Each row represents a week; days outside this month are zero.\n",
      "\n"
     ]
    }
   ],
   "source": [
    "help(calendar.monthcalendar)"
   ]
  },
  {
   "cell_type": "code",
   "execution_count": 22,
   "id": "93e7e37a",
   "metadata": {},
   "outputs": [
    {
     "data": {
      "text/plain": [
       "[[0, 0, 0, 1, 2, 3, 4],\n",
       " [5, 6, 7, 8, 9, 10, 11],\n",
       " [12, 13, 14, 15, 16, 17, 18],\n",
       " [19, 20, 21, 22, 23, 24, 25],\n",
       " [26, 27, 28, 29, 30, 0, 0]]"
      ]
     },
     "execution_count": 22,
     "metadata": {},
     "output_type": "execute_result"
    }
   ],
   "source": [
    "calendar.monthcalendar(2021,9)"
   ]
  },
  {
   "cell_type": "code",
   "execution_count": 23,
   "id": "3b4cb9e9",
   "metadata": {},
   "outputs": [
    {
     "data": {
      "text/plain": [
       "2"
      ]
     },
     "execution_count": 23,
     "metadata": {},
     "output_type": "execute_result"
    }
   ],
   "source": [
    "# That's why here weekdays is showing 2\n",
    "\n",
    "calendar.weekday(2021,9,1)"
   ]
  },
  {
   "cell_type": "markdown",
   "id": "2ef1cf41",
   "metadata": {},
   "source": [
    "# monthrange"
   ]
  },
  {
   "cell_type": "code",
   "execution_count": 24,
   "id": "b71ea2a3",
   "metadata": {},
   "outputs": [
    {
     "name": "stdout",
     "output_type": "stream",
     "text": [
      "Help on function monthrange in module calendar:\n",
      "\n",
      "monthrange(year, month)\n",
      "    Return weekday (0-6 ~ Mon-Sun) and number of days (28-31) for\n",
      "    year, month.\n",
      "\n"
     ]
    }
   ],
   "source": [
    "help(calendar.monthrange)"
   ]
  },
  {
   "cell_type": "code",
   "execution_count": 25,
   "id": "8e77dc07",
   "metadata": {},
   "outputs": [
    {
     "data": {
      "text/plain": [
       "(2, 30)"
      ]
     },
     "execution_count": 25,
     "metadata": {},
     "output_type": "execute_result"
    }
   ],
   "source": [
    "calendar.monthrange(2021,9)"
   ]
  },
  {
   "cell_type": "code",
   "execution_count": 30,
   "id": "da9d8c10",
   "metadata": {},
   "outputs": [
    {
     "data": {
      "text/plain": [
       "(0, 28)"
      ]
     },
     "execution_count": 30,
     "metadata": {},
     "output_type": "execute_result"
    }
   ],
   "source": [
    "calendar.monthrange(2021,2)"
   ]
  },
  {
   "cell_type": "code",
   "execution_count": 31,
   "id": "aa82a515",
   "metadata": {},
   "outputs": [
    {
     "data": {
      "text/plain": [
       "(3, 29)"
      ]
     },
     "execution_count": 31,
     "metadata": {},
     "output_type": "execute_result"
    }
   ],
   "source": [
    "calendar.monthrange(2024,2)"
   ]
  },
  {
   "cell_type": "markdown",
   "id": "b03cf0be",
   "metadata": {},
   "source": [
    "# prcal"
   ]
  },
  {
   "cell_type": "code",
   "execution_count": 32,
   "id": "d060d048",
   "metadata": {},
   "outputs": [
    {
     "name": "stdout",
     "output_type": "stream",
     "text": [
      "Help on method pryear in module calendar:\n",
      "\n",
      "pryear(theyear, w=0, l=0, c=6, m=3) method of calendar.TextCalendar instance\n",
      "    Print a year's calendar.\n",
      "\n"
     ]
    }
   ],
   "source": [
    "help(calendar.prcal)"
   ]
  },
  {
   "cell_type": "code",
   "execution_count": 33,
   "id": "980ac8a6",
   "metadata": {},
   "outputs": [
    {
     "name": "stdout",
     "output_type": "stream",
     "text": [
      "                                  2021\n",
      "\n",
      "      January                   February                   March\n",
      "Su Mo Tu We Th Fr Sa      Su Mo Tu We Th Fr Sa      Su Mo Tu We Th Fr Sa\n",
      "                1  2          1  2  3  4  5  6          1  2  3  4  5  6\n",
      " 3  4  5  6  7  8  9       7  8  9 10 11 12 13       7  8  9 10 11 12 13\n",
      "10 11 12 13 14 15 16      14 15 16 17 18 19 20      14 15 16 17 18 19 20\n",
      "17 18 19 20 21 22 23      21 22 23 24 25 26 27      21 22 23 24 25 26 27\n",
      "24 25 26 27 28 29 30      28                        28 29 30 31\n",
      "31\n",
      "\n",
      "       April                      May                       June\n",
      "Su Mo Tu We Th Fr Sa      Su Mo Tu We Th Fr Sa      Su Mo Tu We Th Fr Sa\n",
      "             1  2  3                         1             1  2  3  4  5\n",
      " 4  5  6  7  8  9 10       2  3  4  5  6  7  8       6  7  8  9 10 11 12\n",
      "11 12 13 14 15 16 17       9 10 11 12 13 14 15      13 14 15 16 17 18 19\n",
      "18 19 20 21 22 23 24      16 17 18 19 20 21 22      20 21 22 23 24 25 26\n",
      "25 26 27 28 29 30         23 24 25 26 27 28 29      27 28 29 30\n",
      "                          30 31\n",
      "\n",
      "        July                     August                  September\n",
      "Su Mo Tu We Th Fr Sa      Su Mo Tu We Th Fr Sa      Su Mo Tu We Th Fr Sa\n",
      "             1  2  3       1  2  3  4  5  6  7                1  2  3  4\n",
      " 4  5  6  7  8  9 10       8  9 10 11 12 13 14       5  6  7  8  9 10 11\n",
      "11 12 13 14 15 16 17      15 16 17 18 19 20 21      12 13 14 15 16 17 18\n",
      "18 19 20 21 22 23 24      22 23 24 25 26 27 28      19 20 21 22 23 24 25\n",
      "25 26 27 28 29 30 31      29 30 31                  26 27 28 29 30\n",
      "\n",
      "      October                   November                  December\n",
      "Su Mo Tu We Th Fr Sa      Su Mo Tu We Th Fr Sa      Su Mo Tu We Th Fr Sa\n",
      "                1  2          1  2  3  4  5  6                1  2  3  4\n",
      " 3  4  5  6  7  8  9       7  8  9 10 11 12 13       5  6  7  8  9 10 11\n",
      "10 11 12 13 14 15 16      14 15 16 17 18 19 20      12 13 14 15 16 17 18\n",
      "17 18 19 20 21 22 23      21 22 23 24 25 26 27      19 20 21 22 23 24 25\n",
      "24 25 26 27 28 29 30      28 29 30                  26 27 28 29 30 31\n",
      "31\n"
     ]
    }
   ],
   "source": [
    "calendar.prcal(2021)"
   ]
  },
  {
   "cell_type": "code",
   "execution_count": 39,
   "id": "74ee283a",
   "metadata": {},
   "outputs": [
    {
     "name": "stdout",
     "output_type": "stream",
     "text": [
      "                                                  2021\n",
      "\n",
      "      January                     February                     March                       April\n",
      "Su Mo Tu We Th Fr Sa        Su Mo Tu We Th Fr Sa        Su Mo Tu We Th Fr Sa        Su Mo Tu We Th Fr Sa\n",
      "                1  2            1  2  3  4  5  6            1  2  3  4  5  6                     1  2  3\n",
      " 3  4  5  6  7  8  9         7  8  9 10 11 12 13         7  8  9 10 11 12 13         4  5  6  7  8  9 10\n",
      "10 11 12 13 14 15 16        14 15 16 17 18 19 20        14 15 16 17 18 19 20        11 12 13 14 15 16 17\n",
      "17 18 19 20 21 22 23        21 22 23 24 25 26 27        21 22 23 24 25 26 27        18 19 20 21 22 23 24\n",
      "24 25 26 27 28 29 30        28                          28 29 30 31                 25 26 27 28 29 30\n",
      "31\n",
      "\n",
      "        May                         June                        July                       August\n",
      "Su Mo Tu We Th Fr Sa        Su Mo Tu We Th Fr Sa        Su Mo Tu We Th Fr Sa        Su Mo Tu We Th Fr Sa\n",
      "                   1               1  2  3  4  5                     1  2  3         1  2  3  4  5  6  7\n",
      " 2  3  4  5  6  7  8         6  7  8  9 10 11 12         4  5  6  7  8  9 10         8  9 10 11 12 13 14\n",
      " 9 10 11 12 13 14 15        13 14 15 16 17 18 19        11 12 13 14 15 16 17        15 16 17 18 19 20 21\n",
      "16 17 18 19 20 21 22        20 21 22 23 24 25 26        18 19 20 21 22 23 24        22 23 24 25 26 27 28\n",
      "23 24 25 26 27 28 29        27 28 29 30                 25 26 27 28 29 30 31        29 30 31\n",
      "30 31\n",
      "\n",
      "     September                    October                     November                    December\n",
      "Su Mo Tu We Th Fr Sa        Su Mo Tu We Th Fr Sa        Su Mo Tu We Th Fr Sa        Su Mo Tu We Th Fr Sa\n",
      "          1  2  3  4                        1  2            1  2  3  4  5  6                  1  2  3  4\n",
      " 5  6  7  8  9 10 11         3  4  5  6  7  8  9         7  8  9 10 11 12 13         5  6  7  8  9 10 11\n",
      "12 13 14 15 16 17 18        10 11 12 13 14 15 16        14 15 16 17 18 19 20        12 13 14 15 16 17 18\n",
      "19 20 21 22 23 24 25        17 18 19 20 21 22 23        21 22 23 24 25 26 27        19 20 21 22 23 24 25\n",
      "26 27 28 29 30              24 25 26 27 28 29 30        28 29 30                    26 27 28 29 30 31\n",
      "                            31\n"
     ]
    }
   ],
   "source": [
    "calendar.prcal(2021,c=8,m=4)"
   ]
  },
  {
   "cell_type": "code",
   "execution_count": 40,
   "id": "c379801a",
   "metadata": {},
   "outputs": [
    {
     "name": "stdout",
     "output_type": "stream",
     "text": [
      "['Calendar', 'EPOCH', 'FRIDAY', 'February', 'HTMLCalendar', 'IllegalMonthError', 'IllegalWeekdayError', 'January', 'LocaleHTMLCalendar', 'LocaleTextCalendar', 'MONDAY', 'SATURDAY', 'SUNDAY', 'THURSDAY', 'TUESDAY', 'TextCalendar', 'WEDNESDAY', '_EPOCH_ORD', '__all__', '__builtins__', '__cached__', '__doc__', '__file__', '__loader__', '__name__', '__package__', '__spec__', '_colwidth', '_locale', '_localized_day', '_localized_month', '_monthlen', '_nextmonth', '_prevmonth', '_spacing', 'c', 'calendar', 'datetime', 'day_abbr', 'day_name', 'different_locale', 'error', 'firstweekday', 'format', 'formatstring', 'isleap', 'leapdays', 'main', 'mdays', 'month', 'month_abbr', 'month_name', 'monthcalendar', 'monthrange', 'prcal', 'prmonth', 'prweek', 'repeat', 'setfirstweekday', 'sys', 'timegm', 'week', 'weekday', 'weekheader']\n"
     ]
    }
   ],
   "source": [
    "print(dir(calendar))"
   ]
  },
  {
   "cell_type": "markdown",
   "id": "ec645385",
   "metadata": {},
   "source": [
    "# timegm"
   ]
  },
  {
   "cell_type": "code",
   "execution_count": 41,
   "id": "40d5e9a2",
   "metadata": {},
   "outputs": [
    {
     "name": "stdout",
     "output_type": "stream",
     "text": [
      "Help on function timegm in module calendar:\n",
      "\n",
      "timegm(tuple)\n",
      "    Unrelated but handy function to calculate Unix timestamp from GMT.\n",
      "\n"
     ]
    }
   ],
   "source": [
    "help(calendar.timegm)"
   ]
  },
  {
   "cell_type": "code",
   "execution_count": 42,
   "id": "c3e89783",
   "metadata": {},
   "outputs": [
    {
     "ename": "TypeError",
     "evalue": "timegm() missing 1 required positional argument: 'tuple'",
     "output_type": "error",
     "traceback": [
      "\u001b[1;31m---------------------------------------------------------------------------\u001b[0m",
      "\u001b[1;31mTypeError\u001b[0m                                 Traceback (most recent call last)",
      "\u001b[1;32m<ipython-input-42-e3ab45fdb0fc>\u001b[0m in \u001b[0;36m<module>\u001b[1;34m\u001b[0m\n\u001b[1;32m----> 1\u001b[1;33m \u001b[0mcalendar\u001b[0m\u001b[1;33m.\u001b[0m\u001b[0mtimegm\u001b[0m\u001b[1;33m(\u001b[0m\u001b[1;33m)\u001b[0m\u001b[1;33m\u001b[0m\u001b[1;33m\u001b[0m\u001b[0m\n\u001b[0m",
      "\u001b[1;31mTypeError\u001b[0m: timegm() missing 1 required positional argument: 'tuple'"
     ]
    }
   ],
   "source": [
    "calendar.timegm()"
   ]
  },
  {
   "cell_type": "code",
   "execution_count": 43,
   "id": "d9868181",
   "metadata": {},
   "outputs": [
    {
     "name": "stdout",
     "output_type": "stream",
     "text": [
      "Help on class HTMLCalendar in module calendar:\n",
      "\n",
      "class HTMLCalendar(Calendar)\n",
      " |  HTMLCalendar(firstweekday=0)\n",
      " |  \n",
      " |  This calendar returns complete HTML pages.\n",
      " |  \n",
      " |  Method resolution order:\n",
      " |      HTMLCalendar\n",
      " |      Calendar\n",
      " |      builtins.object\n",
      " |  \n",
      " |  Methods defined here:\n",
      " |  \n",
      " |  formatday(self, day, weekday)\n",
      " |      Return a day as a table cell.\n",
      " |  \n",
      " |  formatmonth(self, theyear, themonth, withyear=True)\n",
      " |      Return a formatted month as a table.\n",
      " |  \n",
      " |  formatmonthname(self, theyear, themonth, withyear=True)\n",
      " |      Return a month name as a table row.\n",
      " |  \n",
      " |  formatweek(self, theweek)\n",
      " |      Return a complete week as a table row.\n",
      " |  \n",
      " |  formatweekday(self, day)\n",
      " |      Return a weekday name as a table header.\n",
      " |  \n",
      " |  formatweekheader(self)\n",
      " |      Return a header for a week as a table row.\n",
      " |  \n",
      " |  formatyear(self, theyear, width=3)\n",
      " |      Return a formatted year as a table of tables.\n",
      " |  \n",
      " |  formatyearpage(self, theyear, width=3, css='calendar.css', encoding=None)\n",
      " |      Return a formatted year as a complete HTML page.\n",
      " |  \n",
      " |  ----------------------------------------------------------------------\n",
      " |  Data and other attributes defined here:\n",
      " |  \n",
      " |  cssclass_month = 'month'\n",
      " |  \n",
      " |  cssclass_month_head = 'month'\n",
      " |  \n",
      " |  cssclass_noday = 'noday'\n",
      " |  \n",
      " |  cssclass_year = 'year'\n",
      " |  \n",
      " |  cssclass_year_head = 'year'\n",
      " |  \n",
      " |  cssclasses = ['mon', 'tue', 'wed', 'thu', 'fri', 'sat', 'sun']\n",
      " |  \n",
      " |  cssclasses_weekday_head = ['mon', 'tue', 'wed', 'thu', 'fri', 'sat', '...\n",
      " |  \n",
      " |  ----------------------------------------------------------------------\n",
      " |  Methods inherited from Calendar:\n",
      " |  \n",
      " |  __init__(self, firstweekday=0)\n",
      " |      Initialize self.  See help(type(self)) for accurate signature.\n",
      " |  \n",
      " |  getfirstweekday(self)\n",
      " |  \n",
      " |  itermonthdates(self, year, month)\n",
      " |      Return an iterator for one month. The iterator will yield datetime.date\n",
      " |      values and will always iterate through complete weeks, so it will yield\n",
      " |      dates outside the specified month.\n",
      " |  \n",
      " |  itermonthdays(self, year, month)\n",
      " |      Like itermonthdates(), but will yield day numbers. For days outside\n",
      " |      the specified month the day number is 0.\n",
      " |  \n",
      " |  itermonthdays2(self, year, month)\n",
      " |      Like itermonthdates(), but will yield (day number, weekday number)\n",
      " |      tuples. For days outside the specified month the day number is 0.\n",
      " |  \n",
      " |  itermonthdays3(self, year, month)\n",
      " |      Like itermonthdates(), but will yield (year, month, day) tuples.  Can be\n",
      " |      used for dates outside of datetime.date range.\n",
      " |  \n",
      " |  itermonthdays4(self, year, month)\n",
      " |      Like itermonthdates(), but will yield (year, month, day, day_of_week) tuples.\n",
      " |      Can be used for dates outside of datetime.date range.\n",
      " |  \n",
      " |  iterweekdays(self)\n",
      " |      Return an iterator for one week of weekday numbers starting with the\n",
      " |      configured first one.\n",
      " |  \n",
      " |  monthdatescalendar(self, year, month)\n",
      " |      Return a matrix (list of lists) representing a month's calendar.\n",
      " |      Each row represents a week; week entries are datetime.date values.\n",
      " |  \n",
      " |  monthdays2calendar(self, year, month)\n",
      " |      Return a matrix representing a month's calendar.\n",
      " |      Each row represents a week; week entries are\n",
      " |      (day number, weekday number) tuples. Day numbers outside this month\n",
      " |      are zero.\n",
      " |  \n",
      " |  monthdayscalendar(self, year, month)\n",
      " |      Return a matrix representing a month's calendar.\n",
      " |      Each row represents a week; days outside this month are zero.\n",
      " |  \n",
      " |  setfirstweekday(self, firstweekday)\n",
      " |  \n",
      " |  yeardatescalendar(self, year, width=3)\n",
      " |      Return the data for the specified year ready for formatting. The return\n",
      " |      value is a list of month rows. Each month row contains up to width months.\n",
      " |      Each month contains between 4 and 6 weeks and each week contains 1-7\n",
      " |      days. Days are datetime.date objects.\n",
      " |  \n",
      " |  yeardays2calendar(self, year, width=3)\n",
      " |      Return the data for the specified year ready for formatting (similar to\n",
      " |      yeardatescalendar()). Entries in the week lists are\n",
      " |      (day number, weekday number) tuples. Day numbers outside this month are\n",
      " |      zero.\n",
      " |  \n",
      " |  yeardayscalendar(self, year, width=3)\n",
      " |      Return the data for the specified year ready for formatting (similar to\n",
      " |      yeardatescalendar()). Entries in the week lists are day numbers.\n",
      " |      Day numbers outside this month are zero.\n",
      " |  \n",
      " |  ----------------------------------------------------------------------\n",
      " |  Data descriptors inherited from Calendar:\n",
      " |  \n",
      " |  __dict__\n",
      " |      dictionary for instance variables (if defined)\n",
      " |  \n",
      " |  __weakref__\n",
      " |      list of weak references to the object (if defined)\n",
      " |  \n",
      " |  firstweekday\n",
      "\n"
     ]
    }
   ],
   "source": [
    "help(calendar.HTMLCalendar)"
   ]
  },
  {
   "cell_type": "code",
   "execution_count": null,
   "id": "c3569ff4",
   "metadata": {},
   "outputs": [],
   "source": []
  }
 ],
 "metadata": {
  "kernelspec": {
   "display_name": "Python 3",
   "language": "python",
   "name": "python3"
  },
  "language_info": {
   "codemirror_mode": {
    "name": "ipython",
    "version": 3
   },
   "file_extension": ".py",
   "mimetype": "text/x-python",
   "name": "python",
   "nbconvert_exporter": "python",
   "pygments_lexer": "ipython3",
   "version": "3.8.8"
  }
 },
 "nbformat": 4,
 "nbformat_minor": 5
}
